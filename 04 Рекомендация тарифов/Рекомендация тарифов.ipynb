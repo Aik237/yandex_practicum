{
 "cells": [
  {
   "cell_type": "markdown",
   "metadata": {},
   "source": [
    "# Рекомендация тарифов"
   ]
  },
  {
   "cell_type": "markdown",
   "metadata": {},
   "source": [
    "В нашем распоряжении данные о поведении клиентов, которые уже перешли на эти тарифы (\"Ультра\" и \"Смарт\"). Нужно построить модель для задачи классификации, которая выберет подходящий тариф. Предобработка данных не требуется.\n",
    "\n",
    "Необходимо построить модель с значением *accuracy* более 0.75 и проверить ее значение на тестовой выборке."
   ]
  },
  {
   "cell_type": "markdown",
   "metadata": {},
   "source": [
    "**Ход исследования:**\n",
    "1. Предварительный обзор данных.\n",
    "2. Разделение данных.\n",
    "3. Обучение и настройка модели.\n",
    "4. Тестирование модели.\n",
    "5. Проверка на вменяемость.\n",
    "6. Общий вывод."
   ]
  },
  {
   "cell_type": "markdown",
   "metadata": {},
   "source": [
    "## Откройте и изучите файл"
   ]
  },
  {
   "cell_type": "code",
   "execution_count": 1,
   "metadata": {},
   "outputs": [],
   "source": [
    "import pandas as pd\n",
    "import seaborn as sns\n",
    "import matplotlib.pyplot as plt\n",
    "import numpy as np\n",
    "from sklearn.tree import DecisionTreeClassifier\n",
    "from sklearn.ensemble import RandomForestClassifier\n",
    "from sklearn.linear_model import LogisticRegression\n",
    "from sklearn.model_selection import train_test_split\n",
    "from sklearn.metrics import accuracy_score\n",
    "from sklearn.dummy import DummyClassifier\n",
    "from sklearn.model_selection import GridSearchCV"
   ]
  },
  {
   "cell_type": "code",
   "execution_count": 2,
   "metadata": {},
   "outputs": [],
   "source": [
    "try:\n",
    "    df = pd.read_csv('/datasets/users_behavior.csv')\n",
    "except:\n",
    "    df = pd.read_csv('/yandex/practicum/datas/users_behavior.csv')"
   ]
  },
  {
   "cell_type": "code",
   "execution_count": 3,
   "metadata": {
    "scrolled": false
   },
   "outputs": [
    {
     "data": {
      "text/html": [
       "<div>\n",
       "<style scoped>\n",
       "    .dataframe tbody tr th:only-of-type {\n",
       "        vertical-align: middle;\n",
       "    }\n",
       "\n",
       "    .dataframe tbody tr th {\n",
       "        vertical-align: top;\n",
       "    }\n",
       "\n",
       "    .dataframe thead th {\n",
       "        text-align: right;\n",
       "    }\n",
       "</style>\n",
       "<table border=\"1\" class=\"dataframe\">\n",
       "  <thead>\n",
       "    <tr style=\"text-align: right;\">\n",
       "      <th></th>\n",
       "      <th>calls</th>\n",
       "      <th>minutes</th>\n",
       "      <th>messages</th>\n",
       "      <th>mb_used</th>\n",
       "      <th>is_ultra</th>\n",
       "    </tr>\n",
       "  </thead>\n",
       "  <tbody>\n",
       "    <tr>\n",
       "      <th>0</th>\n",
       "      <td>40.0</td>\n",
       "      <td>311.90</td>\n",
       "      <td>83.0</td>\n",
       "      <td>19915.42</td>\n",
       "      <td>0</td>\n",
       "    </tr>\n",
       "    <tr>\n",
       "      <th>1</th>\n",
       "      <td>85.0</td>\n",
       "      <td>516.75</td>\n",
       "      <td>56.0</td>\n",
       "      <td>22696.96</td>\n",
       "      <td>0</td>\n",
       "    </tr>\n",
       "    <tr>\n",
       "      <th>2</th>\n",
       "      <td>77.0</td>\n",
       "      <td>467.66</td>\n",
       "      <td>86.0</td>\n",
       "      <td>21060.45</td>\n",
       "      <td>0</td>\n",
       "    </tr>\n",
       "    <tr>\n",
       "      <th>3</th>\n",
       "      <td>106.0</td>\n",
       "      <td>745.53</td>\n",
       "      <td>81.0</td>\n",
       "      <td>8437.39</td>\n",
       "      <td>1</td>\n",
       "    </tr>\n",
       "    <tr>\n",
       "      <th>4</th>\n",
       "      <td>66.0</td>\n",
       "      <td>418.74</td>\n",
       "      <td>1.0</td>\n",
       "      <td>14502.75</td>\n",
       "      <td>0</td>\n",
       "    </tr>\n",
       "  </tbody>\n",
       "</table>\n",
       "</div>"
      ],
      "text/plain": [
       "   calls  minutes  messages   mb_used  is_ultra\n",
       "0   40.0   311.90      83.0  19915.42         0\n",
       "1   85.0   516.75      56.0  22696.96         0\n",
       "2   77.0   467.66      86.0  21060.45         0\n",
       "3  106.0   745.53      81.0   8437.39         1\n",
       "4   66.0   418.74       1.0  14502.75         0"
      ]
     },
     "execution_count": 3,
     "metadata": {},
     "output_type": "execute_result"
    }
   ],
   "source": [
    "df.head()"
   ]
  },
  {
   "cell_type": "markdown",
   "metadata": {},
   "source": [
    "Каждый объект в наборе данных — это информация о поведении одного пользователя за месяц. Известно:\n",
    "* сalls — количество звонков,\n",
    "* minutes — суммарная длительность звонков в минутах,\n",
    "* messages — количество sms-сообщений,\n",
    "* mb_used — израсходованный интернет-трафик в Мб,\n",
    "* is_ultra — каким тарифом пользовался в течение месяца («Ультра» — 1, «Смарт» — 0)."
   ]
  },
  {
   "cell_type": "code",
   "execution_count": 4,
   "metadata": {
    "scrolled": true
   },
   "outputs": [
    {
     "name": "stdout",
     "output_type": "stream",
     "text": [
      "<class 'pandas.core.frame.DataFrame'>\n",
      "RangeIndex: 3214 entries, 0 to 3213\n",
      "Data columns (total 5 columns):\n",
      " #   Column    Non-Null Count  Dtype  \n",
      "---  ------    --------------  -----  \n",
      " 0   calls     3214 non-null   float64\n",
      " 1   minutes   3214 non-null   float64\n",
      " 2   messages  3214 non-null   float64\n",
      " 3   mb_used   3214 non-null   float64\n",
      " 4   is_ultra  3214 non-null   int64  \n",
      "dtypes: float64(4), int64(1)\n",
      "memory usage: 125.7 KB\n"
     ]
    }
   ],
   "source": [
    "df.info()"
   ]
  },
  {
   "cell_type": "markdown",
   "metadata": {},
   "source": [
    "Всего в данных находится 3214 объектов с информацией о пользователе. Пропущенных значений нет."
   ]
  },
  {
   "cell_type": "code",
   "execution_count": 5,
   "metadata": {
    "scrolled": true
   },
   "outputs": [
    {
     "data": {
      "text/html": [
       "<div>\n",
       "<style scoped>\n",
       "    .dataframe tbody tr th:only-of-type {\n",
       "        vertical-align: middle;\n",
       "    }\n",
       "\n",
       "    .dataframe tbody tr th {\n",
       "        vertical-align: top;\n",
       "    }\n",
       "\n",
       "    .dataframe thead th {\n",
       "        text-align: right;\n",
       "    }\n",
       "</style>\n",
       "<table border=\"1\" class=\"dataframe\">\n",
       "  <thead>\n",
       "    <tr style=\"text-align: right;\">\n",
       "      <th></th>\n",
       "      <th>count</th>\n",
       "      <th>mean</th>\n",
       "      <th>std</th>\n",
       "      <th>min</th>\n",
       "      <th>25%</th>\n",
       "      <th>50%</th>\n",
       "      <th>75%</th>\n",
       "      <th>max</th>\n",
       "    </tr>\n",
       "  </thead>\n",
       "  <tbody>\n",
       "    <tr>\n",
       "      <th>calls</th>\n",
       "      <td>3214.0</td>\n",
       "      <td>63.038892</td>\n",
       "      <td>33.236368</td>\n",
       "      <td>0.0</td>\n",
       "      <td>40.0000</td>\n",
       "      <td>62.000</td>\n",
       "      <td>82.0000</td>\n",
       "      <td>244.00</td>\n",
       "    </tr>\n",
       "    <tr>\n",
       "      <th>minutes</th>\n",
       "      <td>3214.0</td>\n",
       "      <td>438.208787</td>\n",
       "      <td>234.569872</td>\n",
       "      <td>0.0</td>\n",
       "      <td>274.5750</td>\n",
       "      <td>430.600</td>\n",
       "      <td>571.9275</td>\n",
       "      <td>1632.06</td>\n",
       "    </tr>\n",
       "    <tr>\n",
       "      <th>messages</th>\n",
       "      <td>3214.0</td>\n",
       "      <td>38.281269</td>\n",
       "      <td>36.148326</td>\n",
       "      <td>0.0</td>\n",
       "      <td>9.0000</td>\n",
       "      <td>30.000</td>\n",
       "      <td>57.0000</td>\n",
       "      <td>224.00</td>\n",
       "    </tr>\n",
       "    <tr>\n",
       "      <th>mb_used</th>\n",
       "      <td>3214.0</td>\n",
       "      <td>17207.673836</td>\n",
       "      <td>7570.968246</td>\n",
       "      <td>0.0</td>\n",
       "      <td>12491.9025</td>\n",
       "      <td>16943.235</td>\n",
       "      <td>21424.7000</td>\n",
       "      <td>49745.73</td>\n",
       "    </tr>\n",
       "    <tr>\n",
       "      <th>is_ultra</th>\n",
       "      <td>3214.0</td>\n",
       "      <td>0.306472</td>\n",
       "      <td>0.461100</td>\n",
       "      <td>0.0</td>\n",
       "      <td>0.0000</td>\n",
       "      <td>0.000</td>\n",
       "      <td>1.0000</td>\n",
       "      <td>1.00</td>\n",
       "    </tr>\n",
       "  </tbody>\n",
       "</table>\n",
       "</div>"
      ],
      "text/plain": [
       "           count          mean          std  min         25%        50%  \\\n",
       "calls     3214.0     63.038892    33.236368  0.0     40.0000     62.000   \n",
       "minutes   3214.0    438.208787   234.569872  0.0    274.5750    430.600   \n",
       "messages  3214.0     38.281269    36.148326  0.0      9.0000     30.000   \n",
       "mb_used   3214.0  17207.673836  7570.968246  0.0  12491.9025  16943.235   \n",
       "is_ultra  3214.0      0.306472     0.461100  0.0      0.0000      0.000   \n",
       "\n",
       "                 75%       max  \n",
       "calls        82.0000    244.00  \n",
       "minutes     571.9275   1632.06  \n",
       "messages     57.0000    224.00  \n",
       "mb_used   21424.7000  49745.73  \n",
       "is_ultra      1.0000      1.00  "
      ]
     },
     "execution_count": 5,
     "metadata": {},
     "output_type": "execute_result"
    }
   ],
   "source": [
    "df.describe().T"
   ]
  },
  {
   "cell_type": "code",
   "execution_count": 6,
   "metadata": {},
   "outputs": [
    {
     "data": {
      "image/png": "[encoded data removed]",
      "text/plain": [
       "<Figure size 1100x700 with 1 Axes>"
      ]
     },
     "metadata": {},
     "output_type": "display_data"
    }
   ],
   "source": [
    "df['is_ultra'].hist(figsize=(11,7), grid=False);"
   ]
  },
  {
   "cell_type": "markdown",
   "metadata": {},
   "source": [
    "Пользователей тарифа \"смарт\" в два раза больше, чем пользователей \"ультра\"."
   ]
  },
  {
   "cell_type": "markdown",
   "metadata": {},
   "source": [
    "Целевой признак находится в колонке `is_ultra`. Всего у этого признака может быть два значения (1 или 0), поэтому решается задача бинарной классификации. Для этого воспользуемся тремя моделями машинного обучения: дерево решений, случайный лес и линейная регрессия. А метрикой accuracy определим какой из моделей справляется с задачей лучше. Проверка будет на тестовой выборке."
   ]
  },
  {
   "cell_type": "markdown",
   "metadata": {},
   "source": [
    "## Разбейте данные на выборки"
   ]
  },
  {
   "cell_type": "markdown",
   "metadata": {},
   "source": [
    "Так как отсутствуют тестовые данные, разделим имеющийся датасет на следующие выборки в соотношении 3:1:1: обучающая (60%), валидационная (20%) и тестовая(20%). "
   ]
  },
  {
   "cell_type": "code",
   "execution_count": 7,
   "metadata": {},
   "outputs": [],
   "source": [
    "# разделим датасет на тестовую и тренировочную\n",
    "df_train, df_test = train_test_split(df, test_size=0.4, random_state=42)\n",
    "# в валидационную выборку запишем половину данных из тестовой\n",
    "df_test, df_valid = train_test_split(df_test, test_size=0.5, random_state=42)\n",
    "\n",
    "# отделим целевой признак от других в каждом получившимся датафрейме\n",
    "features_train = df_train.drop('is_ultra', axis=1)\n",
    "target_train = df_train['is_ultra']\n",
    "\n",
    "features_test = df_test.drop('is_ultra', axis=1)\n",
    "target_test = df_test['is_ultra']\n",
    "\n",
    "features_valid = df_valid.drop('is_ultra', axis=1)\n",
    "target_valid = df_valid['is_ultra']"
   ]
  },
  {
   "cell_type": "code",
   "execution_count": 8,
   "metadata": {},
   "outputs": [
    {
     "name": "stdout",
     "output_type": "stream",
     "text": [
      "(1928, 4)\n",
      "(1928,)\n",
      "(643, 4)\n",
      "(643,)\n",
      "(643, 4)\n",
      "(643,)\n"
     ]
    }
   ],
   "source": [
    "#check\n",
    "dfs = [features_train, target_train, features_test, target_test, features_valid, target_valid]\n",
    "\n",
    "for df in dfs:\n",
    "    print(df.shape)"
   ]
  },
  {
   "cell_type": "markdown",
   "metadata": {},
   "source": [
    "## Исследуйте модели"
   ]
  },
  {
   "cell_type": "markdown",
   "metadata": {},
   "source": [
    "Для исследования моделей потребуются тренировочные и валидационные данные. На основе этих данных подберем для каждой модели наилучшие гиперпараметры, а метрикой `accuracy` оценим качество."
   ]
  },
  {
   "cell_type": "markdown",
   "metadata": {},
   "source": [
    "Для автоматизации поиска оптимальных гиперпараметров модели машинного обучения в sklearn можно использовать метод GridSearchCV из модуля model_selection. "
   ]
  },
  {
   "cell_type": "markdown",
   "metadata": {},
   "source": [
    "### Decision Tree"
   ]
  },
  {
   "cell_type": "markdown",
   "metadata": {},
   "source": [
    "Для модели машинного обучения \"дерево решений\" настроим следующие гиперпараметры:\n",
    "\n",
    "- `max_depth`: максимальная глубина дерева.\n",
    "- `splitter`: 'best', 'random'.\n",
    "- `min_samples_split`: минимальное количество выборок, необходимых для разделения внутреннего узла дерева.\n",
    "- `min_samples_leaf`: минимальное количество выборок, необходимых для создания листа дерева.\n",
    "- `max_features`: количество признаков, используемых для поиска наилучшего разделения на каждом узле дерева."
   ]
  },
  {
   "cell_type": "code",
   "execution_count": 9,
   "metadata": {
    "scrolled": true
   },
   "outputs": [
    {
     "data": {
      "text/html": [
       "<div>\n",
       "<style scoped>\n",
       "    .dataframe tbody tr th:only-of-type {\n",
       "        vertical-align: middle;\n",
       "    }\n",
       "\n",
       "    .dataframe tbody tr th {\n",
       "        vertical-align: top;\n",
       "    }\n",
       "\n",
       "    .dataframe thead th {\n",
       "        text-align: right;\n",
       "    }\n",
       "</style>\n",
       "<table border=\"1\" class=\"dataframe\">\n",
       "  <thead>\n",
       "    <tr style=\"text-align: right;\">\n",
       "      <th></th>\n",
       "      <th>param_max_depth</th>\n",
       "      <th>param_splitter</th>\n",
       "      <th>param_min_samples_leaf</th>\n",
       "      <th>param_min_samples_split</th>\n",
       "      <th>mean_test_score</th>\n",
       "    </tr>\n",
       "  </thead>\n",
       "  <tbody>\n",
       "    <tr>\n",
       "      <th>60</th>\n",
       "      <td>8</td>\n",
       "      <td>best</td>\n",
       "      <td>6</td>\n",
       "      <td>2</td>\n",
       "      <td>0.799805</td>\n",
       "    </tr>\n",
       "    <tr>\n",
       "      <th>62</th>\n",
       "      <td>8</td>\n",
       "      <td>best</td>\n",
       "      <td>6</td>\n",
       "      <td>11</td>\n",
       "      <td>0.799805</td>\n",
       "    </tr>\n",
       "    <tr>\n",
       "      <th>52</th>\n",
       "      <td>7</td>\n",
       "      <td>best</td>\n",
       "      <td>6</td>\n",
       "      <td>2</td>\n",
       "      <td>0.799275</td>\n",
       "    </tr>\n",
       "    <tr>\n",
       "      <th>54</th>\n",
       "      <td>7</td>\n",
       "      <td>best</td>\n",
       "      <td>6</td>\n",
       "      <td>11</td>\n",
       "      <td>0.799275</td>\n",
       "    </tr>\n",
       "    <tr>\n",
       "      <th>41</th>\n",
       "      <td>6</td>\n",
       "      <td>random</td>\n",
       "      <td>1</td>\n",
       "      <td>2</td>\n",
       "      <td>0.796680</td>\n",
       "    </tr>\n",
       "  </tbody>\n",
       "</table>\n",
       "</div>"
      ],
      "text/plain": [
       "   param_max_depth param_splitter param_min_samples_leaf  \\\n",
       "60               8           best                      6   \n",
       "62               8           best                      6   \n",
       "52               7           best                      6   \n",
       "54               7           best                      6   \n",
       "41               6         random                      1   \n",
       "\n",
       "   param_min_samples_split  mean_test_score  \n",
       "60                       2         0.799805  \n",
       "62                      11         0.799805  \n",
       "52                       2         0.799275  \n",
       "54                      11         0.799275  \n",
       "41                       2         0.796680  "
      ]
     },
     "execution_count": 9,
     "metadata": {},
     "output_type": "execute_result"
    }
   ],
   "source": [
    "# GridSearchCV выполняет перебор из заданных значений ключей(гиперпараметров)\n",
    "# переберем значения пяти гиперпараметров, указанных ранее\n",
    "clf = GridSearchCV(DecisionTreeClassifier(random_state=42), {\n",
    "    'max_depth': range(1, 31),\n",
    "    'splitter': ['best', 'random'],\n",
    "    'min_samples_leaf': [1, 6],\n",
    "    'min_samples_split': [2, 11]\n",
    "}, cv=5, return_train_score=False)\n",
    "\n",
    "clf.fit(features_train, target_train) # обучим на тренировочной выборке\n",
    "\n",
    "res = pd.DataFrame(clf.cv_results_) # переведем результат в датафрейм\n",
    "\n",
    "# и выделим значимые параметры для модели и оценку теста\n",
    "res[['param_max_depth', \n",
    "     'param_splitter', \n",
    "     'param_min_samples_leaf', \n",
    "     'param_min_samples_split', \n",
    "     'mean_test_score']].sort_values(by='mean_test_score', ascending=False).head()"
   ]
  },
  {
   "cell_type": "code",
   "execution_count": 10,
   "metadata": {
    "scrolled": false
   },
   "outputs": [
    {
     "data": {
      "text/plain": [
       "{'max_depth': 8,\n",
       " 'min_samples_leaf': 6,\n",
       " 'min_samples_split': 2,\n",
       " 'splitter': 'best'}"
      ]
     },
     "execution_count": 10,
     "metadata": {},
     "output_type": "execute_result"
    }
   ],
   "source": [
    "clf.best_params_"
   ]
  },
  {
   "cell_type": "markdown",
   "metadata": {},
   "source": [
    "Обучим модель на тестовой выборке с оптимальными гиперпараметрами и проверим ее качество на валидационной выборке"
   ]
  },
  {
   "cell_type": "code",
   "execution_count": 11,
   "metadata": {},
   "outputs": [
    {
     "name": "stdout",
     "output_type": "stream",
     "text": [
      "Accuracy модели на валидационной выборке: 0.8055987558320373\n"
     ]
    }
   ],
   "source": [
    "model = DecisionTreeClassifier(max_depth=5, min_samples_split=11, random_state=42)\n",
    "\n",
    "model.fit(features_train, target_train) # обучаем модель на тестовой выборке\n",
    "\n",
    "prediction_valid = model.predict(features_valid)\n",
    "\n",
    "result = accuracy_score(prediction_valid, target_valid) # проверяем качество модели на валидационной выборке\n",
    "\n",
    "print(\"Accuracy модели на валидационной выборке:\", result)"
   ]
  },
  {
   "cell_type": "markdown",
   "metadata": {},
   "source": [
    "Модели деревьев - это модели, которые легче всего переобучаются. Чем больше глубина дерева, тем сильнее модель переобучается. Поэтому оптимальная с точки зрения качества модель имеет небольшую глубину."
   ]
  },
  {
   "cell_type": "markdown",
   "metadata": {},
   "source": [
    "### Random Forest"
   ]
  },
  {
   "cell_type": "markdown",
   "metadata": {},
   "source": [
    "Если в предыдущей модели строится одно дерево решений, то для модели RF(Random forest) строится несколько деревьев, а окончательным результатом будет среднее значение ответов каждого дерева. В отличие от Random Tree, случайный лес помогает избежать переобучения.\n",
    "\n",
    "Для модели \"случайный лес\" главным гиперпараметром является n_estimators — число «деревьев» в «случайном лесу». Чем больше значение числа деревьев, тем дольше обучается модель и тем лучше результат.\n"
   ]
  },
  {
   "cell_type": "markdown",
   "metadata": {},
   "source": [
    "Гиперпараметры модели случайного леса в sklearn, которые будем подбирать:\n",
    "\n",
    "- `n_estimators`: количество деревьев в лесу.\n",
    "- `max_depth`: максимальная глубина дерева.\n",
    "- `min_samples_split`: минимальное количество выборок, необходимых для разделения внутреннего узла дерева.\n",
    "- `min_samples_leaf`: минимальное количество выборок, необходимых для создания листа дерева.\n",
    "- `max_features`: количество признаков, используемых для поиска наилучшего разделения на каждом узле дерева.\n",
    "- `bootstrap`: булевый параметр, указывающий, следует ли использовать бутстрэп-выборку (случайную выборку с возвращением) при обучении каждого дерева."
   ]
  },
  {
   "cell_type": "code",
   "execution_count": 12,
   "metadata": {},
   "outputs": [
    {
     "data": {
      "text/html": [
       "<div>\n",
       "<style scoped>\n",
       "    .dataframe tbody tr th:only-of-type {\n",
       "        vertical-align: middle;\n",
       "    }\n",
       "\n",
       "    .dataframe tbody tr th {\n",
       "        vertical-align: top;\n",
       "    }\n",
       "\n",
       "    .dataframe thead th {\n",
       "        text-align: right;\n",
       "    }\n",
       "</style>\n",
       "<table border=\"1\" class=\"dataframe\">\n",
       "  <thead>\n",
       "    <tr style=\"text-align: right;\">\n",
       "      <th></th>\n",
       "      <th>param_max_depth</th>\n",
       "      <th>param_n_estimators</th>\n",
       "      <th>param_min_samples_leaf</th>\n",
       "      <th>param_min_samples_split</th>\n",
       "      <th>mean_test_score</th>\n",
       "    </tr>\n",
       "  </thead>\n",
       "  <tbody>\n",
       "    <tr>\n",
       "      <th>189</th>\n",
       "      <td>8</td>\n",
       "      <td>5</td>\n",
       "      <td>6</td>\n",
       "      <td>11</td>\n",
       "      <td>0.810173</td>\n",
       "    </tr>\n",
       "    <tr>\n",
       "      <th>183</th>\n",
       "      <td>8</td>\n",
       "      <td>5</td>\n",
       "      <td>6</td>\n",
       "      <td>2</td>\n",
       "      <td>0.810173</td>\n",
       "    </tr>\n",
       "    <tr>\n",
       "      <th>208</th>\n",
       "      <td>9</td>\n",
       "      <td>6</td>\n",
       "      <td>6</td>\n",
       "      <td>2</td>\n",
       "      <td>0.807582</td>\n",
       "    </tr>\n",
       "    <tr>\n",
       "      <th>214</th>\n",
       "      <td>9</td>\n",
       "      <td>6</td>\n",
       "      <td>6</td>\n",
       "      <td>11</td>\n",
       "      <td>0.807582</td>\n",
       "    </tr>\n",
       "    <tr>\n",
       "      <th>209</th>\n",
       "      <td>9</td>\n",
       "      <td>7</td>\n",
       "      <td>6</td>\n",
       "      <td>2</td>\n",
       "      <td>0.807581</td>\n",
       "    </tr>\n",
       "  </tbody>\n",
       "</table>\n",
       "</div>"
      ],
      "text/plain": [
       "    param_max_depth param_n_estimators param_min_samples_leaf  \\\n",
       "189               8                  5                      6   \n",
       "183               8                  5                      6   \n",
       "208               9                  6                      6   \n",
       "214               9                  6                      6   \n",
       "209               9                  7                      6   \n",
       "\n",
       "    param_min_samples_split  mean_test_score  \n",
       "189                      11         0.810173  \n",
       "183                       2         0.810173  \n",
       "208                       2         0.807582  \n",
       "214                      11         0.807582  \n",
       "209                       2         0.807581  "
      ]
     },
     "execution_count": 12,
     "metadata": {},
     "output_type": "execute_result"
    }
   ],
   "source": [
    "# аналогичным методом подбираем гиперпараметры\n",
    "\n",
    "clf = GridSearchCV(RandomForestClassifier(random_state=42), {\n",
    "    'n_estimators': range(2, 8),\n",
    "    'max_depth': range(1, 11),\n",
    "    'min_samples_leaf': [1, 6],\n",
    "    'min_samples_split': [2, 11]\n",
    "}, cv=5, return_train_score=False)\n",
    "\n",
    "clf.fit(features_train, target_train)\n",
    "res = pd.DataFrame(clf.cv_results_) \n",
    "(\n",
    "res[['param_max_depth', \n",
    "     'param_n_estimators', \n",
    "     'param_min_samples_leaf', \n",
    "     'param_min_samples_split',\n",
    "     'mean_test_score']]\n",
    "    .sort_values(by='mean_test_score', ascending=False)\n",
    "    .head()\n",
    ")"
   ]
  },
  {
   "cell_type": "code",
   "execution_count": 13,
   "metadata": {},
   "outputs": [
    {
     "data": {
      "text/plain": [
       "{'max_depth': 8,\n",
       " 'min_samples_leaf': 6,\n",
       " 'min_samples_split': 2,\n",
       " 'n_estimators': 5}"
      ]
     },
     "execution_count": 13,
     "metadata": {},
     "output_type": "execute_result"
    }
   ],
   "source": [
    "clf.best_params_"
   ]
  },
  {
   "cell_type": "code",
   "execution_count": 14,
   "metadata": {},
   "outputs": [
    {
     "name": "stdout",
     "output_type": "stream",
     "text": [
      "Accuracy модели на валидационной выборке: 0.8118195956454122\n"
     ]
    }
   ],
   "source": [
    "model = RandomForestClassifier(random_state=42, \n",
    "                               max_depth=8,\n",
    "                               min_samples_leaf=6, \n",
    "                               min_samples_split=2, \n",
    "                               n_estimators=5)\n",
    "model.fit(features_train, target_train) # обучаем на тренировочной выборке\n",
    "prediction_valid = model.predict(features_valid)\n",
    "result = accuracy_score(prediction_valid, target_valid) # качество определяем на валидационной\n",
    "print(\"Accuracy модели на валидационной выборке:\", result)"
   ]
  },
  {
   "cell_type": "markdown",
   "metadata": {},
   "source": [
    "### Logistic Regression"
   ]
  },
  {
   "cell_type": "markdown",
   "metadata": {},
   "source": [
    "Важными гиперпараметрами для логистической регрессии являются `penalty`, `C`, `class_weight`, `solver`. `penalty` и `C` управляют регуляризацией для предотвращения переобучения модели. `class_weight` позволяет учесть баланс классов. `solver` задает вид оптимизатора."
   ]
  },
  {
   "cell_type": "code",
   "execution_count": 15,
   "metadata": {},
   "outputs": [],
   "source": [
    "clf = GridSearchCV(LogisticRegression(random_state=42), {\n",
    "    'max_iter' : [100, 1000,2500]\n",
    "    }, cv=3, return_train_score=False)\n",
    "\n",
    "clf.fit(features_train, target_train)\n",
    "res = pd.DataFrame(clf.cv_results_) "
   ]
  },
  {
   "cell_type": "code",
   "execution_count": 16,
   "metadata": {
    "scrolled": true
   },
   "outputs": [
    {
     "data": {
      "text/html": [
       "<div>\n",
       "<style scoped>\n",
       "    .dataframe tbody tr th:only-of-type {\n",
       "        vertical-align: middle;\n",
       "    }\n",
       "\n",
       "    .dataframe tbody tr th {\n",
       "        vertical-align: top;\n",
       "    }\n",
       "\n",
       "    .dataframe thead th {\n",
       "        text-align: right;\n",
       "    }\n",
       "</style>\n",
       "<table border=\"1\" class=\"dataframe\">\n",
       "  <thead>\n",
       "    <tr style=\"text-align: right;\">\n",
       "      <th></th>\n",
       "      <th>param_max_iter</th>\n",
       "      <th>mean_test_score</th>\n",
       "    </tr>\n",
       "  </thead>\n",
       "  <tbody>\n",
       "    <tr>\n",
       "      <th>0</th>\n",
       "      <td>100</td>\n",
       "      <td>0.728745</td>\n",
       "    </tr>\n",
       "    <tr>\n",
       "      <th>1</th>\n",
       "      <td>1000</td>\n",
       "      <td>0.728745</td>\n",
       "    </tr>\n",
       "    <tr>\n",
       "      <th>2</th>\n",
       "      <td>2500</td>\n",
       "      <td>0.728745</td>\n",
       "    </tr>\n",
       "  </tbody>\n",
       "</table>\n",
       "</div>"
      ],
      "text/plain": [
       "  param_max_iter  mean_test_score\n",
       "0            100         0.728745\n",
       "1           1000         0.728745\n",
       "2           2500         0.728745"
      ]
     },
     "execution_count": 16,
     "metadata": {},
     "output_type": "execute_result"
    }
   ],
   "source": [
    "(\n",
    "res[['param_max_iter',\n",
    "    'mean_test_score']]\n",
    "    .sort_values(by='mean_test_score', ascending=False)\n",
    "    .head()\n",
    ")"
   ]
  },
  {
   "cell_type": "code",
   "execution_count": 17,
   "metadata": {},
   "outputs": [
    {
     "data": {
      "text/plain": [
       "{'max_iter': 100}"
      ]
     },
     "execution_count": 17,
     "metadata": {},
     "output_type": "execute_result"
    }
   ],
   "source": [
    "clf.best_params_"
   ]
  },
  {
   "cell_type": "code",
   "execution_count": 18,
   "metadata": {
    "scrolled": true
   },
   "outputs": [
    {
     "name": "stdout",
     "output_type": "stream",
     "text": [
      "Accuracy модели на валидационной выборке: 0.7682737169517885\n"
     ]
    }
   ],
   "source": [
    "model = LogisticRegression(random_state=42, max_iter=100, penalty='l2')\n",
    "\n",
    "model.fit(features_train, target_train) # обучаем на тренировочной выборке\n",
    "\n",
    "prediction_valid = model.predict(features_valid)\n",
    "\n",
    "result = accuracy_score(prediction_valid, target_valid) # качество определяем на валидационной\n",
    "\n",
    "print(\"Accuracy модели на валидационной выборке:\", result)\n",
    "\n"
   ]
  },
  {
   "cell_type": "markdown",
   "metadata": {},
   "source": [
    "Благодаря своего эффективного и простого алгоритма логистическая регрессия не требует больших вычислительных мощностей, прост в реализации, легко интерпретируется и широко используется аналитиками данных и учеными. \n",
    "\n",
    "Но эта модель плохо работает с большими данными, большим количеством признаков, а так же с признаками, которые плохо коррелируют с целевым признаком."
   ]
  },
  {
   "cell_type": "markdown",
   "metadata": {},
   "source": [
    "Среди трех алгоритмов машинного обучения лучший результат показал \"случайный лес\". Проверим модель на тестовой выборке"
   ]
  },
  {
   "cell_type": "markdown",
   "metadata": {},
   "source": [
    "## Проверка модели на тестовой выборке"
   ]
  },
  {
   "cell_type": "markdown",
   "metadata": {},
   "source": [
    "Random Forest и Decision Tree показали примерно одинаковые результат. Проверим эти модели на тестовой выборке."
   ]
  },
  {
   "cell_type": "code",
   "execution_count": 19,
   "metadata": {},
   "outputs": [
    {
     "name": "stdout",
     "output_type": "stream",
     "text": [
      "Accuracy модели на валидационной выборке: 0.7729393468118196\n"
     ]
    }
   ],
   "source": [
    "model = DecisionTreeClassifier(max_depth=5, min_samples_split=11, random_state=42)\n",
    "model.fit(features_train, target_train) \n",
    "prediction_test = model.predict(features_test)\n",
    "result = accuracy_score(prediction_test, target_test) \n",
    "print(\"Accuracy модели на валидационной выборке:\", result)"
   ]
  },
  {
   "cell_type": "code",
   "execution_count": 20,
   "metadata": {},
   "outputs": [
    {
     "name": "stdout",
     "output_type": "stream",
     "text": [
      "Accuracy модели на валидационной выборке: 0.7978227060653188\n"
     ]
    }
   ],
   "source": [
    "model = RandomForestClassifier(random_state=42, \n",
    "                               max_depth=8,\n",
    "                               min_samples_leaf=6, \n",
    "                               min_samples_split=2, \n",
    "                               n_estimators=5)\n",
    "model.fit(features_train, target_train) \n",
    "prediction_test = model.predict(features_test)\n",
    "result = accuracy_score(prediction_test, target_test) \n",
    "print(\"Accuracy модели на валидационной выборке:\", result)"
   ]
  },
  {
   "cell_type": "markdown",
   "metadata": {},
   "source": [
    "Модель случайного леса показала более точные результаты. Примем ее как основную."
   ]
  },
  {
   "cell_type": "markdown",
   "metadata": {},
   "source": [
    "## Проверка модели на адекватность"
   ]
  },
  {
   "cell_type": "markdown",
   "metadata": {},
   "source": [
    "Модель вменяема, если она умнее тривиальной модели и лучше способа, который использовался раньше. Тривиальной моделью может быть предсказание случайным, или средним (возможно с группировкой по каким-то признакам), или последним наблюдаемым значением (для временных рядов) или наиболее частым классом. \n",
    "\n",
    "Воспользуемся DummyClassifier из библиотеки sklearn, она представляет с собой простейшую модель, которая всегда предсказывает наиболее часто встречающийся класс. Проверим эту модель на тестовой выборке и сравним точность baseline модели и более сложной, которую выбрали в качество основной."
   ]
  },
  {
   "cell_type": "markdown",
   "metadata": {},
   "source": [
    "В методе есть параметр `strategy`, на основе которой простая модель предсказывает результаты, будем менять этот параметр. "
   ]
  },
  {
   "cell_type": "code",
   "execution_count": 21,
   "metadata": {
    "scrolled": true
   },
   "outputs": [
    {
     "name": "stdout",
     "output_type": "stream",
     "text": [
      "Гиперпараметр strategy: most_frequent\n",
      "Точность классификации 0.6936236391912908\n",
      "\n",
      "Гиперпараметр strategy: prior\n",
      "Точность классификации 0.6936236391912908\n",
      "\n",
      "Гиперпараметр strategy: stratified\n",
      "Точность классификации 0.5940902021772939\n",
      "\n",
      "Гиперпараметр strategy: uniform\n",
      "Точность классификации 0.5194401244167963\n",
      "\n"
     ]
    }
   ],
   "source": [
    "strat = ['most_frequent', 'prior', 'stratified', 'uniform'] # стратегия подбора результатов простейшей модели\n",
    "for strategy in strat:\n",
    "    model = DummyClassifier(random_state=42, strategy=strategy)\n",
    "    model.fit(features_train, target_train)\n",
    "    prediction_test = model.predict(features_test)\n",
    "    result = accuracy_score(prediction_test, target_test)\n",
    "    print('Гиперпараметр strategy:', strategy)\n",
    "    print('Точность классификации', result)\n",
    "    print()"
   ]
  },
  {
   "cell_type": "markdown",
   "metadata": {},
   "source": [
    "Лучший результат простейшем модели почти 70%, что меньше чем у более сложной."
   ]
  },
  {
   "cell_type": "markdown",
   "metadata": {},
   "source": [
    "## Общий вывод\n"
   ]
  },
  {
   "cell_type": "markdown",
   "metadata": {},
   "source": [
    "Задача состояло в том, чтобы определить какой из тарифов подходит пользователю по имеющимся данным поведения этих клиентов. Для этого были выполнены следующие шаги:\n",
    "\n",
    "1. Разделили данные на тренировочную, валидационную и тестовую.\n",
    "2. Выделили три алгоритма машинного обучения и подобрали наиболее оптимальные гиперпараметры.\n",
    "3. Качество модели проверяли по метрике Accuracy.\n",
    "4. Дополнительно проверили качество модели на тестовой выборке.\n",
    "\n",
    "В результате исследования лучший результат показала модель Random Forest Classifier c `Accuracy` = 0.81."
   ]
  }
 ],
 "metadata": {
  "ExecuteTimeLog": [
   {
    "duration": 414,
    "start_time": "2023-04-05T17:10:23.777Z"
   },
   {
    "duration": 129,
    "start_time": "2023-04-05T17:10:38.107Z"
   },
   {
    "duration": 22,
    "start_time": "2023-04-05T17:10:41.747Z"
   },
   {
    "duration": 1063,
    "start_time": "2023-04-05T17:14:15.573Z"
   },
   {
    "duration": 31,
    "start_time": "2023-04-05T17:14:16.639Z"
   },
   {
    "duration": 19,
    "start_time": "2023-04-05T17:14:16.673Z"
   },
   {
    "duration": 9,
    "start_time": "2023-04-05T17:14:23.057Z"
   },
   {
    "duration": 10,
    "start_time": "2023-04-05T17:14:26.295Z"
   },
   {
    "duration": 9,
    "start_time": "2023-04-05T17:15:08.626Z"
   },
   {
    "duration": 13,
    "start_time": "2023-04-05T17:15:10.786Z"
   },
   {
    "duration": 852,
    "start_time": "2023-04-05T17:16:12.642Z"
   },
   {
    "duration": 122,
    "start_time": "2023-04-05T18:02:08.255Z"
   },
   {
    "duration": 29,
    "start_time": "2023-04-05T18:02:13.016Z"
   },
   {
    "duration": 145,
    "start_time": "2023-04-05T18:19:35.496Z"
   },
   {
    "duration": 133,
    "start_time": "2023-04-05T18:19:43.623Z"
   },
   {
    "duration": 146,
    "start_time": "2023-04-05T18:20:05.859Z"
   },
   {
    "duration": 240,
    "start_time": "2023-04-05T18:20:13.175Z"
   },
   {
    "duration": 10,
    "start_time": "2023-04-05T20:17:26.147Z"
   },
   {
    "duration": 362,
    "start_time": "2023-04-05T20:17:31.348Z"
   },
   {
    "duration": 6,
    "start_time": "2023-04-05T20:17:36.490Z"
   },
   {
    "duration": 15,
    "start_time": "2023-04-05T20:17:42.090Z"
   },
   {
    "duration": 14,
    "start_time": "2023-04-05T20:17:50.206Z"
   },
   {
    "duration": 9,
    "start_time": "2023-04-05T20:24:10.150Z"
   },
   {
    "duration": 8,
    "start_time": "2023-04-05T20:27:36.173Z"
   },
   {
    "duration": 20,
    "start_time": "2023-04-05T20:27:50.522Z"
   },
   {
    "duration": 16,
    "start_time": "2023-04-05T20:27:55.798Z"
   },
   {
    "duration": 15,
    "start_time": "2023-04-05T20:28:00.091Z"
   },
   {
    "duration": 10,
    "start_time": "2023-04-05T20:29:55.792Z"
   },
   {
    "duration": 4,
    "start_time": "2023-04-05T20:31:24.086Z"
   },
   {
    "duration": 24,
    "start_time": "2023-04-05T20:31:45.487Z"
   },
   {
    "duration": 29,
    "start_time": "2023-04-05T20:31:49.719Z"
   },
   {
    "duration": 4,
    "start_time": "2023-04-05T20:31:59.023Z"
   },
   {
    "duration": 10,
    "start_time": "2023-04-05T20:32:59.210Z"
   },
   {
    "duration": 4,
    "start_time": "2023-04-05T20:44:48.574Z"
   },
   {
    "duration": 4,
    "start_time": "2023-04-05T21:08:32.305Z"
   },
   {
    "duration": 12,
    "start_time": "2023-04-05T21:23:27.692Z"
   },
   {
    "duration": 11,
    "start_time": "2023-04-05T21:23:43.154Z"
   },
   {
    "duration": 5,
    "start_time": "2023-04-05T21:24:08.610Z"
   },
   {
    "duration": 23,
    "start_time": "2023-04-05T21:24:16.213Z"
   },
   {
    "duration": 219,
    "start_time": "2023-04-05T21:31:21.869Z"
   },
   {
    "duration": 197,
    "start_time": "2023-04-05T21:31:51.766Z"
   },
   {
    "duration": 202,
    "start_time": "2023-04-05T21:32:25.189Z"
   },
   {
    "duration": 201,
    "start_time": "2023-04-05T21:32:46.683Z"
   },
   {
    "duration": 198,
    "start_time": "2023-04-05T21:33:54.686Z"
   },
   {
    "duration": 7485,
    "start_time": "2023-04-05T21:44:12.304Z"
   },
   {
    "duration": 7602,
    "start_time": "2023-04-05T21:44:57.894Z"
   },
   {
    "duration": 7368,
    "start_time": "2023-04-05T21:45:11.116Z"
   },
   {
    "duration": 20599,
    "start_time": "2023-04-05T21:45:37.760Z"
   },
   {
    "duration": 27,
    "start_time": "2023-04-05T21:46:11.225Z"
   },
   {
    "duration": 14809,
    "start_time": "2023-04-05T21:46:30.162Z"
   },
   {
    "duration": 167,
    "start_time": "2023-04-05T21:47:25.955Z"
   },
   {
    "duration": 12,
    "start_time": "2023-04-05T22:03:36.203Z"
   },
   {
    "duration": 3,
    "start_time": "2023-04-05T22:03:54.727Z"
   },
   {
    "duration": 305,
    "start_time": "2023-04-05T22:04:00.116Z"
   },
   {
    "duration": 114,
    "start_time": "2023-04-05T22:10:15.227Z"
   },
   {
    "duration": 270609,
    "start_time": "2023-04-05T22:19:36.711Z"
   },
   {
    "duration": 500,
    "start_time": "2023-04-05T22:29:26.097Z"
   },
   {
    "duration": 845,
    "start_time": "2023-04-05T22:29:34.358Z"
   },
   {
    "duration": 491,
    "start_time": "2023-04-05T22:29:40.404Z"
   },
   {
    "duration": 585,
    "start_time": "2023-04-05T22:29:51.804Z"
   },
   {
    "duration": 1566,
    "start_time": "2023-04-05T22:29:59.882Z"
   },
   {
    "duration": 2258,
    "start_time": "2023-04-05T22:30:06.112Z"
   },
   {
    "duration": 6131,
    "start_time": "2023-04-05T22:30:13.017Z"
   },
   {
    "duration": 5750,
    "start_time": "2023-04-05T22:32:21.163Z"
   },
   {
    "duration": 2045,
    "start_time": "2023-04-05T22:32:32.103Z"
   },
   {
    "duration": 4,
    "start_time": "2023-04-05T22:35:34.999Z"
   },
   {
    "duration": 1386,
    "start_time": "2023-04-05T22:40:09.468Z"
   },
   {
    "duration": 62576,
    "start_time": "2023-04-05T22:41:11.174Z"
   },
   {
    "duration": 73035,
    "start_time": "2023-04-05T22:42:19.763Z"
   },
   {
    "duration": 13,
    "start_time": "2023-04-05T22:55:44.181Z"
   },
   {
    "duration": 221,
    "start_time": "2023-04-05T22:56:21.946Z"
   },
   {
    "duration": 222,
    "start_time": "2023-04-05T22:57:50.995Z"
   },
   {
    "duration": 219,
    "start_time": "2023-04-05T22:58:09.247Z"
   },
   {
    "duration": 15,
    "start_time": "2023-04-05T23:03:30.166Z"
   },
   {
    "duration": 84,
    "start_time": "2023-04-05T23:03:40.632Z"
   },
   {
    "duration": 73,
    "start_time": "2023-04-05T23:03:49.603Z"
   },
   {
    "duration": 491,
    "start_time": "2023-04-05T23:04:00.407Z"
   },
   {
    "duration": 447,
    "start_time": "2023-04-05T23:04:36.171Z"
   },
   {
    "duration": 103,
    "start_time": "2023-04-05T23:07:00.961Z"
   },
   {
    "duration": 460,
    "start_time": "2023-04-05T23:07:14.456Z"
   },
   {
    "duration": 466,
    "start_time": "2023-04-05T23:07:37.474Z"
   },
   {
    "duration": 504,
    "start_time": "2023-04-05T23:07:56.679Z"
   },
   {
    "duration": 444,
    "start_time": "2023-04-05T23:08:02.680Z"
   },
   {
    "duration": 444,
    "start_time": "2023-04-05T23:08:39.000Z"
   },
   {
    "duration": 555,
    "start_time": "2023-04-05T23:08:54.052Z"
   },
   {
    "duration": 2046,
    "start_time": "2023-04-06T17:30:50.492Z"
   },
   {
    "duration": 64,
    "start_time": "2023-04-06T17:30:52.540Z"
   },
   {
    "duration": 14,
    "start_time": "2023-04-06T17:30:52.606Z"
   },
   {
    "duration": 12,
    "start_time": "2023-04-06T17:30:52.622Z"
   },
   {
    "duration": 28,
    "start_time": "2023-04-06T17:30:52.635Z"
   },
   {
    "duration": 141,
    "start_time": "2023-04-06T17:30:52.664Z"
   },
   {
    "duration": 3,
    "start_time": "2023-04-06T17:30:55.013Z"
   },
   {
    "duration": 41,
    "start_time": "2023-04-06T17:30:55.019Z"
   },
   {
    "duration": 24,
    "start_time": "2023-04-06T17:30:55.061Z"
   },
   {
    "duration": 21,
    "start_time": "2023-04-06T17:30:55.086Z"
   },
   {
    "duration": 59,
    "start_time": "2023-04-06T17:30:55.109Z"
   },
   {
    "duration": 131,
    "start_time": "2023-04-06T17:30:55.170Z"
   },
   {
    "duration": 10,
    "start_time": "2023-04-06T17:30:55.303Z"
   },
   {
    "duration": 5,
    "start_time": "2023-04-06T17:30:55.314Z"
   },
   {
    "duration": 121,
    "start_time": "2023-04-06T17:30:55.340Z"
   },
   {
    "duration": 0,
    "start_time": "2023-04-06T17:30:55.463Z"
   },
   {
    "duration": 0,
    "start_time": "2023-04-06T17:30:55.464Z"
   },
   {
    "duration": 0,
    "start_time": "2023-04-06T17:30:55.465Z"
   },
   {
    "duration": 171,
    "start_time": "2023-04-06T17:31:27.133Z"
   },
   {
    "duration": 1849,
    "start_time": "2023-04-06T17:32:12.134Z"
   },
   {
    "duration": 206,
    "start_time": "2023-04-06T17:45:33.790Z"
   },
   {
    "duration": 347,
    "start_time": "2023-04-06T17:45:47.767Z"
   },
   {
    "duration": 19,
    "start_time": "2023-04-06T17:45:59.126Z"
   },
   {
    "duration": 545,
    "start_time": "2023-04-06T17:47:17.636Z"
   },
   {
    "duration": 533,
    "start_time": "2023-04-06T17:48:19.795Z"
   },
   {
    "duration": 555,
    "start_time": "2023-04-06T17:48:31.406Z"
   },
   {
    "duration": 126,
    "start_time": "2023-04-06T17:57:51.187Z"
   },
   {
    "duration": 4,
    "start_time": "2023-04-06T18:09:58.470Z"
   },
   {
    "duration": 18,
    "start_time": "2023-04-06T18:20:11.864Z"
   },
   {
    "duration": 9,
    "start_time": "2023-04-06T18:20:53.207Z"
   },
   {
    "duration": 73,
    "start_time": "2023-04-06T18:21:49.781Z"
   },
   {
    "duration": 24,
    "start_time": "2023-04-06T18:21:52.635Z"
   },
   {
    "duration": 14,
    "start_time": "2023-04-06T18:22:17.558Z"
   },
   {
    "duration": 15,
    "start_time": "2023-04-06T18:22:32.207Z"
   },
   {
    "duration": 11,
    "start_time": "2023-04-06T18:22:51.807Z"
   },
   {
    "duration": 18,
    "start_time": "2023-04-06T18:24:30.933Z"
   },
   {
    "duration": 16,
    "start_time": "2023-04-06T18:24:39.846Z"
   },
   {
    "duration": 27,
    "start_time": "2023-04-06T18:25:36.338Z"
   },
   {
    "duration": 14,
    "start_time": "2023-04-06T18:25:57.995Z"
   },
   {
    "duration": 1709,
    "start_time": "2023-04-08T05:13:17.020Z"
   },
   {
    "duration": 124,
    "start_time": "2023-04-08T05:13:18.731Z"
   },
   {
    "duration": 14,
    "start_time": "2023-04-08T05:13:18.857Z"
   },
   {
    "duration": 11,
    "start_time": "2023-04-08T05:13:18.873Z"
   },
   {
    "duration": 31,
    "start_time": "2023-04-08T05:13:18.885Z"
   },
   {
    "duration": 150,
    "start_time": "2023-04-08T05:13:18.918Z"
   },
   {
    "duration": 13,
    "start_time": "2023-04-08T05:13:19.070Z"
   },
   {
    "duration": 6,
    "start_time": "2023-04-08T05:13:19.085Z"
   },
   {
    "duration": 186,
    "start_time": "2023-04-08T05:13:19.093Z"
   },
   {
    "duration": 1841,
    "start_time": "2023-04-08T05:13:19.284Z"
   },
   {
    "duration": 541,
    "start_time": "2023-04-08T05:13:21.126Z"
   },
   {
    "duration": 136,
    "start_time": "2023-04-08T05:13:21.669Z"
   },
   {
    "duration": 12,
    "start_time": "2023-04-08T05:13:21.807Z"
   },
   {
    "duration": 102,
    "start_time": "2023-04-08T05:29:04.186Z"
   },
   {
    "duration": 24901,
    "start_time": "2023-04-08T05:29:13.472Z"
   },
   {
    "duration": 9148,
    "start_time": "2023-04-08T05:30:23.508Z"
   },
   {
    "duration": 18766,
    "start_time": "2023-04-08T05:30:38.646Z"
   },
   {
    "duration": 5,
    "start_time": "2023-04-08T05:31:49.714Z"
   },
   {
    "duration": 24,
    "start_time": "2023-04-08T05:32:05.783Z"
   },
   {
    "duration": 29,
    "start_time": "2023-04-08T05:32:32.624Z"
   },
   {
    "duration": 13,
    "start_time": "2023-04-08T05:35:18.289Z"
   },
   {
    "duration": 13,
    "start_time": "2023-04-08T05:35:37.039Z"
   },
   {
    "duration": 13,
    "start_time": "2023-04-08T05:36:14.264Z"
   },
   {
    "duration": 13,
    "start_time": "2023-04-08T05:36:23.238Z"
   },
   {
    "duration": 15,
    "start_time": "2023-04-08T05:36:32.563Z"
   },
   {
    "duration": 12,
    "start_time": "2023-04-08T05:37:36.615Z"
   },
   {
    "duration": 5,
    "start_time": "2023-04-08T05:37:42.360Z"
   },
   {
    "duration": 162,
    "start_time": "2023-04-08T05:38:45.895Z"
   },
   {
    "duration": 3,
    "start_time": "2023-04-08T05:45:30.823Z"
   },
   {
    "duration": 4,
    "start_time": "2023-04-08T05:45:34.832Z"
   },
   {
    "duration": 4,
    "start_time": "2023-04-08T05:46:55.209Z"
   },
   {
    "duration": 10,
    "start_time": "2023-04-08T05:47:48.952Z"
   },
   {
    "duration": 9,
    "start_time": "2023-04-08T05:48:05.202Z"
   },
   {
    "duration": 10,
    "start_time": "2023-04-08T05:48:09.132Z"
   },
   {
    "duration": 18419,
    "start_time": "2023-04-08T05:52:51.026Z"
   },
   {
    "duration": 5,
    "start_time": "2023-04-08T05:53:37.498Z"
   },
   {
    "duration": 89,
    "start_time": "2023-04-08T06:04:34.981Z"
   },
   {
    "duration": 381355,
    "start_time": "2023-04-08T06:04:40.412Z"
   },
   {
    "duration": 37616,
    "start_time": "2023-04-08T06:11:15.823Z"
   },
   {
    "duration": 100199,
    "start_time": "2023-04-08T06:12:35.159Z"
   },
   {
    "duration": 4,
    "start_time": "2023-04-08T06:15:46.228Z"
   },
   {
    "duration": 24,
    "start_time": "2023-04-08T06:17:37.863Z"
   },
   {
    "duration": 113047,
    "start_time": "2023-04-08T06:21:52.026Z"
   },
   {
    "duration": 10205,
    "start_time": "2023-04-08T06:25:01.021Z"
   },
   {
    "duration": 25,
    "start_time": "2023-04-08T06:25:24.032Z"
   },
   {
    "duration": 11,
    "start_time": "2023-04-08T06:27:15.598Z"
   },
   {
    "duration": 9,
    "start_time": "2023-04-08T06:27:30.645Z"
   },
   {
    "duration": 3,
    "start_time": "2023-04-08T06:27:39.363Z"
   },
   {
    "duration": 45,
    "start_time": "2023-04-08T06:28:54.741Z"
   },
   {
    "duration": 11,
    "start_time": "2023-04-08T06:31:03.482Z"
   },
   {
    "duration": 23,
    "start_time": "2023-04-08T06:32:38.885Z"
   },
   {
    "duration": 4,
    "start_time": "2023-04-08T06:34:17.217Z"
   },
   {
    "duration": 37,
    "start_time": "2023-04-08T06:34:17.230Z"
   },
   {
    "duration": 9,
    "start_time": "2023-04-08T06:34:17.269Z"
   },
   {
    "duration": 22,
    "start_time": "2023-04-08T06:34:17.280Z"
   },
   {
    "duration": 40,
    "start_time": "2023-04-08T06:34:17.304Z"
   },
   {
    "duration": 119,
    "start_time": "2023-04-08T06:34:17.346Z"
   },
   {
    "duration": 16,
    "start_time": "2023-04-08T06:34:17.467Z"
   },
   {
    "duration": 3,
    "start_time": "2023-04-08T06:34:17.485Z"
   },
   {
    "duration": 19391,
    "start_time": "2023-04-08T06:34:17.490Z"
   },
   {
    "duration": 4,
    "start_time": "2023-04-08T06:34:36.883Z"
   },
   {
    "duration": 19,
    "start_time": "2023-04-08T06:34:36.889Z"
   },
   {
    "duration": 2511,
    "start_time": "2023-04-26T07:55:29.103Z"
   },
   {
    "duration": 108,
    "start_time": "2023-04-26T07:55:31.616Z"
   },
   {
    "duration": 14,
    "start_time": "2023-04-26T07:55:31.725Z"
   },
   {
    "duration": 48,
    "start_time": "2023-04-26T07:55:31.741Z"
   },
   {
    "duration": 122,
    "start_time": "2023-04-26T07:55:31.792Z"
   },
   {
    "duration": 372,
    "start_time": "2023-04-26T07:55:31.916Z"
   },
   {
    "duration": 10,
    "start_time": "2023-04-26T07:55:32.290Z"
   },
   {
    "duration": 15,
    "start_time": "2023-04-26T07:55:32.301Z"
   },
   {
    "duration": 42406,
    "start_time": "2023-04-26T07:55:32.318Z"
   },
   {
    "duration": 60,
    "start_time": "2023-04-26T07:56:14.726Z"
   },
   {
    "duration": 15,
    "start_time": "2023-04-26T07:56:14.788Z"
   }
  ],
  "kernelspec": {
   "display_name": "Python 3 (ipykernel)",
   "language": "python",
   "name": "python3"
  },
  "language_info": {
   "codemirror_mode": {
    "name": "ipython",
    "version": 3
   },
   "file_extension": ".py",
   "mimetype": "text/x-python",
   "name": "python",
   "nbconvert_exporter": "python",
   "pygments_lexer": "ipython3",
   "version": "3.9.16"
  },
  "toc": {
   "base_numbering": 1,
   "nav_menu": {},
   "number_sections": true,
   "sideBar": true,
   "skip_h1_title": true,
   "title_cell": "Table of Contents",
   "title_sidebar": "Contents",
   "toc_cell": false,
   "toc_position": {
    "height": "calc(100% - 180px)",
    "left": "10px",
    "top": "150px",
    "width": "366px"
   },
   "toc_section_display": true,
   "toc_window_display": true
  },
  "varInspector": {
   "cols": {
    "lenName": 16,
    "lenType": 16,
    "lenVar": 40
   },
   "kernels_config": {
    "python": {
     "delete_cmd_postfix": "",
     "delete_cmd_prefix": "del ",
     "library": "var_list.py",
     "varRefreshCmd": "print(var_dic_list())"
    },
    "r": {
     "delete_cmd_postfix": ") ",
     "delete_cmd_prefix": "rm(",
     "library": "var_list.r",
     "varRefreshCmd": "cat(var_dic_list()) "
    }
   },
   "types_to_exclude": [
    "module",
    "function",
    "builtin_function_or_method",
    "instance",
    "_Feature"
   ],
   "window_display": false
  }
 },
 "nbformat": 4,
 "nbformat_minor": 2
}
