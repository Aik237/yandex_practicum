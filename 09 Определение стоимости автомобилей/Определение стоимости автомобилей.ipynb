{
 "cells": [
  {
   "cell_type": "markdown",
   "metadata": {},
   "source": [
    "# Определение стоимости автомобилей"
   ]
  },
  {
   "cell_type": "markdown",
   "metadata": {},
   "source": [
    "Сервис по продаже автомобилей с пробегом «Не бит, не крашен» разрабатывает приложение для привлечения новых клиентов. В нём можно быстро узнать рыночную стоимость своего автомобиля. В вашем распоряжении исторические данные: технические характеристики, комплектации и цены автомобилей. Вам нужно построить модель для определения стоимости. \n",
    "\n",
    "Заказчику важны:\n",
    "\n",
    "- качество предсказания;\n",
    "- скорость предсказания;\n",
    "- время обучения."
   ]
  },
  {
   "cell_type": "markdown",
   "metadata": {},
   "source": [
    "Исходя из тех задания, метрикой для измерения качества моделей является RMSE. Так же необходимо, чтобы ее значение было менее 2500 евро."
   ]
  },
  {
   "cell_type": "markdown",
   "metadata": {},
   "source": [
    "Признаки в датасете:\n",
    "\n",
    "* `DateCrawled` — дата скачивания анкеты из базы\n",
    "* `VehicleType` — тип автомобильного кузова\n",
    "* `RegistrationYear` — год регистрации автомобиля\n",
    "* `Gearbox` — тип коробки передач\n",
    "* `Power` — мощность (л. с.)\n",
    "* `Model` — модель автомобиля\n",
    "* `Kilometer` — пробег (км)\n",
    "* `RegistrationMonth` — месяц регистрации автомобиля\n",
    "* `FuelType` — тип топлива\n",
    "* `Brand` — марка автомобиля\n",
    "* `Repaired` — была машина в ремонте или нет\n",
    "* `DateCreated` — дата создания анкеты\n",
    "* `NumberOfPictures` — количество фотографий автомобиля\n",
    "* `PostalCode` — почтовый индекс владельца анкеты (пользователя)\n",
    "* `LastSeen` — дата последней активности пользователя\n",
    "\n",
    "Целевой признак:\n",
    "* `Price` — цена (евро)"
   ]
  },
  {
   "cell_type": "code",
   "execution_count": 1,
   "metadata": {
    "collapsed": true
   },
   "outputs": [
    {
     "name": "stdout",
     "output_type": "stream",
     "text": [
      "Collecting optuna\n",
      "  Downloading optuna-3.5.0-py3-none-any.whl (413 kB)\n",
      "\u001b[K     |████████████████████████████████| 413 kB 1.2 MB/s eta 0:00:01\n",
      "\u001b[?25hRequirement already satisfied: tqdm in /opt/conda/lib/python3.9/site-packages (from optuna) (4.61.2)\n",
      "Requirement already satisfied: sqlalchemy>=1.3.0 in /opt/conda/lib/python3.9/site-packages (from optuna) (1.4.20)\n",
      "Requirement already satisfied: alembic>=1.5.0 in /opt/conda/lib/python3.9/site-packages (from optuna) (1.6.5)\n",
      "Requirement already satisfied: numpy in /opt/conda/lib/python3.9/site-packages (from optuna) (1.21.1)\n",
      "Requirement already satisfied: PyYAML in /opt/conda/lib/python3.9/site-packages (from optuna) (6.0)\n",
      "Collecting colorlog\n",
      "  Downloading colorlog-6.8.2-py3-none-any.whl (11 kB)\n",
      "Requirement already satisfied: packaging>=20.0 in /opt/conda/lib/python3.9/site-packages (from optuna) (21.3)\n",
      "Requirement already satisfied: python-dateutil in /opt/conda/lib/python3.9/site-packages (from alembic>=1.5.0->optuna) (2.8.1)\n",
      "Requirement already satisfied: python-editor>=0.3 in /opt/conda/lib/python3.9/site-packages (from alembic>=1.5.0->optuna) (1.0.4)\n",
      "Requirement already satisfied: Mako in /opt/conda/lib/python3.9/site-packages (from alembic>=1.5.0->optuna) (1.1.4)\n",
      "Requirement already satisfied: pyparsing!=3.0.5,>=2.0.2 in /opt/conda/lib/python3.9/site-packages (from packaging>=20.0->optuna) (2.4.7)\n",
      "Requirement already satisfied: greenlet!=0.4.17 in /opt/conda/lib/python3.9/site-packages (from sqlalchemy>=1.3.0->optuna) (1.1.0)\n",
      "Requirement already satisfied: MarkupSafe>=0.9.2 in /opt/conda/lib/python3.9/site-packages (from Mako->alembic>=1.5.0->optuna) (2.1.1)\n",
      "Requirement already satisfied: six>=1.5 in /opt/conda/lib/python3.9/site-packages (from python-dateutil->alembic>=1.5.0->optuna) (1.16.0)\n",
      "Installing collected packages: colorlog, optuna\n",
      "Successfully installed colorlog-6.8.2 optuna-3.5.0\n"
     ]
    }
   ],
   "source": [
    "!pip install optuna"
   ]
  },
  {
   "cell_type": "code",
   "execution_count": 2,
   "metadata": {
    "collapsed": true
   },
   "outputs": [
    {
     "name": "stdout",
     "output_type": "stream",
     "text": [
      "Requirement already satisfied: lightgbm in /opt/conda/lib/python3.9/site-packages (3.3.1)\n",
      "Requirement already satisfied: numpy in /opt/conda/lib/python3.9/site-packages (from lightgbm) (1.21.1)\n",
      "Requirement already satisfied: scipy in /opt/conda/lib/python3.9/site-packages (from lightgbm) (1.9.1)\n",
      "Requirement already satisfied: scikit-learn!=0.22.0 in /opt/conda/lib/python3.9/site-packages (from lightgbm) (0.24.1)\n",
      "Requirement already satisfied: wheel in /opt/conda/lib/python3.9/site-packages (from lightgbm) (0.36.2)\n",
      "Requirement already satisfied: joblib>=0.11 in /opt/conda/lib/python3.9/site-packages (from scikit-learn!=0.22.0->lightgbm) (1.1.0)\n",
      "Requirement already satisfied: threadpoolctl>=2.0.0 in /opt/conda/lib/python3.9/site-packages (from scikit-learn!=0.22.0->lightgbm) (3.1.0)\n"
     ]
    }
   ],
   "source": [
    "!pip install lightgbm"
   ]
  },
  {
   "cell_type": "code",
   "execution_count": 3,
   "metadata": {},
   "outputs": [],
   "source": [
    "import pandas as pd\n",
    "import numpy as np\n",
    "\n",
    "from matplotlib import pyplot as plt\n",
    "import seaborn as sns\n",
    "\n",
    "from scipy.stats import randint as sp_randint\n",
    "from scipy.stats import uniform as sp_uniform\n",
    "\n",
    "\n",
    "from sklearn.model_selection import train_test_split, cross_val_score, RandomizedSearchCV, GridSearchCV\n",
    "from sklearn.preprocessing import StandardScaler, OneHotEncoder, OrdinalEncoder\n",
    "\n",
    "from sklearn.linear_model import Ridge, LinearRegression\n",
    "from sklearn.ensemble import ExtraTreesRegressor\n",
    "from sklearn.tree import DecisionTreeRegressor\n",
    "\n",
    "from sklearn.metrics import mean_squared_error, make_scorer\n",
    "\n",
    "from sklearn.compose import make_column_transformer, ColumnTransformer\n",
    "\n",
    "from sklearn.pipeline import make_pipeline, Pipeline\n",
    "\n",
    "import optuna\n",
    "import lightgbm as lgb"
   ]
  },
  {
   "cell_type": "markdown",
   "metadata": {},
   "source": [
    "## Загрузка данных"
   ]
  },
  {
   "cell_type": "markdown",
   "metadata": {},
   "source": [
    "В нашем распоряжении датасет с информацией рыночной стоимости автомобилей за определенный промежуток времени. Прежде чем начать обучение моделей машинного обучения, загрузим и выполним предобработку данных."
   ]
  },
  {
   "cell_type": "code",
   "execution_count": 4,
   "metadata": {},
   "outputs": [],
   "source": [
    "data = pd.read_csv('/datasets/autos.csv')"
   ]
  },
  {
   "cell_type": "code",
   "execution_count": 5,
   "metadata": {
    "scrolled": false
   },
   "outputs": [
    {
     "data": {
      "text/html": [
       "<div>\n",
       "<style scoped>\n",
       "    .dataframe tbody tr th:only-of-type {\n",
       "        vertical-align: middle;\n",
       "    }\n",
       "\n",
       "    .dataframe tbody tr th {\n",
       "        vertical-align: top;\n",
       "    }\n",
       "\n",
       "    .dataframe thead th {\n",
       "        text-align: right;\n",
       "    }\n",
       "</style>\n",
       "<table border=\"1\" class=\"dataframe\">\n",
       "  <thead>\n",
       "    <tr style=\"text-align: right;\">\n",
       "      <th></th>\n",
       "      <th>DateCrawled</th>\n",
       "      <th>Price</th>\n",
       "      <th>VehicleType</th>\n",
       "      <th>RegistrationYear</th>\n",
       "      <th>Gearbox</th>\n",
       "      <th>Power</th>\n",
       "      <th>Model</th>\n",
       "      <th>Kilometer</th>\n",
       "      <th>RegistrationMonth</th>\n",
       "      <th>FuelType</th>\n",
       "      <th>Brand</th>\n",
       "      <th>Repaired</th>\n",
       "      <th>DateCreated</th>\n",
       "      <th>NumberOfPictures</th>\n",
       "      <th>PostalCode</th>\n",
       "      <th>LastSeen</th>\n",
       "    </tr>\n",
       "  </thead>\n",
       "  <tbody>\n",
       "    <tr>\n",
       "      <th>0</th>\n",
       "      <td>2016-03-24 11:52:17</td>\n",
       "      <td>480</td>\n",
       "      <td>NaN</td>\n",
       "      <td>1993</td>\n",
       "      <td>manual</td>\n",
       "      <td>0</td>\n",
       "      <td>golf</td>\n",
       "      <td>150000</td>\n",
       "      <td>0</td>\n",
       "      <td>petrol</td>\n",
       "      <td>volkswagen</td>\n",
       "      <td>NaN</td>\n",
       "      <td>2016-03-24 00:00:00</td>\n",
       "      <td>0</td>\n",
       "      <td>70435</td>\n",
       "      <td>2016-04-07 03:16:57</td>\n",
       "    </tr>\n",
       "    <tr>\n",
       "      <th>1</th>\n",
       "      <td>2016-03-24 10:58:45</td>\n",
       "      <td>18300</td>\n",
       "      <td>coupe</td>\n",
       "      <td>2011</td>\n",
       "      <td>manual</td>\n",
       "      <td>190</td>\n",
       "      <td>NaN</td>\n",
       "      <td>125000</td>\n",
       "      <td>5</td>\n",
       "      <td>gasoline</td>\n",
       "      <td>audi</td>\n",
       "      <td>yes</td>\n",
       "      <td>2016-03-24 00:00:00</td>\n",
       "      <td>0</td>\n",
       "      <td>66954</td>\n",
       "      <td>2016-04-07 01:46:50</td>\n",
       "    </tr>\n",
       "    <tr>\n",
       "      <th>2</th>\n",
       "      <td>2016-03-14 12:52:21</td>\n",
       "      <td>9800</td>\n",
       "      <td>suv</td>\n",
       "      <td>2004</td>\n",
       "      <td>auto</td>\n",
       "      <td>163</td>\n",
       "      <td>grand</td>\n",
       "      <td>125000</td>\n",
       "      <td>8</td>\n",
       "      <td>gasoline</td>\n",
       "      <td>jeep</td>\n",
       "      <td>NaN</td>\n",
       "      <td>2016-03-14 00:00:00</td>\n",
       "      <td>0</td>\n",
       "      <td>90480</td>\n",
       "      <td>2016-04-05 12:47:46</td>\n",
       "    </tr>\n",
       "    <tr>\n",
       "      <th>3</th>\n",
       "      <td>2016-03-17 16:54:04</td>\n",
       "      <td>1500</td>\n",
       "      <td>small</td>\n",
       "      <td>2001</td>\n",
       "      <td>manual</td>\n",
       "      <td>75</td>\n",
       "      <td>golf</td>\n",
       "      <td>150000</td>\n",
       "      <td>6</td>\n",
       "      <td>petrol</td>\n",
       "      <td>volkswagen</td>\n",
       "      <td>no</td>\n",
       "      <td>2016-03-17 00:00:00</td>\n",
       "      <td>0</td>\n",
       "      <td>91074</td>\n",
       "      <td>2016-03-17 17:40:17</td>\n",
       "    </tr>\n",
       "    <tr>\n",
       "      <th>4</th>\n",
       "      <td>2016-03-31 17:25:20</td>\n",
       "      <td>3600</td>\n",
       "      <td>small</td>\n",
       "      <td>2008</td>\n",
       "      <td>manual</td>\n",
       "      <td>69</td>\n",
       "      <td>fabia</td>\n",
       "      <td>90000</td>\n",
       "      <td>7</td>\n",
       "      <td>gasoline</td>\n",
       "      <td>skoda</td>\n",
       "      <td>no</td>\n",
       "      <td>2016-03-31 00:00:00</td>\n",
       "      <td>0</td>\n",
       "      <td>60437</td>\n",
       "      <td>2016-04-06 10:17:21</td>\n",
       "    </tr>\n",
       "  </tbody>\n",
       "</table>\n",
       "</div>"
      ],
      "text/plain": [
       "           DateCrawled  Price VehicleType  RegistrationYear Gearbox  Power  \\\n",
       "0  2016-03-24 11:52:17    480         NaN              1993  manual      0   \n",
       "1  2016-03-24 10:58:45  18300       coupe              2011  manual    190   \n",
       "2  2016-03-14 12:52:21   9800         suv              2004    auto    163   \n",
       "3  2016-03-17 16:54:04   1500       small              2001  manual     75   \n",
       "4  2016-03-31 17:25:20   3600       small              2008  manual     69   \n",
       "\n",
       "   Model  Kilometer  RegistrationMonth  FuelType       Brand Repaired  \\\n",
       "0   golf     150000                  0    petrol  volkswagen      NaN   \n",
       "1    NaN     125000                  5  gasoline        audi      yes   \n",
       "2  grand     125000                  8  gasoline        jeep      NaN   \n",
       "3   golf     150000                  6    petrol  volkswagen       no   \n",
       "4  fabia      90000                  7  gasoline       skoda       no   \n",
       "\n",
       "           DateCreated  NumberOfPictures  PostalCode             LastSeen  \n",
       "0  2016-03-24 00:00:00                 0       70435  2016-04-07 03:16:57  \n",
       "1  2016-03-24 00:00:00                 0       66954  2016-04-07 01:46:50  \n",
       "2  2016-03-14 00:00:00                 0       90480  2016-04-05 12:47:46  \n",
       "3  2016-03-17 00:00:00                 0       91074  2016-03-17 17:40:17  \n",
       "4  2016-03-31 00:00:00                 0       60437  2016-04-06 10:17:21  "
      ]
     },
     "execution_count": 5,
     "metadata": {},
     "output_type": "execute_result"
    }
   ],
   "source": [
    "data.head()"
   ]
  },
  {
   "cell_type": "code",
   "execution_count": 6,
   "metadata": {},
   "outputs": [
    {
     "name": "stdout",
     "output_type": "stream",
     "text": [
      "<class 'pandas.core.frame.DataFrame'>\n",
      "RangeIndex: 354369 entries, 0 to 354368\n",
      "Data columns (total 16 columns):\n",
      " #   Column             Non-Null Count   Dtype \n",
      "---  ------             --------------   ----- \n",
      " 0   DateCrawled        354369 non-null  object\n",
      " 1   Price              354369 non-null  int64 \n",
      " 2   VehicleType        316879 non-null  object\n",
      " 3   RegistrationYear   354369 non-null  int64 \n",
      " 4   Gearbox            334536 non-null  object\n",
      " 5   Power              354369 non-null  int64 \n",
      " 6   Model              334664 non-null  object\n",
      " 7   Kilometer          354369 non-null  int64 \n",
      " 8   RegistrationMonth  354369 non-null  int64 \n",
      " 9   FuelType           321474 non-null  object\n",
      " 10  Brand              354369 non-null  object\n",
      " 11  Repaired           283215 non-null  object\n",
      " 12  DateCreated        354369 non-null  object\n",
      " 13  NumberOfPictures   354369 non-null  int64 \n",
      " 14  PostalCode         354369 non-null  int64 \n",
      " 15  LastSeen           354369 non-null  object\n",
      "dtypes: int64(7), object(9)\n",
      "memory usage: 43.3+ MB\n"
     ]
    }
   ],
   "source": [
    "data.info()"
   ]
  },
  {
   "cell_type": "markdown",
   "metadata": {},
   "source": [
    "* в данных 15 признаков;\n",
    "* есть пропущенные значения;\n",
    "* есть признаки, которые не влияют на качество и предсказание модели."
   ]
  },
  {
   "cell_type": "markdown",
   "metadata": {},
   "source": [
    "Оставим сырые данные в переменной `data`. Сохраним сырые данные в новой переменной и в дальнейшем будем работать с ней."
   ]
  },
  {
   "cell_type": "code",
   "execution_count": 7,
   "metadata": {},
   "outputs": [],
   "source": [
    "autos = data.copy()"
   ]
  },
  {
   "cell_type": "code",
   "execution_count": 8,
   "metadata": {},
   "outputs": [],
   "source": [
    "#переведем названия столбцов в нижний регистр\n",
    "autos.columns = autos.columns.str.lower()"
   ]
  },
  {
   "cell_type": "code",
   "execution_count": 9,
   "metadata": {},
   "outputs": [],
   "source": [
    "# удалим ненужные признаки\n",
    "autos = autos.drop(['datecrawled',\n",
    "                   'registrationmonth',\n",
    "                   'numberofpictures',\n",
    "                   'postalcode'],\n",
    "                   axis=1)"
   ]
  },
  {
   "cell_type": "code",
   "execution_count": 10,
   "metadata": {
    "scrolled": false
   },
   "outputs": [
    {
     "data": {
      "text/html": [
       "<div>\n",
       "<style scoped>\n",
       "    .dataframe tbody tr th:only-of-type {\n",
       "        vertical-align: middle;\n",
       "    }\n",
       "\n",
       "    .dataframe tbody tr th {\n",
       "        vertical-align: top;\n",
       "    }\n",
       "\n",
       "    .dataframe thead th {\n",
       "        text-align: right;\n",
       "    }\n",
       "</style>\n",
       "<table border=\"1\" class=\"dataframe\">\n",
       "  <thead>\n",
       "    <tr style=\"text-align: right;\">\n",
       "      <th></th>\n",
       "      <th>price</th>\n",
       "      <th>vehicletype</th>\n",
       "      <th>registrationyear</th>\n",
       "      <th>gearbox</th>\n",
       "      <th>power</th>\n",
       "      <th>model</th>\n",
       "      <th>kilometer</th>\n",
       "      <th>fueltype</th>\n",
       "      <th>brand</th>\n",
       "      <th>repaired</th>\n",
       "      <th>datecreated</th>\n",
       "      <th>lastseen</th>\n",
       "    </tr>\n",
       "  </thead>\n",
       "  <tbody>\n",
       "    <tr>\n",
       "      <th>0</th>\n",
       "      <td>480</td>\n",
       "      <td>NaN</td>\n",
       "      <td>1993</td>\n",
       "      <td>manual</td>\n",
       "      <td>0</td>\n",
       "      <td>golf</td>\n",
       "      <td>150000</td>\n",
       "      <td>petrol</td>\n",
       "      <td>volkswagen</td>\n",
       "      <td>NaN</td>\n",
       "      <td>2016-03-24 00:00:00</td>\n",
       "      <td>2016-04-07 03:16:57</td>\n",
       "    </tr>\n",
       "    <tr>\n",
       "      <th>1</th>\n",
       "      <td>18300</td>\n",
       "      <td>coupe</td>\n",
       "      <td>2011</td>\n",
       "      <td>manual</td>\n",
       "      <td>190</td>\n",
       "      <td>NaN</td>\n",
       "      <td>125000</td>\n",
       "      <td>gasoline</td>\n",
       "      <td>audi</td>\n",
       "      <td>yes</td>\n",
       "      <td>2016-03-24 00:00:00</td>\n",
       "      <td>2016-04-07 01:46:50</td>\n",
       "    </tr>\n",
       "    <tr>\n",
       "      <th>2</th>\n",
       "      <td>9800</td>\n",
       "      <td>suv</td>\n",
       "      <td>2004</td>\n",
       "      <td>auto</td>\n",
       "      <td>163</td>\n",
       "      <td>grand</td>\n",
       "      <td>125000</td>\n",
       "      <td>gasoline</td>\n",
       "      <td>jeep</td>\n",
       "      <td>NaN</td>\n",
       "      <td>2016-03-14 00:00:00</td>\n",
       "      <td>2016-04-05 12:47:46</td>\n",
       "    </tr>\n",
       "    <tr>\n",
       "      <th>3</th>\n",
       "      <td>1500</td>\n",
       "      <td>small</td>\n",
       "      <td>2001</td>\n",
       "      <td>manual</td>\n",
       "      <td>75</td>\n",
       "      <td>golf</td>\n",
       "      <td>150000</td>\n",
       "      <td>petrol</td>\n",
       "      <td>volkswagen</td>\n",
       "      <td>no</td>\n",
       "      <td>2016-03-17 00:00:00</td>\n",
       "      <td>2016-03-17 17:40:17</td>\n",
       "    </tr>\n",
       "    <tr>\n",
       "      <th>4</th>\n",
       "      <td>3600</td>\n",
       "      <td>small</td>\n",
       "      <td>2008</td>\n",
       "      <td>manual</td>\n",
       "      <td>69</td>\n",
       "      <td>fabia</td>\n",
       "      <td>90000</td>\n",
       "      <td>gasoline</td>\n",
       "      <td>skoda</td>\n",
       "      <td>no</td>\n",
       "      <td>2016-03-31 00:00:00</td>\n",
       "      <td>2016-04-06 10:17:21</td>\n",
       "    </tr>\n",
       "  </tbody>\n",
       "</table>\n",
       "</div>"
      ],
      "text/plain": [
       "   price vehicletype  registrationyear gearbox  power  model  kilometer  \\\n",
       "0    480         NaN              1993  manual      0   golf     150000   \n",
       "1  18300       coupe              2011  manual    190    NaN     125000   \n",
       "2   9800         suv              2004    auto    163  grand     125000   \n",
       "3   1500       small              2001  manual     75   golf     150000   \n",
       "4   3600       small              2008  manual     69  fabia      90000   \n",
       "\n",
       "   fueltype       brand repaired          datecreated             lastseen  \n",
       "0    petrol  volkswagen      NaN  2016-03-24 00:00:00  2016-04-07 03:16:57  \n",
       "1  gasoline        audi      yes  2016-03-24 00:00:00  2016-04-07 01:46:50  \n",
       "2  gasoline        jeep      NaN  2016-03-14 00:00:00  2016-04-05 12:47:46  \n",
       "3    petrol  volkswagen       no  2016-03-17 00:00:00  2016-03-17 17:40:17  \n",
       "4  gasoline       skoda       no  2016-03-31 00:00:00  2016-04-06 10:17:21  "
      ]
     },
     "execution_count": 10,
     "metadata": {},
     "output_type": "execute_result"
    }
   ],
   "source": [
    "#check\n",
    "autos.head()"
   ]
  },
  {
   "cell_type": "code",
   "execution_count": 11,
   "metadata": {},
   "outputs": [
    {
     "data": {
      "image/png": "[encoded data removed]",
      "text/plain": [
       "<Figure size 1440x1440 with 9 Axes>"
      ]
     },
     "metadata": {
      "needs_background": "light"
     },
     "output_type": "display_data"
    }
   ],
   "source": [
    "data.hist(bins=30, figsize=(20,20), grid=False);"
   ]
  },
  {
   "cell_type": "markdown",
   "metadata": {},
   "source": [
    "* из распределения видно, что больше всего машин с ценой ниже 5000;\n",
    "* скорее всего есть аномальные значения в колонке с годом регистрации и мощностью;\n",
    "* большинство объявлений с машинами пробегом равным 150 тыс. км, скорее всего это порог пробега."
   ]
  },
  {
   "cell_type": "markdown",
   "metadata": {},
   "source": [
    "Далее попробуем заполнить пропущенные значения там, где это возможно."
   ]
  },
  {
   "cell_type": "markdown",
   "metadata": {},
   "source": [
    "### Пропущенные значения"
   ]
  },
  {
   "cell_type": "markdown",
   "metadata": {},
   "source": [
    "Определим процент пропущенных значений в каждом из признаков."
   ]
  },
  {
   "cell_type": "code",
   "execution_count": 12,
   "metadata": {
    "scrolled": true
   },
   "outputs": [
    {
     "data": {
      "text/plain": [
       "repaired            20.079070\n",
       "vehicletype         10.579368\n",
       "fueltype             9.282697\n",
       "gearbox              5.596709\n",
       "model                5.560588\n",
       "price                0.000000\n",
       "registrationyear     0.000000\n",
       "power                0.000000\n",
       "kilometer            0.000000\n",
       "brand                0.000000\n",
       "datecreated          0.000000\n",
       "lastseen             0.000000\n",
       "dtype: float64"
      ]
     },
     "execution_count": 12,
     "metadata": {},
     "output_type": "execute_result"
    }
   ],
   "source": [
    "autos_na = autos.isna().sum().sort_values(ascending=False)/len(autos) * 100\n",
    "autos_na"
   ]
  },
  {
   "cell_type": "code",
   "execution_count": 13,
   "metadata": {
    "scrolled": false
   },
   "outputs": [
    {
     "data": {
      "image/png": "[encoded data removed]",
      "text/plain": [
       "<Figure size 842.4x597.6 with 1 Axes>"
      ]
     },
     "metadata": {
      "needs_background": "light"
     },
     "output_type": "display_data"
    }
   ],
   "source": [
    "fig, axs = plt.subplots(figsize=(11.7, 8.3))\n",
    "sns.barplot(y=autos_na.index, x=autos_na)\n",
    "\n",
    "plt.xlabel('Процент пропущенных значений', fontsize=12);\n",
    "plt.title('Процент пропущенных значений по признакам', fontsize=12);"
   ]
  },
  {
   "cell_type": "markdown",
   "metadata": {},
   "source": [
    "* больше всего пропусков в признаке `repaired` - 20%;\n",
    "* пропуски в признаке `model` восстановить не получится, так как нельзя определить модель автомобиля по другим признакам;\n",
    "* `gearbox` - коробка передача зависит от комплектации автомобиля и может быть как ручной, так и автоматической;\n",
    "* `fueltype` - как и с коробкой передач тип топлива может быть различной для одних и тех же автомобилях;\n",
    "* `vehicletype` - тип кузова так же зависит от комплектации автомобиля и может быть различной, ее можно определить по полному названию модели автомобиля, но в данных названия неполные;\n",
    "* `repaired` - пропуски можно заполнить если принимать во внимание, что чем больше пробег, тем больше шанс, что автомобиль ремонтировали."
   ]
  },
  {
   "cell_type": "markdown",
   "metadata": {},
   "source": [
    "Перед заполнением пропущенный значений, удалим объявления, где есть пропуски во всех пяти признаках."
   ]
  },
  {
   "cell_type": "code",
   "execution_count": 14,
   "metadata": {
    "scrolled": true
   },
   "outputs": [
    {
     "name": "stdout",
     "output_type": "stream",
     "text": [
      "Количество строк до удаления пропусков: 354369\n"
     ]
    }
   ],
   "source": [
    "before_fill = autos.shape[0]\n",
    "print('Количество строк до удаления пропусков:', before_fill)"
   ]
  },
  {
   "cell_type": "code",
   "execution_count": 15,
   "metadata": {
    "scrolled": true
   },
   "outputs": [
    {
     "name": "stdout",
     "output_type": "stream",
     "text": [
      "Количество строк после удаления строк с 5ю пропусками: 352132\n"
     ]
    }
   ],
   "source": [
    "autos = autos.dropna(subset=['repaired', 'vehicletype', 'gearbox', 'model', 'fueltype'], how='all')\n",
    "print('Количество строк после удаления строк с 5ю пропусками:', autos.shape[0])"
   ]
  },
  {
   "cell_type": "markdown",
   "metadata": {},
   "source": [
    "#### Признак Repaired"
   ]
  },
  {
   "cell_type": "markdown",
   "metadata": {},
   "source": [
    "Сперва попробуем заполнить пропуски в признаке `repaired`."
   ]
  },
  {
   "cell_type": "code",
   "execution_count": 16,
   "metadata": {},
   "outputs": [
    {
     "data": {
      "text/plain": [
       "array([nan, 'yes', 'no'], dtype=object)"
      ]
     },
     "execution_count": 16,
     "metadata": {},
     "output_type": "execute_result"
    }
   ],
   "source": [
    "# посмотрим на уникальные значения\n",
    "autos['repaired'].unique()"
   ]
  },
  {
   "cell_type": "markdown",
   "metadata": {},
   "source": [
    "Категориальные признак, имеющий два значения и пропущенные значения. Природа пропусков многовероятно состои в том, что владельцы автомобилей забывали указать или намерено не заполняли. Как-либо заполнить достоверными сведениями невозможно, но и удалить большое количество данных не следует, поэтому создадим третью категорию и добавим в нее все пропущенные значения в этом признаке."
   ]
  },
  {
   "cell_type": "code",
   "execution_count": 17,
   "metadata": {},
   "outputs": [],
   "source": [
    "autos['repaired'] = autos['repaired'].fillna('missed')"
   ]
  },
  {
   "cell_type": "markdown",
   "metadata": {},
   "source": [
    "#### признак model"
   ]
  },
  {
   "cell_type": "markdown",
   "metadata": {},
   "source": [
    "Этот признак указывает на модель автомобиля, посмотрим на количество уникальных значений."
   ]
  },
  {
   "cell_type": "code",
   "execution_count": 18,
   "metadata": {},
   "outputs": [
    {
     "data": {
      "text/plain": [
       "250"
      ]
     },
     "execution_count": 18,
     "metadata": {},
     "output_type": "execute_result"
    }
   ],
   "source": [
    "autos['model'].nunique()"
   ]
  },
  {
   "cell_type": "markdown",
   "metadata": {},
   "source": [
    "Большое количество уникальных значений. Сгруппируем модели по брендам и посмотрим на распределение пропусков в моделях по брендам."
   ]
  },
  {
   "cell_type": "code",
   "execution_count": 19,
   "metadata": {
    "scrolled": true
   },
   "outputs": [
    {
     "data": {
      "text/plain": [
       "brand\n",
       "volkswagen        73508\n",
       "opel              38060\n",
       "bmw               34979\n",
       "mercedes_benz     30836\n",
       "audi              28173\n",
       "ford              24166\n",
       "renault           17192\n",
       "peugeot           10107\n",
       "fiat               9141\n",
       "seat               6672\n",
       "skoda              5359\n",
       "mazda              5263\n",
       "smart              4978\n",
       "citroen            4899\n",
       "nissan             4734\n",
       "toyota             4449\n",
       "hyundai            3359\n",
       "mini               3140\n",
       "volvo              3101\n",
       "mitsubishi         2862\n",
       "honda              2662\n",
       "kia                2352\n",
       "suzuki             2186\n",
       "alfa_romeo         2177\n",
       "chevrolet          1644\n",
       "chrysler           1350\n",
       "dacia               878\n",
       "daihatsu            767\n",
       "subaru              718\n",
       "porsche             716\n",
       "jeep                651\n",
       "land_rover          532\n",
       "saab                510\n",
       "daewoo              496\n",
       "trabant             494\n",
       "jaguar              491\n",
       "lancia              448\n",
       "rover               404\n",
       "lada                210\n",
       "sonstige_autos        0\n",
       "Name: model, dtype: int64"
      ]
     },
     "execution_count": 19,
     "metadata": {},
     "output_type": "execute_result"
    }
   ],
   "source": [
    "autos.groupby('brand')['model'].apply(lambda x: x.notnull().sum()).sort_values(ascending=False)"
   ]
  },
  {
   "cell_type": "code",
   "execution_count": 20,
   "metadata": {
    "scrolled": true
   },
   "outputs": [
    {
     "data": {
      "image/png": "[encoded data removed]",
      "text/plain": [
       "<Figure size 1080x720 with 1 Axes>"
      ]
     },
     "metadata": {
      "needs_background": "light"
     },
     "output_type": "display_data"
    }
   ],
   "source": [
    "#построим график для наглядности\n",
    "brand_model = autos.groupby('brand')['model'].apply(lambda x: x.notnull().sum()).sort_values(ascending=False)\n",
    "# переведем в датафрейм\n",
    "brand_model_df = brand_model.reset_index()\n",
    "brand_model_df.columns = ['brand', 'count']\n",
    "\n",
    "# построим график\n",
    "fig, axs = plt.subplots(figsize=(15, 10))\n",
    "sns.barplot(data=brand_model_df, x = 'count', y = 'brand', orient='h')\n",
    "\n",
    "plt.xlabel('Количество пропущенных значений', fontsize=12);\n",
    "plt.title('Количество пропущенных значений по бренду', fontsize=12);\n",
    "\n"
   ]
  },
  {
   "cell_type": "markdown",
   "metadata": {},
   "source": [
    "Как заметно, пропусков больше всего в немецких брендах. Из сырых данных по значениям признака `PostalCode` ясно, что данные собранные из различных регионов Германии. Пользователи не указывали бренд, скорее всего, потому что модель довольна популярна."
   ]
  },
  {
   "cell_type": "markdown",
   "metadata": {},
   "source": [
    "Посмотрим в сырых данных на распределение автомобилей по регионам Германии. Первая цифра почтового индекса указывает на регион, поэтому будем разделять на регионы. Для этого оставим только первую цифру почтового индекса, которая указывает на область."
   ]
  },
  {
   "cell_type": "code",
   "execution_count": 21,
   "metadata": {
    "scrolled": false
   },
   "outputs": [
    {
     "data": {
      "image/png": "[encoded data removed]",
      "text/plain": [
       "<Figure size 1080x720 with 2 Axes>"
      ]
     },
     "metadata": {
      "needs_background": "light"
     },
     "output_type": "display_data"
    }
   ],
   "source": [
    "# оставим только первую цифру в почтовом индексе\n",
    "data['PostalCode'] = data['PostalCode'].astype(str).str[:1].astype(int)\n",
    "\n",
    "# сгруппируем данные по бренду, модели и почтовому индексу\n",
    "model_region_popularity = data.groupby(['Brand', 'PostalCode']).count()['Model'].reset_index()\n",
    "model_region_popularity = model_region_popularity.pivot_table(index='Brand', columns='PostalCode', values='Model')\n",
    "\n",
    "# построим тепловую карту по частотности \n",
    "fig, axs = plt.subplots(figsize=(15, 10))\n",
    "ax = sns.heatmap(model_region_popularity);\n",
    "\n",
    "plt.title('Частота брендов по областям', fontsize=12);\n"
   ]
  },
  {
   "cell_type": "markdown",
   "metadata": {},
   "source": [
    "В целом, предпочтение отдается немецким брендам, но есть различия в областях. К примеру в 4 регион достаточно популярен Opel, но в 9 он не так популярен. Учитывая это, можно заполнить пропуски в моделях автомобилей в зависимости от региона объявления и бренда. Заполнять будем модой."
   ]
  },
  {
   "cell_type": "code",
   "execution_count": 22,
   "metadata": {},
   "outputs": [],
   "source": [
    "# сгруппируем по бренду и индексу\n",
    "brand_postal = data.groupby(['Brand', 'PostalCode'])\n",
    "# определим пропущено ли значение\n",
    "all_na = brand_postal['Model'].transform(lambda x: x.isna().all())\n",
    "# сгруппируем моды и заполним\n",
    "data.loc[all_na, 'Model'] = data['Model'].mode()[0]\n",
    "mode_by_group = brand_postal['Model'].transform(lambda x: x.mode()[0])\n",
    "data['Model'] = data['Model'].fillna(mode_by_group)"
   ]
  },
  {
   "cell_type": "code",
   "execution_count": 23,
   "metadata": {},
   "outputs": [],
   "source": [
    "# теперь соединим сырые данные с обработанными по индексу и заменим признак модели с заполненными пропусками\n",
    "autos = autos.join(data[\"Model\"]).drop(autos.columns[5], axis=1)"
   ]
  },
  {
   "cell_type": "code",
   "execution_count": 24,
   "metadata": {},
   "outputs": [],
   "source": [
    "autos.columns = autos.columns.str.lower()"
   ]
  },
  {
   "cell_type": "code",
   "execution_count": 25,
   "metadata": {
    "scrolled": true
   },
   "outputs": [
    {
     "data": {
      "text/plain": [
       "price                   0\n",
       "vehicletype         35253\n",
       "registrationyear        0\n",
       "gearbox             17596\n",
       "power                   0\n",
       "kilometer               0\n",
       "fueltype            30658\n",
       "brand                   0\n",
       "repaired                0\n",
       "datecreated             0\n",
       "lastseen                0\n",
       "model                   0\n",
       "dtype: int64"
      ]
     },
     "execution_count": 25,
     "metadata": {},
     "output_type": "execute_result"
    }
   ],
   "source": [
    "#check\n",
    "autos.isna().sum()"
   ]
  },
  {
   "cell_type": "markdown",
   "metadata": {},
   "source": [
    "#### Признак Vehicle type"
   ]
  },
  {
   "cell_type": "markdown",
   "metadata": {},
   "source": [
    "Посмотрим на распределение признака по количествам предложений."
   ]
  },
  {
   "cell_type": "code",
   "execution_count": 26,
   "metadata": {},
   "outputs": [],
   "source": [
    "# напишем функцию для группировки и построения графика\n",
    "def group_plot(data, col1, col2, title, xlabel, ylabel):\n",
    "    group = data.groupby(col1)[col2].count()\n",
    "    groupdf = group.reset_index().sort_values(by=col2)\n",
    "    groupdf.columns = [col1, 'count']\n",
    "\n",
    "    fig, axs = plt.subplots(figsize=(15, 10))\n",
    "    ax = sns.barplot(data=groupdf, x='count', y=col1);\n",
    "    \n",
    "    plt.title(title, fontsize=12);\n",
    "    plt.xlabel(xlabel, fontsize=12);\n",
    "    plt.ylabel(ylabel, fontsize=12);\n",
    "    \n"
   ]
  },
  {
   "cell_type": "code",
   "execution_count": 27,
   "metadata": {},
   "outputs": [
    {
     "data": {
      "image/png": "[encoded data removed]",
      "text/plain": [
       "<Figure size 1080x720 with 1 Axes>"
      ]
     },
     "metadata": {
      "needs_background": "light"
     },
     "output_type": "display_data"
    }
   ],
   "source": [
    "group_plot(autos, 'vehicletype', 'brand', 'Частота типов кузов', 'Количество предложений', 'Тип кузова')"
   ]
  },
  {
   "cell_type": "markdown",
   "metadata": {},
   "source": [
    "Видно, что доминируют три типа кузова: sedan, small и wagon. \n",
    "\n",
    "Заполним пропуски модами по группировке бренда и модели."
   ]
  },
  {
   "cell_type": "code",
   "execution_count": 28,
   "metadata": {},
   "outputs": [],
   "source": [
    "# сгруппируем по бренду и индексу\n",
    "brand_model_vtype = autos.groupby(['brand', 'model'])\n",
    "# определим пропущено ли значение\n",
    "all_na = brand_model_vtype['vehicletype'].transform(lambda x: x.isna().all())\n",
    "# сгруппируем моды и заполним\n",
    "autos.loc[all_na, 'vehicletype'] = autos['vehicletype'].mode()[0]\n",
    "mode_by_group = brand_model_vtype['vehicletype'].transform(lambda x: x.mode()[0])\n",
    "autos['vehicletype'] = autos['vehicletype'].fillna(mode_by_group)"
   ]
  },
  {
   "cell_type": "code",
   "execution_count": 29,
   "metadata": {
    "scrolled": false
   },
   "outputs": [
    {
     "data": {
      "text/plain": [
       "price                   0\n",
       "vehicletype             0\n",
       "registrationyear        0\n",
       "gearbox             17596\n",
       "power                   0\n",
       "kilometer               0\n",
       "fueltype            30658\n",
       "brand                   0\n",
       "repaired                0\n",
       "datecreated             0\n",
       "lastseen                0\n",
       "model                   0\n",
       "dtype: int64"
      ]
     },
     "execution_count": 29,
     "metadata": {},
     "output_type": "execute_result"
    }
   ],
   "source": [
    "#check\n",
    "autos.isna().sum()"
   ]
  },
  {
   "cell_type": "code",
   "execution_count": 30,
   "metadata": {
    "scrolled": false
   },
   "outputs": [
    {
     "data": {
      "image/png": "[encoded data removed]",
      "text/plain": [
       "<Figure size 1080x720 with 1 Axes>"
      ]
     },
     "metadata": {
      "needs_background": "light"
     },
     "output_type": "display_data"
    }
   ],
   "source": [
    "# проверим какое стало распределение\n",
    "group_plot(autos, 'vehicletype', 'brand', 'Частота типов кузов', 'Количество предложений', 'Тип кузова')"
   ]
  },
  {
   "cell_type": "markdown",
   "metadata": {},
   "source": [
    "Не изменилось."
   ]
  },
  {
   "cell_type": "markdown",
   "metadata": {},
   "source": [
    "#### Признак fueltype"
   ]
  },
  {
   "cell_type": "markdown",
   "metadata": {},
   "source": [
    "Точно так же сгруппируем данные и посмотрим на распределение."
   ]
  },
  {
   "cell_type": "code",
   "execution_count": 31,
   "metadata": {
    "scrolled": true
   },
   "outputs": [
    {
     "data": {
      "image/png": "[encoded data removed]",
      "text/plain": [
       "<Figure size 1080x720 with 1 Axes>"
      ]
     },
     "metadata": {
      "needs_background": "light"
     },
     "output_type": "display_data"
    }
   ],
   "source": [
    "group_plot(autos, 'fueltype', 'brand', 'Частота различнхы двигателей', 'Количество предложений', 'Топливо двигателя')"
   ]
  },
  {
   "cell_type": "markdown",
   "metadata": {},
   "source": [
    "Почти все предложения авто с двигателями, которые работают на бензине. Причем `gasoline` так же является бензином. Разница лишь в том, что gasoline термин используется в Америке, а petrol в Европе. Поэтому заменим названия gasoline."
   ]
  },
  {
   "cell_type": "code",
   "execution_count": 32,
   "metadata": {},
   "outputs": [],
   "source": [
    "autos['fueltype'] = autos['fueltype'].str.replace('gasoline','petrol')"
   ]
  },
  {
   "cell_type": "code",
   "execution_count": 33,
   "metadata": {
    "scrolled": false
   },
   "outputs": [
    {
     "data": {
      "image/png": "[encoded data removed]",
      "text/plain": [
       "<Figure size 1080x720 with 1 Axes>"
      ]
     },
     "metadata": {
      "needs_background": "light"
     },
     "output_type": "display_data"
    }
   ],
   "source": [
    "group_plot(autos, 'fueltype', 'brand', 'Частота различнхы двигателей', 'Количество предложений', 'Топливо двигателя')"
   ]
  },
  {
   "cell_type": "markdown",
   "metadata": {},
   "source": [
    "Для чистоты так же заполним модой."
   ]
  },
  {
   "cell_type": "code",
   "execution_count": 34,
   "metadata": {},
   "outputs": [],
   "source": [
    "# сгруппируем данные\n",
    "brand_model_fueltype = autos.groupby(['brand', 'model'])\n",
    "# определим пропущено ли значение\n",
    "all_na = brand_model_fueltype['fueltype'].transform(lambda x: x.isna().all())\n",
    "# сгруппируем моды и заполним\n",
    "autos.loc[all_na, 'fueltype'] = autos['fueltype'].mode()[0]\n",
    "mode_by_group = brand_model_fueltype['fueltype'].transform(lambda x: x.mode()[0])\n",
    "autos['fueltype'] = autos['fueltype'].fillna(mode_by_group)"
   ]
  },
  {
   "cell_type": "code",
   "execution_count": 35,
   "metadata": {
    "scrolled": true
   },
   "outputs": [
    {
     "data": {
      "text/plain": [
       "price                   0\n",
       "vehicletype             0\n",
       "registrationyear        0\n",
       "gearbox             17596\n",
       "power                   0\n",
       "kilometer               0\n",
       "fueltype                0\n",
       "brand                   0\n",
       "repaired                0\n",
       "datecreated             0\n",
       "lastseen                0\n",
       "model                   0\n",
       "dtype: int64"
      ]
     },
     "execution_count": 35,
     "metadata": {},
     "output_type": "execute_result"
    }
   ],
   "source": [
    "#check\n",
    "autos.isna().sum()"
   ]
  },
  {
   "cell_type": "code",
   "execution_count": 36,
   "metadata": {
    "scrolled": false
   },
   "outputs": [
    {
     "data": {
      "image/png": "[encoded data removed]",
      "text/plain": [
       "<Figure size 1080x720 with 1 Axes>"
      ]
     },
     "metadata": {
      "needs_background": "light"
     },
     "output_type": "display_data"
    }
   ],
   "source": [
    "group_plot(autos, 'fueltype', 'brand', 'Частота различнхы двигателей', 'Количество предложений', 'Топливо двигателя')"
   ]
  },
  {
   "cell_type": "markdown",
   "metadata": {},
   "source": [
    "Распределение не изменилось."
   ]
  },
  {
   "cell_type": "markdown",
   "metadata": {},
   "source": [
    "#### Признак gearbox"
   ]
  },
  {
   "cell_type": "code",
   "execution_count": 37,
   "metadata": {
    "scrolled": false
   },
   "outputs": [
    {
     "data": {
      "image/png": "[encoded data removed]",
      "text/plain": [
       "<Figure size 1080x720 with 1 Axes>"
      ]
     },
     "metadata": {
      "needs_background": "light"
     },
     "output_type": "display_data"
    }
   ],
   "source": [
    "group_plot(autos, 'gearbox', 'brand', 'Частота коробок передач', 'Количество предложений', 'Коробка передач')"
   ]
  },
  {
   "cell_type": "markdown",
   "metadata": {},
   "source": [
    "Больше всего встречается механическая коробка передач. За неимением лучшего способа, так же заполним модой в зависимости от бренда и модели."
   ]
  },
  {
   "cell_type": "code",
   "execution_count": 38,
   "metadata": {},
   "outputs": [],
   "source": [
    "# сгруппируем данные\n",
    "brand_model_gbox = autos.groupby(['brand', 'model'])\n",
    "# определим пропущено ли значение\n",
    "all_na = brand_model_gbox['gearbox'].transform(lambda x: x.isna().all())\n",
    "# сгруппируем моды и заполним\n",
    "autos.loc[all_na, 'gearbox'] = autos['gearbox'].mode()[0]\n",
    "mode_by_group = brand_model_gbox['gearbox'].transform(lambda x: x.mode()[0])\n",
    "autos['gearbox'] = autos['gearbox'].fillna(mode_by_group)"
   ]
  },
  {
   "cell_type": "code",
   "execution_count": 39,
   "metadata": {},
   "outputs": [
    {
     "data": {
      "text/plain": [
       "price               0\n",
       "vehicletype         0\n",
       "registrationyear    0\n",
       "gearbox             0\n",
       "power               0\n",
       "kilometer           0\n",
       "fueltype            0\n",
       "brand               0\n",
       "repaired            0\n",
       "datecreated         0\n",
       "lastseen            0\n",
       "model               0\n",
       "dtype: int64"
      ]
     },
     "execution_count": 39,
     "metadata": {},
     "output_type": "execute_result"
    }
   ],
   "source": [
    "#check\n",
    "autos.isna().sum()"
   ]
  },
  {
   "cell_type": "markdown",
   "metadata": {},
   "source": [
    "Посмотрим на распределение после заполнения пропусков."
   ]
  },
  {
   "cell_type": "code",
   "execution_count": 40,
   "metadata": {
    "scrolled": false
   },
   "outputs": [
    {
     "data": {
      "image/png": "[encoded data removed]",
      "text/plain": [
       "<Figure size 1080x720 with 1 Axes>"
      ]
     },
     "metadata": {
      "needs_background": "light"
     },
     "output_type": "display_data"
    }
   ],
   "source": [
    "group_plot(autos, 'gearbox', 'brand', 'Частота коробок передач', 'Количество предложений', 'Коробка передач')"
   ]
  },
  {
   "cell_type": "markdown",
   "metadata": {},
   "source": [
    "#### Вывод"
   ]
  },
  {
   "cell_type": "markdown",
   "metadata": {},
   "source": [
    "В данных были пропуски в следующих признаках: `repaired`, `model`, `vehicle type`, `fueltype` и `gearbox`. \n",
    "\n",
    "1. В колонке `repaired` использовали заглушку, так как невозможно как-либо заполнить пропущенные значения. \n",
    "2. В колонке `model` заполнили по моде в зависимости от бренда и области объявления.\n",
    "3. В колонках `vehicle type`, `fueltype` и `gearbox` заполняли модой в зависимости от модели и бренда автомобиля, так как это технические характеристики, которые напрямую зависят от них."
   ]
  },
  {
   "cell_type": "markdown",
   "metadata": {},
   "source": [
    "### Аномальные значения"
   ]
  },
  {
   "cell_type": "code",
   "execution_count": 41,
   "metadata": {},
   "outputs": [
    {
     "data": {
      "text/html": [
       "<div>\n",
       "<style scoped>\n",
       "    .dataframe tbody tr th:only-of-type {\n",
       "        vertical-align: middle;\n",
       "    }\n",
       "\n",
       "    .dataframe tbody tr th {\n",
       "        vertical-align: top;\n",
       "    }\n",
       "\n",
       "    .dataframe thead th {\n",
       "        text-align: right;\n",
       "    }\n",
       "</style>\n",
       "<table border=\"1\" class=\"dataframe\">\n",
       "  <thead>\n",
       "    <tr style=\"text-align: right;\">\n",
       "      <th></th>\n",
       "      <th>count</th>\n",
       "      <th>mean</th>\n",
       "      <th>std</th>\n",
       "      <th>min</th>\n",
       "      <th>25%</th>\n",
       "      <th>50%</th>\n",
       "      <th>75%</th>\n",
       "      <th>max</th>\n",
       "    </tr>\n",
       "  </thead>\n",
       "  <tbody>\n",
       "    <tr>\n",
       "      <th>price</th>\n",
       "      <td>352132.0</td>\n",
       "      <td>4437.540570</td>\n",
       "      <td>4516.540446</td>\n",
       "      <td>0.0</td>\n",
       "      <td>1100.0</td>\n",
       "      <td>2750.0</td>\n",
       "      <td>6450.0</td>\n",
       "      <td>20000.0</td>\n",
       "    </tr>\n",
       "    <tr>\n",
       "      <th>registrationyear</th>\n",
       "      <td>352132.0</td>\n",
       "      <td>2003.871636</td>\n",
       "      <td>70.673430</td>\n",
       "      <td>1000.0</td>\n",
       "      <td>1999.0</td>\n",
       "      <td>2003.0</td>\n",
       "      <td>2008.0</td>\n",
       "      <td>9999.0</td>\n",
       "    </tr>\n",
       "    <tr>\n",
       "      <th>power</th>\n",
       "      <td>352132.0</td>\n",
       "      <td>110.720108</td>\n",
       "      <td>190.249667</td>\n",
       "      <td>0.0</td>\n",
       "      <td>69.0</td>\n",
       "      <td>105.0</td>\n",
       "      <td>143.0</td>\n",
       "      <td>20000.0</td>\n",
       "    </tr>\n",
       "    <tr>\n",
       "      <th>kilometer</th>\n",
       "      <td>352132.0</td>\n",
       "      <td>128438.071519</td>\n",
       "      <td>37562.896848</td>\n",
       "      <td>5000.0</td>\n",
       "      <td>125000.0</td>\n",
       "      <td>150000.0</td>\n",
       "      <td>150000.0</td>\n",
       "      <td>150000.0</td>\n",
       "    </tr>\n",
       "  </tbody>\n",
       "</table>\n",
       "</div>"
      ],
      "text/plain": [
       "                     count           mean           std     min       25%  \\\n",
       "price             352132.0    4437.540570   4516.540446     0.0    1100.0   \n",
       "registrationyear  352132.0    2003.871636     70.673430  1000.0    1999.0   \n",
       "power             352132.0     110.720108    190.249667     0.0      69.0   \n",
       "kilometer         352132.0  128438.071519  37562.896848  5000.0  125000.0   \n",
       "\n",
       "                       50%       75%       max  \n",
       "price               2750.0    6450.0   20000.0  \n",
       "registrationyear    2003.0    2008.0    9999.0  \n",
       "power                105.0     143.0   20000.0  \n",
       "kilometer         150000.0  150000.0  150000.0  "
      ]
     },
     "execution_count": 41,
     "metadata": {},
     "output_type": "execute_result"
    }
   ],
   "source": [
    "autos.describe().T"
   ]
  },
  {
   "cell_type": "markdown",
   "metadata": {},
   "source": [
    "* есть аномалии в цене (минимальное значение ноль);\n",
    "* есть аномалии в регистрации (1910 год);\n",
    "* есть аномалии в мощности (минимальное значение ноль);\n",
    "* в километрах аномалий скорее всего нет.\n"
   ]
  },
  {
   "cell_type": "markdown",
   "metadata": {},
   "source": [
    "#### Год регистрации транспортного средства"
   ]
  },
  {
   "cell_type": "markdown",
   "metadata": {},
   "source": [
    "Максимальное значение в 9999 и минимальное в 1000 являются ошибочными. Ограничим максимальный год регистрации - максимальным годом выгрузки анкет."
   ]
  },
  {
   "cell_type": "code",
   "execution_count": 42,
   "metadata": {
    "scrolled": true
   },
   "outputs": [
    {
     "data": {
      "text/plain": [
       "329497   2016-03-05 14:06:22\n",
       "220583   2016-03-05 14:06:23\n",
       "99885    2016-03-05 14:06:24\n",
       "220604   2016-03-05 14:06:25\n",
       "238727   2016-03-05 14:06:26\n",
       "                 ...        \n",
       "204218   2016-04-07 14:36:53\n",
       "53739    2016-04-07 14:36:54\n",
       "301030   2016-04-07 14:36:55\n",
       "339649   2016-04-07 14:36:56\n",
       "90713    2016-04-07 14:36:58\n",
       "Name: DateCrawled, Length: 271174, dtype: datetime64[ns]"
      ]
     },
     "execution_count": 42,
     "metadata": {},
     "output_type": "execute_result"
    }
   ],
   "source": [
    "pd.to_datetime(data['DateCrawled']).drop_duplicates().sort_values()"
   ]
  },
  {
   "cell_type": "markdown",
   "metadata": {},
   "source": [
    "Последняя анкета была выгружена 04.07.2016. Ограничим год регистрации 2016 годом."
   ]
  },
  {
   "cell_type": "code",
   "execution_count": 43,
   "metadata": {},
   "outputs": [],
   "source": [
    "autos = autos.query('registrationyear < 2017')"
   ]
  },
  {
   "cell_type": "markdown",
   "metadata": {},
   "source": [
    "Минимальное значение регистрации ограничим 1950 годом, иначе не понять графики, далее скорректируем."
   ]
  },
  {
   "cell_type": "code",
   "execution_count": 44,
   "metadata": {},
   "outputs": [],
   "source": [
    "autos = autos.query('registrationyear > 1949')"
   ]
  },
  {
   "cell_type": "markdown",
   "metadata": {},
   "source": [
    "Посмотрим на количество объявлений по годам регистрации."
   ]
  },
  {
   "cell_type": "code",
   "execution_count": 45,
   "metadata": {},
   "outputs": [
    {
     "data": {
      "image/png": "[encoded data removed]",
      "text/plain": [
       "<Figure size 842.4x595.44 with 1 Axes>"
      ]
     },
     "metadata": {
      "needs_background": "light"
     },
     "output_type": "display_data"
    }
   ],
   "source": [
    "# группировка данных\n",
    "autos_per_year = autos.groupby('registrationyear')['price'].count()\n",
    "# построение графика\n",
    "fig, ax = plt.subplots(figsize=(11.7, 8.27))\n",
    "sns.lineplot(data=autos_per_year);\n",
    "plt.ylabel('Количество объявлений', fontsize=12);\n",
    "plt.xlabel('Год регистрации', fontsize=12);\n",
    "plt.title('Количество объявлений по годам регистрации', fontsize=12);\n"
   ]
  },
  {
   "cell_type": "markdown",
   "metadata": {},
   "source": [
    "Из графика видно, что очень мало объявлений машин с регистрацией примерно ранее 1990 года. Это либо старые машины, либо антиквариатные ретро автомобили, поэтому цена на машины будет сильно отличаться. Данных для обучения модели таких автомобилей слишком мало, следовательно, необходимо ограничить год регистрации.\n",
    "\n",
    "Построим диаграмму размаха и определим нижнюю границу."
   ]
  },
  {
   "cell_type": "code",
   "execution_count": 46,
   "metadata": {
    "scrolled": false
   },
   "outputs": [
    {
     "data": {
      "image/png": "[encoded data removed]",
      "text/plain": [
       "<Figure size 842.4x597.6 with 1 Axes>"
      ]
     },
     "metadata": {
      "needs_background": "light"
     },
     "output_type": "display_data"
    }
   ],
   "source": [
    "fig = plt.subplots(figsize=(11.7, 8.3))\n",
    "ax = sns.boxplot(data=autos['registrationyear'].values)\n",
    "plt.title('Диаграмма размаха по регистрации авто', fontsize=12)\n",
    "plt.ylabel('Год регистрации',fontsize=12);\n",
    "plt.show()\n"
   ]
  },
  {
   "cell_type": "markdown",
   "metadata": {},
   "source": [
    "На этом графике уверенно определить границу. Велика вероятность ошибки. Для более наглядных результатов сделаем дополнительный график, где будет отображена только нижняя часть диаграммы размахов. Для этого ограничим значение по оси Y."
   ]
  },
  {
   "cell_type": "code",
   "execution_count": 47,
   "metadata": {},
   "outputs": [
    {
     "data": {
      "image/png": "[encoded data removed]",
      "text/plain": [
       "<Figure size 842.4x597.6 with 1 Axes>"
      ]
     },
     "metadata": {
      "needs_background": "light"
     },
     "output_type": "display_data"
    }
   ],
   "source": [
    "fig = plt.subplots(figsize=(11.7, 8.3))\n",
    "ax = sns.boxplot(data=autos['registrationyear'].values)\n",
    "ax.set(ylim=(1980, 2020))\n",
    "plt.title('Диаграмма размаха по регистрации авто', fontsize=12)\n",
    "plt.ylabel('Год регистрации',fontsize=12);\n",
    "plt.show()"
   ]
  },
  {
   "cell_type": "markdown",
   "metadata": {},
   "source": [
    "Посмотрим сколько объявлений о продаже автомобилей с регистрацией ранее 1986 года."
   ]
  },
  {
   "cell_type": "code",
   "execution_count": 48,
   "metadata": {
    "scrolled": true
   },
   "outputs": [
    {
     "name": "stdout",
     "output_type": "stream",
     "text": [
      "Количество объявлений с регистрацией ранее 1986 года: 5757\n",
      "Количество объявлений: 337593\n"
     ]
    }
   ],
   "source": [
    "print('Количество объявлений с регистрацией ранее 1986 года:', autos.query('registrationyear < 1986').shape[0])\n",
    "print('Количество объявлений:', autos.shape[0])\n"
   ]
  },
  {
   "cell_type": "markdown",
   "metadata": {},
   "source": [
    "Доля таких объявлений от общего количества очень мала (~1.2%), поэтому избавимся от таких объявлений."
   ]
  },
  {
   "cell_type": "code",
   "execution_count": 49,
   "metadata": {},
   "outputs": [],
   "source": [
    "autos = autos.query('registrationyear > 1985')"
   ]
  },
  {
   "cell_type": "code",
   "execution_count": 50,
   "metadata": {
    "scrolled": true
   },
   "outputs": [
    {
     "data": {
      "text/plain": [
       "count    331836.000000\n",
       "mean       2003.003764\n",
       "std           5.814811\n",
       "min        1986.000000\n",
       "25%        1999.000000\n",
       "50%        2003.000000\n",
       "75%        2007.000000\n",
       "max        2016.000000\n",
       "Name: registrationyear, dtype: float64"
      ]
     },
     "execution_count": 50,
     "metadata": {},
     "output_type": "execute_result"
    }
   ],
   "source": [
    "#check\n",
    "autos['registrationyear'].describe()"
   ]
  },
  {
   "cell_type": "markdown",
   "metadata": {},
   "source": [
    "#### Мощность автомобиля"
   ]
  },
  {
   "cell_type": "markdown",
   "metadata": {},
   "source": [
    "Посмотрим еще раз на распределение, предварительно удалив нулевые значения."
   ]
  },
  {
   "cell_type": "code",
   "execution_count": 51,
   "metadata": {},
   "outputs": [],
   "source": [
    "autos = autos.query('power > 0')"
   ]
  },
  {
   "cell_type": "code",
   "execution_count": 52,
   "metadata": {},
   "outputs": [
    {
     "data": {
      "text/plain": [
       "count    298861.000000\n",
       "mean        124.592801\n",
       "std         192.523263\n",
       "min           1.000000\n",
       "25%          77.000000\n",
       "50%         112.000000\n",
       "75%         150.000000\n",
       "max       20000.000000\n",
       "Name: power, dtype: float64"
      ]
     },
     "execution_count": 52,
     "metadata": {},
     "output_type": "execute_result"
    }
   ],
   "source": [
    "autos['power'].describe()"
   ]
  },
  {
   "cell_type": "markdown",
   "metadata": {},
   "source": [
    "Максимальное значение мощности - явная ошибка при в воде и является аномальным значением. Самая мощная грузовая машина имеет мощность 4000 л.с.\n",
    "\n",
    "Посмотрим на диаграмму размаха и определим границы."
   ]
  },
  {
   "cell_type": "code",
   "execution_count": 53,
   "metadata": {
    "scrolled": false
   },
   "outputs": [
    {
     "data": {
      "image/png": "[encoded data removed]",
      "text/plain": [
       "<Figure size 842.4x597.6 with 1 Axes>"
      ]
     },
     "metadata": {
      "needs_background": "light"
     },
     "output_type": "display_data"
    }
   ],
   "source": [
    "fig = plt.subplots(figsize=(11.7, 8.3))\n",
    "ax = sns.boxplot(data=autos['power'].values)\n",
    "plt.title('Диаграмма размаха по мощности двигателя авто', fontsize=12)\n",
    "plt.ylabel('Мощность двигателя (л.с)',fontsize=12);\n",
    "ax.set(ylim=(0, 500))\n",
    "plt.show()"
   ]
  },
  {
   "cell_type": "markdown",
   "metadata": {},
   "source": [
    "К примеру, мощность двигателя автомобиля вольксфаген гольф может быть от 45 до 250 л.с. На одном из сайтов по продажам автомобилей из 117000 объявлений только 46 предложений о продаже авто с двигателем мощностью до 30 лошадиных сил. Это или старые или раритеные, поэтому ограничимся минимальной мощностью в 40 л.с. "
   ]
  },
  {
   "cell_type": "code",
   "execution_count": 54,
   "metadata": {},
   "outputs": [
    {
     "data": {
      "text/plain": [
       "1101"
      ]
     },
     "execution_count": 54,
     "metadata": {},
     "output_type": "execute_result"
    }
   ],
   "source": [
    "autos.query('power < 41').shape[0]"
   ]
  },
  {
   "cell_type": "markdown",
   "metadata": {},
   "source": [
    "Таких объявлений всего 536.\n",
    "\n",
    "Верхней же границей зададимся в 450 л.с. Это грузовые или спортивные автомобили."
   ]
  },
  {
   "cell_type": "code",
   "execution_count": 55,
   "metadata": {},
   "outputs": [
    {
     "data": {
      "text/plain": [
       "486"
      ]
     },
     "execution_count": 55,
     "metadata": {},
     "output_type": "execute_result"
    }
   ],
   "source": [
    "autos.query('power > 450').shape[0]"
   ]
  },
  {
   "cell_type": "markdown",
   "metadata": {},
   "source": [
    "Таких объявлений 255."
   ]
  },
  {
   "cell_type": "code",
   "execution_count": 56,
   "metadata": {},
   "outputs": [],
   "source": [
    "autos = autos.query(\"power > 39 & power < 451\")"
   ]
  },
  {
   "cell_type": "code",
   "execution_count": 57,
   "metadata": {},
   "outputs": [
    {
     "data": {
      "text/plain": [
       "count    297554.000000\n",
       "mean        120.844848\n",
       "std          52.849195\n",
       "min          40.000000\n",
       "25%          77.000000\n",
       "50%         113.000000\n",
       "75%         150.000000\n",
       "max         450.000000\n",
       "Name: power, dtype: float64"
      ]
     },
     "execution_count": 57,
     "metadata": {},
     "output_type": "execute_result"
    }
   ],
   "source": [
    "#check\n",
    "autos['power'].describe()"
   ]
  },
  {
   "cell_type": "markdown",
   "metadata": {},
   "source": [
    "#### Цена"
   ]
  },
  {
   "cell_type": "markdown",
   "metadata": {},
   "source": [
    "Предварительно удалим нулевые значения."
   ]
  },
  {
   "cell_type": "code",
   "execution_count": 58,
   "metadata": {},
   "outputs": [],
   "source": [
    "autos = autos.query('price > 0')"
   ]
  },
  {
   "cell_type": "code",
   "execution_count": 59,
   "metadata": {
    "scrolled": false
   },
   "outputs": [
    {
     "data": {
      "text/plain": [
       "count    291423.000000\n",
       "mean       4829.554517\n",
       "std        4596.322455\n",
       "min           1.000000\n",
       "25%        1300.000000\n",
       "50%        3150.000000\n",
       "75%        6990.000000\n",
       "max       20000.000000\n",
       "Name: price, dtype: float64"
      ]
     },
     "execution_count": 59,
     "metadata": {},
     "output_type": "execute_result"
    }
   ],
   "source": [
    "autos['price'].describe()"
   ]
  },
  {
   "cell_type": "markdown",
   "metadata": {},
   "source": [
    "Есть минимальное значение с ценой 1 евро. До 25% объявлений объявления с ценой до 1550 евро. Посмотрим на объявления с ценой ниже 500 евро и с ценой более 18000 евро."
   ]
  },
  {
   "cell_type": "code",
   "execution_count": 60,
   "metadata": {
    "scrolled": false
   },
   "outputs": [
    {
     "data": {
      "text/html": [
       "<div>\n",
       "<style scoped>\n",
       "    .dataframe tbody tr th:only-of-type {\n",
       "        vertical-align: middle;\n",
       "    }\n",
       "\n",
       "    .dataframe tbody tr th {\n",
       "        vertical-align: top;\n",
       "    }\n",
       "\n",
       "    .dataframe thead th {\n",
       "        text-align: right;\n",
       "    }\n",
       "</style>\n",
       "<table border=\"1\" class=\"dataframe\">\n",
       "  <thead>\n",
       "    <tr style=\"text-align: right;\">\n",
       "      <th></th>\n",
       "      <th>price</th>\n",
       "      <th>vehicletype</th>\n",
       "      <th>registrationyear</th>\n",
       "      <th>gearbox</th>\n",
       "      <th>power</th>\n",
       "      <th>kilometer</th>\n",
       "      <th>fueltype</th>\n",
       "      <th>brand</th>\n",
       "      <th>repaired</th>\n",
       "      <th>datecreated</th>\n",
       "      <th>lastseen</th>\n",
       "      <th>model</th>\n",
       "    </tr>\n",
       "  </thead>\n",
       "  <tbody>\n",
       "    <tr>\n",
       "      <th>16</th>\n",
       "      <td>300</td>\n",
       "      <td>small</td>\n",
       "      <td>2016</td>\n",
       "      <td>manual</td>\n",
       "      <td>60</td>\n",
       "      <td>150000</td>\n",
       "      <td>petrol</td>\n",
       "      <td>volkswagen</td>\n",
       "      <td>missed</td>\n",
       "      <td>2016-04-01 00:00:00</td>\n",
       "      <td>2016-04-01 12:46:46</td>\n",
       "      <td>polo</td>\n",
       "    </tr>\n",
       "    <tr>\n",
       "      <th>23</th>\n",
       "      <td>450</td>\n",
       "      <td>small</td>\n",
       "      <td>1997</td>\n",
       "      <td>manual</td>\n",
       "      <td>50</td>\n",
       "      <td>150000</td>\n",
       "      <td>petrol</td>\n",
       "      <td>seat</td>\n",
       "      <td>no</td>\n",
       "      <td>2016-03-12 00:00:00</td>\n",
       "      <td>2016-03-21 01:46:11</td>\n",
       "      <td>arosa</td>\n",
       "    </tr>\n",
       "    <tr>\n",
       "      <th>35</th>\n",
       "      <td>350</td>\n",
       "      <td>sedan</td>\n",
       "      <td>2016</td>\n",
       "      <td>manual</td>\n",
       "      <td>75</td>\n",
       "      <td>150000</td>\n",
       "      <td>petrol</td>\n",
       "      <td>volkswagen</td>\n",
       "      <td>no</td>\n",
       "      <td>2016-03-08 00:00:00</td>\n",
       "      <td>2016-03-08 09:44:50</td>\n",
       "      <td>golf</td>\n",
       "    </tr>\n",
       "    <tr>\n",
       "      <th>59</th>\n",
       "      <td>1</td>\n",
       "      <td>suv</td>\n",
       "      <td>1994</td>\n",
       "      <td>manual</td>\n",
       "      <td>286</td>\n",
       "      <td>150000</td>\n",
       "      <td>petrol</td>\n",
       "      <td>sonstige_autos</td>\n",
       "      <td>missed</td>\n",
       "      <td>2016-03-29 00:00:00</td>\n",
       "      <td>2016-04-06 01:44:38</td>\n",
       "      <td>golf</td>\n",
       "    </tr>\n",
       "    <tr>\n",
       "      <th>60</th>\n",
       "      <td>200</td>\n",
       "      <td>coupe</td>\n",
       "      <td>1995</td>\n",
       "      <td>manual</td>\n",
       "      <td>102</td>\n",
       "      <td>150000</td>\n",
       "      <td>petrol</td>\n",
       "      <td>bmw</td>\n",
       "      <td>missed</td>\n",
       "      <td>2016-03-26 00:00:00</td>\n",
       "      <td>2016-04-01 20:46:51</td>\n",
       "      <td>3er</td>\n",
       "    </tr>\n",
       "    <tr>\n",
       "      <th>...</th>\n",
       "      <td>...</td>\n",
       "      <td>...</td>\n",
       "      <td>...</td>\n",
       "      <td>...</td>\n",
       "      <td>...</td>\n",
       "      <td>...</td>\n",
       "      <td>...</td>\n",
       "      <td>...</td>\n",
       "      <td>...</td>\n",
       "      <td>...</td>\n",
       "      <td>...</td>\n",
       "      <td>...</td>\n",
       "    </tr>\n",
       "    <tr>\n",
       "      <th>354293</th>\n",
       "      <td>480</td>\n",
       "      <td>sedan</td>\n",
       "      <td>1996</td>\n",
       "      <td>manual</td>\n",
       "      <td>136</td>\n",
       "      <td>150000</td>\n",
       "      <td>petrol</td>\n",
       "      <td>mercedes_benz</td>\n",
       "      <td>missed</td>\n",
       "      <td>2016-04-02 00:00:00</td>\n",
       "      <td>2016-04-06 13:17:50</td>\n",
       "      <td>c_klasse</td>\n",
       "    </tr>\n",
       "    <tr>\n",
       "      <th>354296</th>\n",
       "      <td>450</td>\n",
       "      <td>small</td>\n",
       "      <td>1997</td>\n",
       "      <td>manual</td>\n",
       "      <td>102</td>\n",
       "      <td>150000</td>\n",
       "      <td>petrol</td>\n",
       "      <td>bmw</td>\n",
       "      <td>no</td>\n",
       "      <td>2016-03-30 00:00:00</td>\n",
       "      <td>2016-04-01 14:46:24</td>\n",
       "      <td>3er</td>\n",
       "    </tr>\n",
       "    <tr>\n",
       "      <th>354297</th>\n",
       "      <td>400</td>\n",
       "      <td>wagon</td>\n",
       "      <td>1996</td>\n",
       "      <td>manual</td>\n",
       "      <td>150</td>\n",
       "      <td>150000</td>\n",
       "      <td>petrol</td>\n",
       "      <td>audi</td>\n",
       "      <td>missed</td>\n",
       "      <td>2016-03-11 00:00:00</td>\n",
       "      <td>2016-03-11 13:43:10</td>\n",
       "      <td>a4</td>\n",
       "    </tr>\n",
       "    <tr>\n",
       "      <th>354309</th>\n",
       "      <td>99</td>\n",
       "      <td>small</td>\n",
       "      <td>1999</td>\n",
       "      <td>manual</td>\n",
       "      <td>60</td>\n",
       "      <td>150000</td>\n",
       "      <td>petrol</td>\n",
       "      <td>seat</td>\n",
       "      <td>yes</td>\n",
       "      <td>2016-03-09 00:00:00</td>\n",
       "      <td>2016-04-06 22:15:32</td>\n",
       "      <td>arosa</td>\n",
       "    </tr>\n",
       "    <tr>\n",
       "      <th>354329</th>\n",
       "      <td>350</td>\n",
       "      <td>small</td>\n",
       "      <td>1996</td>\n",
       "      <td>manual</td>\n",
       "      <td>65</td>\n",
       "      <td>150000</td>\n",
       "      <td>petrol</td>\n",
       "      <td>fiat</td>\n",
       "      <td>missed</td>\n",
       "      <td>2016-03-30 00:00:00</td>\n",
       "      <td>2016-04-07 13:50:41</td>\n",
       "      <td>punto</td>\n",
       "    </tr>\n",
       "  </tbody>\n",
       "</table>\n",
       "<p>16785 rows × 12 columns</p>\n",
       "</div>"
      ],
      "text/plain": [
       "        price vehicletype  registrationyear gearbox  power  kilometer  \\\n",
       "16        300       small              2016  manual     60     150000   \n",
       "23        450       small              1997  manual     50     150000   \n",
       "35        350       sedan              2016  manual     75     150000   \n",
       "59          1         suv              1994  manual    286     150000   \n",
       "60        200       coupe              1995  manual    102     150000   \n",
       "...       ...         ...               ...     ...    ...        ...   \n",
       "354293    480       sedan              1996  manual    136     150000   \n",
       "354296    450       small              1997  manual    102     150000   \n",
       "354297    400       wagon              1996  manual    150     150000   \n",
       "354309     99       small              1999  manual     60     150000   \n",
       "354329    350       small              1996  manual     65     150000   \n",
       "\n",
       "       fueltype           brand repaired          datecreated  \\\n",
       "16       petrol      volkswagen   missed  2016-04-01 00:00:00   \n",
       "23       petrol            seat       no  2016-03-12 00:00:00   \n",
       "35       petrol      volkswagen       no  2016-03-08 00:00:00   \n",
       "59       petrol  sonstige_autos   missed  2016-03-29 00:00:00   \n",
       "60       petrol             bmw   missed  2016-03-26 00:00:00   \n",
       "...         ...             ...      ...                  ...   \n",
       "354293   petrol   mercedes_benz   missed  2016-04-02 00:00:00   \n",
       "354296   petrol             bmw       no  2016-03-30 00:00:00   \n",
       "354297   petrol            audi   missed  2016-03-11 00:00:00   \n",
       "354309   petrol            seat      yes  2016-03-09 00:00:00   \n",
       "354329   petrol            fiat   missed  2016-03-30 00:00:00   \n",
       "\n",
       "                   lastseen     model  \n",
       "16      2016-04-01 12:46:46      polo  \n",
       "23      2016-03-21 01:46:11     arosa  \n",
       "35      2016-03-08 09:44:50      golf  \n",
       "59      2016-04-06 01:44:38      golf  \n",
       "60      2016-04-01 20:46:51       3er  \n",
       "...                     ...       ...  \n",
       "354293  2016-04-06 13:17:50  c_klasse  \n",
       "354296  2016-04-01 14:46:24       3er  \n",
       "354297  2016-03-11 13:43:10        a4  \n",
       "354309  2016-04-06 22:15:32     arosa  \n",
       "354329  2016-04-07 13:50:41     punto  \n",
       "\n",
       "[16785 rows x 12 columns]"
      ]
     },
     "metadata": {},
     "output_type": "display_data"
    },
    {
     "data": {
      "text/html": [
       "<div>\n",
       "<style scoped>\n",
       "    .dataframe tbody tr th:only-of-type {\n",
       "        vertical-align: middle;\n",
       "    }\n",
       "\n",
       "    .dataframe tbody tr th {\n",
       "        vertical-align: top;\n",
       "    }\n",
       "\n",
       "    .dataframe thead th {\n",
       "        text-align: right;\n",
       "    }\n",
       "</style>\n",
       "<table border=\"1\" class=\"dataframe\">\n",
       "  <thead>\n",
       "    <tr style=\"text-align: right;\">\n",
       "      <th></th>\n",
       "      <th>price</th>\n",
       "      <th>vehicletype</th>\n",
       "      <th>registrationyear</th>\n",
       "      <th>gearbox</th>\n",
       "      <th>power</th>\n",
       "      <th>kilometer</th>\n",
       "      <th>fueltype</th>\n",
       "      <th>brand</th>\n",
       "      <th>repaired</th>\n",
       "      <th>datecreated</th>\n",
       "      <th>lastseen</th>\n",
       "      <th>model</th>\n",
       "    </tr>\n",
       "  </thead>\n",
       "  <tbody>\n",
       "    <tr>\n",
       "      <th>1</th>\n",
       "      <td>18300</td>\n",
       "      <td>coupe</td>\n",
       "      <td>2011</td>\n",
       "      <td>manual</td>\n",
       "      <td>190</td>\n",
       "      <td>125000</td>\n",
       "      <td>petrol</td>\n",
       "      <td>audi</td>\n",
       "      <td>yes</td>\n",
       "      <td>2016-03-24 00:00:00</td>\n",
       "      <td>2016-04-07 01:46:50</td>\n",
       "      <td>a4</td>\n",
       "    </tr>\n",
       "    <tr>\n",
       "      <th>172</th>\n",
       "      <td>19750</td>\n",
       "      <td>convertible</td>\n",
       "      <td>2006</td>\n",
       "      <td>manual</td>\n",
       "      <td>305</td>\n",
       "      <td>50000</td>\n",
       "      <td>petrol</td>\n",
       "      <td>ford</td>\n",
       "      <td>no</td>\n",
       "      <td>2016-03-07 00:00:00</td>\n",
       "      <td>2016-03-12 20:18:29</td>\n",
       "      <td>mustang</td>\n",
       "    </tr>\n",
       "    <tr>\n",
       "      <th>204</th>\n",
       "      <td>18400</td>\n",
       "      <td>wagon</td>\n",
       "      <td>2011</td>\n",
       "      <td>auto</td>\n",
       "      <td>313</td>\n",
       "      <td>150000</td>\n",
       "      <td>petrol</td>\n",
       "      <td>bmw</td>\n",
       "      <td>no</td>\n",
       "      <td>2016-03-31 00:00:00</td>\n",
       "      <td>2016-03-31 13:44:44</td>\n",
       "      <td>5er</td>\n",
       "    </tr>\n",
       "    <tr>\n",
       "      <th>282</th>\n",
       "      <td>18700</td>\n",
       "      <td>coupe</td>\n",
       "      <td>2009</td>\n",
       "      <td>auto</td>\n",
       "      <td>213</td>\n",
       "      <td>80000</td>\n",
       "      <td>petrol</td>\n",
       "      <td>ford</td>\n",
       "      <td>no</td>\n",
       "      <td>2016-03-06 00:00:00</td>\n",
       "      <td>2016-04-06 05:44:39</td>\n",
       "      <td>mustang</td>\n",
       "    </tr>\n",
       "    <tr>\n",
       "      <th>337</th>\n",
       "      <td>18880</td>\n",
       "      <td>bus</td>\n",
       "      <td>2014</td>\n",
       "      <td>manual</td>\n",
       "      <td>116</td>\n",
       "      <td>20000</td>\n",
       "      <td>petrol</td>\n",
       "      <td>mazda</td>\n",
       "      <td>no</td>\n",
       "      <td>2016-03-20 00:00:00</td>\n",
       "      <td>2016-04-06 08:46:43</td>\n",
       "      <td>5_reihe</td>\n",
       "    </tr>\n",
       "    <tr>\n",
       "      <th>...</th>\n",
       "      <td>...</td>\n",
       "      <td>...</td>\n",
       "      <td>...</td>\n",
       "      <td>...</td>\n",
       "      <td>...</td>\n",
       "      <td>...</td>\n",
       "      <td>...</td>\n",
       "      <td>...</td>\n",
       "      <td>...</td>\n",
       "      <td>...</td>\n",
       "      <td>...</td>\n",
       "      <td>...</td>\n",
       "    </tr>\n",
       "    <tr>\n",
       "      <th>353590</th>\n",
       "      <td>19950</td>\n",
       "      <td>wagon</td>\n",
       "      <td>2009</td>\n",
       "      <td>manual</td>\n",
       "      <td>265</td>\n",
       "      <td>125000</td>\n",
       "      <td>petrol</td>\n",
       "      <td>audi</td>\n",
       "      <td>no</td>\n",
       "      <td>2016-03-14 00:00:00</td>\n",
       "      <td>2016-03-20 21:45:10</td>\n",
       "      <td>other</td>\n",
       "    </tr>\n",
       "    <tr>\n",
       "      <th>353686</th>\n",
       "      <td>18429</td>\n",
       "      <td>sedan</td>\n",
       "      <td>2010</td>\n",
       "      <td>manual</td>\n",
       "      <td>272</td>\n",
       "      <td>125000</td>\n",
       "      <td>petrol</td>\n",
       "      <td>bmw</td>\n",
       "      <td>no</td>\n",
       "      <td>2016-03-10 00:00:00</td>\n",
       "      <td>2016-04-01 21:48:04</td>\n",
       "      <td>3er</td>\n",
       "    </tr>\n",
       "    <tr>\n",
       "      <th>353927</th>\n",
       "      <td>18500</td>\n",
       "      <td>sedan</td>\n",
       "      <td>2009</td>\n",
       "      <td>auto</td>\n",
       "      <td>190</td>\n",
       "      <td>150000</td>\n",
       "      <td>petrol</td>\n",
       "      <td>audi</td>\n",
       "      <td>no</td>\n",
       "      <td>2016-03-30 00:00:00</td>\n",
       "      <td>2016-03-30 18:44:53</td>\n",
       "      <td>a4</td>\n",
       "    </tr>\n",
       "    <tr>\n",
       "      <th>354178</th>\n",
       "      <td>19990</td>\n",
       "      <td>small</td>\n",
       "      <td>2014</td>\n",
       "      <td>auto</td>\n",
       "      <td>185</td>\n",
       "      <td>10000</td>\n",
       "      <td>petrol</td>\n",
       "      <td>audi</td>\n",
       "      <td>no</td>\n",
       "      <td>2016-03-13 00:00:00</td>\n",
       "      <td>2016-04-07 03:17:51</td>\n",
       "      <td>a1</td>\n",
       "    </tr>\n",
       "    <tr>\n",
       "      <th>354319</th>\n",
       "      <td>19800</td>\n",
       "      <td>sedan</td>\n",
       "      <td>2011</td>\n",
       "      <td>manual</td>\n",
       "      <td>170</td>\n",
       "      <td>80000</td>\n",
       "      <td>petrol</td>\n",
       "      <td>bmw</td>\n",
       "      <td>no</td>\n",
       "      <td>2016-03-25 00:00:00</td>\n",
       "      <td>2016-04-06 22:47:12</td>\n",
       "      <td>1er</td>\n",
       "    </tr>\n",
       "  </tbody>\n",
       "</table>\n",
       "<p>4450 rows × 12 columns</p>\n",
       "</div>"
      ],
      "text/plain": [
       "        price  vehicletype  registrationyear gearbox  power  kilometer  \\\n",
       "1       18300        coupe              2011  manual    190     125000   \n",
       "172     19750  convertible              2006  manual    305      50000   \n",
       "204     18400        wagon              2011    auto    313     150000   \n",
       "282     18700        coupe              2009    auto    213      80000   \n",
       "337     18880          bus              2014  manual    116      20000   \n",
       "...       ...          ...               ...     ...    ...        ...   \n",
       "353590  19950        wagon              2009  manual    265     125000   \n",
       "353686  18429        sedan              2010  manual    272     125000   \n",
       "353927  18500        sedan              2009    auto    190     150000   \n",
       "354178  19990        small              2014    auto    185      10000   \n",
       "354319  19800        sedan              2011  manual    170      80000   \n",
       "\n",
       "       fueltype  brand repaired          datecreated             lastseen  \\\n",
       "1        petrol   audi      yes  2016-03-24 00:00:00  2016-04-07 01:46:50   \n",
       "172      petrol   ford       no  2016-03-07 00:00:00  2016-03-12 20:18:29   \n",
       "204      petrol    bmw       no  2016-03-31 00:00:00  2016-03-31 13:44:44   \n",
       "282      petrol   ford       no  2016-03-06 00:00:00  2016-04-06 05:44:39   \n",
       "337      petrol  mazda       no  2016-03-20 00:00:00  2016-04-06 08:46:43   \n",
       "...         ...    ...      ...                  ...                  ...   \n",
       "353590   petrol   audi       no  2016-03-14 00:00:00  2016-03-20 21:45:10   \n",
       "353686   petrol    bmw       no  2016-03-10 00:00:00  2016-04-01 21:48:04   \n",
       "353927   petrol   audi       no  2016-03-30 00:00:00  2016-03-30 18:44:53   \n",
       "354178   petrol   audi       no  2016-03-13 00:00:00  2016-04-07 03:17:51   \n",
       "354319   petrol    bmw       no  2016-03-25 00:00:00  2016-04-06 22:47:12   \n",
       "\n",
       "          model  \n",
       "1            a4  \n",
       "172     mustang  \n",
       "204         5er  \n",
       "282     mustang  \n",
       "337     5_reihe  \n",
       "...         ...  \n",
       "353590    other  \n",
       "353686      3er  \n",
       "353927       a4  \n",
       "354178       a1  \n",
       "354319      1er  \n",
       "\n",
       "[4450 rows x 12 columns]"
      ]
     },
     "metadata": {},
     "output_type": "display_data"
    }
   ],
   "source": [
    "display(autos.query('price < 500'))\n",
    "display(autos.query('price > 18000'))"
   ]
  },
  {
   "cell_type": "markdown",
   "metadata": {},
   "source": [
    "Можно заметить, что машины ценой менее 500 евро чаще с большим пробегом и более старой регистрацией. Так же есть машины, которые продавались буквально за пару дней, а есть за месяц. Так как цену назначает сам владелец автомобиля, то он может указать неправдоподобную. Модель в дальнейшем будет хуже предсказывать, поэтому попробуем ограничить время продажи автомобиля.\n",
    "\n",
    "Учитывая, что колонка `datecreated` обозначает дату создания объявления, а `lastseen` дату последней активности пользователя, вычислим разницу между этими двумя колонками. Допускается, что `lastseen` это примерная дата продажи."
   ]
  },
  {
   "cell_type": "code",
   "execution_count": 61,
   "metadata": {},
   "outputs": [],
   "source": [
    "# переведем в тип данных datetime\n",
    "autos[['datecreated', 'lastseen']] = autos[['datecreated', 'lastseen']].apply(pd.to_datetime)"
   ]
  },
  {
   "cell_type": "code",
   "execution_count": 62,
   "metadata": {},
   "outputs": [],
   "source": [
    "# создадим новую колонку с разницей в днях\n",
    "autos['daysold'] = (autos['lastseen'] - autos['datecreated']).dt.days"
   ]
  },
  {
   "cell_type": "code",
   "execution_count": 63,
   "metadata": {
    "scrolled": false
   },
   "outputs": [
    {
     "data": {
      "text/html": [
       "<div>\n",
       "<style scoped>\n",
       "    .dataframe tbody tr th:only-of-type {\n",
       "        vertical-align: middle;\n",
       "    }\n",
       "\n",
       "    .dataframe tbody tr th {\n",
       "        vertical-align: top;\n",
       "    }\n",
       "\n",
       "    .dataframe thead th {\n",
       "        text-align: right;\n",
       "    }\n",
       "</style>\n",
       "<table border=\"1\" class=\"dataframe\">\n",
       "  <thead>\n",
       "    <tr style=\"text-align: right;\">\n",
       "      <th></th>\n",
       "      <th>price</th>\n",
       "      <th>vehicletype</th>\n",
       "      <th>registrationyear</th>\n",
       "      <th>gearbox</th>\n",
       "      <th>power</th>\n",
       "      <th>kilometer</th>\n",
       "      <th>fueltype</th>\n",
       "      <th>brand</th>\n",
       "      <th>repaired</th>\n",
       "      <th>datecreated</th>\n",
       "      <th>lastseen</th>\n",
       "      <th>model</th>\n",
       "      <th>daysold</th>\n",
       "    </tr>\n",
       "  </thead>\n",
       "  <tbody>\n",
       "    <tr>\n",
       "      <th>1</th>\n",
       "      <td>18300</td>\n",
       "      <td>coupe</td>\n",
       "      <td>2011</td>\n",
       "      <td>manual</td>\n",
       "      <td>190</td>\n",
       "      <td>125000</td>\n",
       "      <td>petrol</td>\n",
       "      <td>audi</td>\n",
       "      <td>yes</td>\n",
       "      <td>2016-03-24</td>\n",
       "      <td>2016-04-07 01:46:50</td>\n",
       "      <td>a4</td>\n",
       "      <td>14</td>\n",
       "    </tr>\n",
       "    <tr>\n",
       "      <th>2</th>\n",
       "      <td>9800</td>\n",
       "      <td>suv</td>\n",
       "      <td>2004</td>\n",
       "      <td>auto</td>\n",
       "      <td>163</td>\n",
       "      <td>125000</td>\n",
       "      <td>petrol</td>\n",
       "      <td>jeep</td>\n",
       "      <td>missed</td>\n",
       "      <td>2016-03-14</td>\n",
       "      <td>2016-04-05 12:47:46</td>\n",
       "      <td>grand</td>\n",
       "      <td>22</td>\n",
       "    </tr>\n",
       "    <tr>\n",
       "      <th>3</th>\n",
       "      <td>1500</td>\n",
       "      <td>small</td>\n",
       "      <td>2001</td>\n",
       "      <td>manual</td>\n",
       "      <td>75</td>\n",
       "      <td>150000</td>\n",
       "      <td>petrol</td>\n",
       "      <td>volkswagen</td>\n",
       "      <td>no</td>\n",
       "      <td>2016-03-17</td>\n",
       "      <td>2016-03-17 17:40:17</td>\n",
       "      <td>golf</td>\n",
       "      <td>0</td>\n",
       "    </tr>\n",
       "    <tr>\n",
       "      <th>4</th>\n",
       "      <td>3600</td>\n",
       "      <td>small</td>\n",
       "      <td>2008</td>\n",
       "      <td>manual</td>\n",
       "      <td>69</td>\n",
       "      <td>90000</td>\n",
       "      <td>petrol</td>\n",
       "      <td>skoda</td>\n",
       "      <td>no</td>\n",
       "      <td>2016-03-31</td>\n",
       "      <td>2016-04-06 10:17:21</td>\n",
       "      <td>fabia</td>\n",
       "      <td>6</td>\n",
       "    </tr>\n",
       "    <tr>\n",
       "      <th>5</th>\n",
       "      <td>650</td>\n",
       "      <td>sedan</td>\n",
       "      <td>1995</td>\n",
       "      <td>manual</td>\n",
       "      <td>102</td>\n",
       "      <td>150000</td>\n",
       "      <td>petrol</td>\n",
       "      <td>bmw</td>\n",
       "      <td>yes</td>\n",
       "      <td>2016-04-04</td>\n",
       "      <td>2016-04-06 19:17:07</td>\n",
       "      <td>3er</td>\n",
       "      <td>2</td>\n",
       "    </tr>\n",
       "  </tbody>\n",
       "</table>\n",
       "</div>"
      ],
      "text/plain": [
       "   price vehicletype  registrationyear gearbox  power  kilometer fueltype  \\\n",
       "1  18300       coupe              2011  manual    190     125000   petrol   \n",
       "2   9800         suv              2004    auto    163     125000   petrol   \n",
       "3   1500       small              2001  manual     75     150000   petrol   \n",
       "4   3600       small              2008  manual     69      90000   petrol   \n",
       "5    650       sedan              1995  manual    102     150000   petrol   \n",
       "\n",
       "        brand repaired datecreated            lastseen  model  daysold  \n",
       "1        audi      yes  2016-03-24 2016-04-07 01:46:50     a4       14  \n",
       "2        jeep   missed  2016-03-14 2016-04-05 12:47:46  grand       22  \n",
       "3  volkswagen       no  2016-03-17 2016-03-17 17:40:17   golf        0  \n",
       "4       skoda       no  2016-03-31 2016-04-06 10:17:21  fabia        6  \n",
       "5         bmw      yes  2016-04-04 2016-04-06 19:17:07    3er        2  "
      ]
     },
     "execution_count": 63,
     "metadata": {},
     "output_type": "execute_result"
    }
   ],
   "source": [
    "# check\n",
    "autos.head()"
   ]
  },
  {
   "cell_type": "code",
   "execution_count": 64,
   "metadata": {},
   "outputs": [
    {
     "data": {
      "text/plain": [
       "array([ 14,  22,   0,   6,   2,   4,  11,  17,  16,  13,   9,  19,   1,\n",
       "        27,  12,   8,   3,  51,  21,  15,  20,   5,  28,   7,  23,  18,\n",
       "        24,  10,  29,  55,  30,  26,  33,  31,  32,  25,  37,  41, 384,\n",
       "        35,  36,  48,  45,  40, 136,  42,  52,  63,  61,  34,  49, 122,\n",
       "        53,  47,  60,  38,  39,  50,  44,  46,  59,  88,  43, 141,  74,\n",
       "        58,  94, 193, 146,  91,  54, 133,  56,  62, 108, 244,  68,  65,\n",
       "        96, 135,  70,  80,  89, 125,  83, 150,  81,  69,  72, 239,  95,\n",
       "        64,  78,  57,  98, 109, 110,  66, 149,  67, 121,  73,  71, 209,\n",
       "        99])"
      ]
     },
     "execution_count": 64,
     "metadata": {},
     "output_type": "execute_result"
    }
   ],
   "source": [
    "autos['daysold'].unique()"
   ]
  },
  {
   "cell_type": "markdown",
   "metadata": {},
   "source": [
    "Из названия сервиса делаю вывод, что он ориентирован на российский рынок. Среднее время продажи автомобилей с пробегом на территории РФ 32 дня. Ограничим объявления и удалим те, которые продавались более 90 дней."
   ]
  },
  {
   "cell_type": "code",
   "execution_count": 65,
   "metadata": {
    "scrolled": true
   },
   "outputs": [
    {
     "data": {
      "text/html": [
       "<div>\n",
       "<style scoped>\n",
       "    .dataframe tbody tr th:only-of-type {\n",
       "        vertical-align: middle;\n",
       "    }\n",
       "\n",
       "    .dataframe tbody tr th {\n",
       "        vertical-align: top;\n",
       "    }\n",
       "\n",
       "    .dataframe thead th {\n",
       "        text-align: right;\n",
       "    }\n",
       "</style>\n",
       "<table border=\"1\" class=\"dataframe\">\n",
       "  <thead>\n",
       "    <tr style=\"text-align: right;\">\n",
       "      <th></th>\n",
       "      <th>price</th>\n",
       "      <th>vehicletype</th>\n",
       "      <th>registrationyear</th>\n",
       "      <th>gearbox</th>\n",
       "      <th>power</th>\n",
       "      <th>kilometer</th>\n",
       "      <th>fueltype</th>\n",
       "      <th>brand</th>\n",
       "      <th>repaired</th>\n",
       "      <th>datecreated</th>\n",
       "      <th>lastseen</th>\n",
       "      <th>model</th>\n",
       "      <th>daysold</th>\n",
       "    </tr>\n",
       "  </thead>\n",
       "  <tbody>\n",
       "    <tr>\n",
       "      <th>4001</th>\n",
       "      <td>6000</td>\n",
       "      <td>bus</td>\n",
       "      <td>1995</td>\n",
       "      <td>auto</td>\n",
       "      <td>200</td>\n",
       "      <td>150000</td>\n",
       "      <td>petrol</td>\n",
       "      <td>chevrolet</td>\n",
       "      <td>no</td>\n",
       "      <td>2015-03-20</td>\n",
       "      <td>2016-04-07 03:45:01</td>\n",
       "      <td>other</td>\n",
       "      <td>384</td>\n",
       "    </tr>\n",
       "    <tr>\n",
       "      <th>9972</th>\n",
       "      <td>3490</td>\n",
       "      <td>sedan</td>\n",
       "      <td>2006</td>\n",
       "      <td>manual</td>\n",
       "      <td>88</td>\n",
       "      <td>150000</td>\n",
       "      <td>petrol</td>\n",
       "      <td>renault</td>\n",
       "      <td>no</td>\n",
       "      <td>2015-11-02</td>\n",
       "      <td>2016-03-17 15:46:57</td>\n",
       "      <td>clio</td>\n",
       "      <td>136</td>\n",
       "    </tr>\n",
       "    <tr>\n",
       "      <th>29712</th>\n",
       "      <td>6950</td>\n",
       "      <td>sedan</td>\n",
       "      <td>2004</td>\n",
       "      <td>auto</td>\n",
       "      <td>150</td>\n",
       "      <td>100000</td>\n",
       "      <td>petrol</td>\n",
       "      <td>audi</td>\n",
       "      <td>no</td>\n",
       "      <td>2015-12-06</td>\n",
       "      <td>2016-04-06 14:16:09</td>\n",
       "      <td>a3</td>\n",
       "      <td>122</td>\n",
       "    </tr>\n",
       "    <tr>\n",
       "      <th>60168</th>\n",
       "      <td>5999</td>\n",
       "      <td>sedan</td>\n",
       "      <td>1997</td>\n",
       "      <td>auto</td>\n",
       "      <td>197</td>\n",
       "      <td>150000</td>\n",
       "      <td>petrol</td>\n",
       "      <td>mercedes_benz</td>\n",
       "      <td>no</td>\n",
       "      <td>2015-11-17</td>\n",
       "      <td>2016-04-06 05:46:03</td>\n",
       "      <td>c_klasse</td>\n",
       "      <td>141</td>\n",
       "    </tr>\n",
       "    <tr>\n",
       "      <th>75418</th>\n",
       "      <td>750</td>\n",
       "      <td>wagon</td>\n",
       "      <td>1993</td>\n",
       "      <td>manual</td>\n",
       "      <td>90</td>\n",
       "      <td>150000</td>\n",
       "      <td>petrol</td>\n",
       "      <td>audi</td>\n",
       "      <td>no</td>\n",
       "      <td>2016-01-02</td>\n",
       "      <td>2016-04-05 19:17:02</td>\n",
       "      <td>80</td>\n",
       "      <td>94</td>\n",
       "    </tr>\n",
       "    <tr>\n",
       "      <th>75598</th>\n",
       "      <td>600</td>\n",
       "      <td>small</td>\n",
       "      <td>2005</td>\n",
       "      <td>manual</td>\n",
       "      <td>54</td>\n",
       "      <td>150000</td>\n",
       "      <td>petrol</td>\n",
       "      <td>volkswagen</td>\n",
       "      <td>yes</td>\n",
       "      <td>2015-09-04</td>\n",
       "      <td>2016-03-15 14:16:58</td>\n",
       "      <td>polo</td>\n",
       "      <td>193</td>\n",
       "    </tr>\n",
       "    <tr>\n",
       "      <th>75684</th>\n",
       "      <td>5400</td>\n",
       "      <td>small</td>\n",
       "      <td>2009</td>\n",
       "      <td>manual</td>\n",
       "      <td>44</td>\n",
       "      <td>40000</td>\n",
       "      <td>petrol</td>\n",
       "      <td>lancia</td>\n",
       "      <td>no</td>\n",
       "      <td>2015-11-12</td>\n",
       "      <td>2016-04-06 03:16:57</td>\n",
       "      <td>ypsilon</td>\n",
       "      <td>146</td>\n",
       "    </tr>\n",
       "    <tr>\n",
       "      <th>76459</th>\n",
       "      <td>7500</td>\n",
       "      <td>sedan</td>\n",
       "      <td>2002</td>\n",
       "      <td>auto</td>\n",
       "      <td>333</td>\n",
       "      <td>150000</td>\n",
       "      <td>lpg</td>\n",
       "      <td>bmw</td>\n",
       "      <td>no</td>\n",
       "      <td>2015-12-27</td>\n",
       "      <td>2016-03-27 22:15:37</td>\n",
       "      <td>7er</td>\n",
       "      <td>91</td>\n",
       "    </tr>\n",
       "    <tr>\n",
       "      <th>77378</th>\n",
       "      <td>7999</td>\n",
       "      <td>sedan</td>\n",
       "      <td>2013</td>\n",
       "      <td>manual</td>\n",
       "      <td>75</td>\n",
       "      <td>30000</td>\n",
       "      <td>petrol</td>\n",
       "      <td>seat</td>\n",
       "      <td>no</td>\n",
       "      <td>2015-11-24</td>\n",
       "      <td>2016-04-05 22:47:33</td>\n",
       "      <td>mii</td>\n",
       "      <td>133</td>\n",
       "    </tr>\n",
       "    <tr>\n",
       "      <th>85505</th>\n",
       "      <td>900</td>\n",
       "      <td>sedan</td>\n",
       "      <td>1997</td>\n",
       "      <td>auto</td>\n",
       "      <td>115</td>\n",
       "      <td>150000</td>\n",
       "      <td>petrol</td>\n",
       "      <td>subaru</td>\n",
       "      <td>no</td>\n",
       "      <td>2015-12-05</td>\n",
       "      <td>2016-03-22 23:16:25</td>\n",
       "      <td>impreza</td>\n",
       "      <td>108</td>\n",
       "    </tr>\n",
       "    <tr>\n",
       "      <th>86601</th>\n",
       "      <td>14250</td>\n",
       "      <td>convertible</td>\n",
       "      <td>2005</td>\n",
       "      <td>manual</td>\n",
       "      <td>163</td>\n",
       "      <td>150000</td>\n",
       "      <td>petrol</td>\n",
       "      <td>mercedes_benz</td>\n",
       "      <td>no</td>\n",
       "      <td>2015-08-07</td>\n",
       "      <td>2016-04-07 09:15:23</td>\n",
       "      <td>slk</td>\n",
       "      <td>244</td>\n",
       "    </tr>\n",
       "    <tr>\n",
       "      <th>110485</th>\n",
       "      <td>750</td>\n",
       "      <td>wagon</td>\n",
       "      <td>1993</td>\n",
       "      <td>manual</td>\n",
       "      <td>90</td>\n",
       "      <td>150000</td>\n",
       "      <td>petrol</td>\n",
       "      <td>audi</td>\n",
       "      <td>no</td>\n",
       "      <td>2016-01-02</td>\n",
       "      <td>2016-04-07 08:44:24</td>\n",
       "      <td>80</td>\n",
       "      <td>96</td>\n",
       "    </tr>\n",
       "    <tr>\n",
       "      <th>125286</th>\n",
       "      <td>7999</td>\n",
       "      <td>sedan</td>\n",
       "      <td>2013</td>\n",
       "      <td>manual</td>\n",
       "      <td>75</td>\n",
       "      <td>30000</td>\n",
       "      <td>petrol</td>\n",
       "      <td>seat</td>\n",
       "      <td>no</td>\n",
       "      <td>2015-11-24</td>\n",
       "      <td>2016-04-07 11:25:36</td>\n",
       "      <td>mii</td>\n",
       "      <td>135</td>\n",
       "    </tr>\n",
       "    <tr>\n",
       "      <th>153650</th>\n",
       "      <td>11999</td>\n",
       "      <td>small</td>\n",
       "      <td>2008</td>\n",
       "      <td>manual</td>\n",
       "      <td>150</td>\n",
       "      <td>90000</td>\n",
       "      <td>petrol</td>\n",
       "      <td>opel</td>\n",
       "      <td>no</td>\n",
       "      <td>2015-11-23</td>\n",
       "      <td>2016-03-27 17:44:16</td>\n",
       "      <td>corsa</td>\n",
       "      <td>125</td>\n",
       "    </tr>\n",
       "    <tr>\n",
       "      <th>161567</th>\n",
       "      <td>15500</td>\n",
       "      <td>wagon</td>\n",
       "      <td>2009</td>\n",
       "      <td>manual</td>\n",
       "      <td>160</td>\n",
       "      <td>100000</td>\n",
       "      <td>petrol</td>\n",
       "      <td>audi</td>\n",
       "      <td>no</td>\n",
       "      <td>2015-11-08</td>\n",
       "      <td>2016-04-06 23:15:36</td>\n",
       "      <td>a4</td>\n",
       "      <td>150</td>\n",
       "    </tr>\n",
       "    <tr>\n",
       "      <th>175103</th>\n",
       "      <td>5200</td>\n",
       "      <td>convertible</td>\n",
       "      <td>2006</td>\n",
       "      <td>manual</td>\n",
       "      <td>109</td>\n",
       "      <td>80000</td>\n",
       "      <td>petrol</td>\n",
       "      <td>peugeot</td>\n",
       "      <td>no</td>\n",
       "      <td>2015-08-10</td>\n",
       "      <td>2016-04-05 20:46:54</td>\n",
       "      <td>2_reihe</td>\n",
       "      <td>239</td>\n",
       "    </tr>\n",
       "    <tr>\n",
       "      <th>180144</th>\n",
       "      <td>14499</td>\n",
       "      <td>sedan</td>\n",
       "      <td>2006</td>\n",
       "      <td>manual</td>\n",
       "      <td>250</td>\n",
       "      <td>90000</td>\n",
       "      <td>petrol</td>\n",
       "      <td>volkswagen</td>\n",
       "      <td>no</td>\n",
       "      <td>2016-01-03</td>\n",
       "      <td>2016-04-07 14:56:36</td>\n",
       "      <td>golf</td>\n",
       "      <td>95</td>\n",
       "    </tr>\n",
       "    <tr>\n",
       "      <th>221002</th>\n",
       "      <td>600</td>\n",
       "      <td>small</td>\n",
       "      <td>2005</td>\n",
       "      <td>manual</td>\n",
       "      <td>54</td>\n",
       "      <td>150000</td>\n",
       "      <td>petrol</td>\n",
       "      <td>volkswagen</td>\n",
       "      <td>yes</td>\n",
       "      <td>2015-09-04</td>\n",
       "      <td>2016-03-15 15:49:29</td>\n",
       "      <td>polo</td>\n",
       "      <td>193</td>\n",
       "    </tr>\n",
       "    <tr>\n",
       "      <th>226822</th>\n",
       "      <td>900</td>\n",
       "      <td>sedan</td>\n",
       "      <td>1997</td>\n",
       "      <td>auto</td>\n",
       "      <td>115</td>\n",
       "      <td>150000</td>\n",
       "      <td>petrol</td>\n",
       "      <td>subaru</td>\n",
       "      <td>no</td>\n",
       "      <td>2015-12-05</td>\n",
       "      <td>2016-03-22 20:16:42</td>\n",
       "      <td>impreza</td>\n",
       "      <td>108</td>\n",
       "    </tr>\n",
       "    <tr>\n",
       "      <th>244633</th>\n",
       "      <td>2400</td>\n",
       "      <td>sedan</td>\n",
       "      <td>2004</td>\n",
       "      <td>auto</td>\n",
       "      <td>61</td>\n",
       "      <td>90000</td>\n",
       "      <td>petrol</td>\n",
       "      <td>smart</td>\n",
       "      <td>no</td>\n",
       "      <td>2015-12-30</td>\n",
       "      <td>2016-04-06 15:17:11</td>\n",
       "      <td>fortwo</td>\n",
       "      <td>98</td>\n",
       "    </tr>\n",
       "    <tr>\n",
       "      <th>260635</th>\n",
       "      <td>900</td>\n",
       "      <td>sedan</td>\n",
       "      <td>1997</td>\n",
       "      <td>auto</td>\n",
       "      <td>115</td>\n",
       "      <td>150000</td>\n",
       "      <td>petrol</td>\n",
       "      <td>subaru</td>\n",
       "      <td>no</td>\n",
       "      <td>2015-12-05</td>\n",
       "      <td>2016-03-23 13:56:25</td>\n",
       "      <td>impreza</td>\n",
       "      <td>109</td>\n",
       "    </tr>\n",
       "    <tr>\n",
       "      <th>274600</th>\n",
       "      <td>9999</td>\n",
       "      <td>wagon</td>\n",
       "      <td>2006</td>\n",
       "      <td>auto</td>\n",
       "      <td>140</td>\n",
       "      <td>150000</td>\n",
       "      <td>petrol</td>\n",
       "      <td>audi</td>\n",
       "      <td>no</td>\n",
       "      <td>2015-12-17</td>\n",
       "      <td>2016-04-05 12:45:51</td>\n",
       "      <td>a4</td>\n",
       "      <td>110</td>\n",
       "    </tr>\n",
       "    <tr>\n",
       "      <th>282938</th>\n",
       "      <td>5499</td>\n",
       "      <td>sedan</td>\n",
       "      <td>2009</td>\n",
       "      <td>manual</td>\n",
       "      <td>95</td>\n",
       "      <td>70000</td>\n",
       "      <td>petrol</td>\n",
       "      <td>peugeot</td>\n",
       "      <td>no</td>\n",
       "      <td>2015-11-10</td>\n",
       "      <td>2016-04-07 09:15:21</td>\n",
       "      <td>2_reihe</td>\n",
       "      <td>149</td>\n",
       "    </tr>\n",
       "    <tr>\n",
       "      <th>288964</th>\n",
       "      <td>7950</td>\n",
       "      <td>convertible</td>\n",
       "      <td>2010</td>\n",
       "      <td>manual</td>\n",
       "      <td>69</td>\n",
       "      <td>80000</td>\n",
       "      <td>petrol</td>\n",
       "      <td>fiat</td>\n",
       "      <td>no</td>\n",
       "      <td>2016-01-07</td>\n",
       "      <td>2016-04-07 04:46:28</td>\n",
       "      <td>500</td>\n",
       "      <td>91</td>\n",
       "    </tr>\n",
       "    <tr>\n",
       "      <th>301180</th>\n",
       "      <td>5900</td>\n",
       "      <td>convertible</td>\n",
       "      <td>1995</td>\n",
       "      <td>manual</td>\n",
       "      <td>90</td>\n",
       "      <td>125000</td>\n",
       "      <td>petrol</td>\n",
       "      <td>mazda</td>\n",
       "      <td>missed</td>\n",
       "      <td>2015-11-23</td>\n",
       "      <td>2016-03-23 07:18:38</td>\n",
       "      <td>mx_reihe</td>\n",
       "      <td>121</td>\n",
       "    </tr>\n",
       "    <tr>\n",
       "      <th>340616</th>\n",
       "      <td>9500</td>\n",
       "      <td>small</td>\n",
       "      <td>2013</td>\n",
       "      <td>manual</td>\n",
       "      <td>90</td>\n",
       "      <td>50000</td>\n",
       "      <td>petrol</td>\n",
       "      <td>opel</td>\n",
       "      <td>no</td>\n",
       "      <td>2015-09-09</td>\n",
       "      <td>2016-04-05 17:46:04</td>\n",
       "      <td>corsa</td>\n",
       "      <td>209</td>\n",
       "    </tr>\n",
       "    <tr>\n",
       "      <th>343447</th>\n",
       "      <td>18500</td>\n",
       "      <td>sedan</td>\n",
       "      <td>2015</td>\n",
       "      <td>manual</td>\n",
       "      <td>110</td>\n",
       "      <td>10000</td>\n",
       "      <td>petrol</td>\n",
       "      <td>volkswagen</td>\n",
       "      <td>no</td>\n",
       "      <td>2015-12-30</td>\n",
       "      <td>2016-04-07 07:15:41</td>\n",
       "      <td>golf</td>\n",
       "      <td>99</td>\n",
       "    </tr>\n",
       "    <tr>\n",
       "      <th>349957</th>\n",
       "      <td>750</td>\n",
       "      <td>wagon</td>\n",
       "      <td>1993</td>\n",
       "      <td>manual</td>\n",
       "      <td>90</td>\n",
       "      <td>150000</td>\n",
       "      <td>petrol</td>\n",
       "      <td>audi</td>\n",
       "      <td>no</td>\n",
       "      <td>2016-01-02</td>\n",
       "      <td>2016-04-06 15:16:26</td>\n",
       "      <td>80</td>\n",
       "      <td>95</td>\n",
       "    </tr>\n",
       "  </tbody>\n",
       "</table>\n",
       "</div>"
      ],
      "text/plain": [
       "        price  vehicletype  registrationyear gearbox  power  kilometer  \\\n",
       "4001     6000          bus              1995    auto    200     150000   \n",
       "9972     3490        sedan              2006  manual     88     150000   \n",
       "29712    6950        sedan              2004    auto    150     100000   \n",
       "60168    5999        sedan              1997    auto    197     150000   \n",
       "75418     750        wagon              1993  manual     90     150000   \n",
       "75598     600        small              2005  manual     54     150000   \n",
       "75684    5400        small              2009  manual     44      40000   \n",
       "76459    7500        sedan              2002    auto    333     150000   \n",
       "77378    7999        sedan              2013  manual     75      30000   \n",
       "85505     900        sedan              1997    auto    115     150000   \n",
       "86601   14250  convertible              2005  manual    163     150000   \n",
       "110485    750        wagon              1993  manual     90     150000   \n",
       "125286   7999        sedan              2013  manual     75      30000   \n",
       "153650  11999        small              2008  manual    150      90000   \n",
       "161567  15500        wagon              2009  manual    160     100000   \n",
       "175103   5200  convertible              2006  manual    109      80000   \n",
       "180144  14499        sedan              2006  manual    250      90000   \n",
       "221002    600        small              2005  manual     54     150000   \n",
       "226822    900        sedan              1997    auto    115     150000   \n",
       "244633   2400        sedan              2004    auto     61      90000   \n",
       "260635    900        sedan              1997    auto    115     150000   \n",
       "274600   9999        wagon              2006    auto    140     150000   \n",
       "282938   5499        sedan              2009  manual     95      70000   \n",
       "288964   7950  convertible              2010  manual     69      80000   \n",
       "301180   5900  convertible              1995  manual     90     125000   \n",
       "340616   9500        small              2013  manual     90      50000   \n",
       "343447  18500        sedan              2015  manual    110      10000   \n",
       "349957    750        wagon              1993  manual     90     150000   \n",
       "\n",
       "       fueltype          brand repaired datecreated            lastseen  \\\n",
       "4001     petrol      chevrolet       no  2015-03-20 2016-04-07 03:45:01   \n",
       "9972     petrol        renault       no  2015-11-02 2016-03-17 15:46:57   \n",
       "29712    petrol           audi       no  2015-12-06 2016-04-06 14:16:09   \n",
       "60168    petrol  mercedes_benz       no  2015-11-17 2016-04-06 05:46:03   \n",
       "75418    petrol           audi       no  2016-01-02 2016-04-05 19:17:02   \n",
       "75598    petrol     volkswagen      yes  2015-09-04 2016-03-15 14:16:58   \n",
       "75684    petrol         lancia       no  2015-11-12 2016-04-06 03:16:57   \n",
       "76459       lpg            bmw       no  2015-12-27 2016-03-27 22:15:37   \n",
       "77378    petrol           seat       no  2015-11-24 2016-04-05 22:47:33   \n",
       "85505    petrol         subaru       no  2015-12-05 2016-03-22 23:16:25   \n",
       "86601    petrol  mercedes_benz       no  2015-08-07 2016-04-07 09:15:23   \n",
       "110485   petrol           audi       no  2016-01-02 2016-04-07 08:44:24   \n",
       "125286   petrol           seat       no  2015-11-24 2016-04-07 11:25:36   \n",
       "153650   petrol           opel       no  2015-11-23 2016-03-27 17:44:16   \n",
       "161567   petrol           audi       no  2015-11-08 2016-04-06 23:15:36   \n",
       "175103   petrol        peugeot       no  2015-08-10 2016-04-05 20:46:54   \n",
       "180144   petrol     volkswagen       no  2016-01-03 2016-04-07 14:56:36   \n",
       "221002   petrol     volkswagen      yes  2015-09-04 2016-03-15 15:49:29   \n",
       "226822   petrol         subaru       no  2015-12-05 2016-03-22 20:16:42   \n",
       "244633   petrol          smart       no  2015-12-30 2016-04-06 15:17:11   \n",
       "260635   petrol         subaru       no  2015-12-05 2016-03-23 13:56:25   \n",
       "274600   petrol           audi       no  2015-12-17 2016-04-05 12:45:51   \n",
       "282938   petrol        peugeot       no  2015-11-10 2016-04-07 09:15:21   \n",
       "288964   petrol           fiat       no  2016-01-07 2016-04-07 04:46:28   \n",
       "301180   petrol          mazda   missed  2015-11-23 2016-03-23 07:18:38   \n",
       "340616   petrol           opel       no  2015-09-09 2016-04-05 17:46:04   \n",
       "343447   petrol     volkswagen       no  2015-12-30 2016-04-07 07:15:41   \n",
       "349957   petrol           audi       no  2016-01-02 2016-04-06 15:16:26   \n",
       "\n",
       "           model  daysold  \n",
       "4001       other      384  \n",
       "9972        clio      136  \n",
       "29712         a3      122  \n",
       "60168   c_klasse      141  \n",
       "75418         80       94  \n",
       "75598       polo      193  \n",
       "75684    ypsilon      146  \n",
       "76459        7er       91  \n",
       "77378        mii      133  \n",
       "85505    impreza      108  \n",
       "86601        slk      244  \n",
       "110485        80       96  \n",
       "125286       mii      135  \n",
       "153650     corsa      125  \n",
       "161567        a4      150  \n",
       "175103   2_reihe      239  \n",
       "180144      golf       95  \n",
       "221002      polo      193  \n",
       "226822   impreza      108  \n",
       "244633    fortwo       98  \n",
       "260635   impreza      109  \n",
       "274600        a4      110  \n",
       "282938   2_reihe      149  \n",
       "288964       500       91  \n",
       "301180  mx_reihe      121  \n",
       "340616     corsa      209  \n",
       "343447      golf       99  \n",
       "349957        80       95  "
      ]
     },
     "execution_count": 65,
     "metadata": {},
     "output_type": "execute_result"
    }
   ],
   "source": [
    "autos.query('daysold > 90')"
   ]
  },
  {
   "cell_type": "markdown",
   "metadata": {},
   "source": [
    "Таких объявлений немного."
   ]
  },
  {
   "cell_type": "code",
   "execution_count": 66,
   "metadata": {},
   "outputs": [],
   "source": [
    "autos = autos.query('daysold < 91')"
   ]
  },
  {
   "cell_type": "markdown",
   "metadata": {},
   "source": [
    "Далее ограничим нижнюю границу цены. Для этого построим диаграмму размаха."
   ]
  },
  {
   "cell_type": "code",
   "execution_count": 67,
   "metadata": {
    "scrolled": false
   },
   "outputs": [
    {
     "data": {
      "image/png": "[encoded data removed]",
      "text/plain": [
       "<Figure size 842.4x597.6 with 1 Axes>"
      ]
     },
     "metadata": {
      "needs_background": "light"
     },
     "output_type": "display_data"
    }
   ],
   "source": [
    "fig = plt.subplots(figsize=(11.7, 8.3))\n",
    "ax = sns.boxplot(data=autos['price'].values)\n",
    "plt.title('Диаграмма размаха по цене автомобиля', fontsize=12)\n",
    "plt.ylabel('цена (евро)',fontsize=12);\n",
    "plt.show()"
   ]
  },
  {
   "cell_type": "markdown",
   "metadata": {},
   "source": [
    "Видно, что цена в 1 евро не считается выбросом в диаграмме размаха.\n",
    "\n",
    "В другом сервисе с более 100000 объявлений есть только одно ценой 300 евро, при этом машина в плохом состоянии. Учитывая это, ограничим нижнюю границу в 500 евро."
   ]
  },
  {
   "cell_type": "code",
   "execution_count": 68,
   "metadata": {
    "scrolled": false
   },
   "outputs": [
    {
     "data": {
      "text/html": [
       "<div>\n",
       "<style scoped>\n",
       "    .dataframe tbody tr th:only-of-type {\n",
       "        vertical-align: middle;\n",
       "    }\n",
       "\n",
       "    .dataframe tbody tr th {\n",
       "        vertical-align: top;\n",
       "    }\n",
       "\n",
       "    .dataframe thead th {\n",
       "        text-align: right;\n",
       "    }\n",
       "</style>\n",
       "<table border=\"1\" class=\"dataframe\">\n",
       "  <thead>\n",
       "    <tr style=\"text-align: right;\">\n",
       "      <th></th>\n",
       "      <th>price</th>\n",
       "      <th>vehicletype</th>\n",
       "      <th>registrationyear</th>\n",
       "      <th>gearbox</th>\n",
       "      <th>power</th>\n",
       "      <th>kilometer</th>\n",
       "      <th>fueltype</th>\n",
       "      <th>brand</th>\n",
       "      <th>repaired</th>\n",
       "      <th>datecreated</th>\n",
       "      <th>lastseen</th>\n",
       "      <th>model</th>\n",
       "      <th>daysold</th>\n",
       "    </tr>\n",
       "  </thead>\n",
       "  <tbody>\n",
       "    <tr>\n",
       "      <th>16</th>\n",
       "      <td>300</td>\n",
       "      <td>small</td>\n",
       "      <td>2016</td>\n",
       "      <td>manual</td>\n",
       "      <td>60</td>\n",
       "      <td>150000</td>\n",
       "      <td>petrol</td>\n",
       "      <td>volkswagen</td>\n",
       "      <td>missed</td>\n",
       "      <td>2016-04-01</td>\n",
       "      <td>2016-04-01 12:46:46</td>\n",
       "      <td>polo</td>\n",
       "      <td>0</td>\n",
       "    </tr>\n",
       "    <tr>\n",
       "      <th>23</th>\n",
       "      <td>450</td>\n",
       "      <td>small</td>\n",
       "      <td>1997</td>\n",
       "      <td>manual</td>\n",
       "      <td>50</td>\n",
       "      <td>150000</td>\n",
       "      <td>petrol</td>\n",
       "      <td>seat</td>\n",
       "      <td>no</td>\n",
       "      <td>2016-03-12</td>\n",
       "      <td>2016-03-21 01:46:11</td>\n",
       "      <td>arosa</td>\n",
       "      <td>9</td>\n",
       "    </tr>\n",
       "    <tr>\n",
       "      <th>35</th>\n",
       "      <td>350</td>\n",
       "      <td>sedan</td>\n",
       "      <td>2016</td>\n",
       "      <td>manual</td>\n",
       "      <td>75</td>\n",
       "      <td>150000</td>\n",
       "      <td>petrol</td>\n",
       "      <td>volkswagen</td>\n",
       "      <td>no</td>\n",
       "      <td>2016-03-08</td>\n",
       "      <td>2016-03-08 09:44:50</td>\n",
       "      <td>golf</td>\n",
       "      <td>0</td>\n",
       "    </tr>\n",
       "    <tr>\n",
       "      <th>59</th>\n",
       "      <td>1</td>\n",
       "      <td>suv</td>\n",
       "      <td>1994</td>\n",
       "      <td>manual</td>\n",
       "      <td>286</td>\n",
       "      <td>150000</td>\n",
       "      <td>petrol</td>\n",
       "      <td>sonstige_autos</td>\n",
       "      <td>missed</td>\n",
       "      <td>2016-03-29</td>\n",
       "      <td>2016-04-06 01:44:38</td>\n",
       "      <td>golf</td>\n",
       "      <td>8</td>\n",
       "    </tr>\n",
       "    <tr>\n",
       "      <th>60</th>\n",
       "      <td>200</td>\n",
       "      <td>coupe</td>\n",
       "      <td>1995</td>\n",
       "      <td>manual</td>\n",
       "      <td>102</td>\n",
       "      <td>150000</td>\n",
       "      <td>petrol</td>\n",
       "      <td>bmw</td>\n",
       "      <td>missed</td>\n",
       "      <td>2016-03-26</td>\n",
       "      <td>2016-04-01 20:46:51</td>\n",
       "      <td>3er</td>\n",
       "      <td>6</td>\n",
       "    </tr>\n",
       "    <tr>\n",
       "      <th>...</th>\n",
       "      <td>...</td>\n",
       "      <td>...</td>\n",
       "      <td>...</td>\n",
       "      <td>...</td>\n",
       "      <td>...</td>\n",
       "      <td>...</td>\n",
       "      <td>...</td>\n",
       "      <td>...</td>\n",
       "      <td>...</td>\n",
       "      <td>...</td>\n",
       "      <td>...</td>\n",
       "      <td>...</td>\n",
       "      <td>...</td>\n",
       "    </tr>\n",
       "    <tr>\n",
       "      <th>354293</th>\n",
       "      <td>480</td>\n",
       "      <td>sedan</td>\n",
       "      <td>1996</td>\n",
       "      <td>manual</td>\n",
       "      <td>136</td>\n",
       "      <td>150000</td>\n",
       "      <td>petrol</td>\n",
       "      <td>mercedes_benz</td>\n",
       "      <td>missed</td>\n",
       "      <td>2016-04-02</td>\n",
       "      <td>2016-04-06 13:17:50</td>\n",
       "      <td>c_klasse</td>\n",
       "      <td>4</td>\n",
       "    </tr>\n",
       "    <tr>\n",
       "      <th>354296</th>\n",
       "      <td>450</td>\n",
       "      <td>small</td>\n",
       "      <td>1997</td>\n",
       "      <td>manual</td>\n",
       "      <td>102</td>\n",
       "      <td>150000</td>\n",
       "      <td>petrol</td>\n",
       "      <td>bmw</td>\n",
       "      <td>no</td>\n",
       "      <td>2016-03-30</td>\n",
       "      <td>2016-04-01 14:46:24</td>\n",
       "      <td>3er</td>\n",
       "      <td>2</td>\n",
       "    </tr>\n",
       "    <tr>\n",
       "      <th>354297</th>\n",
       "      <td>400</td>\n",
       "      <td>wagon</td>\n",
       "      <td>1996</td>\n",
       "      <td>manual</td>\n",
       "      <td>150</td>\n",
       "      <td>150000</td>\n",
       "      <td>petrol</td>\n",
       "      <td>audi</td>\n",
       "      <td>missed</td>\n",
       "      <td>2016-03-11</td>\n",
       "      <td>2016-03-11 13:43:10</td>\n",
       "      <td>a4</td>\n",
       "      <td>0</td>\n",
       "    </tr>\n",
       "    <tr>\n",
       "      <th>354309</th>\n",
       "      <td>99</td>\n",
       "      <td>small</td>\n",
       "      <td>1999</td>\n",
       "      <td>manual</td>\n",
       "      <td>60</td>\n",
       "      <td>150000</td>\n",
       "      <td>petrol</td>\n",
       "      <td>seat</td>\n",
       "      <td>yes</td>\n",
       "      <td>2016-03-09</td>\n",
       "      <td>2016-04-06 22:15:32</td>\n",
       "      <td>arosa</td>\n",
       "      <td>28</td>\n",
       "    </tr>\n",
       "    <tr>\n",
       "      <th>354329</th>\n",
       "      <td>350</td>\n",
       "      <td>small</td>\n",
       "      <td>1996</td>\n",
       "      <td>manual</td>\n",
       "      <td>65</td>\n",
       "      <td>150000</td>\n",
       "      <td>petrol</td>\n",
       "      <td>fiat</td>\n",
       "      <td>missed</td>\n",
       "      <td>2016-03-30</td>\n",
       "      <td>2016-04-07 13:50:41</td>\n",
       "      <td>punto</td>\n",
       "      <td>8</td>\n",
       "    </tr>\n",
       "  </tbody>\n",
       "</table>\n",
       "<p>16785 rows × 13 columns</p>\n",
       "</div>"
      ],
      "text/plain": [
       "        price vehicletype  registrationyear gearbox  power  kilometer  \\\n",
       "16        300       small              2016  manual     60     150000   \n",
       "23        450       small              1997  manual     50     150000   \n",
       "35        350       sedan              2016  manual     75     150000   \n",
       "59          1         suv              1994  manual    286     150000   \n",
       "60        200       coupe              1995  manual    102     150000   \n",
       "...       ...         ...               ...     ...    ...        ...   \n",
       "354293    480       sedan              1996  manual    136     150000   \n",
       "354296    450       small              1997  manual    102     150000   \n",
       "354297    400       wagon              1996  manual    150     150000   \n",
       "354309     99       small              1999  manual     60     150000   \n",
       "354329    350       small              1996  manual     65     150000   \n",
       "\n",
       "       fueltype           brand repaired datecreated            lastseen  \\\n",
       "16       petrol      volkswagen   missed  2016-04-01 2016-04-01 12:46:46   \n",
       "23       petrol            seat       no  2016-03-12 2016-03-21 01:46:11   \n",
       "35       petrol      volkswagen       no  2016-03-08 2016-03-08 09:44:50   \n",
       "59       petrol  sonstige_autos   missed  2016-03-29 2016-04-06 01:44:38   \n",
       "60       petrol             bmw   missed  2016-03-26 2016-04-01 20:46:51   \n",
       "...         ...             ...      ...         ...                 ...   \n",
       "354293   petrol   mercedes_benz   missed  2016-04-02 2016-04-06 13:17:50   \n",
       "354296   petrol             bmw       no  2016-03-30 2016-04-01 14:46:24   \n",
       "354297   petrol            audi   missed  2016-03-11 2016-03-11 13:43:10   \n",
       "354309   petrol            seat      yes  2016-03-09 2016-04-06 22:15:32   \n",
       "354329   petrol            fiat   missed  2016-03-30 2016-04-07 13:50:41   \n",
       "\n",
       "           model  daysold  \n",
       "16          polo        0  \n",
       "23         arosa        9  \n",
       "35          golf        0  \n",
       "59          golf        8  \n",
       "60           3er        6  \n",
       "...          ...      ...  \n",
       "354293  c_klasse        4  \n",
       "354296       3er        2  \n",
       "354297        a4        0  \n",
       "354309     arosa       28  \n",
       "354329     punto        8  \n",
       "\n",
       "[16785 rows x 13 columns]"
      ]
     },
     "execution_count": 68,
     "metadata": {},
     "output_type": "execute_result"
    }
   ],
   "source": [
    "autos.query('price < 500')"
   ]
  },
  {
   "cell_type": "markdown",
   "metadata": {},
   "source": [
    "Таких объявлений почти 8000 и почти все с пробегом более 150000 км. Удалим их."
   ]
  },
  {
   "cell_type": "code",
   "execution_count": 69,
   "metadata": {},
   "outputs": [],
   "source": [
    "autos = autos.query('price > 499')"
   ]
  },
  {
   "cell_type": "code",
   "execution_count": 70,
   "metadata": {
    "scrolled": true
   },
   "outputs": [
    {
     "data": {
      "text/plain": [
       "count    274610.000000\n",
       "mean       5106.960912\n",
       "std        4591.128542\n",
       "min         500.000000\n",
       "25%        1500.000000\n",
       "50%        3500.000000\n",
       "75%        7300.000000\n",
       "max       20000.000000\n",
       "Name: price, dtype: float64"
      ]
     },
     "execution_count": 70,
     "metadata": {},
     "output_type": "execute_result"
    }
   ],
   "source": [
    "#check\n",
    "autos['price'].describe()"
   ]
  },
  {
   "cell_type": "markdown",
   "metadata": {},
   "source": [
    "### Вывод"
   ]
  },
  {
   "cell_type": "markdown",
   "metadata": {},
   "source": [
    "В предобработке данных избавились от пропущенных значений и аномалий. Было решено удалить пропуски, чтобы не исказить данные, так как нет способа достоверно заполнить их."
   ]
  },
  {
   "cell_type": "code",
   "execution_count": 71,
   "metadata": {
    "scrolled": false
   },
   "outputs": [
    {
     "data": {
      "image/png": "[encoded data removed]",
      "text/plain": [
       "<Figure size 1440x1440 with 9 Axes>"
      ]
     },
     "metadata": {
      "needs_background": "light"
     },
     "output_type": "display_data"
    }
   ],
   "source": [
    "autos.hist(bins=30, figsize=(20,20), grid=False);"
   ]
  },
  {
   "cell_type": "markdown",
   "metadata": {},
   "source": [
    "В дальнейшем нам не понадобятся колонки `datecreated` и `lastseen`."
   ]
  },
  {
   "cell_type": "code",
   "execution_count": 72,
   "metadata": {},
   "outputs": [],
   "source": [
    "autos = autos.drop(['datecreated', 'lastseen'], axis=1)"
   ]
  },
  {
   "cell_type": "markdown",
   "metadata": {},
   "source": [
    "Посмотрим на корреляцию признаков с целевым признаком."
   ]
  },
  {
   "cell_type": "code",
   "execution_count": 73,
   "metadata": {
    "scrolled": false
   },
   "outputs": [
    {
     "data": {
      "image/png": "[encoded data removed]",
      "text/plain": [
       "<Figure size 842.4x597.6 with 2 Axes>"
      ]
     },
     "metadata": {
      "needs_background": "light"
     },
     "output_type": "display_data"
    }
   ],
   "source": [
    "fig = plt.subplots(figsize=(11.7, 8.3))\n",
    "ax = sns.heatmap(autos.corr(), cmap=\"YlGnBu\", annot=True);\n",
    "plt.show()"
   ]
  },
  {
   "cell_type": "markdown",
   "metadata": {},
   "source": [
    "* средняя положительная корреляция цены с годом регистрации;\n",
    "* средняя положительная корреляция цены с мощностью двигателя;\n",
    "* средняя отрицательная корреляция цены с пробегом."
   ]
  },
  {
   "cell_type": "markdown",
   "metadata": {},
   "source": [
    "Так же новая колонка `daysold` в дальнейшем не понадобится."
   ]
  },
  {
   "cell_type": "code",
   "execution_count": 74,
   "metadata": {},
   "outputs": [],
   "source": [
    "autos = autos.drop('daysold', axis=1)"
   ]
  },
  {
   "cell_type": "code",
   "execution_count": 75,
   "metadata": {},
   "outputs": [
    {
     "data": {
      "text/html": [
       "<div>\n",
       "<style scoped>\n",
       "    .dataframe tbody tr th:only-of-type {\n",
       "        vertical-align: middle;\n",
       "    }\n",
       "\n",
       "    .dataframe tbody tr th {\n",
       "        vertical-align: top;\n",
       "    }\n",
       "\n",
       "    .dataframe thead th {\n",
       "        text-align: right;\n",
       "    }\n",
       "</style>\n",
       "<table border=\"1\" class=\"dataframe\">\n",
       "  <thead>\n",
       "    <tr style=\"text-align: right;\">\n",
       "      <th></th>\n",
       "      <th>price</th>\n",
       "      <th>vehicletype</th>\n",
       "      <th>registrationyear</th>\n",
       "      <th>gearbox</th>\n",
       "      <th>power</th>\n",
       "      <th>kilometer</th>\n",
       "      <th>fueltype</th>\n",
       "      <th>brand</th>\n",
       "      <th>repaired</th>\n",
       "      <th>model</th>\n",
       "    </tr>\n",
       "  </thead>\n",
       "  <tbody>\n",
       "    <tr>\n",
       "      <th>1</th>\n",
       "      <td>18300</td>\n",
       "      <td>coupe</td>\n",
       "      <td>2011</td>\n",
       "      <td>manual</td>\n",
       "      <td>190</td>\n",
       "      <td>125000</td>\n",
       "      <td>petrol</td>\n",
       "      <td>audi</td>\n",
       "      <td>yes</td>\n",
       "      <td>a4</td>\n",
       "    </tr>\n",
       "    <tr>\n",
       "      <th>2</th>\n",
       "      <td>9800</td>\n",
       "      <td>suv</td>\n",
       "      <td>2004</td>\n",
       "      <td>auto</td>\n",
       "      <td>163</td>\n",
       "      <td>125000</td>\n",
       "      <td>petrol</td>\n",
       "      <td>jeep</td>\n",
       "      <td>missed</td>\n",
       "      <td>grand</td>\n",
       "    </tr>\n",
       "    <tr>\n",
       "      <th>3</th>\n",
       "      <td>1500</td>\n",
       "      <td>small</td>\n",
       "      <td>2001</td>\n",
       "      <td>manual</td>\n",
       "      <td>75</td>\n",
       "      <td>150000</td>\n",
       "      <td>petrol</td>\n",
       "      <td>volkswagen</td>\n",
       "      <td>no</td>\n",
       "      <td>golf</td>\n",
       "    </tr>\n",
       "    <tr>\n",
       "      <th>4</th>\n",
       "      <td>3600</td>\n",
       "      <td>small</td>\n",
       "      <td>2008</td>\n",
       "      <td>manual</td>\n",
       "      <td>69</td>\n",
       "      <td>90000</td>\n",
       "      <td>petrol</td>\n",
       "      <td>skoda</td>\n",
       "      <td>no</td>\n",
       "      <td>fabia</td>\n",
       "    </tr>\n",
       "    <tr>\n",
       "      <th>5</th>\n",
       "      <td>650</td>\n",
       "      <td>sedan</td>\n",
       "      <td>1995</td>\n",
       "      <td>manual</td>\n",
       "      <td>102</td>\n",
       "      <td>150000</td>\n",
       "      <td>petrol</td>\n",
       "      <td>bmw</td>\n",
       "      <td>yes</td>\n",
       "      <td>3er</td>\n",
       "    </tr>\n",
       "  </tbody>\n",
       "</table>\n",
       "</div>"
      ],
      "text/plain": [
       "   price vehicletype  registrationyear gearbox  power  kilometer fueltype  \\\n",
       "1  18300       coupe              2011  manual    190     125000   petrol   \n",
       "2   9800         suv              2004    auto    163     125000   petrol   \n",
       "3   1500       small              2001  manual     75     150000   petrol   \n",
       "4   3600       small              2008  manual     69      90000   petrol   \n",
       "5    650       sedan              1995  manual    102     150000   petrol   \n",
       "\n",
       "        brand repaired  model  \n",
       "1        audi      yes     a4  \n",
       "2        jeep   missed  grand  \n",
       "3  volkswagen       no   golf  \n",
       "4       skoda       no  fabia  \n",
       "5         bmw      yes    3er  "
      ]
     },
     "execution_count": 75,
     "metadata": {},
     "output_type": "execute_result"
    }
   ],
   "source": [
    "#check\n",
    "autos.head()"
   ]
  },
  {
   "cell_type": "markdown",
   "metadata": {},
   "source": [
    "Далее разделим данные на обучающую и тестовую."
   ]
  },
  {
   "cell_type": "markdown",
   "metadata": {},
   "source": [
    "## Подготовка выборок для машинного обучения"
   ]
  },
  {
   "cell_type": "markdown",
   "metadata": {},
   "source": [
    "Для начала разделим выборки, а далее закодируем их. Для линейных моделей используем метод OHE (one hot encoder), для остальных моделей OE (порядковое кодирование)."
   ]
  },
  {
   "cell_type": "code",
   "execution_count": 76,
   "metadata": {},
   "outputs": [],
   "source": [
    "# разделим данные на выборки\n",
    "X_train, X_test, y_train, y_test = train_test_split(autos.drop('price', axis=1), \n",
    "                                                    autos['price'], \n",
    "                                                    test_size=0.33, \n",
    "                                                    random_state=42)"
   ]
  },
  {
   "cell_type": "markdown",
   "metadata": {},
   "source": [
    "### Кодирование выборок"
   ]
  },
  {
   "cell_type": "markdown",
   "metadata": {},
   "source": [
    "Для моделей ridge и linear regression используем OHE кодирование и StandartScaler. \n",
    "\n",
    "Для Decision tree и gradient boosting OrdinalEncoding."
   ]
  },
  {
   "cell_type": "code",
   "execution_count": 77,
   "metadata": {},
   "outputs": [],
   "source": [
    "# выделим название столбцов с категориальными и численными признаками в отдельные переменные\n",
    "cat_features = X_train.select_dtypes(include='object').columns.to_list()\n",
    "num_features = X_train.select_dtypes(exclude='object').columns.to_list()"
   ]
  },
  {
   "cell_type": "markdown",
   "metadata": {},
   "source": [
    "#### Для линейных моделей"
   ]
  },
  {
   "cell_type": "code",
   "execution_count": 78,
   "metadata": {},
   "outputs": [],
   "source": [
    "# создадим отдельную выборку для линейный моделей\n",
    "X_train_ohe= X_train.copy()\n",
    "X_test_ohe = X_test.copy()"
   ]
  },
  {
   "cell_type": "code",
   "execution_count": 79,
   "metadata": {
    "scrolled": false
   },
   "outputs": [
    {
     "name": "stdout",
     "output_type": "stream",
     "text": [
      "CPU times: user 16.3 s, sys: 1.59 s, total: 17.9 s\n",
      "Wall time: 17.9 s\n"
     ]
    }
   ],
   "source": [
    "%%time\n",
    "# создадим энкодер и обучим на тренировочной выборке\n",
    "encoder_ohe = OneHotEncoder(drop='first', handle_unknown='error' , sparse=False)\n",
    "encoder_ohe.fit(X_train_ohe[cat_features])\n",
    "#добавляем закодированные данные\n",
    "X_train_ohe[encoder_ohe.get_feature_names()] = encoder_ohe.transform(X_train_ohe[cat_features])\n",
    "\n",
    "# удаляем незакодированные\n",
    "X_train_ohe = X_train_ohe.drop(cat_features, axis=1)"
   ]
  },
  {
   "cell_type": "code",
   "execution_count": 80,
   "metadata": {
    "scrolled": true
   },
   "outputs": [
    {
     "data": {
      "text/html": [
       "<div>\n",
       "<style scoped>\n",
       "    .dataframe tbody tr th:only-of-type {\n",
       "        vertical-align: middle;\n",
       "    }\n",
       "\n",
       "    .dataframe tbody tr th {\n",
       "        vertical-align: top;\n",
       "    }\n",
       "\n",
       "    .dataframe thead th {\n",
       "        text-align: right;\n",
       "    }\n",
       "</style>\n",
       "<table border=\"1\" class=\"dataframe\">\n",
       "  <thead>\n",
       "    <tr style=\"text-align: right;\">\n",
       "      <th></th>\n",
       "      <th>registrationyear</th>\n",
       "      <th>power</th>\n",
       "      <th>kilometer</th>\n",
       "      <th>x0_convertible</th>\n",
       "      <th>x0_coupe</th>\n",
       "      <th>x0_other</th>\n",
       "      <th>x0_sedan</th>\n",
       "      <th>x0_small</th>\n",
       "      <th>x0_suv</th>\n",
       "      <th>x0_wagon</th>\n",
       "      <th>...</th>\n",
       "      <th>x5_wrangler</th>\n",
       "      <th>x5_x_reihe</th>\n",
       "      <th>x5_x_trail</th>\n",
       "      <th>x5_x_type</th>\n",
       "      <th>x5_xc_reihe</th>\n",
       "      <th>x5_yaris</th>\n",
       "      <th>x5_yeti</th>\n",
       "      <th>x5_ypsilon</th>\n",
       "      <th>x5_z_reihe</th>\n",
       "      <th>x5_zafira</th>\n",
       "    </tr>\n",
       "  </thead>\n",
       "  <tbody>\n",
       "    <tr>\n",
       "      <th>131027</th>\n",
       "      <td>2007</td>\n",
       "      <td>140</td>\n",
       "      <td>150000</td>\n",
       "      <td>0.0</td>\n",
       "      <td>0.0</td>\n",
       "      <td>0.0</td>\n",
       "      <td>0.0</td>\n",
       "      <td>0.0</td>\n",
       "      <td>0.0</td>\n",
       "      <td>0.0</td>\n",
       "      <td>...</td>\n",
       "      <td>0.0</td>\n",
       "      <td>0.0</td>\n",
       "      <td>0.0</td>\n",
       "      <td>0.0</td>\n",
       "      <td>0.0</td>\n",
       "      <td>0.0</td>\n",
       "      <td>0.0</td>\n",
       "      <td>0.0</td>\n",
       "      <td>0.0</td>\n",
       "      <td>0.0</td>\n",
       "    </tr>\n",
       "    <tr>\n",
       "      <th>29473</th>\n",
       "      <td>2003</td>\n",
       "      <td>204</td>\n",
       "      <td>150000</td>\n",
       "      <td>0.0</td>\n",
       "      <td>0.0</td>\n",
       "      <td>0.0</td>\n",
       "      <td>0.0</td>\n",
       "      <td>0.0</td>\n",
       "      <td>0.0</td>\n",
       "      <td>0.0</td>\n",
       "      <td>...</td>\n",
       "      <td>0.0</td>\n",
       "      <td>0.0</td>\n",
       "      <td>0.0</td>\n",
       "      <td>0.0</td>\n",
       "      <td>0.0</td>\n",
       "      <td>0.0</td>\n",
       "      <td>0.0</td>\n",
       "      <td>0.0</td>\n",
       "      <td>0.0</td>\n",
       "      <td>0.0</td>\n",
       "    </tr>\n",
       "    <tr>\n",
       "      <th>235699</th>\n",
       "      <td>2010</td>\n",
       "      <td>120</td>\n",
       "      <td>60000</td>\n",
       "      <td>0.0</td>\n",
       "      <td>0.0</td>\n",
       "      <td>0.0</td>\n",
       "      <td>1.0</td>\n",
       "      <td>0.0</td>\n",
       "      <td>0.0</td>\n",
       "      <td>0.0</td>\n",
       "      <td>...</td>\n",
       "      <td>0.0</td>\n",
       "      <td>0.0</td>\n",
       "      <td>0.0</td>\n",
       "      <td>0.0</td>\n",
       "      <td>0.0</td>\n",
       "      <td>0.0</td>\n",
       "      <td>0.0</td>\n",
       "      <td>0.0</td>\n",
       "      <td>0.0</td>\n",
       "      <td>0.0</td>\n",
       "    </tr>\n",
       "    <tr>\n",
       "      <th>289325</th>\n",
       "      <td>2006</td>\n",
       "      <td>90</td>\n",
       "      <td>125000</td>\n",
       "      <td>0.0</td>\n",
       "      <td>0.0</td>\n",
       "      <td>0.0</td>\n",
       "      <td>1.0</td>\n",
       "      <td>0.0</td>\n",
       "      <td>0.0</td>\n",
       "      <td>0.0</td>\n",
       "      <td>...</td>\n",
       "      <td>0.0</td>\n",
       "      <td>0.0</td>\n",
       "      <td>0.0</td>\n",
       "      <td>0.0</td>\n",
       "      <td>0.0</td>\n",
       "      <td>0.0</td>\n",
       "      <td>0.0</td>\n",
       "      <td>0.0</td>\n",
       "      <td>0.0</td>\n",
       "      <td>0.0</td>\n",
       "    </tr>\n",
       "    <tr>\n",
       "      <th>76347</th>\n",
       "      <td>2003</td>\n",
       "      <td>116</td>\n",
       "      <td>150000</td>\n",
       "      <td>0.0</td>\n",
       "      <td>1.0</td>\n",
       "      <td>0.0</td>\n",
       "      <td>0.0</td>\n",
       "      <td>0.0</td>\n",
       "      <td>0.0</td>\n",
       "      <td>0.0</td>\n",
       "      <td>...</td>\n",
       "      <td>0.0</td>\n",
       "      <td>0.0</td>\n",
       "      <td>0.0</td>\n",
       "      <td>0.0</td>\n",
       "      <td>0.0</td>\n",
       "      <td>0.0</td>\n",
       "      <td>0.0</td>\n",
       "      <td>0.0</td>\n",
       "      <td>0.0</td>\n",
       "      <td>0.0</td>\n",
       "    </tr>\n",
       "  </tbody>\n",
       "</table>\n",
       "<p>5 rows × 303 columns</p>\n",
       "</div>"
      ],
      "text/plain": [
       "        registrationyear  power  kilometer  x0_convertible  x0_coupe  \\\n",
       "131027              2007    140     150000             0.0       0.0   \n",
       "29473               2003    204     150000             0.0       0.0   \n",
       "235699              2010    120      60000             0.0       0.0   \n",
       "289325              2006     90     125000             0.0       0.0   \n",
       "76347               2003    116     150000             0.0       1.0   \n",
       "\n",
       "        x0_other  x0_sedan  x0_small  x0_suv  x0_wagon  ...  x5_wrangler  \\\n",
       "131027       0.0       0.0       0.0     0.0       0.0  ...          0.0   \n",
       "29473        0.0       0.0       0.0     0.0       0.0  ...          0.0   \n",
       "235699       0.0       1.0       0.0     0.0       0.0  ...          0.0   \n",
       "289325       0.0       1.0       0.0     0.0       0.0  ...          0.0   \n",
       "76347        0.0       0.0       0.0     0.0       0.0  ...          0.0   \n",
       "\n",
       "        x5_x_reihe  x5_x_trail  x5_x_type  x5_xc_reihe  x5_yaris  x5_yeti  \\\n",
       "131027         0.0         0.0        0.0          0.0       0.0      0.0   \n",
       "29473          0.0         0.0        0.0          0.0       0.0      0.0   \n",
       "235699         0.0         0.0        0.0          0.0       0.0      0.0   \n",
       "289325         0.0         0.0        0.0          0.0       0.0      0.0   \n",
       "76347          0.0         0.0        0.0          0.0       0.0      0.0   \n",
       "\n",
       "        x5_ypsilon  x5_z_reihe  x5_zafira  \n",
       "131027         0.0         0.0        0.0  \n",
       "29473          0.0         0.0        0.0  \n",
       "235699         0.0         0.0        0.0  \n",
       "289325         0.0         0.0        0.0  \n",
       "76347          0.0         0.0        0.0  \n",
       "\n",
       "[5 rows x 303 columns]"
      ]
     },
     "execution_count": 80,
     "metadata": {},
     "output_type": "execute_result"
    }
   ],
   "source": [
    "X_train_ohe.head()"
   ]
  },
  {
   "cell_type": "code",
   "execution_count": 81,
   "metadata": {
    "scrolled": true
   },
   "outputs": [
    {
     "data": {
      "text/html": [
       "<div>\n",
       "<style scoped>\n",
       "    .dataframe tbody tr th:only-of-type {\n",
       "        vertical-align: middle;\n",
       "    }\n",
       "\n",
       "    .dataframe tbody tr th {\n",
       "        vertical-align: top;\n",
       "    }\n",
       "\n",
       "    .dataframe thead th {\n",
       "        text-align: right;\n",
       "    }\n",
       "</style>\n",
       "<table border=\"1\" class=\"dataframe\">\n",
       "  <thead>\n",
       "    <tr style=\"text-align: right;\">\n",
       "      <th></th>\n",
       "      <th>registrationyear</th>\n",
       "      <th>power</th>\n",
       "      <th>kilometer</th>\n",
       "      <th>x0_convertible</th>\n",
       "      <th>x0_coupe</th>\n",
       "      <th>x0_other</th>\n",
       "      <th>x0_sedan</th>\n",
       "      <th>x0_small</th>\n",
       "      <th>x0_suv</th>\n",
       "      <th>x0_wagon</th>\n",
       "      <th>...</th>\n",
       "      <th>x5_wrangler</th>\n",
       "      <th>x5_x_reihe</th>\n",
       "      <th>x5_x_trail</th>\n",
       "      <th>x5_x_type</th>\n",
       "      <th>x5_xc_reihe</th>\n",
       "      <th>x5_yaris</th>\n",
       "      <th>x5_yeti</th>\n",
       "      <th>x5_ypsilon</th>\n",
       "      <th>x5_z_reihe</th>\n",
       "      <th>x5_zafira</th>\n",
       "    </tr>\n",
       "  </thead>\n",
       "  <tbody>\n",
       "    <tr>\n",
       "      <th>131027</th>\n",
       "      <td>0.633727</td>\n",
       "      <td>0.314875</td>\n",
       "      <td>0.597138</td>\n",
       "      <td>0.0</td>\n",
       "      <td>0.0</td>\n",
       "      <td>0.0</td>\n",
       "      <td>0.0</td>\n",
       "      <td>0.0</td>\n",
       "      <td>0.0</td>\n",
       "      <td>0.0</td>\n",
       "      <td>...</td>\n",
       "      <td>0.0</td>\n",
       "      <td>0.0</td>\n",
       "      <td>0.0</td>\n",
       "      <td>0.0</td>\n",
       "      <td>0.0</td>\n",
       "      <td>0.0</td>\n",
       "      <td>0.0</td>\n",
       "      <td>0.0</td>\n",
       "      <td>0.0</td>\n",
       "      <td>0.0</td>\n",
       "    </tr>\n",
       "    <tr>\n",
       "      <th>29473</th>\n",
       "      <td>-0.086265</td>\n",
       "      <td>1.525392</td>\n",
       "      <td>0.597138</td>\n",
       "      <td>0.0</td>\n",
       "      <td>0.0</td>\n",
       "      <td>0.0</td>\n",
       "      <td>0.0</td>\n",
       "      <td>0.0</td>\n",
       "      <td>0.0</td>\n",
       "      <td>0.0</td>\n",
       "      <td>...</td>\n",
       "      <td>0.0</td>\n",
       "      <td>0.0</td>\n",
       "      <td>0.0</td>\n",
       "      <td>0.0</td>\n",
       "      <td>0.0</td>\n",
       "      <td>0.0</td>\n",
       "      <td>0.0</td>\n",
       "      <td>0.0</td>\n",
       "      <td>0.0</td>\n",
       "      <td>0.0</td>\n",
       "    </tr>\n",
       "    <tr>\n",
       "      <th>235699</th>\n",
       "      <td>1.173721</td>\n",
       "      <td>-0.063412</td>\n",
       "      <td>-1.867600</td>\n",
       "      <td>0.0</td>\n",
       "      <td>0.0</td>\n",
       "      <td>0.0</td>\n",
       "      <td>1.0</td>\n",
       "      <td>0.0</td>\n",
       "      <td>0.0</td>\n",
       "      <td>0.0</td>\n",
       "      <td>...</td>\n",
       "      <td>0.0</td>\n",
       "      <td>0.0</td>\n",
       "      <td>0.0</td>\n",
       "      <td>0.0</td>\n",
       "      <td>0.0</td>\n",
       "      <td>0.0</td>\n",
       "      <td>0.0</td>\n",
       "      <td>0.0</td>\n",
       "      <td>0.0</td>\n",
       "      <td>0.0</td>\n",
       "    </tr>\n",
       "    <tr>\n",
       "      <th>289325</th>\n",
       "      <td>0.453729</td>\n",
       "      <td>-0.630841</td>\n",
       "      <td>-0.087511</td>\n",
       "      <td>0.0</td>\n",
       "      <td>0.0</td>\n",
       "      <td>0.0</td>\n",
       "      <td>1.0</td>\n",
       "      <td>0.0</td>\n",
       "      <td>0.0</td>\n",
       "      <td>0.0</td>\n",
       "      <td>...</td>\n",
       "      <td>0.0</td>\n",
       "      <td>0.0</td>\n",
       "      <td>0.0</td>\n",
       "      <td>0.0</td>\n",
       "      <td>0.0</td>\n",
       "      <td>0.0</td>\n",
       "      <td>0.0</td>\n",
       "      <td>0.0</td>\n",
       "      <td>0.0</td>\n",
       "      <td>0.0</td>\n",
       "    </tr>\n",
       "    <tr>\n",
       "      <th>76347</th>\n",
       "      <td>-0.086265</td>\n",
       "      <td>-0.139069</td>\n",
       "      <td>0.597138</td>\n",
       "      <td>0.0</td>\n",
       "      <td>1.0</td>\n",
       "      <td>0.0</td>\n",
       "      <td>0.0</td>\n",
       "      <td>0.0</td>\n",
       "      <td>0.0</td>\n",
       "      <td>0.0</td>\n",
       "      <td>...</td>\n",
       "      <td>0.0</td>\n",
       "      <td>0.0</td>\n",
       "      <td>0.0</td>\n",
       "      <td>0.0</td>\n",
       "      <td>0.0</td>\n",
       "      <td>0.0</td>\n",
       "      <td>0.0</td>\n",
       "      <td>0.0</td>\n",
       "      <td>0.0</td>\n",
       "      <td>0.0</td>\n",
       "    </tr>\n",
       "  </tbody>\n",
       "</table>\n",
       "<p>5 rows × 303 columns</p>\n",
       "</div>"
      ],
      "text/plain": [
       "        registrationyear     power  kilometer  x0_convertible  x0_coupe  \\\n",
       "131027          0.633727  0.314875   0.597138             0.0       0.0   \n",
       "29473          -0.086265  1.525392   0.597138             0.0       0.0   \n",
       "235699          1.173721 -0.063412  -1.867600             0.0       0.0   \n",
       "289325          0.453729 -0.630841  -0.087511             0.0       0.0   \n",
       "76347          -0.086265 -0.139069   0.597138             0.0       1.0   \n",
       "\n",
       "        x0_other  x0_sedan  x0_small  x0_suv  x0_wagon  ...  x5_wrangler  \\\n",
       "131027       0.0       0.0       0.0     0.0       0.0  ...          0.0   \n",
       "29473        0.0       0.0       0.0     0.0       0.0  ...          0.0   \n",
       "235699       0.0       1.0       0.0     0.0       0.0  ...          0.0   \n",
       "289325       0.0       1.0       0.0     0.0       0.0  ...          0.0   \n",
       "76347        0.0       0.0       0.0     0.0       0.0  ...          0.0   \n",
       "\n",
       "        x5_x_reihe  x5_x_trail  x5_x_type  x5_xc_reihe  x5_yaris  x5_yeti  \\\n",
       "131027         0.0         0.0        0.0          0.0       0.0      0.0   \n",
       "29473          0.0         0.0        0.0          0.0       0.0      0.0   \n",
       "235699         0.0         0.0        0.0          0.0       0.0      0.0   \n",
       "289325         0.0         0.0        0.0          0.0       0.0      0.0   \n",
       "76347          0.0         0.0        0.0          0.0       0.0      0.0   \n",
       "\n",
       "        x5_ypsilon  x5_z_reihe  x5_zafira  \n",
       "131027         0.0         0.0        0.0  \n",
       "29473          0.0         0.0        0.0  \n",
       "235699         0.0         0.0        0.0  \n",
       "289325         0.0         0.0        0.0  \n",
       "76347          0.0         0.0        0.0  \n",
       "\n",
       "[5 rows x 303 columns]"
      ]
     },
     "execution_count": 81,
     "metadata": {},
     "output_type": "execute_result"
    }
   ],
   "source": [
    "# отмасштабируем данные\n",
    "# создаем scaler\n",
    "scaler = StandardScaler()\n",
    "\n",
    "# обучаем его на численных признаках тренировочной выборки, трансформируем её же\n",
    "X_train_ohe[num_features] = scaler.fit_transform(X_train_ohe[num_features])\n",
    "\n",
    "X_train_ohe.head()"
   ]
  },
  {
   "cell_type": "markdown",
   "metadata": {},
   "source": [
    "#### Для других моделей"
   ]
  },
  {
   "cell_type": "code",
   "execution_count": 82,
   "metadata": {},
   "outputs": [],
   "source": [
    "X_train_oe = X_train.copy()"
   ]
  },
  {
   "cell_type": "code",
   "execution_count": 83,
   "metadata": {
    "scrolled": true
   },
   "outputs": [
    {
     "data": {
      "text/plain": [
       "OrdinalEncoder()"
      ]
     },
     "execution_count": 83,
     "metadata": {},
     "output_type": "execute_result"
    }
   ],
   "source": [
    "encoder_oe = OrdinalEncoder()\n",
    "encoder_oe.fit(X_train_oe[cat_features])"
   ]
  },
  {
   "cell_type": "code",
   "execution_count": 84,
   "metadata": {},
   "outputs": [],
   "source": [
    "X_train_oe[cat_features] = encoder_oe.transform(X_train_oe[cat_features])"
   ]
  },
  {
   "cell_type": "code",
   "execution_count": 85,
   "metadata": {},
   "outputs": [
    {
     "data": {
      "text/html": [
       "<div>\n",
       "<style scoped>\n",
       "    .dataframe tbody tr th:only-of-type {\n",
       "        vertical-align: middle;\n",
       "    }\n",
       "\n",
       "    .dataframe tbody tr th {\n",
       "        vertical-align: top;\n",
       "    }\n",
       "\n",
       "    .dataframe thead th {\n",
       "        text-align: right;\n",
       "    }\n",
       "</style>\n",
       "<table border=\"1\" class=\"dataframe\">\n",
       "  <thead>\n",
       "    <tr style=\"text-align: right;\">\n",
       "      <th></th>\n",
       "      <th>vehicletype</th>\n",
       "      <th>registrationyear</th>\n",
       "      <th>gearbox</th>\n",
       "      <th>power</th>\n",
       "      <th>kilometer</th>\n",
       "      <th>fueltype</th>\n",
       "      <th>brand</th>\n",
       "      <th>repaired</th>\n",
       "      <th>model</th>\n",
       "    </tr>\n",
       "  </thead>\n",
       "  <tbody>\n",
       "    <tr>\n",
       "      <th>131027</th>\n",
       "      <td>0.0</td>\n",
       "      <td>2007</td>\n",
       "      <td>0.0</td>\n",
       "      <td>140</td>\n",
       "      <td>150000</td>\n",
       "      <td>5.0</td>\n",
       "      <td>38.0</td>\n",
       "      <td>1.0</td>\n",
       "      <td>219.0</td>\n",
       "    </tr>\n",
       "    <tr>\n",
       "      <th>29473</th>\n",
       "      <td>0.0</td>\n",
       "      <td>2003</td>\n",
       "      <td>0.0</td>\n",
       "      <td>204</td>\n",
       "      <td>150000</td>\n",
       "      <td>3.0</td>\n",
       "      <td>5.0</td>\n",
       "      <td>1.0</td>\n",
       "      <td>166.0</td>\n",
       "    </tr>\n",
       "    <tr>\n",
       "      <th>235699</th>\n",
       "      <td>4.0</td>\n",
       "      <td>2010</td>\n",
       "      <td>1.0</td>\n",
       "      <td>120</td>\n",
       "      <td>60000</td>\n",
       "      <td>5.0</td>\n",
       "      <td>1.0</td>\n",
       "      <td>1.0</td>\n",
       "      <td>29.0</td>\n",
       "    </tr>\n",
       "    <tr>\n",
       "      <th>289325</th>\n",
       "      <td>4.0</td>\n",
       "      <td>2006</td>\n",
       "      <td>1.0</td>\n",
       "      <td>90</td>\n",
       "      <td>125000</td>\n",
       "      <td>5.0</td>\n",
       "      <td>21.0</td>\n",
       "      <td>1.0</td>\n",
       "      <td>165.0</td>\n",
       "    </tr>\n",
       "    <tr>\n",
       "      <th>76347</th>\n",
       "      <td>2.0</td>\n",
       "      <td>2003</td>\n",
       "      <td>1.0</td>\n",
       "      <td>116</td>\n",
       "      <td>150000</td>\n",
       "      <td>5.0</td>\n",
       "      <td>2.0</td>\n",
       "      <td>1.0</td>\n",
       "      <td>11.0</td>\n",
       "    </tr>\n",
       "  </tbody>\n",
       "</table>\n",
       "</div>"
      ],
      "text/plain": [
       "        vehicletype  registrationyear  gearbox  power  kilometer  fueltype  \\\n",
       "131027          0.0              2007      0.0    140     150000       5.0   \n",
       "29473           0.0              2003      0.0    204     150000       3.0   \n",
       "235699          4.0              2010      1.0    120      60000       5.0   \n",
       "289325          4.0              2006      1.0     90     125000       5.0   \n",
       "76347           2.0              2003      1.0    116     150000       5.0   \n",
       "\n",
       "        brand  repaired  model  \n",
       "131027   38.0       1.0  219.0  \n",
       "29473     5.0       1.0  166.0  \n",
       "235699    1.0       1.0   29.0  \n",
       "289325   21.0       1.0  165.0  \n",
       "76347     2.0       1.0   11.0  "
      ]
     },
     "execution_count": 85,
     "metadata": {},
     "output_type": "execute_result"
    }
   ],
   "source": [
    "#check\n",
    "X_train_oe.head()"
   ]
  },
  {
   "cell_type": "markdown",
   "metadata": {},
   "source": [
    "Признаки закодированы и отмасштабированы."
   ]
  },
  {
   "cell_type": "markdown",
   "metadata": {},
   "source": [
    "## Обучение моделей"
   ]
  },
  {
   "cell_type": "markdown",
   "metadata": {},
   "source": [
    "В рамках исследования будут применяться следующие модели: Ridge, DecisionTree,  LinearRegression и GradientBoosting. Метрикой является RMSE."
   ]
  },
  {
   "cell_type": "markdown",
   "metadata": {},
   "source": [
    "### Ridge"
   ]
  },
  {
   "cell_type": "code",
   "execution_count": 86,
   "metadata": {
    "scrolled": true
   },
   "outputs": [
    {
     "name": "stdout",
     "output_type": "stream",
     "text": [
      "best_score: 2409.0813714620695\n",
      "best_params: {'alpha': 0.2}\n",
      "CPU times: user 1min 43s, sys: 54.3 s, total: 2min 37s\n",
      "Wall time: 2min 37s\n"
     ]
    }
   ],
   "source": [
    "%%time\n",
    "ridge = Ridge(random_state=42)\n",
    "\n",
    "# словарь с гиперпараметрами и значениями, которые хотим перебрать\n",
    "param_grid_ridge = {'alpha': np.arange(0, 0.21, 0.01),}\n",
    "\n",
    "gs_ridge = GridSearchCV(\n",
    "    ridge, \n",
    "    param_grid=param_grid_ridge, \n",
    "    scoring='neg_root_mean_squared_error', \n",
    "    n_jobs=-1\n",
    ")\n",
    "\n",
    "gs_ridge.fit(X_train_ohe, y_train)\n",
    "\n",
    "# лучшее значение RMSE на кросс-валидации\n",
    "print(f'best_score: {gs_ridge.best_score_ * -1}')\n",
    "\n",
    "# лучшие гиперпараметры\n",
    "print(f'best_params: {gs_ridge.best_params_}')"
   ]
  },
  {
   "cell_type": "code",
   "execution_count": 87,
   "metadata": {},
   "outputs": [
    {
     "name": "stdout",
     "output_type": "stream",
     "text": [
      "Время для обучения: 1.3244679337456113\n",
      "Время для предсказаний: 0.159775177637736\n"
     ]
    }
   ],
   "source": [
    "ridge_fit_time = gs_ridge.cv_results_['mean_fit_time'].mean()\n",
    "ridge_pred_time = gs_ridge.cv_results_['mean_score_time'].mean()\n",
    "print(f'Время для обучения: {ridge_fit_time}')\n",
    "print(f'Время для предсказаний: {ridge_pred_time}')"
   ]
  },
  {
   "cell_type": "markdown",
   "metadata": {},
   "source": [
    "### Linear Regression"
   ]
  },
  {
   "cell_type": "code",
   "execution_count": 88,
   "metadata": {
    "scrolled": false
   },
   "outputs": [
    {
     "name": "stdout",
     "output_type": "stream",
     "text": [
      "CPU times: user 46.2 s, sys: 17 s, total: 1min 3s\n",
      "Wall time: 1min 3s\n"
     ]
    },
    {
     "data": {
      "text/plain": [
       "GridSearchCV(cv=5, estimator=LinearRegression(), n_jobs=-1, param_grid={},\n",
       "             scoring='neg_root_mean_squared_error')"
      ]
     },
     "execution_count": 88,
     "metadata": {},
     "output_type": "execute_result"
    }
   ],
   "source": [
    "%%time\n",
    "linr = LinearRegression()\n",
    "param_lin = { }\n",
    "gs_linr = GridSearchCV(linr, param_grid=param_lin, cv=5, scoring='neg_root_mean_squared_error', n_jobs=-1)\n",
    "gs_linr.fit(X_train_ohe, y_train)"
   ]
  },
  {
   "cell_type": "code",
   "execution_count": 89,
   "metadata": {},
   "outputs": [
    {
     "name": "stdout",
     "output_type": "stream",
     "text": [
      "best_score: 2409.1902787823374\n"
     ]
    }
   ],
   "source": [
    "# лучшее значение RMSE на кросс-валидации\n",
    "print(f'best_score: {gs_linr.best_score_ * -1}')"
   ]
  },
  {
   "cell_type": "code",
   "execution_count": 90,
   "metadata": {},
   "outputs": [
    {
     "name": "stdout",
     "output_type": "stream",
     "text": [
      "Время для обучения: 10.258919668197631\n",
      "Время для предсказаний: 0.09922666549682617\n"
     ]
    }
   ],
   "source": [
    "lin_fit_time = gs_linr.cv_results_['mean_fit_time'].mean()\n",
    "lin_pred_time = gs_linr.cv_results_['mean_score_time'].mean()\n",
    "print(f'Время для обучения: {lin_fit_time}')\n",
    "print(f'Время для предсказаний: {lin_pred_time}')"
   ]
  },
  {
   "cell_type": "markdown",
   "metadata": {},
   "source": [
    "### Решающие деревья"
   ]
  },
  {
   "cell_type": "code",
   "execution_count": 91,
   "metadata": {},
   "outputs": [
    {
     "name": "stderr",
     "output_type": "stream",
     "text": [
      "[I 2024-02-12 15:01:59,443] A new study created in memory with name: no-name-e0e134f9-23fd-4dc7-b4dd-e3a37bf5c829\n",
      "[I 2024-02-12 15:02:00,251] Trial 0 finished with value: -2024.9814051549984 and parameters: {'max_depth': 8, 'min_samples_split': 4, 'min_samples_leaf': 3}. Best is trial 0 with value: -2024.9814051549984.\n",
      "[I 2024-02-12 15:02:01,215] Trial 1 finished with value: -1917.2924484543364 and parameters: {'max_depth': 10, 'min_samples_split': 5, 'min_samples_leaf': 1}. Best is trial 1 with value: -1917.2924484543364.\n",
      "[I 2024-02-12 15:02:01,999] Trial 2 finished with value: -2024.949432689662 and parameters: {'max_depth': 8, 'min_samples_split': 5, 'min_samples_leaf': 5}. Best is trial 1 with value: -1917.2924484543364.\n",
      "[I 2024-02-12 15:02:02,684] Trial 3 finished with value: -2101.420102941532 and parameters: {'max_depth': 7, 'min_samples_split': 3, 'min_samples_leaf': 3}. Best is trial 1 with value: -1917.2924484543364.\n",
      "[I 2024-02-12 15:02:03,301] Trial 4 finished with value: -2207.066465262653 and parameters: {'max_depth': 6, 'min_samples_split': 2, 'min_samples_leaf': 4}. Best is trial 1 with value: -1917.2924484543364.\n",
      "[I 2024-02-12 15:02:04,071] Trial 5 finished with value: -2025.3429231504215 and parameters: {'max_depth': 8, 'min_samples_split': 4, 'min_samples_leaf': 2}. Best is trial 1 with value: -1917.2924484543364.\n",
      "[I 2024-02-12 15:02:04,779] Trial 6 finished with value: -2101.246247914654 and parameters: {'max_depth': 7, 'min_samples_split': 4, 'min_samples_leaf': 2}. Best is trial 1 with value: -1917.2924484543364.\n",
      "[I 2024-02-12 15:02:05,644] Trial 7 finished with value: -1962.9877080045082 and parameters: {'max_depth': 9, 'min_samples_split': 5, 'min_samples_leaf': 5}. Best is trial 1 with value: -1917.2924484543364.\n",
      "[I 2024-02-12 15:02:06,362] Trial 8 finished with value: -2101.420102941532 and parameters: {'max_depth': 7, 'min_samples_split': 5, 'min_samples_leaf': 3}. Best is trial 1 with value: -1917.2924484543364.\n",
      "[I 2024-02-12 15:02:06,893] Trial 9 finished with value: -2360.1304018402384 and parameters: {'max_depth': 5, 'min_samples_split': 4, 'min_samples_leaf': 1}. Best is trial 1 with value: -1917.2924484543364.\n"
     ]
    },
    {
     "name": "stdout",
     "output_type": "stream",
     "text": [
      "Лучшие гиперпараметры: {'max_depth': 10, 'min_samples_split': 5, 'min_samples_leaf': 1}\n",
      "Лучшее значение метрики: [1917.29]\n",
      "Время обучения: [0.21]\n",
      "Время предсказания: [0.01]\n",
      "CPU times: user 7.34 s, sys: 67.9 ms, total: 7.41 s\n",
      "Wall time: 7.45 s\n"
     ]
    }
   ],
   "source": [
    "%%time\n",
    "def dtreg_objective(trial):\n",
    "    \n",
    "    \n",
    "    params = {\n",
    "        'max_depth': [trial.suggest_int('max_depth', 2, 10)],\n",
    "         'min_samples_split': [trial.suggest_int('min_samples_split', 2, 5)],\n",
    "         'min_samples_leaf': [trial.suggest_int('min_samples_leaf', 1, 5)]\n",
    "    }\n",
    "    \n",
    "    clf = DecisionTreeRegressor(random_state=42)\n",
    "    grid_search = GridSearchCV(clf, params, cv=3, scoring='neg_root_mean_squared_error')\n",
    "    grid_search.fit(X_train_oe, y_train)\n",
    "    trial.set_user_attr('cv_results', grid_search.cv_results_)\n",
    "    return grid_search.best_score_\n",
    "    \n",
    "dtreg_study = optuna.create_study(direction='maximize')\n",
    "dtreg_study.optimize(dtreg_objective, n_trials=10)\n",
    "dtreg_study.best_trial.user_attrs['cv_results']\n",
    "dt_rmse = dtreg_study.best_trial.user_attrs['cv_results']['mean_test_score'].round(2)\n",
    "dt_fit_time = dtreg_study.best_trial.user_attrs['cv_results']['mean_fit_time'].round(2)\n",
    "dt_score_time = dtreg_study.best_trial.user_attrs['cv_results']['mean_score_time'].round(2)\n",
    "print('Лучшие гиперпараметры:', dtreg_study.best_params)\n",
    "print('Лучшее значение метрики:', -dt_rmse)\n",
    "print('Время обучения:', dt_fit_time)\n",
    "print('Время предсказания:', dt_score_time)"
   ]
  },
  {
   "cell_type": "markdown",
   "metadata": {},
   "source": [
    "### Градиентный бустинг"
   ]
  },
  {
   "cell_type": "markdown",
   "metadata": {},
   "source": [
    "Гиперпараметры подберем с помощью RandomSearchCV из библиотеки scikitlearn. Категориальные признаки не требуют дополнительного кодирования данных."
   ]
  },
  {
   "cell_type": "markdown",
   "metadata": {},
   "source": [
    "    LightGBM offers good accuracy with integer-encoded categorical features. LightGBM applies Fisher (1958) to find the   optimal split over categories as described here. This often performs better than one-hot encoding."
   ]
  },
  {
   "cell_type": "code",
   "execution_count": 92,
   "metadata": {},
   "outputs": [],
   "source": [
    "X_train_lgb = X_train.copy()"
   ]
  },
  {
   "cell_type": "code",
   "execution_count": 93,
   "metadata": {},
   "outputs": [],
   "source": [
    "X_train_lgb[cat_features] = X_train_lgb[cat_features].astype('category')"
   ]
  },
  {
   "cell_type": "code",
   "execution_count": 94,
   "metadata": {},
   "outputs": [
    {
     "name": "stdout",
     "output_type": "stream",
     "text": [
      "CPU times: user 1min 37s, sys: 0 ns, total: 1min 37s\n",
      "Wall time: 1min 38s\n"
     ]
    },
    {
     "data": {
      "text/plain": [
       "{'max_depth': 5, 'n_estimators': 100, 'num_leaves': 5}"
      ]
     },
     "execution_count": 94,
     "metadata": {},
     "output_type": "execute_result"
    }
   ],
   "source": [
    "%%time\n",
    "params = {\n",
    "    'num_leaves': [4, 5],\n",
    "    'max_depth': [1, 3, 5, 7],\n",
    "    'n_estimators': [50, 100],\n",
    "}\n",
    "\n",
    "grid = GridSearchCV(lgb.LGBMRegressor(random_state=42), params, scoring='neg_root_mean_squared_error', cv=3, n_jobs=-1)\n",
    "grid.fit(X_train_lgb, y_train)\n",
    "\n",
    "lgbm_tuned = grid.best_estimator_\n",
    "\n",
    "grid.best_params_"
   ]
  },
  {
   "cell_type": "code",
   "execution_count": 95,
   "metadata": {},
   "outputs": [],
   "source": [
    "lgb_fit_time = grid.cv_results_['mean_fit_time'].mean()\n",
    "lgb_pred_time = grid.cv_results_['mean_score_time'].mean()\n",
    "lgb_rmse = grid.best_score_ * -1"
   ]
  },
  {
   "cell_type": "markdown",
   "metadata": {},
   "source": [
    "## Анализ моделей"
   ]
  },
  {
   "cell_type": "markdown",
   "metadata": {},
   "source": [
    "Было протестировано 4 алгоритма машинного обучения:\n",
    "\n",
    "* линейная регрессия;\n",
    "* ridge;\n",
    "* решающее дерево;\n",
    "* градиентный бустинг.\n",
    "\n"
   ]
  },
  {
   "cell_type": "code",
   "execution_count": 96,
   "metadata": {
    "scrolled": true
   },
   "outputs": [
    {
     "data": {
      "text/html": [
       "<div>\n",
       "<style scoped>\n",
       "    .dataframe tbody tr th:only-of-type {\n",
       "        vertical-align: middle;\n",
       "    }\n",
       "\n",
       "    .dataframe tbody tr th {\n",
       "        vertical-align: top;\n",
       "    }\n",
       "\n",
       "    .dataframe thead th {\n",
       "        text-align: right;\n",
       "    }\n",
       "</style>\n",
       "<table border=\"1\" class=\"dataframe\">\n",
       "  <thead>\n",
       "    <tr style=\"text-align: right;\">\n",
       "      <th></th>\n",
       "      <th>Classifier</th>\n",
       "      <th>RMSE</th>\n",
       "      <th>Время обучения</th>\n",
       "      <th>Время предсказания</th>\n",
       "    </tr>\n",
       "  </thead>\n",
       "  <tbody>\n",
       "    <tr>\n",
       "      <th>0</th>\n",
       "      <td>Ridge</td>\n",
       "      <td>2409.081371</td>\n",
       "      <td>1.324468</td>\n",
       "      <td>0.159775</td>\n",
       "    </tr>\n",
       "    <tr>\n",
       "      <th>1</th>\n",
       "      <td>LinearRegression</td>\n",
       "      <td>2409.190279</td>\n",
       "      <td>10.25892</td>\n",
       "      <td>0.099227</td>\n",
       "    </tr>\n",
       "    <tr>\n",
       "      <th>2</th>\n",
       "      <td>Decision Tree Regressor</td>\n",
       "      <td>[1917.29]</td>\n",
       "      <td>[0.21]</td>\n",
       "      <td>[0.01]</td>\n",
       "    </tr>\n",
       "    <tr>\n",
       "      <th>3</th>\n",
       "      <td>Lightgbm</td>\n",
       "      <td>1745.375231</td>\n",
       "      <td>1.759012</td>\n",
       "      <td>0.230567</td>\n",
       "    </tr>\n",
       "  </tbody>\n",
       "</table>\n",
       "</div>"
      ],
      "text/plain": [
       "                Classifier         RMSE Время обучения Время предсказания\n",
       "0                    Ridge  2409.081371       1.324468           0.159775\n",
       "1         LinearRegression  2409.190279       10.25892           0.099227\n",
       "2  Decision Tree Regressor    [1917.29]         [0.21]             [0.01]\n",
       "3                 Lightgbm  1745.375231       1.759012           0.230567"
      ]
     },
     "execution_count": 96,
     "metadata": {},
     "output_type": "execute_result"
    }
   ],
   "source": [
    "data_metrics = {'Classifier': ['Ridge', 'LinearRegression', 'Decision Tree Regressor', 'Lightgbm'],\n",
    "                 'RMSE': [-gs_ridge.best_score_, -gs_linr.best_score_, -dt_rmse, lgb_rmse],\n",
    "                'Время обучения': [ridge_fit_time, lin_fit_time, dt_fit_time, lgb_fit_time],\n",
    "                'Время предсказания': [ridge_pred_time, lin_pred_time, dt_score_time, lgb_pred_time]\n",
    "    }\n",
    "df = pd.DataFrame(data=data_metrics).round(2)\n",
    "df"
   ]
  },
  {
   "cell_type": "markdown",
   "metadata": {},
   "source": [
    "Лучший результат метрики показала модель градиентного бустинга. Самой быстрой моделью по времени обучении и по времени предсказания является Decision tree. Было принято решение использовать модель Lightgbm из-за лучшего значения метрики, различия по времени незначительны. В дополнении модель LGBMRegressor не требует кодирования данных."
   ]
  },
  {
   "cell_type": "markdown",
   "metadata": {},
   "source": [
    "### Тест лучшей модели"
   ]
  },
  {
   "cell_type": "code",
   "execution_count": 97,
   "metadata": {},
   "outputs": [],
   "source": [
    "X_test_lgb = X_test.copy()"
   ]
  },
  {
   "cell_type": "code",
   "execution_count": 98,
   "metadata": {},
   "outputs": [],
   "source": [
    "X_test_lgb[cat_features] = X_test_lgb[cat_features].astype('category')"
   ]
  },
  {
   "cell_type": "code",
   "execution_count": 99,
   "metadata": {},
   "outputs": [
    {
     "name": "stdout",
     "output_type": "stream",
     "text": [
      "CPU times: user 436 ms, sys: 0 ns, total: 436 ms\n",
      "Wall time: 375 ms\n"
     ]
    }
   ],
   "source": [
    "%%time\n",
    "y_pred = grid.predict(X_test_lgb)"
   ]
  },
  {
   "cell_type": "code",
   "execution_count": 100,
   "metadata": {
    "scrolled": false
   },
   "outputs": [
    {
     "name": "stdout",
     "output_type": "stream",
     "text": [
      "RMSE на тестовой выборке: 1739.7728318545187\n"
     ]
    }
   ],
   "source": [
    "lgb_rse_pred = mean_squared_error(y_test, y_pred, squared=False)\n",
    "print('RMSE на тестовой выборке:', lgb_rse_pred)"
   ]
  },
  {
   "cell_type": "markdown",
   "metadata": {},
   "source": [
    "## Общий вывод"
   ]
  },
  {
   "cell_type": "markdown",
   "metadata": {},
   "source": [
    "В ходе исследования были проделаны следующие шаги:\n",
    "\n",
    "1. Были загруженны и исследованны данные по продажам поддержанных автомобилей. В ходе обработки данных избавились заполнили пропущенные значения. От аномальных значений избавились, ограничив данные из здравого смысла и распределения значений.\n",
    "\n",
    "2. Данные делились на обучающую и тестовую. Для линейной модели использовался метод One Hot Encoder для перевода категориальных переменных в численные, а так же масштабировались численные переменные. Для модели Decision Tree использовалось только кодирование категориальных переменных. Для модели LGBMRegressor кодирование данных не использовалось.\n",
    "\n",
    "3. Тестировались 4 модели машинного обучения:\n",
    "\n",
    "* Ridge.\n",
    "* Linear regression.\n",
    "* Decision tree.\n",
    "* LGBMRegressor\n",
    "\n",
    "\n",
    "Учитывая требования заказчика, предлагается модель градиентного бустинга с `RMSE` равным 1739. При более подробной оптимизации модели метрику можно улучшить."
   ]
  }
 ],
 "metadata": {
  "ExecuteTimeLog": [
   {
    "duration": 1837,
    "start_time": "2023-07-05T20:18:55.417Z"
   },
   {
    "duration": 45,
    "start_time": "2023-07-05T20:19:51.237Z"
   },
   {
    "duration": 1486,
    "start_time": "2023-07-05T20:20:04.839Z"
   },
   {
    "duration": 35,
    "start_time": "2023-07-05T20:20:09.599Z"
   },
   {
    "duration": 28,
    "start_time": "2023-07-05T20:20:18.003Z"
   },
   {
    "duration": 20,
    "start_time": "2023-07-05T20:25:30.460Z"
   },
   {
    "duration": 1006,
    "start_time": "2023-07-05T20:27:15.468Z"
   },
   {
    "duration": 15,
    "start_time": "2023-07-05T20:27:16.477Z"
   },
   {
    "duration": 69,
    "start_time": "2023-07-05T20:34:22.547Z"
   },
   {
    "duration": 35,
    "start_time": "2023-07-05T20:34:26.262Z"
   },
   {
    "duration": 4,
    "start_time": "2023-07-05T20:36:04.668Z"
   },
   {
    "duration": 32,
    "start_time": "2023-07-05T20:36:08.293Z"
   },
   {
    "duration": 223,
    "start_time": "2023-07-05T20:39:05.718Z"
   },
   {
    "duration": 44,
    "start_time": "2023-07-05T20:39:23.530Z"
   },
   {
    "duration": 17,
    "start_time": "2023-07-05T20:39:41.528Z"
   },
   {
    "duration": 134,
    "start_time": "2023-07-05T20:41:48.993Z"
   },
   {
    "duration": 77,
    "start_time": "2023-07-05T20:41:57.446Z"
   },
   {
    "duration": 80,
    "start_time": "2023-07-05T20:42:07.056Z"
   },
   {
    "duration": 303,
    "start_time": "2023-07-05T20:46:52.739Z"
   },
   {
    "duration": 1545,
    "start_time": "2023-07-05T21:09:20.524Z"
   },
   {
    "duration": 23,
    "start_time": "2023-07-05T21:14:11.320Z"
   },
   {
    "duration": 14,
    "start_time": "2023-07-05T21:14:39.219Z"
   },
   {
    "duration": 1412,
    "start_time": "2023-07-05T21:14:46.269Z"
   },
   {
    "duration": 6,
    "start_time": "2023-07-05T21:14:57.547Z"
   },
   {
    "duration": 381,
    "start_time": "2023-07-05T21:26:54.602Z"
   },
   {
    "duration": 530,
    "start_time": "2023-07-05T21:26:55.937Z"
   },
   {
    "duration": 482,
    "start_time": "2023-07-05T21:27:05.063Z"
   },
   {
    "duration": 7,
    "start_time": "2023-07-05T21:35:14.233Z"
   },
   {
    "duration": 18,
    "start_time": "2023-07-05T21:35:56.462Z"
   },
   {
    "duration": 15,
    "start_time": "2023-07-05T21:35:58.833Z"
   },
   {
    "duration": 17,
    "start_time": "2023-07-05T21:36:02.763Z"
   },
   {
    "duration": 124,
    "start_time": "2023-07-05T21:36:04.653Z"
   },
   {
    "duration": 139,
    "start_time": "2023-07-05T21:36:17.443Z"
   },
   {
    "duration": 146,
    "start_time": "2023-07-05T21:36:22.534Z"
   },
   {
    "duration": 59,
    "start_time": "2023-07-05T21:37:02.317Z"
   },
   {
    "duration": 47,
    "start_time": "2023-07-05T21:43:59.542Z"
   },
   {
    "duration": 68956,
    "start_time": "2023-07-05T21:45:36.819Z"
   },
   {
    "duration": 0,
    "start_time": "2023-07-05T21:46:45.779Z"
   },
   {
    "duration": 439,
    "start_time": "2023-07-05T21:47:04.229Z"
   },
   {
    "duration": 82,
    "start_time": "2023-07-05T21:50:46.990Z"
   },
   {
    "duration": 69,
    "start_time": "2023-07-05T21:50:55.622Z"
   },
   {
    "duration": 181,
    "start_time": "2023-07-05T21:51:03.235Z"
   },
   {
    "duration": 51,
    "start_time": "2023-07-05T21:51:24.419Z"
   },
   {
    "duration": 65,
    "start_time": "2023-07-05T21:51:30.034Z"
   },
   {
    "duration": 2181,
    "start_time": "2023-07-05T21:55:15.755Z"
   },
   {
    "duration": 2018,
    "start_time": "2023-07-05T21:55:28.016Z"
   },
   {
    "duration": 20,
    "start_time": "2023-07-05T21:56:45.828Z"
   },
   {
    "duration": 21,
    "start_time": "2023-07-05T21:56:54.444Z"
   },
   {
    "duration": 3242,
    "start_time": "2023-07-05T21:56:58.924Z"
   },
   {
    "duration": 18,
    "start_time": "2023-07-05T21:57:21.834Z"
   },
   {
    "duration": 70539,
    "start_time": "2023-07-05T21:57:25.724Z"
   },
   {
    "duration": 26,
    "start_time": "2023-07-05T21:58:49.799Z"
   },
   {
    "duration": 41230,
    "start_time": "2023-07-05T21:58:55.431Z"
   },
   {
    "duration": 4169,
    "start_time": "2023-07-05T22:02:14.623Z"
   },
   {
    "duration": 15,
    "start_time": "2023-07-05T22:04:05.318Z"
   },
   {
    "duration": 24,
    "start_time": "2023-07-05T22:04:13.923Z"
   },
   {
    "duration": 113,
    "start_time": "2023-07-05T22:04:20.171Z"
   },
   {
    "duration": 144,
    "start_time": "2023-07-05T22:04:30.445Z"
   },
   {
    "duration": 4,
    "start_time": "2023-07-05T22:04:44.887Z"
   },
   {
    "duration": 5,
    "start_time": "2023-07-05T22:04:47.556Z"
   },
   {
    "duration": 5,
    "start_time": "2023-07-05T22:05:32.053Z"
   },
   {
    "duration": 87,
    "start_time": "2023-07-05T22:06:44.232Z"
   },
   {
    "duration": 150,
    "start_time": "2023-07-05T22:07:04.453Z"
   },
   {
    "duration": 123,
    "start_time": "2023-07-05T22:07:25.022Z"
   },
   {
    "duration": 66,
    "start_time": "2023-07-05T22:09:07.222Z"
   },
   {
    "duration": 181,
    "start_time": "2023-07-05T22:13:55.110Z"
   },
   {
    "duration": 453,
    "start_time": "2023-07-05T22:14:06.313Z"
   },
   {
    "duration": 1668,
    "start_time": "2023-07-05T22:14:41.852Z"
   },
   {
    "duration": 1603,
    "start_time": "2023-07-05T22:14:57.609Z"
   },
   {
    "duration": 1609,
    "start_time": "2023-07-05T22:16:41.793Z"
   },
   {
    "duration": 1505,
    "start_time": "2023-07-05T22:16:47.569Z"
   },
   {
    "duration": 1368,
    "start_time": "2023-07-05T22:17:21.673Z"
   },
   {
    "duration": 124,
    "start_time": "2023-07-05T22:18:04.515Z"
   },
   {
    "duration": 146,
    "start_time": "2023-07-05T22:18:09.816Z"
   },
   {
    "duration": 142,
    "start_time": "2023-07-05T22:18:28.860Z"
   },
   {
    "duration": 43,
    "start_time": "2023-07-05T22:37:46.010Z"
   },
   {
    "duration": 20,
    "start_time": "2023-07-05T22:38:09.422Z"
   },
   {
    "duration": 16,
    "start_time": "2023-07-05T22:38:52.641Z"
   },
   {
    "duration": 23,
    "start_time": "2023-07-05T22:38:58.823Z"
   },
   {
    "duration": 22,
    "start_time": "2023-07-05T22:39:03.271Z"
   },
   {
    "duration": 24,
    "start_time": "2023-07-05T22:39:08.459Z"
   },
   {
    "duration": 218,
    "start_time": "2023-07-05T22:39:35.970Z"
   },
   {
    "duration": 9,
    "start_time": "2023-07-05T22:40:43.971Z"
   },
   {
    "duration": 11,
    "start_time": "2023-07-05T22:40:53.860Z"
   },
   {
    "duration": 251,
    "start_time": "2023-07-05T22:41:10.614Z"
   },
   {
    "duration": 212,
    "start_time": "2023-07-05T22:41:54.849Z"
   },
   {
    "duration": 227,
    "start_time": "2023-07-05T22:42:11.405Z"
   },
   {
    "duration": 7,
    "start_time": "2023-07-05T22:44:18.872Z"
   },
   {
    "duration": 8,
    "start_time": "2023-07-05T22:44:28.617Z"
   },
   {
    "duration": 16,
    "start_time": "2023-07-05T22:44:46.113Z"
   },
   {
    "duration": 6,
    "start_time": "2023-07-05T22:45:05.692Z"
   },
   {
    "duration": 252,
    "start_time": "2023-07-05T22:46:22.504Z"
   },
   {
    "duration": 204,
    "start_time": "2023-07-05T22:47:37.227Z"
   },
   {
    "duration": 32,
    "start_time": "2023-07-05T22:53:27.003Z"
   },
   {
    "duration": 16,
    "start_time": "2023-07-05T22:53:30.769Z"
   },
   {
    "duration": 20,
    "start_time": "2023-07-05T22:54:59.514Z"
   },
   {
    "duration": 8,
    "start_time": "2023-07-05T22:55:10.407Z"
   },
   {
    "duration": 5,
    "start_time": "2023-07-05T22:55:40.645Z"
   },
   {
    "duration": 6,
    "start_time": "2023-07-05T22:55:58.015Z"
   },
   {
    "duration": 159,
    "start_time": "2023-07-05T22:56:45.816Z"
   },
   {
    "duration": 20,
    "start_time": "2023-07-05T22:57:24.223Z"
   },
   {
    "duration": 152,
    "start_time": "2023-07-05T22:58:59.900Z"
   },
   {
    "duration": 181,
    "start_time": "2023-07-05T22:59:17.172Z"
   },
   {
    "duration": 149,
    "start_time": "2023-07-05T22:59:22.647Z"
   },
   {
    "duration": 149,
    "start_time": "2023-07-05T22:59:28.170Z"
   },
   {
    "duration": 177,
    "start_time": "2023-07-05T23:00:32.641Z"
   },
   {
    "duration": 174,
    "start_time": "2023-07-05T23:00:43.719Z"
   },
   {
    "duration": 151,
    "start_time": "2023-07-05T23:00:52.522Z"
   },
   {
    "duration": 157,
    "start_time": "2023-07-05T23:00:58.909Z"
   },
   {
    "duration": 288,
    "start_time": "2023-07-05T23:01:56.009Z"
   },
   {
    "duration": 195,
    "start_time": "2023-07-05T23:02:02.225Z"
   },
   {
    "duration": 170,
    "start_time": "2023-07-05T23:02:07.855Z"
   },
   {
    "duration": 32,
    "start_time": "2023-07-05T23:03:20.961Z"
   },
   {
    "duration": 13,
    "start_time": "2023-07-05T23:03:35.713Z"
   },
   {
    "duration": 233,
    "start_time": "2023-07-05T23:07:36.703Z"
   },
   {
    "duration": 172,
    "start_time": "2023-07-05T23:08:35.891Z"
   },
   {
    "duration": 9,
    "start_time": "2023-07-05T23:09:02.939Z"
   },
   {
    "duration": 9,
    "start_time": "2023-07-05T23:09:06.550Z"
   },
   {
    "duration": 4,
    "start_time": "2023-07-05T23:09:23.498Z"
   },
   {
    "duration": 15,
    "start_time": "2023-07-05T23:09:39.872Z"
   },
   {
    "duration": 12,
    "start_time": "2023-07-05T23:09:52.833Z"
   },
   {
    "duration": 11,
    "start_time": "2023-07-05T23:09:57.242Z"
   },
   {
    "duration": 11,
    "start_time": "2023-07-05T23:10:24.900Z"
   },
   {
    "duration": 14,
    "start_time": "2023-07-05T23:11:07.872Z"
   },
   {
    "duration": 18,
    "start_time": "2023-07-05T23:11:28.929Z"
   },
   {
    "duration": 18,
    "start_time": "2023-07-05T23:11:52.306Z"
   },
   {
    "duration": 15,
    "start_time": "2023-07-05T23:12:08.670Z"
   },
   {
    "duration": 16,
    "start_time": "2023-07-05T23:12:15.904Z"
   },
   {
    "duration": 16,
    "start_time": "2023-07-05T23:12:39.320Z"
   },
   {
    "duration": 18,
    "start_time": "2023-07-05T23:12:44.450Z"
   },
   {
    "duration": 26,
    "start_time": "2023-07-05T23:12:52.209Z"
   },
   {
    "duration": 18,
    "start_time": "2023-07-05T23:12:57.968Z"
   },
   {
    "duration": 15,
    "start_time": "2023-07-05T23:13:03.795Z"
   },
   {
    "duration": 11,
    "start_time": "2023-07-05T23:13:23.188Z"
   },
   {
    "duration": 159,
    "start_time": "2023-07-05T23:14:42.059Z"
   },
   {
    "duration": 18,
    "start_time": "2023-07-05T23:15:14.248Z"
   },
   {
    "duration": 16,
    "start_time": "2023-07-05T23:15:33.199Z"
   },
   {
    "duration": 15,
    "start_time": "2023-07-05T23:26:48.367Z"
   },
   {
    "duration": 15,
    "start_time": "2023-07-05T23:33:42.897Z"
   },
   {
    "duration": 161,
    "start_time": "2023-07-05T23:38:24.402Z"
   },
   {
    "duration": 163,
    "start_time": "2023-07-05T23:39:04.360Z"
   },
   {
    "duration": 138,
    "start_time": "2023-07-05T23:39:16.716Z"
   },
   {
    "duration": 23,
    "start_time": "2023-07-05T23:39:32.611Z"
   },
   {
    "duration": 21,
    "start_time": "2023-07-05T23:39:46.867Z"
   },
   {
    "duration": 25,
    "start_time": "2023-07-05T23:43:15.830Z"
   },
   {
    "duration": 24,
    "start_time": "2023-07-05T23:43:19.936Z"
   },
   {
    "duration": 30,
    "start_time": "2023-07-05T23:43:23.572Z"
   },
   {
    "duration": 27,
    "start_time": "2023-07-05T23:44:01.549Z"
   },
   {
    "duration": 26,
    "start_time": "2023-07-05T23:44:05.290Z"
   },
   {
    "duration": 22,
    "start_time": "2023-07-05T23:44:10.920Z"
   },
   {
    "duration": 22,
    "start_time": "2023-07-05T23:44:19.386Z"
   },
   {
    "duration": 17,
    "start_time": "2023-07-05T23:44:25.929Z"
   },
   {
    "duration": 22,
    "start_time": "2023-07-05T23:44:29.245Z"
   },
   {
    "duration": 17,
    "start_time": "2023-07-05T23:45:22.410Z"
   },
   {
    "duration": 14,
    "start_time": "2023-07-05T23:45:23.784Z"
   },
   {
    "duration": 144,
    "start_time": "2023-07-05T23:45:31.787Z"
   },
   {
    "duration": 21,
    "start_time": "2023-07-05T23:46:01.616Z"
   },
   {
    "duration": 30,
    "start_time": "2023-07-05T23:46:32.268Z"
   },
   {
    "duration": 5,
    "start_time": "2023-07-05T23:46:45.959Z"
   },
   {
    "duration": 23,
    "start_time": "2023-07-05T23:47:47.984Z"
   },
   {
    "duration": 21,
    "start_time": "2023-07-05T23:47:59.187Z"
   },
   {
    "duration": 24,
    "start_time": "2023-07-05T23:48:03.923Z"
   },
   {
    "duration": 22,
    "start_time": "2023-07-05T23:48:13.979Z"
   },
   {
    "duration": 142,
    "start_time": "2023-07-05T23:49:08.864Z"
   },
   {
    "duration": 22,
    "start_time": "2023-07-05T23:56:40.290Z"
   },
   {
    "duration": 18,
    "start_time": "2023-07-05T23:56:59.920Z"
   },
   {
    "duration": 20,
    "start_time": "2023-07-05T23:57:04.832Z"
   },
   {
    "duration": 19,
    "start_time": "2023-07-05T23:57:56.590Z"
   },
   {
    "duration": 20,
    "start_time": "2023-07-05T23:58:04.392Z"
   },
   {
    "duration": 21,
    "start_time": "2023-07-05T23:58:09.287Z"
   },
   {
    "duration": 9,
    "start_time": "2023-07-05T23:59:52.891Z"
   },
   {
    "duration": 22,
    "start_time": "2023-07-06T00:00:01.851Z"
   },
   {
    "duration": 19,
    "start_time": "2023-07-06T00:00:07.262Z"
   },
   {
    "duration": 19,
    "start_time": "2023-07-06T00:00:10.751Z"
   },
   {
    "duration": 7,
    "start_time": "2023-07-06T00:00:16.609Z"
   },
   {
    "duration": 39,
    "start_time": "2023-07-06T00:03:33.458Z"
   },
   {
    "duration": 28,
    "start_time": "2023-07-06T00:03:39.961Z"
   },
   {
    "duration": 4,
    "start_time": "2023-07-06T00:03:47.508Z"
   },
   {
    "duration": 4,
    "start_time": "2023-07-06T00:03:54.509Z"
   },
   {
    "duration": 46,
    "start_time": "2023-07-06T00:04:06.542Z"
   },
   {
    "duration": 15,
    "start_time": "2023-07-06T00:04:15.104Z"
   },
   {
    "duration": 21,
    "start_time": "2023-07-06T00:04:30.268Z"
   },
   {
    "duration": 18,
    "start_time": "2023-07-06T00:04:30.479Z"
   },
   {
    "duration": 15,
    "start_time": "2023-07-06T00:06:36.154Z"
   },
   {
    "duration": 32,
    "start_time": "2023-07-06T00:08:32.461Z"
   },
   {
    "duration": 22,
    "start_time": "2023-07-06T00:08:38.038Z"
   },
   {
    "duration": 42,
    "start_time": "2023-07-06T00:08:43.231Z"
   },
   {
    "duration": 26,
    "start_time": "2023-07-06T00:09:10.137Z"
   },
   {
    "duration": 15,
    "start_time": "2023-07-06T00:09:10.731Z"
   },
   {
    "duration": 20,
    "start_time": "2023-07-06T00:09:20.336Z"
   },
   {
    "duration": 17,
    "start_time": "2023-07-06T00:09:24.784Z"
   },
   {
    "duration": 26,
    "start_time": "2023-07-06T00:09:32.885Z"
   },
   {
    "duration": 22,
    "start_time": "2023-07-06T00:09:38.902Z"
   },
   {
    "duration": 1746,
    "start_time": "2023-07-06T06:35:22.518Z"
   },
   {
    "duration": 1108,
    "start_time": "2023-07-06T06:35:24.266Z"
   },
   {
    "duration": 18,
    "start_time": "2023-07-06T06:35:25.376Z"
   },
   {
    "duration": 121,
    "start_time": "2023-07-06T06:35:25.395Z"
   },
   {
    "duration": 57,
    "start_time": "2023-07-06T06:35:25.518Z"
   },
   {
    "duration": 3,
    "start_time": "2023-07-06T06:35:25.577Z"
   },
   {
    "duration": 41,
    "start_time": "2023-07-06T06:35:25.602Z"
   },
   {
    "duration": 14,
    "start_time": "2023-07-06T06:35:25.645Z"
   },
   {
    "duration": 1319,
    "start_time": "2023-07-06T06:35:25.660Z"
   },
   {
    "duration": 82,
    "start_time": "2023-07-06T06:35:26.981Z"
   },
   {
    "duration": 213,
    "start_time": "2023-07-06T06:35:27.065Z"
   },
   {
    "duration": 44,
    "start_time": "2023-07-06T06:35:27.280Z"
   },
   {
    "duration": 101,
    "start_time": "2023-07-06T06:35:27.326Z"
   },
   {
    "duration": 4,
    "start_time": "2023-07-06T06:35:27.430Z"
   },
   {
    "duration": 69,
    "start_time": "2023-07-06T06:35:27.435Z"
   },
   {
    "duration": 185,
    "start_time": "2023-07-06T06:35:27.506Z"
   },
   {
    "duration": 147,
    "start_time": "2023-07-06T06:35:27.692Z"
   },
   {
    "duration": 155,
    "start_time": "2023-07-06T06:35:27.841Z"
   },
   {
    "duration": 10,
    "start_time": "2023-07-06T06:35:27.998Z"
   },
   {
    "duration": 25,
    "start_time": "2023-07-06T06:35:28.010Z"
   },
   {
    "duration": 15,
    "start_time": "2023-07-06T06:35:28.037Z"
   },
   {
    "duration": 48,
    "start_time": "2023-07-06T06:35:28.054Z"
   },
   {
    "duration": 14,
    "start_time": "2023-07-06T06:35:28.104Z"
   },
   {
    "duration": 155,
    "start_time": "2023-07-06T06:35:28.120Z"
   },
   {
    "duration": 8,
    "start_time": "2023-07-06T06:35:28.277Z"
   },
   {
    "duration": 24,
    "start_time": "2023-07-06T06:35:28.286Z"
   },
   {
    "duration": 21,
    "start_time": "2023-07-06T06:35:28.312Z"
   },
   {
    "duration": 15,
    "start_time": "2023-07-06T06:35:28.334Z"
   },
   {
    "duration": 20,
    "start_time": "2023-07-06T06:35:28.351Z"
   },
   {
    "duration": 40,
    "start_time": "2023-07-06T06:35:28.372Z"
   },
   {
    "duration": 20,
    "start_time": "2023-07-06T06:35:28.414Z"
   },
   {
    "duration": 30,
    "start_time": "2023-07-06T06:52:30.589Z"
   },
   {
    "duration": 23,
    "start_time": "2023-07-06T06:52:43.284Z"
   },
   {
    "duration": 192,
    "start_time": "2023-07-06T06:52:54.788Z"
   },
   {
    "duration": 24,
    "start_time": "2023-07-06T06:53:22.197Z"
   },
   {
    "duration": 33,
    "start_time": "2023-07-06T06:53:27.269Z"
   },
   {
    "duration": 21,
    "start_time": "2023-07-06T06:53:32.750Z"
   },
   {
    "duration": 31,
    "start_time": "2023-07-06T06:53:40.437Z"
   },
   {
    "duration": 39,
    "start_time": "2023-07-06T06:53:43.068Z"
   },
   {
    "duration": 28,
    "start_time": "2023-07-06T06:54:06.068Z"
   },
   {
    "duration": 18,
    "start_time": "2023-07-06T06:55:05.708Z"
   },
   {
    "duration": 22,
    "start_time": "2023-07-06T06:55:17.589Z"
   },
   {
    "duration": 19,
    "start_time": "2023-07-06T06:55:24.707Z"
   },
   {
    "duration": 18,
    "start_time": "2023-07-06T06:55:30.948Z"
   },
   {
    "duration": 24,
    "start_time": "2023-07-06T06:55:34.029Z"
   },
   {
    "duration": 19,
    "start_time": "2023-07-06T06:55:37.124Z"
   },
   {
    "duration": 20,
    "start_time": "2023-07-06T06:55:49.308Z"
   },
   {
    "duration": 30,
    "start_time": "2023-07-06T06:56:01.668Z"
   },
   {
    "duration": 24,
    "start_time": "2023-07-06T06:56:05.468Z"
   },
   {
    "duration": 25,
    "start_time": "2023-07-06T06:56:08.867Z"
   },
   {
    "duration": 26,
    "start_time": "2023-07-06T06:56:11.629Z"
   },
   {
    "duration": 28,
    "start_time": "2023-07-06T06:58:28.429Z"
   },
   {
    "duration": 34,
    "start_time": "2023-07-06T06:58:34.357Z"
   },
   {
    "duration": 23,
    "start_time": "2023-07-06T06:58:38.115Z"
   },
   {
    "duration": 30,
    "start_time": "2023-07-06T06:59:53.998Z"
   },
   {
    "duration": 24,
    "start_time": "2023-07-06T07:00:00.831Z"
   },
   {
    "duration": 57,
    "start_time": "2023-07-06T07:01:51.188Z"
   },
   {
    "duration": 28,
    "start_time": "2023-07-06T07:05:20.949Z"
   },
   {
    "duration": 31,
    "start_time": "2023-07-06T07:05:25.436Z"
   },
   {
    "duration": 29,
    "start_time": "2023-07-06T07:05:52.231Z"
   },
   {
    "duration": 986,
    "start_time": "2023-07-06T07:07:11.469Z"
   },
   {
    "duration": 141,
    "start_time": "2023-07-06T07:07:21.124Z"
   },
   {
    "duration": 39,
    "start_time": "2023-07-06T07:07:30.717Z"
   },
   {
    "duration": 126,
    "start_time": "2023-07-06T07:07:47.827Z"
   },
   {
    "duration": 39,
    "start_time": "2023-07-06T07:07:51.634Z"
   },
   {
    "duration": 148,
    "start_time": "2023-07-06T07:08:00.233Z"
   },
   {
    "duration": 17,
    "start_time": "2023-07-06T07:09:37.833Z"
   },
   {
    "duration": 12,
    "start_time": "2023-07-06T07:09:50.268Z"
   },
   {
    "duration": 28,
    "start_time": "2023-07-06T07:09:53.454Z"
   },
   {
    "duration": 138,
    "start_time": "2023-07-06T07:10:49.081Z"
   },
   {
    "duration": 122,
    "start_time": "2023-07-06T07:10:53.832Z"
   },
   {
    "duration": 28,
    "start_time": "2023-07-06T07:11:22.228Z"
   },
   {
    "duration": 91,
    "start_time": "2023-07-06T07:11:22.468Z"
   },
   {
    "duration": 26,
    "start_time": "2023-07-06T07:11:38.389Z"
   },
   {
    "duration": 22,
    "start_time": "2023-07-06T07:12:30.923Z"
   },
   {
    "duration": 13,
    "start_time": "2023-07-06T07:12:35.269Z"
   },
   {
    "duration": 66,
    "start_time": "2023-07-06T07:12:41.189Z"
   },
   {
    "duration": 114,
    "start_time": "2023-07-06T07:12:41.535Z"
   },
   {
    "duration": 104,
    "start_time": "2023-07-06T07:12:41.880Z"
   },
   {
    "duration": 19,
    "start_time": "2023-07-06T07:12:42.588Z"
   },
   {
    "duration": 97,
    "start_time": "2023-07-06T07:12:43.516Z"
   },
   {
    "duration": 212,
    "start_time": "2023-07-06T07:12:49.119Z"
   },
   {
    "duration": 183,
    "start_time": "2023-07-06T07:12:56.469Z"
   },
   {
    "duration": 8,
    "start_time": "2023-07-06T07:13:08.765Z"
   },
   {
    "duration": 30,
    "start_time": "2023-07-06T07:13:13.724Z"
   },
   {
    "duration": 7,
    "start_time": "2023-07-06T07:13:14.156Z"
   },
   {
    "duration": 1840,
    "start_time": "2023-07-06T07:18:16.405Z"
   },
   {
    "duration": 2,
    "start_time": "2023-07-06T07:18:18.249Z"
   },
   {
    "duration": 16,
    "start_time": "2023-07-06T07:18:18.253Z"
   },
   {
    "duration": 6,
    "start_time": "2023-07-06T07:18:18.271Z"
   },
   {
    "duration": 7,
    "start_time": "2023-07-06T07:18:18.280Z"
   },
   {
    "duration": 5,
    "start_time": "2023-07-06T07:18:18.289Z"
   },
   {
    "duration": 1041,
    "start_time": "2023-07-06T07:18:18.296Z"
   },
   {
    "duration": 21,
    "start_time": "2023-07-06T07:18:19.339Z"
   },
   {
    "duration": 153,
    "start_time": "2023-07-06T07:18:19.361Z"
   },
   {
    "duration": 52,
    "start_time": "2023-07-06T07:18:19.515Z"
   },
   {
    "duration": 3,
    "start_time": "2023-07-06T07:18:19.569Z"
   },
   {
    "duration": 192,
    "start_time": "2023-07-06T07:18:19.574Z"
   },
   {
    "duration": 0,
    "start_time": "2023-07-06T07:18:19.768Z"
   },
   {
    "duration": 0,
    "start_time": "2023-07-06T07:18:19.770Z"
   },
   {
    "duration": 0,
    "start_time": "2023-07-06T07:18:19.772Z"
   },
   {
    "duration": 0,
    "start_time": "2023-07-06T07:18:19.774Z"
   },
   {
    "duration": 0,
    "start_time": "2023-07-06T07:18:19.776Z"
   },
   {
    "duration": 0,
    "start_time": "2023-07-06T07:18:19.777Z"
   },
   {
    "duration": 0,
    "start_time": "2023-07-06T07:18:19.778Z"
   },
   {
    "duration": 0,
    "start_time": "2023-07-06T07:18:19.779Z"
   },
   {
    "duration": 0,
    "start_time": "2023-07-06T07:18:19.780Z"
   },
   {
    "duration": 0,
    "start_time": "2023-07-06T07:18:19.810Z"
   },
   {
    "duration": 0,
    "start_time": "2023-07-06T07:18:19.811Z"
   },
   {
    "duration": 0,
    "start_time": "2023-07-06T07:18:19.813Z"
   },
   {
    "duration": 0,
    "start_time": "2023-07-06T07:18:19.816Z"
   },
   {
    "duration": 0,
    "start_time": "2023-07-06T07:18:19.817Z"
   },
   {
    "duration": 0,
    "start_time": "2023-07-06T07:18:19.818Z"
   },
   {
    "duration": 0,
    "start_time": "2023-07-06T07:18:19.818Z"
   },
   {
    "duration": 0,
    "start_time": "2023-07-06T07:18:19.819Z"
   },
   {
    "duration": 0,
    "start_time": "2023-07-06T07:18:19.820Z"
   },
   {
    "duration": 0,
    "start_time": "2023-07-06T07:18:19.820Z"
   },
   {
    "duration": 0,
    "start_time": "2023-07-06T07:18:19.823Z"
   },
   {
    "duration": 0,
    "start_time": "2023-07-06T07:18:19.823Z"
   },
   {
    "duration": 0,
    "start_time": "2023-07-06T07:18:19.824Z"
   },
   {
    "duration": 0,
    "start_time": "2023-07-06T07:18:19.837Z"
   },
   {
    "duration": 0,
    "start_time": "2023-07-06T07:18:19.838Z"
   },
   {
    "duration": 1728,
    "start_time": "2023-07-06T07:18:40.358Z"
   },
   {
    "duration": 3,
    "start_time": "2023-07-06T07:18:42.088Z"
   },
   {
    "duration": 53,
    "start_time": "2023-07-06T07:18:42.093Z"
   },
   {
    "duration": 31,
    "start_time": "2023-07-06T07:18:42.148Z"
   },
   {
    "duration": 70,
    "start_time": "2023-07-06T07:18:42.181Z"
   },
   {
    "duration": 14,
    "start_time": "2023-07-06T07:18:42.254Z"
   },
   {
    "duration": 1048,
    "start_time": "2023-07-06T07:18:42.270Z"
   },
   {
    "duration": 22,
    "start_time": "2023-07-06T07:18:43.320Z"
   },
   {
    "duration": 215,
    "start_time": "2023-07-06T07:18:43.344Z"
   },
   {
    "duration": 76,
    "start_time": "2023-07-06T07:18:43.561Z"
   },
   {
    "duration": 14,
    "start_time": "2023-07-06T07:18:43.642Z"
   },
   {
    "duration": 59,
    "start_time": "2023-07-06T07:18:43.658Z"
   },
   {
    "duration": 61,
    "start_time": "2023-07-06T07:18:43.719Z"
   },
   {
    "duration": 1658,
    "start_time": "2023-07-06T07:18:43.784Z"
   },
   {
    "duration": 120,
    "start_time": "2023-07-06T07:18:45.447Z"
   },
   {
    "duration": 295,
    "start_time": "2023-07-06T07:18:45.569Z"
   },
   {
    "duration": 63,
    "start_time": "2023-07-06T07:18:45.865Z"
   },
   {
    "duration": 173,
    "start_time": "2023-07-06T07:18:45.938Z"
   },
   {
    "duration": 6,
    "start_time": "2023-07-06T07:18:46.113Z"
   },
   {
    "duration": 96,
    "start_time": "2023-07-06T07:18:46.120Z"
   },
   {
    "duration": 218,
    "start_time": "2023-07-06T07:18:46.218Z"
   },
   {
    "duration": 160,
    "start_time": "2023-07-06T07:18:46.439Z"
   },
   {
    "duration": 188,
    "start_time": "2023-07-06T07:18:46.601Z"
   },
   {
    "duration": 12,
    "start_time": "2023-07-06T07:18:46.790Z"
   },
   {
    "duration": 47,
    "start_time": "2023-07-06T07:18:46.812Z"
   },
   {
    "duration": 14,
    "start_time": "2023-07-06T07:18:46.861Z"
   },
   {
    "duration": 71,
    "start_time": "2023-07-06T07:18:46.877Z"
   },
   {
    "duration": 16,
    "start_time": "2023-07-06T07:18:46.951Z"
   },
   {
    "duration": 161,
    "start_time": "2023-07-06T07:18:46.969Z"
   },
   {
    "duration": 11,
    "start_time": "2023-07-06T07:18:47.131Z"
   },
   {
    "duration": 19,
    "start_time": "2023-07-06T07:18:47.144Z"
   },
   {
    "duration": 51,
    "start_time": "2023-07-06T07:18:47.164Z"
   },
   {
    "duration": 25,
    "start_time": "2023-07-06T07:18:47.218Z"
   },
   {
    "duration": 71,
    "start_time": "2023-07-06T07:18:47.248Z"
   },
   {
    "duration": 18,
    "start_time": "2023-07-06T07:18:47.327Z"
   },
   {
    "duration": 15,
    "start_time": "2023-07-06T07:18:47.349Z"
   },
   {
    "duration": 807,
    "start_time": "2023-07-06T07:19:18.033Z"
   },
   {
    "duration": 1607,
    "start_time": "2023-07-06T07:19:26.117Z"
   },
   {
    "duration": 26,
    "start_time": "2023-07-06T07:21:22.948Z"
   },
   {
    "duration": 36,
    "start_time": "2023-07-06T07:22:25.194Z"
   },
   {
    "duration": 66,
    "start_time": "2023-07-06T07:22:37.268Z"
   },
   {
    "duration": 160,
    "start_time": "2023-07-06T07:43:15.667Z"
   },
   {
    "duration": 20,
    "start_time": "2023-07-06T07:44:59.954Z"
   },
   {
    "duration": 23,
    "start_time": "2023-07-06T07:45:06.388Z"
   },
   {
    "duration": 160,
    "start_time": "2023-07-06T07:45:13.671Z"
   },
   {
    "duration": 117,
    "start_time": "2023-07-06T07:45:20.324Z"
   },
   {
    "duration": 28,
    "start_time": "2023-07-06T07:45:24.724Z"
   },
   {
    "duration": 23,
    "start_time": "2023-07-06T07:46:19.834Z"
   },
   {
    "duration": 23,
    "start_time": "2023-07-06T07:46:24.070Z"
   },
   {
    "duration": 30,
    "start_time": "2023-07-06T07:46:30.836Z"
   },
   {
    "duration": 12,
    "start_time": "2023-07-06T07:47:11.589Z"
   },
   {
    "duration": 28,
    "start_time": "2023-07-06T07:47:18.351Z"
   },
   {
    "duration": 7,
    "start_time": "2023-07-06T07:57:11.881Z"
   },
   {
    "duration": 74,
    "start_time": "2023-07-06T07:58:13.154Z"
   },
   {
    "duration": 36,
    "start_time": "2023-07-06T07:58:20.554Z"
   },
   {
    "duration": 41,
    "start_time": "2023-07-06T07:59:13.481Z"
   },
   {
    "duration": 21,
    "start_time": "2023-07-06T07:59:17.869Z"
   },
   {
    "duration": 312,
    "start_time": "2023-07-06T08:00:32.998Z"
   },
   {
    "duration": 242,
    "start_time": "2023-07-06T08:01:11.666Z"
   },
   {
    "duration": 42,
    "start_time": "2023-07-06T08:02:04.126Z"
   },
   {
    "duration": 64,
    "start_time": "2023-07-06T08:02:26.430Z"
   },
   {
    "duration": 52,
    "start_time": "2023-07-06T08:05:31.036Z"
   },
   {
    "duration": 47,
    "start_time": "2023-07-06T08:09:02.242Z"
   },
   {
    "duration": 32,
    "start_time": "2023-07-06T08:09:06.751Z"
   },
   {
    "duration": 17,
    "start_time": "2023-07-06T08:09:26.676Z"
   },
   {
    "duration": 2768,
    "start_time": "2023-07-06T08:12:41.127Z"
   },
   {
    "duration": 46,
    "start_time": "2023-07-06T08:14:24.152Z"
   },
   {
    "duration": 40,
    "start_time": "2023-07-06T08:14:34.333Z"
   },
   {
    "duration": 504,
    "start_time": "2023-07-06T08:15:34.668Z"
   },
   {
    "duration": 566,
    "start_time": "2023-07-06T08:15:39.788Z"
   },
   {
    "duration": 475,
    "start_time": "2023-07-06T08:18:02.988Z"
   },
   {
    "duration": 491,
    "start_time": "2023-07-06T08:18:12.639Z"
   },
   {
    "duration": 503,
    "start_time": "2023-07-06T08:18:22.189Z"
   },
   {
    "duration": 535,
    "start_time": "2023-07-06T08:18:30.189Z"
   },
   {
    "duration": 40,
    "start_time": "2023-07-06T08:44:56.694Z"
   },
   {
    "duration": 24,
    "start_time": "2023-07-06T08:45:01.995Z"
   },
   {
    "duration": 26,
    "start_time": "2023-07-06T08:45:13.631Z"
   },
   {
    "duration": 12,
    "start_time": "2023-07-06T08:45:16.894Z"
   },
   {
    "duration": 496,
    "start_time": "2023-07-06T08:57:16.450Z"
   },
   {
    "duration": 539,
    "start_time": "2023-07-06T08:57:21.695Z"
   },
   {
    "duration": 5,
    "start_time": "2023-07-06T09:08:41.785Z"
   },
   {
    "duration": 25,
    "start_time": "2023-07-06T09:12:55.020Z"
   },
   {
    "duration": 27,
    "start_time": "2023-07-06T09:13:15.167Z"
   },
   {
    "duration": 35,
    "start_time": "2023-07-06T09:15:04.095Z"
   },
   {
    "duration": 21,
    "start_time": "2023-07-06T09:15:13.450Z"
   },
   {
    "duration": 84,
    "start_time": "2023-07-06T09:15:39.135Z"
   },
   {
    "duration": 25,
    "start_time": "2023-07-06T09:15:49.751Z"
   },
   {
    "duration": 3,
    "start_time": "2023-07-06T09:22:18.890Z"
   },
   {
    "duration": 87,
    "start_time": "2023-07-06T09:22:40.746Z"
   },
   {
    "duration": 29,
    "start_time": "2023-07-06T09:22:45.618Z"
   },
   {
    "duration": 51,
    "start_time": "2023-07-06T09:23:35.272Z"
   },
   {
    "duration": 45,
    "start_time": "2023-07-06T09:23:53.946Z"
   },
   {
    "duration": 16,
    "start_time": "2023-07-06T09:24:08.966Z"
   },
   {
    "duration": 436,
    "start_time": "2023-07-06T09:26:34.096Z"
   },
   {
    "duration": 5,
    "start_time": "2023-07-06T09:26:40.296Z"
   },
   {
    "duration": 24,
    "start_time": "2023-07-06T09:26:42.995Z"
   },
   {
    "duration": 485,
    "start_time": "2023-07-06T09:26:53.655Z"
   },
   {
    "duration": 450,
    "start_time": "2023-07-06T09:30:15.786Z"
   },
   {
    "duration": 7,
    "start_time": "2023-07-06T09:30:20.821Z"
   },
   {
    "duration": 1397,
    "start_time": "2023-07-06T09:30:37.939Z"
   },
   {
    "duration": 5,
    "start_time": "2023-07-06T09:30:39.338Z"
   },
   {
    "duration": 493,
    "start_time": "2023-07-06T09:35:24.086Z"
   },
   {
    "duration": 374,
    "start_time": "2023-07-06T09:35:53.497Z"
   },
   {
    "duration": 26,
    "start_time": "2023-07-06T09:35:58.836Z"
   },
   {
    "duration": 302,
    "start_time": "2023-07-06T09:36:19.126Z"
   },
   {
    "duration": 102,
    "start_time": "2023-07-06T09:39:24.848Z"
   },
   {
    "duration": 32,
    "start_time": "2023-07-06T09:39:45.367Z"
   },
   {
    "duration": 476,
    "start_time": "2023-07-06T09:41:36.327Z"
   },
   {
    "duration": 518,
    "start_time": "2023-07-06T09:41:45.757Z"
   },
   {
    "duration": 3472,
    "start_time": "2023-07-06T09:42:44.765Z"
   },
   {
    "duration": 23,
    "start_time": "2023-07-06T09:42:54.687Z"
   },
   {
    "duration": 30,
    "start_time": "2023-07-06T09:43:06.256Z"
   },
   {
    "duration": 14,
    "start_time": "2023-07-06T09:43:24.368Z"
   },
   {
    "duration": 15,
    "start_time": "2023-07-06T09:43:33.398Z"
   },
   {
    "duration": 21,
    "start_time": "2023-07-06T09:44:05.738Z"
   },
   {
    "duration": 31,
    "start_time": "2023-07-06T09:44:09.698Z"
   },
   {
    "duration": 20,
    "start_time": "2023-07-06T09:44:28.118Z"
   },
   {
    "duration": 29,
    "start_time": "2023-07-06T09:44:38.967Z"
   },
   {
    "duration": 14,
    "start_time": "2023-07-06T09:44:48.276Z"
   },
   {
    "duration": 120,
    "start_time": "2023-07-06T09:46:08.256Z"
   },
   {
    "duration": 40,
    "start_time": "2023-07-06T09:46:09.777Z"
   },
   {
    "duration": 23,
    "start_time": "2023-07-06T09:46:35.619Z"
   },
   {
    "duration": 27,
    "start_time": "2023-07-06T09:46:44.987Z"
   },
   {
    "duration": 45,
    "start_time": "2023-07-06T09:46:49.888Z"
   },
   {
    "duration": 25,
    "start_time": "2023-07-06T09:55:54.389Z"
   },
   {
    "duration": 3202,
    "start_time": "2023-07-06T09:58:51.817Z"
   },
   {
    "duration": 916,
    "start_time": "2023-07-06T09:59:12.506Z"
   },
   {
    "duration": 25,
    "start_time": "2023-07-06T09:59:16.916Z"
   },
   {
    "duration": 47,
    "start_time": "2023-07-06T10:00:58.217Z"
   },
   {
    "duration": 31,
    "start_time": "2023-07-06T10:01:03.480Z"
   },
   {
    "duration": 48,
    "start_time": "2023-07-06T10:01:11.437Z"
   },
   {
    "duration": 14,
    "start_time": "2023-07-06T10:02:37.197Z"
   },
   {
    "duration": 5,
    "start_time": "2023-07-06T10:02:42.457Z"
   },
   {
    "duration": 14,
    "start_time": "2023-07-06T10:03:09.798Z"
   },
   {
    "duration": 8,
    "start_time": "2023-07-06T10:03:13.267Z"
   },
   {
    "duration": 4,
    "start_time": "2023-07-06T10:14:31.680Z"
   },
   {
    "duration": 5,
    "start_time": "2023-07-06T10:17:07.836Z"
   },
   {
    "duration": 17228,
    "start_time": "2023-07-06T10:21:33.590Z"
   },
   {
    "duration": 21108,
    "start_time": "2023-07-06T10:23:57.697Z"
   },
   {
    "duration": 19497,
    "start_time": "2023-07-06T10:25:16.339Z"
   },
   {
    "duration": 15,
    "start_time": "2023-07-06T10:26:22.238Z"
   },
   {
    "duration": 15,
    "start_time": "2023-07-06T10:29:23.920Z"
   },
   {
    "duration": 6,
    "start_time": "2023-07-06T10:29:32.407Z"
   },
   {
    "duration": 35903,
    "start_time": "2023-07-06T10:30:02.700Z"
   },
   {
    "duration": 39359,
    "start_time": "2023-07-06T10:31:31.858Z"
   },
   {
    "duration": 100,
    "start_time": "2023-07-06T10:42:06.947Z"
   },
   {
    "duration": 7,
    "start_time": "2023-07-06T10:42:09.188Z"
   },
   {
    "duration": 7,
    "start_time": "2023-07-06T10:48:20.122Z"
   },
   {
    "duration": 7,
    "start_time": "2023-07-06T10:48:23.829Z"
   },
   {
    "duration": 5016,
    "start_time": "2023-07-06T10:54:31.275Z"
   },
   {
    "duration": 445,
    "start_time": "2023-07-06T10:54:43.538Z"
   },
   {
    "duration": 528,
    "start_time": "2023-07-06T11:13:47.797Z"
   },
   {
    "duration": 747,
    "start_time": "2023-07-06T11:13:57.759Z"
   },
   {
    "duration": 885,
    "start_time": "2023-07-06T11:15:43.886Z"
   },
   {
    "duration": 520,
    "start_time": "2023-07-06T11:16:00.637Z"
   },
   {
    "duration": 1182,
    "start_time": "2023-07-06T11:17:16.235Z"
   },
   {
    "duration": 6,
    "start_time": "2023-07-06T11:17:39.040Z"
   },
   {
    "duration": 8,
    "start_time": "2023-07-06T11:17:49.869Z"
   },
   {
    "duration": 335,
    "start_time": "2023-07-06T11:17:57.777Z"
   },
   {
    "duration": 404,
    "start_time": "2023-07-06T11:18:08.828Z"
   },
   {
    "duration": 7,
    "start_time": "2023-07-06T11:18:30.128Z"
   },
   {
    "duration": 301,
    "start_time": "2023-07-06T11:18:34.668Z"
   },
   {
    "duration": 4,
    "start_time": "2023-07-06T11:31:34.619Z"
   },
   {
    "duration": 16,
    "start_time": "2023-07-06T11:32:27.606Z"
   },
   {
    "duration": 16,
    "start_time": "2023-07-06T11:32:37.417Z"
   },
   {
    "duration": 346,
    "start_time": "2023-07-06T11:34:51.818Z"
   },
   {
    "duration": 9,
    "start_time": "2023-07-06T11:35:00.558Z"
   },
   {
    "duration": 311,
    "start_time": "2023-07-06T11:35:08.388Z"
   },
   {
    "duration": 8,
    "start_time": "2023-07-06T11:38:22.995Z"
   },
   {
    "duration": 171,
    "start_time": "2023-07-06T11:38:25.094Z"
   },
   {
    "duration": 129,
    "start_time": "2023-07-06T11:38:35.522Z"
   },
   {
    "duration": 7,
    "start_time": "2023-07-06T11:45:43.295Z"
   },
   {
    "duration": 173,
    "start_time": "2023-07-06T11:45:44.149Z"
   },
   {
    "duration": 7,
    "start_time": "2023-07-06T11:46:01.749Z"
   },
   {
    "duration": 9,
    "start_time": "2023-07-06T11:47:43.727Z"
   },
   {
    "duration": 278,
    "start_time": "2023-07-06T11:47:45.968Z"
   },
   {
    "duration": 7,
    "start_time": "2023-07-06T11:48:47.869Z"
   },
   {
    "duration": 334,
    "start_time": "2023-07-06T11:48:50.156Z"
   },
   {
    "duration": 265,
    "start_time": "2023-07-06T11:49:04.739Z"
   },
   {
    "duration": 6,
    "start_time": "2023-07-06T11:49:39.102Z"
   },
   {
    "duration": 588,
    "start_time": "2023-07-06T11:49:44.349Z"
   },
   {
    "duration": 817906,
    "start_time": "2023-07-06T11:50:00.146Z"
   },
   {
    "duration": 95216,
    "start_time": "2023-07-06T12:03:53.217Z"
   },
   {
    "duration": 1333343,
    "start_time": "2023-07-06T12:07:39.227Z"
   },
   {
    "duration": 9813,
    "start_time": "2023-07-06T12:30:10.539Z"
   },
   {
    "duration": 1159151,
    "start_time": "2023-07-06T12:30:39.833Z"
   },
   {
    "duration": 5,
    "start_time": "2023-07-06T13:10:55.190Z"
   },
   {
    "duration": 14,
    "start_time": "2023-07-06T13:11:56.663Z"
   },
   {
    "duration": 114474,
    "start_time": "2023-07-06T13:12:04.643Z"
   },
   {
    "duration": 4,
    "start_time": "2023-07-06T13:16:37.579Z"
   },
   {
    "duration": 93762,
    "start_time": "2023-07-06T13:16:56.193Z"
   },
   {
    "duration": 3184,
    "start_time": "2023-07-06T13:23:23.982Z"
   },
   {
    "duration": 2576,
    "start_time": "2023-07-06T13:43:01.216Z"
   },
   {
    "duration": 7470,
    "start_time": "2023-07-06T13:44:57.855Z"
   },
   {
    "duration": 9950,
    "start_time": "2023-07-06T13:45:19.585Z"
   },
   {
    "duration": 234,
    "start_time": "2023-07-06T13:47:00.632Z"
   },
   {
    "duration": 392,
    "start_time": "2023-07-06T13:47:30.027Z"
   },
   {
    "duration": 29,
    "start_time": "2023-07-06T13:47:34.727Z"
   },
   {
    "duration": 21,
    "start_time": "2023-07-06T13:47:52.155Z"
   },
   {
    "duration": 2518,
    "start_time": "2023-07-06T13:49:51.691Z"
   },
   {
    "duration": 7,
    "start_time": "2023-07-06T13:50:08.399Z"
   },
   {
    "duration": 4,
    "start_time": "2023-07-06T14:01:20.255Z"
   },
   {
    "duration": 91,
    "start_time": "2023-07-06T14:02:16.393Z"
   },
   {
    "duration": 5309,
    "start_time": "2023-07-06T14:02:33.236Z"
   },
   {
    "duration": 2664,
    "start_time": "2023-07-06T14:02:38.547Z"
   },
   {
    "duration": 8441,
    "start_time": "2023-07-06T14:02:41.212Z"
   },
   {
    "duration": 1301,
    "start_time": "2023-07-06T14:02:49.655Z"
   },
   {
    "duration": 24,
    "start_time": "2023-07-06T14:02:50.959Z"
   },
   {
    "duration": 125,
    "start_time": "2023-07-06T14:02:50.984Z"
   },
   {
    "duration": 54,
    "start_time": "2023-07-06T14:02:51.112Z"
   },
   {
    "duration": 4,
    "start_time": "2023-07-06T14:02:51.167Z"
   },
   {
    "duration": 73,
    "start_time": "2023-07-06T14:02:51.173Z"
   },
   {
    "duration": 28,
    "start_time": "2023-07-06T14:02:51.248Z"
   },
   {
    "duration": 2178,
    "start_time": "2023-07-06T14:02:51.278Z"
   },
   {
    "duration": 110,
    "start_time": "2023-07-06T14:02:53.458Z"
   },
   {
    "duration": 454,
    "start_time": "2023-07-06T14:02:53.570Z"
   },
   {
    "duration": 38,
    "start_time": "2023-07-06T14:02:54.027Z"
   },
   {
    "duration": 162,
    "start_time": "2023-07-06T14:02:54.067Z"
   },
   {
    "duration": 4,
    "start_time": "2023-07-06T14:02:54.231Z"
   },
   {
    "duration": 72,
    "start_time": "2023-07-06T14:02:54.236Z"
   },
   {
    "duration": 405,
    "start_time": "2023-07-06T14:02:54.311Z"
   },
   {
    "duration": 308,
    "start_time": "2023-07-06T14:02:54.719Z"
   },
   {
    "duration": 481,
    "start_time": "2023-07-06T14:02:55.029Z"
   },
   {
    "duration": 15,
    "start_time": "2023-07-06T14:02:55.513Z"
   },
   {
    "duration": 47,
    "start_time": "2023-07-06T14:02:55.531Z"
   },
   {
    "duration": 37,
    "start_time": "2023-07-06T14:02:55.580Z"
   },
   {
    "duration": 33,
    "start_time": "2023-07-06T14:02:55.619Z"
   },
   {
    "duration": 18,
    "start_time": "2023-07-06T14:02:55.654Z"
   },
   {
    "duration": 328,
    "start_time": "2023-07-06T14:02:55.674Z"
   },
   {
    "duration": 9,
    "start_time": "2023-07-06T14:02:56.004Z"
   },
   {
    "duration": 7,
    "start_time": "2023-07-06T14:02:56.014Z"
   },
   {
    "duration": 35,
    "start_time": "2023-07-06T14:02:56.023Z"
   },
   {
    "duration": 15,
    "start_time": "2023-07-06T14:02:56.060Z"
   },
   {
    "duration": 30,
    "start_time": "2023-07-06T14:02:56.101Z"
   },
   {
    "duration": 14,
    "start_time": "2023-07-06T14:02:56.133Z"
   },
   {
    "duration": 70,
    "start_time": "2023-07-06T14:02:56.149Z"
   },
   {
    "duration": 115,
    "start_time": "2023-07-06T14:02:56.221Z"
   },
   {
    "duration": 11,
    "start_time": "2023-07-06T14:02:56.338Z"
   },
   {
    "duration": 13,
    "start_time": "2023-07-06T14:02:56.351Z"
   },
   {
    "duration": 11,
    "start_time": "2023-07-06T14:02:56.366Z"
   },
   {
    "duration": 51,
    "start_time": "2023-07-06T14:02:56.379Z"
   },
   {
    "duration": 24,
    "start_time": "2023-07-06T14:02:56.431Z"
   },
   {
    "duration": 377,
    "start_time": "2023-07-06T14:02:56.456Z"
   },
   {
    "duration": 26,
    "start_time": "2023-07-06T14:02:56.837Z"
   },
   {
    "duration": 40,
    "start_time": "2023-07-06T14:02:56.864Z"
   },
   {
    "duration": 23,
    "start_time": "2023-07-06T14:02:56.908Z"
   },
   {
    "duration": 2243,
    "start_time": "2023-07-06T14:02:56.933Z"
   },
   {
    "duration": 27,
    "start_time": "2023-07-06T14:02:59.178Z"
   },
   {
    "duration": 456,
    "start_time": "2023-07-06T14:02:59.210Z"
   },
   {
    "duration": 15,
    "start_time": "2023-07-06T14:02:59.668Z"
   },
   {
    "duration": 29,
    "start_time": "2023-07-06T14:02:59.684Z"
   },
   {
    "duration": 497,
    "start_time": "2023-07-06T14:02:59.715Z"
   },
   {
    "duration": 385,
    "start_time": "2023-07-06T14:03:00.217Z"
   },
   {
    "duration": 135,
    "start_time": "2023-07-06T14:03:00.604Z"
   },
   {
    "duration": 30,
    "start_time": "2023-07-06T14:03:00.741Z"
   },
   {
    "duration": 19,
    "start_time": "2023-07-06T14:03:00.773Z"
   },
   {
    "duration": 1009,
    "start_time": "2023-07-06T14:03:00.793Z"
   },
   {
    "duration": 50,
    "start_time": "2023-07-06T14:03:01.805Z"
   },
   {
    "duration": 9,
    "start_time": "2023-07-06T14:03:01.857Z"
   },
   {
    "duration": 107,
    "start_time": "2023-07-06T14:04:16.609Z"
   },
   {
    "duration": 74,
    "start_time": "2023-07-06T14:05:06.402Z"
   },
   {
    "duration": 50,
    "start_time": "2023-07-06T14:05:07.510Z"
   },
   {
    "duration": 33,
    "start_time": "2023-07-06T14:05:55.267Z"
   },
   {
    "duration": 41,
    "start_time": "2023-07-06T14:07:13.145Z"
   },
   {
    "duration": 113113,
    "start_time": "2023-07-06T14:07:26.318Z"
   },
   {
    "duration": 144762,
    "start_time": "2023-07-06T14:09:39.246Z"
   },
   {
    "duration": 248,
    "start_time": "2023-07-06T14:12:10.937Z"
   },
   {
    "duration": 11406,
    "start_time": "2023-07-06T14:12:16.227Z"
   },
   {
    "duration": 383,
    "start_time": "2023-07-06T14:13:06.727Z"
   },
   {
    "duration": 380,
    "start_time": "2023-07-06T14:13:52.729Z"
   },
   {
    "duration": 30,
    "start_time": "2023-07-06T14:13:55.309Z"
   },
   {
    "duration": 453,
    "start_time": "2023-07-06T14:14:00.326Z"
   },
   {
    "duration": 30,
    "start_time": "2023-07-06T14:14:01.937Z"
   },
   {
    "duration": 16,
    "start_time": "2023-07-06T14:25:31.557Z"
   },
   {
    "duration": 161324,
    "start_time": "2023-07-06T14:25:52.402Z"
   },
   {
    "duration": 241606,
    "start_time": "2023-07-06T14:36:30.598Z"
   },
   {
    "duration": 575,
    "start_time": "2023-07-06T14:42:09.658Z"
   },
   {
    "duration": 3,
    "start_time": "2023-07-06T14:51:40.437Z"
   },
   {
    "duration": 3,
    "start_time": "2023-07-06T15:03:23.018Z"
   },
   {
    "duration": 534516,
    "start_time": "2023-07-06T15:03:43.390Z"
   },
   {
    "duration": 3,
    "start_time": "2023-07-06T15:14:41.796Z"
   },
   {
    "duration": 12,
    "start_time": "2023-07-06T15:15:25.977Z"
   },
   {
    "duration": 13,
    "start_time": "2023-07-06T15:15:41.227Z"
   },
   {
    "duration": 3,
    "start_time": "2023-07-06T15:15:50.905Z"
   },
   {
    "duration": 142,
    "start_time": "2023-07-06T15:23:23.086Z"
   },
   {
    "duration": 4,
    "start_time": "2023-07-06T15:23:33.502Z"
   },
   {
    "duration": 101,
    "start_time": "2023-07-06T15:23:35.090Z"
   },
   {
    "duration": 842788,
    "start_time": "2023-07-06T15:23:46.693Z"
   },
   {
    "duration": 5,
    "start_time": "2023-07-06T15:38:03.240Z"
   },
   {
    "duration": 21436,
    "start_time": "2023-07-06T15:38:03.917Z"
   },
   {
    "duration": 381112,
    "start_time": "2023-07-06T15:38:48.596Z"
   },
   {
    "duration": 5,
    "start_time": "2023-07-06T15:45:09.710Z"
   },
   {
    "duration": 4,
    "start_time": "2023-07-06T15:46:09.740Z"
   },
   {
    "duration": 22073,
    "start_time": "2023-07-06T15:46:10.412Z"
   },
   {
    "duration": 22641,
    "start_time": "2023-07-06T15:46:45.703Z"
   },
   {
    "duration": 27669,
    "start_time": "2023-07-06T15:47:39.043Z"
   },
   {
    "duration": 5,
    "start_time": "2023-07-06T15:48:40.640Z"
   },
   {
    "duration": 16,
    "start_time": "2023-07-06T15:48:52.040Z"
   },
   {
    "duration": 12,
    "start_time": "2023-07-06T15:48:53.899Z"
   },
   {
    "duration": 11,
    "start_time": "2023-07-06T15:48:59.003Z"
   },
   {
    "duration": 14,
    "start_time": "2023-07-06T15:49:01.253Z"
   },
   {
    "duration": 14,
    "start_time": "2023-07-06T15:53:21.166Z"
   },
   {
    "duration": 13,
    "start_time": "2023-07-06T15:53:27.796Z"
   },
   {
    "duration": 15,
    "start_time": "2023-07-06T15:53:34.446Z"
   },
   {
    "duration": 5,
    "start_time": "2023-07-06T15:58:11.045Z"
   },
   {
    "duration": 4,
    "start_time": "2023-07-06T15:59:52.608Z"
   },
   {
    "duration": 497176,
    "start_time": "2023-07-06T16:00:08.945Z"
   },
   {
    "duration": 11,
    "start_time": "2023-07-06T16:24:33.629Z"
   },
   {
    "duration": 31,
    "start_time": "2023-07-06T16:24:35.849Z"
   },
   {
    "duration": 5,
    "start_time": "2023-07-06T16:24:46.516Z"
   },
   {
    "duration": 26038,
    "start_time": "2023-07-06T16:24:48.010Z"
   },
   {
    "duration": 5,
    "start_time": "2023-07-06T16:25:20.124Z"
   },
   {
    "duration": 568496,
    "start_time": "2023-07-06T16:25:21.041Z"
   },
   {
    "duration": 9,
    "start_time": "2023-07-06T16:39:20.015Z"
   },
   {
    "duration": 12,
    "start_time": "2023-07-06T16:41:03.537Z"
   },
   {
    "duration": 5,
    "start_time": "2023-07-06T16:41:09.702Z"
   },
   {
    "duration": 4,
    "start_time": "2023-07-06T16:41:13.666Z"
   },
   {
    "duration": 11,
    "start_time": "2023-07-06T16:41:46.736Z"
   },
   {
    "duration": 11,
    "start_time": "2023-07-06T16:41:51.267Z"
   },
   {
    "duration": 5,
    "start_time": "2023-07-06T16:42:34.817Z"
   },
   {
    "duration": 27,
    "start_time": "2023-07-06T16:42:36.195Z"
   },
   {
    "duration": 4,
    "start_time": "2023-07-06T16:43:34.245Z"
   },
   {
    "duration": 423215,
    "start_time": "2023-07-06T16:43:35.647Z"
   },
   {
    "duration": 7,
    "start_time": "2023-07-06T16:53:18.756Z"
   },
   {
    "duration": 6,
    "start_time": "2023-07-06T16:53:20.020Z"
   },
   {
    "duration": 45317,
    "start_time": "2023-07-06T16:53:20.827Z"
   },
   {
    "duration": 4,
    "start_time": "2023-07-06T16:54:16.057Z"
   },
   {
    "duration": 102836,
    "start_time": "2023-07-06T16:54:16.337Z"
   },
   {
    "duration": 0,
    "start_time": "2023-07-06T16:55:59.176Z"
   },
   {
    "duration": 10,
    "start_time": "2023-07-06T16:56:51.698Z"
   },
   {
    "duration": 14060,
    "start_time": "2023-07-06T16:56:52.126Z"
   },
   {
    "duration": 4,
    "start_time": "2023-07-06T16:57:12.386Z"
   },
   {
    "duration": 1402,
    "start_time": "2023-07-06T16:57:12.392Z"
   },
   {
    "duration": 5,
    "start_time": "2023-07-06T16:57:29.745Z"
   },
   {
    "duration": 23,
    "start_time": "2023-07-06T16:57:30.125Z"
   },
   {
    "duration": 4,
    "start_time": "2023-07-06T16:57:35.455Z"
   },
   {
    "duration": 994,
    "start_time": "2023-07-06T16:57:35.657Z"
   },
   {
    "duration": 5,
    "start_time": "2023-07-06T16:57:45.697Z"
   },
   {
    "duration": 2264,
    "start_time": "2023-07-06T16:57:46.046Z"
   },
   {
    "duration": 6,
    "start_time": "2023-07-06T16:58:03.246Z"
   },
   {
    "duration": 16270,
    "start_time": "2023-07-06T16:58:03.598Z"
   },
   {
    "duration": 5,
    "start_time": "2023-07-06T16:58:59.846Z"
   },
   {
    "duration": 24542,
    "start_time": "2023-07-06T16:59:00.116Z"
   },
   {
    "duration": 6,
    "start_time": "2023-07-06T17:00:13.417Z"
   },
   {
    "duration": 105679,
    "start_time": "2023-07-06T17:00:14.426Z"
   },
   {
    "duration": 4,
    "start_time": "2023-07-06T17:04:41.791Z"
   },
   {
    "duration": 6,
    "start_time": "2023-07-06T17:06:14.073Z"
   },
   {
    "duration": 326,
    "start_time": "2023-07-06T17:09:06.116Z"
   },
   {
    "duration": 1187,
    "start_time": "2023-07-06T17:09:23.745Z"
   },
   {
    "duration": 547,
    "start_time": "2023-07-06T17:16:36.812Z"
   },
   {
    "duration": 442,
    "start_time": "2023-07-06T17:16:49.746Z"
   },
   {
    "duration": 645,
    "start_time": "2023-07-06T17:17:01.426Z"
   },
   {
    "duration": 1232,
    "start_time": "2023-07-06T17:18:53.793Z"
   },
   {
    "duration": 653,
    "start_time": "2023-07-06T17:21:02.601Z"
   },
   {
    "duration": 5,
    "start_time": "2023-07-06T17:21:28.291Z"
   },
   {
    "duration": 217437,
    "start_time": "2023-07-06T17:21:29.327Z"
   },
   {
    "duration": 1232,
    "start_time": "2023-07-06T17:29:07.736Z"
   },
   {
    "duration": 659,
    "start_time": "2023-07-06T17:29:19.037Z"
   },
   {
    "duration": 661,
    "start_time": "2023-07-06T17:30:21.892Z"
   },
   {
    "duration": 1293,
    "start_time": "2023-07-06T17:30:25.431Z"
   },
   {
    "duration": 657,
    "start_time": "2023-07-06T17:30:27.482Z"
   },
   {
    "duration": 5,
    "start_time": "2023-07-06T17:30:37.357Z"
   },
   {
    "duration": 236831,
    "start_time": "2023-07-06T17:30:37.930Z"
   },
   {
    "duration": 1212,
    "start_time": "2023-07-06T17:37:38.267Z"
   },
   {
    "duration": 631,
    "start_time": "2023-07-06T17:37:41.852Z"
   },
   {
    "duration": 1351,
    "start_time": "2023-07-06T17:38:19.535Z"
   },
   {
    "duration": 629,
    "start_time": "2023-07-06T17:38:20.905Z"
   },
   {
    "duration": 1264,
    "start_time": "2023-07-06T17:38:25.697Z"
   },
   {
    "duration": 669,
    "start_time": "2023-07-06T17:38:26.964Z"
   },
   {
    "duration": 1341,
    "start_time": "2023-07-06T17:39:14.520Z"
   },
   {
    "duration": 1380,
    "start_time": "2023-07-06T17:39:27.494Z"
   },
   {
    "duration": 1270,
    "start_time": "2023-07-06T17:39:56.458Z"
   },
   {
    "duration": 659,
    "start_time": "2023-07-06T17:40:00.237Z"
   },
   {
    "duration": 5,
    "start_time": "2023-07-06T17:40:35.630Z"
   },
   {
    "duration": 5,
    "start_time": "2023-07-06T17:42:24.547Z"
   },
   {
    "duration": 160,
    "start_time": "2023-07-06T17:42:25.615Z"
   },
   {
    "duration": 5,
    "start_time": "2023-07-06T17:42:33.639Z"
   },
   {
    "duration": 482688,
    "start_time": "2023-07-06T17:42:33.847Z"
   },
   {
    "duration": 1276,
    "start_time": "2023-07-06T17:54:24.488Z"
   },
   {
    "duration": 635,
    "start_time": "2023-07-06T17:54:39.048Z"
   },
   {
    "duration": 16,
    "start_time": "2023-07-06T17:56:08.900Z"
   },
   {
    "duration": 1156385,
    "start_time": "2023-07-06T17:56:09.439Z"
   },
   {
    "duration": 11,
    "start_time": "2023-07-06T18:18:00.890Z"
   },
   {
    "duration": 4,
    "start_time": "2023-07-06T18:18:04.898Z"
   },
   {
    "duration": 154,
    "start_time": "2023-07-06T18:19:11.907Z"
   },
   {
    "duration": 2176,
    "start_time": "2023-07-06T18:19:14.632Z"
   },
   {
    "duration": 680,
    "start_time": "2023-07-06T18:19:20.530Z"
   },
   {
    "duration": 2195,
    "start_time": "2023-07-06T18:19:44.512Z"
   },
   {
    "duration": 522,
    "start_time": "2023-07-06T18:19:59.409Z"
   },
   {
    "duration": 2108,
    "start_time": "2023-07-06T18:20:13.317Z"
   },
   {
    "duration": 538,
    "start_time": "2023-07-06T18:20:15.503Z"
   },
   {
    "duration": 1951,
    "start_time": "2023-07-06T18:20:28.551Z"
   },
   {
    "duration": 522,
    "start_time": "2023-07-06T18:20:30.505Z"
   },
   {
    "duration": 5,
    "start_time": "2023-07-06T18:21:02.131Z"
   },
   {
    "duration": 8,
    "start_time": "2023-07-06T18:21:02.394Z"
   },
   {
    "duration": 13225,
    "start_time": "2023-07-06T18:21:04.243Z"
   },
   {
    "duration": 12,
    "start_time": "2023-07-06T18:26:16.195Z"
   },
   {
    "duration": 4,
    "start_time": "2023-07-06T18:26:36.423Z"
   },
   {
    "duration": 805788,
    "start_time": "2023-07-06T18:26:36.743Z"
   },
   {
    "duration": 4,
    "start_time": "2023-07-06T18:40:18.055Z"
   },
   {
    "duration": 2209,
    "start_time": "2023-07-06T18:40:31.512Z"
   },
   {
    "duration": 610,
    "start_time": "2023-07-06T18:40:37.198Z"
   },
   {
    "duration": 12,
    "start_time": "2023-07-06T18:41:38.032Z"
   },
   {
    "duration": 11,
    "start_time": "2023-07-06T18:41:43.634Z"
   },
   {
    "duration": 16,
    "start_time": "2023-07-06T18:42:20.608Z"
   },
   {
    "duration": 11,
    "start_time": "2023-07-06T18:42:53.821Z"
   },
   {
    "duration": 72404,
    "start_time": "2023-07-06T18:43:59.844Z"
   },
   {
    "duration": 5,
    "start_time": "2023-07-06T18:47:45.334Z"
   },
   {
    "duration": 25426,
    "start_time": "2023-07-06T18:57:57.812Z"
   },
   {
    "duration": 20985,
    "start_time": "2023-07-06T18:58:23.240Z"
   },
   {
    "duration": 19226,
    "start_time": "2023-07-06T18:59:06.315Z"
   },
   {
    "duration": 0,
    "start_time": "2023-07-06T19:15:55.954Z"
   },
   {
    "duration": 21096,
    "start_time": "2023-07-06T19:16:06.335Z"
   },
   {
    "duration": 11,
    "start_time": "2023-07-06T19:16:54.316Z"
   },
   {
    "duration": 13,
    "start_time": "2023-07-06T19:17:14.686Z"
   },
   {
    "duration": 13,
    "start_time": "2023-07-06T19:17:36.595Z"
   },
   {
    "duration": 18189,
    "start_time": "2023-07-06T19:17:46.336Z"
   },
   {
    "duration": 278,
    "start_time": "2023-07-06T19:18:04.528Z"
   },
   {
    "duration": 7,
    "start_time": "2023-07-06T19:18:04.809Z"
   },
   {
    "duration": 5,
    "start_time": "2023-07-06T19:18:16.886Z"
   },
   {
    "duration": 16,
    "start_time": "2023-07-06T19:18:24.864Z"
   },
   {
    "duration": 151,
    "start_time": "2023-07-06T19:18:41.935Z"
   },
   {
    "duration": 146,
    "start_time": "2023-07-06T19:18:42.192Z"
   },
   {
    "duration": 606219,
    "start_time": "2023-07-06T19:18:45.498Z"
   },
   {
    "duration": 59912,
    "start_time": "2023-07-06T19:28:51.719Z"
   },
   {
    "duration": 1872,
    "start_time": "2023-07-06T19:29:51.632Z"
   },
   {
    "duration": 12304,
    "start_time": "2023-07-06T19:29:53.506Z"
   },
   {
    "duration": 409,
    "start_time": "2023-07-06T19:30:05.811Z"
   },
   {
    "duration": 26,
    "start_time": "2023-07-06T19:30:06.222Z"
   },
   {
    "duration": 12,
    "start_time": "2023-07-06T19:32:24.797Z"
   },
   {
    "duration": 20,
    "start_time": "2023-07-06T19:42:23.136Z"
   },
   {
    "duration": 473,
    "start_time": "2023-07-06T19:43:05.444Z"
   },
   {
    "duration": 11,
    "start_time": "2023-07-06T19:43:17.654Z"
   },
   {
    "duration": 52,
    "start_time": "2023-07-07T08:03:25.344Z"
   },
   {
    "duration": 5071,
    "start_time": "2023-07-07T08:03:42.806Z"
   },
   {
    "duration": 2478,
    "start_time": "2023-07-07T08:03:47.879Z"
   },
   {
    "duration": 2344,
    "start_time": "2023-07-07T08:03:50.359Z"
   },
   {
    "duration": 2966,
    "start_time": "2023-07-07T08:03:52.705Z"
   },
   {
    "duration": 24,
    "start_time": "2023-07-07T08:03:55.674Z"
   },
   {
    "duration": 126,
    "start_time": "2023-07-07T08:03:55.699Z"
   },
   {
    "duration": 49,
    "start_time": "2023-07-07T08:03:55.827Z"
   },
   {
    "duration": 4,
    "start_time": "2023-07-07T08:03:55.877Z"
   },
   {
    "duration": 65,
    "start_time": "2023-07-07T08:03:55.883Z"
   },
   {
    "duration": 15,
    "start_time": "2023-07-07T08:03:55.950Z"
   },
   {
    "duration": 1365,
    "start_time": "2023-07-07T08:03:55.967Z"
   },
   {
    "duration": 120,
    "start_time": "2023-07-07T08:03:57.334Z"
   },
   {
    "duration": 43,
    "start_time": "2023-07-07T08:04:03.416Z"
   },
   {
    "duration": 24,
    "start_time": "2023-07-07T08:06:40.447Z"
   },
   {
    "duration": 68,
    "start_time": "2023-07-07T08:11:09.950Z"
   },
   {
    "duration": 126,
    "start_time": "2023-07-07T08:11:14.846Z"
   },
   {
    "duration": 146,
    "start_time": "2023-07-07T08:11:39.098Z"
   },
   {
    "duration": 125,
    "start_time": "2023-07-07T08:11:43.145Z"
   },
   {
    "duration": 156,
    "start_time": "2023-07-07T08:11:56.476Z"
   },
   {
    "duration": 117,
    "start_time": "2023-07-07T08:12:04.650Z"
   },
   {
    "duration": 122,
    "start_time": "2023-07-07T08:12:11.245Z"
   },
   {
    "duration": 23,
    "start_time": "2023-07-07T08:12:18.577Z"
   },
   {
    "duration": 5,
    "start_time": "2023-07-07T08:12:29.245Z"
   },
   {
    "duration": 3,
    "start_time": "2023-07-07T08:12:55.966Z"
   },
   {
    "duration": 111,
    "start_time": "2023-07-07T08:13:08.834Z"
   },
   {
    "duration": 100,
    "start_time": "2023-07-07T08:13:19.166Z"
   },
   {
    "duration": 102,
    "start_time": "2023-07-07T08:13:36.724Z"
   },
   {
    "duration": 140,
    "start_time": "2023-07-07T08:13:42.366Z"
   },
   {
    "duration": 179,
    "start_time": "2023-07-07T08:14:08.046Z"
   },
   {
    "duration": 113,
    "start_time": "2023-07-07T08:14:12.986Z"
   },
   {
    "duration": 168,
    "start_time": "2023-07-07T08:16:17.293Z"
   },
   {
    "duration": 178,
    "start_time": "2023-07-07T08:16:22.878Z"
   },
   {
    "duration": 137,
    "start_time": "2023-07-07T08:16:26.886Z"
   },
   {
    "duration": 183,
    "start_time": "2023-07-07T08:16:31.336Z"
   },
   {
    "duration": 26,
    "start_time": "2023-07-07T08:16:36.491Z"
   },
   {
    "duration": 181,
    "start_time": "2023-07-07T08:16:48.888Z"
   },
   {
    "duration": 198,
    "start_time": "2023-07-07T08:16:53.666Z"
   },
   {
    "duration": 212,
    "start_time": "2023-07-07T08:17:24.627Z"
   },
   {
    "duration": 155,
    "start_time": "2023-07-07T08:17:27.898Z"
   },
   {
    "duration": 226,
    "start_time": "2023-07-07T08:17:36.327Z"
   },
   {
    "duration": 156,
    "start_time": "2023-07-07T08:17:40.516Z"
   },
   {
    "duration": 164,
    "start_time": "2023-07-07T08:17:43.696Z"
   },
   {
    "duration": 158,
    "start_time": "2023-07-07T08:17:52.756Z"
   },
   {
    "duration": 156,
    "start_time": "2023-07-07T08:17:59.821Z"
   },
   {
    "duration": 116,
    "start_time": "2023-07-07T08:18:11.975Z"
   },
   {
    "duration": 105,
    "start_time": "2023-07-07T08:18:30.446Z"
   },
   {
    "duration": 118,
    "start_time": "2023-07-07T08:19:09.154Z"
   },
   {
    "duration": 104,
    "start_time": "2023-07-07T08:19:24.717Z"
   },
   {
    "duration": 101,
    "start_time": "2023-07-07T08:20:36.250Z"
   },
   {
    "duration": 11,
    "start_time": "2023-07-07T08:20:43.505Z"
   },
   {
    "duration": 2258,
    "start_time": "2023-07-07T08:21:17.316Z"
   },
   {
    "duration": 2230,
    "start_time": "2023-07-07T08:21:19.577Z"
   },
   {
    "duration": 5,
    "start_time": "2023-07-07T08:21:21.809Z"
   },
   {
    "duration": 805,
    "start_time": "2023-07-07T08:21:21.816Z"
   },
   {
    "duration": 16,
    "start_time": "2023-07-07T08:21:22.623Z"
   },
   {
    "duration": 131,
    "start_time": "2023-07-07T08:21:22.641Z"
   },
   {
    "duration": 33,
    "start_time": "2023-07-07T08:21:22.774Z"
   },
   {
    "duration": 5,
    "start_time": "2023-07-07T08:21:22.809Z"
   },
   {
    "duration": 60,
    "start_time": "2023-07-07T08:21:22.815Z"
   },
   {
    "duration": 22,
    "start_time": "2023-07-07T08:21:22.877Z"
   },
   {
    "duration": 1433,
    "start_time": "2023-07-07T08:21:22.901Z"
   },
   {
    "duration": 108,
    "start_time": "2023-07-07T08:21:24.337Z"
   },
   {
    "duration": 247,
    "start_time": "2023-07-07T08:21:24.446Z"
   },
   {
    "duration": 3,
    "start_time": "2023-07-07T08:21:24.695Z"
   },
   {
    "duration": 106,
    "start_time": "2023-07-07T08:21:44.305Z"
   },
   {
    "duration": 21,
    "start_time": "2023-07-07T08:21:55.845Z"
   },
   {
    "duration": 21,
    "start_time": "2023-07-07T08:22:06.023Z"
   },
   {
    "duration": 116,
    "start_time": "2023-07-07T08:22:16.197Z"
   },
   {
    "duration": 21,
    "start_time": "2023-07-07T08:22:45.135Z"
   },
   {
    "duration": 4,
    "start_time": "2023-07-07T08:43:24.586Z"
   },
   {
    "duration": 31,
    "start_time": "2023-07-07T09:22:57.796Z"
   },
   {
    "duration": 29,
    "start_time": "2023-07-07T09:23:02.356Z"
   },
   {
    "duration": 22,
    "start_time": "2023-07-07T09:35:06.445Z"
   },
   {
    "duration": 42,
    "start_time": "2023-07-07T09:35:28.218Z"
   },
   {
    "duration": 38,
    "start_time": "2023-07-07T09:36:56.546Z"
   },
   {
    "duration": 33,
    "start_time": "2023-07-07T09:40:12.938Z"
   },
   {
    "duration": 53,
    "start_time": "2023-07-07T09:40:15.997Z"
   },
   {
    "duration": 46,
    "start_time": "2023-07-07T09:41:06.240Z"
   },
   {
    "duration": 230,
    "start_time": "2023-07-07T09:45:25.253Z"
   },
   {
    "duration": 71,
    "start_time": "2023-07-07T09:45:29.336Z"
   },
   {
    "duration": 111,
    "start_time": "2023-07-07T09:46:03.255Z"
   },
   {
    "duration": 263,
    "start_time": "2023-07-07T09:47:08.145Z"
   },
   {
    "duration": 81,
    "start_time": "2023-07-07T09:48:35.694Z"
   },
   {
    "duration": 7,
    "start_time": "2023-07-07T09:48:40.363Z"
   },
   {
    "duration": 213,
    "start_time": "2023-07-07T09:49:19.325Z"
   },
   {
    "duration": 218,
    "start_time": "2023-07-07T09:49:54.239Z"
   },
   {
    "duration": 534,
    "start_time": "2023-07-07T09:50:27.737Z"
   },
   {
    "duration": 727,
    "start_time": "2023-07-07T09:50:40.175Z"
   },
   {
    "duration": 580,
    "start_time": "2023-07-07T09:50:44.123Z"
   },
   {
    "duration": 568,
    "start_time": "2023-07-07T09:52:27.204Z"
   },
   {
    "duration": 553,
    "start_time": "2023-07-07T09:52:35.866Z"
   },
   {
    "duration": 598,
    "start_time": "2023-07-07T09:53:55.866Z"
   },
   {
    "duration": 573,
    "start_time": "2023-07-07T09:54:11.394Z"
   },
   {
    "duration": 726,
    "start_time": "2023-07-07T09:54:17.264Z"
   },
   {
    "duration": 656,
    "start_time": "2023-07-07T09:55:11.938Z"
   },
   {
    "duration": 835,
    "start_time": "2023-07-07T09:55:28.634Z"
   },
   {
    "duration": 847,
    "start_time": "2023-07-07T09:55:38.539Z"
   },
   {
    "duration": 662,
    "start_time": "2023-07-07T09:55:55.240Z"
   },
   {
    "duration": 16,
    "start_time": "2023-07-07T09:59:53.621Z"
   },
   {
    "duration": 20,
    "start_time": "2023-07-07T10:00:09.797Z"
   },
   {
    "duration": 36,
    "start_time": "2023-07-07T10:00:40.303Z"
   },
   {
    "duration": 7,
    "start_time": "2023-07-07T10:02:14.939Z"
   },
   {
    "duration": 8,
    "start_time": "2023-07-07T10:02:25.296Z"
   },
   {
    "duration": 11,
    "start_time": "2023-07-07T10:02:29.496Z"
   },
   {
    "duration": 10,
    "start_time": "2023-07-07T10:03:02.923Z"
   },
   {
    "duration": 13,
    "start_time": "2023-07-07T10:03:08.957Z"
   },
   {
    "duration": 276,
    "start_time": "2023-07-07T10:03:35.768Z"
   },
   {
    "duration": 470,
    "start_time": "2023-07-07T10:04:01.115Z"
   },
   {
    "duration": 717,
    "start_time": "2023-07-07T10:04:14.112Z"
   },
   {
    "duration": 24,
    "start_time": "2023-07-07T10:14:26.727Z"
   },
   {
    "duration": 348,
    "start_time": "2023-07-07T10:18:00.303Z"
   },
   {
    "duration": 121,
    "start_time": "2023-07-07T10:18:23.805Z"
   },
   {
    "duration": 388,
    "start_time": "2023-07-07T10:18:27.631Z"
   },
   {
    "duration": 562,
    "start_time": "2023-07-07T10:18:30.983Z"
   },
   {
    "duration": 351,
    "start_time": "2023-07-07T10:18:45.432Z"
   },
   {
    "duration": 2337,
    "start_time": "2023-07-07T10:33:36.978Z"
   },
   {
    "duration": 517,
    "start_time": "2023-07-07T10:33:48.385Z"
   },
   {
    "duration": 515,
    "start_time": "2023-07-07T10:34:02.665Z"
   },
   {
    "duration": 526,
    "start_time": "2023-07-07T10:34:35.667Z"
   },
   {
    "duration": 601,
    "start_time": "2023-07-07T10:34:51.234Z"
   },
   {
    "duration": 483,
    "start_time": "2023-07-07T10:35:21.962Z"
   },
   {
    "duration": 494,
    "start_time": "2023-07-07T10:37:27.965Z"
   },
   {
    "duration": 521,
    "start_time": "2023-07-07T10:38:02.444Z"
   },
   {
    "duration": 514,
    "start_time": "2023-07-07T10:38:09.037Z"
   },
   {
    "duration": 507,
    "start_time": "2023-07-07T10:38:14.474Z"
   },
   {
    "duration": 635,
    "start_time": "2023-07-07T10:38:59.442Z"
   },
   {
    "duration": 1304,
    "start_time": "2023-07-07T10:41:34.423Z"
   },
   {
    "duration": 853,
    "start_time": "2023-07-07T10:42:03.824Z"
   },
   {
    "duration": 836,
    "start_time": "2023-07-07T10:42:30.965Z"
   },
   {
    "duration": 848,
    "start_time": "2023-07-07T10:43:07.701Z"
   },
   {
    "duration": 922,
    "start_time": "2023-07-07T10:43:21.235Z"
   },
   {
    "duration": 889,
    "start_time": "2023-07-07T10:43:24.847Z"
   },
   {
    "duration": 14,
    "start_time": "2023-07-07T10:43:37.336Z"
   },
   {
    "duration": 603,
    "start_time": "2023-07-07T10:49:25.075Z"
   },
   {
    "duration": 13,
    "start_time": "2023-07-07T10:49:26.035Z"
   },
   {
    "duration": 833,
    "start_time": "2023-07-07T10:49:58.934Z"
   },
   {
    "duration": 14,
    "start_time": "2023-07-07T10:53:31.964Z"
   },
   {
    "duration": 17,
    "start_time": "2023-07-07T10:53:36.736Z"
   },
   {
    "duration": 20,
    "start_time": "2023-07-07T10:53:39.513Z"
   },
   {
    "duration": 17,
    "start_time": "2023-07-07T10:53:42.515Z"
   },
   {
    "duration": 1011,
    "start_time": "2023-07-07T10:53:51.923Z"
   },
   {
    "duration": 380,
    "start_time": "2023-07-07T10:54:01.370Z"
   },
   {
    "duration": 404,
    "start_time": "2023-07-07T10:54:14.865Z"
   },
   {
    "duration": 595,
    "start_time": "2023-07-07T10:55:32.755Z"
   },
   {
    "duration": 928,
    "start_time": "2023-07-07T10:55:38.555Z"
   },
   {
    "duration": 23,
    "start_time": "2023-07-07T10:58:05.201Z"
   },
   {
    "duration": 1296,
    "start_time": "2023-07-07T10:58:50.879Z"
   },
   {
    "duration": 1082,
    "start_time": "2023-07-07T10:59:21.402Z"
   },
   {
    "duration": 1573,
    "start_time": "2023-07-07T10:59:35.805Z"
   },
   {
    "duration": 1428,
    "start_time": "2023-07-07T11:00:03.934Z"
   },
   {
    "duration": 1442,
    "start_time": "2023-07-07T11:00:11.516Z"
   },
   {
    "duration": 3766,
    "start_time": "2023-07-07T11:01:59.905Z"
   },
   {
    "duration": 1465,
    "start_time": "2023-07-07T11:02:13.583Z"
   },
   {
    "duration": 4,
    "start_time": "2023-07-07T11:16:11.115Z"
   },
   {
    "duration": 7,
    "start_time": "2023-07-07T11:16:15.136Z"
   },
   {
    "duration": 12,
    "start_time": "2023-07-07T11:16:58.394Z"
   },
   {
    "duration": 6,
    "start_time": "2023-07-07T11:25:28.674Z"
   },
   {
    "duration": 3,
    "start_time": "2023-07-07T11:25:33.195Z"
   },
   {
    "duration": 15,
    "start_time": "2023-07-07T11:25:51.207Z"
   },
   {
    "duration": 3,
    "start_time": "2023-07-07T11:25:54.187Z"
   },
   {
    "duration": 167,
    "start_time": "2023-07-07T11:26:50.794Z"
   },
   {
    "duration": 2355,
    "start_time": "2023-07-07T11:26:58.723Z"
   },
   {
    "duration": 20,
    "start_time": "2023-07-07T11:27:06.076Z"
   },
   {
    "duration": 3,
    "start_time": "2023-07-07T11:27:48.101Z"
   },
   {
    "duration": 24,
    "start_time": "2023-07-07T11:27:51.159Z"
   },
   {
    "duration": 9,
    "start_time": "2023-07-07T11:27:58.916Z"
   },
   {
    "duration": 239,
    "start_time": "2023-07-07T11:28:25.080Z"
   },
   {
    "duration": 14,
    "start_time": "2023-07-07T11:28:25.940Z"
   },
   {
    "duration": 8,
    "start_time": "2023-07-07T11:28:31.950Z"
   },
   {
    "duration": 47,
    "start_time": "2023-07-07T11:29:17.907Z"
   },
   {
    "duration": 11,
    "start_time": "2023-07-07T11:29:32.440Z"
   },
   {
    "duration": 2993,
    "start_time": "2023-07-07T11:30:54.162Z"
   },
   {
    "duration": 335,
    "start_time": "2023-07-07T11:31:01.995Z"
   },
   {
    "duration": 18,
    "start_time": "2023-07-07T11:31:07.231Z"
   },
   {
    "duration": 349,
    "start_time": "2023-07-07T11:31:11.776Z"
   },
   {
    "duration": 296,
    "start_time": "2023-07-07T11:31:12.746Z"
   },
   {
    "duration": 7,
    "start_time": "2023-07-07T11:31:13.694Z"
   },
   {
    "duration": 477,
    "start_time": "2023-07-07T11:32:00.540Z"
   },
   {
    "duration": 32,
    "start_time": "2023-07-07T11:32:08.843Z"
   },
   {
    "duration": 19,
    "start_time": "2023-07-07T11:32:12.691Z"
   },
   {
    "duration": 3,
    "start_time": "2023-07-07T11:32:53.706Z"
   },
   {
    "duration": 11,
    "start_time": "2023-07-07T11:32:57.480Z"
   },
   {
    "duration": 35,
    "start_time": "2023-07-07T11:32:59.596Z"
   },
   {
    "duration": 28,
    "start_time": "2023-07-07T11:33:02.542Z"
   },
   {
    "duration": 98,
    "start_time": "2023-07-07T11:40:08.998Z"
   },
   {
    "duration": 47,
    "start_time": "2023-07-07T11:40:18.846Z"
   },
   {
    "duration": 209,
    "start_time": "2023-07-07T11:40:24.962Z"
   },
   {
    "duration": 203,
    "start_time": "2023-07-07T11:40:28.630Z"
   },
   {
    "duration": 184,
    "start_time": "2023-07-07T11:40:41.338Z"
   },
   {
    "duration": 60,
    "start_time": "2023-07-07T11:41:12.001Z"
   },
   {
    "duration": 34,
    "start_time": "2023-07-07T11:41:14.644Z"
   },
   {
    "duration": 100,
    "start_time": "2023-07-07T11:41:45.942Z"
   },
   {
    "duration": 250,
    "start_time": "2023-07-07T11:41:54.028Z"
   },
   {
    "duration": 98,
    "start_time": "2023-07-07T11:41:58.755Z"
   },
   {
    "duration": 108,
    "start_time": "2023-07-07T11:44:05.960Z"
   },
   {
    "duration": 284,
    "start_time": "2023-07-07T11:44:13.277Z"
   },
   {
    "duration": 126,
    "start_time": "2023-07-07T11:45:05.836Z"
   },
   {
    "duration": 92,
    "start_time": "2023-07-07T11:45:15.034Z"
   },
   {
    "duration": 126,
    "start_time": "2023-07-07T11:45:18.340Z"
   },
   {
    "duration": 32,
    "start_time": "2023-07-07T11:45:34.410Z"
   },
   {
    "duration": 25,
    "start_time": "2023-07-07T11:46:17.533Z"
   },
   {
    "duration": 23,
    "start_time": "2023-07-07T11:46:20.178Z"
   },
   {
    "duration": 33,
    "start_time": "2023-07-07T11:46:23.983Z"
   },
   {
    "duration": 22,
    "start_time": "2023-07-07T11:46:30.962Z"
   },
   {
    "duration": 118,
    "start_time": "2023-07-07T11:46:40.666Z"
   },
   {
    "duration": 43,
    "start_time": "2023-07-07T11:47:46.998Z"
   },
   {
    "duration": 119,
    "start_time": "2023-07-07T11:47:48.675Z"
   },
   {
    "duration": 2290,
    "start_time": "2023-07-07T11:56:11.579Z"
   },
   {
    "duration": 2218,
    "start_time": "2023-07-07T11:56:13.873Z"
   },
   {
    "duration": 1831,
    "start_time": "2023-07-07T11:56:16.093Z"
   },
   {
    "duration": 832,
    "start_time": "2023-07-07T11:56:17.926Z"
   },
   {
    "duration": 19,
    "start_time": "2023-07-07T11:56:18.759Z"
   },
   {
    "duration": 125,
    "start_time": "2023-07-07T11:56:18.780Z"
   },
   {
    "duration": 47,
    "start_time": "2023-07-07T11:56:18.914Z"
   },
   {
    "duration": 3,
    "start_time": "2023-07-07T11:56:18.963Z"
   },
   {
    "duration": 61,
    "start_time": "2023-07-07T11:56:18.968Z"
   },
   {
    "duration": 20,
    "start_time": "2023-07-07T11:56:19.031Z"
   },
   {
    "duration": 1363,
    "start_time": "2023-07-07T11:56:19.053Z"
   },
   {
    "duration": 106,
    "start_time": "2023-07-07T11:56:20.418Z"
   },
   {
    "duration": 227,
    "start_time": "2023-07-07T11:56:20.526Z"
   },
   {
    "duration": 3,
    "start_time": "2023-07-07T11:56:20.755Z"
   },
   {
    "duration": 116,
    "start_time": "2023-07-07T11:56:20.760Z"
   },
   {
    "duration": 20,
    "start_time": "2023-07-07T11:56:20.878Z"
   },
   {
    "duration": 23,
    "start_time": "2023-07-07T11:56:20.913Z"
   },
   {
    "duration": 36,
    "start_time": "2023-07-07T11:56:20.937Z"
   },
   {
    "duration": 80,
    "start_time": "2023-07-07T11:56:20.975Z"
   },
   {
    "duration": 710,
    "start_time": "2023-07-07T11:56:21.057Z"
   },
   {
    "duration": 1194,
    "start_time": "2023-07-07T11:56:21.769Z"
   },
   {
    "duration": 453,
    "start_time": "2023-07-07T11:56:22.965Z"
   },
   {
    "duration": 0,
    "start_time": "2023-07-07T11:56:23.420Z"
   },
   {
    "duration": 0,
    "start_time": "2023-07-07T11:56:23.421Z"
   },
   {
    "duration": 450,
    "start_time": "2023-07-07T11:57:41.438Z"
   },
   {
    "duration": 67,
    "start_time": "2023-07-07T11:57:48.264Z"
   },
   {
    "duration": 110,
    "start_time": "2023-07-07T11:57:49.069Z"
   },
   {
    "duration": 41,
    "start_time": "2023-07-07T11:57:59.738Z"
   },
   {
    "duration": 118,
    "start_time": "2023-07-07T11:58:00.358Z"
   },
   {
    "duration": 2243,
    "start_time": "2023-07-07T11:58:20.608Z"
   },
   {
    "duration": 2287,
    "start_time": "2023-07-07T11:58:22.854Z"
   },
   {
    "duration": 1778,
    "start_time": "2023-07-07T11:58:25.144Z"
   },
   {
    "duration": 833,
    "start_time": "2023-07-07T11:58:26.924Z"
   },
   {
    "duration": 18,
    "start_time": "2023-07-07T11:58:27.760Z"
   },
   {
    "duration": 127,
    "start_time": "2023-07-07T11:58:27.780Z"
   },
   {
    "duration": 48,
    "start_time": "2023-07-07T11:58:27.913Z"
   },
   {
    "duration": 4,
    "start_time": "2023-07-07T11:58:27.963Z"
   },
   {
    "duration": 55,
    "start_time": "2023-07-07T11:58:27.969Z"
   },
   {
    "duration": 22,
    "start_time": "2023-07-07T11:58:28.026Z"
   },
   {
    "duration": 1334,
    "start_time": "2023-07-07T11:58:28.050Z"
   },
   {
    "duration": 99,
    "start_time": "2023-07-07T11:58:29.386Z"
   },
   {
    "duration": 286,
    "start_time": "2023-07-07T11:58:29.487Z"
   },
   {
    "duration": 5,
    "start_time": "2023-07-07T11:58:29.776Z"
   },
   {
    "duration": 149,
    "start_time": "2023-07-07T11:58:29.783Z"
   },
   {
    "duration": 19,
    "start_time": "2023-07-07T11:58:29.935Z"
   },
   {
    "duration": 34,
    "start_time": "2023-07-07T11:58:29.956Z"
   },
   {
    "duration": 47,
    "start_time": "2023-07-07T11:58:29.991Z"
   },
   {
    "duration": 92,
    "start_time": "2023-07-07T11:58:30.039Z"
   },
   {
    "duration": 724,
    "start_time": "2023-07-07T11:58:30.133Z"
   },
   {
    "duration": 1208,
    "start_time": "2023-07-07T11:58:30.859Z"
   },
   {
    "duration": 461,
    "start_time": "2023-07-07T11:58:32.069Z"
   },
   {
    "duration": 467,
    "start_time": "2023-07-07T12:01:48.006Z"
   },
   {
    "duration": 83,
    "start_time": "2023-07-07T12:01:52.599Z"
   },
   {
    "duration": 58,
    "start_time": "2023-07-07T12:02:13.581Z"
   },
   {
    "duration": 5,
    "start_time": "2023-07-07T12:02:14.356Z"
   },
   {
    "duration": 5,
    "start_time": "2023-07-07T12:02:22.924Z"
   },
   {
    "duration": 47,
    "start_time": "2023-07-07T12:02:28.521Z"
   },
   {
    "duration": 5,
    "start_time": "2023-07-07T12:02:29.077Z"
   },
   {
    "duration": 2386,
    "start_time": "2023-07-07T12:02:45.302Z"
   },
   {
    "duration": 2407,
    "start_time": "2023-07-07T12:02:47.691Z"
   },
   {
    "duration": 1919,
    "start_time": "2023-07-07T12:02:50.100Z"
   },
   {
    "duration": 963,
    "start_time": "2023-07-07T12:02:52.021Z"
   },
   {
    "duration": 28,
    "start_time": "2023-07-07T12:02:52.986Z"
   },
   {
    "duration": 149,
    "start_time": "2023-07-07T12:02:53.016Z"
   },
   {
    "duration": 52,
    "start_time": "2023-07-07T12:02:53.167Z"
   },
   {
    "duration": 3,
    "start_time": "2023-07-07T12:02:53.221Z"
   },
   {
    "duration": 69,
    "start_time": "2023-07-07T12:02:53.226Z"
   },
   {
    "duration": 36,
    "start_time": "2023-07-07T12:02:53.298Z"
   },
   {
    "duration": 1438,
    "start_time": "2023-07-07T12:02:53.336Z"
   },
   {
    "duration": 107,
    "start_time": "2023-07-07T12:02:54.776Z"
   },
   {
    "duration": 248,
    "start_time": "2023-07-07T12:02:54.885Z"
   },
   {
    "duration": 4,
    "start_time": "2023-07-07T12:02:55.135Z"
   },
   {
    "duration": 123,
    "start_time": "2023-07-07T12:02:55.140Z"
   },
   {
    "duration": 21,
    "start_time": "2023-07-07T12:02:55.265Z"
   },
   {
    "duration": 38,
    "start_time": "2023-07-07T12:02:55.288Z"
   },
   {
    "duration": 52,
    "start_time": "2023-07-07T12:02:55.328Z"
   },
   {
    "duration": 75,
    "start_time": "2023-07-07T12:02:55.382Z"
   },
   {
    "duration": 745,
    "start_time": "2023-07-07T12:02:55.459Z"
   },
   {
    "duration": 1275,
    "start_time": "2023-07-07T12:02:56.213Z"
   },
   {
    "duration": 454,
    "start_time": "2023-07-07T12:03:01.195Z"
   },
   {
    "duration": 25,
    "start_time": "2023-07-07T12:03:07.917Z"
   },
   {
    "duration": 78,
    "start_time": "2023-07-07T12:04:04.397Z"
   },
   {
    "duration": 82,
    "start_time": "2023-07-07T12:04:10.337Z"
   },
   {
    "duration": 91,
    "start_time": "2023-07-07T12:04:28.957Z"
   },
   {
    "duration": 73,
    "start_time": "2023-07-07T12:04:48.616Z"
   },
   {
    "duration": 24,
    "start_time": "2023-07-07T12:04:51.837Z"
   },
   {
    "duration": 137,
    "start_time": "2023-07-07T12:07:01.255Z"
   },
   {
    "duration": 197,
    "start_time": "2023-07-07T12:07:35.952Z"
   },
   {
    "duration": 105,
    "start_time": "2023-07-07T12:07:39.297Z"
   },
   {
    "duration": 169,
    "start_time": "2023-07-07T12:08:09.691Z"
   },
   {
    "duration": 5,
    "start_time": "2023-07-07T12:08:28.358Z"
   },
   {
    "duration": 2341,
    "start_time": "2023-07-07T12:08:37.479Z"
   },
   {
    "duration": 2285,
    "start_time": "2023-07-07T12:08:39.824Z"
   },
   {
    "duration": 6,
    "start_time": "2023-07-07T12:08:42.111Z"
   },
   {
    "duration": 845,
    "start_time": "2023-07-07T12:08:42.120Z"
   },
   {
    "duration": 16,
    "start_time": "2023-07-07T12:08:42.967Z"
   },
   {
    "duration": 133,
    "start_time": "2023-07-07T12:08:42.985Z"
   },
   {
    "duration": 23,
    "start_time": "2023-07-07T12:08:43.120Z"
   },
   {
    "duration": 3,
    "start_time": "2023-07-07T12:08:43.145Z"
   },
   {
    "duration": 42,
    "start_time": "2023-07-07T12:08:43.150Z"
   },
   {
    "duration": 36,
    "start_time": "2023-07-07T12:08:43.195Z"
   },
   {
    "duration": 1494,
    "start_time": "2023-07-07T12:08:43.233Z"
   },
   {
    "duration": 102,
    "start_time": "2023-07-07T12:08:44.730Z"
   },
   {
    "duration": 407,
    "start_time": "2023-07-07T12:08:44.834Z"
   },
   {
    "duration": 4,
    "start_time": "2023-07-07T12:08:45.244Z"
   },
   {
    "duration": 118,
    "start_time": "2023-07-07T12:08:45.251Z"
   },
   {
    "duration": 21,
    "start_time": "2023-07-07T12:08:45.371Z"
   },
   {
    "duration": 47,
    "start_time": "2023-07-07T12:08:45.394Z"
   },
   {
    "duration": 44,
    "start_time": "2023-07-07T12:08:45.443Z"
   },
   {
    "duration": 75,
    "start_time": "2023-07-07T12:08:45.489Z"
   },
   {
    "duration": 638,
    "start_time": "2023-07-07T12:08:45.566Z"
   },
   {
    "duration": 1330,
    "start_time": "2023-07-07T12:08:46.206Z"
   },
   {
    "duration": 466,
    "start_time": "2023-07-07T12:08:47.538Z"
   },
   {
    "duration": 189,
    "start_time": "2023-07-07T12:08:52.455Z"
   },
   {
    "duration": 5,
    "start_time": "2023-07-07T12:09:06.014Z"
   },
   {
    "duration": 3,
    "start_time": "2023-07-07T12:09:19.455Z"
   },
   {
    "duration": 21,
    "start_time": "2023-07-07T12:09:24.358Z"
   },
   {
    "duration": 12,
    "start_time": "2023-07-07T12:09:41.064Z"
   },
   {
    "duration": 107,
    "start_time": "2023-07-07T12:09:44.207Z"
   },
   {
    "duration": 20,
    "start_time": "2023-07-07T12:17:50.075Z"
   },
   {
    "duration": 38,
    "start_time": "2023-07-07T12:17:56.874Z"
   },
   {
    "duration": 5,
    "start_time": "2023-07-07T12:18:00.296Z"
   },
   {
    "duration": 185,
    "start_time": "2023-07-07T12:18:57.794Z"
   },
   {
    "duration": 71,
    "start_time": "2023-07-07T12:19:13.016Z"
   },
   {
    "duration": 7,
    "start_time": "2023-07-07T12:19:21.538Z"
   },
   {
    "duration": 15,
    "start_time": "2023-07-07T12:19:25.033Z"
   },
   {
    "duration": 72,
    "start_time": "2023-07-07T12:19:27.276Z"
   },
   {
    "duration": 202,
    "start_time": "2023-07-07T12:20:37.314Z"
   },
   {
    "duration": 7,
    "start_time": "2023-07-07T12:20:46.056Z"
   },
   {
    "duration": 66,
    "start_time": "2023-07-07T12:21:49.839Z"
   },
   {
    "duration": 38,
    "start_time": "2023-07-07T12:21:55.264Z"
   },
   {
    "duration": 9,
    "start_time": "2023-07-07T12:22:00.754Z"
   },
   {
    "duration": 10,
    "start_time": "2023-07-07T12:22:53.306Z"
   },
   {
    "duration": 214,
    "start_time": "2023-07-07T12:23:16.253Z"
   },
   {
    "duration": 209,
    "start_time": "2023-07-07T12:23:57.794Z"
   },
   {
    "duration": 11,
    "start_time": "2023-07-07T12:24:04.158Z"
   },
   {
    "duration": 239,
    "start_time": "2023-07-07T12:24:34.234Z"
   },
   {
    "duration": 53,
    "start_time": "2023-07-07T12:25:05.234Z"
   },
   {
    "duration": 240,
    "start_time": "2023-07-07T12:25:18.414Z"
   },
   {
    "duration": 220,
    "start_time": "2023-07-07T12:26:40.534Z"
   },
   {
    "duration": 4,
    "start_time": "2023-07-07T12:30:05.977Z"
   },
   {
    "duration": 6,
    "start_time": "2023-07-07T12:30:09.393Z"
   },
   {
    "duration": 2200,
    "start_time": "2023-07-07T12:36:37.354Z"
   },
   {
    "duration": 415,
    "start_time": "2023-07-07T12:37:07.215Z"
   },
   {
    "duration": 151,
    "start_time": "2023-07-07T12:37:53.596Z"
   },
   {
    "duration": 167,
    "start_time": "2023-07-07T12:38:10.294Z"
   },
   {
    "duration": 41,
    "start_time": "2023-07-07T12:38:36.435Z"
   },
   {
    "duration": 230,
    "start_time": "2023-07-07T12:39:12.955Z"
   },
   {
    "duration": 3,
    "start_time": "2023-07-07T12:41:29.075Z"
   },
   {
    "duration": 5,
    "start_time": "2023-07-07T13:00:55.975Z"
   },
   {
    "duration": 24,
    "start_time": "2023-07-07T13:01:45.233Z"
   },
   {
    "duration": 12,
    "start_time": "2023-07-07T13:01:52.494Z"
   },
   {
    "duration": 14,
    "start_time": "2023-07-07T13:01:56.176Z"
   },
   {
    "duration": 25,
    "start_time": "2023-07-07T13:02:24.256Z"
   },
   {
    "duration": 5,
    "start_time": "2023-07-07T13:03:08.788Z"
   },
   {
    "duration": 79,
    "start_time": "2023-07-07T13:03:10.455Z"
   },
   {
    "duration": 6,
    "start_time": "2023-07-07T13:03:31.882Z"
   },
   {
    "duration": 271,
    "start_time": "2023-07-07T13:03:32.653Z"
   },
   {
    "duration": 26,
    "start_time": "2023-07-07T13:03:42.241Z"
   },
   {
    "duration": 10,
    "start_time": "2023-07-07T13:04:36.337Z"
   },
   {
    "duration": 84,
    "start_time": "2023-07-07T13:04:36.795Z"
   },
   {
    "duration": 4,
    "start_time": "2023-07-07T13:05:07.756Z"
   },
   {
    "duration": 217,
    "start_time": "2023-07-07T13:05:07.955Z"
   },
   {
    "duration": 227,
    "start_time": "2023-07-07T13:05:38.599Z"
   },
   {
    "duration": 45,
    "start_time": "2023-07-07T13:05:53.496Z"
   },
   {
    "duration": 5,
    "start_time": "2023-07-07T13:07:03.739Z"
   },
   {
    "duration": 68,
    "start_time": "2023-07-07T13:07:10.281Z"
   },
   {
    "duration": 3,
    "start_time": "2023-07-07T13:07:38.881Z"
   },
   {
    "duration": 18,
    "start_time": "2023-07-07T13:07:39.643Z"
   },
   {
    "duration": 11,
    "start_time": "2023-07-07T13:07:51.274Z"
   },
   {
    "duration": 108,
    "start_time": "2023-07-07T13:07:51.647Z"
   },
   {
    "duration": 10,
    "start_time": "2023-07-07T13:08:18.359Z"
   },
   {
    "duration": 294,
    "start_time": "2023-07-07T13:08:20.178Z"
   },
   {
    "duration": 10,
    "start_time": "2023-07-07T13:08:53.937Z"
   },
   {
    "duration": 318,
    "start_time": "2023-07-07T13:08:54.607Z"
   },
   {
    "duration": 9,
    "start_time": "2023-07-07T13:09:25.010Z"
   },
   {
    "duration": 365,
    "start_time": "2023-07-07T13:09:25.531Z"
   },
   {
    "duration": 13,
    "start_time": "2023-07-07T13:11:08.482Z"
   },
   {
    "duration": 7,
    "start_time": "2023-07-07T13:11:32.371Z"
   },
   {
    "duration": 277,
    "start_time": "2023-07-07T13:11:32.660Z"
   },
   {
    "duration": 7,
    "start_time": "2023-07-07T13:11:40.858Z"
   },
   {
    "duration": 294,
    "start_time": "2023-07-07T13:11:41.165Z"
   },
   {
    "duration": 16,
    "start_time": "2023-07-07T13:11:44.059Z"
   },
   {
    "duration": 258,
    "start_time": "2023-07-07T13:11:44.494Z"
   },
   {
    "duration": 5,
    "start_time": "2023-07-07T13:12:17.265Z"
   },
   {
    "duration": 243,
    "start_time": "2023-07-07T13:12:17.727Z"
   },
   {
    "duration": 10,
    "start_time": "2023-07-07T13:12:26.439Z"
   },
   {
    "duration": 286,
    "start_time": "2023-07-07T13:12:26.974Z"
   },
   {
    "duration": 13,
    "start_time": "2023-07-07T13:13:12.932Z"
   },
   {
    "duration": 228,
    "start_time": "2023-07-07T13:13:13.377Z"
   },
   {
    "duration": 9,
    "start_time": "2023-07-07T13:13:34.375Z"
   },
   {
    "duration": 302,
    "start_time": "2023-07-07T13:16:23.675Z"
   },
   {
    "duration": 11,
    "start_time": "2023-07-07T13:16:49.622Z"
   },
   {
    "duration": 381,
    "start_time": "2023-07-07T13:16:49.800Z"
   },
   {
    "duration": 8,
    "start_time": "2023-07-07T13:17:06.711Z"
   },
   {
    "duration": 329,
    "start_time": "2023-07-07T13:17:06.947Z"
   },
   {
    "duration": 417,
    "start_time": "2023-07-07T13:17:37.443Z"
   },
   {
    "duration": 361,
    "start_time": "2023-07-07T13:18:30.049Z"
   },
   {
    "duration": 345,
    "start_time": "2023-07-07T13:19:01.980Z"
   },
   {
    "duration": 244,
    "start_time": "2023-07-07T13:21:58.551Z"
   },
   {
    "duration": 245,
    "start_time": "2023-07-07T13:22:14.621Z"
   },
   {
    "duration": 297,
    "start_time": "2023-07-07T13:22:23.155Z"
   },
   {
    "duration": 7,
    "start_time": "2023-07-07T13:24:32.850Z"
   },
   {
    "duration": 452,
    "start_time": "2023-07-07T13:25:43.813Z"
   },
   {
    "duration": 16,
    "start_time": "2023-07-07T13:26:01.893Z"
   },
   {
    "duration": 124,
    "start_time": "2023-07-07T13:26:05.920Z"
   },
   {
    "duration": 326,
    "start_time": "2023-07-07T13:26:53.384Z"
   },
   {
    "duration": 86,
    "start_time": "2023-07-07T13:28:00.155Z"
   },
   {
    "duration": 25,
    "start_time": "2023-07-07T13:28:07.553Z"
   },
   {
    "duration": 286,
    "start_time": "2023-07-07T13:28:41.188Z"
   },
   {
    "duration": 2732,
    "start_time": "2023-07-07T13:33:30.158Z"
   },
   {
    "duration": 633,
    "start_time": "2023-07-07T13:33:38.937Z"
   },
   {
    "duration": 207,
    "start_time": "2023-07-07T13:33:45.673Z"
   },
   {
    "duration": 169,
    "start_time": "2023-07-07T13:34:20.435Z"
   },
   {
    "duration": 142,
    "start_time": "2023-07-07T13:38:46.794Z"
   },
   {
    "duration": 74,
    "start_time": "2023-07-07T13:49:14.403Z"
   },
   {
    "duration": 44,
    "start_time": "2023-07-07T13:49:19.489Z"
   },
   {
    "duration": 2077,
    "start_time": "2023-07-07T14:02:03.545Z"
   },
   {
    "duration": 2731,
    "start_time": "2023-07-07T14:02:23.199Z"
   },
   {
    "duration": 2581,
    "start_time": "2023-07-07T14:02:25.934Z"
   },
   {
    "duration": 9,
    "start_time": "2023-07-07T14:02:28.525Z"
   },
   {
    "duration": 1099,
    "start_time": "2023-07-07T14:02:28.539Z"
   },
   {
    "duration": 27,
    "start_time": "2023-07-07T14:02:29.646Z"
   },
   {
    "duration": 245,
    "start_time": "2023-07-07T14:02:29.678Z"
   },
   {
    "duration": 64,
    "start_time": "2023-07-07T14:02:29.925Z"
   },
   {
    "duration": 5,
    "start_time": "2023-07-07T14:02:29.991Z"
   },
   {
    "duration": 162,
    "start_time": "2023-07-07T14:02:29.998Z"
   },
   {
    "duration": 74,
    "start_time": "2023-07-07T14:02:30.167Z"
   },
   {
    "duration": 1700,
    "start_time": "2023-07-07T14:02:30.249Z"
   },
   {
    "duration": 128,
    "start_time": "2023-07-07T14:02:31.952Z"
   },
   {
    "duration": 293,
    "start_time": "2023-07-07T14:02:32.082Z"
   },
   {
    "duration": 5,
    "start_time": "2023-07-07T14:02:32.379Z"
   },
   {
    "duration": 226,
    "start_time": "2023-07-07T14:02:32.386Z"
   },
   {
    "duration": 41,
    "start_time": "2023-07-07T14:02:32.627Z"
   },
   {
    "duration": 36,
    "start_time": "2023-07-07T14:02:32.670Z"
   },
   {
    "duration": 91,
    "start_time": "2023-07-07T14:02:32.708Z"
   },
   {
    "duration": 134,
    "start_time": "2023-07-07T14:02:32.802Z"
   },
   {
    "duration": 835,
    "start_time": "2023-07-07T14:02:32.941Z"
   },
   {
    "duration": 1539,
    "start_time": "2023-07-07T14:02:33.778Z"
   },
   {
    "duration": 500,
    "start_time": "2023-07-07T14:02:35.327Z"
   },
   {
    "duration": 224,
    "start_time": "2023-07-07T14:02:35.829Z"
   },
   {
    "duration": 0,
    "start_time": "2023-07-07T14:02:36.056Z"
   },
   {
    "duration": 0,
    "start_time": "2023-07-07T14:02:36.057Z"
   },
   {
    "duration": 0,
    "start_time": "2023-07-07T14:02:36.058Z"
   },
   {
    "duration": 0,
    "start_time": "2023-07-07T14:02:36.060Z"
   },
   {
    "duration": 0,
    "start_time": "2023-07-07T14:02:36.061Z"
   },
   {
    "duration": 0,
    "start_time": "2023-07-07T14:02:36.063Z"
   },
   {
    "duration": 0,
    "start_time": "2023-07-07T14:02:36.064Z"
   },
   {
    "duration": 0,
    "start_time": "2023-07-07T14:02:36.065Z"
   },
   {
    "duration": 0,
    "start_time": "2023-07-07T14:02:36.066Z"
   },
   {
    "duration": 0,
    "start_time": "2023-07-07T14:02:36.067Z"
   },
   {
    "duration": 0,
    "start_time": "2023-07-07T14:02:36.068Z"
   },
   {
    "duration": 0,
    "start_time": "2023-07-07T14:02:36.070Z"
   },
   {
    "duration": 0,
    "start_time": "2023-07-07T14:02:36.071Z"
   },
   {
    "duration": 0,
    "start_time": "2023-07-07T14:02:36.072Z"
   },
   {
    "duration": 0,
    "start_time": "2023-07-07T14:02:36.073Z"
   },
   {
    "duration": 0,
    "start_time": "2023-07-07T14:02:36.074Z"
   },
   {
    "duration": 0,
    "start_time": "2023-07-07T14:02:36.075Z"
   },
   {
    "duration": 0,
    "start_time": "2023-07-07T14:02:36.115Z"
   },
   {
    "duration": 0,
    "start_time": "2023-07-07T14:02:36.120Z"
   },
   {
    "duration": 0,
    "start_time": "2023-07-07T14:02:36.122Z"
   },
   {
    "duration": 0,
    "start_time": "2023-07-07T14:02:36.123Z"
   },
   {
    "duration": 0,
    "start_time": "2023-07-07T14:02:36.124Z"
   },
   {
    "duration": 0,
    "start_time": "2023-07-07T14:02:36.130Z"
   },
   {
    "duration": 0,
    "start_time": "2023-07-07T14:02:36.132Z"
   },
   {
    "duration": 0,
    "start_time": "2023-07-07T14:02:36.133Z"
   },
   {
    "duration": 0,
    "start_time": "2023-07-07T14:02:36.135Z"
   },
   {
    "duration": 0,
    "start_time": "2023-07-07T14:02:36.136Z"
   },
   {
    "duration": 0,
    "start_time": "2023-07-07T14:02:36.137Z"
   },
   {
    "duration": 0,
    "start_time": "2023-07-07T14:02:36.139Z"
   },
   {
    "duration": 0,
    "start_time": "2023-07-07T14:02:36.140Z"
   },
   {
    "duration": 0,
    "start_time": "2023-07-07T14:02:36.141Z"
   },
   {
    "duration": 0,
    "start_time": "2023-07-07T14:02:36.143Z"
   },
   {
    "duration": 0,
    "start_time": "2023-07-07T14:02:36.144Z"
   },
   {
    "duration": 0,
    "start_time": "2023-07-07T14:02:36.146Z"
   },
   {
    "duration": 0,
    "start_time": "2023-07-07T14:02:36.147Z"
   },
   {
    "duration": 0,
    "start_time": "2023-07-07T14:02:36.149Z"
   },
   {
    "duration": 0,
    "start_time": "2023-07-07T14:02:36.150Z"
   },
   {
    "duration": 0,
    "start_time": "2023-07-07T14:02:36.152Z"
   },
   {
    "duration": 0,
    "start_time": "2023-07-07T14:02:36.153Z"
   },
   {
    "duration": 0,
    "start_time": "2023-07-07T14:02:36.155Z"
   },
   {
    "duration": 0,
    "start_time": "2023-07-07T14:02:36.156Z"
   },
   {
    "duration": 1,
    "start_time": "2023-07-07T14:02:36.157Z"
   },
   {
    "duration": 0,
    "start_time": "2023-07-07T14:02:36.159Z"
   },
   {
    "duration": 0,
    "start_time": "2023-07-07T14:02:36.161Z"
   },
   {
    "duration": 0,
    "start_time": "2023-07-07T14:02:36.163Z"
   },
   {
    "duration": 0,
    "start_time": "2023-07-07T14:02:36.165Z"
   },
   {
    "duration": 0,
    "start_time": "2023-07-07T14:02:36.167Z"
   },
   {
    "duration": 0,
    "start_time": "2023-07-07T14:02:36.168Z"
   },
   {
    "duration": 0,
    "start_time": "2023-07-07T14:02:36.217Z"
   },
   {
    "duration": 13,
    "start_time": "2023-07-07T14:05:20.297Z"
   },
   {
    "duration": 178,
    "start_time": "2023-07-07T14:05:58.833Z"
   },
   {
    "duration": 228,
    "start_time": "2023-07-07T14:09:24.504Z"
   },
   {
    "duration": 45,
    "start_time": "2023-07-07T14:09:48.606Z"
   },
   {
    "duration": 2944,
    "start_time": "2023-07-07T14:10:17.756Z"
   },
   {
    "duration": 2726,
    "start_time": "2023-07-07T14:10:20.703Z"
   },
   {
    "duration": 10,
    "start_time": "2023-07-07T14:10:23.433Z"
   },
   {
    "duration": 1187,
    "start_time": "2023-07-07T14:10:23.447Z"
   },
   {
    "duration": 23,
    "start_time": "2023-07-07T14:10:24.644Z"
   },
   {
    "duration": 202,
    "start_time": "2023-07-07T14:10:24.669Z"
   },
   {
    "duration": 51,
    "start_time": "2023-07-07T14:10:24.872Z"
   },
   {
    "duration": 10,
    "start_time": "2023-07-07T14:10:24.925Z"
   },
   {
    "duration": 62,
    "start_time": "2023-07-07T14:10:24.939Z"
   },
   {
    "duration": 22,
    "start_time": "2023-07-07T14:10:25.005Z"
   },
   {
    "duration": 1548,
    "start_time": "2023-07-07T14:10:25.029Z"
   },
   {
    "duration": 197,
    "start_time": "2023-07-07T14:10:26.579Z"
   },
   {
    "duration": 423,
    "start_time": "2023-07-07T14:10:26.778Z"
   },
   {
    "duration": 15,
    "start_time": "2023-07-07T14:10:27.204Z"
   },
   {
    "duration": 168,
    "start_time": "2023-07-07T14:10:27.222Z"
   },
   {
    "duration": 36,
    "start_time": "2023-07-07T14:10:27.393Z"
   },
   {
    "duration": 50,
    "start_time": "2023-07-07T14:10:27.434Z"
   },
   {
    "duration": 56,
    "start_time": "2023-07-07T14:10:27.487Z"
   },
   {
    "duration": 97,
    "start_time": "2023-07-07T14:10:27.547Z"
   },
   {
    "duration": 743,
    "start_time": "2023-07-07T14:10:27.655Z"
   },
   {
    "duration": 1727,
    "start_time": "2023-07-07T14:10:28.400Z"
   },
   {
    "duration": 646,
    "start_time": "2023-07-07T14:10:30.139Z"
   },
   {
    "duration": 90,
    "start_time": "2023-07-07T14:10:30.788Z"
   },
   {
    "duration": 0,
    "start_time": "2023-07-07T14:10:30.881Z"
   },
   {
    "duration": 0,
    "start_time": "2023-07-07T14:10:30.883Z"
   },
   {
    "duration": 0,
    "start_time": "2023-07-07T14:10:30.886Z"
   },
   {
    "duration": 0,
    "start_time": "2023-07-07T14:10:30.888Z"
   },
   {
    "duration": 0,
    "start_time": "2023-07-07T14:10:30.889Z"
   },
   {
    "duration": 0,
    "start_time": "2023-07-07T14:10:30.891Z"
   },
   {
    "duration": 0,
    "start_time": "2023-07-07T14:10:30.892Z"
   },
   {
    "duration": 0,
    "start_time": "2023-07-07T14:10:30.921Z"
   },
   {
    "duration": 0,
    "start_time": "2023-07-07T14:10:30.922Z"
   },
   {
    "duration": 0,
    "start_time": "2023-07-07T14:10:30.923Z"
   },
   {
    "duration": 0,
    "start_time": "2023-07-07T14:10:30.924Z"
   },
   {
    "duration": 0,
    "start_time": "2023-07-07T14:10:30.925Z"
   },
   {
    "duration": 0,
    "start_time": "2023-07-07T14:10:30.926Z"
   },
   {
    "duration": 0,
    "start_time": "2023-07-07T14:10:30.927Z"
   },
   {
    "duration": 0,
    "start_time": "2023-07-07T14:10:30.928Z"
   },
   {
    "duration": 0,
    "start_time": "2023-07-07T14:10:30.930Z"
   },
   {
    "duration": 0,
    "start_time": "2023-07-07T14:10:30.931Z"
   },
   {
    "duration": 0,
    "start_time": "2023-07-07T14:10:30.932Z"
   },
   {
    "duration": 1,
    "start_time": "2023-07-07T14:10:30.933Z"
   },
   {
    "duration": 0,
    "start_time": "2023-07-07T14:10:30.935Z"
   },
   {
    "duration": 0,
    "start_time": "2023-07-07T14:10:30.936Z"
   },
   {
    "duration": 0,
    "start_time": "2023-07-07T14:10:30.938Z"
   },
   {
    "duration": 0,
    "start_time": "2023-07-07T14:10:30.940Z"
   },
   {
    "duration": 0,
    "start_time": "2023-07-07T14:10:30.941Z"
   },
   {
    "duration": 0,
    "start_time": "2023-07-07T14:10:30.943Z"
   },
   {
    "duration": 0,
    "start_time": "2023-07-07T14:10:30.944Z"
   },
   {
    "duration": 0,
    "start_time": "2023-07-07T14:10:30.945Z"
   },
   {
    "duration": 0,
    "start_time": "2023-07-07T14:10:30.947Z"
   },
   {
    "duration": 0,
    "start_time": "2023-07-07T14:10:30.948Z"
   },
   {
    "duration": 0,
    "start_time": "2023-07-07T14:10:30.950Z"
   },
   {
    "duration": 0,
    "start_time": "2023-07-07T14:10:30.951Z"
   },
   {
    "duration": 0,
    "start_time": "2023-07-07T14:10:30.953Z"
   },
   {
    "duration": 0,
    "start_time": "2023-07-07T14:10:30.954Z"
   },
   {
    "duration": 0,
    "start_time": "2023-07-07T14:10:30.956Z"
   },
   {
    "duration": 0,
    "start_time": "2023-07-07T14:10:30.957Z"
   },
   {
    "duration": 0,
    "start_time": "2023-07-07T14:10:30.959Z"
   },
   {
    "duration": 0,
    "start_time": "2023-07-07T14:10:30.960Z"
   },
   {
    "duration": 0,
    "start_time": "2023-07-07T14:10:30.962Z"
   },
   {
    "duration": 0,
    "start_time": "2023-07-07T14:10:30.963Z"
   },
   {
    "duration": 0,
    "start_time": "2023-07-07T14:10:30.965Z"
   },
   {
    "duration": 0,
    "start_time": "2023-07-07T14:10:30.966Z"
   },
   {
    "duration": 1,
    "start_time": "2023-07-07T14:10:30.968Z"
   },
   {
    "duration": 0,
    "start_time": "2023-07-07T14:10:30.970Z"
   },
   {
    "duration": 0,
    "start_time": "2023-07-07T14:10:30.972Z"
   },
   {
    "duration": 0,
    "start_time": "2023-07-07T14:10:30.973Z"
   },
   {
    "duration": 0,
    "start_time": "2023-07-07T14:10:31.015Z"
   },
   {
    "duration": 0,
    "start_time": "2023-07-07T14:10:31.016Z"
   },
   {
    "duration": 0,
    "start_time": "2023-07-07T14:10:31.019Z"
   },
   {
    "duration": 0,
    "start_time": "2023-07-07T14:10:31.021Z"
   },
   {
    "duration": 204,
    "start_time": "2023-07-07T14:10:55.603Z"
   },
   {
    "duration": 5,
    "start_time": "2023-07-07T14:10:56.796Z"
   },
   {
    "duration": 183,
    "start_time": "2023-07-07T14:10:59.042Z"
   },
   {
    "duration": 2854,
    "start_time": "2023-07-07T14:11:13.270Z"
   },
   {
    "duration": 2834,
    "start_time": "2023-07-07T14:11:16.131Z"
   },
   {
    "duration": 6,
    "start_time": "2023-07-07T14:11:18.968Z"
   },
   {
    "duration": 1081,
    "start_time": "2023-07-07T14:11:18.977Z"
   },
   {
    "duration": 30,
    "start_time": "2023-07-07T14:11:20.062Z"
   },
   {
    "duration": 288,
    "start_time": "2023-07-07T14:11:20.095Z"
   },
   {
    "duration": 84,
    "start_time": "2023-07-07T14:11:20.385Z"
   },
   {
    "duration": 5,
    "start_time": "2023-07-07T14:11:20.471Z"
   },
   {
    "duration": 90,
    "start_time": "2023-07-07T14:11:20.479Z"
   },
   {
    "duration": 14,
    "start_time": "2023-07-07T14:11:20.575Z"
   },
   {
    "duration": 1802,
    "start_time": "2023-07-07T14:11:20.591Z"
   },
   {
    "duration": 173,
    "start_time": "2023-07-07T14:11:22.395Z"
   },
   {
    "duration": 289,
    "start_time": "2023-07-07T14:11:22.571Z"
   },
   {
    "duration": 5,
    "start_time": "2023-07-07T14:11:22.864Z"
   },
   {
    "duration": 163,
    "start_time": "2023-07-07T14:11:22.871Z"
   },
   {
    "duration": 34,
    "start_time": "2023-07-07T14:11:23.049Z"
   },
   {
    "duration": 22,
    "start_time": "2023-07-07T14:11:23.087Z"
   },
   {
    "duration": 54,
    "start_time": "2023-07-07T14:11:23.111Z"
   },
   {
    "duration": 107,
    "start_time": "2023-07-07T14:11:23.167Z"
   },
   {
    "duration": 745,
    "start_time": "2023-07-07T14:11:23.277Z"
   },
   {
    "duration": 1809,
    "start_time": "2023-07-07T14:11:24.028Z"
   },
   {
    "duration": 523,
    "start_time": "2023-07-07T14:11:25.848Z"
   },
   {
    "duration": 201,
    "start_time": "2023-07-07T14:11:26.373Z"
   },
   {
    "duration": 4,
    "start_time": "2023-07-07T14:11:26.576Z"
   },
   {
    "duration": 199,
    "start_time": "2023-07-07T14:11:26.583Z"
   },
   {
    "duration": 7,
    "start_time": "2023-07-07T14:11:26.784Z"
   },
   {
    "duration": 354,
    "start_time": "2023-07-07T14:11:26.793Z"
   },
   {
    "duration": 519,
    "start_time": "2023-07-07T14:11:27.159Z"
   },
   {
    "duration": 122,
    "start_time": "2023-07-07T14:11:27.680Z"
   },
   {
    "duration": 290,
    "start_time": "2023-07-07T14:11:27.805Z"
   },
   {
    "duration": 301,
    "start_time": "2023-07-07T14:11:28.097Z"
   },
   {
    "duration": 228,
    "start_time": "2023-07-07T14:11:28.401Z"
   },
   {
    "duration": 450,
    "start_time": "2023-07-07T14:11:28.640Z"
   },
   {
    "duration": 549,
    "start_time": "2023-07-07T14:11:29.092Z"
   },
   {
    "duration": 178,
    "start_time": "2023-07-07T14:11:29.651Z"
   },
   {
    "duration": 350,
    "start_time": "2023-07-07T14:11:29.832Z"
   },
   {
    "duration": 300,
    "start_time": "2023-07-07T14:11:30.185Z"
   },
   {
    "duration": 620,
    "start_time": "2023-07-07T14:11:30.488Z"
   },
   {
    "duration": 131,
    "start_time": "2023-07-07T14:11:31.110Z"
   },
   {
    "duration": 279,
    "start_time": "2023-07-07T14:11:31.247Z"
   },
   {
    "duration": 77,
    "start_time": "2023-07-07T14:11:31.530Z"
   },
   {
    "duration": 236,
    "start_time": "2023-07-07T14:11:31.609Z"
   },
   {
    "duration": 194,
    "start_time": "2023-07-07T14:11:31.847Z"
   },
   {
    "duration": 208,
    "start_time": "2023-07-07T14:11:32.044Z"
   },
   {
    "duration": 16,
    "start_time": "2023-07-07T14:11:32.254Z"
   },
   {
    "duration": 66,
    "start_time": "2023-07-07T14:11:32.273Z"
   },
   {
    "duration": 24,
    "start_time": "2023-07-07T14:11:32.345Z"
   },
   {
    "duration": 61,
    "start_time": "2023-07-07T14:11:32.371Z"
   },
   {
    "duration": 25,
    "start_time": "2023-07-07T14:11:32.434Z"
   },
   {
    "duration": 282,
    "start_time": "2023-07-07T14:11:32.464Z"
   },
   {
    "duration": 21,
    "start_time": "2023-07-07T14:11:32.754Z"
   },
   {
    "duration": 26,
    "start_time": "2023-07-07T14:11:32.778Z"
   },
   {
    "duration": 56,
    "start_time": "2023-07-07T14:11:32.806Z"
   },
   {
    "duration": 22,
    "start_time": "2023-07-07T14:11:32.865Z"
   },
   {
    "duration": 52,
    "start_time": "2023-07-07T14:11:32.889Z"
   },
   {
    "duration": 24,
    "start_time": "2023-07-07T14:11:32.943Z"
   },
   {
    "duration": 77,
    "start_time": "2023-07-07T14:11:32.972Z"
   },
   {
    "duration": 183,
    "start_time": "2023-07-07T14:11:33.051Z"
   },
   {
    "duration": 27,
    "start_time": "2023-07-07T14:11:33.235Z"
   },
   {
    "duration": 17,
    "start_time": "2023-07-07T14:11:33.266Z"
   },
   {
    "duration": 47,
    "start_time": "2023-07-07T14:11:33.285Z"
   },
   {
    "duration": 57,
    "start_time": "2023-07-07T14:11:33.334Z"
   },
   {
    "duration": 40,
    "start_time": "2023-07-07T14:11:33.393Z"
   },
   {
    "duration": 300,
    "start_time": "2023-07-07T14:11:33.441Z"
   },
   {
    "duration": 48,
    "start_time": "2023-07-07T14:11:33.748Z"
   },
   {
    "duration": 66,
    "start_time": "2023-07-07T14:11:33.799Z"
   },
   {
    "duration": 24,
    "start_time": "2023-07-07T14:11:33.871Z"
   },
   {
    "duration": 2108,
    "start_time": "2023-07-07T14:11:33.897Z"
   },
   {
    "duration": 36,
    "start_time": "2023-07-07T14:11:36.007Z"
   },
   {
    "duration": 800,
    "start_time": "2023-07-07T14:11:36.051Z"
   },
   {
    "duration": 20,
    "start_time": "2023-07-07T14:11:36.853Z"
   },
   {
    "duration": 66,
    "start_time": "2023-07-07T14:11:36.875Z"
   },
   {
    "duration": 189,
    "start_time": "2023-07-07T14:11:36.943Z"
   },
   {
    "duration": 97,
    "start_time": "2023-07-07T14:11:42.795Z"
   },
   {
    "duration": 16,
    "start_time": "2023-07-07T14:11:45.545Z"
   },
   {
    "duration": 14,
    "start_time": "2023-07-07T14:12:21.197Z"
   },
   {
    "duration": 29,
    "start_time": "2023-07-07T14:13:45.432Z"
   },
   {
    "duration": 25,
    "start_time": "2023-07-07T14:14:07.965Z"
   },
   {
    "duration": 10,
    "start_time": "2023-07-07T14:14:32.157Z"
   },
   {
    "duration": 19,
    "start_time": "2023-07-07T14:17:12.330Z"
   },
   {
    "duration": 12,
    "start_time": "2023-07-07T14:18:14.367Z"
   },
   {
    "duration": 14,
    "start_time": "2023-07-07T14:20:44.659Z"
   },
   {
    "duration": 38,
    "start_time": "2023-07-07T14:20:49.453Z"
   },
   {
    "duration": 13,
    "start_time": "2023-07-07T14:27:37.478Z"
   },
   {
    "duration": 12,
    "start_time": "2023-07-07T14:27:46.578Z"
   },
   {
    "duration": 6,
    "start_time": "2023-07-07T14:29:29.985Z"
   },
   {
    "duration": 16,
    "start_time": "2023-07-07T14:29:40.152Z"
   },
   {
    "duration": 37,
    "start_time": "2023-07-07T14:29:49.767Z"
   },
   {
    "duration": 8,
    "start_time": "2023-07-07T14:30:23.243Z"
   },
   {
    "duration": 521,
    "start_time": "2023-07-07T14:30:25.555Z"
   },
   {
    "duration": 20,
    "start_time": "2023-07-07T14:32:23.405Z"
   },
   {
    "duration": 470,
    "start_time": "2023-07-07T14:33:45.555Z"
   },
   {
    "duration": 28,
    "start_time": "2023-07-07T14:36:08.397Z"
   },
   {
    "duration": 1131,
    "start_time": "2023-07-07T14:36:19.902Z"
   },
   {
    "duration": 16,
    "start_time": "2023-07-07T14:37:46.164Z"
   },
   {
    "duration": 12,
    "start_time": "2023-07-07T14:37:50.895Z"
   },
   {
    "duration": 3,
    "start_time": "2023-07-07T14:38:05.477Z"
   },
   {
    "duration": 10,
    "start_time": "2023-07-07T14:38:11.138Z"
   },
   {
    "duration": 1149,
    "start_time": "2023-07-07T14:39:16.661Z"
   },
   {
    "duration": 65264,
    "start_time": "2023-07-07T14:39:22.740Z"
   },
   {
    "duration": 16,
    "start_time": "2023-07-07T14:44:51.134Z"
   },
   {
    "duration": 17,
    "start_time": "2023-07-07T14:45:06.259Z"
   },
   {
    "duration": 2280,
    "start_time": "2023-07-07T14:45:12.494Z"
   },
   {
    "duration": 21,
    "start_time": "2023-07-07T14:45:40.961Z"
   },
   {
    "duration": 102,
    "start_time": "2023-07-07T14:45:56.402Z"
   },
   {
    "duration": 11,
    "start_time": "2023-07-07T14:46:11.962Z"
   },
   {
    "duration": 26,
    "start_time": "2023-07-07T14:46:12.501Z"
   },
   {
    "duration": 491,
    "start_time": "2023-07-07T14:46:15.709Z"
   },
   {
    "duration": 7536,
    "start_time": "2023-07-07T14:48:01.740Z"
   },
   {
    "duration": 22,
    "start_time": "2023-07-07T14:48:28.787Z"
   },
   {
    "duration": 6,
    "start_time": "2023-07-07T14:48:40.388Z"
   },
   {
    "duration": 22,
    "start_time": "2023-07-07T14:48:46.220Z"
   },
   {
    "duration": 13,
    "start_time": "2023-07-07T14:49:00.352Z"
   },
   {
    "duration": 32,
    "start_time": "2023-07-07T14:49:13.168Z"
   },
   {
    "duration": 591,
    "start_time": "2023-07-07T14:49:21.539Z"
   },
   {
    "duration": 520,
    "start_time": "2023-07-07T14:49:36.379Z"
   },
   {
    "duration": 610,
    "start_time": "2023-07-07T14:49:44.538Z"
   },
   {
    "duration": 2516,
    "start_time": "2023-07-07T14:50:27.640Z"
   },
   {
    "duration": 2529,
    "start_time": "2023-07-07T14:50:30.159Z"
   },
   {
    "duration": 1900,
    "start_time": "2023-07-07T14:50:32.691Z"
   },
   {
    "duration": 1351,
    "start_time": "2023-07-07T14:50:34.593Z"
   },
   {
    "duration": 18,
    "start_time": "2023-07-07T14:50:35.948Z"
   },
   {
    "duration": 125,
    "start_time": "2023-07-07T14:50:35.968Z"
   },
   {
    "duration": 73,
    "start_time": "2023-07-07T14:50:36.095Z"
   },
   {
    "duration": 6,
    "start_time": "2023-07-07T14:50:36.170Z"
   },
   {
    "duration": 63,
    "start_time": "2023-07-07T14:50:36.178Z"
   },
   {
    "duration": 13,
    "start_time": "2023-07-07T14:50:36.244Z"
   },
   {
    "duration": 1388,
    "start_time": "2023-07-07T14:50:36.259Z"
   },
   {
    "duration": 116,
    "start_time": "2023-07-07T14:50:37.649Z"
   },
   {
    "duration": 271,
    "start_time": "2023-07-07T14:50:37.767Z"
   },
   {
    "duration": 4,
    "start_time": "2023-07-07T14:50:38.042Z"
   },
   {
    "duration": 179,
    "start_time": "2023-07-07T14:50:38.047Z"
   },
   {
    "duration": 29,
    "start_time": "2023-07-07T14:50:38.230Z"
   },
   {
    "duration": 22,
    "start_time": "2023-07-07T14:50:38.261Z"
   },
   {
    "duration": 60,
    "start_time": "2023-07-07T14:50:38.285Z"
   },
   {
    "duration": 125,
    "start_time": "2023-07-07T14:50:38.347Z"
   },
   {
    "duration": 782,
    "start_time": "2023-07-07T14:50:38.475Z"
   },
   {
    "duration": 1470,
    "start_time": "2023-07-07T14:50:39.259Z"
   },
   {
    "duration": 478,
    "start_time": "2023-07-07T14:50:40.731Z"
   },
   {
    "duration": 200,
    "start_time": "2023-07-07T14:50:41.211Z"
   },
   {
    "duration": 6,
    "start_time": "2023-07-07T14:50:41.415Z"
   },
   {
    "duration": 154,
    "start_time": "2023-07-07T14:50:41.431Z"
   },
   {
    "duration": 6,
    "start_time": "2023-07-07T14:50:41.587Z"
   },
   {
    "duration": 279,
    "start_time": "2023-07-07T14:50:41.596Z"
   },
   {
    "duration": 486,
    "start_time": "2023-07-07T14:50:41.877Z"
   },
   {
    "duration": 104,
    "start_time": "2023-07-07T14:50:42.365Z"
   },
   {
    "duration": 245,
    "start_time": "2023-07-07T14:50:42.471Z"
   },
   {
    "duration": 233,
    "start_time": "2023-07-07T14:50:42.720Z"
   },
   {
    "duration": 182,
    "start_time": "2023-07-07T14:50:42.955Z"
   },
   {
    "duration": 245,
    "start_time": "2023-07-07T14:50:43.140Z"
   },
   {
    "duration": 445,
    "start_time": "2023-07-07T14:50:43.387Z"
   },
   {
    "duration": 121,
    "start_time": "2023-07-07T14:50:43.834Z"
   },
   {
    "duration": 259,
    "start_time": "2023-07-07T14:50:43.957Z"
   },
   {
    "duration": 209,
    "start_time": "2023-07-07T14:50:44.219Z"
   },
   {
    "duration": 425,
    "start_time": "2023-07-07T14:50:44.430Z"
   },
   {
    "duration": 113,
    "start_time": "2023-07-07T14:50:44.857Z"
   },
   {
    "duration": 260,
    "start_time": "2023-07-07T14:50:44.972Z"
   },
   {
    "duration": 93,
    "start_time": "2023-07-07T14:50:45.238Z"
   },
   {
    "duration": 327,
    "start_time": "2023-07-07T14:50:45.332Z"
   },
   {
    "duration": 182,
    "start_time": "2023-07-07T14:50:45.661Z"
   },
   {
    "duration": 255,
    "start_time": "2023-07-07T14:50:45.845Z"
   },
   {
    "duration": 27,
    "start_time": "2023-07-07T14:50:46.102Z"
   },
   {
    "duration": 36,
    "start_time": "2023-07-07T14:50:46.131Z"
   },
   {
    "duration": 19,
    "start_time": "2023-07-07T14:50:46.169Z"
   },
   {
    "duration": 64,
    "start_time": "2023-07-07T14:50:46.190Z"
   },
   {
    "duration": 19,
    "start_time": "2023-07-07T14:50:46.256Z"
   },
   {
    "duration": 198,
    "start_time": "2023-07-07T14:50:46.277Z"
   },
   {
    "duration": 12,
    "start_time": "2023-07-07T14:50:46.478Z"
   },
   {
    "duration": 33,
    "start_time": "2023-07-07T14:50:46.493Z"
   },
   {
    "duration": 43,
    "start_time": "2023-07-07T14:50:46.528Z"
   },
   {
    "duration": 21,
    "start_time": "2023-07-07T14:50:46.574Z"
   },
   {
    "duration": 54,
    "start_time": "2023-07-07T14:50:46.597Z"
   },
   {
    "duration": 22,
    "start_time": "2023-07-07T14:50:46.653Z"
   },
   {
    "duration": 82,
    "start_time": "2023-07-07T14:50:46.677Z"
   },
   {
    "duration": 224,
    "start_time": "2023-07-07T14:50:46.762Z"
   },
   {
    "duration": 29,
    "start_time": "2023-07-07T14:50:46.988Z"
   },
   {
    "duration": 20,
    "start_time": "2023-07-07T14:50:47.019Z"
   },
   {
    "duration": 9,
    "start_time": "2023-07-07T14:50:47.041Z"
   },
   {
    "duration": 44,
    "start_time": "2023-07-07T14:50:47.052Z"
   },
   {
    "duration": 37,
    "start_time": "2023-07-07T14:50:47.114Z"
   },
   {
    "duration": 208,
    "start_time": "2023-07-07T14:50:47.153Z"
   },
   {
    "duration": 33,
    "start_time": "2023-07-07T14:50:47.364Z"
   },
   {
    "duration": 52,
    "start_time": "2023-07-07T14:50:47.399Z"
   },
   {
    "duration": 17,
    "start_time": "2023-07-07T14:50:47.453Z"
   },
   {
    "duration": 1815,
    "start_time": "2023-07-07T14:50:47.473Z"
   },
   {
    "duration": 40,
    "start_time": "2023-07-07T14:50:49.290Z"
   },
   {
    "duration": 456,
    "start_time": "2023-07-07T14:50:49.332Z"
   },
   {
    "duration": 32,
    "start_time": "2023-07-07T14:50:49.790Z"
   },
   {
    "duration": 23,
    "start_time": "2023-07-07T14:50:49.826Z"
   },
   {
    "duration": 109,
    "start_time": "2023-07-07T14:50:49.852Z"
   },
   {
    "duration": 20,
    "start_time": "2023-07-07T14:50:49.964Z"
   },
   {
    "duration": 16,
    "start_time": "2023-07-07T14:50:49.986Z"
   },
   {
    "duration": 21,
    "start_time": "2023-07-07T14:50:50.020Z"
   },
   {
    "duration": 50,
    "start_time": "2023-07-07T14:50:50.046Z"
   },
   {
    "duration": 4,
    "start_time": "2023-07-07T14:55:58.077Z"
   },
   {
    "duration": 92,
    "start_time": "2023-07-07T14:58:22.954Z"
   },
   {
    "duration": 489,
    "start_time": "2023-07-07T14:58:36.935Z"
   },
   {
    "duration": 22,
    "start_time": "2023-07-07T14:58:44.854Z"
   },
   {
    "duration": 486,
    "start_time": "2023-07-07T14:59:41.533Z"
   },
   {
    "duration": 5,
    "start_time": "2023-07-07T14:59:44.796Z"
   },
   {
    "duration": 166,
    "start_time": "2023-07-07T15:10:01.213Z"
   },
   {
    "duration": 295,
    "start_time": "2023-07-07T15:10:07.324Z"
   },
   {
    "duration": 6,
    "start_time": "2023-07-07T15:10:10.514Z"
   },
   {
    "duration": 738,
    "start_time": "2023-07-07T15:10:42.415Z"
   },
   {
    "duration": 291,
    "start_time": "2023-07-07T15:11:25.482Z"
   },
   {
    "duration": 376,
    "start_time": "2023-07-07T15:11:26.034Z"
   },
   {
    "duration": 4129,
    "start_time": "2023-07-07T15:11:36.568Z"
   },
   {
    "duration": 334,
    "start_time": "2023-07-07T15:11:56.839Z"
   },
   {
    "duration": 889,
    "start_time": "2023-07-07T15:13:41.734Z"
   },
   {
    "duration": 85,
    "start_time": "2023-07-07T15:14:20.439Z"
   },
   {
    "duration": 16,
    "start_time": "2023-07-07T15:15:33.436Z"
   },
   {
    "duration": 78,
    "start_time": "2023-07-07T15:15:37.676Z"
   },
   {
    "duration": 2777,
    "start_time": "2023-07-07T15:16:00.430Z"
   },
   {
    "duration": 2610,
    "start_time": "2023-07-07T15:16:03.210Z"
   },
   {
    "duration": 2868,
    "start_time": "2023-07-07T15:16:05.826Z"
   },
   {
    "duration": 3558,
    "start_time": "2023-07-07T15:16:08.697Z"
   },
   {
    "duration": 21,
    "start_time": "2023-07-07T15:16:12.258Z"
   },
   {
    "duration": 138,
    "start_time": "2023-07-07T15:16:12.281Z"
   },
   {
    "duration": 56,
    "start_time": "2023-07-07T15:16:12.421Z"
   },
   {
    "duration": 4,
    "start_time": "2023-07-07T15:16:12.479Z"
   },
   {
    "duration": 63,
    "start_time": "2023-07-07T15:16:12.485Z"
   },
   {
    "duration": 14,
    "start_time": "2023-07-07T15:16:12.550Z"
   },
   {
    "duration": 1640,
    "start_time": "2023-07-07T15:16:12.566Z"
   },
   {
    "duration": 131,
    "start_time": "2023-07-07T15:16:14.219Z"
   },
   {
    "duration": 278,
    "start_time": "2023-07-07T15:16:14.352Z"
   },
   {
    "duration": 4,
    "start_time": "2023-07-07T15:16:14.640Z"
   },
   {
    "duration": 151,
    "start_time": "2023-07-07T15:16:14.646Z"
   },
   {
    "duration": 41,
    "start_time": "2023-07-07T15:16:14.799Z"
   },
   {
    "duration": 40,
    "start_time": "2023-07-07T15:16:14.842Z"
   },
   {
    "duration": 67,
    "start_time": "2023-07-07T15:16:14.884Z"
   },
   {
    "duration": 100,
    "start_time": "2023-07-07T15:16:14.953Z"
   },
   {
    "duration": 786,
    "start_time": "2023-07-07T15:16:15.055Z"
   },
   {
    "duration": 1401,
    "start_time": "2023-07-07T15:16:15.843Z"
   },
   {
    "duration": 492,
    "start_time": "2023-07-07T15:16:17.246Z"
   },
   {
    "duration": 216,
    "start_time": "2023-07-07T15:16:17.742Z"
   },
   {
    "duration": 4,
    "start_time": "2023-07-07T15:16:17.960Z"
   },
   {
    "duration": 116,
    "start_time": "2023-07-07T15:16:17.966Z"
   },
   {
    "duration": 15,
    "start_time": "2023-07-07T15:16:18.084Z"
   },
   {
    "duration": 302,
    "start_time": "2023-07-07T15:16:18.101Z"
   },
   {
    "duration": 440,
    "start_time": "2023-07-07T15:16:18.405Z"
   },
   {
    "duration": 115,
    "start_time": "2023-07-07T15:16:18.847Z"
   },
   {
    "duration": 290,
    "start_time": "2023-07-07T15:16:18.964Z"
   },
   {
    "duration": 303,
    "start_time": "2023-07-07T15:16:19.257Z"
   },
   {
    "duration": 278,
    "start_time": "2023-07-07T15:16:19.562Z"
   },
   {
    "duration": 343,
    "start_time": "2023-07-07T15:16:19.842Z"
   },
   {
    "duration": 568,
    "start_time": "2023-07-07T15:16:20.188Z"
   },
   {
    "duration": 143,
    "start_time": "2023-07-07T15:16:20.758Z"
   },
   {
    "duration": 247,
    "start_time": "2023-07-07T15:16:20.926Z"
   },
   {
    "duration": 294,
    "start_time": "2023-07-07T15:16:21.175Z"
   },
   {
    "duration": 468,
    "start_time": "2023-07-07T15:16:21.471Z"
   },
   {
    "duration": 134,
    "start_time": "2023-07-07T15:16:21.942Z"
   },
   {
    "duration": 220,
    "start_time": "2023-07-07T15:16:22.078Z"
   },
   {
    "duration": 85,
    "start_time": "2023-07-07T15:16:22.302Z"
   },
   {
    "duration": 354,
    "start_time": "2023-07-07T15:16:22.389Z"
   },
   {
    "duration": 192,
    "start_time": "2023-07-07T15:16:22.745Z"
   },
   {
    "duration": 194,
    "start_time": "2023-07-07T15:16:22.940Z"
   },
   {
    "duration": 18,
    "start_time": "2023-07-07T15:16:23.140Z"
   },
   {
    "duration": 33,
    "start_time": "2023-07-07T15:16:23.160Z"
   },
   {
    "duration": 42,
    "start_time": "2023-07-07T15:16:23.195Z"
   },
   {
    "duration": 92,
    "start_time": "2023-07-07T15:16:23.240Z"
   },
   {
    "duration": 21,
    "start_time": "2023-07-07T15:16:23.341Z"
   },
   {
    "duration": 187,
    "start_time": "2023-07-07T15:16:23.366Z"
   },
   {
    "duration": 12,
    "start_time": "2023-07-07T15:16:23.555Z"
   },
   {
    "duration": 13,
    "start_time": "2023-07-07T15:16:23.570Z"
   },
   {
    "duration": 67,
    "start_time": "2023-07-07T15:16:23.585Z"
   },
   {
    "duration": 20,
    "start_time": "2023-07-07T15:16:23.654Z"
   },
   {
    "duration": 67,
    "start_time": "2023-07-07T15:16:23.677Z"
   },
   {
    "duration": 23,
    "start_time": "2023-07-07T15:16:23.746Z"
   },
   {
    "duration": 92,
    "start_time": "2023-07-07T15:16:23.771Z"
   },
   {
    "duration": 226,
    "start_time": "2023-07-07T15:16:23.865Z"
   },
   {
    "duration": 34,
    "start_time": "2023-07-07T15:16:24.094Z"
   },
   {
    "duration": 20,
    "start_time": "2023-07-07T15:16:24.137Z"
   },
   {
    "duration": 11,
    "start_time": "2023-07-07T15:16:24.159Z"
   },
   {
    "duration": 55,
    "start_time": "2023-07-07T15:16:24.172Z"
   },
   {
    "duration": 34,
    "start_time": "2023-07-07T15:16:24.229Z"
   },
   {
    "duration": 273,
    "start_time": "2023-07-07T15:16:24.266Z"
   },
   {
    "duration": 31,
    "start_time": "2023-07-07T15:16:24.543Z"
   },
   {
    "duration": 42,
    "start_time": "2023-07-07T15:16:24.577Z"
   },
   {
    "duration": 22,
    "start_time": "2023-07-07T15:16:24.623Z"
   },
   {
    "duration": 1839,
    "start_time": "2023-07-07T15:16:24.647Z"
   },
   {
    "duration": 36,
    "start_time": "2023-07-07T15:16:26.488Z"
   },
   {
    "duration": 413,
    "start_time": "2023-07-07T15:16:26.526Z"
   },
   {
    "duration": 17,
    "start_time": "2023-07-07T15:16:26.942Z"
   },
   {
    "duration": 13,
    "start_time": "2023-07-07T15:16:26.961Z"
   },
   {
    "duration": 126,
    "start_time": "2023-07-07T15:16:26.976Z"
   },
   {
    "duration": 16,
    "start_time": "2023-07-07T15:16:27.105Z"
   },
   {
    "duration": 10,
    "start_time": "2023-07-07T15:16:27.130Z"
   },
   {
    "duration": 13,
    "start_time": "2023-07-07T15:16:27.143Z"
   },
   {
    "duration": 60,
    "start_time": "2023-07-07T15:16:38.834Z"
   },
   {
    "duration": 62274,
    "start_time": "2023-07-07T15:16:40.570Z"
   },
   {
    "duration": 204,
    "start_time": "2023-07-07T15:17:58.632Z"
   },
   {
    "duration": 215,
    "start_time": "2023-07-07T15:19:20.970Z"
   },
   {
    "duration": 86,
    "start_time": "2023-07-07T15:19:25.833Z"
   },
   {
    "duration": 161,
    "start_time": "2023-07-07T15:20:37.943Z"
   },
   {
    "duration": 7,
    "start_time": "2023-07-07T16:10:42.404Z"
   },
   {
    "duration": 34,
    "start_time": "2023-07-07T16:11:08.535Z"
   },
   {
    "duration": 5,
    "start_time": "2023-07-07T16:13:41.135Z"
   },
   {
    "duration": 18,
    "start_time": "2023-07-07T16:13:42.854Z"
   },
   {
    "duration": 152,
    "start_time": "2023-07-07T16:14:31.605Z"
   },
   {
    "duration": 13,
    "start_time": "2023-07-07T16:14:38.714Z"
   },
   {
    "duration": 15,
    "start_time": "2023-07-07T16:14:42.755Z"
   },
   {
    "duration": 12,
    "start_time": "2023-07-07T16:14:54.315Z"
   },
   {
    "duration": 32,
    "start_time": "2023-07-07T16:14:58.443Z"
   },
   {
    "duration": 59,
    "start_time": "2023-07-07T16:15:31.210Z"
   },
   {
    "duration": 2451,
    "start_time": "2023-07-07T16:15:34.484Z"
   },
   {
    "duration": 2281,
    "start_time": "2023-07-07T16:15:36.938Z"
   },
   {
    "duration": 2867,
    "start_time": "2023-07-07T16:15:39.221Z"
   },
   {
    "duration": 3004,
    "start_time": "2023-07-07T16:15:42.090Z"
   },
   {
    "duration": 19,
    "start_time": "2023-07-07T16:15:45.096Z"
   },
   {
    "duration": 120,
    "start_time": "2023-07-07T16:15:45.118Z"
   },
   {
    "duration": 52,
    "start_time": "2023-07-07T16:15:45.240Z"
   },
   {
    "duration": 20,
    "start_time": "2023-07-07T16:15:45.294Z"
   },
   {
    "duration": 52,
    "start_time": "2023-07-07T16:15:45.316Z"
   },
   {
    "duration": 14,
    "start_time": "2023-07-07T16:15:45.370Z"
   },
   {
    "duration": 1379,
    "start_time": "2023-07-07T16:15:45.386Z"
   },
   {
    "duration": 125,
    "start_time": "2023-07-07T16:15:46.768Z"
   },
   {
    "duration": 261,
    "start_time": "2023-07-07T16:15:46.896Z"
   },
   {
    "duration": 4,
    "start_time": "2023-07-07T16:15:47.161Z"
   },
   {
    "duration": 132,
    "start_time": "2023-07-07T16:15:47.167Z"
   },
   {
    "duration": 28,
    "start_time": "2023-07-07T16:15:47.301Z"
   },
   {
    "duration": 22,
    "start_time": "2023-07-07T16:15:47.332Z"
   },
   {
    "duration": 58,
    "start_time": "2023-07-07T16:15:47.356Z"
   },
   {
    "duration": 70,
    "start_time": "2023-07-07T16:15:47.416Z"
   },
   {
    "duration": 759,
    "start_time": "2023-07-07T16:15:47.488Z"
   },
   {
    "duration": 1313,
    "start_time": "2023-07-07T16:15:48.249Z"
   },
   {
    "duration": 511,
    "start_time": "2023-07-07T16:15:49.564Z"
   },
   {
    "duration": 244,
    "start_time": "2023-07-07T16:15:50.078Z"
   },
   {
    "duration": 4,
    "start_time": "2023-07-07T16:15:50.325Z"
   },
   {
    "duration": 186,
    "start_time": "2023-07-07T16:15:50.332Z"
   },
   {
    "duration": 6,
    "start_time": "2023-07-07T16:15:50.521Z"
   },
   {
    "duration": 262,
    "start_time": "2023-07-07T16:15:50.528Z"
   },
   {
    "duration": 407,
    "start_time": "2023-07-07T16:15:50.792Z"
   },
   {
    "duration": 101,
    "start_time": "2023-07-07T16:15:51.202Z"
   },
   {
    "duration": 241,
    "start_time": "2023-07-07T16:15:51.314Z"
   },
   {
    "duration": 248,
    "start_time": "2023-07-07T16:15:51.557Z"
   },
   {
    "duration": 160,
    "start_time": "2023-07-07T16:15:51.812Z"
   },
   {
    "duration": 226,
    "start_time": "2023-07-07T16:15:51.974Z"
   },
   {
    "duration": 401,
    "start_time": "2023-07-07T16:15:52.202Z"
   },
   {
    "duration": 108,
    "start_time": "2023-07-07T16:15:52.605Z"
   },
   {
    "duration": 232,
    "start_time": "2023-07-07T16:15:52.715Z"
   },
   {
    "duration": 189,
    "start_time": "2023-07-07T16:15:52.949Z"
   },
   {
    "duration": 425,
    "start_time": "2023-07-07T16:15:53.141Z"
   },
   {
    "duration": 103,
    "start_time": "2023-07-07T16:15:53.568Z"
   },
   {
    "duration": 207,
    "start_time": "2023-07-07T16:15:53.673Z"
   },
   {
    "duration": 78,
    "start_time": "2023-07-07T16:15:53.886Z"
   },
   {
    "duration": 293,
    "start_time": "2023-07-07T16:15:53.967Z"
   },
   {
    "duration": 181,
    "start_time": "2023-07-07T16:15:54.262Z"
   },
   {
    "duration": 170,
    "start_time": "2023-07-07T16:15:54.445Z"
   },
   {
    "duration": 14,
    "start_time": "2023-07-07T16:15:54.617Z"
   },
   {
    "duration": 31,
    "start_time": "2023-07-07T16:15:54.633Z"
   },
   {
    "duration": 19,
    "start_time": "2023-07-07T16:15:54.666Z"
   },
   {
    "duration": 68,
    "start_time": "2023-07-07T16:15:54.686Z"
   },
   {
    "duration": 19,
    "start_time": "2023-07-07T16:15:54.756Z"
   },
   {
    "duration": 202,
    "start_time": "2023-07-07T16:15:54.777Z"
   },
   {
    "duration": 11,
    "start_time": "2023-07-07T16:15:54.981Z"
   },
   {
    "duration": 25,
    "start_time": "2023-07-07T16:15:54.993Z"
   },
   {
    "duration": 37,
    "start_time": "2023-07-07T16:15:55.020Z"
   },
   {
    "duration": 21,
    "start_time": "2023-07-07T16:15:55.059Z"
   },
   {
    "duration": 63,
    "start_time": "2023-07-07T16:15:55.082Z"
   },
   {
    "duration": 17,
    "start_time": "2023-07-07T16:15:55.147Z"
   },
   {
    "duration": 71,
    "start_time": "2023-07-07T16:15:55.166Z"
   },
   {
    "duration": 154,
    "start_time": "2023-07-07T16:15:55.239Z"
   },
   {
    "duration": 26,
    "start_time": "2023-07-07T16:15:55.395Z"
   },
   {
    "duration": 14,
    "start_time": "2023-07-07T16:15:55.423Z"
   },
   {
    "duration": 8,
    "start_time": "2023-07-07T16:15:55.439Z"
   },
   {
    "duration": 57,
    "start_time": "2023-07-07T16:15:55.448Z"
   },
   {
    "duration": 34,
    "start_time": "2023-07-07T16:15:55.507Z"
   },
   {
    "duration": 223,
    "start_time": "2023-07-07T16:15:55.543Z"
   },
   {
    "duration": 47,
    "start_time": "2023-07-07T16:15:55.768Z"
   },
   {
    "duration": 29,
    "start_time": "2023-07-07T16:15:55.817Z"
   },
   {
    "duration": 17,
    "start_time": "2023-07-07T16:15:55.848Z"
   },
   {
    "duration": 1708,
    "start_time": "2023-07-07T16:15:55.866Z"
   },
   {
    "duration": 17,
    "start_time": "2023-07-07T16:15:57.575Z"
   },
   {
    "duration": 419,
    "start_time": "2023-07-07T16:15:57.594Z"
   },
   {
    "duration": 20,
    "start_time": "2023-07-07T16:15:58.015Z"
   },
   {
    "duration": 13,
    "start_time": "2023-07-07T16:15:58.038Z"
   },
   {
    "duration": 98,
    "start_time": "2023-07-07T16:15:58.052Z"
   },
   {
    "duration": 13,
    "start_time": "2023-07-07T16:15:58.153Z"
   },
   {
    "duration": 8,
    "start_time": "2023-07-07T16:15:58.168Z"
   },
   {
    "duration": 18,
    "start_time": "2023-07-07T16:15:58.178Z"
   },
   {
    "duration": 65574,
    "start_time": "2023-07-07T16:15:58.222Z"
   },
   {
    "duration": 146,
    "start_time": "2023-07-07T16:17:03.797Z"
   },
   {
    "duration": 6,
    "start_time": "2023-07-07T16:17:03.945Z"
   },
   {
    "duration": 31,
    "start_time": "2023-07-07T16:17:03.953Z"
   },
   {
    "duration": 14,
    "start_time": "2023-07-07T16:17:35.100Z"
   },
   {
    "duration": 181,
    "start_time": "2023-07-07T16:17:35.602Z"
   },
   {
    "duration": 12,
    "start_time": "2023-07-07T16:18:15.772Z"
   },
   {
    "duration": 3404,
    "start_time": "2023-07-07T16:18:50.695Z"
   },
   {
    "duration": 21,
    "start_time": "2023-07-07T16:20:24.124Z"
   },
   {
    "duration": 68,
    "start_time": "2023-07-07T16:21:42.683Z"
   },
   {
    "duration": 2404,
    "start_time": "2023-07-07T16:21:53.166Z"
   },
   {
    "duration": 2329,
    "start_time": "2023-07-07T16:21:55.573Z"
   },
   {
    "duration": 4869,
    "start_time": "2023-07-07T16:21:57.905Z"
   },
   {
    "duration": 2948,
    "start_time": "2023-07-07T16:22:02.777Z"
   },
   {
    "duration": 21,
    "start_time": "2023-07-07T16:22:05.728Z"
   },
   {
    "duration": 133,
    "start_time": "2023-07-07T16:22:05.752Z"
   },
   {
    "duration": 62,
    "start_time": "2023-07-07T16:22:05.887Z"
   },
   {
    "duration": 4,
    "start_time": "2023-07-07T16:22:05.951Z"
   },
   {
    "duration": 64,
    "start_time": "2023-07-07T16:22:05.958Z"
   },
   {
    "duration": 52,
    "start_time": "2023-07-07T16:22:06.025Z"
   },
   {
    "duration": 1395,
    "start_time": "2023-07-07T16:22:06.080Z"
   },
   {
    "duration": 129,
    "start_time": "2023-07-07T16:22:07.477Z"
   },
   {
    "duration": 256,
    "start_time": "2023-07-07T16:22:07.615Z"
   },
   {
    "duration": 4,
    "start_time": "2023-07-07T16:22:07.875Z"
   },
   {
    "duration": 126,
    "start_time": "2023-07-07T16:22:07.880Z"
   },
   {
    "duration": 36,
    "start_time": "2023-07-07T16:22:08.008Z"
   },
   {
    "duration": 34,
    "start_time": "2023-07-07T16:22:08.047Z"
   },
   {
    "duration": 51,
    "start_time": "2023-07-07T16:22:08.082Z"
   },
   {
    "duration": 101,
    "start_time": "2023-07-07T16:22:08.135Z"
   },
   {
    "duration": 746,
    "start_time": "2023-07-07T16:22:08.239Z"
   },
   {
    "duration": 1385,
    "start_time": "2023-07-07T16:22:08.987Z"
   },
   {
    "duration": 436,
    "start_time": "2023-07-07T16:22:10.373Z"
   },
   {
    "duration": 199,
    "start_time": "2023-07-07T16:22:10.811Z"
   },
   {
    "duration": 3,
    "start_time": "2023-07-07T16:22:11.013Z"
   },
   {
    "duration": 105,
    "start_time": "2023-07-07T16:22:11.019Z"
   },
   {
    "duration": 6,
    "start_time": "2023-07-07T16:22:11.125Z"
   },
   {
    "duration": 286,
    "start_time": "2023-07-07T16:22:11.133Z"
   },
   {
    "duration": 413,
    "start_time": "2023-07-07T16:22:11.421Z"
   },
   {
    "duration": 97,
    "start_time": "2023-07-07T16:22:11.836Z"
   },
   {
    "duration": 245,
    "start_time": "2023-07-07T16:22:11.935Z"
   },
   {
    "duration": 227,
    "start_time": "2023-07-07T16:22:12.182Z"
   },
   {
    "duration": 193,
    "start_time": "2023-07-07T16:22:12.411Z"
   },
   {
    "duration": 229,
    "start_time": "2023-07-07T16:22:12.606Z"
   },
   {
    "duration": 436,
    "start_time": "2023-07-07T16:22:12.837Z"
   },
   {
    "duration": 107,
    "start_time": "2023-07-07T16:22:13.275Z"
   },
   {
    "duration": 285,
    "start_time": "2023-07-07T16:22:13.385Z"
   },
   {
    "duration": 236,
    "start_time": "2023-07-07T16:22:13.672Z"
   },
   {
    "duration": 530,
    "start_time": "2023-07-07T16:22:13.910Z"
   },
   {
    "duration": 109,
    "start_time": "2023-07-07T16:22:14.442Z"
   },
   {
    "duration": 214,
    "start_time": "2023-07-07T16:22:14.553Z"
   },
   {
    "duration": 81,
    "start_time": "2023-07-07T16:22:14.773Z"
   },
   {
    "duration": 298,
    "start_time": "2023-07-07T16:22:14.856Z"
   },
   {
    "duration": 199,
    "start_time": "2023-07-07T16:22:15.157Z"
   },
   {
    "duration": 213,
    "start_time": "2023-07-07T16:22:15.358Z"
   },
   {
    "duration": 13,
    "start_time": "2023-07-07T16:22:15.573Z"
   },
   {
    "duration": 52,
    "start_time": "2023-07-07T16:22:15.588Z"
   },
   {
    "duration": 32,
    "start_time": "2023-07-07T16:22:15.642Z"
   },
   {
    "duration": 45,
    "start_time": "2023-07-07T16:22:15.677Z"
   },
   {
    "duration": 19,
    "start_time": "2023-07-07T16:22:15.724Z"
   },
   {
    "duration": 178,
    "start_time": "2023-07-07T16:22:15.745Z"
   },
   {
    "duration": 12,
    "start_time": "2023-07-07T16:22:15.925Z"
   },
   {
    "duration": 9,
    "start_time": "2023-07-07T16:22:15.939Z"
   },
   {
    "duration": 63,
    "start_time": "2023-07-07T16:22:15.950Z"
   },
   {
    "duration": 18,
    "start_time": "2023-07-07T16:22:16.015Z"
   },
   {
    "duration": 33,
    "start_time": "2023-07-07T16:22:16.035Z"
   },
   {
    "duration": 18,
    "start_time": "2023-07-07T16:22:16.070Z"
   },
   {
    "duration": 70,
    "start_time": "2023-07-07T16:22:16.089Z"
   },
   {
    "duration": 231,
    "start_time": "2023-07-07T16:22:16.161Z"
   },
   {
    "duration": 21,
    "start_time": "2023-07-07T16:22:16.394Z"
   },
   {
    "duration": 17,
    "start_time": "2023-07-07T16:22:16.417Z"
   },
   {
    "duration": 27,
    "start_time": "2023-07-07T16:22:16.436Z"
   },
   {
    "duration": 34,
    "start_time": "2023-07-07T16:22:16.465Z"
   },
   {
    "duration": 38,
    "start_time": "2023-07-07T16:22:16.502Z"
   },
   {
    "duration": 221,
    "start_time": "2023-07-07T16:22:16.542Z"
   },
   {
    "duration": 50,
    "start_time": "2023-07-07T16:22:16.765Z"
   },
   {
    "duration": 37,
    "start_time": "2023-07-07T16:22:16.817Z"
   },
   {
    "duration": 18,
    "start_time": "2023-07-07T16:22:16.857Z"
   },
   {
    "duration": 1736,
    "start_time": "2023-07-07T16:22:16.877Z"
   },
   {
    "duration": 18,
    "start_time": "2023-07-07T16:22:18.615Z"
   },
   {
    "duration": 460,
    "start_time": "2023-07-07T16:22:18.635Z"
   },
   {
    "duration": 24,
    "start_time": "2023-07-07T16:22:19.097Z"
   },
   {
    "duration": 12,
    "start_time": "2023-07-07T16:22:19.123Z"
   },
   {
    "duration": 89,
    "start_time": "2023-07-07T16:22:19.137Z"
   },
   {
    "duration": 13,
    "start_time": "2023-07-07T16:22:19.228Z"
   },
   {
    "duration": 19,
    "start_time": "2023-07-07T16:22:19.243Z"
   },
   {
    "duration": 16,
    "start_time": "2023-07-07T16:22:19.264Z"
   },
   {
    "duration": 67752,
    "start_time": "2023-07-07T16:22:19.282Z"
   },
   {
    "duration": 126,
    "start_time": "2023-07-07T16:23:27.036Z"
   },
   {
    "duration": 5,
    "start_time": "2023-07-07T16:23:27.165Z"
   },
   {
    "duration": 13,
    "start_time": "2023-07-07T16:23:27.172Z"
   },
   {
    "duration": 42,
    "start_time": "2023-07-07T16:23:27.188Z"
   },
   {
    "duration": 18,
    "start_time": "2023-07-07T16:28:17.883Z"
   },
   {
    "duration": 3134,
    "start_time": "2023-07-07T16:28:21.862Z"
   },
   {
    "duration": 12,
    "start_time": "2023-07-07T16:39:56.443Z"
   },
   {
    "duration": 6,
    "start_time": "2023-07-07T16:49:10.655Z"
   },
   {
    "duration": 25,
    "start_time": "2023-07-07T16:49:11.304Z"
   },
   {
    "duration": 14,
    "start_time": "2023-07-07T16:49:12.435Z"
   },
   {
    "duration": 64,
    "start_time": "2023-07-07T16:54:41.893Z"
   },
   {
    "duration": 50,
    "start_time": "2023-07-07T16:55:28.954Z"
   },
   {
    "duration": 2577,
    "start_time": "2023-07-07T16:55:48.175Z"
   },
   {
    "duration": 2289,
    "start_time": "2023-07-07T16:55:50.755Z"
   },
   {
    "duration": 2509,
    "start_time": "2023-07-07T16:55:53.047Z"
   },
   {
    "duration": 2995,
    "start_time": "2023-07-07T16:55:55.558Z"
   },
   {
    "duration": 18,
    "start_time": "2023-07-07T16:55:58.555Z"
   },
   {
    "duration": 133,
    "start_time": "2023-07-07T16:55:58.574Z"
   },
   {
    "duration": 49,
    "start_time": "2023-07-07T16:55:58.709Z"
   },
   {
    "duration": 4,
    "start_time": "2023-07-07T16:55:58.759Z"
   },
   {
    "duration": 68,
    "start_time": "2023-07-07T16:55:58.764Z"
   },
   {
    "duration": 45,
    "start_time": "2023-07-07T16:55:58.833Z"
   },
   {
    "duration": 1504,
    "start_time": "2023-07-07T16:55:58.880Z"
   },
   {
    "duration": 111,
    "start_time": "2023-07-07T16:56:00.386Z"
   },
   {
    "duration": 334,
    "start_time": "2023-07-07T16:56:00.498Z"
   },
   {
    "duration": 4,
    "start_time": "2023-07-07T16:56:00.835Z"
   },
   {
    "duration": 128,
    "start_time": "2023-07-07T16:56:00.840Z"
   },
   {
    "duration": 21,
    "start_time": "2023-07-07T16:56:00.970Z"
   },
   {
    "duration": 53,
    "start_time": "2023-07-07T16:56:00.992Z"
   },
   {
    "duration": 77,
    "start_time": "2023-07-07T16:56:01.047Z"
   },
   {
    "duration": 71,
    "start_time": "2023-07-07T16:56:01.127Z"
   },
   {
    "duration": 784,
    "start_time": "2023-07-07T16:56:01.201Z"
   },
   {
    "duration": 1359,
    "start_time": "2023-07-07T16:56:01.987Z"
   },
   {
    "duration": 496,
    "start_time": "2023-07-07T16:56:03.348Z"
   },
   {
    "duration": 217,
    "start_time": "2023-07-07T16:56:03.847Z"
   },
   {
    "duration": 3,
    "start_time": "2023-07-07T16:56:04.066Z"
   },
   {
    "duration": 119,
    "start_time": "2023-07-07T16:56:04.070Z"
   },
   {
    "duration": 9,
    "start_time": "2023-07-07T16:56:04.191Z"
   },
   {
    "duration": 262,
    "start_time": "2023-07-07T16:56:04.202Z"
   },
   {
    "duration": 403,
    "start_time": "2023-07-07T16:56:04.466Z"
   },
   {
    "duration": 99,
    "start_time": "2023-07-07T16:56:04.871Z"
   },
   {
    "duration": 233,
    "start_time": "2023-07-07T16:56:04.972Z"
   },
   {
    "duration": 247,
    "start_time": "2023-07-07T16:56:05.207Z"
   },
   {
    "duration": 175,
    "start_time": "2023-07-07T16:56:05.455Z"
   },
   {
    "duration": 219,
    "start_time": "2023-07-07T16:56:05.632Z"
   },
   {
    "duration": 395,
    "start_time": "2023-07-07T16:56:05.853Z"
   },
   {
    "duration": 98,
    "start_time": "2023-07-07T16:56:06.250Z"
   },
   {
    "duration": 241,
    "start_time": "2023-07-07T16:56:06.350Z"
   },
   {
    "duration": 208,
    "start_time": "2023-07-07T16:56:06.593Z"
   },
   {
    "duration": 415,
    "start_time": "2023-07-07T16:56:06.803Z"
   },
   {
    "duration": 104,
    "start_time": "2023-07-07T16:56:07.224Z"
   },
   {
    "duration": 201,
    "start_time": "2023-07-07T16:56:07.330Z"
   },
   {
    "duration": 66,
    "start_time": "2023-07-07T16:56:07.537Z"
   },
   {
    "duration": 303,
    "start_time": "2023-07-07T16:56:07.605Z"
   },
   {
    "duration": 155,
    "start_time": "2023-07-07T16:56:07.910Z"
   },
   {
    "duration": 183,
    "start_time": "2023-07-07T16:56:08.067Z"
   },
   {
    "duration": 13,
    "start_time": "2023-07-07T16:56:08.251Z"
   },
   {
    "duration": 51,
    "start_time": "2023-07-07T16:56:08.266Z"
   },
   {
    "duration": 26,
    "start_time": "2023-07-07T16:56:08.321Z"
   },
   {
    "duration": 39,
    "start_time": "2023-07-07T16:56:08.349Z"
   },
   {
    "duration": 28,
    "start_time": "2023-07-07T16:56:08.390Z"
   },
   {
    "duration": 160,
    "start_time": "2023-07-07T16:56:08.421Z"
   },
   {
    "duration": 11,
    "start_time": "2023-07-07T16:56:08.583Z"
   },
   {
    "duration": 34,
    "start_time": "2023-07-07T16:56:08.596Z"
   },
   {
    "duration": 35,
    "start_time": "2023-07-07T16:56:08.632Z"
   },
   {
    "duration": 17,
    "start_time": "2023-07-07T16:56:08.668Z"
   },
   {
    "duration": 50,
    "start_time": "2023-07-07T16:56:08.687Z"
   },
   {
    "duration": 18,
    "start_time": "2023-07-07T16:56:08.739Z"
   },
   {
    "duration": 71,
    "start_time": "2023-07-07T16:56:08.759Z"
   },
   {
    "duration": 143,
    "start_time": "2023-07-07T16:56:08.832Z"
   },
   {
    "duration": 12,
    "start_time": "2023-07-07T16:56:08.976Z"
   },
   {
    "duration": 31,
    "start_time": "2023-07-07T16:56:08.990Z"
   },
   {
    "duration": 9,
    "start_time": "2023-07-07T16:56:09.024Z"
   },
   {
    "duration": 34,
    "start_time": "2023-07-07T16:56:09.035Z"
   },
   {
    "duration": 25,
    "start_time": "2023-07-07T16:56:09.071Z"
   },
   {
    "duration": 194,
    "start_time": "2023-07-07T16:56:09.098Z"
   },
   {
    "duration": 39,
    "start_time": "2023-07-07T16:56:09.294Z"
   },
   {
    "duration": 29,
    "start_time": "2023-07-07T16:56:09.335Z"
   },
   {
    "duration": 16,
    "start_time": "2023-07-07T16:56:09.366Z"
   },
   {
    "duration": 1823,
    "start_time": "2023-07-07T16:56:09.384Z"
   },
   {
    "duration": 25,
    "start_time": "2023-07-07T16:56:11.210Z"
   },
   {
    "duration": 455,
    "start_time": "2023-07-07T16:56:11.237Z"
   },
   {
    "duration": 27,
    "start_time": "2023-07-07T16:56:11.694Z"
   },
   {
    "duration": 19,
    "start_time": "2023-07-07T16:56:11.726Z"
   },
   {
    "duration": 142,
    "start_time": "2023-07-07T16:56:11.747Z"
   },
   {
    "duration": 13,
    "start_time": "2023-07-07T16:56:11.890Z"
   },
   {
    "duration": 32,
    "start_time": "2023-07-07T16:56:11.904Z"
   },
   {
    "duration": 25,
    "start_time": "2023-07-07T16:56:11.938Z"
   },
   {
    "duration": 63545,
    "start_time": "2023-07-07T16:56:11.965Z"
   },
   {
    "duration": 139,
    "start_time": "2023-07-07T16:57:15.512Z"
   },
   {
    "duration": 5,
    "start_time": "2023-07-07T16:57:15.653Z"
   },
   {
    "duration": 16,
    "start_time": "2023-07-07T16:57:15.660Z"
   },
   {
    "duration": 15,
    "start_time": "2023-07-07T16:57:15.679Z"
   },
   {
    "duration": 51,
    "start_time": "2023-07-07T16:57:40.264Z"
   },
   {
    "duration": 2543,
    "start_time": "2023-07-07T16:58:49.993Z"
   },
   {
    "duration": 2652,
    "start_time": "2023-07-07T16:58:52.538Z"
   },
   {
    "duration": 2770,
    "start_time": "2023-07-07T16:58:55.193Z"
   },
   {
    "duration": 3593,
    "start_time": "2023-07-07T16:58:57.964Z"
   },
   {
    "duration": 0,
    "start_time": "2023-07-07T16:59:01.561Z"
   },
   {
    "duration": 0,
    "start_time": "2023-07-07T16:59:01.563Z"
   },
   {
    "duration": 0,
    "start_time": "2023-07-07T16:59:01.564Z"
   },
   {
    "duration": 0,
    "start_time": "2023-07-07T16:59:01.565Z"
   },
   {
    "duration": 0,
    "start_time": "2023-07-07T16:59:01.566Z"
   },
   {
    "duration": 0,
    "start_time": "2023-07-07T16:59:01.567Z"
   },
   {
    "duration": 0,
    "start_time": "2023-07-07T16:59:01.568Z"
   },
   {
    "duration": 0,
    "start_time": "2023-07-07T16:59:01.569Z"
   },
   {
    "duration": 0,
    "start_time": "2023-07-07T16:59:01.570Z"
   },
   {
    "duration": 0,
    "start_time": "2023-07-07T16:59:01.571Z"
   },
   {
    "duration": 0,
    "start_time": "2023-07-07T16:59:01.572Z"
   },
   {
    "duration": 0,
    "start_time": "2023-07-07T16:59:01.574Z"
   },
   {
    "duration": 0,
    "start_time": "2023-07-07T16:59:01.575Z"
   },
   {
    "duration": 0,
    "start_time": "2023-07-07T16:59:01.577Z"
   },
   {
    "duration": 0,
    "start_time": "2023-07-07T16:59:01.578Z"
   },
   {
    "duration": 0,
    "start_time": "2023-07-07T16:59:01.579Z"
   },
   {
    "duration": 0,
    "start_time": "2023-07-07T16:59:01.581Z"
   },
   {
    "duration": 0,
    "start_time": "2023-07-07T16:59:01.582Z"
   },
   {
    "duration": 0,
    "start_time": "2023-07-07T16:59:01.584Z"
   },
   {
    "duration": 0,
    "start_time": "2023-07-07T16:59:01.585Z"
   },
   {
    "duration": 0,
    "start_time": "2023-07-07T16:59:01.586Z"
   },
   {
    "duration": 1,
    "start_time": "2023-07-07T16:59:01.589Z"
   },
   {
    "duration": 0,
    "start_time": "2023-07-07T16:59:01.591Z"
   },
   {
    "duration": 0,
    "start_time": "2023-07-07T16:59:01.592Z"
   },
   {
    "duration": 0,
    "start_time": "2023-07-07T16:59:01.593Z"
   },
   {
    "duration": 0,
    "start_time": "2023-07-07T16:59:01.595Z"
   },
   {
    "duration": 0,
    "start_time": "2023-07-07T16:59:01.596Z"
   },
   {
    "duration": 0,
    "start_time": "2023-07-07T16:59:01.598Z"
   },
   {
    "duration": 0,
    "start_time": "2023-07-07T16:59:01.613Z"
   },
   {
    "duration": 0,
    "start_time": "2023-07-07T16:59:01.614Z"
   },
   {
    "duration": 0,
    "start_time": "2023-07-07T16:59:01.619Z"
   },
   {
    "duration": 0,
    "start_time": "2023-07-07T16:59:01.620Z"
   },
   {
    "duration": 0,
    "start_time": "2023-07-07T16:59:01.621Z"
   },
   {
    "duration": 0,
    "start_time": "2023-07-07T16:59:01.626Z"
   },
   {
    "duration": 1,
    "start_time": "2023-07-07T16:59:01.626Z"
   },
   {
    "duration": 0,
    "start_time": "2023-07-07T16:59:01.627Z"
   },
   {
    "duration": 0,
    "start_time": "2023-07-07T16:59:01.635Z"
   },
   {
    "duration": 0,
    "start_time": "2023-07-07T16:59:01.636Z"
   },
   {
    "duration": 0,
    "start_time": "2023-07-07T16:59:01.637Z"
   },
   {
    "duration": 1,
    "start_time": "2023-07-07T16:59:01.638Z"
   },
   {
    "duration": 0,
    "start_time": "2023-07-07T16:59:01.640Z"
   },
   {
    "duration": 0,
    "start_time": "2023-07-07T16:59:01.641Z"
   },
   {
    "duration": 0,
    "start_time": "2023-07-07T16:59:01.643Z"
   },
   {
    "duration": 0,
    "start_time": "2023-07-07T16:59:01.645Z"
   },
   {
    "duration": 0,
    "start_time": "2023-07-07T16:59:01.646Z"
   },
   {
    "duration": 0,
    "start_time": "2023-07-07T16:59:01.647Z"
   },
   {
    "duration": 0,
    "start_time": "2023-07-07T16:59:01.649Z"
   },
   {
    "duration": 0,
    "start_time": "2023-07-07T16:59:01.650Z"
   },
   {
    "duration": 0,
    "start_time": "2023-07-07T16:59:01.652Z"
   },
   {
    "duration": 0,
    "start_time": "2023-07-07T16:59:01.653Z"
   },
   {
    "duration": 0,
    "start_time": "2023-07-07T16:59:01.655Z"
   },
   {
    "duration": 0,
    "start_time": "2023-07-07T16:59:01.656Z"
   },
   {
    "duration": 0,
    "start_time": "2023-07-07T16:59:01.658Z"
   },
   {
    "duration": 0,
    "start_time": "2023-07-07T16:59:01.659Z"
   },
   {
    "duration": 0,
    "start_time": "2023-07-07T16:59:01.716Z"
   },
   {
    "duration": 0,
    "start_time": "2023-07-07T16:59:01.718Z"
   },
   {
    "duration": 0,
    "start_time": "2023-07-07T16:59:01.719Z"
   },
   {
    "duration": 0,
    "start_time": "2023-07-07T16:59:01.720Z"
   },
   {
    "duration": 0,
    "start_time": "2023-07-07T16:59:01.720Z"
   },
   {
    "duration": 0,
    "start_time": "2023-07-07T16:59:01.721Z"
   },
   {
    "duration": 0,
    "start_time": "2023-07-07T16:59:01.722Z"
   },
   {
    "duration": 0,
    "start_time": "2023-07-07T16:59:01.723Z"
   },
   {
    "duration": 0,
    "start_time": "2023-07-07T16:59:01.724Z"
   },
   {
    "duration": 0,
    "start_time": "2023-07-07T16:59:01.725Z"
   },
   {
    "duration": 0,
    "start_time": "2023-07-07T16:59:01.726Z"
   },
   {
    "duration": 0,
    "start_time": "2023-07-07T16:59:01.727Z"
   },
   {
    "duration": 0,
    "start_time": "2023-07-07T16:59:01.728Z"
   },
   {
    "duration": 0,
    "start_time": "2023-07-07T16:59:01.728Z"
   },
   {
    "duration": 0,
    "start_time": "2023-07-07T16:59:01.731Z"
   },
   {
    "duration": 0,
    "start_time": "2023-07-07T16:59:01.732Z"
   },
   {
    "duration": 0,
    "start_time": "2023-07-07T16:59:01.733Z"
   },
   {
    "duration": 0,
    "start_time": "2023-07-07T16:59:01.735Z"
   },
   {
    "duration": 0,
    "start_time": "2023-07-07T16:59:01.736Z"
   },
   {
    "duration": 0,
    "start_time": "2023-07-07T16:59:01.738Z"
   },
   {
    "duration": 0,
    "start_time": "2023-07-07T16:59:01.739Z"
   },
   {
    "duration": 0,
    "start_time": "2023-07-07T16:59:01.741Z"
   },
   {
    "duration": 0,
    "start_time": "2023-07-07T16:59:01.742Z"
   },
   {
    "duration": 0,
    "start_time": "2023-07-07T16:59:01.744Z"
   },
   {
    "duration": 0,
    "start_time": "2023-07-07T16:59:01.745Z"
   },
   {
    "duration": 0,
    "start_time": "2023-07-07T16:59:01.746Z"
   },
   {
    "duration": 0,
    "start_time": "2023-07-07T16:59:01.748Z"
   },
   {
    "duration": 0,
    "start_time": "2023-07-07T16:59:01.749Z"
   },
   {
    "duration": 0,
    "start_time": "2023-07-07T16:59:01.751Z"
   },
   {
    "duration": 0,
    "start_time": "2023-07-07T16:59:01.752Z"
   },
   {
    "duration": 0,
    "start_time": "2023-07-07T16:59:01.754Z"
   },
   {
    "duration": 0,
    "start_time": "2023-07-07T16:59:01.755Z"
   },
   {
    "duration": 0,
    "start_time": "2023-07-07T16:59:01.756Z"
   },
   {
    "duration": 0,
    "start_time": "2023-07-07T16:59:01.757Z"
   },
   {
    "duration": 0,
    "start_time": "2023-07-07T16:59:01.820Z"
   },
   {
    "duration": 0,
    "start_time": "2023-07-07T16:59:01.821Z"
   },
   {
    "duration": 0,
    "start_time": "2023-07-07T16:59:01.824Z"
   },
   {
    "duration": 0,
    "start_time": "2023-07-07T16:59:01.826Z"
   },
   {
    "duration": 0,
    "start_time": "2023-07-07T16:59:01.827Z"
   },
   {
    "duration": 0,
    "start_time": "2023-07-07T16:59:01.830Z"
   },
   {
    "duration": 0,
    "start_time": "2023-07-07T16:59:01.831Z"
   },
   {
    "duration": 0,
    "start_time": "2023-07-07T16:59:01.833Z"
   },
   {
    "duration": 2328,
    "start_time": "2023-07-07T16:59:14.381Z"
   },
   {
    "duration": 2338,
    "start_time": "2023-07-07T16:59:16.711Z"
   },
   {
    "duration": 6,
    "start_time": "2023-07-07T16:59:19.052Z"
   },
   {
    "duration": 2813,
    "start_time": "2023-07-07T16:59:19.060Z"
   },
   {
    "duration": 19,
    "start_time": "2023-07-07T16:59:21.875Z"
   },
   {
    "duration": 132,
    "start_time": "2023-07-07T16:59:21.896Z"
   },
   {
    "duration": 54,
    "start_time": "2023-07-07T16:59:22.030Z"
   },
   {
    "duration": 4,
    "start_time": "2023-07-07T16:59:22.086Z"
   },
   {
    "duration": 62,
    "start_time": "2023-07-07T16:59:22.092Z"
   },
   {
    "duration": 13,
    "start_time": "2023-07-07T16:59:22.156Z"
   },
   {
    "duration": 1406,
    "start_time": "2023-07-07T16:59:22.171Z"
   },
   {
    "duration": 114,
    "start_time": "2023-07-07T16:59:23.579Z"
   },
   {
    "duration": 281,
    "start_time": "2023-07-07T16:59:23.694Z"
   },
   {
    "duration": 3,
    "start_time": "2023-07-07T16:59:23.978Z"
   },
   {
    "duration": 129,
    "start_time": "2023-07-07T16:59:23.983Z"
   },
   {
    "duration": 23,
    "start_time": "2023-07-07T16:59:24.121Z"
   },
   {
    "duration": 23,
    "start_time": "2023-07-07T16:59:24.146Z"
   },
   {
    "duration": 58,
    "start_time": "2023-07-07T16:59:24.171Z"
   },
   {
    "duration": 73,
    "start_time": "2023-07-07T16:59:24.231Z"
   },
   {
    "duration": 790,
    "start_time": "2023-07-07T16:59:24.306Z"
   },
   {
    "duration": 1399,
    "start_time": "2023-07-07T16:59:25.097Z"
   },
   {
    "duration": 451,
    "start_time": "2023-07-07T16:59:26.498Z"
   },
   {
    "duration": 195,
    "start_time": "2023-07-07T16:59:26.951Z"
   },
   {
    "duration": 4,
    "start_time": "2023-07-07T16:59:27.147Z"
   },
   {
    "duration": 121,
    "start_time": "2023-07-07T16:59:27.153Z"
   },
   {
    "duration": 10,
    "start_time": "2023-07-07T16:59:27.276Z"
   },
   {
    "duration": 293,
    "start_time": "2023-07-07T16:59:27.288Z"
   },
   {
    "duration": 444,
    "start_time": "2023-07-07T16:59:27.582Z"
   },
   {
    "duration": 102,
    "start_time": "2023-07-07T16:59:28.028Z"
   },
   {
    "duration": 245,
    "start_time": "2023-07-07T16:59:28.132Z"
   },
   {
    "duration": 238,
    "start_time": "2023-07-07T16:59:28.379Z"
   },
   {
    "duration": 163,
    "start_time": "2023-07-07T16:59:28.622Z"
   },
   {
    "duration": 248,
    "start_time": "2023-07-07T16:59:28.787Z"
   },
   {
    "duration": 417,
    "start_time": "2023-07-07T16:59:29.037Z"
   },
   {
    "duration": 109,
    "start_time": "2023-07-07T16:59:29.456Z"
   },
   {
    "duration": 302,
    "start_time": "2023-07-07T16:59:29.567Z"
   },
   {
    "duration": 234,
    "start_time": "2023-07-07T16:59:29.872Z"
   },
   {
    "duration": 419,
    "start_time": "2023-07-07T16:59:30.108Z"
   },
   {
    "duration": 100,
    "start_time": "2023-07-07T16:59:30.533Z"
   },
   {
    "duration": 219,
    "start_time": "2023-07-07T16:59:30.635Z"
   },
   {
    "duration": 83,
    "start_time": "2023-07-07T16:59:30.860Z"
   },
   {
    "duration": 318,
    "start_time": "2023-07-07T16:59:30.946Z"
   },
   {
    "duration": 171,
    "start_time": "2023-07-07T16:59:31.266Z"
   },
   {
    "duration": 188,
    "start_time": "2023-07-07T16:59:31.439Z"
   },
   {
    "duration": 15,
    "start_time": "2023-07-07T16:59:31.630Z"
   },
   {
    "duration": 54,
    "start_time": "2023-07-07T16:59:31.647Z"
   },
   {
    "duration": 28,
    "start_time": "2023-07-07T16:59:31.703Z"
   },
   {
    "duration": 68,
    "start_time": "2023-07-07T16:59:31.733Z"
   },
   {
    "duration": 22,
    "start_time": "2023-07-07T16:59:31.803Z"
   },
   {
    "duration": 166,
    "start_time": "2023-07-07T16:59:31.830Z"
   },
   {
    "duration": 21,
    "start_time": "2023-07-07T16:59:31.998Z"
   },
   {
    "duration": 13,
    "start_time": "2023-07-07T16:59:32.022Z"
   },
   {
    "duration": 55,
    "start_time": "2023-07-07T16:59:32.037Z"
   },
   {
    "duration": 23,
    "start_time": "2023-07-07T16:59:32.094Z"
   },
   {
    "duration": 45,
    "start_time": "2023-07-07T16:59:32.122Z"
   },
   {
    "duration": 19,
    "start_time": "2023-07-07T16:59:32.169Z"
   },
   {
    "duration": 71,
    "start_time": "2023-07-07T16:59:32.191Z"
   },
   {
    "duration": 163,
    "start_time": "2023-07-07T16:59:32.264Z"
   },
   {
    "duration": 16,
    "start_time": "2023-07-07T16:59:32.428Z"
   },
   {
    "duration": 18,
    "start_time": "2023-07-07T16:59:32.446Z"
   },
   {
    "duration": 23,
    "start_time": "2023-07-07T16:59:32.466Z"
   },
   {
    "duration": 49,
    "start_time": "2023-07-07T16:59:32.491Z"
   },
   {
    "duration": 28,
    "start_time": "2023-07-07T16:59:32.542Z"
   },
   {
    "duration": 202,
    "start_time": "2023-07-07T16:59:32.572Z"
   },
   {
    "duration": 50,
    "start_time": "2023-07-07T16:59:32.775Z"
   },
   {
    "duration": 29,
    "start_time": "2023-07-07T16:59:32.831Z"
   },
   {
    "duration": 17,
    "start_time": "2023-07-07T16:59:32.862Z"
   },
   {
    "duration": 1868,
    "start_time": "2023-07-07T16:59:32.881Z"
   },
   {
    "duration": 21,
    "start_time": "2023-07-07T16:59:34.751Z"
   },
   {
    "duration": 460,
    "start_time": "2023-07-07T16:59:34.774Z"
   },
   {
    "duration": 17,
    "start_time": "2023-07-07T16:59:35.235Z"
   },
   {
    "duration": 11,
    "start_time": "2023-07-07T16:59:35.254Z"
   },
   {
    "duration": 92,
    "start_time": "2023-07-07T16:59:35.267Z"
   },
   {
    "duration": 13,
    "start_time": "2023-07-07T16:59:35.361Z"
   },
   {
    "duration": 9,
    "start_time": "2023-07-07T16:59:35.377Z"
   },
   {
    "duration": 40,
    "start_time": "2023-07-07T16:59:35.388Z"
   },
   {
    "duration": 63765,
    "start_time": "2023-07-07T16:59:35.430Z"
   },
   {
    "duration": 129,
    "start_time": "2023-07-07T17:00:39.197Z"
   },
   {
    "duration": 4,
    "start_time": "2023-07-07T17:00:39.328Z"
   },
   {
    "duration": 28,
    "start_time": "2023-07-07T17:00:39.334Z"
   },
   {
    "duration": 14,
    "start_time": "2023-07-07T17:00:39.364Z"
   },
   {
    "duration": 3,
    "start_time": "2023-07-07T17:01:31.881Z"
   },
   {
    "duration": 10,
    "start_time": "2023-07-07T17:02:21.792Z"
   },
   {
    "duration": 55,
    "start_time": "2023-07-07T17:02:55.292Z"
   },
   {
    "duration": 2400,
    "start_time": "2023-07-07T17:11:51.479Z"
   },
   {
    "duration": 2679,
    "start_time": "2023-07-07T17:11:53.882Z"
   },
   {
    "duration": 2873,
    "start_time": "2023-07-07T17:11:56.564Z"
   },
   {
    "duration": 3234,
    "start_time": "2023-07-07T17:11:59.439Z"
   },
   {
    "duration": 18,
    "start_time": "2023-07-07T17:12:02.675Z"
   },
   {
    "duration": 140,
    "start_time": "2023-07-07T17:12:02.695Z"
   },
   {
    "duration": 49,
    "start_time": "2023-07-07T17:12:02.837Z"
   },
   {
    "duration": 3,
    "start_time": "2023-07-07T17:12:02.888Z"
   },
   {
    "duration": 61,
    "start_time": "2023-07-07T17:12:02.893Z"
   },
   {
    "duration": 13,
    "start_time": "2023-07-07T17:12:02.956Z"
   },
   {
    "duration": 1408,
    "start_time": "2023-07-07T17:12:02.971Z"
   },
   {
    "duration": 108,
    "start_time": "2023-07-07T17:12:04.381Z"
   },
   {
    "duration": 281,
    "start_time": "2023-07-07T17:12:04.491Z"
   },
   {
    "duration": 4,
    "start_time": "2023-07-07T17:12:04.776Z"
   },
   {
    "duration": 126,
    "start_time": "2023-07-07T17:12:04.782Z"
   },
   {
    "duration": 25,
    "start_time": "2023-07-07T17:12:04.914Z"
   },
   {
    "duration": 24,
    "start_time": "2023-07-07T17:12:04.941Z"
   },
   {
    "duration": 52,
    "start_time": "2023-07-07T17:12:04.967Z"
   },
   {
    "duration": 78,
    "start_time": "2023-07-07T17:12:05.021Z"
   },
   {
    "duration": 756,
    "start_time": "2023-07-07T17:12:05.101Z"
   },
   {
    "duration": 1345,
    "start_time": "2023-07-07T17:12:05.859Z"
   },
   {
    "duration": 436,
    "start_time": "2023-07-07T17:12:07.212Z"
   },
   {
    "duration": 209,
    "start_time": "2023-07-07T17:12:07.651Z"
   },
   {
    "duration": 4,
    "start_time": "2023-07-07T17:12:07.863Z"
   },
   {
    "duration": 181,
    "start_time": "2023-07-07T17:12:07.869Z"
   },
   {
    "duration": 5,
    "start_time": "2023-07-07T17:12:08.052Z"
   },
   {
    "duration": 289,
    "start_time": "2023-07-07T17:12:08.059Z"
   },
   {
    "duration": 404,
    "start_time": "2023-07-07T17:12:08.350Z"
   },
   {
    "duration": 100,
    "start_time": "2023-07-07T17:12:08.755Z"
   },
   {
    "duration": 278,
    "start_time": "2023-07-07T17:12:08.856Z"
   },
   {
    "duration": 222,
    "start_time": "2023-07-07T17:12:09.136Z"
   },
   {
    "duration": 172,
    "start_time": "2023-07-07T17:12:09.360Z"
   },
   {
    "duration": 261,
    "start_time": "2023-07-07T17:12:09.534Z"
   },
   {
    "duration": 460,
    "start_time": "2023-07-07T17:12:09.798Z"
   },
   {
    "duration": 100,
    "start_time": "2023-07-07T17:12:10.260Z"
   },
   {
    "duration": 238,
    "start_time": "2023-07-07T17:12:10.361Z"
   },
   {
    "duration": 200,
    "start_time": "2023-07-07T17:12:10.601Z"
   },
   {
    "duration": 408,
    "start_time": "2023-07-07T17:12:10.803Z"
   },
   {
    "duration": 112,
    "start_time": "2023-07-07T17:12:11.213Z"
   },
   {
    "duration": 179,
    "start_time": "2023-07-07T17:12:11.328Z"
   },
   {
    "duration": 63,
    "start_time": "2023-07-07T17:12:11.515Z"
   },
   {
    "duration": 316,
    "start_time": "2023-07-07T17:12:11.580Z"
   },
   {
    "duration": 165,
    "start_time": "2023-07-07T17:12:11.897Z"
   },
   {
    "duration": 167,
    "start_time": "2023-07-07T17:12:12.063Z"
   },
   {
    "duration": 13,
    "start_time": "2023-07-07T17:12:12.231Z"
   },
   {
    "duration": 43,
    "start_time": "2023-07-07T17:12:12.246Z"
   },
   {
    "duration": 40,
    "start_time": "2023-07-07T17:12:12.291Z"
   },
   {
    "duration": 40,
    "start_time": "2023-07-07T17:12:12.333Z"
   },
   {
    "duration": 17,
    "start_time": "2023-07-07T17:12:12.375Z"
   },
   {
    "duration": 160,
    "start_time": "2023-07-07T17:12:12.395Z"
   },
   {
    "duration": 9,
    "start_time": "2023-07-07T17:12:12.557Z"
   },
   {
    "duration": 27,
    "start_time": "2023-07-07T17:12:12.568Z"
   },
   {
    "duration": 43,
    "start_time": "2023-07-07T17:12:12.597Z"
   },
   {
    "duration": 16,
    "start_time": "2023-07-07T17:12:12.642Z"
   },
   {
    "duration": 34,
    "start_time": "2023-07-07T17:12:12.659Z"
   },
   {
    "duration": 34,
    "start_time": "2023-07-07T17:12:12.694Z"
   },
   {
    "duration": 53,
    "start_time": "2023-07-07T17:12:12.730Z"
   },
   {
    "duration": 151,
    "start_time": "2023-07-07T17:12:12.785Z"
   },
   {
    "duration": 13,
    "start_time": "2023-07-07T17:12:12.937Z"
   },
   {
    "duration": 14,
    "start_time": "2023-07-07T17:12:12.951Z"
   },
   {
    "duration": 28,
    "start_time": "2023-07-07T17:12:12.967Z"
   },
   {
    "duration": 63,
    "start_time": "2023-07-07T17:12:12.997Z"
   },
   {
    "duration": 28,
    "start_time": "2023-07-07T17:12:13.062Z"
   },
   {
    "duration": 183,
    "start_time": "2023-07-07T17:12:13.093Z"
   },
   {
    "duration": 38,
    "start_time": "2023-07-07T17:12:13.278Z"
   },
   {
    "duration": 30,
    "start_time": "2023-07-07T17:12:13.318Z"
   },
   {
    "duration": 16,
    "start_time": "2023-07-07T17:12:13.350Z"
   },
   {
    "duration": 1797,
    "start_time": "2023-07-07T17:12:13.368Z"
   },
   {
    "duration": 21,
    "start_time": "2023-07-07T17:12:15.167Z"
   },
   {
    "duration": 478,
    "start_time": "2023-07-07T17:12:15.191Z"
   },
   {
    "duration": 19,
    "start_time": "2023-07-07T17:12:15.672Z"
   },
   {
    "duration": 36,
    "start_time": "2023-07-07T17:12:15.694Z"
   },
   {
    "duration": 95,
    "start_time": "2023-07-07T17:12:15.735Z"
   },
   {
    "duration": 14,
    "start_time": "2023-07-07T17:12:15.835Z"
   },
   {
    "duration": 7,
    "start_time": "2023-07-07T17:12:15.852Z"
   },
   {
    "duration": 13,
    "start_time": "2023-07-07T17:12:15.861Z"
   },
   {
    "duration": 62809,
    "start_time": "2023-07-07T17:12:15.876Z"
   },
   {
    "duration": 119,
    "start_time": "2023-07-07T17:13:18.688Z"
   },
   {
    "duration": 8,
    "start_time": "2023-07-07T17:13:18.808Z"
   },
   {
    "duration": 15,
    "start_time": "2023-07-07T17:13:18.820Z"
   },
   {
    "duration": 11,
    "start_time": "2023-07-07T17:13:18.836Z"
   },
   {
    "duration": 91,
    "start_time": "2023-07-07T17:13:18.849Z"
   },
   {
    "duration": 45,
    "start_time": "2023-07-07T17:18:47.739Z"
   },
   {
    "duration": 625,
    "start_time": "2023-07-07T17:18:51.459Z"
   },
   {
    "duration": 10,
    "start_time": "2023-07-07T17:19:04.149Z"
   },
   {
    "duration": 55,
    "start_time": "2023-07-07T17:19:08.957Z"
   },
   {
    "duration": 11,
    "start_time": "2023-07-07T17:19:23.399Z"
   },
   {
    "duration": 51,
    "start_time": "2023-07-07T17:19:29.170Z"
   },
   {
    "duration": 2395,
    "start_time": "2023-07-07T17:20:03.540Z"
   },
   {
    "duration": 2207,
    "start_time": "2023-07-07T17:20:05.940Z"
   },
   {
    "duration": 2468,
    "start_time": "2023-07-07T17:20:08.149Z"
   },
   {
    "duration": 3106,
    "start_time": "2023-07-07T17:20:10.619Z"
   },
   {
    "duration": 19,
    "start_time": "2023-07-07T17:20:13.728Z"
   },
   {
    "duration": 128,
    "start_time": "2023-07-07T17:20:13.748Z"
   },
   {
    "duration": 65,
    "start_time": "2023-07-07T17:20:13.878Z"
   },
   {
    "duration": 5,
    "start_time": "2023-07-07T17:20:13.945Z"
   },
   {
    "duration": 71,
    "start_time": "2023-07-07T17:20:13.952Z"
   },
   {
    "duration": 18,
    "start_time": "2023-07-07T17:20:14.025Z"
   },
   {
    "duration": 1385,
    "start_time": "2023-07-07T17:20:14.044Z"
   },
   {
    "duration": 103,
    "start_time": "2023-07-07T17:20:15.432Z"
   },
   {
    "duration": 248,
    "start_time": "2023-07-07T17:20:15.538Z"
   },
   {
    "duration": 4,
    "start_time": "2023-07-07T17:20:15.790Z"
   },
   {
    "duration": 135,
    "start_time": "2023-07-07T17:20:15.797Z"
   },
   {
    "duration": 20,
    "start_time": "2023-07-07T17:20:15.935Z"
   },
   {
    "duration": 28,
    "start_time": "2023-07-07T17:20:15.958Z"
   },
   {
    "duration": 58,
    "start_time": "2023-07-07T17:20:15.988Z"
   },
   {
    "duration": 90,
    "start_time": "2023-07-07T17:20:16.049Z"
   },
   {
    "duration": 719,
    "start_time": "2023-07-07T17:20:16.141Z"
   },
   {
    "duration": 1323,
    "start_time": "2023-07-07T17:20:16.862Z"
   },
   {
    "duration": 445,
    "start_time": "2023-07-07T17:20:18.187Z"
   },
   {
    "duration": 196,
    "start_time": "2023-07-07T17:20:18.634Z"
   },
   {
    "duration": 3,
    "start_time": "2023-07-07T17:20:18.832Z"
   },
   {
    "duration": 98,
    "start_time": "2023-07-07T17:20:18.837Z"
   },
   {
    "duration": 5,
    "start_time": "2023-07-07T17:20:18.936Z"
   },
   {
    "duration": 235,
    "start_time": "2023-07-07T17:20:18.942Z"
   },
   {
    "duration": 429,
    "start_time": "2023-07-07T17:20:19.179Z"
   },
   {
    "duration": 128,
    "start_time": "2023-07-07T17:20:19.610Z"
   },
   {
    "duration": 266,
    "start_time": "2023-07-07T17:20:19.740Z"
   },
   {
    "duration": 239,
    "start_time": "2023-07-07T17:20:20.008Z"
   },
   {
    "duration": 161,
    "start_time": "2023-07-07T17:20:20.249Z"
   },
   {
    "duration": 237,
    "start_time": "2023-07-07T17:20:20.411Z"
   },
   {
    "duration": 394,
    "start_time": "2023-07-07T17:20:20.649Z"
   },
   {
    "duration": 99,
    "start_time": "2023-07-07T17:20:21.044Z"
   },
   {
    "duration": 226,
    "start_time": "2023-07-07T17:20:21.145Z"
   },
   {
    "duration": 185,
    "start_time": "2023-07-07T17:20:21.372Z"
   },
   {
    "duration": 398,
    "start_time": "2023-07-07T17:20:21.558Z"
   },
   {
    "duration": 102,
    "start_time": "2023-07-07T17:20:21.958Z"
   },
   {
    "duration": 202,
    "start_time": "2023-07-07T17:20:22.062Z"
   },
   {
    "duration": 76,
    "start_time": "2023-07-07T17:20:22.270Z"
   },
   {
    "duration": 302,
    "start_time": "2023-07-07T17:20:22.348Z"
   },
   {
    "duration": 174,
    "start_time": "2023-07-07T17:20:22.652Z"
   },
   {
    "duration": 164,
    "start_time": "2023-07-07T17:20:22.828Z"
   },
   {
    "duration": 27,
    "start_time": "2023-07-07T17:20:22.994Z"
   },
   {
    "duration": 34,
    "start_time": "2023-07-07T17:20:23.022Z"
   },
   {
    "duration": 18,
    "start_time": "2023-07-07T17:20:23.058Z"
   },
   {
    "duration": 57,
    "start_time": "2023-07-07T17:20:23.078Z"
   },
   {
    "duration": 17,
    "start_time": "2023-07-07T17:20:23.138Z"
   },
   {
    "duration": 180,
    "start_time": "2023-07-07T17:20:23.158Z"
   },
   {
    "duration": 10,
    "start_time": "2023-07-07T17:20:23.340Z"
   },
   {
    "duration": 9,
    "start_time": "2023-07-07T17:20:23.352Z"
   },
   {
    "duration": 59,
    "start_time": "2023-07-07T17:20:23.362Z"
   },
   {
    "duration": 20,
    "start_time": "2023-07-07T17:20:23.424Z"
   },
   {
    "duration": 34,
    "start_time": "2023-07-07T17:20:23.445Z"
   },
   {
    "duration": 33,
    "start_time": "2023-07-07T17:20:23.481Z"
   },
   {
    "duration": 54,
    "start_time": "2023-07-07T17:20:23.517Z"
   },
   {
    "duration": 176,
    "start_time": "2023-07-07T17:20:23.573Z"
   },
   {
    "duration": 12,
    "start_time": "2023-07-07T17:20:23.751Z"
   },
   {
    "duration": 14,
    "start_time": "2023-07-07T17:20:23.765Z"
   },
   {
    "duration": 24,
    "start_time": "2023-07-07T17:20:23.781Z"
   },
   {
    "duration": 37,
    "start_time": "2023-07-07T17:20:23.807Z"
   },
   {
    "duration": 35,
    "start_time": "2023-07-07T17:20:23.845Z"
   },
   {
    "duration": 212,
    "start_time": "2023-07-07T17:20:23.882Z"
   },
   {
    "duration": 39,
    "start_time": "2023-07-07T17:20:24.096Z"
   },
   {
    "duration": 28,
    "start_time": "2023-07-07T17:20:24.137Z"
   },
   {
    "duration": 16,
    "start_time": "2023-07-07T17:20:24.167Z"
   },
   {
    "duration": 1718,
    "start_time": "2023-07-07T17:20:24.185Z"
   },
   {
    "duration": 28,
    "start_time": "2023-07-07T17:20:25.905Z"
   },
   {
    "duration": 460,
    "start_time": "2023-07-07T17:20:25.935Z"
   },
   {
    "duration": 27,
    "start_time": "2023-07-07T17:20:26.397Z"
   },
   {
    "duration": 12,
    "start_time": "2023-07-07T17:20:26.426Z"
   },
   {
    "duration": 77,
    "start_time": "2023-07-07T17:20:26.440Z"
   },
   {
    "duration": 13,
    "start_time": "2023-07-07T17:20:26.527Z"
   },
   {
    "duration": 6,
    "start_time": "2023-07-07T17:20:26.542Z"
   },
   {
    "duration": 11,
    "start_time": "2023-07-07T17:20:26.550Z"
   },
   {
    "duration": 62199,
    "start_time": "2023-07-07T17:20:26.563Z"
   },
   {
    "duration": 127,
    "start_time": "2023-07-07T17:21:28.764Z"
   },
   {
    "duration": 4,
    "start_time": "2023-07-07T17:21:28.893Z"
   },
   {
    "duration": 22,
    "start_time": "2023-07-07T17:21:28.899Z"
   },
   {
    "duration": 12,
    "start_time": "2023-07-07T17:21:28.923Z"
   },
   {
    "duration": 3,
    "start_time": "2023-07-07T17:22:06.340Z"
   },
   {
    "duration": 875,
    "start_time": "2023-07-07T17:22:43.253Z"
   },
   {
    "duration": 882,
    "start_time": "2023-07-07T17:23:35.079Z"
   },
   {
    "duration": 6,
    "start_time": "2023-07-07T17:23:59.871Z"
   },
   {
    "duration": 955,
    "start_time": "2023-07-07T17:24:29.500Z"
   },
   {
    "duration": 960,
    "start_time": "2023-07-07T17:24:46.310Z"
   },
   {
    "duration": 6,
    "start_time": "2023-07-07T17:25:13.132Z"
   },
   {
    "duration": 144,
    "start_time": "2023-07-07T17:26:10.811Z"
   },
   {
    "duration": 6,
    "start_time": "2023-07-07T17:27:03.770Z"
   },
   {
    "duration": 6,
    "start_time": "2023-07-07T17:27:50.292Z"
   },
   {
    "duration": 6,
    "start_time": "2023-07-07T17:28:43.671Z"
   },
   {
    "duration": 5,
    "start_time": "2023-07-07T17:29:16.948Z"
   },
   {
    "duration": 4,
    "start_time": "2023-07-07T17:29:39.227Z"
   },
   {
    "duration": 257,
    "start_time": "2023-07-07T17:30:27.353Z"
   },
   {
    "duration": 6,
    "start_time": "2023-07-07T17:34:31.321Z"
   },
   {
    "duration": 6,
    "start_time": "2023-07-07T17:34:40.253Z"
   },
   {
    "duration": 898,
    "start_time": "2023-07-07T17:35:00.800Z"
   },
   {
    "duration": 11,
    "start_time": "2023-07-07T17:35:20.111Z"
   },
   {
    "duration": 68,
    "start_time": "2023-07-07T17:35:47.180Z"
   },
   {
    "duration": 20,
    "start_time": "2023-07-07T17:36:29.761Z"
   },
   {
    "duration": 5,
    "start_time": "2023-07-07T17:36:55.508Z"
   },
   {
    "duration": 27,
    "start_time": "2023-07-07T17:37:29.038Z"
   },
   {
    "duration": 869,
    "start_time": "2023-07-07T17:38:16.485Z"
   },
   {
    "duration": 2270,
    "start_time": "2023-07-07T17:39:07.162Z"
   },
   {
    "duration": 2265,
    "start_time": "2023-07-07T17:39:09.435Z"
   },
   {
    "duration": 2434,
    "start_time": "2023-07-07T17:39:11.702Z"
   },
   {
    "duration": 3040,
    "start_time": "2023-07-07T17:39:14.139Z"
   },
   {
    "duration": 17,
    "start_time": "2023-07-07T17:39:17.181Z"
   },
   {
    "duration": 126,
    "start_time": "2023-07-07T17:39:17.200Z"
   },
   {
    "duration": 48,
    "start_time": "2023-07-07T17:39:17.328Z"
   },
   {
    "duration": 3,
    "start_time": "2023-07-07T17:39:17.378Z"
   },
   {
    "duration": 55,
    "start_time": "2023-07-07T17:39:17.383Z"
   },
   {
    "duration": 11,
    "start_time": "2023-07-07T17:39:17.441Z"
   },
   {
    "duration": 1377,
    "start_time": "2023-07-07T17:39:17.454Z"
   },
   {
    "duration": 95,
    "start_time": "2023-07-07T17:39:18.833Z"
   },
   {
    "duration": 237,
    "start_time": "2023-07-07T17:39:18.930Z"
   },
   {
    "duration": 4,
    "start_time": "2023-07-07T17:39:19.168Z"
   },
   {
    "duration": 130,
    "start_time": "2023-07-07T17:39:19.173Z"
   },
   {
    "duration": 26,
    "start_time": "2023-07-07T17:39:19.305Z"
   },
   {
    "duration": 28,
    "start_time": "2023-07-07T17:39:19.334Z"
   },
   {
    "duration": 38,
    "start_time": "2023-07-07T17:39:19.364Z"
   },
   {
    "duration": 79,
    "start_time": "2023-07-07T17:39:19.403Z"
   },
   {
    "duration": 816,
    "start_time": "2023-07-07T17:39:19.483Z"
   },
   {
    "duration": 1277,
    "start_time": "2023-07-07T17:39:20.302Z"
   },
   {
    "duration": 444,
    "start_time": "2023-07-07T17:39:21.581Z"
   },
   {
    "duration": 189,
    "start_time": "2023-07-07T17:39:22.027Z"
   },
   {
    "duration": 3,
    "start_time": "2023-07-07T17:39:22.218Z"
   },
   {
    "duration": 98,
    "start_time": "2023-07-07T17:39:22.225Z"
   },
   {
    "duration": 5,
    "start_time": "2023-07-07T17:39:22.327Z"
   },
   {
    "duration": 225,
    "start_time": "2023-07-07T17:39:22.334Z"
   },
   {
    "duration": 423,
    "start_time": "2023-07-07T17:39:22.564Z"
   },
   {
    "duration": 105,
    "start_time": "2023-07-07T17:39:22.989Z"
   },
   {
    "duration": 249,
    "start_time": "2023-07-07T17:39:23.096Z"
   },
   {
    "duration": 238,
    "start_time": "2023-07-07T17:39:23.346Z"
   },
   {
    "duration": 197,
    "start_time": "2023-07-07T17:39:23.586Z"
   },
   {
    "duration": 261,
    "start_time": "2023-07-07T17:39:23.785Z"
   },
   {
    "duration": 429,
    "start_time": "2023-07-07T17:39:24.048Z"
   },
   {
    "duration": 108,
    "start_time": "2023-07-07T17:39:24.479Z"
   },
   {
    "duration": 248,
    "start_time": "2023-07-07T17:39:24.589Z"
   },
   {
    "duration": 205,
    "start_time": "2023-07-07T17:39:24.839Z"
   },
   {
    "duration": 423,
    "start_time": "2023-07-07T17:39:25.045Z"
   },
   {
    "duration": 116,
    "start_time": "2023-07-07T17:39:25.470Z"
   },
   {
    "duration": 219,
    "start_time": "2023-07-07T17:39:25.588Z"
   },
   {
    "duration": 78,
    "start_time": "2023-07-07T17:39:25.808Z"
   },
   {
    "duration": 307,
    "start_time": "2023-07-07T17:39:25.888Z"
   },
   {
    "duration": 177,
    "start_time": "2023-07-07T17:39:26.197Z"
   },
   {
    "duration": 167,
    "start_time": "2023-07-07T17:39:26.375Z"
   },
   {
    "duration": 14,
    "start_time": "2023-07-07T17:39:26.543Z"
   },
   {
    "duration": 30,
    "start_time": "2023-07-07T17:39:26.559Z"
   },
   {
    "duration": 42,
    "start_time": "2023-07-07T17:39:26.591Z"
   },
   {
    "duration": 45,
    "start_time": "2023-07-07T17:39:26.634Z"
   },
   {
    "duration": 17,
    "start_time": "2023-07-07T17:39:26.681Z"
   },
   {
    "duration": 171,
    "start_time": "2023-07-07T17:39:26.699Z"
   },
   {
    "duration": 11,
    "start_time": "2023-07-07T17:39:26.871Z"
   },
   {
    "duration": 9,
    "start_time": "2023-07-07T17:39:26.884Z"
   },
   {
    "duration": 64,
    "start_time": "2023-07-07T17:39:26.895Z"
   },
   {
    "duration": 17,
    "start_time": "2023-07-07T17:39:26.960Z"
   },
   {
    "duration": 42,
    "start_time": "2023-07-07T17:39:26.978Z"
   },
   {
    "duration": 24,
    "start_time": "2023-07-07T17:39:27.021Z"
   },
   {
    "duration": 49,
    "start_time": "2023-07-07T17:39:27.047Z"
   },
   {
    "duration": 170,
    "start_time": "2023-07-07T17:39:27.117Z"
   },
   {
    "duration": 14,
    "start_time": "2023-07-07T17:39:27.288Z"
   },
   {
    "duration": 26,
    "start_time": "2023-07-07T17:39:27.304Z"
   },
   {
    "duration": 9,
    "start_time": "2023-07-07T17:39:27.335Z"
   },
   {
    "duration": 32,
    "start_time": "2023-07-07T17:39:27.346Z"
   },
   {
    "duration": 41,
    "start_time": "2023-07-07T17:39:27.380Z"
   },
   {
    "duration": 182,
    "start_time": "2023-07-07T17:39:27.427Z"
   },
   {
    "duration": 34,
    "start_time": "2023-07-07T17:39:27.623Z"
   },
   {
    "duration": 31,
    "start_time": "2023-07-07T17:39:27.659Z"
   },
   {
    "duration": 39,
    "start_time": "2023-07-07T17:39:27.692Z"
   },
   {
    "duration": 1714,
    "start_time": "2023-07-07T17:39:27.733Z"
   },
   {
    "duration": 17,
    "start_time": "2023-07-07T17:39:29.449Z"
   },
   {
    "duration": 475,
    "start_time": "2023-07-07T17:39:29.468Z"
   },
   {
    "duration": 20,
    "start_time": "2023-07-07T17:39:29.945Z"
   },
   {
    "duration": 18,
    "start_time": "2023-07-07T17:39:29.967Z"
   },
   {
    "duration": 92,
    "start_time": "2023-07-07T17:39:29.987Z"
   },
   {
    "duration": 12,
    "start_time": "2023-07-07T17:39:30.081Z"
   },
   {
    "duration": 33,
    "start_time": "2023-07-07T17:39:30.095Z"
   },
   {
    "duration": 13,
    "start_time": "2023-07-07T17:39:30.130Z"
   },
   {
    "duration": 64433,
    "start_time": "2023-07-07T17:39:30.145Z"
   },
   {
    "duration": 24,
    "start_time": "2023-07-07T17:40:34.580Z"
   },
   {
    "duration": 117,
    "start_time": "2023-07-07T17:40:34.617Z"
   },
   {
    "duration": 4,
    "start_time": "2023-07-07T17:40:34.736Z"
   },
   {
    "duration": 14,
    "start_time": "2023-07-07T17:40:34.742Z"
   },
   {
    "duration": 11,
    "start_time": "2023-07-07T17:40:34.762Z"
   },
   {
    "duration": 74,
    "start_time": "2023-07-07T17:40:34.775Z"
   },
   {
    "duration": 843,
    "start_time": "2023-07-07T17:41:09.260Z"
   },
   {
    "duration": 5,
    "start_time": "2023-07-07T17:41:11.830Z"
   },
   {
    "duration": 49,
    "start_time": "2023-07-07T17:42:31.240Z"
   },
   {
    "duration": 2471,
    "start_time": "2023-07-07T17:42:49.613Z"
   },
   {
    "duration": 2305,
    "start_time": "2023-07-07T17:42:52.086Z"
   },
   {
    "duration": 2570,
    "start_time": "2023-07-07T17:42:54.394Z"
   },
   {
    "duration": 3073,
    "start_time": "2023-07-07T17:42:56.966Z"
   },
   {
    "duration": 17,
    "start_time": "2023-07-07T17:43:00.042Z"
   },
   {
    "duration": 160,
    "start_time": "2023-07-07T17:43:00.061Z"
   },
   {
    "duration": 49,
    "start_time": "2023-07-07T17:43:00.223Z"
   },
   {
    "duration": 3,
    "start_time": "2023-07-07T17:43:00.274Z"
   },
   {
    "duration": 76,
    "start_time": "2023-07-07T17:43:00.279Z"
   },
   {
    "duration": 15,
    "start_time": "2023-07-07T17:43:00.357Z"
   },
   {
    "duration": 1408,
    "start_time": "2023-07-07T17:43:00.375Z"
   },
   {
    "duration": 107,
    "start_time": "2023-07-07T17:43:01.786Z"
   },
   {
    "duration": 242,
    "start_time": "2023-07-07T17:43:01.895Z"
   },
   {
    "duration": 4,
    "start_time": "2023-07-07T17:43:02.140Z"
   },
   {
    "duration": 154,
    "start_time": "2023-07-07T17:43:02.145Z"
   },
   {
    "duration": 43,
    "start_time": "2023-07-07T17:43:02.301Z"
   },
   {
    "duration": 23,
    "start_time": "2023-07-07T17:43:02.346Z"
   },
   {
    "duration": 67,
    "start_time": "2023-07-07T17:43:02.372Z"
   },
   {
    "duration": 98,
    "start_time": "2023-07-07T17:43:02.442Z"
   },
   {
    "duration": 776,
    "start_time": "2023-07-07T17:43:02.543Z"
   },
   {
    "duration": 1367,
    "start_time": "2023-07-07T17:43:03.328Z"
   },
   {
    "duration": 449,
    "start_time": "2023-07-07T17:43:04.697Z"
   },
   {
    "duration": 194,
    "start_time": "2023-07-07T17:43:05.148Z"
   },
   {
    "duration": 3,
    "start_time": "2023-07-07T17:43:05.344Z"
   },
   {
    "duration": 94,
    "start_time": "2023-07-07T17:43:05.348Z"
   },
   {
    "duration": 5,
    "start_time": "2023-07-07T17:43:05.443Z"
   },
   {
    "duration": 238,
    "start_time": "2023-07-07T17:43:05.450Z"
   },
   {
    "duration": 398,
    "start_time": "2023-07-07T17:43:05.690Z"
   },
   {
    "duration": 105,
    "start_time": "2023-07-07T17:43:06.090Z"
   },
   {
    "duration": 239,
    "start_time": "2023-07-07T17:43:06.196Z"
   },
   {
    "duration": 226,
    "start_time": "2023-07-07T17:43:06.437Z"
   },
   {
    "duration": 156,
    "start_time": "2023-07-07T17:43:06.665Z"
   },
   {
    "duration": 238,
    "start_time": "2023-07-07T17:43:06.823Z"
   },
   {
    "duration": 415,
    "start_time": "2023-07-07T17:43:07.062Z"
   },
   {
    "duration": 93,
    "start_time": "2023-07-07T17:43:07.479Z"
   },
   {
    "duration": 254,
    "start_time": "2023-07-07T17:43:07.574Z"
   },
   {
    "duration": 188,
    "start_time": "2023-07-07T17:43:07.829Z"
   },
   {
    "duration": 406,
    "start_time": "2023-07-07T17:43:08.019Z"
   },
   {
    "duration": 90,
    "start_time": "2023-07-07T17:43:08.427Z"
   },
   {
    "duration": 189,
    "start_time": "2023-07-07T17:43:08.519Z"
   },
   {
    "duration": 60,
    "start_time": "2023-07-07T17:43:08.713Z"
   },
   {
    "duration": 296,
    "start_time": "2023-07-07T17:43:08.775Z"
   },
   {
    "duration": 156,
    "start_time": "2023-07-07T17:43:09.073Z"
   },
   {
    "duration": 162,
    "start_time": "2023-07-07T17:43:09.231Z"
   },
   {
    "duration": 21,
    "start_time": "2023-07-07T17:43:09.395Z"
   },
   {
    "duration": 30,
    "start_time": "2023-07-07T17:43:09.417Z"
   },
   {
    "duration": 17,
    "start_time": "2023-07-07T17:43:09.449Z"
   },
   {
    "duration": 65,
    "start_time": "2023-07-07T17:43:09.467Z"
   },
   {
    "duration": 17,
    "start_time": "2023-07-07T17:43:09.534Z"
   },
   {
    "duration": 211,
    "start_time": "2023-07-07T17:43:09.552Z"
   },
   {
    "duration": 11,
    "start_time": "2023-07-07T17:43:09.765Z"
   },
   {
    "duration": 9,
    "start_time": "2023-07-07T17:43:09.778Z"
   },
   {
    "duration": 59,
    "start_time": "2023-07-07T17:43:09.789Z"
   },
   {
    "duration": 22,
    "start_time": "2023-07-07T17:43:09.850Z"
   },
   {
    "duration": 66,
    "start_time": "2023-07-07T17:43:09.874Z"
   },
   {
    "duration": 18,
    "start_time": "2023-07-07T17:43:09.942Z"
   },
   {
    "duration": 65,
    "start_time": "2023-07-07T17:43:09.963Z"
   },
   {
    "duration": 139,
    "start_time": "2023-07-07T17:43:10.030Z"
   },
   {
    "duration": 13,
    "start_time": "2023-07-07T17:43:10.170Z"
   },
   {
    "duration": 13,
    "start_time": "2023-07-07T17:43:10.185Z"
   },
   {
    "duration": 7,
    "start_time": "2023-07-07T17:43:10.214Z"
   },
   {
    "duration": 32,
    "start_time": "2023-07-07T17:43:10.222Z"
   },
   {
    "duration": 26,
    "start_time": "2023-07-07T17:43:10.256Z"
   },
   {
    "duration": 199,
    "start_time": "2023-07-07T17:43:10.284Z"
   },
   {
    "duration": 39,
    "start_time": "2023-07-07T17:43:10.486Z"
   },
   {
    "duration": 28,
    "start_time": "2023-07-07T17:43:10.527Z"
   },
   {
    "duration": 17,
    "start_time": "2023-07-07T17:43:10.557Z"
   },
   {
    "duration": 1580,
    "start_time": "2023-07-07T17:43:10.576Z"
   },
   {
    "duration": 18,
    "start_time": "2023-07-07T17:43:12.158Z"
   },
   {
    "duration": 409,
    "start_time": "2023-07-07T17:43:12.177Z"
   },
   {
    "duration": 24,
    "start_time": "2023-07-07T17:43:12.589Z"
   },
   {
    "duration": 12,
    "start_time": "2023-07-07T17:43:12.615Z"
   },
   {
    "duration": 88,
    "start_time": "2023-07-07T17:43:12.628Z"
   },
   {
    "duration": 12,
    "start_time": "2023-07-07T17:43:12.718Z"
   },
   {
    "duration": 9,
    "start_time": "2023-07-07T17:43:12.732Z"
   },
   {
    "duration": 15,
    "start_time": "2023-07-07T17:43:12.743Z"
   },
   {
    "duration": 66363,
    "start_time": "2023-07-07T17:43:12.760Z"
   },
   {
    "duration": 29,
    "start_time": "2023-07-07T17:44:19.125Z"
   },
   {
    "duration": 119,
    "start_time": "2023-07-07T17:44:19.156Z"
   },
   {
    "duration": 5,
    "start_time": "2023-07-07T17:44:19.276Z"
   },
   {
    "duration": 20,
    "start_time": "2023-07-07T17:44:19.283Z"
   },
   {
    "duration": 15,
    "start_time": "2023-07-07T17:44:19.305Z"
   },
   {
    "duration": 54,
    "start_time": "2023-07-07T17:44:19.322Z"
   },
   {
    "duration": 46,
    "start_time": "2023-07-07T17:46:37.660Z"
   },
   {
    "duration": 854,
    "start_time": "2023-07-07T17:46:38.719Z"
   },
   {
    "duration": 8,
    "start_time": "2023-07-07T17:46:43.689Z"
   },
   {
    "duration": 117,
    "start_time": "2023-07-07T17:57:37.935Z"
   },
   {
    "duration": 4,
    "start_time": "2023-07-07T18:02:27.590Z"
   },
   {
    "duration": 2436,
    "start_time": "2023-07-07T18:03:00.628Z"
   },
   {
    "duration": 2340,
    "start_time": "2023-07-07T18:03:03.066Z"
   },
   {
    "duration": 2587,
    "start_time": "2023-07-07T18:03:05.410Z"
   },
   {
    "duration": 3138,
    "start_time": "2023-07-07T18:03:07.999Z"
   },
   {
    "duration": 18,
    "start_time": "2023-07-07T18:03:11.139Z"
   },
   {
    "duration": 128,
    "start_time": "2023-07-07T18:03:11.159Z"
   },
   {
    "duration": 58,
    "start_time": "2023-07-07T18:03:11.289Z"
   },
   {
    "duration": 3,
    "start_time": "2023-07-07T18:03:11.349Z"
   },
   {
    "duration": 60,
    "start_time": "2023-07-07T18:03:11.354Z"
   },
   {
    "duration": 21,
    "start_time": "2023-07-07T18:03:11.416Z"
   },
   {
    "duration": 1355,
    "start_time": "2023-07-07T18:03:11.439Z"
   },
   {
    "duration": 117,
    "start_time": "2023-07-07T18:03:12.797Z"
   },
   {
    "duration": 254,
    "start_time": "2023-07-07T18:03:12.922Z"
   },
   {
    "duration": 4,
    "start_time": "2023-07-07T18:03:13.179Z"
   },
   {
    "duration": 135,
    "start_time": "2023-07-07T18:03:13.186Z"
   },
   {
    "duration": 22,
    "start_time": "2023-07-07T18:03:13.327Z"
   },
   {
    "duration": 32,
    "start_time": "2023-07-07T18:03:13.351Z"
   },
   {
    "duration": 50,
    "start_time": "2023-07-07T18:03:13.385Z"
   },
   {
    "duration": 99,
    "start_time": "2023-07-07T18:03:13.437Z"
   },
   {
    "duration": 781,
    "start_time": "2023-07-07T18:03:13.539Z"
   },
   {
    "duration": 1335,
    "start_time": "2023-07-07T18:03:14.322Z"
   },
   {
    "duration": 470,
    "start_time": "2023-07-07T18:03:15.659Z"
   },
   {
    "duration": 206,
    "start_time": "2023-07-07T18:03:16.131Z"
   },
   {
    "duration": 3,
    "start_time": "2023-07-07T18:03:16.339Z"
   },
   {
    "duration": 113,
    "start_time": "2023-07-07T18:03:16.344Z"
   },
   {
    "duration": 23,
    "start_time": "2023-07-07T18:03:16.459Z"
   },
   {
    "duration": 279,
    "start_time": "2023-07-07T18:03:16.484Z"
   },
   {
    "duration": 441,
    "start_time": "2023-07-07T18:03:16.765Z"
   },
   {
    "duration": 119,
    "start_time": "2023-07-07T18:03:17.208Z"
   },
   {
    "duration": 253,
    "start_time": "2023-07-07T18:03:17.329Z"
   },
   {
    "duration": 246,
    "start_time": "2023-07-07T18:03:17.584Z"
   },
   {
    "duration": 156,
    "start_time": "2023-07-07T18:03:17.832Z"
   },
   {
    "duration": 255,
    "start_time": "2023-07-07T18:03:17.990Z"
   },
   {
    "duration": 424,
    "start_time": "2023-07-07T18:03:18.247Z"
   },
   {
    "duration": 105,
    "start_time": "2023-07-07T18:03:18.673Z"
   },
   {
    "duration": 253,
    "start_time": "2023-07-07T18:03:18.780Z"
   },
   {
    "duration": 213,
    "start_time": "2023-07-07T18:03:19.034Z"
   },
   {
    "duration": 454,
    "start_time": "2023-07-07T18:03:19.250Z"
   },
   {
    "duration": 128,
    "start_time": "2023-07-07T18:03:19.706Z"
   },
   {
    "duration": 222,
    "start_time": "2023-07-07T18:03:19.836Z"
   },
   {
    "duration": 75,
    "start_time": "2023-07-07T18:03:20.062Z"
   },
   {
    "duration": 310,
    "start_time": "2023-07-07T18:03:20.139Z"
   },
   {
    "duration": 190,
    "start_time": "2023-07-07T18:03:20.451Z"
   },
   {
    "duration": 188,
    "start_time": "2023-07-07T18:03:20.643Z"
   },
   {
    "duration": 14,
    "start_time": "2023-07-07T18:03:20.833Z"
   },
   {
    "duration": 36,
    "start_time": "2023-07-07T18:03:20.848Z"
   },
   {
    "duration": 36,
    "start_time": "2023-07-07T18:03:20.886Z"
   },
   {
    "duration": 43,
    "start_time": "2023-07-07T18:03:20.923Z"
   },
   {
    "duration": 18,
    "start_time": "2023-07-07T18:03:20.968Z"
   },
   {
    "duration": 183,
    "start_time": "2023-07-07T18:03:20.987Z"
   },
   {
    "duration": 11,
    "start_time": "2023-07-07T18:03:21.172Z"
   },
   {
    "duration": 9,
    "start_time": "2023-07-07T18:03:21.185Z"
   },
   {
    "duration": 67,
    "start_time": "2023-07-07T18:03:21.195Z"
   },
   {
    "duration": 21,
    "start_time": "2023-07-07T18:03:21.264Z"
   },
   {
    "duration": 57,
    "start_time": "2023-07-07T18:03:21.287Z"
   },
   {
    "duration": 18,
    "start_time": "2023-07-07T18:03:21.346Z"
   },
   {
    "duration": 66,
    "start_time": "2023-07-07T18:03:21.366Z"
   },
   {
    "duration": 153,
    "start_time": "2023-07-07T18:03:21.433Z"
   },
   {
    "duration": 13,
    "start_time": "2023-07-07T18:03:21.587Z"
   },
   {
    "duration": 35,
    "start_time": "2023-07-07T18:03:21.601Z"
   },
   {
    "duration": 7,
    "start_time": "2023-07-07T18:03:21.641Z"
   },
   {
    "duration": 35,
    "start_time": "2023-07-07T18:03:21.650Z"
   },
   {
    "duration": 49,
    "start_time": "2023-07-07T18:03:21.687Z"
   },
   {
    "duration": 198,
    "start_time": "2023-07-07T18:03:21.738Z"
   },
   {
    "duration": 33,
    "start_time": "2023-07-07T18:03:21.938Z"
   },
   {
    "duration": 50,
    "start_time": "2023-07-07T18:03:21.974Z"
   },
   {
    "duration": 19,
    "start_time": "2023-07-07T18:03:22.027Z"
   },
   {
    "duration": 1773,
    "start_time": "2023-07-07T18:03:22.048Z"
   },
   {
    "duration": 19,
    "start_time": "2023-07-07T18:03:23.826Z"
   },
   {
    "duration": 460,
    "start_time": "2023-07-07T18:03:23.847Z"
   },
   {
    "duration": 19,
    "start_time": "2023-07-07T18:03:24.315Z"
   },
   {
    "duration": 16,
    "start_time": "2023-07-07T18:03:24.335Z"
   },
   {
    "duration": 93,
    "start_time": "2023-07-07T18:03:24.353Z"
   },
   {
    "duration": 13,
    "start_time": "2023-07-07T18:03:24.448Z"
   },
   {
    "duration": 9,
    "start_time": "2023-07-07T18:03:24.463Z"
   },
   {
    "duration": 20,
    "start_time": "2023-07-07T18:03:24.474Z"
   },
   {
    "duration": 71,
    "start_time": "2023-07-07T18:03:39.659Z"
   },
   {
    "duration": 152,
    "start_time": "2023-07-07T18:04:17.054Z"
   },
   {
    "duration": 57311,
    "start_time": "2023-07-07T18:04:26.238Z"
   },
   {
    "duration": 28,
    "start_time": "2023-07-07T18:05:23.551Z"
   },
   {
    "duration": 161,
    "start_time": "2023-07-07T18:05:23.581Z"
   },
   {
    "duration": 4,
    "start_time": "2023-07-07T18:05:23.745Z"
   },
   {
    "duration": 14,
    "start_time": "2023-07-07T18:05:23.751Z"
   },
   {
    "duration": 14,
    "start_time": "2023-07-07T18:05:23.767Z"
   },
   {
    "duration": 80,
    "start_time": "2023-07-07T18:05:23.783Z"
   },
   {
    "duration": 961,
    "start_time": "2023-07-07T18:08:09.507Z"
   },
   {
    "duration": 4,
    "start_time": "2023-07-07T18:08:44.979Z"
   },
   {
    "duration": 12,
    "start_time": "2023-07-07T18:08:53.797Z"
   },
   {
    "duration": 843,
    "start_time": "2023-07-07T18:08:58.822Z"
   },
   {
    "duration": 3,
    "start_time": "2023-07-07T18:09:00.895Z"
   },
   {
    "duration": 2467,
    "start_time": "2023-07-07T18:09:18.069Z"
   },
   {
    "duration": 2247,
    "start_time": "2023-07-07T18:09:20.538Z"
   },
   {
    "duration": 2730,
    "start_time": "2023-07-07T18:09:22.787Z"
   },
   {
    "duration": 3049,
    "start_time": "2023-07-07T18:09:25.519Z"
   },
   {
    "duration": 19,
    "start_time": "2023-07-07T18:09:28.570Z"
   },
   {
    "duration": 141,
    "start_time": "2023-07-07T18:09:28.590Z"
   },
   {
    "duration": 50,
    "start_time": "2023-07-07T18:09:28.733Z"
   },
   {
    "duration": 4,
    "start_time": "2023-07-07T18:09:28.785Z"
   },
   {
    "duration": 64,
    "start_time": "2023-07-07T18:09:28.791Z"
   },
   {
    "duration": 13,
    "start_time": "2023-07-07T18:09:28.857Z"
   },
   {
    "duration": 1508,
    "start_time": "2023-07-07T18:09:28.872Z"
   },
   {
    "duration": 114,
    "start_time": "2023-07-07T18:09:30.382Z"
   },
   {
    "duration": 257,
    "start_time": "2023-07-07T18:09:30.498Z"
   },
   {
    "duration": 3,
    "start_time": "2023-07-07T18:09:30.759Z"
   },
   {
    "duration": 268,
    "start_time": "2023-07-07T18:09:30.764Z"
   },
   {
    "duration": 70,
    "start_time": "2023-07-07T18:09:31.034Z"
   },
   {
    "duration": 61,
    "start_time": "2023-07-07T18:09:31.106Z"
   },
   {
    "duration": 66,
    "start_time": "2023-07-07T18:09:31.169Z"
   },
   {
    "duration": 88,
    "start_time": "2023-07-07T18:09:31.237Z"
   },
   {
    "duration": 765,
    "start_time": "2023-07-07T18:09:31.327Z"
   },
   {
    "duration": 1338,
    "start_time": "2023-07-07T18:09:32.094Z"
   },
   {
    "duration": 479,
    "start_time": "2023-07-07T18:09:33.435Z"
   },
   {
    "duration": 215,
    "start_time": "2023-07-07T18:09:33.916Z"
   },
   {
    "duration": 3,
    "start_time": "2023-07-07T18:09:34.134Z"
   },
   {
    "duration": 107,
    "start_time": "2023-07-07T18:09:34.139Z"
   },
   {
    "duration": 4,
    "start_time": "2023-07-07T18:09:34.248Z"
   },
   {
    "duration": 237,
    "start_time": "2023-07-07T18:09:34.254Z"
   },
   {
    "duration": 426,
    "start_time": "2023-07-07T18:09:34.493Z"
   },
   {
    "duration": 100,
    "start_time": "2023-07-07T18:09:34.923Z"
   },
   {
    "duration": 245,
    "start_time": "2023-07-07T18:09:35.024Z"
   },
   {
    "duration": 227,
    "start_time": "2023-07-07T18:09:35.270Z"
   },
   {
    "duration": 186,
    "start_time": "2023-07-07T18:09:35.499Z"
   },
   {
    "duration": 234,
    "start_time": "2023-07-07T18:09:35.686Z"
   },
   {
    "duration": 408,
    "start_time": "2023-07-07T18:09:35.922Z"
   },
   {
    "duration": 108,
    "start_time": "2023-07-07T18:09:36.332Z"
   },
   {
    "duration": 282,
    "start_time": "2023-07-07T18:09:36.443Z"
   },
   {
    "duration": 201,
    "start_time": "2023-07-07T18:09:36.727Z"
   },
   {
    "duration": 412,
    "start_time": "2023-07-07T18:09:36.931Z"
   },
   {
    "duration": 101,
    "start_time": "2023-07-07T18:09:37.344Z"
   },
   {
    "duration": 213,
    "start_time": "2023-07-07T18:09:37.447Z"
   },
   {
    "duration": 77,
    "start_time": "2023-07-07T18:09:37.666Z"
   },
   {
    "duration": 299,
    "start_time": "2023-07-07T18:09:37.744Z"
   },
   {
    "duration": 180,
    "start_time": "2023-07-07T18:09:38.045Z"
   },
   {
    "duration": 159,
    "start_time": "2023-07-07T18:09:38.227Z"
   },
   {
    "duration": 13,
    "start_time": "2023-07-07T18:09:38.388Z"
   },
   {
    "duration": 35,
    "start_time": "2023-07-07T18:09:38.413Z"
   },
   {
    "duration": 17,
    "start_time": "2023-07-07T18:09:38.450Z"
   },
   {
    "duration": 60,
    "start_time": "2023-07-07T18:09:38.469Z"
   },
   {
    "duration": 17,
    "start_time": "2023-07-07T18:09:38.531Z"
   },
   {
    "duration": 178,
    "start_time": "2023-07-07T18:09:38.550Z"
   },
   {
    "duration": 10,
    "start_time": "2023-07-07T18:09:38.731Z"
   },
   {
    "duration": 8,
    "start_time": "2023-07-07T18:09:38.743Z"
   },
   {
    "duration": 34,
    "start_time": "2023-07-07T18:09:38.752Z"
   },
   {
    "duration": 47,
    "start_time": "2023-07-07T18:09:38.788Z"
   },
   {
    "duration": 61,
    "start_time": "2023-07-07T18:09:38.836Z"
   },
   {
    "duration": 24,
    "start_time": "2023-07-07T18:09:38.899Z"
   },
   {
    "duration": 65,
    "start_time": "2023-07-07T18:09:38.924Z"
   },
   {
    "duration": 160,
    "start_time": "2023-07-07T18:09:38.991Z"
   },
   {
    "duration": 16,
    "start_time": "2023-07-07T18:09:39.153Z"
   },
   {
    "duration": 13,
    "start_time": "2023-07-07T18:09:39.171Z"
   },
   {
    "duration": 7,
    "start_time": "2023-07-07T18:09:39.186Z"
   },
   {
    "duration": 33,
    "start_time": "2023-07-07T18:09:39.213Z"
   },
   {
    "duration": 27,
    "start_time": "2023-07-07T18:09:39.248Z"
   },
   {
    "duration": 206,
    "start_time": "2023-07-07T18:09:39.278Z"
   },
   {
    "duration": 42,
    "start_time": "2023-07-07T18:09:39.486Z"
   },
   {
    "duration": 28,
    "start_time": "2023-07-07T18:09:39.530Z"
   },
   {
    "duration": 24,
    "start_time": "2023-07-07T18:09:39.560Z"
   },
   {
    "duration": 1775,
    "start_time": "2023-07-07T18:09:39.586Z"
   },
   {
    "duration": 17,
    "start_time": "2023-07-07T18:09:41.363Z"
   },
   {
    "duration": 435,
    "start_time": "2023-07-07T18:09:41.382Z"
   },
   {
    "duration": 17,
    "start_time": "2023-07-07T18:09:41.828Z"
   },
   {
    "duration": 11,
    "start_time": "2023-07-07T18:09:41.847Z"
   },
   {
    "duration": 84,
    "start_time": "2023-07-07T18:09:41.860Z"
   },
   {
    "duration": 12,
    "start_time": "2023-07-07T18:09:41.946Z"
   },
   {
    "duration": 7,
    "start_time": "2023-07-07T18:09:41.960Z"
   },
   {
    "duration": 14,
    "start_time": "2023-07-07T18:09:41.968Z"
   },
   {
    "duration": 56313,
    "start_time": "2023-07-07T18:09:41.984Z"
   },
   {
    "duration": 40,
    "start_time": "2023-07-07T18:10:38.299Z"
   },
   {
    "duration": 128,
    "start_time": "2023-07-07T18:10:38.341Z"
   },
   {
    "duration": 3,
    "start_time": "2023-07-07T18:10:38.471Z"
   },
   {
    "duration": 19,
    "start_time": "2023-07-07T18:10:38.476Z"
   },
   {
    "duration": 24,
    "start_time": "2023-07-07T18:10:38.496Z"
   },
   {
    "duration": 48,
    "start_time": "2023-07-07T18:10:38.531Z"
   },
   {
    "duration": 532258,
    "start_time": "2023-07-07T18:22:05.269Z"
   },
   {
    "duration": 445,
    "start_time": "2023-07-07T18:35:08.032Z"
   },
   {
    "duration": 7,
    "start_time": "2023-07-07T18:35:45.348Z"
   },
   {
    "duration": 246,
    "start_time": "2023-07-07T18:36:02.773Z"
   },
   {
    "duration": 10581,
    "start_time": "2023-07-07T18:37:41.498Z"
   },
   {
    "duration": 2430,
    "start_time": "2023-07-07T18:42:33.041Z"
   },
   {
    "duration": 2365,
    "start_time": "2023-07-07T18:42:35.474Z"
   },
   {
    "duration": 1770,
    "start_time": "2023-07-07T18:42:37.841Z"
   },
   {
    "duration": 1004,
    "start_time": "2023-07-07T18:42:39.614Z"
   },
   {
    "duration": 22,
    "start_time": "2023-07-07T18:42:40.625Z"
   },
   {
    "duration": 119,
    "start_time": "2023-07-07T18:42:40.649Z"
   },
   {
    "duration": 64,
    "start_time": "2023-07-07T18:42:40.770Z"
   },
   {
    "duration": 4,
    "start_time": "2023-07-07T18:42:40.836Z"
   },
   {
    "duration": 60,
    "start_time": "2023-07-07T18:42:40.842Z"
   },
   {
    "duration": 18,
    "start_time": "2023-07-07T18:42:40.918Z"
   },
   {
    "duration": 1331,
    "start_time": "2023-07-07T18:42:40.938Z"
   },
   {
    "duration": 110,
    "start_time": "2023-07-07T18:42:42.271Z"
   },
   {
    "duration": 308,
    "start_time": "2023-07-07T18:42:42.383Z"
   },
   {
    "duration": 4,
    "start_time": "2023-07-07T18:42:42.694Z"
   },
   {
    "duration": 135,
    "start_time": "2023-07-07T18:42:42.700Z"
   },
   {
    "duration": 26,
    "start_time": "2023-07-07T18:42:42.837Z"
   },
   {
    "duration": 36,
    "start_time": "2023-07-07T18:42:42.865Z"
   },
   {
    "duration": 53,
    "start_time": "2023-07-07T18:42:42.904Z"
   },
   {
    "duration": 84,
    "start_time": "2023-07-07T18:42:42.959Z"
   },
   {
    "duration": 728,
    "start_time": "2023-07-07T18:42:43.044Z"
   },
   {
    "duration": 1315,
    "start_time": "2023-07-07T18:42:43.774Z"
   },
   {
    "duration": 478,
    "start_time": "2023-07-07T18:42:45.091Z"
   },
   {
    "duration": 203,
    "start_time": "2023-07-07T18:42:45.571Z"
   },
   {
    "duration": 4,
    "start_time": "2023-07-07T18:42:45.776Z"
   },
   {
    "duration": 110,
    "start_time": "2023-07-07T18:42:45.782Z"
   },
   {
    "duration": 5,
    "start_time": "2023-07-07T18:42:45.894Z"
   },
   {
    "duration": 260,
    "start_time": "2023-07-07T18:42:45.915Z"
   },
   {
    "duration": 483,
    "start_time": "2023-07-07T18:42:46.180Z"
   },
   {
    "duration": 104,
    "start_time": "2023-07-07T18:42:46.666Z"
   },
   {
    "duration": 270,
    "start_time": "2023-07-07T18:42:46.772Z"
   },
   {
    "duration": 229,
    "start_time": "2023-07-07T18:42:47.044Z"
   },
   {
    "duration": 185,
    "start_time": "2023-07-07T18:42:47.275Z"
   },
   {
    "duration": 237,
    "start_time": "2023-07-07T18:42:47.462Z"
   },
   {
    "duration": 424,
    "start_time": "2023-07-07T18:42:47.701Z"
   },
   {
    "duration": 119,
    "start_time": "2023-07-07T18:42:48.132Z"
   },
   {
    "duration": 229,
    "start_time": "2023-07-07T18:42:48.253Z"
   },
   {
    "duration": 201,
    "start_time": "2023-07-07T18:42:48.488Z"
   },
   {
    "duration": 414,
    "start_time": "2023-07-07T18:42:48.691Z"
   },
   {
    "duration": 100,
    "start_time": "2023-07-07T18:42:49.107Z"
   },
   {
    "duration": 194,
    "start_time": "2023-07-07T18:42:49.214Z"
   },
   {
    "duration": 78,
    "start_time": "2023-07-07T18:42:49.410Z"
   },
   {
    "duration": 373,
    "start_time": "2023-07-07T18:42:49.490Z"
   },
   {
    "duration": 200,
    "start_time": "2023-07-07T18:42:49.865Z"
   },
   {
    "duration": 187,
    "start_time": "2023-07-07T18:42:50.067Z"
   },
   {
    "duration": 14,
    "start_time": "2023-07-07T18:42:50.255Z"
   },
   {
    "duration": 58,
    "start_time": "2023-07-07T18:42:50.271Z"
   },
   {
    "duration": 18,
    "start_time": "2023-07-07T18:42:50.331Z"
   },
   {
    "duration": 37,
    "start_time": "2023-07-07T18:42:50.351Z"
   },
   {
    "duration": 39,
    "start_time": "2023-07-07T18:42:50.390Z"
   },
   {
    "duration": 166,
    "start_time": "2023-07-07T18:42:50.434Z"
   },
   {
    "duration": 29,
    "start_time": "2023-07-07T18:42:50.602Z"
   },
   {
    "duration": 11,
    "start_time": "2023-07-07T18:42:50.633Z"
   },
   {
    "duration": 51,
    "start_time": "2023-07-07T18:42:50.646Z"
   },
   {
    "duration": 31,
    "start_time": "2023-07-07T18:42:50.699Z"
   },
   {
    "duration": 35,
    "start_time": "2023-07-07T18:42:50.732Z"
   },
   {
    "duration": 21,
    "start_time": "2023-07-07T18:42:50.769Z"
   },
   {
    "duration": 73,
    "start_time": "2023-07-07T18:42:50.793Z"
   },
   {
    "duration": 171,
    "start_time": "2023-07-07T18:42:50.868Z"
   },
   {
    "duration": 14,
    "start_time": "2023-07-07T18:42:51.041Z"
   },
   {
    "duration": 14,
    "start_time": "2023-07-07T18:42:51.056Z"
   },
   {
    "duration": 15,
    "start_time": "2023-07-07T18:42:51.072Z"
   },
   {
    "duration": 59,
    "start_time": "2023-07-07T18:42:51.088Z"
   },
   {
    "duration": 29,
    "start_time": "2023-07-07T18:42:51.149Z"
   },
   {
    "duration": 209,
    "start_time": "2023-07-07T18:42:51.180Z"
   },
   {
    "duration": 44,
    "start_time": "2023-07-07T18:42:51.390Z"
   },
   {
    "duration": 31,
    "start_time": "2023-07-07T18:42:51.436Z"
   },
   {
    "duration": 21,
    "start_time": "2023-07-07T18:42:51.470Z"
   },
   {
    "duration": 1710,
    "start_time": "2023-07-07T18:42:51.493Z"
   },
   {
    "duration": 27,
    "start_time": "2023-07-07T18:42:53.204Z"
   },
   {
    "duration": 444,
    "start_time": "2023-07-07T18:42:53.233Z"
   },
   {
    "duration": 20,
    "start_time": "2023-07-07T18:42:53.680Z"
   },
   {
    "duration": 22,
    "start_time": "2023-07-07T18:42:53.703Z"
   },
   {
    "duration": 84,
    "start_time": "2023-07-07T18:42:53.733Z"
   },
   {
    "duration": 16,
    "start_time": "2023-07-07T18:42:53.824Z"
   },
   {
    "duration": 10,
    "start_time": "2023-07-07T18:42:53.843Z"
   },
   {
    "duration": 13,
    "start_time": "2023-07-07T18:42:53.857Z"
   },
   {
    "duration": 57190,
    "start_time": "2023-07-07T18:42:53.872Z"
   },
   {
    "duration": 28,
    "start_time": "2023-07-07T18:43:51.064Z"
   },
   {
    "duration": 233,
    "start_time": "2023-07-07T18:43:51.094Z"
   },
   {
    "duration": 121,
    "start_time": "2023-07-07T18:43:51.329Z"
   },
   {
    "duration": 2371,
    "start_time": "2023-07-07T18:44:46.630Z"
   },
   {
    "duration": 2434,
    "start_time": "2023-07-07T18:44:49.004Z"
   },
   {
    "duration": 3109,
    "start_time": "2023-07-07T18:44:51.441Z"
   },
   {
    "duration": 3497,
    "start_time": "2023-07-07T18:44:54.553Z"
   },
   {
    "duration": 25,
    "start_time": "2023-07-07T18:44:58.052Z"
   },
   {
    "duration": 166,
    "start_time": "2023-07-07T18:44:58.080Z"
   },
   {
    "duration": 51,
    "start_time": "2023-07-07T18:44:58.248Z"
   },
   {
    "duration": 7,
    "start_time": "2023-07-07T18:44:58.318Z"
   },
   {
    "duration": 62,
    "start_time": "2023-07-07T18:44:58.333Z"
   },
   {
    "duration": 16,
    "start_time": "2023-07-07T18:44:58.399Z"
   },
   {
    "duration": 1419,
    "start_time": "2023-07-07T18:44:58.419Z"
   },
   {
    "duration": 151,
    "start_time": "2023-07-07T18:44:59.840Z"
   },
   {
    "duration": 309,
    "start_time": "2023-07-07T18:44:59.993Z"
   },
   {
    "duration": 15,
    "start_time": "2023-07-07T18:45:00.304Z"
   },
   {
    "duration": 178,
    "start_time": "2023-07-07T18:45:00.328Z"
   },
   {
    "duration": 40,
    "start_time": "2023-07-07T18:45:00.508Z"
   },
   {
    "duration": 96,
    "start_time": "2023-07-07T18:45:00.551Z"
   },
   {
    "duration": 75,
    "start_time": "2023-07-07T18:45:00.650Z"
   },
   {
    "duration": 142,
    "start_time": "2023-07-07T18:45:00.731Z"
   },
   {
    "duration": 869,
    "start_time": "2023-07-07T18:45:00.875Z"
   },
   {
    "duration": 1509,
    "start_time": "2023-07-07T18:45:01.745Z"
   },
   {
    "duration": 566,
    "start_time": "2023-07-07T18:45:03.256Z"
   },
   {
    "duration": 219,
    "start_time": "2023-07-07T18:45:03.831Z"
   },
   {
    "duration": 3,
    "start_time": "2023-07-07T18:45:04.052Z"
   },
   {
    "duration": 130,
    "start_time": "2023-07-07T18:45:04.057Z"
   },
   {
    "duration": 5,
    "start_time": "2023-07-07T18:45:04.189Z"
   },
   {
    "duration": 272,
    "start_time": "2023-07-07T18:45:04.197Z"
   },
   {
    "duration": 502,
    "start_time": "2023-07-07T18:45:04.475Z"
   },
   {
    "duration": 125,
    "start_time": "2023-07-07T18:45:04.979Z"
   },
   {
    "duration": 429,
    "start_time": "2023-07-07T18:45:05.106Z"
   },
   {
    "duration": 260,
    "start_time": "2023-07-07T18:45:05.545Z"
   },
   {
    "duration": 255,
    "start_time": "2023-07-07T18:45:05.807Z"
   },
   {
    "duration": 346,
    "start_time": "2023-07-07T18:45:06.066Z"
   },
   {
    "duration": 660,
    "start_time": "2023-07-07T18:45:06.414Z"
   },
   {
    "duration": 183,
    "start_time": "2023-07-07T18:45:07.079Z"
   },
   {
    "duration": 343,
    "start_time": "2023-07-07T18:45:07.265Z"
   },
   {
    "duration": 289,
    "start_time": "2023-07-07T18:45:07.610Z"
   },
   {
    "duration": 531,
    "start_time": "2023-07-07T18:45:07.901Z"
   },
   {
    "duration": 127,
    "start_time": "2023-07-07T18:45:08.434Z"
   },
   {
    "duration": 268,
    "start_time": "2023-07-07T18:45:08.563Z"
   },
   {
    "duration": 65,
    "start_time": "2023-07-07T18:45:08.836Z"
   },
   {
    "duration": 415,
    "start_time": "2023-07-07T18:45:08.902Z"
   },
   {
    "duration": 207,
    "start_time": "2023-07-07T18:45:09.323Z"
   },
   {
    "duration": 197,
    "start_time": "2023-07-07T18:45:09.532Z"
   },
   {
    "duration": 23,
    "start_time": "2023-07-07T18:45:09.733Z"
   },
   {
    "duration": 40,
    "start_time": "2023-07-07T18:45:09.759Z"
   },
   {
    "duration": 35,
    "start_time": "2023-07-07T18:45:09.801Z"
   },
   {
    "duration": 51,
    "start_time": "2023-07-07T18:45:09.839Z"
   },
   {
    "duration": 28,
    "start_time": "2023-07-07T18:45:09.892Z"
   },
   {
    "duration": 224,
    "start_time": "2023-07-07T18:45:09.924Z"
   },
   {
    "duration": 14,
    "start_time": "2023-07-07T18:45:10.151Z"
   },
   {
    "duration": 17,
    "start_time": "2023-07-07T18:45:10.167Z"
   },
   {
    "duration": 56,
    "start_time": "2023-07-07T18:45:10.186Z"
   },
   {
    "duration": 21,
    "start_time": "2023-07-07T18:45:10.245Z"
   },
   {
    "duration": 58,
    "start_time": "2023-07-07T18:45:10.269Z"
   },
   {
    "duration": 28,
    "start_time": "2023-07-07T18:45:10.329Z"
   },
   {
    "duration": 64,
    "start_time": "2023-07-07T18:45:10.359Z"
   },
   {
    "duration": 150,
    "start_time": "2023-07-07T18:45:10.430Z"
   },
   {
    "duration": 16,
    "start_time": "2023-07-07T18:45:10.583Z"
   },
   {
    "duration": 33,
    "start_time": "2023-07-07T18:45:10.601Z"
   },
   {
    "duration": 9,
    "start_time": "2023-07-07T18:45:10.636Z"
   },
   {
    "duration": 42,
    "start_time": "2023-07-07T18:45:10.651Z"
   },
   {
    "duration": 43,
    "start_time": "2023-07-07T18:45:10.695Z"
   },
   {
    "duration": 280,
    "start_time": "2023-07-07T18:45:10.744Z"
   },
   {
    "duration": 44,
    "start_time": "2023-07-07T18:45:11.027Z"
   },
   {
    "duration": 51,
    "start_time": "2023-07-07T18:45:11.074Z"
   },
   {
    "duration": 21,
    "start_time": "2023-07-07T18:45:11.127Z"
   },
   {
    "duration": 2521,
    "start_time": "2023-07-07T18:45:11.151Z"
   },
   {
    "duration": 21,
    "start_time": "2023-07-07T18:45:13.675Z"
   },
   {
    "duration": 584,
    "start_time": "2023-07-07T18:45:13.699Z"
   },
   {
    "duration": 17,
    "start_time": "2023-07-07T18:45:14.285Z"
   },
   {
    "duration": 33,
    "start_time": "2023-07-07T18:45:14.304Z"
   },
   {
    "duration": 90,
    "start_time": "2023-07-07T18:45:14.338Z"
   },
   {
    "duration": 16,
    "start_time": "2023-07-07T18:45:14.430Z"
   },
   {
    "duration": 7,
    "start_time": "2023-07-07T18:45:14.448Z"
   },
   {
    "duration": 48,
    "start_time": "2023-07-07T18:45:14.458Z"
   },
   {
    "duration": 60839,
    "start_time": "2023-07-07T18:45:14.508Z"
   },
   {
    "duration": 41,
    "start_time": "2023-07-07T18:46:15.349Z"
   },
   {
    "duration": 229,
    "start_time": "2023-07-07T18:46:15.392Z"
   },
   {
    "duration": 141,
    "start_time": "2023-07-07T18:46:15.622Z"
   },
   {
    "duration": 551113,
    "start_time": "2023-07-07T18:47:43.600Z"
   },
   {
    "duration": 605804,
    "start_time": "2023-07-07T18:58:25.196Z"
   },
   {
    "duration": 45,
    "start_time": "2023-07-07T19:09:31.458Z"
   },
   {
    "duration": 155547,
    "start_time": "2023-07-07T19:09:42.068Z"
   },
   {
    "duration": 14,
    "start_time": "2023-07-07T19:13:22.599Z"
   },
   {
    "duration": 56,
    "start_time": "2023-07-07T19:13:37.156Z"
   },
   {
    "duration": 35,
    "start_time": "2023-07-07T19:14:22.566Z"
   },
   {
    "duration": 2378,
    "start_time": "2023-07-07T19:16:40.614Z"
   },
   {
    "duration": 2563,
    "start_time": "2023-07-07T19:16:42.995Z"
   },
   {
    "duration": 2598,
    "start_time": "2023-07-07T19:16:45.560Z"
   },
   {
    "duration": 3027,
    "start_time": "2023-07-07T19:16:48.159Z"
   },
   {
    "duration": 28,
    "start_time": "2023-07-07T19:16:51.189Z"
   },
   {
    "duration": 136,
    "start_time": "2023-07-07T19:16:51.219Z"
   },
   {
    "duration": 67,
    "start_time": "2023-07-07T19:16:51.357Z"
   },
   {
    "duration": 3,
    "start_time": "2023-07-07T19:16:51.426Z"
   },
   {
    "duration": 45,
    "start_time": "2023-07-07T19:16:51.431Z"
   },
   {
    "duration": 13,
    "start_time": "2023-07-07T19:16:51.479Z"
   },
   {
    "duration": 1395,
    "start_time": "2023-07-07T19:16:51.513Z"
   },
   {
    "duration": 133,
    "start_time": "2023-07-07T19:16:52.913Z"
   },
   {
    "duration": 241,
    "start_time": "2023-07-07T19:16:53.048Z"
   },
   {
    "duration": 4,
    "start_time": "2023-07-07T19:16:53.292Z"
   },
   {
    "duration": 119,
    "start_time": "2023-07-07T19:16:53.312Z"
   },
   {
    "duration": 32,
    "start_time": "2023-07-07T19:16:53.434Z"
   },
   {
    "duration": 59,
    "start_time": "2023-07-07T19:16:53.467Z"
   },
   {
    "duration": 47,
    "start_time": "2023-07-07T19:16:53.529Z"
   },
   {
    "duration": 86,
    "start_time": "2023-07-07T19:16:53.578Z"
   },
   {
    "duration": 765,
    "start_time": "2023-07-07T19:16:53.666Z"
   },
   {
    "duration": 1450,
    "start_time": "2023-07-07T19:16:54.435Z"
   },
   {
    "duration": 447,
    "start_time": "2023-07-07T19:16:55.887Z"
   },
   {
    "duration": 203,
    "start_time": "2023-07-07T19:16:56.336Z"
   },
   {
    "duration": 3,
    "start_time": "2023-07-07T19:16:56.541Z"
   },
   {
    "duration": 111,
    "start_time": "2023-07-07T19:16:56.546Z"
   },
   {
    "duration": 5,
    "start_time": "2023-07-07T19:16:56.659Z"
   },
   {
    "duration": 234,
    "start_time": "2023-07-07T19:16:56.666Z"
   },
   {
    "duration": 446,
    "start_time": "2023-07-07T19:16:56.912Z"
   },
   {
    "duration": 103,
    "start_time": "2023-07-07T19:16:57.360Z"
   },
   {
    "duration": 243,
    "start_time": "2023-07-07T19:16:57.465Z"
   },
   {
    "duration": 239,
    "start_time": "2023-07-07T19:16:57.712Z"
   },
   {
    "duration": 181,
    "start_time": "2023-07-07T19:16:57.953Z"
   },
   {
    "duration": 261,
    "start_time": "2023-07-07T19:16:58.136Z"
   },
   {
    "duration": 445,
    "start_time": "2023-07-07T19:16:58.399Z"
   },
   {
    "duration": 128,
    "start_time": "2023-07-07T19:16:58.846Z"
   },
   {
    "duration": 248,
    "start_time": "2023-07-07T19:16:58.976Z"
   },
   {
    "duration": 197,
    "start_time": "2023-07-07T19:16:59.226Z"
   },
   {
    "duration": 497,
    "start_time": "2023-07-07T19:16:59.425Z"
   },
   {
    "duration": 128,
    "start_time": "2023-07-07T19:16:59.925Z"
   },
   {
    "duration": 224,
    "start_time": "2023-07-07T19:17:00.055Z"
   },
   {
    "duration": 99,
    "start_time": "2023-07-07T19:17:00.284Z"
   },
   {
    "duration": 305,
    "start_time": "2023-07-07T19:17:00.385Z"
   },
   {
    "duration": 172,
    "start_time": "2023-07-07T19:17:00.692Z"
   },
   {
    "duration": 194,
    "start_time": "2023-07-07T19:17:00.867Z"
   },
   {
    "duration": 14,
    "start_time": "2023-07-07T19:17:01.063Z"
   },
   {
    "duration": 57,
    "start_time": "2023-07-07T19:17:01.079Z"
   },
   {
    "duration": 23,
    "start_time": "2023-07-07T19:17:01.139Z"
   },
   {
    "duration": 56,
    "start_time": "2023-07-07T19:17:01.164Z"
   },
   {
    "duration": 32,
    "start_time": "2023-07-07T19:17:01.223Z"
   },
   {
    "duration": 198,
    "start_time": "2023-07-07T19:17:01.258Z"
   },
   {
    "duration": 10,
    "start_time": "2023-07-07T19:17:01.458Z"
   },
   {
    "duration": 31,
    "start_time": "2023-07-07T19:17:01.470Z"
   },
   {
    "duration": 79,
    "start_time": "2023-07-07T19:17:01.503Z"
   },
   {
    "duration": 19,
    "start_time": "2023-07-07T19:17:01.584Z"
   },
   {
    "duration": 42,
    "start_time": "2023-07-07T19:17:01.604Z"
   },
   {
    "duration": 23,
    "start_time": "2023-07-07T19:17:01.648Z"
   },
   {
    "duration": 73,
    "start_time": "2023-07-07T19:17:01.673Z"
   },
   {
    "duration": 221,
    "start_time": "2023-07-07T19:17:01.747Z"
   },
   {
    "duration": 13,
    "start_time": "2023-07-07T19:17:01.969Z"
   },
   {
    "duration": 30,
    "start_time": "2023-07-07T19:17:01.985Z"
   },
   {
    "duration": 21,
    "start_time": "2023-07-07T19:17:02.017Z"
   },
   {
    "duration": 52,
    "start_time": "2023-07-07T19:17:02.041Z"
   },
   {
    "duration": 42,
    "start_time": "2023-07-07T19:17:02.095Z"
   },
   {
    "duration": 225,
    "start_time": "2023-07-07T19:17:02.140Z"
   },
   {
    "duration": 32,
    "start_time": "2023-07-07T19:17:02.367Z"
   },
   {
    "duration": 44,
    "start_time": "2023-07-07T19:17:02.401Z"
   },
   {
    "duration": 29,
    "start_time": "2023-07-07T19:17:02.447Z"
   },
   {
    "duration": 1792,
    "start_time": "2023-07-07T19:17:02.478Z"
   },
   {
    "duration": 17,
    "start_time": "2023-07-07T19:17:04.272Z"
   },
   {
    "duration": 421,
    "start_time": "2023-07-07T19:17:04.291Z"
   },
   {
    "duration": 18,
    "start_time": "2023-07-07T19:17:04.714Z"
   },
   {
    "duration": 18,
    "start_time": "2023-07-07T19:17:04.735Z"
   },
   {
    "duration": 104,
    "start_time": "2023-07-07T19:17:04.755Z"
   },
   {
    "duration": 17,
    "start_time": "2023-07-07T19:17:04.862Z"
   },
   {
    "duration": 11,
    "start_time": "2023-07-07T19:17:04.881Z"
   },
   {
    "duration": 14,
    "start_time": "2023-07-07T19:17:04.913Z"
   },
   {
    "duration": 52056,
    "start_time": "2023-07-07T19:17:04.930Z"
   },
   {
    "duration": 38,
    "start_time": "2023-07-07T19:17:56.988Z"
   },
   {
    "duration": 2364,
    "start_time": "2023-07-07T19:29:32.171Z"
   },
   {
    "duration": 3076,
    "start_time": "2023-07-07T19:29:34.539Z"
   },
   {
    "duration": 8,
    "start_time": "2023-07-07T19:29:37.618Z"
   },
   {
    "duration": 1016,
    "start_time": "2023-07-07T19:29:37.628Z"
   },
   {
    "duration": 15,
    "start_time": "2023-07-07T19:29:38.647Z"
   },
   {
    "duration": 127,
    "start_time": "2023-07-07T19:29:38.664Z"
   },
   {
    "duration": 38,
    "start_time": "2023-07-07T19:29:38.793Z"
   },
   {
    "duration": 4,
    "start_time": "2023-07-07T19:29:38.833Z"
   },
   {
    "duration": 53,
    "start_time": "2023-07-07T19:29:38.840Z"
   },
   {
    "duration": 30,
    "start_time": "2023-07-07T19:29:38.895Z"
   },
   {
    "duration": 1413,
    "start_time": "2023-07-07T19:29:38.927Z"
   },
   {
    "duration": 99,
    "start_time": "2023-07-07T19:29:40.342Z"
   },
   {
    "duration": 243,
    "start_time": "2023-07-07T19:29:40.443Z"
   },
   {
    "duration": 4,
    "start_time": "2023-07-07T19:29:40.691Z"
   },
   {
    "duration": 131,
    "start_time": "2023-07-07T19:29:40.697Z"
   },
   {
    "duration": 19,
    "start_time": "2023-07-07T19:29:40.830Z"
   },
   {
    "duration": 22,
    "start_time": "2023-07-07T19:29:40.851Z"
   },
   {
    "duration": 57,
    "start_time": "2023-07-07T19:29:40.875Z"
   },
   {
    "duration": 68,
    "start_time": "2023-07-07T19:29:40.934Z"
   },
   {
    "duration": 589,
    "start_time": "2023-07-07T19:29:41.014Z"
   },
   {
    "duration": 1467,
    "start_time": "2023-07-07T19:29:41.606Z"
   },
   {
    "duration": 475,
    "start_time": "2023-07-07T19:29:43.075Z"
   },
   {
    "duration": 179,
    "start_time": "2023-07-07T19:29:43.552Z"
   },
   {
    "duration": 3,
    "start_time": "2023-07-07T19:29:43.733Z"
   },
   {
    "duration": 103,
    "start_time": "2023-07-07T19:29:43.738Z"
   },
   {
    "duration": 4,
    "start_time": "2023-07-07T19:29:43.843Z"
   },
   {
    "duration": 254,
    "start_time": "2023-07-07T19:29:43.850Z"
   },
   {
    "duration": 446,
    "start_time": "2023-07-07T19:29:44.107Z"
   },
   {
    "duration": 99,
    "start_time": "2023-07-07T19:29:44.556Z"
   },
   {
    "duration": 270,
    "start_time": "2023-07-07T19:29:44.657Z"
   },
   {
    "duration": 232,
    "start_time": "2023-07-07T19:29:44.929Z"
   },
   {
    "duration": 163,
    "start_time": "2023-07-07T19:29:45.163Z"
   },
   {
    "duration": 262,
    "start_time": "2023-07-07T19:29:45.329Z"
   },
   {
    "duration": 643,
    "start_time": "2023-07-07T19:29:45.593Z"
   },
   {
    "duration": 205,
    "start_time": "2023-07-07T19:29:46.238Z"
   },
   {
    "duration": 579,
    "start_time": "2023-07-07T19:29:46.445Z"
   },
   {
    "duration": 388,
    "start_time": "2023-07-07T19:29:47.025Z"
   },
   {
    "duration": 706,
    "start_time": "2023-07-07T19:29:47.416Z"
   },
   {
    "duration": 112,
    "start_time": "2023-07-07T19:29:48.124Z"
   },
   {
    "duration": 238,
    "start_time": "2023-07-07T19:29:48.238Z"
   },
   {
    "duration": 82,
    "start_time": "2023-07-07T19:29:48.481Z"
   },
   {
    "duration": 187,
    "start_time": "2023-07-07T19:29:48.564Z"
   },
   {
    "duration": 157,
    "start_time": "2023-07-07T19:29:48.753Z"
   },
   {
    "duration": 289,
    "start_time": "2023-07-07T19:29:48.911Z"
   },
   {
    "duration": 15,
    "start_time": "2023-07-07T19:29:49.203Z"
   },
   {
    "duration": 35,
    "start_time": "2023-07-07T19:29:49.220Z"
   },
   {
    "duration": 17,
    "start_time": "2023-07-07T19:29:49.257Z"
   },
   {
    "duration": 62,
    "start_time": "2023-07-07T19:29:49.276Z"
   },
   {
    "duration": 17,
    "start_time": "2023-07-07T19:29:49.340Z"
   },
   {
    "duration": 161,
    "start_time": "2023-07-07T19:29:49.359Z"
   },
   {
    "duration": 10,
    "start_time": "2023-07-07T19:29:49.522Z"
   },
   {
    "duration": 24,
    "start_time": "2023-07-07T19:29:49.533Z"
   },
   {
    "duration": 56,
    "start_time": "2023-07-07T19:29:49.560Z"
   },
   {
    "duration": 23,
    "start_time": "2023-07-07T19:29:49.618Z"
   },
   {
    "duration": 38,
    "start_time": "2023-07-07T19:29:49.643Z"
   },
   {
    "duration": 44,
    "start_time": "2023-07-07T19:29:49.683Z"
   },
   {
    "duration": 65,
    "start_time": "2023-07-07T19:29:49.730Z"
   },
   {
    "duration": 188,
    "start_time": "2023-07-07T19:29:49.797Z"
   },
   {
    "duration": 14,
    "start_time": "2023-07-07T19:29:49.988Z"
   },
   {
    "duration": 22,
    "start_time": "2023-07-07T19:29:50.004Z"
   },
   {
    "duration": 28,
    "start_time": "2023-07-07T19:29:50.028Z"
   },
   {
    "duration": 57,
    "start_time": "2023-07-07T19:29:50.058Z"
   },
   {
    "duration": 30,
    "start_time": "2023-07-07T19:29:50.118Z"
   },
   {
    "duration": 225,
    "start_time": "2023-07-07T19:29:50.151Z"
   },
   {
    "duration": 43,
    "start_time": "2023-07-07T19:29:50.378Z"
   },
   {
    "duration": 25,
    "start_time": "2023-07-07T19:29:50.423Z"
   },
   {
    "duration": 19,
    "start_time": "2023-07-07T19:29:50.450Z"
   },
   {
    "duration": 1507,
    "start_time": "2023-07-07T19:29:50.471Z"
   },
   {
    "duration": 15,
    "start_time": "2023-07-07T19:29:51.981Z"
   },
   {
    "duration": 398,
    "start_time": "2023-07-07T19:29:51.998Z"
   },
   {
    "duration": 19,
    "start_time": "2023-07-07T19:29:52.398Z"
   },
   {
    "duration": 12,
    "start_time": "2023-07-07T19:29:52.419Z"
   },
   {
    "duration": 89,
    "start_time": "2023-07-07T19:29:52.433Z"
   },
   {
    "duration": 13,
    "start_time": "2023-07-07T19:29:52.524Z"
   },
   {
    "duration": 7,
    "start_time": "2023-07-07T19:29:52.539Z"
   },
   {
    "duration": 45,
    "start_time": "2023-07-07T19:29:52.549Z"
   },
   {
    "duration": 2292,
    "start_time": "2023-07-07T19:30:43.508Z"
   },
   {
    "duration": 2231,
    "start_time": "2023-07-07T19:30:45.802Z"
   },
   {
    "duration": 2802,
    "start_time": "2023-07-07T19:30:48.035Z"
   },
   {
    "duration": 2835,
    "start_time": "2023-07-07T19:30:50.839Z"
   },
   {
    "duration": 19,
    "start_time": "2023-07-07T19:30:53.676Z"
   },
   {
    "duration": 122,
    "start_time": "2023-07-07T19:30:53.697Z"
   },
   {
    "duration": 55,
    "start_time": "2023-07-07T19:30:53.821Z"
   },
   {
    "duration": 4,
    "start_time": "2023-07-07T19:30:53.878Z"
   },
   {
    "duration": 70,
    "start_time": "2023-07-07T19:30:53.884Z"
   },
   {
    "duration": 23,
    "start_time": "2023-07-07T19:30:53.955Z"
   },
   {
    "duration": 1291,
    "start_time": "2023-07-07T19:30:53.980Z"
   },
   {
    "duration": 102,
    "start_time": "2023-07-07T19:30:55.272Z"
   },
   {
    "duration": 234,
    "start_time": "2023-07-07T19:30:55.377Z"
   },
   {
    "duration": 3,
    "start_time": "2023-07-07T19:30:55.616Z"
   },
   {
    "duration": 150,
    "start_time": "2023-07-07T19:30:55.622Z"
   },
   {
    "duration": 20,
    "start_time": "2023-07-07T19:30:55.774Z"
   },
   {
    "duration": 37,
    "start_time": "2023-07-07T19:30:55.796Z"
   },
   {
    "duration": 38,
    "start_time": "2023-07-07T19:30:55.835Z"
   },
   {
    "duration": 95,
    "start_time": "2023-07-07T19:30:55.875Z"
   },
   {
    "duration": 684,
    "start_time": "2023-07-07T19:30:55.972Z"
   },
   {
    "duration": 1287,
    "start_time": "2023-07-07T19:30:56.657Z"
   },
   {
    "duration": 480,
    "start_time": "2023-07-07T19:30:57.946Z"
   },
   {
    "duration": 199,
    "start_time": "2023-07-07T19:30:58.428Z"
   },
   {
    "duration": 3,
    "start_time": "2023-07-07T19:30:58.630Z"
   },
   {
    "duration": 104,
    "start_time": "2023-07-07T19:30:58.635Z"
   },
   {
    "duration": 4,
    "start_time": "2023-07-07T19:30:58.741Z"
   },
   {
    "duration": 272,
    "start_time": "2023-07-07T19:30:58.747Z"
   },
   {
    "duration": 481,
    "start_time": "2023-07-07T19:30:59.021Z"
   },
   {
    "duration": 125,
    "start_time": "2023-07-07T19:30:59.504Z"
   },
   {
    "duration": 330,
    "start_time": "2023-07-07T19:30:59.631Z"
   },
   {
    "duration": 266,
    "start_time": "2023-07-07T19:30:59.962Z"
   },
   {
    "duration": 175,
    "start_time": "2023-07-07T19:31:00.231Z"
   },
   {
    "duration": 256,
    "start_time": "2023-07-07T19:31:00.408Z"
   },
   {
    "duration": 435,
    "start_time": "2023-07-07T19:31:00.666Z"
   },
   {
    "duration": 101,
    "start_time": "2023-07-07T19:31:01.104Z"
   },
   {
    "duration": 240,
    "start_time": "2023-07-07T19:31:01.206Z"
   },
   {
    "duration": 206,
    "start_time": "2023-07-07T19:31:01.447Z"
   },
   {
    "duration": 390,
    "start_time": "2023-07-07T19:31:01.655Z"
   },
   {
    "duration": 90,
    "start_time": "2023-07-07T19:31:02.047Z"
   },
   {
    "duration": 225,
    "start_time": "2023-07-07T19:31:02.139Z"
   },
   {
    "duration": 81,
    "start_time": "2023-07-07T19:31:02.369Z"
   },
   {
    "duration": 302,
    "start_time": "2023-07-07T19:31:02.452Z"
   },
   {
    "duration": 153,
    "start_time": "2023-07-07T19:31:02.755Z"
   },
   {
    "duration": 167,
    "start_time": "2023-07-07T19:31:02.913Z"
   },
   {
    "duration": 13,
    "start_time": "2023-07-07T19:31:03.082Z"
   },
   {
    "duration": 42,
    "start_time": "2023-07-07T19:31:03.097Z"
   },
   {
    "duration": 20,
    "start_time": "2023-07-07T19:31:03.141Z"
   },
   {
    "duration": 65,
    "start_time": "2023-07-07T19:31:03.164Z"
   },
   {
    "duration": 19,
    "start_time": "2023-07-07T19:31:03.231Z"
   },
   {
    "duration": 172,
    "start_time": "2023-07-07T19:31:03.252Z"
   },
   {
    "duration": 11,
    "start_time": "2023-07-07T19:31:03.427Z"
   },
   {
    "duration": 14,
    "start_time": "2023-07-07T19:31:03.440Z"
   },
   {
    "duration": 69,
    "start_time": "2023-07-07T19:31:03.456Z"
   },
   {
    "duration": 18,
    "start_time": "2023-07-07T19:31:03.527Z"
   },
   {
    "duration": 102,
    "start_time": "2023-07-07T19:31:03.547Z"
   },
   {
    "duration": 21,
    "start_time": "2023-07-07T19:31:03.651Z"
   },
   {
    "duration": 70,
    "start_time": "2023-07-07T19:31:03.674Z"
   },
   {
    "duration": 185,
    "start_time": "2023-07-07T19:31:03.746Z"
   },
   {
    "duration": 15,
    "start_time": "2023-07-07T19:31:03.932Z"
   },
   {
    "duration": 18,
    "start_time": "2023-07-07T19:31:03.949Z"
   },
   {
    "duration": 9,
    "start_time": "2023-07-07T19:31:03.970Z"
   },
   {
    "duration": 57,
    "start_time": "2023-07-07T19:31:03.982Z"
   },
   {
    "duration": 29,
    "start_time": "2023-07-07T19:31:04.041Z"
   },
   {
    "duration": 206,
    "start_time": "2023-07-07T19:31:04.072Z"
   },
   {
    "duration": 40,
    "start_time": "2023-07-07T19:31:04.281Z"
   },
   {
    "duration": 32,
    "start_time": "2023-07-07T19:31:04.323Z"
   },
   {
    "duration": 17,
    "start_time": "2023-07-07T19:31:04.357Z"
   },
   {
    "duration": 1743,
    "start_time": "2023-07-07T19:31:04.376Z"
   },
   {
    "duration": 22,
    "start_time": "2023-07-07T19:31:06.121Z"
   },
   {
    "duration": 489,
    "start_time": "2023-07-07T19:31:06.145Z"
   },
   {
    "duration": 17,
    "start_time": "2023-07-07T19:31:06.635Z"
   },
   {
    "duration": 11,
    "start_time": "2023-07-07T19:31:06.654Z"
   },
   {
    "duration": 90,
    "start_time": "2023-07-07T19:31:06.667Z"
   },
   {
    "duration": 13,
    "start_time": "2023-07-07T19:31:06.759Z"
   },
   {
    "duration": 8,
    "start_time": "2023-07-07T19:31:06.774Z"
   },
   {
    "duration": 34,
    "start_time": "2023-07-07T19:31:06.784Z"
   },
   {
    "duration": 53349,
    "start_time": "2023-07-07T19:31:06.820Z"
   },
   {
    "duration": 25,
    "start_time": "2023-07-07T19:32:00.171Z"
   },
   {
    "duration": 236,
    "start_time": "2023-07-07T19:32:00.198Z"
   },
   {
    "duration": 122,
    "start_time": "2023-07-07T19:32:00.436Z"
   },
   {
    "duration": 85001,
    "start_time": "2023-07-07T19:32:09.801Z"
   },
   {
    "duration": 2043613,
    "start_time": "2023-07-07T19:33:42.602Z"
   },
   {
    "duration": 104,
    "start_time": "2023-07-07T20:09:38.359Z"
   },
   {
    "duration": 5,
    "start_time": "2023-07-07T20:09:45.199Z"
   },
   {
    "duration": 2660,
    "start_time": "2023-07-07T20:10:04.556Z"
   },
   {
    "duration": 19709,
    "start_time": "2023-07-07T20:11:23.852Z"
   },
   {
    "duration": 96139,
    "start_time": "2023-07-07T20:11:59.106Z"
   },
   {
    "duration": 39585,
    "start_time": "2023-07-07T20:13:56.684Z"
   },
   {
    "duration": 141051,
    "start_time": "2023-07-07T20:16:50.504Z"
   },
   {
    "duration": 199469,
    "start_time": "2023-07-07T20:20:03.250Z"
   },
   {
    "duration": 89,
    "start_time": "2023-07-07T20:26:46.559Z"
   },
   {
    "duration": 7,
    "start_time": "2023-07-07T20:26:55.848Z"
   },
   {
    "duration": 267787,
    "start_time": "2023-07-07T20:27:01.089Z"
   },
   {
    "duration": 7,
    "start_time": "2023-07-07T20:31:49.797Z"
   },
   {
    "duration": 192343,
    "start_time": "2023-07-07T20:33:08.904Z"
   },
   {
    "duration": 4,
    "start_time": "2023-07-07T20:38:41.296Z"
   },
   {
    "duration": 2492,
    "start_time": "2023-07-08T07:42:43.723Z"
   },
   {
    "duration": 5516,
    "start_time": "2023-07-08T07:42:54.874Z"
   },
   {
    "duration": 2607,
    "start_time": "2023-07-08T07:43:00.393Z"
   },
   {
    "duration": 377,
    "start_time": "2023-07-08T07:43:08.046Z"
   },
   {
    "duration": 2465,
    "start_time": "2023-07-08T07:43:21.897Z"
   },
   {
    "duration": 2440,
    "start_time": "2023-07-08T07:43:24.365Z"
   },
   {
    "duration": 5,
    "start_time": "2023-07-08T07:43:26.808Z"
   },
   {
    "duration": 3509,
    "start_time": "2023-07-08T07:43:26.814Z"
   },
   {
    "duration": 22,
    "start_time": "2023-07-08T07:43:30.325Z"
   },
   {
    "duration": 178,
    "start_time": "2023-07-08T07:43:30.349Z"
   },
   {
    "duration": 58,
    "start_time": "2023-07-08T07:43:30.529Z"
   },
   {
    "duration": 7,
    "start_time": "2023-07-08T07:43:30.590Z"
   },
   {
    "duration": 111,
    "start_time": "2023-07-08T07:43:30.599Z"
   },
   {
    "duration": 14,
    "start_time": "2023-07-08T07:43:30.712Z"
   },
   {
    "duration": 1466,
    "start_time": "2023-07-08T07:43:30.728Z"
   },
   {
    "duration": 143,
    "start_time": "2023-07-08T07:43:32.196Z"
   },
   {
    "duration": 270,
    "start_time": "2023-07-08T07:43:32.342Z"
   },
   {
    "duration": 4,
    "start_time": "2023-07-08T07:43:32.615Z"
   },
   {
    "duration": 138,
    "start_time": "2023-07-08T07:43:32.621Z"
   },
   {
    "duration": 28,
    "start_time": "2023-07-08T07:43:32.761Z"
   },
   {
    "duration": 32,
    "start_time": "2023-07-08T07:43:32.791Z"
   },
   {
    "duration": 47,
    "start_time": "2023-07-08T07:43:32.825Z"
   },
   {
    "duration": 70,
    "start_time": "2023-07-08T07:43:32.877Z"
   },
   {
    "duration": 782,
    "start_time": "2023-07-08T07:43:32.949Z"
   },
   {
    "duration": 1441,
    "start_time": "2023-07-08T07:43:33.733Z"
   },
   {
    "duration": 469,
    "start_time": "2023-07-08T07:43:35.176Z"
   },
   {
    "duration": 203,
    "start_time": "2023-07-08T07:43:35.648Z"
   },
   {
    "duration": 8,
    "start_time": "2023-07-08T07:43:35.853Z"
   },
   {
    "duration": 110,
    "start_time": "2023-07-08T07:43:35.863Z"
   },
   {
    "duration": 12,
    "start_time": "2023-07-08T07:43:35.975Z"
   },
   {
    "duration": 242,
    "start_time": "2023-07-08T07:43:35.989Z"
   },
   {
    "duration": 463,
    "start_time": "2023-07-08T07:43:36.233Z"
   },
   {
    "duration": 116,
    "start_time": "2023-07-08T07:43:36.698Z"
   },
   {
    "duration": 279,
    "start_time": "2023-07-08T07:43:36.816Z"
   },
   {
    "duration": 244,
    "start_time": "2023-07-08T07:43:37.097Z"
   },
   {
    "duration": 179,
    "start_time": "2023-07-08T07:43:37.343Z"
   },
   {
    "duration": 239,
    "start_time": "2023-07-08T07:43:37.524Z"
   },
   {
    "duration": 420,
    "start_time": "2023-07-08T07:43:37.768Z"
   },
   {
    "duration": 100,
    "start_time": "2023-07-08T07:43:38.190Z"
   },
   {
    "duration": 242,
    "start_time": "2023-07-08T07:43:38.292Z"
   },
   {
    "duration": 208,
    "start_time": "2023-07-08T07:43:38.536Z"
   },
   {
    "duration": 430,
    "start_time": "2023-07-08T07:43:38.746Z"
   },
   {
    "duration": 125,
    "start_time": "2023-07-08T07:43:39.178Z"
   },
   {
    "duration": 205,
    "start_time": "2023-07-08T07:43:39.305Z"
   },
   {
    "duration": 83,
    "start_time": "2023-07-08T07:43:39.517Z"
   },
   {
    "duration": 325,
    "start_time": "2023-07-08T07:43:39.602Z"
   },
   {
    "duration": 165,
    "start_time": "2023-07-08T07:43:39.929Z"
   },
   {
    "duration": 181,
    "start_time": "2023-07-08T07:43:40.095Z"
   },
   {
    "duration": 17,
    "start_time": "2023-07-08T07:43:40.277Z"
   },
   {
    "duration": 34,
    "start_time": "2023-07-08T07:43:40.296Z"
   },
   {
    "duration": 42,
    "start_time": "2023-07-08T07:43:40.332Z"
   },
   {
    "duration": 45,
    "start_time": "2023-07-08T07:43:40.378Z"
   },
   {
    "duration": 19,
    "start_time": "2023-07-08T07:43:40.425Z"
   },
   {
    "duration": 163,
    "start_time": "2023-07-08T07:43:40.458Z"
   },
   {
    "duration": 11,
    "start_time": "2023-07-08T07:43:40.623Z"
   },
   {
    "duration": 38,
    "start_time": "2023-07-08T07:43:40.635Z"
   },
   {
    "duration": 37,
    "start_time": "2023-07-08T07:43:40.674Z"
   },
   {
    "duration": 16,
    "start_time": "2023-07-08T07:43:40.713Z"
   },
   {
    "duration": 48,
    "start_time": "2023-07-08T07:43:40.731Z"
   },
   {
    "duration": 17,
    "start_time": "2023-07-08T07:43:40.781Z"
   },
   {
    "duration": 75,
    "start_time": "2023-07-08T07:43:40.800Z"
   },
   {
    "duration": 148,
    "start_time": "2023-07-08T07:43:40.877Z"
   },
   {
    "duration": 13,
    "start_time": "2023-07-08T07:43:41.027Z"
   },
   {
    "duration": 31,
    "start_time": "2023-07-08T07:43:41.042Z"
   },
   {
    "duration": 12,
    "start_time": "2023-07-08T07:43:41.075Z"
   },
   {
    "duration": 35,
    "start_time": "2023-07-08T07:43:41.088Z"
   },
   {
    "duration": 58,
    "start_time": "2023-07-08T07:43:41.125Z"
   },
   {
    "duration": 190,
    "start_time": "2023-07-08T07:43:41.185Z"
   },
   {
    "duration": 30,
    "start_time": "2023-07-08T07:43:41.376Z"
   },
   {
    "duration": 30,
    "start_time": "2023-07-08T07:43:41.408Z"
   },
   {
    "duration": 39,
    "start_time": "2023-07-08T07:43:41.440Z"
   },
   {
    "duration": 1714,
    "start_time": "2023-07-08T07:43:41.483Z"
   },
   {
    "duration": 17,
    "start_time": "2023-07-08T07:43:43.199Z"
   },
   {
    "duration": 443,
    "start_time": "2023-07-08T07:43:43.218Z"
   },
   {
    "duration": 17,
    "start_time": "2023-07-08T07:43:43.674Z"
   },
   {
    "duration": 11,
    "start_time": "2023-07-08T07:43:43.693Z"
   },
   {
    "duration": 94,
    "start_time": "2023-07-08T07:43:43.706Z"
   },
   {
    "duration": 13,
    "start_time": "2023-07-08T07:43:43.802Z"
   },
   {
    "duration": 7,
    "start_time": "2023-07-08T07:43:43.817Z"
   },
   {
    "duration": 46,
    "start_time": "2023-07-08T07:43:43.826Z"
   },
   {
    "duration": 30,
    "start_time": "2023-07-08T07:43:43.874Z"
   },
   {
    "duration": 0,
    "start_time": "2023-07-08T07:43:43.905Z"
   },
   {
    "duration": 0,
    "start_time": "2023-07-08T07:43:43.906Z"
   },
   {
    "duration": 0,
    "start_time": "2023-07-08T07:43:43.907Z"
   },
   {
    "duration": 0,
    "start_time": "2023-07-08T07:43:43.908Z"
   },
   {
    "duration": 41,
    "start_time": "2023-07-08T07:44:07.826Z"
   },
   {
    "duration": 945,
    "start_time": "2023-07-08T07:44:20.332Z"
   },
   {
    "duration": 60865,
    "start_time": "2023-07-08T07:44:37.174Z"
   },
   {
    "duration": 58,
    "start_time": "2023-07-08T07:46:13.441Z"
   },
   {
    "duration": 228,
    "start_time": "2023-07-08T07:46:14.724Z"
   },
   {
    "duration": 146,
    "start_time": "2023-07-08T07:46:17.478Z"
   },
   {
    "duration": 692053,
    "start_time": "2023-07-08T07:46:28.215Z"
   },
   {
    "duration": 14,
    "start_time": "2023-07-08T08:05:54.473Z"
   },
   {
    "duration": 176571,
    "start_time": "2023-07-08T08:06:00.004Z"
   },
   {
    "duration": 109928,
    "start_time": "2023-07-08T08:21:39.241Z"
   },
   {
    "duration": 5,
    "start_time": "2023-07-08T08:27:56.675Z"
   },
   {
    "duration": 4,
    "start_time": "2023-07-08T08:31:21.621Z"
   },
   {
    "duration": 367,
    "start_time": "2023-07-08T08:32:30.653Z"
   },
   {
    "duration": 18,
    "start_time": "2023-07-08T08:33:24.854Z"
   },
   {
    "duration": 11372,
    "start_time": "2023-07-08T08:33:30.682Z"
   },
   {
    "duration": 8,
    "start_time": "2023-07-08T08:36:48.579Z"
   },
   {
    "duration": 9,
    "start_time": "2023-07-08T08:36:53.081Z"
   },
   {
    "duration": 34,
    "start_time": "2023-07-08T08:37:42.523Z"
   },
   {
    "duration": 108,
    "start_time": "2023-07-08T08:37:51.628Z"
   },
   {
    "duration": 26,
    "start_time": "2023-07-08T08:37:59.103Z"
   },
   {
    "duration": 363,
    "start_time": "2023-07-08T08:38:06.502Z"
   },
   {
    "duration": 0,
    "start_time": "2023-07-08T08:55:49.803Z"
   },
   {
    "duration": 52518,
    "start_time": "2023-07-08T08:55:53.078Z"
   },
   {
    "duration": 3,
    "start_time": "2023-07-08T08:57:08.907Z"
   },
   {
    "duration": 19,
    "start_time": "2023-07-08T08:57:43.046Z"
   },
   {
    "duration": 9,
    "start_time": "2023-07-08T08:57:46.956Z"
   },
   {
    "duration": 42846,
    "start_time": "2023-07-08T08:58:06.844Z"
   },
   {
    "duration": 4,
    "start_time": "2023-07-08T08:59:00.592Z"
   },
   {
    "duration": 3,
    "start_time": "2023-07-08T08:59:10.137Z"
   },
   {
    "duration": 81916,
    "start_time": "2023-07-08T08:59:11.045Z"
   },
   {
    "duration": 3,
    "start_time": "2023-07-08T09:00:39.804Z"
   },
   {
    "duration": 216619,
    "start_time": "2023-07-08T09:00:41.880Z"
   },
   {
    "duration": 5,
    "start_time": "2023-07-08T09:04:50.946Z"
   },
   {
    "duration": 5,
    "start_time": "2023-07-08T09:05:48.725Z"
   },
   {
    "duration": 2094308,
    "start_time": "2023-07-08T09:07:04.302Z"
   },
   {
    "duration": 3,
    "start_time": "2023-07-08T09:44:03.418Z"
   },
   {
    "duration": 4,
    "start_time": "2023-07-08T09:44:11.384Z"
   },
   {
    "duration": 31,
    "start_time": "2023-07-08T09:44:34.081Z"
   },
   {
    "duration": 11,
    "start_time": "2023-07-08T09:44:41.308Z"
   },
   {
    "duration": 60624,
    "start_time": "2023-07-08T09:44:45.584Z"
   },
   {
    "duration": 79763,
    "start_time": "2023-07-08T09:45:49.828Z"
   },
   {
    "duration": 14,
    "start_time": "2023-07-08T09:50:50.348Z"
   },
   {
    "duration": 22,
    "start_time": "2023-07-08T09:51:03.076Z"
   },
   {
    "duration": 18,
    "start_time": "2023-07-08T09:51:14.383Z"
   },
   {
    "duration": 170,
    "start_time": "2023-07-08T09:51:33.957Z"
   },
   {
    "duration": 6,
    "start_time": "2023-07-08T09:51:38.792Z"
   },
   {
    "duration": 14,
    "start_time": "2023-07-08T09:51:45.179Z"
   },
   {
    "duration": 16,
    "start_time": "2023-07-08T09:51:55.058Z"
   },
   {
    "duration": 37,
    "start_time": "2023-07-08T09:52:27.360Z"
   },
   {
    "duration": 60,
    "start_time": "2023-07-08T09:52:30.917Z"
   },
   {
    "duration": 40675,
    "start_time": "2023-07-08T09:52:55.519Z"
   },
   {
    "duration": 13,
    "start_time": "2023-07-08T09:54:09.198Z"
   },
   {
    "duration": 5,
    "start_time": "2023-07-08T09:54:27.648Z"
   },
   {
    "duration": 15,
    "start_time": "2023-07-08T09:54:56.710Z"
   },
   {
    "duration": 8,
    "start_time": "2023-07-08T09:55:30.309Z"
   },
   {
    "duration": 18,
    "start_time": "2023-07-08T09:55:38.999Z"
   },
   {
    "duration": 21,
    "start_time": "2023-07-08T09:55:52.548Z"
   },
   {
    "duration": 8,
    "start_time": "2023-07-08T10:04:15.249Z"
   },
   {
    "duration": 5,
    "start_time": "2023-07-08T10:05:02.509Z"
   },
   {
    "duration": 17,
    "start_time": "2023-07-08T10:05:06.538Z"
   },
   {
    "duration": 14,
    "start_time": "2023-07-08T10:09:44.840Z"
   },
   {
    "duration": 38,
    "start_time": "2023-07-08T10:09:57.838Z"
   },
   {
    "duration": 31706,
    "start_time": "2023-07-08T10:10:06.997Z"
   },
   {
    "duration": 115843,
    "start_time": "2023-07-08T10:11:12.760Z"
   },
   {
    "duration": 2628,
    "start_time": "2023-07-08T10:17:49.909Z"
   },
   {
    "duration": 2729,
    "start_time": "2023-07-08T10:17:52.540Z"
   },
   {
    "duration": 2112,
    "start_time": "2023-07-08T10:17:55.272Z"
   },
   {
    "duration": 947,
    "start_time": "2023-07-08T10:17:57.386Z"
   },
   {
    "duration": 36,
    "start_time": "2023-07-08T10:17:58.336Z"
   },
   {
    "duration": 176,
    "start_time": "2023-07-08T10:17:58.378Z"
   },
   {
    "duration": 68,
    "start_time": "2023-07-08T10:17:58.556Z"
   },
   {
    "duration": 6,
    "start_time": "2023-07-08T10:17:58.627Z"
   },
   {
    "duration": 71,
    "start_time": "2023-07-08T10:17:58.635Z"
   },
   {
    "duration": 14,
    "start_time": "2023-07-08T10:17:58.709Z"
   },
   {
    "duration": 1544,
    "start_time": "2023-07-08T10:17:58.725Z"
   },
   {
    "duration": 135,
    "start_time": "2023-07-08T10:18:00.270Z"
   },
   {
    "duration": 258,
    "start_time": "2023-07-08T10:18:00.407Z"
   },
   {
    "duration": 9,
    "start_time": "2023-07-08T10:18:00.669Z"
   },
   {
    "duration": 185,
    "start_time": "2023-07-08T10:18:00.686Z"
   },
   {
    "duration": 34,
    "start_time": "2023-07-08T10:18:00.872Z"
   },
   {
    "duration": 32,
    "start_time": "2023-07-08T10:18:00.908Z"
   },
   {
    "duration": 83,
    "start_time": "2023-07-08T10:18:00.942Z"
   },
   {
    "duration": 106,
    "start_time": "2023-07-08T10:18:01.027Z"
   },
   {
    "duration": 881,
    "start_time": "2023-07-08T10:18:01.135Z"
   },
   {
    "duration": 1598,
    "start_time": "2023-07-08T10:18:02.019Z"
   },
   {
    "duration": 538,
    "start_time": "2023-07-08T10:18:03.619Z"
   },
   {
    "duration": 248,
    "start_time": "2023-07-08T10:18:04.189Z"
   },
   {
    "duration": 4,
    "start_time": "2023-07-08T10:18:04.440Z"
   },
   {
    "duration": 163,
    "start_time": "2023-07-08T10:18:04.446Z"
   },
   {
    "duration": 7,
    "start_time": "2023-07-08T10:18:04.611Z"
   },
   {
    "duration": 281,
    "start_time": "2023-07-08T10:18:04.620Z"
   },
   {
    "duration": 494,
    "start_time": "2023-07-08T10:18:04.904Z"
   },
   {
    "duration": 152,
    "start_time": "2023-07-08T10:18:05.406Z"
   },
   {
    "duration": 277,
    "start_time": "2023-07-08T10:18:05.564Z"
   },
   {
    "duration": 264,
    "start_time": "2023-07-08T10:18:05.844Z"
   },
   {
    "duration": 193,
    "start_time": "2023-07-08T10:18:06.110Z"
   },
   {
    "duration": 254,
    "start_time": "2023-07-08T10:18:06.305Z"
   },
   {
    "duration": 472,
    "start_time": "2023-07-08T10:18:06.561Z"
   },
   {
    "duration": 106,
    "start_time": "2023-07-08T10:18:07.036Z"
   },
   {
    "duration": 293,
    "start_time": "2023-07-08T10:18:07.143Z"
   },
   {
    "duration": 283,
    "start_time": "2023-07-08T10:18:07.438Z"
   },
   {
    "duration": 501,
    "start_time": "2023-07-08T10:18:07.723Z"
   },
   {
    "duration": 120,
    "start_time": "2023-07-08T10:18:08.226Z"
   },
   {
    "duration": 233,
    "start_time": "2023-07-08T10:18:08.348Z"
   },
   {
    "duration": 83,
    "start_time": "2023-07-08T10:18:08.587Z"
   },
   {
    "duration": 372,
    "start_time": "2023-07-08T10:18:08.678Z"
   },
   {
    "duration": 212,
    "start_time": "2023-07-08T10:18:09.052Z"
   },
   {
    "duration": 198,
    "start_time": "2023-07-08T10:18:09.266Z"
   },
   {
    "duration": 16,
    "start_time": "2023-07-08T10:18:09.466Z"
   },
   {
    "duration": 56,
    "start_time": "2023-07-08T10:18:09.484Z"
   },
   {
    "duration": 34,
    "start_time": "2023-07-08T10:18:09.543Z"
   },
   {
    "duration": 46,
    "start_time": "2023-07-08T10:18:09.579Z"
   },
   {
    "duration": 40,
    "start_time": "2023-07-08T10:18:09.627Z"
   },
   {
    "duration": 181,
    "start_time": "2023-07-08T10:18:09.670Z"
   },
   {
    "duration": 22,
    "start_time": "2023-07-08T10:18:09.853Z"
   },
   {
    "duration": 17,
    "start_time": "2023-07-08T10:18:09.884Z"
   },
   {
    "duration": 37,
    "start_time": "2023-07-08T10:18:09.902Z"
   },
   {
    "duration": 29,
    "start_time": "2023-07-08T10:18:09.941Z"
   },
   {
    "duration": 41,
    "start_time": "2023-07-08T10:18:09.972Z"
   },
   {
    "duration": 19,
    "start_time": "2023-07-08T10:18:10.015Z"
   },
   {
    "duration": 81,
    "start_time": "2023-07-08T10:18:10.036Z"
   },
   {
    "duration": 218,
    "start_time": "2023-07-08T10:18:10.120Z"
   },
   {
    "duration": 21,
    "start_time": "2023-07-08T10:18:10.340Z"
   },
   {
    "duration": 23,
    "start_time": "2023-07-08T10:18:10.370Z"
   },
   {
    "duration": 6,
    "start_time": "2023-07-08T10:18:10.394Z"
   },
   {
    "duration": 39,
    "start_time": "2023-07-08T10:18:10.402Z"
   },
   {
    "duration": 50,
    "start_time": "2023-07-08T10:18:10.443Z"
   },
   {
    "duration": 198,
    "start_time": "2023-07-08T10:18:10.495Z"
   },
   {
    "duration": 33,
    "start_time": "2023-07-08T10:18:10.695Z"
   },
   {
    "duration": 64,
    "start_time": "2023-07-08T10:18:10.730Z"
   },
   {
    "duration": 18,
    "start_time": "2023-07-08T10:18:10.797Z"
   },
   {
    "duration": 1883,
    "start_time": "2023-07-08T10:18:10.817Z"
   },
   {
    "duration": 23,
    "start_time": "2023-07-08T10:18:12.702Z"
   },
   {
    "duration": 427,
    "start_time": "2023-07-08T10:18:12.727Z"
   },
   {
    "duration": 17,
    "start_time": "2023-07-08T10:18:13.156Z"
   },
   {
    "duration": 29,
    "start_time": "2023-07-08T10:18:13.175Z"
   },
   {
    "duration": 99,
    "start_time": "2023-07-08T10:18:13.207Z"
   },
   {
    "duration": 14,
    "start_time": "2023-07-08T10:18:13.308Z"
   },
   {
    "duration": 9,
    "start_time": "2023-07-08T10:18:13.325Z"
   },
   {
    "duration": 39,
    "start_time": "2023-07-08T10:18:13.337Z"
   },
   {
    "duration": 60413,
    "start_time": "2023-07-08T10:18:13.382Z"
   },
   {
    "duration": 28,
    "start_time": "2023-07-08T10:19:13.797Z"
   },
   {
    "duration": 233,
    "start_time": "2023-07-08T10:19:13.826Z"
   },
   {
    "duration": 157,
    "start_time": "2023-07-08T10:19:14.061Z"
   },
   {
    "duration": 119590,
    "start_time": "2023-07-08T10:19:14.222Z"
   },
   {
    "duration": 2592,
    "start_time": "2023-07-08T10:23:16.607Z"
   },
   {
    "duration": 2716,
    "start_time": "2023-07-08T10:23:19.202Z"
   },
   {
    "duration": 3428,
    "start_time": "2023-07-08T10:23:21.921Z"
   },
   {
    "duration": 1049,
    "start_time": "2023-07-08T10:23:25.351Z"
   },
   {
    "duration": 22,
    "start_time": "2023-07-08T10:23:26.403Z"
   },
   {
    "duration": 164,
    "start_time": "2023-07-08T10:23:26.426Z"
   },
   {
    "duration": 56,
    "start_time": "2023-07-08T10:23:26.593Z"
   },
   {
    "duration": 7,
    "start_time": "2023-07-08T10:23:26.660Z"
   },
   {
    "duration": 72,
    "start_time": "2023-07-08T10:23:26.672Z"
   },
   {
    "duration": 31,
    "start_time": "2023-07-08T10:23:26.747Z"
   },
   {
    "duration": 1501,
    "start_time": "2023-07-08T10:23:26.780Z"
   },
   {
    "duration": 117,
    "start_time": "2023-07-08T10:23:28.284Z"
   },
   {
    "duration": 279,
    "start_time": "2023-07-08T10:23:28.403Z"
   },
   {
    "duration": 3,
    "start_time": "2023-07-08T10:23:28.686Z"
   },
   {
    "duration": 136,
    "start_time": "2023-07-08T10:23:28.692Z"
   },
   {
    "duration": 21,
    "start_time": "2023-07-08T10:23:28.830Z"
   },
   {
    "duration": 40,
    "start_time": "2023-07-08T10:23:28.860Z"
   },
   {
    "duration": 63,
    "start_time": "2023-07-08T10:23:28.903Z"
   },
   {
    "duration": 110,
    "start_time": "2023-07-08T10:23:28.968Z"
   },
   {
    "duration": 872,
    "start_time": "2023-07-08T10:23:29.080Z"
   },
   {
    "duration": 3219,
    "start_time": "2023-07-08T10:23:29.954Z"
   },
   {
    "duration": 543,
    "start_time": "2023-07-08T10:23:33.175Z"
   },
   {
    "duration": 222,
    "start_time": "2023-07-08T10:23:33.720Z"
   },
   {
    "duration": 4,
    "start_time": "2023-07-08T10:23:33.945Z"
   },
   {
    "duration": 152,
    "start_time": "2023-07-08T10:23:33.950Z"
   },
   {
    "duration": 17,
    "start_time": "2023-07-08T10:23:34.104Z"
   },
   {
    "duration": 325,
    "start_time": "2023-07-08T10:23:34.124Z"
   },
   {
    "duration": 469,
    "start_time": "2023-07-08T10:23:34.458Z"
   },
   {
    "duration": 112,
    "start_time": "2023-07-08T10:23:34.928Z"
   },
   {
    "duration": 273,
    "start_time": "2023-07-08T10:23:35.041Z"
   },
   {
    "duration": 264,
    "start_time": "2023-07-08T10:23:35.317Z"
   },
   {
    "duration": 198,
    "start_time": "2023-07-08T10:23:35.583Z"
   },
   {
    "duration": 253,
    "start_time": "2023-07-08T10:23:35.784Z"
   },
   {
    "duration": 473,
    "start_time": "2023-07-08T10:23:36.039Z"
   },
   {
    "duration": 111,
    "start_time": "2023-07-08T10:23:36.514Z"
   },
   {
    "duration": 279,
    "start_time": "2023-07-08T10:23:36.628Z"
   },
   {
    "duration": 236,
    "start_time": "2023-07-08T10:23:36.909Z"
   },
   {
    "duration": 507,
    "start_time": "2023-07-08T10:23:37.147Z"
   },
   {
    "duration": 127,
    "start_time": "2023-07-08T10:23:37.655Z"
   },
   {
    "duration": 217,
    "start_time": "2023-07-08T10:23:37.789Z"
   },
   {
    "duration": 104,
    "start_time": "2023-07-08T10:23:38.012Z"
   },
   {
    "duration": 453,
    "start_time": "2023-07-08T10:23:38.118Z"
   },
   {
    "duration": 237,
    "start_time": "2023-07-08T10:23:38.576Z"
   },
   {
    "duration": 253,
    "start_time": "2023-07-08T10:23:38.815Z"
   },
   {
    "duration": 18,
    "start_time": "2023-07-08T10:23:39.069Z"
   },
   {
    "duration": 44,
    "start_time": "2023-07-08T10:23:39.090Z"
   },
   {
    "duration": 71,
    "start_time": "2023-07-08T10:23:39.136Z"
   },
   {
    "duration": 43,
    "start_time": "2023-07-08T10:23:39.210Z"
   },
   {
    "duration": 26,
    "start_time": "2023-07-08T10:23:39.255Z"
   },
   {
    "duration": 197,
    "start_time": "2023-07-08T10:23:39.286Z"
   },
   {
    "duration": 13,
    "start_time": "2023-07-08T10:23:39.485Z"
   },
   {
    "duration": 13,
    "start_time": "2023-07-08T10:23:39.502Z"
   },
   {
    "duration": 70,
    "start_time": "2023-07-08T10:23:39.516Z"
   },
   {
    "duration": 20,
    "start_time": "2023-07-08T10:23:39.588Z"
   },
   {
    "duration": 38,
    "start_time": "2023-07-08T10:23:39.609Z"
   },
   {
    "duration": 34,
    "start_time": "2023-07-08T10:23:39.663Z"
   },
   {
    "duration": 67,
    "start_time": "2023-07-08T10:23:39.700Z"
   },
   {
    "duration": 217,
    "start_time": "2023-07-08T10:23:39.769Z"
   },
   {
    "duration": 18,
    "start_time": "2023-07-08T10:23:39.991Z"
   },
   {
    "duration": 18,
    "start_time": "2023-07-08T10:23:40.012Z"
   },
   {
    "duration": 21,
    "start_time": "2023-07-08T10:23:40.032Z"
   },
   {
    "duration": 44,
    "start_time": "2023-07-08T10:23:40.055Z"
   },
   {
    "duration": 30,
    "start_time": "2023-07-08T10:23:40.101Z"
   },
   {
    "duration": 231,
    "start_time": "2023-07-08T10:23:40.133Z"
   },
   {
    "duration": 39,
    "start_time": "2023-07-08T10:23:40.368Z"
   },
   {
    "duration": 30,
    "start_time": "2023-07-08T10:23:40.409Z"
   },
   {
    "duration": 45,
    "start_time": "2023-07-08T10:23:40.442Z"
   },
   {
    "duration": 1895,
    "start_time": "2023-07-08T10:23:40.488Z"
   },
   {
    "duration": 20,
    "start_time": "2023-07-08T10:23:42.384Z"
   },
   {
    "duration": 494,
    "start_time": "2023-07-08T10:23:42.406Z"
   },
   {
    "duration": 22,
    "start_time": "2023-07-08T10:23:42.902Z"
   },
   {
    "duration": 16,
    "start_time": "2023-07-08T10:23:42.926Z"
   },
   {
    "duration": 118,
    "start_time": "2023-07-08T10:23:42.945Z"
   },
   {
    "duration": 19,
    "start_time": "2023-07-08T10:23:43.069Z"
   },
   {
    "duration": 10,
    "start_time": "2023-07-08T10:23:43.093Z"
   },
   {
    "duration": 14,
    "start_time": "2023-07-08T10:23:43.105Z"
   },
   {
    "duration": 66586,
    "start_time": "2023-07-08T10:23:43.121Z"
   },
   {
    "duration": 25,
    "start_time": "2023-07-08T10:24:49.710Z"
   },
   {
    "duration": 242,
    "start_time": "2023-07-08T10:24:49.737Z"
   },
   {
    "duration": 139,
    "start_time": "2023-07-08T10:24:49.981Z"
   },
   {
    "duration": 2760,
    "start_time": "2023-07-08T10:33:28.320Z"
   },
   {
    "duration": 2839,
    "start_time": "2023-07-08T10:33:31.086Z"
   },
   {
    "duration": 2174,
    "start_time": "2023-07-08T10:33:33.928Z"
   },
   {
    "duration": 1053,
    "start_time": "2023-07-08T10:33:36.104Z"
   },
   {
    "duration": 34,
    "start_time": "2023-07-08T10:33:37.161Z"
   },
   {
    "duration": 142,
    "start_time": "2023-07-08T10:33:37.200Z"
   },
   {
    "duration": 67,
    "start_time": "2023-07-08T10:33:37.344Z"
   },
   {
    "duration": 4,
    "start_time": "2023-07-08T10:33:37.413Z"
   },
   {
    "duration": 86,
    "start_time": "2023-07-08T10:33:37.418Z"
   },
   {
    "duration": 21,
    "start_time": "2023-07-08T10:33:37.506Z"
   },
   {
    "duration": 1518,
    "start_time": "2023-07-08T10:33:37.529Z"
   },
   {
    "duration": 178,
    "start_time": "2023-07-08T10:33:39.049Z"
   },
   {
    "duration": 288,
    "start_time": "2023-07-08T10:33:39.229Z"
   },
   {
    "duration": 5,
    "start_time": "2023-07-08T10:33:39.521Z"
   },
   {
    "duration": 186,
    "start_time": "2023-07-08T10:33:39.528Z"
   },
   {
    "duration": 20,
    "start_time": "2023-07-08T10:33:39.716Z"
   },
   {
    "duration": 45,
    "start_time": "2023-07-08T10:33:39.738Z"
   },
   {
    "duration": 41,
    "start_time": "2023-07-08T10:33:39.788Z"
   },
   {
    "duration": 108,
    "start_time": "2023-07-08T10:33:39.831Z"
   },
   {
    "duration": 833,
    "start_time": "2023-07-08T10:33:39.941Z"
   },
   {
    "duration": 1479,
    "start_time": "2023-07-08T10:33:40.776Z"
   },
   {
    "duration": 545,
    "start_time": "2023-07-08T10:33:42.261Z"
   },
   {
    "duration": 233,
    "start_time": "2023-07-08T10:33:42.808Z"
   },
   {
    "duration": 5,
    "start_time": "2023-07-08T10:33:43.044Z"
   },
   {
    "duration": 131,
    "start_time": "2023-07-08T10:33:43.051Z"
   },
   {
    "duration": 11,
    "start_time": "2023-07-08T10:33:43.184Z"
   },
   {
    "duration": 313,
    "start_time": "2023-07-08T10:33:43.197Z"
   },
   {
    "duration": 519,
    "start_time": "2023-07-08T10:33:43.512Z"
   },
   {
    "duration": 158,
    "start_time": "2023-07-08T10:33:44.033Z"
   },
   {
    "duration": 286,
    "start_time": "2023-07-08T10:33:44.200Z"
   },
   {
    "duration": 261,
    "start_time": "2023-07-08T10:33:44.487Z"
   },
   {
    "duration": 189,
    "start_time": "2023-07-08T10:33:44.750Z"
   },
   {
    "duration": 296,
    "start_time": "2023-07-08T10:33:44.942Z"
   },
   {
    "duration": 545,
    "start_time": "2023-07-08T10:33:45.240Z"
   },
   {
    "duration": 118,
    "start_time": "2023-07-08T10:33:45.791Z"
   },
   {
    "duration": 265,
    "start_time": "2023-07-08T10:33:45.911Z"
   },
   {
    "duration": 234,
    "start_time": "2023-07-08T10:33:46.178Z"
   },
   {
    "duration": 488,
    "start_time": "2023-07-08T10:33:46.415Z"
   },
   {
    "duration": 128,
    "start_time": "2023-07-08T10:33:46.906Z"
   },
   {
    "duration": 209,
    "start_time": "2023-07-08T10:33:47.037Z"
   },
   {
    "duration": 84,
    "start_time": "2023-07-08T10:33:47.250Z"
   },
   {
    "duration": 360,
    "start_time": "2023-07-08T10:33:47.336Z"
   },
   {
    "duration": 191,
    "start_time": "2023-07-08T10:33:47.698Z"
   },
   {
    "duration": 204,
    "start_time": "2023-07-08T10:33:47.891Z"
   },
   {
    "duration": 17,
    "start_time": "2023-07-08T10:33:48.098Z"
   },
   {
    "duration": 49,
    "start_time": "2023-07-08T10:33:48.118Z"
   },
   {
    "duration": 26,
    "start_time": "2023-07-08T10:33:48.177Z"
   },
   {
    "duration": 41,
    "start_time": "2023-07-08T10:33:48.205Z"
   },
   {
    "duration": 33,
    "start_time": "2023-07-08T10:33:48.248Z"
   },
   {
    "duration": 177,
    "start_time": "2023-07-08T10:33:48.282Z"
   },
   {
    "duration": 15,
    "start_time": "2023-07-08T10:33:48.460Z"
   },
   {
    "duration": 19,
    "start_time": "2023-07-08T10:33:48.477Z"
   },
   {
    "duration": 39,
    "start_time": "2023-07-08T10:33:48.498Z"
   },
   {
    "duration": 47,
    "start_time": "2023-07-08T10:33:48.538Z"
   },
   {
    "duration": 38,
    "start_time": "2023-07-08T10:33:48.588Z"
   },
   {
    "duration": 32,
    "start_time": "2023-07-08T10:33:48.628Z"
   },
   {
    "duration": 62,
    "start_time": "2023-07-08T10:33:48.662Z"
   },
   {
    "duration": 180,
    "start_time": "2023-07-08T10:33:48.726Z"
   },
   {
    "duration": 14,
    "start_time": "2023-07-08T10:33:48.908Z"
   },
   {
    "duration": 22,
    "start_time": "2023-07-08T10:33:48.924Z"
   },
   {
    "duration": 26,
    "start_time": "2023-07-08T10:33:48.948Z"
   },
   {
    "duration": 50,
    "start_time": "2023-07-08T10:33:48.977Z"
   },
   {
    "duration": 36,
    "start_time": "2023-07-08T10:33:49.029Z"
   },
   {
    "duration": 229,
    "start_time": "2023-07-08T10:33:49.077Z"
   },
   {
    "duration": 40,
    "start_time": "2023-07-08T10:33:49.308Z"
   },
   {
    "duration": 38,
    "start_time": "2023-07-08T10:33:49.368Z"
   },
   {
    "duration": 19,
    "start_time": "2023-07-08T10:33:49.408Z"
   },
   {
    "duration": 1890,
    "start_time": "2023-07-08T10:33:49.429Z"
   },
   {
    "duration": 29,
    "start_time": "2023-07-08T10:33:51.322Z"
   },
   {
    "duration": 448,
    "start_time": "2023-07-08T10:33:51.367Z"
   },
   {
    "duration": 18,
    "start_time": "2023-07-08T10:33:51.817Z"
   },
   {
    "duration": 41,
    "start_time": "2023-07-08T10:33:51.837Z"
   },
   {
    "duration": 156,
    "start_time": "2023-07-08T10:33:51.885Z"
   },
   {
    "duration": 20,
    "start_time": "2023-07-08T10:36:58.259Z"
   },
   {
    "duration": 10,
    "start_time": "2023-07-08T10:37:04.203Z"
   },
   {
    "duration": 19,
    "start_time": "2023-07-08T10:40:35.437Z"
   },
   {
    "duration": 3,
    "start_time": "2023-07-08T10:43:10.088Z"
   },
   {
    "duration": 154,
    "start_time": "2023-07-08T10:47:01.300Z"
   },
   {
    "duration": 5,
    "start_time": "2023-07-08T10:50:20.109Z"
   },
   {
    "duration": 16,
    "start_time": "2023-07-08T10:50:24.038Z"
   },
   {
    "duration": 5,
    "start_time": "2023-07-08T10:50:32.589Z"
   },
   {
    "duration": 21,
    "start_time": "2023-07-08T10:50:40.389Z"
   },
   {
    "duration": 16,
    "start_time": "2023-07-08T10:52:37.910Z"
   },
   {
    "duration": 4,
    "start_time": "2023-07-08T10:52:45.399Z"
   },
   {
    "duration": 19,
    "start_time": "2023-07-08T10:52:45.620Z"
   },
   {
    "duration": 6,
    "start_time": "2023-07-08T10:53:53.689Z"
   },
   {
    "duration": 49,
    "start_time": "2023-07-08T10:54:31.030Z"
   },
   {
    "duration": 21,
    "start_time": "2023-07-08T10:54:56.939Z"
   },
   {
    "duration": 27,
    "start_time": "2023-07-08T10:55:24.281Z"
   },
   {
    "duration": 1219,
    "start_time": "2023-07-08T10:55:33.828Z"
   },
   {
    "duration": 537,
    "start_time": "2023-07-08T10:55:54.381Z"
   },
   {
    "duration": 397,
    "start_time": "2023-07-08T10:56:01.788Z"
   },
   {
    "duration": 1161,
    "start_time": "2023-07-08T10:56:07.099Z"
   },
   {
    "duration": 1245,
    "start_time": "2023-07-08T10:56:12.091Z"
   },
   {
    "duration": 1354,
    "start_time": "2023-07-08T10:56:22.428Z"
   },
   {
    "duration": 1338,
    "start_time": "2023-07-08T10:57:29.384Z"
   },
   {
    "duration": 15,
    "start_time": "2023-07-08T10:58:53.328Z"
   },
   {
    "duration": 3,
    "start_time": "2023-07-08T10:59:00.938Z"
   },
   {
    "duration": 13,
    "start_time": "2023-07-08T10:59:26.885Z"
   },
   {
    "duration": 59,
    "start_time": "2023-07-08T11:00:10.358Z"
   },
   {
    "duration": 37,
    "start_time": "2023-07-08T11:00:27.659Z"
   },
   {
    "duration": 13,
    "start_time": "2023-07-08T11:00:40.429Z"
   },
   {
    "duration": 17,
    "start_time": "2023-07-08T11:00:44.428Z"
   },
   {
    "duration": 4,
    "start_time": "2023-07-08T11:01:05.048Z"
   },
   {
    "duration": 5,
    "start_time": "2023-07-08T11:01:06.745Z"
   },
   {
    "duration": 98,
    "start_time": "2023-07-08T11:01:26.903Z"
   },
   {
    "duration": 1392,
    "start_time": "2023-07-08T11:02:47.610Z"
   },
   {
    "duration": 3,
    "start_time": "2023-07-08T11:02:59.128Z"
   },
   {
    "duration": 106,
    "start_time": "2023-07-08T11:03:13.646Z"
   },
   {
    "duration": 4,
    "start_time": "2023-07-08T11:04:07.318Z"
   },
   {
    "duration": 109,
    "start_time": "2023-07-08T11:04:08.088Z"
   },
   {
    "duration": 1343,
    "start_time": "2023-07-08T11:05:36.240Z"
   },
   {
    "duration": 17,
    "start_time": "2023-07-08T11:05:52.010Z"
   },
   {
    "duration": 7,
    "start_time": "2023-07-08T11:06:04.480Z"
   },
   {
    "duration": 1312,
    "start_time": "2023-07-08T11:08:02.210Z"
   },
   {
    "duration": 1305,
    "start_time": "2023-07-08T11:08:11.082Z"
   },
   {
    "duration": 4,
    "start_time": "2023-07-08T11:08:51.318Z"
   },
   {
    "duration": 145,
    "start_time": "2023-07-08T11:09:06.282Z"
   },
   {
    "duration": 1449,
    "start_time": "2023-07-08T11:09:13.385Z"
   },
   {
    "duration": 28,
    "start_time": "2023-07-08T11:09:24.275Z"
   },
   {
    "duration": 13,
    "start_time": "2023-07-08T11:09:42.514Z"
   },
   {
    "duration": 21,
    "start_time": "2023-07-08T11:09:49.858Z"
   },
   {
    "duration": 3277,
    "start_time": "2023-07-08T11:10:46.559Z"
   },
   {
    "duration": 2747,
    "start_time": "2023-07-08T11:10:49.840Z"
   },
   {
    "duration": 2654,
    "start_time": "2023-07-08T11:10:52.591Z"
   },
   {
    "duration": 4610,
    "start_time": "2023-07-08T11:10:55.247Z"
   },
   {
    "duration": 33,
    "start_time": "2023-07-08T11:10:59.868Z"
   },
   {
    "duration": 192,
    "start_time": "2023-07-08T11:10:59.905Z"
   },
   {
    "duration": 84,
    "start_time": "2023-07-08T11:11:00.099Z"
   },
   {
    "duration": 7,
    "start_time": "2023-07-08T11:11:00.196Z"
   },
   {
    "duration": 123,
    "start_time": "2023-07-08T11:11:00.207Z"
   },
   {
    "duration": 26,
    "start_time": "2023-07-08T11:11:00.332Z"
   },
   {
    "duration": 2072,
    "start_time": "2023-07-08T11:11:00.361Z"
   },
   {
    "duration": 213,
    "start_time": "2023-07-08T11:11:02.436Z"
   },
   {
    "duration": 332,
    "start_time": "2023-07-08T11:11:02.651Z"
   },
   {
    "duration": 11,
    "start_time": "2023-07-08T11:11:02.991Z"
   },
   {
    "duration": 191,
    "start_time": "2023-07-08T11:11:03.005Z"
   },
   {
    "duration": 35,
    "start_time": "2023-07-08T11:11:03.198Z"
   },
   {
    "duration": 43,
    "start_time": "2023-07-08T11:11:03.235Z"
   },
   {
    "duration": 67,
    "start_time": "2023-07-08T11:11:03.284Z"
   },
   {
    "duration": 164,
    "start_time": "2023-07-08T11:11:03.352Z"
   },
   {
    "duration": 1136,
    "start_time": "2023-07-08T11:11:03.528Z"
   },
   {
    "duration": 2083,
    "start_time": "2023-07-08T11:11:04.674Z"
   },
   {
    "duration": 649,
    "start_time": "2023-07-08T11:11:06.759Z"
   },
   {
    "duration": 257,
    "start_time": "2023-07-08T11:11:07.415Z"
   },
   {
    "duration": 12,
    "start_time": "2023-07-08T11:11:07.676Z"
   },
   {
    "duration": 140,
    "start_time": "2023-07-08T11:11:07.694Z"
   },
   {
    "duration": 11,
    "start_time": "2023-07-08T11:11:07.837Z"
   },
   {
    "duration": 369,
    "start_time": "2023-07-08T11:11:07.850Z"
   },
   {
    "duration": 658,
    "start_time": "2023-07-08T11:11:08.221Z"
   },
   {
    "duration": 227,
    "start_time": "2023-07-08T11:11:08.881Z"
   },
   {
    "duration": 488,
    "start_time": "2023-07-08T11:11:09.111Z"
   },
   {
    "duration": 371,
    "start_time": "2023-07-08T11:11:09.602Z"
   },
   {
    "duration": 318,
    "start_time": "2023-07-08T11:11:09.986Z"
   },
   {
    "duration": 333,
    "start_time": "2023-07-08T11:11:10.310Z"
   },
   {
    "duration": 629,
    "start_time": "2023-07-08T11:11:10.645Z"
   },
   {
    "duration": 221,
    "start_time": "2023-07-08T11:11:11.283Z"
   },
   {
    "duration": 364,
    "start_time": "2023-07-08T11:11:11.509Z"
   },
   {
    "duration": 297,
    "start_time": "2023-07-08T11:11:11.880Z"
   },
   {
    "duration": 693,
    "start_time": "2023-07-08T11:11:12.183Z"
   },
   {
    "duration": 179,
    "start_time": "2023-07-08T11:11:12.887Z"
   },
   {
    "duration": 300,
    "start_time": "2023-07-08T11:11:13.069Z"
   },
   {
    "duration": 102,
    "start_time": "2023-07-08T11:11:13.381Z"
   },
   {
    "duration": 503,
    "start_time": "2023-07-08T11:11:13.491Z"
   },
   {
    "duration": 242,
    "start_time": "2023-07-08T11:11:14.007Z"
   },
   {
    "duration": 268,
    "start_time": "2023-07-08T11:11:14.251Z"
   },
   {
    "duration": 23,
    "start_time": "2023-07-08T11:11:14.522Z"
   },
   {
    "duration": 65,
    "start_time": "2023-07-08T11:11:14.549Z"
   },
   {
    "duration": 23,
    "start_time": "2023-07-08T11:11:14.624Z"
   },
   {
    "duration": 58,
    "start_time": "2023-07-08T11:11:14.651Z"
   },
   {
    "duration": 26,
    "start_time": "2023-07-08T11:11:14.711Z"
   },
   {
    "duration": 263,
    "start_time": "2023-07-08T11:11:14.740Z"
   },
   {
    "duration": 16,
    "start_time": "2023-07-08T11:11:15.013Z"
   },
   {
    "duration": 57,
    "start_time": "2023-07-08T11:11:15.032Z"
   },
   {
    "duration": 127,
    "start_time": "2023-07-08T11:11:15.092Z"
   },
   {
    "duration": 24,
    "start_time": "2023-07-08T11:11:15.223Z"
   },
   {
    "duration": 68,
    "start_time": "2023-07-08T11:11:15.249Z"
   },
   {
    "duration": 27,
    "start_time": "2023-07-08T11:11:15.319Z"
   },
   {
    "duration": 77,
    "start_time": "2023-07-08T11:11:15.348Z"
   },
   {
    "duration": 218,
    "start_time": "2023-07-08T11:11:15.428Z"
   },
   {
    "duration": 39,
    "start_time": "2023-07-08T11:11:15.649Z"
   },
   {
    "duration": 24,
    "start_time": "2023-07-08T11:11:15.690Z"
   },
   {
    "duration": 13,
    "start_time": "2023-07-08T11:11:15.716Z"
   },
   {
    "duration": 50,
    "start_time": "2023-07-08T11:11:15.732Z"
   },
   {
    "duration": 35,
    "start_time": "2023-07-08T11:11:15.784Z"
   },
   {
    "duration": 234,
    "start_time": "2023-07-08T11:11:15.821Z"
   },
   {
    "duration": 39,
    "start_time": "2023-07-08T11:11:16.057Z"
   },
   {
    "duration": 34,
    "start_time": "2023-07-08T11:11:16.098Z"
   },
   {
    "duration": 42,
    "start_time": "2023-07-08T11:11:16.135Z"
   },
   {
    "duration": 1965,
    "start_time": "2023-07-08T11:11:16.180Z"
   },
   {
    "duration": 40,
    "start_time": "2023-07-08T11:11:18.146Z"
   },
   {
    "duration": 474,
    "start_time": "2023-07-08T11:11:18.190Z"
   },
   {
    "duration": 26,
    "start_time": "2023-07-08T11:11:18.674Z"
   },
   {
    "duration": 16,
    "start_time": "2023-07-08T11:11:18.702Z"
   },
   {
    "duration": 105,
    "start_time": "2023-07-08T11:11:18.720Z"
   },
   {
    "duration": 15,
    "start_time": "2023-07-08T11:11:18.827Z"
   },
   {
    "duration": 40,
    "start_time": "2023-07-08T11:11:18.845Z"
   },
   {
    "duration": 12,
    "start_time": "2023-07-08T11:11:18.887Z"
   },
   {
    "duration": 4,
    "start_time": "2023-07-08T11:11:18.905Z"
   },
   {
    "duration": 1444,
    "start_time": "2023-07-08T11:12:11.983Z"
   },
   {
    "duration": 225,
    "start_time": "2023-07-08T11:12:14.158Z"
   },
   {
    "duration": 38,
    "start_time": "2023-07-08T11:12:14.669Z"
   },
   {
    "duration": 7,
    "start_time": "2023-07-08T11:12:23.992Z"
   },
   {
    "duration": 166212,
    "start_time": "2023-07-08T11:12:31.707Z"
   },
   {
    "duration": 11,
    "start_time": "2023-07-08T11:19:35.228Z"
   },
   {
    "duration": 14,
    "start_time": "2023-07-08T11:19:38.798Z"
   },
   {
    "duration": 2804,
    "start_time": "2023-07-08T11:21:59.508Z"
   },
   {
    "duration": 3212,
    "start_time": "2023-07-08T11:22:02.319Z"
   },
   {
    "duration": 2622,
    "start_time": "2023-07-08T11:22:05.534Z"
   },
   {
    "duration": 3680,
    "start_time": "2023-07-08T11:22:08.158Z"
   },
   {
    "duration": 31,
    "start_time": "2023-07-08T11:22:11.842Z"
   },
   {
    "duration": 209,
    "start_time": "2023-07-08T11:22:11.874Z"
   },
   {
    "duration": 66,
    "start_time": "2023-07-08T11:22:12.085Z"
   },
   {
    "duration": 4,
    "start_time": "2023-07-08T11:22:12.158Z"
   },
   {
    "duration": 55,
    "start_time": "2023-07-08T11:22:12.165Z"
   },
   {
    "duration": 13,
    "start_time": "2023-07-08T11:22:12.222Z"
   },
   {
    "duration": 1604,
    "start_time": "2023-07-08T11:22:12.237Z"
   },
   {
    "duration": 129,
    "start_time": "2023-07-08T11:22:13.843Z"
   },
   {
    "duration": 300,
    "start_time": "2023-07-08T11:22:13.976Z"
   },
   {
    "duration": 6,
    "start_time": "2023-07-08T11:22:14.292Z"
   },
   {
    "duration": 186,
    "start_time": "2023-07-08T11:22:14.301Z"
   },
   {
    "duration": 44,
    "start_time": "2023-07-08T11:22:14.489Z"
   },
   {
    "duration": 56,
    "start_time": "2023-07-08T11:22:14.537Z"
   },
   {
    "duration": 55,
    "start_time": "2023-07-08T11:22:14.596Z"
   },
   {
    "duration": 115,
    "start_time": "2023-07-08T11:22:14.654Z"
   },
   {
    "duration": 1000,
    "start_time": "2023-07-08T11:22:14.771Z"
   },
   {
    "duration": 2052,
    "start_time": "2023-07-08T11:22:15.773Z"
   },
   {
    "duration": 685,
    "start_time": "2023-07-08T11:22:17.827Z"
   },
   {
    "duration": 236,
    "start_time": "2023-07-08T11:22:18.514Z"
   },
   {
    "duration": 4,
    "start_time": "2023-07-08T11:22:18.752Z"
   },
   {
    "duration": 126,
    "start_time": "2023-07-08T11:22:18.759Z"
   },
   {
    "duration": 6,
    "start_time": "2023-07-08T11:22:18.888Z"
   },
   {
    "duration": 267,
    "start_time": "2023-07-08T11:22:18.896Z"
   },
   {
    "duration": 557,
    "start_time": "2023-07-08T11:22:19.165Z"
   },
   {
    "duration": 125,
    "start_time": "2023-07-08T11:22:19.724Z"
   },
   {
    "duration": 273,
    "start_time": "2023-07-08T11:22:19.859Z"
   },
   {
    "duration": 273,
    "start_time": "2023-07-08T11:22:20.134Z"
   },
   {
    "duration": 219,
    "start_time": "2023-07-08T11:22:20.410Z"
   },
   {
    "duration": 270,
    "start_time": "2023-07-08T11:22:20.632Z"
   },
   {
    "duration": 566,
    "start_time": "2023-07-08T11:22:20.904Z"
   },
   {
    "duration": 125,
    "start_time": "2023-07-08T11:22:21.472Z"
   },
   {
    "duration": 334,
    "start_time": "2023-07-08T11:22:21.599Z"
   },
   {
    "duration": 234,
    "start_time": "2023-07-08T11:22:21.935Z"
   },
   {
    "duration": 460,
    "start_time": "2023-07-08T11:22:22.171Z"
   },
   {
    "duration": 175,
    "start_time": "2023-07-08T11:22:22.634Z"
   },
   {
    "duration": 290,
    "start_time": "2023-07-08T11:22:22.812Z"
   },
   {
    "duration": 95,
    "start_time": "2023-07-08T11:22:23.114Z"
   },
   {
    "duration": 520,
    "start_time": "2023-07-08T11:22:23.215Z"
   },
   {
    "duration": 233,
    "start_time": "2023-07-08T11:22:23.741Z"
   },
   {
    "duration": 262,
    "start_time": "2023-07-08T11:22:23.982Z"
   },
   {
    "duration": 28,
    "start_time": "2023-07-08T11:22:24.247Z"
   },
   {
    "duration": 45,
    "start_time": "2023-07-08T11:22:24.286Z"
   },
   {
    "duration": 24,
    "start_time": "2023-07-08T11:22:24.334Z"
   },
   {
    "duration": 68,
    "start_time": "2023-07-08T11:22:24.365Z"
   },
   {
    "duration": 26,
    "start_time": "2023-07-08T11:22:24.436Z"
   },
   {
    "duration": 232,
    "start_time": "2023-07-08T11:22:24.465Z"
   },
   {
    "duration": 16,
    "start_time": "2023-07-08T11:22:24.699Z"
   },
   {
    "duration": 22,
    "start_time": "2023-07-08T11:22:24.717Z"
   },
   {
    "duration": 86,
    "start_time": "2023-07-08T11:22:24.741Z"
   },
   {
    "duration": 24,
    "start_time": "2023-07-08T11:22:24.831Z"
   },
   {
    "duration": 55,
    "start_time": "2023-07-08T11:22:24.857Z"
   },
   {
    "duration": 24,
    "start_time": "2023-07-08T11:22:24.914Z"
   },
   {
    "duration": 72,
    "start_time": "2023-07-08T11:22:24.941Z"
   },
   {
    "duration": 206,
    "start_time": "2023-07-08T11:22:25.017Z"
   },
   {
    "duration": 20,
    "start_time": "2023-07-08T11:22:25.225Z"
   },
   {
    "duration": 30,
    "start_time": "2023-07-08T11:22:25.247Z"
   },
   {
    "duration": 17,
    "start_time": "2023-07-08T11:22:25.279Z"
   },
   {
    "duration": 54,
    "start_time": "2023-07-08T11:22:25.300Z"
   },
   {
    "duration": 40,
    "start_time": "2023-07-08T11:22:25.357Z"
   },
   {
    "duration": 253,
    "start_time": "2023-07-08T11:22:25.400Z"
   },
   {
    "duration": 44,
    "start_time": "2023-07-08T11:22:25.660Z"
   },
   {
    "duration": 46,
    "start_time": "2023-07-08T11:22:25.706Z"
   },
   {
    "duration": 46,
    "start_time": "2023-07-08T11:22:25.765Z"
   },
   {
    "duration": 2623,
    "start_time": "2023-07-08T11:22:25.826Z"
   },
   {
    "duration": 30,
    "start_time": "2023-07-08T11:22:28.459Z"
   },
   {
    "duration": 574,
    "start_time": "2023-07-08T11:22:28.491Z"
   },
   {
    "duration": 22,
    "start_time": "2023-07-08T11:22:29.067Z"
   },
   {
    "duration": 20,
    "start_time": "2023-07-08T11:22:29.093Z"
   },
   {
    "duration": 104,
    "start_time": "2023-07-08T11:22:29.115Z"
   },
   {
    "duration": 20,
    "start_time": "2023-07-08T11:22:29.221Z"
   },
   {
    "duration": 35,
    "start_time": "2023-07-08T11:22:29.248Z"
   },
   {
    "duration": 34,
    "start_time": "2023-07-08T11:22:29.285Z"
   },
   {
    "duration": 66888,
    "start_time": "2023-07-08T11:22:29.321Z"
   },
   {
    "duration": 66583,
    "start_time": "2023-07-08T11:23:47.598Z"
   },
   {
    "duration": 36,
    "start_time": "2023-07-08T11:27:04.405Z"
   },
   {
    "duration": 228,
    "start_time": "2023-07-08T11:27:36.348Z"
   },
   {
    "duration": 156,
    "start_time": "2023-07-08T11:28:03.840Z"
   },
   {
    "duration": 150,
    "start_time": "2023-07-08T11:28:16.949Z"
   },
   {
    "duration": 590208,
    "start_time": "2023-07-08T11:28:23.558Z"
   },
   {
    "duration": 189394,
    "start_time": "2023-07-08T11:50:11.874Z"
   },
   {
    "duration": 191337,
    "start_time": "2023-07-08T11:57:35.921Z"
   },
   {
    "duration": 191829,
    "start_time": "2023-07-08T12:04:12.909Z"
   },
   {
    "duration": 24,
    "start_time": "2023-07-08T12:09:10.775Z"
   },
   {
    "duration": 14,
    "start_time": "2023-07-08T12:09:13.582Z"
   },
   {
    "duration": 12,
    "start_time": "2023-07-08T12:09:19.424Z"
   },
   {
    "duration": 20,
    "start_time": "2023-07-08T12:09:21.581Z"
   },
   {
    "duration": 13,
    "start_time": "2023-07-08T12:09:27.384Z"
   },
   {
    "duration": 4,
    "start_time": "2023-07-08T12:09:56.401Z"
   },
   {
    "duration": 43,
    "start_time": "2023-07-08T12:10:16.788Z"
   },
   {
    "duration": 4,
    "start_time": "2023-07-08T12:12:48.084Z"
   },
   {
    "duration": 5,
    "start_time": "2023-07-08T12:12:53.125Z"
   },
   {
    "duration": 4,
    "start_time": "2023-07-08T12:15:35.142Z"
   },
   {
    "duration": 5,
    "start_time": "2023-07-08T12:18:46.096Z"
   },
   {
    "duration": 3,
    "start_time": "2023-07-08T12:19:35.477Z"
   },
   {
    "duration": 19,
    "start_time": "2023-07-08T12:20:04.457Z"
   },
   {
    "duration": 38,
    "start_time": "2023-07-08T12:20:08.956Z"
   },
   {
    "duration": 3,
    "start_time": "2023-07-08T12:20:21.306Z"
   },
   {
    "duration": 4,
    "start_time": "2023-07-08T12:20:22.114Z"
   },
   {
    "duration": 30,
    "start_time": "2023-07-08T12:20:22.816Z"
   },
   {
    "duration": 4,
    "start_time": "2023-07-08T12:20:29.991Z"
   },
   {
    "duration": 5,
    "start_time": "2023-07-08T12:20:30.316Z"
   },
   {
    "duration": 0,
    "start_time": "2023-07-08T12:20:51.644Z"
   },
   {
    "duration": 0,
    "start_time": "2023-07-08T12:20:51.646Z"
   },
   {
    "duration": 3,
    "start_time": "2023-07-08T12:20:58.926Z"
   },
   {
    "duration": 3649,
    "start_time": "2023-07-08T12:20:59.856Z"
   },
   {
    "duration": 3518,
    "start_time": "2023-07-08T12:21:41.329Z"
   },
   {
    "duration": 21,
    "start_time": "2023-07-08T12:22:28.098Z"
   },
   {
    "duration": 18992,
    "start_time": "2023-07-08T12:22:33.671Z"
   },
   {
    "duration": 17,
    "start_time": "2023-07-08T12:22:54.070Z"
   },
   {
    "duration": 4,
    "start_time": "2023-07-08T12:22:54.697Z"
   },
   {
    "duration": 11668,
    "start_time": "2023-07-08T12:22:55.116Z"
   },
   {
    "duration": 3120,
    "start_time": "2023-07-08T12:23:09.387Z"
   },
   {
    "duration": 3,
    "start_time": "2023-07-08T12:24:09.737Z"
   },
   {
    "duration": 10,
    "start_time": "2023-07-08T12:24:45.956Z"
   },
   {
    "duration": 19,
    "start_time": "2023-07-08T12:25:03.478Z"
   },
   {
    "duration": 3,
    "start_time": "2023-07-08T12:25:14.617Z"
   },
   {
    "duration": 17,
    "start_time": "2023-07-08T12:25:14.794Z"
   },
   {
    "duration": 13,
    "start_time": "2023-07-08T12:25:25.635Z"
   },
   {
    "duration": 12,
    "start_time": "2023-07-08T12:25:32.235Z"
   },
   {
    "duration": 20,
    "start_time": "2023-07-08T12:26:03.960Z"
   },
   {
    "duration": 59,
    "start_time": "2023-07-08T12:30:49.844Z"
   },
   {
    "duration": 2524,
    "start_time": "2023-07-08T12:31:06.005Z"
   },
   {
    "duration": 4122,
    "start_time": "2023-07-08T12:31:08.532Z"
   },
   {
    "duration": 2677,
    "start_time": "2023-07-08T12:31:12.656Z"
   },
   {
    "duration": 3839,
    "start_time": "2023-07-08T12:31:15.335Z"
   },
   {
    "duration": 19,
    "start_time": "2023-07-08T12:31:19.178Z"
   },
   {
    "duration": 130,
    "start_time": "2023-07-08T12:31:19.199Z"
   },
   {
    "duration": 62,
    "start_time": "2023-07-08T12:31:19.331Z"
   },
   {
    "duration": 4,
    "start_time": "2023-07-08T12:31:19.395Z"
   },
   {
    "duration": 79,
    "start_time": "2023-07-08T12:31:19.401Z"
   },
   {
    "duration": 14,
    "start_time": "2023-07-08T12:31:19.481Z"
   },
   {
    "duration": 1423,
    "start_time": "2023-07-08T12:31:19.497Z"
   },
   {
    "duration": 110,
    "start_time": "2023-07-08T12:31:20.922Z"
   },
   {
    "duration": 272,
    "start_time": "2023-07-08T12:31:21.033Z"
   },
   {
    "duration": 3,
    "start_time": "2023-07-08T12:31:21.308Z"
   },
   {
    "duration": 141,
    "start_time": "2023-07-08T12:31:21.314Z"
   },
   {
    "duration": 26,
    "start_time": "2023-07-08T12:31:21.462Z"
   },
   {
    "duration": 34,
    "start_time": "2023-07-08T12:31:21.490Z"
   },
   {
    "duration": 43,
    "start_time": "2023-07-08T12:31:27.206Z"
   },
   {
    "duration": 81,
    "start_time": "2023-07-08T12:31:27.251Z"
   },
   {
    "duration": 818,
    "start_time": "2023-07-08T12:31:27.334Z"
   },
   {
    "duration": 1346,
    "start_time": "2023-07-08T12:31:28.154Z"
   },
   {
    "duration": 488,
    "start_time": "2023-07-08T12:31:29.502Z"
   },
   {
    "duration": 220,
    "start_time": "2023-07-08T12:31:29.992Z"
   },
   {
    "duration": 4,
    "start_time": "2023-07-08T12:31:30.214Z"
   },
   {
    "duration": 147,
    "start_time": "2023-07-08T12:31:30.219Z"
   },
   {
    "duration": 26,
    "start_time": "2023-07-08T12:31:30.370Z"
   },
   {
    "duration": 307,
    "start_time": "2023-07-08T12:31:30.398Z"
   },
   {
    "duration": 462,
    "start_time": "2023-07-08T12:31:30.707Z"
   },
   {
    "duration": 105,
    "start_time": "2023-07-08T12:31:31.179Z"
   },
   {
    "duration": 273,
    "start_time": "2023-07-08T12:31:31.286Z"
   },
   {
    "duration": 250,
    "start_time": "2023-07-08T12:31:31.572Z"
   },
   {
    "duration": 185,
    "start_time": "2023-07-08T12:31:31.824Z"
   },
   {
    "duration": 268,
    "start_time": "2023-07-08T12:31:32.011Z"
   },
   {
    "duration": 526,
    "start_time": "2023-07-08T12:31:32.281Z"
   },
   {
    "duration": 106,
    "start_time": "2023-07-08T12:31:32.809Z"
   },
   {
    "duration": 264,
    "start_time": "2023-07-08T12:31:32.917Z"
   },
   {
    "duration": 200,
    "start_time": "2023-07-08T12:31:33.183Z"
   },
   {
    "duration": 506,
    "start_time": "2023-07-08T12:31:33.385Z"
   },
   {
    "duration": 107,
    "start_time": "2023-07-08T12:31:33.892Z"
   },
   {
    "duration": 242,
    "start_time": "2023-07-08T12:31:34.001Z"
   },
   {
    "duration": 99,
    "start_time": "2023-07-08T12:31:34.246Z"
   },
   {
    "duration": 360,
    "start_time": "2023-07-08T12:31:34.347Z"
   },
   {
    "duration": 194,
    "start_time": "2023-07-08T12:31:34.709Z"
   },
   {
    "duration": 191,
    "start_time": "2023-07-08T12:31:34.905Z"
   },
   {
    "duration": 15,
    "start_time": "2023-07-08T12:31:35.098Z"
   },
   {
    "duration": 56,
    "start_time": "2023-07-08T12:31:35.116Z"
   },
   {
    "duration": 21,
    "start_time": "2023-07-08T12:31:35.173Z"
   },
   {
    "duration": 76,
    "start_time": "2023-07-08T12:31:35.196Z"
   },
   {
    "duration": 25,
    "start_time": "2023-07-08T12:31:35.282Z"
   },
   {
    "duration": 184,
    "start_time": "2023-07-08T12:31:35.310Z"
   },
   {
    "duration": 15,
    "start_time": "2023-07-08T12:31:35.496Z"
   },
   {
    "duration": 19,
    "start_time": "2023-07-08T12:31:35.513Z"
   },
   {
    "duration": 66,
    "start_time": "2023-07-08T12:31:35.534Z"
   },
   {
    "duration": 20,
    "start_time": "2023-07-08T12:31:35.603Z"
   },
   {
    "duration": 57,
    "start_time": "2023-07-08T12:31:35.625Z"
   },
   {
    "duration": 18,
    "start_time": "2023-07-08T12:31:35.684Z"
   },
   {
    "duration": 78,
    "start_time": "2023-07-08T12:31:35.704Z"
   },
   {
    "duration": 181,
    "start_time": "2023-07-08T12:31:35.788Z"
   },
   {
    "duration": 14,
    "start_time": "2023-07-08T12:31:35.974Z"
   },
   {
    "duration": 16,
    "start_time": "2023-07-08T12:31:35.990Z"
   },
   {
    "duration": 10,
    "start_time": "2023-07-08T12:31:36.008Z"
   },
   {
    "duration": 62,
    "start_time": "2023-07-08T12:31:36.020Z"
   },
   {
    "duration": 29,
    "start_time": "2023-07-08T12:31:36.084Z"
   },
   {
    "duration": 203,
    "start_time": "2023-07-08T12:31:36.115Z"
   },
   {
    "duration": 55,
    "start_time": "2023-07-08T12:31:36.319Z"
   },
   {
    "duration": 32,
    "start_time": "2023-07-08T12:31:36.376Z"
   },
   {
    "duration": 19,
    "start_time": "2023-07-08T12:31:36.410Z"
   },
   {
    "duration": 1861,
    "start_time": "2023-07-08T12:31:36.431Z"
   },
   {
    "duration": 19,
    "start_time": "2023-07-08T12:31:38.294Z"
   },
   {
    "duration": 452,
    "start_time": "2023-07-08T12:31:38.315Z"
   },
   {
    "duration": 23,
    "start_time": "2023-07-08T12:31:38.768Z"
   },
   {
    "duration": 14,
    "start_time": "2023-07-08T12:31:38.793Z"
   },
   {
    "duration": 121,
    "start_time": "2023-07-08T12:31:38.809Z"
   },
   {
    "duration": 14,
    "start_time": "2023-07-08T12:31:38.933Z"
   },
   {
    "duration": 21,
    "start_time": "2023-07-08T12:31:38.949Z"
   },
   {
    "duration": 59846,
    "start_time": "2023-07-08T12:31:38.976Z"
   },
   {
    "duration": 52,
    "start_time": "2023-07-08T12:32:38.826Z"
   },
   {
    "duration": 221,
    "start_time": "2023-07-08T12:32:38.884Z"
   },
   {
    "duration": 153,
    "start_time": "2023-07-08T12:32:39.108Z"
   },
   {
    "duration": 5,
    "start_time": "2023-07-08T12:33:12.522Z"
   },
   {
    "duration": 4,
    "start_time": "2023-07-08T12:34:06.502Z"
   },
   {
    "duration": 159,
    "start_time": "2023-07-08T12:34:55.244Z"
   },
   {
    "duration": 19,
    "start_time": "2023-07-08T12:35:56.748Z"
   },
   {
    "duration": 95,
    "start_time": "2023-07-08T12:36:01.278Z"
   },
   {
    "duration": 15,
    "start_time": "2023-07-08T12:36:48.108Z"
   },
   {
    "duration": 133,
    "start_time": "2023-07-08T12:36:58.144Z"
   },
   {
    "duration": 23,
    "start_time": "2023-07-08T12:37:05.121Z"
   },
   {
    "duration": 3,
    "start_time": "2023-07-08T12:37:15.205Z"
   },
   {
    "duration": 4,
    "start_time": "2023-07-08T12:37:16.017Z"
   },
   {
    "duration": 1274,
    "start_time": "2023-07-08T12:37:16.636Z"
   },
   {
    "duration": 11,
    "start_time": "2023-07-08T12:37:31.767Z"
   },
   {
    "duration": 765,
    "start_time": "2023-07-08T12:37:33.732Z"
   },
   {
    "duration": 28,
    "start_time": "2023-07-08T12:37:54.001Z"
   },
   {
    "duration": 7,
    "start_time": "2023-07-08T12:37:59.929Z"
   },
   {
    "duration": 129649,
    "start_time": "2023-07-08T12:38:19.642Z"
   },
   {
    "duration": 19,
    "start_time": "2023-07-08T12:40:53.134Z"
   },
   {
    "duration": 18,
    "start_time": "2023-07-08T12:41:02.409Z"
   },
   {
    "duration": 6,
    "start_time": "2023-07-08T12:41:04.011Z"
   },
   {
    "duration": 100,
    "start_time": "2023-07-08T12:42:31.953Z"
   },
   {
    "duration": 6,
    "start_time": "2023-07-08T12:42:37.852Z"
   },
   {
    "duration": 5,
    "start_time": "2023-07-08T12:43:47.117Z"
   },
   {
    "duration": 144268,
    "start_time": "2023-07-08T12:43:51.804Z"
   },
   {
    "duration": 36568,
    "start_time": "2023-07-08T12:54:59.741Z"
   },
   {
    "duration": 427859,
    "start_time": "2023-07-08T12:55:51.143Z"
   },
   {
    "duration": 8,
    "start_time": "2023-07-08T13:08:20.585Z"
   },
   {
    "duration": 31,
    "start_time": "2023-07-08T13:10:02.612Z"
   },
   {
    "duration": 459173,
    "start_time": "2023-07-08T13:10:24.223Z"
   },
   {
    "duration": 25,
    "start_time": "2023-07-08T13:19:44.081Z"
   },
   {
    "duration": 169350,
    "start_time": "2023-07-08T13:20:18.539Z"
   },
   {
    "duration": 504816,
    "start_time": "2023-07-08T13:23:07.962Z"
   },
   {
    "duration": 13,
    "start_time": "2023-07-08T13:31:32.780Z"
   },
   {
    "duration": 149,
    "start_time": "2023-07-08T13:43:03.774Z"
   },
   {
    "duration": 3,
    "start_time": "2023-07-08T13:45:08.535Z"
   },
   {
    "duration": 23,
    "start_time": "2023-07-08T13:46:23.855Z"
   },
   {
    "duration": 15,
    "start_time": "2023-07-08T13:46:30.205Z"
   },
   {
    "duration": 14,
    "start_time": "2023-07-08T13:47:05.870Z"
   },
   {
    "duration": 13,
    "start_time": "2023-07-08T13:49:37.696Z"
   },
   {
    "duration": 2540,
    "start_time": "2023-07-08T13:50:14.646Z"
   },
   {
    "duration": 2550,
    "start_time": "2023-07-08T13:50:17.190Z"
   },
   {
    "duration": 1976,
    "start_time": "2023-07-08T13:50:19.742Z"
   },
   {
    "duration": 994,
    "start_time": "2023-07-08T13:50:21.720Z"
   },
   {
    "duration": 26,
    "start_time": "2023-07-08T13:50:22.717Z"
   },
   {
    "duration": 153,
    "start_time": "2023-07-08T13:50:22.746Z"
   },
   {
    "duration": 69,
    "start_time": "2023-07-08T13:50:22.901Z"
   },
   {
    "duration": 3,
    "start_time": "2023-07-08T13:50:22.973Z"
   },
   {
    "duration": 58,
    "start_time": "2023-07-08T13:50:22.978Z"
   },
   {
    "duration": 29,
    "start_time": "2023-07-08T13:50:23.039Z"
   },
   {
    "duration": 1479,
    "start_time": "2023-07-08T13:50:23.070Z"
   },
   {
    "duration": 125,
    "start_time": "2023-07-08T13:50:24.551Z"
   },
   {
    "duration": 259,
    "start_time": "2023-07-08T13:50:24.678Z"
   },
   {
    "duration": 4,
    "start_time": "2023-07-08T13:50:24.939Z"
   },
   {
    "duration": 139,
    "start_time": "2023-07-08T13:50:24.960Z"
   },
   {
    "duration": 25,
    "start_time": "2023-07-08T13:50:25.101Z"
   },
   {
    "duration": 41,
    "start_time": "2023-07-08T13:50:25.128Z"
   },
   {
    "duration": 50,
    "start_time": "2023-07-08T13:50:25.172Z"
   },
   {
    "duration": 95,
    "start_time": "2023-07-08T13:50:25.225Z"
   },
   {
    "duration": 797,
    "start_time": "2023-07-08T13:50:25.321Z"
   },
   {
    "duration": 1350,
    "start_time": "2023-07-08T13:50:26.120Z"
   },
   {
    "duration": 470,
    "start_time": "2023-07-08T13:50:27.475Z"
   },
   {
    "duration": 228,
    "start_time": "2023-07-08T13:50:27.948Z"
   },
   {
    "duration": 4,
    "start_time": "2023-07-08T13:50:28.178Z"
   },
   {
    "duration": 126,
    "start_time": "2023-07-08T13:50:28.184Z"
   },
   {
    "duration": 5,
    "start_time": "2023-07-08T13:50:28.312Z"
   },
   {
    "duration": 262,
    "start_time": "2023-07-08T13:50:28.319Z"
   },
   {
    "duration": 434,
    "start_time": "2023-07-08T13:50:28.586Z"
   },
   {
    "duration": 108,
    "start_time": "2023-07-08T13:50:29.022Z"
   },
   {
    "duration": 263,
    "start_time": "2023-07-08T13:50:29.132Z"
   },
   {
    "duration": 239,
    "start_time": "2023-07-08T13:50:29.397Z"
   },
   {
    "duration": 176,
    "start_time": "2023-07-08T13:50:29.638Z"
   },
   {
    "duration": 264,
    "start_time": "2023-07-08T13:50:29.815Z"
   },
   {
    "duration": 429,
    "start_time": "2023-07-08T13:50:30.081Z"
   },
   {
    "duration": 105,
    "start_time": "2023-07-08T13:50:30.512Z"
   },
   {
    "duration": 263,
    "start_time": "2023-07-08T13:50:30.619Z"
   },
   {
    "duration": 220,
    "start_time": "2023-07-08T13:50:30.885Z"
   },
   {
    "duration": 469,
    "start_time": "2023-07-08T13:50:31.107Z"
   },
   {
    "duration": 107,
    "start_time": "2023-07-08T13:50:31.579Z"
   },
   {
    "duration": 210,
    "start_time": "2023-07-08T13:50:31.689Z"
   },
   {
    "duration": 89,
    "start_time": "2023-07-08T13:50:31.901Z"
   },
   {
    "duration": 353,
    "start_time": "2023-07-08T13:50:31.992Z"
   },
   {
    "duration": 220,
    "start_time": "2023-07-08T13:50:32.347Z"
   },
   {
    "duration": 176,
    "start_time": "2023-07-08T13:50:32.576Z"
   },
   {
    "duration": 21,
    "start_time": "2023-07-08T13:50:32.754Z"
   },
   {
    "duration": 34,
    "start_time": "2023-07-08T13:50:32.777Z"
   },
   {
    "duration": 20,
    "start_time": "2023-07-08T13:50:32.813Z"
   },
   {
    "duration": 63,
    "start_time": "2023-07-08T13:50:32.834Z"
   },
   {
    "duration": 18,
    "start_time": "2023-07-08T13:50:32.899Z"
   },
   {
    "duration": 208,
    "start_time": "2023-07-08T13:50:32.919Z"
   },
   {
    "duration": 12,
    "start_time": "2023-07-08T13:50:33.130Z"
   },
   {
    "duration": 32,
    "start_time": "2023-07-08T13:50:33.144Z"
   },
   {
    "duration": 43,
    "start_time": "2023-07-08T13:50:33.179Z"
   },
   {
    "duration": 18,
    "start_time": "2023-07-08T13:50:33.224Z"
   },
   {
    "duration": 57,
    "start_time": "2023-07-08T13:50:33.244Z"
   },
   {
    "duration": 18,
    "start_time": "2023-07-08T13:50:33.303Z"
   },
   {
    "duration": 79,
    "start_time": "2023-07-08T13:50:33.322Z"
   },
   {
    "duration": 166,
    "start_time": "2023-07-08T13:50:33.403Z"
   },
   {
    "duration": 15,
    "start_time": "2023-07-08T13:50:33.571Z"
   },
   {
    "duration": 14,
    "start_time": "2023-07-08T13:50:33.588Z"
   },
   {
    "duration": 20,
    "start_time": "2023-07-08T13:50:33.603Z"
   },
   {
    "duration": 57,
    "start_time": "2023-07-08T13:50:33.624Z"
   },
   {
    "duration": 28,
    "start_time": "2023-07-08T13:50:33.683Z"
   },
   {
    "duration": 203,
    "start_time": "2023-07-08T13:50:33.713Z"
   },
   {
    "duration": 55,
    "start_time": "2023-07-08T13:50:33.918Z"
   },
   {
    "duration": 31,
    "start_time": "2023-07-08T13:50:33.976Z"
   },
   {
    "duration": 20,
    "start_time": "2023-07-08T13:50:34.009Z"
   },
   {
    "duration": 1890,
    "start_time": "2023-07-08T13:50:34.032Z"
   },
   {
    "duration": 18,
    "start_time": "2023-07-08T13:50:35.924Z"
   },
   {
    "duration": 435,
    "start_time": "2023-07-08T13:50:35.959Z"
   },
   {
    "duration": 18,
    "start_time": "2023-07-08T13:50:36.395Z"
   },
   {
    "duration": 14,
    "start_time": "2023-07-08T13:50:36.414Z"
   },
   {
    "duration": 124,
    "start_time": "2023-07-08T13:50:36.430Z"
   },
   {
    "duration": 22,
    "start_time": "2023-07-08T13:50:36.556Z"
   },
   {
    "duration": 21,
    "start_time": "2023-07-08T13:50:36.580Z"
   },
   {
    "duration": 58352,
    "start_time": "2023-07-08T13:50:36.603Z"
   },
   {
    "duration": 32,
    "start_time": "2023-07-08T13:51:34.968Z"
   },
   {
    "duration": 231,
    "start_time": "2023-07-08T13:51:35.002Z"
   },
   {
    "duration": 148,
    "start_time": "2023-07-08T13:51:35.235Z"
   },
   {
    "duration": 487691,
    "start_time": "2023-07-08T13:51:35.385Z"
   },
   {
    "duration": 187185,
    "start_time": "2023-07-08T13:59:43.081Z"
   },
   {
    "duration": 161775,
    "start_time": "2023-07-08T14:02:50.281Z"
   },
   {
    "duration": 167,
    "start_time": "2023-07-08T14:05:32.059Z"
   },
   {
    "duration": 3,
    "start_time": "2023-07-08T14:05:32.228Z"
   },
   {
    "duration": 24,
    "start_time": "2023-07-08T14:05:32.233Z"
   },
   {
    "duration": 124401,
    "start_time": "2023-07-08T14:05:32.265Z"
   },
   {
    "duration": 450013,
    "start_time": "2023-07-08T14:07:36.670Z"
   },
   {
    "duration": 14,
    "start_time": "2023-07-08T14:15:06.685Z"
   },
   {
    "duration": 4,
    "start_time": "2023-07-08T14:15:06.702Z"
   },
   {
    "duration": 13,
    "start_time": "2023-07-08T15:01:07.383Z"
   },
   {
    "duration": 20,
    "start_time": "2023-07-08T15:01:21.491Z"
   },
   {
    "duration": 12,
    "start_time": "2023-07-08T15:01:30.845Z"
   },
   {
    "duration": 16,
    "start_time": "2023-07-08T15:01:35.685Z"
   },
   {
    "duration": 12,
    "start_time": "2023-07-08T15:01:49.186Z"
   },
   {
    "duration": 141,
    "start_time": "2023-07-08T15:02:08.008Z"
   },
   {
    "duration": 674,
    "start_time": "2023-07-08T15:03:33.801Z"
   },
   {
    "duration": 4,
    "start_time": "2023-07-08T15:05:09.015Z"
   },
   {
    "duration": 5,
    "start_time": "2023-07-08T15:05:16.246Z"
   },
   {
    "duration": 5,
    "start_time": "2023-07-08T15:05:35.688Z"
   },
   {
    "duration": 6,
    "start_time": "2023-07-08T15:05:36.100Z"
   },
   {
    "duration": 5,
    "start_time": "2023-07-08T15:05:44.485Z"
   },
   {
    "duration": 4,
    "start_time": "2023-07-08T15:05:44.706Z"
   },
   {
    "duration": 6,
    "start_time": "2023-07-08T15:06:11.206Z"
   },
   {
    "duration": 5,
    "start_time": "2023-07-08T15:06:14.619Z"
   },
   {
    "duration": 684,
    "start_time": "2023-07-08T15:06:45.876Z"
   },
   {
    "duration": 4,
    "start_time": "2023-07-08T15:06:49.241Z"
   },
   {
    "duration": 139,
    "start_time": "2023-07-08T15:11:19.613Z"
   },
   {
    "duration": 10,
    "start_time": "2023-07-08T15:11:29.723Z"
   },
   {
    "duration": 18,
    "start_time": "2023-07-08T15:12:36.970Z"
   },
   {
    "duration": 11,
    "start_time": "2023-07-08T15:14:13.305Z"
   },
   {
    "duration": 4,
    "start_time": "2023-07-08T15:14:22.616Z"
   },
   {
    "duration": 6,
    "start_time": "2023-07-08T15:14:30.156Z"
   },
   {
    "duration": 9,
    "start_time": "2023-07-08T15:14:56.585Z"
   },
   {
    "duration": 3,
    "start_time": "2023-07-08T15:15:25.614Z"
   },
   {
    "duration": 4,
    "start_time": "2023-07-08T15:15:28.456Z"
   },
   {
    "duration": 3,
    "start_time": "2023-07-08T15:15:32.616Z"
   },
   {
    "duration": 4,
    "start_time": "2023-07-08T15:16:06.255Z"
   },
   {
    "duration": 11,
    "start_time": "2023-07-08T15:16:14.776Z"
   },
   {
    "duration": 4,
    "start_time": "2023-07-08T15:17:38.302Z"
   },
   {
    "duration": 5,
    "start_time": "2023-07-08T15:20:50.886Z"
   },
   {
    "duration": 300932,
    "start_time": "2023-07-08T15:21:19.555Z"
   },
   {
    "duration": 11,
    "start_time": "2023-07-08T15:28:04.276Z"
   },
   {
    "duration": 12,
    "start_time": "2023-07-08T15:28:35.996Z"
   },
   {
    "duration": 6,
    "start_time": "2023-07-08T15:28:59.825Z"
   },
   {
    "duration": 4,
    "start_time": "2023-07-08T15:29:25.999Z"
   },
   {
    "duration": 17,
    "start_time": "2023-07-08T15:29:58.098Z"
   },
   {
    "duration": 29,
    "start_time": "2023-07-08T15:30:01.656Z"
   },
   {
    "duration": 4,
    "start_time": "2023-07-08T15:31:07.228Z"
   },
   {
    "duration": 4,
    "start_time": "2023-07-08T15:31:28.342Z"
   },
   {
    "duration": 25,
    "start_time": "2023-07-08T15:34:08.642Z"
   },
   {
    "duration": 5,
    "start_time": "2023-07-08T15:56:48.969Z"
   },
   {
    "duration": 2533493,
    "start_time": "2023-07-08T15:58:14.942Z"
   },
   {
    "duration": 8,
    "start_time": "2023-07-08T16:46:04.659Z"
   },
   {
    "duration": 127,
    "start_time": "2023-07-08T16:52:02.859Z"
   },
   {
    "duration": 111,
    "start_time": "2023-07-08T16:52:07.509Z"
   },
   {
    "duration": 23,
    "start_time": "2023-07-08T16:52:12.049Z"
   },
   {
    "duration": 129,
    "start_time": "2023-07-08T17:18:54.140Z"
   },
   {
    "duration": 12,
    "start_time": "2023-07-08T17:18:59.410Z"
   },
   {
    "duration": 2223,
    "start_time": "2023-07-08T17:26:34.617Z"
   },
   {
    "duration": 2163,
    "start_time": "2023-07-08T17:26:36.843Z"
   },
   {
    "duration": 1926,
    "start_time": "2023-07-08T17:26:39.008Z"
   },
   {
    "duration": 854,
    "start_time": "2023-07-08T17:26:40.936Z"
   },
   {
    "duration": 20,
    "start_time": "2023-07-08T17:26:41.793Z"
   },
   {
    "duration": 134,
    "start_time": "2023-07-08T17:26:41.814Z"
   },
   {
    "duration": 56,
    "start_time": "2023-07-08T17:26:41.958Z"
   },
   {
    "duration": 4,
    "start_time": "2023-07-08T17:26:42.017Z"
   },
   {
    "duration": 69,
    "start_time": "2023-07-08T17:26:42.022Z"
   },
   {
    "duration": 15,
    "start_time": "2023-07-08T17:26:42.093Z"
   },
   {
    "duration": 1397,
    "start_time": "2023-07-08T17:26:42.110Z"
   },
   {
    "duration": 109,
    "start_time": "2023-07-08T17:26:43.509Z"
   },
   {
    "duration": 250,
    "start_time": "2023-07-08T17:26:43.620Z"
   },
   {
    "duration": 3,
    "start_time": "2023-07-08T17:26:43.873Z"
   },
   {
    "duration": 133,
    "start_time": "2023-07-08T17:26:43.878Z"
   },
   {
    "duration": 24,
    "start_time": "2023-07-08T17:26:44.012Z"
   },
   {
    "duration": 54,
    "start_time": "2023-07-08T17:26:44.038Z"
   },
   {
    "duration": 46,
    "start_time": "2023-07-08T17:26:44.095Z"
   },
   {
    "duration": 99,
    "start_time": "2023-07-08T17:26:44.143Z"
   },
   {
    "duration": 703,
    "start_time": "2023-07-08T17:26:44.244Z"
   },
   {
    "duration": 1283,
    "start_time": "2023-07-08T17:26:44.949Z"
   },
   {
    "duration": 419,
    "start_time": "2023-07-08T17:26:46.235Z"
   },
   {
    "duration": 213,
    "start_time": "2023-07-08T17:26:46.658Z"
   },
   {
    "duration": 4,
    "start_time": "2023-07-08T17:26:46.873Z"
   },
   {
    "duration": 101,
    "start_time": "2023-07-08T17:26:46.878Z"
   },
   {
    "duration": 4,
    "start_time": "2023-07-08T17:26:46.981Z"
   },
   {
    "duration": 230,
    "start_time": "2023-07-08T17:26:46.987Z"
   },
   {
    "duration": 394,
    "start_time": "2023-07-08T17:26:47.219Z"
   },
   {
    "duration": 94,
    "start_time": "2023-07-08T17:26:47.615Z"
   },
   {
    "duration": 228,
    "start_time": "2023-07-08T17:26:47.711Z"
   },
   {
    "duration": 226,
    "start_time": "2023-07-08T17:26:47.941Z"
   },
   {
    "duration": 152,
    "start_time": "2023-07-08T17:26:48.169Z"
   },
   {
    "duration": 219,
    "start_time": "2023-07-08T17:26:48.323Z"
   },
   {
    "duration": 403,
    "start_time": "2023-07-08T17:26:48.544Z"
   },
   {
    "duration": 95,
    "start_time": "2023-07-08T17:26:48.949Z"
   },
   {
    "duration": 230,
    "start_time": "2023-07-08T17:26:49.046Z"
   },
   {
    "duration": 188,
    "start_time": "2023-07-08T17:26:49.278Z"
   },
   {
    "duration": 394,
    "start_time": "2023-07-08T17:26:49.468Z"
   },
   {
    "duration": 103,
    "start_time": "2023-07-08T17:26:49.864Z"
   },
   {
    "duration": 190,
    "start_time": "2023-07-08T17:26:49.969Z"
   },
   {
    "duration": 204,
    "start_time": "2023-07-08T17:26:50.165Z"
   },
   {
    "duration": 177,
    "start_time": "2023-07-08T17:26:50.372Z"
   },
   {
    "duration": 167,
    "start_time": "2023-07-08T17:26:50.551Z"
   },
   {
    "duration": 164,
    "start_time": "2023-07-08T17:26:50.720Z"
   },
   {
    "duration": 17,
    "start_time": "2023-07-08T17:26:50.886Z"
   },
   {
    "duration": 60,
    "start_time": "2023-07-08T17:26:50.905Z"
   },
   {
    "duration": 21,
    "start_time": "2023-07-08T17:26:50.967Z"
   },
   {
    "duration": 43,
    "start_time": "2023-07-08T17:26:50.991Z"
   },
   {
    "duration": 40,
    "start_time": "2023-07-08T17:26:51.036Z"
   },
   {
    "duration": 169,
    "start_time": "2023-07-08T17:26:51.078Z"
   },
   {
    "duration": 16,
    "start_time": "2023-07-08T17:26:51.249Z"
   },
   {
    "duration": 10,
    "start_time": "2023-07-08T17:26:51.267Z"
   },
   {
    "duration": 40,
    "start_time": "2023-07-08T17:26:51.279Z"
   },
   {
    "duration": 51,
    "start_time": "2023-07-08T17:26:51.321Z"
   },
   {
    "duration": 39,
    "start_time": "2023-07-08T17:26:51.374Z"
   },
   {
    "duration": 19,
    "start_time": "2023-07-08T17:26:51.415Z"
   },
   {
    "duration": 72,
    "start_time": "2023-07-08T17:26:51.436Z"
   },
   {
    "duration": 164,
    "start_time": "2023-07-08T17:26:51.510Z"
   },
   {
    "duration": 15,
    "start_time": "2023-07-08T17:26:51.675Z"
   },
   {
    "duration": 14,
    "start_time": "2023-07-08T17:26:51.692Z"
   },
   {
    "duration": 12,
    "start_time": "2023-07-08T17:26:51.708Z"
   },
   {
    "duration": 55,
    "start_time": "2023-07-08T17:26:51.722Z"
   },
   {
    "duration": 28,
    "start_time": "2023-07-08T17:26:51.779Z"
   },
   {
    "duration": 191,
    "start_time": "2023-07-08T17:26:51.809Z"
   },
   {
    "duration": 32,
    "start_time": "2023-07-08T17:26:52.002Z"
   },
   {
    "duration": 47,
    "start_time": "2023-07-08T17:26:52.035Z"
   },
   {
    "duration": 17,
    "start_time": "2023-07-08T17:26:52.084Z"
   },
   {
    "duration": 1618,
    "start_time": "2023-07-08T17:26:52.103Z"
   },
   {
    "duration": 23,
    "start_time": "2023-07-08T17:26:53.723Z"
   },
   {
    "duration": 438,
    "start_time": "2023-07-08T17:26:53.748Z"
   },
   {
    "duration": 21,
    "start_time": "2023-07-08T17:26:54.188Z"
   },
   {
    "duration": 17,
    "start_time": "2023-07-08T17:26:54.211Z"
   },
   {
    "duration": 105,
    "start_time": "2023-07-08T17:26:54.231Z"
   },
   {
    "duration": 22,
    "start_time": "2023-07-08T17:26:54.338Z"
   },
   {
    "duration": 10,
    "start_time": "2023-07-08T17:26:54.361Z"
   },
   {
    "duration": 57579,
    "start_time": "2023-07-08T17:26:54.373Z"
   },
   {
    "duration": 29,
    "start_time": "2023-07-08T17:27:51.954Z"
   },
   {
    "duration": 238,
    "start_time": "2023-07-08T17:27:51.985Z"
   },
   {
    "duration": 124,
    "start_time": "2023-07-08T17:27:52.225Z"
   },
   {
    "duration": 263425,
    "start_time": "2023-07-08T17:27:52.351Z"
   },
   {
    "duration": 6,
    "start_time": "2023-07-08T17:32:15.861Z"
   },
   {
    "duration": 94999,
    "start_time": "2023-07-08T17:32:15.869Z"
   },
   {
    "duration": 90,
    "start_time": "2023-07-08T17:33:50.871Z"
   },
   {
    "duration": 18,
    "start_time": "2023-07-08T17:33:50.963Z"
   },
   {
    "duration": 149195,
    "start_time": "2023-07-08T17:33:50.983Z"
   },
   {
    "duration": 2,
    "start_time": "2023-07-08T17:36:20.180Z"
   },
   {
    "duration": 153,
    "start_time": "2023-07-08T17:36:20.184Z"
   },
   {
    "duration": 3,
    "start_time": "2023-07-08T17:36:20.339Z"
   },
   {
    "duration": 27,
    "start_time": "2023-07-08T17:36:20.344Z"
   },
   {
    "duration": 3395,
    "start_time": "2023-07-08T17:36:20.373Z"
   },
   {
    "duration": 14214,
    "start_time": "2023-07-08T17:36:23.770Z"
   },
   {
    "duration": 9,
    "start_time": "2023-07-08T17:36:37.986Z"
   },
   {
    "duration": 63,
    "start_time": "2023-07-08T17:36:37.997Z"
   },
   {
    "duration": 140,
    "start_time": "2023-07-08T17:36:38.062Z"
   },
   {
    "duration": 0,
    "start_time": "2023-07-08T17:36:38.203Z"
   },
   {
    "duration": 0,
    "start_time": "2023-07-08T17:36:38.204Z"
   },
   {
    "duration": 11,
    "start_time": "2023-07-08T17:38:00.967Z"
   },
   {
    "duration": 650,
    "start_time": "2023-07-08T17:38:16.329Z"
   },
   {
    "duration": 5,
    "start_time": "2023-07-08T17:38:17.807Z"
   },
   {
    "duration": 4065,
    "start_time": "2023-07-09T07:47:36.665Z"
   },
   {
    "duration": 2266,
    "start_time": "2023-07-09T07:47:40.732Z"
   },
   {
    "duration": 2094,
    "start_time": "2023-07-09T07:47:43.000Z"
   },
   {
    "duration": 3058,
    "start_time": "2023-07-09T07:47:45.095Z"
   },
   {
    "duration": 20,
    "start_time": "2023-07-09T07:47:48.156Z"
   },
   {
    "duration": 130,
    "start_time": "2023-07-09T07:47:48.178Z"
   },
   {
    "duration": 61,
    "start_time": "2023-07-09T07:47:48.310Z"
   },
   {
    "duration": 3,
    "start_time": "2023-07-09T07:47:48.374Z"
   },
   {
    "duration": 45,
    "start_time": "2023-07-09T07:47:48.378Z"
   },
   {
    "duration": 11,
    "start_time": "2023-07-09T07:47:48.425Z"
   },
   {
    "duration": 1326,
    "start_time": "2023-07-09T07:47:48.438Z"
   },
   {
    "duration": 8,
    "start_time": "2023-07-09T07:48:19.871Z"
   },
   {
    "duration": 137,
    "start_time": "2023-07-09T07:48:31.103Z"
   },
   {
    "duration": 73,
    "start_time": "2023-07-09T07:49:28.013Z"
   },
   {
    "duration": 66,
    "start_time": "2023-07-09T07:49:36.774Z"
   },
   {
    "duration": 68,
    "start_time": "2023-07-09T07:50:22.790Z"
   },
   {
    "duration": 85,
    "start_time": "2023-07-09T07:50:55.450Z"
   },
   {
    "duration": 63,
    "start_time": "2023-07-09T07:51:02.325Z"
   },
   {
    "duration": 89,
    "start_time": "2023-07-09T07:51:13.794Z"
   },
   {
    "duration": 113,
    "start_time": "2023-07-09T07:51:17.053Z"
   },
   {
    "duration": 28,
    "start_time": "2023-07-09T07:51:19.244Z"
   },
   {
    "duration": 11,
    "start_time": "2023-07-09T07:51:25.623Z"
   },
   {
    "duration": 1620,
    "start_time": "2023-07-09T07:51:56.274Z"
   },
   {
    "duration": 7,
    "start_time": "2023-07-09T07:52:03.998Z"
   },
   {
    "duration": 24,
    "start_time": "2023-07-09T07:52:08.624Z"
   },
   {
    "duration": 7,
    "start_time": "2023-07-09T07:52:55.190Z"
   },
   {
    "duration": 13,
    "start_time": "2023-07-09T07:54:51.354Z"
   },
   {
    "duration": 2571,
    "start_time": "2023-07-09T07:56:32.073Z"
   },
   {
    "duration": 2447,
    "start_time": "2023-07-09T07:56:34.647Z"
   },
   {
    "duration": 9,
    "start_time": "2023-07-09T07:56:37.098Z"
   },
   {
    "duration": 936,
    "start_time": "2023-07-09T07:56:37.108Z"
   },
   {
    "duration": 34,
    "start_time": "2023-07-09T07:56:38.049Z"
   },
   {
    "duration": 137,
    "start_time": "2023-07-09T07:56:38.086Z"
   },
   {
    "duration": 41,
    "start_time": "2023-07-09T07:56:38.225Z"
   },
   {
    "duration": 4,
    "start_time": "2023-07-09T07:56:38.268Z"
   },
   {
    "duration": 46,
    "start_time": "2023-07-09T07:56:38.273Z"
   },
   {
    "duration": 13,
    "start_time": "2023-07-09T07:56:38.321Z"
   },
   {
    "duration": 1570,
    "start_time": "2023-07-09T07:56:38.336Z"
   },
   {
    "duration": 118,
    "start_time": "2023-07-09T07:56:39.908Z"
   },
   {
    "duration": 272,
    "start_time": "2023-07-09T07:56:40.028Z"
   },
   {
    "duration": 4,
    "start_time": "2023-07-09T07:56:40.303Z"
   },
   {
    "duration": 143,
    "start_time": "2023-07-09T07:56:40.308Z"
   },
   {
    "duration": 39,
    "start_time": "2023-07-09T07:56:40.452Z"
   },
   {
    "duration": 32,
    "start_time": "2023-07-09T07:56:40.493Z"
   },
   {
    "duration": 58,
    "start_time": "2023-07-09T07:56:40.526Z"
   },
   {
    "duration": 85,
    "start_time": "2023-07-09T07:56:40.587Z"
   },
   {
    "duration": 632,
    "start_time": "2023-07-09T07:56:40.679Z"
   },
   {
    "duration": 1433,
    "start_time": "2023-07-09T07:56:41.313Z"
   },
   {
    "duration": 666,
    "start_time": "2023-07-09T07:56:42.748Z"
   },
   {
    "duration": 198,
    "start_time": "2023-07-09T07:56:43.416Z"
   },
   {
    "duration": 4,
    "start_time": "2023-07-09T07:56:43.616Z"
   },
   {
    "duration": 117,
    "start_time": "2023-07-09T07:56:43.622Z"
   },
   {
    "duration": 4,
    "start_time": "2023-07-09T07:56:43.741Z"
   },
   {
    "duration": 257,
    "start_time": "2023-07-09T07:56:43.747Z"
   },
   {
    "duration": 541,
    "start_time": "2023-07-09T07:56:44.006Z"
   },
   {
    "duration": 123,
    "start_time": "2023-07-09T07:56:44.550Z"
   },
   {
    "duration": 245,
    "start_time": "2023-07-09T07:56:44.675Z"
   },
   {
    "duration": 263,
    "start_time": "2023-07-09T07:56:44.923Z"
   },
   {
    "duration": 176,
    "start_time": "2023-07-09T07:56:45.188Z"
   },
   {
    "duration": 261,
    "start_time": "2023-07-09T07:56:45.368Z"
   },
   {
    "duration": 465,
    "start_time": "2023-07-09T07:56:45.631Z"
   },
   {
    "duration": 111,
    "start_time": "2023-07-09T07:56:46.098Z"
   },
   {
    "duration": 257,
    "start_time": "2023-07-09T07:56:46.211Z"
   },
   {
    "duration": 207,
    "start_time": "2023-07-09T07:56:46.470Z"
   },
   {
    "duration": 456,
    "start_time": "2023-07-09T07:56:46.679Z"
   },
   {
    "duration": 106,
    "start_time": "2023-07-09T07:56:47.137Z"
   },
   {
    "duration": 204,
    "start_time": "2023-07-09T07:56:47.245Z"
   },
   {
    "duration": 74,
    "start_time": "2023-07-09T07:56:47.452Z"
   },
   {
    "duration": 223,
    "start_time": "2023-07-09T07:57:02.200Z"
   },
   {
    "duration": 2506,
    "start_time": "2023-07-09T07:57:34.749Z"
   },
   {
    "duration": 2375,
    "start_time": "2023-07-09T07:57:37.257Z"
   },
   {
    "duration": 1967,
    "start_time": "2023-07-09T07:57:39.634Z"
   },
   {
    "duration": 952,
    "start_time": "2023-07-09T07:57:41.603Z"
   },
   {
    "duration": 22,
    "start_time": "2023-07-09T07:57:42.558Z"
   },
   {
    "duration": 148,
    "start_time": "2023-07-09T07:57:42.583Z"
   },
   {
    "duration": 62,
    "start_time": "2023-07-09T07:57:42.733Z"
   },
   {
    "duration": 4,
    "start_time": "2023-07-09T07:57:42.797Z"
   },
   {
    "duration": 59,
    "start_time": "2023-07-09T07:57:42.803Z"
   },
   {
    "duration": 20,
    "start_time": "2023-07-09T07:57:42.865Z"
   },
   {
    "duration": 1491,
    "start_time": "2023-07-09T07:57:42.887Z"
   },
   {
    "duration": 140,
    "start_time": "2023-07-09T07:57:44.382Z"
   },
   {
    "duration": 279,
    "start_time": "2023-07-09T07:57:44.525Z"
   },
   {
    "duration": 3,
    "start_time": "2023-07-09T07:57:44.807Z"
   },
   {
    "duration": 140,
    "start_time": "2023-07-09T07:57:44.812Z"
   },
   {
    "duration": 27,
    "start_time": "2023-07-09T07:57:44.959Z"
   },
   {
    "duration": 30,
    "start_time": "2023-07-09T07:57:44.987Z"
   },
   {
    "duration": 97,
    "start_time": "2023-07-09T07:57:45.019Z"
   },
   {
    "duration": 82,
    "start_time": "2023-07-09T07:57:45.118Z"
   },
   {
    "duration": 817,
    "start_time": "2023-07-09T07:57:45.201Z"
   },
   {
    "duration": 1471,
    "start_time": "2023-07-09T07:57:46.020Z"
   },
   {
    "duration": 496,
    "start_time": "2023-07-09T07:57:47.493Z"
   },
   {
    "duration": 195,
    "start_time": "2023-07-09T07:57:47.991Z"
   },
   {
    "duration": 6,
    "start_time": "2023-07-09T07:57:48.188Z"
   },
   {
    "duration": 136,
    "start_time": "2023-07-09T07:57:48.196Z"
   },
   {
    "duration": 5,
    "start_time": "2023-07-09T07:57:48.333Z"
   },
   {
    "duration": 276,
    "start_time": "2023-07-09T07:57:48.340Z"
   },
   {
    "duration": 440,
    "start_time": "2023-07-09T07:57:48.619Z"
   },
   {
    "duration": 104,
    "start_time": "2023-07-09T07:57:49.061Z"
   },
   {
    "duration": 257,
    "start_time": "2023-07-09T07:57:49.167Z"
   },
   {
    "duration": 237,
    "start_time": "2023-07-09T07:57:49.425Z"
   },
   {
    "duration": 235,
    "start_time": "2023-07-09T07:57:49.664Z"
   },
   {
    "duration": 267,
    "start_time": "2023-07-09T07:57:49.901Z"
   },
   {
    "duration": 442,
    "start_time": "2023-07-09T07:57:50.170Z"
   },
   {
    "duration": 105,
    "start_time": "2023-07-09T07:57:50.614Z"
   },
   {
    "duration": 269,
    "start_time": "2023-07-09T07:57:50.721Z"
   },
   {
    "duration": 201,
    "start_time": "2023-07-09T07:57:50.992Z"
   },
   {
    "duration": 431,
    "start_time": "2023-07-09T07:57:51.195Z"
   },
   {
    "duration": 106,
    "start_time": "2023-07-09T07:57:51.628Z"
   },
   {
    "duration": 195,
    "start_time": "2023-07-09T07:57:51.736Z"
   },
   {
    "duration": 84,
    "start_time": "2023-07-09T07:57:51.936Z"
   },
   {
    "duration": 331,
    "start_time": "2023-07-09T07:57:52.022Z"
   },
   {
    "duration": 2894,
    "start_time": "2023-07-09T08:01:40.361Z"
   },
   {
    "duration": 119,
    "start_time": "2023-07-09T08:01:48.205Z"
   },
   {
    "duration": 90,
    "start_time": "2023-07-09T08:01:54.016Z"
   },
   {
    "duration": 111,
    "start_time": "2023-07-09T08:02:20.222Z"
   },
   {
    "duration": 130,
    "start_time": "2023-07-09T08:05:00.297Z"
   },
   {
    "duration": 15,
    "start_time": "2023-07-09T08:07:30.545Z"
   },
   {
    "duration": 32,
    "start_time": "2023-07-09T08:07:34.003Z"
   },
   {
    "duration": 32,
    "start_time": "2023-07-09T08:07:54.901Z"
   },
   {
    "duration": 186,
    "start_time": "2023-07-09T08:07:58.017Z"
   },
   {
    "duration": 164,
    "start_time": "2023-07-09T08:08:16.227Z"
   },
   {
    "duration": 65,
    "start_time": "2023-07-09T08:09:57.417Z"
   },
   {
    "duration": 74,
    "start_time": "2023-07-09T08:10:08.738Z"
   },
   {
    "duration": 69,
    "start_time": "2023-07-09T08:10:23.352Z"
   },
   {
    "duration": 287,
    "start_time": "2023-07-09T08:10:26.011Z"
   },
   {
    "duration": 218,
    "start_time": "2023-07-09T08:10:49.706Z"
   },
   {
    "duration": 160,
    "start_time": "2023-07-09T08:10:52.529Z"
   },
   {
    "duration": 177,
    "start_time": "2023-07-09T08:10:58.227Z"
   },
   {
    "duration": 15,
    "start_time": "2023-07-09T08:11:07.521Z"
   },
   {
    "duration": 66,
    "start_time": "2023-07-09T08:11:15.332Z"
   },
   {
    "duration": 2447,
    "start_time": "2023-07-09T08:12:17.318Z"
   },
   {
    "duration": 2558,
    "start_time": "2023-07-09T08:12:19.768Z"
   },
   {
    "duration": 2408,
    "start_time": "2023-07-09T08:12:22.328Z"
   },
   {
    "duration": 1036,
    "start_time": "2023-07-09T08:12:24.738Z"
   },
   {
    "duration": 21,
    "start_time": "2023-07-09T08:12:25.777Z"
   },
   {
    "duration": 123,
    "start_time": "2023-07-09T08:12:25.800Z"
   },
   {
    "duration": 70,
    "start_time": "2023-07-09T08:12:25.925Z"
   },
   {
    "duration": 4,
    "start_time": "2023-07-09T08:12:25.997Z"
   },
   {
    "duration": 70,
    "start_time": "2023-07-09T08:12:26.003Z"
   },
   {
    "duration": 26,
    "start_time": "2023-07-09T08:12:26.076Z"
   },
   {
    "duration": 1702,
    "start_time": "2023-07-09T08:12:26.105Z"
   },
   {
    "duration": 102,
    "start_time": "2023-07-09T08:12:27.809Z"
   },
   {
    "duration": 475,
    "start_time": "2023-07-09T08:12:27.913Z"
   },
   {
    "duration": 4,
    "start_time": "2023-07-09T08:12:28.392Z"
   },
   {
    "duration": 155,
    "start_time": "2023-07-09T08:12:28.398Z"
   },
   {
    "duration": 21,
    "start_time": "2023-07-09T08:12:28.558Z"
   },
   {
    "duration": 24,
    "start_time": "2023-07-09T08:12:28.581Z"
   },
   {
    "duration": 77,
    "start_time": "2023-07-09T08:12:28.607Z"
   },
   {
    "duration": 120,
    "start_time": "2023-07-09T08:12:28.687Z"
   },
   {
    "duration": 767,
    "start_time": "2023-07-09T08:12:28.810Z"
   },
   {
    "duration": 1529,
    "start_time": "2023-07-09T08:12:29.581Z"
   },
   {
    "duration": 485,
    "start_time": "2023-07-09T08:12:31.113Z"
   },
   {
    "duration": 276,
    "start_time": "2023-07-09T08:12:31.600Z"
   },
   {
    "duration": 8,
    "start_time": "2023-07-09T08:12:31.879Z"
   },
   {
    "duration": 192,
    "start_time": "2023-07-09T08:12:31.893Z"
   },
   {
    "duration": 18,
    "start_time": "2023-07-09T08:12:32.087Z"
   },
   {
    "duration": 371,
    "start_time": "2023-07-09T08:12:32.110Z"
   },
   {
    "duration": 561,
    "start_time": "2023-07-09T08:12:32.484Z"
   },
   {
    "duration": 185,
    "start_time": "2023-07-09T08:12:33.047Z"
   },
   {
    "duration": 296,
    "start_time": "2023-07-09T08:12:33.234Z"
   },
   {
    "duration": 261,
    "start_time": "2023-07-09T08:12:33.532Z"
   },
   {
    "duration": 181,
    "start_time": "2023-07-09T08:12:33.795Z"
   },
   {
    "duration": 324,
    "start_time": "2023-07-09T08:12:33.979Z"
   },
   {
    "duration": 513,
    "start_time": "2023-07-09T08:12:34.305Z"
   },
   {
    "duration": 108,
    "start_time": "2023-07-09T08:12:34.820Z"
   },
   {
    "duration": 263,
    "start_time": "2023-07-09T08:12:34.930Z"
   },
   {
    "duration": 226,
    "start_time": "2023-07-09T08:12:35.195Z"
   },
   {
    "duration": 597,
    "start_time": "2023-07-09T08:12:35.424Z"
   },
   {
    "duration": 188,
    "start_time": "2023-07-09T08:12:36.025Z"
   },
   {
    "duration": 325,
    "start_time": "2023-07-09T08:12:36.216Z"
   },
   {
    "duration": 77,
    "start_time": "2023-07-09T08:12:36.545Z"
   },
   {
    "duration": 151,
    "start_time": "2023-07-09T08:18:30.229Z"
   },
   {
    "duration": 222,
    "start_time": "2023-07-09T08:18:34.153Z"
   },
   {
    "duration": 48,
    "start_time": "2023-07-09T08:18:37.909Z"
   },
   {
    "duration": 195,
    "start_time": "2023-07-09T08:23:20.409Z"
   },
   {
    "duration": 167,
    "start_time": "2023-07-09T08:23:30.818Z"
   },
   {
    "duration": 184,
    "start_time": "2023-07-09T08:23:34.123Z"
   },
   {
    "duration": 16,
    "start_time": "2023-07-09T08:23:44.819Z"
   },
   {
    "duration": 54,
    "start_time": "2023-07-09T08:24:13.040Z"
   },
   {
    "duration": 19,
    "start_time": "2023-07-09T08:24:17.779Z"
   },
   {
    "duration": 49,
    "start_time": "2023-07-09T08:24:31.450Z"
   },
   {
    "duration": 19,
    "start_time": "2023-07-09T08:24:32.008Z"
   },
   {
    "duration": 187,
    "start_time": "2023-07-09T08:26:00.924Z"
   },
   {
    "duration": 37,
    "start_time": "2023-07-09T08:27:20.649Z"
   },
   {
    "duration": 21,
    "start_time": "2023-07-09T08:27:22.404Z"
   },
   {
    "duration": 160,
    "start_time": "2023-07-09T08:27:23.350Z"
   },
   {
    "duration": 13,
    "start_time": "2023-07-09T08:27:23.929Z"
   },
   {
    "duration": 11,
    "start_time": "2023-07-09T08:27:24.403Z"
   },
   {
    "duration": 49,
    "start_time": "2023-07-09T08:27:24.799Z"
   },
   {
    "duration": 22,
    "start_time": "2023-07-09T08:27:25.005Z"
   },
   {
    "duration": 57,
    "start_time": "2023-07-09T08:27:25.699Z"
   },
   {
    "duration": 23,
    "start_time": "2023-07-09T08:27:26.110Z"
   },
   {
    "duration": 61,
    "start_time": "2023-07-09T08:27:26.549Z"
   },
   {
    "duration": 150,
    "start_time": "2023-07-09T08:27:27.003Z"
   },
   {
    "duration": 14,
    "start_time": "2023-07-09T08:27:27.200Z"
   },
   {
    "duration": 14,
    "start_time": "2023-07-09T08:27:27.406Z"
   },
   {
    "duration": 7,
    "start_time": "2023-07-09T08:27:27.624Z"
   },
   {
    "duration": 36,
    "start_time": "2023-07-09T08:27:28.040Z"
   },
   {
    "duration": 30,
    "start_time": "2023-07-09T08:27:28.529Z"
   },
   {
    "duration": 187,
    "start_time": "2023-07-09T08:27:28.961Z"
   },
   {
    "duration": 32,
    "start_time": "2023-07-09T08:27:29.408Z"
   },
   {
    "duration": 40,
    "start_time": "2023-07-09T08:27:29.850Z"
   },
   {
    "duration": 23,
    "start_time": "2023-07-09T08:27:30.070Z"
   },
   {
    "duration": 1738,
    "start_time": "2023-07-09T08:27:30.760Z"
   },
   {
    "duration": 19,
    "start_time": "2023-07-09T08:27:32.500Z"
   },
   {
    "duration": 411,
    "start_time": "2023-07-09T08:27:32.859Z"
   },
   {
    "duration": 19,
    "start_time": "2023-07-09T08:27:36.359Z"
   },
   {
    "duration": 12,
    "start_time": "2023-07-09T08:27:36.701Z"
   },
   {
    "duration": 182,
    "start_time": "2023-07-09T09:10:25.244Z"
   },
   {
    "duration": 12,
    "start_time": "2023-07-09T09:10:25.499Z"
   },
   {
    "duration": 99,
    "start_time": "2023-07-09T09:10:29.522Z"
   },
   {
    "duration": 14,
    "start_time": "2023-07-09T09:10:31.203Z"
   },
   {
    "duration": 134,
    "start_time": "2023-07-09T09:10:31.220Z"
   },
   {
    "duration": 60745,
    "start_time": "2023-07-09T09:10:31.356Z"
   },
   {
    "duration": 28,
    "start_time": "2023-07-09T09:11:32.103Z"
   },
   {
    "duration": 167,
    "start_time": "2023-07-09T09:11:32.133Z"
   },
   {
    "duration": 8,
    "start_time": "2023-07-09T09:15:55.676Z"
   },
   {
    "duration": 4,
    "start_time": "2023-07-09T09:17:31.005Z"
   },
   {
    "duration": 17,
    "start_time": "2023-07-09T09:18:18.844Z"
   },
   {
    "duration": 39,
    "start_time": "2023-07-09T09:18:47.100Z"
   },
   {
    "duration": 17,
    "start_time": "2023-07-09T09:19:00.941Z"
   },
   {
    "duration": 46,
    "start_time": "2023-07-09T09:19:06.161Z"
   },
   {
    "duration": 18,
    "start_time": "2023-07-09T09:19:33.522Z"
   },
   {
    "duration": 38,
    "start_time": "2023-07-09T09:19:44.803Z"
   },
   {
    "duration": 11,
    "start_time": "2023-07-09T09:27:30.997Z"
   },
   {
    "duration": 3,
    "start_time": "2023-07-09T09:27:52.676Z"
   },
   {
    "duration": 10,
    "start_time": "2023-07-09T09:27:57.591Z"
   },
   {
    "duration": 16,
    "start_time": "2023-07-09T09:28:17.772Z"
   },
   {
    "duration": 12,
    "start_time": "2023-07-09T09:28:36.198Z"
   },
   {
    "duration": 2561,
    "start_time": "2023-07-09T09:29:07.621Z"
   },
   {
    "duration": 2520,
    "start_time": "2023-07-09T09:29:10.186Z"
   },
   {
    "duration": 2096,
    "start_time": "2023-07-09T09:29:12.708Z"
   },
   {
    "duration": 1529,
    "start_time": "2023-07-09T09:29:14.806Z"
   },
   {
    "duration": 19,
    "start_time": "2023-07-09T09:29:16.337Z"
   },
   {
    "duration": 148,
    "start_time": "2023-07-09T09:29:16.358Z"
   },
   {
    "duration": 72,
    "start_time": "2023-07-09T09:29:16.510Z"
   },
   {
    "duration": 4,
    "start_time": "2023-07-09T09:29:16.585Z"
   },
   {
    "duration": 59,
    "start_time": "2023-07-09T09:29:16.591Z"
   },
   {
    "duration": 31,
    "start_time": "2023-07-09T09:29:16.652Z"
   },
   {
    "duration": 1444,
    "start_time": "2023-07-09T09:29:16.686Z"
   },
   {
    "duration": 111,
    "start_time": "2023-07-09T09:29:18.131Z"
   },
   {
    "duration": 259,
    "start_time": "2023-07-09T09:29:18.244Z"
   },
   {
    "duration": 3,
    "start_time": "2023-07-09T09:29:18.506Z"
   },
   {
    "duration": 139,
    "start_time": "2023-07-09T09:29:18.511Z"
   },
   {
    "duration": 35,
    "start_time": "2023-07-09T09:29:18.652Z"
   },
   {
    "duration": 30,
    "start_time": "2023-07-09T09:29:18.690Z"
   },
   {
    "duration": 51,
    "start_time": "2023-07-09T09:29:18.722Z"
   },
   {
    "duration": 75,
    "start_time": "2023-07-09T09:29:18.775Z"
   },
   {
    "duration": 810,
    "start_time": "2023-07-09T09:29:18.852Z"
   },
   {
    "duration": 1441,
    "start_time": "2023-07-09T09:29:19.665Z"
   },
   {
    "duration": 499,
    "start_time": "2023-07-09T09:29:21.108Z"
   },
   {
    "duration": 215,
    "start_time": "2023-07-09T09:29:21.609Z"
   },
   {
    "duration": 4,
    "start_time": "2023-07-09T09:29:21.826Z"
   },
   {
    "duration": 111,
    "start_time": "2023-07-09T09:29:21.832Z"
   },
   {
    "duration": 5,
    "start_time": "2023-07-09T09:29:21.944Z"
   },
   {
    "duration": 276,
    "start_time": "2023-07-09T09:29:21.951Z"
   },
   {
    "duration": 534,
    "start_time": "2023-07-09T09:29:22.229Z"
   },
   {
    "duration": 104,
    "start_time": "2023-07-09T09:29:22.766Z"
   },
   {
    "duration": 263,
    "start_time": "2023-07-09T09:29:22.873Z"
   },
   {
    "duration": 267,
    "start_time": "2023-07-09T09:29:23.137Z"
   },
   {
    "duration": 172,
    "start_time": "2023-07-09T09:29:23.405Z"
   },
   {
    "duration": 239,
    "start_time": "2023-07-09T09:29:23.579Z"
   },
   {
    "duration": 515,
    "start_time": "2023-07-09T09:29:23.820Z"
   },
   {
    "duration": 131,
    "start_time": "2023-07-09T09:29:24.337Z"
   },
   {
    "duration": 264,
    "start_time": "2023-07-09T09:29:24.471Z"
   },
   {
    "duration": 216,
    "start_time": "2023-07-09T09:29:24.737Z"
   },
   {
    "duration": 462,
    "start_time": "2023-07-09T09:29:24.958Z"
   },
   {
    "duration": 104,
    "start_time": "2023-07-09T09:29:25.422Z"
   },
   {
    "duration": 248,
    "start_time": "2023-07-09T09:29:25.528Z"
   },
   {
    "duration": 79,
    "start_time": "2023-07-09T09:29:25.784Z"
   },
   {
    "duration": 146,
    "start_time": "2023-07-09T09:29:25.866Z"
   },
   {
    "duration": 200,
    "start_time": "2023-07-09T09:29:26.014Z"
   },
   {
    "duration": 57,
    "start_time": "2023-07-09T09:29:26.215Z"
   },
   {
    "duration": 225,
    "start_time": "2023-07-09T09:29:26.274Z"
   },
   {
    "duration": 188,
    "start_time": "2023-07-09T09:29:26.500Z"
   },
   {
    "duration": 174,
    "start_time": "2023-07-09T09:29:26.690Z"
   },
   {
    "duration": 15,
    "start_time": "2023-07-09T09:29:26.869Z"
   },
   {
    "duration": 51,
    "start_time": "2023-07-09T09:29:26.887Z"
   },
   {
    "duration": 34,
    "start_time": "2023-07-09T09:29:26.940Z"
   },
   {
    "duration": 40,
    "start_time": "2023-07-09T09:29:26.976Z"
   },
   {
    "duration": 18,
    "start_time": "2023-07-09T09:29:27.018Z"
   },
   {
    "duration": 180,
    "start_time": "2023-07-09T09:29:27.038Z"
   },
   {
    "duration": 11,
    "start_time": "2023-07-09T09:29:27.219Z"
   },
   {
    "duration": 8,
    "start_time": "2023-07-09T09:29:27.231Z"
   },
   {
    "duration": 70,
    "start_time": "2023-07-09T09:29:27.241Z"
   },
   {
    "duration": 18,
    "start_time": "2023-07-09T09:29:27.312Z"
   },
   {
    "duration": 62,
    "start_time": "2023-07-09T09:29:27.331Z"
   },
   {
    "duration": 17,
    "start_time": "2023-07-09T09:29:27.395Z"
   },
   {
    "duration": 76,
    "start_time": "2023-07-09T09:29:27.414Z"
   },
   {
    "duration": 158,
    "start_time": "2023-07-09T09:29:27.492Z"
   },
   {
    "duration": 21,
    "start_time": "2023-07-09T09:29:27.652Z"
   },
   {
    "duration": 20,
    "start_time": "2023-07-09T09:29:27.675Z"
   },
   {
    "duration": 18,
    "start_time": "2023-07-09T09:29:27.696Z"
   },
   {
    "duration": 36,
    "start_time": "2023-07-09T09:29:27.716Z"
   },
   {
    "duration": 35,
    "start_time": "2023-07-09T09:29:27.753Z"
   },
   {
    "duration": 208,
    "start_time": "2023-07-09T09:29:27.791Z"
   },
   {
    "duration": 30,
    "start_time": "2023-07-09T09:29:28.001Z"
   },
   {
    "duration": 56,
    "start_time": "2023-07-09T09:29:28.033Z"
   },
   {
    "duration": 17,
    "start_time": "2023-07-09T09:29:28.096Z"
   },
   {
    "duration": 1812,
    "start_time": "2023-07-09T09:29:28.115Z"
   },
   {
    "duration": 30,
    "start_time": "2023-07-09T09:29:29.929Z"
   },
   {
    "duration": 460,
    "start_time": "2023-07-09T09:29:29.962Z"
   },
   {
    "duration": 18,
    "start_time": "2023-07-09T09:29:30.424Z"
   },
   {
    "duration": 45,
    "start_time": "2023-07-09T09:29:30.444Z"
   },
   {
    "duration": 151,
    "start_time": "2023-07-09T09:29:30.491Z"
   },
   {
    "duration": 24,
    "start_time": "2023-07-09T09:29:30.644Z"
   },
   {
    "duration": 41,
    "start_time": "2023-07-09T09:29:30.671Z"
   },
   {
    "duration": 207,
    "start_time": "2023-07-09T09:29:30.714Z"
   },
   {
    "duration": 0,
    "start_time": "2023-07-09T09:29:30.923Z"
   },
   {
    "duration": 0,
    "start_time": "2023-07-09T09:29:30.924Z"
   },
   {
    "duration": 64414,
    "start_time": "2023-07-09T09:30:06.841Z"
   },
   {
    "duration": 2410,
    "start_time": "2023-07-09T10:12:31.271Z"
   },
   {
    "duration": 2510,
    "start_time": "2023-07-09T10:12:33.684Z"
   },
   {
    "duration": 6,
    "start_time": "2023-07-09T10:12:36.196Z"
   },
   {
    "duration": 1412,
    "start_time": "2023-07-09T10:12:36.203Z"
   },
   {
    "duration": 15,
    "start_time": "2023-07-09T10:12:37.618Z"
   },
   {
    "duration": 149,
    "start_time": "2023-07-09T10:12:37.635Z"
   },
   {
    "duration": 23,
    "start_time": "2023-07-09T10:12:37.786Z"
   },
   {
    "duration": 4,
    "start_time": "2023-07-09T10:12:37.811Z"
   },
   {
    "duration": 68,
    "start_time": "2023-07-09T10:12:37.817Z"
   },
   {
    "duration": 12,
    "start_time": "2023-07-09T10:12:37.887Z"
   },
   {
    "duration": 1413,
    "start_time": "2023-07-09T10:12:37.901Z"
   },
   {
    "duration": 119,
    "start_time": "2023-07-09T10:12:39.316Z"
   },
   {
    "duration": 281,
    "start_time": "2023-07-09T10:12:39.437Z"
   },
   {
    "duration": 3,
    "start_time": "2023-07-09T10:12:39.722Z"
   },
   {
    "duration": 120,
    "start_time": "2023-07-09T10:12:39.727Z"
   },
   {
    "duration": 40,
    "start_time": "2023-07-09T10:12:39.849Z"
   },
   {
    "duration": 29,
    "start_time": "2023-07-09T10:12:39.891Z"
   },
   {
    "duration": 50,
    "start_time": "2023-07-09T10:12:39.922Z"
   },
   {
    "duration": 97,
    "start_time": "2023-07-09T10:12:39.975Z"
   },
   {
    "duration": 630,
    "start_time": "2023-07-09T10:12:40.074Z"
   },
   {
    "duration": 1584,
    "start_time": "2023-07-09T10:12:40.706Z"
   },
   {
    "duration": 467,
    "start_time": "2023-07-09T10:12:42.292Z"
   },
   {
    "duration": 193,
    "start_time": "2023-07-09T10:12:42.762Z"
   },
   {
    "duration": 13,
    "start_time": "2023-07-09T10:12:42.957Z"
   },
   {
    "duration": 97,
    "start_time": "2023-07-09T10:12:42.973Z"
   },
   {
    "duration": 6,
    "start_time": "2023-07-09T10:12:43.075Z"
   },
   {
    "duration": 266,
    "start_time": "2023-07-09T10:12:43.083Z"
   },
   {
    "duration": 417,
    "start_time": "2023-07-09T10:12:43.351Z"
   },
   {
    "duration": 109,
    "start_time": "2023-07-09T10:12:43.770Z"
   },
   {
    "duration": 273,
    "start_time": "2023-07-09T10:12:43.881Z"
   },
   {
    "duration": 310,
    "start_time": "2023-07-09T10:12:44.166Z"
   },
   {
    "duration": 169,
    "start_time": "2023-07-09T10:12:44.479Z"
   },
   {
    "duration": 248,
    "start_time": "2023-07-09T10:12:44.650Z"
   },
   {
    "duration": 480,
    "start_time": "2023-07-09T10:12:44.901Z"
   },
   {
    "duration": 120,
    "start_time": "2023-07-09T10:12:45.384Z"
   },
   {
    "duration": 251,
    "start_time": "2023-07-09T10:12:45.505Z"
   },
   {
    "duration": 215,
    "start_time": "2023-07-09T10:12:45.760Z"
   },
   {
    "duration": 478,
    "start_time": "2023-07-09T10:12:45.978Z"
   },
   {
    "duration": 114,
    "start_time": "2023-07-09T10:12:46.461Z"
   },
   {
    "duration": 217,
    "start_time": "2023-07-09T10:12:46.577Z"
   },
   {
    "duration": 101,
    "start_time": "2023-07-09T10:12:46.801Z"
   },
   {
    "duration": 134,
    "start_time": "2023-07-09T10:12:46.905Z"
   },
   {
    "duration": 48,
    "start_time": "2023-07-09T10:12:47.041Z"
   },
   {
    "duration": 40,
    "start_time": "2023-07-09T10:12:47.091Z"
   },
   {
    "duration": 218,
    "start_time": "2023-07-09T10:12:47.133Z"
   },
   {
    "duration": 180,
    "start_time": "2023-07-09T10:12:47.354Z"
   },
   {
    "duration": 327,
    "start_time": "2023-07-09T10:12:47.536Z"
   },
   {
    "duration": 15,
    "start_time": "2023-07-09T10:12:47.871Z"
   },
   {
    "duration": 34,
    "start_time": "2023-07-09T10:12:47.888Z"
   },
   {
    "duration": 43,
    "start_time": "2023-07-09T10:12:47.924Z"
   },
   {
    "duration": 40,
    "start_time": "2023-07-09T10:12:47.969Z"
   },
   {
    "duration": 17,
    "start_time": "2023-07-09T10:12:48.012Z"
   },
   {
    "duration": 197,
    "start_time": "2023-07-09T10:12:48.031Z"
   },
   {
    "duration": 10,
    "start_time": "2023-07-09T10:12:48.230Z"
   },
   {
    "duration": 24,
    "start_time": "2023-07-09T10:12:48.242Z"
   },
   {
    "duration": 38,
    "start_time": "2023-07-09T10:12:48.272Z"
   },
   {
    "duration": 18,
    "start_time": "2023-07-09T10:12:48.312Z"
   },
   {
    "duration": 68,
    "start_time": "2023-07-09T10:12:48.332Z"
   },
   {
    "duration": 17,
    "start_time": "2023-07-09T10:12:48.402Z"
   },
   {
    "duration": 60,
    "start_time": "2023-07-09T10:12:48.421Z"
   },
   {
    "duration": 148,
    "start_time": "2023-07-09T10:12:48.482Z"
   },
   {
    "duration": 12,
    "start_time": "2023-07-09T10:12:48.632Z"
   },
   {
    "duration": 30,
    "start_time": "2023-07-09T10:12:48.646Z"
   },
   {
    "duration": 8,
    "start_time": "2023-07-09T10:12:48.678Z"
   },
   {
    "duration": 31,
    "start_time": "2023-07-09T10:12:48.688Z"
   },
   {
    "duration": 60,
    "start_time": "2023-07-09T10:12:48.720Z"
   },
   {
    "duration": 192,
    "start_time": "2023-07-09T10:12:48.781Z"
   },
   {
    "duration": 29,
    "start_time": "2023-07-09T10:12:48.976Z"
   },
   {
    "duration": 25,
    "start_time": "2023-07-09T10:12:49.007Z"
   },
   {
    "duration": 44,
    "start_time": "2023-07-09T10:12:49.035Z"
   },
   {
    "duration": 1655,
    "start_time": "2023-07-09T10:12:49.081Z"
   },
   {
    "duration": 29,
    "start_time": "2023-07-09T10:12:50.738Z"
   },
   {
    "duration": 442,
    "start_time": "2023-07-09T10:12:50.769Z"
   },
   {
    "duration": 17,
    "start_time": "2023-07-09T10:12:51.213Z"
   },
   {
    "duration": 33,
    "start_time": "2023-07-09T10:12:51.231Z"
   },
   {
    "duration": 88,
    "start_time": "2023-07-09T10:12:51.266Z"
   },
   {
    "duration": 23,
    "start_time": "2023-07-09T10:12:51.356Z"
   },
   {
    "duration": 13,
    "start_time": "2023-07-09T10:12:51.382Z"
   },
   {
    "duration": 51530,
    "start_time": "2023-07-09T10:12:51.397Z"
   },
   {
    "duration": 31,
    "start_time": "2023-07-09T10:13:42.929Z"
   },
   {
    "duration": 120,
    "start_time": "2023-07-09T10:13:42.961Z"
   },
   {
    "duration": 421,
    "start_time": "2023-07-09T10:13:55.819Z"
   },
   {
    "duration": 3,
    "start_time": "2023-07-09T10:13:57.057Z"
   },
   {
    "duration": 127,
    "start_time": "2023-07-09T10:13:57.403Z"
   },
   {
    "duration": 12,
    "start_time": "2023-07-09T10:14:10.457Z"
   },
   {
    "duration": 26,
    "start_time": "2023-07-09T10:14:21.038Z"
   },
   {
    "duration": 8,
    "start_time": "2023-07-09T10:14:27.908Z"
   },
   {
    "duration": 48,
    "start_time": "2023-07-09T10:14:29.011Z"
   },
   {
    "duration": 116,
    "start_time": "2023-07-09T10:14:32.356Z"
   },
   {
    "duration": 49,
    "start_time": "2023-07-09T10:14:38.115Z"
   },
   {
    "duration": 32,
    "start_time": "2023-07-09T10:14:45.667Z"
   },
   {
    "duration": 881,
    "start_time": "2023-07-09T10:15:15.115Z"
   },
   {
    "duration": 250,
    "start_time": "2023-07-09T10:16:13.647Z"
   },
   {
    "duration": 26,
    "start_time": "2023-07-09T10:16:19.507Z"
   },
   {
    "duration": 60,
    "start_time": "2023-07-09T10:17:37.158Z"
   },
   {
    "duration": 2368,
    "start_time": "2023-07-09T10:18:00.920Z"
   },
   {
    "duration": 2301,
    "start_time": "2023-07-09T10:18:03.291Z"
   },
   {
    "duration": 1915,
    "start_time": "2023-07-09T10:18:05.594Z"
   },
   {
    "duration": 1043,
    "start_time": "2023-07-09T10:18:07.512Z"
   },
   {
    "duration": 18,
    "start_time": "2023-07-09T10:18:08.558Z"
   },
   {
    "duration": 125,
    "start_time": "2023-07-09T10:18:08.578Z"
   },
   {
    "duration": 68,
    "start_time": "2023-07-09T10:18:08.705Z"
   },
   {
    "duration": 4,
    "start_time": "2023-07-09T10:18:08.775Z"
   },
   {
    "duration": 55,
    "start_time": "2023-07-09T10:18:08.781Z"
   },
   {
    "duration": 26,
    "start_time": "2023-07-09T10:18:08.838Z"
   },
   {
    "duration": 1281,
    "start_time": "2023-07-09T10:18:08.866Z"
   },
   {
    "duration": 103,
    "start_time": "2023-07-09T10:18:10.149Z"
   },
   {
    "duration": 231,
    "start_time": "2023-07-09T10:18:10.258Z"
   },
   {
    "duration": 3,
    "start_time": "2023-07-09T10:18:10.493Z"
   },
   {
    "duration": 125,
    "start_time": "2023-07-09T10:18:10.498Z"
   },
   {
    "duration": 20,
    "start_time": "2023-07-09T10:18:10.625Z"
   },
   {
    "duration": 37,
    "start_time": "2023-07-09T10:18:10.646Z"
   },
   {
    "duration": 36,
    "start_time": "2023-07-09T10:18:10.685Z"
   },
   {
    "duration": 85,
    "start_time": "2023-07-09T10:18:10.722Z"
   },
   {
    "duration": 762,
    "start_time": "2023-07-09T10:18:10.809Z"
   },
   {
    "duration": 1285,
    "start_time": "2023-07-09T10:18:11.573Z"
   },
   {
    "duration": 439,
    "start_time": "2023-07-09T10:18:12.860Z"
   },
   {
    "duration": 210,
    "start_time": "2023-07-09T10:18:13.301Z"
   },
   {
    "duration": 3,
    "start_time": "2023-07-09T10:18:13.513Z"
   },
   {
    "duration": 109,
    "start_time": "2023-07-09T10:18:13.518Z"
   },
   {
    "duration": 9,
    "start_time": "2023-07-09T10:18:13.629Z"
   },
   {
    "duration": 234,
    "start_time": "2023-07-09T10:18:13.640Z"
   },
   {
    "duration": 489,
    "start_time": "2023-07-09T10:18:13.877Z"
   },
   {
    "duration": 95,
    "start_time": "2023-07-09T10:18:14.368Z"
   },
   {
    "duration": 251,
    "start_time": "2023-07-09T10:18:14.465Z"
   },
   {
    "duration": 224,
    "start_time": "2023-07-09T10:18:14.717Z"
   },
   {
    "duration": 161,
    "start_time": "2023-07-09T10:18:14.943Z"
   },
   {
    "duration": 256,
    "start_time": "2023-07-09T10:18:15.107Z"
   },
   {
    "duration": 446,
    "start_time": "2023-07-09T10:18:15.365Z"
   },
   {
    "duration": 95,
    "start_time": "2023-07-09T10:18:15.813Z"
   },
   {
    "duration": 234,
    "start_time": "2023-07-09T10:18:15.910Z"
   },
   {
    "duration": 187,
    "start_time": "2023-07-09T10:18:16.146Z"
   },
   {
    "duration": 404,
    "start_time": "2023-07-09T10:18:16.334Z"
   },
   {
    "duration": 97,
    "start_time": "2023-07-09T10:18:16.740Z"
   },
   {
    "duration": 192,
    "start_time": "2023-07-09T10:18:16.839Z"
   },
   {
    "duration": 70,
    "start_time": "2023-07-09T10:18:17.036Z"
   },
   {
    "duration": 124,
    "start_time": "2023-07-09T10:18:17.108Z"
   },
   {
    "duration": 169,
    "start_time": "2023-07-09T10:18:17.234Z"
   },
   {
    "duration": 58,
    "start_time": "2023-07-09T10:18:17.404Z"
   },
   {
    "duration": 197,
    "start_time": "2023-07-09T10:18:17.464Z"
   },
   {
    "duration": 172,
    "start_time": "2023-07-09T10:18:17.663Z"
   },
   {
    "duration": 163,
    "start_time": "2023-07-09T10:18:17.837Z"
   },
   {
    "duration": 14,
    "start_time": "2023-07-09T10:18:18.002Z"
   },
   {
    "duration": 58,
    "start_time": "2023-07-09T10:18:18.017Z"
   },
   {
    "duration": 18,
    "start_time": "2023-07-09T10:18:18.077Z"
   },
   {
    "duration": 38,
    "start_time": "2023-07-09T10:18:18.097Z"
   },
   {
    "duration": 34,
    "start_time": "2023-07-09T10:18:18.136Z"
   },
   {
    "duration": 157,
    "start_time": "2023-07-09T10:18:18.172Z"
   },
   {
    "duration": 10,
    "start_time": "2023-07-09T10:18:18.331Z"
   },
   {
    "duration": 20,
    "start_time": "2023-07-09T10:18:18.343Z"
   },
   {
    "duration": 36,
    "start_time": "2023-07-09T10:18:18.364Z"
   },
   {
    "duration": 16,
    "start_time": "2023-07-09T10:18:18.402Z"
   },
   {
    "duration": 61,
    "start_time": "2023-07-09T10:18:18.420Z"
   },
   {
    "duration": 16,
    "start_time": "2023-07-09T10:18:18.483Z"
   },
   {
    "duration": 61,
    "start_time": "2023-07-09T10:18:18.501Z"
   },
   {
    "duration": 138,
    "start_time": "2023-07-09T10:18:18.564Z"
   },
   {
    "duration": 12,
    "start_time": "2023-07-09T10:18:18.704Z"
   },
   {
    "duration": 15,
    "start_time": "2023-07-09T10:18:18.718Z"
   },
   {
    "duration": 25,
    "start_time": "2023-07-09T10:18:18.735Z"
   },
   {
    "duration": 29,
    "start_time": "2023-07-09T10:18:18.762Z"
   },
   {
    "duration": 27,
    "start_time": "2023-07-09T10:18:18.793Z"
   },
   {
    "duration": 193,
    "start_time": "2023-07-09T10:18:18.822Z"
   },
   {
    "duration": 27,
    "start_time": "2023-07-09T10:18:19.017Z"
   },
   {
    "duration": 42,
    "start_time": "2023-07-09T10:18:19.046Z"
   },
   {
    "duration": 18,
    "start_time": "2023-07-09T10:18:19.090Z"
   },
   {
    "duration": 1628,
    "start_time": "2023-07-09T10:18:19.110Z"
   },
   {
    "duration": 30,
    "start_time": "2023-07-09T10:18:20.740Z"
   },
   {
    "duration": 412,
    "start_time": "2023-07-09T10:18:20.772Z"
   },
   {
    "duration": 17,
    "start_time": "2023-07-09T10:18:21.186Z"
   },
   {
    "duration": 11,
    "start_time": "2023-07-09T10:18:21.205Z"
   },
   {
    "duration": 96,
    "start_time": "2023-07-09T10:18:21.218Z"
   },
   {
    "duration": 15,
    "start_time": "2023-07-09T10:18:21.316Z"
   },
   {
    "duration": 26,
    "start_time": "2023-07-09T10:18:21.333Z"
   },
   {
    "duration": 52879,
    "start_time": "2023-07-09T10:18:21.361Z"
   },
   {
    "duration": 38,
    "start_time": "2023-07-09T10:19:14.242Z"
   },
   {
    "duration": 146,
    "start_time": "2023-07-09T10:19:14.282Z"
   },
   {
    "duration": 8,
    "start_time": "2023-07-09T10:19:25.158Z"
   },
   {
    "duration": 390,
    "start_time": "2023-07-09T10:19:39.415Z"
   },
   {
    "duration": 97,
    "start_time": "2023-07-09T10:20:46.676Z"
   },
   {
    "duration": 241,
    "start_time": "2023-07-09T10:20:47.277Z"
   },
   {
    "duration": 242,
    "start_time": "2023-07-09T10:23:36.718Z"
   },
   {
    "duration": 246,
    "start_time": "2023-07-09T10:24:43.319Z"
   },
   {
    "duration": 251,
    "start_time": "2023-07-09T10:24:49.609Z"
   },
   {
    "duration": 12,
    "start_time": "2023-07-09T10:25:02.537Z"
   },
   {
    "duration": 28,
    "start_time": "2023-07-09T10:25:08.793Z"
   },
   {
    "duration": 12,
    "start_time": "2023-07-09T10:25:27.548Z"
   },
   {
    "duration": 6,
    "start_time": "2023-07-09T10:25:37.236Z"
   },
   {
    "duration": 280,
    "start_time": "2023-07-09T10:25:45.138Z"
   },
   {
    "duration": 240,
    "start_time": "2023-07-09T10:25:49.678Z"
   },
   {
    "duration": 246,
    "start_time": "2023-07-09T10:27:03.315Z"
   },
   {
    "duration": 27,
    "start_time": "2023-07-09T10:27:10.808Z"
   },
   {
    "duration": 233,
    "start_time": "2023-07-09T10:27:40.629Z"
   },
   {
    "duration": 5,
    "start_time": "2023-07-09T10:27:44.839Z"
   },
   {
    "duration": 8,
    "start_time": "2023-07-09T10:27:52.974Z"
   },
   {
    "duration": 15,
    "start_time": "2023-07-09T10:27:56.628Z"
   },
   {
    "duration": 60,
    "start_time": "2023-07-09T10:28:11.326Z"
   },
   {
    "duration": 12,
    "start_time": "2023-07-09T10:29:04.061Z"
   },
   {
    "duration": 520,
    "start_time": "2023-07-09T10:29:10.312Z"
   },
   {
    "duration": 25,
    "start_time": "2023-07-09T10:29:14.212Z"
   },
   {
    "duration": 14,
    "start_time": "2023-07-09T10:29:28.308Z"
   },
   {
    "duration": 13,
    "start_time": "2023-07-09T10:29:34.915Z"
   },
   {
    "duration": 198630,
    "start_time": "2023-07-09T10:29:47.838Z"
   },
   {
    "duration": 92,
    "start_time": "2023-07-09T10:33:06.470Z"
   },
   {
    "duration": 86194,
    "start_time": "2023-07-09T10:33:06.564Z"
   },
   {
    "duration": 3,
    "start_time": "2023-07-09T10:34:32.761Z"
   },
   {
    "duration": 7,
    "start_time": "2023-07-09T10:34:32.766Z"
   },
   {
    "duration": 19,
    "start_time": "2023-07-09T11:22:45.958Z"
   },
   {
    "duration": 345,
    "start_time": "2023-07-09T11:23:14.179Z"
   },
   {
    "duration": 246,
    "start_time": "2023-07-09T11:24:15.915Z"
   },
   {
    "duration": 134,
    "start_time": "2023-07-09T11:24:34.914Z"
   },
   {
    "duration": 7375,
    "start_time": "2023-07-09T11:24:37.542Z"
   },
   {
    "duration": 9,
    "start_time": "2023-07-09T11:25:31.914Z"
   },
   {
    "duration": 5,
    "start_time": "2023-07-09T11:25:40.216Z"
   },
   {
    "duration": 14,
    "start_time": "2023-07-09T11:26:08.962Z"
   },
   {
    "duration": 4,
    "start_time": "2023-07-09T11:26:15.632Z"
   },
   {
    "duration": 13,
    "start_time": "2023-07-09T11:26:31.271Z"
   },
   {
    "duration": 5,
    "start_time": "2023-07-09T11:26:54.706Z"
   },
   {
    "duration": 7610,
    "start_time": "2023-07-09T11:28:24.761Z"
   },
   {
    "duration": 8,
    "start_time": "2023-07-09T11:30:04.038Z"
   },
   {
    "duration": 93,
    "start_time": "2023-07-09T11:30:21.732Z"
   },
   {
    "duration": 4,
    "start_time": "2023-07-09T11:30:36.649Z"
   },
   {
    "duration": 6691,
    "start_time": "2023-07-09T11:33:36.898Z"
   },
   {
    "duration": 160971,
    "start_time": "2023-07-09T11:37:29.012Z"
   },
   {
    "duration": 35804,
    "start_time": "2023-07-09T11:40:21.784Z"
   },
   {
    "duration": 100964,
    "start_time": "2023-07-09T11:41:04.825Z"
   },
   {
    "duration": 4589640,
    "start_time": "2023-07-09T11:43:12.052Z"
   },
   {
    "duration": 760442,
    "start_time": "2023-07-09T13:00:04.826Z"
   },
   {
    "duration": 4,
    "start_time": "2023-07-09T13:56:46.232Z"
   },
   {
    "duration": 4,
    "start_time": "2023-07-09T13:56:52.413Z"
   },
   {
    "duration": 4,
    "start_time": "2023-07-09T13:57:17.297Z"
   },
   {
    "duration": 4,
    "start_time": "2023-07-09T13:57:40.793Z"
   },
   {
    "duration": 4,
    "start_time": "2023-07-09T13:58:00.502Z"
   },
   {
    "duration": 17,
    "start_time": "2023-07-09T15:02:00.490Z"
   },
   {
    "duration": 11,
    "start_time": "2023-07-09T15:03:02.120Z"
   },
   {
    "duration": 11,
    "start_time": "2023-07-09T15:03:06.578Z"
   },
   {
    "duration": 7,
    "start_time": "2023-07-09T15:03:49.110Z"
   },
   {
    "duration": 8,
    "start_time": "2023-07-09T15:04:04.115Z"
   },
   {
    "duration": 5580,
    "start_time": "2023-07-09T15:05:22.027Z"
   },
   {
    "duration": 8,
    "start_time": "2023-07-09T15:06:56.615Z"
   },
   {
    "duration": 7646,
    "start_time": "2023-07-09T15:07:53.123Z"
   },
   {
    "duration": 13,
    "start_time": "2023-07-09T15:16:05.206Z"
   },
   {
    "duration": 12,
    "start_time": "2023-07-09T15:18:41.493Z"
   },
   {
    "duration": 11,
    "start_time": "2023-07-09T15:18:51.403Z"
   },
   {
    "duration": 13,
    "start_time": "2023-07-09T15:21:35.385Z"
   },
   {
    "duration": 6905,
    "start_time": "2023-07-09T15:22:22.496Z"
   },
   {
    "duration": 6321,
    "start_time": "2023-07-09T15:22:42.857Z"
   },
   {
    "duration": 15,
    "start_time": "2023-07-09T15:23:03.018Z"
   },
   {
    "duration": 33,
    "start_time": "2023-07-09T15:27:59.526Z"
   },
   {
    "duration": 5,
    "start_time": "2023-07-09T15:31:05.873Z"
   },
   {
    "duration": 49,
    "start_time": "2023-07-09T15:31:34.495Z"
   },
   {
    "duration": 525,
    "start_time": "2023-07-09T15:32:02.634Z"
   },
   {
    "duration": 5,
    "start_time": "2023-07-09T15:32:41.001Z"
   },
   {
    "duration": 3825,
    "start_time": "2024-02-12T14:57:40.716Z"
   },
   {
    "duration": 2395,
    "start_time": "2024-02-12T14:57:44.544Z"
   },
   {
    "duration": 1556,
    "start_time": "2024-02-12T14:57:46.940Z"
   },
   {
    "duration": 945,
    "start_time": "2024-02-12T14:57:48.498Z"
   },
   {
    "duration": 14,
    "start_time": "2024-02-12T14:57:49.444Z"
   },
   {
    "duration": 168,
    "start_time": "2024-02-12T14:57:49.460Z"
   },
   {
    "duration": 43,
    "start_time": "2024-02-12T14:57:49.630Z"
   },
   {
    "duration": 3,
    "start_time": "2024-02-12T14:57:49.674Z"
   },
   {
    "duration": 69,
    "start_time": "2024-02-12T14:57:49.678Z"
   },
   {
    "duration": 25,
    "start_time": "2024-02-12T14:57:49.750Z"
   },
   {
    "duration": 1116,
    "start_time": "2024-02-12T14:57:49.777Z"
   },
   {
    "duration": 83,
    "start_time": "2024-02-12T14:57:50.895Z"
   },
   {
    "duration": 180,
    "start_time": "2024-02-12T14:57:50.980Z"
   },
   {
    "duration": 3,
    "start_time": "2024-02-12T14:57:51.162Z"
   },
   {
    "duration": 115,
    "start_time": "2024-02-12T14:57:51.166Z"
   },
   {
    "duration": 20,
    "start_time": "2024-02-12T14:57:51.282Z"
   },
   {
    "duration": 35,
    "start_time": "2024-02-12T14:57:51.303Z"
   },
   {
    "duration": 32,
    "start_time": "2024-02-12T14:57:51.339Z"
   },
   {
    "duration": 57,
    "start_time": "2024-02-12T14:57:51.373Z"
   },
   {
    "duration": 515,
    "start_time": "2024-02-12T14:57:51.431Z"
   },
   {
    "duration": 1086,
    "start_time": "2024-02-12T14:57:51.948Z"
   },
   {
    "duration": 318,
    "start_time": "2024-02-12T14:57:53.035Z"
   },
   {
    "duration": 152,
    "start_time": "2024-02-12T14:57:53.354Z"
   },
   {
    "duration": 3,
    "start_time": "2024-02-12T14:57:53.507Z"
   },
   {
    "duration": 83,
    "start_time": "2024-02-12T14:57:53.511Z"
   },
   {
    "duration": 4,
    "start_time": "2024-02-12T14:57:53.601Z"
   },
   {
    "duration": 185,
    "start_time": "2024-02-12T14:57:53.606Z"
   },
   {
    "duration": 301,
    "start_time": "2024-02-12T14:57:53.795Z"
   },
   {
    "duration": 77,
    "start_time": "2024-02-12T14:57:54.098Z"
   },
   {
    "duration": 184,
    "start_time": "2024-02-12T14:57:54.176Z"
   },
   {
    "duration": 179,
    "start_time": "2024-02-12T14:57:54.361Z"
   },
   {
    "duration": 134,
    "start_time": "2024-02-12T14:57:54.541Z"
   },
   {
    "duration": 174,
    "start_time": "2024-02-12T14:57:54.676Z"
   },
   {
    "duration": 320,
    "start_time": "2024-02-12T14:57:54.851Z"
   },
   {
    "duration": 86,
    "start_time": "2024-02-12T14:57:55.173Z"
   },
   {
    "duration": 181,
    "start_time": "2024-02-12T14:57:55.260Z"
   },
   {
    "duration": 217,
    "start_time": "2024-02-12T14:57:55.442Z"
   },
   {
    "duration": 307,
    "start_time": "2024-02-12T14:57:55.660Z"
   },
   {
    "duration": 81,
    "start_time": "2024-02-12T14:57:55.968Z"
   },
   {
    "duration": 153,
    "start_time": "2024-02-12T14:57:56.050Z"
   },
   {
    "duration": 50,
    "start_time": "2024-02-12T14:57:56.204Z"
   },
   {
    "duration": 108,
    "start_time": "2024-02-12T14:57:56.255Z"
   },
   {
    "duration": 23,
    "start_time": "2024-02-12T14:57:56.364Z"
   },
   {
    "duration": 44,
    "start_time": "2024-02-12T14:57:56.388Z"
   },
   {
    "duration": 144,
    "start_time": "2024-02-12T14:57:56.434Z"
   },
   {
    "duration": 129,
    "start_time": "2024-02-12T14:57:56.580Z"
   },
   {
    "duration": 128,
    "start_time": "2024-02-12T14:57:56.710Z"
   },
   {
    "duration": 8,
    "start_time": "2024-02-12T14:57:56.839Z"
   },
   {
    "duration": 48,
    "start_time": "2024-02-12T14:57:56.848Z"
   },
   {
    "duration": 13,
    "start_time": "2024-02-12T14:57:56.898Z"
   },
   {
    "duration": 25,
    "start_time": "2024-02-12T14:57:56.913Z"
   },
   {
    "duration": 13,
    "start_time": "2024-02-12T14:57:56.940Z"
   },
   {
    "duration": 131,
    "start_time": "2024-02-12T14:57:56.954Z"
   },
   {
    "duration": 19,
    "start_time": "2024-02-12T14:57:57.087Z"
   },
   {
    "duration": 6,
    "start_time": "2024-02-12T14:57:57.107Z"
   },
   {
    "duration": 28,
    "start_time": "2024-02-12T14:57:57.114Z"
   },
   {
    "duration": 14,
    "start_time": "2024-02-12T14:57:57.143Z"
   },
   {
    "duration": 44,
    "start_time": "2024-02-12T14:57:57.158Z"
   },
   {
    "duration": 13,
    "start_time": "2024-02-12T14:57:57.204Z"
   },
   {
    "duration": 31,
    "start_time": "2024-02-12T14:57:57.218Z"
   },
   {
    "duration": 120,
    "start_time": "2024-02-12T14:57:57.250Z"
   },
   {
    "duration": 9,
    "start_time": "2024-02-12T14:57:57.372Z"
   },
   {
    "duration": 32,
    "start_time": "2024-02-12T14:57:57.382Z"
   },
   {
    "duration": 6,
    "start_time": "2024-02-12T14:57:57.415Z"
   },
   {
    "duration": 28,
    "start_time": "2024-02-12T14:57:57.422Z"
   },
   {
    "duration": 23,
    "start_time": "2024-02-12T14:57:57.451Z"
   },
   {
    "duration": 141,
    "start_time": "2024-02-12T14:57:57.475Z"
   },
   {
    "duration": 19,
    "start_time": "2024-02-12T14:57:57.618Z"
   },
   {
    "duration": 24,
    "start_time": "2024-02-12T14:57:57.638Z"
   },
   {
    "duration": 13,
    "start_time": "2024-02-12T14:57:57.663Z"
   },
   {
    "duration": 1180,
    "start_time": "2024-02-12T14:57:57.677Z"
   },
   {
    "duration": 19,
    "start_time": "2024-02-12T14:57:58.859Z"
   },
   {
    "duration": 349,
    "start_time": "2024-02-12T14:57:58.879Z"
   },
   {
    "duration": 14,
    "start_time": "2024-02-12T14:57:59.229Z"
   },
   {
    "duration": 9,
    "start_time": "2024-02-12T14:57:59.244Z"
   },
   {
    "duration": 66,
    "start_time": "2024-02-12T14:57:59.254Z"
   },
   {
    "duration": 10,
    "start_time": "2024-02-12T14:57:59.321Z"
   },
   {
    "duration": 16,
    "start_time": "2024-02-12T14:57:59.332Z"
   },
   {
    "duration": 17927,
    "start_time": "2024-02-12T14:57:59.350Z"
   },
   {
    "duration": 17,
    "start_time": "2024-02-12T14:58:17.278Z"
   },
   {
    "duration": 88,
    "start_time": "2024-02-12T14:58:17.301Z"
   },
   {
    "duration": 8,
    "start_time": "2024-02-12T14:58:17.393Z"
   },
   {
    "duration": 54,
    "start_time": "2024-02-12T14:58:17.403Z"
   },
   {
    "duration": 359,
    "start_time": "2024-02-12T14:58:17.458Z"
   },
   {
    "duration": 10,
    "start_time": "2024-02-12T14:58:17.818Z"
   },
   {
    "duration": 157978,
    "start_time": "2024-02-12T14:58:17.829Z"
   },
   {
    "duration": 6,
    "start_time": "2024-02-12T15:00:55.808Z"
   },
   {
    "duration": 63589,
    "start_time": "2024-02-12T15:00:55.815Z"
   },
   {
    "duration": 3,
    "start_time": "2024-02-12T15:01:59.405Z"
   },
   {
    "duration": 11,
    "start_time": "2024-02-12T15:01:59.409Z"
   },
   {
    "duration": 7476,
    "start_time": "2024-02-12T15:01:59.421Z"
   },
   {
    "duration": 5,
    "start_time": "2024-02-12T15:02:06.898Z"
   },
   {
    "duration": 97,
    "start_time": "2024-02-12T15:02:06.905Z"
   },
   {
    "duration": 98110,
    "start_time": "2024-02-12T15:02:07.003Z"
   },
   {
    "duration": 3,
    "start_time": "2024-02-12T15:03:45.204Z"
   },
   {
    "duration": 33,
    "start_time": "2024-02-12T15:03:45.209Z"
   },
   {
    "duration": 33,
    "start_time": "2024-02-12T15:03:45.243Z"
   },
   {
    "duration": 60,
    "start_time": "2024-02-12T15:03:45.277Z"
   },
   {
    "duration": 465,
    "start_time": "2024-02-12T15:03:45.338Z"
   },
   {
    "duration": 3,
    "start_time": "2024-02-12T15:03:45.805Z"
   }
  ],
  "kernelspec": {
   "display_name": "Python 3 (ipykernel)",
   "language": "python",
   "name": "python3"
  },
  "language_info": {
   "codemirror_mode": {
    "name": "ipython",
    "version": 3
   },
   "file_extension": ".py",
   "mimetype": "text/x-python",
   "name": "python",
   "nbconvert_exporter": "python",
   "pygments_lexer": "ipython3",
   "version": "3.9.16"
  },
  "toc": {
   "base_numbering": 1,
   "nav_menu": {},
   "number_sections": true,
   "sideBar": true,
   "skip_h1_title": true,
   "title_cell": "Table of Contents",
   "title_sidebar": "Contents",
   "toc_cell": false,
   "toc_position": {
    "height": "calc(100% - 180px)",
    "left": "10px",
    "top": "150px",
    "width": "371px"
   },
   "toc_section_display": true,
   "toc_window_display": true
  },
  "varInspector": {
   "cols": {
    "lenName": 16,
    "lenType": 16,
    "lenVar": 40
   },
   "kernels_config": {
    "python": {
     "delete_cmd_postfix": "",
     "delete_cmd_prefix": "del ",
     "library": "var_list.py",
     "varRefreshCmd": "print(var_dic_list())"
    },
    "r": {
     "delete_cmd_postfix": ") ",
     "delete_cmd_prefix": "rm(",
     "library": "var_list.r",
     "varRefreshCmd": "cat(var_dic_list()) "
    }
   },
   "types_to_exclude": [
    "module",
    "function",
    "builtin_function_or_method",
    "instance",
    "_Feature"
   ],
   "window_display": false
  }
 },
 "nbformat": 4,
 "nbformat_minor": 2
}
