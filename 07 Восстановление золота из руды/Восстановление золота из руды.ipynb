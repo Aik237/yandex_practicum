{
 "cells": [
  {
   "cell_type": "markdown",
   "metadata": {
    "toc": true
   },
   "source": [
    "<h1>Содержание<span class=\"tocSkip\"></span></h1>\n",
    "<div class=\"toc\"><ul class=\"toc-item\"><li><span><a href=\"#Подготовка-данных\" data-toc-modified-id=\"Подготовка-данных-1\"><span class=\"toc-item-num\">1&nbsp;&nbsp;</span>Подготовка данных</a></span><ul class=\"toc-item\"><li><span><a href=\"#Загрузка-данных\" data-toc-modified-id=\"Загрузка-данных-1.1\"><span class=\"toc-item-num\">1.1&nbsp;&nbsp;</span>Загрузка данных</a></span></li><li><span><a href=\"#Корректность-расчетов\" data-toc-modified-id=\"Корректность-расчетов-1.2\"><span class=\"toc-item-num\">1.2&nbsp;&nbsp;</span>Корректность расчетов</a></span></li><li><span><a href=\"#Признаки-в-тестовой-и-обучающей-выборке\" data-toc-modified-id=\"Признаки-в-тестовой-и-обучающей-выборке-1.3\"><span class=\"toc-item-num\">1.3&nbsp;&nbsp;</span>Признаки в тестовой и обучающей выборке</a></span></li><li><span><a href=\"#Предобработка-данных\" data-toc-modified-id=\"Предобработка-данных-1.4\"><span class=\"toc-item-num\">1.4&nbsp;&nbsp;</span>Предобработка данных</a></span><ul class=\"toc-item\"><li><span><a href=\"#Пропущенные-значения\" data-toc-modified-id=\"Пропущенные-значения-1.4.1\"><span class=\"toc-item-num\">1.4.1&nbsp;&nbsp;</span>Пропущенные значения</a></span></li><li><span><a href=\"#Тип-данных\" data-toc-modified-id=\"Тип-данных-1.4.2\"><span class=\"toc-item-num\">1.4.2&nbsp;&nbsp;</span>Тип данных</a></span></li><li><span><a href=\"#Дубликаты\" data-toc-modified-id=\"Дубликаты-1.4.3\"><span class=\"toc-item-num\">1.4.3&nbsp;&nbsp;</span>Дубликаты</a></span></li></ul></li><li><span><a href=\"#Вывод\" data-toc-modified-id=\"Вывод-1.5\"><span class=\"toc-item-num\">1.5&nbsp;&nbsp;</span>Вывод</a></span></li></ul></li><li><span><a href=\"#Анализ-данных\" data-toc-modified-id=\"Анализ-данных-2\"><span class=\"toc-item-num\">2&nbsp;&nbsp;</span>Анализ данных</a></span><ul class=\"toc-item\"><li><span><a href=\"#Изменение-концетрации-Au,-Ag,-Pb\" data-toc-modified-id=\"Изменение-концетрации-Au,-Ag,-Pb-2.1\"><span class=\"toc-item-num\">2.1&nbsp;&nbsp;</span>Изменение концетрации Au, Ag, Pb</a></span></li><li><span><a href=\"#Сравнение-размеров-гранул\" data-toc-modified-id=\"Сравнение-размеров-гранул-2.2\"><span class=\"toc-item-num\">2.2&nbsp;&nbsp;</span>Сравнение размеров гранул</a></span></li><li><span><a href=\"#Суммарные-концентрации\" data-toc-modified-id=\"Суммарные-концентрации-2.3\"><span class=\"toc-item-num\">2.3&nbsp;&nbsp;</span>Суммарные концентрации</a></span></li></ul></li><li><span><a href=\"#Модель\" data-toc-modified-id=\"Модель-3\"><span class=\"toc-item-num\">3&nbsp;&nbsp;</span>Модель</a></span><ul class=\"toc-item\"><li><span><a href=\"#Функция-для-sMAPE\" data-toc-modified-id=\"Функция-для-sMAPE-3.1\"><span class=\"toc-item-num\">3.1&nbsp;&nbsp;</span>Функция для sMAPE</a></span></li><li><span><a href=\"#Обучим-и-проверим-модели\" data-toc-modified-id=\"Обучим-и-проверим-модели-3.2\"><span class=\"toc-item-num\">3.2&nbsp;&nbsp;</span>Обучим и проверим модели</a></span><ul class=\"toc-item\"><li><span><a href=\"#Random-Forest-Regression\" data-toc-modified-id=\"Random-Forest-Regression-3.2.1\"><span class=\"toc-item-num\">3.2.1&nbsp;&nbsp;</span>Random Forest Regression</a></span></li><li><span><a href=\"#Extra-Trees-Regressor\" data-toc-modified-id=\"Extra-Trees-Regressor-3.2.2\"><span class=\"toc-item-num\">3.2.2&nbsp;&nbsp;</span>Extra Trees Regressor</a></span></li><li><span><a href=\"#Gradient-Boosting-Regressor\" data-toc-modified-id=\"Gradient-Boosting-Regressor-3.2.3\"><span class=\"toc-item-num\">3.2.3&nbsp;&nbsp;</span>Gradient Boosting Regressor</a></span></li><li><span><a href=\"#Вывод\" data-toc-modified-id=\"Вывод-3.2.4\"><span class=\"toc-item-num\">3.2.4&nbsp;&nbsp;</span>Вывод</a></span></li></ul></li><li><span><a href=\"#Проверка-на-тестовой\" data-toc-modified-id=\"Проверка-на-тестовой-3.3\"><span class=\"toc-item-num\">3.3&nbsp;&nbsp;</span>Проверка на тестовой</a></span></li><li><span><a href=\"#Проверка-на-адекватность\" data-toc-modified-id=\"Проверка-на-адекватность-3.4\"><span class=\"toc-item-num\">3.4&nbsp;&nbsp;</span>Проверка на адекватность</a></span></li></ul></li><li><span><a href=\"#Общий-вывод\" data-toc-modified-id=\"Общий-вывод-4\"><span class=\"toc-item-num\">4&nbsp;&nbsp;</span>Общий вывод</a></span></li><li><span><a href=\"#Чек-лист-готовности-проекта\" data-toc-modified-id=\"Чек-лист-готовности-проекта-5\"><span class=\"toc-item-num\">5&nbsp;&nbsp;</span>Чек-лист готовности проекта</a></span></li></ul></div>"
   ]
  },
  {
   "cell_type": "markdown",
   "metadata": {},
   "source": [
    "# Восстановление золота из руды"
   ]
  },
  {
   "cell_type": "markdown",
   "metadata": {},
   "source": [
    "Подготовьте прототип модели машинного обучения для «Цифры». Компания разрабатывает решения для эффективной работы промышленных предприятий.\n",
    "\n",
    "Модель должна предсказать коэффициент восстановления золота из золотосодержащей руды. Используйте данные с параметрами добычи и очистки. \n",
    "\n",
    "Модель поможет оптимизировать производство, чтобы не запускать предприятие с убыточными характеристиками.\n",
    "\n",
    "Вам нужно:\n",
    "\n",
    "1. Подготовить данные;\n",
    "2. Провести исследовательский анализ данных;\n",
    "3. Построить и обучить модель.\n",
    "\n",
    "Чтобы выполнить проект, обращайтесь к библиотекам *pandas*, *matplotlib* и *sklearn.* Вам поможет их документация."
   ]
  },
  {
   "cell_type": "code",
   "execution_count": 1,
   "metadata": {},
   "outputs": [
    {
     "name": "stdout",
     "output_type": "stream",
     "text": [
      "Requirement already satisfied: matplotlib in /opt/conda/lib/python3.9/site-packages (3.3.4)\n",
      "Collecting matplotlib\n",
      "  Downloading matplotlib-3.7.2-cp39-cp39-manylinux_2_17_x86_64.manylinux2014_x86_64.whl (11.6 MB)\n",
      "\u001b[K     |████████████████████████████████| 11.6 MB 1.4 MB/s eta 0:00:01\n",
      "\u001b[?25hRequirement already satisfied: kiwisolver>=1.0.1 in /opt/conda/lib/python3.9/site-packages (from matplotlib) (1.4.4)\n",
      "Collecting fonttools>=4.22.0\n",
      "  Downloading fonttools-4.40.0-cp39-cp39-manylinux_2_17_x86_64.manylinux2014_x86_64.whl (4.4 MB)\n",
      "\u001b[K     |████████████████████████████████| 4.4 MB 50.6 MB/s eta 0:00:01\n",
      "\u001b[?25hCollecting contourpy>=1.0.1\n",
      "  Downloading contourpy-1.1.0-cp39-cp39-manylinux_2_17_x86_64.manylinux2014_x86_64.whl (300 kB)\n",
      "\u001b[K     |████████████████████████████████| 300 kB 51.7 MB/s eta 0:00:01\n",
      "\u001b[?25hCollecting importlib-resources>=3.2.0\n",
      "  Downloading importlib_resources-5.12.0-py3-none-any.whl (36 kB)\n",
      "Requirement already satisfied: pillow>=6.2.0 in /opt/conda/lib/python3.9/site-packages (from matplotlib) (8.4.0)\n",
      "Requirement already satisfied: python-dateutil>=2.7 in /opt/conda/lib/python3.9/site-packages (from matplotlib) (2.8.1)\n",
      "Requirement already satisfied: pyparsing<3.1,>=2.3.1 in /opt/conda/lib/python3.9/site-packages (from matplotlib) (2.4.7)\n",
      "Requirement already satisfied: numpy>=1.20 in /opt/conda/lib/python3.9/site-packages (from matplotlib) (1.21.1)\n",
      "Requirement already satisfied: cycler>=0.10 in /opt/conda/lib/python3.9/site-packages (from matplotlib) (0.11.0)\n",
      "Requirement already satisfied: packaging>=20.0 in /opt/conda/lib/python3.9/site-packages (from matplotlib) (21.3)\n",
      "Requirement already satisfied: zipp>=3.1.0 in /opt/conda/lib/python3.9/site-packages (from importlib-resources>=3.2.0->matplotlib) (3.5.0)\n",
      "Requirement already satisfied: six>=1.5 in /opt/conda/lib/python3.9/site-packages (from python-dateutil>=2.7->matplotlib) (1.16.0)\n",
      "Installing collected packages: importlib-resources, fonttools, contourpy, matplotlib\n",
      "  Attempting uninstall: matplotlib\n",
      "    Found existing installation: matplotlib 3.3.4\n",
      "    Uninstalling matplotlib-3.3.4:\n",
      "      Successfully uninstalled matplotlib-3.3.4\n",
      "Successfully installed contourpy-1.1.0 fonttools-4.40.0 importlib-resources-5.12.0 matplotlib-3.7.2\n"
     ]
    }
   ],
   "source": [
    "!pip install --upgrade matplotlib"
   ]
  },
  {
   "cell_type": "code",
   "execution_count": 2,
   "metadata": {},
   "outputs": [
    {
     "name": "stdout",
     "output_type": "stream",
     "text": [
      "Requirement already satisfied: optuna in /opt/conda/lib/python3.9/site-packages (3.2.0)\n",
      "Requirement already satisfied: alembic>=1.5.0 in /opt/conda/lib/python3.9/site-packages (from optuna) (1.6.5)\n",
      "Requirement already satisfied: PyYAML in /opt/conda/lib/python3.9/site-packages (from optuna) (6.0)\n",
      "Requirement already satisfied: colorlog in /opt/conda/lib/python3.9/site-packages (from optuna) (6.7.0)\n",
      "Requirement already satisfied: sqlalchemy>=1.3.0 in /opt/conda/lib/python3.9/site-packages (from optuna) (1.4.20)\n",
      "Requirement already satisfied: cmaes>=0.9.1 in /opt/conda/lib/python3.9/site-packages (from optuna) (0.9.1)\n",
      "Requirement already satisfied: packaging>=20.0 in /opt/conda/lib/python3.9/site-packages (from optuna) (21.3)\n",
      "Requirement already satisfied: numpy in /opt/conda/lib/python3.9/site-packages (from optuna) (1.21.1)\n",
      "Requirement already satisfied: tqdm in /opt/conda/lib/python3.9/site-packages (from optuna) (4.61.2)\n",
      "Requirement already satisfied: python-editor>=0.3 in /opt/conda/lib/python3.9/site-packages (from alembic>=1.5.0->optuna) (1.0.4)\n",
      "Requirement already satisfied: python-dateutil in /opt/conda/lib/python3.9/site-packages (from alembic>=1.5.0->optuna) (2.8.1)\n",
      "Requirement already satisfied: Mako in /opt/conda/lib/python3.9/site-packages (from alembic>=1.5.0->optuna) (1.1.4)\n",
      "Requirement already satisfied: pyparsing!=3.0.5,>=2.0.2 in /opt/conda/lib/python3.9/site-packages (from packaging>=20.0->optuna) (2.4.7)\n",
      "Requirement already satisfied: greenlet!=0.4.17 in /opt/conda/lib/python3.9/site-packages (from sqlalchemy>=1.3.0->optuna) (1.1.0)\n",
      "Requirement already satisfied: MarkupSafe>=0.9.2 in /opt/conda/lib/python3.9/site-packages (from Mako->alembic>=1.5.0->optuna) (2.1.1)\n",
      "Requirement already satisfied: six>=1.5 in /opt/conda/lib/python3.9/site-packages (from python-dateutil->alembic>=1.5.0->optuna) (1.16.0)\n"
     ]
    }
   ],
   "source": [
    "!pip install optuna"
   ]
  },
  {
   "cell_type": "code",
   "execution_count": 3,
   "metadata": {},
   "outputs": [],
   "source": [
    "import pandas as pd\n",
    "import numpy as np\n",
    "import matplotlib.pyplot as plt\n",
    "import seaborn as sns\n",
    "\n",
    "from scipy.stats import ttest_ind\n",
    "\n",
    "from sklearn.metrics import mean_absolute_error, make_scorer\n",
    "from sklearn.preprocessing import StandardScaler\n",
    "from sklearn.pipeline import Pipeline\n",
    "from sklearn.ensemble import RandomForestRegressor, ExtraTreesRegressor, GradientBoostingRegressor\n",
    "from sklearn.model_selection import cross_val_score\n",
    "from sklearn.dummy import DummyRegressor\n",
    "import optuna\n",
    "\n",
    "from IPython.core import display as ICD\n",
    "\n"
   ]
  },
  {
   "cell_type": "markdown",
   "metadata": {},
   "source": [
    "## Подготовка данных"
   ]
  },
  {
   "cell_type": "markdown",
   "metadata": {},
   "source": [
    "В нашем распоряжении есть три датасета. Обучающая и тестовая выборки, а так же сырые данные. По техническому заданию необходимо проверить правильность расчета эффективности обогащения.\n",
    "\n",
    "Загрузим данные, проверим корректность расчета и сравним выборки."
   ]
  },
  {
   "cell_type": "markdown",
   "metadata": {},
   "source": [
    "### Загрузка данных"
   ]
  },
  {
   "cell_type": "code",
   "execution_count": 4,
   "metadata": {},
   "outputs": [],
   "source": [
    "gold_train = pd.read_csv('/datasets/gold_industry_train.csv')\n",
    "gold_test = pd.read_csv('/datasets/gold_industry_test.csv')\n",
    "gold_full = pd.read_csv('/datasets/gold_industry_full.csv')"
   ]
  },
  {
   "cell_type": "code",
   "execution_count": 5,
   "metadata": {
    "scrolled": false
   },
   "outputs": [
    {
     "data": {
      "text/html": [
       "<div>\n",
       "<style scoped>\n",
       "    .dataframe tbody tr th:only-of-type {\n",
       "        vertical-align: middle;\n",
       "    }\n",
       "\n",
       "    .dataframe tbody tr th {\n",
       "        vertical-align: top;\n",
       "    }\n",
       "\n",
       "    .dataframe thead th {\n",
       "        text-align: right;\n",
       "    }\n",
       "</style>\n",
       "<table border=\"1\" class=\"dataframe\">\n",
       "  <thead>\n",
       "    <tr style=\"text-align: right;\">\n",
       "      <th></th>\n",
       "      <th>date</th>\n",
       "      <th>rougher.input.feed_au</th>\n",
       "      <th>rougher.input.feed_ag</th>\n",
       "      <th>rougher.input.feed_pb</th>\n",
       "      <th>rougher.input.feed_sol</th>\n",
       "      <th>rougher.input.feed_rate</th>\n",
       "      <th>rougher.input.feed_size</th>\n",
       "      <th>rougher.input.floatbank10_sulfate</th>\n",
       "      <th>rougher.input.floatbank10_xanthate</th>\n",
       "      <th>rougher.state.floatbank10_a_air</th>\n",
       "      <th>...</th>\n",
       "      <th>secondary_cleaner.output.tail_sol</th>\n",
       "      <th>final.output.concentrate_au</th>\n",
       "      <th>final.output.concentrate_ag</th>\n",
       "      <th>final.output.concentrate_pb</th>\n",
       "      <th>final.output.concentrate_sol</th>\n",
       "      <th>final.output.recovery</th>\n",
       "      <th>final.output.tail_au</th>\n",
       "      <th>final.output.tail_ag</th>\n",
       "      <th>final.output.tail_pb</th>\n",
       "      <th>final.output.tail_sol</th>\n",
       "    </tr>\n",
       "  </thead>\n",
       "  <tbody>\n",
       "    <tr>\n",
       "      <th>0</th>\n",
       "      <td>2016-01-15 00:00:00</td>\n",
       "      <td>6.486150</td>\n",
       "      <td>6.100378</td>\n",
       "      <td>2.284912</td>\n",
       "      <td>36.808594</td>\n",
       "      <td>523.546326</td>\n",
       "      <td>55.486599</td>\n",
       "      <td>11.986616</td>\n",
       "      <td>6.007990</td>\n",
       "      <td>999.706909</td>\n",
       "      <td>...</td>\n",
       "      <td>8.764648</td>\n",
       "      <td>42.192020</td>\n",
       "      <td>6.055403</td>\n",
       "      <td>9.889648</td>\n",
       "      <td>5.507324</td>\n",
       "      <td>70.541216</td>\n",
       "      <td>2.143149</td>\n",
       "      <td>10.411962</td>\n",
       "      <td>0.895447</td>\n",
       "      <td>16.904297</td>\n",
       "    </tr>\n",
       "    <tr>\n",
       "      <th>1</th>\n",
       "      <td>2016-01-15 01:00:00</td>\n",
       "      <td>6.478583</td>\n",
       "      <td>6.161113</td>\n",
       "      <td>2.266033</td>\n",
       "      <td>35.753385</td>\n",
       "      <td>525.290581</td>\n",
       "      <td>57.278666</td>\n",
       "      <td>11.971193</td>\n",
       "      <td>6.005766</td>\n",
       "      <td>1000.286398</td>\n",
       "      <td>...</td>\n",
       "      <td>9.001494</td>\n",
       "      <td>42.701629</td>\n",
       "      <td>6.029369</td>\n",
       "      <td>9.968944</td>\n",
       "      <td>5.257781</td>\n",
       "      <td>69.266198</td>\n",
       "      <td>2.224930</td>\n",
       "      <td>10.462676</td>\n",
       "      <td>0.927452</td>\n",
       "      <td>16.634514</td>\n",
       "    </tr>\n",
       "    <tr>\n",
       "      <th>2</th>\n",
       "      <td>2016-01-15 02:00:00</td>\n",
       "      <td>6.362222</td>\n",
       "      <td>6.116455</td>\n",
       "      <td>2.159622</td>\n",
       "      <td>35.971630</td>\n",
       "      <td>530.026610</td>\n",
       "      <td>57.510649</td>\n",
       "      <td>11.920603</td>\n",
       "      <td>6.197377</td>\n",
       "      <td>999.719565</td>\n",
       "      <td>...</td>\n",
       "      <td>8.842896</td>\n",
       "      <td>42.657501</td>\n",
       "      <td>6.055926</td>\n",
       "      <td>10.213995</td>\n",
       "      <td>5.383759</td>\n",
       "      <td>68.116445</td>\n",
       "      <td>2.257889</td>\n",
       "      <td>10.507046</td>\n",
       "      <td>0.953716</td>\n",
       "      <td>16.208849</td>\n",
       "    </tr>\n",
       "    <tr>\n",
       "      <th>3</th>\n",
       "      <td>2016-01-15 03:00:00</td>\n",
       "      <td>6.118189</td>\n",
       "      <td>6.043309</td>\n",
       "      <td>2.037807</td>\n",
       "      <td>36.862241</td>\n",
       "      <td>542.590390</td>\n",
       "      <td>57.792734</td>\n",
       "      <td>11.630094</td>\n",
       "      <td>6.203177</td>\n",
       "      <td>999.814770</td>\n",
       "      <td>...</td>\n",
       "      <td>9.122857</td>\n",
       "      <td>42.689819</td>\n",
       "      <td>6.047977</td>\n",
       "      <td>9.977019</td>\n",
       "      <td>4.858634</td>\n",
       "      <td>68.347543</td>\n",
       "      <td>2.146849</td>\n",
       "      <td>10.422762</td>\n",
       "      <td>0.883763</td>\n",
       "      <td>16.532835</td>\n",
       "    </tr>\n",
       "    <tr>\n",
       "      <th>4</th>\n",
       "      <td>2016-01-15 04:00:00</td>\n",
       "      <td>5.663707</td>\n",
       "      <td>6.060915</td>\n",
       "      <td>1.786875</td>\n",
       "      <td>34.347666</td>\n",
       "      <td>540.531893</td>\n",
       "      <td>56.047189</td>\n",
       "      <td>10.957755</td>\n",
       "      <td>6.198826</td>\n",
       "      <td>999.678690</td>\n",
       "      <td>...</td>\n",
       "      <td>8.871028</td>\n",
       "      <td>42.774141</td>\n",
       "      <td>6.148599</td>\n",
       "      <td>10.142511</td>\n",
       "      <td>4.939416</td>\n",
       "      <td>66.927016</td>\n",
       "      <td>2.055292</td>\n",
       "      <td>10.360302</td>\n",
       "      <td>0.792826</td>\n",
       "      <td>16.525686</td>\n",
       "    </tr>\n",
       "  </tbody>\n",
       "</table>\n",
       "<p>5 rows × 87 columns</p>\n",
       "</div>"
      ],
      "text/plain": [
       "                  date  rougher.input.feed_au  rougher.input.feed_ag  \\\n",
       "0  2016-01-15 00:00:00               6.486150               6.100378   \n",
       "1  2016-01-15 01:00:00               6.478583               6.161113   \n",
       "2  2016-01-15 02:00:00               6.362222               6.116455   \n",
       "3  2016-01-15 03:00:00               6.118189               6.043309   \n",
       "4  2016-01-15 04:00:00               5.663707               6.060915   \n",
       "\n",
       "   rougher.input.feed_pb  rougher.input.feed_sol  rougher.input.feed_rate  \\\n",
       "0               2.284912               36.808594               523.546326   \n",
       "1               2.266033               35.753385               525.290581   \n",
       "2               2.159622               35.971630               530.026610   \n",
       "3               2.037807               36.862241               542.590390   \n",
       "4               1.786875               34.347666               540.531893   \n",
       "\n",
       "   rougher.input.feed_size  rougher.input.floatbank10_sulfate  \\\n",
       "0                55.486599                          11.986616   \n",
       "1                57.278666                          11.971193   \n",
       "2                57.510649                          11.920603   \n",
       "3                57.792734                          11.630094   \n",
       "4                56.047189                          10.957755   \n",
       "\n",
       "   rougher.input.floatbank10_xanthate  rougher.state.floatbank10_a_air  ...  \\\n",
       "0                            6.007990                       999.706909  ...   \n",
       "1                            6.005766                      1000.286398  ...   \n",
       "2                            6.197377                       999.719565  ...   \n",
       "3                            6.203177                       999.814770  ...   \n",
       "4                            6.198826                       999.678690  ...   \n",
       "\n",
       "   secondary_cleaner.output.tail_sol  final.output.concentrate_au  \\\n",
       "0                           8.764648                    42.192020   \n",
       "1                           9.001494                    42.701629   \n",
       "2                           8.842896                    42.657501   \n",
       "3                           9.122857                    42.689819   \n",
       "4                           8.871028                    42.774141   \n",
       "\n",
       "   final.output.concentrate_ag  final.output.concentrate_pb  \\\n",
       "0                     6.055403                     9.889648   \n",
       "1                     6.029369                     9.968944   \n",
       "2                     6.055926                    10.213995   \n",
       "3                     6.047977                     9.977019   \n",
       "4                     6.148599                    10.142511   \n",
       "\n",
       "   final.output.concentrate_sol  final.output.recovery  final.output.tail_au  \\\n",
       "0                      5.507324              70.541216              2.143149   \n",
       "1                      5.257781              69.266198              2.224930   \n",
       "2                      5.383759              68.116445              2.257889   \n",
       "3                      4.858634              68.347543              2.146849   \n",
       "4                      4.939416              66.927016              2.055292   \n",
       "\n",
       "   final.output.tail_ag  final.output.tail_pb  final.output.tail_sol  \n",
       "0             10.411962              0.895447              16.904297  \n",
       "1             10.462676              0.927452              16.634514  \n",
       "2             10.507046              0.953716              16.208849  \n",
       "3             10.422762              0.883763              16.532835  \n",
       "4             10.360302              0.792826              16.525686  \n",
       "\n",
       "[5 rows x 87 columns]"
      ]
     },
     "metadata": {},
     "output_type": "display_data"
    },
    {
     "data": {
      "text/html": [
       "<div>\n",
       "<style scoped>\n",
       "    .dataframe tbody tr th:only-of-type {\n",
       "        vertical-align: middle;\n",
       "    }\n",
       "\n",
       "    .dataframe tbody tr th {\n",
       "        vertical-align: top;\n",
       "    }\n",
       "\n",
       "    .dataframe thead th {\n",
       "        text-align: right;\n",
       "    }\n",
       "</style>\n",
       "<table border=\"1\" class=\"dataframe\">\n",
       "  <thead>\n",
       "    <tr style=\"text-align: right;\">\n",
       "      <th></th>\n",
       "      <th>date</th>\n",
       "      <th>rougher.input.feed_au</th>\n",
       "      <th>rougher.input.feed_ag</th>\n",
       "      <th>rougher.input.feed_pb</th>\n",
       "      <th>rougher.input.feed_sol</th>\n",
       "      <th>rougher.input.feed_rate</th>\n",
       "      <th>rougher.input.feed_size</th>\n",
       "      <th>rougher.input.floatbank10_sulfate</th>\n",
       "      <th>rougher.input.floatbank10_xanthate</th>\n",
       "      <th>rougher.state.floatbank10_a_air</th>\n",
       "      <th>...</th>\n",
       "      <th>secondary_cleaner.state.floatbank4_a_air</th>\n",
       "      <th>secondary_cleaner.state.floatbank4_a_level</th>\n",
       "      <th>secondary_cleaner.state.floatbank4_b_air</th>\n",
       "      <th>secondary_cleaner.state.floatbank4_b_level</th>\n",
       "      <th>secondary_cleaner.state.floatbank5_a_air</th>\n",
       "      <th>secondary_cleaner.state.floatbank5_a_level</th>\n",
       "      <th>secondary_cleaner.state.floatbank5_b_air</th>\n",
       "      <th>secondary_cleaner.state.floatbank5_b_level</th>\n",
       "      <th>secondary_cleaner.state.floatbank6_a_air</th>\n",
       "      <th>secondary_cleaner.state.floatbank6_a_level</th>\n",
       "    </tr>\n",
       "  </thead>\n",
       "  <tbody>\n",
       "    <tr>\n",
       "      <th>0</th>\n",
       "      <td>2017-12-09 14:59:59</td>\n",
       "      <td>4.365491</td>\n",
       "      <td>6.158718</td>\n",
       "      <td>3.875727</td>\n",
       "      <td>39.135119</td>\n",
       "      <td>555.820208</td>\n",
       "      <td>94.544358</td>\n",
       "      <td>6.146982</td>\n",
       "      <td>9.308612</td>\n",
       "      <td>1196.238112</td>\n",
       "      <td>...</td>\n",
       "      <td>23.018622</td>\n",
       "      <td>-500.492702</td>\n",
       "      <td>20.020205</td>\n",
       "      <td>-500.220296</td>\n",
       "      <td>17.963512</td>\n",
       "      <td>-499.939490</td>\n",
       "      <td>12.990306</td>\n",
       "      <td>-500.080993</td>\n",
       "      <td>19.990336</td>\n",
       "      <td>-499.191575</td>\n",
       "    </tr>\n",
       "    <tr>\n",
       "      <th>1</th>\n",
       "      <td>2017-12-09 15:59:59</td>\n",
       "      <td>4.362781</td>\n",
       "      <td>6.048130</td>\n",
       "      <td>3.902537</td>\n",
       "      <td>39.713906</td>\n",
       "      <td>544.731687</td>\n",
       "      <td>123.742430</td>\n",
       "      <td>6.210119</td>\n",
       "      <td>9.297709</td>\n",
       "      <td>1201.904177</td>\n",
       "      <td>...</td>\n",
       "      <td>23.024963</td>\n",
       "      <td>-501.153409</td>\n",
       "      <td>20.054122</td>\n",
       "      <td>-500.314711</td>\n",
       "      <td>17.979515</td>\n",
       "      <td>-499.272871</td>\n",
       "      <td>12.992404</td>\n",
       "      <td>-499.976268</td>\n",
       "      <td>20.013986</td>\n",
       "      <td>-500.625471</td>\n",
       "    </tr>\n",
       "    <tr>\n",
       "      <th>2</th>\n",
       "      <td>2017-12-09 16:59:59</td>\n",
       "      <td>5.081681</td>\n",
       "      <td>6.082745</td>\n",
       "      <td>4.564078</td>\n",
       "      <td>37.208683</td>\n",
       "      <td>558.155110</td>\n",
       "      <td>82.610855</td>\n",
       "      <td>7.363824</td>\n",
       "      <td>9.003562</td>\n",
       "      <td>1200.826926</td>\n",
       "      <td>...</td>\n",
       "      <td>22.993827</td>\n",
       "      <td>-501.559663</td>\n",
       "      <td>20.029144</td>\n",
       "      <td>-500.000662</td>\n",
       "      <td>18.012723</td>\n",
       "      <td>-500.024764</td>\n",
       "      <td>13.016445</td>\n",
       "      <td>-500.058432</td>\n",
       "      <td>19.973767</td>\n",
       "      <td>-501.394155</td>\n",
       "    </tr>\n",
       "    <tr>\n",
       "      <th>3</th>\n",
       "      <td>2017-12-09 17:59:59</td>\n",
       "      <td>5.145949</td>\n",
       "      <td>6.084374</td>\n",
       "      <td>4.768124</td>\n",
       "      <td>36.808874</td>\n",
       "      <td>539.713765</td>\n",
       "      <td>77.984784</td>\n",
       "      <td>6.927072</td>\n",
       "      <td>8.955597</td>\n",
       "      <td>1199.292489</td>\n",
       "      <td>...</td>\n",
       "      <td>23.032807</td>\n",
       "      <td>-501.287889</td>\n",
       "      <td>19.977466</td>\n",
       "      <td>-500.159903</td>\n",
       "      <td>17.980463</td>\n",
       "      <td>-500.504602</td>\n",
       "      <td>12.949071</td>\n",
       "      <td>-500.009937</td>\n",
       "      <td>20.010332</td>\n",
       "      <td>-508.337973</td>\n",
       "    </tr>\n",
       "    <tr>\n",
       "      <th>4</th>\n",
       "      <td>2017-12-09 18:59:59</td>\n",
       "      <td>5.735249</td>\n",
       "      <td>6.165220</td>\n",
       "      <td>4.512346</td>\n",
       "      <td>37.810642</td>\n",
       "      <td>558.713584</td>\n",
       "      <td>86.434874</td>\n",
       "      <td>7.823471</td>\n",
       "      <td>7.490356</td>\n",
       "      <td>1198.005449</td>\n",
       "      <td>...</td>\n",
       "      <td>23.001911</td>\n",
       "      <td>-499.947838</td>\n",
       "      <td>20.023735</td>\n",
       "      <td>-499.713680</td>\n",
       "      <td>17.990955</td>\n",
       "      <td>-500.334769</td>\n",
       "      <td>13.007523</td>\n",
       "      <td>-499.968459</td>\n",
       "      <td>19.995999</td>\n",
       "      <td>-499.788805</td>\n",
       "    </tr>\n",
       "  </tbody>\n",
       "</table>\n",
       "<p>5 rows × 53 columns</p>\n",
       "</div>"
      ],
      "text/plain": [
       "                  date  rougher.input.feed_au  rougher.input.feed_ag  \\\n",
       "0  2017-12-09 14:59:59               4.365491               6.158718   \n",
       "1  2017-12-09 15:59:59               4.362781               6.048130   \n",
       "2  2017-12-09 16:59:59               5.081681               6.082745   \n",
       "3  2017-12-09 17:59:59               5.145949               6.084374   \n",
       "4  2017-12-09 18:59:59               5.735249               6.165220   \n",
       "\n",
       "   rougher.input.feed_pb  rougher.input.feed_sol  rougher.input.feed_rate  \\\n",
       "0               3.875727               39.135119               555.820208   \n",
       "1               3.902537               39.713906               544.731687   \n",
       "2               4.564078               37.208683               558.155110   \n",
       "3               4.768124               36.808874               539.713765   \n",
       "4               4.512346               37.810642               558.713584   \n",
       "\n",
       "   rougher.input.feed_size  rougher.input.floatbank10_sulfate  \\\n",
       "0                94.544358                           6.146982   \n",
       "1               123.742430                           6.210119   \n",
       "2                82.610855                           7.363824   \n",
       "3                77.984784                           6.927072   \n",
       "4                86.434874                           7.823471   \n",
       "\n",
       "   rougher.input.floatbank10_xanthate  rougher.state.floatbank10_a_air  ...  \\\n",
       "0                            9.308612                      1196.238112  ...   \n",
       "1                            9.297709                      1201.904177  ...   \n",
       "2                            9.003562                      1200.826926  ...   \n",
       "3                            8.955597                      1199.292489  ...   \n",
       "4                            7.490356                      1198.005449  ...   \n",
       "\n",
       "   secondary_cleaner.state.floatbank4_a_air  \\\n",
       "0                                 23.018622   \n",
       "1                                 23.024963   \n",
       "2                                 22.993827   \n",
       "3                                 23.032807   \n",
       "4                                 23.001911   \n",
       "\n",
       "   secondary_cleaner.state.floatbank4_a_level  \\\n",
       "0                                 -500.492702   \n",
       "1                                 -501.153409   \n",
       "2                                 -501.559663   \n",
       "3                                 -501.287889   \n",
       "4                                 -499.947838   \n",
       "\n",
       "   secondary_cleaner.state.floatbank4_b_air  \\\n",
       "0                                 20.020205   \n",
       "1                                 20.054122   \n",
       "2                                 20.029144   \n",
       "3                                 19.977466   \n",
       "4                                 20.023735   \n",
       "\n",
       "   secondary_cleaner.state.floatbank4_b_level  \\\n",
       "0                                 -500.220296   \n",
       "1                                 -500.314711   \n",
       "2                                 -500.000662   \n",
       "3                                 -500.159903   \n",
       "4                                 -499.713680   \n",
       "\n",
       "   secondary_cleaner.state.floatbank5_a_air  \\\n",
       "0                                 17.963512   \n",
       "1                                 17.979515   \n",
       "2                                 18.012723   \n",
       "3                                 17.980463   \n",
       "4                                 17.990955   \n",
       "\n",
       "   secondary_cleaner.state.floatbank5_a_level  \\\n",
       "0                                 -499.939490   \n",
       "1                                 -499.272871   \n",
       "2                                 -500.024764   \n",
       "3                                 -500.504602   \n",
       "4                                 -500.334769   \n",
       "\n",
       "   secondary_cleaner.state.floatbank5_b_air  \\\n",
       "0                                 12.990306   \n",
       "1                                 12.992404   \n",
       "2                                 13.016445   \n",
       "3                                 12.949071   \n",
       "4                                 13.007523   \n",
       "\n",
       "   secondary_cleaner.state.floatbank5_b_level  \\\n",
       "0                                 -500.080993   \n",
       "1                                 -499.976268   \n",
       "2                                 -500.058432   \n",
       "3                                 -500.009937   \n",
       "4                                 -499.968459   \n",
       "\n",
       "   secondary_cleaner.state.floatbank6_a_air  \\\n",
       "0                                 19.990336   \n",
       "1                                 20.013986   \n",
       "2                                 19.973767   \n",
       "3                                 20.010332   \n",
       "4                                 19.995999   \n",
       "\n",
       "   secondary_cleaner.state.floatbank6_a_level  \n",
       "0                                 -499.191575  \n",
       "1                                 -500.625471  \n",
       "2                                 -501.394155  \n",
       "3                                 -508.337973  \n",
       "4                                 -499.788805  \n",
       "\n",
       "[5 rows x 53 columns]"
      ]
     },
     "metadata": {},
     "output_type": "display_data"
    },
    {
     "data": {
      "text/html": [
       "<div>\n",
       "<style scoped>\n",
       "    .dataframe tbody tr th:only-of-type {\n",
       "        vertical-align: middle;\n",
       "    }\n",
       "\n",
       "    .dataframe tbody tr th {\n",
       "        vertical-align: top;\n",
       "    }\n",
       "\n",
       "    .dataframe thead th {\n",
       "        text-align: right;\n",
       "    }\n",
       "</style>\n",
       "<table border=\"1\" class=\"dataframe\">\n",
       "  <thead>\n",
       "    <tr style=\"text-align: right;\">\n",
       "      <th></th>\n",
       "      <th>date</th>\n",
       "      <th>rougher.input.feed_au</th>\n",
       "      <th>rougher.input.feed_ag</th>\n",
       "      <th>rougher.input.feed_pb</th>\n",
       "      <th>rougher.input.feed_sol</th>\n",
       "      <th>rougher.input.feed_rate</th>\n",
       "      <th>rougher.input.feed_size</th>\n",
       "      <th>rougher.input.floatbank10_sulfate</th>\n",
       "      <th>rougher.input.floatbank10_xanthate</th>\n",
       "      <th>rougher.state.floatbank10_a_air</th>\n",
       "      <th>...</th>\n",
       "      <th>secondary_cleaner.output.tail_sol</th>\n",
       "      <th>final.output.concentrate_au</th>\n",
       "      <th>final.output.concentrate_ag</th>\n",
       "      <th>final.output.concentrate_pb</th>\n",
       "      <th>final.output.concentrate_sol</th>\n",
       "      <th>final.output.recovery</th>\n",
       "      <th>final.output.tail_au</th>\n",
       "      <th>final.output.tail_ag</th>\n",
       "      <th>final.output.tail_pb</th>\n",
       "      <th>final.output.tail_sol</th>\n",
       "    </tr>\n",
       "  </thead>\n",
       "  <tbody>\n",
       "    <tr>\n",
       "      <th>0</th>\n",
       "      <td>2016-01-15 00:00:00</td>\n",
       "      <td>6.486150</td>\n",
       "      <td>6.100378</td>\n",
       "      <td>2.284912</td>\n",
       "      <td>36.808594</td>\n",
       "      <td>523.546326</td>\n",
       "      <td>55.486599</td>\n",
       "      <td>11.986616</td>\n",
       "      <td>6.007990</td>\n",
       "      <td>999.706909</td>\n",
       "      <td>...</td>\n",
       "      <td>8.764648</td>\n",
       "      <td>42.192020</td>\n",
       "      <td>6.055403</td>\n",
       "      <td>9.889648</td>\n",
       "      <td>5.507324</td>\n",
       "      <td>70.541216</td>\n",
       "      <td>2.143149</td>\n",
       "      <td>10.411962</td>\n",
       "      <td>0.895447</td>\n",
       "      <td>16.904297</td>\n",
       "    </tr>\n",
       "    <tr>\n",
       "      <th>1</th>\n",
       "      <td>2016-01-15 01:00:00</td>\n",
       "      <td>6.478583</td>\n",
       "      <td>6.161113</td>\n",
       "      <td>2.266033</td>\n",
       "      <td>35.753385</td>\n",
       "      <td>525.290581</td>\n",
       "      <td>57.278666</td>\n",
       "      <td>11.971193</td>\n",
       "      <td>6.005766</td>\n",
       "      <td>1000.286398</td>\n",
       "      <td>...</td>\n",
       "      <td>9.001494</td>\n",
       "      <td>42.701629</td>\n",
       "      <td>6.029369</td>\n",
       "      <td>9.968944</td>\n",
       "      <td>5.257781</td>\n",
       "      <td>69.266198</td>\n",
       "      <td>2.224930</td>\n",
       "      <td>10.462676</td>\n",
       "      <td>0.927452</td>\n",
       "      <td>16.634514</td>\n",
       "    </tr>\n",
       "    <tr>\n",
       "      <th>2</th>\n",
       "      <td>2016-01-15 02:00:00</td>\n",
       "      <td>6.362222</td>\n",
       "      <td>6.116455</td>\n",
       "      <td>2.159622</td>\n",
       "      <td>35.971630</td>\n",
       "      <td>530.026610</td>\n",
       "      <td>57.510649</td>\n",
       "      <td>11.920603</td>\n",
       "      <td>6.197377</td>\n",
       "      <td>999.719565</td>\n",
       "      <td>...</td>\n",
       "      <td>8.842896</td>\n",
       "      <td>42.657501</td>\n",
       "      <td>6.055926</td>\n",
       "      <td>10.213995</td>\n",
       "      <td>5.383759</td>\n",
       "      <td>68.116445</td>\n",
       "      <td>2.257889</td>\n",
       "      <td>10.507046</td>\n",
       "      <td>0.953716</td>\n",
       "      <td>16.208849</td>\n",
       "    </tr>\n",
       "    <tr>\n",
       "      <th>3</th>\n",
       "      <td>2016-01-15 03:00:00</td>\n",
       "      <td>6.118189</td>\n",
       "      <td>6.043309</td>\n",
       "      <td>2.037807</td>\n",
       "      <td>36.862241</td>\n",
       "      <td>542.590390</td>\n",
       "      <td>57.792734</td>\n",
       "      <td>11.630094</td>\n",
       "      <td>6.203177</td>\n",
       "      <td>999.814770</td>\n",
       "      <td>...</td>\n",
       "      <td>9.122857</td>\n",
       "      <td>42.689819</td>\n",
       "      <td>6.047977</td>\n",
       "      <td>9.977019</td>\n",
       "      <td>4.858634</td>\n",
       "      <td>68.347543</td>\n",
       "      <td>2.146849</td>\n",
       "      <td>10.422762</td>\n",
       "      <td>0.883763</td>\n",
       "      <td>16.532835</td>\n",
       "    </tr>\n",
       "    <tr>\n",
       "      <th>4</th>\n",
       "      <td>2016-01-15 04:00:00</td>\n",
       "      <td>5.663707</td>\n",
       "      <td>6.060915</td>\n",
       "      <td>1.786875</td>\n",
       "      <td>34.347666</td>\n",
       "      <td>540.531893</td>\n",
       "      <td>56.047189</td>\n",
       "      <td>10.957755</td>\n",
       "      <td>6.198826</td>\n",
       "      <td>999.678690</td>\n",
       "      <td>...</td>\n",
       "      <td>8.871028</td>\n",
       "      <td>42.774141</td>\n",
       "      <td>6.148599</td>\n",
       "      <td>10.142511</td>\n",
       "      <td>4.939416</td>\n",
       "      <td>66.927016</td>\n",
       "      <td>2.055292</td>\n",
       "      <td>10.360302</td>\n",
       "      <td>0.792826</td>\n",
       "      <td>16.525686</td>\n",
       "    </tr>\n",
       "  </tbody>\n",
       "</table>\n",
       "<p>5 rows × 87 columns</p>\n",
       "</div>"
      ],
      "text/plain": [
       "                  date  rougher.input.feed_au  rougher.input.feed_ag  \\\n",
       "0  2016-01-15 00:00:00               6.486150               6.100378   \n",
       "1  2016-01-15 01:00:00               6.478583               6.161113   \n",
       "2  2016-01-15 02:00:00               6.362222               6.116455   \n",
       "3  2016-01-15 03:00:00               6.118189               6.043309   \n",
       "4  2016-01-15 04:00:00               5.663707               6.060915   \n",
       "\n",
       "   rougher.input.feed_pb  rougher.input.feed_sol  rougher.input.feed_rate  \\\n",
       "0               2.284912               36.808594               523.546326   \n",
       "1               2.266033               35.753385               525.290581   \n",
       "2               2.159622               35.971630               530.026610   \n",
       "3               2.037807               36.862241               542.590390   \n",
       "4               1.786875               34.347666               540.531893   \n",
       "\n",
       "   rougher.input.feed_size  rougher.input.floatbank10_sulfate  \\\n",
       "0                55.486599                          11.986616   \n",
       "1                57.278666                          11.971193   \n",
       "2                57.510649                          11.920603   \n",
       "3                57.792734                          11.630094   \n",
       "4                56.047189                          10.957755   \n",
       "\n",
       "   rougher.input.floatbank10_xanthate  rougher.state.floatbank10_a_air  ...  \\\n",
       "0                            6.007990                       999.706909  ...   \n",
       "1                            6.005766                      1000.286398  ...   \n",
       "2                            6.197377                       999.719565  ...   \n",
       "3                            6.203177                       999.814770  ...   \n",
       "4                            6.198826                       999.678690  ...   \n",
       "\n",
       "   secondary_cleaner.output.tail_sol  final.output.concentrate_au  \\\n",
       "0                           8.764648                    42.192020   \n",
       "1                           9.001494                    42.701629   \n",
       "2                           8.842896                    42.657501   \n",
       "3                           9.122857                    42.689819   \n",
       "4                           8.871028                    42.774141   \n",
       "\n",
       "   final.output.concentrate_ag  final.output.concentrate_pb  \\\n",
       "0                     6.055403                     9.889648   \n",
       "1                     6.029369                     9.968944   \n",
       "2                     6.055926                    10.213995   \n",
       "3                     6.047977                     9.977019   \n",
       "4                     6.148599                    10.142511   \n",
       "\n",
       "   final.output.concentrate_sol  final.output.recovery  final.output.tail_au  \\\n",
       "0                      5.507324              70.541216              2.143149   \n",
       "1                      5.257781              69.266198              2.224930   \n",
       "2                      5.383759              68.116445              2.257889   \n",
       "3                      4.858634              68.347543              2.146849   \n",
       "4                      4.939416              66.927016              2.055292   \n",
       "\n",
       "   final.output.tail_ag  final.output.tail_pb  final.output.tail_sol  \n",
       "0             10.411962              0.895447              16.904297  \n",
       "1             10.462676              0.927452              16.634514  \n",
       "2             10.507046              0.953716              16.208849  \n",
       "3             10.422762              0.883763              16.532835  \n",
       "4             10.360302              0.792826              16.525686  \n",
       "\n",
       "[5 rows x 87 columns]"
      ]
     },
     "metadata": {},
     "output_type": "display_data"
    }
   ],
   "source": [
    "dfs = [gold_train, gold_test, gold_full]\n",
    "for df in dfs:\n",
    "    ICD.display(df.head())"
   ]
  },
  {
   "cell_type": "markdown",
   "metadata": {},
   "source": [
    "* в каждом датасете есть колонка с датой и временем;\n",
    "* в тестовой выборке нет 34 признаков из обучающей."
   ]
  },
  {
   "cell_type": "markdown",
   "metadata": {},
   "source": [
    "### Корректность расчетов"
   ]
  },
  {
   "cell_type": "markdown",
   "metadata": {},
   "source": [
    "Эффективность обогащения рассчитывается по формуле: \n",
    "\n",
    "$$Recovery = \\frac{C*(F-T)}{F*(C-T)} * 100 \\% $$\n"
   ]
  },
  {
   "cell_type": "markdown",
   "metadata": {},
   "source": [
    "где:\n",
    "* C — доля золота в концентрате после флотации/очистки;\n",
    "* F — доля золота в сырье/концентрате до флотации/очистки;\n",
    "* T — доля золота в отвальных хвостах после флотации/очистки."
   ]
  },
  {
   "cell_type": "code",
   "execution_count": 6,
   "metadata": {
    "scrolled": true
   },
   "outputs": [
    {
     "name": "stdout",
     "output_type": "stream",
     "text": [
      "Средняя абсолютная ошибка расчета эффективности обогащения: 9.83758577644259e-15\n"
     ]
    }
   ],
   "source": [
    "# скопируем датасет\n",
    "gold_train_reccheck = gold_train.copy()\n",
    "# запишем значения переменных\n",
    "C = gold_train_reccheck['rougher.output.concentrate_au']\n",
    "F = gold_train_reccheck['rougher.input.feed_au']\n",
    "T = gold_train_reccheck['rougher.output.tail_au']\n",
    "\n",
    "# создадим новый столбец с значениями расчетов\n",
    "gold_train_reccheck['rec'] = (C * (F - T))/(F * (C - T)) * 100\n",
    "\n",
    "# посчитаем по метрике MAE правильность расчетов\n",
    "\n",
    "print('Средняя абсолютная ошибка расчета эффективности обогащения:', \n",
    "      mean_absolute_error(gold_train_reccheck['rougher.output.recovery'], gold_train_reccheck['rec']))"
   ]
  },
  {
   "cell_type": "markdown",
   "metadata": {},
   "source": [
    "МАЕ пренебрежимо мала, то есть формула правильная и данные корректны."
   ]
  },
  {
   "cell_type": "markdown",
   "metadata": {},
   "source": [
    "### Признаки в тестовой и обучающей выборке"
   ]
  },
  {
   "cell_type": "code",
   "execution_count": 7,
   "metadata": {},
   "outputs": [
    {
     "name": "stdout",
     "output_type": "stream",
     "text": [
      "(14579, 87)\n",
      "(4860, 53)\n",
      "(19439, 87)\n"
     ]
    }
   ],
   "source": [
    "dfs = [gold_train, gold_test, gold_full]\n",
    "for df in dfs:\n",
    "    print(df.shape)"
   ]
  },
  {
   "cell_type": "markdown",
   "metadata": {},
   "source": [
    "* в тестовой выборке 53 признака, в остальных 87"
   ]
  },
  {
   "cell_type": "code",
   "execution_count": 8,
   "metadata": {},
   "outputs": [
    {
     "data": {
      "text/plain": [
       "34"
      ]
     },
     "execution_count": 8,
     "metadata": {},
     "output_type": "execute_result"
    }
   ],
   "source": [
    "# проверим количество отсутствующих признаков\n",
    "# их должно быть 34\n",
    "gold_train.columns.difference(gold_test.columns).value_counts().sum()"
   ]
  },
  {
   "cell_type": "code",
   "execution_count": 9,
   "metadata": {},
   "outputs": [
    {
     "data": {
      "text/plain": [
       "final.output.concentrate_ag                           1\n",
       "final.output.concentrate_au                           1\n",
       "final.output.concentrate_pb                           1\n",
       "final.output.concentrate_sol                          1\n",
       "final.output.recovery                                 1\n",
       "final.output.tail_ag                                  1\n",
       "final.output.tail_au                                  1\n",
       "final.output.tail_pb                                  1\n",
       "final.output.tail_sol                                 1\n",
       "primary_cleaner.output.concentrate_ag                 1\n",
       "primary_cleaner.output.concentrate_au                 1\n",
       "primary_cleaner.output.concentrate_pb                 1\n",
       "primary_cleaner.output.concentrate_sol                1\n",
       "primary_cleaner.output.tail_ag                        1\n",
       "primary_cleaner.output.tail_au                        1\n",
       "primary_cleaner.output.tail_pb                        1\n",
       "primary_cleaner.output.tail_sol                       1\n",
       "rougher.calculation.au_pb_ratio                       1\n",
       "rougher.calculation.floatbank10_sulfate_to_au_feed    1\n",
       "rougher.calculation.floatbank11_sulfate_to_au_feed    1\n",
       "rougher.calculation.sulfate_to_au_concentrate         1\n",
       "rougher.output.concentrate_ag                         1\n",
       "rougher.output.concentrate_au                         1\n",
       "rougher.output.concentrate_pb                         1\n",
       "rougher.output.concentrate_sol                        1\n",
       "rougher.output.recovery                               1\n",
       "rougher.output.tail_ag                                1\n",
       "rougher.output.tail_au                                1\n",
       "rougher.output.tail_pb                                1\n",
       "rougher.output.tail_sol                               1\n",
       "secondary_cleaner.output.tail_ag                      1\n",
       "secondary_cleaner.output.tail_au                      1\n",
       "secondary_cleaner.output.tail_pb                      1\n",
       "secondary_cleaner.output.tail_sol                     1\n",
       "dtype: int64"
      ]
     },
     "execution_count": 9,
     "metadata": {},
     "output_type": "execute_result"
    }
   ],
   "source": [
    "# посмотрим какие именно признаки не совпадают\n",
    "gold_train.columns.difference(gold_test.columns).value_counts().sort_index()"
   ]
  },
  {
   "cell_type": "markdown",
   "metadata": {},
   "source": [
    "В тестовой выборке отсутствуют следующие признаки:\n",
    "\n",
    "* `final` - все финальные этапы;\n",
    "* `output` - все параметры продукта;\n",
    "* `calculation` - все расчетные характеристики."
   ]
  },
  {
   "cell_type": "markdown",
   "metadata": {},
   "source": [
    "Удалим эти признаки из обучающей выборки и сохраним в отдельном датасете."
   ]
  },
  {
   "cell_type": "code",
   "execution_count": 10,
   "metadata": {},
   "outputs": [],
   "source": [
    "# сохраним все переменные, которые необходимо удалить, в списке\n",
    "mismatched_columns = gold_train.columns.difference(gold_test.columns).tolist()\n",
    "\n",
    "# удалим из обучающей выборки, сохраненные признаки и сохраним в новом датасете\n",
    "gold_train_proc = gold_train.drop(columns=mismatched_columns, axis=1)"
   ]
  },
  {
   "cell_type": "code",
   "execution_count": 11,
   "metadata": {},
   "outputs": [
    {
     "name": "stdout",
     "output_type": "stream",
     "text": [
      "(14579, 53)\n",
      "(4860, 53)\n"
     ]
    }
   ],
   "source": [
    "# check\n",
    "print(gold_train_proc.shape)\n",
    "print(gold_test.shape)"
   ]
  },
  {
   "cell_type": "markdown",
   "metadata": {},
   "source": [
    "### Предобработка данных "
   ]
  },
  {
   "cell_type": "markdown",
   "metadata": {},
   "source": [
    "#### Пропущенные значения"
   ]
  },
  {
   "cell_type": "markdown",
   "metadata": {},
   "source": [
    "Определим количество пропущенных значений в каждом из признаков в обучающей выборке."
   ]
  },
  {
   "cell_type": "code",
   "execution_count": 12,
   "metadata": {
    "scrolled": false
   },
   "outputs": [
    {
     "data": {
      "text/plain": [
       "rougher.state.floatbank10_e_air             2.942589\n",
       "rougher.input.floatbank11_xanthate          2.791687\n",
       "rougher.input.feed_size                     0.692777\n",
       "secondary_cleaner.state.floatbank2_a_air    0.644763\n",
       "rougher.input.feed_sol                      0.528157\n",
       "rougher.input.feed_pb                       0.493861\n",
       "primary_cleaner.input.xanthate              0.418410\n",
       "rougher.input.floatbank11_sulfate           0.246931\n",
       "rougher.input.floatbank10_sulfate           0.212635\n",
       "primary_cleaner.input.depressant            0.192057\n",
       "primary_cleaner.input.sulfate               0.157761\n",
       "secondary_cleaner.state.floatbank2_b_air    0.150902\n",
       "secondary_cleaner.state.floatbank3_a_air    0.082310\n",
       "rougher.input.feed_rate                     0.048014\n",
       "rougher.input.floatbank10_xanthate          0.048014\n",
       "secondary_cleaner.state.floatbank4_a_air    0.034296\n",
       "primary_cleaner.state.floatbank8_b_air      0.020578\n",
       "primary_cleaner.state.floatbank8_a_air      0.020578\n",
       "primary_cleaner.state.floatbank8_d_air      0.006859\n",
       "secondary_cleaner.state.floatbank6_a_air    0.006859\n",
       "dtype: float64"
      ]
     },
     "execution_count": 12,
     "metadata": {},
     "output_type": "execute_result"
    }
   ],
   "source": [
    "data_na = gold_train_proc.isna().sum().sort_values(ascending=False)/len(gold_train_proc) * 100\n",
    "data_na = data_na[data_na > 0]\n",
    "data_na"
   ]
  },
  {
   "cell_type": "code",
   "execution_count": 13,
   "metadata": {
    "scrolled": false
   },
   "outputs": [
    {
     "data": {
      "image/png": "[encoded data removed]",
      "text/plain": [
       "<Figure size 842.4x597.6 with 1 Axes>"
      ]
     },
     "metadata": {
      "needs_background": "light"
     },
     "output_type": "display_data"
    }
   ],
   "source": [
    "fig, axs = plt.subplots(figsize=(11.7, 8.3))\n",
    "sns.barplot(y=data_na.index, x=data_na)\n",
    "\n",
    "plt.xlabel('Процент пропущенных знаяений', fontsize=12);\n",
    "plt.title('Процент пропущенных значений по признакам', fontsize=12);"
   ]
  },
  {
   "cell_type": "code",
   "execution_count": 14,
   "metadata": {
    "scrolled": true
   },
   "outputs": [
    {
     "data": {
      "text/plain": [
       "9.740037039577473"
      ]
     },
     "execution_count": 14,
     "metadata": {},
     "output_type": "execute_result"
    }
   ],
   "source": [
    "# суммарный процент пропусков\n",
    "data_na.sum()"
   ]
  },
  {
   "cell_type": "markdown",
   "metadata": {},
   "source": [
    "Из тех. задания известно, что данные индексируются датой и временем получения информации (признак `date`). Соседние по времени параметры часто похожи. Поэтому пропуски можно восстановить, воспользовавшись методом `ffil`."
   ]
  },
  {
   "cell_type": "code",
   "execution_count": 15,
   "metadata": {},
   "outputs": [],
   "source": [
    "dfs = [gold_train_proc, gold_test, gold_full]\n",
    "for df in dfs:\n",
    "    df.fillna(axis=0, method='ffill', inplace=True)"
   ]
  },
  {
   "cell_type": "code",
   "execution_count": 16,
   "metadata": {},
   "outputs": [
    {
     "data": {
      "text/plain": [
       "0"
      ]
     },
     "execution_count": 16,
     "metadata": {},
     "output_type": "execute_result"
    }
   ],
   "source": [
    "# check\n",
    "gold_train_proc.isna().sum().sum()"
   ]
  },
  {
   "cell_type": "markdown",
   "metadata": {},
   "source": [
    "#### Тип данных"
   ]
  },
  {
   "cell_type": "markdown",
   "metadata": {},
   "source": [
    "Проверим тип данных признаков."
   ]
  },
  {
   "cell_type": "code",
   "execution_count": 17,
   "metadata": {},
   "outputs": [
    {
     "name": "stdout",
     "output_type": "stream",
     "text": [
      "<class 'pandas.core.frame.DataFrame'>\n",
      "RangeIndex: 14579 entries, 0 to 14578\n",
      "Data columns (total 53 columns):\n",
      " #   Column                                      Non-Null Count  Dtype  \n",
      "---  ------                                      --------------  -----  \n",
      " 0   date                                        14579 non-null  object \n",
      " 1   rougher.input.feed_au                       14579 non-null  float64\n",
      " 2   rougher.input.feed_ag                       14579 non-null  float64\n",
      " 3   rougher.input.feed_pb                       14579 non-null  float64\n",
      " 4   rougher.input.feed_sol                      14579 non-null  float64\n",
      " 5   rougher.input.feed_rate                     14579 non-null  float64\n",
      " 6   rougher.input.feed_size                     14579 non-null  float64\n",
      " 7   rougher.input.floatbank10_sulfate           14579 non-null  float64\n",
      " 8   rougher.input.floatbank10_xanthate          14579 non-null  float64\n",
      " 9   rougher.state.floatbank10_a_air             14579 non-null  float64\n",
      " 10  rougher.state.floatbank10_a_level           14579 non-null  float64\n",
      " 11  rougher.state.floatbank10_b_air             14579 non-null  float64\n",
      " 12  rougher.state.floatbank10_b_level           14579 non-null  float64\n",
      " 13  rougher.state.floatbank10_c_air             14579 non-null  float64\n",
      " 14  rougher.state.floatbank10_c_level           14579 non-null  float64\n",
      " 15  rougher.state.floatbank10_d_air             14579 non-null  float64\n",
      " 16  rougher.state.floatbank10_d_level           14579 non-null  float64\n",
      " 17  rougher.state.floatbank10_e_air             14579 non-null  float64\n",
      " 18  rougher.state.floatbank10_e_level           14579 non-null  float64\n",
      " 19  rougher.state.floatbank10_f_air             14579 non-null  float64\n",
      " 20  rougher.state.floatbank10_f_level           14579 non-null  float64\n",
      " 21  rougher.input.floatbank11_sulfate           14579 non-null  float64\n",
      " 22  rougher.input.floatbank11_xanthate          14579 non-null  float64\n",
      " 23  primary_cleaner.input.sulfate               14579 non-null  float64\n",
      " 24  primary_cleaner.input.depressant            14579 non-null  float64\n",
      " 25  primary_cleaner.input.feed_size             14579 non-null  float64\n",
      " 26  primary_cleaner.input.xanthate              14579 non-null  float64\n",
      " 27  primary_cleaner.state.floatbank8_a_air      14579 non-null  float64\n",
      " 28  primary_cleaner.state.floatbank8_a_level    14579 non-null  float64\n",
      " 29  primary_cleaner.state.floatbank8_b_air      14579 non-null  float64\n",
      " 30  primary_cleaner.state.floatbank8_b_level    14579 non-null  float64\n",
      " 31  primary_cleaner.state.floatbank8_c_air      14579 non-null  float64\n",
      " 32  primary_cleaner.state.floatbank8_c_level    14579 non-null  float64\n",
      " 33  primary_cleaner.state.floatbank8_d_air      14579 non-null  float64\n",
      " 34  primary_cleaner.state.floatbank8_d_level    14579 non-null  float64\n",
      " 35  secondary_cleaner.state.floatbank2_a_air    14579 non-null  float64\n",
      " 36  secondary_cleaner.state.floatbank2_a_level  14579 non-null  float64\n",
      " 37  secondary_cleaner.state.floatbank2_b_air    14579 non-null  float64\n",
      " 38  secondary_cleaner.state.floatbank2_b_level  14579 non-null  float64\n",
      " 39  secondary_cleaner.state.floatbank3_a_air    14579 non-null  float64\n",
      " 40  secondary_cleaner.state.floatbank3_a_level  14579 non-null  float64\n",
      " 41  secondary_cleaner.state.floatbank3_b_air    14579 non-null  float64\n",
      " 42  secondary_cleaner.state.floatbank3_b_level  14579 non-null  float64\n",
      " 43  secondary_cleaner.state.floatbank4_a_air    14579 non-null  float64\n",
      " 44  secondary_cleaner.state.floatbank4_a_level  14579 non-null  float64\n",
      " 45  secondary_cleaner.state.floatbank4_b_air    14579 non-null  float64\n",
      " 46  secondary_cleaner.state.floatbank4_b_level  14579 non-null  float64\n",
      " 47  secondary_cleaner.state.floatbank5_a_air    14579 non-null  float64\n",
      " 48  secondary_cleaner.state.floatbank5_a_level  14579 non-null  float64\n",
      " 49  secondary_cleaner.state.floatbank5_b_air    14579 non-null  float64\n",
      " 50  secondary_cleaner.state.floatbank5_b_level  14579 non-null  float64\n",
      " 51  secondary_cleaner.state.floatbank6_a_air    14579 non-null  float64\n",
      " 52  secondary_cleaner.state.floatbank6_a_level  14579 non-null  float64\n",
      "dtypes: float64(52), object(1)\n",
      "memory usage: 5.9+ MB\n"
     ]
    },
    {
     "data": {
      "text/plain": [
       "None"
      ]
     },
     "metadata": {},
     "output_type": "display_data"
    },
    {
     "name": "stdout",
     "output_type": "stream",
     "text": [
      "<class 'pandas.core.frame.DataFrame'>\n",
      "RangeIndex: 4860 entries, 0 to 4859\n",
      "Data columns (total 53 columns):\n",
      " #   Column                                      Non-Null Count  Dtype  \n",
      "---  ------                                      --------------  -----  \n",
      " 0   date                                        4860 non-null   object \n",
      " 1   rougher.input.feed_au                       4860 non-null   float64\n",
      " 2   rougher.input.feed_ag                       4860 non-null   float64\n",
      " 3   rougher.input.feed_pb                       4860 non-null   float64\n",
      " 4   rougher.input.feed_sol                      4860 non-null   float64\n",
      " 5   rougher.input.feed_rate                     4860 non-null   float64\n",
      " 6   rougher.input.feed_size                     4860 non-null   float64\n",
      " 7   rougher.input.floatbank10_sulfate           4860 non-null   float64\n",
      " 8   rougher.input.floatbank10_xanthate          4860 non-null   float64\n",
      " 9   rougher.state.floatbank10_a_air             4860 non-null   float64\n",
      " 10  rougher.state.floatbank10_a_level           4860 non-null   float64\n",
      " 11  rougher.state.floatbank10_b_air             4860 non-null   float64\n",
      " 12  rougher.state.floatbank10_b_level           4860 non-null   float64\n",
      " 13  rougher.state.floatbank10_c_air             4860 non-null   float64\n",
      " 14  rougher.state.floatbank10_c_level           4860 non-null   float64\n",
      " 15  rougher.state.floatbank10_d_air             4860 non-null   float64\n",
      " 16  rougher.state.floatbank10_d_level           4860 non-null   float64\n",
      " 17  rougher.state.floatbank10_e_air             4860 non-null   float64\n",
      " 18  rougher.state.floatbank10_e_level           4860 non-null   float64\n",
      " 19  rougher.state.floatbank10_f_air             4860 non-null   float64\n",
      " 20  rougher.state.floatbank10_f_level           4860 non-null   float64\n",
      " 21  rougher.input.floatbank11_sulfate           4860 non-null   float64\n",
      " 22  rougher.input.floatbank11_xanthate          4860 non-null   float64\n",
      " 23  primary_cleaner.input.sulfate               4860 non-null   float64\n",
      " 24  primary_cleaner.input.depressant            4860 non-null   float64\n",
      " 25  primary_cleaner.input.feed_size             4860 non-null   float64\n",
      " 26  primary_cleaner.input.xanthate              4860 non-null   float64\n",
      " 27  primary_cleaner.state.floatbank8_a_air      4860 non-null   float64\n",
      " 28  primary_cleaner.state.floatbank8_a_level    4860 non-null   float64\n",
      " 29  primary_cleaner.state.floatbank8_b_air      4860 non-null   float64\n",
      " 30  primary_cleaner.state.floatbank8_b_level    4860 non-null   float64\n",
      " 31  primary_cleaner.state.floatbank8_c_air      4860 non-null   float64\n",
      " 32  primary_cleaner.state.floatbank8_c_level    4860 non-null   float64\n",
      " 33  primary_cleaner.state.floatbank8_d_air      4860 non-null   float64\n",
      " 34  primary_cleaner.state.floatbank8_d_level    4860 non-null   float64\n",
      " 35  secondary_cleaner.state.floatbank2_a_air    4860 non-null   float64\n",
      " 36  secondary_cleaner.state.floatbank2_a_level  4860 non-null   float64\n",
      " 37  secondary_cleaner.state.floatbank2_b_air    4860 non-null   float64\n",
      " 38  secondary_cleaner.state.floatbank2_b_level  4860 non-null   float64\n",
      " 39  secondary_cleaner.state.floatbank3_a_air    4860 non-null   float64\n",
      " 40  secondary_cleaner.state.floatbank3_a_level  4860 non-null   float64\n",
      " 41  secondary_cleaner.state.floatbank3_b_air    4860 non-null   float64\n",
      " 42  secondary_cleaner.state.floatbank3_b_level  4860 non-null   float64\n",
      " 43  secondary_cleaner.state.floatbank4_a_air    4860 non-null   float64\n",
      " 44  secondary_cleaner.state.floatbank4_a_level  4860 non-null   float64\n",
      " 45  secondary_cleaner.state.floatbank4_b_air    4860 non-null   float64\n",
      " 46  secondary_cleaner.state.floatbank4_b_level  4860 non-null   float64\n",
      " 47  secondary_cleaner.state.floatbank5_a_air    4860 non-null   float64\n",
      " 48  secondary_cleaner.state.floatbank5_a_level  4860 non-null   float64\n",
      " 49  secondary_cleaner.state.floatbank5_b_air    4860 non-null   float64\n",
      " 50  secondary_cleaner.state.floatbank5_b_level  4860 non-null   float64\n",
      " 51  secondary_cleaner.state.floatbank6_a_air    4860 non-null   float64\n",
      " 52  secondary_cleaner.state.floatbank6_a_level  4860 non-null   float64\n",
      "dtypes: float64(52), object(1)\n",
      "memory usage: 2.0+ MB\n"
     ]
    },
    {
     "data": {
      "text/plain": [
       "None"
      ]
     },
     "metadata": {},
     "output_type": "display_data"
    },
    {
     "name": "stdout",
     "output_type": "stream",
     "text": [
      "<class 'pandas.core.frame.DataFrame'>\n",
      "RangeIndex: 19439 entries, 0 to 19438\n",
      "Data columns (total 87 columns):\n",
      " #   Column                                              Non-Null Count  Dtype  \n",
      "---  ------                                              --------------  -----  \n",
      " 0   date                                                19439 non-null  object \n",
      " 1   rougher.input.feed_au                               19439 non-null  float64\n",
      " 2   rougher.input.feed_ag                               19439 non-null  float64\n",
      " 3   rougher.input.feed_pb                               19439 non-null  float64\n",
      " 4   rougher.input.feed_sol                              19439 non-null  float64\n",
      " 5   rougher.input.feed_rate                             19439 non-null  float64\n",
      " 6   rougher.input.feed_size                             19439 non-null  float64\n",
      " 7   rougher.input.floatbank10_sulfate                   19439 non-null  float64\n",
      " 8   rougher.input.floatbank10_xanthate                  19439 non-null  float64\n",
      " 9   rougher.state.floatbank10_a_air                     19439 non-null  float64\n",
      " 10  rougher.state.floatbank10_a_level                   19439 non-null  float64\n",
      " 11  rougher.state.floatbank10_b_air                     19439 non-null  float64\n",
      " 12  rougher.state.floatbank10_b_level                   19439 non-null  float64\n",
      " 13  rougher.state.floatbank10_c_air                     19439 non-null  float64\n",
      " 14  rougher.state.floatbank10_c_level                   19439 non-null  float64\n",
      " 15  rougher.state.floatbank10_d_air                     19439 non-null  float64\n",
      " 16  rougher.state.floatbank10_d_level                   19439 non-null  float64\n",
      " 17  rougher.state.floatbank10_e_air                     19439 non-null  float64\n",
      " 18  rougher.state.floatbank10_e_level                   19439 non-null  float64\n",
      " 19  rougher.state.floatbank10_f_air                     19439 non-null  float64\n",
      " 20  rougher.state.floatbank10_f_level                   19439 non-null  float64\n",
      " 21  rougher.input.floatbank11_sulfate                   19439 non-null  float64\n",
      " 22  rougher.input.floatbank11_xanthate                  19439 non-null  float64\n",
      " 23  rougher.calculation.sulfate_to_au_concentrate       19439 non-null  float64\n",
      " 24  rougher.calculation.floatbank10_sulfate_to_au_feed  19439 non-null  float64\n",
      " 25  rougher.calculation.floatbank11_sulfate_to_au_feed  19439 non-null  float64\n",
      " 26  rougher.calculation.au_pb_ratio                     19439 non-null  float64\n",
      " 27  rougher.output.concentrate_au                       19439 non-null  float64\n",
      " 28  rougher.output.concentrate_ag                       19439 non-null  float64\n",
      " 29  rougher.output.concentrate_pb                       19439 non-null  float64\n",
      " 30  rougher.output.concentrate_sol                      19439 non-null  float64\n",
      " 31  rougher.output.recovery                             19439 non-null  float64\n",
      " 32  rougher.output.tail_au                              19439 non-null  float64\n",
      " 33  rougher.output.tail_ag                              19439 non-null  float64\n",
      " 34  rougher.output.tail_pb                              19439 non-null  float64\n",
      " 35  rougher.output.tail_sol                             19439 non-null  float64\n",
      " 36  primary_cleaner.input.sulfate                       19439 non-null  float64\n",
      " 37  primary_cleaner.input.depressant                    19439 non-null  float64\n",
      " 38  primary_cleaner.input.feed_size                     19439 non-null  float64\n",
      " 39  primary_cleaner.input.xanthate                      19439 non-null  float64\n",
      " 40  primary_cleaner.state.floatbank8_a_air              19439 non-null  float64\n",
      " 41  primary_cleaner.state.floatbank8_a_level            19439 non-null  float64\n",
      " 42  primary_cleaner.state.floatbank8_b_air              19439 non-null  float64\n",
      " 43  primary_cleaner.state.floatbank8_b_level            19439 non-null  float64\n",
      " 44  primary_cleaner.state.floatbank8_c_air              19439 non-null  float64\n",
      " 45  primary_cleaner.state.floatbank8_c_level            19439 non-null  float64\n",
      " 46  primary_cleaner.state.floatbank8_d_air              19439 non-null  float64\n",
      " 47  primary_cleaner.state.floatbank8_d_level            19439 non-null  float64\n",
      " 48  primary_cleaner.output.concentrate_au               19439 non-null  float64\n",
      " 49  primary_cleaner.output.concentrate_ag               19439 non-null  float64\n",
      " 50  primary_cleaner.output.concentrate_pb               19439 non-null  float64\n",
      " 51  primary_cleaner.output.concentrate_sol              19439 non-null  float64\n",
      " 52  primary_cleaner.output.tail_au                      19439 non-null  float64\n",
      " 53  primary_cleaner.output.tail_ag                      19439 non-null  float64\n",
      " 54  primary_cleaner.output.tail_pb                      19439 non-null  float64\n",
      " 55  primary_cleaner.output.tail_sol                     19439 non-null  float64\n",
      " 56  secondary_cleaner.state.floatbank2_a_air            19439 non-null  float64\n",
      " 57  secondary_cleaner.state.floatbank2_a_level          19439 non-null  float64\n",
      " 58  secondary_cleaner.state.floatbank2_b_air            19439 non-null  float64\n",
      " 59  secondary_cleaner.state.floatbank2_b_level          19439 non-null  float64\n",
      " 60  secondary_cleaner.state.floatbank3_a_air            19439 non-null  float64\n",
      " 61  secondary_cleaner.state.floatbank3_a_level          19439 non-null  float64\n",
      " 62  secondary_cleaner.state.floatbank3_b_air            19439 non-null  float64\n",
      " 63  secondary_cleaner.state.floatbank3_b_level          19439 non-null  float64\n",
      " 64  secondary_cleaner.state.floatbank4_a_air            19439 non-null  float64\n",
      " 65  secondary_cleaner.state.floatbank4_a_level          19439 non-null  float64\n",
      " 66  secondary_cleaner.state.floatbank4_b_air            19439 non-null  float64\n",
      " 67  secondary_cleaner.state.floatbank4_b_level          19439 non-null  float64\n",
      " 68  secondary_cleaner.state.floatbank5_a_air            19439 non-null  float64\n",
      " 69  secondary_cleaner.state.floatbank5_a_level          19439 non-null  float64\n",
      " 70  secondary_cleaner.state.floatbank5_b_air            19439 non-null  float64\n",
      " 71  secondary_cleaner.state.floatbank5_b_level          19439 non-null  float64\n",
      " 72  secondary_cleaner.state.floatbank6_a_air            19439 non-null  float64\n",
      " 73  secondary_cleaner.state.floatbank6_a_level          19439 non-null  float64\n",
      " 74  secondary_cleaner.output.tail_au                    19439 non-null  float64\n",
      " 75  secondary_cleaner.output.tail_ag                    19439 non-null  float64\n",
      " 76  secondary_cleaner.output.tail_pb                    19439 non-null  float64\n",
      " 77  secondary_cleaner.output.tail_sol                   19439 non-null  float64\n",
      " 78  final.output.concentrate_au                         19439 non-null  float64\n",
      " 79  final.output.concentrate_ag                         19439 non-null  float64\n",
      " 80  final.output.concentrate_pb                         19439 non-null  float64\n",
      " 81  final.output.concentrate_sol                        19439 non-null  float64\n",
      " 82  final.output.recovery                               19439 non-null  float64\n",
      " 83  final.output.tail_au                                19439 non-null  float64\n",
      " 84  final.output.tail_ag                                19439 non-null  float64\n",
      " 85  final.output.tail_pb                                19439 non-null  float64\n",
      " 86  final.output.tail_sol                               19439 non-null  float64\n",
      "dtypes: float64(86), object(1)\n",
      "memory usage: 12.9+ MB\n"
     ]
    },
    {
     "data": {
      "text/plain": [
       "None"
      ]
     },
     "metadata": {},
     "output_type": "display_data"
    }
   ],
   "source": [
    "for df in dfs:\n",
    "    ICD.display(df.info())"
   ]
  },
  {
   "cell_type": "markdown",
   "metadata": {},
   "source": [
    "Признак `date` не имеет смысла использовать в обучении модели, так как он приведет к переобучению. Но его полезно сохранить для восстановления таргетных данных тестовой выборки. Поэтому переведем столбец `date` в индекс датафреймов."
   ]
  },
  {
   "cell_type": "code",
   "execution_count": 18,
   "metadata": {},
   "outputs": [],
   "source": [
    "for df in dfs:\n",
    "    df.set_index('date', inplace=True)"
   ]
  },
  {
   "cell_type": "code",
   "execution_count": 19,
   "metadata": {
    "scrolled": false
   },
   "outputs": [
    {
     "data": {
      "text/html": [
       "<div>\n",
       "<style scoped>\n",
       "    .dataframe tbody tr th:only-of-type {\n",
       "        vertical-align: middle;\n",
       "    }\n",
       "\n",
       "    .dataframe tbody tr th {\n",
       "        vertical-align: top;\n",
       "    }\n",
       "\n",
       "    .dataframe thead th {\n",
       "        text-align: right;\n",
       "    }\n",
       "</style>\n",
       "<table border=\"1\" class=\"dataframe\">\n",
       "  <thead>\n",
       "    <tr style=\"text-align: right;\">\n",
       "      <th></th>\n",
       "      <th>rougher.input.feed_au</th>\n",
       "      <th>rougher.input.feed_ag</th>\n",
       "      <th>rougher.input.feed_pb</th>\n",
       "      <th>rougher.input.feed_sol</th>\n",
       "      <th>rougher.input.feed_rate</th>\n",
       "      <th>rougher.input.feed_size</th>\n",
       "      <th>rougher.input.floatbank10_sulfate</th>\n",
       "      <th>rougher.input.floatbank10_xanthate</th>\n",
       "      <th>rougher.state.floatbank10_a_air</th>\n",
       "      <th>rougher.state.floatbank10_a_level</th>\n",
       "      <th>...</th>\n",
       "      <th>secondary_cleaner.state.floatbank4_a_air</th>\n",
       "      <th>secondary_cleaner.state.floatbank4_a_level</th>\n",
       "      <th>secondary_cleaner.state.floatbank4_b_air</th>\n",
       "      <th>secondary_cleaner.state.floatbank4_b_level</th>\n",
       "      <th>secondary_cleaner.state.floatbank5_a_air</th>\n",
       "      <th>secondary_cleaner.state.floatbank5_a_level</th>\n",
       "      <th>secondary_cleaner.state.floatbank5_b_air</th>\n",
       "      <th>secondary_cleaner.state.floatbank5_b_level</th>\n",
       "      <th>secondary_cleaner.state.floatbank6_a_air</th>\n",
       "      <th>secondary_cleaner.state.floatbank6_a_level</th>\n",
       "    </tr>\n",
       "    <tr>\n",
       "      <th>date</th>\n",
       "      <th></th>\n",
       "      <th></th>\n",
       "      <th></th>\n",
       "      <th></th>\n",
       "      <th></th>\n",
       "      <th></th>\n",
       "      <th></th>\n",
       "      <th></th>\n",
       "      <th></th>\n",
       "      <th></th>\n",
       "      <th></th>\n",
       "      <th></th>\n",
       "      <th></th>\n",
       "      <th></th>\n",
       "      <th></th>\n",
       "      <th></th>\n",
       "      <th></th>\n",
       "      <th></th>\n",
       "      <th></th>\n",
       "      <th></th>\n",
       "      <th></th>\n",
       "    </tr>\n",
       "  </thead>\n",
       "  <tbody>\n",
       "    <tr>\n",
       "      <th>2016-01-15 00:00:00</th>\n",
       "      <td>6.486150</td>\n",
       "      <td>6.100378</td>\n",
       "      <td>2.284912</td>\n",
       "      <td>36.808594</td>\n",
       "      <td>523.546326</td>\n",
       "      <td>55.486599</td>\n",
       "      <td>11.986616</td>\n",
       "      <td>6.007990</td>\n",
       "      <td>999.706909</td>\n",
       "      <td>-404.066986</td>\n",
       "      <td>...</td>\n",
       "      <td>14.016835</td>\n",
       "      <td>-502.488007</td>\n",
       "      <td>12.099931</td>\n",
       "      <td>-504.715942</td>\n",
       "      <td>9.925633</td>\n",
       "      <td>-498.310211</td>\n",
       "      <td>8.079666</td>\n",
       "      <td>-500.470978</td>\n",
       "      <td>14.151341</td>\n",
       "      <td>-605.841980</td>\n",
       "    </tr>\n",
       "    <tr>\n",
       "      <th>2016-01-15 01:00:00</th>\n",
       "      <td>6.478583</td>\n",
       "      <td>6.161113</td>\n",
       "      <td>2.266033</td>\n",
       "      <td>35.753385</td>\n",
       "      <td>525.290581</td>\n",
       "      <td>57.278666</td>\n",
       "      <td>11.971193</td>\n",
       "      <td>6.005766</td>\n",
       "      <td>1000.286398</td>\n",
       "      <td>-400.065196</td>\n",
       "      <td>...</td>\n",
       "      <td>13.992281</td>\n",
       "      <td>-505.503262</td>\n",
       "      <td>11.950531</td>\n",
       "      <td>-501.331529</td>\n",
       "      <td>10.039245</td>\n",
       "      <td>-500.169983</td>\n",
       "      <td>7.984757</td>\n",
       "      <td>-500.582168</td>\n",
       "      <td>13.998353</td>\n",
       "      <td>-599.787184</td>\n",
       "    </tr>\n",
       "    <tr>\n",
       "      <th>2016-01-15 02:00:00</th>\n",
       "      <td>6.362222</td>\n",
       "      <td>6.116455</td>\n",
       "      <td>2.159622</td>\n",
       "      <td>35.971630</td>\n",
       "      <td>530.026610</td>\n",
       "      <td>57.510649</td>\n",
       "      <td>11.920603</td>\n",
       "      <td>6.197377</td>\n",
       "      <td>999.719565</td>\n",
       "      <td>-400.074028</td>\n",
       "      <td>...</td>\n",
       "      <td>14.015015</td>\n",
       "      <td>-502.520901</td>\n",
       "      <td>11.912783</td>\n",
       "      <td>-501.133383</td>\n",
       "      <td>10.070913</td>\n",
       "      <td>-500.129135</td>\n",
       "      <td>8.013877</td>\n",
       "      <td>-500.517572</td>\n",
       "      <td>14.028663</td>\n",
       "      <td>-601.427363</td>\n",
       "    </tr>\n",
       "    <tr>\n",
       "      <th>2016-01-15 03:00:00</th>\n",
       "      <td>6.118189</td>\n",
       "      <td>6.043309</td>\n",
       "      <td>2.037807</td>\n",
       "      <td>36.862241</td>\n",
       "      <td>542.590390</td>\n",
       "      <td>57.792734</td>\n",
       "      <td>11.630094</td>\n",
       "      <td>6.203177</td>\n",
       "      <td>999.814770</td>\n",
       "      <td>-400.200179</td>\n",
       "      <td>...</td>\n",
       "      <td>14.036510</td>\n",
       "      <td>-500.857308</td>\n",
       "      <td>11.999550</td>\n",
       "      <td>-501.193686</td>\n",
       "      <td>9.970366</td>\n",
       "      <td>-499.201640</td>\n",
       "      <td>7.977324</td>\n",
       "      <td>-500.255908</td>\n",
       "      <td>14.005551</td>\n",
       "      <td>-599.996129</td>\n",
       "    </tr>\n",
       "    <tr>\n",
       "      <th>2016-01-15 04:00:00</th>\n",
       "      <td>5.663707</td>\n",
       "      <td>6.060915</td>\n",
       "      <td>1.786875</td>\n",
       "      <td>34.347666</td>\n",
       "      <td>540.531893</td>\n",
       "      <td>56.047189</td>\n",
       "      <td>10.957755</td>\n",
       "      <td>6.198826</td>\n",
       "      <td>999.678690</td>\n",
       "      <td>-399.752729</td>\n",
       "      <td>...</td>\n",
       "      <td>14.027298</td>\n",
       "      <td>-499.838632</td>\n",
       "      <td>11.953070</td>\n",
       "      <td>-501.053894</td>\n",
       "      <td>9.925709</td>\n",
       "      <td>-501.686727</td>\n",
       "      <td>7.894242</td>\n",
       "      <td>-500.356035</td>\n",
       "      <td>13.996647</td>\n",
       "      <td>-601.496691</td>\n",
       "    </tr>\n",
       "  </tbody>\n",
       "</table>\n",
       "<p>5 rows × 52 columns</p>\n",
       "</div>"
      ],
      "text/plain": [
       "                     rougher.input.feed_au  rougher.input.feed_ag  \\\n",
       "date                                                                \n",
       "2016-01-15 00:00:00               6.486150               6.100378   \n",
       "2016-01-15 01:00:00               6.478583               6.161113   \n",
       "2016-01-15 02:00:00               6.362222               6.116455   \n",
       "2016-01-15 03:00:00               6.118189               6.043309   \n",
       "2016-01-15 04:00:00               5.663707               6.060915   \n",
       "\n",
       "                     rougher.input.feed_pb  rougher.input.feed_sol  \\\n",
       "date                                                                 \n",
       "2016-01-15 00:00:00               2.284912               36.808594   \n",
       "2016-01-15 01:00:00               2.266033               35.753385   \n",
       "2016-01-15 02:00:00               2.159622               35.971630   \n",
       "2016-01-15 03:00:00               2.037807               36.862241   \n",
       "2016-01-15 04:00:00               1.786875               34.347666   \n",
       "\n",
       "                     rougher.input.feed_rate  rougher.input.feed_size  \\\n",
       "date                                                                    \n",
       "2016-01-15 00:00:00               523.546326                55.486599   \n",
       "2016-01-15 01:00:00               525.290581                57.278666   \n",
       "2016-01-15 02:00:00               530.026610                57.510649   \n",
       "2016-01-15 03:00:00               542.590390                57.792734   \n",
       "2016-01-15 04:00:00               540.531893                56.047189   \n",
       "\n",
       "                     rougher.input.floatbank10_sulfate  \\\n",
       "date                                                     \n",
       "2016-01-15 00:00:00                          11.986616   \n",
       "2016-01-15 01:00:00                          11.971193   \n",
       "2016-01-15 02:00:00                          11.920603   \n",
       "2016-01-15 03:00:00                          11.630094   \n",
       "2016-01-15 04:00:00                          10.957755   \n",
       "\n",
       "                     rougher.input.floatbank10_xanthate  \\\n",
       "date                                                      \n",
       "2016-01-15 00:00:00                            6.007990   \n",
       "2016-01-15 01:00:00                            6.005766   \n",
       "2016-01-15 02:00:00                            6.197377   \n",
       "2016-01-15 03:00:00                            6.203177   \n",
       "2016-01-15 04:00:00                            6.198826   \n",
       "\n",
       "                     rougher.state.floatbank10_a_air  \\\n",
       "date                                                   \n",
       "2016-01-15 00:00:00                       999.706909   \n",
       "2016-01-15 01:00:00                      1000.286398   \n",
       "2016-01-15 02:00:00                       999.719565   \n",
       "2016-01-15 03:00:00                       999.814770   \n",
       "2016-01-15 04:00:00                       999.678690   \n",
       "\n",
       "                     rougher.state.floatbank10_a_level  ...  \\\n",
       "date                                                    ...   \n",
       "2016-01-15 00:00:00                        -404.066986  ...   \n",
       "2016-01-15 01:00:00                        -400.065196  ...   \n",
       "2016-01-15 02:00:00                        -400.074028  ...   \n",
       "2016-01-15 03:00:00                        -400.200179  ...   \n",
       "2016-01-15 04:00:00                        -399.752729  ...   \n",
       "\n",
       "                     secondary_cleaner.state.floatbank4_a_air  \\\n",
       "date                                                            \n",
       "2016-01-15 00:00:00                                 14.016835   \n",
       "2016-01-15 01:00:00                                 13.992281   \n",
       "2016-01-15 02:00:00                                 14.015015   \n",
       "2016-01-15 03:00:00                                 14.036510   \n",
       "2016-01-15 04:00:00                                 14.027298   \n",
       "\n",
       "                     secondary_cleaner.state.floatbank4_a_level  \\\n",
       "date                                                              \n",
       "2016-01-15 00:00:00                                 -502.488007   \n",
       "2016-01-15 01:00:00                                 -505.503262   \n",
       "2016-01-15 02:00:00                                 -502.520901   \n",
       "2016-01-15 03:00:00                                 -500.857308   \n",
       "2016-01-15 04:00:00                                 -499.838632   \n",
       "\n",
       "                     secondary_cleaner.state.floatbank4_b_air  \\\n",
       "date                                                            \n",
       "2016-01-15 00:00:00                                 12.099931   \n",
       "2016-01-15 01:00:00                                 11.950531   \n",
       "2016-01-15 02:00:00                                 11.912783   \n",
       "2016-01-15 03:00:00                                 11.999550   \n",
       "2016-01-15 04:00:00                                 11.953070   \n",
       "\n",
       "                     secondary_cleaner.state.floatbank4_b_level  \\\n",
       "date                                                              \n",
       "2016-01-15 00:00:00                                 -504.715942   \n",
       "2016-01-15 01:00:00                                 -501.331529   \n",
       "2016-01-15 02:00:00                                 -501.133383   \n",
       "2016-01-15 03:00:00                                 -501.193686   \n",
       "2016-01-15 04:00:00                                 -501.053894   \n",
       "\n",
       "                     secondary_cleaner.state.floatbank5_a_air  \\\n",
       "date                                                            \n",
       "2016-01-15 00:00:00                                  9.925633   \n",
       "2016-01-15 01:00:00                                 10.039245   \n",
       "2016-01-15 02:00:00                                 10.070913   \n",
       "2016-01-15 03:00:00                                  9.970366   \n",
       "2016-01-15 04:00:00                                  9.925709   \n",
       "\n",
       "                     secondary_cleaner.state.floatbank5_a_level  \\\n",
       "date                                                              \n",
       "2016-01-15 00:00:00                                 -498.310211   \n",
       "2016-01-15 01:00:00                                 -500.169983   \n",
       "2016-01-15 02:00:00                                 -500.129135   \n",
       "2016-01-15 03:00:00                                 -499.201640   \n",
       "2016-01-15 04:00:00                                 -501.686727   \n",
       "\n",
       "                     secondary_cleaner.state.floatbank5_b_air  \\\n",
       "date                                                            \n",
       "2016-01-15 00:00:00                                  8.079666   \n",
       "2016-01-15 01:00:00                                  7.984757   \n",
       "2016-01-15 02:00:00                                  8.013877   \n",
       "2016-01-15 03:00:00                                  7.977324   \n",
       "2016-01-15 04:00:00                                  7.894242   \n",
       "\n",
       "                     secondary_cleaner.state.floatbank5_b_level  \\\n",
       "date                                                              \n",
       "2016-01-15 00:00:00                                 -500.470978   \n",
       "2016-01-15 01:00:00                                 -500.582168   \n",
       "2016-01-15 02:00:00                                 -500.517572   \n",
       "2016-01-15 03:00:00                                 -500.255908   \n",
       "2016-01-15 04:00:00                                 -500.356035   \n",
       "\n",
       "                     secondary_cleaner.state.floatbank6_a_air  \\\n",
       "date                                                            \n",
       "2016-01-15 00:00:00                                 14.151341   \n",
       "2016-01-15 01:00:00                                 13.998353   \n",
       "2016-01-15 02:00:00                                 14.028663   \n",
       "2016-01-15 03:00:00                                 14.005551   \n",
       "2016-01-15 04:00:00                                 13.996647   \n",
       "\n",
       "                     secondary_cleaner.state.floatbank6_a_level  \n",
       "date                                                             \n",
       "2016-01-15 00:00:00                                 -605.841980  \n",
       "2016-01-15 01:00:00                                 -599.787184  \n",
       "2016-01-15 02:00:00                                 -601.427363  \n",
       "2016-01-15 03:00:00                                 -599.996129  \n",
       "2016-01-15 04:00:00                                 -601.496691  \n",
       "\n",
       "[5 rows x 52 columns]"
      ]
     },
     "execution_count": 19,
     "metadata": {},
     "output_type": "execute_result"
    }
   ],
   "source": [
    "#check\n",
    "gold_train_proc.head()"
   ]
  },
  {
   "cell_type": "markdown",
   "metadata": {},
   "source": [
    "#### Дубликаты"
   ]
  },
  {
   "cell_type": "code",
   "execution_count": 20,
   "metadata": {
    "scrolled": true
   },
   "outputs": [
    {
     "data": {
      "text/plain": [
       "0"
      ]
     },
     "execution_count": 20,
     "metadata": {},
     "output_type": "execute_result"
    }
   ],
   "source": [
    "gold_full.duplicated().sum()"
   ]
  },
  {
   "cell_type": "markdown",
   "metadata": {},
   "source": [
    "Дубликатов не обнаружено."
   ]
  },
  {
   "cell_type": "markdown",
   "metadata": {},
   "source": [
    "### Вывод"
   ]
  },
  {
   "cell_type": "markdown",
   "metadata": {},
   "source": [
    "Загрузили данные и проверили корректность расчетов по MAE, они оказались верными. \n",
    "\n",
    "Во всех датасетах заполнили пропущенные значения с помощью признака `date`.\n",
    "\n",
    "Данные готовы для следующего этапа анализа."
   ]
  },
  {
   "cell_type": "markdown",
   "metadata": {},
   "source": [
    "## Анализ данных"
   ]
  },
  {
   "cell_type": "markdown",
   "metadata": {},
   "source": [
    "В этом этапе выполним следующие шаги:\n",
    "\n",
    "* посмотрим на изменение концетрации металлов (Au, Ag, Pb) на различных этапах очистки;\n",
    "* сравним распределение гранул сырья на обучающей и тестовой выборках;\n",
    "* посмотрим на значение суммарной концетрации различных веществ на различных стадиях очистки."
   ]
  },
  {
   "cell_type": "markdown",
   "metadata": {},
   "source": [
    "### Изменение концетрации Au, Ag, Pb"
   ]
  },
  {
   "cell_type": "code",
   "execution_count": 21,
   "metadata": {},
   "outputs": [],
   "source": [
    "# для начала разделим данные для каждого из металлов и запишем в отдельные переменные\n",
    "# концентрация золота\n",
    "au_conc = gold_full[['rougher.input.feed_au',\n",
    "                     'rougher.output.concentrate_au',\n",
    "                     'primary_cleaner.output.concentrate_au',\n",
    "                     'final.output.concentrate_au']]\n",
    "# концентрация серебра\n",
    "ag_conc = gold_full[['rougher.input.feed_ag', \n",
    "                    'rougher.output.concentrate_ag', \n",
    "                    'primary_cleaner.output.concentrate_ag', \n",
    "                    'final.output.concentrate_ag']]\n",
    "# концентрация свинца\n",
    "pb_conc = gold_full[['rougher.input.feed_pb', \n",
    "                    'rougher.output.concentrate_pb', \n",
    "                    'primary_cleaner.output.concentrate_pb', \n",
    "                    'final.output.concentrate_pb']]"
   ]
  },
  {
   "cell_type": "code",
   "execution_count": 22,
   "metadata": {
    "scrolled": false
   },
   "outputs": [
    {
     "data": {
      "image/png": "[encoded data removed]",
      "text/plain": [
       "<Figure size 1188x842.4 with 3 Axes>"
      ]
     },
     "metadata": {
      "needs_background": "light"
     },
     "output_type": "display_data"
    }
   ],
   "source": [
    "# графики\n",
    "# подготовим три пространства для графиков\n",
    "fig, (ax1, ax2, ax3) = plt.subplots(3, 1, figsize=(16.5, 11.7), constrained_layout=True)\n",
    "\n",
    "# напишем функцию для построения графиков\n",
    "def violin(data, ax, metal: str):\n",
    "    sns.violinplot(data=data, ax=ax);\n",
    "    ax.set_title(metal, fontsize=12, fontweight='bold')\n",
    "    ax.set_xticklabels(('Сырье', 'Флотация','1ый Этап', 'Окончательный этап'))\n",
    "    \n",
    "violin(au_conc, ax1, 'Золото')\n",
    "violin(ag_conc, ax2, 'Серебро')\n",
    "violin(pb_conc, ax3, 'Свинец')\n",
    "\n",
    "plt.suptitle('Изменение концентраций Золота, Серебра и Свинца на этапах технологического процесса', \n",
    "             fontsize=16, \n",
    "             fontweight='bold');\n",
    "plt.xlabel('Этапы очистки',\n",
    "           fontsize=16,\n",
    "           fontweight='bold');"
   ]
  },
  {
   "cell_type": "markdown",
   "metadata": {},
   "source": [
    "* концентрация золота в каждом этапе равномерно увеличивается;\n",
    "* концентрация серебра на флотации увеличивается, а далее уменьшается;\n",
    "* концентрация свинца сильно увеличивается после первых этапови и не изменяется после следующих."
   ]
  },
  {
   "cell_type": "markdown",
   "metadata": {},
   "source": [
    "Из распределения можно заметить выбросы в разном количестве в отметке нуля. Установить природу аномалий не представвляется возможным. Поэтому на третьем шаге анализе данных (исследование суммарных концентраций) удалим эти значения."
   ]
  },
  {
   "cell_type": "markdown",
   "metadata": {},
   "source": [
    "### Сравнение размеров гранул"
   ]
  },
  {
   "cell_type": "markdown",
   "metadata": {},
   "source": [
    "Прежде чем приступать к моделированию, необходимо сравнить распределение размеров гранул. Если эта характеристика в тестовой и обучающей выборках отличается, то оценить модель машинного обучения не получится."
   ]
  },
  {
   "cell_type": "code",
   "execution_count": 23,
   "metadata": {},
   "outputs": [],
   "source": [
    "# за размеры гранул отвечает колонка rougher.input.feed_size\n",
    "# построим распределения этих значений и сравним\n",
    "dist_grains_train = gold_train_proc['rougher.input.feed_size']\n",
    "dist_grains_test = gold_test['rougher.input.feed_size']"
   ]
  },
  {
   "cell_type": "code",
   "execution_count": 24,
   "metadata": {
    "scrolled": false
   },
   "outputs": [
    {
     "data": {
      "image/png": "[encoded data removed]",
      "text/plain": [
       "<Figure size 842.4x597.6 with 1 Axes>"
      ]
     },
     "metadata": {
      "needs_background": "light"
     },
     "output_type": "display_data"
    }
   ],
   "source": [
    "fig, ax = plt.subplots(figsize=(11.7, 8.3))\n",
    "sns.kdeplot(data=dist_grains_train, fill=True, ax=ax, label='train');\n",
    "sns.kdeplot(data=dist_grains_test, fill=True, ax=ax, label='test');\n",
    "\n",
    "ax.legend();\n",
    "\n",
    "plt.tight_layout();\n",
    "plt.xlabel('Размер гранул', fontsize=12, fontweight='bold')\n",
    "plt.ylabel('Плотность распределения', fontsize=12, fontweight='bold');\n",
    "plt.title('Распределение размеров гранул в выборках', fontsize=16, fontweight='bold');\n",
    "plt.show();"
   ]
  },
  {
   "cell_type": "code",
   "execution_count": 25,
   "metadata": {
    "scrolled": true
   },
   "outputs": [
    {
     "name": "stdout",
     "output_type": "stream",
     "text": [
      "0.8584827363512197\n"
     ]
    }
   ],
   "source": [
    "# проверим статистическим тестом на наличие различий\n",
    "# если значение p_value > 0.05, то распределения можно считать индентичными\n",
    "\n",
    "stat, p_value = ttest_ind(gold_train_proc['rougher.input.feed_size'], gold_test['rougher.input.feed_size'])\n",
    "print(p_value)"
   ]
  },
  {
   "cell_type": "markdown",
   "metadata": {},
   "source": [
    "Распределения размеров гранул сырья индентичны. "
   ]
  },
  {
   "cell_type": "markdown",
   "metadata": {},
   "source": [
    "### Суммарные концентрации"
   ]
  },
  {
   "cell_type": "markdown",
   "metadata": {},
   "source": [
    "Исследуем суммарную концентрацию всех веществ на разных стадиях: в сырье, в черновом и финальном концентратах."
   ]
  },
  {
   "cell_type": "code",
   "execution_count": 26,
   "metadata": {
    "scrolled": false
   },
   "outputs": [
    {
     "data": {
      "image/png": "[encoded data removed]",
      "text/plain": [
       "<Figure size 842.4x597.6 with 1 Axes>"
      ]
     },
     "metadata": {
      "needs_background": "light"
     },
     "output_type": "display_data"
    }
   ],
   "source": [
    "# запишем необходимые колонки в отдельный список\n",
    "conc_input = ['rougher.input.feed_au', 'rougher.input.feed_ag', 'rougher.input.feed_pb']\n",
    "plt.subplots(figsize = (11.7, 8.3))\n",
    "sns.kdeplot(gold_full[conc_input].sum(axis=1), fill=True)\n",
    "plt.title('Суммарная концентрация металлов в сырьевом концентрате');"
   ]
  },
  {
   "cell_type": "code",
   "execution_count": 27,
   "metadata": {},
   "outputs": [
    {
     "data": {
      "image/png": "[encoded data removed]",
      "text/plain": [
       "<Figure size 842.4x597.6 with 1 Axes>"
      ]
     },
     "metadata": {
      "needs_background": "light"
     },
     "output_type": "display_data"
    }
   ],
   "source": [
    "conc_output = ['rougher.output.concentrate_au', 'rougher.output.concentrate_ag', 'rougher.output.concentrate_pb']\n",
    "plt.subplots(figsize = (11.7, 8.3))\n",
    "sns.kdeplot(gold_full[conc_output].sum(axis=1), fill=True)\n",
    "plt.title('Суммарная концентрация металлов в черновом концентрате');"
   ]
  },
  {
   "cell_type": "code",
   "execution_count": 28,
   "metadata": {
    "scrolled": false
   },
   "outputs": [
    {
     "data": {
      "image/png": "[encoded data removed]",
      "text/plain": [
       "<Figure size 842.4x597.6 with 1 Axes>"
      ]
     },
     "metadata": {
      "needs_background": "light"
     },
     "output_type": "display_data"
    }
   ],
   "source": [
    "conc_final = ['final.output.concentrate_au', 'final.output.concentrate_ag', 'final.output.concentrate_pb']\n",
    "plt.subplots(figsize = (11.7, 8.3))\n",
    "sns.kdeplot(gold_full[conc_final].sum(axis=1), fill=True)\n",
    "plt.title('Суммарная концентрация металлов в финальном концентрате');"
   ]
  },
  {
   "cell_type": "markdown",
   "metadata": {},
   "source": [
    "В черновом и финальном концентрате можно заметить аномальные значения около нуля. Возможно проблема в сборе данных или оборудовании в технологическом процессе. Такие данные будут мешать обучению модели, поэтому удалим эти аномалии из тренировочной."
   ]
  },
  {
   "cell_type": "code",
   "execution_count": 29,
   "metadata": {
    "scrolled": true
   },
   "outputs": [
    {
     "data": {
      "text/html": [
       "<div>\n",
       "<style scoped>\n",
       "    .dataframe tbody tr th:only-of-type {\n",
       "        vertical-align: middle;\n",
       "    }\n",
       "\n",
       "    .dataframe tbody tr th {\n",
       "        vertical-align: top;\n",
       "    }\n",
       "\n",
       "    .dataframe thead th {\n",
       "        text-align: right;\n",
       "    }\n",
       "</style>\n",
       "<table border=\"1\" class=\"dataframe\">\n",
       "  <thead>\n",
       "    <tr style=\"text-align: right;\">\n",
       "      <th></th>\n",
       "      <th>count</th>\n",
       "      <th>mean</th>\n",
       "      <th>std</th>\n",
       "      <th>min</th>\n",
       "      <th>25%</th>\n",
       "      <th>50%</th>\n",
       "      <th>75%</th>\n",
       "      <th>max</th>\n",
       "    </tr>\n",
       "  </thead>\n",
       "  <tbody>\n",
       "    <tr>\n",
       "      <th>rougher.input.feed_au</th>\n",
       "      <td>14579.0</td>\n",
       "      <td>8.352941</td>\n",
       "      <td>1.934376</td>\n",
       "      <td>0.01</td>\n",
       "      <td>6.932996</td>\n",
       "      <td>8.225284</td>\n",
       "      <td>9.832210</td>\n",
       "      <td>13.731330</td>\n",
       "    </tr>\n",
       "    <tr>\n",
       "      <th>rougher.input.feed_ag</th>\n",
       "      <td>14579.0</td>\n",
       "      <td>8.877460</td>\n",
       "      <td>1.922536</td>\n",
       "      <td>0.01</td>\n",
       "      <td>7.341922</td>\n",
       "      <td>8.715859</td>\n",
       "      <td>10.255843</td>\n",
       "      <td>14.596026</td>\n",
       "    </tr>\n",
       "    <tr>\n",
       "      <th>rougher.input.feed_pb</th>\n",
       "      <td>14579.0</td>\n",
       "      <td>3.592094</td>\n",
       "      <td>1.068227</td>\n",
       "      <td>0.01</td>\n",
       "      <td>2.868687</td>\n",
       "      <td>3.524599</td>\n",
       "      <td>4.253958</td>\n",
       "      <td>7.052325</td>\n",
       "    </tr>\n",
       "  </tbody>\n",
       "</table>\n",
       "</div>"
      ],
      "text/plain": [
       "                         count      mean       std   min       25%       50%  \\\n",
       "rougher.input.feed_au  14579.0  8.352941  1.934376  0.01  6.932996  8.225284   \n",
       "rougher.input.feed_ag  14579.0  8.877460  1.922536  0.01  7.341922  8.715859   \n",
       "rougher.input.feed_pb  14579.0  3.592094  1.068227  0.01  2.868687  3.524599   \n",
       "\n",
       "                             75%        max  \n",
       "rougher.input.feed_au   9.832210  13.731330  \n",
       "rougher.input.feed_ag  10.255843  14.596026  \n",
       "rougher.input.feed_pb   4.253958   7.052325  "
      ]
     },
     "execution_count": 29,
     "metadata": {},
     "output_type": "execute_result"
    }
   ],
   "source": [
    "# в обучающей выборке есть только данные этапа input с аномалиями\n",
    "# удалим их\n",
    "gold_train_proc[conc_input].describe().T"
   ]
  },
  {
   "cell_type": "markdown",
   "metadata": {},
   "source": [
    "Из распределений видно, что минимальное значение 0.01. Посмотрим сколько таких строк с аномалиями в обучающей выборке. "
   ]
  },
  {
   "cell_type": "code",
   "execution_count": 30,
   "metadata": {
    "scrolled": false
   },
   "outputs": [
    {
     "name": "stdout",
     "output_type": "stream",
     "text": [
      "rougher.input.feed_au 3\n",
      "rougher.input.feed_ag 3\n",
      "rougher.input.feed_pb 3\n"
     ]
    }
   ],
   "source": [
    "# посчитаем количество аномлаьных строк\n",
    "# зададимся границей в 0.1, учитывая минимальные значения\n",
    "\n",
    "def len_outs(columns):\n",
    "    for col in columns:\n",
    "        print(col, len(gold_train_proc.loc[gold_train_proc[col] < 0.1]))\n",
    "        \n",
    "len_outs(conc_input)"
   ]
  },
  {
   "cell_type": "code",
   "execution_count": 31,
   "metadata": {
    "scrolled": true
   },
   "outputs": [],
   "source": [
    "# удалим эти значения\n",
    "for i in conc_input:\n",
    "    gold_train_proc = gold_train_proc.loc[gold_train_proc[i] > 0.1]"
   ]
  },
  {
   "cell_type": "code",
   "execution_count": 32,
   "metadata": {},
   "outputs": [
    {
     "name": "stdout",
     "output_type": "stream",
     "text": [
      "rougher.input.feed_au 0\n",
      "rougher.input.feed_ag 0\n",
      "rougher.input.feed_pb 0\n"
     ]
    }
   ],
   "source": [
    "# check\n",
    "len_outs(conc_input)"
   ]
  },
  {
   "cell_type": "markdown",
   "metadata": {},
   "source": [
    "Данные готовы для обучения."
   ]
  },
  {
   "cell_type": "markdown",
   "metadata": {},
   "source": [
    "## Модель"
   ]
  },
  {
   "cell_type": "markdown",
   "metadata": {},
   "source": [
    "Для того, чтобы обучить модель нужны целевые признаки из полного датасета. Возьмем из него значения `rougher.output.recovery` и `final.output.recovery` и присоединим к обучающей и тестовой выборках, ориентируясь на дату."
   ]
  },
  {
   "cell_type": "code",
   "execution_count": 33,
   "metadata": {},
   "outputs": [],
   "source": [
    "# обучающая\n",
    "gold_train_proc = gold_train_proc.merge(gold_full[['rougher.output.recovery', 'final.output.recovery']], \n",
    "                                        left_index=True, \n",
    "                                        right_index=True)\n",
    "# тестовая\n",
    "gold_test = gold_test.merge(gold_full[['rougher.output.recovery', 'final.output.recovery']], \n",
    "                                        left_index=True, \n",
    "                                        right_index=True)"
   ]
  },
  {
   "cell_type": "code",
   "execution_count": 34,
   "metadata": {},
   "outputs": [
    {
     "data": {
      "text/html": [
       "<div>\n",
       "<style scoped>\n",
       "    .dataframe tbody tr th:only-of-type {\n",
       "        vertical-align: middle;\n",
       "    }\n",
       "\n",
       "    .dataframe tbody tr th {\n",
       "        vertical-align: top;\n",
       "    }\n",
       "\n",
       "    .dataframe thead th {\n",
       "        text-align: right;\n",
       "    }\n",
       "</style>\n",
       "<table border=\"1\" class=\"dataframe\">\n",
       "  <thead>\n",
       "    <tr style=\"text-align: right;\">\n",
       "      <th></th>\n",
       "      <th>rougher.input.feed_au</th>\n",
       "      <th>rougher.input.feed_ag</th>\n",
       "      <th>rougher.input.feed_pb</th>\n",
       "      <th>rougher.input.feed_sol</th>\n",
       "      <th>rougher.input.feed_rate</th>\n",
       "      <th>rougher.input.feed_size</th>\n",
       "      <th>rougher.input.floatbank10_sulfate</th>\n",
       "      <th>rougher.input.floatbank10_xanthate</th>\n",
       "      <th>rougher.state.floatbank10_a_air</th>\n",
       "      <th>rougher.state.floatbank10_a_level</th>\n",
       "      <th>...</th>\n",
       "      <th>secondary_cleaner.state.floatbank4_b_air</th>\n",
       "      <th>secondary_cleaner.state.floatbank4_b_level</th>\n",
       "      <th>secondary_cleaner.state.floatbank5_a_air</th>\n",
       "      <th>secondary_cleaner.state.floatbank5_a_level</th>\n",
       "      <th>secondary_cleaner.state.floatbank5_b_air</th>\n",
       "      <th>secondary_cleaner.state.floatbank5_b_level</th>\n",
       "      <th>secondary_cleaner.state.floatbank6_a_air</th>\n",
       "      <th>secondary_cleaner.state.floatbank6_a_level</th>\n",
       "      <th>rougher.output.recovery</th>\n",
       "      <th>final.output.recovery</th>\n",
       "    </tr>\n",
       "    <tr>\n",
       "      <th>date</th>\n",
       "      <th></th>\n",
       "      <th></th>\n",
       "      <th></th>\n",
       "      <th></th>\n",
       "      <th></th>\n",
       "      <th></th>\n",
       "      <th></th>\n",
       "      <th></th>\n",
       "      <th></th>\n",
       "      <th></th>\n",
       "      <th></th>\n",
       "      <th></th>\n",
       "      <th></th>\n",
       "      <th></th>\n",
       "      <th></th>\n",
       "      <th></th>\n",
       "      <th></th>\n",
       "      <th></th>\n",
       "      <th></th>\n",
       "      <th></th>\n",
       "      <th></th>\n",
       "    </tr>\n",
       "  </thead>\n",
       "  <tbody>\n",
       "    <tr>\n",
       "      <th>2016-01-15 00:00:00</th>\n",
       "      <td>6.486150</td>\n",
       "      <td>6.100378</td>\n",
       "      <td>2.284912</td>\n",
       "      <td>36.808594</td>\n",
       "      <td>523.546326</td>\n",
       "      <td>55.486599</td>\n",
       "      <td>11.986616</td>\n",
       "      <td>6.007990</td>\n",
       "      <td>999.706909</td>\n",
       "      <td>-404.066986</td>\n",
       "      <td>...</td>\n",
       "      <td>12.099931</td>\n",
       "      <td>-504.715942</td>\n",
       "      <td>9.925633</td>\n",
       "      <td>-498.310211</td>\n",
       "      <td>8.079666</td>\n",
       "      <td>-500.470978</td>\n",
       "      <td>14.151341</td>\n",
       "      <td>-605.841980</td>\n",
       "      <td>87.107763</td>\n",
       "      <td>70.541216</td>\n",
       "    </tr>\n",
       "    <tr>\n",
       "      <th>2016-01-15 01:00:00</th>\n",
       "      <td>6.478583</td>\n",
       "      <td>6.161113</td>\n",
       "      <td>2.266033</td>\n",
       "      <td>35.753385</td>\n",
       "      <td>525.290581</td>\n",
       "      <td>57.278666</td>\n",
       "      <td>11.971193</td>\n",
       "      <td>6.005766</td>\n",
       "      <td>1000.286398</td>\n",
       "      <td>-400.065196</td>\n",
       "      <td>...</td>\n",
       "      <td>11.950531</td>\n",
       "      <td>-501.331529</td>\n",
       "      <td>10.039245</td>\n",
       "      <td>-500.169983</td>\n",
       "      <td>7.984757</td>\n",
       "      <td>-500.582168</td>\n",
       "      <td>13.998353</td>\n",
       "      <td>-599.787184</td>\n",
       "      <td>86.843261</td>\n",
       "      <td>69.266198</td>\n",
       "    </tr>\n",
       "    <tr>\n",
       "      <th>2016-01-15 02:00:00</th>\n",
       "      <td>6.362222</td>\n",
       "      <td>6.116455</td>\n",
       "      <td>2.159622</td>\n",
       "      <td>35.971630</td>\n",
       "      <td>530.026610</td>\n",
       "      <td>57.510649</td>\n",
       "      <td>11.920603</td>\n",
       "      <td>6.197377</td>\n",
       "      <td>999.719565</td>\n",
       "      <td>-400.074028</td>\n",
       "      <td>...</td>\n",
       "      <td>11.912783</td>\n",
       "      <td>-501.133383</td>\n",
       "      <td>10.070913</td>\n",
       "      <td>-500.129135</td>\n",
       "      <td>8.013877</td>\n",
       "      <td>-500.517572</td>\n",
       "      <td>14.028663</td>\n",
       "      <td>-601.427363</td>\n",
       "      <td>86.842308</td>\n",
       "      <td>68.116445</td>\n",
       "    </tr>\n",
       "    <tr>\n",
       "      <th>2016-01-15 03:00:00</th>\n",
       "      <td>6.118189</td>\n",
       "      <td>6.043309</td>\n",
       "      <td>2.037807</td>\n",
       "      <td>36.862241</td>\n",
       "      <td>542.590390</td>\n",
       "      <td>57.792734</td>\n",
       "      <td>11.630094</td>\n",
       "      <td>6.203177</td>\n",
       "      <td>999.814770</td>\n",
       "      <td>-400.200179</td>\n",
       "      <td>...</td>\n",
       "      <td>11.999550</td>\n",
       "      <td>-501.193686</td>\n",
       "      <td>9.970366</td>\n",
       "      <td>-499.201640</td>\n",
       "      <td>7.977324</td>\n",
       "      <td>-500.255908</td>\n",
       "      <td>14.005551</td>\n",
       "      <td>-599.996129</td>\n",
       "      <td>87.226430</td>\n",
       "      <td>68.347543</td>\n",
       "    </tr>\n",
       "    <tr>\n",
       "      <th>2016-01-15 04:00:00</th>\n",
       "      <td>5.663707</td>\n",
       "      <td>6.060915</td>\n",
       "      <td>1.786875</td>\n",
       "      <td>34.347666</td>\n",
       "      <td>540.531893</td>\n",
       "      <td>56.047189</td>\n",
       "      <td>10.957755</td>\n",
       "      <td>6.198826</td>\n",
       "      <td>999.678690</td>\n",
       "      <td>-399.752729</td>\n",
       "      <td>...</td>\n",
       "      <td>11.953070</td>\n",
       "      <td>-501.053894</td>\n",
       "      <td>9.925709</td>\n",
       "      <td>-501.686727</td>\n",
       "      <td>7.894242</td>\n",
       "      <td>-500.356035</td>\n",
       "      <td>13.996647</td>\n",
       "      <td>-601.496691</td>\n",
       "      <td>86.688794</td>\n",
       "      <td>66.927016</td>\n",
       "    </tr>\n",
       "  </tbody>\n",
       "</table>\n",
       "<p>5 rows × 54 columns</p>\n",
       "</div>"
      ],
      "text/plain": [
       "                     rougher.input.feed_au  rougher.input.feed_ag  \\\n",
       "date                                                                \n",
       "2016-01-15 00:00:00               6.486150               6.100378   \n",
       "2016-01-15 01:00:00               6.478583               6.161113   \n",
       "2016-01-15 02:00:00               6.362222               6.116455   \n",
       "2016-01-15 03:00:00               6.118189               6.043309   \n",
       "2016-01-15 04:00:00               5.663707               6.060915   \n",
       "\n",
       "                     rougher.input.feed_pb  rougher.input.feed_sol  \\\n",
       "date                                                                 \n",
       "2016-01-15 00:00:00               2.284912               36.808594   \n",
       "2016-01-15 01:00:00               2.266033               35.753385   \n",
       "2016-01-15 02:00:00               2.159622               35.971630   \n",
       "2016-01-15 03:00:00               2.037807               36.862241   \n",
       "2016-01-15 04:00:00               1.786875               34.347666   \n",
       "\n",
       "                     rougher.input.feed_rate  rougher.input.feed_size  \\\n",
       "date                                                                    \n",
       "2016-01-15 00:00:00               523.546326                55.486599   \n",
       "2016-01-15 01:00:00               525.290581                57.278666   \n",
       "2016-01-15 02:00:00               530.026610                57.510649   \n",
       "2016-01-15 03:00:00               542.590390                57.792734   \n",
       "2016-01-15 04:00:00               540.531893                56.047189   \n",
       "\n",
       "                     rougher.input.floatbank10_sulfate  \\\n",
       "date                                                     \n",
       "2016-01-15 00:00:00                          11.986616   \n",
       "2016-01-15 01:00:00                          11.971193   \n",
       "2016-01-15 02:00:00                          11.920603   \n",
       "2016-01-15 03:00:00                          11.630094   \n",
       "2016-01-15 04:00:00                          10.957755   \n",
       "\n",
       "                     rougher.input.floatbank10_xanthate  \\\n",
       "date                                                      \n",
       "2016-01-15 00:00:00                            6.007990   \n",
       "2016-01-15 01:00:00                            6.005766   \n",
       "2016-01-15 02:00:00                            6.197377   \n",
       "2016-01-15 03:00:00                            6.203177   \n",
       "2016-01-15 04:00:00                            6.198826   \n",
       "\n",
       "                     rougher.state.floatbank10_a_air  \\\n",
       "date                                                   \n",
       "2016-01-15 00:00:00                       999.706909   \n",
       "2016-01-15 01:00:00                      1000.286398   \n",
       "2016-01-15 02:00:00                       999.719565   \n",
       "2016-01-15 03:00:00                       999.814770   \n",
       "2016-01-15 04:00:00                       999.678690   \n",
       "\n",
       "                     rougher.state.floatbank10_a_level  ...  \\\n",
       "date                                                    ...   \n",
       "2016-01-15 00:00:00                        -404.066986  ...   \n",
       "2016-01-15 01:00:00                        -400.065196  ...   \n",
       "2016-01-15 02:00:00                        -400.074028  ...   \n",
       "2016-01-15 03:00:00                        -400.200179  ...   \n",
       "2016-01-15 04:00:00                        -399.752729  ...   \n",
       "\n",
       "                     secondary_cleaner.state.floatbank4_b_air  \\\n",
       "date                                                            \n",
       "2016-01-15 00:00:00                                 12.099931   \n",
       "2016-01-15 01:00:00                                 11.950531   \n",
       "2016-01-15 02:00:00                                 11.912783   \n",
       "2016-01-15 03:00:00                                 11.999550   \n",
       "2016-01-15 04:00:00                                 11.953070   \n",
       "\n",
       "                     secondary_cleaner.state.floatbank4_b_level  \\\n",
       "date                                                              \n",
       "2016-01-15 00:00:00                                 -504.715942   \n",
       "2016-01-15 01:00:00                                 -501.331529   \n",
       "2016-01-15 02:00:00                                 -501.133383   \n",
       "2016-01-15 03:00:00                                 -501.193686   \n",
       "2016-01-15 04:00:00                                 -501.053894   \n",
       "\n",
       "                     secondary_cleaner.state.floatbank5_a_air  \\\n",
       "date                                                            \n",
       "2016-01-15 00:00:00                                  9.925633   \n",
       "2016-01-15 01:00:00                                 10.039245   \n",
       "2016-01-15 02:00:00                                 10.070913   \n",
       "2016-01-15 03:00:00                                  9.970366   \n",
       "2016-01-15 04:00:00                                  9.925709   \n",
       "\n",
       "                     secondary_cleaner.state.floatbank5_a_level  \\\n",
       "date                                                              \n",
       "2016-01-15 00:00:00                                 -498.310211   \n",
       "2016-01-15 01:00:00                                 -500.169983   \n",
       "2016-01-15 02:00:00                                 -500.129135   \n",
       "2016-01-15 03:00:00                                 -499.201640   \n",
       "2016-01-15 04:00:00                                 -501.686727   \n",
       "\n",
       "                     secondary_cleaner.state.floatbank5_b_air  \\\n",
       "date                                                            \n",
       "2016-01-15 00:00:00                                  8.079666   \n",
       "2016-01-15 01:00:00                                  7.984757   \n",
       "2016-01-15 02:00:00                                  8.013877   \n",
       "2016-01-15 03:00:00                                  7.977324   \n",
       "2016-01-15 04:00:00                                  7.894242   \n",
       "\n",
       "                     secondary_cleaner.state.floatbank5_b_level  \\\n",
       "date                                                              \n",
       "2016-01-15 00:00:00                                 -500.470978   \n",
       "2016-01-15 01:00:00                                 -500.582168   \n",
       "2016-01-15 02:00:00                                 -500.517572   \n",
       "2016-01-15 03:00:00                                 -500.255908   \n",
       "2016-01-15 04:00:00                                 -500.356035   \n",
       "\n",
       "                     secondary_cleaner.state.floatbank6_a_air  \\\n",
       "date                                                            \n",
       "2016-01-15 00:00:00                                 14.151341   \n",
       "2016-01-15 01:00:00                                 13.998353   \n",
       "2016-01-15 02:00:00                                 14.028663   \n",
       "2016-01-15 03:00:00                                 14.005551   \n",
       "2016-01-15 04:00:00                                 13.996647   \n",
       "\n",
       "                     secondary_cleaner.state.floatbank6_a_level  \\\n",
       "date                                                              \n",
       "2016-01-15 00:00:00                                 -605.841980   \n",
       "2016-01-15 01:00:00                                 -599.787184   \n",
       "2016-01-15 02:00:00                                 -601.427363   \n",
       "2016-01-15 03:00:00                                 -599.996129   \n",
       "2016-01-15 04:00:00                                 -601.496691   \n",
       "\n",
       "                     rougher.output.recovery  final.output.recovery  \n",
       "date                                                                 \n",
       "2016-01-15 00:00:00                87.107763              70.541216  \n",
       "2016-01-15 01:00:00                86.843261              69.266198  \n",
       "2016-01-15 02:00:00                86.842308              68.116445  \n",
       "2016-01-15 03:00:00                87.226430              68.347543  \n",
       "2016-01-15 04:00:00                86.688794              66.927016  \n",
       "\n",
       "[5 rows x 54 columns]"
      ]
     },
     "metadata": {},
     "output_type": "display_data"
    },
    {
     "data": {
      "text/html": [
       "<div>\n",
       "<style scoped>\n",
       "    .dataframe tbody tr th:only-of-type {\n",
       "        vertical-align: middle;\n",
       "    }\n",
       "\n",
       "    .dataframe tbody tr th {\n",
       "        vertical-align: top;\n",
       "    }\n",
       "\n",
       "    .dataframe thead th {\n",
       "        text-align: right;\n",
       "    }\n",
       "</style>\n",
       "<table border=\"1\" class=\"dataframe\">\n",
       "  <thead>\n",
       "    <tr style=\"text-align: right;\">\n",
       "      <th></th>\n",
       "      <th>rougher.input.feed_au</th>\n",
       "      <th>rougher.input.feed_ag</th>\n",
       "      <th>rougher.input.feed_pb</th>\n",
       "      <th>rougher.input.feed_sol</th>\n",
       "      <th>rougher.input.feed_rate</th>\n",
       "      <th>rougher.input.feed_size</th>\n",
       "      <th>rougher.input.floatbank10_sulfate</th>\n",
       "      <th>rougher.input.floatbank10_xanthate</th>\n",
       "      <th>rougher.state.floatbank10_a_air</th>\n",
       "      <th>rougher.state.floatbank10_a_level</th>\n",
       "      <th>...</th>\n",
       "      <th>secondary_cleaner.state.floatbank4_b_air</th>\n",
       "      <th>secondary_cleaner.state.floatbank4_b_level</th>\n",
       "      <th>secondary_cleaner.state.floatbank5_a_air</th>\n",
       "      <th>secondary_cleaner.state.floatbank5_a_level</th>\n",
       "      <th>secondary_cleaner.state.floatbank5_b_air</th>\n",
       "      <th>secondary_cleaner.state.floatbank5_b_level</th>\n",
       "      <th>secondary_cleaner.state.floatbank6_a_air</th>\n",
       "      <th>secondary_cleaner.state.floatbank6_a_level</th>\n",
       "      <th>rougher.output.recovery</th>\n",
       "      <th>final.output.recovery</th>\n",
       "    </tr>\n",
       "    <tr>\n",
       "      <th>date</th>\n",
       "      <th></th>\n",
       "      <th></th>\n",
       "      <th></th>\n",
       "      <th></th>\n",
       "      <th></th>\n",
       "      <th></th>\n",
       "      <th></th>\n",
       "      <th></th>\n",
       "      <th></th>\n",
       "      <th></th>\n",
       "      <th></th>\n",
       "      <th></th>\n",
       "      <th></th>\n",
       "      <th></th>\n",
       "      <th></th>\n",
       "      <th></th>\n",
       "      <th></th>\n",
       "      <th></th>\n",
       "      <th></th>\n",
       "      <th></th>\n",
       "      <th></th>\n",
       "    </tr>\n",
       "  </thead>\n",
       "  <tbody>\n",
       "    <tr>\n",
       "      <th>2017-12-09 14:59:59</th>\n",
       "      <td>4.365491</td>\n",
       "      <td>6.158718</td>\n",
       "      <td>3.875727</td>\n",
       "      <td>39.135119</td>\n",
       "      <td>555.820208</td>\n",
       "      <td>94.544358</td>\n",
       "      <td>6.146982</td>\n",
       "      <td>9.308612</td>\n",
       "      <td>1196.238112</td>\n",
       "      <td>-299.862743</td>\n",
       "      <td>...</td>\n",
       "      <td>20.020205</td>\n",
       "      <td>-500.220296</td>\n",
       "      <td>17.963512</td>\n",
       "      <td>-499.939490</td>\n",
       "      <td>12.990306</td>\n",
       "      <td>-500.080993</td>\n",
       "      <td>19.990336</td>\n",
       "      <td>-499.191575</td>\n",
       "      <td>89.514960</td>\n",
       "      <td>70.281454</td>\n",
       "    </tr>\n",
       "    <tr>\n",
       "      <th>2017-12-09 15:59:59</th>\n",
       "      <td>4.362781</td>\n",
       "      <td>6.048130</td>\n",
       "      <td>3.902537</td>\n",
       "      <td>39.713906</td>\n",
       "      <td>544.731687</td>\n",
       "      <td>123.742430</td>\n",
       "      <td>6.210119</td>\n",
       "      <td>9.297709</td>\n",
       "      <td>1201.904177</td>\n",
       "      <td>-299.907308</td>\n",
       "      <td>...</td>\n",
       "      <td>20.054122</td>\n",
       "      <td>-500.314711</td>\n",
       "      <td>17.979515</td>\n",
       "      <td>-499.272871</td>\n",
       "      <td>12.992404</td>\n",
       "      <td>-499.976268</td>\n",
       "      <td>20.013986</td>\n",
       "      <td>-500.625471</td>\n",
       "      <td>89.858126</td>\n",
       "      <td>65.523246</td>\n",
       "    </tr>\n",
       "    <tr>\n",
       "      <th>2017-12-09 16:59:59</th>\n",
       "      <td>5.081681</td>\n",
       "      <td>6.082745</td>\n",
       "      <td>4.564078</td>\n",
       "      <td>37.208683</td>\n",
       "      <td>558.155110</td>\n",
       "      <td>82.610855</td>\n",
       "      <td>7.363824</td>\n",
       "      <td>9.003562</td>\n",
       "      <td>1200.826926</td>\n",
       "      <td>-300.124116</td>\n",
       "      <td>...</td>\n",
       "      <td>20.029144</td>\n",
       "      <td>-500.000662</td>\n",
       "      <td>18.012723</td>\n",
       "      <td>-500.024764</td>\n",
       "      <td>13.016445</td>\n",
       "      <td>-500.058432</td>\n",
       "      <td>19.973767</td>\n",
       "      <td>-501.394155</td>\n",
       "      <td>91.816623</td>\n",
       "      <td>74.817644</td>\n",
       "    </tr>\n",
       "    <tr>\n",
       "      <th>2017-12-09 17:59:59</th>\n",
       "      <td>5.145949</td>\n",
       "      <td>6.084374</td>\n",
       "      <td>4.768124</td>\n",
       "      <td>36.808874</td>\n",
       "      <td>539.713765</td>\n",
       "      <td>77.984784</td>\n",
       "      <td>6.927072</td>\n",
       "      <td>8.955597</td>\n",
       "      <td>1199.292489</td>\n",
       "      <td>-299.778385</td>\n",
       "      <td>...</td>\n",
       "      <td>19.977466</td>\n",
       "      <td>-500.159903</td>\n",
       "      <td>17.980463</td>\n",
       "      <td>-500.504602</td>\n",
       "      <td>12.949071</td>\n",
       "      <td>-500.009937</td>\n",
       "      <td>20.010332</td>\n",
       "      <td>-508.337973</td>\n",
       "      <td>88.478959</td>\n",
       "      <td>63.082720</td>\n",
       "    </tr>\n",
       "    <tr>\n",
       "      <th>2017-12-09 18:59:59</th>\n",
       "      <td>5.735249</td>\n",
       "      <td>6.165220</td>\n",
       "      <td>4.512346</td>\n",
       "      <td>37.810642</td>\n",
       "      <td>558.713584</td>\n",
       "      <td>86.434874</td>\n",
       "      <td>7.823471</td>\n",
       "      <td>7.490356</td>\n",
       "      <td>1198.005449</td>\n",
       "      <td>-300.283401</td>\n",
       "      <td>...</td>\n",
       "      <td>20.023735</td>\n",
       "      <td>-499.713680</td>\n",
       "      <td>17.990955</td>\n",
       "      <td>-500.334769</td>\n",
       "      <td>13.007523</td>\n",
       "      <td>-499.968459</td>\n",
       "      <td>19.995999</td>\n",
       "      <td>-499.788805</td>\n",
       "      <td>89.230316</td>\n",
       "      <td>74.463380</td>\n",
       "    </tr>\n",
       "  </tbody>\n",
       "</table>\n",
       "<p>5 rows × 54 columns</p>\n",
       "</div>"
      ],
      "text/plain": [
       "                     rougher.input.feed_au  rougher.input.feed_ag  \\\n",
       "date                                                                \n",
       "2017-12-09 14:59:59               4.365491               6.158718   \n",
       "2017-12-09 15:59:59               4.362781               6.048130   \n",
       "2017-12-09 16:59:59               5.081681               6.082745   \n",
       "2017-12-09 17:59:59               5.145949               6.084374   \n",
       "2017-12-09 18:59:59               5.735249               6.165220   \n",
       "\n",
       "                     rougher.input.feed_pb  rougher.input.feed_sol  \\\n",
       "date                                                                 \n",
       "2017-12-09 14:59:59               3.875727               39.135119   \n",
       "2017-12-09 15:59:59               3.902537               39.713906   \n",
       "2017-12-09 16:59:59               4.564078               37.208683   \n",
       "2017-12-09 17:59:59               4.768124               36.808874   \n",
       "2017-12-09 18:59:59               4.512346               37.810642   \n",
       "\n",
       "                     rougher.input.feed_rate  rougher.input.feed_size  \\\n",
       "date                                                                    \n",
       "2017-12-09 14:59:59               555.820208                94.544358   \n",
       "2017-12-09 15:59:59               544.731687               123.742430   \n",
       "2017-12-09 16:59:59               558.155110                82.610855   \n",
       "2017-12-09 17:59:59               539.713765                77.984784   \n",
       "2017-12-09 18:59:59               558.713584                86.434874   \n",
       "\n",
       "                     rougher.input.floatbank10_sulfate  \\\n",
       "date                                                     \n",
       "2017-12-09 14:59:59                           6.146982   \n",
       "2017-12-09 15:59:59                           6.210119   \n",
       "2017-12-09 16:59:59                           7.363824   \n",
       "2017-12-09 17:59:59                           6.927072   \n",
       "2017-12-09 18:59:59                           7.823471   \n",
       "\n",
       "                     rougher.input.floatbank10_xanthate  \\\n",
       "date                                                      \n",
       "2017-12-09 14:59:59                            9.308612   \n",
       "2017-12-09 15:59:59                            9.297709   \n",
       "2017-12-09 16:59:59                            9.003562   \n",
       "2017-12-09 17:59:59                            8.955597   \n",
       "2017-12-09 18:59:59                            7.490356   \n",
       "\n",
       "                     rougher.state.floatbank10_a_air  \\\n",
       "date                                                   \n",
       "2017-12-09 14:59:59                      1196.238112   \n",
       "2017-12-09 15:59:59                      1201.904177   \n",
       "2017-12-09 16:59:59                      1200.826926   \n",
       "2017-12-09 17:59:59                      1199.292489   \n",
       "2017-12-09 18:59:59                      1198.005449   \n",
       "\n",
       "                     rougher.state.floatbank10_a_level  ...  \\\n",
       "date                                                    ...   \n",
       "2017-12-09 14:59:59                        -299.862743  ...   \n",
       "2017-12-09 15:59:59                        -299.907308  ...   \n",
       "2017-12-09 16:59:59                        -300.124116  ...   \n",
       "2017-12-09 17:59:59                        -299.778385  ...   \n",
       "2017-12-09 18:59:59                        -300.283401  ...   \n",
       "\n",
       "                     secondary_cleaner.state.floatbank4_b_air  \\\n",
       "date                                                            \n",
       "2017-12-09 14:59:59                                 20.020205   \n",
       "2017-12-09 15:59:59                                 20.054122   \n",
       "2017-12-09 16:59:59                                 20.029144   \n",
       "2017-12-09 17:59:59                                 19.977466   \n",
       "2017-12-09 18:59:59                                 20.023735   \n",
       "\n",
       "                     secondary_cleaner.state.floatbank4_b_level  \\\n",
       "date                                                              \n",
       "2017-12-09 14:59:59                                 -500.220296   \n",
       "2017-12-09 15:59:59                                 -500.314711   \n",
       "2017-12-09 16:59:59                                 -500.000662   \n",
       "2017-12-09 17:59:59                                 -500.159903   \n",
       "2017-12-09 18:59:59                                 -499.713680   \n",
       "\n",
       "                     secondary_cleaner.state.floatbank5_a_air  \\\n",
       "date                                                            \n",
       "2017-12-09 14:59:59                                 17.963512   \n",
       "2017-12-09 15:59:59                                 17.979515   \n",
       "2017-12-09 16:59:59                                 18.012723   \n",
       "2017-12-09 17:59:59                                 17.980463   \n",
       "2017-12-09 18:59:59                                 17.990955   \n",
       "\n",
       "                     secondary_cleaner.state.floatbank5_a_level  \\\n",
       "date                                                              \n",
       "2017-12-09 14:59:59                                 -499.939490   \n",
       "2017-12-09 15:59:59                                 -499.272871   \n",
       "2017-12-09 16:59:59                                 -500.024764   \n",
       "2017-12-09 17:59:59                                 -500.504602   \n",
       "2017-12-09 18:59:59                                 -500.334769   \n",
       "\n",
       "                     secondary_cleaner.state.floatbank5_b_air  \\\n",
       "date                                                            \n",
       "2017-12-09 14:59:59                                 12.990306   \n",
       "2017-12-09 15:59:59                                 12.992404   \n",
       "2017-12-09 16:59:59                                 13.016445   \n",
       "2017-12-09 17:59:59                                 12.949071   \n",
       "2017-12-09 18:59:59                                 13.007523   \n",
       "\n",
       "                     secondary_cleaner.state.floatbank5_b_level  \\\n",
       "date                                                              \n",
       "2017-12-09 14:59:59                                 -500.080993   \n",
       "2017-12-09 15:59:59                                 -499.976268   \n",
       "2017-12-09 16:59:59                                 -500.058432   \n",
       "2017-12-09 17:59:59                                 -500.009937   \n",
       "2017-12-09 18:59:59                                 -499.968459   \n",
       "\n",
       "                     secondary_cleaner.state.floatbank6_a_air  \\\n",
       "date                                                            \n",
       "2017-12-09 14:59:59                                 19.990336   \n",
       "2017-12-09 15:59:59                                 20.013986   \n",
       "2017-12-09 16:59:59                                 19.973767   \n",
       "2017-12-09 17:59:59                                 20.010332   \n",
       "2017-12-09 18:59:59                                 19.995999   \n",
       "\n",
       "                     secondary_cleaner.state.floatbank6_a_level  \\\n",
       "date                                                              \n",
       "2017-12-09 14:59:59                                 -499.191575   \n",
       "2017-12-09 15:59:59                                 -500.625471   \n",
       "2017-12-09 16:59:59                                 -501.394155   \n",
       "2017-12-09 17:59:59                                 -508.337973   \n",
       "2017-12-09 18:59:59                                 -499.788805   \n",
       "\n",
       "                     rougher.output.recovery  final.output.recovery  \n",
       "date                                                                 \n",
       "2017-12-09 14:59:59                89.514960              70.281454  \n",
       "2017-12-09 15:59:59                89.858126              65.523246  \n",
       "2017-12-09 16:59:59                91.816623              74.817644  \n",
       "2017-12-09 17:59:59                88.478959              63.082720  \n",
       "2017-12-09 18:59:59                89.230316              74.463380  \n",
       "\n",
       "[5 rows x 54 columns]"
      ]
     },
     "metadata": {},
     "output_type": "display_data"
    }
   ],
   "source": [
    "#check\n",
    "dataframes = [gold_train_proc, gold_test]\n",
    "for df in dataframes:\n",
    "    ICD.display(df.head())"
   ]
  },
  {
   "cell_type": "markdown",
   "metadata": {},
   "source": [
    "Выборки готовы. Перейдем к написанию функции для вычисления итогового sMAPE."
   ]
  },
  {
   "cell_type": "markdown",
   "metadata": {},
   "source": [
    "### Функция для sMAPE"
   ]
  },
  {
   "cell_type": "markdown",
   "metadata": {},
   "source": [
    "В качестве метрики качества модели машинного обучения будет использоваться метрика sMAPE, заданная в тех. задании.\n",
    "\n",
    "Напишем функцию для ее вычисления."
   ]
  },
  {
   "cell_type": "code",
   "execution_count": 35,
   "metadata": {},
   "outputs": [],
   "source": [
    "def smape_calc(target, predicted):\n",
    "    return (1 / len(target)) * sum((abs(target - predicted)) / (abs(target + predicted) / 2)) * 100\n",
    "    "
   ]
  },
  {
   "cell_type": "code",
   "execution_count": 36,
   "metadata": {},
   "outputs": [],
   "source": [
    "def smape_final(smape_rougher, smape_final):\n",
    "    smape_total = smape_rougher * 0.25 + smape_final * 0.75\n",
    "    return smape_total"
   ]
  },
  {
   "cell_type": "markdown",
   "metadata": {},
   "source": [
    "### Обучим и проверим модели"
   ]
  },
  {
   "cell_type": "markdown",
   "metadata": {},
   "source": [
    "Обучим несколько алгоритмов машинного обучения и проверим значение метрики."
   ]
  },
  {
   "cell_type": "markdown",
   "metadata": {},
   "source": [
    "Так как итоговая оценка состоит из двух целевых признаков, обучать модели для определения эффективности обогащения чернового концентрата (rougher) будем на данных из этапа флотации. А для эффективности обогащения финального концентрата (final) на данных первичной и вторичной очистки."
   ]
  },
  {
   "cell_type": "code",
   "execution_count": 37,
   "metadata": {},
   "outputs": [],
   "source": [
    "# отделим названия колонок по этапам\n",
    "column_names = list(gold_train_proc.columns)\n",
    "rougher = [i for i in column_names if \"rougher\" in i]\n",
    "final = [i for i in column_names if \"rougher\" not in i]"
   ]
  },
  {
   "cell_type": "code",
   "execution_count": 38,
   "metadata": {},
   "outputs": [],
   "source": [
    "# Запишем выборки в отдельные переменные для этапа rougher\n",
    "X_train_rougher = gold_train_proc[rougher].drop(['rougher.output.recovery'], axis=1)\n",
    "y_train_rougher = gold_train_proc['rougher.output.recovery']\n",
    "X_test_rougher = gold_test[rougher].drop(['rougher.output.recovery'], axis=1)\n",
    "y_test_rougher = gold_test['rougher.output.recovery']\n",
    "\n",
    "# для других этапов\n",
    "X_train_final = gold_train_proc[final].drop(['final.output.recovery'], axis=1)\n",
    "y_train_final = gold_train_proc['final.output.recovery']\n",
    "X_test_final = gold_test[final].drop(['final.output.recovery'], axis=1)\n",
    "y_test_final = gold_test['final.output.recovery']"
   ]
  },
  {
   "cell_type": "code",
   "execution_count": 39,
   "metadata": {},
   "outputs": [],
   "source": [
    "# отмасштабируем признаки для этапа rougher\n",
    "scaler = StandardScaler().fit(X_train_rougher)\n",
    "X_train_rougher = scaler.transform(X_train_rougher)\n",
    "X_test_rougher = scaler.transform(X_test_rougher)\n",
    "\n",
    "# для остальныx этапов\n",
    "scaler = StandardScaler().fit(X_train_final)\n",
    "X_train_final = scaler.transform(X_train_final)\n",
    "X_test_final = scaler.transform(X_test_final)\n"
   ]
  },
  {
   "cell_type": "code",
   "execution_count": 40,
   "metadata": {},
   "outputs": [],
   "source": [
    "# создадим сосбственный маркер из метрики SMAPE с помощью make_scorer\n",
    "scorer = make_scorer(smape_calc)"
   ]
  },
  {
   "cell_type": "markdown",
   "metadata": {},
   "source": [
    "#### Random Forest Regression"
   ]
  },
  {
   "cell_type": "markdown",
   "metadata": {},
   "source": [
    "Обучим первый алгоритм - случайный лес. Гиперпараметры подберем с помощью библиотеки optuna на основе созданной метрики через cross_val_score."
   ]
  },
  {
   "cell_type": "code",
   "execution_count": 42,
   "metadata": {
    "scrolled": true
   },
   "outputs": [
    {
     "name": "stdout",
     "output_type": "stream",
     "text": [
      "CPU times: user 3 µs, sys: 1e+03 ns, total: 4 µs\n",
      "Wall time: 6.68 µs\n"
     ]
    }
   ],
   "source": [
    "%%time\n",
    "def rfreg_objective(trial):\n",
    "    \n",
    "    est = trial.suggest_int('n_estimators', 100, 500, 10)\n",
    "    depth = trial.suggest_int('max_depth', 2, 10)\n",
    "    split = trial.suggest_int('min_samples_split', 2, 5)\n",
    "    leaf = trial.suggest_int('min_samples_leaf', 1, 5)\n",
    "     \n",
    "    clf =  RandomForestRegressor(n_estimators=est, \n",
    "                                 max_depth=depth, \n",
    "                                 min_samples_leaf=leaf,\n",
    "                                 min_samples_split=split,\n",
    "                                random_state=42)\n",
    "    scores = cross_val_score(clf, X_train_rougher, y_train_rougher, cv=5, scoring=scorer)\n",
    "    \n",
    "    return scores.mean()\n",
    "    \n",
    "rfreg_study = optuna.create_study(direction='minimize')\n",
    "rfreg_study.optimize(rfreg_objective, n_trials=5)\n",
    "rfreg_best_score_rougher = rfreg_study.best_value\n",
    "print('Лучшие гиперпараметры:', rfreg_study.best_params)\n",
    "print('Лучшее значение метрики', rfreg_best_score_rougher)"
   ]
  },
  {
   "cell_type": "code",
   "execution_count": 99,
   "metadata": {},
   "outputs": [
    {
     "name": "stderr",
     "output_type": "stream",
     "text": [
      "\u001b[32m[I 2023-05-13 09:52:07,402]\u001b[0m A new study created in memory with name: no-name-cff6a6a3-6303-49e3-bd5f-81aa6aac650c\u001b[0m\n",
      "\u001b[32m[I 2023-05-13 09:54:52,300]\u001b[0m Trial 0 finished with value: 11.625968685891959 and parameters: {'n_estimators': 200, 'max_depth': 8, 'min_samples_split': 4, 'min_samples_leaf': 2}. Best is trial 0 with value: 11.625968685891959.\u001b[0m\n",
      "\u001b[32m[I 2023-05-13 09:55:59,778]\u001b[0m Trial 1 finished with value: 10.772014163706862 and parameters: {'n_estimators': 150, 'max_depth': 4, 'min_samples_split': 4, 'min_samples_leaf': 4}. Best is trial 1 with value: 10.772014163706862.\u001b[0m\n",
      "\u001b[32m[I 2023-05-13 09:56:34,111]\u001b[0m Trial 2 finished with value: 10.595844561515591 and parameters: {'n_estimators': 140, 'max_depth': 2, 'min_samples_split': 3, 'min_samples_leaf': 2}. Best is trial 2 with value: 10.595844561515591.\u001b[0m\n",
      "\u001b[32m[I 2023-05-13 10:00:48,390]\u001b[0m Trial 3 finished with value: 11.029125985259558 and parameters: {'n_estimators': 450, 'max_depth': 5, 'min_samples_split': 4, 'min_samples_leaf': 2}. Best is trial 2 with value: 10.595844561515591.\u001b[0m\n",
      "\u001b[32m[I 2023-05-13 10:02:09,934]\u001b[0m Trial 4 finished with value: 10.81254055651346 and parameters: {'n_estimators': 170, 'max_depth': 4, 'min_samples_split': 2, 'min_samples_leaf': 1}. Best is trial 2 with value: 10.595844561515591.\u001b[0m\n"
     ]
    },
    {
     "name": "stdout",
     "output_type": "stream",
     "text": [
      "Лучшие гиперпараметры: {'n_estimators': 140, 'max_depth': 2, 'min_samples_split': 3, 'min_samples_leaf': 2}\n",
      "Лучшее значение метрики 10.595844561515591\n",
      "CPU times: user 10min, sys: 775 ms, total: 10min 1s\n",
      "Wall time: 10min 2s\n"
     ]
    }
   ],
   "source": [
    "%%time\n",
    "# выполним те же шаги для оставшихся этапов очистки\n",
    "def rfreg_objective(trial):\n",
    "    \n",
    "    est = trial.suggest_int('n_estimators', 100, 500, 10)\n",
    "    depth = trial.suggest_int('max_depth', 2, 10)\n",
    "    split = trial.suggest_int('min_samples_split', 2, 5)\n",
    "    leaf = trial.suggest_int('min_samples_leaf', 1, 5)\n",
    "     \n",
    "    clf =  RandomForestRegressor(n_estimators=est, \n",
    "                                 max_depth=depth, \n",
    "                                 min_samples_leaf=leaf,\n",
    "                                 min_samples_split=split,\n",
    "                                random_state=42)\n",
    "    scores = cross_val_score(clf, X_train_final, y_train_final, cv=5, scoring=scorer)\n",
    "    \n",
    "    return scores.mean()\n",
    "    \n",
    "rfreg_study = optuna.create_study(direction='minimize')\n",
    "rfreg_study.optimize(rfreg_objective, n_trials=5)\n",
    "rfreg_best_score_final = rfreg_study.best_value\n",
    "print('Лучшие гиперпараметры:', rfreg_study.best_params)\n",
    "print('Лучшее значение метрики', rfreg_best_score_final)"
   ]
  },
  {
   "cell_type": "code",
   "execution_count": 100,
   "metadata": {
    "scrolled": true
   },
   "outputs": [
    {
     "name": "stdout",
     "output_type": "stream",
     "text": [
      "Итоговая оценка модели: 11.07686119551219%\n"
     ]
    }
   ],
   "source": [
    "rfreg_final_smape = smape_final(rfreg_best_score_rougher, rfreg_best_score_final)\n",
    "print('Итоговая оценка модели:', f\"{rfreg_final_smape}%\")"
   ]
  },
  {
   "cell_type": "markdown",
   "metadata": {},
   "source": [
    "#### Extra Trees Regressor"
   ]
  },
  {
   "cell_type": "code",
   "execution_count": 103,
   "metadata": {},
   "outputs": [
    {
     "name": "stderr",
     "output_type": "stream",
     "text": [
      "\u001b[32m[I 2023-05-13 10:08:26,088]\u001b[0m A new study created in memory with name: no-name-0cd1f4d3-d1b8-422c-b845-a188c6a56228\u001b[0m\n",
      "\u001b[32m[I 2023-05-13 10:08:37,675]\u001b[0m Trial 0 finished with value: 12.541343325077928 and parameters: {'n_estimators': 310, 'max_depth': 4, 'min_samples_split': 2, 'min_samples_leaf': 7}. Best is trial 0 with value: 12.541343325077928.\u001b[0m\n",
      "\u001b[32m[I 2023-05-13 10:10:03,601]\u001b[0m Trial 1 finished with value: 12.802598701137489 and parameters: {'n_estimators': 820, 'max_depth': 10, 'min_samples_split': 7, 'min_samples_leaf': 1}. Best is trial 0 with value: 12.541343325077928.\u001b[0m\n",
      "\u001b[32m[I 2023-05-13 10:11:53,939]\u001b[0m Trial 2 finished with value: 13.153488610201356 and parameters: {'n_estimators': 750, 'max_depth': 13, 'min_samples_split': 4, 'min_samples_leaf': 1}. Best is trial 0 with value: 12.541343325077928.\u001b[0m\n",
      "\u001b[32m[I 2023-05-13 10:13:40,554]\u001b[0m Trial 3 finished with value: 12.561606474697534 and parameters: {'n_estimators': 840, 'max_depth': 13, 'min_samples_split': 3, 'min_samples_leaf': 7}. Best is trial 0 with value: 12.541343325077928.\u001b[0m\n",
      "\u001b[32m[I 2023-05-13 10:14:32,634]\u001b[0m Trial 4 finished with value: 12.50557534374001 and parameters: {'n_estimators': 420, 'max_depth': 14, 'min_samples_split': 4, 'min_samples_leaf': 7}. Best is trial 4 with value: 12.50557534374001.\u001b[0m\n"
     ]
    },
    {
     "name": "stdout",
     "output_type": "stream",
     "text": [
      "Лучшие гиперпараметры: {'n_estimators': 420, 'max_depth': 14, 'min_samples_split': 4, 'min_samples_leaf': 7}\n",
      "Лучшее значение метрики 12.50557534374001\n",
      "CPU times: user 5min 53s, sys: 758 ms, total: 5min 54s\n",
      "Wall time: 6min 6s\n"
     ]
    }
   ],
   "source": [
    "%%time\n",
    "def exr_objective(trial):\n",
    "    \n",
    "    est = trial.suggest_int('n_estimators', 100, 1000, 10)\n",
    "    depth = trial.suggest_int('max_depth', 2, 15)\n",
    "    split = trial.suggest_int('min_samples_split', 2, 8)\n",
    "    leaf = trial.suggest_int('min_samples_leaf', 1, 8)\n",
    "     \n",
    "    clf =  ExtraTreesRegressor(n_estimators=est, \n",
    "                                 max_depth=depth, \n",
    "                                 min_samples_leaf=leaf,\n",
    "                                 min_samples_split=split,\n",
    "                                random_state=42)\n",
    "    scores = cross_val_score(clf, X_train_rougher, y_train_rougher, cv=5, scoring=scorer)\n",
    "    \n",
    "    return scores.mean()\n",
    "    \n",
    "exr_study = optuna.create_study(direction='minimize')\n",
    "exr_study.optimize(exr_objective, n_trials=5)\n",
    "exr_best_score_rougher = exr_study.best_value\n",
    "print('Лучшие гиперпараметры:', exr_study.best_params)\n",
    "print('Лучшее значение метрики', exr_best_score_rougher)"
   ]
  },
  {
   "cell_type": "code",
   "execution_count": 104,
   "metadata": {},
   "outputs": [
    {
     "name": "stderr",
     "output_type": "stream",
     "text": [
      "\u001b[32m[I 2023-05-13 10:14:32,651]\u001b[0m A new study created in memory with name: no-name-81ccd2b3-7385-494f-a394-d6d32bf02dcd\u001b[0m\n",
      "\u001b[32m[I 2023-05-13 10:14:51,254]\u001b[0m Trial 0 finished with value: 10.519292013377534 and parameters: {'n_estimators': 730, 'max_depth': 2, 'min_samples_split': 2, 'min_samples_leaf': 6}. Best is trial 0 with value: 10.519292013377534.\u001b[0m\n",
      "\u001b[32m[I 2023-05-13 10:16:01,608]\u001b[0m Trial 1 finished with value: 10.711939823443819 and parameters: {'n_estimators': 740, 'max_depth': 8, 'min_samples_split': 2, 'min_samples_leaf': 4}. Best is trial 0 with value: 10.519292013377534.\u001b[0m\n",
      "\u001b[32m[I 2023-05-13 10:16:12,728]\u001b[0m Trial 2 finished with value: 10.582360588454085 and parameters: {'n_estimators': 150, 'max_depth': 7, 'min_samples_split': 5, 'min_samples_leaf': 7}. Best is trial 0 with value: 10.519292013377534.\u001b[0m\n",
      "\u001b[32m[I 2023-05-13 10:16:41,562]\u001b[0m Trial 3 finished with value: 10.682571677276261 and parameters: {'n_estimators': 350, 'max_depth': 8, 'min_samples_split': 7, 'min_samples_leaf': 7}. Best is trial 0 with value: 10.519292013377534.\u001b[0m\n",
      "\u001b[32m[I 2023-05-13 10:16:54,090]\u001b[0m Trial 4 finished with value: 10.932897127984791 and parameters: {'n_estimators': 100, 'max_depth': 12, 'min_samples_split': 8, 'min_samples_leaf': 7}. Best is trial 0 with value: 10.519292013377534.\u001b[0m\n"
     ]
    },
    {
     "name": "stdout",
     "output_type": "stream",
     "text": [
      "Лучшие гиперпараметры: {'n_estimators': 730, 'max_depth': 2, 'min_samples_split': 2, 'min_samples_leaf': 6}\n",
      "Лучшее значение метрики 10.519292013377534\n",
      "CPU times: user 2min 19s, sys: 215 ms, total: 2min 20s\n",
      "Wall time: 2min 21s\n"
     ]
    }
   ],
   "source": [
    "%%time\n",
    "def exr_objective(trial):\n",
    "    \n",
    "    est = trial.suggest_int('n_estimators', 100, 1000, 10)\n",
    "    depth = trial.suggest_int('max_depth', 2, 15)\n",
    "    split = trial.suggest_int('min_samples_split', 2, 8)\n",
    "    leaf = trial.suggest_int('min_samples_leaf', 1, 8)\n",
    "     \n",
    "    clf =  ExtraTreesRegressor(n_estimators=est, \n",
    "                                 max_depth=depth, \n",
    "                                 min_samples_leaf=leaf,\n",
    "                                 min_samples_split=split,\n",
    "                                random_state=42)\n",
    "    scores = cross_val_score(clf, X_train_final, y_train_final, cv=5, scoring=scorer)\n",
    "    \n",
    "    return scores.mean()\n",
    "    \n",
    "exr_study = optuna.create_study(direction='minimize')\n",
    "exr_study.optimize(exr_objective, n_trials=5)\n",
    "exr_best_score_final = exr_study.best_value\n",
    "print('Лучшие гиперпараметры:', exr_study.best_params)\n",
    "print('Лучшее значение метрики', exr_best_score_final)"
   ]
  },
  {
   "cell_type": "code",
   "execution_count": 105,
   "metadata": {
    "scrolled": true
   },
   "outputs": [
    {
     "name": "stdout",
     "output_type": "stream",
     "text": [
      "Итоговая оценка модели: 11.015862845968153%\n"
     ]
    }
   ],
   "source": [
    "exr_final_smape = smape_final(exr_best_score_rougher, exr_best_score_final)\n",
    "print('Итоговая оценка модели:', f'{exr_final_smape}%')"
   ]
  },
  {
   "cell_type": "markdown",
   "metadata": {},
   "source": [
    "#### Gradient Boosting Regressor"
   ]
  },
  {
   "cell_type": "code",
   "execution_count": 106,
   "metadata": {},
   "outputs": [
    {
     "name": "stderr",
     "output_type": "stream",
     "text": [
      "\u001b[32m[I 2023-05-13 10:16:54,155]\u001b[0m A new study created in memory with name: no-name-a20b3c13-9d99-49e8-a6ea-18e007f61be7\u001b[0m\n",
      "\u001b[32m[I 2023-05-13 10:20:24,795]\u001b[0m Trial 0 finished with value: 15.44552879408919 and parameters: {'n_estimators': 310, 'max_depth': 7, 'subsample': 0.6481484397065043, 'learning_rate': 0.07596213616130588}. Best is trial 0 with value: 15.44552879408919.\u001b[0m\n",
      "\u001b[32m[I 2023-05-13 10:30:37,048]\u001b[0m Trial 1 finished with value: 15.526137946812256 and parameters: {'n_estimators': 770, 'max_depth': 9, 'subsample': 0.6372425315706085, 'learning_rate': 0.09619047631555945}. Best is trial 0 with value: 15.44552879408919.\u001b[0m\n",
      "\u001b[32m[I 2023-05-13 10:38:55,002]\u001b[0m Trial 2 finished with value: 15.149170234996834 and parameters: {'n_estimators': 460, 'max_depth': 11, 'subsample': 0.7140258187225386, 'learning_rate': 0.07319637826435546}. Best is trial 2 with value: 15.149170234996834.\u001b[0m\n",
      "\u001b[32m[I 2023-05-13 10:46:27,307]\u001b[0m Trial 3 finished with value: 15.40040277626241 and parameters: {'n_estimators': 460, 'max_depth': 12, 'subsample': 0.6245118835414564, 'learning_rate': 0.08284775143389131}. Best is trial 2 with value: 15.149170234996834.\u001b[0m\n",
      "\u001b[32m[I 2023-05-13 11:03:52,895]\u001b[0m Trial 4 finished with value: 17.16244024369311 and parameters: {'n_estimators': 940, 'max_depth': 13, 'subsample': 0.6800240672297062, 'learning_rate': 0.09848239308450236}. Best is trial 2 with value: 15.149170234996834.\u001b[0m\n"
     ]
    },
    {
     "name": "stdout",
     "output_type": "stream",
     "text": [
      "Лучшие гиперпараметры: {'n_estimators': 460, 'max_depth': 11, 'subsample': 0.7140258187225386, 'learning_rate': 0.07319637826435546}\n",
      "Лучшее значение метрики 15.149170234996834\n",
      "CPU times: user 46min 39s, sys: 5.05 s, total: 46min 45s\n",
      "Wall time: 46min 58s\n"
     ]
    }
   ],
   "source": [
    "%%time\n",
    "\n",
    "def gbr_objective(trial):\n",
    "    \n",
    "    est = trial.suggest_int('n_estimators', 100, 1000, 10)\n",
    "    depth = trial.suggest_int('max_depth', 3, 15)\n",
    "    subsample = trial.suggest_float('subsample', .5, .75)\n",
    "    learning_rate = trial.suggest_float('learning_rate', .01, .1)\n",
    "     \n",
    "    clf =  GradientBoostingRegressor(n_estimators=est, \n",
    "                                 max_depth=depth, \n",
    "                                 subsample=subsample,\n",
    "                                 learning_rate=learning_rate,\n",
    "                                random_state=42)\n",
    "    scores = cross_val_score(clf, X_train_rougher, y_train_rougher, cv=5, scoring=scorer)\n",
    "    \n",
    "    return scores.mean()\n",
    "    \n",
    "gbr_study = optuna.create_study(direction='minimize')\n",
    "gbr_study.optimize(gbr_objective, n_trials=5)\n",
    "gbr_best_score_rougher = gbr_study.best_value\n",
    "print('Лучшие гиперпараметры:', gbr_study.best_params)\n",
    "print('Лучшее значение метрики', gbr_best_score_rougher)"
   ]
  },
  {
   "cell_type": "code",
   "execution_count": 107,
   "metadata": {},
   "outputs": [
    {
     "name": "stderr",
     "output_type": "stream",
     "text": [
      "\u001b[32m[I 2023-05-13 11:03:52,929]\u001b[0m A new study created in memory with name: no-name-d48feb13-010e-4b82-b41a-8a2808cc2533\u001b[0m\n",
      "\u001b[32m[I 2023-05-13 11:08:42,160]\u001b[0m Trial 0 finished with value: 12.948675204032995 and parameters: {'n_estimators': 300, 'max_depth': 11, 'subsample': 0.5235422226862124, 'learning_rate': 0.025453060252049527}. Best is trial 0 with value: 12.948675204032995.\u001b[0m\n",
      "\u001b[32m[I 2023-05-13 11:15:07,550]\u001b[0m Trial 1 finished with value: 12.276612578624576 and parameters: {'n_estimators': 470, 'max_depth': 8, 'subsample': 0.5668855431616995, 'learning_rate': 0.0157193123525742}. Best is trial 1 with value: 12.276612578624576.\u001b[0m\n",
      "\u001b[32m[I 2023-05-13 11:33:37,816]\u001b[0m Trial 2 finished with value: 13.295932240537855 and parameters: {'n_estimators': 810, 'max_depth': 11, 'subsample': 0.7495033156242723, 'learning_rate': 0.06295414448958539}. Best is trial 1 with value: 12.276612578624576.\u001b[0m\n",
      "\u001b[32m[I 2023-05-13 11:38:59,695]\u001b[0m Trial 3 finished with value: 13.046714633764566 and parameters: {'n_estimators': 420, 'max_depth': 7, 'subsample': 0.641632827882347, 'learning_rate': 0.04562497099923299}. Best is trial 1 with value: 12.276612578624576.\u001b[0m\n",
      "\u001b[32m[I 2023-05-13 11:40:04,971]\u001b[0m Trial 4 finished with value: 12.502954308853301 and parameters: {'n_estimators': 150, 'max_depth': 4, 'subsample': 0.599215732634012, 'learning_rate': 0.09846086817051776}. Best is trial 1 with value: 12.276612578624576.\u001b[0m\n"
     ]
    },
    {
     "name": "stdout",
     "output_type": "stream",
     "text": [
      "Лучшие гиперпараметры: {'n_estimators': 470, 'max_depth': 8, 'subsample': 0.5668855431616995, 'learning_rate': 0.0157193123525742}\n",
      "Лучшее значение метрики 12.276612578624576\n",
      "CPU times: user 36min 5s, sys: 4.02 s, total: 36min 9s\n",
      "Wall time: 36min 12s\n"
     ]
    }
   ],
   "source": [
    "%%time\n",
    "\n",
    "def gbr_objective(trial):\n",
    "    \n",
    "    est = trial.suggest_int('n_estimators', 100, 1000, 10)\n",
    "    depth = trial.suggest_int('max_depth', 3, 15)\n",
    "    subsample = trial.suggest_float('subsample', .5, .75)\n",
    "    learning_rate = trial.suggest_float('learning_rate', .01, .1)\n",
    "     \n",
    "    clf =  GradientBoostingRegressor(n_estimators=est, \n",
    "                                 max_depth=depth, \n",
    "                                 subsample=subsample,\n",
    "                                 learning_rate=learning_rate,\n",
    "                                random_state=42)\n",
    "    scores = cross_val_score(clf, X_train_final, y_train_final, cv=5, scoring=scorer)\n",
    "    \n",
    "    return scores.mean()\n",
    "    \n",
    "gbr_study = optuna.create_study(direction='minimize')\n",
    "gbr_study.optimize(gbr_objective, n_trials=5)\n",
    "gbr_best_score_final = gbr_study.best_value\n",
    "print('Лучшие гиперпараметры:', gbr_study.best_params)\n",
    "print('Лучшее значение метрики', gbr_best_score_final)"
   ]
  },
  {
   "cell_type": "code",
   "execution_count": 108,
   "metadata": {
    "scrolled": true
   },
   "outputs": [
    {
     "name": "stdout",
     "output_type": "stream",
     "text": [
      "Итоговая оценка модели: 12.994751992717639%\n"
     ]
    }
   ],
   "source": [
    "gbr_final_smape = smape_final(gbr_best_score_rougher, gbr_best_score_final)\n",
    "print('Итоговая оценка модели:', f'{gbr_final_smape}%')"
   ]
  },
  {
   "cell_type": "markdown",
   "metadata": {},
   "source": [
    "#### Вывод"
   ]
  },
  {
   "cell_type": "code",
   "execution_count": 109,
   "metadata": {},
   "outputs": [],
   "source": [
    "model_scores = {'Random Forest': rfreg_final_smape, \n",
    "                'Extra Trees': exr_final_smape, \n",
    "                'Gradient Boosting': gbr_final_smape}\n",
    "models=[]\n",
    "models.append(model_scores)\n",
    "smape_score = pd.DataFrame(models).round(2)\n",
    "smape_score.index = ['sMAPE(%)']"
   ]
  },
  {
   "cell_type": "code",
   "execution_count": 110,
   "metadata": {},
   "outputs": [
    {
     "data": {
      "text/html": [
       "<div>\n",
       "<style scoped>\n",
       "    .dataframe tbody tr th:only-of-type {\n",
       "        vertical-align: middle;\n",
       "    }\n",
       "\n",
       "    .dataframe tbody tr th {\n",
       "        vertical-align: top;\n",
       "    }\n",
       "\n",
       "    .dataframe thead th {\n",
       "        text-align: right;\n",
       "    }\n",
       "</style>\n",
       "<table border=\"1\" class=\"dataframe\">\n",
       "  <thead>\n",
       "    <tr style=\"text-align: right;\">\n",
       "      <th></th>\n",
       "      <th>Random Forest</th>\n",
       "      <th>Extra Trees</th>\n",
       "      <th>Gradient Boosting</th>\n",
       "    </tr>\n",
       "  </thead>\n",
       "  <tbody>\n",
       "    <tr>\n",
       "      <th>sMAPE(%)</th>\n",
       "      <td>11.08</td>\n",
       "      <td>11.02</td>\n",
       "      <td>12.99</td>\n",
       "    </tr>\n",
       "  </tbody>\n",
       "</table>\n",
       "</div>"
      ],
      "text/plain": [
       "          Random Forest  Extra Trees  Gradient Boosting\n",
       "sMAPE(%)          11.08        11.02              12.99"
      ]
     },
     "execution_count": 110,
     "metadata": {},
     "output_type": "execute_result"
    }
   ],
   "source": [
    "smape_score"
   ]
  },
  {
   "cell_type": "markdown",
   "metadata": {},
   "source": [
    "Лучший результат показала модель `Extra Trees Regressor`, используем эту модель на тестовой выборке. "
   ]
  },
  {
   "cell_type": "markdown",
   "metadata": {},
   "source": [
    "### Проверка на тестовой"
   ]
  },
  {
   "cell_type": "markdown",
   "metadata": {},
   "source": [
    "Проверим выбранную модель на тестовой выборке."
   ]
  },
  {
   "cell_type": "code",
   "execution_count": 111,
   "metadata": {},
   "outputs": [
    {
     "name": "stdout",
     "output_type": "stream",
     "text": [
      "sMAPE модели на тестовой выборке: 7.42%\n"
     ]
    }
   ],
   "source": [
    "bestmodel_rougher = ExtraTreesRegressor(n_estimators = 360, \n",
    "                            max_depth = 7, \n",
    "                            min_samples_split = 6,\n",
    "                            min_samples_leaf = 4,\n",
    "                            random_state = 42)\n",
    "\n",
    "bestmodel_final = ExtraTreesRegressor(n_estimators = 440, \n",
    "                            max_depth = 3, \n",
    "                            min_samples_split = 7,\n",
    "                            min_samples_leaf = 4,\n",
    "                            random_state = 42)\n",
    "\n",
    "bestmodel_rougher.fit(X_train_rougher, y_train_rougher)\n",
    "prediction_rougher = bestmodel_rougher.predict(X_test_rougher)\n",
    "\n",
    "bestmodel_final.fit(X_train_final, y_train_final)\n",
    "prediction_final = bestmodel_final.predict(X_test_final)\n",
    "\n",
    "score_rougher = smape_calc(y_test_rougher, prediction_rougher)\n",
    "score_final = smape_calc(y_test_final, prediction_final)\n",
    "score_total = smape_final(score_rougher, score_final)\n",
    "print('sMAPE модели на тестовой выборке:', f'{score_total:.2f}%')"
   ]
  },
  {
   "cell_type": "markdown",
   "metadata": {},
   "source": [
    "### Проверка на адекватность"
   ]
  },
  {
   "cell_type": "markdown",
   "metadata": {},
   "source": [
    "Воспользуемся константной моделью DummyRegressor и вычислим значение метрики на ее основе."
   ]
  },
  {
   "cell_type": "code",
   "execution_count": 117,
   "metadata": {},
   "outputs": [
    {
     "name": "stdout",
     "output_type": "stream",
     "text": [
      "sMAPE константной модели: 8.85%\n"
     ]
    }
   ],
   "source": [
    "dummy_rougher = DummyRegressor() # модель будет заполнить средним значением\n",
    "dummy_final = DummyRegressor()\n",
    "\n",
    "dummy_rougher.fit(X_train_rougher, y_train_rougher)\n",
    "dummy_final.fit(X_train_final, y_train_final)\n",
    "\n",
    "prediction_rougher = dummy_rougher.predict(X_test_rougher)\n",
    "prediction_final = dummy_final.predict(X_test_final)\n",
    "\n",
    "score_rougher = smape_calc(y_test_rougher, prediction_rougher)\n",
    "score_final = smape_calc(y_test_final, prediction_final)\n",
    "score_total = smape_final(score_rougher, score_final)\n",
    "print('sMAPE константной модели:', f'{score_total:.2f}%')"
   ]
  },
  {
   "cell_type": "markdown",
   "metadata": {},
   "source": [
    "Подобранная модель справляется лучше константной модель."
   ]
  },
  {
   "cell_type": "markdown",
   "metadata": {},
   "source": [
    "## Общий вывод"
   ]
  },
  {
   "cell_type": "markdown",
   "metadata": {},
   "source": [
    "В ходе исследования были выполнены следующие шаги:\n",
    "\n",
    "* подготовка и проверка данных;\n",
    "* разделение на тестовую и обучающую выборки;\n",
    "* предобработку данных;\n",
    "* проверили распределения размеров гранул на тренировочной и тестовой выборках;\n",
    "* проверили модели на метрике sMAPE;\n",
    "* выбрали лучшую и проверили на тестовой;\n",
    "\n",
    "\n",
    "Проверяли три модели: `Random Forest`, `Extra Trees` и `Gradien Boosting`. Поиск оптимальных гиперпараметров выполняли с помощью библиотеки `optuna`. \n",
    "\n",
    "В итоге лучший результат показа модель `Extra Trees`. Ее и использовали для проверки на тестовой выборке. sMAPE составила 7.41%. sMAPE "
   ]
  }
 ],
 "metadata": {
  "ExecuteTimeLog": [
   {
    "duration": 1578,
    "start_time": "2023-05-10T15:31:21.034Z"
   },
   {
    "duration": 3,
    "start_time": "2023-05-10T15:36:55.520Z"
   },
   {
    "duration": 157,
    "start_time": "2023-05-10T16:38:21.802Z"
   },
   {
    "duration": 13,
    "start_time": "2023-05-10T16:38:35.152Z"
   },
   {
    "duration": 15,
    "start_time": "2023-05-10T16:38:40.650Z"
   },
   {
    "duration": 10,
    "start_time": "2023-05-10T16:39:15.653Z"
   },
   {
    "duration": 172,
    "start_time": "2023-05-10T16:39:35.023Z"
   },
   {
    "duration": 1006,
    "start_time": "2023-05-10T16:39:48.276Z"
   },
   {
    "duration": 30,
    "start_time": "2023-05-10T16:39:55.321Z"
   },
   {
    "duration": 2241,
    "start_time": "2023-05-10T16:42:21.942Z"
   },
   {
    "duration": 28,
    "start_time": "2023-05-10T16:42:30.147Z"
   },
   {
    "duration": 24,
    "start_time": "2023-05-10T16:42:42.387Z"
   },
   {
    "duration": 17,
    "start_time": "2023-05-10T16:42:53.215Z"
   },
   {
    "duration": 14,
    "start_time": "2023-05-10T16:43:09.337Z"
   },
   {
    "duration": 17,
    "start_time": "2023-05-10T16:43:24.215Z"
   },
   {
    "duration": 743,
    "start_time": "2023-05-10T16:45:23.973Z"
   },
   {
    "duration": 48,
    "start_time": "2023-05-10T16:45:53.452Z"
   },
   {
    "duration": 9,
    "start_time": "2023-05-10T16:46:01.765Z"
   },
   {
    "duration": 98,
    "start_time": "2023-05-10T16:46:04.573Z"
   },
   {
    "duration": 6,
    "start_time": "2023-05-10T16:46:06.512Z"
   },
   {
    "duration": 12,
    "start_time": "2023-05-10T16:58:05.886Z"
   },
   {
    "duration": 9,
    "start_time": "2023-05-10T16:58:21.463Z"
   },
   {
    "duration": 6,
    "start_time": "2023-05-10T16:58:28.343Z"
   },
   {
    "duration": 6,
    "start_time": "2023-05-10T16:58:42.363Z"
   },
   {
    "duration": 7,
    "start_time": "2023-05-10T16:58:45.793Z"
   },
   {
    "duration": 6,
    "start_time": "2023-05-10T16:59:21.153Z"
   },
   {
    "duration": 5,
    "start_time": "2023-05-10T16:59:24.443Z"
   },
   {
    "duration": 4,
    "start_time": "2023-05-10T16:59:45.443Z"
   },
   {
    "duration": 19,
    "start_time": "2023-05-10T17:00:00.093Z"
   },
   {
    "duration": 131,
    "start_time": "2023-05-10T17:00:07.861Z"
   },
   {
    "duration": 5,
    "start_time": "2023-05-10T17:00:12.251Z"
   },
   {
    "duration": 6,
    "start_time": "2023-05-10T17:00:20.426Z"
   },
   {
    "duration": 5,
    "start_time": "2023-05-10T17:01:31.765Z"
   },
   {
    "duration": 6,
    "start_time": "2023-05-10T17:01:58.961Z"
   },
   {
    "duration": 27,
    "start_time": "2023-05-10T17:02:46.113Z"
   },
   {
    "duration": 13,
    "start_time": "2023-05-10T17:03:25.401Z"
   },
   {
    "duration": 12,
    "start_time": "2023-05-10T17:03:31.804Z"
   },
   {
    "duration": 6,
    "start_time": "2023-05-10T17:20:34.476Z"
   },
   {
    "duration": 10,
    "start_time": "2023-05-10T17:21:11.718Z"
   },
   {
    "duration": 30,
    "start_time": "2023-05-10T17:54:07.716Z"
   },
   {
    "duration": 4,
    "start_time": "2023-05-10T17:54:19.798Z"
   },
   {
    "duration": 2121,
    "start_time": "2023-05-10T17:59:14.428Z"
   },
   {
    "duration": 3,
    "start_time": "2023-05-10T18:01:45.629Z"
   },
   {
    "duration": 9,
    "start_time": "2023-05-10T18:05:47.295Z"
   },
   {
    "duration": 5,
    "start_time": "2023-05-10T18:05:53.641Z"
   },
   {
    "duration": 6,
    "start_time": "2023-05-10T18:06:00.691Z"
   },
   {
    "duration": 6,
    "start_time": "2023-05-10T18:06:01.619Z"
   },
   {
    "duration": 5,
    "start_time": "2023-05-10T18:06:20.880Z"
   },
   {
    "duration": 3,
    "start_time": "2023-05-10T18:06:45.388Z"
   },
   {
    "duration": 8,
    "start_time": "2023-05-10T18:07:59.888Z"
   },
   {
    "duration": 7,
    "start_time": "2023-05-10T18:09:01.431Z"
   },
   {
    "duration": 8,
    "start_time": "2023-05-10T18:09:19.658Z"
   },
   {
    "duration": 65,
    "start_time": "2023-05-10T18:16:36.007Z"
   },
   {
    "duration": 1794,
    "start_time": "2023-05-10T18:17:28.578Z"
   },
   {
    "duration": 930,
    "start_time": "2023-05-10T18:17:30.374Z"
   },
   {
    "duration": 91,
    "start_time": "2023-05-10T18:17:31.307Z"
   },
   {
    "duration": 11,
    "start_time": "2023-05-10T18:17:31.400Z"
   },
   {
    "duration": 31,
    "start_time": "2023-05-10T18:17:31.431Z"
   },
   {
    "duration": 40,
    "start_time": "2023-05-10T18:17:31.465Z"
   },
   {
    "duration": 69,
    "start_time": "2023-05-10T18:17:31.507Z"
   },
   {
    "duration": 3,
    "start_time": "2023-05-10T18:21:42.717Z"
   },
   {
    "duration": 4,
    "start_time": "2023-05-10T18:21:52.569Z"
   },
   {
    "duration": 43,
    "start_time": "2023-05-10T18:22:06.426Z"
   },
   {
    "duration": 110,
    "start_time": "2023-05-10T18:22:20.786Z"
   },
   {
    "duration": 48,
    "start_time": "2023-05-10T18:22:25.157Z"
   },
   {
    "duration": 4,
    "start_time": "2023-05-10T18:22:32.176Z"
   },
   {
    "duration": 11,
    "start_time": "2023-05-10T18:24:29.406Z"
   },
   {
    "duration": 3,
    "start_time": "2023-05-10T18:24:41.386Z"
   },
   {
    "duration": 1363,
    "start_time": "2023-05-10T18:24:46.583Z"
   },
   {
    "duration": 794,
    "start_time": "2023-05-10T18:24:47.948Z"
   },
   {
    "duration": 60,
    "start_time": "2023-05-10T18:24:48.743Z"
   },
   {
    "duration": 30,
    "start_time": "2023-05-10T18:24:48.804Z"
   },
   {
    "duration": 3,
    "start_time": "2023-05-10T18:24:48.837Z"
   },
   {
    "duration": 11,
    "start_time": "2023-05-10T18:24:48.842Z"
   },
   {
    "duration": 26,
    "start_time": "2023-05-10T18:24:48.854Z"
   },
   {
    "duration": 6,
    "start_time": "2023-05-10T18:48:49.532Z"
   },
   {
    "duration": 3,
    "start_time": "2023-05-10T18:49:11.574Z"
   },
   {
    "duration": 5,
    "start_time": "2023-05-10T18:49:15.812Z"
   },
   {
    "duration": 113,
    "start_time": "2023-05-10T18:50:10.415Z"
   },
   {
    "duration": 17,
    "start_time": "2023-05-10T18:50:19.355Z"
   },
   {
    "duration": 13,
    "start_time": "2023-05-10T18:50:30.246Z"
   },
   {
    "duration": 13,
    "start_time": "2023-05-10T18:51:57.764Z"
   },
   {
    "duration": 14,
    "start_time": "2023-05-10T18:52:14.487Z"
   },
   {
    "duration": 14,
    "start_time": "2023-05-10T18:52:17.174Z"
   },
   {
    "duration": 14,
    "start_time": "2023-05-10T18:52:32.316Z"
   },
   {
    "duration": 3,
    "start_time": "2023-05-10T18:52:37.913Z"
   },
   {
    "duration": 3,
    "start_time": "2023-05-10T18:52:55.008Z"
   },
   {
    "duration": 48,
    "start_time": "2023-05-10T18:52:57.845Z"
   },
   {
    "duration": 4,
    "start_time": "2023-05-10T18:53:05.945Z"
   },
   {
    "duration": 8,
    "start_time": "2023-05-10T18:54:20.024Z"
   },
   {
    "duration": 4,
    "start_time": "2023-05-10T18:54:29.313Z"
   },
   {
    "duration": 3,
    "start_time": "2023-05-10T18:54:50.846Z"
   },
   {
    "duration": 1443,
    "start_time": "2023-05-10T19:47:29.542Z"
   },
   {
    "duration": 828,
    "start_time": "2023-05-10T19:47:30.988Z"
   },
   {
    "duration": 56,
    "start_time": "2023-05-10T19:47:31.817Z"
   },
   {
    "duration": 12,
    "start_time": "2023-05-10T19:47:31.875Z"
   },
   {
    "duration": 20,
    "start_time": "2023-05-10T19:47:31.889Z"
   },
   {
    "duration": 45,
    "start_time": "2023-05-10T19:47:31.910Z"
   },
   {
    "duration": 30,
    "start_time": "2023-05-10T19:47:31.956Z"
   },
   {
    "duration": 22,
    "start_time": "2023-05-10T19:47:31.987Z"
   },
   {
    "duration": 18,
    "start_time": "2023-05-10T19:47:32.010Z"
   },
   {
    "duration": 31,
    "start_time": "2023-05-10T20:55:49.722Z"
   },
   {
    "duration": 4,
    "start_time": "2023-05-10T20:55:53.733Z"
   },
   {
    "duration": 102,
    "start_time": "2023-05-10T20:56:01.912Z"
   },
   {
    "duration": 9,
    "start_time": "2023-05-10T20:56:04.471Z"
   },
   {
    "duration": 7,
    "start_time": "2023-05-10T20:56:20.483Z"
   },
   {
    "duration": 6,
    "start_time": "2023-05-10T20:57:56.602Z"
   },
   {
    "duration": 14,
    "start_time": "2023-05-10T21:08:08.862Z"
   },
   {
    "duration": 9,
    "start_time": "2023-05-10T21:08:18.133Z"
   },
   {
    "duration": 1557,
    "start_time": "2023-05-10T21:09:01.592Z"
   },
   {
    "duration": 9,
    "start_time": "2023-05-10T21:09:29.291Z"
   },
   {
    "duration": 16,
    "start_time": "2023-05-10T21:09:40.034Z"
   },
   {
    "duration": 11,
    "start_time": "2023-05-10T21:10:09.950Z"
   },
   {
    "duration": 8,
    "start_time": "2023-05-10T21:11:06.990Z"
   },
   {
    "duration": 6,
    "start_time": "2023-05-10T21:11:16.637Z"
   },
   {
    "duration": 154,
    "start_time": "2023-05-10T21:11:17.961Z"
   },
   {
    "duration": 8,
    "start_time": "2023-05-10T21:11:21.883Z"
   },
   {
    "duration": 9,
    "start_time": "2023-05-10T21:11:27.223Z"
   },
   {
    "duration": 11,
    "start_time": "2023-05-10T21:11:39.761Z"
   },
   {
    "duration": 163,
    "start_time": "2023-05-10T21:11:40.024Z"
   },
   {
    "duration": 8,
    "start_time": "2023-05-10T21:11:50.303Z"
   },
   {
    "duration": 8,
    "start_time": "2023-05-10T21:11:56.520Z"
   },
   {
    "duration": 204,
    "start_time": "2023-05-10T21:11:56.773Z"
   },
   {
    "duration": 9,
    "start_time": "2023-05-10T21:12:03.157Z"
   },
   {
    "duration": 1509,
    "start_time": "2023-05-10T21:12:10.783Z"
   },
   {
    "duration": 68,
    "start_time": "2023-05-10T21:12:47.964Z"
   },
   {
    "duration": 8,
    "start_time": "2023-05-10T21:13:02.003Z"
   },
   {
    "duration": 7,
    "start_time": "2023-05-10T21:13:34.473Z"
   },
   {
    "duration": 8,
    "start_time": "2023-05-10T21:13:47.153Z"
   },
   {
    "duration": 10,
    "start_time": "2023-05-10T21:14:02.993Z"
   },
   {
    "duration": 10,
    "start_time": "2023-05-10T21:15:40.763Z"
   },
   {
    "duration": 9,
    "start_time": "2023-05-10T21:16:23.305Z"
   },
   {
    "duration": 10,
    "start_time": "2023-05-10T21:16:33.726Z"
   },
   {
    "duration": 348,
    "start_time": "2023-05-10T21:16:34.649Z"
   },
   {
    "duration": 341,
    "start_time": "2023-05-10T21:17:01.038Z"
   },
   {
    "duration": 301,
    "start_time": "2023-05-10T21:17:16.298Z"
   },
   {
    "duration": 308,
    "start_time": "2023-05-10T21:17:30.323Z"
   },
   {
    "duration": 405,
    "start_time": "2023-05-10T21:17:47.028Z"
   },
   {
    "duration": 5,
    "start_time": "2023-05-10T21:29:51.212Z"
   },
   {
    "duration": 9,
    "start_time": "2023-05-10T21:30:58.268Z"
   },
   {
    "duration": 24,
    "start_time": "2023-05-10T21:31:10.489Z"
   },
   {
    "duration": 8,
    "start_time": "2023-05-10T21:31:17.582Z"
   },
   {
    "duration": 32,
    "start_time": "2023-05-10T21:32:11.088Z"
   },
   {
    "duration": 15,
    "start_time": "2023-05-10T21:32:27.410Z"
   },
   {
    "duration": 10,
    "start_time": "2023-05-10T21:32:33.024Z"
   },
   {
    "duration": 4,
    "start_time": "2023-05-10T21:32:39.363Z"
   },
   {
    "duration": 9,
    "start_time": "2023-05-10T21:46:55.834Z"
   },
   {
    "duration": 12,
    "start_time": "2023-05-10T21:47:19.533Z"
   },
   {
    "duration": 9,
    "start_time": "2023-05-10T21:47:35.473Z"
   },
   {
    "duration": 23,
    "start_time": "2023-05-10T21:48:40.702Z"
   },
   {
    "duration": 7,
    "start_time": "2023-05-10T21:48:44.354Z"
   },
   {
    "duration": 8,
    "start_time": "2023-05-10T21:48:50.033Z"
   },
   {
    "duration": 7,
    "start_time": "2023-05-10T21:49:08.833Z"
   },
   {
    "duration": 14,
    "start_time": "2023-05-10T21:50:11.283Z"
   },
   {
    "duration": 9,
    "start_time": "2023-05-10T21:51:07.473Z"
   },
   {
    "duration": 11,
    "start_time": "2023-05-10T21:51:09.594Z"
   },
   {
    "duration": 6,
    "start_time": "2023-05-10T21:51:36.364Z"
   },
   {
    "duration": 27,
    "start_time": "2023-05-10T21:51:50.323Z"
   },
   {
    "duration": 9,
    "start_time": "2023-05-10T21:53:29.644Z"
   },
   {
    "duration": 26,
    "start_time": "2023-05-10T21:53:33.275Z"
   },
   {
    "duration": 7,
    "start_time": "2023-05-10T21:56:50.823Z"
   },
   {
    "duration": 7,
    "start_time": "2023-05-10T21:56:51.153Z"
   },
   {
    "duration": 25,
    "start_time": "2023-05-10T21:56:52.491Z"
   },
   {
    "duration": 5,
    "start_time": "2023-05-10T21:56:53.353Z"
   },
   {
    "duration": 31,
    "start_time": "2023-05-10T21:57:06.954Z"
   },
   {
    "duration": 21,
    "start_time": "2023-05-10T21:57:16.300Z"
   },
   {
    "duration": 97,
    "start_time": "2023-05-10T21:58:20.352Z"
   },
   {
    "duration": 121,
    "start_time": "2023-05-11T10:03:45.326Z"
   },
   {
    "duration": 2554,
    "start_time": "2023-05-11T10:03:56.100Z"
   },
   {
    "duration": 5572,
    "start_time": "2023-05-11T10:03:58.657Z"
   },
   {
    "duration": 102,
    "start_time": "2023-05-11T10:04:04.231Z"
   },
   {
    "duration": 18,
    "start_time": "2023-05-11T10:04:04.335Z"
   },
   {
    "duration": 76,
    "start_time": "2023-05-11T10:04:04.358Z"
   },
   {
    "duration": 52,
    "start_time": "2023-05-11T10:04:04.436Z"
   },
   {
    "duration": 122,
    "start_time": "2023-05-11T10:04:04.490Z"
   },
   {
    "duration": 34,
    "start_time": "2023-05-11T10:04:04.616Z"
   },
   {
    "duration": 75,
    "start_time": "2023-05-11T10:04:04.661Z"
   },
   {
    "duration": 71,
    "start_time": "2023-05-11T10:04:04.738Z"
   },
   {
    "duration": 547,
    "start_time": "2023-05-11T10:04:04.811Z"
   },
   {
    "duration": 20,
    "start_time": "2023-05-11T10:04:05.360Z"
   },
   {
    "duration": 58,
    "start_time": "2023-05-11T10:04:05.383Z"
   },
   {
    "duration": 62,
    "start_time": "2023-05-11T10:04:05.444Z"
   },
   {
    "duration": 184,
    "start_time": "2023-05-11T10:04:05.508Z"
   },
   {
    "duration": 11,
    "start_time": "2023-05-11T10:04:05.696Z"
   },
   {
    "duration": 106,
    "start_time": "2023-05-11T10:04:05.709Z"
   },
   {
    "duration": 238,
    "start_time": "2023-05-11T10:04:05.818Z"
   },
   {
    "duration": 46,
    "start_time": "2023-05-11T10:11:13.875Z"
   },
   {
    "duration": 16,
    "start_time": "2023-05-11T10:11:22.182Z"
   },
   {
    "duration": 169,
    "start_time": "2023-05-11T10:11:56.971Z"
   },
   {
    "duration": 10,
    "start_time": "2023-05-11T10:11:59.805Z"
   },
   {
    "duration": 6,
    "start_time": "2023-05-11T10:12:16.495Z"
   },
   {
    "duration": 11,
    "start_time": "2023-05-11T10:12:20.098Z"
   },
   {
    "duration": 17,
    "start_time": "2023-05-11T10:12:25.042Z"
   },
   {
    "duration": 12,
    "start_time": "2023-05-11T10:12:39.199Z"
   },
   {
    "duration": 12,
    "start_time": "2023-05-11T14:42:43.446Z"
   },
   {
    "duration": 582,
    "start_time": "2023-05-11T14:43:50.443Z"
   },
   {
    "duration": 667,
    "start_time": "2023-05-11T14:43:58.419Z"
   },
   {
    "duration": 697,
    "start_time": "2023-05-11T14:44:10.045Z"
   },
   {
    "duration": 495,
    "start_time": "2023-05-11T14:44:19.383Z"
   },
   {
    "duration": 471,
    "start_time": "2023-05-11T14:44:27.455Z"
   },
   {
    "duration": 460,
    "start_time": "2023-05-11T14:44:52.410Z"
   },
   {
    "duration": 693,
    "start_time": "2023-05-11T14:44:58.225Z"
   },
   {
    "duration": 887,
    "start_time": "2023-05-11T14:45:05.811Z"
   },
   {
    "duration": 528,
    "start_time": "2023-05-11T14:45:30.054Z"
   },
   {
    "duration": 771,
    "start_time": "2023-05-11T14:45:35.983Z"
   },
   {
    "duration": 547,
    "start_time": "2023-05-11T14:45:51.206Z"
   },
   {
    "duration": 454,
    "start_time": "2023-05-11T14:45:59.986Z"
   },
   {
    "duration": 626,
    "start_time": "2023-05-11T14:46:22.256Z"
   },
   {
    "duration": 618,
    "start_time": "2023-05-11T14:46:29.700Z"
   },
   {
    "duration": 569,
    "start_time": "2023-05-11T14:46:35.725Z"
   },
   {
    "duration": 17,
    "start_time": "2023-05-11T14:48:34.859Z"
   },
   {
    "duration": 572,
    "start_time": "2023-05-11T14:49:04.203Z"
   },
   {
    "duration": 589,
    "start_time": "2023-05-11T14:50:10.140Z"
   },
   {
    "duration": 553,
    "start_time": "2023-05-11T14:52:14.376Z"
   },
   {
    "duration": 678,
    "start_time": "2023-05-11T14:52:33.272Z"
   },
   {
    "duration": 559,
    "start_time": "2023-05-11T14:52:40.968Z"
   },
   {
    "duration": 571,
    "start_time": "2023-05-11T14:52:45.315Z"
   },
   {
    "duration": 1216,
    "start_time": "2023-05-11T14:53:15.809Z"
   },
   {
    "duration": 596,
    "start_time": "2023-05-11T14:53:34.500Z"
   },
   {
    "duration": 539,
    "start_time": "2023-05-11T14:54:09.884Z"
   },
   {
    "duration": 676,
    "start_time": "2023-05-11T14:54:12.121Z"
   },
   {
    "duration": 9,
    "start_time": "2023-05-11T14:54:21.908Z"
   },
   {
    "duration": 642,
    "start_time": "2023-05-11T14:54:22.199Z"
   },
   {
    "duration": 489,
    "start_time": "2023-05-11T14:55:13.007Z"
   },
   {
    "duration": 661,
    "start_time": "2023-05-11T14:55:33.368Z"
   },
   {
    "duration": 467,
    "start_time": "2023-05-11T14:57:22.771Z"
   },
   {
    "duration": 633,
    "start_time": "2023-05-11T14:57:32.604Z"
   },
   {
    "duration": 648,
    "start_time": "2023-05-11T14:57:40.770Z"
   },
   {
    "duration": 648,
    "start_time": "2023-05-11T14:57:53.943Z"
   },
   {
    "duration": 512,
    "start_time": "2023-05-11T14:58:16.890Z"
   },
   {
    "duration": 992,
    "start_time": "2023-05-11T14:58:46.722Z"
   },
   {
    "duration": 2256,
    "start_time": "2023-05-11T14:59:07.994Z"
   },
   {
    "duration": 922,
    "start_time": "2023-05-11T14:59:33.293Z"
   },
   {
    "duration": 0,
    "start_time": "2023-05-11T14:59:54.236Z"
   },
   {
    "duration": 890,
    "start_time": "2023-05-11T15:00:02.000Z"
   },
   {
    "duration": 707,
    "start_time": "2023-05-11T15:01:52.163Z"
   },
   {
    "duration": 576,
    "start_time": "2023-05-11T15:01:58.078Z"
   },
   {
    "duration": 563,
    "start_time": "2023-05-11T15:02:05.203Z"
   },
   {
    "duration": 1441,
    "start_time": "2023-05-11T15:04:25.977Z"
   },
   {
    "duration": 26,
    "start_time": "2023-05-11T15:05:15.544Z"
   },
   {
    "duration": 3203,
    "start_time": "2023-05-11T15:07:19.843Z"
   },
   {
    "duration": 3207,
    "start_time": "2023-05-11T15:07:39.402Z"
   },
   {
    "duration": 3019,
    "start_time": "2023-05-11T15:07:55.624Z"
   },
   {
    "duration": 3256,
    "start_time": "2023-05-11T15:07:59.834Z"
   },
   {
    "duration": 3007,
    "start_time": "2023-05-11T15:08:59.627Z"
   },
   {
    "duration": 3727,
    "start_time": "2023-05-11T15:10:00.288Z"
   },
   {
    "duration": 3720,
    "start_time": "2023-05-11T15:10:20.319Z"
   },
   {
    "duration": 3970,
    "start_time": "2023-05-11T15:10:26.544Z"
   },
   {
    "duration": 4040,
    "start_time": "2023-05-11T15:10:34.642Z"
   },
   {
    "duration": 1921,
    "start_time": "2023-05-11T15:11:23.951Z"
   },
   {
    "duration": 4659,
    "start_time": "2023-05-11T15:11:29.035Z"
   },
   {
    "duration": 4438,
    "start_time": "2023-05-11T15:11:48.601Z"
   },
   {
    "duration": 1615,
    "start_time": "2023-05-11T15:12:38.011Z"
   },
   {
    "duration": 1615,
    "start_time": "2023-05-11T15:12:47.722Z"
   },
   {
    "duration": 4024,
    "start_time": "2023-05-11T15:12:50.374Z"
   },
   {
    "duration": 3385,
    "start_time": "2023-05-11T15:14:18.503Z"
   },
   {
    "duration": 3389,
    "start_time": "2023-05-11T15:15:56.606Z"
   },
   {
    "duration": 4557,
    "start_time": "2023-05-11T15:16:38.998Z"
   },
   {
    "duration": 3652,
    "start_time": "2023-05-11T15:17:22.558Z"
   },
   {
    "duration": 3671,
    "start_time": "2023-05-11T15:18:34.165Z"
   },
   {
    "duration": 4171,
    "start_time": "2023-05-11T15:20:09.872Z"
   },
   {
    "duration": 3823,
    "start_time": "2023-05-11T15:20:20.375Z"
   },
   {
    "duration": 3108,
    "start_time": "2023-05-11T15:24:06.013Z"
   },
   {
    "duration": 148184,
    "start_time": "2023-05-11T15:24:59.692Z"
   },
   {
    "duration": 6,
    "start_time": "2023-05-11T15:30:03.240Z"
   },
   {
    "duration": 631,
    "start_time": "2023-05-11T15:30:10.401Z"
   },
   {
    "duration": 3248,
    "start_time": "2023-05-11T15:30:18.191Z"
   },
   {
    "duration": 3249,
    "start_time": "2023-05-11T15:30:39.133Z"
   },
   {
    "duration": 515,
    "start_time": "2023-05-11T15:30:52.471Z"
   },
   {
    "duration": 3517,
    "start_time": "2023-05-11T15:30:56.324Z"
   },
   {
    "duration": 3166,
    "start_time": "2023-05-11T15:31:14.464Z"
   },
   {
    "duration": 3653,
    "start_time": "2023-05-11T15:31:32.129Z"
   },
   {
    "duration": 3726,
    "start_time": "2023-05-11T15:37:44.415Z"
   },
   {
    "duration": 4392,
    "start_time": "2023-05-11T15:38:32.364Z"
   },
   {
    "duration": 3533,
    "start_time": "2023-05-11T15:40:18.033Z"
   },
   {
    "duration": 3751,
    "start_time": "2023-05-11T15:40:22.543Z"
   },
   {
    "duration": 4006,
    "start_time": "2023-05-11T15:40:33.491Z"
   },
   {
    "duration": 949,
    "start_time": "2023-05-11T15:41:06.425Z"
   },
   {
    "duration": 3930,
    "start_time": "2023-05-11T15:42:35.507Z"
   },
   {
    "duration": 4273,
    "start_time": "2023-05-11T15:46:30.024Z"
   },
   {
    "duration": 195,
    "start_time": "2023-05-11T15:46:39.303Z"
   },
   {
    "duration": 228,
    "start_time": "2023-05-11T15:46:44.161Z"
   },
   {
    "duration": 717,
    "start_time": "2023-05-11T15:47:11.625Z"
   },
   {
    "duration": 7,
    "start_time": "2023-05-11T15:47:24.720Z"
   },
   {
    "duration": 23,
    "start_time": "2023-05-11T15:47:52.803Z"
   },
   {
    "duration": 13,
    "start_time": "2023-05-11T15:48:02.129Z"
   },
   {
    "duration": 992,
    "start_time": "2023-05-11T15:48:02.694Z"
   },
   {
    "duration": 7,
    "start_time": "2023-05-11T15:48:13.404Z"
   },
   {
    "duration": 978,
    "start_time": "2023-05-11T15:48:13.847Z"
   },
   {
    "duration": 2398,
    "start_time": "2023-05-11T15:48:47.944Z"
   },
   {
    "duration": 4200,
    "start_time": "2023-05-11T15:49:17.698Z"
   },
   {
    "duration": 3450,
    "start_time": "2023-05-11T15:49:38.213Z"
   },
   {
    "duration": 20,
    "start_time": "2023-05-11T15:50:07.246Z"
   },
   {
    "duration": 4143,
    "start_time": "2023-05-11T15:50:08.938Z"
   },
   {
    "duration": 3903,
    "start_time": "2023-05-11T15:51:13.826Z"
   },
   {
    "duration": 5037,
    "start_time": "2023-05-11T15:51:34.898Z"
   },
   {
    "duration": 2621,
    "start_time": "2023-05-11T15:51:39.937Z"
   },
   {
    "duration": 4226,
    "start_time": "2023-05-11T15:51:42.560Z"
   },
   {
    "duration": 104,
    "start_time": "2023-05-11T15:51:46.788Z"
   },
   {
    "duration": 28,
    "start_time": "2023-05-11T15:51:46.894Z"
   },
   {
    "duration": 23,
    "start_time": "2023-05-11T15:51:46.927Z"
   },
   {
    "duration": 112,
    "start_time": "2023-05-11T15:51:46.952Z"
   },
   {
    "duration": 117,
    "start_time": "2023-05-11T15:51:47.066Z"
   },
   {
    "duration": 63,
    "start_time": "2023-05-11T15:51:47.186Z"
   },
   {
    "duration": 92,
    "start_time": "2023-05-11T15:51:47.257Z"
   },
   {
    "duration": 93,
    "start_time": "2023-05-11T15:51:47.372Z"
   },
   {
    "duration": 948,
    "start_time": "2023-05-11T15:51:47.468Z"
   },
   {
    "duration": 15,
    "start_time": "2023-05-11T15:51:48.422Z"
   },
   {
    "duration": 146,
    "start_time": "2023-05-11T15:51:48.439Z"
   },
   {
    "duration": 53,
    "start_time": "2023-05-11T15:51:48.587Z"
   },
   {
    "duration": 122,
    "start_time": "2023-05-11T15:51:48.642Z"
   },
   {
    "duration": 8,
    "start_time": "2023-05-11T15:51:48.766Z"
   },
   {
    "duration": 77,
    "start_time": "2023-05-11T15:51:48.776Z"
   },
   {
    "duration": 248,
    "start_time": "2023-05-11T15:51:48.860Z"
   },
   {
    "duration": 7,
    "start_time": "2023-05-11T15:51:49.110Z"
   },
   {
    "duration": 4416,
    "start_time": "2023-05-11T15:51:49.119Z"
   },
   {
    "duration": 28,
    "start_time": "2023-05-11T15:51:53.540Z"
   },
   {
    "duration": 6,
    "start_time": "2023-05-11T16:09:21.534Z"
   },
   {
    "duration": 6,
    "start_time": "2023-05-11T16:14:13.276Z"
   },
   {
    "duration": 703,
    "start_time": "2023-05-11T16:16:41.587Z"
   },
   {
    "duration": 463,
    "start_time": "2023-05-11T16:17:05.470Z"
   },
   {
    "duration": 399,
    "start_time": "2023-05-11T16:19:08.775Z"
   },
   {
    "duration": 279,
    "start_time": "2023-05-11T16:19:22.680Z"
   },
   {
    "duration": 25,
    "start_time": "2023-05-11T16:19:25.791Z"
   },
   {
    "duration": 23,
    "start_time": "2023-05-11T16:19:29.716Z"
   },
   {
    "duration": 22,
    "start_time": "2023-05-11T16:19:49.696Z"
   },
   {
    "duration": 13,
    "start_time": "2023-05-11T16:20:00.252Z"
   },
   {
    "duration": 111,
    "start_time": "2023-05-11T16:20:12.439Z"
   },
   {
    "duration": 462,
    "start_time": "2023-05-11T16:21:19.096Z"
   },
   {
    "duration": 601,
    "start_time": "2023-05-11T16:21:25.841Z"
   },
   {
    "duration": 825,
    "start_time": "2023-05-11T16:21:49.601Z"
   },
   {
    "duration": 641,
    "start_time": "2023-05-11T16:22:14.000Z"
   },
   {
    "duration": 442,
    "start_time": "2023-05-11T16:22:18.506Z"
   },
   {
    "duration": 223,
    "start_time": "2023-05-11T16:24:06.902Z"
   },
   {
    "duration": 1157,
    "start_time": "2023-05-11T16:27:56.135Z"
   },
   {
    "duration": 992,
    "start_time": "2023-05-11T16:28:25.855Z"
   },
   {
    "duration": 675,
    "start_time": "2023-05-11T16:29:21.899Z"
   },
   {
    "duration": 868,
    "start_time": "2023-05-11T16:29:26.210Z"
   },
   {
    "duration": 763,
    "start_time": "2023-05-11T16:30:10.287Z"
   },
   {
    "duration": 863,
    "start_time": "2023-05-11T16:30:14.320Z"
   },
   {
    "duration": 706,
    "start_time": "2023-05-11T16:31:01.420Z"
   },
   {
    "duration": 726,
    "start_time": "2023-05-11T16:31:42.193Z"
   },
   {
    "duration": 929,
    "start_time": "2023-05-11T16:31:50.769Z"
   },
   {
    "duration": 896,
    "start_time": "2023-05-11T16:31:57.124Z"
   },
   {
    "duration": 904,
    "start_time": "2023-05-11T16:32:22.598Z"
   },
   {
    "duration": 886,
    "start_time": "2023-05-11T16:32:43.704Z"
   },
   {
    "duration": 706,
    "start_time": "2023-05-11T16:32:51.484Z"
   },
   {
    "duration": 899,
    "start_time": "2023-05-11T16:32:56.045Z"
   },
   {
    "duration": 817,
    "start_time": "2023-05-11T16:32:59.216Z"
   },
   {
    "duration": 1099,
    "start_time": "2023-05-11T16:33:02.932Z"
   },
   {
    "duration": 640,
    "start_time": "2023-05-11T16:33:08.292Z"
   },
   {
    "duration": 947,
    "start_time": "2023-05-11T16:33:12.559Z"
   },
   {
    "duration": 962,
    "start_time": "2023-05-11T16:33:55.636Z"
   },
   {
    "duration": 973,
    "start_time": "2023-05-11T16:34:02.470Z"
   },
   {
    "duration": 874,
    "start_time": "2023-05-11T16:34:19.665Z"
   },
   {
    "duration": 838,
    "start_time": "2023-05-11T16:34:33.597Z"
   },
   {
    "duration": 1002,
    "start_time": "2023-05-11T16:35:09.316Z"
   },
   {
    "duration": 962,
    "start_time": "2023-05-11T16:35:19.919Z"
   },
   {
    "duration": 894,
    "start_time": "2023-05-11T16:35:34.120Z"
   },
   {
    "duration": 777,
    "start_time": "2023-05-11T16:35:41.183Z"
   },
   {
    "duration": 923,
    "start_time": "2023-05-11T16:35:57.383Z"
   },
   {
    "duration": 937,
    "start_time": "2023-05-11T16:36:05.325Z"
   },
   {
    "duration": 27,
    "start_time": "2023-05-11T16:39:29.635Z"
   },
   {
    "duration": 147,
    "start_time": "2023-05-11T16:39:48.763Z"
   },
   {
    "duration": 6,
    "start_time": "2023-05-11T16:41:12.897Z"
   },
   {
    "duration": 9,
    "start_time": "2023-05-11T16:41:42.784Z"
   },
   {
    "duration": 5,
    "start_time": "2023-05-11T17:18:38.303Z"
   },
   {
    "duration": 866,
    "start_time": "2023-05-11T17:18:39.821Z"
   },
   {
    "duration": 7,
    "start_time": "2023-05-11T17:29:17.287Z"
   },
   {
    "duration": 446,
    "start_time": "2023-05-11T18:11:05.683Z"
   },
   {
    "duration": 461,
    "start_time": "2023-05-11T18:11:11.710Z"
   },
   {
    "duration": 513,
    "start_time": "2023-05-11T18:12:37.211Z"
   },
   {
    "duration": 3089,
    "start_time": "2023-05-11T18:13:17.726Z"
   },
   {
    "duration": 559,
    "start_time": "2023-05-11T18:13:33.229Z"
   },
   {
    "duration": 861,
    "start_time": "2023-05-11T18:14:06.722Z"
   },
   {
    "duration": 1065,
    "start_time": "2023-05-11T18:15:12.113Z"
   },
   {
    "duration": 897,
    "start_time": "2023-05-11T18:17:14.117Z"
   },
   {
    "duration": 828,
    "start_time": "2023-05-11T18:17:17.615Z"
   },
   {
    "duration": 385,
    "start_time": "2023-05-11T18:18:12.008Z"
   },
   {
    "duration": 671,
    "start_time": "2023-05-11T18:18:38.804Z"
   },
   {
    "duration": 340,
    "start_time": "2023-05-11T18:18:50.874Z"
   },
   {
    "duration": 1010,
    "start_time": "2023-05-11T18:19:12.408Z"
   },
   {
    "duration": 6160,
    "start_time": "2023-05-11T18:42:41.527Z"
   },
   {
    "duration": 699,
    "start_time": "2023-05-11T18:44:10.687Z"
   },
   {
    "duration": 721,
    "start_time": "2023-05-11T18:44:11.904Z"
   },
   {
    "duration": 788,
    "start_time": "2023-05-11T18:44:12.633Z"
   },
   {
    "duration": 20,
    "start_time": "2023-05-11T18:47:56.642Z"
   },
   {
    "duration": 26,
    "start_time": "2023-05-11T18:48:00.374Z"
   },
   {
    "duration": 52,
    "start_time": "2023-05-11T18:48:21.178Z"
   },
   {
    "duration": 53,
    "start_time": "2023-05-11T18:48:51.390Z"
   },
   {
    "duration": 59,
    "start_time": "2023-05-11T18:49:00.471Z"
   },
   {
    "duration": 5,
    "start_time": "2023-05-11T18:49:03.808Z"
   },
   {
    "duration": 18,
    "start_time": "2023-05-11T18:49:55.873Z"
   },
   {
    "duration": 6,
    "start_time": "2023-05-11T18:50:21.299Z"
   },
   {
    "duration": 11,
    "start_time": "2023-05-11T18:56:42.175Z"
   },
   {
    "duration": 4,
    "start_time": "2023-05-11T18:58:00.605Z"
   },
   {
    "duration": 24,
    "start_time": "2023-05-11T19:01:52.349Z"
   },
   {
    "duration": 45,
    "start_time": "2023-05-11T19:01:56.680Z"
   },
   {
    "duration": 19,
    "start_time": "2023-05-11T19:06:00.095Z"
   },
   {
    "duration": 23,
    "start_time": "2023-05-11T19:06:09.105Z"
   },
   {
    "duration": 42,
    "start_time": "2023-05-11T19:06:21.768Z"
   },
   {
    "duration": 147,
    "start_time": "2023-05-11T19:06:51.342Z"
   },
   {
    "duration": 102,
    "start_time": "2023-05-11T19:06:58.028Z"
   },
   {
    "duration": 83,
    "start_time": "2023-05-11T19:07:36.248Z"
   },
   {
    "duration": 87,
    "start_time": "2023-05-11T19:08:28.016Z"
   },
   {
    "duration": 26,
    "start_time": "2023-05-11T19:08:35.981Z"
   },
   {
    "duration": 31,
    "start_time": "2023-05-11T19:10:14.716Z"
   },
   {
    "duration": 34,
    "start_time": "2023-05-11T19:10:38.773Z"
   },
   {
    "duration": 14,
    "start_time": "2023-05-11T19:10:55.324Z"
   },
   {
    "duration": 6,
    "start_time": "2023-05-11T19:10:57.614Z"
   },
   {
    "duration": 5,
    "start_time": "2023-05-11T19:11:18.021Z"
   },
   {
    "duration": 56,
    "start_time": "2023-05-11T19:11:26.424Z"
   },
   {
    "duration": 14,
    "start_time": "2023-05-11T19:13:38.095Z"
   },
   {
    "duration": 22,
    "start_time": "2023-05-11T19:13:53.161Z"
   },
   {
    "duration": 33,
    "start_time": "2023-05-11T19:13:53.875Z"
   },
   {
    "duration": 3608,
    "start_time": "2023-05-11T19:14:12.955Z"
   },
   {
    "duration": 2530,
    "start_time": "2023-05-11T19:14:16.566Z"
   },
   {
    "duration": 1733,
    "start_time": "2023-05-11T19:14:19.098Z"
   },
   {
    "duration": 877,
    "start_time": "2023-05-11T19:14:20.833Z"
   },
   {
    "duration": 88,
    "start_time": "2023-05-11T19:14:21.712Z"
   },
   {
    "duration": 13,
    "start_time": "2023-05-11T19:14:21.802Z"
   },
   {
    "duration": 10,
    "start_time": "2023-05-11T19:14:21.816Z"
   },
   {
    "duration": 25,
    "start_time": "2023-05-11T19:14:21.829Z"
   },
   {
    "duration": 30,
    "start_time": "2023-05-11T19:14:21.855Z"
   },
   {
    "duration": 11,
    "start_time": "2023-05-11T19:14:21.888Z"
   },
   {
    "duration": 4,
    "start_time": "2023-05-11T19:14:21.902Z"
   },
   {
    "duration": 16,
    "start_time": "2023-05-11T19:14:21.908Z"
   },
   {
    "duration": 629,
    "start_time": "2023-05-11T19:14:21.926Z"
   },
   {
    "duration": 8,
    "start_time": "2023-05-11T19:14:22.560Z"
   },
   {
    "duration": 30,
    "start_time": "2023-05-11T19:14:22.573Z"
   },
   {
    "duration": 11,
    "start_time": "2023-05-11T19:14:22.605Z"
   },
   {
    "duration": 61,
    "start_time": "2023-05-11T19:14:22.618Z"
   },
   {
    "duration": 8,
    "start_time": "2023-05-11T19:14:22.681Z"
   },
   {
    "duration": 28,
    "start_time": "2023-05-11T19:14:22.691Z"
   },
   {
    "duration": 170,
    "start_time": "2023-05-11T19:14:22.721Z"
   },
   {
    "duration": 7,
    "start_time": "2023-05-11T19:14:22.893Z"
   },
   {
    "duration": 4067,
    "start_time": "2023-05-11T19:14:22.901Z"
   },
   {
    "duration": 5,
    "start_time": "2023-05-11T19:14:26.971Z"
   },
   {
    "duration": 1049,
    "start_time": "2023-05-11T19:14:26.978Z"
   },
   {
    "duration": 595,
    "start_time": "2023-05-11T19:14:28.029Z"
   },
   {
    "duration": 671,
    "start_time": "2023-05-11T19:14:28.626Z"
   },
   {
    "duration": 752,
    "start_time": "2023-05-11T19:14:29.300Z"
   },
   {
    "duration": 28,
    "start_time": "2023-05-11T19:14:30.055Z"
   },
   {
    "duration": 58,
    "start_time": "2023-05-11T19:14:30.085Z"
   },
   {
    "duration": 7,
    "start_time": "2023-05-11T19:14:30.145Z"
   },
   {
    "duration": 52,
    "start_time": "2023-05-11T19:14:30.154Z"
   },
   {
    "duration": 48,
    "start_time": "2023-05-11T19:15:14.824Z"
   },
   {
    "duration": 80,
    "start_time": "2023-05-11T19:15:34.604Z"
   },
   {
    "duration": 55,
    "start_time": "2023-05-11T19:16:00.342Z"
   },
   {
    "duration": 4,
    "start_time": "2023-05-11T19:41:10.638Z"
   },
   {
    "duration": 5,
    "start_time": "2023-05-11T19:42:06.137Z"
   },
   {
    "duration": 23,
    "start_time": "2023-05-11T19:45:43.388Z"
   },
   {
    "duration": 5,
    "start_time": "2023-05-11T19:47:34.013Z"
   },
   {
    "duration": 342,
    "start_time": "2023-05-11T19:52:00.875Z"
   },
   {
    "duration": 79,
    "start_time": "2023-05-11T20:00:44.342Z"
   },
   {
    "duration": 65,
    "start_time": "2023-05-11T20:11:08.664Z"
   },
   {
    "duration": 5,
    "start_time": "2023-05-11T20:11:42.893Z"
   },
   {
    "duration": 4,
    "start_time": "2023-05-11T20:18:15.136Z"
   },
   {
    "duration": 95,
    "start_time": "2023-05-11T20:18:22.939Z"
   },
   {
    "duration": 186,
    "start_time": "2023-05-11T20:22:44.293Z"
   },
   {
    "duration": 6,
    "start_time": "2023-05-11T20:22:53.667Z"
   },
   {
    "duration": 4,
    "start_time": "2023-05-11T20:23:03.386Z"
   },
   {
    "duration": 5,
    "start_time": "2023-05-11T20:23:07.885Z"
   },
   {
    "duration": 4,
    "start_time": "2023-05-11T20:23:11.621Z"
   },
   {
    "duration": 5,
    "start_time": "2023-05-11T20:25:51.759Z"
   },
   {
    "duration": 125,
    "start_time": "2023-05-11T20:25:58.691Z"
   },
   {
    "duration": 5,
    "start_time": "2023-05-11T20:26:00.773Z"
   },
   {
    "duration": 9,
    "start_time": "2023-05-11T20:26:18.444Z"
   },
   {
    "duration": 14,
    "start_time": "2023-05-11T20:26:28.243Z"
   },
   {
    "duration": 15,
    "start_time": "2023-05-11T20:30:46.729Z"
   },
   {
    "duration": 5,
    "start_time": "2023-05-11T20:31:19.061Z"
   },
   {
    "duration": 26,
    "start_time": "2023-05-11T20:31:23.056Z"
   },
   {
    "duration": 13,
    "start_time": "2023-05-11T20:31:30.639Z"
   },
   {
    "duration": 6,
    "start_time": "2023-05-11T20:31:39.349Z"
   },
   {
    "duration": 4,
    "start_time": "2023-05-11T20:31:54.929Z"
   },
   {
    "duration": 2,
    "start_time": "2023-05-11T20:35:04.426Z"
   },
   {
    "duration": 5,
    "start_time": "2023-05-11T20:35:09.184Z"
   },
   {
    "duration": 87,
    "start_time": "2023-05-11T20:39:26.375Z"
   },
   {
    "duration": 72,
    "start_time": "2023-05-11T20:39:29.608Z"
   },
   {
    "duration": 82,
    "start_time": "2023-05-11T20:39:34.687Z"
   },
   {
    "duration": 3,
    "start_time": "2023-05-11T20:39:37.317Z"
   },
   {
    "duration": 5,
    "start_time": "2023-05-11T20:39:42.085Z"
   },
   {
    "duration": 3,
    "start_time": "2023-05-11T20:39:50.757Z"
   },
   {
    "duration": 4,
    "start_time": "2023-05-11T20:39:54.283Z"
   },
   {
    "duration": 6,
    "start_time": "2023-05-11T20:40:12.415Z"
   },
   {
    "duration": 3,
    "start_time": "2023-05-11T21:03:48.472Z"
   },
   {
    "duration": 4,
    "start_time": "2023-05-11T21:03:50.475Z"
   },
   {
    "duration": 3,
    "start_time": "2023-05-11T21:04:33.280Z"
   },
   {
    "duration": 4,
    "start_time": "2023-05-11T21:04:39.259Z"
   },
   {
    "duration": 6,
    "start_time": "2023-05-11T21:04:52.586Z"
   },
   {
    "duration": 3,
    "start_time": "2023-05-11T21:09:14.050Z"
   },
   {
    "duration": 4,
    "start_time": "2023-05-11T21:15:49.381Z"
   },
   {
    "duration": 11,
    "start_time": "2023-05-11T21:16:13.972Z"
   },
   {
    "duration": 11,
    "start_time": "2023-05-11T21:16:42.289Z"
   },
   {
    "duration": 12,
    "start_time": "2023-05-11T21:17:10.310Z"
   },
   {
    "duration": 10,
    "start_time": "2023-05-11T21:17:53.743Z"
   },
   {
    "duration": 17,
    "start_time": "2023-05-11T21:18:07.452Z"
   },
   {
    "duration": 13,
    "start_time": "2023-05-11T21:18:13.502Z"
   },
   {
    "duration": 37729,
    "start_time": "2023-05-11T21:18:22.881Z"
   },
   {
    "duration": 0,
    "start_time": "2023-05-11T21:19:00.611Z"
   },
   {
    "duration": 5,
    "start_time": "2023-05-11T21:19:03.078Z"
   },
   {
    "duration": 35,
    "start_time": "2023-05-11T21:19:06.938Z"
   },
   {
    "duration": 68273,
    "start_time": "2023-05-11T21:19:27.251Z"
   },
   {
    "duration": 22,
    "start_time": "2023-05-11T21:21:12.329Z"
   },
   {
    "duration": 48898,
    "start_time": "2023-05-11T21:21:13.851Z"
   },
   {
    "duration": 4,
    "start_time": "2023-05-11T21:22:08.586Z"
   },
   {
    "duration": 10,
    "start_time": "2023-05-11T21:22:14.114Z"
   },
   {
    "duration": 21,
    "start_time": "2023-05-11T21:22:22.131Z"
   },
   {
    "duration": 27,
    "start_time": "2023-05-11T21:22:30.419Z"
   },
   {
    "duration": 5,
    "start_time": "2023-05-11T21:22:46.539Z"
   },
   {
    "duration": 8,
    "start_time": "2023-05-11T21:22:53.251Z"
   },
   {
    "duration": 30,
    "start_time": "2023-05-11T21:22:56.401Z"
   },
   {
    "duration": 4,
    "start_time": "2023-05-11T21:23:04.341Z"
   },
   {
    "duration": 11,
    "start_time": "2023-05-11T21:23:07.712Z"
   },
   {
    "duration": 5,
    "start_time": "2023-05-11T21:23:17.181Z"
   },
   {
    "duration": 28,
    "start_time": "2023-05-11T21:23:38.122Z"
   },
   {
    "duration": 7,
    "start_time": "2023-05-11T21:23:50.629Z"
   },
   {
    "duration": 21,
    "start_time": "2023-05-11T21:23:50.821Z"
   },
   {
    "duration": 31,
    "start_time": "2023-05-11T21:23:52.601Z"
   },
   {
    "duration": 27,
    "start_time": "2023-05-11T21:23:53.840Z"
   },
   {
    "duration": 4,
    "start_time": "2023-05-11T21:24:43.172Z"
   },
   {
    "duration": 6,
    "start_time": "2023-05-11T21:25:00.983Z"
   },
   {
    "duration": 14,
    "start_time": "2023-05-11T21:25:02.542Z"
   },
   {
    "duration": 30,
    "start_time": "2023-05-11T21:25:02.809Z"
   },
   {
    "duration": 4,
    "start_time": "2023-05-11T21:25:17.991Z"
   },
   {
    "duration": 28,
    "start_time": "2023-05-11T21:25:25.942Z"
   },
   {
    "duration": 5,
    "start_time": "2023-05-11T21:25:53.739Z"
   },
   {
    "duration": 10,
    "start_time": "2023-05-11T21:25:59.880Z"
   },
   {
    "duration": 10,
    "start_time": "2023-05-11T21:26:09.593Z"
   },
   {
    "duration": 4,
    "start_time": "2023-05-11T21:26:17.311Z"
   },
   {
    "duration": 4,
    "start_time": "2023-05-11T21:26:29.003Z"
   },
   {
    "duration": 5,
    "start_time": "2023-05-11T21:26:40.431Z"
   },
   {
    "duration": 3,
    "start_time": "2023-05-11T21:26:56.012Z"
   },
   {
    "duration": 7,
    "start_time": "2023-05-11T21:26:56.319Z"
   },
   {
    "duration": 11,
    "start_time": "2023-05-11T21:26:56.531Z"
   },
   {
    "duration": 5,
    "start_time": "2023-05-11T21:26:56.791Z"
   },
   {
    "duration": 34,
    "start_time": "2023-05-11T21:26:57.329Z"
   },
   {
    "duration": 33428,
    "start_time": "2023-05-11T21:27:02.441Z"
   },
   {
    "duration": 8,
    "start_time": "2023-05-11T21:29:20.402Z"
   },
   {
    "duration": 31763,
    "start_time": "2023-05-11T21:30:32.731Z"
   },
   {
    "duration": 31799,
    "start_time": "2023-05-11T21:31:45.342Z"
   },
   {
    "duration": 32274,
    "start_time": "2023-05-11T21:32:39.792Z"
   },
   {
    "duration": 6,
    "start_time": "2023-05-11T21:33:58.502Z"
   },
   {
    "duration": 125,
    "start_time": "2023-05-11T21:34:05.979Z"
   },
   {
    "duration": 5,
    "start_time": "2023-05-11T21:43:49.966Z"
   },
   {
    "duration": 18,
    "start_time": "2023-05-11T21:45:27.698Z"
   },
   {
    "duration": 4,
    "start_time": "2023-05-11T21:46:16.734Z"
   },
   {
    "duration": 105,
    "start_time": "2023-05-11T21:48:40.743Z"
   },
   {
    "duration": 5,
    "start_time": "2023-05-11T21:48:50.158Z"
   },
   {
    "duration": 5,
    "start_time": "2023-05-11T21:52:12.184Z"
   },
   {
    "duration": 4,
    "start_time": "2023-05-11T21:52:18.969Z"
   },
   {
    "duration": 5,
    "start_time": "2023-05-11T21:52:36.429Z"
   },
   {
    "duration": 6,
    "start_time": "2023-05-11T21:53:32.232Z"
   },
   {
    "duration": 10,
    "start_time": "2023-05-11T21:59:46.645Z"
   },
   {
    "duration": 4,
    "start_time": "2023-05-11T21:59:51.942Z"
   },
   {
    "duration": 22,
    "start_time": "2023-05-11T21:59:52.260Z"
   },
   {
    "duration": 34,
    "start_time": "2023-05-11T21:59:52.494Z"
   },
   {
    "duration": 31947,
    "start_time": "2023-05-12T10:07:27.207Z"
   },
   {
    "duration": 3908,
    "start_time": "2023-05-12T10:07:59.156Z"
   },
   {
    "duration": 1968,
    "start_time": "2023-05-12T10:08:03.066Z"
   },
   {
    "duration": 2886,
    "start_time": "2023-05-12T10:08:05.037Z"
   },
   {
    "duration": 58,
    "start_time": "2023-05-12T10:08:07.925Z"
   },
   {
    "duration": 305,
    "start_time": "2023-05-12T10:08:07.985Z"
   },
   {
    "duration": 63,
    "start_time": "2023-05-12T10:08:08.293Z"
   },
   {
    "duration": 38,
    "start_time": "2023-05-12T10:08:08.357Z"
   },
   {
    "duration": 29,
    "start_time": "2023-05-12T10:08:08.396Z"
   },
   {
    "duration": 25,
    "start_time": "2023-05-12T10:08:08.428Z"
   },
   {
    "duration": 10,
    "start_time": "2023-05-12T10:08:08.455Z"
   },
   {
    "duration": 32,
    "start_time": "2023-05-12T10:08:08.468Z"
   },
   {
    "duration": 556,
    "start_time": "2023-05-12T10:08:08.502Z"
   },
   {
    "duration": 4,
    "start_time": "2023-05-12T10:08:09.059Z"
   },
   {
    "duration": 22,
    "start_time": "2023-05-12T10:08:09.065Z"
   },
   {
    "duration": 8,
    "start_time": "2023-05-12T10:08:09.089Z"
   },
   {
    "duration": 68,
    "start_time": "2023-05-12T10:08:09.098Z"
   },
   {
    "duration": 6,
    "start_time": "2023-05-12T10:08:09.167Z"
   },
   {
    "duration": 44,
    "start_time": "2023-05-12T10:08:09.175Z"
   },
   {
    "duration": 153,
    "start_time": "2023-05-12T10:08:09.221Z"
   },
   {
    "duration": 6,
    "start_time": "2023-05-12T10:08:09.375Z"
   },
   {
    "duration": 3534,
    "start_time": "2023-05-12T10:08:09.382Z"
   },
   {
    "duration": 5,
    "start_time": "2023-05-12T10:08:12.918Z"
   },
   {
    "duration": 790,
    "start_time": "2023-05-12T10:08:12.925Z"
   },
   {
    "duration": 6,
    "start_time": "2023-05-12T10:08:13.717Z"
   },
   {
    "duration": 627,
    "start_time": "2023-05-12T10:08:13.728Z"
   },
   {
    "duration": 608,
    "start_time": "2023-05-12T10:08:14.357Z"
   },
   {
    "duration": 579,
    "start_time": "2023-05-12T10:08:14.968Z"
   },
   {
    "duration": 19,
    "start_time": "2023-05-12T10:08:15.548Z"
   },
   {
    "duration": 54,
    "start_time": "2023-05-12T10:08:15.569Z"
   },
   {
    "duration": 4,
    "start_time": "2023-05-12T10:08:15.624Z"
   },
   {
    "duration": 17,
    "start_time": "2023-05-12T10:08:15.629Z"
   },
   {
    "duration": 5,
    "start_time": "2023-05-12T10:08:15.648Z"
   },
   {
    "duration": 29,
    "start_time": "2023-05-12T10:08:15.654Z"
   },
   {
    "duration": 27,
    "start_time": "2023-05-12T10:08:15.684Z"
   },
   {
    "duration": 116,
    "start_time": "2023-05-12T10:08:15.718Z"
   },
   {
    "duration": 91,
    "start_time": "2023-05-12T12:33:14.581Z"
   },
   {
    "duration": 4,
    "start_time": "2023-05-12T12:33:21.275Z"
   },
   {
    "duration": 3,
    "start_time": "2023-05-12T12:33:45.673Z"
   },
   {
    "duration": 14,
    "start_time": "2023-05-12T13:02:28.884Z"
   },
   {
    "duration": 26,
    "start_time": "2023-05-12T13:02:42.329Z"
   },
   {
    "duration": 25,
    "start_time": "2023-05-12T13:03:12.795Z"
   },
   {
    "duration": 11,
    "start_time": "2023-05-12T13:03:30.989Z"
   },
   {
    "duration": 8,
    "start_time": "2023-05-12T13:03:56.615Z"
   },
   {
    "duration": 5736,
    "start_time": "2023-05-12T13:04:02.792Z"
   },
   {
    "duration": 1502317,
    "start_time": "2023-05-12T13:04:13.055Z"
   },
   {
    "duration": 1330500,
    "start_time": "2023-05-12T13:29:27.565Z"
   },
   {
    "duration": 7,
    "start_time": "2023-05-12T13:52:52.654Z"
   },
   {
    "duration": 1224088,
    "start_time": "2023-05-12T13:53:16.605Z"
   },
   {
    "duration": 808673,
    "start_time": "2023-05-12T14:13:46.538Z"
   },
   {
    "duration": 217,
    "start_time": "2023-05-12T14:27:55.663Z"
   },
   {
    "duration": 12,
    "start_time": "2023-05-12T14:28:21.083Z"
   },
   {
    "duration": 2,
    "start_time": "2023-05-12T14:28:33.644Z"
   },
   {
    "duration": 944882,
    "start_time": "2023-05-12T14:29:50.961Z"
   },
   {
    "duration": 212,
    "start_time": "2023-05-12T14:45:40.958Z"
   },
   {
    "duration": 1119095,
    "start_time": "2023-05-12T14:45:56.224Z"
   },
   {
    "duration": 147457,
    "start_time": "2023-05-12T15:04:51.592Z"
   },
   {
    "duration": 697832,
    "start_time": "2023-05-12T15:13:46.132Z"
   },
   {
    "duration": 10,
    "start_time": "2023-05-12T15:31:14.786Z"
   },
   {
    "duration": 3,
    "start_time": "2023-05-12T15:31:28.227Z"
   },
   {
    "duration": 6,
    "start_time": "2023-05-12T15:32:56.334Z"
   },
   {
    "duration": 590730,
    "start_time": "2023-05-12T15:33:17.934Z"
   },
   {
    "duration": 12,
    "start_time": "2023-05-12T15:44:45.427Z"
   },
   {
    "duration": 3,
    "start_time": "2023-05-12T15:56:14.195Z"
   },
   {
    "duration": 464009,
    "start_time": "2023-05-12T15:56:47.626Z"
   },
   {
    "duration": 288211,
    "start_time": "2023-05-12T16:04:31.638Z"
   },
   {
    "duration": 523464,
    "start_time": "2023-05-12T16:10:20.493Z"
   },
   {
    "duration": 873386,
    "start_time": "2023-05-12T16:19:03.959Z"
   },
   {
    "duration": 9,
    "start_time": "2023-05-12T16:35:49.320Z"
   },
   {
    "duration": 2,
    "start_time": "2023-05-12T16:35:54.616Z"
   },
   {
    "duration": 5,
    "start_time": "2023-05-12T16:38:27.874Z"
   },
   {
    "duration": 5,
    "start_time": "2023-05-12T16:38:37.681Z"
   },
   {
    "duration": 5,
    "start_time": "2023-05-12T16:39:24.285Z"
   },
   {
    "duration": 3,
    "start_time": "2023-05-12T16:40:40.423Z"
   },
   {
    "duration": 10,
    "start_time": "2023-05-12T16:40:53.935Z"
   },
   {
    "duration": 9,
    "start_time": "2023-05-12T16:41:01.926Z"
   },
   {
    "duration": 3,
    "start_time": "2023-05-12T16:41:11.375Z"
   },
   {
    "duration": 3,
    "start_time": "2023-05-12T16:41:15.493Z"
   },
   {
    "duration": 4,
    "start_time": "2023-05-12T16:41:23.093Z"
   },
   {
    "duration": 4,
    "start_time": "2023-05-12T16:53:32.274Z"
   },
   {
    "duration": 3,
    "start_time": "2023-05-12T16:56:11.428Z"
   },
   {
    "duration": 66215,
    "start_time": "2023-05-12T16:58:15.597Z"
   },
   {
    "duration": 45070,
    "start_time": "2023-05-12T17:00:49.796Z"
   },
   {
    "duration": 101327,
    "start_time": "2023-05-12T17:02:04.216Z"
   },
   {
    "duration": 136391,
    "start_time": "2023-05-12T17:03:45.545Z"
   },
   {
    "duration": 3,
    "start_time": "2023-05-12T17:07:14.817Z"
   },
   {
    "duration": 4,
    "start_time": "2023-05-12T17:07:21.136Z"
   },
   {
    "duration": 4,
    "start_time": "2023-05-12T17:07:38.215Z"
   },
   {
    "duration": 4,
    "start_time": "2023-05-12T17:07:56.568Z"
   },
   {
    "duration": 4,
    "start_time": "2023-05-12T17:08:08.488Z"
   },
   {
    "duration": 3,
    "start_time": "2023-05-12T17:08:17.301Z"
   },
   {
    "duration": 4,
    "start_time": "2023-05-12T17:08:19.878Z"
   },
   {
    "duration": 10,
    "start_time": "2023-05-12T17:08:23.802Z"
   },
   {
    "duration": 3,
    "start_time": "2023-05-12T17:08:26.338Z"
   },
   {
    "duration": 4,
    "start_time": "2023-05-12T17:08:28.429Z"
   },
   {
    "duration": 4,
    "start_time": "2023-05-12T17:09:10.964Z"
   },
   {
    "duration": 3,
    "start_time": "2023-05-12T17:09:16.778Z"
   },
   {
    "duration": 3,
    "start_time": "2023-05-12T17:10:01.073Z"
   },
   {
    "duration": 3,
    "start_time": "2023-05-12T17:10:12.069Z"
   },
   {
    "duration": 3,
    "start_time": "2023-05-12T17:10:15.765Z"
   },
   {
    "duration": 4,
    "start_time": "2023-05-12T17:10:19.727Z"
   },
   {
    "duration": 9,
    "start_time": "2023-05-12T17:10:33.351Z"
   },
   {
    "duration": 3,
    "start_time": "2023-05-12T17:10:38.197Z"
   },
   {
    "duration": 9,
    "start_time": "2023-05-12T17:11:44.627Z"
   },
   {
    "duration": 3,
    "start_time": "2023-05-12T17:11:57.027Z"
   },
   {
    "duration": 122,
    "start_time": "2023-05-12T17:24:02.904Z"
   },
   {
    "duration": 3,
    "start_time": "2023-05-12T17:24:35.395Z"
   },
   {
    "duration": 424582,
    "start_time": "2023-05-12T17:24:39.804Z"
   },
   {
    "duration": 1153646,
    "start_time": "2023-05-12T17:32:17.975Z"
   },
   {
    "duration": 30,
    "start_time": "2023-05-12T17:51:31.628Z"
   },
   {
    "duration": 1471888,
    "start_time": "2023-05-12T17:51:31.660Z"
   },
   {
    "duration": 3,
    "start_time": "2023-05-12T18:30:12.343Z"
   },
   {
    "duration": 3,
    "start_time": "2023-05-12T18:30:54.776Z"
   },
   {
    "duration": 3,
    "start_time": "2023-05-12T18:33:05.806Z"
   },
   {
    "duration": 9,
    "start_time": "2023-05-12T18:33:09.255Z"
   },
   {
    "duration": 10,
    "start_time": "2023-05-12T18:33:34.617Z"
   },
   {
    "duration": 8,
    "start_time": "2023-05-12T18:33:36.893Z"
   },
   {
    "duration": 2,
    "start_time": "2023-05-12T18:33:53.857Z"
   },
   {
    "duration": 4,
    "start_time": "2023-05-12T18:34:03.724Z"
   },
   {
    "duration": 4,
    "start_time": "2023-05-12T18:35:05.643Z"
   },
   {
    "duration": 3,
    "start_time": "2023-05-12T18:35:10.951Z"
   },
   {
    "duration": 4,
    "start_time": "2023-05-12T18:35:11.148Z"
   },
   {
    "duration": 9,
    "start_time": "2023-05-12T18:35:18.285Z"
   },
   {
    "duration": 8,
    "start_time": "2023-05-12T18:35:25.631Z"
   },
   {
    "duration": 3,
    "start_time": "2023-05-12T18:35:27.725Z"
   },
   {
    "duration": 4,
    "start_time": "2023-05-12T18:35:30.005Z"
   },
   {
    "duration": 6,
    "start_time": "2023-05-12T18:37:22.877Z"
   },
   {
    "duration": 9,
    "start_time": "2023-05-12T18:38:14.476Z"
   },
   {
    "duration": 12,
    "start_time": "2023-05-12T18:40:21.079Z"
   },
   {
    "duration": 3,
    "start_time": "2023-05-12T18:40:54.457Z"
   },
   {
    "duration": 4,
    "start_time": "2023-05-12T18:40:58.123Z"
   },
   {
    "duration": 2,
    "start_time": "2023-05-12T18:41:14.181Z"
   },
   {
    "duration": 3,
    "start_time": "2023-05-12T18:41:15.018Z"
   },
   {
    "duration": 2,
    "start_time": "2023-05-12T18:41:29.453Z"
   },
   {
    "duration": 3,
    "start_time": "2023-05-12T18:41:33.185Z"
   },
   {
    "duration": 8,
    "start_time": "2023-05-12T18:41:45.726Z"
   },
   {
    "duration": 9,
    "start_time": "2023-05-12T18:42:33.481Z"
   },
   {
    "duration": 10,
    "start_time": "2023-05-12T18:42:48.489Z"
   },
   {
    "duration": 9,
    "start_time": "2023-05-12T18:42:51.869Z"
   },
   {
    "duration": 4,
    "start_time": "2023-05-12T18:43:09.493Z"
   },
   {
    "duration": 9,
    "start_time": "2023-05-12T18:43:13.924Z"
   },
   {
    "duration": 9,
    "start_time": "2023-05-12T18:43:23.265Z"
   },
   {
    "duration": 8,
    "start_time": "2023-05-12T18:43:43.481Z"
   },
   {
    "duration": 3,
    "start_time": "2023-05-12T18:44:10.845Z"
   },
   {
    "duration": 7,
    "start_time": "2023-05-12T18:44:15.540Z"
   },
   {
    "duration": 4,
    "start_time": "2023-05-12T18:44:24.296Z"
   },
   {
    "duration": 7,
    "start_time": "2023-05-12T18:44:25.002Z"
   },
   {
    "duration": 6,
    "start_time": "2023-05-12T18:44:33.169Z"
   },
   {
    "duration": 8,
    "start_time": "2023-05-12T18:44:33.953Z"
   },
   {
    "duration": 5414,
    "start_time": "2023-05-12T19:06:34.256Z"
   },
   {
    "duration": 4,
    "start_time": "2023-05-12T19:08:29.657Z"
   },
   {
    "duration": 13,
    "start_time": "2023-05-12T19:08:38.797Z"
   },
   {
    "duration": 10,
    "start_time": "2023-05-12T19:11:34.989Z"
   },
   {
    "duration": 8,
    "start_time": "2023-05-12T19:11:41.516Z"
   },
   {
    "duration": 24,
    "start_time": "2023-05-12T19:11:53.384Z"
   },
   {
    "duration": 22,
    "start_time": "2023-05-12T19:12:16.308Z"
   },
   {
    "duration": 5841,
    "start_time": "2023-05-12T19:12:50.104Z"
   },
   {
    "duration": 20,
    "start_time": "2023-05-12T19:13:33.654Z"
   },
   {
    "duration": 5444,
    "start_time": "2023-05-12T19:13:56.816Z"
   },
   {
    "duration": 3,
    "start_time": "2023-05-12T19:15:20.101Z"
   },
   {
    "duration": 6,
    "start_time": "2023-05-12T19:15:20.110Z"
   },
   {
    "duration": 5604,
    "start_time": "2023-05-12T19:15:25.485Z"
   },
   {
    "duration": 5866,
    "start_time": "2023-05-12T19:15:45.722Z"
   },
   {
    "duration": 5432,
    "start_time": "2023-05-12T19:17:28.649Z"
   },
   {
    "duration": 5451,
    "start_time": "2023-05-12T19:17:52.157Z"
   },
   {
    "duration": 3,
    "start_time": "2023-05-12T19:18:16.761Z"
   },
   {
    "duration": 4,
    "start_time": "2023-05-12T19:18:20.805Z"
   },
   {
    "duration": 6222,
    "start_time": "2023-05-12T19:19:19.143Z"
   },
   {
    "duration": 5719,
    "start_time": "2023-05-12T19:23:39.891Z"
   },
   {
    "duration": 4,
    "start_time": "2023-05-12T19:27:57.004Z"
   },
   {
    "duration": 68,
    "start_time": "2023-05-12T19:28:06.094Z"
   },
   {
    "duration": 5922,
    "start_time": "2023-05-12T19:28:20.153Z"
   },
   {
    "duration": 9315,
    "start_time": "2023-05-13T07:47:06.652Z"
   },
   {
    "duration": 3842,
    "start_time": "2023-05-13T07:47:15.969Z"
   },
   {
    "duration": 1903,
    "start_time": "2023-05-13T07:47:19.813Z"
   },
   {
    "duration": 2623,
    "start_time": "2023-05-13T07:47:21.718Z"
   },
   {
    "duration": 76,
    "start_time": "2023-05-13T07:47:24.343Z"
   },
   {
    "duration": 13,
    "start_time": "2023-05-13T07:47:24.421Z"
   },
   {
    "duration": 4,
    "start_time": "2023-05-13T07:47:24.435Z"
   },
   {
    "duration": 25,
    "start_time": "2023-05-13T07:47:24.440Z"
   },
   {
    "duration": 19,
    "start_time": "2023-05-13T07:47:24.468Z"
   },
   {
    "duration": 51,
    "start_time": "2023-05-13T07:47:24.498Z"
   },
   {
    "duration": 12,
    "start_time": "2023-05-13T07:47:24.550Z"
   },
   {
    "duration": 15,
    "start_time": "2023-05-13T07:47:24.564Z"
   },
   {
    "duration": 597,
    "start_time": "2023-05-13T07:47:24.581Z"
   },
   {
    "duration": 4,
    "start_time": "2023-05-13T07:47:25.181Z"
   },
   {
    "duration": 17,
    "start_time": "2023-05-13T07:47:25.186Z"
   },
   {
    "duration": 6,
    "start_time": "2023-05-13T07:47:25.205Z"
   },
   {
    "duration": 42,
    "start_time": "2023-05-13T07:47:25.213Z"
   },
   {
    "duration": 5,
    "start_time": "2023-05-13T07:47:25.256Z"
   },
   {
    "duration": 48,
    "start_time": "2023-05-13T07:47:25.262Z"
   },
   {
    "duration": 118,
    "start_time": "2023-05-13T07:47:25.311Z"
   },
   {
    "duration": 6,
    "start_time": "2023-05-13T07:47:25.431Z"
   },
   {
    "duration": 4542,
    "start_time": "2023-05-13T07:47:25.439Z"
   },
   {
    "duration": 3,
    "start_time": "2023-05-13T07:47:29.983Z"
   },
   {
    "duration": 781,
    "start_time": "2023-05-13T07:47:29.988Z"
   },
   {
    "duration": 5,
    "start_time": "2023-05-13T07:47:30.772Z"
   },
   {
    "duration": 619,
    "start_time": "2023-05-13T07:47:30.779Z"
   },
   {
    "duration": 717,
    "start_time": "2023-05-13T07:47:31.401Z"
   },
   {
    "duration": 672,
    "start_time": "2023-05-13T07:47:32.120Z"
   },
   {
    "duration": 30,
    "start_time": "2023-05-13T07:48:25.612Z"
   },
   {
    "duration": 259,
    "start_time": "2023-05-13T07:48:30.890Z"
   },
   {
    "duration": 5,
    "start_time": "2023-05-13T07:49:24.413Z"
   },
   {
    "duration": 27,
    "start_time": "2023-05-13T07:50:25.812Z"
   },
   {
    "duration": 28,
    "start_time": "2023-05-13T07:50:51.311Z"
   },
   {
    "duration": 14,
    "start_time": "2023-05-13T07:51:13.463Z"
   },
   {
    "duration": 25,
    "start_time": "2023-05-13T07:51:32.713Z"
   },
   {
    "duration": 11,
    "start_time": "2023-05-13T07:51:49.310Z"
   },
   {
    "duration": 25,
    "start_time": "2023-05-13T07:51:58.903Z"
   },
   {
    "duration": 7,
    "start_time": "2023-05-13T07:53:10.249Z"
   },
   {
    "duration": 136,
    "start_time": "2023-05-13T07:53:33.472Z"
   },
   {
    "duration": 17,
    "start_time": "2023-05-13T07:53:40.442Z"
   },
   {
    "duration": 6,
    "start_time": "2023-05-13T07:54:14.000Z"
   },
   {
    "duration": 9,
    "start_time": "2023-05-13T07:54:23.722Z"
   },
   {
    "duration": 9,
    "start_time": "2023-05-13T07:54:28.373Z"
   },
   {
    "duration": 9,
    "start_time": "2023-05-13T07:54:34.152Z"
   },
   {
    "duration": 9,
    "start_time": "2023-05-13T07:54:40.293Z"
   },
   {
    "duration": 9,
    "start_time": "2023-05-13T07:54:45.042Z"
   },
   {
    "duration": 7,
    "start_time": "2023-05-13T07:54:49.562Z"
   },
   {
    "duration": 6,
    "start_time": "2023-05-13T07:55:07.862Z"
   },
   {
    "duration": 11,
    "start_time": "2023-05-13T07:55:13.203Z"
   },
   {
    "duration": 7,
    "start_time": "2023-05-13T07:55:19.020Z"
   },
   {
    "duration": 71,
    "start_time": "2023-05-13T07:57:22.913Z"
   },
   {
    "duration": 566,
    "start_time": "2023-05-13T07:57:39.502Z"
   },
   {
    "duration": 67,
    "start_time": "2023-05-13T07:58:00.263Z"
   },
   {
    "duration": 27,
    "start_time": "2023-05-13T07:59:58.202Z"
   },
   {
    "duration": 35,
    "start_time": "2023-05-13T08:00:07.213Z"
   },
   {
    "duration": 43,
    "start_time": "2023-05-13T08:00:24.293Z"
   },
   {
    "duration": 29,
    "start_time": "2023-05-13T08:00:56.862Z"
   },
   {
    "duration": 27,
    "start_time": "2023-05-13T08:01:03.314Z"
   },
   {
    "duration": 22,
    "start_time": "2023-05-13T08:01:12.962Z"
   },
   {
    "duration": 25,
    "start_time": "2023-05-13T08:01:15.740Z"
   },
   {
    "duration": 30,
    "start_time": "2023-05-13T08:01:17.983Z"
   },
   {
    "duration": 20,
    "start_time": "2023-05-13T08:01:24.573Z"
   },
   {
    "duration": 25,
    "start_time": "2023-05-13T08:01:27.253Z"
   },
   {
    "duration": 25,
    "start_time": "2023-05-13T08:01:34.951Z"
   },
   {
    "duration": 27,
    "start_time": "2023-05-13T08:01:51.782Z"
   },
   {
    "duration": 31,
    "start_time": "2023-05-13T08:02:04.092Z"
   },
   {
    "duration": 30,
    "start_time": "2023-05-13T08:02:09.823Z"
   },
   {
    "duration": 29,
    "start_time": "2023-05-13T08:02:15.532Z"
   },
   {
    "duration": 19,
    "start_time": "2023-05-13T08:02:31.423Z"
   },
   {
    "duration": 31,
    "start_time": "2023-05-13T08:02:36.762Z"
   },
   {
    "duration": 89,
    "start_time": "2023-05-13T08:02:53.042Z"
   },
   {
    "duration": 21,
    "start_time": "2023-05-13T08:02:58.723Z"
   },
   {
    "duration": 9,
    "start_time": "2023-05-13T08:03:38.535Z"
   },
   {
    "duration": 12,
    "start_time": "2023-05-13T08:03:45.542Z"
   },
   {
    "duration": 10,
    "start_time": "2023-05-13T08:03:55.053Z"
   },
   {
    "duration": 7,
    "start_time": "2023-05-13T08:06:25.373Z"
   },
   {
    "duration": 6,
    "start_time": "2023-05-13T08:06:33.985Z"
   },
   {
    "duration": 8,
    "start_time": "2023-05-13T08:06:39.313Z"
   },
   {
    "duration": 5,
    "start_time": "2023-05-13T08:06:41.523Z"
   },
   {
    "duration": 6,
    "start_time": "2023-05-13T08:06:44.012Z"
   },
   {
    "duration": 6,
    "start_time": "2023-05-13T08:06:53.200Z"
   },
   {
    "duration": 5,
    "start_time": "2023-05-13T08:06:59.053Z"
   },
   {
    "duration": 7,
    "start_time": "2023-05-13T08:07:02.243Z"
   },
   {
    "duration": 6,
    "start_time": "2023-05-13T08:07:08.313Z"
   },
   {
    "duration": 7,
    "start_time": "2023-05-13T08:07:13.403Z"
   },
   {
    "duration": 18,
    "start_time": "2023-05-13T08:07:45.583Z"
   },
   {
    "duration": 7,
    "start_time": "2023-05-13T08:07:50.050Z"
   },
   {
    "duration": 6,
    "start_time": "2023-05-13T08:08:23.753Z"
   },
   {
    "duration": 7,
    "start_time": "2023-05-13T08:10:46.913Z"
   },
   {
    "duration": 7,
    "start_time": "2023-05-13T08:11:20.813Z"
   },
   {
    "duration": 3,
    "start_time": "2023-05-13T08:13:12.401Z"
   },
   {
    "duration": 9,
    "start_time": "2023-05-13T08:13:23.913Z"
   },
   {
    "duration": 11,
    "start_time": "2023-05-13T08:13:26.863Z"
   },
   {
    "duration": 8,
    "start_time": "2023-05-13T08:13:32.652Z"
   },
   {
    "duration": 14,
    "start_time": "2023-05-13T08:14:13.593Z"
   },
   {
    "duration": 13,
    "start_time": "2023-05-13T08:14:28.694Z"
   },
   {
    "duration": 15,
    "start_time": "2023-05-13T08:14:31.594Z"
   },
   {
    "duration": 14,
    "start_time": "2023-05-13T08:14:40.273Z"
   },
   {
    "duration": 14,
    "start_time": "2023-05-13T08:14:42.822Z"
   },
   {
    "duration": 17,
    "start_time": "2023-05-13T08:14:45.574Z"
   },
   {
    "duration": 14,
    "start_time": "2023-05-13T08:15:30.525Z"
   },
   {
    "duration": 13,
    "start_time": "2023-05-13T08:15:34.048Z"
   },
   {
    "duration": 12,
    "start_time": "2023-05-13T08:15:38.345Z"
   },
   {
    "duration": 16,
    "start_time": "2023-05-13T08:16:52.354Z"
   },
   {
    "duration": 15,
    "start_time": "2023-05-13T08:17:12.723Z"
   },
   {
    "duration": 3,
    "start_time": "2023-05-13T08:19:05.884Z"
   },
   {
    "duration": 3,
    "start_time": "2023-05-13T08:19:15.183Z"
   },
   {
    "duration": 4,
    "start_time": "2023-05-13T08:19:27.113Z"
   },
   {
    "duration": 3,
    "start_time": "2023-05-13T08:19:33.194Z"
   },
   {
    "duration": 3,
    "start_time": "2023-05-13T08:19:35.833Z"
   },
   {
    "duration": 3,
    "start_time": "2023-05-13T08:19:38.254Z"
   },
   {
    "duration": 3,
    "start_time": "2023-05-13T08:35:00.115Z"
   },
   {
    "duration": 4,
    "start_time": "2023-05-13T08:35:05.763Z"
   },
   {
    "duration": 11,
    "start_time": "2023-05-13T08:36:03.055Z"
   },
   {
    "duration": 16,
    "start_time": "2023-05-13T08:36:08.587Z"
   },
   {
    "duration": 5,
    "start_time": "2023-05-13T08:36:13.425Z"
   },
   {
    "duration": 9,
    "start_time": "2023-05-13T08:36:33.095Z"
   },
   {
    "duration": 2624,
    "start_time": "2023-05-13T08:36:37.866Z"
   },
   {
    "duration": 2,
    "start_time": "2023-05-13T08:37:34.743Z"
   },
   {
    "duration": 5,
    "start_time": "2023-05-13T08:37:42.916Z"
   },
   {
    "duration": 25,
    "start_time": "2023-05-13T08:38:11.045Z"
   },
   {
    "duration": 3,
    "start_time": "2023-05-13T08:38:32.694Z"
   },
   {
    "duration": 4,
    "start_time": "2023-05-13T08:38:37.093Z"
   },
   {
    "duration": 3,
    "start_time": "2023-05-13T08:39:13.575Z"
   },
   {
    "duration": 5,
    "start_time": "2023-05-13T08:39:13.940Z"
   },
   {
    "duration": 4,
    "start_time": "2023-05-13T08:39:35.285Z"
   },
   {
    "duration": 3,
    "start_time": "2023-05-13T08:40:34.306Z"
   },
   {
    "duration": 5,
    "start_time": "2023-05-13T08:40:38.975Z"
   },
   {
    "duration": 6,
    "start_time": "2023-05-13T08:40:44.105Z"
   },
   {
    "duration": 3477,
    "start_time": "2023-05-13T08:41:04.730Z"
   },
   {
    "duration": 2869,
    "start_time": "2023-05-13T08:41:08.209Z"
   },
   {
    "duration": 2334,
    "start_time": "2023-05-13T08:41:11.080Z"
   },
   {
    "duration": 836,
    "start_time": "2023-05-13T08:41:13.419Z"
   },
   {
    "duration": 78,
    "start_time": "2023-05-13T08:41:14.258Z"
   },
   {
    "duration": 14,
    "start_time": "2023-05-13T08:41:14.338Z"
   },
   {
    "duration": 5,
    "start_time": "2023-05-13T08:41:14.353Z"
   },
   {
    "duration": 11,
    "start_time": "2023-05-13T08:41:14.360Z"
   },
   {
    "duration": 9,
    "start_time": "2023-05-13T08:41:14.396Z"
   },
   {
    "duration": 14,
    "start_time": "2023-05-13T08:41:14.407Z"
   },
   {
    "duration": 9,
    "start_time": "2023-05-13T08:41:14.423Z"
   },
   {
    "duration": 15,
    "start_time": "2023-05-13T08:41:14.434Z"
   },
   {
    "duration": 649,
    "start_time": "2023-05-13T08:41:14.451Z"
   },
   {
    "duration": 5,
    "start_time": "2023-05-13T08:41:15.102Z"
   },
   {
    "duration": 16,
    "start_time": "2023-05-13T08:41:15.109Z"
   },
   {
    "duration": 8,
    "start_time": "2023-05-13T08:41:15.127Z"
   },
   {
    "duration": 97,
    "start_time": "2023-05-13T08:41:15.137Z"
   },
   {
    "duration": 6,
    "start_time": "2023-05-13T08:41:15.237Z"
   },
   {
    "duration": 26,
    "start_time": "2023-05-13T08:41:15.245Z"
   },
   {
    "duration": 131,
    "start_time": "2023-05-13T08:41:15.273Z"
   },
   {
    "duration": 9,
    "start_time": "2023-05-13T08:41:15.407Z"
   },
   {
    "duration": 3747,
    "start_time": "2023-05-13T08:41:15.419Z"
   },
   {
    "duration": 3,
    "start_time": "2023-05-13T08:41:19.168Z"
   },
   {
    "duration": 812,
    "start_time": "2023-05-13T08:41:19.173Z"
   },
   {
    "duration": 13,
    "start_time": "2023-05-13T08:41:19.987Z"
   },
   {
    "duration": 748,
    "start_time": "2023-05-13T08:41:20.002Z"
   },
   {
    "duration": 747,
    "start_time": "2023-05-13T08:41:20.751Z"
   },
   {
    "duration": 693,
    "start_time": "2023-05-13T08:41:21.500Z"
   },
   {
    "duration": 58,
    "start_time": "2023-05-13T08:41:22.195Z"
   },
   {
    "duration": 13,
    "start_time": "2023-05-13T08:41:22.255Z"
   },
   {
    "duration": 5,
    "start_time": "2023-05-13T08:42:19.076Z"
   },
   {
    "duration": 3,
    "start_time": "2023-05-13T08:42:26.956Z"
   },
   {
    "duration": 4,
    "start_time": "2023-05-13T08:42:30.220Z"
   },
   {
    "duration": 4,
    "start_time": "2023-05-13T08:43:35.349Z"
   },
   {
    "duration": 5,
    "start_time": "2023-05-13T08:43:35.528Z"
   },
   {
    "duration": 3303,
    "start_time": "2023-05-13T08:43:51.234Z"
   },
   {
    "duration": 2492,
    "start_time": "2023-05-13T08:43:54.540Z"
   },
   {
    "duration": 1904,
    "start_time": "2023-05-13T08:43:57.034Z"
   },
   {
    "duration": 800,
    "start_time": "2023-05-13T08:43:58.940Z"
   },
   {
    "duration": 68,
    "start_time": "2023-05-13T08:43:59.742Z"
   },
   {
    "duration": 14,
    "start_time": "2023-05-13T08:43:59.812Z"
   },
   {
    "duration": 4,
    "start_time": "2023-05-13T08:43:59.828Z"
   },
   {
    "duration": 20,
    "start_time": "2023-05-13T08:43:59.834Z"
   },
   {
    "duration": 10,
    "start_time": "2023-05-13T08:43:59.856Z"
   },
   {
    "duration": 32,
    "start_time": "2023-05-13T08:43:59.868Z"
   },
   {
    "duration": 11,
    "start_time": "2023-05-13T08:43:59.902Z"
   },
   {
    "duration": 20,
    "start_time": "2023-05-13T08:43:59.914Z"
   },
   {
    "duration": 576,
    "start_time": "2023-05-13T08:43:59.936Z"
   },
   {
    "duration": 5,
    "start_time": "2023-05-13T08:44:00.517Z"
   },
   {
    "duration": 40,
    "start_time": "2023-05-13T08:44:00.523Z"
   },
   {
    "duration": 19,
    "start_time": "2023-05-13T08:44:00.565Z"
   },
   {
    "duration": 62,
    "start_time": "2023-05-13T08:44:00.586Z"
   },
   {
    "duration": 5,
    "start_time": "2023-05-13T08:44:00.650Z"
   },
   {
    "duration": 41,
    "start_time": "2023-05-13T08:44:00.656Z"
   },
   {
    "duration": 109,
    "start_time": "2023-05-13T08:44:00.699Z"
   },
   {
    "duration": 7,
    "start_time": "2023-05-13T08:44:00.809Z"
   },
   {
    "duration": 3795,
    "start_time": "2023-05-13T08:44:00.818Z"
   },
   {
    "duration": 4,
    "start_time": "2023-05-13T08:44:04.615Z"
   },
   {
    "duration": 859,
    "start_time": "2023-05-13T08:44:04.621Z"
   },
   {
    "duration": 6,
    "start_time": "2023-05-13T08:44:05.482Z"
   },
   {
    "duration": 611,
    "start_time": "2023-05-13T08:44:05.496Z"
   },
   {
    "duration": 714,
    "start_time": "2023-05-13T08:44:06.109Z"
   },
   {
    "duration": 666,
    "start_time": "2023-05-13T08:44:06.825Z"
   },
   {
    "duration": 71,
    "start_time": "2023-05-13T08:44:07.497Z"
   },
   {
    "duration": 31,
    "start_time": "2023-05-13T08:44:07.570Z"
   },
   {
    "duration": 4,
    "start_time": "2023-05-13T08:44:07.603Z"
   },
   {
    "duration": 14,
    "start_time": "2023-05-13T08:44:07.609Z"
   },
   {
    "duration": 3,
    "start_time": "2023-05-13T08:44:17.733Z"
   },
   {
    "duration": 4,
    "start_time": "2023-05-13T08:44:32.502Z"
   },
   {
    "duration": 146,
    "start_time": "2023-05-13T08:44:55.325Z"
   },
   {
    "duration": 4,
    "start_time": "2023-05-13T08:45:02.035Z"
   },
   {
    "duration": 13,
    "start_time": "2023-05-13T08:45:27.663Z"
   },
   {
    "duration": 21,
    "start_time": "2023-05-13T08:47:08.126Z"
   },
   {
    "duration": 14,
    "start_time": "2023-05-13T08:47:14.713Z"
   },
   {
    "duration": 6473,
    "start_time": "2023-05-13T08:48:29.083Z"
   },
   {
    "duration": 4992,
    "start_time": "2023-05-13T08:48:55.187Z"
   },
   {
    "duration": 4883,
    "start_time": "2023-05-13T08:49:10.875Z"
   },
   {
    "duration": 4935,
    "start_time": "2023-05-13T08:49:21.376Z"
   },
   {
    "duration": 4,
    "start_time": "2023-05-13T08:50:58.025Z"
   },
   {
    "duration": 11,
    "start_time": "2023-05-13T08:52:11.955Z"
   },
   {
    "duration": 30,
    "start_time": "2023-05-13T08:52:17.575Z"
   },
   {
    "duration": 31,
    "start_time": "2023-05-13T08:52:36.725Z"
   },
   {
    "duration": 22,
    "start_time": "2023-05-13T08:52:42.027Z"
   },
   {
    "duration": 22,
    "start_time": "2023-05-13T08:52:50.286Z"
   },
   {
    "duration": 17,
    "start_time": "2023-05-13T08:54:26.774Z"
   },
   {
    "duration": 18,
    "start_time": "2023-05-13T08:54:48.215Z"
   },
   {
    "duration": 15,
    "start_time": "2023-05-13T08:55:34.006Z"
   },
   {
    "duration": 35,
    "start_time": "2023-05-13T08:56:02.717Z"
   },
   {
    "duration": 30,
    "start_time": "2023-05-13T08:56:39.846Z"
   },
   {
    "duration": 19,
    "start_time": "2023-05-13T08:56:53.065Z"
   },
   {
    "duration": 12,
    "start_time": "2023-05-13T08:57:02.114Z"
   },
   {
    "duration": 26,
    "start_time": "2023-05-13T08:57:52.985Z"
   },
   {
    "duration": 160,
    "start_time": "2023-05-13T08:58:10.935Z"
   },
   {
    "duration": 309,
    "start_time": "2023-05-13T08:58:26.707Z"
   },
   {
    "duration": 9,
    "start_time": "2023-05-13T08:58:39.565Z"
   },
   {
    "duration": 155,
    "start_time": "2023-05-13T08:58:42.913Z"
   },
   {
    "duration": 27,
    "start_time": "2023-05-13T08:59:16.464Z"
   },
   {
    "duration": 273,
    "start_time": "2023-05-13T08:59:31.975Z"
   },
   {
    "duration": 36,
    "start_time": "2023-05-13T09:00:28.422Z"
   },
   {
    "duration": 4,
    "start_time": "2023-05-13T09:00:53.735Z"
   },
   {
    "duration": 22,
    "start_time": "2023-05-13T09:02:06.835Z"
   },
   {
    "duration": 36,
    "start_time": "2023-05-13T09:02:13.713Z"
   },
   {
    "duration": 155,
    "start_time": "2023-05-13T09:02:19.931Z"
   },
   {
    "duration": 28,
    "start_time": "2023-05-13T09:03:45.548Z"
   },
   {
    "duration": 34,
    "start_time": "2023-05-13T09:03:53.682Z"
   },
   {
    "duration": 3506,
    "start_time": "2023-05-13T09:04:44.586Z"
   },
   {
    "duration": 2750,
    "start_time": "2023-05-13T09:04:48.095Z"
   },
   {
    "duration": 2086,
    "start_time": "2023-05-13T09:04:50.847Z"
   },
   {
    "duration": 988,
    "start_time": "2023-05-13T09:04:52.935Z"
   },
   {
    "duration": 90,
    "start_time": "2023-05-13T09:04:53.926Z"
   },
   {
    "duration": 23,
    "start_time": "2023-05-13T09:04:54.018Z"
   },
   {
    "duration": 8,
    "start_time": "2023-05-13T09:04:54.044Z"
   },
   {
    "duration": 22,
    "start_time": "2023-05-13T09:04:54.053Z"
   },
   {
    "duration": 24,
    "start_time": "2023-05-13T09:04:54.077Z"
   },
   {
    "duration": 69,
    "start_time": "2023-05-13T09:04:54.108Z"
   },
   {
    "duration": 61,
    "start_time": "2023-05-13T09:04:54.179Z"
   },
   {
    "duration": 25,
    "start_time": "2023-05-13T09:04:54.242Z"
   },
   {
    "duration": 599,
    "start_time": "2023-05-13T09:04:54.269Z"
   },
   {
    "duration": 4,
    "start_time": "2023-05-13T09:04:54.871Z"
   },
   {
    "duration": 29,
    "start_time": "2023-05-13T09:04:54.877Z"
   },
   {
    "duration": 35,
    "start_time": "2023-05-13T09:04:54.909Z"
   },
   {
    "duration": 43,
    "start_time": "2023-05-13T09:04:54.945Z"
   },
   {
    "duration": 5,
    "start_time": "2023-05-13T09:04:54.989Z"
   },
   {
    "duration": 69,
    "start_time": "2023-05-13T09:04:54.995Z"
   },
   {
    "duration": 128,
    "start_time": "2023-05-13T09:04:55.067Z"
   },
   {
    "duration": 12,
    "start_time": "2023-05-13T09:04:55.202Z"
   },
   {
    "duration": 3434,
    "start_time": "2023-05-13T09:04:55.231Z"
   },
   {
    "duration": 4,
    "start_time": "2023-05-13T09:04:58.667Z"
   },
   {
    "duration": 812,
    "start_time": "2023-05-13T09:04:58.672Z"
   },
   {
    "duration": 5,
    "start_time": "2023-05-13T09:04:59.486Z"
   },
   {
    "duration": 579,
    "start_time": "2023-05-13T09:04:59.492Z"
   },
   {
    "duration": 600,
    "start_time": "2023-05-13T09:05:00.072Z"
   },
   {
    "duration": 603,
    "start_time": "2023-05-13T09:05:00.673Z"
   },
   {
    "duration": 92,
    "start_time": "2023-05-13T09:05:01.278Z"
   },
   {
    "duration": 166,
    "start_time": "2023-05-13T09:05:01.371Z"
   },
   {
    "duration": 0,
    "start_time": "2023-05-13T09:05:01.539Z"
   },
   {
    "duration": 0,
    "start_time": "2023-05-13T09:05:01.540Z"
   },
   {
    "duration": 0,
    "start_time": "2023-05-13T09:05:01.542Z"
   },
   {
    "duration": 1937,
    "start_time": "2023-05-13T09:05:23.446Z"
   },
   {
    "duration": 5426,
    "start_time": "2023-05-13T09:05:45.719Z"
   },
   {
    "duration": 2533,
    "start_time": "2023-05-13T09:05:51.148Z"
   },
   {
    "duration": 1972,
    "start_time": "2023-05-13T09:05:53.683Z"
   },
   {
    "duration": 897,
    "start_time": "2023-05-13T09:05:55.657Z"
   },
   {
    "duration": 95,
    "start_time": "2023-05-13T09:05:56.558Z"
   },
   {
    "duration": 14,
    "start_time": "2023-05-13T09:05:56.654Z"
   },
   {
    "duration": 11,
    "start_time": "2023-05-13T09:05:56.670Z"
   },
   {
    "duration": 85,
    "start_time": "2023-05-13T09:05:56.682Z"
   },
   {
    "duration": 14,
    "start_time": "2023-05-13T09:05:56.771Z"
   },
   {
    "duration": 68,
    "start_time": "2023-05-13T09:05:56.787Z"
   },
   {
    "duration": 23,
    "start_time": "2023-05-13T09:05:56.857Z"
   },
   {
    "duration": 27,
    "start_time": "2023-05-13T09:05:56.882Z"
   },
   {
    "duration": 612,
    "start_time": "2023-05-13T09:05:56.911Z"
   },
   {
    "duration": 8,
    "start_time": "2023-05-13T09:05:57.526Z"
   },
   {
    "duration": 26,
    "start_time": "2023-05-13T09:05:57.537Z"
   },
   {
    "duration": 6,
    "start_time": "2023-05-13T09:05:57.564Z"
   },
   {
    "duration": 55,
    "start_time": "2023-05-13T09:05:57.571Z"
   },
   {
    "duration": 18,
    "start_time": "2023-05-13T09:05:57.628Z"
   },
   {
    "duration": 21,
    "start_time": "2023-05-13T09:05:57.648Z"
   },
   {
    "duration": 109,
    "start_time": "2023-05-13T09:05:57.671Z"
   },
   {
    "duration": 6,
    "start_time": "2023-05-13T09:05:57.781Z"
   },
   {
    "duration": 3489,
    "start_time": "2023-05-13T09:05:57.788Z"
   },
   {
    "duration": 3,
    "start_time": "2023-05-13T09:06:01.279Z"
   },
   {
    "duration": 904,
    "start_time": "2023-05-13T09:06:01.284Z"
   },
   {
    "duration": 4,
    "start_time": "2023-05-13T09:06:02.190Z"
   },
   {
    "duration": 581,
    "start_time": "2023-05-13T09:06:02.195Z"
   },
   {
    "duration": 615,
    "start_time": "2023-05-13T09:06:02.777Z"
   },
   {
    "duration": 582,
    "start_time": "2023-05-13T09:06:03.394Z"
   },
   {
    "duration": 77,
    "start_time": "2023-05-13T09:06:03.977Z"
   },
   {
    "duration": 1711,
    "start_time": "2023-05-13T09:06:04.056Z"
   },
   {
    "duration": 5,
    "start_time": "2023-05-13T09:06:25.135Z"
   },
   {
    "duration": 1673,
    "start_time": "2023-05-13T09:06:41.173Z"
   },
   {
    "duration": 6,
    "start_time": "2023-05-13T09:06:50.186Z"
   },
   {
    "duration": 15,
    "start_time": "2023-05-13T09:07:44.160Z"
   },
   {
    "duration": 32,
    "start_time": "2023-05-13T09:08:01.383Z"
   },
   {
    "duration": 174,
    "start_time": "2023-05-13T09:08:11.483Z"
   },
   {
    "duration": 31,
    "start_time": "2023-05-13T09:09:34.231Z"
   },
   {
    "duration": 15,
    "start_time": "2023-05-13T09:10:16.524Z"
   },
   {
    "duration": 6,
    "start_time": "2023-05-13T09:10:36.053Z"
   },
   {
    "duration": 7,
    "start_time": "2023-05-13T09:10:41.835Z"
   },
   {
    "duration": 6,
    "start_time": "2023-05-13T09:10:51.758Z"
   },
   {
    "duration": 7,
    "start_time": "2023-05-13T09:10:55.256Z"
   },
   {
    "duration": 6,
    "start_time": "2023-05-13T09:11:08.385Z"
   },
   {
    "duration": 27,
    "start_time": "2023-05-13T09:11:38.296Z"
   },
   {
    "duration": 15,
    "start_time": "2023-05-13T09:11:46.573Z"
   },
   {
    "duration": 5,
    "start_time": "2023-05-13T09:11:48.946Z"
   },
   {
    "duration": 31,
    "start_time": "2023-05-13T09:12:02.047Z"
   },
   {
    "duration": 176,
    "start_time": "2023-05-13T09:12:20.165Z"
   },
   {
    "duration": 21,
    "start_time": "2023-05-13T09:12:27.156Z"
   },
   {
    "duration": 35,
    "start_time": "2023-05-13T09:12:28.563Z"
   },
   {
    "duration": 41,
    "start_time": "2023-05-13T09:12:28.798Z"
   },
   {
    "duration": 45,
    "start_time": "2023-05-13T09:12:41.728Z"
   },
   {
    "duration": 32,
    "start_time": "2023-05-13T09:13:16.336Z"
   },
   {
    "duration": 32,
    "start_time": "2023-05-13T09:13:38.147Z"
   },
   {
    "duration": 14,
    "start_time": "2023-05-13T09:13:52.829Z"
   },
   {
    "duration": 40,
    "start_time": "2023-05-13T09:14:19.556Z"
   },
   {
    "duration": 11,
    "start_time": "2023-05-13T09:38:19.229Z"
   },
   {
    "duration": 3395,
    "start_time": "2023-05-13T09:38:30.651Z"
   },
   {
    "duration": 2700,
    "start_time": "2023-05-13T09:38:34.048Z"
   },
   {
    "duration": 5,
    "start_time": "2023-05-13T09:38:36.751Z"
   },
   {
    "duration": 957,
    "start_time": "2023-05-13T09:38:36.758Z"
   },
   {
    "duration": 68,
    "start_time": "2023-05-13T09:38:37.723Z"
   },
   {
    "duration": 24,
    "start_time": "2023-05-13T09:38:37.792Z"
   },
   {
    "duration": 27,
    "start_time": "2023-05-13T09:38:37.821Z"
   },
   {
    "duration": 9,
    "start_time": "2023-05-13T09:38:37.849Z"
   },
   {
    "duration": 10,
    "start_time": "2023-05-13T09:38:37.860Z"
   },
   {
    "duration": 15,
    "start_time": "2023-05-13T09:38:37.871Z"
   },
   {
    "duration": 6,
    "start_time": "2023-05-13T09:38:37.888Z"
   },
   {
    "duration": 58,
    "start_time": "2023-05-13T09:38:37.896Z"
   },
   {
    "duration": 573,
    "start_time": "2023-05-13T09:38:37.955Z"
   },
   {
    "duration": 5,
    "start_time": "2023-05-13T09:38:38.532Z"
   },
   {
    "duration": 24,
    "start_time": "2023-05-13T09:38:38.539Z"
   },
   {
    "duration": 6,
    "start_time": "2023-05-13T09:38:38.565Z"
   },
   {
    "duration": 61,
    "start_time": "2023-05-13T09:38:38.573Z"
   },
   {
    "duration": 9,
    "start_time": "2023-05-13T09:38:38.635Z"
   },
   {
    "duration": 24,
    "start_time": "2023-05-13T09:38:38.648Z"
   },
   {
    "duration": 118,
    "start_time": "2023-05-13T09:38:38.674Z"
   },
   {
    "duration": 10,
    "start_time": "2023-05-13T09:38:38.794Z"
   },
   {
    "duration": 3558,
    "start_time": "2023-05-13T09:38:38.805Z"
   },
   {
    "duration": 3,
    "start_time": "2023-05-13T09:38:42.365Z"
   },
   {
    "duration": 835,
    "start_time": "2023-05-13T09:38:42.370Z"
   },
   {
    "duration": 5,
    "start_time": "2023-05-13T09:38:43.217Z"
   },
   {
    "duration": 635,
    "start_time": "2023-05-13T09:38:43.230Z"
   },
   {
    "duration": 654,
    "start_time": "2023-05-13T09:38:43.867Z"
   },
   {
    "duration": 657,
    "start_time": "2023-05-13T09:38:44.523Z"
   },
   {
    "duration": 34,
    "start_time": "2023-05-13T09:38:45.182Z"
   },
   {
    "duration": 34,
    "start_time": "2023-05-13T09:38:45.224Z"
   },
   {
    "duration": 16,
    "start_time": "2023-05-13T09:38:45.259Z"
   },
   {
    "duration": 11,
    "start_time": "2023-05-13T09:38:45.278Z"
   },
   {
    "duration": 86,
    "start_time": "2023-05-13T09:38:45.291Z"
   },
   {
    "duration": 74,
    "start_time": "2023-05-13T09:38:45.379Z"
   },
   {
    "duration": 20,
    "start_time": "2023-05-13T09:38:45.456Z"
   },
   {
    "duration": 10,
    "start_time": "2023-05-13T09:38:45.478Z"
   },
   {
    "duration": 7,
    "start_time": "2023-05-13T09:38:45.489Z"
   },
   {
    "duration": 68,
    "start_time": "2023-05-13T09:38:45.502Z"
   },
   {
    "duration": 25,
    "start_time": "2023-05-13T09:38:45.571Z"
   },
   {
    "duration": 14,
    "start_time": "2023-05-13T09:38:45.604Z"
   },
   {
    "duration": 703797,
    "start_time": "2023-05-13T09:40:23.598Z"
   },
   {
    "duration": 602543,
    "start_time": "2023-05-13T09:52:07.397Z"
   },
   {
    "duration": 4,
    "start_time": "2023-05-13T10:02:09.941Z"
   },
   {
    "duration": 321284,
    "start_time": "2023-05-13T10:02:09.948Z"
   },
   {
    "duration": 14,
    "start_time": "2023-05-13T10:07:31.239Z"
   },
   {
    "duration": 0,
    "start_time": "2023-05-13T10:07:31.255Z"
   },
   {
    "duration": 0,
    "start_time": "2023-05-13T10:07:31.257Z"
   },
   {
    "duration": 0,
    "start_time": "2023-05-13T10:07:31.258Z"
   },
   {
    "duration": 366555,
    "start_time": "2023-05-13T10:08:26.085Z"
   },
   {
    "duration": 141448,
    "start_time": "2023-05-13T10:14:32.647Z"
   },
   {
    "duration": 13,
    "start_time": "2023-05-13T10:16:54.097Z"
   },
   {
    "duration": 2818799,
    "start_time": "2023-05-13T10:16:54.113Z"
   },
   {
    "duration": 2172049,
    "start_time": "2023-05-13T11:03:52.925Z"
   },
   {
    "duration": 4,
    "start_time": "2023-05-13T11:40:04.976Z"
   },
   {
    "duration": 16,
    "start_time": "2023-05-13T11:40:04.981Z"
   },
   {
    "duration": 50,
    "start_time": "2023-05-13T11:40:05.001Z"
   },
   {
    "duration": 6590,
    "start_time": "2023-05-13T11:40:05.053Z"
   },
   {
    "duration": 11,
    "start_time": "2023-05-13T11:40:11.651Z"
   },
   {
    "duration": 13,
    "start_time": "2023-05-13T11:40:11.664Z"
   },
   {
    "duration": 13,
    "start_time": "2023-05-13T12:37:41.675Z"
   },
   {
    "duration": 12,
    "start_time": "2023-05-13T12:38:05.860Z"
   },
   {
    "duration": 9,
    "start_time": "2023-05-13T12:38:22.464Z"
   },
   {
    "duration": 22570,
    "start_time": "2023-07-06T11:35:52.627Z"
   },
   {
    "duration": 2531,
    "start_time": "2023-07-06T11:36:15.200Z"
   },
   {
    "duration": 2234,
    "start_time": "2023-07-06T11:36:17.734Z"
   },
   {
    "duration": 2449,
    "start_time": "2023-07-06T11:36:19.971Z"
   },
   {
    "duration": 93,
    "start_time": "2023-07-06T11:36:22.423Z"
   },
   {
    "duration": 18,
    "start_time": "2023-07-06T11:36:22.518Z"
   },
   {
    "duration": 18,
    "start_time": "2023-07-06T11:36:22.538Z"
   },
   {
    "duration": 37,
    "start_time": "2023-07-06T11:36:22.558Z"
   },
   {
    "duration": 18,
    "start_time": "2023-07-06T11:36:22.597Z"
   },
   {
    "duration": 20,
    "start_time": "2023-07-06T11:36:22.618Z"
   },
   {
    "duration": 12,
    "start_time": "2023-07-06T11:36:22.640Z"
   },
   {
    "duration": 15,
    "start_time": "2023-07-06T11:36:22.655Z"
   },
   {
    "duration": 653,
    "start_time": "2023-07-06T11:36:22.673Z"
   },
   {
    "duration": 5,
    "start_time": "2023-07-06T11:36:23.329Z"
   },
   {
    "duration": 23,
    "start_time": "2023-07-06T11:36:23.337Z"
   },
   {
    "duration": 9,
    "start_time": "2023-07-06T11:36:23.363Z"
   },
   {
    "duration": 77,
    "start_time": "2023-07-06T11:36:23.374Z"
   },
   {
    "duration": 6,
    "start_time": "2023-07-06T11:36:23.453Z"
   },
   {
    "duration": 48,
    "start_time": "2023-07-06T11:36:23.461Z"
   },
   {
    "duration": 150,
    "start_time": "2023-07-06T11:36:23.511Z"
   },
   {
    "duration": 8,
    "start_time": "2023-07-06T11:36:23.665Z"
   },
   {
    "duration": 3884,
    "start_time": "2023-07-06T11:36:23.675Z"
   },
   {
    "duration": 5,
    "start_time": "2023-07-06T11:36:27.561Z"
   },
   {
    "duration": 816,
    "start_time": "2023-07-06T11:36:27.568Z"
   },
   {
    "duration": 6,
    "start_time": "2023-07-06T11:36:28.386Z"
   },
   {
    "duration": 669,
    "start_time": "2023-07-06T11:36:28.402Z"
   },
   {
    "duration": 822,
    "start_time": "2023-07-06T11:36:29.073Z"
   },
   {
    "duration": 660,
    "start_time": "2023-07-06T11:36:29.902Z"
   },
   {
    "duration": 41,
    "start_time": "2023-07-06T11:36:30.566Z"
   },
   {
    "duration": 65,
    "start_time": "2023-07-06T11:36:30.609Z"
   },
   {
    "duration": 103,
    "start_time": "2023-07-06T11:36:30.677Z"
   },
   {
    "duration": 81,
    "start_time": "2023-07-06T11:36:30.783Z"
   },
   {
    "duration": 76,
    "start_time": "2023-07-06T11:36:30.866Z"
   },
   {
    "duration": 86,
    "start_time": "2023-07-06T11:36:30.944Z"
   },
   {
    "duration": 22,
    "start_time": "2023-07-06T11:36:31.032Z"
   },
   {
    "duration": 37,
    "start_time": "2023-07-06T11:36:31.057Z"
   },
   {
    "duration": 38,
    "start_time": "2023-07-06T11:36:31.096Z"
   },
   {
    "duration": 54,
    "start_time": "2023-07-06T11:36:31.137Z"
   },
   {
    "duration": 67,
    "start_time": "2023-07-06T11:36:31.193Z"
   },
   {
    "duration": 50,
    "start_time": "2023-07-06T11:36:31.262Z"
   },
   {
    "duration": 5314,
    "start_time": "2023-07-06T11:37:57.509Z"
   },
   {
    "duration": 5,
    "start_time": "2023-07-06T11:46:12.268Z"
   }
  ],
  "kernelspec": {
   "display_name": "Python 3 (ipykernel)",
   "language": "python",
   "name": "python3"
  },
  "language_info": {
   "codemirror_mode": {
    "name": "ipython",
    "version": 3
   },
   "file_extension": ".py",
   "mimetype": "text/x-python",
   "name": "python",
   "nbconvert_exporter": "python",
   "pygments_lexer": "ipython3",
   "version": "3.9.16"
  },
  "toc": {
   "base_numbering": 1,
   "nav_menu": {},
   "number_sections": true,
   "sideBar": true,
   "skip_h1_title": true,
   "title_cell": "Содержание",
   "title_sidebar": "Contents",
   "toc_cell": true,
   "toc_position": {
    "height": "calc(100% - 180px)",
    "left": "10px",
    "top": "150px",
    "width": "192px"
   },
   "toc_section_display": true,
   "toc_window_display": true
  },
  "varInspector": {
   "cols": {
    "lenName": 16,
    "lenType": 16,
    "lenVar": 40
   },
   "kernels_config": {
    "python": {
     "delete_cmd_postfix": "",
     "delete_cmd_prefix": "del ",
     "library": "var_list.py",
     "varRefreshCmd": "print(var_dic_list())"
    },
    "r": {
     "delete_cmd_postfix": ") ",
     "delete_cmd_prefix": "rm(",
     "library": "var_list.r",
     "varRefreshCmd": "cat(var_dic_list()) "
    }
   },
   "types_to_exclude": [
    "module",
    "function",
    "builtin_function_or_method",
    "instance",
    "_Feature"
   ],
   "window_display": false
  }
 },
 "nbformat": 4,
 "nbformat_minor": 2
}
