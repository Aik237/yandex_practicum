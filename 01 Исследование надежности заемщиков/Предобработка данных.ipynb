{
 "cells": [
  {
   "cell_type": "markdown",
   "id": "73d08312",
   "metadata": {
    "deletable": false,
    "editable": false,
    "id": "c81daeeb"
   },
   "source": [
    "# Исследование надежности заемщиков\n"
   ]
  },
  {
   "cell_type": "markdown",
   "id": "5b9c5871",
   "metadata": {
    "deletable": false,
    "editable": false,
    "id": "827c20bf"
   },
   "source": [
    "Во второй части проекта вы выполните шаги 3 и 4. Их вручную проверит ревьюер.\n",
    "Чтобы вам не пришлось писать код заново для шагов 1 и 2, мы добавили авторские решения в ячейки с кодом. \n",
    "\n"
   ]
  },
  {
   "cell_type": "markdown",
   "id": "8c343f0a",
   "metadata": {
    "deletable": false,
    "editable": false,
    "id": "744d7639"
   },
   "source": [
    "## Откройте таблицу и изучите общую информацию о данных"
   ]
  },
  {
   "cell_type": "markdown",
   "id": "ad3c217b",
   "metadata": {
    "deletable": false,
    "editable": false,
    "id": "e7a14c31"
   },
   "source": [
    "**Задание 1. Импортируйте библиотеку pandas. Считайте данные из csv-файла в датафрейм и сохраните в переменную `data`. Путь к файлу:**\n",
    "\n",
    "`/datasets/data.csv`"
   ]
  },
  {
   "cell_type": "code",
   "execution_count": 1,
   "id": "8e990ea2",
   "metadata": {
    "deletable": false,
    "id": "7bcf75c9"
   },
   "outputs": [],
   "source": [
    "import pandas as pd\n",
    "\n",
    "try:\n",
    "    data = pd.read_csv('/datasets/data.csv')\n",
    "except:\n",
    "    data = pd.read_csv('https://code.s3.yandex.net/datasets/data.csv')"
   ]
  },
  {
   "cell_type": "markdown",
   "id": "6c07ee7e",
   "metadata": {
    "deletable": false,
    "editable": false,
    "id": "b8038fe3"
   },
   "source": [
    "**Задание 2. Выведите первые 20 строчек датафрейма `data` на экран.**"
   ]
  },
  {
   "cell_type": "code",
   "execution_count": 2,
   "id": "a406b822",
   "metadata": {
    "deletable": false,
    "id": "2a7cab99",
    "outputId": "1a8f3ef2-d323-4ec2-ddf7-89670b5944c4"
   },
   "outputs": [
    {
     "data": {
      "text/html": [
       "<div>\n",
       "<style scoped>\n",
       "    .dataframe tbody tr th:only-of-type {\n",
       "        vertical-align: middle;\n",
       "    }\n",
       "\n",
       "    .dataframe tbody tr th {\n",
       "        vertical-align: top;\n",
       "    }\n",
       "\n",
       "    .dataframe thead th {\n",
       "        text-align: right;\n",
       "    }\n",
       "</style>\n",
       "<table border=\"1\" class=\"dataframe\">\n",
       "  <thead>\n",
       "    <tr style=\"text-align: right;\">\n",
       "      <th></th>\n",
       "      <th>children</th>\n",
       "      <th>days_employed</th>\n",
       "      <th>dob_years</th>\n",
       "      <th>education</th>\n",
       "      <th>education_id</th>\n",
       "      <th>family_status</th>\n",
       "      <th>family_status_id</th>\n",
       "      <th>gender</th>\n",
       "      <th>income_type</th>\n",
       "      <th>debt</th>\n",
       "      <th>total_income</th>\n",
       "      <th>purpose</th>\n",
       "    </tr>\n",
       "  </thead>\n",
       "  <tbody>\n",
       "    <tr>\n",
       "      <th>0</th>\n",
       "      <td>1</td>\n",
       "      <td>-8437.673028</td>\n",
       "      <td>42</td>\n",
       "      <td>высшее</td>\n",
       "      <td>0</td>\n",
       "      <td>женат / замужем</td>\n",
       "      <td>0</td>\n",
       "      <td>F</td>\n",
       "      <td>сотрудник</td>\n",
       "      <td>0</td>\n",
       "      <td>253875.639453</td>\n",
       "      <td>покупка жилья</td>\n",
       "    </tr>\n",
       "    <tr>\n",
       "      <th>1</th>\n",
       "      <td>1</td>\n",
       "      <td>-4024.803754</td>\n",
       "      <td>36</td>\n",
       "      <td>среднее</td>\n",
       "      <td>1</td>\n",
       "      <td>женат / замужем</td>\n",
       "      <td>0</td>\n",
       "      <td>F</td>\n",
       "      <td>сотрудник</td>\n",
       "      <td>0</td>\n",
       "      <td>112080.014102</td>\n",
       "      <td>приобретение автомобиля</td>\n",
       "    </tr>\n",
       "    <tr>\n",
       "      <th>2</th>\n",
       "      <td>0</td>\n",
       "      <td>-5623.422610</td>\n",
       "      <td>33</td>\n",
       "      <td>Среднее</td>\n",
       "      <td>1</td>\n",
       "      <td>женат / замужем</td>\n",
       "      <td>0</td>\n",
       "      <td>M</td>\n",
       "      <td>сотрудник</td>\n",
       "      <td>0</td>\n",
       "      <td>145885.952297</td>\n",
       "      <td>покупка жилья</td>\n",
       "    </tr>\n",
       "    <tr>\n",
       "      <th>3</th>\n",
       "      <td>3</td>\n",
       "      <td>-4124.747207</td>\n",
       "      <td>32</td>\n",
       "      <td>среднее</td>\n",
       "      <td>1</td>\n",
       "      <td>женат / замужем</td>\n",
       "      <td>0</td>\n",
       "      <td>M</td>\n",
       "      <td>сотрудник</td>\n",
       "      <td>0</td>\n",
       "      <td>267628.550329</td>\n",
       "      <td>дополнительное образование</td>\n",
       "    </tr>\n",
       "    <tr>\n",
       "      <th>4</th>\n",
       "      <td>0</td>\n",
       "      <td>340266.072047</td>\n",
       "      <td>53</td>\n",
       "      <td>среднее</td>\n",
       "      <td>1</td>\n",
       "      <td>гражданский брак</td>\n",
       "      <td>1</td>\n",
       "      <td>F</td>\n",
       "      <td>пенсионер</td>\n",
       "      <td>0</td>\n",
       "      <td>158616.077870</td>\n",
       "      <td>сыграть свадьбу</td>\n",
       "    </tr>\n",
       "    <tr>\n",
       "      <th>5</th>\n",
       "      <td>0</td>\n",
       "      <td>-926.185831</td>\n",
       "      <td>27</td>\n",
       "      <td>высшее</td>\n",
       "      <td>0</td>\n",
       "      <td>гражданский брак</td>\n",
       "      <td>1</td>\n",
       "      <td>M</td>\n",
       "      <td>компаньон</td>\n",
       "      <td>0</td>\n",
       "      <td>255763.565419</td>\n",
       "      <td>покупка жилья</td>\n",
       "    </tr>\n",
       "    <tr>\n",
       "      <th>6</th>\n",
       "      <td>0</td>\n",
       "      <td>-2879.202052</td>\n",
       "      <td>43</td>\n",
       "      <td>высшее</td>\n",
       "      <td>0</td>\n",
       "      <td>женат / замужем</td>\n",
       "      <td>0</td>\n",
       "      <td>F</td>\n",
       "      <td>компаньон</td>\n",
       "      <td>0</td>\n",
       "      <td>240525.971920</td>\n",
       "      <td>операции с жильем</td>\n",
       "    </tr>\n",
       "    <tr>\n",
       "      <th>7</th>\n",
       "      <td>0</td>\n",
       "      <td>-152.779569</td>\n",
       "      <td>50</td>\n",
       "      <td>СРЕДНЕЕ</td>\n",
       "      <td>1</td>\n",
       "      <td>женат / замужем</td>\n",
       "      <td>0</td>\n",
       "      <td>M</td>\n",
       "      <td>сотрудник</td>\n",
       "      <td>0</td>\n",
       "      <td>135823.934197</td>\n",
       "      <td>образование</td>\n",
       "    </tr>\n",
       "    <tr>\n",
       "      <th>8</th>\n",
       "      <td>2</td>\n",
       "      <td>-6929.865299</td>\n",
       "      <td>35</td>\n",
       "      <td>ВЫСШЕЕ</td>\n",
       "      <td>0</td>\n",
       "      <td>гражданский брак</td>\n",
       "      <td>1</td>\n",
       "      <td>F</td>\n",
       "      <td>сотрудник</td>\n",
       "      <td>0</td>\n",
       "      <td>95856.832424</td>\n",
       "      <td>на проведение свадьбы</td>\n",
       "    </tr>\n",
       "    <tr>\n",
       "      <th>9</th>\n",
       "      <td>0</td>\n",
       "      <td>-2188.756445</td>\n",
       "      <td>41</td>\n",
       "      <td>среднее</td>\n",
       "      <td>1</td>\n",
       "      <td>женат / замужем</td>\n",
       "      <td>0</td>\n",
       "      <td>M</td>\n",
       "      <td>сотрудник</td>\n",
       "      <td>0</td>\n",
       "      <td>144425.938277</td>\n",
       "      <td>покупка жилья для семьи</td>\n",
       "    </tr>\n",
       "    <tr>\n",
       "      <th>10</th>\n",
       "      <td>2</td>\n",
       "      <td>-4171.483647</td>\n",
       "      <td>36</td>\n",
       "      <td>высшее</td>\n",
       "      <td>0</td>\n",
       "      <td>женат / замужем</td>\n",
       "      <td>0</td>\n",
       "      <td>M</td>\n",
       "      <td>компаньон</td>\n",
       "      <td>0</td>\n",
       "      <td>113943.491460</td>\n",
       "      <td>покупка недвижимости</td>\n",
       "    </tr>\n",
       "    <tr>\n",
       "      <th>11</th>\n",
       "      <td>0</td>\n",
       "      <td>-792.701887</td>\n",
       "      <td>40</td>\n",
       "      <td>среднее</td>\n",
       "      <td>1</td>\n",
       "      <td>женат / замужем</td>\n",
       "      <td>0</td>\n",
       "      <td>F</td>\n",
       "      <td>сотрудник</td>\n",
       "      <td>0</td>\n",
       "      <td>77069.234271</td>\n",
       "      <td>покупка коммерческой недвижимости</td>\n",
       "    </tr>\n",
       "    <tr>\n",
       "      <th>12</th>\n",
       "      <td>0</td>\n",
       "      <td>NaN</td>\n",
       "      <td>65</td>\n",
       "      <td>среднее</td>\n",
       "      <td>1</td>\n",
       "      <td>гражданский брак</td>\n",
       "      <td>1</td>\n",
       "      <td>M</td>\n",
       "      <td>пенсионер</td>\n",
       "      <td>0</td>\n",
       "      <td>NaN</td>\n",
       "      <td>сыграть свадьбу</td>\n",
       "    </tr>\n",
       "    <tr>\n",
       "      <th>13</th>\n",
       "      <td>0</td>\n",
       "      <td>-1846.641941</td>\n",
       "      <td>54</td>\n",
       "      <td>неоконченное высшее</td>\n",
       "      <td>2</td>\n",
       "      <td>женат / замужем</td>\n",
       "      <td>0</td>\n",
       "      <td>F</td>\n",
       "      <td>сотрудник</td>\n",
       "      <td>0</td>\n",
       "      <td>130458.228857</td>\n",
       "      <td>приобретение автомобиля</td>\n",
       "    </tr>\n",
       "    <tr>\n",
       "      <th>14</th>\n",
       "      <td>0</td>\n",
       "      <td>-1844.956182</td>\n",
       "      <td>56</td>\n",
       "      <td>высшее</td>\n",
       "      <td>0</td>\n",
       "      <td>гражданский брак</td>\n",
       "      <td>1</td>\n",
       "      <td>F</td>\n",
       "      <td>компаньон</td>\n",
       "      <td>1</td>\n",
       "      <td>165127.911772</td>\n",
       "      <td>покупка жилой недвижимости</td>\n",
       "    </tr>\n",
       "    <tr>\n",
       "      <th>15</th>\n",
       "      <td>1</td>\n",
       "      <td>-972.364419</td>\n",
       "      <td>26</td>\n",
       "      <td>среднее</td>\n",
       "      <td>1</td>\n",
       "      <td>женат / замужем</td>\n",
       "      <td>0</td>\n",
       "      <td>F</td>\n",
       "      <td>сотрудник</td>\n",
       "      <td>0</td>\n",
       "      <td>116820.904450</td>\n",
       "      <td>строительство собственной недвижимости</td>\n",
       "    </tr>\n",
       "    <tr>\n",
       "      <th>16</th>\n",
       "      <td>0</td>\n",
       "      <td>-1719.934226</td>\n",
       "      <td>35</td>\n",
       "      <td>среднее</td>\n",
       "      <td>1</td>\n",
       "      <td>женат / замужем</td>\n",
       "      <td>0</td>\n",
       "      <td>F</td>\n",
       "      <td>сотрудник</td>\n",
       "      <td>0</td>\n",
       "      <td>289202.704229</td>\n",
       "      <td>недвижимость</td>\n",
       "    </tr>\n",
       "    <tr>\n",
       "      <th>17</th>\n",
       "      <td>0</td>\n",
       "      <td>-2369.999720</td>\n",
       "      <td>33</td>\n",
       "      <td>высшее</td>\n",
       "      <td>0</td>\n",
       "      <td>гражданский брак</td>\n",
       "      <td>1</td>\n",
       "      <td>M</td>\n",
       "      <td>сотрудник</td>\n",
       "      <td>0</td>\n",
       "      <td>90410.586745</td>\n",
       "      <td>строительство недвижимости</td>\n",
       "    </tr>\n",
       "    <tr>\n",
       "      <th>18</th>\n",
       "      <td>0</td>\n",
       "      <td>400281.136913</td>\n",
       "      <td>53</td>\n",
       "      <td>среднее</td>\n",
       "      <td>1</td>\n",
       "      <td>вдовец / вдова</td>\n",
       "      <td>2</td>\n",
       "      <td>F</td>\n",
       "      <td>пенсионер</td>\n",
       "      <td>0</td>\n",
       "      <td>56823.777243</td>\n",
       "      <td>на покупку подержанного автомобиля</td>\n",
       "    </tr>\n",
       "    <tr>\n",
       "      <th>19</th>\n",
       "      <td>0</td>\n",
       "      <td>-10038.818549</td>\n",
       "      <td>48</td>\n",
       "      <td>СРЕДНЕЕ</td>\n",
       "      <td>1</td>\n",
       "      <td>в разводе</td>\n",
       "      <td>3</td>\n",
       "      <td>F</td>\n",
       "      <td>сотрудник</td>\n",
       "      <td>0</td>\n",
       "      <td>242831.107982</td>\n",
       "      <td>на покупку своего автомобиля</td>\n",
       "    </tr>\n",
       "  </tbody>\n",
       "</table>\n",
       "</div>"
      ],
      "text/plain": [
       "    children  days_employed  dob_years            education  education_id  \\\n",
       "0          1   -8437.673028         42               высшее             0   \n",
       "1          1   -4024.803754         36              среднее             1   \n",
       "2          0   -5623.422610         33              Среднее             1   \n",
       "3          3   -4124.747207         32              среднее             1   \n",
       "4          0  340266.072047         53              среднее             1   \n",
       "5          0    -926.185831         27               высшее             0   \n",
       "6          0   -2879.202052         43               высшее             0   \n",
       "7          0    -152.779569         50              СРЕДНЕЕ             1   \n",
       "8          2   -6929.865299         35               ВЫСШЕЕ             0   \n",
       "9          0   -2188.756445         41              среднее             1   \n",
       "10         2   -4171.483647         36               высшее             0   \n",
       "11         0    -792.701887         40              среднее             1   \n",
       "12         0            NaN         65              среднее             1   \n",
       "13         0   -1846.641941         54  неоконченное высшее             2   \n",
       "14         0   -1844.956182         56               высшее             0   \n",
       "15         1    -972.364419         26              среднее             1   \n",
       "16         0   -1719.934226         35              среднее             1   \n",
       "17         0   -2369.999720         33               высшее             0   \n",
       "18         0  400281.136913         53              среднее             1   \n",
       "19         0  -10038.818549         48              СРЕДНЕЕ             1   \n",
       "\n",
       "       family_status  family_status_id gender income_type  debt  \\\n",
       "0    женат / замужем                 0      F   сотрудник     0   \n",
       "1    женат / замужем                 0      F   сотрудник     0   \n",
       "2    женат / замужем                 0      M   сотрудник     0   \n",
       "3    женат / замужем                 0      M   сотрудник     0   \n",
       "4   гражданский брак                 1      F   пенсионер     0   \n",
       "5   гражданский брак                 1      M   компаньон     0   \n",
       "6    женат / замужем                 0      F   компаньон     0   \n",
       "7    женат / замужем                 0      M   сотрудник     0   \n",
       "8   гражданский брак                 1      F   сотрудник     0   \n",
       "9    женат / замужем                 0      M   сотрудник     0   \n",
       "10   женат / замужем                 0      M   компаньон     0   \n",
       "11   женат / замужем                 0      F   сотрудник     0   \n",
       "12  гражданский брак                 1      M   пенсионер     0   \n",
       "13   женат / замужем                 0      F   сотрудник     0   \n",
       "14  гражданский брак                 1      F   компаньон     1   \n",
       "15   женат / замужем                 0      F   сотрудник     0   \n",
       "16   женат / замужем                 0      F   сотрудник     0   \n",
       "17  гражданский брак                 1      M   сотрудник     0   \n",
       "18    вдовец / вдова                 2      F   пенсионер     0   \n",
       "19         в разводе                 3      F   сотрудник     0   \n",
       "\n",
       "     total_income                                 purpose  \n",
       "0   253875.639453                           покупка жилья  \n",
       "1   112080.014102                 приобретение автомобиля  \n",
       "2   145885.952297                           покупка жилья  \n",
       "3   267628.550329              дополнительное образование  \n",
       "4   158616.077870                         сыграть свадьбу  \n",
       "5   255763.565419                           покупка жилья  \n",
       "6   240525.971920                       операции с жильем  \n",
       "7   135823.934197                             образование  \n",
       "8    95856.832424                   на проведение свадьбы  \n",
       "9   144425.938277                 покупка жилья для семьи  \n",
       "10  113943.491460                    покупка недвижимости  \n",
       "11   77069.234271       покупка коммерческой недвижимости  \n",
       "12            NaN                         сыграть свадьбу  \n",
       "13  130458.228857                 приобретение автомобиля  \n",
       "14  165127.911772              покупка жилой недвижимости  \n",
       "15  116820.904450  строительство собственной недвижимости  \n",
       "16  289202.704229                            недвижимость  \n",
       "17   90410.586745              строительство недвижимости  \n",
       "18   56823.777243      на покупку подержанного автомобиля  \n",
       "19  242831.107982            на покупку своего автомобиля  "
      ]
     },
     "execution_count": 2,
     "metadata": {},
     "output_type": "execute_result"
    }
   ],
   "source": [
    "data.head(20)\n"
   ]
  },
  {
   "cell_type": "markdown",
   "id": "fcbe87fe",
   "metadata": {
    "deletable": false,
    "editable": false,
    "id": "1c12e233"
   },
   "source": [
    "**Задание 3. Выведите основную информацию о датафрейме с помощью метода `info()`.**"
   ]
  },
  {
   "cell_type": "code",
   "execution_count": 3,
   "id": "c2584534",
   "metadata": {
    "deletable": false,
    "id": "2b757bca",
    "outputId": "15376089-8dad-46c9-b520-c05248d43158"
   },
   "outputs": [
    {
     "name": "stdout",
     "output_type": "stream",
     "text": [
      "<class 'pandas.core.frame.DataFrame'>\n",
      "RangeIndex: 21525 entries, 0 to 21524\n",
      "Data columns (total 12 columns):\n",
      " #   Column            Non-Null Count  Dtype  \n",
      "---  ------            --------------  -----  \n",
      " 0   children          21525 non-null  int64  \n",
      " 1   days_employed     19351 non-null  float64\n",
      " 2   dob_years         21525 non-null  int64  \n",
      " 3   education         21525 non-null  object \n",
      " 4   education_id      21525 non-null  int64  \n",
      " 5   family_status     21525 non-null  object \n",
      " 6   family_status_id  21525 non-null  int64  \n",
      " 7   gender            21525 non-null  object \n",
      " 8   income_type       21525 non-null  object \n",
      " 9   debt              21525 non-null  int64  \n",
      " 10  total_income      19351 non-null  float64\n",
      " 11  purpose           21525 non-null  object \n",
      "dtypes: float64(2), int64(5), object(5)\n",
      "memory usage: 2.0+ MB\n"
     ]
    }
   ],
   "source": [
    "data.info()"
   ]
  },
  {
   "cell_type": "markdown",
   "id": "3592b660",
   "metadata": {
    "deletable": false,
    "editable": false,
    "id": "333ec665"
   },
   "source": [
    "## Предобработка данных"
   ]
  },
  {
   "cell_type": "markdown",
   "id": "054cd41f",
   "metadata": {
    "deletable": false,
    "editable": false,
    "id": "02d92d53"
   },
   "source": [
    "### Удаление пропусков"
   ]
  },
  {
   "cell_type": "markdown",
   "id": "e843681c",
   "metadata": {
    "deletable": false,
    "editable": false,
    "id": "cd84967c"
   },
   "source": [
    "**Задание 4. Выведите количество пропущенных значений для каждого столбца. Используйте комбинацию двух методов.**"
   ]
  },
  {
   "cell_type": "code",
   "execution_count": 4,
   "id": "87fee69a",
   "metadata": {
    "deletable": false,
    "id": "7f9b2309",
    "outputId": "81f4d817-781c-465c-ed15-91ce4446810d"
   },
   "outputs": [
    {
     "data": {
      "text/plain": [
       "children               0\n",
       "days_employed       2174\n",
       "dob_years              0\n",
       "education              0\n",
       "education_id           0\n",
       "family_status          0\n",
       "family_status_id       0\n",
       "gender                 0\n",
       "income_type            0\n",
       "debt                   0\n",
       "total_income        2174\n",
       "purpose                0\n",
       "dtype: int64"
      ]
     },
     "execution_count": 4,
     "metadata": {},
     "output_type": "execute_result"
    }
   ],
   "source": [
    "data.isna().sum()"
   ]
  },
  {
   "cell_type": "markdown",
   "id": "9ba772f1",
   "metadata": {
    "deletable": false,
    "editable": false,
    "id": "db86e27b"
   },
   "source": [
    "**Задание 5. В двух столбцах есть пропущенные значения. Один из них — `days_employed`. Пропуски в этом столбце вы обработаете на следующем этапе. Другой столбец с пропущенными значениями — `total_income` — хранит данные о доходах. На сумму дохода сильнее всего влияет тип занятости, поэтому заполнить пропуски в этом столбце нужно медианным значением по каждому типу из столбца `income_type`. Например, у человека с типом занятости `сотрудник` пропуск в столбце `total_income` должен быть заполнен медианным доходом среди всех записей с тем же типом.**"
   ]
  },
  {
   "cell_type": "code",
   "execution_count": 5,
   "id": "eba55d5b",
   "metadata": {
    "deletable": false,
    "id": "42006a93"
   },
   "outputs": [],
   "source": [
    "for t in data['income_type'].unique():\n",
    "    data.loc[(data['income_type'] == t) & (data['total_income'].isna()), 'total_income'] = \\\n",
    "    data.loc[(data['income_type'] == t), 'total_income'].median()"
   ]
  },
  {
   "cell_type": "markdown",
   "id": "53b7f183",
   "metadata": {
    "deletable": false,
    "editable": false,
    "id": "89da5ece"
   },
   "source": [
    "### Обработка аномальных значений"
   ]
  },
  {
   "cell_type": "markdown",
   "id": "38ce7162",
   "metadata": {
    "deletable": false,
    "editable": false,
    "id": "57964554"
   },
   "source": [
    "**Задание 6. В данных могут встречаться артефакты (аномалии) — значения, которые не отражают действительность и появились по какой-то ошибке. таким артефактом будет отрицательное количество дней трудового стажа в столбце `days_employed`. Для реальных данных это нормально. Обработайте значения в этом столбце: замените все отрицательные значения положительными с помощью метода `abs()`.**"
   ]
  },
  {
   "cell_type": "code",
   "execution_count": 6,
   "id": "5b562926",
   "metadata": {
    "deletable": false,
    "id": "f6f055bf"
   },
   "outputs": [],
   "source": [
    "data['days_employed'] = data['days_employed'].abs()"
   ]
  },
  {
   "cell_type": "markdown",
   "id": "f8762516",
   "metadata": {
    "deletable": false,
    "editable": false,
    "id": "6107dd2f"
   },
   "source": [
    "**Задание 7. Для каждого типа занятости выведите медианное значение трудового стажа `days_employed` в днях.**"
   ]
  },
  {
   "cell_type": "code",
   "execution_count": 7,
   "id": "4d5f06a2",
   "metadata": {
    "deletable": false,
    "id": "85a5faf6",
    "outputId": "801ef80e-522b-4668-f34e-565af7432bcf"
   },
   "outputs": [
    {
     "data": {
      "text/plain": [
       "income_type\n",
       "безработный        366413.652744\n",
       "в декрете            3296.759962\n",
       "госслужащий          2689.368353\n",
       "компаньон            1547.382223\n",
       "пенсионер          365213.306266\n",
       "предприниматель       520.848083\n",
       "сотрудник            1574.202821\n",
       "студент               578.751554\n",
       "Name: days_employed, dtype: float64"
      ]
     },
     "execution_count": 7,
     "metadata": {},
     "output_type": "execute_result"
    }
   ],
   "source": [
    "data.groupby('income_type')['days_employed'].agg('median')"
   ]
  },
  {
   "cell_type": "markdown",
   "id": "9aaddecd",
   "metadata": {
    "deletable": false,
    "editable": false,
    "id": "38d1a030"
   },
   "source": [
    "У двух типов (безработные и пенсионеры) получатся аномально большие значения. Исправить такие значения сложно, поэтому оставьте их как есть. Тем более этот столбец не понадобится вам для исследования."
   ]
  },
  {
   "cell_type": "markdown",
   "id": "8b381c44",
   "metadata": {
    "deletable": false,
    "editable": false,
    "id": "d8a9f147"
   },
   "source": [
    "**Задание 8. Выведите перечень уникальных значений столбца `children`.**"
   ]
  },
  {
   "cell_type": "code",
   "execution_count": 8,
   "id": "29adf379",
   "metadata": {
    "deletable": false,
    "id": "ef5056eb",
    "outputId": "6975b15c-7f95-4697-d16d-a0c79b657b03"
   },
   "outputs": [
    {
     "data": {
      "text/plain": [
       "array([ 1,  0,  3,  2, -1,  4, 20,  5], dtype=int64)"
      ]
     },
     "execution_count": 8,
     "metadata": {},
     "output_type": "execute_result"
    }
   ],
   "source": [
    "data['children'].unique()"
   ]
  },
  {
   "cell_type": "markdown",
   "id": "c76befe3",
   "metadata": {
    "deletable": false,
    "editable": false,
    "id": "40b9ebf2"
   },
   "source": [
    "**Задание 9. В столбце `children` есть два аномальных значения. Удалите строки, в которых встречаются такие аномальные значения из датафрейма `data`.**"
   ]
  },
  {
   "cell_type": "code",
   "execution_count": 9,
   "id": "4ce005d1",
   "metadata": {
    "deletable": false,
    "id": "3ff9801d"
   },
   "outputs": [],
   "source": [
    "data = data[(data['children'] != -1) & (data['children'] != 20)]"
   ]
  },
  {
   "cell_type": "markdown",
   "id": "7a563373",
   "metadata": {
    "deletable": false,
    "editable": false,
    "id": "bbc4d0ce"
   },
   "source": [
    "**Задание 10. Ещё раз выведите перечень уникальных значений столбца `children`, чтобы убедиться, что артефакты удалены.**"
   ]
  },
  {
   "cell_type": "code",
   "execution_count": 10,
   "id": "766b3b0c",
   "metadata": {
    "deletable": false,
    "id": "ad4fa8b7",
    "outputId": "b2097101-d49d-44d9-901b-32a65c9463d1"
   },
   "outputs": [
    {
     "data": {
      "text/plain": [
       "array([1, 0, 3, 2, 4, 5], dtype=int64)"
      ]
     },
     "execution_count": 10,
     "metadata": {},
     "output_type": "execute_result"
    }
   ],
   "source": [
    "data['children'].unique()"
   ]
  },
  {
   "cell_type": "markdown",
   "id": "337815f8",
   "metadata": {
    "deletable": false,
    "editable": false,
    "id": "75440b63"
   },
   "source": [
    "### Удаление пропусков (продолжение)"
   ]
  },
  {
   "cell_type": "markdown",
   "id": "5f4cf8db",
   "metadata": {
    "deletable": false,
    "editable": false,
    "id": "f4ea573f"
   },
   "source": [
    "**Задание 11. Заполните пропуски в столбце `days_employed` медианными значениями по каждого типа занятости `income_type`.**"
   ]
  },
  {
   "cell_type": "code",
   "execution_count": 11,
   "id": "44673d38",
   "metadata": {
    "deletable": false,
    "id": "af6b1a7e"
   },
   "outputs": [],
   "source": [
    "for t in data['income_type'].unique():\n",
    "    data.loc[(data['income_type'] == t) & (data['days_employed'].isna()), 'days_employed'] = \\\n",
    "    data.loc[(data['income_type'] == t), 'days_employed'].median()"
   ]
  },
  {
   "cell_type": "markdown",
   "id": "56854475",
   "metadata": {
    "deletable": false,
    "editable": false,
    "id": "2753f40d"
   },
   "source": [
    "**Задание 12. Убедитесь, что все пропуски заполнены. Проверьте себя и ещё раз выведите количество пропущенных значений для каждого столбца с помощью двух методов.**"
   ]
  },
  {
   "cell_type": "code",
   "execution_count": 12,
   "id": "e9f05537",
   "metadata": {
    "deletable": false,
    "id": "55f78bc2",
    "outputId": "8da1e4e1-358e-4e87-98c9-f261bce0a7b2"
   },
   "outputs": [
    {
     "data": {
      "text/plain": [
       "children            0\n",
       "days_employed       0\n",
       "dob_years           0\n",
       "education           0\n",
       "education_id        0\n",
       "family_status       0\n",
       "family_status_id    0\n",
       "gender              0\n",
       "income_type         0\n",
       "debt                0\n",
       "total_income        0\n",
       "purpose             0\n",
       "dtype: int64"
      ]
     },
     "execution_count": 12,
     "metadata": {},
     "output_type": "execute_result"
    }
   ],
   "source": [
    "data.isna().sum()"
   ]
  },
  {
   "cell_type": "markdown",
   "id": "2dcf91f5",
   "metadata": {
    "deletable": false,
    "editable": false,
    "id": "ddc81e43"
   },
   "source": [
    "### Изменение типов данных"
   ]
  },
  {
   "cell_type": "markdown",
   "id": "d41fe09e",
   "metadata": {
    "deletable": false,
    "editable": false,
    "id": "42d19d24"
   },
   "source": [
    "**Задание 13. Замените вещественный тип данных в столбце `total_income` на целочисленный с помощью метода `astype()`.**"
   ]
  },
  {
   "cell_type": "code",
   "execution_count": 13,
   "id": "9beb52f0",
   "metadata": {
    "deletable": false,
    "id": "920b65ad"
   },
   "outputs": [],
   "source": [
    "data['total_income'] = data['total_income'].astype(int)"
   ]
  },
  {
   "cell_type": "markdown",
   "id": "c74bb224",
   "metadata": {
    "deletable": false,
    "editable": false,
    "id": "80c420ba"
   },
   "source": [
    "### Обработка дубликатов"
   ]
  },
  {
   "cell_type": "markdown",
   "id": "d3e72e13",
   "metadata": {
    "deletable": false,
    "editable": false
   },
   "source": [
    "**Задание 14. Обработайте неявные дубликаты в столбце `education`. В этом столбце есть одни и те же значения, но записанные по-разному: с использованием заглавных и строчных букв. Приведите их к нижнему регистру. Проверьте остальные столбцы.**"
   ]
  },
  {
   "cell_type": "code",
   "execution_count": 14,
   "id": "aca31b4b",
   "metadata": {
    "deletable": false
   },
   "outputs": [],
   "source": [
    "data['education'] = data['education'].str.lower()"
   ]
  },
  {
   "cell_type": "markdown",
   "id": "747b673e",
   "metadata": {
    "deletable": false,
    "editable": false,
    "id": "dc587695"
   },
   "source": [
    "**Задание 15. Выведите на экран количество строк-дубликатов в данных. Если такие строки присутствуют, удалите их.**"
   ]
  },
  {
   "cell_type": "code",
   "execution_count": 15,
   "id": "19670058",
   "metadata": {
    "deletable": false,
    "id": "3ee445e4",
    "outputId": "9684deba-1934-42d1-99e1-cda61740f822"
   },
   "outputs": [
    {
     "data": {
      "text/plain": [
       "71"
      ]
     },
     "execution_count": 15,
     "metadata": {},
     "output_type": "execute_result"
    }
   ],
   "source": [
    "data.duplicated().sum()"
   ]
  },
  {
   "cell_type": "code",
   "execution_count": 16,
   "id": "d33c3234",
   "metadata": {
    "deletable": false,
    "id": "8575fe05"
   },
   "outputs": [],
   "source": [
    "data = data.drop_duplicates()"
   ]
  },
  {
   "cell_type": "markdown",
   "id": "a8bc2e0a",
   "metadata": {
    "deletable": false,
    "editable": false,
    "id": "9904cf55"
   },
   "source": [
    "### Категоризация данных"
   ]
  },
  {
   "cell_type": "markdown",
   "id": "3c451340",
   "metadata": {
    "deletable": false,
    "editable": false,
    "id": "72fcc8a2"
   },
   "source": [
    "**Задание 16. На основании диапазонов, указанных ниже, создайте в датафрейме `data` столбец `total_income_category` с категориями:**\n",
    "\n",
    "- 0–30000 — `'E'`;\n",
    "- 30001–50000 — `'D'`;\n",
    "- 50001–200000 — `'C'`;\n",
    "- 200001–1000000 — `'B'`;\n",
    "- 1000001 и выше — `'A'`.\n",
    "\n",
    "\n",
    "**Например, кредитополучателю с доходом 25000 нужно назначить категорию `'E'`, а клиенту, получающему 235000, — `'B'`. Используйте собственную функцию с именем `categorize_income()` и метод `apply()`.**"
   ]
  },
  {
   "cell_type": "code",
   "execution_count": 17,
   "id": "9d06af19",
   "metadata": {
    "deletable": false,
    "id": "e1771346"
   },
   "outputs": [],
   "source": [
    "def categorize_income(income):\n",
    "    try:\n",
    "        if 0 <= income <= 30000:\n",
    "            return 'E'\n",
    "        elif 30001 <= income <= 50000:\n",
    "            return 'D'\n",
    "        elif 50001 <= income <= 200000:\n",
    "            return 'C'\n",
    "        elif 200001 <= income <= 1000000:\n",
    "            return 'B'\n",
    "        elif income >= 1000001:\n",
    "            return 'A'\n",
    "    except:\n",
    "        pass"
   ]
  },
  {
   "cell_type": "code",
   "execution_count": 18,
   "id": "1082e7e3",
   "metadata": {
    "deletable": false,
    "id": "d5f3586d"
   },
   "outputs": [],
   "source": [
    "data['total_income_category'] = data['total_income'].apply(categorize_income)"
   ]
  },
  {
   "cell_type": "markdown",
   "id": "6c6916d0",
   "metadata": {
    "deletable": false,
    "editable": false,
    "id": "dde49b5c"
   },
   "source": [
    "**Задание 17. Выведите на экран перечень уникальных целей взятия кредита из столбца `purpose`.**"
   ]
  },
  {
   "cell_type": "code",
   "execution_count": 19,
   "id": "d53339b7",
   "metadata": {
    "deletable": false,
    "id": "f67ce9b3",
    "outputId": "673c12d9-7d7e-4ae0-9812-c622c89dd244"
   },
   "outputs": [
    {
     "data": {
      "text/plain": [
       "array(['покупка жилья', 'приобретение автомобиля',\n",
       "       'дополнительное образование', 'сыграть свадьбу',\n",
       "       'операции с жильем', 'образование', 'на проведение свадьбы',\n",
       "       'покупка жилья для семьи', 'покупка недвижимости',\n",
       "       'покупка коммерческой недвижимости', 'покупка жилой недвижимости',\n",
       "       'строительство собственной недвижимости', 'недвижимость',\n",
       "       'строительство недвижимости', 'на покупку подержанного автомобиля',\n",
       "       'на покупку своего автомобиля',\n",
       "       'операции с коммерческой недвижимостью',\n",
       "       'строительство жилой недвижимости', 'жилье',\n",
       "       'операции со своей недвижимостью', 'автомобили',\n",
       "       'заняться образованием', 'сделка с подержанным автомобилем',\n",
       "       'получение образования', 'автомобиль', 'свадьба',\n",
       "       'получение дополнительного образования', 'покупка своего жилья',\n",
       "       'операции с недвижимостью', 'получение высшего образования',\n",
       "       'свой автомобиль', 'сделка с автомобилем',\n",
       "       'профильное образование', 'высшее образование',\n",
       "       'покупка жилья для сдачи', 'на покупку автомобиля', 'ремонт жилью',\n",
       "       'заняться высшим образованием'], dtype=object)"
      ]
     },
     "execution_count": 19,
     "metadata": {},
     "output_type": "execute_result"
    }
   ],
   "source": [
    "data['purpose'].unique()"
   ]
  },
  {
   "cell_type": "markdown",
   "id": "ea3fafa2",
   "metadata": {
    "deletable": false,
    "editable": false,
    "id": "85d0aef0"
   },
   "source": [
    "**Задание 18. Создайте функцию, которая на основании данных из столбца `purpose` сформирует новый столбец `purpose_category`, в который войдут следующие категории:**\n",
    "\n",
    "- `'операции с автомобилем'`,\n",
    "- `'операции с недвижимостью'`,\n",
    "- `'проведение свадьбы'`,\n",
    "- `'получение образования'`.\n",
    "\n",
    "**Например, если в столбце `purpose` находится подстрока `'на покупку автомобиля'`, то в столбце `purpose_category` должна появиться строка `'операции с автомобилем'`.**\n",
    "\n",
    "**Используйте собственную функцию с именем `categorize_purpose()` и метод `apply()`. Изучите данные в столбце `purpose` и определите, какие подстроки помогут вам правильно определить категорию.**"
   ]
  },
  {
   "cell_type": "code",
   "execution_count": 20,
   "id": "8a7f52fc",
   "metadata": {
    "deletable": false,
    "id": "e149fab4"
   },
   "outputs": [],
   "source": [
    "def categorize_purpose(row):\n",
    "    try:\n",
    "        if 'автом' in row:\n",
    "            return 'операции с автомобилем'\n",
    "        elif 'жил' in row or 'недвиж' in row:\n",
    "            return 'операции с недвижимостью'\n",
    "        elif 'свад' in row:\n",
    "            return 'проведение свадьбы'\n",
    "        elif 'образов' in row:\n",
    "            return 'получение образования'\n",
    "    except:\n",
    "        return 'нет категории'"
   ]
  },
  {
   "cell_type": "code",
   "execution_count": 21,
   "id": "f4bbe066",
   "metadata": {
    "deletable": false,
    "id": "bf36e69b"
   },
   "outputs": [],
   "source": [
    "data['purpose_category'] = data['purpose'].apply(categorize_purpose)\n"
   ]
  },
  {
   "cell_type": "markdown",
   "id": "36df1970",
   "metadata": {
    "deletable": false,
    "editable": false,
    "id": "09b242bf"
   },
   "source": [
    "### Шаг 3. Исследуйте данные и ответьте на вопросы"
   ]
  },
  {
   "cell_type": "markdown",
   "id": "5af4bd32",
   "metadata": {
    "deletable": false,
    "editable": false,
    "id": "c5d66278"
   },
   "source": [
    "#### 3.1 Есть ли зависимость между количеством детей и возвратом кредита в срок?"
   ]
  },
  {
   "cell_type": "markdown",
   "id": "954f3e7f",
   "metadata": {},
   "source": [
    "\n"
   ]
  },
  {
   "cell_type": "code",
   "execution_count": 22,
   "id": "c0c42b84",
   "metadata": {
    "deletable": false,
    "id": "2cacfc4a"
   },
   "outputs": [
    {
     "data": {
      "text/html": [
       "<div>\n",
       "<style scoped>\n",
       "    .dataframe tbody tr th:only-of-type {\n",
       "        vertical-align: middle;\n",
       "    }\n",
       "\n",
       "    .dataframe tbody tr th {\n",
       "        vertical-align: top;\n",
       "    }\n",
       "\n",
       "    .dataframe thead th {\n",
       "        text-align: right;\n",
       "    }\n",
       "</style>\n",
       "<table border=\"1\" class=\"dataframe\">\n",
       "  <thead>\n",
       "    <tr style=\"text-align: right;\">\n",
       "      <th></th>\n",
       "      <th>Количество заемщиков</th>\n",
       "      <th>Процент просрочек</th>\n",
       "      <th>Количество просрочек</th>\n",
       "    </tr>\n",
       "    <tr>\n",
       "      <th>Число детей</th>\n",
       "      <th></th>\n",
       "      <th></th>\n",
       "      <th></th>\n",
       "    </tr>\n",
       "  </thead>\n",
       "  <tbody>\n",
       "    <tr>\n",
       "      <th>0</th>\n",
       "      <td>14091.0</td>\n",
       "      <td>7.54%</td>\n",
       "      <td>1063.0</td>\n",
       "    </tr>\n",
       "    <tr>\n",
       "      <th>1</th>\n",
       "      <td>4808.0</td>\n",
       "      <td>9.23%</td>\n",
       "      <td>444.0</td>\n",
       "    </tr>\n",
       "    <tr>\n",
       "      <th>2</th>\n",
       "      <td>2052.0</td>\n",
       "      <td>9.45%</td>\n",
       "      <td>194.0</td>\n",
       "    </tr>\n",
       "    <tr>\n",
       "      <th>3</th>\n",
       "      <td>330.0</td>\n",
       "      <td>8.18%</td>\n",
       "      <td>27.0</td>\n",
       "    </tr>\n",
       "    <tr>\n",
       "      <th>4</th>\n",
       "      <td>41.0</td>\n",
       "      <td>9.76%</td>\n",
       "      <td>4.0</td>\n",
       "    </tr>\n",
       "    <tr>\n",
       "      <th>5</th>\n",
       "      <td>9.0</td>\n",
       "      <td>0.00%</td>\n",
       "      <td>0.0</td>\n",
       "    </tr>\n",
       "  </tbody>\n",
       "</table>\n",
       "</div>"
      ],
      "text/plain": [
       "             Количество заемщиков Процент просрочек  Количество просрочек\n",
       "Число детей                                                              \n",
       "0                         14091.0             7.54%                1063.0\n",
       "1                          4808.0             9.23%                 444.0\n",
       "2                          2052.0             9.45%                 194.0\n",
       "3                           330.0             8.18%                  27.0\n",
       "4                            41.0             9.76%                   4.0\n",
       "5                             9.0             0.00%                   0.0"
      ]
     },
     "execution_count": 22,
     "metadata": {},
     "output_type": "execute_result"
    }
   ],
   "source": [
    "# Создадим сводную таблицу, где:\n",
    "# index — столбцы, по которым группируют данные (число детей)\n",
    "# values — значения, по которым мы хотим увидеть сводную таблицу (0 - просрочек нет, 1 - просрочка есть, \n",
    "# количество записей = количество выданных кредитов)\n",
    "# aggfunc — функция, применяемая к значениям() \n",
    "# В колонке 'debt' два значения: 0 - нет просрочки и 1 - есть просрочка. \n",
    "# 'count' — выдаст суммарное количество заемщиков, 'sum' — суммарное количество просрочек, 'mean' — отношение предыдущих двух функций\n",
    "\n",
    "data_pivot_children = data.pivot_table(index=['children'], values='debt', aggfunc=('count','mean','sum'))\n",
    "\n",
    "# перевод в проценты отношение просрочек\n",
    "def ratio_to_percent(ratio):\n",
    "    return '{0:.2%}'.format(ratio)\n",
    "\n",
    "data_pivot_children['mean'] = data_pivot_children['mean'].apply(ratio_to_percent)\n",
    "\n",
    "# убрал длинный код в одну строку\n",
    "\n",
    "data_pivot_children.rename(columns={'count':'Количество заемщиков','mean':'Процент просрочек', 'sum':'Количество просрочек'})\\\n",
    ".rename_axis('Число детей')\n",
    "\n"
   ]
  },
  {
   "cell_type": "markdown",
   "id": "1e143fcd",
   "metadata": {
    "deletable": false,
    "id": "3a6b99ec"
   },
   "source": [
    "**Вывод:** \n",
    "\n",
    "Как либо судить о зависимости между семьями с тремя и более детьми и возвратом кредита в срок не представляется возможным из-за малого числа (менее 2% от общего количества заемщиков) заемщиков из этой группы.\n",
    "\n",
    "Бездетные семьи оказались самыми благонадежными заемщиками. Скорее всего, это связано с тем, что у таких семей ежемесячные затраты меньше, чем у семей с детьми.\n",
    "\n",
    "Семьи с 1-2 детьми допускали больше всего просрочек. У таких семей затрат намного больше, чем у бездетных."
   ]
  },
  {
   "cell_type": "code",
   "execution_count": 23,
   "id": "ee59a7c8",
   "metadata": {
    "scrolled": false
   },
   "outputs": [
    {
     "data": {
      "text/html": [
       "<style  type=\"text/css\" >\n",
       "</style><table id=\"T_fc309_\" ><thead>    <tr>        <th class=\"blank level0\" ></th>        <th class=\"col_heading level0 col0\" >count</th>        <th class=\"col_heading level0 col1\" >sum</th>        <th class=\"col_heading level0 col2\" >mean</th>    </tr>    <tr>        <th class=\"blank level1\" ></th>        <th class=\"col_heading level1 col0\" >debt</th>        <th class=\"col_heading level1 col1\" >debt</th>        <th class=\"col_heading level1 col2\" >debt</th>    </tr>    <tr>        <th class=\"index_name level0\" >children</th>        <th class=\"blank\" ></th>        <th class=\"blank\" ></th>        <th class=\"blank\" ></th>    </tr></thead><tbody>\n",
       "                <tr>\n",
       "                        <th id=\"T_fc309_level0_row0\" class=\"row_heading level0 row0\" >4</th>\n",
       "                        <td id=\"T_fc309_row0_col0\" class=\"data row0 col0\" >41</td>\n",
       "                        <td id=\"T_fc309_row0_col1\" class=\"data row0 col1\" >4</td>\n",
       "                        <td id=\"T_fc309_row0_col2\" class=\"data row0 col2\" >9.76%</td>\n",
       "            </tr>\n",
       "            <tr>\n",
       "                        <th id=\"T_fc309_level0_row1\" class=\"row_heading level0 row1\" >2</th>\n",
       "                        <td id=\"T_fc309_row1_col0\" class=\"data row1 col0\" >2052</td>\n",
       "                        <td id=\"T_fc309_row1_col1\" class=\"data row1 col1\" >194</td>\n",
       "                        <td id=\"T_fc309_row1_col2\" class=\"data row1 col2\" >9.45%</td>\n",
       "            </tr>\n",
       "            <tr>\n",
       "                        <th id=\"T_fc309_level0_row2\" class=\"row_heading level0 row2\" >1</th>\n",
       "                        <td id=\"T_fc309_row2_col0\" class=\"data row2 col0\" >4808</td>\n",
       "                        <td id=\"T_fc309_row2_col1\" class=\"data row2 col1\" >444</td>\n",
       "                        <td id=\"T_fc309_row2_col2\" class=\"data row2 col2\" >9.23%</td>\n",
       "            </tr>\n",
       "            <tr>\n",
       "                        <th id=\"T_fc309_level0_row3\" class=\"row_heading level0 row3\" >3</th>\n",
       "                        <td id=\"T_fc309_row3_col0\" class=\"data row3 col0\" >330</td>\n",
       "                        <td id=\"T_fc309_row3_col1\" class=\"data row3 col1\" >27</td>\n",
       "                        <td id=\"T_fc309_row3_col2\" class=\"data row3 col2\" >8.18%</td>\n",
       "            </tr>\n",
       "            <tr>\n",
       "                        <th id=\"T_fc309_level0_row4\" class=\"row_heading level0 row4\" >0</th>\n",
       "                        <td id=\"T_fc309_row4_col0\" class=\"data row4 col0\" >14091</td>\n",
       "                        <td id=\"T_fc309_row4_col1\" class=\"data row4 col1\" >1063</td>\n",
       "                        <td id=\"T_fc309_row4_col2\" class=\"data row4 col2\" >7.54%</td>\n",
       "            </tr>\n",
       "            <tr>\n",
       "                        <th id=\"T_fc309_level0_row5\" class=\"row_heading level0 row5\" >5</th>\n",
       "                        <td id=\"T_fc309_row5_col0\" class=\"data row5 col0\" >9</td>\n",
       "                        <td id=\"T_fc309_row5_col1\" class=\"data row5 col1\" >0</td>\n",
       "                        <td id=\"T_fc309_row5_col2\" class=\"data row5 col2\" >0.00%</td>\n",
       "            </tr>\n",
       "    </tbody></table>"
      ],
      "text/plain": [
       "<pandas.io.formats.style.Styler at 0x228fd252190>"
      ]
     },
     "execution_count": 23,
     "metadata": {},
     "output_type": "execute_result"
    }
   ],
   "source": [
    "data.pivot_table(index = 'children', values = 'debt', aggfunc = ['count', 'sum', 'mean'])\\\n",
    "    .sort_values(by = ('mean', 'debt'), ascending = False)\\\n",
    "    .style.format({('mean', 'debt') : '{:.2%}'})"
   ]
  },
  {
   "cell_type": "markdown",
   "id": "87d1861a",
   "metadata": {
    "deletable": false,
    "editable": false,
    "id": "97be82ca"
   },
   "source": [
    "#### 3.2 Есть ли зависимость между семейным положением и возвратом кредита в срок?"
   ]
  },
  {
   "cell_type": "code",
   "execution_count": 24,
   "id": "6f9f6ec3",
   "metadata": {
    "deletable": false,
    "id": "dc3f7ee8"
   },
   "outputs": [
    {
     "data": {
      "text/html": [
       "<div>\n",
       "<style scoped>\n",
       "    .dataframe tbody tr th:only-of-type {\n",
       "        vertical-align: middle;\n",
       "    }\n",
       "\n",
       "    .dataframe tbody tr th {\n",
       "        vertical-align: top;\n",
       "    }\n",
       "\n",
       "    .dataframe thead th {\n",
       "        text-align: right;\n",
       "    }\n",
       "</style>\n",
       "<table border=\"1\" class=\"dataframe\">\n",
       "  <thead>\n",
       "    <tr style=\"text-align: right;\">\n",
       "      <th></th>\n",
       "      <th>Количество заемщиков</th>\n",
       "      <th>Процент просрочек</th>\n",
       "      <th>Количество просрочек</th>\n",
       "    </tr>\n",
       "    <tr>\n",
       "      <th>Семейное положение</th>\n",
       "      <th></th>\n",
       "      <th></th>\n",
       "      <th></th>\n",
       "    </tr>\n",
       "  </thead>\n",
       "  <tbody>\n",
       "    <tr>\n",
       "      <th>Не женат / не замужем</th>\n",
       "      <td>2796.0</td>\n",
       "      <td>9.76%</td>\n",
       "      <td>273.0</td>\n",
       "    </tr>\n",
       "    <tr>\n",
       "      <th>гражданский брак</th>\n",
       "      <td>4134.0</td>\n",
       "      <td>9.31%</td>\n",
       "      <td>385.0</td>\n",
       "    </tr>\n",
       "    <tr>\n",
       "      <th>женат / замужем</th>\n",
       "      <td>12261.0</td>\n",
       "      <td>7.56%</td>\n",
       "      <td>927.0</td>\n",
       "    </tr>\n",
       "    <tr>\n",
       "      <th>в разводе</th>\n",
       "      <td>1189.0</td>\n",
       "      <td>7.06%</td>\n",
       "      <td>84.0</td>\n",
       "    </tr>\n",
       "    <tr>\n",
       "      <th>вдовец / вдова</th>\n",
       "      <td>951.0</td>\n",
       "      <td>6.62%</td>\n",
       "      <td>63.0</td>\n",
       "    </tr>\n",
       "  </tbody>\n",
       "</table>\n",
       "</div>"
      ],
      "text/plain": [
       "                       Количество заемщиков Процент просрочек  \\\n",
       "Семейное положение                                              \n",
       "Не женат / не замужем                2796.0             9.76%   \n",
       "гражданский брак                     4134.0             9.31%   \n",
       "женат / замужем                     12261.0             7.56%   \n",
       "в разводе                            1189.0             7.06%   \n",
       "вдовец / вдова                        951.0             6.62%   \n",
       "\n",
       "                       Количество просрочек  \n",
       "Семейное положение                           \n",
       "Не женат / не замужем                 273.0  \n",
       "гражданский брак                      385.0  \n",
       "женат / замужем                       927.0  \n",
       "в разводе                              84.0  \n",
       "вдовец / вдова                         63.0  "
      ]
     },
     "execution_count": 24,
     "metadata": {},
     "output_type": "execute_result"
    }
   ],
   "source": [
    "# Создадим сводную таблицу аналогично предыдущей, сперва проверим уникальные значения\n",
    "data['family_status'].unique()\n",
    "\n",
    "data_pivot_family_status = data.pivot_table(index=['family_status'], values = 'debt', aggfunc=('count','sum','mean'))\n",
    "# Применим ранее написанную функцию для перевода в процентные значения\n",
    "data_pivot_family_status['mean'] = data_pivot_family_status['mean'].apply(ratio_to_percent)\n",
    "# Отсортируем процент просрочек по убыванию\n",
    "data_pivot_family_status.sort_values(by=['mean'],ascending=False,inplace=True) \n",
    "\n",
    "data_pivot_family_status.rename(columns={'count':'Количество заемщиков',\n",
    "                                         'mean':'Процент просрочек',\n",
    "                                         'sum':'Количество просрочек'}).rename_axis('Семейное положение')"
   ]
  },
  {
   "cell_type": "markdown",
   "id": "12be4e81",
   "metadata": {
    "deletable": false,
    "id": "1cef7837"
   },
   "source": [
    "**Вывод:** \n",
    "\n",
    "Больше всего просрочек у заемщиков с незарегистрированными отношениями. Возможная причина, что оформленные отношения накладывают ответственность и кредит берется более осознанно."
   ]
  },
  {
   "cell_type": "markdown",
   "id": "2472ba8c",
   "metadata": {
    "deletable": false,
    "editable": false,
    "id": "1e8b2fca"
   },
   "source": [
    "#### 3.3 Есть ли зависимость между уровнем дохода и возвратом кредита в срок?"
   ]
  },
  {
   "cell_type": "code",
   "execution_count": 25,
   "id": "8d4b1a8a",
   "metadata": {
    "deletable": false,
    "id": "cd7e3720"
   },
   "outputs": [
    {
     "data": {
      "text/html": [
       "<div>\n",
       "<style scoped>\n",
       "    .dataframe tbody tr th:only-of-type {\n",
       "        vertical-align: middle;\n",
       "    }\n",
       "\n",
       "    .dataframe tbody tr th {\n",
       "        vertical-align: top;\n",
       "    }\n",
       "\n",
       "    .dataframe thead th {\n",
       "        text-align: right;\n",
       "    }\n",
       "</style>\n",
       "<table border=\"1\" class=\"dataframe\">\n",
       "  <thead>\n",
       "    <tr style=\"text-align: right;\">\n",
       "      <th></th>\n",
       "      <th>Количество заемщиков</th>\n",
       "      <th>Процент просрочек</th>\n",
       "      <th>Количество просрочек</th>\n",
       "    </tr>\n",
       "    <tr>\n",
       "      <th>Уровень дохода</th>\n",
       "      <th></th>\n",
       "      <th></th>\n",
       "      <th></th>\n",
       "    </tr>\n",
       "  </thead>\n",
       "  <tbody>\n",
       "    <tr>\n",
       "      <th>E</th>\n",
       "      <td>22.0</td>\n",
       "      <td>9.09%</td>\n",
       "      <td>2.0</td>\n",
       "    </tr>\n",
       "    <tr>\n",
       "      <th>C</th>\n",
       "      <td>15921.0</td>\n",
       "      <td>8.50%</td>\n",
       "      <td>1353.0</td>\n",
       "    </tr>\n",
       "    <tr>\n",
       "      <th>A</th>\n",
       "      <td>25.0</td>\n",
       "      <td>8.00%</td>\n",
       "      <td>2.0</td>\n",
       "    </tr>\n",
       "    <tr>\n",
       "      <th>B</th>\n",
       "      <td>5014.0</td>\n",
       "      <td>7.06%</td>\n",
       "      <td>354.0</td>\n",
       "    </tr>\n",
       "    <tr>\n",
       "      <th>D</th>\n",
       "      <td>349.0</td>\n",
       "      <td>6.02%</td>\n",
       "      <td>21.0</td>\n",
       "    </tr>\n",
       "  </tbody>\n",
       "</table>\n",
       "</div>"
      ],
      "text/plain": [
       "                Количество заемщиков Процент просрочек  Количество просрочек\n",
       "Уровень дохода                                                              \n",
       "E                               22.0             9.09%                   2.0\n",
       "C                            15921.0             8.50%                1353.0\n",
       "A                               25.0             8.00%                   2.0\n",
       "B                             5014.0             7.06%                 354.0\n",
       "D                              349.0             6.02%                  21.0"
      ]
     },
     "execution_count": 25,
     "metadata": {},
     "output_type": "execute_result"
    }
   ],
   "source": [
    "# Построим сводную таблицу по категориям дохода\n",
    "# A - Очень высокий уровень дохода (более 1.000.001)\n",
    "# B - Высокий уровень дохода (200.001 - 1.000.000)\n",
    "# C - Средний уровень дохода (50001 - 200.000)\n",
    "# D - Низкий уровень уровень дохода (30001 - 50000)\n",
    "# Е - Очень низкий уровень дохода (менее 30000)\n",
    "\n",
    "data_pivot_total_income_category = data.pivot_table(index='total_income_category',values='debt',aggfunc=('count','mean','sum'))\n",
    "# Перевод в проценты\n",
    "data_pivot_total_income_category['mean'] = data_pivot_total_income_category['mean'].apply(ratio_to_percent)\n",
    "# Сортировка по процентам просрочки\n",
    "data_pivot_total_income_category.sort_values(by='mean', ascending=False, inplace=True)\n",
    "\n",
    "data_pivot_total_income_category.rename(columns={'count':'Количество заемщиков',\n",
    "                                                 'mean':'Процент просрочек',\n",
    "                                                 'sum':'Количество просрочек'}).rename_axis('Уровень дохода')"
   ]
  },
  {
   "cell_type": "markdown",
   "id": "45ad75c0",
   "metadata": {
    "deletable": false,
    "id": "e8593def"
   },
   "source": [
    "**Вывод:** \n",
    "\n",
    "В категориях  `A`, `D`, `E`  малое количество заемщиков (суммарно менее 2% от общего числа), поэтому делать выводы для этих групп не несет в себе никакого смысла.\n",
    "\n",
    "Заемщики со средним уровнем дохода больше всего допускают просрочек по выплате и берут кредиты в три раза больше, чем заемщики с высоким уровнем дохода. Чаще всего у категории 'C' не хватает денежных средств для обеспечения своих потребностей."
   ]
  },
  {
   "cell_type": "markdown",
   "id": "d7d2d722",
   "metadata": {
    "deletable": false,
    "editable": false,
    "id": "99ecbd1f"
   },
   "source": [
    "#### 3.4 Как разные цели кредита влияют на его возврат в срок?"
   ]
  },
  {
   "cell_type": "code",
   "execution_count": 26,
   "id": "cfac6572",
   "metadata": {
    "deletable": false,
    "id": "2b687290"
   },
   "outputs": [
    {
     "data": {
      "text/html": [
       "<div>\n",
       "<style scoped>\n",
       "    .dataframe tbody tr th:only-of-type {\n",
       "        vertical-align: middle;\n",
       "    }\n",
       "\n",
       "    .dataframe tbody tr th {\n",
       "        vertical-align: top;\n",
       "    }\n",
       "\n",
       "    .dataframe thead th {\n",
       "        text-align: right;\n",
       "    }\n",
       "</style>\n",
       "<table border=\"1\" class=\"dataframe\">\n",
       "  <thead>\n",
       "    <tr style=\"text-align: right;\">\n",
       "      <th></th>\n",
       "      <th>Количество заемщиков</th>\n",
       "      <th>Процент просрочек</th>\n",
       "      <th>Количество просрочек</th>\n",
       "    </tr>\n",
       "    <tr>\n",
       "      <th>Цель кредита</th>\n",
       "      <th></th>\n",
       "      <th></th>\n",
       "      <th></th>\n",
       "    </tr>\n",
       "  </thead>\n",
       "  <tbody>\n",
       "    <tr>\n",
       "      <th>операции с автомобилем</th>\n",
       "      <td>4279.0</td>\n",
       "      <td>9.35%</td>\n",
       "      <td>400.0</td>\n",
       "    </tr>\n",
       "    <tr>\n",
       "      <th>получение образования</th>\n",
       "      <td>3988.0</td>\n",
       "      <td>9.25%</td>\n",
       "      <td>369.0</td>\n",
       "    </tr>\n",
       "    <tr>\n",
       "      <th>проведение свадьбы</th>\n",
       "      <td>2313.0</td>\n",
       "      <td>7.91%</td>\n",
       "      <td>183.0</td>\n",
       "    </tr>\n",
       "    <tr>\n",
       "      <th>операции с недвижимостью</th>\n",
       "      <td>10751.0</td>\n",
       "      <td>7.26%</td>\n",
       "      <td>780.0</td>\n",
       "    </tr>\n",
       "  </tbody>\n",
       "</table>\n",
       "</div>"
      ],
      "text/plain": [
       "                          Количество заемщиков Процент просрочек  \\\n",
       "Цель кредита                                                       \n",
       "операции с автомобилем                  4279.0             9.35%   \n",
       "получение образования                   3988.0             9.25%   \n",
       "проведение свадьбы                      2313.0             7.91%   \n",
       "операции с недвижимостью               10751.0             7.26%   \n",
       "\n",
       "                          Количество просрочек  \n",
       "Цель кредита                                    \n",
       "операции с автомобилем                   400.0  \n",
       "получение образования                    369.0  \n",
       "проведение свадьбы                       183.0  \n",
       "операции с недвижимостью                 780.0  "
      ]
     },
     "execution_count": 26,
     "metadata": {},
     "output_type": "execute_result"
    }
   ],
   "source": [
    "# Аналогично создадим сводную таблицу по ранее сортированным целям кредита\n",
    "data_pivot_purpose_category = data.pivot_table(index='purpose_category', values='debt', aggfunc=('count','sum','mean'))\n",
    "# Перевод в проценты\n",
    "data_pivot_purpose_category['mean'] = data_pivot_purpose_category['mean'].apply(ratio_to_percent)\n",
    "\n",
    "# Сортировка по процентам просрочки\n",
    "data_pivot_purpose_category.sort_values(by='mean', ascending=False, inplace=True)\n",
    "\n",
    "data_pivot_purpose_category.rename(columns={'count':'Количество заемщиков',\n",
    "                                            'mean':'Процент просрочек',\n",
    "                                            'sum':'Количество просрочек'}).rename_axis('Цель кредита')"
   ]
  },
  {
   "cell_type": "markdown",
   "id": "6450f440",
   "metadata": {
    "deletable": false,
    "id": "b4bb2ce6"
   },
   "source": [
    "**Вывод:** \n",
    "\n",
    "Группа риска - операции с автомобилем и получение образования. Скорее всего здесь влияет возраст заемщика. Молодой человек с низким уровнем дохода не способен погасить в срок кредит для получения образования. Так же с целью приобретения и получения образования могут обращаться семьи с 1-2 детьми, у них больше всего просрочек. Таким семьям необходим автомобиль, а так же образование для детей. Возможно стоит проанализировать влияние возраста заемщика.\n",
    "\n",
    "Лучше всего показывают себя клиенты, которые взяли кредит для операций с недвижимостью. Скорее всего причина в размере штрафа, который придется выплатить в случае просрочки по платежу."
   ]
  },
  {
   "cell_type": "markdown",
   "id": "9b4ce514",
   "metadata": {
    "deletable": false,
    "editable": false,
    "id": "09c3ac4c"
   },
   "source": [
    "#### 3.5 Приведите возможные причины появления пропусков в исходных данных."
   ]
  },
  {
   "cell_type": "markdown",
   "id": "279c80ff",
   "metadata": {
    "deletable": false,
    "id": "9da2ceda"
   },
   "source": [
    "*Ответ:*\n",
    "\n",
    "В общем случае пропуски в таблицах могут возникать вследствие технических причин или ошибок человеческого фактора. К примеру, пустые значения можно объяснить отказом респондентов отвечать на определенные вопросы, неправильном вводом данных, ошибкой во время загрузки данных, ошибки в кодировке и т.д.\n",
    "\n",
    "В данном случае в колонках `days_employed` и `total_income` было одинаковое количество пропусков в одних и тех же строках. Многовероятно, что у клиентов с пропусками нет официального документа подтверждающего их трудоустройство."
   ]
  },
  {
   "cell_type": "markdown",
   "id": "04dd6d85",
   "metadata": {
    "deletable": false,
    "editable": false,
    "id": "7b0487d6"
   },
   "source": [
    "#### 3.6 Объясните, почему заполнить пропуски медианным значением — лучшее решение для количественных переменных."
   ]
  },
  {
   "cell_type": "markdown",
   "id": "4ffc2d7b",
   "metadata": {
    "deletable": false,
    "id": "7ecf2b8e"
   },
   "source": [
    "*Ответ:* \n",
    "\n",
    "Среднее значение используется, когда нет явных выбросов и распределение данных симметричное.\n",
    "Медианное значение используется, когда есть выбросы или распределение данных несимметричное.\n",
    "\n",
    "Для заполнение пропусков в колонке `total_income` использовалось медианное значениее, так как данные о доходе имели выбросы."
   ]
  },
  {
   "cell_type": "markdown",
   "id": "9555165a",
   "metadata": {
    "deletable": false,
    "editable": false,
    "id": "6db5255a"
   },
   "source": [
    "### Шаг 4: общий вывод."
   ]
  },
  {
   "cell_type": "markdown",
   "id": "2d614a48",
   "metadata": {
    "deletable": false,
    "id": "bad65432"
   },
   "source": [
    "Перед началом исследования зависимостей были проделаны следующие шаги для оптимизации данных:\n",
    "* обработаны пропущенные значения, дубликаты и аномальные значения;\n",
    "* проведена категоризация заемщиков по уровню дохода и целям кредита;\n",
    "* проведен анализ процента просрочек различных категорий заемщиков в зависимости от:\n",
    "    * числа детей в семье;\n",
    "    * семейным положением;\n",
    "    * уровнем дохода;\n",
    "    * цели кредита.\n",
    "\n",
    "В ходе анализа были выделены признаки клиентов, которые менее и более всего склонны к просрочкам. Вопрос состоял в том, что влияет ли семейное положение и количество детей клиента на факт погашения кредита в срок. \n",
    "\n",
    "Ответ: однозначно влияет.\n",
    "* заемщики, состоящие или состоявшие в официальных отношениях и не имеющих детей являются самыми благонадежными;\n",
    "* заемщики, состоящие в неоформленных отношениях или без таковых вообще и имеющие 1-2 детей допускают больше всего просрочек. \n",
    "\n",
    "В качестве рекомендаций к банку, я бы выделил несколько моментов, которые улучшат сбор данных, а в дальнейшем их обработку:\n",
    "* в колонках с количественными переменными сделать формат, запрещающий вводить отрицательные значения (возраст, трудовой стаж, доход и т.д.);\n",
    "* в колонке \"education\" произвести категоризацию, чтобы в дальнейшем не допускать появление неявных дубликатов;\n",
    "* использовать банковскую лидогенерацию для привлечения клиентов из благонадежной группы заемщиков."
   ]
  }
 ],
 "metadata": {
  "ExecuteTimeLog": [
   {
    "duration": 461,
    "start_time": "2023-02-04T13:03:34.711Z"
   },
   {
    "duration": 23,
    "start_time": "2023-02-04T13:03:35.174Z"
   },
   {
    "duration": 17,
    "start_time": "2023-02-04T13:03:35.199Z"
   },
   {
    "duration": 9,
    "start_time": "2023-02-04T13:03:35.218Z"
   },
   {
    "duration": 36,
    "start_time": "2023-02-04T13:03:35.229Z"
   },
   {
    "duration": 3,
    "start_time": "2023-02-04T13:03:35.267Z"
   },
   {
    "duration": 33,
    "start_time": "2023-02-04T13:03:35.272Z"
   },
   {
    "duration": 11,
    "start_time": "2023-02-04T13:03:35.307Z"
   },
   {
    "duration": 15,
    "start_time": "2023-02-04T13:03:35.319Z"
   },
   {
    "duration": 17,
    "start_time": "2023-02-04T13:03:35.335Z"
   },
   {
    "duration": 41,
    "start_time": "2023-02-04T13:03:35.353Z"
   },
   {
    "duration": 10,
    "start_time": "2023-02-04T13:03:35.396Z"
   },
   {
    "duration": 15,
    "start_time": "2023-02-04T13:03:35.408Z"
   },
   {
    "duration": 15,
    "start_time": "2023-02-04T13:03:35.426Z"
   },
   {
    "duration": 32,
    "start_time": "2023-02-04T13:03:35.444Z"
   },
   {
    "duration": 26,
    "start_time": "2023-02-04T13:03:35.478Z"
   },
   {
    "duration": 4,
    "start_time": "2023-02-04T13:03:35.506Z"
   },
   {
    "duration": 30,
    "start_time": "2023-02-04T13:03:35.512Z"
   },
   {
    "duration": 10,
    "start_time": "2023-02-04T13:03:35.544Z"
   },
   {
    "duration": 8,
    "start_time": "2023-02-04T13:03:35.556Z"
   },
   {
    "duration": 12,
    "start_time": "2023-02-04T13:03:35.566Z"
   },
   {
    "duration": 7,
    "start_time": "2023-02-04T13:03:35.580Z"
   },
   {
    "duration": 6,
    "start_time": "2023-02-04T13:03:35.589Z"
   },
   {
    "duration": 6,
    "start_time": "2023-02-04T13:03:35.598Z"
   },
   {
    "duration": 5,
    "start_time": "2023-02-04T13:03:35.606Z"
   },
   {
    "duration": 40,
    "start_time": "2023-02-04T14:50:29.274Z"
   },
   {
    "duration": 14,
    "start_time": "2023-02-04T14:52:23.076Z"
   },
   {
    "duration": 15,
    "start_time": "2023-02-04T14:53:09.060Z"
   },
   {
    "duration": 13,
    "start_time": "2023-02-04T14:53:51.974Z"
   },
   {
    "duration": 12,
    "start_time": "2023-02-04T15:12:05.543Z"
   },
   {
    "duration": 78,
    "start_time": "2023-02-04T15:12:22.086Z"
   },
   {
    "duration": 13,
    "start_time": "2023-02-04T15:12:28.154Z"
   },
   {
    "duration": 21,
    "start_time": "2023-02-04T15:15:21.682Z"
   },
   {
    "duration": 13,
    "start_time": "2023-02-04T15:15:31.646Z"
   },
   {
    "duration": 78,
    "start_time": "2023-02-04T15:16:06.773Z"
   },
   {
    "duration": 80,
    "start_time": "2023-02-04T15:16:08.773Z"
   },
   {
    "duration": 29,
    "start_time": "2023-02-04T15:16:16.194Z"
   },
   {
    "duration": 29,
    "start_time": "2023-02-04T15:18:11.786Z"
   },
   {
    "duration": 19,
    "start_time": "2023-02-04T15:18:15.358Z"
   },
   {
    "duration": 51,
    "start_time": "2023-02-04T15:18:35.494Z"
   },
   {
    "duration": 36,
    "start_time": "2023-02-04T15:18:46.691Z"
   },
   {
    "duration": 29,
    "start_time": "2023-02-04T15:20:20.990Z"
   },
   {
    "duration": 22,
    "start_time": "2023-02-04T15:24:43.757Z"
   },
   {
    "duration": 34,
    "start_time": "2023-02-04T15:25:24.270Z"
   },
   {
    "duration": 27,
    "start_time": "2023-02-04T15:27:01.626Z"
   },
   {
    "duration": 31,
    "start_time": "2023-02-04T15:27:12.337Z"
   },
   {
    "duration": 26,
    "start_time": "2023-02-04T15:27:28.694Z"
   },
   {
    "duration": 327,
    "start_time": "2023-02-04T15:28:01.362Z"
   },
   {
    "duration": 21,
    "start_time": "2023-02-04T15:28:15.153Z"
   },
   {
    "duration": 23,
    "start_time": "2023-02-04T15:28:43.262Z"
   },
   {
    "duration": 20,
    "start_time": "2023-02-04T15:32:40.175Z"
   },
   {
    "duration": 31,
    "start_time": "2023-02-04T15:33:24.190Z"
   },
   {
    "duration": 581,
    "start_time": "2023-02-04T15:33:32.148Z"
   },
   {
    "duration": 26,
    "start_time": "2023-02-04T15:33:32.731Z"
   },
   {
    "duration": 22,
    "start_time": "2023-02-04T15:33:32.759Z"
   },
   {
    "duration": 8,
    "start_time": "2023-02-04T15:33:32.783Z"
   },
   {
    "duration": 88,
    "start_time": "2023-02-04T15:33:32.793Z"
   },
   {
    "duration": 3,
    "start_time": "2023-02-04T15:33:32.883Z"
   },
   {
    "duration": 13,
    "start_time": "2023-02-04T15:33:32.887Z"
   },
   {
    "duration": 46,
    "start_time": "2023-02-04T15:33:32.903Z"
   },
   {
    "duration": 11,
    "start_time": "2023-02-04T15:33:32.950Z"
   },
   {
    "duration": 6,
    "start_time": "2023-02-04T15:33:32.962Z"
   },
   {
    "duration": 58,
    "start_time": "2023-02-04T15:33:32.969Z"
   },
   {
    "duration": 21,
    "start_time": "2023-02-04T15:33:33.029Z"
   },
   {
    "duration": 8,
    "start_time": "2023-02-04T15:33:33.052Z"
   },
   {
    "duration": 19,
    "start_time": "2023-02-04T15:33:33.063Z"
   },
   {
    "duration": 42,
    "start_time": "2023-02-04T15:33:33.085Z"
   },
   {
    "duration": 24,
    "start_time": "2023-02-04T15:33:33.129Z"
   },
   {
    "duration": 5,
    "start_time": "2023-02-04T15:33:33.155Z"
   },
   {
    "duration": 14,
    "start_time": "2023-02-04T15:33:33.162Z"
   },
   {
    "duration": 6,
    "start_time": "2023-02-04T15:33:33.177Z"
   },
   {
    "duration": 8,
    "start_time": "2023-02-04T15:33:33.184Z"
   },
   {
    "duration": 17,
    "start_time": "2023-02-04T15:33:33.203Z"
   },
   {
    "duration": 49,
    "start_time": "2023-02-04T15:33:33.221Z"
   },
   {
    "duration": 3,
    "start_time": "2023-02-04T15:33:33.271Z"
   },
   {
    "duration": 6,
    "start_time": "2023-02-04T15:33:33.275Z"
   },
   {
    "duration": 6,
    "start_time": "2023-02-04T15:33:33.283Z"
   },
   {
    "duration": 25,
    "start_time": "2023-02-04T15:38:02.741Z"
   },
   {
    "duration": 28,
    "start_time": "2023-02-04T15:38:17.049Z"
   },
   {
    "duration": 51,
    "start_time": "2023-02-04T15:40:32.693Z"
   },
   {
    "duration": 25,
    "start_time": "2023-02-04T15:42:11.558Z"
   },
   {
    "duration": 35,
    "start_time": "2023-02-04T16:11:58.976Z"
   },
   {
    "duration": 38,
    "start_time": "2023-02-04T16:12:37.184Z"
   },
   {
    "duration": 68,
    "start_time": "2023-02-04T16:13:01.533Z"
   },
   {
    "duration": 52,
    "start_time": "2023-02-04T16:13:05.532Z"
   },
   {
    "duration": 32,
    "start_time": "2023-02-04T16:13:10.441Z"
   },
   {
    "duration": 50,
    "start_time": "2023-02-05T12:35:57.596Z"
   },
   {
    "duration": 563,
    "start_time": "2023-02-05T12:36:12.325Z"
   },
   {
    "duration": 24,
    "start_time": "2023-02-05T12:36:12.891Z"
   },
   {
    "duration": 16,
    "start_time": "2023-02-05T12:36:12.917Z"
   },
   {
    "duration": 11,
    "start_time": "2023-02-05T12:36:12.934Z"
   },
   {
    "duration": 35,
    "start_time": "2023-02-05T12:36:12.948Z"
   },
   {
    "duration": 4,
    "start_time": "2023-02-05T12:36:12.984Z"
   },
   {
    "duration": 14,
    "start_time": "2023-02-05T12:36:12.990Z"
   },
   {
    "duration": 4,
    "start_time": "2023-02-05T12:36:13.006Z"
   },
   {
    "duration": 29,
    "start_time": "2023-02-05T12:36:13.012Z"
   },
   {
    "duration": 5,
    "start_time": "2023-02-05T12:36:13.043Z"
   },
   {
    "duration": 37,
    "start_time": "2023-02-05T12:36:13.049Z"
   },
   {
    "duration": 10,
    "start_time": "2023-02-05T12:36:13.087Z"
   },
   {
    "duration": 9,
    "start_time": "2023-02-05T12:36:13.099Z"
   },
   {
    "duration": 14,
    "start_time": "2023-02-05T12:36:13.139Z"
   },
   {
    "duration": 24,
    "start_time": "2023-02-05T12:36:13.154Z"
   },
   {
    "duration": 19,
    "start_time": "2023-02-05T12:36:13.179Z"
   },
   {
    "duration": 3,
    "start_time": "2023-02-05T12:36:13.200Z"
   },
   {
    "duration": 35,
    "start_time": "2023-02-05T12:36:13.205Z"
   },
   {
    "duration": 7,
    "start_time": "2023-02-05T12:36:13.242Z"
   },
   {
    "duration": 9,
    "start_time": "2023-02-05T12:36:13.251Z"
   },
   {
    "duration": 19,
    "start_time": "2023-02-05T12:36:13.262Z"
   },
   {
    "duration": 29,
    "start_time": "2023-02-05T12:36:13.283Z"
   },
   {
    "duration": 86,
    "start_time": "2023-02-05T12:36:13.314Z"
   },
   {
    "duration": 0,
    "start_time": "2023-02-05T12:36:13.402Z"
   },
   {
    "duration": 0,
    "start_time": "2023-02-05T12:36:13.404Z"
   },
   {
    "duration": 21,
    "start_time": "2023-02-05T12:36:21.264Z"
   },
   {
    "duration": 19,
    "start_time": "2023-02-05T12:36:33.150Z"
   },
   {
    "duration": 21,
    "start_time": "2023-02-05T12:37:28.300Z"
   },
   {
    "duration": 22,
    "start_time": "2023-02-05T12:37:30.356Z"
   },
   {
    "duration": 10,
    "start_time": "2023-02-05T12:37:44.287Z"
   },
   {
    "duration": 11,
    "start_time": "2023-02-05T12:38:00.589Z"
   },
   {
    "duration": 17,
    "start_time": "2023-02-05T12:38:33.490Z"
   },
   {
    "duration": 13,
    "start_time": "2023-02-05T12:38:45.317Z"
   },
   {
    "duration": 16,
    "start_time": "2023-02-05T12:39:03.814Z"
   },
   {
    "duration": 776,
    "start_time": "2023-02-05T12:42:30.269Z"
   },
   {
    "duration": 27,
    "start_time": "2023-02-05T12:42:43.755Z"
   },
   {
    "duration": 27,
    "start_time": "2023-02-05T12:51:12.520Z"
   },
   {
    "duration": 24,
    "start_time": "2023-02-05T13:06:21.519Z"
   },
   {
    "duration": 29,
    "start_time": "2023-02-05T13:06:26.539Z"
   },
   {
    "duration": 57,
    "start_time": "2023-02-05T13:06:55.677Z"
   },
   {
    "duration": 51,
    "start_time": "2023-02-05T13:07:07.168Z"
   },
   {
    "duration": 26,
    "start_time": "2023-02-05T13:07:11.796Z"
   },
   {
    "duration": 32,
    "start_time": "2023-02-05T13:07:22.782Z"
   },
   {
    "duration": 25,
    "start_time": "2023-02-05T13:07:33.530Z"
   },
   {
    "duration": 25,
    "start_time": "2023-02-05T13:07:41.252Z"
   },
   {
    "duration": 27,
    "start_time": "2023-02-05T13:07:55.117Z"
   },
   {
    "duration": 27,
    "start_time": "2023-02-05T13:08:06.367Z"
   },
   {
    "duration": 27,
    "start_time": "2023-02-05T13:08:45.399Z"
   },
   {
    "duration": 17,
    "start_time": "2023-02-05T13:22:26.693Z"
   },
   {
    "duration": 35,
    "start_time": "2023-02-05T13:26:34.024Z"
   },
   {
    "duration": 9,
    "start_time": "2023-02-05T13:26:42.471Z"
   },
   {
    "duration": 27,
    "start_time": "2023-02-05T13:26:47.374Z"
   },
   {
    "duration": 20,
    "start_time": "2023-02-05T13:28:16.729Z"
   },
   {
    "duration": 6,
    "start_time": "2023-02-05T13:29:00.806Z"
   },
   {
    "duration": 20,
    "start_time": "2023-02-05T13:30:50.968Z"
   },
   {
    "duration": 19,
    "start_time": "2023-02-05T13:32:45.672Z"
   },
   {
    "duration": 17,
    "start_time": "2023-02-05T13:32:50.771Z"
   },
   {
    "duration": 18,
    "start_time": "2023-02-05T13:33:38.170Z"
   },
   {
    "duration": 22,
    "start_time": "2023-02-05T13:33:59.721Z"
   },
   {
    "duration": 26,
    "start_time": "2023-02-05T13:34:18.065Z"
   },
   {
    "duration": 26,
    "start_time": "2023-02-05T13:35:59.829Z"
   },
   {
    "duration": 25,
    "start_time": "2023-02-05T13:36:34.522Z"
   },
   {
    "duration": 26,
    "start_time": "2023-02-05T13:36:43.419Z"
   },
   {
    "duration": 27,
    "start_time": "2023-02-05T13:38:04.765Z"
   },
   {
    "duration": 33,
    "start_time": "2023-02-05T13:38:36.264Z"
   },
   {
    "duration": 28,
    "start_time": "2023-02-05T13:38:59.121Z"
   },
   {
    "duration": 36,
    "start_time": "2023-02-05T13:40:23.820Z"
   },
   {
    "duration": 34,
    "start_time": "2023-02-05T13:40:38.790Z"
   },
   {
    "duration": 30,
    "start_time": "2023-02-05T13:40:47.963Z"
   },
   {
    "duration": 29,
    "start_time": "2023-02-05T13:40:54.218Z"
   },
   {
    "duration": 30,
    "start_time": "2023-02-05T13:41:05.920Z"
   },
   {
    "duration": 28,
    "start_time": "2023-02-05T13:41:11.691Z"
   },
   {
    "duration": 29,
    "start_time": "2023-02-05T13:41:15.913Z"
   },
   {
    "duration": 41,
    "start_time": "2023-02-05T13:41:32.640Z"
   },
   {
    "duration": 32,
    "start_time": "2023-02-05T13:41:43.472Z"
   },
   {
    "duration": 28,
    "start_time": "2023-02-05T13:41:47.531Z"
   },
   {
    "duration": 28,
    "start_time": "2023-02-05T13:42:45.170Z"
   },
   {
    "duration": 21,
    "start_time": "2023-02-05T14:24:20.140Z"
   },
   {
    "duration": 5,
    "start_time": "2023-02-05T14:24:57.370Z"
   },
   {
    "duration": 23,
    "start_time": "2023-02-05T14:25:05.601Z"
   },
   {
    "duration": 18,
    "start_time": "2023-02-05T14:28:02.701Z"
   },
   {
    "duration": 24,
    "start_time": "2023-02-05T14:28:08.291Z"
   },
   {
    "duration": 15,
    "start_time": "2023-02-05T14:28:29.529Z"
   },
   {
    "duration": 27,
    "start_time": "2023-02-05T14:28:57.435Z"
   },
   {
    "duration": 24,
    "start_time": "2023-02-05T14:31:09.328Z"
   },
   {
    "duration": 26,
    "start_time": "2023-02-05T14:31:13.957Z"
   },
   {
    "duration": 27,
    "start_time": "2023-02-05T14:32:54.262Z"
   },
   {
    "duration": 33,
    "start_time": "2023-02-05T14:33:19.191Z"
   },
   {
    "duration": 23,
    "start_time": "2023-02-05T14:53:47.627Z"
   },
   {
    "duration": 51,
    "start_time": "2023-02-05T14:56:34.568Z"
   },
   {
    "duration": 20,
    "start_time": "2023-02-05T14:56:59.462Z"
   },
   {
    "duration": 27,
    "start_time": "2023-02-05T14:57:04.594Z"
   },
   {
    "duration": 19,
    "start_time": "2023-02-05T14:58:42.957Z"
   },
   {
    "duration": 20,
    "start_time": "2023-02-05T14:58:47.803Z"
   },
   {
    "duration": 24,
    "start_time": "2023-02-05T14:58:50.408Z"
   },
   {
    "duration": 25,
    "start_time": "2023-02-05T15:01:34.308Z"
   },
   {
    "duration": 13,
    "start_time": "2023-02-05T15:14:28.732Z"
   },
   {
    "duration": 10,
    "start_time": "2023-02-05T15:14:54.006Z"
   },
   {
    "duration": 572,
    "start_time": "2023-02-05T15:15:08.808Z"
   },
   {
    "duration": 28,
    "start_time": "2023-02-05T15:15:09.383Z"
   },
   {
    "duration": 42,
    "start_time": "2023-02-05T15:15:09.413Z"
   },
   {
    "duration": 16,
    "start_time": "2023-02-05T15:15:09.457Z"
   },
   {
    "duration": 66,
    "start_time": "2023-02-05T15:15:09.475Z"
   },
   {
    "duration": 5,
    "start_time": "2023-02-05T15:15:09.542Z"
   },
   {
    "duration": 14,
    "start_time": "2023-02-05T15:15:09.549Z"
   },
   {
    "duration": 5,
    "start_time": "2023-02-05T15:15:09.566Z"
   },
   {
    "duration": 15,
    "start_time": "2023-02-05T15:15:09.572Z"
   },
   {
    "duration": 5,
    "start_time": "2023-02-05T15:15:09.589Z"
   },
   {
    "duration": 70,
    "start_time": "2023-02-05T15:15:09.597Z"
   },
   {
    "duration": 13,
    "start_time": "2023-02-05T15:15:09.669Z"
   },
   {
    "duration": 15,
    "start_time": "2023-02-05T15:15:09.684Z"
   },
   {
    "duration": 28,
    "start_time": "2023-02-05T15:15:09.702Z"
   },
   {
    "duration": 23,
    "start_time": "2023-02-05T15:15:09.732Z"
   },
   {
    "duration": 18,
    "start_time": "2023-02-05T15:15:09.757Z"
   },
   {
    "duration": 3,
    "start_time": "2023-02-05T15:15:09.777Z"
   },
   {
    "duration": 13,
    "start_time": "2023-02-05T15:15:09.782Z"
   },
   {
    "duration": 8,
    "start_time": "2023-02-05T15:15:09.797Z"
   },
   {
    "duration": 33,
    "start_time": "2023-02-05T15:15:09.807Z"
   },
   {
    "duration": 15,
    "start_time": "2023-02-05T15:15:09.842Z"
   },
   {
    "duration": 35,
    "start_time": "2023-02-05T15:15:09.859Z"
   },
   {
    "duration": 45,
    "start_time": "2023-02-05T15:15:09.896Z"
   },
   {
    "duration": 27,
    "start_time": "2023-02-05T15:15:09.943Z"
   },
   {
    "duration": 26,
    "start_time": "2023-02-05T15:15:09.972Z"
   },
   {
    "duration": 507,
    "start_time": "2023-02-05T15:15:26.634Z"
   },
   {
    "duration": 24,
    "start_time": "2023-02-05T15:15:27.144Z"
   },
   {
    "duration": 15,
    "start_time": "2023-02-05T15:15:27.170Z"
   },
   {
    "duration": 11,
    "start_time": "2023-02-05T15:15:27.187Z"
   },
   {
    "duration": 70,
    "start_time": "2023-02-05T15:15:27.201Z"
   },
   {
    "duration": 4,
    "start_time": "2023-02-05T15:15:27.273Z"
   },
   {
    "duration": 13,
    "start_time": "2023-02-05T15:15:27.279Z"
   },
   {
    "duration": 4,
    "start_time": "2023-02-05T15:15:27.295Z"
   },
   {
    "duration": 11,
    "start_time": "2023-02-05T15:15:27.300Z"
   },
   {
    "duration": 28,
    "start_time": "2023-02-05T15:15:27.313Z"
   },
   {
    "duration": 35,
    "start_time": "2023-02-05T15:15:27.343Z"
   },
   {
    "duration": 11,
    "start_time": "2023-02-05T15:15:27.380Z"
   },
   {
    "duration": 5,
    "start_time": "2023-02-05T15:15:27.392Z"
   },
   {
    "duration": 45,
    "start_time": "2023-02-05T15:15:27.400Z"
   },
   {
    "duration": 39,
    "start_time": "2023-02-05T15:15:27.447Z"
   },
   {
    "duration": 18,
    "start_time": "2023-02-05T15:15:27.488Z"
   },
   {
    "duration": 12,
    "start_time": "2023-02-05T15:15:27.508Z"
   },
   {
    "duration": 18,
    "start_time": "2023-02-05T15:15:27.522Z"
   },
   {
    "duration": 9,
    "start_time": "2023-02-05T15:15:27.542Z"
   },
   {
    "duration": 3,
    "start_time": "2023-02-05T15:15:27.553Z"
   },
   {
    "duration": 16,
    "start_time": "2023-02-05T15:15:27.558Z"
   },
   {
    "duration": 32,
    "start_time": "2023-02-05T15:15:27.576Z"
   },
   {
    "duration": 49,
    "start_time": "2023-02-05T15:15:27.610Z"
   },
   {
    "duration": 27,
    "start_time": "2023-02-05T15:15:27.661Z"
   },
   {
    "duration": 28,
    "start_time": "2023-02-05T15:15:27.689Z"
   },
   {
    "duration": 49,
    "start_time": "2023-02-06T14:50:18.106Z"
   },
   {
    "duration": 542,
    "start_time": "2023-02-06T14:50:30.548Z"
   },
   {
    "duration": 22,
    "start_time": "2023-02-06T14:50:31.092Z"
   },
   {
    "duration": 29,
    "start_time": "2023-02-06T14:50:31.115Z"
   },
   {
    "duration": 27,
    "start_time": "2023-02-06T14:50:31.146Z"
   },
   {
    "duration": 42,
    "start_time": "2023-02-06T14:50:31.175Z"
   },
   {
    "duration": 4,
    "start_time": "2023-02-06T14:50:31.218Z"
   },
   {
    "duration": 33,
    "start_time": "2023-02-06T14:50:31.223Z"
   },
   {
    "duration": 39,
    "start_time": "2023-02-06T14:50:31.257Z"
   },
   {
    "duration": 25,
    "start_time": "2023-02-06T14:50:31.298Z"
   },
   {
    "duration": 9,
    "start_time": "2023-02-06T14:50:31.325Z"
   },
   {
    "duration": 36,
    "start_time": "2023-02-06T14:50:31.336Z"
   },
   {
    "duration": 8,
    "start_time": "2023-02-06T14:50:31.374Z"
   },
   {
    "duration": 18,
    "start_time": "2023-02-06T14:50:31.384Z"
   },
   {
    "duration": 14,
    "start_time": "2023-02-06T14:50:31.404Z"
   },
   {
    "duration": 17,
    "start_time": "2023-02-06T14:50:31.420Z"
   },
   {
    "duration": 19,
    "start_time": "2023-02-06T14:50:31.438Z"
   },
   {
    "duration": 3,
    "start_time": "2023-02-06T14:50:31.459Z"
   },
   {
    "duration": 16,
    "start_time": "2023-02-06T14:50:31.463Z"
   },
   {
    "duration": 9,
    "start_time": "2023-02-06T14:50:31.481Z"
   },
   {
    "duration": 11,
    "start_time": "2023-02-06T14:50:31.492Z"
   },
   {
    "duration": 26,
    "start_time": "2023-02-06T14:50:31.505Z"
   },
   {
    "duration": 435,
    "start_time": "2023-02-06T14:50:31.533Z"
   },
   {
    "duration": 96,
    "start_time": "2023-02-06T14:50:31.970Z"
   },
   {
    "duration": 0,
    "start_time": "2023-02-06T14:50:32.068Z"
   },
   {
    "duration": 0,
    "start_time": "2023-02-06T14:50:32.069Z"
   },
   {
    "duration": 44,
    "start_time": "2023-02-06T14:51:21.095Z"
   },
   {
    "duration": 23,
    "start_time": "2023-02-06T14:51:31.408Z"
   },
   {
    "duration": 28,
    "start_time": "2023-02-06T14:51:40.736Z"
   },
   {
    "duration": 46,
    "start_time": "2023-02-06T14:59:04.034Z"
   },
   {
    "duration": 24,
    "start_time": "2023-02-06T14:59:32.467Z"
   },
   {
    "duration": 24,
    "start_time": "2023-02-06T14:59:40.626Z"
   },
   {
    "duration": 61,
    "start_time": "2023-02-06T18:42:53.266Z"
   },
   {
    "duration": 555,
    "start_time": "2023-02-06T18:42:58.874Z"
   },
   {
    "duration": 21,
    "start_time": "2023-02-06T18:42:59.431Z"
   },
   {
    "duration": 39,
    "start_time": "2023-02-06T18:42:59.453Z"
   },
   {
    "duration": 10,
    "start_time": "2023-02-06T18:42:59.493Z"
   },
   {
    "duration": 42,
    "start_time": "2023-02-06T18:42:59.505Z"
   },
   {
    "duration": 4,
    "start_time": "2023-02-06T18:42:59.548Z"
   },
   {
    "duration": 13,
    "start_time": "2023-02-06T18:42:59.553Z"
   },
   {
    "duration": 12,
    "start_time": "2023-02-06T18:42:59.567Z"
   },
   {
    "duration": 14,
    "start_time": "2023-02-06T18:42:59.580Z"
   },
   {
    "duration": 4,
    "start_time": "2023-02-06T18:42:59.596Z"
   },
   {
    "duration": 38,
    "start_time": "2023-02-06T18:42:59.601Z"
   },
   {
    "duration": 10,
    "start_time": "2023-02-06T18:42:59.640Z"
   },
   {
    "duration": 4,
    "start_time": "2023-02-06T18:42:59.651Z"
   },
   {
    "duration": 10,
    "start_time": "2023-02-06T18:42:59.658Z"
   },
   {
    "duration": 18,
    "start_time": "2023-02-06T18:42:59.670Z"
   },
   {
    "duration": 25,
    "start_time": "2023-02-06T18:42:59.710Z"
   },
   {
    "duration": 4,
    "start_time": "2023-02-06T18:42:59.737Z"
   },
   {
    "duration": 15,
    "start_time": "2023-02-06T18:42:59.743Z"
   },
   {
    "duration": 7,
    "start_time": "2023-02-06T18:42:59.760Z"
   },
   {
    "duration": 4,
    "start_time": "2023-02-06T18:42:59.769Z"
   },
   {
    "duration": 37,
    "start_time": "2023-02-06T18:42:59.775Z"
   },
   {
    "duration": 26,
    "start_time": "2023-02-06T18:42:59.814Z"
   },
   {
    "duration": 26,
    "start_time": "2023-02-06T18:42:59.842Z"
   },
   {
    "duration": 22,
    "start_time": "2023-02-06T18:42:59.869Z"
   },
   {
    "duration": 25,
    "start_time": "2023-02-06T18:42:59.910Z"
   },
   {
    "duration": 39,
    "start_time": "2023-02-06T20:58:50.269Z"
   },
   {
    "duration": 61,
    "start_time": "2023-02-06T21:18:30.404Z"
   },
   {
    "duration": 18,
    "start_time": "2023-02-06T21:19:10.309Z"
   },
   {
    "duration": 23,
    "start_time": "2023-02-06T21:19:38.608Z"
   },
   {
    "duration": 22,
    "start_time": "2023-02-06T21:34:57.582Z"
   },
   {
    "duration": 433,
    "start_time": "2023-02-06T21:35:04.554Z"
   },
   {
    "duration": 24,
    "start_time": "2023-02-06T21:35:04.989Z"
   },
   {
    "duration": 16,
    "start_time": "2023-02-06T21:35:05.015Z"
   },
   {
    "duration": 11,
    "start_time": "2023-02-06T21:35:05.034Z"
   },
   {
    "duration": 38,
    "start_time": "2023-02-06T21:35:05.047Z"
   },
   {
    "duration": 24,
    "start_time": "2023-02-06T21:35:05.087Z"
   },
   {
    "duration": 9,
    "start_time": "2023-02-06T21:35:05.113Z"
   },
   {
    "duration": 4,
    "start_time": "2023-02-06T21:35:05.124Z"
   },
   {
    "duration": 10,
    "start_time": "2023-02-06T21:35:05.129Z"
   },
   {
    "duration": 5,
    "start_time": "2023-02-06T21:35:05.141Z"
   },
   {
    "duration": 64,
    "start_time": "2023-02-06T21:35:05.148Z"
   },
   {
    "duration": 9,
    "start_time": "2023-02-06T21:35:05.214Z"
   },
   {
    "duration": 11,
    "start_time": "2023-02-06T21:35:05.225Z"
   },
   {
    "duration": 18,
    "start_time": "2023-02-06T21:35:05.238Z"
   },
   {
    "duration": 38,
    "start_time": "2023-02-06T21:35:05.258Z"
   },
   {
    "duration": 25,
    "start_time": "2023-02-06T21:35:05.298Z"
   },
   {
    "duration": 5,
    "start_time": "2023-02-06T21:35:05.325Z"
   },
   {
    "duration": 14,
    "start_time": "2023-02-06T21:35:05.331Z"
   },
   {
    "duration": 8,
    "start_time": "2023-02-06T21:35:05.347Z"
   },
   {
    "duration": 4,
    "start_time": "2023-02-06T21:35:05.356Z"
   },
   {
    "duration": 12,
    "start_time": "2023-02-06T21:35:05.361Z"
   },
   {
    "duration": 49,
    "start_time": "2023-02-06T21:35:05.375Z"
   },
   {
    "duration": 25,
    "start_time": "2023-02-06T21:35:05.425Z"
   },
   {
    "duration": 24,
    "start_time": "2023-02-06T21:35:05.452Z"
   },
   {
    "duration": 52,
    "start_time": "2023-02-06T21:35:05.478Z"
   },
   {
    "duration": 442,
    "start_time": "2023-02-06T21:43:10.349Z"
   },
   {
    "duration": 431,
    "start_time": "2023-02-06T22:35:44.344Z"
   },
   {
    "duration": 21,
    "start_time": "2023-02-06T22:35:44.776Z"
   },
   {
    "duration": 14,
    "start_time": "2023-02-06T22:35:44.799Z"
   },
   {
    "duration": 8,
    "start_time": "2023-02-06T22:35:44.815Z"
   },
   {
    "duration": 31,
    "start_time": "2023-02-06T22:35:44.825Z"
   },
   {
    "duration": 3,
    "start_time": "2023-02-06T22:35:44.858Z"
   },
   {
    "duration": 12,
    "start_time": "2023-02-06T22:35:44.862Z"
   },
   {
    "duration": 6,
    "start_time": "2023-02-06T22:35:44.876Z"
   },
   {
    "duration": 10,
    "start_time": "2023-02-06T22:35:44.883Z"
   },
   {
    "duration": 4,
    "start_time": "2023-02-06T22:35:44.912Z"
   },
   {
    "duration": 31,
    "start_time": "2023-02-06T22:35:44.917Z"
   },
   {
    "duration": 8,
    "start_time": "2023-02-06T22:35:44.950Z"
   },
   {
    "duration": 3,
    "start_time": "2023-02-06T22:35:44.960Z"
   },
   {
    "duration": 10,
    "start_time": "2023-02-06T22:35:44.965Z"
   },
   {
    "duration": 47,
    "start_time": "2023-02-06T22:35:44.976Z"
   },
   {
    "duration": 17,
    "start_time": "2023-02-06T22:35:45.025Z"
   },
   {
    "duration": 3,
    "start_time": "2023-02-06T22:35:45.044Z"
   },
   {
    "duration": 13,
    "start_time": "2023-02-06T22:35:45.049Z"
   },
   {
    "duration": 5,
    "start_time": "2023-02-06T22:35:45.063Z"
   },
   {
    "duration": 10,
    "start_time": "2023-02-06T22:35:45.070Z"
   },
   {
    "duration": 31,
    "start_time": "2023-02-06T22:35:45.081Z"
   },
   {
    "duration": 41,
    "start_time": "2023-02-06T22:35:45.114Z"
   },
   {
    "duration": 263,
    "start_time": "2023-02-06T22:35:45.156Z"
   },
   {
    "duration": 25,
    "start_time": "2023-02-06T22:35:45.420Z"
   },
   {
    "duration": 21,
    "start_time": "2023-02-06T22:35:45.447Z"
   },
   {
    "duration": 41,
    "start_time": "2023-02-06T22:35:45.470Z"
   },
   {
    "duration": 500,
    "start_time": "2023-02-07T20:08:54.591Z"
   },
   {
    "duration": 23,
    "start_time": "2023-02-07T20:08:55.093Z"
   },
   {
    "duration": 14,
    "start_time": "2023-02-07T20:08:55.118Z"
   },
   {
    "duration": 10,
    "start_time": "2023-02-07T20:08:55.134Z"
   },
   {
    "duration": 33,
    "start_time": "2023-02-07T20:08:55.146Z"
   },
   {
    "duration": 4,
    "start_time": "2023-02-07T20:08:55.181Z"
   },
   {
    "duration": 12,
    "start_time": "2023-02-07T20:08:55.186Z"
   },
   {
    "duration": 4,
    "start_time": "2023-02-07T20:08:55.200Z"
   },
   {
    "duration": 36,
    "start_time": "2023-02-07T20:08:55.205Z"
   },
   {
    "duration": 4,
    "start_time": "2023-02-07T20:08:55.245Z"
   },
   {
    "duration": 40,
    "start_time": "2023-02-07T20:08:55.251Z"
   },
   {
    "duration": 8,
    "start_time": "2023-02-07T20:08:55.293Z"
   },
   {
    "duration": 4,
    "start_time": "2023-02-07T20:08:55.303Z"
   },
   {
    "duration": 29,
    "start_time": "2023-02-07T20:08:55.308Z"
   },
   {
    "duration": 19,
    "start_time": "2023-02-07T20:08:55.338Z"
   },
   {
    "duration": 16,
    "start_time": "2023-02-07T20:08:55.359Z"
   },
   {
    "duration": 3,
    "start_time": "2023-02-07T20:08:55.377Z"
   },
   {
    "duration": 15,
    "start_time": "2023-02-07T20:08:55.382Z"
   },
   {
    "duration": 6,
    "start_time": "2023-02-07T20:08:55.398Z"
   },
   {
    "duration": 7,
    "start_time": "2023-02-07T20:08:55.405Z"
   },
   {
    "duration": 31,
    "start_time": "2023-02-07T20:08:55.414Z"
   },
   {
    "duration": 27,
    "start_time": "2023-02-07T20:08:55.446Z"
   },
   {
    "duration": 450,
    "start_time": "2023-02-07T20:08:55.475Z"
   },
   {
    "duration": 32,
    "start_time": "2023-02-07T20:08:55.927Z"
   },
   {
    "duration": 23,
    "start_time": "2023-02-07T20:08:55.961Z"
   },
   {
    "duration": 23,
    "start_time": "2023-02-07T20:08:55.985Z"
   },
   {
    "duration": 32,
    "start_time": "2023-02-07T20:09:28.379Z"
   },
   {
    "duration": 28,
    "start_time": "2023-02-07T20:10:56.527Z"
   },
   {
    "duration": 41,
    "start_time": "2023-02-07T20:13:12.378Z"
   },
   {
    "duration": 28,
    "start_time": "2023-02-07T20:13:20.648Z"
   },
   {
    "duration": 30,
    "start_time": "2023-02-07T21:13:14.504Z"
   },
   {
    "duration": 32,
    "start_time": "2023-02-07T21:13:20.822Z"
   },
   {
    "duration": 27,
    "start_time": "2023-02-07T21:13:25.885Z"
   },
   {
    "duration": 29,
    "start_time": "2023-02-07T21:13:39.913Z"
   },
   {
    "duration": 34,
    "start_time": "2023-02-07T21:14:34.795Z"
   },
   {
    "duration": 28,
    "start_time": "2023-02-07T21:14:46.494Z"
   },
   {
    "duration": 29,
    "start_time": "2023-02-07T21:15:36.044Z"
   },
   {
    "duration": 36,
    "start_time": "2023-02-07T21:15:42.403Z"
   },
   {
    "duration": 29,
    "start_time": "2023-02-07T21:22:17.846Z"
   },
   {
    "duration": 32,
    "start_time": "2023-02-07T21:22:25.805Z"
   },
   {
    "duration": 28,
    "start_time": "2023-02-07T21:26:39.856Z"
   },
   {
    "duration": 26,
    "start_time": "2023-02-07T21:31:56.419Z"
   },
   {
    "duration": 29,
    "start_time": "2023-02-07T21:35:36.974Z"
   },
   {
    "duration": 58,
    "start_time": "2023-02-07T21:37:12.358Z"
   },
   {
    "duration": 35,
    "start_time": "2023-02-07T21:37:22.510Z"
   },
   {
    "duration": 27,
    "start_time": "2023-02-07T21:37:33.095Z"
   },
   {
    "duration": 29,
    "start_time": "2023-02-07T21:37:37.925Z"
   },
   {
    "duration": 27,
    "start_time": "2023-02-07T21:39:18.025Z"
   },
   {
    "duration": 861,
    "start_time": "2023-02-07T21:39:36.751Z"
   },
   {
    "duration": 26,
    "start_time": "2023-02-07T21:39:49.740Z"
   },
   {
    "duration": 28,
    "start_time": "2023-02-07T21:40:30.577Z"
   },
   {
    "duration": 26,
    "start_time": "2023-02-07T21:40:38.487Z"
   },
   {
    "duration": 29,
    "start_time": "2023-02-07T21:41:42.040Z"
   },
   {
    "duration": 25,
    "start_time": "2023-02-07T21:42:05.305Z"
   },
   {
    "duration": 27,
    "start_time": "2023-02-07T21:42:08.636Z"
   },
   {
    "duration": 27,
    "start_time": "2023-02-07T21:43:26.948Z"
   },
   {
    "duration": 25,
    "start_time": "2023-02-07T21:45:03.780Z"
   },
   {
    "duration": 25,
    "start_time": "2023-02-07T22:01:45.794Z"
   },
   {
    "duration": 26,
    "start_time": "2023-02-07T22:01:57.863Z"
   },
   {
    "duration": 454,
    "start_time": "2023-02-07T22:02:17.313Z"
   },
   {
    "duration": 20,
    "start_time": "2023-02-07T22:02:17.769Z"
   },
   {
    "duration": 14,
    "start_time": "2023-02-07T22:02:17.790Z"
   },
   {
    "duration": 7,
    "start_time": "2023-02-07T22:02:17.806Z"
   },
   {
    "duration": 44,
    "start_time": "2023-02-07T22:02:17.815Z"
   },
   {
    "duration": 3,
    "start_time": "2023-02-07T22:02:17.860Z"
   },
   {
    "duration": 13,
    "start_time": "2023-02-07T22:02:17.864Z"
   },
   {
    "duration": 22,
    "start_time": "2023-02-07T22:02:17.879Z"
   },
   {
    "duration": 15,
    "start_time": "2023-02-07T22:02:17.902Z"
   },
   {
    "duration": 4,
    "start_time": "2023-02-07T22:02:17.919Z"
   },
   {
    "duration": 34,
    "start_time": "2023-02-07T22:02:17.924Z"
   },
   {
    "duration": 8,
    "start_time": "2023-02-07T22:02:17.960Z"
   },
   {
    "duration": 3,
    "start_time": "2023-02-07T22:02:17.970Z"
   },
   {
    "duration": 15,
    "start_time": "2023-02-07T22:02:17.975Z"
   },
   {
    "duration": 22,
    "start_time": "2023-02-07T22:02:17.991Z"
   },
   {
    "duration": 27,
    "start_time": "2023-02-07T22:02:18.015Z"
   },
   {
    "duration": 4,
    "start_time": "2023-02-07T22:02:18.044Z"
   },
   {
    "duration": 16,
    "start_time": "2023-02-07T22:02:18.050Z"
   },
   {
    "duration": 9,
    "start_time": "2023-02-07T22:02:18.067Z"
   },
   {
    "duration": 3,
    "start_time": "2023-02-07T22:02:18.077Z"
   },
   {
    "duration": 9,
    "start_time": "2023-02-07T22:02:18.081Z"
   },
   {
    "duration": 27,
    "start_time": "2023-02-07T22:02:18.092Z"
   },
   {
    "duration": 290,
    "start_time": "2023-02-07T22:02:18.120Z"
   },
   {
    "duration": 28,
    "start_time": "2023-02-07T22:02:18.411Z"
   },
   {
    "duration": 21,
    "start_time": "2023-02-07T22:02:18.440Z"
   },
   {
    "duration": 21,
    "start_time": "2023-02-07T22:02:18.463Z"
   },
   {
    "duration": 26,
    "start_time": "2023-02-07T22:02:18.486Z"
   },
   {
    "duration": 28,
    "start_time": "2023-02-07T22:02:18.537Z"
   },
   {
    "duration": 30,
    "start_time": "2023-02-07T22:02:18.567Z"
   },
   {
    "duration": 39,
    "start_time": "2023-02-07T22:02:18.599Z"
   },
   {
    "duration": 29,
    "start_time": "2023-02-08T15:57:06.143Z"
   },
   {
    "duration": 25,
    "start_time": "2023-02-08T15:57:23.772Z"
   },
   {
    "duration": 30,
    "start_time": "2023-02-08T15:58:19.360Z"
   },
   {
    "duration": 36,
    "start_time": "2023-02-08T15:58:33.884Z"
   },
   {
    "duration": 33,
    "start_time": "2023-02-08T15:58:41.684Z"
   },
   {
    "duration": 30,
    "start_time": "2023-02-08T15:59:03.068Z"
   },
   {
    "duration": 28,
    "start_time": "2023-02-08T15:59:11.322Z"
   },
   {
    "duration": 33,
    "start_time": "2023-02-08T15:59:20.915Z"
   },
   {
    "duration": 27,
    "start_time": "2023-02-08T16:10:47.065Z"
   },
   {
    "duration": 29,
    "start_time": "2023-02-08T16:11:08.016Z"
   },
   {
    "duration": 28,
    "start_time": "2023-02-08T16:12:49.079Z"
   },
   {
    "duration": 30,
    "start_time": "2023-02-08T16:14:48.019Z"
   },
   {
    "duration": 29,
    "start_time": "2023-02-08T16:15:17.962Z"
   },
   {
    "duration": 29,
    "start_time": "2023-02-08T16:16:10.401Z"
   },
   {
    "duration": 33,
    "start_time": "2023-02-08T16:16:18.855Z"
   },
   {
    "duration": 31,
    "start_time": "2023-02-08T16:16:38.426Z"
   },
   {
    "duration": 130,
    "start_time": "2023-02-08T16:17:18.007Z"
   },
   {
    "duration": 28,
    "start_time": "2023-02-08T16:18:19.481Z"
   },
   {
    "duration": 28,
    "start_time": "2023-02-08T16:18:58.180Z"
   },
   {
    "duration": 499,
    "start_time": "2023-02-11T10:43:20.232Z"
   },
   {
    "duration": 32,
    "start_time": "2023-02-11T10:43:20.732Z"
   },
   {
    "duration": 21,
    "start_time": "2023-02-11T10:43:20.776Z"
   },
   {
    "duration": 20,
    "start_time": "2023-02-11T10:43:20.800Z"
   },
   {
    "duration": 49,
    "start_time": "2023-02-11T10:43:20.822Z"
   },
   {
    "duration": 6,
    "start_time": "2023-02-11T10:43:20.878Z"
   },
   {
    "duration": 13,
    "start_time": "2023-02-11T10:43:20.886Z"
   },
   {
    "duration": 5,
    "start_time": "2023-02-11T10:43:20.901Z"
   },
   {
    "duration": 10,
    "start_time": "2023-02-11T10:43:20.907Z"
   },
   {
    "duration": 5,
    "start_time": "2023-02-11T10:43:20.919Z"
   },
   {
    "duration": 58,
    "start_time": "2023-02-11T10:43:20.925Z"
   },
   {
    "duration": 9,
    "start_time": "2023-02-11T10:43:20.987Z"
   },
   {
    "duration": 11,
    "start_time": "2023-02-11T10:43:20.997Z"
   },
   {
    "duration": 18,
    "start_time": "2023-02-11T10:43:21.010Z"
   },
   {
    "duration": 34,
    "start_time": "2023-02-11T10:43:21.030Z"
   },
   {
    "duration": 26,
    "start_time": "2023-02-11T10:43:21.066Z"
   },
   {
    "duration": 16,
    "start_time": "2023-02-11T10:43:21.094Z"
   },
   {
    "duration": 31,
    "start_time": "2023-02-11T10:43:21.112Z"
   },
   {
    "duration": 25,
    "start_time": "2023-02-11T10:43:21.145Z"
   },
   {
    "duration": 22,
    "start_time": "2023-02-11T10:43:21.173Z"
   },
   {
    "duration": 41,
    "start_time": "2023-02-11T10:43:21.198Z"
   },
   {
    "duration": 38,
    "start_time": "2023-02-11T10:43:21.241Z"
   },
   {
    "duration": 536,
    "start_time": "2023-02-11T10:43:21.283Z"
   },
   {
    "duration": 59,
    "start_time": "2023-02-11T10:43:21.821Z"
   },
   {
    "duration": 26,
    "start_time": "2023-02-11T10:43:21.883Z"
   },
   {
    "duration": 22,
    "start_time": "2023-02-11T10:43:21.910Z"
   },
   {
    "duration": 37,
    "start_time": "2023-02-11T10:43:21.934Z"
   },
   {
    "duration": 35,
    "start_time": "2023-02-11T10:43:21.977Z"
   },
   {
    "duration": 47,
    "start_time": "2023-02-11T10:43:22.014Z"
   },
   {
    "duration": 31,
    "start_time": "2023-02-11T10:46:09.795Z"
   },
   {
    "duration": 47,
    "start_time": "2023-02-11T10:47:54.754Z"
   },
   {
    "duration": 39,
    "start_time": "2023-02-11T10:48:09.644Z"
   },
   {
    "duration": 49,
    "start_time": "2023-02-11T10:48:16.734Z"
   },
   {
    "duration": 61,
    "start_time": "2023-02-11T10:48:24.428Z"
   },
   {
    "duration": 30,
    "start_time": "2023-02-11T10:48:29.290Z"
   },
   {
    "duration": 39,
    "start_time": "2023-02-11T10:48:35.958Z"
   },
   {
    "duration": 36,
    "start_time": "2023-02-11T10:49:29.654Z"
   },
   {
    "duration": 27,
    "start_time": "2023-02-11T10:49:35.993Z"
   },
   {
    "duration": 44,
    "start_time": "2023-02-11T10:50:19.623Z"
   },
   {
    "duration": 32,
    "start_time": "2023-02-11T10:50:53.978Z"
   },
   {
    "duration": 50,
    "start_time": "2023-02-11T11:02:43.513Z"
   },
   {
    "duration": 39,
    "start_time": "2023-02-11T11:02:51.167Z"
   },
   {
    "duration": 33,
    "start_time": "2023-02-11T11:02:57.869Z"
   },
   {
    "duration": 39,
    "start_time": "2023-02-11T11:03:31.522Z"
   },
   {
    "duration": 133,
    "start_time": "2023-02-11T12:04:57.690Z"
   },
   {
    "duration": 35,
    "start_time": "2023-02-11T12:05:06.570Z"
   },
   {
    "duration": 38,
    "start_time": "2023-02-11T12:05:09.917Z"
   },
   {
    "duration": 34,
    "start_time": "2023-02-11T12:05:13.159Z"
   },
   {
    "duration": 37,
    "start_time": "2023-02-11T12:05:53.224Z"
   },
   {
    "duration": 43,
    "start_time": "2023-02-11T12:07:30.731Z"
   },
   {
    "duration": 235,
    "start_time": "2023-02-11T12:07:53.635Z"
   },
   {
    "duration": 33,
    "start_time": "2023-02-11T12:08:03.568Z"
   },
   {
    "duration": 33,
    "start_time": "2023-02-11T12:08:27.967Z"
   },
   {
    "duration": 28,
    "start_time": "2023-02-11T12:08:48.514Z"
   },
   {
    "duration": 48,
    "start_time": "2023-02-11T12:09:02.787Z"
   },
   {
    "duration": 33,
    "start_time": "2023-02-11T12:09:11.607Z"
   },
   {
    "duration": 508,
    "start_time": "2023-02-11T12:09:17.933Z"
   },
   {
    "duration": 22,
    "start_time": "2023-02-11T12:09:18.443Z"
   },
   {
    "duration": 17,
    "start_time": "2023-02-11T12:09:18.466Z"
   },
   {
    "duration": 11,
    "start_time": "2023-02-11T12:09:18.485Z"
   },
   {
    "duration": 61,
    "start_time": "2023-02-11T12:09:18.497Z"
   },
   {
    "duration": 4,
    "start_time": "2023-02-11T12:09:18.559Z"
   },
   {
    "duration": 12,
    "start_time": "2023-02-11T12:09:18.565Z"
   },
   {
    "duration": 5,
    "start_time": "2023-02-11T12:09:18.579Z"
   },
   {
    "duration": 9,
    "start_time": "2023-02-11T12:09:18.586Z"
   },
   {
    "duration": 4,
    "start_time": "2023-02-11T12:09:18.599Z"
   },
   {
    "duration": 63,
    "start_time": "2023-02-11T12:09:18.605Z"
   },
   {
    "duration": 10,
    "start_time": "2023-02-11T12:09:18.670Z"
   },
   {
    "duration": 7,
    "start_time": "2023-02-11T12:09:18.681Z"
   },
   {
    "duration": 15,
    "start_time": "2023-02-11T12:09:18.689Z"
   },
   {
    "duration": 21,
    "start_time": "2023-02-11T12:09:18.706Z"
   },
   {
    "duration": 40,
    "start_time": "2023-02-11T12:09:18.728Z"
   },
   {
    "duration": 4,
    "start_time": "2023-02-11T12:09:18.770Z"
   },
   {
    "duration": 13,
    "start_time": "2023-02-11T12:09:18.775Z"
   },
   {
    "duration": 6,
    "start_time": "2023-02-11T12:09:18.790Z"
   },
   {
    "duration": 8,
    "start_time": "2023-02-11T12:09:18.797Z"
   },
   {
    "duration": 11,
    "start_time": "2023-02-11T12:09:18.807Z"
   },
   {
    "duration": 51,
    "start_time": "2023-02-11T12:09:18.820Z"
   },
   {
    "duration": 285,
    "start_time": "2023-02-11T12:09:18.872Z"
   },
   {
    "duration": 26,
    "start_time": "2023-02-11T12:09:19.159Z"
   },
   {
    "duration": 25,
    "start_time": "2023-02-11T12:09:19.187Z"
   },
   {
    "duration": 50,
    "start_time": "2023-02-11T12:09:19.214Z"
   },
   {
    "duration": 36,
    "start_time": "2023-02-11T12:09:19.266Z"
   },
   {
    "duration": 49,
    "start_time": "2023-02-11T12:09:19.305Z"
   },
   {
    "duration": 37,
    "start_time": "2023-02-11T12:09:19.356Z"
   },
   {
    "duration": 35,
    "start_time": "2023-02-11T12:09:26.964Z"
   },
   {
    "duration": 34,
    "start_time": "2023-02-11T12:09:39.703Z"
   },
   {
    "duration": 35,
    "start_time": "2023-02-11T12:10:02.060Z"
   },
   {
    "duration": 38,
    "start_time": "2023-02-11T12:10:07.894Z"
   },
   {
    "duration": 38,
    "start_time": "2023-02-11T12:10:12.807Z"
   },
   {
    "duration": 35,
    "start_time": "2023-02-11T12:10:28.195Z"
   },
   {
    "duration": 109,
    "start_time": "2023-02-11T12:10:38.035Z"
   },
   {
    "duration": 35,
    "start_time": "2023-02-11T12:10:49.867Z"
   },
   {
    "duration": 48,
    "start_time": "2023-02-11T12:11:02.061Z"
   },
   {
    "duration": 201,
    "start_time": "2023-02-11T12:11:05.994Z"
   },
   {
    "duration": 49,
    "start_time": "2023-02-11T12:14:15.496Z"
   },
   {
    "duration": 21,
    "start_time": "2023-02-11T12:14:20.878Z"
   },
   {
    "duration": 57,
    "start_time": "2023-02-11T12:14:36.117Z"
   },
   {
    "duration": 36,
    "start_time": "2023-02-11T12:14:44.502Z"
   },
   {
    "duration": 38,
    "start_time": "2023-02-11T12:17:56.733Z"
   },
   {
    "duration": 37,
    "start_time": "2023-02-11T12:18:32.745Z"
   },
   {
    "duration": 39,
    "start_time": "2023-02-11T12:18:41.105Z"
   },
   {
    "duration": 48,
    "start_time": "2023-02-11T12:18:43.874Z"
   },
   {
    "duration": 37,
    "start_time": "2023-02-11T12:18:53.486Z"
   },
   {
    "duration": 40,
    "start_time": "2023-02-11T12:18:59.313Z"
   },
   {
    "duration": 38,
    "start_time": "2023-02-11T12:19:01.205Z"
   },
   {
    "duration": 40,
    "start_time": "2023-02-11T12:19:04.129Z"
   },
   {
    "duration": 38,
    "start_time": "2023-02-11T12:19:20.835Z"
   },
   {
    "duration": 67,
    "start_time": "2023-02-11T12:22:05.464Z"
   },
   {
    "duration": 37,
    "start_time": "2023-02-11T12:22:19.405Z"
   },
   {
    "duration": 31,
    "start_time": "2023-02-11T12:25:28.654Z"
   },
   {
    "duration": 38,
    "start_time": "2023-02-11T12:25:43.740Z"
   },
   {
    "duration": 45,
    "start_time": "2023-02-11T12:25:47.054Z"
   },
   {
    "duration": 31,
    "start_time": "2023-02-11T12:26:01.243Z"
   },
   {
    "duration": 31,
    "start_time": "2023-02-11T12:41:54.952Z"
   },
   {
    "duration": 58,
    "start_time": "2023-02-11T12:42:12.781Z"
   },
   {
    "duration": 51,
    "start_time": "2023-02-11T12:42:15.971Z"
   },
   {
    "duration": 42,
    "start_time": "2023-02-11T12:42:22.171Z"
   },
   {
    "duration": 32,
    "start_time": "2023-02-11T12:42:44.312Z"
   },
   {
    "duration": 665,
    "start_time": "2024-02-01T16:41:20.771Z"
   },
   {
    "duration": 20,
    "start_time": "2024-02-01T16:41:21.438Z"
   },
   {
    "duration": 14,
    "start_time": "2024-02-01T16:41:21.460Z"
   },
   {
    "duration": 9,
    "start_time": "2024-02-01T16:41:21.476Z"
   },
   {
    "duration": 49,
    "start_time": "2024-02-01T16:41:21.487Z"
   },
   {
    "duration": 3,
    "start_time": "2024-02-01T16:41:21.538Z"
   },
   {
    "duration": 8,
    "start_time": "2024-02-01T16:41:21.542Z"
   },
   {
    "duration": 4,
    "start_time": "2024-02-01T16:41:21.551Z"
   },
   {
    "duration": 7,
    "start_time": "2024-02-01T16:41:21.556Z"
   },
   {
    "duration": 4,
    "start_time": "2024-02-01T16:41:21.564Z"
   },
   {
    "duration": 37,
    "start_time": "2024-02-01T16:41:21.569Z"
   },
   {
    "duration": 10,
    "start_time": "2024-02-01T16:41:21.632Z"
   },
   {
    "duration": 5,
    "start_time": "2024-02-01T16:41:21.644Z"
   },
   {
    "duration": 11,
    "start_time": "2024-02-01T16:41:21.651Z"
   },
   {
    "duration": 19,
    "start_time": "2024-02-01T16:41:21.664Z"
   },
   {
    "duration": 17,
    "start_time": "2024-02-01T16:41:21.685Z"
   },
   {
    "duration": 30,
    "start_time": "2024-02-01T16:41:21.703Z"
   },
   {
    "duration": 10,
    "start_time": "2024-02-01T16:41:21.735Z"
   },
   {
    "duration": 8,
    "start_time": "2024-02-01T16:41:21.746Z"
   },
   {
    "duration": 3,
    "start_time": "2024-02-01T16:41:21.755Z"
   },
   {
    "duration": 13,
    "start_time": "2024-02-01T16:41:21.760Z"
   },
   {
    "duration": 27,
    "start_time": "2024-02-01T16:41:21.774Z"
   },
   {
    "duration": 451,
    "start_time": "2024-02-01T16:41:21.802Z"
   },
   {
    "duration": 29,
    "start_time": "2024-02-01T16:41:22.255Z"
   },
   {
    "duration": 47,
    "start_time": "2024-02-01T16:41:22.285Z"
   },
   {
    "duration": 30,
    "start_time": "2024-02-01T16:41:22.334Z"
   },
   {
    "duration": 29,
    "start_time": "2024-02-01T16:41:22.366Z"
   },
   {
    "duration": 41,
    "start_time": "2024-02-01T16:41:22.397Z"
   },
   {
    "duration": 32,
    "start_time": "2024-02-01T16:41:22.440Z"
   },
   {
    "duration": 30,
    "start_time": "2024-02-01T16:41:22.474Z"
   }
  ],
  "colab": {
   "name": "dpp_template_part2.ipynb",
   "provenance": []
  },
  "kernelspec": {
   "display_name": "Python 3 (ipykernel)",
   "language": "python",
   "name": "python3"
  },
  "language_info": {
   "codemirror_mode": {
    "name": "ipython",
    "version": 3
   },
   "file_extension": ".py",
   "mimetype": "text/x-python",
   "name": "python",
   "nbconvert_exporter": "python",
   "pygments_lexer": "ipython3",
   "version": "3.9.16"
  },
  "toc": {
   "base_numbering": 1,
   "nav_menu": {},
   "number_sections": true,
   "sideBar": true,
   "skip_h1_title": true,
   "title_cell": "Table of Contents",
   "title_sidebar": "Contents",
   "toc_cell": false,
   "toc_position": {
    "height": "calc(100% - 180px)",
    "left": "10px",
    "top": "150px",
    "width": "450px"
   },
   "toc_section_display": true,
   "toc_window_display": true
  },
  "varInspector": {
   "cols": {
    "lenName": 16,
    "lenType": 16,
    "lenVar": 40
   },
   "kernels_config": {
    "python": {
     "delete_cmd_postfix": "",
     "delete_cmd_prefix": "del ",
     "library": "var_list.py",
     "varRefreshCmd": "print(var_dic_list())"
    },
    "r": {
     "delete_cmd_postfix": ") ",
     "delete_cmd_prefix": "rm(",
     "library": "var_list.r",
     "varRefreshCmd": "cat(var_dic_list()) "
    }
   },
   "types_to_exclude": [
    "module",
    "function",
    "builtin_function_or_method",
    "instance",
    "_Feature"
   ],
   "window_display": false
  }
 },
 "nbformat": 4,
 "nbformat_minor": 5
}
