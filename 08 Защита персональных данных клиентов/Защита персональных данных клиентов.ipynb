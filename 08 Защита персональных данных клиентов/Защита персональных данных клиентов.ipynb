{
 "cells": [
  {
   "cell_type": "markdown",
   "metadata": {
    "toc": true
   },
   "source": [
    "<h1>Содержание<span class=\"tocSkip\"></span></h1>\n",
    "<div class=\"toc\"><ul class=\"toc-item\"><li><span><a href=\"#Загрузка-данных\" data-toc-modified-id=\"Загрузка-данных-1\"><span class=\"toc-item-num\">1&nbsp;&nbsp;</span>Загрузка данных</a></span></li><li><span><a href=\"#Умножение-матриц\" data-toc-modified-id=\"Умножение-матриц-2\"><span class=\"toc-item-num\">2&nbsp;&nbsp;</span>Умножение матриц</a></span></li><li><span><a href=\"#Алгоритм-преобразования\" data-toc-modified-id=\"Алгоритм-преобразования-3\"><span class=\"toc-item-num\">3&nbsp;&nbsp;</span>Алгоритм преобразования</a></span></li><li><span><a href=\"#Проверка-алгоритма\" data-toc-modified-id=\"Проверка-алгоритма-4\"><span class=\"toc-item-num\">4&nbsp;&nbsp;</span>Проверка алгоритма</a></span><ul class=\"toc-item\"><li><span><a href=\"#Неизмененные-признаки\" data-toc-modified-id=\"Неизмененные-признаки-4.1\"><span class=\"toc-item-num\">4.1&nbsp;&nbsp;</span>Неизмененные признаки</a></span></li><li><span><a href=\"#Новые-признаки\" data-toc-modified-id=\"Новые-признаки-4.2\"><span class=\"toc-item-num\">4.2&nbsp;&nbsp;</span>Новые признаки</a></span></li><li><span><a href=\"#Сравнение\" data-toc-modified-id=\"Сравнение-4.3\"><span class=\"toc-item-num\">4.3&nbsp;&nbsp;</span>Сравнение</a></span></li></ul></li><li><span><a href=\"#Итог\" data-toc-modified-id=\"Итог-5\"><span class=\"toc-item-num\">5&nbsp;&nbsp;</span>Итог</a></span></li><li><span><a href=\"#Чек-лист-проверки\" data-toc-modified-id=\"Чек-лист-проверки-6\"><span class=\"toc-item-num\">6&nbsp;&nbsp;</span>Чек-лист проверки</a></span></li></ul></div>"
   ]
  },
  {
   "cell_type": "markdown",
   "metadata": {},
   "source": [
    "# Защита персональных данных клиентов"
   ]
  },
  {
   "cell_type": "markdown",
   "metadata": {},
   "source": [
    "Вам нужно защитить данные клиентов страховой компании «Хоть потоп». Разработайте такой метод преобразования данных, чтобы по ним было сложно восстановить персональную информацию. Обоснуйте корректность его работы.\n",
    "\n",
    "Нужно защитить данные, чтобы при преобразовании качество моделей машинного обучения не ухудшилось. Подбирать наилучшую модель не требуется."
   ]
  },
  {
   "cell_type": "code",
   "execution_count": 1,
   "metadata": {},
   "outputs": [],
   "source": [
    "import pandas as pd\n",
    "import numpy as np\n",
    "from sklearn.linear_model import LinearRegression\n",
    "from sklearn.model_selection import train_test_split\n",
    "from sklearn.metrics import r2_score"
   ]
  },
  {
   "cell_type": "markdown",
   "metadata": {},
   "source": [
    "## Загрузка данных"
   ]
  },
  {
   "cell_type": "code",
   "execution_count": 2,
   "metadata": {},
   "outputs": [],
   "source": [
    "data = pd.read_csv('/datasets/insurance.csv')"
   ]
  },
  {
   "cell_type": "code",
   "execution_count": 3,
   "metadata": {},
   "outputs": [
    {
     "data": {
      "text/html": [
       "<div>\n",
       "<style scoped>\n",
       "    .dataframe tbody tr th:only-of-type {\n",
       "        vertical-align: middle;\n",
       "    }\n",
       "\n",
       "    .dataframe tbody tr th {\n",
       "        vertical-align: top;\n",
       "    }\n",
       "\n",
       "    .dataframe thead th {\n",
       "        text-align: right;\n",
       "    }\n",
       "</style>\n",
       "<table border=\"1\" class=\"dataframe\">\n",
       "  <thead>\n",
       "    <tr style=\"text-align: right;\">\n",
       "      <th></th>\n",
       "      <th>Пол</th>\n",
       "      <th>Возраст</th>\n",
       "      <th>Зарплата</th>\n",
       "      <th>Члены семьи</th>\n",
       "      <th>Страховые выплаты</th>\n",
       "    </tr>\n",
       "  </thead>\n",
       "  <tbody>\n",
       "    <tr>\n",
       "      <th>0</th>\n",
       "      <td>1</td>\n",
       "      <td>41.0</td>\n",
       "      <td>49600.0</td>\n",
       "      <td>1</td>\n",
       "      <td>0</td>\n",
       "    </tr>\n",
       "    <tr>\n",
       "      <th>1</th>\n",
       "      <td>0</td>\n",
       "      <td>46.0</td>\n",
       "      <td>38000.0</td>\n",
       "      <td>1</td>\n",
       "      <td>1</td>\n",
       "    </tr>\n",
       "    <tr>\n",
       "      <th>2</th>\n",
       "      <td>0</td>\n",
       "      <td>29.0</td>\n",
       "      <td>21000.0</td>\n",
       "      <td>0</td>\n",
       "      <td>0</td>\n",
       "    </tr>\n",
       "    <tr>\n",
       "      <th>3</th>\n",
       "      <td>0</td>\n",
       "      <td>21.0</td>\n",
       "      <td>41700.0</td>\n",
       "      <td>2</td>\n",
       "      <td>0</td>\n",
       "    </tr>\n",
       "    <tr>\n",
       "      <th>4</th>\n",
       "      <td>1</td>\n",
       "      <td>28.0</td>\n",
       "      <td>26100.0</td>\n",
       "      <td>0</td>\n",
       "      <td>0</td>\n",
       "    </tr>\n",
       "  </tbody>\n",
       "</table>\n",
       "</div>"
      ],
      "text/plain": [
       "   Пол  Возраст  Зарплата  Члены семьи  Страховые выплаты\n",
       "0    1     41.0   49600.0            1                  0\n",
       "1    0     46.0   38000.0            1                  1\n",
       "2    0     29.0   21000.0            0                  0\n",
       "3    0     21.0   41700.0            2                  0\n",
       "4    1     28.0   26100.0            0                  0"
      ]
     },
     "execution_count": 3,
     "metadata": {},
     "output_type": "execute_result"
    }
   ],
   "source": [
    "data.head()"
   ]
  },
  {
   "cell_type": "markdown",
   "metadata": {},
   "source": [
    "* 4 признака: `Пол`, `Возраст`, `Зарплата` и `Члены семьи`;\n",
    "* целевой признак - `Страховые выплаты`."
   ]
  },
  {
   "cell_type": "code",
   "execution_count": 4,
   "metadata": {
    "scrolled": true
   },
   "outputs": [
    {
     "name": "stdout",
     "output_type": "stream",
     "text": [
      "<class 'pandas.core.frame.DataFrame'>\n",
      "RangeIndex: 5000 entries, 0 to 4999\n",
      "Data columns (total 5 columns):\n",
      " #   Column             Non-Null Count  Dtype  \n",
      "---  ------             --------------  -----  \n",
      " 0   Пол                5000 non-null   int64  \n",
      " 1   Возраст            5000 non-null   float64\n",
      " 2   Зарплата           5000 non-null   float64\n",
      " 3   Члены семьи        5000 non-null   int64  \n",
      " 4   Страховые выплаты  5000 non-null   int64  \n",
      "dtypes: float64(2), int64(3)\n",
      "memory usage: 195.4 KB\n"
     ]
    }
   ],
   "source": [
    "data.info()"
   ]
  },
  {
   "cell_type": "markdown",
   "metadata": {},
   "source": [
    "Пропущенных данных нет, типы данных соответствуют признакам."
   ]
  },
  {
   "cell_type": "code",
   "execution_count": 5,
   "metadata": {},
   "outputs": [
    {
     "data": {
      "text/html": [
       "<div>\n",
       "<style scoped>\n",
       "    .dataframe tbody tr th:only-of-type {\n",
       "        vertical-align: middle;\n",
       "    }\n",
       "\n",
       "    .dataframe tbody tr th {\n",
       "        vertical-align: top;\n",
       "    }\n",
       "\n",
       "    .dataframe thead th {\n",
       "        text-align: right;\n",
       "    }\n",
       "</style>\n",
       "<table border=\"1\" class=\"dataframe\">\n",
       "  <thead>\n",
       "    <tr style=\"text-align: right;\">\n",
       "      <th></th>\n",
       "      <th>count</th>\n",
       "      <th>mean</th>\n",
       "      <th>std</th>\n",
       "      <th>min</th>\n",
       "      <th>25%</th>\n",
       "      <th>50%</th>\n",
       "      <th>75%</th>\n",
       "      <th>max</th>\n",
       "    </tr>\n",
       "  </thead>\n",
       "  <tbody>\n",
       "    <tr>\n",
       "      <th>Пол</th>\n",
       "      <td>5000.0</td>\n",
       "      <td>0.4990</td>\n",
       "      <td>0.500049</td>\n",
       "      <td>0.0</td>\n",
       "      <td>0.0</td>\n",
       "      <td>0.0</td>\n",
       "      <td>1.0</td>\n",
       "      <td>1.0</td>\n",
       "    </tr>\n",
       "    <tr>\n",
       "      <th>Возраст</th>\n",
       "      <td>5000.0</td>\n",
       "      <td>30.9528</td>\n",
       "      <td>8.440807</td>\n",
       "      <td>18.0</td>\n",
       "      <td>24.0</td>\n",
       "      <td>30.0</td>\n",
       "      <td>37.0</td>\n",
       "      <td>65.0</td>\n",
       "    </tr>\n",
       "    <tr>\n",
       "      <th>Зарплата</th>\n",
       "      <td>5000.0</td>\n",
       "      <td>39916.3600</td>\n",
       "      <td>9900.083569</td>\n",
       "      <td>5300.0</td>\n",
       "      <td>33300.0</td>\n",
       "      <td>40200.0</td>\n",
       "      <td>46600.0</td>\n",
       "      <td>79000.0</td>\n",
       "    </tr>\n",
       "    <tr>\n",
       "      <th>Члены семьи</th>\n",
       "      <td>5000.0</td>\n",
       "      <td>1.1942</td>\n",
       "      <td>1.091387</td>\n",
       "      <td>0.0</td>\n",
       "      <td>0.0</td>\n",
       "      <td>1.0</td>\n",
       "      <td>2.0</td>\n",
       "      <td>6.0</td>\n",
       "    </tr>\n",
       "    <tr>\n",
       "      <th>Страховые выплаты</th>\n",
       "      <td>5000.0</td>\n",
       "      <td>0.1480</td>\n",
       "      <td>0.463183</td>\n",
       "      <td>0.0</td>\n",
       "      <td>0.0</td>\n",
       "      <td>0.0</td>\n",
       "      <td>0.0</td>\n",
       "      <td>5.0</td>\n",
       "    </tr>\n",
       "  </tbody>\n",
       "</table>\n",
       "</div>"
      ],
      "text/plain": [
       "                    count        mean          std     min      25%      50%  \\\n",
       "Пол                5000.0      0.4990     0.500049     0.0      0.0      0.0   \n",
       "Возраст            5000.0     30.9528     8.440807    18.0     24.0     30.0   \n",
       "Зарплата           5000.0  39916.3600  9900.083569  5300.0  33300.0  40200.0   \n",
       "Члены семьи        5000.0      1.1942     1.091387     0.0      0.0      1.0   \n",
       "Страховые выплаты  5000.0      0.1480     0.463183     0.0      0.0      0.0   \n",
       "\n",
       "                       75%      max  \n",
       "Пол                    1.0      1.0  \n",
       "Возраст               37.0     65.0  \n",
       "Зарплата           46600.0  79000.0  \n",
       "Члены семьи            2.0      6.0  \n",
       "Страховые выплаты      0.0      5.0  "
      ]
     },
     "execution_count": 5,
     "metadata": {},
     "output_type": "execute_result"
    }
   ],
   "source": [
    "data.describe().T"
   ]
  },
  {
   "cell_type": "markdown",
   "metadata": {},
   "source": [
    "* `Пол` (0 - мужской, 1 - женский);\n",
    "* `Возраст` варьируется от 18 до 65 лет, средний возраст - 30 лет;\n",
    "* `Зарплата` варьируется от 5300 до 79000, средняя зарплата - 40000;\n",
    "* `Члены семьи` среднее значение 1, максимальное 6;\n",
    "* `Страховые выплаты` минимальное 0, максимальное 5, ~75% клиентов не получали страховые выплаты."
   ]
  },
  {
   "cell_type": "markdown",
   "metadata": {},
   "source": [
    "## Умножение матриц"
   ]
  },
  {
   "cell_type": "markdown",
   "metadata": {},
   "source": [
    "В этом задании вы можете записывать формулы в *Jupyter Notebook.*\n",
    "\n",
    "Чтобы записать формулу внутри текста, окружите её символами доллара \\\\$; если снаружи —  двойными символами \\\\$\\\\$. Эти формулы записываются на языке вёрстки *LaTeX.* \n",
    "\n",
    "Для примера мы записали формулы линейной регрессии. Можете их скопировать и отредактировать, чтобы решить задачу.\n",
    "\n",
    "Работать в *LaTeX* необязательно."
   ]
  },
  {
   "cell_type": "markdown",
   "metadata": {},
   "source": [
    "Обозначения:\n",
    "\n",
    "- $X$ — матрица признаков (нулевой столбец состоит из единиц)\n",
    "\n",
    "- $y$ — вектор целевого признака\n",
    "\n",
    "- $P$ — матрица, на которую умножаются признаки\n",
    "\n",
    "- $w$ — вектор весов линейной регрессии (нулевой элемент равен сдвигу)"
   ]
  },
  {
   "cell_type": "markdown",
   "metadata": {},
   "source": [
    "Предсказания:\n",
    "\n",
    "$$\n",
    "a = Xw\n",
    "$$\n",
    "\n",
    "Задача обучения:\n",
    "\n",
    "$$\n",
    "w = \\arg\\min_w MSE(Xw, y)\n",
    "$$\n",
    "\n",
    "Формула обучения:\n",
    "\n",
    "$$\n",
    "w = (X^T X)^{-1} X^T y\n",
    "$$"
   ]
  },
  {
   "cell_type": "markdown",
   "metadata": {},
   "source": [
    "**Ответ:** Не изменится\n",
    "\n",
    "**Обоснование:** Для обоснования ответа заменим матрицу признаков $X$ на произведение матрицы признаков $X$ и $P$. Утверждается, что $XPw = Xw$.\n",
    "\n",
    "$a = XPw$\n",
    "\n",
    "$w = ((XP)^TXP)^{-1}(XP)^Ty$\n",
    "\n",
    "Подставляем $w$ во второе уравнение.\n",
    "\n",
    "$a = XP((XP)^T(XP))^{-1}(XP)^Ty$\n",
    "\n",
    "По свойству матрицы: $(AB)^{-1} = B^{-1}A^{-1}$ (верно и для транспонирования)\n",
    "\n",
    "Раскрываем скобки: $a = XP(P^TX^TXP)^{-1}P^TX^Ty $\n",
    "\n",
    "Поскольку умножение матриц ассоциативно:\n",
    "$a = XPP^{-1}(X^TX)^{-1}(P^T)^{-1}P^TX^Ty $\n",
    "\n",
    "\n",
    "$a = X(X^TX)^{-1}(P^T)^{-1}P^TX^Ty$\n",
    "\n",
    "Учитывая, что $(P^T)^{-1}P^T = E$\n",
    "\n",
    "$a = X(X^TX)^{-1}X^Ty = Xw$ \n",
    "\n",
    "$a = Xw$\n",
    "\n",
    "В итоге формула предсказания не изменилась после умножения матрицы признаков $X$ на матрицу $P$"
   ]
  },
  {
   "cell_type": "markdown",
   "metadata": {},
   "source": [
    "## Алгоритм преобразования"
   ]
  },
  {
   "cell_type": "markdown",
   "metadata": {},
   "source": [
    "**Алгоритм**\n",
    "\n",
    "Воспользуемся предыдущим шагом для защиты информации клиентов. Матрицу признаков $X$ (информация клиента) будем умножать на случайную обратимую матрицу $P$.\n",
    "\n",
    "Выполняться алгоритм будет в несколько шагов:\n",
    "\n",
    "1. Генерация обратимой матрицы $P$\n",
    "2. Получение новой матрицы признаков $Z$ путем умножения матрицы признаков $X$ на матрицу $P$\n",
    "3. Применение линейного алгоритма машинного обучения на новой матрице признаков $Z$"
   ]
  },
  {
   "cell_type": "markdown",
   "metadata": {},
   "source": [
    "**Обоснование**\n",
    "\n",
    "Обоснованием является предыдущий шаг."
   ]
  },
  {
   "cell_type": "markdown",
   "metadata": {},
   "source": [
    "## Проверка алгоритма"
   ]
  },
  {
   "cell_type": "markdown",
   "metadata": {},
   "source": [
    "Для проверки предложенного алгоритма выполним следующие действия:\n",
    "\n",
    "1. Вычислим качество модели на неизмененных данных\n",
    "2. Вычислим качество модели с изменением признаков\n",
    "3. Сравним коэффицент детерминации для этих двух моделей"
   ]
  },
  {
   "cell_type": "markdown",
   "metadata": {},
   "source": [
    "### Неизмененные признаки"
   ]
  },
  {
   "cell_type": "code",
   "execution_count": 6,
   "metadata": {},
   "outputs": [],
   "source": [
    "# разделим данные на тренировочные и тестовые\n",
    "X_train, X_test, y_train, y_test = train_test_split(\n",
    "    data.drop('Страховые выплаты', axis=1), \n",
    "    data['Страховые выплаты'], \n",
    "    test_size=0.33, \n",
    "    random_state=42)"
   ]
  },
  {
   "cell_type": "code",
   "execution_count": 7,
   "metadata": {},
   "outputs": [
    {
     "name": "stdout",
     "output_type": "stream",
     "text": [
      "R2 = 0.41541402565474894\n"
     ]
    }
   ],
   "source": [
    "model = LinearRegression()\n",
    "model.fit(X_train, y_train)\n",
    "r2_old = r2_score(y_test, model.predict(X_test))\n",
    "print(\"R2 =\", r2_old)"
   ]
  },
  {
   "cell_type": "markdown",
   "metadata": {},
   "source": [
    "### Новые признаки"
   ]
  },
  {
   "cell_type": "code",
   "execution_count": 8,
   "metadata": {
    "scrolled": true
   },
   "outputs": [],
   "source": [
    "features = data.drop('Страховые выплаты', axis=1)"
   ]
  },
  {
   "cell_type": "code",
   "execution_count": 9,
   "metadata": {},
   "outputs": [],
   "source": [
    "# создадим функцию для генерации обратимой матрицы\n",
    "def matrix_gen(features):\n",
    "    # количество столбцов\n",
    "    n = features.shape[1]\n",
    "    # количество строк\n",
    "    m = features.shape[0]\n",
    "    # генерация матрицы P\n",
    "    p = np.random.rand(n, n)\n",
    "    # проверка обратимости, если определить не равен 0, то матрица обратима\n",
    "    det = np.linalg.det(p)\n",
    "    if det == 0:\n",
    "        print('Матрица необратима')\n",
    "    # новая матрица признаков\n",
    "    new_features = features @ p\n",
    "    return new_features, p"
   ]
  },
  {
   "cell_type": "code",
   "execution_count": 10,
   "metadata": {
    "scrolled": false
   },
   "outputs": [],
   "source": [
    "new_features, p = matrix_gen(features)"
   ]
  },
  {
   "cell_type": "code",
   "execution_count": 11,
   "metadata": {
    "scrolled": true
   },
   "outputs": [
    {
     "name": "stdout",
     "output_type": "stream",
     "text": [
      "Новые признаки\n"
     ]
    },
    {
     "data": {
      "text/html": [
       "<div>\n",
       "<style scoped>\n",
       "    .dataframe tbody tr th:only-of-type {\n",
       "        vertical-align: middle;\n",
       "    }\n",
       "\n",
       "    .dataframe tbody tr th {\n",
       "        vertical-align: top;\n",
       "    }\n",
       "\n",
       "    .dataframe thead th {\n",
       "        text-align: right;\n",
       "    }\n",
       "</style>\n",
       "<table border=\"1\" class=\"dataframe\">\n",
       "  <thead>\n",
       "    <tr style=\"text-align: right;\">\n",
       "      <th></th>\n",
       "      <th>0</th>\n",
       "      <th>1</th>\n",
       "      <th>2</th>\n",
       "      <th>3</th>\n",
       "    </tr>\n",
       "  </thead>\n",
       "  <tbody>\n",
       "    <tr>\n",
       "      <th>0</th>\n",
       "      <td>4742.157627</td>\n",
       "      <td>30302.255294</td>\n",
       "      <td>7382.623703</td>\n",
       "      <td>36504.950193</td>\n",
       "    </tr>\n",
       "    <tr>\n",
       "      <th>1</th>\n",
       "      <td>3639.915784</td>\n",
       "      <td>23224.193802</td>\n",
       "      <td>5667.150647</td>\n",
       "      <td>27971.522402</td>\n",
       "    </tr>\n",
       "    <tr>\n",
       "      <th>2</th>\n",
       "      <td>2013.250277</td>\n",
       "      <td>12836.232042</td>\n",
       "      <td>3134.218701</td>\n",
       "      <td>15458.882369</td>\n",
       "    </tr>\n",
       "    <tr>\n",
       "      <th>3</th>\n",
       "      <td>3979.444036</td>\n",
       "      <td>25468.201325</td>\n",
       "      <td>6196.482540</td>\n",
       "      <td>30686.192817</td>\n",
       "    </tr>\n",
       "    <tr>\n",
       "      <th>4</th>\n",
       "      <td>2498.975218</td>\n",
       "      <td>15949.047992</td>\n",
       "      <td>3889.786204</td>\n",
       "      <td>19211.450382</td>\n",
       "    </tr>\n",
       "    <tr>\n",
       "      <th>...</th>\n",
       "      <td>...</td>\n",
       "      <td>...</td>\n",
       "      <td>...</td>\n",
       "      <td>...</td>\n",
       "    </tr>\n",
       "    <tr>\n",
       "      <th>4995</th>\n",
       "      <td>3412.042038</td>\n",
       "      <td>21809.981765</td>\n",
       "      <td>5313.018392</td>\n",
       "      <td>26274.119358</td>\n",
       "    </tr>\n",
       "    <tr>\n",
       "      <th>4996</th>\n",
       "      <td>5004.133809</td>\n",
       "      <td>32006.833367</td>\n",
       "      <td>7791.241277</td>\n",
       "      <td>38561.990316</td>\n",
       "    </tr>\n",
       "    <tr>\n",
       "      <th>4997</th>\n",
       "      <td>3236.659436</td>\n",
       "      <td>20706.387258</td>\n",
       "      <td>5040.032395</td>\n",
       "      <td>24947.358719</td>\n",
       "    </tr>\n",
       "    <tr>\n",
       "      <th>4998</th>\n",
       "      <td>3124.590426</td>\n",
       "      <td>19976.089131</td>\n",
       "      <td>4865.342728</td>\n",
       "      <td>24066.217008</td>\n",
       "    </tr>\n",
       "    <tr>\n",
       "      <th>4999</th>\n",
       "      <td>3879.044028</td>\n",
       "      <td>24800.666250</td>\n",
       "      <td>6038.937512</td>\n",
       "      <td>29879.537319</td>\n",
       "    </tr>\n",
       "  </tbody>\n",
       "</table>\n",
       "<p>5000 rows × 4 columns</p>\n",
       "</div>"
      ],
      "text/plain": [
       "                0             1            2             3\n",
       "0     4742.157627  30302.255294  7382.623703  36504.950193\n",
       "1     3639.915784  23224.193802  5667.150647  27971.522402\n",
       "2     2013.250277  12836.232042  3134.218701  15458.882369\n",
       "3     3979.444036  25468.201325  6196.482540  30686.192817\n",
       "4     2498.975218  15949.047992  3889.786204  19211.450382\n",
       "...           ...           ...          ...           ...\n",
       "4995  3412.042038  21809.981765  5313.018392  26274.119358\n",
       "4996  5004.133809  32006.833367  7791.241277  38561.990316\n",
       "4997  3236.659436  20706.387258  5040.032395  24947.358719\n",
       "4998  3124.590426  19976.089131  4865.342728  24066.217008\n",
       "4999  3879.044028  24800.666250  6038.937512  29879.537319\n",
       "\n",
       "[5000 rows x 4 columns]"
      ]
     },
     "metadata": {},
     "output_type": "display_data"
    },
    {
     "name": "stdout",
     "output_type": "stream",
     "text": [
      "Матрица P\n"
     ]
    },
    {
     "data": {
      "text/plain": [
       "array([[0.90334986, 0.32568387, 0.72828164, 0.76734786],\n",
       "       [0.51108941, 0.60679592, 0.78680716, 0.31075258],\n",
       "       [0.09516327, 0.61041119, 0.14816197, 0.73570812],\n",
       "       [0.201386  , 0.65602325, 0.8027964 , 0.31918068]])"
      ]
     },
     "metadata": {},
     "output_type": "display_data"
    }
   ],
   "source": [
    "print('Новые признаки')\n",
    "display(new_features)\n",
    "print('Матрица P')\n",
    "display(p)"
   ]
  },
  {
   "cell_type": "code",
   "execution_count": 12,
   "metadata": {},
   "outputs": [],
   "source": [
    "# разделим новые данные на тренировочные и тестовые\n",
    "X_train, X_test, y_train, y_test = train_test_split(\n",
    "    new_features, \n",
    "    data['Страховые выплаты'], \n",
    "    test_size=0.33, \n",
    "    random_state=42)"
   ]
  },
  {
   "cell_type": "code",
   "execution_count": 13,
   "metadata": {
    "scrolled": true
   },
   "outputs": [
    {
     "name": "stdout",
     "output_type": "stream",
     "text": [
      "R2 = 0.415414025655505\n"
     ]
    }
   ],
   "source": [
    "model = LinearRegression()\n",
    "model.fit(X_train, y_train)\n",
    "r2_new = r2_score(y_test, model.predict(X_test))\n",
    "print(\"R2 =\", r2_new)"
   ]
  },
  {
   "cell_type": "markdown",
   "metadata": {},
   "source": [
    "### Сравнение"
   ]
  },
  {
   "cell_type": "code",
   "execution_count": 14,
   "metadata": {},
   "outputs": [],
   "source": [
    "r2_score = pd.DataFrame(data=[r2_old, r2_new],\n",
    "                       index = ['Лин. регрессия на старых признаках', 'Лин. регрессия на новых признаках'],\n",
    "                       columns = ['r2 score'])"
   ]
  },
  {
   "cell_type": "code",
   "execution_count": 15,
   "metadata": {
    "scrolled": true
   },
   "outputs": [
    {
     "data": {
      "text/html": [
       "<div>\n",
       "<style scoped>\n",
       "    .dataframe tbody tr th:only-of-type {\n",
       "        vertical-align: middle;\n",
       "    }\n",
       "\n",
       "    .dataframe tbody tr th {\n",
       "        vertical-align: top;\n",
       "    }\n",
       "\n",
       "    .dataframe thead th {\n",
       "        text-align: right;\n",
       "    }\n",
       "</style>\n",
       "<table border=\"1\" class=\"dataframe\">\n",
       "  <thead>\n",
       "    <tr style=\"text-align: right;\">\n",
       "      <th></th>\n",
       "      <th>r2 score</th>\n",
       "    </tr>\n",
       "  </thead>\n",
       "  <tbody>\n",
       "    <tr>\n",
       "      <th>Лин. регрессия на старых признаках</th>\n",
       "      <td>0.415414</td>\n",
       "    </tr>\n",
       "    <tr>\n",
       "      <th>Лин. регрессия на новых признаках</th>\n",
       "      <td>0.415414</td>\n",
       "    </tr>\n",
       "  </tbody>\n",
       "</table>\n",
       "</div>"
      ],
      "text/plain": [
       "                                    r2 score\n",
       "Лин. регрессия на старых признаках  0.415414\n",
       "Лин. регрессия на новых признаках   0.415414"
      ]
     },
     "execution_count": 15,
     "metadata": {},
     "output_type": "execute_result"
    }
   ],
   "source": [
    "r2_score"
   ]
  },
  {
   "cell_type": "markdown",
   "metadata": {},
   "source": [
    "Качество модели не изменилось, при этом удалось зашифровать данные в признаках клиентов."
   ]
  },
  {
   "cell_type": "markdown",
   "metadata": {},
   "source": [
    "## Итог"
   ]
  },
  {
   "cell_type": "markdown",
   "metadata": {},
   "source": [
    "В ходе исследования были проделаны следующие шаги:\n",
    "\n",
    "1. Загрузили и ознакомились с данными\n",
    "2. Доказали, что качество модели не изменится, если умножить матрицу признаков на случайную обратимую матрицу\n",
    "3. Составили алгоритм преобразования для шифровки данных клиентов\n",
    "4. Проверили и сравнили качество моделей на новых и старых данных\n",
    "\n",
    "В итоге качество модели не изменилось, таким образом можно зашифровать данные клиентов без потери качества линейной модели."
   ]
  }
 ],
 "metadata": {
  "ExecuteTimeLog": [
   {
    "duration": 393,
    "start_time": "2023-06-02T09:39:47.886Z"
   },
   {
    "duration": 83,
    "start_time": "2023-06-02T09:39:58.666Z"
   },
   {
    "duration": 20,
    "start_time": "2023-06-02T09:40:05.667Z"
   },
   {
    "duration": 24,
    "start_time": "2023-06-02T09:42:05.424Z"
   },
   {
    "duration": 10,
    "start_time": "2023-06-02T09:42:13.451Z"
   },
   {
    "duration": 420,
    "start_time": "2023-06-09T10:24:45.918Z"
   },
   {
    "duration": 122,
    "start_time": "2023-06-09T10:24:46.627Z"
   },
   {
    "duration": 15,
    "start_time": "2023-06-09T10:24:46.927Z"
   },
   {
    "duration": 11,
    "start_time": "2023-06-09T10:24:50.158Z"
   },
   {
    "duration": 28,
    "start_time": "2023-06-09T10:24:51.327Z"
   },
   {
    "duration": 1484,
    "start_time": "2023-06-15T10:39:37.529Z"
   },
   {
    "duration": 178,
    "start_time": "2023-06-15T10:39:39.016Z"
   },
   {
    "duration": 24,
    "start_time": "2023-06-15T10:39:39.198Z"
   },
   {
    "duration": 14,
    "start_time": "2023-06-15T10:39:39.224Z"
   },
   {
    "duration": 50,
    "start_time": "2023-06-15T10:39:40.138Z"
   },
   {
    "duration": 1509,
    "start_time": "2023-06-15T13:25:15.020Z"
   },
   {
    "duration": 49,
    "start_time": "2023-06-15T13:25:16.531Z"
   },
   {
    "duration": 15,
    "start_time": "2023-06-15T13:25:16.582Z"
   },
   {
    "duration": 11,
    "start_time": "2023-06-15T13:25:16.599Z"
   },
   {
    "duration": 41,
    "start_time": "2023-06-15T13:25:16.612Z"
   },
   {
    "duration": 3,
    "start_time": "2023-06-15T14:05:18.924Z"
   },
   {
    "duration": 109,
    "start_time": "2023-06-15T14:22:33.957Z"
   },
   {
    "duration": 6,
    "start_time": "2023-06-15T14:22:44.207Z"
   },
   {
    "duration": 13,
    "start_time": "2023-06-15T14:22:48.922Z"
   },
   {
    "duration": 4,
    "start_time": "2023-06-15T14:22:55.167Z"
   },
   {
    "duration": 3,
    "start_time": "2023-06-15T14:26:08.427Z"
   },
   {
    "duration": 68,
    "start_time": "2023-06-15T14:34:34.902Z"
   },
   {
    "duration": 4,
    "start_time": "2023-06-15T14:34:38.894Z"
   },
   {
    "duration": 10,
    "start_time": "2023-06-15T14:34:49.599Z"
   },
   {
    "duration": 4,
    "start_time": "2023-06-15T14:35:16.508Z"
   },
   {
    "duration": 94,
    "start_time": "2023-06-15T14:35:17.088Z"
   },
   {
    "duration": 4,
    "start_time": "2023-06-15T14:35:25.910Z"
   },
   {
    "duration": 87,
    "start_time": "2023-06-15T14:35:26.255Z"
   },
   {
    "duration": 3,
    "start_time": "2023-06-15T14:35:30.126Z"
   },
   {
    "duration": 8,
    "start_time": "2023-06-15T14:35:30.710Z"
   },
   {
    "duration": 5,
    "start_time": "2023-06-15T14:35:38.465Z"
   },
   {
    "duration": 9,
    "start_time": "2023-06-15T14:35:38.635Z"
   },
   {
    "duration": 4,
    "start_time": "2023-06-15T14:35:40.718Z"
   },
   {
    "duration": 8,
    "start_time": "2023-06-15T14:35:40.911Z"
   },
   {
    "duration": 5,
    "start_time": "2023-06-15T14:35:42.504Z"
   },
   {
    "duration": 10,
    "start_time": "2023-06-15T14:35:42.706Z"
   },
   {
    "duration": 4,
    "start_time": "2023-06-15T14:35:44.102Z"
   },
   {
    "duration": 9,
    "start_time": "2023-06-15T14:35:44.265Z"
   },
   {
    "duration": 3,
    "start_time": "2023-06-15T14:35:45.927Z"
   },
   {
    "duration": 9,
    "start_time": "2023-06-15T14:35:46.381Z"
   },
   {
    "duration": 5,
    "start_time": "2023-06-15T14:35:48.755Z"
   },
   {
    "duration": 8,
    "start_time": "2023-06-15T14:35:48.945Z"
   },
   {
    "duration": 4,
    "start_time": "2023-06-15T14:35:50.415Z"
   },
   {
    "duration": 11,
    "start_time": "2023-06-15T14:35:50.610Z"
   },
   {
    "duration": 4,
    "start_time": "2023-06-15T14:35:52.055Z"
   },
   {
    "duration": 9,
    "start_time": "2023-06-15T14:35:52.236Z"
   },
   {
    "duration": 4,
    "start_time": "2023-06-15T14:36:17.002Z"
   },
   {
    "duration": 12,
    "start_time": "2023-06-15T14:36:17.456Z"
   },
   {
    "duration": 4,
    "start_time": "2023-06-15T14:36:24.646Z"
   },
   {
    "duration": 13,
    "start_time": "2023-06-15T14:36:24.868Z"
   },
   {
    "duration": 5,
    "start_time": "2023-06-15T14:46:27.708Z"
   },
   {
    "duration": 17,
    "start_time": "2023-06-15T14:46:28.501Z"
   },
   {
    "duration": 10,
    "start_time": "2023-06-15T15:00:28.147Z"
   },
   {
    "duration": 7,
    "start_time": "2023-06-15T15:00:37.957Z"
   },
   {
    "duration": 18,
    "start_time": "2023-06-15T15:05:06.408Z"
   },
   {
    "duration": 12,
    "start_time": "2023-06-15T15:06:04.133Z"
   },
   {
    "duration": 10,
    "start_time": "2023-06-15T15:06:07.657Z"
   },
   {
    "duration": 11,
    "start_time": "2023-06-15T15:06:10.269Z"
   },
   {
    "duration": 11,
    "start_time": "2023-06-15T15:06:16.553Z"
   },
   {
    "duration": 9,
    "start_time": "2023-06-15T15:06:23.657Z"
   },
   {
    "duration": 4,
    "start_time": "2023-06-15T15:07:03.849Z"
   },
   {
    "duration": 4,
    "start_time": "2023-06-15T15:07:04.257Z"
   },
   {
    "duration": 8,
    "start_time": "2023-06-15T15:07:11.537Z"
   },
   {
    "duration": 8,
    "start_time": "2023-06-15T15:07:18.112Z"
   },
   {
    "duration": 4,
    "start_time": "2023-06-15T15:07:28.835Z"
   },
   {
    "duration": 11,
    "start_time": "2023-06-15T15:07:29.212Z"
   },
   {
    "duration": 4,
    "start_time": "2023-06-15T15:07:42.313Z"
   },
   {
    "duration": 8,
    "start_time": "2023-06-15T15:07:42.712Z"
   },
   {
    "duration": 8,
    "start_time": "2023-06-15T15:08:00.139Z"
   },
   {
    "duration": 5,
    "start_time": "2023-06-15T15:08:16.467Z"
   },
   {
    "duration": 9,
    "start_time": "2023-06-15T15:08:17.229Z"
   },
   {
    "duration": 2,
    "start_time": "2023-06-15T15:08:18.113Z"
   },
   {
    "duration": 3,
    "start_time": "2023-06-15T15:08:20.511Z"
   },
   {
    "duration": 4,
    "start_time": "2023-06-15T15:09:39.419Z"
   },
   {
    "duration": 11,
    "start_time": "2023-06-15T15:09:41.126Z"
   },
   {
    "duration": 11,
    "start_time": "2023-06-15T15:10:59.527Z"
   },
   {
    "duration": 16,
    "start_time": "2023-06-15T15:11:03.517Z"
   },
   {
    "duration": 6,
    "start_time": "2023-06-15T15:14:52.471Z"
   },
   {
    "duration": 9,
    "start_time": "2023-06-15T15:15:20.413Z"
   },
   {
    "duration": 3,
    "start_time": "2023-06-15T15:16:47.534Z"
   },
   {
    "duration": 6,
    "start_time": "2023-06-15T15:16:51.528Z"
   },
   {
    "duration": 3,
    "start_time": "2023-06-15T15:17:42.728Z"
   },
   {
    "duration": 7,
    "start_time": "2023-06-15T15:17:43.670Z"
   },
   {
    "duration": 9,
    "start_time": "2023-06-15T15:18:21.309Z"
   },
   {
    "duration": 28,
    "start_time": "2023-06-15T15:18:30.337Z"
   },
   {
    "duration": 3,
    "start_time": "2023-06-15T15:18:36.782Z"
   },
   {
    "duration": 7,
    "start_time": "2023-06-15T15:18:38.012Z"
   },
   {
    "duration": 4,
    "start_time": "2023-06-15T15:18:43.629Z"
   },
   {
    "duration": 7,
    "start_time": "2023-06-15T15:18:45.069Z"
   },
   {
    "duration": 14,
    "start_time": "2023-06-15T15:33:15.478Z"
   },
   {
    "duration": 2350,
    "start_time": "2023-06-16T13:44:55.740Z"
   },
   {
    "duration": 131,
    "start_time": "2023-06-16T13:44:58.092Z"
   },
   {
    "duration": 18,
    "start_time": "2023-06-16T13:44:58.225Z"
   },
   {
    "duration": 24,
    "start_time": "2023-06-16T13:44:58.245Z"
   },
   {
    "duration": 27,
    "start_time": "2023-06-16T13:44:58.274Z"
   },
   {
    "duration": 7,
    "start_time": "2023-06-16T13:44:58.303Z"
   },
   {
    "duration": 40,
    "start_time": "2023-06-16T13:44:58.311Z"
   },
   {
    "duration": 34,
    "start_time": "2023-06-16T13:44:58.352Z"
   },
   {
    "duration": 29,
    "start_time": "2023-06-16T13:44:58.388Z"
   },
   {
    "duration": 17,
    "start_time": "2023-06-16T13:44:58.426Z"
   },
   {
    "duration": 41,
    "start_time": "2023-06-16T13:44:58.445Z"
   },
   {
    "duration": 4,
    "start_time": "2023-06-16T13:44:58.488Z"
   },
   {
    "duration": 20,
    "start_time": "2023-06-16T13:44:58.493Z"
   },
   {
    "duration": 30,
    "start_time": "2023-06-16T13:44:58.516Z"
   },
   {
    "duration": 21,
    "start_time": "2023-06-16T13:44:58.547Z"
   }
  ],
  "kernelspec": {
   "display_name": "Python 3 (ipykernel)",
   "language": "python",
   "name": "python3"
  },
  "language_info": {
   "codemirror_mode": {
    "name": "ipython",
    "version": 3
   },
   "file_extension": ".py",
   "mimetype": "text/x-python",
   "name": "python",
   "nbconvert_exporter": "python",
   "pygments_lexer": "ipython3",
   "version": "3.9.5"
  },
  "toc": {
   "base_numbering": 1,
   "nav_menu": {},
   "number_sections": true,
   "sideBar": true,
   "skip_h1_title": true,
   "title_cell": "Содержание",
   "title_sidebar": "Contents",
   "toc_cell": true,
   "toc_position": {},
   "toc_section_display": true,
   "toc_window_display": true
  }
 },
 "nbformat": 4,
 "nbformat_minor": 2
}
