{
 "cells": [
  {
   "cell_type": "markdown",
   "metadata": {
    "toc": true
   },
   "source": [
    "<h1>Содержание<span class=\"tocSkip\"></span></h1>\n",
    "<div class=\"toc\"><ul class=\"toc-item\"><li><span><a href=\"#Подготовка-данных\" data-toc-modified-id=\"Подготовка-данных-1\"><span class=\"toc-item-num\">1&nbsp;&nbsp;</span>Подготовка данных</a></span><ul class=\"toc-item\"><li><span><a href=\"#Общий-вид-данных\" data-toc-modified-id=\"Общий-вид-данных-1.1\"><span class=\"toc-item-num\">1.1&nbsp;&nbsp;</span>Общий вид данных</a></span></li><li><span><a href=\"#Проверка-наличия-дубликатов\" data-toc-modified-id=\"Проверка-наличия-дубликатов-1.2\"><span class=\"toc-item-num\">1.2&nbsp;&nbsp;</span>Проверка наличия дубликатов</a></span></li><li><span><a href=\"#Типы-данных\" data-toc-modified-id=\"Типы-данных-1.3\"><span class=\"toc-item-num\">1.3&nbsp;&nbsp;</span>Типы данных</a></span></li></ul></li><li><span><a href=\"#Исследование-задачи\" data-toc-modified-id=\"Исследование-задачи-2\"><span class=\"toc-item-num\">2&nbsp;&nbsp;</span>Исследование задачи</a></span><ul class=\"toc-item\"><li><span><a href=\"#Дисбаланс-классов\" data-toc-modified-id=\"Дисбаланс-классов-2.1\"><span class=\"toc-item-num\">2.1&nbsp;&nbsp;</span>Дисбаланс классов</a></span></li><li><span><a href=\"#Пропущенные-значения\" data-toc-modified-id=\"Пропущенные-значения-2.2\"><span class=\"toc-item-num\">2.2&nbsp;&nbsp;</span>Пропущенные значения</a></span></li><li><span><a href=\"#Разбивка-выборок\" data-toc-modified-id=\"Разбивка-выборок-2.3\"><span class=\"toc-item-num\">2.3&nbsp;&nbsp;</span>Разбивка выборок</a></span></li><li><span><a href=\"#Масштабирование\" data-toc-modified-id=\"Масштабирование-2.4\"><span class=\"toc-item-num\">2.4&nbsp;&nbsp;</span>Масштабирование</a></span></li><li><span><a href=\"#Метрики-моделей-без-учета-дисбаланса\" data-toc-modified-id=\"Метрики-моделей-без-учета-дисбаланса-2.5\"><span class=\"toc-item-num\">2.5&nbsp;&nbsp;</span>Метрики моделей без учета дисбаланса</a></span><ul class=\"toc-item\"><li><span><a href=\"#Random-Forest\" data-toc-modified-id=\"Random-Forest-2.5.1\"><span class=\"toc-item-num\">2.5.1&nbsp;&nbsp;</span>Random Forest</a></span></li><li><span><a href=\"#Decision-Tree\" data-toc-modified-id=\"Decision-Tree-2.5.2\"><span class=\"toc-item-num\">2.5.2&nbsp;&nbsp;</span>Decision Tree</a></span></li><li><span><a href=\"#Logistic-Regression\" data-toc-modified-id=\"Logistic-Regression-2.5.3\"><span class=\"toc-item-num\">2.5.3&nbsp;&nbsp;</span>Logistic Regression</a></span></li></ul></li><li><span><a href=\"#Вывод\" data-toc-modified-id=\"Вывод-2.6\"><span class=\"toc-item-num\">2.6&nbsp;&nbsp;</span>Вывод</a></span></li></ul></li><li><span><a href=\"#Борьба-с-дисбалансом\" data-toc-modified-id=\"Борьба-с-дисбалансом-3\"><span class=\"toc-item-num\">3&nbsp;&nbsp;</span>Борьба с дисбалансом</a></span><ul class=\"toc-item\"><li><span><a href=\"#Увеличение-выборки\" data-toc-modified-id=\"Увеличение-выборки-3.1\"><span class=\"toc-item-num\">3.1&nbsp;&nbsp;</span>Увеличение выборки</a></span><ul class=\"toc-item\"><li><span><a href=\"#Random-Forest\" data-toc-modified-id=\"Random-Forest-3.1.1\"><span class=\"toc-item-num\">3.1.1&nbsp;&nbsp;</span>Random Forest</a></span></li><li><span><a href=\"#Decision-Tree\" data-toc-modified-id=\"Decision-Tree-3.1.2\"><span class=\"toc-item-num\">3.1.2&nbsp;&nbsp;</span>Decision Tree</a></span></li><li><span><a href=\"#Логистическая-регрессия\" data-toc-modified-id=\"Логистическая-регрессия-3.1.3\"><span class=\"toc-item-num\">3.1.3&nbsp;&nbsp;</span>Логистическая регрессия</a></span></li></ul></li><li><span><a href=\"#Уменьшение-выборки\" data-toc-modified-id=\"Уменьшение-выборки-3.2\"><span class=\"toc-item-num\">3.2&nbsp;&nbsp;</span>Уменьшение выборки</a></span><ul class=\"toc-item\"><li><span><a href=\"#Random-Forest\" data-toc-modified-id=\"Random-Forest-3.2.1\"><span class=\"toc-item-num\">3.2.1&nbsp;&nbsp;</span>Random Forest</a></span></li><li><span><a href=\"#Decision-Tree\" data-toc-modified-id=\"Decision-Tree-3.2.2\"><span class=\"toc-item-num\">3.2.2&nbsp;&nbsp;</span>Decision Tree</a></span></li><li><span><a href=\"#Logistic-Regression\" data-toc-modified-id=\"Logistic-Regression-3.2.3\"><span class=\"toc-item-num\">3.2.3&nbsp;&nbsp;</span>Logistic Regression</a></span></li></ul></li><li><span><a href=\"#Изменение-порога-классификации\" data-toc-modified-id=\"Изменение-порога-классификации-3.3\"><span class=\"toc-item-num\">3.3&nbsp;&nbsp;</span>Изменение порога классификации</a></span></li><li><span><a href=\"#SMOTE\" data-toc-modified-id=\"SMOTE-3.4\"><span class=\"toc-item-num\">3.4&nbsp;&nbsp;</span>SMOTE</a></span><ul class=\"toc-item\"><li><span><a href=\"#Random-Forest\" data-toc-modified-id=\"Random-Forest-3.4.1\"><span class=\"toc-item-num\">3.4.1&nbsp;&nbsp;</span>Random Forest</a></span></li><li><span><a href=\"#Decision-Tree\" data-toc-modified-id=\"Decision-Tree-3.4.2\"><span class=\"toc-item-num\">3.4.2&nbsp;&nbsp;</span>Decision Tree</a></span></li><li><span><a href=\"#Logistic-Regression\" data-toc-modified-id=\"Logistic-Regression-3.4.3\"><span class=\"toc-item-num\">3.4.3&nbsp;&nbsp;</span>Logistic Regression</a></span></li></ul></li><li><span><a href=\"#Вывод\" data-toc-modified-id=\"Вывод-3.5\"><span class=\"toc-item-num\">3.5&nbsp;&nbsp;</span>Вывод</a></span></li></ul></li><li><span><a href=\"#Подбор-гиперпараметров-и-сравнение-метрик\" data-toc-modified-id=\"Подбор-гиперпараметров-и-сравнение-метрик-4\"><span class=\"toc-item-num\">4&nbsp;&nbsp;</span>Подбор гиперпараметров и сравнение метрик</a></span><ul class=\"toc-item\"><li><span><a href=\"#Random-Forest\" data-toc-modified-id=\"Random-Forest-4.1\"><span class=\"toc-item-num\">4.1&nbsp;&nbsp;</span>Random Forest</a></span></li><li><span><a href=\"#Decision-Tree\" data-toc-modified-id=\"Decision-Tree-4.2\"><span class=\"toc-item-num\">4.2&nbsp;&nbsp;</span>Decision Tree</a></span></li><li><span><a href=\"#Logistic-Regression\" data-toc-modified-id=\"Logistic-Regression-4.3\"><span class=\"toc-item-num\">4.3&nbsp;&nbsp;</span>Logistic Regression</a></span></li><li><span><a href=\"#Вывод\" data-toc-modified-id=\"Вывод-4.4\"><span class=\"toc-item-num\">4.4&nbsp;&nbsp;</span>Вывод</a></span></li></ul></li><li><span><a href=\"#Тестирование-модели\" data-toc-modified-id=\"Тестирование-модели-5\"><span class=\"toc-item-num\">5&nbsp;&nbsp;</span>Тестирование модели</a></span><ul class=\"toc-item\"><li><span><a href=\"#Random-Forest\" data-toc-modified-id=\"Random-Forest-5.1\"><span class=\"toc-item-num\">5.1&nbsp;&nbsp;</span>Random Forest</a></span></li></ul></li><li><span><a href=\"#Общий-вывод\" data-toc-modified-id=\"Общий-вывод-6\"><span class=\"toc-item-num\">6&nbsp;&nbsp;</span>Общий вывод</a></span></li></ul></div>"
   ]
  },
  {
   "cell_type": "markdown",
   "metadata": {},
   "source": [
    "# Отток клиентов"
   ]
  },
  {
   "cell_type": "markdown",
   "metadata": {},
   "source": [
    "Из «Бета-Банка» стали уходить клиенты. Каждый месяц. Немного, но заметно. Банковские маркетологи посчитали: сохранять текущих клиентов дешевле, чем привлекать новых.\n",
    "\n",
    "Нужно спрогнозировать, уйдёт клиент из банка в ближайшее время или нет. Вам предоставлены исторические данные о поведении клиентов и расторжении договоров с банком. \n",
    "\n",
    "Постройте модель с предельно большим значением *F1*-меры. Чтобы сдать проект успешно, нужно довести метрику до 0.59. Проверьте *F1*-меру на тестовой выборке самостоятельно.\n",
    "\n",
    "Дополнительно измеряйте *AUC-ROC*, сравнивайте её значение с *F1*-мерой.\n",
    "\n",
    "Источник данных: [https://www.kaggle.com/barelydedicated/bank-customer-churn-modeling](https://www.kaggle.com/barelydedicated/bank-customer-churn-modeling)"
   ]
  },
  {
   "cell_type": "code",
   "execution_count": 1,
   "metadata": {
    "scrolled": false
   },
   "outputs": [
    {
     "name": "stdout",
     "output_type": "stream",
     "text": [
      "Requirement already satisfied: imbalanced-learn in /opt/conda/lib/python3.9/site-packages (0.12.0)\n",
      "Requirement already satisfied: scikit-learn>=1.0.2 in /opt/conda/lib/python3.9/site-packages (from imbalanced-learn) (1.4.0)\n",
      "Requirement already satisfied: joblib>=1.1.1 in /opt/conda/lib/python3.9/site-packages (from imbalanced-learn) (1.3.2)\n",
      "Requirement already satisfied: numpy>=1.17.3 in /opt/conda/lib/python3.9/site-packages (from imbalanced-learn) (1.21.1)\n",
      "Requirement already satisfied: threadpoolctl>=2.0.0 in /opt/conda/lib/python3.9/site-packages (from imbalanced-learn) (3.1.0)\n",
      "Requirement already satisfied: scipy>=1.5.0 in /opt/conda/lib/python3.9/site-packages (from imbalanced-learn) (1.9.1)\n",
      "Note: you may need to restart the kernel to use updated packages.\n"
     ]
    }
   ],
   "source": [
    "pip install -U imbalanced-learn"
   ]
  },
  {
   "cell_type": "code",
   "execution_count": 2,
   "metadata": {},
   "outputs": [],
   "source": [
    "import pandas as pd\n",
    "import numpy as np\n",
    "import seaborn as sns\n",
    "import matplotlib.pyplot as plt\n",
    "from sklearn.model_selection import train_test_split\n",
    "from sklearn.tree import DecisionTreeClassifier\n",
    "from sklearn.ensemble import RandomForestClassifier\n",
    "from sklearn.linear_model import LogisticRegression\n",
    "from sklearn.model_selection import GridSearchCV\n",
    "from sklearn.metrics import f1_score, make_scorer\n",
    "\n",
    "from sklearn.metrics import roc_auc_score, roc_curve, precision_score, recall_score\n",
    "from sklearn.metrics import precision_recall_curve, accuracy_score, auc\n",
    "from sklearn.preprocessing import StandardScaler\n",
    "from sklearn.utils import shuffle\n",
    "from sklearn.impute import KNNImputer\n",
    "pd.options.mode.chained_assignment = None\n",
    "from imblearn.over_sampling import SMOTE\n",
    "from imblearn.pipeline import Pipeline"
   ]
  },
  {
   "cell_type": "markdown",
   "metadata": {},
   "source": [
    "## Подготовка данных"
   ]
  },
  {
   "cell_type": "markdown",
   "metadata": {},
   "source": [
    "### Общий вид данных"
   ]
  },
  {
   "cell_type": "markdown",
   "metadata": {},
   "source": [
    "Загрузим предоставленный датасет и посмотрим на его вид."
   ]
  },
  {
   "cell_type": "code",
   "execution_count": 3,
   "metadata": {},
   "outputs": [],
   "source": [
    "data = pd.read_csv('/datasets/Churn.csv')"
   ]
  },
  {
   "cell_type": "code",
   "execution_count": 4,
   "metadata": {
    "scrolled": false
   },
   "outputs": [
    {
     "data": {
      "text/html": [
       "<div>\n",
       "<style scoped>\n",
       "    .dataframe tbody tr th:only-of-type {\n",
       "        vertical-align: middle;\n",
       "    }\n",
       "\n",
       "    .dataframe tbody tr th {\n",
       "        vertical-align: top;\n",
       "    }\n",
       "\n",
       "    .dataframe thead th {\n",
       "        text-align: right;\n",
       "    }\n",
       "</style>\n",
       "<table border=\"1\" class=\"dataframe\">\n",
       "  <thead>\n",
       "    <tr style=\"text-align: right;\">\n",
       "      <th></th>\n",
       "      <th>RowNumber</th>\n",
       "      <th>CustomerId</th>\n",
       "      <th>Surname</th>\n",
       "      <th>CreditScore</th>\n",
       "      <th>Geography</th>\n",
       "      <th>Gender</th>\n",
       "      <th>Age</th>\n",
       "      <th>Tenure</th>\n",
       "      <th>Balance</th>\n",
       "      <th>NumOfProducts</th>\n",
       "      <th>HasCrCard</th>\n",
       "      <th>IsActiveMember</th>\n",
       "      <th>EstimatedSalary</th>\n",
       "      <th>Exited</th>\n",
       "    </tr>\n",
       "  </thead>\n",
       "  <tbody>\n",
       "    <tr>\n",
       "      <th>0</th>\n",
       "      <td>1</td>\n",
       "      <td>15634602</td>\n",
       "      <td>Hargrave</td>\n",
       "      <td>619</td>\n",
       "      <td>France</td>\n",
       "      <td>Female</td>\n",
       "      <td>42</td>\n",
       "      <td>2.0</td>\n",
       "      <td>0.00</td>\n",
       "      <td>1</td>\n",
       "      <td>1</td>\n",
       "      <td>1</td>\n",
       "      <td>101348.88</td>\n",
       "      <td>1</td>\n",
       "    </tr>\n",
       "    <tr>\n",
       "      <th>1</th>\n",
       "      <td>2</td>\n",
       "      <td>15647311</td>\n",
       "      <td>Hill</td>\n",
       "      <td>608</td>\n",
       "      <td>Spain</td>\n",
       "      <td>Female</td>\n",
       "      <td>41</td>\n",
       "      <td>1.0</td>\n",
       "      <td>83807.86</td>\n",
       "      <td>1</td>\n",
       "      <td>0</td>\n",
       "      <td>1</td>\n",
       "      <td>112542.58</td>\n",
       "      <td>0</td>\n",
       "    </tr>\n",
       "    <tr>\n",
       "      <th>2</th>\n",
       "      <td>3</td>\n",
       "      <td>15619304</td>\n",
       "      <td>Onio</td>\n",
       "      <td>502</td>\n",
       "      <td>France</td>\n",
       "      <td>Female</td>\n",
       "      <td>42</td>\n",
       "      <td>8.0</td>\n",
       "      <td>159660.80</td>\n",
       "      <td>3</td>\n",
       "      <td>1</td>\n",
       "      <td>0</td>\n",
       "      <td>113931.57</td>\n",
       "      <td>1</td>\n",
       "    </tr>\n",
       "    <tr>\n",
       "      <th>3</th>\n",
       "      <td>4</td>\n",
       "      <td>15701354</td>\n",
       "      <td>Boni</td>\n",
       "      <td>699</td>\n",
       "      <td>France</td>\n",
       "      <td>Female</td>\n",
       "      <td>39</td>\n",
       "      <td>1.0</td>\n",
       "      <td>0.00</td>\n",
       "      <td>2</td>\n",
       "      <td>0</td>\n",
       "      <td>0</td>\n",
       "      <td>93826.63</td>\n",
       "      <td>0</td>\n",
       "    </tr>\n",
       "    <tr>\n",
       "      <th>4</th>\n",
       "      <td>5</td>\n",
       "      <td>15737888</td>\n",
       "      <td>Mitchell</td>\n",
       "      <td>850</td>\n",
       "      <td>Spain</td>\n",
       "      <td>Female</td>\n",
       "      <td>43</td>\n",
       "      <td>2.0</td>\n",
       "      <td>125510.82</td>\n",
       "      <td>1</td>\n",
       "      <td>1</td>\n",
       "      <td>1</td>\n",
       "      <td>79084.10</td>\n",
       "      <td>0</td>\n",
       "    </tr>\n",
       "  </tbody>\n",
       "</table>\n",
       "</div>"
      ],
      "text/plain": [
       "   RowNumber  CustomerId   Surname  CreditScore Geography  Gender  Age  \\\n",
       "0          1    15634602  Hargrave          619    France  Female   42   \n",
       "1          2    15647311      Hill          608     Spain  Female   41   \n",
       "2          3    15619304      Onio          502    France  Female   42   \n",
       "3          4    15701354      Boni          699    France  Female   39   \n",
       "4          5    15737888  Mitchell          850     Spain  Female   43   \n",
       "\n",
       "   Tenure    Balance  NumOfProducts  HasCrCard  IsActiveMember  \\\n",
       "0     2.0       0.00              1          1               1   \n",
       "1     1.0   83807.86              1          0               1   \n",
       "2     8.0  159660.80              3          1               0   \n",
       "3     1.0       0.00              2          0               0   \n",
       "4     2.0  125510.82              1          1               1   \n",
       "\n",
       "   EstimatedSalary  Exited  \n",
       "0        101348.88       1  \n",
       "1        112542.58       0  \n",
       "2        113931.57       1  \n",
       "3         93826.63       0  \n",
       "4         79084.10       0  "
      ]
     },
     "execution_count": 4,
     "metadata": {},
     "output_type": "execute_result"
    }
   ],
   "source": [
    "data.head()"
   ]
  },
  {
   "cell_type": "markdown",
   "metadata": {},
   "source": [
    "CustomerID, Surname, RowNumber - это столбцы, которые не понадобятся в ходе обучения и тестирования модели машинного обучения, поэтому от них можно избавиться. \n",
    "\n",
    "Проверим на наличие пропусков и приведем все названию колонок к нижнему регистру для удобства."
   ]
  },
  {
   "cell_type": "code",
   "execution_count": 5,
   "metadata": {},
   "outputs": [],
   "source": [
    "data = data.drop(['RowNumber', 'CustomerId', 'Surname'], axis=1)"
   ]
  },
  {
   "cell_type": "code",
   "execution_count": 6,
   "metadata": {},
   "outputs": [],
   "source": [
    "data.columns = data.columns.str.lower()"
   ]
  },
  {
   "cell_type": "code",
   "execution_count": 7,
   "metadata": {},
   "outputs": [
    {
     "name": "stdout",
     "output_type": "stream",
     "text": [
      "<class 'pandas.core.frame.DataFrame'>\n",
      "RangeIndex: 10000 entries, 0 to 9999\n",
      "Data columns (total 11 columns):\n",
      " #   Column           Non-Null Count  Dtype  \n",
      "---  ------           --------------  -----  \n",
      " 0   creditscore      10000 non-null  int64  \n",
      " 1   geography        10000 non-null  object \n",
      " 2   gender           10000 non-null  object \n",
      " 3   age              10000 non-null  int64  \n",
      " 4   tenure           9091 non-null   float64\n",
      " 5   balance          10000 non-null  float64\n",
      " 6   numofproducts    10000 non-null  int64  \n",
      " 7   hascrcard        10000 non-null  int64  \n",
      " 8   isactivemember   10000 non-null  int64  \n",
      " 9   estimatedsalary  10000 non-null  float64\n",
      " 10  exited           10000 non-null  int64  \n",
      "dtypes: float64(3), int64(6), object(2)\n",
      "memory usage: 859.5+ KB\n"
     ]
    }
   ],
   "source": [
    "data.info()"
   ]
  },
  {
   "cell_type": "markdown",
   "metadata": {},
   "source": [
    "В признаке `Tenure` пропущенны 10% данных. В дальнейшем данные будут разделены на обучающую и тестовую, в обучающей выборке заполним пропуски этого столбца."
   ]
  },
  {
   "cell_type": "code",
   "execution_count": 8,
   "metadata": {
    "scrolled": false
   },
   "outputs": [
    {
     "data": {
      "image/png": "[encoded data removed]",
      "text/plain": [
       "<Figure size 1440x1440 with 9 Axes>"
      ]
     },
     "metadata": {
      "needs_background": "light"
     },
     "output_type": "display_data"
    }
   ],
   "source": [
    "data.hist(bins=25, figsize=(20,20), grid=False);"
   ]
  },
  {
   "cell_type": "markdown",
   "metadata": {},
   "source": [
    "* дисбаланс классов у признаков `exited`, `hascrcard`, `numofproducts`;\n",
    "* возраст большинства клиентов 25-45 лет."
   ]
  },
  {
   "cell_type": "markdown",
   "metadata": {},
   "source": [
    "### Проверка наличия дубликатов"
   ]
  },
  {
   "cell_type": "code",
   "execution_count": 9,
   "metadata": {},
   "outputs": [
    {
     "data": {
      "text/plain": [
       "0"
      ]
     },
     "execution_count": 9,
     "metadata": {},
     "output_type": "execute_result"
    }
   ],
   "source": [
    "data.duplicated().sum()"
   ]
  },
  {
   "cell_type": "markdown",
   "metadata": {},
   "source": [
    "Дубликатов не обнаружено."
   ]
  },
  {
   "cell_type": "markdown",
   "metadata": {},
   "source": [
    "### Типы данных"
   ]
  },
  {
   "cell_type": "markdown",
   "metadata": {},
   "source": [
    "Проверим типы данных признаков, в случае несоответствий заменим их."
   ]
  },
  {
   "cell_type": "code",
   "execution_count": 10,
   "metadata": {
    "scrolled": false
   },
   "outputs": [
    {
     "data": {
      "text/plain": [
       "creditscore          int64\n",
       "geography           object\n",
       "gender              object\n",
       "age                  int64\n",
       "tenure             float64\n",
       "balance            float64\n",
       "numofproducts        int64\n",
       "hascrcard            int64\n",
       "isactivemember       int64\n",
       "estimatedsalary    float64\n",
       "exited               int64\n",
       "dtype: object"
      ]
     },
     "execution_count": 10,
     "metadata": {},
     "output_type": "execute_result"
    }
   ],
   "source": [
    "data.dtypes"
   ]
  },
  {
   "cell_type": "markdown",
   "metadata": {},
   "source": [
    "Таких данных не обнаружено. Но есть категориальная переменная `gender`, которую необходимо преобразовать в подходящий вид для алгоритмов машинного обучения. "
   ]
  },
  {
   "cell_type": "code",
   "execution_count": 11,
   "metadata": {},
   "outputs": [
    {
     "data": {
      "text/plain": [
       "array(['France', 'Spain', 'Germany'], dtype=object)"
      ]
     },
     "execution_count": 11,
     "metadata": {},
     "output_type": "execute_result"
    }
   ],
   "source": [
    "# в общем виде в признаке geography встречались только две страны, \n",
    "# проверим сколько возможных вариантов для этого признака в датасете\n",
    "data['geography'].unique()"
   ]
  },
  {
   "cell_type": "markdown",
   "metadata": {},
   "source": [
    "Воспользуемся методом OHE и переведем эти два признака в следующий вид:\n",
    "* признак `gender` переименуем в `male`, где значения 1 - мужчина, 0 - женщина;\n",
    "* для признака `geography` присвоим значения 0 и 1.\n",
    "\n",
    "Нам не нужны все три страны для алгоритма. К примеру если Germany и Spain имеют значение 0, значит это третья страна France. Так мы уменьшим количество плоскостей."
   ]
  },
  {
   "cell_type": "code",
   "execution_count": 12,
   "metadata": {},
   "outputs": [],
   "source": [
    "data_ohe = pd.get_dummies(data, columns=['gender', 'geography'], drop_first=True)"
   ]
  },
  {
   "cell_type": "code",
   "execution_count": 13,
   "metadata": {
    "scrolled": true
   },
   "outputs": [
    {
     "data": {
      "text/html": [
       "<div>\n",
       "<style scoped>\n",
       "    .dataframe tbody tr th:only-of-type {\n",
       "        vertical-align: middle;\n",
       "    }\n",
       "\n",
       "    .dataframe tbody tr th {\n",
       "        vertical-align: top;\n",
       "    }\n",
       "\n",
       "    .dataframe thead th {\n",
       "        text-align: right;\n",
       "    }\n",
       "</style>\n",
       "<table border=\"1\" class=\"dataframe\">\n",
       "  <thead>\n",
       "    <tr style=\"text-align: right;\">\n",
       "      <th></th>\n",
       "      <th>creditscore</th>\n",
       "      <th>age</th>\n",
       "      <th>tenure</th>\n",
       "      <th>balance</th>\n",
       "      <th>numofproducts</th>\n",
       "      <th>hascrcard</th>\n",
       "      <th>isactivemember</th>\n",
       "      <th>estimatedsalary</th>\n",
       "      <th>exited</th>\n",
       "      <th>gender_Male</th>\n",
       "      <th>geography_Germany</th>\n",
       "      <th>geography_Spain</th>\n",
       "    </tr>\n",
       "  </thead>\n",
       "  <tbody>\n",
       "    <tr>\n",
       "      <th>0</th>\n",
       "      <td>619</td>\n",
       "      <td>42</td>\n",
       "      <td>2.0</td>\n",
       "      <td>0.00</td>\n",
       "      <td>1</td>\n",
       "      <td>1</td>\n",
       "      <td>1</td>\n",
       "      <td>101348.88</td>\n",
       "      <td>1</td>\n",
       "      <td>0</td>\n",
       "      <td>0</td>\n",
       "      <td>0</td>\n",
       "    </tr>\n",
       "    <tr>\n",
       "      <th>1</th>\n",
       "      <td>608</td>\n",
       "      <td>41</td>\n",
       "      <td>1.0</td>\n",
       "      <td>83807.86</td>\n",
       "      <td>1</td>\n",
       "      <td>0</td>\n",
       "      <td>1</td>\n",
       "      <td>112542.58</td>\n",
       "      <td>0</td>\n",
       "      <td>0</td>\n",
       "      <td>0</td>\n",
       "      <td>1</td>\n",
       "    </tr>\n",
       "    <tr>\n",
       "      <th>2</th>\n",
       "      <td>502</td>\n",
       "      <td>42</td>\n",
       "      <td>8.0</td>\n",
       "      <td>159660.80</td>\n",
       "      <td>3</td>\n",
       "      <td>1</td>\n",
       "      <td>0</td>\n",
       "      <td>113931.57</td>\n",
       "      <td>1</td>\n",
       "      <td>0</td>\n",
       "      <td>0</td>\n",
       "      <td>0</td>\n",
       "    </tr>\n",
       "    <tr>\n",
       "      <th>3</th>\n",
       "      <td>699</td>\n",
       "      <td>39</td>\n",
       "      <td>1.0</td>\n",
       "      <td>0.00</td>\n",
       "      <td>2</td>\n",
       "      <td>0</td>\n",
       "      <td>0</td>\n",
       "      <td>93826.63</td>\n",
       "      <td>0</td>\n",
       "      <td>0</td>\n",
       "      <td>0</td>\n",
       "      <td>0</td>\n",
       "    </tr>\n",
       "    <tr>\n",
       "      <th>4</th>\n",
       "      <td>850</td>\n",
       "      <td>43</td>\n",
       "      <td>2.0</td>\n",
       "      <td>125510.82</td>\n",
       "      <td>1</td>\n",
       "      <td>1</td>\n",
       "      <td>1</td>\n",
       "      <td>79084.10</td>\n",
       "      <td>0</td>\n",
       "      <td>0</td>\n",
       "      <td>0</td>\n",
       "      <td>1</td>\n",
       "    </tr>\n",
       "  </tbody>\n",
       "</table>\n",
       "</div>"
      ],
      "text/plain": [
       "   creditscore  age  tenure    balance  numofproducts  hascrcard  \\\n",
       "0          619   42     2.0       0.00              1          1   \n",
       "1          608   41     1.0   83807.86              1          0   \n",
       "2          502   42     8.0  159660.80              3          1   \n",
       "3          699   39     1.0       0.00              2          0   \n",
       "4          850   43     2.0  125510.82              1          1   \n",
       "\n",
       "   isactivemember  estimatedsalary  exited  gender_Male  geography_Germany  \\\n",
       "0               1        101348.88       1            0                  0   \n",
       "1               1        112542.58       0            0                  0   \n",
       "2               0        113931.57       1            0                  0   \n",
       "3               0         93826.63       0            0                  0   \n",
       "4               1         79084.10       0            0                  0   \n",
       "\n",
       "   geography_Spain  \n",
       "0                0  \n",
       "1                1  \n",
       "2                0  \n",
       "3                0  \n",
       "4                1  "
      ]
     },
     "execution_count": 13,
     "metadata": {},
     "output_type": "execute_result"
    }
   ],
   "source": [
    "data_ohe.head()"
   ]
  },
  {
   "cell_type": "code",
   "execution_count": 14,
   "metadata": {},
   "outputs": [],
   "source": [
    "# переименуем новые столбцы\n",
    "data_ohe = data_ohe.rename(columns={'gender_Male': 'male', 'geography_Germany': 'germany', 'geography_Spain': 'spain'})"
   ]
  },
  {
   "cell_type": "code",
   "execution_count": 15,
   "metadata": {},
   "outputs": [
    {
     "data": {
      "text/html": [
       "<div>\n",
       "<style scoped>\n",
       "    .dataframe tbody tr th:only-of-type {\n",
       "        vertical-align: middle;\n",
       "    }\n",
       "\n",
       "    .dataframe tbody tr th {\n",
       "        vertical-align: top;\n",
       "    }\n",
       "\n",
       "    .dataframe thead th {\n",
       "        text-align: right;\n",
       "    }\n",
       "</style>\n",
       "<table border=\"1\" class=\"dataframe\">\n",
       "  <thead>\n",
       "    <tr style=\"text-align: right;\">\n",
       "      <th></th>\n",
       "      <th>creditscore</th>\n",
       "      <th>age</th>\n",
       "      <th>tenure</th>\n",
       "      <th>balance</th>\n",
       "      <th>numofproducts</th>\n",
       "      <th>hascrcard</th>\n",
       "      <th>isactivemember</th>\n",
       "      <th>estimatedsalary</th>\n",
       "      <th>exited</th>\n",
       "      <th>male</th>\n",
       "      <th>germany</th>\n",
       "      <th>spain</th>\n",
       "    </tr>\n",
       "  </thead>\n",
       "  <tbody>\n",
       "    <tr>\n",
       "      <th>0</th>\n",
       "      <td>619</td>\n",
       "      <td>42</td>\n",
       "      <td>2.0</td>\n",
       "      <td>0.00</td>\n",
       "      <td>1</td>\n",
       "      <td>1</td>\n",
       "      <td>1</td>\n",
       "      <td>101348.88</td>\n",
       "      <td>1</td>\n",
       "      <td>0</td>\n",
       "      <td>0</td>\n",
       "      <td>0</td>\n",
       "    </tr>\n",
       "    <tr>\n",
       "      <th>1</th>\n",
       "      <td>608</td>\n",
       "      <td>41</td>\n",
       "      <td>1.0</td>\n",
       "      <td>83807.86</td>\n",
       "      <td>1</td>\n",
       "      <td>0</td>\n",
       "      <td>1</td>\n",
       "      <td>112542.58</td>\n",
       "      <td>0</td>\n",
       "      <td>0</td>\n",
       "      <td>0</td>\n",
       "      <td>1</td>\n",
       "    </tr>\n",
       "    <tr>\n",
       "      <th>2</th>\n",
       "      <td>502</td>\n",
       "      <td>42</td>\n",
       "      <td>8.0</td>\n",
       "      <td>159660.80</td>\n",
       "      <td>3</td>\n",
       "      <td>1</td>\n",
       "      <td>0</td>\n",
       "      <td>113931.57</td>\n",
       "      <td>1</td>\n",
       "      <td>0</td>\n",
       "      <td>0</td>\n",
       "      <td>0</td>\n",
       "    </tr>\n",
       "    <tr>\n",
       "      <th>3</th>\n",
       "      <td>699</td>\n",
       "      <td>39</td>\n",
       "      <td>1.0</td>\n",
       "      <td>0.00</td>\n",
       "      <td>2</td>\n",
       "      <td>0</td>\n",
       "      <td>0</td>\n",
       "      <td>93826.63</td>\n",
       "      <td>0</td>\n",
       "      <td>0</td>\n",
       "      <td>0</td>\n",
       "      <td>0</td>\n",
       "    </tr>\n",
       "    <tr>\n",
       "      <th>4</th>\n",
       "      <td>850</td>\n",
       "      <td>43</td>\n",
       "      <td>2.0</td>\n",
       "      <td>125510.82</td>\n",
       "      <td>1</td>\n",
       "      <td>1</td>\n",
       "      <td>1</td>\n",
       "      <td>79084.10</td>\n",
       "      <td>0</td>\n",
       "      <td>0</td>\n",
       "      <td>0</td>\n",
       "      <td>1</td>\n",
       "    </tr>\n",
       "  </tbody>\n",
       "</table>\n",
       "</div>"
      ],
      "text/plain": [
       "   creditscore  age  tenure    balance  numofproducts  hascrcard  \\\n",
       "0          619   42     2.0       0.00              1          1   \n",
       "1          608   41     1.0   83807.86              1          0   \n",
       "2          502   42     8.0  159660.80              3          1   \n",
       "3          699   39     1.0       0.00              2          0   \n",
       "4          850   43     2.0  125510.82              1          1   \n",
       "\n",
       "   isactivemember  estimatedsalary  exited  male  germany  spain  \n",
       "0               1        101348.88       1     0        0      0  \n",
       "1               1        112542.58       0     0        0      1  \n",
       "2               0        113931.57       1     0        0      0  \n",
       "3               0         93826.63       0     0        0      0  \n",
       "4               1         79084.10       0     0        0      1  "
      ]
     },
     "execution_count": 15,
     "metadata": {},
     "output_type": "execute_result"
    }
   ],
   "source": [
    "#check\n",
    "data_ohe.head()"
   ]
  },
  {
   "cell_type": "markdown",
   "metadata": {},
   "source": [
    "Данные готовы для последующего анализа и построения алгоритма."
   ]
  },
  {
   "cell_type": "markdown",
   "metadata": {},
   "source": [
    "## Исследование задачи"
   ]
  },
  {
   "cell_type": "markdown",
   "metadata": {},
   "source": [
    "### Дисбаланс классов"
   ]
  },
  {
   "cell_type": "markdown",
   "metadata": {},
   "source": [
    "Главная проблема задачи состоит в дисбалансе нескольких признаков, в том числе целевого."
   ]
  },
  {
   "cell_type": "code",
   "execution_count": 16,
   "metadata": {},
   "outputs": [
    {
     "data": {
      "text/html": [
       "<div>\n",
       "<style scoped>\n",
       "    .dataframe tbody tr th:only-of-type {\n",
       "        vertical-align: middle;\n",
       "    }\n",
       "\n",
       "    .dataframe tbody tr th {\n",
       "        vertical-align: top;\n",
       "    }\n",
       "\n",
       "    .dataframe thead th {\n",
       "        text-align: right;\n",
       "    }\n",
       "</style>\n",
       "<table border=\"1\" class=\"dataframe\">\n",
       "  <thead>\n",
       "    <tr style=\"text-align: right;\">\n",
       "      <th></th>\n",
       "      <th>exited</th>\n",
       "      <th>hascrcard</th>\n",
       "      <th>numofproducts</th>\n",
       "    </tr>\n",
       "  </thead>\n",
       "  <tbody>\n",
       "    <tr>\n",
       "      <th>0</th>\n",
       "      <td>7963.0</td>\n",
       "      <td>2945.0</td>\n",
       "      <td>NaN</td>\n",
       "    </tr>\n",
       "    <tr>\n",
       "      <th>1</th>\n",
       "      <td>2037.0</td>\n",
       "      <td>7055.0</td>\n",
       "      <td>5084.0</td>\n",
       "    </tr>\n",
       "    <tr>\n",
       "      <th>2</th>\n",
       "      <td>NaN</td>\n",
       "      <td>NaN</td>\n",
       "      <td>4590.0</td>\n",
       "    </tr>\n",
       "    <tr>\n",
       "      <th>3</th>\n",
       "      <td>NaN</td>\n",
       "      <td>NaN</td>\n",
       "      <td>266.0</td>\n",
       "    </tr>\n",
       "    <tr>\n",
       "      <th>4</th>\n",
       "      <td>NaN</td>\n",
       "      <td>NaN</td>\n",
       "      <td>60.0</td>\n",
       "    </tr>\n",
       "  </tbody>\n",
       "</table>\n",
       "</div>"
      ],
      "text/plain": [
       "   exited  hascrcard  numofproducts\n",
       "0  7963.0     2945.0            NaN\n",
       "1  2037.0     7055.0         5084.0\n",
       "2     NaN        NaN         4590.0\n",
       "3     NaN        NaN          266.0\n",
       "4     NaN        NaN           60.0"
      ]
     },
     "execution_count": 16,
     "metadata": {},
     "output_type": "execute_result"
    }
   ],
   "source": [
    "data_ohe[['exited', 'hascrcard', 'numofproducts']].apply(pd.Series.value_counts)"
   ]
  },
  {
   "cell_type": "markdown",
   "metadata": {},
   "source": [
    "* ушедших клиентов почти в 4 раза меньше;\n",
    "* намного чаще у них отсутствуют кредитные карточки;\n",
    "* в основном клиенты пользуются одной или двумя услугами банка, других единицы."
   ]
  },
  {
   "cell_type": "code",
   "execution_count": 17,
   "metadata": {},
   "outputs": [
    {
     "data": {
      "text/plain": [
       "France     5014\n",
       "Germany    2509\n",
       "Spain      2477\n",
       "Name: geography, dtype: int64"
      ]
     },
     "execution_count": 17,
     "metadata": {},
     "output_type": "execute_result"
    }
   ],
   "source": [
    "data['geography'].value_counts()"
   ]
  },
  {
   "cell_type": "markdown",
   "metadata": {},
   "source": [
    "Также велик разброс клиентов по странам. Половина клиентов из Франции."
   ]
  },
  {
   "cell_type": "markdown",
   "metadata": {},
   "source": [
    "### Пропущенные значения"
   ]
  },
  {
   "cell_type": "markdown",
   "metadata": {},
   "source": [
    "Признак `tenure` имеет пропущенные значения. Чтобы заполнить осмысленно посмотрим с какими другими признаки он коррелирует."
   ]
  },
  {
   "cell_type": "code",
   "execution_count": 18,
   "metadata": {},
   "outputs": [
    {
     "data": {
      "image/png": "[encoded data removed]",
      "text/plain": [
       "<Figure size 1152x576 with 2 Axes>"
      ]
     },
     "metadata": {
      "needs_background": "light"
     },
     "output_type": "display_data"
    }
   ],
   "source": [
    "plt.figure(figsize=(16, 8))\n",
    "heatmap = sns.heatmap(data.corr(), vmin=-1, vmax=1, annot=True)"
   ]
  },
  {
   "cell_type": "markdown",
   "metadata": {},
   "source": [
    "Зависимостей не обнаружено. Посмотрим на распределение."
   ]
  },
  {
   "cell_type": "code",
   "execution_count": 19,
   "metadata": {},
   "outputs": [
    {
     "data": {
      "text/plain": [
       "count    9091.000000\n",
       "mean        4.997690\n",
       "std         2.894723\n",
       "min         0.000000\n",
       "25%         2.000000\n",
       "50%         5.000000\n",
       "75%         7.000000\n",
       "max        10.000000\n",
       "Name: tenure, dtype: float64"
      ]
     },
     "execution_count": 19,
     "metadata": {},
     "output_type": "execute_result"
    }
   ],
   "source": [
    "data['tenure'].describe().T"
   ]
  },
  {
   "cell_type": "markdown",
   "metadata": {},
   "source": [
    "Максимальное значение - 10 и минимальное значение - 0. Если в лоб заполнить медианной пропущенные значения, то это исказит данные слишком сильно. Поэтому было принято решение удалить пропущенные значения."
   ]
  },
  {
   "cell_type": "code",
   "execution_count": 20,
   "metadata": {},
   "outputs": [],
   "source": [
    "data_ohe = data_ohe.dropna()"
   ]
  },
  {
   "cell_type": "markdown",
   "metadata": {},
   "source": [
    "### Разбивка выборок"
   ]
  },
  {
   "cell_type": "markdown",
   "metadata": {},
   "source": [
    "Так как отсутствует тестовая выборка, разделим датасет на следующие выборки в соотношении 3:1:1: обучающая, валидационная и тестовая."
   ]
  },
  {
   "cell_type": "code",
   "execution_count": 21,
   "metadata": {},
   "outputs": [],
   "source": [
    "# разделим датасет на тестовую и тренировочную\n",
    "df_train, df_test = train_test_split(data_ohe, test_size=0.4, random_state=42)\n",
    "# в валидационную выборку запишем половину данных из тестовой\n",
    "df_test, df_valid = train_test_split(df_test, test_size=0.5, random_state=42)\n",
    "\n",
    "# отделим целевой признак от других в каждом получившимся датафрейме\n",
    "features_train = df_train.drop('exited', axis=1)\n",
    "target_train = df_train['exited']\n",
    "\n",
    "features_test = df_test.drop('exited', axis=1)\n",
    "target_test = df_test['exited']\n",
    "\n",
    "features_valid = df_valid.drop('exited', axis=1)\n",
    "target_valid = df_valid['exited']\n"
   ]
  },
  {
   "cell_type": "code",
   "execution_count": 22,
   "metadata": {},
   "outputs": [
    {
     "name": "stdout",
     "output_type": "stream",
     "text": [
      "(5454, 11)\n",
      "(5454,)\n",
      "(1818, 11)\n",
      "(1818,)\n",
      "(1819, 11)\n",
      "(1819,)\n"
     ]
    }
   ],
   "source": [
    "#check\n",
    "dfs = [features_train, target_train, features_test, target_test, features_valid, target_valid]\n",
    "\n",
    "for df in dfs:\n",
    "    print(df.shape)"
   ]
  },
  {
   "cell_type": "markdown",
   "metadata": {},
   "source": [
    "### Масштабирование"
   ]
  },
  {
   "cell_type": "markdown",
   "metadata": {},
   "source": [
    "Ранее было замечено, что количественные признаки отличаются на порядки. Некоторые модели чувствительны к таким разбросам. Для решения этой проблемы отмасштабируем все количественные признаки с помощью библиотеки scikitlearn."
   ]
  },
  {
   "cell_type": "code",
   "execution_count": 23,
   "metadata": {},
   "outputs": [],
   "source": [
    "scaler = StandardScaler()\n",
    "scaler.fit(features_train)\n",
    "to_scale = ['creditscore', 'age', 'balance', 'estimatedsalary']\n",
    "scaler.fit(features_train[to_scale])\n",
    "\n",
    "\n",
    "features_train[to_scale] = scaler.transform(features_train[to_scale])\n",
    "features_valid[to_scale] = scaler.transform(features_valid[to_scale])\n",
    "features_test[to_scale] = scaler.transform(features_test[to_scale])"
   ]
  },
  {
   "cell_type": "code",
   "execution_count": 24,
   "metadata": {},
   "outputs": [
    {
     "data": {
      "text/html": [
       "<div>\n",
       "<style scoped>\n",
       "    .dataframe tbody tr th:only-of-type {\n",
       "        vertical-align: middle;\n",
       "    }\n",
       "\n",
       "    .dataframe tbody tr th {\n",
       "        vertical-align: top;\n",
       "    }\n",
       "\n",
       "    .dataframe thead th {\n",
       "        text-align: right;\n",
       "    }\n",
       "</style>\n",
       "<table border=\"1\" class=\"dataframe\">\n",
       "  <thead>\n",
       "    <tr style=\"text-align: right;\">\n",
       "      <th></th>\n",
       "      <th>creditscore</th>\n",
       "      <th>age</th>\n",
       "      <th>tenure</th>\n",
       "      <th>balance</th>\n",
       "      <th>numofproducts</th>\n",
       "      <th>hascrcard</th>\n",
       "      <th>isactivemember</th>\n",
       "      <th>estimatedsalary</th>\n",
       "      <th>male</th>\n",
       "      <th>germany</th>\n",
       "      <th>spain</th>\n",
       "    </tr>\n",
       "  </thead>\n",
       "  <tbody>\n",
       "    <tr>\n",
       "      <th>7073</th>\n",
       "      <td>0.312962</td>\n",
       "      <td>0.100855</td>\n",
       "      <td>1.0</td>\n",
       "      <td>-1.224819</td>\n",
       "      <td>1</td>\n",
       "      <td>1</td>\n",
       "      <td>1</td>\n",
       "      <td>-1.447317</td>\n",
       "      <td>1</td>\n",
       "      <td>0</td>\n",
       "      <td>0</td>\n",
       "    </tr>\n",
       "    <tr>\n",
       "      <th>9313</th>\n",
       "      <td>0.759094</td>\n",
       "      <td>-0.184547</td>\n",
       "      <td>0.0</td>\n",
       "      <td>0.791445</td>\n",
       "      <td>1</td>\n",
       "      <td>0</td>\n",
       "      <td>0</td>\n",
       "      <td>1.047180</td>\n",
       "      <td>0</td>\n",
       "      <td>1</td>\n",
       "      <td>0</td>\n",
       "    </tr>\n",
       "    <tr>\n",
       "      <th>3573</th>\n",
       "      <td>0.219585</td>\n",
       "      <td>2.764607</td>\n",
       "      <td>4.0</td>\n",
       "      <td>-1.224819</td>\n",
       "      <td>2</td>\n",
       "      <td>1</td>\n",
       "      <td>1</td>\n",
       "      <td>-1.542568</td>\n",
       "      <td>1</td>\n",
       "      <td>0</td>\n",
       "      <td>0</td>\n",
       "    </tr>\n",
       "    <tr>\n",
       "      <th>898</th>\n",
       "      <td>-1.305566</td>\n",
       "      <td>0.100855</td>\n",
       "      <td>2.0</td>\n",
       "      <td>0.423166</td>\n",
       "      <td>1</td>\n",
       "      <td>1</td>\n",
       "      <td>0</td>\n",
       "      <td>0.499401</td>\n",
       "      <td>0</td>\n",
       "      <td>0</td>\n",
       "      <td>0</td>\n",
       "    </tr>\n",
       "    <tr>\n",
       "      <th>2671</th>\n",
       "      <td>1.557983</td>\n",
       "      <td>-0.374815</td>\n",
       "      <td>7.0</td>\n",
       "      <td>-1.224819</td>\n",
       "      <td>2</td>\n",
       "      <td>0</td>\n",
       "      <td>1</td>\n",
       "      <td>0.709712</td>\n",
       "      <td>1</td>\n",
       "      <td>0</td>\n",
       "      <td>1</td>\n",
       "    </tr>\n",
       "  </tbody>\n",
       "</table>\n",
       "</div>"
      ],
      "text/plain": [
       "      creditscore       age  tenure   balance  numofproducts  hascrcard  \\\n",
       "7073     0.312962  0.100855     1.0 -1.224819              1          1   \n",
       "9313     0.759094 -0.184547     0.0  0.791445              1          0   \n",
       "3573     0.219585  2.764607     4.0 -1.224819              2          1   \n",
       "898     -1.305566  0.100855     2.0  0.423166              1          1   \n",
       "2671     1.557983 -0.374815     7.0 -1.224819              2          0   \n",
       "\n",
       "      isactivemember  estimatedsalary  male  germany  spain  \n",
       "7073               1        -1.447317     1        0      0  \n",
       "9313               0         1.047180     0        1      0  \n",
       "3573               1        -1.542568     1        0      0  \n",
       "898                0         0.499401     0        0      0  \n",
       "2671               1         0.709712     1        0      1  "
      ]
     },
     "execution_count": 24,
     "metadata": {},
     "output_type": "execute_result"
    }
   ],
   "source": [
    "# check\n",
    "features_train.head()"
   ]
  },
  {
   "cell_type": "markdown",
   "metadata": {},
   "source": [
    "### Метрики моделей без учета дисбаланса"
   ]
  },
  {
   "cell_type": "markdown",
   "metadata": {},
   "source": [
    "Задача состоит в том, чтобы довести метрику F1 до минимального значения 0.59. Посмотрим как справляются модели, не решая проблему дисбаланса."
   ]
  },
  {
   "cell_type": "markdown",
   "metadata": {},
   "source": [
    "#### Random Forest"
   ]
  },
  {
   "cell_type": "code",
   "execution_count": 25,
   "metadata": {},
   "outputs": [
    {
     "name": "stdout",
     "output_type": "stream",
     "text": [
      "F1 метрика: 0.5356521739130434\n"
     ]
    }
   ],
   "source": [
    "# алгоритм случайного леса без подбора гиперпараметров\n",
    "model = RandomForestClassifier(random_state=42, n_estimators=10)\n",
    "model.fit(features_train, target_train)\n",
    "predicted_valid = model.predict(features_valid)\n",
    "fscore = f1_score(target_valid, predicted_valid)\n",
    "print(\"F1 метрика:\", fscore)"
   ]
  },
  {
   "cell_type": "code",
   "execution_count": 26,
   "metadata": {},
   "outputs": [
    {
     "data": {
      "text/html": [
       "<style>#sk-container-id-1 {\n",
       "  /* Definition of color scheme common for light and dark mode */\n",
       "  --sklearn-color-text: black;\n",
       "  --sklearn-color-line: gray;\n",
       "  /* Definition of color scheme for unfitted estimators */\n",
       "  --sklearn-color-unfitted-level-0: #fff5e6;\n",
       "  --sklearn-color-unfitted-level-1: #f6e4d2;\n",
       "  --sklearn-color-unfitted-level-2: #ffe0b3;\n",
       "  --sklearn-color-unfitted-level-3: chocolate;\n",
       "  /* Definition of color scheme for fitted estimators */\n",
       "  --sklearn-color-fitted-level-0: #f0f8ff;\n",
       "  --sklearn-color-fitted-level-1: #d4ebff;\n",
       "  --sklearn-color-fitted-level-2: #b3dbfd;\n",
       "  --sklearn-color-fitted-level-3: cornflowerblue;\n",
       "\n",
       "  /* Specific color for light theme */\n",
       "  --sklearn-color-text-on-default-background: var(--sg-text-color, var(--theme-code-foreground, var(--jp-content-font-color1, black)));\n",
       "  --sklearn-color-background: var(--sg-background-color, var(--theme-background, var(--jp-layout-color0, white)));\n",
       "  --sklearn-color-border-box: var(--sg-text-color, var(--theme-code-foreground, var(--jp-content-font-color1, black)));\n",
       "  --sklearn-color-icon: #696969;\n",
       "\n",
       "  @media (prefers-color-scheme: dark) {\n",
       "    /* Redefinition of color scheme for dark theme */\n",
       "    --sklearn-color-text-on-default-background: var(--sg-text-color, var(--theme-code-foreground, var(--jp-content-font-color1, white)));\n",
       "    --sklearn-color-background: var(--sg-background-color, var(--theme-background, var(--jp-layout-color0, #111)));\n",
       "    --sklearn-color-border-box: var(--sg-text-color, var(--theme-code-foreground, var(--jp-content-font-color1, white)));\n",
       "    --sklearn-color-icon: #878787;\n",
       "  }\n",
       "}\n",
       "\n",
       "#sk-container-id-1 {\n",
       "  color: var(--sklearn-color-text);\n",
       "}\n",
       "\n",
       "#sk-container-id-1 pre {\n",
       "  padding: 0;\n",
       "}\n",
       "\n",
       "#sk-container-id-1 input.sk-hidden--visually {\n",
       "  border: 0;\n",
       "  clip: rect(1px 1px 1px 1px);\n",
       "  clip: rect(1px, 1px, 1px, 1px);\n",
       "  height: 1px;\n",
       "  margin: -1px;\n",
       "  overflow: hidden;\n",
       "  padding: 0;\n",
       "  position: absolute;\n",
       "  width: 1px;\n",
       "}\n",
       "\n",
       "#sk-container-id-1 div.sk-dashed-wrapped {\n",
       "  border: 1px dashed var(--sklearn-color-line);\n",
       "  margin: 0 0.4em 0.5em 0.4em;\n",
       "  box-sizing: border-box;\n",
       "  padding-bottom: 0.4em;\n",
       "  background-color: var(--sklearn-color-background);\n",
       "}\n",
       "\n",
       "#sk-container-id-1 div.sk-container {\n",
       "  /* jupyter's `normalize.less` sets `[hidden] { display: none; }`\n",
       "     but bootstrap.min.css set `[hidden] { display: none !important; }`\n",
       "     so we also need the `!important` here to be able to override the\n",
       "     default hidden behavior on the sphinx rendered scikit-learn.org.\n",
       "     See: https://github.com/scikit-learn/scikit-learn/issues/21755 */\n",
       "  display: inline-block !important;\n",
       "  position: relative;\n",
       "}\n",
       "\n",
       "#sk-container-id-1 div.sk-text-repr-fallback {\n",
       "  display: none;\n",
       "}\n",
       "\n",
       "div.sk-parallel-item,\n",
       "div.sk-serial,\n",
       "div.sk-item {\n",
       "  /* draw centered vertical line to link estimators */\n",
       "  background-image: linear-gradient(var(--sklearn-color-text-on-default-background), var(--sklearn-color-text-on-default-background));\n",
       "  background-size: 2px 100%;\n",
       "  background-repeat: no-repeat;\n",
       "  background-position: center center;\n",
       "}\n",
       "\n",
       "/* Parallel-specific style estimator block */\n",
       "\n",
       "#sk-container-id-1 div.sk-parallel-item::after {\n",
       "  content: \"\";\n",
       "  width: 100%;\n",
       "  border-bottom: 2px solid var(--sklearn-color-text-on-default-background);\n",
       "  flex-grow: 1;\n",
       "}\n",
       "\n",
       "#sk-container-id-1 div.sk-parallel {\n",
       "  display: flex;\n",
       "  align-items: stretch;\n",
       "  justify-content: center;\n",
       "  background-color: var(--sklearn-color-background);\n",
       "  position: relative;\n",
       "}\n",
       "\n",
       "#sk-container-id-1 div.sk-parallel-item {\n",
       "  display: flex;\n",
       "  flex-direction: column;\n",
       "}\n",
       "\n",
       "#sk-container-id-1 div.sk-parallel-item:first-child::after {\n",
       "  align-self: flex-end;\n",
       "  width: 50%;\n",
       "}\n",
       "\n",
       "#sk-container-id-1 div.sk-parallel-item:last-child::after {\n",
       "  align-self: flex-start;\n",
       "  width: 50%;\n",
       "}\n",
       "\n",
       "#sk-container-id-1 div.sk-parallel-item:only-child::after {\n",
       "  width: 0;\n",
       "}\n",
       "\n",
       "/* Serial-specific style estimator block */\n",
       "\n",
       "#sk-container-id-1 div.sk-serial {\n",
       "  display: flex;\n",
       "  flex-direction: column;\n",
       "  align-items: center;\n",
       "  background-color: var(--sklearn-color-background);\n",
       "  padding-right: 1em;\n",
       "  padding-left: 1em;\n",
       "}\n",
       "\n",
       "\n",
       "/* Toggleable style: style used for estimator/Pipeline/ColumnTransformer box that is\n",
       "clickable and can be expanded/collapsed.\n",
       "- Pipeline and ColumnTransformer use this feature and define the default style\n",
       "- Estimators will overwrite some part of the style using the `sk-estimator` class\n",
       "*/\n",
       "\n",
       "/* Pipeline and ColumnTransformer style (default) */\n",
       "\n",
       "#sk-container-id-1 div.sk-toggleable {\n",
       "  /* Default theme specific background. It is overwritten whether we have a\n",
       "  specific estimator or a Pipeline/ColumnTransformer */\n",
       "  background-color: var(--sklearn-color-background);\n",
       "}\n",
       "\n",
       "/* Toggleable label */\n",
       "#sk-container-id-1 label.sk-toggleable__label {\n",
       "  cursor: pointer;\n",
       "  display: block;\n",
       "  width: 100%;\n",
       "  margin-bottom: 0;\n",
       "  padding: 0.5em;\n",
       "  box-sizing: border-box;\n",
       "  text-align: center;\n",
       "}\n",
       "\n",
       "#sk-container-id-1 label.sk-toggleable__label-arrow:before {\n",
       "  /* Arrow on the left of the label */\n",
       "  content: \"▸\";\n",
       "  float: left;\n",
       "  margin-right: 0.25em;\n",
       "  color: var(--sklearn-color-icon);\n",
       "}\n",
       "\n",
       "#sk-container-id-1 label.sk-toggleable__label-arrow:hover:before {\n",
       "  color: var(--sklearn-color-text);\n",
       "}\n",
       "\n",
       "/* Toggleable content - dropdown */\n",
       "\n",
       "#sk-container-id-1 div.sk-toggleable__content {\n",
       "  max-height: 0;\n",
       "  max-width: 0;\n",
       "  overflow: hidden;\n",
       "  text-align: left;\n",
       "  /* unfitted */\n",
       "  background-color: var(--sklearn-color-unfitted-level-0);\n",
       "}\n",
       "\n",
       "#sk-container-id-1 div.sk-toggleable__content.fitted {\n",
       "  /* fitted */\n",
       "  background-color: var(--sklearn-color-fitted-level-0);\n",
       "}\n",
       "\n",
       "#sk-container-id-1 div.sk-toggleable__content pre {\n",
       "  margin: 0.2em;\n",
       "  border-radius: 0.25em;\n",
       "  color: var(--sklearn-color-text);\n",
       "  /* unfitted */\n",
       "  background-color: var(--sklearn-color-unfitted-level-0);\n",
       "}\n",
       "\n",
       "#sk-container-id-1 div.sk-toggleable__content.fitted pre {\n",
       "  /* unfitted */\n",
       "  background-color: var(--sklearn-color-fitted-level-0);\n",
       "}\n",
       "\n",
       "#sk-container-id-1 input.sk-toggleable__control:checked~div.sk-toggleable__content {\n",
       "  /* Expand drop-down */\n",
       "  max-height: 200px;\n",
       "  max-width: 100%;\n",
       "  overflow: auto;\n",
       "}\n",
       "\n",
       "#sk-container-id-1 input.sk-toggleable__control:checked~label.sk-toggleable__label-arrow:before {\n",
       "  content: \"▾\";\n",
       "}\n",
       "\n",
       "/* Pipeline/ColumnTransformer-specific style */\n",
       "\n",
       "#sk-container-id-1 div.sk-label input.sk-toggleable__control:checked~label.sk-toggleable__label {\n",
       "  color: var(--sklearn-color-text);\n",
       "  background-color: var(--sklearn-color-unfitted-level-2);\n",
       "}\n",
       "\n",
       "#sk-container-id-1 div.sk-label.fitted input.sk-toggleable__control:checked~label.sk-toggleable__label {\n",
       "  background-color: var(--sklearn-color-fitted-level-2);\n",
       "}\n",
       "\n",
       "/* Estimator-specific style */\n",
       "\n",
       "/* Colorize estimator box */\n",
       "#sk-container-id-1 div.sk-estimator input.sk-toggleable__control:checked~label.sk-toggleable__label {\n",
       "  /* unfitted */\n",
       "  background-color: var(--sklearn-color-unfitted-level-2);\n",
       "}\n",
       "\n",
       "#sk-container-id-1 div.sk-estimator.fitted input.sk-toggleable__control:checked~label.sk-toggleable__label {\n",
       "  /* fitted */\n",
       "  background-color: var(--sklearn-color-fitted-level-2);\n",
       "}\n",
       "\n",
       "#sk-container-id-1 div.sk-label label.sk-toggleable__label,\n",
       "#sk-container-id-1 div.sk-label label {\n",
       "  /* The background is the default theme color */\n",
       "  color: var(--sklearn-color-text-on-default-background);\n",
       "}\n",
       "\n",
       "/* On hover, darken the color of the background */\n",
       "#sk-container-id-1 div.sk-label:hover label.sk-toggleable__label {\n",
       "  color: var(--sklearn-color-text);\n",
       "  background-color: var(--sklearn-color-unfitted-level-2);\n",
       "}\n",
       "\n",
       "/* Label box, darken color on hover, fitted */\n",
       "#sk-container-id-1 div.sk-label.fitted:hover label.sk-toggleable__label.fitted {\n",
       "  color: var(--sklearn-color-text);\n",
       "  background-color: var(--sklearn-color-fitted-level-2);\n",
       "}\n",
       "\n",
       "/* Estimator label */\n",
       "\n",
       "#sk-container-id-1 div.sk-label label {\n",
       "  font-family: monospace;\n",
       "  font-weight: bold;\n",
       "  display: inline-block;\n",
       "  line-height: 1.2em;\n",
       "}\n",
       "\n",
       "#sk-container-id-1 div.sk-label-container {\n",
       "  text-align: center;\n",
       "}\n",
       "\n",
       "/* Estimator-specific */\n",
       "#sk-container-id-1 div.sk-estimator {\n",
       "  font-family: monospace;\n",
       "  border: 1px dotted var(--sklearn-color-border-box);\n",
       "  border-radius: 0.25em;\n",
       "  box-sizing: border-box;\n",
       "  margin-bottom: 0.5em;\n",
       "  /* unfitted */\n",
       "  background-color: var(--sklearn-color-unfitted-level-0);\n",
       "}\n",
       "\n",
       "#sk-container-id-1 div.sk-estimator.fitted {\n",
       "  /* fitted */\n",
       "  background-color: var(--sklearn-color-fitted-level-0);\n",
       "}\n",
       "\n",
       "/* on hover */\n",
       "#sk-container-id-1 div.sk-estimator:hover {\n",
       "  /* unfitted */\n",
       "  background-color: var(--sklearn-color-unfitted-level-2);\n",
       "}\n",
       "\n",
       "#sk-container-id-1 div.sk-estimator.fitted:hover {\n",
       "  /* fitted */\n",
       "  background-color: var(--sklearn-color-fitted-level-2);\n",
       "}\n",
       "\n",
       "/* Specification for estimator info (e.g. \"i\" and \"?\") */\n",
       "\n",
       "/* Common style for \"i\" and \"?\" */\n",
       "\n",
       ".sk-estimator-doc-link,\n",
       "a:link.sk-estimator-doc-link,\n",
       "a:visited.sk-estimator-doc-link {\n",
       "  float: right;\n",
       "  font-size: smaller;\n",
       "  line-height: 1em;\n",
       "  font-family: monospace;\n",
       "  background-color: var(--sklearn-color-background);\n",
       "  border-radius: 1em;\n",
       "  height: 1em;\n",
       "  width: 1em;\n",
       "  text-decoration: none !important;\n",
       "  margin-left: 1ex;\n",
       "  /* unfitted */\n",
       "  border: var(--sklearn-color-unfitted-level-1) 1pt solid;\n",
       "  color: var(--sklearn-color-unfitted-level-1);\n",
       "}\n",
       "\n",
       ".sk-estimator-doc-link.fitted,\n",
       "a:link.sk-estimator-doc-link.fitted,\n",
       "a:visited.sk-estimator-doc-link.fitted {\n",
       "  /* fitted */\n",
       "  border: var(--sklearn-color-fitted-level-1) 1pt solid;\n",
       "  color: var(--sklearn-color-fitted-level-1);\n",
       "}\n",
       "\n",
       "/* On hover */\n",
       "div.sk-estimator:hover .sk-estimator-doc-link:hover,\n",
       ".sk-estimator-doc-link:hover,\n",
       "div.sk-label-container:hover .sk-estimator-doc-link:hover,\n",
       ".sk-estimator-doc-link:hover {\n",
       "  /* unfitted */\n",
       "  background-color: var(--sklearn-color-unfitted-level-3);\n",
       "  color: var(--sklearn-color-background);\n",
       "  text-decoration: none;\n",
       "}\n",
       "\n",
       "div.sk-estimator.fitted:hover .sk-estimator-doc-link.fitted:hover,\n",
       ".sk-estimator-doc-link.fitted:hover,\n",
       "div.sk-label-container:hover .sk-estimator-doc-link.fitted:hover,\n",
       ".sk-estimator-doc-link.fitted:hover {\n",
       "  /* fitted */\n",
       "  background-color: var(--sklearn-color-fitted-level-3);\n",
       "  color: var(--sklearn-color-background);\n",
       "  text-decoration: none;\n",
       "}\n",
       "\n",
       "/* Span, style for the box shown on hovering the info icon */\n",
       ".sk-estimator-doc-link span {\n",
       "  display: none;\n",
       "  z-index: 9999;\n",
       "  position: relative;\n",
       "  font-weight: normal;\n",
       "  right: .2ex;\n",
       "  padding: .5ex;\n",
       "  margin: .5ex;\n",
       "  width: min-content;\n",
       "  min-width: 20ex;\n",
       "  max-width: 50ex;\n",
       "  color: var(--sklearn-color-text);\n",
       "  box-shadow: 2pt 2pt 4pt #999;\n",
       "  /* unfitted */\n",
       "  background: var(--sklearn-color-unfitted-level-0);\n",
       "  border: .5pt solid var(--sklearn-color-unfitted-level-3);\n",
       "}\n",
       "\n",
       ".sk-estimator-doc-link.fitted span {\n",
       "  /* fitted */\n",
       "  background: var(--sklearn-color-fitted-level-0);\n",
       "  border: var(--sklearn-color-fitted-level-3);\n",
       "}\n",
       "\n",
       ".sk-estimator-doc-link:hover span {\n",
       "  display: block;\n",
       "}\n",
       "\n",
       "/* \"?\"-specific style due to the `<a>` HTML tag */\n",
       "\n",
       "#sk-container-id-1 a.estimator_doc_link {\n",
       "  float: right;\n",
       "  font-size: 1rem;\n",
       "  line-height: 1em;\n",
       "  font-family: monospace;\n",
       "  background-color: var(--sklearn-color-background);\n",
       "  border-radius: 1rem;\n",
       "  height: 1rem;\n",
       "  width: 1rem;\n",
       "  text-decoration: none;\n",
       "  /* unfitted */\n",
       "  color: var(--sklearn-color-unfitted-level-1);\n",
       "  border: var(--sklearn-color-unfitted-level-1) 1pt solid;\n",
       "}\n",
       "\n",
       "#sk-container-id-1 a.estimator_doc_link.fitted {\n",
       "  /* fitted */\n",
       "  border: var(--sklearn-color-fitted-level-1) 1pt solid;\n",
       "  color: var(--sklearn-color-fitted-level-1);\n",
       "}\n",
       "\n",
       "/* On hover */\n",
       "#sk-container-id-1 a.estimator_doc_link:hover {\n",
       "  /* unfitted */\n",
       "  background-color: var(--sklearn-color-unfitted-level-3);\n",
       "  color: var(--sklearn-color-background);\n",
       "  text-decoration: none;\n",
       "}\n",
       "\n",
       "#sk-container-id-1 a.estimator_doc_link.fitted:hover {\n",
       "  /* fitted */\n",
       "  background-color: var(--sklearn-color-fitted-level-3);\n",
       "}\n",
       "</style><div id=\"sk-container-id-1\" class=\"sk-top-container\"><div class=\"sk-text-repr-fallback\"><pre>GridSearchCV(cv=5, estimator=RandomForestClassifier(random_state=42),\n",
       "             param_grid={&#x27;max_depth&#x27;: range(1, 16),\n",
       "                         &#x27;n_estimators&#x27;: range(2, 26)},\n",
       "             refit=&#x27;f1&#x27;, scoring=&#x27;f1&#x27;)</pre><b>In a Jupyter environment, please rerun this cell to show the HTML representation or trust the notebook. <br />On GitHub, the HTML representation is unable to render, please try loading this page with nbviewer.org.</b></div><div class=\"sk-container\" hidden><div class=\"sk-item sk-dashed-wrapped\"><div class=\"sk-label-container\"><div class=\"sk-label fitted sk-toggleable\"><input class=\"sk-toggleable__control sk-hidden--visually\" id=\"sk-estimator-id-1\" type=\"checkbox\" ><label for=\"sk-estimator-id-1\" class=\"sk-toggleable__label fitted sk-toggleable__label-arrow fitted\">&nbsp;&nbsp;GridSearchCV<a class=\"sk-estimator-doc-link fitted\" rel=\"noreferrer\" target=\"_blank\" href=\"https://scikit-learn.org/1.4/modules/generated/sklearn.model_selection.GridSearchCV.html\">?<span>Documentation for GridSearchCV</span></a><span class=\"sk-estimator-doc-link fitted\">i<span>Fitted</span></span></label><div class=\"sk-toggleable__content fitted\"><pre>GridSearchCV(cv=5, estimator=RandomForestClassifier(random_state=42),\n",
       "             param_grid={&#x27;max_depth&#x27;: range(1, 16),\n",
       "                         &#x27;n_estimators&#x27;: range(2, 26)},\n",
       "             refit=&#x27;f1&#x27;, scoring=&#x27;f1&#x27;)</pre></div> </div></div><div class=\"sk-parallel\"><div class=\"sk-parallel-item\"><div class=\"sk-item\"><div class=\"sk-label-container\"><div class=\"sk-label fitted sk-toggleable\"><input class=\"sk-toggleable__control sk-hidden--visually\" id=\"sk-estimator-id-2\" type=\"checkbox\" ><label for=\"sk-estimator-id-2\" class=\"sk-toggleable__label fitted sk-toggleable__label-arrow fitted\">estimator: RandomForestClassifier</label><div class=\"sk-toggleable__content fitted\"><pre>RandomForestClassifier(random_state=42)</pre></div> </div></div><div class=\"sk-serial\"><div class=\"sk-item\"><div class=\"sk-estimator fitted sk-toggleable\"><input class=\"sk-toggleable__control sk-hidden--visually\" id=\"sk-estimator-id-3\" type=\"checkbox\" ><label for=\"sk-estimator-id-3\" class=\"sk-toggleable__label fitted sk-toggleable__label-arrow fitted\">&nbsp;RandomForestClassifier<a class=\"sk-estimator-doc-link fitted\" rel=\"noreferrer\" target=\"_blank\" href=\"https://scikit-learn.org/1.4/modules/generated/sklearn.ensemble.RandomForestClassifier.html\">?<span>Documentation for RandomForestClassifier</span></a></label><div class=\"sk-toggleable__content fitted\"><pre>RandomForestClassifier(random_state=42)</pre></div> </div></div></div></div></div></div></div></div></div>"
      ],
      "text/plain": [
       "GridSearchCV(cv=5, estimator=RandomForestClassifier(random_state=42),\n",
       "             param_grid={'max_depth': range(1, 16),\n",
       "                         'n_estimators': range(2, 26)},\n",
       "             refit='f1', scoring='f1')"
      ]
     },
     "execution_count": 26,
     "metadata": {},
     "output_type": "execute_result"
    }
   ],
   "source": [
    "# подберем гиперпараметры\n",
    "clf = GridSearchCV(RandomForestClassifier(random_state=42), {\n",
    "    'n_estimators': range(2, 26),\n",
    "    'max_depth': range(1, 16)\n",
    "}, cv=5, return_train_score=False, scoring='f1', refit='f1')\n",
    "\n",
    "clf.fit(features_train, target_train)"
   ]
  },
  {
   "cell_type": "code",
   "execution_count": 27,
   "metadata": {},
   "outputs": [
    {
     "data": {
      "text/plain": [
       "{'max_depth': 15, 'n_estimators': 13}"
      ]
     },
     "execution_count": 27,
     "metadata": {},
     "output_type": "execute_result"
    }
   ],
   "source": [
    "clf.best_params_"
   ]
  },
  {
   "cell_type": "code",
   "execution_count": 28,
   "metadata": {},
   "outputs": [
    {
     "name": "stdout",
     "output_type": "stream",
     "text": [
      "F1 метрика: 0.5448154657293497\n"
     ]
    }
   ],
   "source": [
    "# изменим гиперпараметры модели и посмотрим на результат\n",
    "model = RandomForestClassifier(random_state=42, \n",
    "                               n_estimators=14, \n",
    "                               max_depth=12)\n",
    "\n",
    "model.fit(features_train, target_train)\n",
    "predicted_valid = model.predict(features_valid)\n",
    "f1_rf = f1_score(target_valid, predicted_valid)\n",
    "print(\"F1 метрика:\", f1_rf)"
   ]
  },
  {
   "cell_type": "code",
   "execution_count": 29,
   "metadata": {},
   "outputs": [
    {
     "name": "stdout",
     "output_type": "stream",
     "text": [
      "ROC AUC score =  0.8397695256657705\n"
     ]
    },
    {
     "data": {
      "image/png": "[encoded data removed]",
      "text/plain": [
       "<Figure size 842.4x597.6 with 1 Axes>"
      ]
     },
     "metadata": {
      "needs_background": "light"
     },
     "output_type": "display_data"
    }
   ],
   "source": [
    "rf_probs = model.predict_proba(features_valid)\n",
    "\n",
    "rf_probs = rf_probs[:, 1]\n",
    "\n",
    "rf_auc = roc_auc_score(target_valid, rf_probs)\n",
    "print('ROC AUC score = ', rf_auc)\n",
    "\n",
    "fpr, tpr, treshold = roc_curve(target_valid, rf_probs)\n",
    "roc_auc = auc(fpr, tpr)\n",
    "\n",
    "plt.figure(figsize=(11.7, 8.3))\n",
    "plt.plot(fpr, tpr, color='darkorange', label='ROC кривая')\n",
    "plt.plot([0, 1], [0, 1], color='navy', linestyle='--')\n",
    "plt.xlim([0.0, 1.0])\n",
    "plt.ylim([0.0, 1.05])\n",
    "plt.xlabel('False Positive Rate')\n",
    "plt.ylabel('True Positive Rate')\n",
    "plt.title('ROC-кривая')\n",
    "plt.legend(loc=\"lower right\")\n",
    "plt.show()"
   ]
  },
  {
   "cell_type": "markdown",
   "metadata": {},
   "source": [
    "Площадь под ROC кривой равняется 0.851. Модель справляется лучше случайной модели. "
   ]
  },
  {
   "cell_type": "markdown",
   "metadata": {},
   "source": [
    "#### Decision Tree"
   ]
  },
  {
   "cell_type": "markdown",
   "metadata": {},
   "source": [
    "Проделаем тоже самое с деревом решений."
   ]
  },
  {
   "cell_type": "code",
   "execution_count": 30,
   "metadata": {},
   "outputs": [
    {
     "name": "stdout",
     "output_type": "stream",
     "text": [
      "F1 метрика: 0.5013404825737265\n"
     ]
    }
   ],
   "source": [
    "# алгоритм дерева решений без подбора гиперпараметров\n",
    "model = DecisionTreeClassifier(random_state=42)\n",
    "model.fit(features_train, target_train)\n",
    "predicted_valid = model.predict(features_valid)\n",
    "fscore = f1_score(target_valid, predicted_valid)\n",
    "print(\"F1 метрика:\", fscore)"
   ]
  },
  {
   "cell_type": "code",
   "execution_count": 31,
   "metadata": {},
   "outputs": [
    {
     "data": {
      "text/html": [
       "<style>#sk-container-id-2 {\n",
       "  /* Definition of color scheme common for light and dark mode */\n",
       "  --sklearn-color-text: black;\n",
       "  --sklearn-color-line: gray;\n",
       "  /* Definition of color scheme for unfitted estimators */\n",
       "  --sklearn-color-unfitted-level-0: #fff5e6;\n",
       "  --sklearn-color-unfitted-level-1: #f6e4d2;\n",
       "  --sklearn-color-unfitted-level-2: #ffe0b3;\n",
       "  --sklearn-color-unfitted-level-3: chocolate;\n",
       "  /* Definition of color scheme for fitted estimators */\n",
       "  --sklearn-color-fitted-level-0: #f0f8ff;\n",
       "  --sklearn-color-fitted-level-1: #d4ebff;\n",
       "  --sklearn-color-fitted-level-2: #b3dbfd;\n",
       "  --sklearn-color-fitted-level-3: cornflowerblue;\n",
       "\n",
       "  /* Specific color for light theme */\n",
       "  --sklearn-color-text-on-default-background: var(--sg-text-color, var(--theme-code-foreground, var(--jp-content-font-color1, black)));\n",
       "  --sklearn-color-background: var(--sg-background-color, var(--theme-background, var(--jp-layout-color0, white)));\n",
       "  --sklearn-color-border-box: var(--sg-text-color, var(--theme-code-foreground, var(--jp-content-font-color1, black)));\n",
       "  --sklearn-color-icon: #696969;\n",
       "\n",
       "  @media (prefers-color-scheme: dark) {\n",
       "    /* Redefinition of color scheme for dark theme */\n",
       "    --sklearn-color-text-on-default-background: var(--sg-text-color, var(--theme-code-foreground, var(--jp-content-font-color1, white)));\n",
       "    --sklearn-color-background: var(--sg-background-color, var(--theme-background, var(--jp-layout-color0, #111)));\n",
       "    --sklearn-color-border-box: var(--sg-text-color, var(--theme-code-foreground, var(--jp-content-font-color1, white)));\n",
       "    --sklearn-color-icon: #878787;\n",
       "  }\n",
       "}\n",
       "\n",
       "#sk-container-id-2 {\n",
       "  color: var(--sklearn-color-text);\n",
       "}\n",
       "\n",
       "#sk-container-id-2 pre {\n",
       "  padding: 0;\n",
       "}\n",
       "\n",
       "#sk-container-id-2 input.sk-hidden--visually {\n",
       "  border: 0;\n",
       "  clip: rect(1px 1px 1px 1px);\n",
       "  clip: rect(1px, 1px, 1px, 1px);\n",
       "  height: 1px;\n",
       "  margin: -1px;\n",
       "  overflow: hidden;\n",
       "  padding: 0;\n",
       "  position: absolute;\n",
       "  width: 1px;\n",
       "}\n",
       "\n",
       "#sk-container-id-2 div.sk-dashed-wrapped {\n",
       "  border: 1px dashed var(--sklearn-color-line);\n",
       "  margin: 0 0.4em 0.5em 0.4em;\n",
       "  box-sizing: border-box;\n",
       "  padding-bottom: 0.4em;\n",
       "  background-color: var(--sklearn-color-background);\n",
       "}\n",
       "\n",
       "#sk-container-id-2 div.sk-container {\n",
       "  /* jupyter's `normalize.less` sets `[hidden] { display: none; }`\n",
       "     but bootstrap.min.css set `[hidden] { display: none !important; }`\n",
       "     so we also need the `!important` here to be able to override the\n",
       "     default hidden behavior on the sphinx rendered scikit-learn.org.\n",
       "     See: https://github.com/scikit-learn/scikit-learn/issues/21755 */\n",
       "  display: inline-block !important;\n",
       "  position: relative;\n",
       "}\n",
       "\n",
       "#sk-container-id-2 div.sk-text-repr-fallback {\n",
       "  display: none;\n",
       "}\n",
       "\n",
       "div.sk-parallel-item,\n",
       "div.sk-serial,\n",
       "div.sk-item {\n",
       "  /* draw centered vertical line to link estimators */\n",
       "  background-image: linear-gradient(var(--sklearn-color-text-on-default-background), var(--sklearn-color-text-on-default-background));\n",
       "  background-size: 2px 100%;\n",
       "  background-repeat: no-repeat;\n",
       "  background-position: center center;\n",
       "}\n",
       "\n",
       "/* Parallel-specific style estimator block */\n",
       "\n",
       "#sk-container-id-2 div.sk-parallel-item::after {\n",
       "  content: \"\";\n",
       "  width: 100%;\n",
       "  border-bottom: 2px solid var(--sklearn-color-text-on-default-background);\n",
       "  flex-grow: 1;\n",
       "}\n",
       "\n",
       "#sk-container-id-2 div.sk-parallel {\n",
       "  display: flex;\n",
       "  align-items: stretch;\n",
       "  justify-content: center;\n",
       "  background-color: var(--sklearn-color-background);\n",
       "  position: relative;\n",
       "}\n",
       "\n",
       "#sk-container-id-2 div.sk-parallel-item {\n",
       "  display: flex;\n",
       "  flex-direction: column;\n",
       "}\n",
       "\n",
       "#sk-container-id-2 div.sk-parallel-item:first-child::after {\n",
       "  align-self: flex-end;\n",
       "  width: 50%;\n",
       "}\n",
       "\n",
       "#sk-container-id-2 div.sk-parallel-item:last-child::after {\n",
       "  align-self: flex-start;\n",
       "  width: 50%;\n",
       "}\n",
       "\n",
       "#sk-container-id-2 div.sk-parallel-item:only-child::after {\n",
       "  width: 0;\n",
       "}\n",
       "\n",
       "/* Serial-specific style estimator block */\n",
       "\n",
       "#sk-container-id-2 div.sk-serial {\n",
       "  display: flex;\n",
       "  flex-direction: column;\n",
       "  align-items: center;\n",
       "  background-color: var(--sklearn-color-background);\n",
       "  padding-right: 1em;\n",
       "  padding-left: 1em;\n",
       "}\n",
       "\n",
       "\n",
       "/* Toggleable style: style used for estimator/Pipeline/ColumnTransformer box that is\n",
       "clickable and can be expanded/collapsed.\n",
       "- Pipeline and ColumnTransformer use this feature and define the default style\n",
       "- Estimators will overwrite some part of the style using the `sk-estimator` class\n",
       "*/\n",
       "\n",
       "/* Pipeline and ColumnTransformer style (default) */\n",
       "\n",
       "#sk-container-id-2 div.sk-toggleable {\n",
       "  /* Default theme specific background. It is overwritten whether we have a\n",
       "  specific estimator or a Pipeline/ColumnTransformer */\n",
       "  background-color: var(--sklearn-color-background);\n",
       "}\n",
       "\n",
       "/* Toggleable label */\n",
       "#sk-container-id-2 label.sk-toggleable__label {\n",
       "  cursor: pointer;\n",
       "  display: block;\n",
       "  width: 100%;\n",
       "  margin-bottom: 0;\n",
       "  padding: 0.5em;\n",
       "  box-sizing: border-box;\n",
       "  text-align: center;\n",
       "}\n",
       "\n",
       "#sk-container-id-2 label.sk-toggleable__label-arrow:before {\n",
       "  /* Arrow on the left of the label */\n",
       "  content: \"▸\";\n",
       "  float: left;\n",
       "  margin-right: 0.25em;\n",
       "  color: var(--sklearn-color-icon);\n",
       "}\n",
       "\n",
       "#sk-container-id-2 label.sk-toggleable__label-arrow:hover:before {\n",
       "  color: var(--sklearn-color-text);\n",
       "}\n",
       "\n",
       "/* Toggleable content - dropdown */\n",
       "\n",
       "#sk-container-id-2 div.sk-toggleable__content {\n",
       "  max-height: 0;\n",
       "  max-width: 0;\n",
       "  overflow: hidden;\n",
       "  text-align: left;\n",
       "  /* unfitted */\n",
       "  background-color: var(--sklearn-color-unfitted-level-0);\n",
       "}\n",
       "\n",
       "#sk-container-id-2 div.sk-toggleable__content.fitted {\n",
       "  /* fitted */\n",
       "  background-color: var(--sklearn-color-fitted-level-0);\n",
       "}\n",
       "\n",
       "#sk-container-id-2 div.sk-toggleable__content pre {\n",
       "  margin: 0.2em;\n",
       "  border-radius: 0.25em;\n",
       "  color: var(--sklearn-color-text);\n",
       "  /* unfitted */\n",
       "  background-color: var(--sklearn-color-unfitted-level-0);\n",
       "}\n",
       "\n",
       "#sk-container-id-2 div.sk-toggleable__content.fitted pre {\n",
       "  /* unfitted */\n",
       "  background-color: var(--sklearn-color-fitted-level-0);\n",
       "}\n",
       "\n",
       "#sk-container-id-2 input.sk-toggleable__control:checked~div.sk-toggleable__content {\n",
       "  /* Expand drop-down */\n",
       "  max-height: 200px;\n",
       "  max-width: 100%;\n",
       "  overflow: auto;\n",
       "}\n",
       "\n",
       "#sk-container-id-2 input.sk-toggleable__control:checked~label.sk-toggleable__label-arrow:before {\n",
       "  content: \"▾\";\n",
       "}\n",
       "\n",
       "/* Pipeline/ColumnTransformer-specific style */\n",
       "\n",
       "#sk-container-id-2 div.sk-label input.sk-toggleable__control:checked~label.sk-toggleable__label {\n",
       "  color: var(--sklearn-color-text);\n",
       "  background-color: var(--sklearn-color-unfitted-level-2);\n",
       "}\n",
       "\n",
       "#sk-container-id-2 div.sk-label.fitted input.sk-toggleable__control:checked~label.sk-toggleable__label {\n",
       "  background-color: var(--sklearn-color-fitted-level-2);\n",
       "}\n",
       "\n",
       "/* Estimator-specific style */\n",
       "\n",
       "/* Colorize estimator box */\n",
       "#sk-container-id-2 div.sk-estimator input.sk-toggleable__control:checked~label.sk-toggleable__label {\n",
       "  /* unfitted */\n",
       "  background-color: var(--sklearn-color-unfitted-level-2);\n",
       "}\n",
       "\n",
       "#sk-container-id-2 div.sk-estimator.fitted input.sk-toggleable__control:checked~label.sk-toggleable__label {\n",
       "  /* fitted */\n",
       "  background-color: var(--sklearn-color-fitted-level-2);\n",
       "}\n",
       "\n",
       "#sk-container-id-2 div.sk-label label.sk-toggleable__label,\n",
       "#sk-container-id-2 div.sk-label label {\n",
       "  /* The background is the default theme color */\n",
       "  color: var(--sklearn-color-text-on-default-background);\n",
       "}\n",
       "\n",
       "/* On hover, darken the color of the background */\n",
       "#sk-container-id-2 div.sk-label:hover label.sk-toggleable__label {\n",
       "  color: var(--sklearn-color-text);\n",
       "  background-color: var(--sklearn-color-unfitted-level-2);\n",
       "}\n",
       "\n",
       "/* Label box, darken color on hover, fitted */\n",
       "#sk-container-id-2 div.sk-label.fitted:hover label.sk-toggleable__label.fitted {\n",
       "  color: var(--sklearn-color-text);\n",
       "  background-color: var(--sklearn-color-fitted-level-2);\n",
       "}\n",
       "\n",
       "/* Estimator label */\n",
       "\n",
       "#sk-container-id-2 div.sk-label label {\n",
       "  font-family: monospace;\n",
       "  font-weight: bold;\n",
       "  display: inline-block;\n",
       "  line-height: 1.2em;\n",
       "}\n",
       "\n",
       "#sk-container-id-2 div.sk-label-container {\n",
       "  text-align: center;\n",
       "}\n",
       "\n",
       "/* Estimator-specific */\n",
       "#sk-container-id-2 div.sk-estimator {\n",
       "  font-family: monospace;\n",
       "  border: 1px dotted var(--sklearn-color-border-box);\n",
       "  border-radius: 0.25em;\n",
       "  box-sizing: border-box;\n",
       "  margin-bottom: 0.5em;\n",
       "  /* unfitted */\n",
       "  background-color: var(--sklearn-color-unfitted-level-0);\n",
       "}\n",
       "\n",
       "#sk-container-id-2 div.sk-estimator.fitted {\n",
       "  /* fitted */\n",
       "  background-color: var(--sklearn-color-fitted-level-0);\n",
       "}\n",
       "\n",
       "/* on hover */\n",
       "#sk-container-id-2 div.sk-estimator:hover {\n",
       "  /* unfitted */\n",
       "  background-color: var(--sklearn-color-unfitted-level-2);\n",
       "}\n",
       "\n",
       "#sk-container-id-2 div.sk-estimator.fitted:hover {\n",
       "  /* fitted */\n",
       "  background-color: var(--sklearn-color-fitted-level-2);\n",
       "}\n",
       "\n",
       "/* Specification for estimator info (e.g. \"i\" and \"?\") */\n",
       "\n",
       "/* Common style for \"i\" and \"?\" */\n",
       "\n",
       ".sk-estimator-doc-link,\n",
       "a:link.sk-estimator-doc-link,\n",
       "a:visited.sk-estimator-doc-link {\n",
       "  float: right;\n",
       "  font-size: smaller;\n",
       "  line-height: 1em;\n",
       "  font-family: monospace;\n",
       "  background-color: var(--sklearn-color-background);\n",
       "  border-radius: 1em;\n",
       "  height: 1em;\n",
       "  width: 1em;\n",
       "  text-decoration: none !important;\n",
       "  margin-left: 1ex;\n",
       "  /* unfitted */\n",
       "  border: var(--sklearn-color-unfitted-level-1) 1pt solid;\n",
       "  color: var(--sklearn-color-unfitted-level-1);\n",
       "}\n",
       "\n",
       ".sk-estimator-doc-link.fitted,\n",
       "a:link.sk-estimator-doc-link.fitted,\n",
       "a:visited.sk-estimator-doc-link.fitted {\n",
       "  /* fitted */\n",
       "  border: var(--sklearn-color-fitted-level-1) 1pt solid;\n",
       "  color: var(--sklearn-color-fitted-level-1);\n",
       "}\n",
       "\n",
       "/* On hover */\n",
       "div.sk-estimator:hover .sk-estimator-doc-link:hover,\n",
       ".sk-estimator-doc-link:hover,\n",
       "div.sk-label-container:hover .sk-estimator-doc-link:hover,\n",
       ".sk-estimator-doc-link:hover {\n",
       "  /* unfitted */\n",
       "  background-color: var(--sklearn-color-unfitted-level-3);\n",
       "  color: var(--sklearn-color-background);\n",
       "  text-decoration: none;\n",
       "}\n",
       "\n",
       "div.sk-estimator.fitted:hover .sk-estimator-doc-link.fitted:hover,\n",
       ".sk-estimator-doc-link.fitted:hover,\n",
       "div.sk-label-container:hover .sk-estimator-doc-link.fitted:hover,\n",
       ".sk-estimator-doc-link.fitted:hover {\n",
       "  /* fitted */\n",
       "  background-color: var(--sklearn-color-fitted-level-3);\n",
       "  color: var(--sklearn-color-background);\n",
       "  text-decoration: none;\n",
       "}\n",
       "\n",
       "/* Span, style for the box shown on hovering the info icon */\n",
       ".sk-estimator-doc-link span {\n",
       "  display: none;\n",
       "  z-index: 9999;\n",
       "  position: relative;\n",
       "  font-weight: normal;\n",
       "  right: .2ex;\n",
       "  padding: .5ex;\n",
       "  margin: .5ex;\n",
       "  width: min-content;\n",
       "  min-width: 20ex;\n",
       "  max-width: 50ex;\n",
       "  color: var(--sklearn-color-text);\n",
       "  box-shadow: 2pt 2pt 4pt #999;\n",
       "  /* unfitted */\n",
       "  background: var(--sklearn-color-unfitted-level-0);\n",
       "  border: .5pt solid var(--sklearn-color-unfitted-level-3);\n",
       "}\n",
       "\n",
       ".sk-estimator-doc-link.fitted span {\n",
       "  /* fitted */\n",
       "  background: var(--sklearn-color-fitted-level-0);\n",
       "  border: var(--sklearn-color-fitted-level-3);\n",
       "}\n",
       "\n",
       ".sk-estimator-doc-link:hover span {\n",
       "  display: block;\n",
       "}\n",
       "\n",
       "/* \"?\"-specific style due to the `<a>` HTML tag */\n",
       "\n",
       "#sk-container-id-2 a.estimator_doc_link {\n",
       "  float: right;\n",
       "  font-size: 1rem;\n",
       "  line-height: 1em;\n",
       "  font-family: monospace;\n",
       "  background-color: var(--sklearn-color-background);\n",
       "  border-radius: 1rem;\n",
       "  height: 1rem;\n",
       "  width: 1rem;\n",
       "  text-decoration: none;\n",
       "  /* unfitted */\n",
       "  color: var(--sklearn-color-unfitted-level-1);\n",
       "  border: var(--sklearn-color-unfitted-level-1) 1pt solid;\n",
       "}\n",
       "\n",
       "#sk-container-id-2 a.estimator_doc_link.fitted {\n",
       "  /* fitted */\n",
       "  border: var(--sklearn-color-fitted-level-1) 1pt solid;\n",
       "  color: var(--sklearn-color-fitted-level-1);\n",
       "}\n",
       "\n",
       "/* On hover */\n",
       "#sk-container-id-2 a.estimator_doc_link:hover {\n",
       "  /* unfitted */\n",
       "  background-color: var(--sklearn-color-unfitted-level-3);\n",
       "  color: var(--sklearn-color-background);\n",
       "  text-decoration: none;\n",
       "}\n",
       "\n",
       "#sk-container-id-2 a.estimator_doc_link.fitted:hover {\n",
       "  /* fitted */\n",
       "  background-color: var(--sklearn-color-fitted-level-3);\n",
       "}\n",
       "</style><div id=\"sk-container-id-2\" class=\"sk-top-container\"><div class=\"sk-text-repr-fallback\"><pre>GridSearchCV(cv=5, estimator=DecisionTreeClassifier(random_state=42),\n",
       "             param_grid={&#x27;max_depth&#x27;: range(1, 31)}, refit=&#x27;f1&#x27;, scoring=&#x27;f1&#x27;)</pre><b>In a Jupyter environment, please rerun this cell to show the HTML representation or trust the notebook. <br />On GitHub, the HTML representation is unable to render, please try loading this page with nbviewer.org.</b></div><div class=\"sk-container\" hidden><div class=\"sk-item sk-dashed-wrapped\"><div class=\"sk-label-container\"><div class=\"sk-label fitted sk-toggleable\"><input class=\"sk-toggleable__control sk-hidden--visually\" id=\"sk-estimator-id-4\" type=\"checkbox\" ><label for=\"sk-estimator-id-4\" class=\"sk-toggleable__label fitted sk-toggleable__label-arrow fitted\">&nbsp;&nbsp;GridSearchCV<a class=\"sk-estimator-doc-link fitted\" rel=\"noreferrer\" target=\"_blank\" href=\"https://scikit-learn.org/1.4/modules/generated/sklearn.model_selection.GridSearchCV.html\">?<span>Documentation for GridSearchCV</span></a><span class=\"sk-estimator-doc-link fitted\">i<span>Fitted</span></span></label><div class=\"sk-toggleable__content fitted\"><pre>GridSearchCV(cv=5, estimator=DecisionTreeClassifier(random_state=42),\n",
       "             param_grid={&#x27;max_depth&#x27;: range(1, 31)}, refit=&#x27;f1&#x27;, scoring=&#x27;f1&#x27;)</pre></div> </div></div><div class=\"sk-parallel\"><div class=\"sk-parallel-item\"><div class=\"sk-item\"><div class=\"sk-label-container\"><div class=\"sk-label fitted sk-toggleable\"><input class=\"sk-toggleable__control sk-hidden--visually\" id=\"sk-estimator-id-5\" type=\"checkbox\" ><label for=\"sk-estimator-id-5\" class=\"sk-toggleable__label fitted sk-toggleable__label-arrow fitted\">estimator: DecisionTreeClassifier</label><div class=\"sk-toggleable__content fitted\"><pre>DecisionTreeClassifier(random_state=42)</pre></div> </div></div><div class=\"sk-serial\"><div class=\"sk-item\"><div class=\"sk-estimator fitted sk-toggleable\"><input class=\"sk-toggleable__control sk-hidden--visually\" id=\"sk-estimator-id-6\" type=\"checkbox\" ><label for=\"sk-estimator-id-6\" class=\"sk-toggleable__label fitted sk-toggleable__label-arrow fitted\">&nbsp;DecisionTreeClassifier<a class=\"sk-estimator-doc-link fitted\" rel=\"noreferrer\" target=\"_blank\" href=\"https://scikit-learn.org/1.4/modules/generated/sklearn.tree.DecisionTreeClassifier.html\">?<span>Documentation for DecisionTreeClassifier</span></a></label><div class=\"sk-toggleable__content fitted\"><pre>DecisionTreeClassifier(random_state=42)</pre></div> </div></div></div></div></div></div></div></div></div>"
      ],
      "text/plain": [
       "GridSearchCV(cv=5, estimator=DecisionTreeClassifier(random_state=42),\n",
       "             param_grid={'max_depth': range(1, 31)}, refit='f1', scoring='f1')"
      ]
     },
     "execution_count": 31,
     "metadata": {},
     "output_type": "execute_result"
    }
   ],
   "source": [
    "# подбор гиперпараметров\n",
    "clf = GridSearchCV(DecisionTreeClassifier(random_state=42), {\n",
    "    'max_depth': range(1, 31)\n",
    "}, cv=5, return_train_score=False, scoring='f1', refit='f1')\n",
    "clf.fit(features_train, target_train)"
   ]
  },
  {
   "cell_type": "code",
   "execution_count": 32,
   "metadata": {
    "scrolled": true
   },
   "outputs": [
    {
     "data": {
      "text/plain": [
       "{'max_depth': 7}"
      ]
     },
     "execution_count": 32,
     "metadata": {},
     "output_type": "execute_result"
    }
   ],
   "source": [
    "clf.best_params_"
   ]
  },
  {
   "cell_type": "code",
   "execution_count": 33,
   "metadata": {},
   "outputs": [
    {
     "name": "stdout",
     "output_type": "stream",
     "text": [
      "F1 метрика: 0.5641025641025641\n"
     ]
    }
   ],
   "source": [
    "model = DecisionTreeClassifier(random_state=42, max_depth=8)\n",
    "model.fit(features_train, target_train)\n",
    "predicted_valid = model.predict(features_valid)\n",
    "f1_dt = f1_score(target_valid, predicted_valid)\n",
    "print(\"F1 метрика:\", f1_dt)"
   ]
  },
  {
   "cell_type": "markdown",
   "metadata": {},
   "source": [
    "Заметно увеличилась метрика."
   ]
  },
  {
   "cell_type": "code",
   "execution_count": 34,
   "metadata": {},
   "outputs": [
    {
     "name": "stdout",
     "output_type": "stream",
     "text": [
      "ROC AUC score =  0.8289463705411484\n"
     ]
    },
    {
     "data": {
      "image/png": "[encoded data removed]",
      "text/plain": [
       "<Figure size 842.4x597.6 with 1 Axes>"
      ]
     },
     "metadata": {
      "needs_background": "light"
     },
     "output_type": "display_data"
    }
   ],
   "source": [
    "dt_probs = model.predict_proba(features_valid)\n",
    "\n",
    "dt_probs = dt_probs[:, 1]\n",
    "\n",
    "dt_auc = roc_auc_score(target_valid, dt_probs)\n",
    "print('ROC AUC score = ', dt_auc)\n",
    "\n",
    "fpr, tpr, treshold = roc_curve(target_valid, dt_probs)\n",
    "roc_auc = auc(fpr, tpr)\n",
    "\n",
    "plt.figure(figsize=(11.7, 8.3))\n",
    "plt.plot(fpr, tpr, color='darkorange', label='ROC кривая')\n",
    "plt.plot([0, 1], [0, 1], color='navy', linestyle='--')\n",
    "plt.xlim([0.0, 1.0])\n",
    "plt.ylim([0.0, 1.05])\n",
    "plt.xlabel('False Positive Rate')\n",
    "plt.ylabel('True Positive Rate')\n",
    "plt.title('ROC-кривая')\n",
    "plt.legend(loc=\"lower right\")\n",
    "plt.show()"
   ]
  },
  {
   "cell_type": "markdown",
   "metadata": {},
   "source": [
    "Площадь под ROC кривой равняется 0.813. Модель справляется лучше случайной модели. "
   ]
  },
  {
   "cell_type": "markdown",
   "metadata": {},
   "source": [
    "#### Logistic Regression"
   ]
  },
  {
   "cell_type": "markdown",
   "metadata": {},
   "source": [
    "Посмотрим на метрику F1 score алгоритма логистической регрессии."
   ]
  },
  {
   "cell_type": "code",
   "execution_count": 35,
   "metadata": {},
   "outputs": [
    {
     "name": "stdout",
     "output_type": "stream",
     "text": [
      "F1: 0.2788671023965142\n"
     ]
    }
   ],
   "source": [
    "# без подбора гиперпараметров\n",
    "model = LogisticRegression(random_state=42, solver='liblinear')\n",
    "model.fit(features_train, target_train)\n",
    "predicted_valid = model.predict(features_valid)\n",
    "fscore = f1_score(target_valid, predicted_valid)\n",
    "print(\"F1:\", fscore)"
   ]
  },
  {
   "cell_type": "code",
   "execution_count": 36,
   "metadata": {},
   "outputs": [
    {
     "data": {
      "text/html": [
       "<style>#sk-container-id-3 {\n",
       "  /* Definition of color scheme common for light and dark mode */\n",
       "  --sklearn-color-text: black;\n",
       "  --sklearn-color-line: gray;\n",
       "  /* Definition of color scheme for unfitted estimators */\n",
       "  --sklearn-color-unfitted-level-0: #fff5e6;\n",
       "  --sklearn-color-unfitted-level-1: #f6e4d2;\n",
       "  --sklearn-color-unfitted-level-2: #ffe0b3;\n",
       "  --sklearn-color-unfitted-level-3: chocolate;\n",
       "  /* Definition of color scheme for fitted estimators */\n",
       "  --sklearn-color-fitted-level-0: #f0f8ff;\n",
       "  --sklearn-color-fitted-level-1: #d4ebff;\n",
       "  --sklearn-color-fitted-level-2: #b3dbfd;\n",
       "  --sklearn-color-fitted-level-3: cornflowerblue;\n",
       "\n",
       "  /* Specific color for light theme */\n",
       "  --sklearn-color-text-on-default-background: var(--sg-text-color, var(--theme-code-foreground, var(--jp-content-font-color1, black)));\n",
       "  --sklearn-color-background: var(--sg-background-color, var(--theme-background, var(--jp-layout-color0, white)));\n",
       "  --sklearn-color-border-box: var(--sg-text-color, var(--theme-code-foreground, var(--jp-content-font-color1, black)));\n",
       "  --sklearn-color-icon: #696969;\n",
       "\n",
       "  @media (prefers-color-scheme: dark) {\n",
       "    /* Redefinition of color scheme for dark theme */\n",
       "    --sklearn-color-text-on-default-background: var(--sg-text-color, var(--theme-code-foreground, var(--jp-content-font-color1, white)));\n",
       "    --sklearn-color-background: var(--sg-background-color, var(--theme-background, var(--jp-layout-color0, #111)));\n",
       "    --sklearn-color-border-box: var(--sg-text-color, var(--theme-code-foreground, var(--jp-content-font-color1, white)));\n",
       "    --sklearn-color-icon: #878787;\n",
       "  }\n",
       "}\n",
       "\n",
       "#sk-container-id-3 {\n",
       "  color: var(--sklearn-color-text);\n",
       "}\n",
       "\n",
       "#sk-container-id-3 pre {\n",
       "  padding: 0;\n",
       "}\n",
       "\n",
       "#sk-container-id-3 input.sk-hidden--visually {\n",
       "  border: 0;\n",
       "  clip: rect(1px 1px 1px 1px);\n",
       "  clip: rect(1px, 1px, 1px, 1px);\n",
       "  height: 1px;\n",
       "  margin: -1px;\n",
       "  overflow: hidden;\n",
       "  padding: 0;\n",
       "  position: absolute;\n",
       "  width: 1px;\n",
       "}\n",
       "\n",
       "#sk-container-id-3 div.sk-dashed-wrapped {\n",
       "  border: 1px dashed var(--sklearn-color-line);\n",
       "  margin: 0 0.4em 0.5em 0.4em;\n",
       "  box-sizing: border-box;\n",
       "  padding-bottom: 0.4em;\n",
       "  background-color: var(--sklearn-color-background);\n",
       "}\n",
       "\n",
       "#sk-container-id-3 div.sk-container {\n",
       "  /* jupyter's `normalize.less` sets `[hidden] { display: none; }`\n",
       "     but bootstrap.min.css set `[hidden] { display: none !important; }`\n",
       "     so we also need the `!important` here to be able to override the\n",
       "     default hidden behavior on the sphinx rendered scikit-learn.org.\n",
       "     See: https://github.com/scikit-learn/scikit-learn/issues/21755 */\n",
       "  display: inline-block !important;\n",
       "  position: relative;\n",
       "}\n",
       "\n",
       "#sk-container-id-3 div.sk-text-repr-fallback {\n",
       "  display: none;\n",
       "}\n",
       "\n",
       "div.sk-parallel-item,\n",
       "div.sk-serial,\n",
       "div.sk-item {\n",
       "  /* draw centered vertical line to link estimators */\n",
       "  background-image: linear-gradient(var(--sklearn-color-text-on-default-background), var(--sklearn-color-text-on-default-background));\n",
       "  background-size: 2px 100%;\n",
       "  background-repeat: no-repeat;\n",
       "  background-position: center center;\n",
       "}\n",
       "\n",
       "/* Parallel-specific style estimator block */\n",
       "\n",
       "#sk-container-id-3 div.sk-parallel-item::after {\n",
       "  content: \"\";\n",
       "  width: 100%;\n",
       "  border-bottom: 2px solid var(--sklearn-color-text-on-default-background);\n",
       "  flex-grow: 1;\n",
       "}\n",
       "\n",
       "#sk-container-id-3 div.sk-parallel {\n",
       "  display: flex;\n",
       "  align-items: stretch;\n",
       "  justify-content: center;\n",
       "  background-color: var(--sklearn-color-background);\n",
       "  position: relative;\n",
       "}\n",
       "\n",
       "#sk-container-id-3 div.sk-parallel-item {\n",
       "  display: flex;\n",
       "  flex-direction: column;\n",
       "}\n",
       "\n",
       "#sk-container-id-3 div.sk-parallel-item:first-child::after {\n",
       "  align-self: flex-end;\n",
       "  width: 50%;\n",
       "}\n",
       "\n",
       "#sk-container-id-3 div.sk-parallel-item:last-child::after {\n",
       "  align-self: flex-start;\n",
       "  width: 50%;\n",
       "}\n",
       "\n",
       "#sk-container-id-3 div.sk-parallel-item:only-child::after {\n",
       "  width: 0;\n",
       "}\n",
       "\n",
       "/* Serial-specific style estimator block */\n",
       "\n",
       "#sk-container-id-3 div.sk-serial {\n",
       "  display: flex;\n",
       "  flex-direction: column;\n",
       "  align-items: center;\n",
       "  background-color: var(--sklearn-color-background);\n",
       "  padding-right: 1em;\n",
       "  padding-left: 1em;\n",
       "}\n",
       "\n",
       "\n",
       "/* Toggleable style: style used for estimator/Pipeline/ColumnTransformer box that is\n",
       "clickable and can be expanded/collapsed.\n",
       "- Pipeline and ColumnTransformer use this feature and define the default style\n",
       "- Estimators will overwrite some part of the style using the `sk-estimator` class\n",
       "*/\n",
       "\n",
       "/* Pipeline and ColumnTransformer style (default) */\n",
       "\n",
       "#sk-container-id-3 div.sk-toggleable {\n",
       "  /* Default theme specific background. It is overwritten whether we have a\n",
       "  specific estimator or a Pipeline/ColumnTransformer */\n",
       "  background-color: var(--sklearn-color-background);\n",
       "}\n",
       "\n",
       "/* Toggleable label */\n",
       "#sk-container-id-3 label.sk-toggleable__label {\n",
       "  cursor: pointer;\n",
       "  display: block;\n",
       "  width: 100%;\n",
       "  margin-bottom: 0;\n",
       "  padding: 0.5em;\n",
       "  box-sizing: border-box;\n",
       "  text-align: center;\n",
       "}\n",
       "\n",
       "#sk-container-id-3 label.sk-toggleable__label-arrow:before {\n",
       "  /* Arrow on the left of the label */\n",
       "  content: \"▸\";\n",
       "  float: left;\n",
       "  margin-right: 0.25em;\n",
       "  color: var(--sklearn-color-icon);\n",
       "}\n",
       "\n",
       "#sk-container-id-3 label.sk-toggleable__label-arrow:hover:before {\n",
       "  color: var(--sklearn-color-text);\n",
       "}\n",
       "\n",
       "/* Toggleable content - dropdown */\n",
       "\n",
       "#sk-container-id-3 div.sk-toggleable__content {\n",
       "  max-height: 0;\n",
       "  max-width: 0;\n",
       "  overflow: hidden;\n",
       "  text-align: left;\n",
       "  /* unfitted */\n",
       "  background-color: var(--sklearn-color-unfitted-level-0);\n",
       "}\n",
       "\n",
       "#sk-container-id-3 div.sk-toggleable__content.fitted {\n",
       "  /* fitted */\n",
       "  background-color: var(--sklearn-color-fitted-level-0);\n",
       "}\n",
       "\n",
       "#sk-container-id-3 div.sk-toggleable__content pre {\n",
       "  margin: 0.2em;\n",
       "  border-radius: 0.25em;\n",
       "  color: var(--sklearn-color-text);\n",
       "  /* unfitted */\n",
       "  background-color: var(--sklearn-color-unfitted-level-0);\n",
       "}\n",
       "\n",
       "#sk-container-id-3 div.sk-toggleable__content.fitted pre {\n",
       "  /* unfitted */\n",
       "  background-color: var(--sklearn-color-fitted-level-0);\n",
       "}\n",
       "\n",
       "#sk-container-id-3 input.sk-toggleable__control:checked~div.sk-toggleable__content {\n",
       "  /* Expand drop-down */\n",
       "  max-height: 200px;\n",
       "  max-width: 100%;\n",
       "  overflow: auto;\n",
       "}\n",
       "\n",
       "#sk-container-id-3 input.sk-toggleable__control:checked~label.sk-toggleable__label-arrow:before {\n",
       "  content: \"▾\";\n",
       "}\n",
       "\n",
       "/* Pipeline/ColumnTransformer-specific style */\n",
       "\n",
       "#sk-container-id-3 div.sk-label input.sk-toggleable__control:checked~label.sk-toggleable__label {\n",
       "  color: var(--sklearn-color-text);\n",
       "  background-color: var(--sklearn-color-unfitted-level-2);\n",
       "}\n",
       "\n",
       "#sk-container-id-3 div.sk-label.fitted input.sk-toggleable__control:checked~label.sk-toggleable__label {\n",
       "  background-color: var(--sklearn-color-fitted-level-2);\n",
       "}\n",
       "\n",
       "/* Estimator-specific style */\n",
       "\n",
       "/* Colorize estimator box */\n",
       "#sk-container-id-3 div.sk-estimator input.sk-toggleable__control:checked~label.sk-toggleable__label {\n",
       "  /* unfitted */\n",
       "  background-color: var(--sklearn-color-unfitted-level-2);\n",
       "}\n",
       "\n",
       "#sk-container-id-3 div.sk-estimator.fitted input.sk-toggleable__control:checked~label.sk-toggleable__label {\n",
       "  /* fitted */\n",
       "  background-color: var(--sklearn-color-fitted-level-2);\n",
       "}\n",
       "\n",
       "#sk-container-id-3 div.sk-label label.sk-toggleable__label,\n",
       "#sk-container-id-3 div.sk-label label {\n",
       "  /* The background is the default theme color */\n",
       "  color: var(--sklearn-color-text-on-default-background);\n",
       "}\n",
       "\n",
       "/* On hover, darken the color of the background */\n",
       "#sk-container-id-3 div.sk-label:hover label.sk-toggleable__label {\n",
       "  color: var(--sklearn-color-text);\n",
       "  background-color: var(--sklearn-color-unfitted-level-2);\n",
       "}\n",
       "\n",
       "/* Label box, darken color on hover, fitted */\n",
       "#sk-container-id-3 div.sk-label.fitted:hover label.sk-toggleable__label.fitted {\n",
       "  color: var(--sklearn-color-text);\n",
       "  background-color: var(--sklearn-color-fitted-level-2);\n",
       "}\n",
       "\n",
       "/* Estimator label */\n",
       "\n",
       "#sk-container-id-3 div.sk-label label {\n",
       "  font-family: monospace;\n",
       "  font-weight: bold;\n",
       "  display: inline-block;\n",
       "  line-height: 1.2em;\n",
       "}\n",
       "\n",
       "#sk-container-id-3 div.sk-label-container {\n",
       "  text-align: center;\n",
       "}\n",
       "\n",
       "/* Estimator-specific */\n",
       "#sk-container-id-3 div.sk-estimator {\n",
       "  font-family: monospace;\n",
       "  border: 1px dotted var(--sklearn-color-border-box);\n",
       "  border-radius: 0.25em;\n",
       "  box-sizing: border-box;\n",
       "  margin-bottom: 0.5em;\n",
       "  /* unfitted */\n",
       "  background-color: var(--sklearn-color-unfitted-level-0);\n",
       "}\n",
       "\n",
       "#sk-container-id-3 div.sk-estimator.fitted {\n",
       "  /* fitted */\n",
       "  background-color: var(--sklearn-color-fitted-level-0);\n",
       "}\n",
       "\n",
       "/* on hover */\n",
       "#sk-container-id-3 div.sk-estimator:hover {\n",
       "  /* unfitted */\n",
       "  background-color: var(--sklearn-color-unfitted-level-2);\n",
       "}\n",
       "\n",
       "#sk-container-id-3 div.sk-estimator.fitted:hover {\n",
       "  /* fitted */\n",
       "  background-color: var(--sklearn-color-fitted-level-2);\n",
       "}\n",
       "\n",
       "/* Specification for estimator info (e.g. \"i\" and \"?\") */\n",
       "\n",
       "/* Common style for \"i\" and \"?\" */\n",
       "\n",
       ".sk-estimator-doc-link,\n",
       "a:link.sk-estimator-doc-link,\n",
       "a:visited.sk-estimator-doc-link {\n",
       "  float: right;\n",
       "  font-size: smaller;\n",
       "  line-height: 1em;\n",
       "  font-family: monospace;\n",
       "  background-color: var(--sklearn-color-background);\n",
       "  border-radius: 1em;\n",
       "  height: 1em;\n",
       "  width: 1em;\n",
       "  text-decoration: none !important;\n",
       "  margin-left: 1ex;\n",
       "  /* unfitted */\n",
       "  border: var(--sklearn-color-unfitted-level-1) 1pt solid;\n",
       "  color: var(--sklearn-color-unfitted-level-1);\n",
       "}\n",
       "\n",
       ".sk-estimator-doc-link.fitted,\n",
       "a:link.sk-estimator-doc-link.fitted,\n",
       "a:visited.sk-estimator-doc-link.fitted {\n",
       "  /* fitted */\n",
       "  border: var(--sklearn-color-fitted-level-1) 1pt solid;\n",
       "  color: var(--sklearn-color-fitted-level-1);\n",
       "}\n",
       "\n",
       "/* On hover */\n",
       "div.sk-estimator:hover .sk-estimator-doc-link:hover,\n",
       ".sk-estimator-doc-link:hover,\n",
       "div.sk-label-container:hover .sk-estimator-doc-link:hover,\n",
       ".sk-estimator-doc-link:hover {\n",
       "  /* unfitted */\n",
       "  background-color: var(--sklearn-color-unfitted-level-3);\n",
       "  color: var(--sklearn-color-background);\n",
       "  text-decoration: none;\n",
       "}\n",
       "\n",
       "div.sk-estimator.fitted:hover .sk-estimator-doc-link.fitted:hover,\n",
       ".sk-estimator-doc-link.fitted:hover,\n",
       "div.sk-label-container:hover .sk-estimator-doc-link.fitted:hover,\n",
       ".sk-estimator-doc-link.fitted:hover {\n",
       "  /* fitted */\n",
       "  background-color: var(--sklearn-color-fitted-level-3);\n",
       "  color: var(--sklearn-color-background);\n",
       "  text-decoration: none;\n",
       "}\n",
       "\n",
       "/* Span, style for the box shown on hovering the info icon */\n",
       ".sk-estimator-doc-link span {\n",
       "  display: none;\n",
       "  z-index: 9999;\n",
       "  position: relative;\n",
       "  font-weight: normal;\n",
       "  right: .2ex;\n",
       "  padding: .5ex;\n",
       "  margin: .5ex;\n",
       "  width: min-content;\n",
       "  min-width: 20ex;\n",
       "  max-width: 50ex;\n",
       "  color: var(--sklearn-color-text);\n",
       "  box-shadow: 2pt 2pt 4pt #999;\n",
       "  /* unfitted */\n",
       "  background: var(--sklearn-color-unfitted-level-0);\n",
       "  border: .5pt solid var(--sklearn-color-unfitted-level-3);\n",
       "}\n",
       "\n",
       ".sk-estimator-doc-link.fitted span {\n",
       "  /* fitted */\n",
       "  background: var(--sklearn-color-fitted-level-0);\n",
       "  border: var(--sklearn-color-fitted-level-3);\n",
       "}\n",
       "\n",
       ".sk-estimator-doc-link:hover span {\n",
       "  display: block;\n",
       "}\n",
       "\n",
       "/* \"?\"-specific style due to the `<a>` HTML tag */\n",
       "\n",
       "#sk-container-id-3 a.estimator_doc_link {\n",
       "  float: right;\n",
       "  font-size: 1rem;\n",
       "  line-height: 1em;\n",
       "  font-family: monospace;\n",
       "  background-color: var(--sklearn-color-background);\n",
       "  border-radius: 1rem;\n",
       "  height: 1rem;\n",
       "  width: 1rem;\n",
       "  text-decoration: none;\n",
       "  /* unfitted */\n",
       "  color: var(--sklearn-color-unfitted-level-1);\n",
       "  border: var(--sklearn-color-unfitted-level-1) 1pt solid;\n",
       "}\n",
       "\n",
       "#sk-container-id-3 a.estimator_doc_link.fitted {\n",
       "  /* fitted */\n",
       "  border: var(--sklearn-color-fitted-level-1) 1pt solid;\n",
       "  color: var(--sklearn-color-fitted-level-1);\n",
       "}\n",
       "\n",
       "/* On hover */\n",
       "#sk-container-id-3 a.estimator_doc_link:hover {\n",
       "  /* unfitted */\n",
       "  background-color: var(--sklearn-color-unfitted-level-3);\n",
       "  color: var(--sklearn-color-background);\n",
       "  text-decoration: none;\n",
       "}\n",
       "\n",
       "#sk-container-id-3 a.estimator_doc_link.fitted:hover {\n",
       "  /* fitted */\n",
       "  background-color: var(--sklearn-color-fitted-level-3);\n",
       "}\n",
       "</style><div id=\"sk-container-id-3\" class=\"sk-top-container\"><div class=\"sk-text-repr-fallback\"><pre>GridSearchCV(cv=3, estimator=LogisticRegression(random_state=42),\n",
       "             param_grid={&#x27;C&#x27;: array([1.00000000e-04, 2.63665090e-04, 6.95192796e-04, 1.83298071e-03,\n",
       "       4.83293024e-03, 1.27427499e-02, 3.35981829e-02, 8.85866790e-02,\n",
       "       2.33572147e-01, 6.15848211e-01, 1.62377674e+00, 4.28133240e+00,\n",
       "       1.12883789e+01, 2.97635144e+01, 7.84759970e+01, 2.06913808e+02,\n",
       "       5.45559478e+02, 1.43844989e+03, 3.79269019e+03, 1.00000000e+04]),\n",
       "                         &#x27;max_iter&#x27;: [100, 500]},\n",
       "             refit=&#x27;f1&#x27;, scoring=&#x27;f1&#x27;)</pre><b>In a Jupyter environment, please rerun this cell to show the HTML representation or trust the notebook. <br />On GitHub, the HTML representation is unable to render, please try loading this page with nbviewer.org.</b></div><div class=\"sk-container\" hidden><div class=\"sk-item sk-dashed-wrapped\"><div class=\"sk-label-container\"><div class=\"sk-label fitted sk-toggleable\"><input class=\"sk-toggleable__control sk-hidden--visually\" id=\"sk-estimator-id-7\" type=\"checkbox\" ><label for=\"sk-estimator-id-7\" class=\"sk-toggleable__label fitted sk-toggleable__label-arrow fitted\">&nbsp;&nbsp;GridSearchCV<a class=\"sk-estimator-doc-link fitted\" rel=\"noreferrer\" target=\"_blank\" href=\"https://scikit-learn.org/1.4/modules/generated/sklearn.model_selection.GridSearchCV.html\">?<span>Documentation for GridSearchCV</span></a><span class=\"sk-estimator-doc-link fitted\">i<span>Fitted</span></span></label><div class=\"sk-toggleable__content fitted\"><pre>GridSearchCV(cv=3, estimator=LogisticRegression(random_state=42),\n",
       "             param_grid={&#x27;C&#x27;: array([1.00000000e-04, 2.63665090e-04, 6.95192796e-04, 1.83298071e-03,\n",
       "       4.83293024e-03, 1.27427499e-02, 3.35981829e-02, 8.85866790e-02,\n",
       "       2.33572147e-01, 6.15848211e-01, 1.62377674e+00, 4.28133240e+00,\n",
       "       1.12883789e+01, 2.97635144e+01, 7.84759970e+01, 2.06913808e+02,\n",
       "       5.45559478e+02, 1.43844989e+03, 3.79269019e+03, 1.00000000e+04]),\n",
       "                         &#x27;max_iter&#x27;: [100, 500]},\n",
       "             refit=&#x27;f1&#x27;, scoring=&#x27;f1&#x27;)</pre></div> </div></div><div class=\"sk-parallel\"><div class=\"sk-parallel-item\"><div class=\"sk-item\"><div class=\"sk-label-container\"><div class=\"sk-label fitted sk-toggleable\"><input class=\"sk-toggleable__control sk-hidden--visually\" id=\"sk-estimator-id-8\" type=\"checkbox\" ><label for=\"sk-estimator-id-8\" class=\"sk-toggleable__label fitted sk-toggleable__label-arrow fitted\">estimator: LogisticRegression</label><div class=\"sk-toggleable__content fitted\"><pre>LogisticRegression(random_state=42)</pre></div> </div></div><div class=\"sk-serial\"><div class=\"sk-item\"><div class=\"sk-estimator fitted sk-toggleable\"><input class=\"sk-toggleable__control sk-hidden--visually\" id=\"sk-estimator-id-9\" type=\"checkbox\" ><label for=\"sk-estimator-id-9\" class=\"sk-toggleable__label fitted sk-toggleable__label-arrow fitted\">&nbsp;LogisticRegression<a class=\"sk-estimator-doc-link fitted\" rel=\"noreferrer\" target=\"_blank\" href=\"https://scikit-learn.org/1.4/modules/generated/sklearn.linear_model.LogisticRegression.html\">?<span>Documentation for LogisticRegression</span></a></label><div class=\"sk-toggleable__content fitted\"><pre>LogisticRegression(random_state=42)</pre></div> </div></div></div></div></div></div></div></div></div>"
      ],
      "text/plain": [
       "GridSearchCV(cv=3, estimator=LogisticRegression(random_state=42),\n",
       "             param_grid={'C': array([1.00000000e-04, 2.63665090e-04, 6.95192796e-04, 1.83298071e-03,\n",
       "       4.83293024e-03, 1.27427499e-02, 3.35981829e-02, 8.85866790e-02,\n",
       "       2.33572147e-01, 6.15848211e-01, 1.62377674e+00, 4.28133240e+00,\n",
       "       1.12883789e+01, 2.97635144e+01, 7.84759970e+01, 2.06913808e+02,\n",
       "       5.45559478e+02, 1.43844989e+03, 3.79269019e+03, 1.00000000e+04]),\n",
       "                         'max_iter': [100, 500]},\n",
       "             refit='f1', scoring='f1')"
      ]
     },
     "execution_count": 36,
     "metadata": {},
     "output_type": "execute_result"
    }
   ],
   "source": [
    "clf = GridSearchCV(LogisticRegression(random_state=42), {\n",
    "    'C' : np.logspace(-4, 4, 20),\n",
    "    'max_iter' : [100, 500]\n",
    "    }, cv=3, return_train_score=False, scoring='f1', refit='f1')\n",
    "\n",
    "clf.fit(features_train, target_train)"
   ]
  },
  {
   "cell_type": "code",
   "execution_count": 37,
   "metadata": {},
   "outputs": [
    {
     "data": {
      "text/plain": [
       "{'C': 11.288378916846883, 'max_iter': 100}"
      ]
     },
     "execution_count": 37,
     "metadata": {},
     "output_type": "execute_result"
    }
   ],
   "source": [
    "clf.best_params_"
   ]
  },
  {
   "cell_type": "code",
   "execution_count": 38,
   "metadata": {},
   "outputs": [
    {
     "name": "stdout",
     "output_type": "stream",
     "text": [
      "F1: 0.2788671023965142\n"
     ]
    }
   ],
   "source": [
    "# с подбором гиперпараметров\n",
    "model = LogisticRegression(random_state=42, C=1.6, max_iter=100, solver='liblinear')\n",
    "model.fit(features_train, target_train)\n",
    "predicted_valid = model.predict(features_valid)\n",
    "f1_lr = f1_score(target_valid, predicted_valid)\n",
    "print(\"F1:\", f1_lr)"
   ]
  },
  {
   "cell_type": "markdown",
   "metadata": {},
   "source": [
    "Значение метрики не удалось улучшить."
   ]
  },
  {
   "cell_type": "code",
   "execution_count": 39,
   "metadata": {},
   "outputs": [
    {
     "name": "stdout",
     "output_type": "stream",
     "text": [
      "ROC AUC score =  0.7579431739326626\n"
     ]
    },
    {
     "data": {
      "image/png": "[encoded data removed]",
      "text/plain": [
       "<Figure size 842.4x597.6 with 1 Axes>"
      ]
     },
     "metadata": {
      "needs_background": "light"
     },
     "output_type": "display_data"
    }
   ],
   "source": [
    "lr_probs = model.predict_proba(features_valid)\n",
    "\n",
    "lr_probs = lr_probs[:, 1]\n",
    "\n",
    "lr_auc = roc_auc_score(target_valid, lr_probs)\n",
    "print('ROC AUC score = ', lr_auc)\n",
    "\n",
    "fpr, tpr, treshold = roc_curve(target_valid, dt_probs)\n",
    "roc_auc = auc(fpr, tpr)\n",
    "\n",
    "plt.figure(figsize=(11.7, 8.3))\n",
    "plt.plot(fpr, tpr, color='darkorange', label='ROC кривая')\n",
    "plt.plot([0, 1], [0, 1], color='navy', linestyle='--')\n",
    "plt.xlim([0.0, 1.0])\n",
    "plt.ylim([0.0, 1.05])\n",
    "plt.xlabel('False Positive Rate')\n",
    "plt.ylabel('True Positive Rate')\n",
    "plt.title('ROC-кривая')\n",
    "plt.legend(loc=\"lower right\")\n",
    "plt.show()"
   ]
  },
  {
   "cell_type": "markdown",
   "metadata": {},
   "source": [
    "Площадь под ROC кривой равняется 0.779. Модель справляется лучше случайной модели"
   ]
  },
  {
   "cell_type": "markdown",
   "metadata": {},
   "source": [
    "### Вывод"
   ]
  },
  {
   "cell_type": "markdown",
   "metadata": {},
   "source": [
    "Попробовали решить поставленную задачу без учета дисбаланса целевого признака. Проверили три модели алгоритма машинного обучения с подбором гиперпараметров и получили следующие результаты:"
   ]
  },
  {
   "cell_type": "code",
   "execution_count": 40,
   "metadata": {},
   "outputs": [
    {
     "data": {
      "text/html": [
       "<div>\n",
       "<style scoped>\n",
       "    .dataframe tbody tr th:only-of-type {\n",
       "        vertical-align: middle;\n",
       "    }\n",
       "\n",
       "    .dataframe tbody tr th {\n",
       "        vertical-align: top;\n",
       "    }\n",
       "\n",
       "    .dataframe thead th {\n",
       "        text-align: right;\n",
       "    }\n",
       "</style>\n",
       "<table border=\"1\" class=\"dataframe\">\n",
       "  <thead>\n",
       "    <tr style=\"text-align: right;\">\n",
       "      <th></th>\n",
       "      <th>Classifier</th>\n",
       "      <th>ROC AUC</th>\n",
       "      <th>F1 score</th>\n",
       "    </tr>\n",
       "  </thead>\n",
       "  <tbody>\n",
       "    <tr>\n",
       "      <th>0</th>\n",
       "      <td>Random Forest</td>\n",
       "      <td>0.84</td>\n",
       "      <td>0.54</td>\n",
       "    </tr>\n",
       "    <tr>\n",
       "      <th>1</th>\n",
       "      <td>Decision Tree</td>\n",
       "      <td>0.83</td>\n",
       "      <td>0.56</td>\n",
       "    </tr>\n",
       "    <tr>\n",
       "      <th>2</th>\n",
       "      <td>Logistic Regression</td>\n",
       "      <td>0.76</td>\n",
       "      <td>0.28</td>\n",
       "    </tr>\n",
       "  </tbody>\n",
       "</table>\n",
       "</div>"
      ],
      "text/plain": [
       "            Classifier  ROC AUC  F1 score\n",
       "0        Random Forest     0.84      0.54\n",
       "1        Decision Tree     0.83      0.56\n",
       "2  Logistic Regression     0.76      0.28"
      ]
     },
     "execution_count": 40,
     "metadata": {},
     "output_type": "execute_result"
    }
   ],
   "source": [
    "data_metrics_imbalance = {'Classifier': ['Random Forest', 'Decision Tree', 'Logistic Regression'], \n",
    "     'ROC AUC': [rf_auc, dt_auc, lr_auc],\n",
    "     'F1 score': [f1_rf, f1_dt, f1_lr]\n",
    "    }\n",
    "df = pd.DataFrame(data=data_metrics_imbalance).round(2)\n",
    "df"
   ]
  },
  {
   "cell_type": "markdown",
   "metadata": {},
   "source": [
    "Хуже всего справилась логистическая регрессия. А алгоритмы случайного леса и дерева решений показали почти минимально приемлемый результат. То есть логистическая регрессия намного чувствительнее к дисбалансу класса.\n",
    "\n",
    "Далее проверим значение метрик, но с учетом дисбаланса класса."
   ]
  },
  {
   "cell_type": "markdown",
   "metadata": {},
   "source": [
    "## Борьба с дисбалансом"
   ]
  },
  {
   "cell_type": "markdown",
   "metadata": {},
   "source": [
    "Проблему дисбаланса будем решать тремя способами и для каждого способа оценим результат моделей.\n",
    "\n",
    "1. Увеличение выборки (upsampling)\n",
    "2. Уменьшение выборки (downsampling)\n",
    "3. Изменение порога классификации (threshold change)\n",
    "4. SMOTE"
   ]
  },
  {
   "cell_type": "markdown",
   "metadata": {},
   "source": [
    "### Увеличение выборки"
   ]
  },
  {
   "cell_type": "markdown",
   "metadata": {},
   "source": [
    "Способ подразумевает увеличение объема редкого класса. Выполняться данный метод будет в несколько этапов:\n",
    "\n",
    "1. Разделим обучающую выборку на отрицательные и положительные объекты.\n",
    "2. Скопируем несколько раз положительные объекты.\n",
    "3. С учётом полученных данных создадим новую обучающую выборку.\n",
    "4. Перемешаем данные."
   ]
  },
  {
   "cell_type": "code",
   "execution_count": 41,
   "metadata": {},
   "outputs": [],
   "source": [
    "# напишем функцию, которая выполнит эти этапы\n",
    "# в этой функции будет три параметра: признак, целевой признак и количество повторений\n",
    "# функция вернет признаки и целевой признак после операций\n",
    "\n",
    "def upsample(features, target, repeat):\n",
    "    features_zeros = features[target == 0]\n",
    "    features_ones = features[target == 1]\n",
    "    target_zeros = target[target == 0]\n",
    "    target_ones = target[target == 1]\n",
    "\n",
    "    features_upsampled = pd.concat([features_zeros] + [features_ones] * repeat)\n",
    "    target_upsampled = pd.concat([target_zeros] + [target_ones] * repeat)\n",
    "    \n",
    "    features_upsampled, target_upsampled = shuffle(features_upsampled, target_upsampled, random_state=42)\n",
    "    \n",
    "    return features_upsampled, target_upsampled\n",
    "features_upsampled, target_upsampled = upsample(features_train, target_train, 4)"
   ]
  },
  {
   "cell_type": "code",
   "execution_count": 42,
   "metadata": {
    "scrolled": true
   },
   "outputs": [
    {
     "name": "stdout",
     "output_type": "stream",
     "text": [
      "(8787, 11)\n",
      "(8787,)\n"
     ]
    }
   ],
   "source": [
    "print(features_upsampled.shape)\n",
    "print(target_upsampled.shape)"
   ]
  },
  {
   "cell_type": "code",
   "execution_count": 43,
   "metadata": {
    "scrolled": true
   },
   "outputs": [
    {
     "data": {
      "text/plain": [
       "1    4444\n",
       "0    4343\n",
       "Name: exited, dtype: int64"
      ]
     },
     "execution_count": 43,
     "metadata": {},
     "output_type": "execute_result"
    }
   ],
   "source": [
    "target_upsampled.value_counts()"
   ]
  },
  {
   "cell_type": "markdown",
   "metadata": {},
   "source": [
    "Успешно увеличили выборку, далее проверим модели"
   ]
  },
  {
   "cell_type": "markdown",
   "metadata": {},
   "source": [
    "#### Random Forest"
   ]
  },
  {
   "cell_type": "code",
   "execution_count": 44,
   "metadata": {},
   "outputs": [
    {
     "name": "stdout",
     "output_type": "stream",
     "text": [
      "F1: 0.6105263157894737\n"
     ]
    }
   ],
   "source": [
    "model = RandomForestClassifier(random_state=42, n_estimators=21)\n",
    "model.fit(features_upsampled, target_upsampled)\n",
    "predicted_valid = model.predict(features_valid)\n",
    "fscore = f1_score(target_valid, predicted_valid)\n",
    "print(\"F1:\", fscore)"
   ]
  },
  {
   "cell_type": "markdown",
   "metadata": {},
   "source": [
    "Результат увеличился до приемлего."
   ]
  },
  {
   "cell_type": "markdown",
   "metadata": {},
   "source": [
    "#### Decision Tree"
   ]
  },
  {
   "cell_type": "code",
   "execution_count": 45,
   "metadata": {},
   "outputs": [
    {
     "name": "stdout",
     "output_type": "stream",
     "text": [
      "F1: 0.5690376569037657\n"
     ]
    }
   ],
   "source": [
    "model = DecisionTreeClassifier(random_state=42, max_depth=7)\n",
    "model.fit(features_upsampled, target_upsampled)\n",
    "predicted_valid = model.predict(features_valid)\n",
    "fscore = f1_score(target_valid, predicted_valid)\n",
    "print(\"F1:\", fscore)"
   ]
  },
  {
   "cell_type": "markdown",
   "metadata": {},
   "source": [
    "То же самое и с деревом решений."
   ]
  },
  {
   "cell_type": "markdown",
   "metadata": {},
   "source": [
    "#### Логистическая регрессия"
   ]
  },
  {
   "cell_type": "code",
   "execution_count": 46,
   "metadata": {},
   "outputs": [
    {
     "name": "stdout",
     "output_type": "stream",
     "text": [
      "F1: 0.4768339768339768\n"
     ]
    }
   ],
   "source": [
    "model = LogisticRegression(random_state=42, max_iter=200, solver='liblinear')\n",
    "model.fit(features_upsampled, target_upsampled)\n",
    "predicted_valid = model.predict(features_valid)\n",
    "fscore = f1_score(target_valid, predicted_valid)\n",
    "print(\"F1:\", fscore)"
   ]
  },
  {
   "cell_type": "markdown",
   "metadata": {},
   "source": [
    "Значение метрики значительно увеличилось, но все равно логистическая регрессия показывает худший результат."
   ]
  },
  {
   "cell_type": "markdown",
   "metadata": {},
   "source": [
    "### Уменьшение выборки"
   ]
  },
  {
   "cell_type": "markdown",
   "metadata": {},
   "source": [
    "Данный способ подразумевает удаление части объектов, класс которого превалирует. Выполняться будет в несколько этапов:\n",
    "\n",
    "1. Разделим обучающую выборку на отрицательные и положительные объекты.\n",
    "2. Случайный образом отбросим отрицательные объекты.\n",
    "3. С учётом полученных данных создадим новую обучающую выборку.\n",
    "4. Перемешаем данные."
   ]
  },
  {
   "cell_type": "code",
   "execution_count": 47,
   "metadata": {},
   "outputs": [],
   "source": [
    "# напишем функцию аналогичную предыдущему методу\n",
    "# чтобы выбросить ненужные объекты воспользуемся функцией shuffle с аргументом fraction\n",
    "def downsample(features, target, fraction):\n",
    "    features_zeros = features[target == 0]\n",
    "    features_ones = features[target == 1]\n",
    "    target_zeros = target[target == 0]\n",
    "    target_ones = target[target == 1]\n",
    "\n",
    "    features_sample = features_zeros.sample(frac=fraction, random_state=42)\n",
    "    target_sample = target_zeros.sample(frac=fraction, random_state=42)\n",
    "    \n",
    "    features_downsampled = pd.concat([features_sample] + [features_ones])\n",
    "    target_downsampled = pd.concat([target_sample] + [target_ones])\n",
    "    \n",
    "    features_downsampled = shuffle(features_downsampled, random_state=42)\n",
    "    target_downsampled = shuffle(target_downsampled, random_state=42)\n",
    "    \n",
    "\n",
    "    \n",
    "    return features_downsampled, target_downsampled\n",
    "\n",
    "features_downsampled, target_downsampled = downsample(features_train, target_train, 0.3)"
   ]
  },
  {
   "cell_type": "code",
   "execution_count": 48,
   "metadata": {
    "scrolled": true
   },
   "outputs": [
    {
     "name": "stdout",
     "output_type": "stream",
     "text": [
      "(2414, 11)\n",
      "(2414,)\n"
     ]
    }
   ],
   "source": [
    "print(features_downsampled.shape)\n",
    "print(target_downsampled.shape)"
   ]
  },
  {
   "cell_type": "code",
   "execution_count": 49,
   "metadata": {},
   "outputs": [
    {
     "data": {
      "text/plain": [
       "0    1303\n",
       "1    1111\n",
       "Name: exited, dtype: int64"
      ]
     },
     "execution_count": 49,
     "metadata": {},
     "output_type": "execute_result"
    }
   ],
   "source": [
    "target_downsampled.value_counts()"
   ]
  },
  {
   "cell_type": "markdown",
   "metadata": {},
   "source": [
    "Проверим на моделях новые выборки"
   ]
  },
  {
   "cell_type": "markdown",
   "metadata": {},
   "source": [
    "#### Random Forest"
   ]
  },
  {
   "cell_type": "code",
   "execution_count": 50,
   "metadata": {},
   "outputs": [
    {
     "name": "stdout",
     "output_type": "stream",
     "text": [
      "F1: 0.583710407239819\n"
     ]
    }
   ],
   "source": [
    "model = RandomForestClassifier(random_state=42, n_estimators=21)\n",
    "model.fit(features_downsampled, target_downsampled)\n",
    "predicted_valid = model.predict(features_valid)\n",
    "fscore = f1_score(target_valid, predicted_valid)\n",
    "print(\"F1:\", fscore)"
   ]
  },
  {
   "cell_type": "markdown",
   "metadata": {},
   "source": [
    "Значение метрики увеличилось в сравнении с значением модели без решения проблемы дисбаланса"
   ]
  },
  {
   "cell_type": "markdown",
   "metadata": {},
   "source": [
    "#### Decision Tree"
   ]
  },
  {
   "cell_type": "code",
   "execution_count": 51,
   "metadata": {
    "scrolled": true
   },
   "outputs": [
    {
     "name": "stdout",
     "output_type": "stream",
     "text": [
      "F1: 0.5690376569037657\n"
     ]
    }
   ],
   "source": [
    "model = DecisionTreeClassifier(random_state=42, max_depth=7)\n",
    "model.fit(features_upsampled, target_upsampled)\n",
    "predicted_valid = model.predict(features_valid)\n",
    "fscore = f1_score(target_valid, predicted_valid)\n",
    "print(\"F1:\", fscore)"
   ]
  },
  {
   "cell_type": "markdown",
   "metadata": {},
   "source": [
    "Так же увелилась метрика."
   ]
  },
  {
   "cell_type": "markdown",
   "metadata": {},
   "source": [
    "#### Logistic Regression"
   ]
  },
  {
   "cell_type": "code",
   "execution_count": 52,
   "metadata": {
    "scrolled": true
   },
   "outputs": [
    {
     "name": "stdout",
     "output_type": "stream",
     "text": [
      "F1: 0.48128342245989303\n"
     ]
    }
   ],
   "source": [
    "model = LogisticRegression(random_state=42, max_iter=200, solver='liblinear')\n",
    "model.fit(features_downsampled, target_downsampled)\n",
    "predicted_valid = model.predict(features_valid)\n",
    "fscore = f1_score(target_valid, predicted_valid)\n",
    "print(\"F1:\", fscore)"
   ]
  },
  {
   "cell_type": "markdown",
   "metadata": {},
   "source": [
    "Метрика увеличилась, но недостаточно для поставленной задачи"
   ]
  },
  {
   "cell_type": "markdown",
   "metadata": {},
   "source": [
    "### Изменение порога классификации"
   ]
  },
  {
   "cell_type": "markdown",
   "metadata": {},
   "source": [
    "Логистическая регрессия определяет насколько вероятен какой-то определенный объект затем сравнивает результат с значение 0.5. Если значение больше, то это положительный класс. Вместо того, чтобы увеличивать или уменьшать выборки попробуем найти такой порог классификации, при котором модель выдает наилучший результат метрики F1."
   ]
  },
  {
   "cell_type": "code",
   "execution_count": 53,
   "metadata": {
    "scrolled": true
   },
   "outputs": [
    {
     "data": {
      "text/plain": [
       "array([0.09043029, 0.29473722, 0.20307557, 0.09285301, 0.05293572])"
      ]
     },
     "execution_count": 53,
     "metadata": {},
     "output_type": "execute_result"
    }
   ],
   "source": [
    "# для начала найдем вероятность классов в валидационной выборке\n",
    "model = LogisticRegression(random_state=42, solver='liblinear')\n",
    "model.fit(features_train, target_train)\n",
    "probabilities_valid = model.predict_proba(features_valid)\n",
    "probabilities_one_valid = probabilities_valid[:, 1]\n",
    "probabilities_one_valid[:5]"
   ]
  },
  {
   "cell_type": "code",
   "execution_count": 54,
   "metadata": {
    "scrolled": false
   },
   "outputs": [
    {
     "name": "stdout",
     "output_type": "stream",
     "text": [
      "Порог = 0.00 | Точность = 0.199, Полнота = 1.000| F1-score = 0.332\n",
      "Порог = 0.02 | Точность = 0.200, Полнота = 1.000| F1-score = 0.333\n",
      "Порог = 0.04 | Точность = 0.211, Полнота = 0.986| F1-score = 0.348\n",
      "Порог = 0.06 | Точность = 0.231, Полнота = 0.970| F1-score = 0.373\n",
      "Порог = 0.08 | Точность = 0.250, Полнота = 0.934| F1-score = 0.394\n",
      "Порог = 0.10 | Точность = 0.268, Полнота = 0.901| F1-score = 0.413\n",
      "Порог = 0.12 | Точность = 0.284, Полнота = 0.856| F1-score = 0.426\n",
      "Порог = 0.14 | Точность = 0.304, Полнота = 0.807| F1-score = 0.441\n",
      "Порог = 0.16 | Точность = 0.321, Полнота = 0.768| F1-score = 0.453\n",
      "Порог = 0.18 | Точность = 0.338, Полнота = 0.718| F1-score = 0.459\n",
      "Порог = 0.20 | Точность = 0.355, Полнота = 0.671| F1-score = 0.465\n",
      "Порог = 0.22 | Точность = 0.379, Полнота = 0.638| F1-score = 0.475\n",
      "Порог = 0.24 | Точность = 0.402, Полнота = 0.605| F1-score = 0.483\n",
      "Порог = 0.26 | Точность = 0.421, Полнота = 0.558| F1-score = 0.480\n",
      "Порог = 0.28 | Точность = 0.434, Полнота = 0.517| F1-score = 0.472\n",
      "Порог = 0.30 | Точность = 0.445, Полнота = 0.467| F1-score = 0.456\n",
      "Порог = 0.32 | Точность = 0.476, Полнота = 0.445| F1-score = 0.460\n",
      "Порог = 0.34 | Точность = 0.492, Полнота = 0.412| F1-score = 0.448\n",
      "Порог = 0.36 | Точность = 0.492, Полнота = 0.359| F1-score = 0.415\n",
      "Порог = 0.38 | Точность = 0.522, Полнота = 0.326| F1-score = 0.401\n",
      "Порог = 0.40 | Точность = 0.530, Полнота = 0.290| F1-score = 0.375\n",
      "Порог = 0.42 | Точность = 0.552, Полнота = 0.276| F1-score = 0.368\n",
      "Порог = 0.44 | Точность = 0.558, Полнота = 0.240| F1-score = 0.336\n",
      "Порог = 0.46 | Точность = 0.602, Полнота = 0.221| F1-score = 0.323\n",
      "Порог = 0.48 | Точность = 0.636, Полнота = 0.207| F1-score = 0.312\n",
      "Порог = 0.50 | Точность = 0.660, Полнота = 0.177| F1-score = 0.279\n",
      "Порог = 0.52 | Точность = 0.706, Полнота = 0.166| F1-score = 0.268\n",
      "Порог = 0.54 | Точность = 0.733, Полнота = 0.152| F1-score = 0.252\n"
     ]
    }
   ],
   "source": [
    "# выполним подбор порога\n",
    "# объектов с классом \"0\" больше чем с классом \"1\"\n",
    "# поэтому порог будем увеличивать\n",
    "for threshold in np.arange(0, 0.55, 0.02):\n",
    "    predicted_valid = probabilities_one_valid > threshold \n",
    "    precision = precision_score(target_valid, predicted_valid)\n",
    "    recall = recall_score(target_valid, predicted_valid)\n",
    "    F1 = f1_score(target_valid, predicted_valid)\n",
    "\n",
    "    print(\"Порог = {:.2f} | Точность = {:.3f}, Полнота = {:.3f}| F1-score = {:.3f}\".format(\n",
    "        threshold, precision, recall, F1))"
   ]
  },
  {
   "cell_type": "markdown",
   "metadata": {},
   "source": [
    "С увеличение порога увеличивается полнота, но уменьшается точность. Лучший результат с порогом равным 0.24."
   ]
  },
  {
   "cell_type": "markdown",
   "metadata": {},
   "source": [
    "### SMOTE"
   ]
  },
  {
   "cell_type": "markdown",
   "metadata": {},
   "source": [
    "Хоть и получили хорошие результаты методами увеличения и уменьшения выборки, такие методы могут оказаться малоэффективными. В случае с уменьшением выборки теряется большое количество данных, которые могли бы быть использованы для обучения модели. В случае с увеличением выборки, проблема этого подхода заключается в том, что он приводит к чрезмерному обучению, так как модель обучается на одних и тех же примерах.\n",
    "\n",
    "Одним из способов решения классового дисбаланса является техника SMOTE. Ее работу можно описать следующим образом:\n",
    "\n",
    "* она находит разность между объектом и его ближайшим соседом;\n",
    "* разность умножается на случайное число от 0 до 1;\n",
    "* полученное значение добавляется к объекту для формирования нового синтезированного объекта;\n",
    "* подобные действия продолжаются со следующим ближайшим соседом, до заданного пользователем количества объектов."
   ]
  },
  {
   "cell_type": "code",
   "execution_count": 55,
   "metadata": {},
   "outputs": [
    {
     "name": "stdout",
     "output_type": "stream",
     "text": [
      "(8686, 11)\n",
      "(8686,)\n"
     ]
    }
   ],
   "source": [
    "smt = SMOTE(random_state = 42, k_neighbors=7, )\n",
    "features_smt, target_smt = smt.fit_resample(features_train, target_train)\n",
    "print(features_smt.shape)\n",
    "print(target_smt.shape)"
   ]
  },
  {
   "cell_type": "markdown",
   "metadata": {},
   "source": [
    "Искусственно добавили новые объекты, теперь проверим на моделях."
   ]
  },
  {
   "cell_type": "markdown",
   "metadata": {},
   "source": [
    "#### Random Forest"
   ]
  },
  {
   "cell_type": "code",
   "execution_count": 56,
   "metadata": {},
   "outputs": [
    {
     "name": "stdout",
     "output_type": "stream",
     "text": [
      "F1: 0.5733695652173914\n"
     ]
    }
   ],
   "source": [
    "model = RandomForestClassifier(random_state=42, n_estimators=29)\n",
    "model.fit(features_smt, target_smt)\n",
    "predicted_valid = model.predict(features_valid)\n",
    "fscore = f1_score(target_valid, predicted_valid)\n",
    "print(\"F1:\", fscore)"
   ]
  },
  {
   "cell_type": "markdown",
   "metadata": {},
   "source": [
    "Значение метрики с методом SMOTE заметно улучшилось."
   ]
  },
  {
   "cell_type": "markdown",
   "metadata": {},
   "source": [
    "#### Decision Tree"
   ]
  },
  {
   "cell_type": "code",
   "execution_count": 57,
   "metadata": {},
   "outputs": [
    {
     "name": "stdout",
     "output_type": "stream",
     "text": [
      "F1: 0.5402010050251256\n"
     ]
    }
   ],
   "source": [
    "model = DecisionTreeClassifier(random_state=42, max_depth=7)\n",
    "model.fit(features_smt, target_smt)\n",
    "predicted_valid = model.predict(features_valid)\n",
    "fscore = f1_score(target_valid, predicted_valid)\n",
    "print(\"F1:\", fscore)"
   ]
  },
  {
   "cell_type": "markdown",
   "metadata": {},
   "source": [
    "Значение метрики так же улучшилось."
   ]
  },
  {
   "cell_type": "markdown",
   "metadata": {},
   "source": [
    "#### Logistic Regression"
   ]
  },
  {
   "cell_type": "code",
   "execution_count": 58,
   "metadata": {
    "scrolled": true
   },
   "outputs": [
    {
     "name": "stdout",
     "output_type": "stream",
     "text": [
      "F1: 0.4665271966527197\n"
     ]
    }
   ],
   "source": [
    "model = LogisticRegression(random_state=42, max_iter=200, solver='liblinear')\n",
    "model.fit(features_smt, target_smt)\n",
    "predicted_valid = model.predict(features_valid)\n",
    "fscore = f1_score(target_valid, predicted_valid)\n",
    "print(\"F1:\", fscore)"
   ]
  },
  {
   "cell_type": "markdown",
   "metadata": {},
   "source": [
    "Сильно улучшилась метрика."
   ]
  },
  {
   "cell_type": "markdown",
   "metadata": {},
   "source": [
    "### Вывод"
   ]
  },
  {
   "cell_type": "markdown",
   "metadata": {},
   "source": [
    "Наилучшего результата добились с помощью метода SMOTE. Воспользуемся им для тюнинга моделей."
   ]
  },
  {
   "cell_type": "markdown",
   "metadata": {},
   "source": [
    "## Подбор гиперпараметров и сравнение метрик"
   ]
  },
  {
   "cell_type": "markdown",
   "metadata": {},
   "source": [
    "Определились с выбором метода борьбы с дисбалансом класса. Теперь необходимо определить оптимальные гиперпараметры и испытать на валидационной выборке модели.\n",
    "\n",
    "Далее мы хотим воспользоваться кросс валидацией при подборе гиперпараметров. Чтобы предотварить утечку данных используем pipeline."
   ]
  },
  {
   "cell_type": "markdown",
   "metadata": {},
   "source": [
    "### Random Forest"
   ]
  },
  {
   "cell_type": "code",
   "execution_count": 59,
   "metadata": {
    "scrolled": true
   },
   "outputs": [
    {
     "name": "stdout",
     "output_type": "stream",
     "text": [
      "{'clf__max_depth': 19, 'clf__n_estimators': 120}\n",
      "0.8785598253045709\n",
      "CPU times: user 11min 53s, sys: 1.87 s, total: 11min 55s\n",
      "Wall time: 11min 55s\n"
     ]
    }
   ],
   "source": [
    "%%time\n",
    "rf = RandomForestClassifier(random_state=42)\n",
    "pipe = Pipeline([(\"smote\", smt), (\"clf\", rf)])\n",
    "\n",
    "gridsearch_pipe = GridSearchCV(\n",
    "    pipe,\n",
    "    param_grid = {\n",
    "        'clf__max_depth': range(5, 25, 2),\n",
    "        'clf__n_estimators': range(100, 201, 10)\n",
    "    },\n",
    "    scoring = 'f1',\n",
    "    cv = 5\n",
    ").fit(features_smt, target_smt)\n",
    "\n",
    "\n",
    "print(gridsearch_pipe.best_params_)\n",
    "print(gridsearch_pipe.best_score_)"
   ]
  },
  {
   "cell_type": "markdown",
   "metadata": {},
   "source": [
    "Определили оптимальные гиперпараметры. Теперь научим модель на тренировочной выборке и проверим метрику на валидационной."
   ]
  },
  {
   "cell_type": "code",
   "execution_count": 60,
   "metadata": {
    "scrolled": true
   },
   "outputs": [
    {
     "name": "stdout",
     "output_type": "stream",
     "text": [
      "F1 метрика:  0.5897435897435898\n"
     ]
    }
   ],
   "source": [
    "rf = RandomForestClassifier(random_state=42, min_samples_split=9, n_estimators=120, max_depth=11)\n",
    "rf.fit(features_smt, target_smt)\n",
    "predicted_valid = rf.predict(features_valid)\n",
    "f1_rf = f1_score(target_valid, predicted_valid)\n",
    "print('F1 метрика: ', f1_rf)"
   ]
  },
  {
   "cell_type": "code",
   "execution_count": 61,
   "metadata": {
    "scrolled": false
   },
   "outputs": [
    {
     "name": "stdout",
     "output_type": "stream",
     "text": [
      "ROC AUC score =  0.8425850438159087\n"
     ]
    },
    {
     "data": {
      "image/png": "[encoded data removed]",
      "text/plain": [
       "<Figure size 842.4x597.6 with 1 Axes>"
      ]
     },
     "metadata": {
      "needs_background": "light"
     },
     "output_type": "display_data"
    }
   ],
   "source": [
    "rf_probs = rf.predict_proba(features_valid)\n",
    "\n",
    "rf_probs = rf_probs[:, 1]\n",
    "\n",
    "rf_auc = roc_auc_score(target_valid, rf_probs)\n",
    "print('ROC AUC score = ', rf_auc)\n",
    "\n",
    "fpr, tpr, treshold = roc_curve(target_valid, rf_probs)\n",
    "roc_auc_rf = auc(fpr, tpr)\n",
    "\n",
    "plt.figure(figsize=(11.7, 8.3))\n",
    "plt.plot(fpr, tpr, color='darkorange', label='ROC кривая')\n",
    "plt.plot([0, 1], [0, 1], color='navy', linestyle='--')\n",
    "plt.xlim([0.0, 1.0])\n",
    "plt.ylim([0.0, 1.05])\n",
    "plt.xlabel('False Positive Rate')\n",
    "plt.ylabel('True Positive Rate')\n",
    "plt.title('ROC-кривая')\n",
    "plt.legend(loc=\"lower right\")\n",
    "plt.show()"
   ]
  },
  {
   "cell_type": "markdown",
   "metadata": {},
   "source": [
    "Моедль справляется лучше случайной модели."
   ]
  },
  {
   "cell_type": "markdown",
   "metadata": {},
   "source": [
    "### Decision Tree"
   ]
  },
  {
   "cell_type": "markdown",
   "metadata": {},
   "source": [
    "Выполним те же шаги и на алгоритме дерева решений."
   ]
  },
  {
   "cell_type": "code",
   "execution_count": 62,
   "metadata": {},
   "outputs": [
    {
     "name": "stdout",
     "output_type": "stream",
     "text": [
      "{'clf__max_depth': 13, 'clf__min_samples_leaf': 3}\n",
      "0.8096262832721625\n",
      "CPU times: user 59.8 s, sys: 63.5 ms, total: 59.9 s\n",
      "Wall time: 1min\n"
     ]
    }
   ],
   "source": [
    "%%time\n",
    "dt = DecisionTreeClassifier(random_state=42)\n",
    "pipe = Pipeline([(\"smote\", smt), (\"clf\", dt)])\n",
    "\n",
    "gridsearch_pipe = GridSearchCV(\n",
    "    pipe,\n",
    "    param_grid = {\n",
    "        'clf__max_depth': range(5, 25, 2),\n",
    "        'clf__min_samples_leaf': range(2, 13)\n",
    "    },\n",
    "    scoring = 'f1',\n",
    "    cv = 5\n",
    ").fit(features_smt, target_smt)\n",
    "\n",
    "\n",
    "print(gridsearch_pipe.best_params_)\n",
    "print(gridsearch_pipe.best_score_)"
   ]
  },
  {
   "cell_type": "code",
   "execution_count": 63,
   "metadata": {},
   "outputs": [
    {
     "name": "stdout",
     "output_type": "stream",
     "text": [
      "F1 метрика = 0.5415676959619953\n"
     ]
    }
   ],
   "source": [
    "dt = DecisionTreeClassifier(random_state=42, max_depth=5, min_samples_leaf=5)\n",
    "dt.fit(features_smt, target_smt)\n",
    "predicted_valid = dt.predict(features_valid)\n",
    "f1_dt = f1_score(target_valid, predicted_valid)\n",
    "print(\"F1 метрика =\", f1_dt)"
   ]
  },
  {
   "cell_type": "markdown",
   "metadata": {},
   "source": [
    "Значение метрики не соответствует требованию задания.\n",
    "\n",
    "Оценим ROC AUC кривую"
   ]
  },
  {
   "cell_type": "code",
   "execution_count": 64,
   "metadata": {
    "scrolled": false
   },
   "outputs": [
    {
     "name": "stdout",
     "output_type": "stream",
     "text": [
      "ROC AUC score =  0.8053510012627172\n"
     ]
    },
    {
     "data": {
      "image/png": "[encoded data removed]",
      "text/plain": [
       "<Figure size 842.4x597.6 with 1 Axes>"
      ]
     },
     "metadata": {
      "needs_background": "light"
     },
     "output_type": "display_data"
    }
   ],
   "source": [
    "dt_probs = dt.predict_proba(features_valid)\n",
    "\n",
    "dt_probs = dt_probs[:, 1]\n",
    "\n",
    "dt_auc = roc_auc_score(target_valid, dt_probs)\n",
    "print('ROC AUC score = ', dt_auc)\n",
    "\n",
    "fpr, tpr, treshold = roc_curve(target_valid, dt_probs)\n",
    "roc_auc_dt = auc(fpr, tpr)\n",
    "\n",
    "plt.figure(figsize=(11.7, 8.3))\n",
    "plt.plot(fpr, tpr, color='darkorange', label='ROC кривая')\n",
    "plt.plot([0, 1], [0, 1], color='navy', linestyle='--')\n",
    "plt.xlim([0.0, 1.0])\n",
    "plt.ylim([0.0, 1.05])\n",
    "plt.xlabel('False Positive Rate')\n",
    "plt.ylabel('True Positive Rate')\n",
    "plt.title('ROC-кривая')\n",
    "plt.legend(loc=\"lower right\")\n",
    "plt.show()"
   ]
  },
  {
   "cell_type": "markdown",
   "metadata": {},
   "source": [
    "Модель справляется лучше случайной модели."
   ]
  },
  {
   "cell_type": "markdown",
   "metadata": {},
   "source": [
    "### Logistic Regression"
   ]
  },
  {
   "cell_type": "code",
   "execution_count": 65,
   "metadata": {},
   "outputs": [
    {
     "name": "stdout",
     "output_type": "stream",
     "text": [
      "{'clf__C': 0.03359818286283781, 'clf__max_iter': 100}\n",
      "0.7464930277399403\n",
      "CPU times: user 1min 34s, sys: 1min 13s, total: 2min 48s\n",
      "Wall time: 2min 49s\n"
     ]
    }
   ],
   "source": [
    "%%time\n",
    "lr = LogisticRegression(random_state=42)\n",
    "pipe = Pipeline([(\"smote\", smt), (\"clf\", lr)])\n",
    "\n",
    "gridsearch_pipe = GridSearchCV(\n",
    "    pipe,\n",
    "    param_grid = {\n",
    "        'clf__C': np.logspace(-4, 4, 20,),\n",
    "        'clf__max_iter': [100, 1000,2500, 5000]\n",
    "    },\n",
    "    scoring = 'f1',\n",
    "    cv = 5\n",
    ").fit(features_smt, target_smt)\n",
    "\n",
    "\n",
    "print(gridsearch_pipe.best_params_)\n",
    "print(gridsearch_pipe.best_score_)"
   ]
  },
  {
   "cell_type": "code",
   "execution_count": 66,
   "metadata": {},
   "outputs": [
    {
     "name": "stdout",
     "output_type": "stream",
     "text": [
      "F1 метрика = 0.4713375796178344\n"
     ]
    }
   ],
   "source": [
    "lr = LogisticRegression(random_state=42, max_iter=100, solver='liblinear', C=0.033)\n",
    "lr.fit(features_smt, target_smt)\n",
    "predicted_valid = lr.predict(features_valid)\n",
    "f1_lr = f1_score(target_valid, predicted_valid)\n",
    "print('F1 метрика =', f1_lr)"
   ]
  },
  {
   "cell_type": "markdown",
   "metadata": {},
   "source": [
    "Значение метрики намного ниже необходимой."
   ]
  },
  {
   "cell_type": "code",
   "execution_count": 67,
   "metadata": {},
   "outputs": [
    {
     "name": "stdout",
     "output_type": "stream",
     "text": [
      "ROC AUC score =  0.7521623558587425\n"
     ]
    },
    {
     "data": {
      "image/png": "[encoded data removed]",
      "text/plain": [
       "<Figure size 842.4x597.6 with 1 Axes>"
      ]
     },
     "metadata": {
      "needs_background": "light"
     },
     "output_type": "display_data"
    }
   ],
   "source": [
    "lr_probs = lr.predict_proba(features_valid)\n",
    "\n",
    "lr_probs = lr_probs[:, 1]\n",
    "\n",
    "lr_auc = roc_auc_score(target_valid, lr_probs)\n",
    "print('ROC AUC score = ', lr_auc)\n",
    "\n",
    "fpr, tpr, treshold = roc_curve(target_valid, lr_probs)\n",
    "roc_auc_dt = auc(fpr, tpr)\n",
    "\n",
    "plt.figure(figsize=(11.7, 8.3))\n",
    "plt.plot(fpr, tpr, color='darkorange', label='ROC кривая')\n",
    "plt.plot([0, 1], [0, 1], color='navy', linestyle='--')\n",
    "plt.xlim([0.0, 1.0])\n",
    "plt.ylim([0.0, 1.05])\n",
    "plt.xlabel('False Positive Rate')\n",
    "plt.ylabel('True Positive Rate')\n",
    "plt.title('ROC-кривая')\n",
    "plt.legend(loc=\"lower right\")\n",
    "plt.show()"
   ]
  },
  {
   "cell_type": "markdown",
   "metadata": {},
   "source": [
    "Модель справляется лучше случайной модели."
   ]
  },
  {
   "cell_type": "markdown",
   "metadata": {},
   "source": [
    "### Вывод"
   ]
  },
  {
   "cell_type": "markdown",
   "metadata": {},
   "source": [
    "Сравним результаты"
   ]
  },
  {
   "cell_type": "code",
   "execution_count": 68,
   "metadata": {
    "scrolled": true
   },
   "outputs": [
    {
     "data": {
      "text/html": [
       "<div>\n",
       "<style scoped>\n",
       "    .dataframe tbody tr th:only-of-type {\n",
       "        vertical-align: middle;\n",
       "    }\n",
       "\n",
       "    .dataframe tbody tr th {\n",
       "        vertical-align: top;\n",
       "    }\n",
       "\n",
       "    .dataframe thead th {\n",
       "        text-align: right;\n",
       "    }\n",
       "</style>\n",
       "<table border=\"1\" class=\"dataframe\">\n",
       "  <thead>\n",
       "    <tr style=\"text-align: right;\">\n",
       "      <th></th>\n",
       "      <th>Classifier</th>\n",
       "      <th>ROC AUC</th>\n",
       "      <th>F1 score</th>\n",
       "    </tr>\n",
       "  </thead>\n",
       "  <tbody>\n",
       "    <tr>\n",
       "      <th>0</th>\n",
       "      <td>Random Forest</td>\n",
       "      <td>0.84</td>\n",
       "      <td>0.59</td>\n",
       "    </tr>\n",
       "    <tr>\n",
       "      <th>1</th>\n",
       "      <td>Decision Tree</td>\n",
       "      <td>0.81</td>\n",
       "      <td>0.54</td>\n",
       "    </tr>\n",
       "    <tr>\n",
       "      <th>2</th>\n",
       "      <td>Logistic Regression</td>\n",
       "      <td>0.75</td>\n",
       "      <td>0.47</td>\n",
       "    </tr>\n",
       "  </tbody>\n",
       "</table>\n",
       "</div>"
      ],
      "text/plain": [
       "            Classifier  ROC AUC  F1 score\n",
       "0        Random Forest     0.84      0.59\n",
       "1        Decision Tree     0.81      0.54\n",
       "2  Logistic Regression     0.75      0.47"
      ]
     },
     "execution_count": 68,
     "metadata": {},
     "output_type": "execute_result"
    }
   ],
   "source": [
    "data_metrics_imbalance = {'Classifier': ['Random Forest', 'Decision Tree', 'Logistic Regression'], \n",
    "     'ROC AUC': [rf_auc, dt_auc, lr_auc],\n",
    "     'F1 score': [f1_rf, f1_dt, f1_lr]\n",
    "    }\n",
    "df = pd.DataFrame(data=data_metrics_imbalance).round(2)\n",
    "df"
   ]
  },
  {
   "cell_type": "markdown",
   "metadata": {},
   "source": [
    "Модель алгоритма случайного леса показала необходимый результат метрики F1. Теперь протестируем ее на тестовой выборке."
   ]
  },
  {
   "cell_type": "markdown",
   "metadata": {},
   "source": [
    "## Тестирование модели"
   ]
  },
  {
   "cell_type": "markdown",
   "metadata": {},
   "source": [
    "Проверим выбранную модель с гиперпараметрами на тестовой выборке."
   ]
  },
  {
   "cell_type": "markdown",
   "metadata": {},
   "source": [
    "### Random Forest"
   ]
  },
  {
   "cell_type": "code",
   "execution_count": 69,
   "metadata": {
    "scrolled": true
   },
   "outputs": [
    {
     "name": "stdout",
     "output_type": "stream",
     "text": [
      "F1 метрика:  0.5893958076448829\n"
     ]
    }
   ],
   "source": [
    "predicted_test = rf.predict(features_test)\n",
    "f1_rf_test = f1_score(target_test, predicted_test)\n",
    "print('F1 метрика: ', f1_rf_test)"
   ]
  },
  {
   "cell_type": "markdown",
   "metadata": {},
   "source": [
    "Значение метрики приемлемое. Посмотрим на кривую ROC AUC."
   ]
  },
  {
   "cell_type": "code",
   "execution_count": 70,
   "metadata": {
    "scrolled": false
   },
   "outputs": [
    {
     "data": {
      "image/png": "[encoded data removed]",
      "text/plain": [
       "<Figure size 842.4x597.6 with 1 Axes>"
      ]
     },
     "metadata": {
      "needs_background": "light"
     },
     "output_type": "display_data"
    },
    {
     "data": {
      "text/plain": [
       "0.8474767898271589"
      ]
     },
     "execution_count": 70,
     "metadata": {},
     "output_type": "execute_result"
    }
   ],
   "source": [
    "probabilities_test = rf.predict_proba(features_test)\n",
    "probabilities_one_test = probabilities_test[:, 1]\n",
    "\n",
    "fpr, tpr, thresholds = roc_curve(target_test, probabilities_one_test) \n",
    "\n",
    "plt.figure(figsize=(11.7, 8.3))\n",
    "plt.plot(fpr, tpr, linestyle='-')\n",
    "plt.plot([0, 1], [0, 1], linestyle='--')\n",
    "plt.xlim([0.0, 1.0])\n",
    "plt.ylim([0.0, 1.0])\n",
    "plt.xlabel('False Positive Rate')\n",
    "plt.ylabel('True Positive Rate')\n",
    "plt.title('ROC-curve')\n",
    "plt.show()\n",
    "\n",
    "roc_auc_rf = roc_auc_score(target_test, probabilities_one_test)\n",
    "\n",
    "roc_auc_rf"
   ]
  },
  {
   "cell_type": "markdown",
   "metadata": {},
   "source": [
    "Модель намного лучше чем случайная модель."
   ]
  },
  {
   "cell_type": "code",
   "execution_count": 71,
   "metadata": {
    "scrolled": true
   },
   "outputs": [
    {
     "name": "stdout",
     "output_type": "stream",
     "text": [
      "Точность модели на тестовой выборке: 0.82\n",
      "F1 мера на тестовой выборке: 0.59\n",
      "значение ROC AUC: 0.85\n"
     ]
    }
   ],
   "source": [
    "predictions_test = rf.predict(features_test)\n",
    "f1_rf = f1_score(target_test, predictions_test)\n",
    "acc_rf = accuracy_score(target_test, predictions_test)\n",
    "print('Точность модели на тестовой выборке:', round(acc_rf, 2))\n",
    "print('F1 мера на тестовой выборке:', round(f1_rf, 2))\n",
    "print('значение ROC AUC:', round(roc_auc_rf, 2))"
   ]
  },
  {
   "cell_type": "markdown",
   "metadata": {},
   "source": [
    "Получено необходимое значение для метрики."
   ]
  },
  {
   "cell_type": "markdown",
   "metadata": {},
   "source": [
    "## Общий вывод"
   ]
  },
  {
   "cell_type": "markdown",
   "metadata": {},
   "source": [
    "В ходе исследования были проделаны следующие шаги:\n",
    "\n",
    "1. Подготовили данные, проделав простейшие преобразования датасета.\n",
    "2. В ходе исследования задачи выполнили следующие действия:\n",
    "* выявили дисбаланс классов;\n",
    "* избавились от пропущенных значений;\n",
    "* разбили метрики на три части (тренировочная, валидационная и тестовая);\n",
    "* отмасштабировали количественные признаки;\n",
    "* проверили работоспособность алгоритмов на выборках без учета дисбаланса.\n",
    "3. Решали проблему дисбаланса категориального целевого признака тремя способами:\n",
    "* увеличение выборки;\n",
    "* уменьшение выборки;\n",
    "* изменение порога классификации;\n",
    "* техника SMOTE;\n",
    "* приняли метод SMOTE за основу.\n",
    "4. После всех вышеперечисленных операций протестировали модели на валидационной выборке, подобрав оптимальные гиперпараметры.\n",
    "5. Отобрали лучшую модель (Random Forest) и повторно проверили на отложенной тестовой выборке.\n",
    "В итоге лучший результат показала модель случайного леса с значениями метрик:\n",
    "\n",
    "`AUC ROC score` = 0.85\n",
    "\n",
    "`Accuracy` = 0.82\n",
    "\n",
    "`F1 score` = 0.59\n"
   ]
  },
  {
   "cell_type": "code",
   "execution_count": null,
   "metadata": {},
   "outputs": [],
   "source": []
  }
 ],
 "metadata": {
  "ExecuteTimeLog": [
   {
    "duration": 1425,
    "start_time": "2023-04-21T05:25:50.069Z"
   },
   {
    "duration": 3,
    "start_time": "2023-04-21T05:25:54.703Z"
   },
   {
    "duration": 89,
    "start_time": "2023-04-21T05:26:25.407Z"
   },
   {
    "duration": 17,
    "start_time": "2023-04-21T05:26:30.604Z"
   },
   {
    "duration": 4,
    "start_time": "2023-04-21T05:36:25.843Z"
   },
   {
    "duration": 17,
    "start_time": "2023-04-21T05:36:32.448Z"
   },
   {
    "duration": 14,
    "start_time": "2023-04-21T05:39:38.526Z"
   },
   {
    "duration": 1556,
    "start_time": "2023-04-21T05:41:55.225Z"
   },
   {
    "duration": 6,
    "start_time": "2023-04-21T05:42:39.853Z"
   },
   {
    "duration": 16,
    "start_time": "2023-04-21T05:44:02.997Z"
   },
   {
    "duration": 3,
    "start_time": "2023-04-21T05:44:16.375Z"
   },
   {
    "duration": 14,
    "start_time": "2023-04-21T05:44:17.675Z"
   },
   {
    "duration": 1552,
    "start_time": "2023-04-21T05:44:23.246Z"
   },
   {
    "duration": 1080,
    "start_time": "2023-04-21T06:06:37.064Z"
   },
   {
    "duration": 1673,
    "start_time": "2023-04-25T18:02:03.837Z"
   },
   {
    "duration": 212,
    "start_time": "2023-04-25T18:02:07.265Z"
   },
   {
    "duration": 23,
    "start_time": "2023-04-25T18:02:07.736Z"
   },
   {
    "duration": 5,
    "start_time": "2023-04-25T18:02:18.944Z"
   },
   {
    "duration": 4,
    "start_time": "2023-04-25T18:02:21.586Z"
   },
   {
    "duration": 13,
    "start_time": "2023-04-25T18:02:27.249Z"
   },
   {
    "duration": 2163,
    "start_time": "2023-04-25T18:48:38.912Z"
   },
   {
    "duration": 64,
    "start_time": "2023-04-25T19:26:12.487Z"
   },
   {
    "duration": 32,
    "start_time": "2023-04-25T19:27:45.464Z"
   },
   {
    "duration": 11,
    "start_time": "2023-04-25T19:29:48.152Z"
   },
   {
    "duration": 21,
    "start_time": "2023-04-25T19:32:22.616Z"
   },
   {
    "duration": 2,
    "start_time": "2023-04-25T19:39:12.088Z"
   },
   {
    "duration": 5,
    "start_time": "2023-04-25T19:39:27.976Z"
   },
   {
    "duration": 6,
    "start_time": "2023-04-25T19:45:08.565Z"
   },
   {
    "duration": 11,
    "start_time": "2023-04-25T19:45:17.756Z"
   },
   {
    "duration": 12,
    "start_time": "2023-04-25T19:45:25.707Z"
   },
   {
    "duration": 10,
    "start_time": "2023-04-25T19:49:22.600Z"
   },
   {
    "duration": 12,
    "start_time": "2023-04-25T19:52:50.658Z"
   },
   {
    "duration": 5,
    "start_time": "2023-04-25T19:54:27.423Z"
   },
   {
    "duration": 17,
    "start_time": "2023-04-25T19:54:32.457Z"
   },
   {
    "duration": 139,
    "start_time": "2023-04-25T19:54:36.265Z"
   },
   {
    "duration": 19,
    "start_time": "2023-04-25T19:55:08.662Z"
   },
   {
    "duration": 13,
    "start_time": "2023-04-25T19:55:14.832Z"
   },
   {
    "duration": 64,
    "start_time": "2023-04-25T19:55:14.852Z"
   },
   {
    "duration": 32,
    "start_time": "2023-04-25T19:55:14.919Z"
   },
   {
    "duration": 8,
    "start_time": "2023-04-25T19:55:14.954Z"
   },
   {
    "duration": 10,
    "start_time": "2023-04-25T19:55:14.967Z"
   },
   {
    "duration": 25,
    "start_time": "2023-04-25T19:55:14.979Z"
   },
   {
    "duration": 2211,
    "start_time": "2023-04-25T19:55:15.006Z"
   },
   {
    "duration": 11,
    "start_time": "2023-04-25T19:55:17.218Z"
   },
   {
    "duration": 36,
    "start_time": "2023-04-25T19:55:17.231Z"
   },
   {
    "duration": 13,
    "start_time": "2023-04-25T19:55:17.269Z"
   },
   {
    "duration": 20,
    "start_time": "2023-04-25T19:55:17.284Z"
   },
   {
    "duration": 16,
    "start_time": "2023-04-25T19:55:17.306Z"
   },
   {
    "duration": 38,
    "start_time": "2023-04-25T19:55:17.323Z"
   },
   {
    "duration": 10,
    "start_time": "2023-04-25T19:55:17.369Z"
   },
   {
    "duration": 27,
    "start_time": "2023-04-25T19:55:27.809Z"
   },
   {
    "duration": 19,
    "start_time": "2023-04-25T19:55:54.430Z"
   },
   {
    "duration": 1360,
    "start_time": "2023-04-25T19:56:09.476Z"
   },
   {
    "duration": 76,
    "start_time": "2023-04-25T19:56:10.838Z"
   },
   {
    "duration": 34,
    "start_time": "2023-04-25T19:56:10.922Z"
   },
   {
    "duration": 6,
    "start_time": "2023-04-25T19:56:10.958Z"
   },
   {
    "duration": 10,
    "start_time": "2023-04-25T19:56:10.967Z"
   },
   {
    "duration": 38,
    "start_time": "2023-04-25T19:56:10.979Z"
   },
   {
    "duration": 1994,
    "start_time": "2023-04-25T19:56:11.027Z"
   },
   {
    "duration": 26,
    "start_time": "2023-04-25T19:56:13.028Z"
   },
   {
    "duration": 6,
    "start_time": "2023-04-25T19:56:13.056Z"
   },
   {
    "duration": 13,
    "start_time": "2023-04-25T19:56:13.064Z"
   },
   {
    "duration": 36,
    "start_time": "2023-04-25T19:56:13.079Z"
   },
   {
    "duration": 21,
    "start_time": "2023-04-25T19:56:13.117Z"
   },
   {
    "duration": 16,
    "start_time": "2023-04-25T19:56:13.140Z"
   },
   {
    "duration": 23,
    "start_time": "2023-04-25T19:56:13.159Z"
   },
   {
    "duration": 174,
    "start_time": "2023-04-25T19:56:18.185Z"
   },
   {
    "duration": 19,
    "start_time": "2023-04-25T19:56:37.748Z"
   },
   {
    "duration": 1497,
    "start_time": "2023-04-25T19:56:57.432Z"
   },
   {
    "duration": 50,
    "start_time": "2023-04-25T19:56:58.933Z"
   },
   {
    "duration": 21,
    "start_time": "2023-04-25T19:56:58.985Z"
   },
   {
    "duration": 10,
    "start_time": "2023-04-25T19:56:59.008Z"
   },
   {
    "duration": 9,
    "start_time": "2023-04-25T19:56:59.021Z"
   },
   {
    "duration": 22,
    "start_time": "2023-04-25T19:56:59.033Z"
   },
   {
    "duration": 1859,
    "start_time": "2023-04-25T19:56:59.057Z"
   },
   {
    "duration": 24,
    "start_time": "2023-04-25T19:57:00.922Z"
   },
   {
    "duration": 74,
    "start_time": "2023-04-25T19:57:00.953Z"
   },
   {
    "duration": 33,
    "start_time": "2023-04-25T19:57:01.029Z"
   },
   {
    "duration": 45,
    "start_time": "2023-04-25T19:57:01.064Z"
   },
   {
    "duration": 34,
    "start_time": "2023-04-25T19:57:01.112Z"
   },
   {
    "duration": 90,
    "start_time": "2023-04-25T19:57:01.148Z"
   },
   {
    "duration": 59,
    "start_time": "2023-04-25T19:57:01.242Z"
   },
   {
    "duration": 7,
    "start_time": "2023-04-25T19:57:07.677Z"
   },
   {
    "duration": 33,
    "start_time": "2023-04-25T19:57:18.584Z"
   },
   {
    "duration": 1360,
    "start_time": "2023-04-25T19:59:32.127Z"
   },
   {
    "duration": 1328,
    "start_time": "2023-04-25T19:59:38.940Z"
   },
   {
    "duration": 7,
    "start_time": "2023-04-25T19:59:53.688Z"
   },
   {
    "duration": 6,
    "start_time": "2023-04-25T20:00:15.556Z"
   },
   {
    "duration": 5,
    "start_time": "2023-04-25T20:00:21.160Z"
   },
   {
    "duration": 1351,
    "start_time": "2023-04-25T20:01:30.221Z"
   },
   {
    "duration": 1250,
    "start_time": "2023-04-25T20:01:34.226Z"
   },
   {
    "duration": 6,
    "start_time": "2023-04-25T20:01:45.351Z"
   },
   {
    "duration": 1385,
    "start_time": "2023-04-25T20:03:43.876Z"
   },
   {
    "duration": 46,
    "start_time": "2023-04-25T20:03:45.263Z"
   },
   {
    "duration": 32,
    "start_time": "2023-04-25T20:03:45.310Z"
   },
   {
    "duration": 13,
    "start_time": "2023-04-25T20:03:45.348Z"
   },
   {
    "duration": 4,
    "start_time": "2023-04-25T20:03:45.365Z"
   },
   {
    "duration": 17,
    "start_time": "2023-04-25T20:03:45.371Z"
   },
   {
    "duration": 2012,
    "start_time": "2023-04-25T20:03:45.390Z"
   },
   {
    "duration": 12,
    "start_time": "2023-04-25T20:03:47.404Z"
   },
   {
    "duration": 30,
    "start_time": "2023-04-25T20:03:47.418Z"
   },
   {
    "duration": 24,
    "start_time": "2023-04-25T20:03:47.450Z"
   },
   {
    "duration": 29,
    "start_time": "2023-04-25T20:03:47.477Z"
   },
   {
    "duration": 13,
    "start_time": "2023-04-25T20:03:47.508Z"
   },
   {
    "duration": 18,
    "start_time": "2023-04-25T20:03:47.525Z"
   },
   {
    "duration": 15,
    "start_time": "2023-04-25T20:03:47.551Z"
   },
   {
    "duration": 34,
    "start_time": "2023-04-25T20:03:47.570Z"
   },
   {
    "duration": 48,
    "start_time": "2023-04-25T20:03:47.606Z"
   },
   {
    "duration": 18,
    "start_time": "2023-04-25T20:03:47.657Z"
   },
   {
    "duration": 1403,
    "start_time": "2023-04-25T20:03:47.677Z"
   },
   {
    "duration": 1421,
    "start_time": "2023-04-25T20:03:54.439Z"
   },
   {
    "duration": 333,
    "start_time": "2023-04-25T20:04:05.686Z"
   },
   {
    "duration": 4,
    "start_time": "2023-04-25T20:04:10.386Z"
   },
   {
    "duration": 6,
    "start_time": "2023-04-25T20:04:12.353Z"
   },
   {
    "duration": 1274,
    "start_time": "2023-04-25T20:04:28.436Z"
   },
   {
    "duration": 15,
    "start_time": "2023-04-25T20:04:33.805Z"
   },
   {
    "duration": 1538,
    "start_time": "2023-04-25T20:05:01.554Z"
   },
   {
    "duration": 7,
    "start_time": "2023-04-25T20:05:05.640Z"
   },
   {
    "duration": 12,
    "start_time": "2023-04-25T20:05:31.228Z"
   },
   {
    "duration": 6,
    "start_time": "2023-04-25T20:05:35.179Z"
   },
   {
    "duration": 4,
    "start_time": "2023-04-25T20:06:04.855Z"
   },
   {
    "duration": 57,
    "start_time": "2023-04-25T20:11:01.222Z"
   },
   {
    "duration": 111,
    "start_time": "2023-04-25T20:11:09.319Z"
   },
   {
    "duration": 13,
    "start_time": "2023-04-25T20:12:44.643Z"
   },
   {
    "duration": 70,
    "start_time": "2023-04-25T20:12:50.865Z"
   },
   {
    "duration": 17,
    "start_time": "2023-04-25T20:12:52.907Z"
   },
   {
    "duration": 898,
    "start_time": "2023-04-25T20:13:05.077Z"
   },
   {
    "duration": 36,
    "start_time": "2023-04-25T20:13:13.775Z"
   },
   {
    "duration": 6,
    "start_time": "2023-04-25T20:13:22.364Z"
   },
   {
    "duration": 22,
    "start_time": "2023-04-25T20:13:24.922Z"
   },
   {
    "duration": 30,
    "start_time": "2023-04-25T20:13:28.266Z"
   },
   {
    "duration": 4,
    "start_time": "2023-04-25T20:13:32.186Z"
   },
   {
    "duration": 521,
    "start_time": "2023-04-25T20:13:35.711Z"
   },
   {
    "duration": 79,
    "start_time": "2023-04-25T20:13:46.407Z"
   },
   {
    "duration": 18,
    "start_time": "2023-04-25T20:14:20.113Z"
   },
   {
    "duration": 17,
    "start_time": "2023-04-25T20:14:37.585Z"
   },
   {
    "duration": 27,
    "start_time": "2023-04-25T20:14:53.885Z"
   },
   {
    "duration": 19,
    "start_time": "2023-04-25T20:15:56.907Z"
   },
   {
    "duration": 14,
    "start_time": "2023-04-25T20:16:06.446Z"
   },
   {
    "duration": 6,
    "start_time": "2023-04-25T20:18:34.265Z"
   },
   {
    "duration": 1329,
    "start_time": "2023-04-26T06:31:54.317Z"
   },
   {
    "duration": 170,
    "start_time": "2023-04-26T06:31:55.648Z"
   },
   {
    "duration": 18,
    "start_time": "2023-04-26T06:31:55.819Z"
   },
   {
    "duration": 4,
    "start_time": "2023-04-26T06:31:55.838Z"
   },
   {
    "duration": 6,
    "start_time": "2023-04-26T06:31:55.844Z"
   },
   {
    "duration": 31,
    "start_time": "2023-04-26T06:31:55.851Z"
   },
   {
    "duration": 1546,
    "start_time": "2023-04-26T06:31:55.883Z"
   },
   {
    "duration": 10,
    "start_time": "2023-04-26T06:31:57.430Z"
   },
   {
    "duration": 5,
    "start_time": "2023-04-26T06:31:57.442Z"
   },
   {
    "duration": 13,
    "start_time": "2023-04-26T06:31:57.448Z"
   },
   {
    "duration": 8,
    "start_time": "2023-04-26T06:31:57.462Z"
   },
   {
    "duration": 13,
    "start_time": "2023-04-26T06:31:57.486Z"
   },
   {
    "duration": 9,
    "start_time": "2023-04-26T06:31:57.501Z"
   },
   {
    "duration": 4,
    "start_time": "2023-04-26T06:31:57.513Z"
   },
   {
    "duration": 5,
    "start_time": "2023-04-26T06:31:57.519Z"
   },
   {
    "duration": 22,
    "start_time": "2023-04-26T06:31:57.526Z"
   },
   {
    "duration": 38,
    "start_time": "2023-04-26T06:31:57.549Z"
   },
   {
    "duration": 18,
    "start_time": "2023-04-26T06:31:57.589Z"
   },
   {
    "duration": 5,
    "start_time": "2023-04-26T06:31:57.609Z"
   },
   {
    "duration": 344,
    "start_time": "2023-04-26T07:01:08.950Z"
   },
   {
    "duration": 11,
    "start_time": "2023-04-26T07:09:55.987Z"
   },
   {
    "duration": 19,
    "start_time": "2023-04-26T07:10:03.586Z"
   },
   {
    "duration": 4,
    "start_time": "2023-04-26T07:10:17.060Z"
   },
   {
    "duration": 136,
    "start_time": "2023-04-26T07:14:25.196Z"
   },
   {
    "duration": 17,
    "start_time": "2023-04-26T07:14:31.486Z"
   },
   {
    "duration": 6,
    "start_time": "2023-04-26T07:15:41.289Z"
   },
   {
    "duration": 9,
    "start_time": "2023-04-26T07:15:45.847Z"
   },
   {
    "duration": 11,
    "start_time": "2023-04-26T07:15:49.827Z"
   },
   {
    "duration": 10,
    "start_time": "2023-04-26T07:16:51.757Z"
   },
   {
    "duration": 491,
    "start_time": "2023-04-26T07:16:56.317Z"
   },
   {
    "duration": 845,
    "start_time": "2023-04-26T07:20:34.758Z"
   },
   {
    "duration": 1037,
    "start_time": "2023-04-26T07:20:53.275Z"
   },
   {
    "duration": 813,
    "start_time": "2023-04-26T07:21:01.385Z"
   },
   {
    "duration": 944,
    "start_time": "2023-04-26T07:21:05.774Z"
   },
   {
    "duration": 879,
    "start_time": "2023-04-26T07:21:09.435Z"
   },
   {
    "duration": 10,
    "start_time": "2023-04-26T07:22:16.397Z"
   },
   {
    "duration": 1233,
    "start_time": "2023-04-26T07:24:36.398Z"
   },
   {
    "duration": 843,
    "start_time": "2023-04-26T07:25:07.414Z"
   },
   {
    "duration": 9,
    "start_time": "2023-04-26T07:26:18.048Z"
   },
   {
    "duration": 579,
    "start_time": "2023-04-26T07:31:40.677Z"
   },
   {
    "duration": 5,
    "start_time": "2023-04-26T07:31:48.768Z"
   },
   {
    "duration": 5,
    "start_time": "2023-04-26T07:32:12.736Z"
   },
   {
    "duration": 7,
    "start_time": "2023-04-26T07:32:19.801Z"
   },
   {
    "duration": 47,
    "start_time": "2023-04-26T07:32:26.805Z"
   },
   {
    "duration": 13,
    "start_time": "2023-04-26T07:32:37.677Z"
   },
   {
    "duration": 11,
    "start_time": "2023-04-26T07:32:51.807Z"
   },
   {
    "duration": 76,
    "start_time": "2023-04-26T07:34:00.280Z"
   },
   {
    "duration": 4,
    "start_time": "2023-04-26T07:34:11.327Z"
   },
   {
    "duration": 135,
    "start_time": "2023-04-26T07:34:16.459Z"
   },
   {
    "duration": 166,
    "start_time": "2023-04-26T07:35:03.048Z"
   },
   {
    "duration": 151,
    "start_time": "2023-04-26T07:40:04.760Z"
   },
   {
    "duration": 155,
    "start_time": "2023-04-26T07:40:09.579Z"
   },
   {
    "duration": 11,
    "start_time": "2023-04-26T07:40:51.027Z"
   },
   {
    "duration": 4,
    "start_time": "2023-04-26T07:41:16.821Z"
   },
   {
    "duration": 161,
    "start_time": "2023-04-26T07:41:18.902Z"
   },
   {
    "duration": 3,
    "start_time": "2023-04-26T07:41:39.947Z"
   },
   {
    "duration": 167,
    "start_time": "2023-04-26T07:41:44.101Z"
   },
   {
    "duration": 82,
    "start_time": "2023-04-26T07:42:49.577Z"
   },
   {
    "duration": 82,
    "start_time": "2023-04-26T07:47:05.926Z"
   },
   {
    "duration": 82,
    "start_time": "2023-04-26T07:47:17.844Z"
   },
   {
    "duration": 82,
    "start_time": "2023-04-26T07:47:43.215Z"
   },
   {
    "duration": 83,
    "start_time": "2023-04-26T07:47:49.608Z"
   },
   {
    "duration": 3,
    "start_time": "2023-04-26T07:52:41.736Z"
   },
   {
    "duration": 2,
    "start_time": "2023-04-26T07:53:28.103Z"
   },
   {
    "duration": 179175,
    "start_time": "2023-04-26T07:55:00.598Z"
   },
   {
    "duration": 82,
    "start_time": "2023-04-26T07:58:11.638Z"
   },
   {
    "duration": 78,
    "start_time": "2023-04-26T07:58:23.099Z"
   },
   {
    "duration": 172642,
    "start_time": "2023-04-26T07:58:31.127Z"
   },
   {
    "duration": 27,
    "start_time": "2023-04-26T08:03:30.054Z"
   },
   {
    "duration": 14,
    "start_time": "2023-04-26T08:04:45.417Z"
   },
   {
    "duration": 87,
    "start_time": "2023-04-26T08:05:20.566Z"
   },
   {
    "duration": 124,
    "start_time": "2023-04-26T08:05:26.826Z"
   },
   {
    "duration": 81,
    "start_time": "2023-04-26T08:05:29.877Z"
   },
   {
    "duration": 70,
    "start_time": "2023-04-26T08:06:50.107Z"
   },
   {
    "duration": 33,
    "start_time": "2023-04-26T08:07:06.608Z"
   },
   {
    "duration": 4,
    "start_time": "2023-04-26T08:11:10.604Z"
   },
   {
    "duration": 4,
    "start_time": "2023-04-26T08:11:18.020Z"
   },
   {
    "duration": 55,
    "start_time": "2023-04-26T08:11:59.736Z"
   },
   {
    "duration": 5214,
    "start_time": "2023-04-26T08:12:50.346Z"
   },
   {
    "duration": 97177,
    "start_time": "2023-04-26T08:14:00.337Z"
   },
   {
    "duration": 4,
    "start_time": "2023-04-26T08:16:43.847Z"
   },
   {
    "duration": 5,
    "start_time": "2023-04-26T08:16:51.559Z"
   },
   {
    "duration": 58,
    "start_time": "2023-04-26T08:17:36.964Z"
   },
   {
    "duration": 29,
    "start_time": "2023-04-26T08:18:05.677Z"
   },
   {
    "duration": 82,
    "start_time": "2023-04-26T08:21:49.287Z"
   },
   {
    "duration": 41,
    "start_time": "2023-04-26T08:21:58.707Z"
   },
   {
    "duration": 22,
    "start_time": "2023-04-26T08:22:51.855Z"
   },
   {
    "duration": 10,
    "start_time": "2023-04-26T08:53:54.708Z"
   },
   {
    "duration": 20,
    "start_time": "2023-04-26T08:54:06.994Z"
   },
   {
    "duration": 10,
    "start_time": "2023-04-26T08:54:27.276Z"
   },
   {
    "duration": 22,
    "start_time": "2023-04-26T08:56:22.808Z"
   },
   {
    "duration": 22,
    "start_time": "2023-04-26T08:56:40.817Z"
   },
   {
    "duration": 11,
    "start_time": "2023-04-26T08:56:44.317Z"
   },
   {
    "duration": 16,
    "start_time": "2023-04-26T08:56:48.640Z"
   },
   {
    "duration": 13,
    "start_time": "2023-04-26T08:57:33.017Z"
   },
   {
    "duration": 16,
    "start_time": "2023-04-26T08:57:40.100Z"
   },
   {
    "duration": 17,
    "start_time": "2023-04-26T08:58:13.947Z"
   },
   {
    "duration": 11,
    "start_time": "2023-04-26T08:58:18.935Z"
   },
   {
    "duration": 1082,
    "start_time": "2023-04-26T08:58:51.801Z"
   },
   {
    "duration": 945,
    "start_time": "2023-04-26T08:58:58.667Z"
   },
   {
    "duration": 9,
    "start_time": "2023-04-26T08:59:02.905Z"
   },
   {
    "duration": 4,
    "start_time": "2023-04-26T08:59:12.046Z"
   },
   {
    "duration": 4,
    "start_time": "2023-04-26T08:59:12.354Z"
   },
   {
    "duration": 23,
    "start_time": "2023-04-26T08:59:16.137Z"
   },
   {
    "duration": 1749,
    "start_time": "2023-04-26T09:00:51.006Z"
   },
   {
    "duration": 40,
    "start_time": "2023-04-26T09:00:52.757Z"
   },
   {
    "duration": 19,
    "start_time": "2023-04-26T09:00:52.798Z"
   },
   {
    "duration": 11,
    "start_time": "2023-04-26T09:00:52.818Z"
   },
   {
    "duration": 9,
    "start_time": "2023-04-26T09:00:52.831Z"
   },
   {
    "duration": 20,
    "start_time": "2023-04-26T09:00:52.841Z"
   },
   {
    "duration": 1581,
    "start_time": "2023-04-26T09:00:52.863Z"
   },
   {
    "duration": 12,
    "start_time": "2023-04-26T09:00:54.446Z"
   },
   {
    "duration": 10,
    "start_time": "2023-04-26T09:00:54.460Z"
   },
   {
    "duration": 5,
    "start_time": "2023-04-26T09:00:54.484Z"
   },
   {
    "duration": 11,
    "start_time": "2023-04-26T09:00:54.491Z"
   },
   {
    "duration": 10,
    "start_time": "2023-04-26T09:00:54.503Z"
   },
   {
    "duration": 10,
    "start_time": "2023-04-26T09:00:54.514Z"
   },
   {
    "duration": 4,
    "start_time": "2023-04-26T09:00:54.526Z"
   },
   {
    "duration": 9,
    "start_time": "2023-04-26T09:00:54.532Z"
   },
   {
    "duration": 23,
    "start_time": "2023-04-26T09:00:54.542Z"
   },
   {
    "duration": 20,
    "start_time": "2023-04-26T09:00:54.567Z"
   },
   {
    "duration": 22,
    "start_time": "2023-04-26T09:00:54.589Z"
   },
   {
    "duration": 12,
    "start_time": "2023-04-26T09:00:54.613Z"
   },
   {
    "duration": 10,
    "start_time": "2023-04-26T09:00:54.627Z"
   },
   {
    "duration": 5,
    "start_time": "2023-04-26T09:00:54.639Z"
   },
   {
    "duration": 8,
    "start_time": "2023-04-26T09:00:59.457Z"
   },
   {
    "duration": 19,
    "start_time": "2023-04-26T09:01:12.916Z"
   },
   {
    "duration": 15,
    "start_time": "2023-04-26T09:01:20.316Z"
   },
   {
    "duration": 12,
    "start_time": "2023-04-26T09:01:21.236Z"
   },
   {
    "duration": 14,
    "start_time": "2023-04-26T09:02:00.554Z"
   },
   {
    "duration": 16,
    "start_time": "2023-04-26T09:02:01.367Z"
   },
   {
    "duration": 1772,
    "start_time": "2023-04-26T09:02:12.599Z"
   },
   {
    "duration": 41,
    "start_time": "2023-04-26T09:02:14.373Z"
   },
   {
    "duration": 23,
    "start_time": "2023-04-26T09:02:14.415Z"
   },
   {
    "duration": 5,
    "start_time": "2023-04-26T09:02:14.440Z"
   },
   {
    "duration": 4,
    "start_time": "2023-04-26T09:02:14.448Z"
   },
   {
    "duration": 29,
    "start_time": "2023-04-26T09:02:14.454Z"
   },
   {
    "duration": 1528,
    "start_time": "2023-04-26T09:02:14.485Z"
   },
   {
    "duration": 9,
    "start_time": "2023-04-26T09:02:16.015Z"
   },
   {
    "duration": 33,
    "start_time": "2023-04-26T09:02:16.026Z"
   },
   {
    "duration": 16,
    "start_time": "2023-04-26T09:02:16.061Z"
   },
   {
    "duration": 6,
    "start_time": "2023-04-26T09:02:16.079Z"
   },
   {
    "duration": 13,
    "start_time": "2023-04-26T09:02:16.087Z"
   },
   {
    "duration": 21,
    "start_time": "2023-04-26T09:02:16.102Z"
   },
   {
    "duration": 12,
    "start_time": "2023-04-26T09:02:16.126Z"
   },
   {
    "duration": 14,
    "start_time": "2023-04-26T09:02:16.140Z"
   },
   {
    "duration": 34,
    "start_time": "2023-04-26T09:02:16.156Z"
   },
   {
    "duration": 3,
    "start_time": "2023-04-26T09:02:16.193Z"
   },
   {
    "duration": 25,
    "start_time": "2023-04-26T09:02:16.198Z"
   },
   {
    "duration": 8,
    "start_time": "2023-04-26T09:02:16.225Z"
   },
   {
    "duration": 19,
    "start_time": "2023-04-26T09:02:16.235Z"
   },
   {
    "duration": 5,
    "start_time": "2023-04-26T09:02:16.256Z"
   },
   {
    "duration": 29,
    "start_time": "2023-04-26T09:02:16.263Z"
   },
   {
    "duration": 19,
    "start_time": "2023-04-26T09:02:16.294Z"
   },
   {
    "duration": 6,
    "start_time": "2023-04-26T09:05:37.707Z"
   },
   {
    "duration": 18,
    "start_time": "2023-04-26T09:05:55.357Z"
   },
   {
    "duration": 120,
    "start_time": "2023-04-26T09:06:12.218Z"
   },
   {
    "duration": 4,
    "start_time": "2023-04-26T09:06:16.966Z"
   },
   {
    "duration": 2527,
    "start_time": "2023-04-26T09:06:20.357Z"
   },
   {
    "duration": 20,
    "start_time": "2023-04-26T09:06:28.806Z"
   },
   {
    "duration": 19,
    "start_time": "2023-04-26T09:09:32.410Z"
   },
   {
    "duration": 12,
    "start_time": "2023-04-26T09:09:40.977Z"
   },
   {
    "duration": 1005,
    "start_time": "2023-04-26T09:10:57.628Z"
   },
   {
    "duration": 9,
    "start_time": "2023-04-26T09:10:58.635Z"
   },
   {
    "duration": 4,
    "start_time": "2023-04-26T09:10:58.646Z"
   },
   {
    "duration": 12,
    "start_time": "2023-04-26T09:10:58.653Z"
   },
   {
    "duration": 21,
    "start_time": "2023-04-26T09:11:07.937Z"
   },
   {
    "duration": 21,
    "start_time": "2023-04-26T09:11:25.199Z"
   },
   {
    "duration": 18,
    "start_time": "2023-04-26T09:11:29.957Z"
   },
   {
    "duration": 17,
    "start_time": "2023-04-26T09:11:32.847Z"
   },
   {
    "duration": 1544,
    "start_time": "2023-04-26T09:12:32.125Z"
   },
   {
    "duration": 43,
    "start_time": "2023-04-26T09:12:33.671Z"
   },
   {
    "duration": 23,
    "start_time": "2023-04-26T09:12:33.716Z"
   },
   {
    "duration": 5,
    "start_time": "2023-04-26T09:12:33.741Z"
   },
   {
    "duration": 9,
    "start_time": "2023-04-26T09:12:33.748Z"
   },
   {
    "duration": 27,
    "start_time": "2023-04-26T09:12:33.759Z"
   },
   {
    "duration": 1832,
    "start_time": "2023-04-26T09:12:33.788Z"
   },
   {
    "duration": 14,
    "start_time": "2023-04-26T09:12:35.623Z"
   },
   {
    "duration": 13,
    "start_time": "2023-04-26T09:12:35.639Z"
   },
   {
    "duration": 23,
    "start_time": "2023-04-26T09:12:35.654Z"
   },
   {
    "duration": 10,
    "start_time": "2023-04-26T09:12:35.680Z"
   },
   {
    "duration": 8,
    "start_time": "2023-04-26T09:12:35.692Z"
   },
   {
    "duration": 10,
    "start_time": "2023-04-26T09:12:35.702Z"
   },
   {
    "duration": 7,
    "start_time": "2023-04-26T09:12:35.715Z"
   },
   {
    "duration": 20,
    "start_time": "2023-04-26T09:12:35.723Z"
   },
   {
    "duration": 58,
    "start_time": "2023-04-26T09:12:35.745Z"
   },
   {
    "duration": 15,
    "start_time": "2023-04-26T09:12:35.805Z"
   },
   {
    "duration": 29,
    "start_time": "2023-04-26T09:12:35.822Z"
   },
   {
    "duration": 7,
    "start_time": "2023-04-26T09:12:35.852Z"
   },
   {
    "duration": 13,
    "start_time": "2023-04-26T09:12:35.863Z"
   },
   {
    "duration": 13,
    "start_time": "2023-04-26T09:12:35.878Z"
   },
   {
    "duration": 12,
    "start_time": "2023-04-26T09:12:35.893Z"
   },
   {
    "duration": 17,
    "start_time": "2023-04-26T09:12:45.382Z"
   },
   {
    "duration": 14,
    "start_time": "2023-04-26T09:12:59.517Z"
   },
   {
    "duration": 1129,
    "start_time": "2023-04-26T09:13:04.900Z"
   },
   {
    "duration": 9,
    "start_time": "2023-04-26T09:13:06.031Z"
   },
   {
    "duration": 5,
    "start_time": "2023-04-26T09:13:26.966Z"
   },
   {
    "duration": 19,
    "start_time": "2023-04-26T09:13:36.075Z"
   },
   {
    "duration": 13,
    "start_time": "2023-04-26T09:13:40.106Z"
   },
   {
    "duration": 5,
    "start_time": "2023-04-26T09:13:49.745Z"
   },
   {
    "duration": 18,
    "start_time": "2023-04-26T09:13:59.076Z"
   },
   {
    "duration": 125,
    "start_time": "2023-04-26T09:16:48.716Z"
   },
   {
    "duration": 21,
    "start_time": "2023-04-26T09:16:54.557Z"
   },
   {
    "duration": 19,
    "start_time": "2023-04-26T09:17:03.236Z"
   },
   {
    "duration": 8,
    "start_time": "2023-04-26T09:17:21.946Z"
   },
   {
    "duration": 13,
    "start_time": "2023-04-26T09:17:31.604Z"
   },
   {
    "duration": 85,
    "start_time": "2023-04-26T09:17:45.567Z"
   },
   {
    "duration": 210950,
    "start_time": "2023-04-26T09:18:24.466Z"
   },
   {
    "duration": 5,
    "start_time": "2023-04-26T09:22:08.636Z"
   },
   {
    "duration": 42,
    "start_time": "2023-04-26T09:22:27.310Z"
   },
   {
    "duration": 21,
    "start_time": "2023-04-26T09:22:53.676Z"
   },
   {
    "duration": 32521,
    "start_time": "2023-04-26T09:30:29.985Z"
   },
   {
    "duration": 4,
    "start_time": "2023-04-26T09:33:39.565Z"
   },
   {
    "duration": 20,
    "start_time": "2023-04-26T09:34:24.823Z"
   },
   {
    "duration": 17,
    "start_time": "2023-04-26T09:34:41.016Z"
   },
   {
    "duration": 36,
    "start_time": "2023-04-26T09:35:18.856Z"
   },
   {
    "duration": 11,
    "start_time": "2023-04-26T09:35:43.486Z"
   },
   {
    "duration": 18,
    "start_time": "2023-04-26T09:35:47.466Z"
   },
   {
    "duration": 19,
    "start_time": "2023-04-26T09:35:52.306Z"
   },
   {
    "duration": 1555,
    "start_time": "2023-04-27T09:11:37.677Z"
   },
   {
    "duration": 176,
    "start_time": "2023-04-27T09:11:39.234Z"
   },
   {
    "duration": 17,
    "start_time": "2023-04-27T09:11:39.411Z"
   },
   {
    "duration": 3,
    "start_time": "2023-04-27T09:11:39.430Z"
   },
   {
    "duration": 7,
    "start_time": "2023-04-27T09:11:39.435Z"
   },
   {
    "duration": 19,
    "start_time": "2023-04-27T09:11:39.444Z"
   },
   {
    "duration": 1581,
    "start_time": "2023-04-27T09:11:39.465Z"
   },
   {
    "duration": 19,
    "start_time": "2023-04-27T09:11:41.048Z"
   },
   {
    "duration": 6,
    "start_time": "2023-04-27T09:11:41.069Z"
   },
   {
    "duration": 9,
    "start_time": "2023-04-27T09:11:41.077Z"
   },
   {
    "duration": 12,
    "start_time": "2023-04-27T09:11:41.088Z"
   },
   {
    "duration": 7,
    "start_time": "2023-04-27T09:11:41.102Z"
   },
   {
    "duration": 10,
    "start_time": "2023-04-27T09:11:41.111Z"
   },
   {
    "duration": 5,
    "start_time": "2023-04-27T09:11:41.124Z"
   },
   {
    "duration": 31,
    "start_time": "2023-04-27T09:11:41.130Z"
   },
   {
    "duration": 21,
    "start_time": "2023-04-27T09:11:41.162Z"
   },
   {
    "duration": 8,
    "start_time": "2023-04-27T09:11:41.184Z"
   },
   {
    "duration": 19,
    "start_time": "2023-04-27T09:11:41.194Z"
   },
   {
    "duration": 6,
    "start_time": "2023-04-27T09:11:41.215Z"
   },
   {
    "duration": 17,
    "start_time": "2023-04-27T09:11:41.222Z"
   },
   {
    "duration": 21,
    "start_time": "2023-04-27T09:11:41.240Z"
   },
   {
    "duration": 21,
    "start_time": "2023-04-27T09:11:41.263Z"
   },
   {
    "duration": 10,
    "start_time": "2023-04-27T09:11:41.286Z"
   },
   {
    "duration": 971,
    "start_time": "2023-04-27T09:11:41.298Z"
   },
   {
    "duration": 9,
    "start_time": "2023-04-27T09:11:42.271Z"
   },
   {
    "duration": 4,
    "start_time": "2023-04-27T09:11:42.282Z"
   },
   {
    "duration": 6,
    "start_time": "2023-04-27T09:11:42.287Z"
   },
   {
    "duration": 23,
    "start_time": "2023-04-27T09:11:42.295Z"
   },
   {
    "duration": 10,
    "start_time": "2023-04-27T09:11:42.320Z"
   },
   {
    "duration": 96,
    "start_time": "2023-04-27T09:11:42.332Z"
   },
   {
    "duration": 206285,
    "start_time": "2023-04-27T09:11:42.430Z"
   },
   {
    "duration": 4,
    "start_time": "2023-04-27T09:15:08.717Z"
   },
   {
    "duration": 59,
    "start_time": "2023-04-27T09:15:08.723Z"
   },
   {
    "duration": 37,
    "start_time": "2023-04-27T09:15:08.784Z"
   },
   {
    "duration": 32189,
    "start_time": "2023-04-27T09:15:08.822Z"
   },
   {
    "duration": 4,
    "start_time": "2023-04-27T09:15:41.013Z"
   },
   {
    "duration": 24,
    "start_time": "2023-04-27T09:15:41.019Z"
   },
   {
    "duration": 917,
    "start_time": "2023-04-27T09:18:26.577Z"
   },
   {
    "duration": 125725,
    "start_time": "2023-04-27T09:18:49.650Z"
   },
   {
    "duration": 0,
    "start_time": "2023-04-27T09:20:55.377Z"
   },
   {
    "duration": 322,
    "start_time": "2023-04-27T09:21:09.339Z"
   },
   {
    "duration": 91205,
    "start_time": "2023-04-27T09:21:13.259Z"
   },
   {
    "duration": 4,
    "start_time": "2023-04-27T09:22:55.289Z"
   },
   {
    "duration": 405,
    "start_time": "2023-04-27T09:23:29.259Z"
   },
   {
    "duration": 374,
    "start_time": "2023-04-27T09:23:46.686Z"
   },
   {
    "duration": 352,
    "start_time": "2023-04-27T09:23:50.309Z"
   },
   {
    "duration": 261,
    "start_time": "2023-04-27T09:23:57.698Z"
   },
   {
    "duration": 502,
    "start_time": "2023-04-27T09:24:01.159Z"
   },
   {
    "duration": 410,
    "start_time": "2023-04-27T09:24:24.850Z"
   },
   {
    "duration": 9,
    "start_time": "2023-04-27T09:34:32.818Z"
   },
   {
    "duration": 4,
    "start_time": "2023-04-27T09:36:57.375Z"
   },
   {
    "duration": 4,
    "start_time": "2023-04-27T09:37:07.558Z"
   },
   {
    "duration": 15,
    "start_time": "2023-04-27T09:37:56.498Z"
   },
   {
    "duration": 5,
    "start_time": "2023-04-27T09:38:02.788Z"
   },
   {
    "duration": 14,
    "start_time": "2023-04-27T09:38:12.699Z"
   },
   {
    "duration": 15,
    "start_time": "2023-04-27T09:38:18.757Z"
   },
   {
    "duration": 5,
    "start_time": "2023-04-27T09:38:27.838Z"
   },
   {
    "duration": 372,
    "start_time": "2023-04-27T09:38:50.478Z"
   },
   {
    "duration": 72,
    "start_time": "2023-04-27T09:39:00.016Z"
   },
   {
    "duration": 5,
    "start_time": "2023-04-27T09:39:02.128Z"
   },
   {
    "duration": 5,
    "start_time": "2023-04-27T09:39:14.121Z"
   },
   {
    "duration": 14,
    "start_time": "2023-04-27T09:39:19.997Z"
   },
   {
    "duration": 5,
    "start_time": "2023-04-27T09:39:23.709Z"
   },
   {
    "duration": 11,
    "start_time": "2023-04-27T09:39:28.116Z"
   },
   {
    "duration": 7,
    "start_time": "2023-04-27T09:39:30.288Z"
   },
   {
    "duration": 12,
    "start_time": "2023-04-27T09:39:33.815Z"
   },
   {
    "duration": 6,
    "start_time": "2023-04-27T09:39:35.713Z"
   },
   {
    "duration": 12,
    "start_time": "2023-04-27T09:39:46.628Z"
   },
   {
    "duration": 8,
    "start_time": "2023-04-27T09:39:49.821Z"
   },
   {
    "duration": 12,
    "start_time": "2023-04-27T09:39:53.169Z"
   },
   {
    "duration": 7,
    "start_time": "2023-04-27T09:39:54.618Z"
   },
   {
    "duration": 4,
    "start_time": "2023-04-27T09:40:11.049Z"
   },
   {
    "duration": 9,
    "start_time": "2023-04-27T09:40:26.827Z"
   },
   {
    "duration": 7,
    "start_time": "2023-04-27T09:40:30.858Z"
   },
   {
    "duration": 84,
    "start_time": "2023-04-27T09:41:33.094Z"
   },
   {
    "duration": 97,
    "start_time": "2023-04-27T09:41:40.998Z"
   },
   {
    "duration": 103,
    "start_time": "2023-04-27T09:41:43.257Z"
   },
   {
    "duration": 93,
    "start_time": "2023-04-27T09:41:49.817Z"
   },
   {
    "duration": 68,
    "start_time": "2023-04-27T09:41:53.626Z"
   },
   {
    "duration": 76,
    "start_time": "2023-04-27T09:41:55.737Z"
   },
   {
    "duration": 37,
    "start_time": "2023-04-27T09:43:07.347Z"
   },
   {
    "duration": 103,
    "start_time": "2023-04-27T09:43:39.168Z"
   },
   {
    "duration": 115,
    "start_time": "2023-04-27T09:43:43.899Z"
   },
   {
    "duration": 121,
    "start_time": "2023-04-27T09:43:46.538Z"
   },
   {
    "duration": 158,
    "start_time": "2023-04-27T09:43:49.738Z"
   },
   {
    "duration": 136,
    "start_time": "2023-04-27T09:43:52.318Z"
   },
   {
    "duration": 150,
    "start_time": "2023-04-27T09:43:54.539Z"
   },
   {
    "duration": 156,
    "start_time": "2023-04-27T09:43:57.098Z"
   },
   {
    "duration": 168,
    "start_time": "2023-04-27T09:43:59.228Z"
   },
   {
    "duration": 184,
    "start_time": "2023-04-27T09:44:01.088Z"
   },
   {
    "duration": 228,
    "start_time": "2023-04-27T09:44:04.397Z"
   },
   {
    "duration": 231,
    "start_time": "2023-04-27T09:44:17.814Z"
   },
   {
    "duration": 253,
    "start_time": "2023-04-27T09:44:20.186Z"
   },
   {
    "duration": 280,
    "start_time": "2023-04-27T09:44:22.837Z"
   },
   {
    "duration": 289,
    "start_time": "2023-04-27T09:44:25.718Z"
   },
   {
    "duration": 297,
    "start_time": "2023-04-27T09:44:27.697Z"
   },
   {
    "duration": 222,
    "start_time": "2023-04-27T09:44:30.228Z"
   },
   {
    "duration": 45,
    "start_time": "2023-04-27T09:44:48.186Z"
   },
   {
    "duration": 28,
    "start_time": "2023-04-27T09:45:02.098Z"
   },
   {
    "duration": 36,
    "start_time": "2023-04-27T09:45:05.248Z"
   },
   {
    "duration": 43,
    "start_time": "2023-04-27T09:45:08.278Z"
   },
   {
    "duration": 44,
    "start_time": "2023-04-27T09:45:11.108Z"
   },
   {
    "duration": 40,
    "start_time": "2023-04-27T09:45:13.078Z"
   },
   {
    "duration": 41,
    "start_time": "2023-04-27T09:45:15.808Z"
   },
   {
    "duration": 38,
    "start_time": "2023-04-27T09:45:18.638Z"
   },
   {
    "duration": 47,
    "start_time": "2023-04-27T09:45:20.898Z"
   },
   {
    "duration": 37,
    "start_time": "2023-04-27T09:45:25.081Z"
   },
   {
    "duration": 37,
    "start_time": "2023-04-27T09:45:27.646Z"
   },
   {
    "duration": 34,
    "start_time": "2023-04-27T09:45:29.898Z"
   },
   {
    "duration": 32,
    "start_time": "2023-04-27T09:45:35.637Z"
   },
   {
    "duration": 30,
    "start_time": "2023-04-27T09:45:38.317Z"
   },
   {
    "duration": 31,
    "start_time": "2023-04-27T09:45:40.798Z"
   },
   {
    "duration": 354,
    "start_time": "2023-04-27T09:46:30.007Z"
   },
   {
    "duration": 381,
    "start_time": "2023-04-27T09:46:43.577Z"
   },
   {
    "duration": 354,
    "start_time": "2023-04-27T09:46:46.406Z"
   },
   {
    "duration": 307,
    "start_time": "2023-04-27T09:46:50.957Z"
   },
   {
    "duration": 164,
    "start_time": "2023-04-27T09:46:54.297Z"
   },
   {
    "duration": 290,
    "start_time": "2023-04-27T09:46:58.978Z"
   },
   {
    "duration": 59,
    "start_time": "2023-04-27T09:47:14.000Z"
   },
   {
    "duration": 29,
    "start_time": "2023-04-27T09:47:27.029Z"
   },
   {
    "duration": 23,
    "start_time": "2023-04-27T09:47:31.452Z"
   },
   {
    "duration": 5,
    "start_time": "2023-04-27T09:54:43.218Z"
   },
   {
    "duration": 15,
    "start_time": "2023-04-27T09:54:52.449Z"
   },
   {
    "duration": 4,
    "start_time": "2023-04-27T09:54:52.837Z"
   },
   {
    "duration": 5,
    "start_time": "2023-04-27T09:54:53.309Z"
   },
   {
    "duration": 229,
    "start_time": "2023-04-27T09:54:55.757Z"
   },
   {
    "duration": 32,
    "start_time": "2023-04-27T09:54:59.419Z"
   },
   {
    "duration": 91,
    "start_time": "2023-04-27T09:55:00.778Z"
   },
   {
    "duration": 5,
    "start_time": "2023-04-27T09:55:08.649Z"
   },
   {
    "duration": 12,
    "start_time": "2023-04-27T09:55:50.225Z"
   },
   {
    "duration": 3,
    "start_time": "2023-04-27T09:55:50.648Z"
   },
   {
    "duration": 6,
    "start_time": "2023-04-27T09:56:03.897Z"
   },
   {
    "duration": 12,
    "start_time": "2023-04-27T09:56:06.917Z"
   },
   {
    "duration": 3,
    "start_time": "2023-04-27T09:56:07.356Z"
   },
   {
    "duration": 6,
    "start_time": "2023-04-27T09:56:09.157Z"
   },
   {
    "duration": 11,
    "start_time": "2023-04-27T09:56:12.428Z"
   },
   {
    "duration": 3,
    "start_time": "2023-04-27T09:56:12.637Z"
   },
   {
    "duration": 5,
    "start_time": "2023-04-27T09:56:13.686Z"
   },
   {
    "duration": 14,
    "start_time": "2023-04-27T09:56:55.898Z"
   },
   {
    "duration": 3,
    "start_time": "2023-04-27T09:56:56.151Z"
   },
   {
    "duration": 5,
    "start_time": "2023-04-27T09:56:56.759Z"
   },
   {
    "duration": 11,
    "start_time": "2023-04-27T09:57:02.276Z"
   },
   {
    "duration": 3,
    "start_time": "2023-04-27T09:57:02.612Z"
   },
   {
    "duration": 6,
    "start_time": "2023-04-27T09:57:02.877Z"
   },
   {
    "duration": 12,
    "start_time": "2023-04-27T09:57:05.738Z"
   },
   {
    "duration": 4,
    "start_time": "2023-04-27T09:57:06.140Z"
   },
   {
    "duration": 5,
    "start_time": "2023-04-27T09:57:06.332Z"
   },
   {
    "duration": 12,
    "start_time": "2023-04-27T09:57:10.569Z"
   },
   {
    "duration": 4,
    "start_time": "2023-04-27T09:57:10.797Z"
   },
   {
    "duration": 6,
    "start_time": "2023-04-27T09:57:10.996Z"
   },
   {
    "duration": 12,
    "start_time": "2023-04-27T09:57:13.117Z"
   },
   {
    "duration": 3,
    "start_time": "2023-04-27T09:57:13.309Z"
   },
   {
    "duration": 5,
    "start_time": "2023-04-27T09:57:13.478Z"
   },
   {
    "duration": 11,
    "start_time": "2023-04-27T09:57:15.656Z"
   },
   {
    "duration": 4,
    "start_time": "2023-04-27T09:57:15.847Z"
   },
   {
    "duration": 6,
    "start_time": "2023-04-27T09:57:16.050Z"
   },
   {
    "duration": 103,
    "start_time": "2023-04-27T09:58:04.617Z"
   },
   {
    "duration": 99,
    "start_time": "2023-04-27T09:58:11.447Z"
   },
   {
    "duration": 114,
    "start_time": "2023-04-27T09:58:14.157Z"
   },
   {
    "duration": 119,
    "start_time": "2023-04-27T09:58:16.251Z"
   },
   {
    "duration": 85,
    "start_time": "2023-04-27T09:58:20.118Z"
   },
   {
    "duration": 96,
    "start_time": "2023-04-27T09:58:22.658Z"
   },
   {
    "duration": 55,
    "start_time": "2023-04-27T09:59:31.708Z"
   },
   {
    "duration": 91,
    "start_time": "2023-04-27T09:59:42.975Z"
   },
   {
    "duration": 22,
    "start_time": "2023-04-27T10:00:15.506Z"
   },
   {
    "duration": 38,
    "start_time": "2023-04-27T10:01:08.738Z"
   },
   {
    "duration": 18,
    "start_time": "2023-04-27T10:01:14.346Z"
   },
   {
    "duration": 23,
    "start_time": "2023-04-27T10:08:29.296Z"
   },
   {
    "duration": 112,
    "start_time": "2023-04-27T10:08:41.948Z"
   },
   {
    "duration": 21,
    "start_time": "2023-04-27T10:08:58.617Z"
   },
   {
    "duration": 49,
    "start_time": "2023-04-27T10:09:55.278Z"
   },
   {
    "duration": 44,
    "start_time": "2023-04-27T10:10:07.497Z"
   },
   {
    "duration": 13,
    "start_time": "2023-04-27T10:10:11.326Z"
   },
   {
    "duration": 73,
    "start_time": "2023-04-27T10:13:47.227Z"
   },
   {
    "duration": 67,
    "start_time": "2023-04-27T10:14:15.479Z"
   },
   {
    "duration": 67,
    "start_time": "2023-04-27T10:14:28.548Z"
   },
   {
    "duration": 81,
    "start_time": "2023-04-27T10:14:52.714Z"
   },
   {
    "duration": 69,
    "start_time": "2023-04-27T10:15:17.627Z"
   },
   {
    "duration": 87,
    "start_time": "2023-04-27T10:15:44.837Z"
   },
   {
    "duration": 54,
    "start_time": "2023-04-27T10:17:09.873Z"
   },
   {
    "duration": 105,
    "start_time": "2023-04-27T10:17:43.721Z"
   },
   {
    "duration": 150,
    "start_time": "2023-04-27T10:18:41.225Z"
   },
   {
    "duration": 115,
    "start_time": "2023-04-27T10:19:18.100Z"
   },
   {
    "duration": 198,
    "start_time": "2023-04-27T10:20:25.712Z"
   },
   {
    "duration": 117,
    "start_time": "2023-04-27T10:20:26.457Z"
   },
   {
    "duration": 99,
    "start_time": "2023-04-27T10:20:36.435Z"
   },
   {
    "duration": 124,
    "start_time": "2023-04-27T10:20:37.347Z"
   },
   {
    "duration": 144,
    "start_time": "2023-04-27T10:20:50.311Z"
   },
   {
    "duration": 120,
    "start_time": "2023-04-27T10:23:33.348Z"
   },
   {
    "duration": 121,
    "start_time": "2023-04-27T10:23:46.336Z"
   },
   {
    "duration": 212,
    "start_time": "2023-04-27T10:27:35.455Z"
   },
   {
    "duration": 112,
    "start_time": "2023-04-27T10:28:00.174Z"
   },
   {
    "duration": 120,
    "start_time": "2023-04-27T10:28:03.715Z"
   },
   {
    "duration": 206,
    "start_time": "2023-04-27T10:28:07.647Z"
   },
   {
    "duration": 12,
    "start_time": "2023-04-27T10:40:39.250Z"
   },
   {
    "duration": 164954,
    "start_time": "2023-04-27T10:40:50.090Z"
   },
   {
    "duration": 263388,
    "start_time": "2023-04-27T10:43:50.393Z"
   },
   {
    "duration": 4,
    "start_time": "2023-04-27T10:49:02.134Z"
   },
   {
    "duration": 85,
    "start_time": "2023-04-27T10:51:55.538Z"
   },
   {
    "duration": 85,
    "start_time": "2023-04-27T10:52:14.529Z"
   },
   {
    "duration": 83,
    "start_time": "2023-04-27T10:53:15.703Z"
   },
   {
    "duration": 60,
    "start_time": "2023-04-27T10:55:23.210Z"
   },
   {
    "duration": 88,
    "start_time": "2023-04-27T10:55:47.910Z"
   },
   {
    "duration": 11,
    "start_time": "2023-04-27T10:56:09.149Z"
   },
   {
    "duration": 162,
    "start_time": "2023-04-27T10:56:19.452Z"
   },
   {
    "duration": 147,
    "start_time": "2023-04-27T10:56:44.738Z"
   },
   {
    "duration": 155,
    "start_time": "2023-04-27T10:57:09.299Z"
   },
   {
    "duration": 19,
    "start_time": "2023-04-27T11:02:00.932Z"
   },
   {
    "duration": 4,
    "start_time": "2023-04-27T11:03:53.019Z"
   },
   {
    "duration": 4,
    "start_time": "2023-04-27T11:03:53.239Z"
   },
   {
    "duration": 4,
    "start_time": "2023-04-27T11:03:53.449Z"
   },
   {
    "duration": 11,
    "start_time": "2023-04-27T11:03:59.338Z"
   },
   {
    "duration": 14,
    "start_time": "2023-04-27T11:04:15.659Z"
   },
   {
    "duration": 12,
    "start_time": "2023-04-27T11:04:24.980Z"
   },
   {
    "duration": 10,
    "start_time": "2023-04-27T11:04:57.659Z"
   },
   {
    "duration": 4,
    "start_time": "2023-04-27T11:05:10.998Z"
   },
   {
    "duration": 10,
    "start_time": "2023-04-27T11:05:21.148Z"
   },
   {
    "duration": 11,
    "start_time": "2023-04-27T11:05:23.267Z"
   },
   {
    "duration": 5,
    "start_time": "2023-04-27T11:05:23.502Z"
   },
   {
    "duration": 4,
    "start_time": "2023-04-27T11:05:27.108Z"
   },
   {
    "duration": 82,
    "start_time": "2023-04-27T11:05:34.979Z"
   },
   {
    "duration": 10,
    "start_time": "2023-04-27T11:05:38.259Z"
   },
   {
    "duration": 4,
    "start_time": "2023-04-27T11:05:39.509Z"
   },
   {
    "duration": 4,
    "start_time": "2023-04-27T11:05:39.940Z"
   },
   {
    "duration": 151,
    "start_time": "2023-04-27T11:05:49.280Z"
   },
   {
    "duration": 35682,
    "start_time": "2023-04-27T11:07:32.964Z"
   },
   {
    "duration": 4,
    "start_time": "2023-04-27T11:08:42.025Z"
   },
   {
    "duration": 4,
    "start_time": "2023-04-27T11:09:39.227Z"
   },
   {
    "duration": 17,
    "start_time": "2023-04-27T11:09:43.202Z"
   },
   {
    "duration": 20,
    "start_time": "2023-04-27T11:12:42.720Z"
   },
   {
    "duration": 43,
    "start_time": "2023-04-27T11:12:58.110Z"
   },
   {
    "duration": 39142,
    "start_time": "2023-04-27T11:14:51.419Z"
   },
   {
    "duration": 5,
    "start_time": "2023-04-27T11:15:51.089Z"
   },
   {
    "duration": 3,
    "start_time": "2023-04-27T11:19:17.385Z"
   },
   {
    "duration": 1385,
    "start_time": "2023-04-27T11:19:27.859Z"
   },
   {
    "duration": 41,
    "start_time": "2023-04-27T11:19:29.246Z"
   },
   {
    "duration": 15,
    "start_time": "2023-04-27T11:19:29.289Z"
   },
   {
    "duration": 4,
    "start_time": "2023-04-27T11:19:29.305Z"
   },
   {
    "duration": 4,
    "start_time": "2023-04-27T11:19:29.311Z"
   },
   {
    "duration": 16,
    "start_time": "2023-04-27T11:19:29.316Z"
   },
   {
    "duration": 1543,
    "start_time": "2023-04-27T11:19:29.333Z"
   },
   {
    "duration": 12,
    "start_time": "2023-04-27T11:19:30.879Z"
   },
   {
    "duration": 57,
    "start_time": "2023-04-27T11:19:30.893Z"
   },
   {
    "duration": 48,
    "start_time": "2023-04-27T11:19:30.952Z"
   },
   {
    "duration": 67,
    "start_time": "2023-04-27T11:19:31.002Z"
   },
   {
    "duration": 80,
    "start_time": "2023-04-27T11:19:31.071Z"
   },
   {
    "duration": 38,
    "start_time": "2023-04-27T11:19:31.152Z"
   },
   {
    "duration": 54,
    "start_time": "2023-04-27T11:19:31.193Z"
   },
   {
    "duration": 37,
    "start_time": "2023-04-27T11:19:31.249Z"
   },
   {
    "duration": 52,
    "start_time": "2023-04-27T11:19:31.288Z"
   },
   {
    "duration": 43,
    "start_time": "2023-04-27T11:19:31.342Z"
   },
   {
    "duration": 73,
    "start_time": "2023-04-27T11:19:31.387Z"
   },
   {
    "duration": 53,
    "start_time": "2023-04-27T11:19:31.462Z"
   },
   {
    "duration": 40,
    "start_time": "2023-04-27T11:19:31.517Z"
   },
   {
    "duration": 50,
    "start_time": "2023-04-27T11:19:31.559Z"
   },
   {
    "duration": 49,
    "start_time": "2023-04-27T11:19:31.611Z"
   },
   {
    "duration": 26,
    "start_time": "2023-04-27T11:19:31.662Z"
   },
   {
    "duration": 891,
    "start_time": "2023-04-27T11:19:31.690Z"
   },
   {
    "duration": 8,
    "start_time": "2023-04-27T11:19:32.582Z"
   },
   {
    "duration": 120,
    "start_time": "2023-04-27T11:20:10.123Z"
   },
   {
    "duration": 628,
    "start_time": "2023-04-27T11:20:23.556Z"
   },
   {
    "duration": 11,
    "start_time": "2023-04-27T11:20:34.256Z"
   },
   {
    "duration": 10,
    "start_time": "2023-04-27T11:20:36.860Z"
   },
   {
    "duration": 14,
    "start_time": "2023-04-27T11:20:54.188Z"
   },
   {
    "duration": 401,
    "start_time": "2023-04-27T11:21:45.457Z"
   },
   {
    "duration": 12,
    "start_time": "2023-04-27T11:21:57.357Z"
   },
   {
    "duration": 10,
    "start_time": "2023-04-27T11:22:16.619Z"
   },
   {
    "duration": 47,
    "start_time": "2023-04-27T11:22:19.078Z"
   },
   {
    "duration": 10,
    "start_time": "2023-04-27T11:22:20.830Z"
   },
   {
    "duration": 11,
    "start_time": "2023-04-27T11:22:29.386Z"
   },
   {
    "duration": 6,
    "start_time": "2023-04-27T11:22:39.833Z"
   },
   {
    "duration": 7,
    "start_time": "2023-04-27T11:22:44.489Z"
   },
   {
    "duration": 6,
    "start_time": "2023-04-27T11:23:03.849Z"
   },
   {
    "duration": 1438,
    "start_time": "2023-04-27T11:23:15.014Z"
   },
   {
    "duration": 43,
    "start_time": "2023-04-27T11:23:16.454Z"
   },
   {
    "duration": 17,
    "start_time": "2023-04-27T11:23:16.499Z"
   },
   {
    "duration": 5,
    "start_time": "2023-04-27T11:23:16.518Z"
   },
   {
    "duration": 4,
    "start_time": "2023-04-27T11:23:16.526Z"
   },
   {
    "duration": 16,
    "start_time": "2023-04-27T11:23:16.532Z"
   },
   {
    "duration": 1496,
    "start_time": "2023-04-27T11:23:16.550Z"
   },
   {
    "duration": 12,
    "start_time": "2023-04-27T11:23:18.048Z"
   },
   {
    "duration": 5,
    "start_time": "2023-04-27T11:23:18.061Z"
   },
   {
    "duration": 10,
    "start_time": "2023-04-27T11:23:18.067Z"
   },
   {
    "duration": 9,
    "start_time": "2023-04-27T11:23:18.079Z"
   },
   {
    "duration": 15,
    "start_time": "2023-04-27T11:23:18.090Z"
   },
   {
    "duration": 18,
    "start_time": "2023-04-27T11:23:18.106Z"
   },
   {
    "duration": 4,
    "start_time": "2023-04-27T11:23:18.128Z"
   },
   {
    "duration": 6,
    "start_time": "2023-04-27T11:23:18.133Z"
   },
   {
    "duration": 33,
    "start_time": "2023-04-27T11:23:18.140Z"
   },
   {
    "duration": 3,
    "start_time": "2023-04-27T11:23:18.174Z"
   },
   {
    "duration": 26,
    "start_time": "2023-04-27T11:23:18.178Z"
   },
   {
    "duration": 12,
    "start_time": "2023-04-27T11:23:18.206Z"
   },
   {
    "duration": 12,
    "start_time": "2023-04-27T11:23:18.220Z"
   },
   {
    "duration": 3,
    "start_time": "2023-04-27T11:23:18.234Z"
   },
   {
    "duration": 24,
    "start_time": "2023-04-27T11:23:18.238Z"
   },
   {
    "duration": 10,
    "start_time": "2023-04-27T11:23:18.264Z"
   },
   {
    "duration": 866,
    "start_time": "2023-04-27T11:23:18.275Z"
   },
   {
    "duration": 8,
    "start_time": "2023-04-27T11:23:19.143Z"
   },
   {
    "duration": 1006,
    "start_time": "2023-04-27T11:23:19.153Z"
   },
   {
    "duration": 5,
    "start_time": "2023-04-27T11:23:20.161Z"
   },
   {
    "duration": 26,
    "start_time": "2023-04-27T11:23:20.168Z"
   },
   {
    "duration": 11,
    "start_time": "2023-04-27T11:23:20.195Z"
   },
   {
    "duration": 108,
    "start_time": "2023-04-27T11:23:20.208Z"
   },
   {
    "duration": 210094,
    "start_time": "2023-04-27T11:23:20.317Z"
   },
   {
    "duration": 3,
    "start_time": "2023-04-27T11:26:50.413Z"
   },
   {
    "duration": 56,
    "start_time": "2023-04-27T11:26:50.418Z"
   },
   {
    "duration": 40,
    "start_time": "2023-04-27T11:26:50.476Z"
   },
   {
    "duration": 33952,
    "start_time": "2023-04-27T11:26:50.518Z"
   },
   {
    "duration": 4,
    "start_time": "2023-04-27T11:27:24.472Z"
   },
   {
    "duration": 19,
    "start_time": "2023-04-27T11:27:24.477Z"
   },
   {
    "duration": 63,
    "start_time": "2023-04-27T11:27:24.498Z"
   },
   {
    "duration": 228496,
    "start_time": "2023-04-27T11:27:24.563Z"
   },
   {
    "duration": 5,
    "start_time": "2023-04-27T11:31:13.062Z"
   },
   {
    "duration": 113,
    "start_time": "2023-04-27T11:31:13.072Z"
   },
   {
    "duration": 101,
    "start_time": "2023-04-27T11:31:13.258Z"
   },
   {
    "duration": 3,
    "start_time": "2023-04-27T11:31:13.361Z"
   },
   {
    "duration": 6,
    "start_time": "2023-04-27T11:31:13.366Z"
   },
   {
    "duration": 246,
    "start_time": "2023-04-27T11:31:13.374Z"
   },
   {
    "duration": 41,
    "start_time": "2023-04-27T11:31:13.622Z"
   },
   {
    "duration": 95,
    "start_time": "2023-04-27T11:31:13.665Z"
   },
   {
    "duration": 96,
    "start_time": "2023-04-27T11:31:13.774Z"
   },
   {
    "duration": 19,
    "start_time": "2023-04-27T11:31:13.872Z"
   },
   {
    "duration": 22,
    "start_time": "2023-04-27T11:31:13.892Z"
   },
   {
    "duration": 119,
    "start_time": "2023-04-27T11:31:13.916Z"
   },
   {
    "duration": 41,
    "start_time": "2023-04-27T11:31:14.037Z"
   },
   {
    "duration": 21,
    "start_time": "2023-04-27T11:31:14.080Z"
   },
   {
    "duration": 126,
    "start_time": "2023-04-27T11:31:14.161Z"
   },
   {
    "duration": 217,
    "start_time": "2023-04-27T11:31:14.359Z"
   },
   {
    "duration": 279857,
    "start_time": "2023-04-27T11:31:14.578Z"
   },
   {
    "duration": 5,
    "start_time": "2023-04-27T11:35:54.437Z"
   },
   {
    "duration": 103,
    "start_time": "2023-04-27T11:35:54.444Z"
   },
   {
    "duration": 168,
    "start_time": "2023-04-27T11:35:54.549Z"
   },
   {
    "duration": 11,
    "start_time": "2023-04-27T11:35:54.719Z"
   },
   {
    "duration": 5,
    "start_time": "2023-04-27T11:35:54.732Z"
   },
   {
    "duration": 5,
    "start_time": "2023-04-27T11:35:54.758Z"
   },
   {
    "duration": 34523,
    "start_time": "2023-04-27T11:35:54.765Z"
   },
   {
    "duration": 4,
    "start_time": "2023-04-27T11:36:29.289Z"
   },
   {
    "duration": 28,
    "start_time": "2023-04-27T11:36:29.294Z"
   },
   {
    "duration": 43747,
    "start_time": "2023-04-27T11:36:29.324Z"
   },
   {
    "duration": 64,
    "start_time": "2023-04-27T11:37:13.076Z"
   },
   {
    "duration": 18,
    "start_time": "2023-04-27T11:37:13.159Z"
   },
   {
    "duration": 87,
    "start_time": "2023-04-27T11:37:13.179Z"
   },
   {
    "duration": 29,
    "start_time": "2023-04-27T11:38:08.828Z"
   },
   {
    "duration": 70,
    "start_time": "2023-04-27T11:39:19.211Z"
   },
   {
    "duration": 82,
    "start_time": "2023-04-27T11:39:24.224Z"
   },
   {
    "duration": 112,
    "start_time": "2023-04-27T11:39:27.048Z"
   },
   {
    "duration": 85,
    "start_time": "2023-04-27T11:39:36.084Z"
   },
   {
    "duration": 85,
    "start_time": "2023-04-27T11:39:44.068Z"
   },
   {
    "duration": 160,
    "start_time": "2023-04-27T11:39:45.428Z"
   },
   {
    "duration": 13,
    "start_time": "2023-04-27T11:39:51.842Z"
   },
   {
    "duration": 4,
    "start_time": "2023-04-27T11:39:52.804Z"
   },
   {
    "duration": 4,
    "start_time": "2023-04-27T11:39:53.478Z"
   },
   {
    "duration": 82,
    "start_time": "2023-04-27T11:40:17.445Z"
   },
   {
    "duration": 158,
    "start_time": "2023-04-27T11:40:34.128Z"
   },
   {
    "duration": 12,
    "start_time": "2023-04-27T11:40:43.948Z"
   },
   {
    "duration": 4,
    "start_time": "2023-04-27T11:40:44.738Z"
   },
   {
    "duration": 4,
    "start_time": "2023-04-27T11:40:45.228Z"
   },
   {
    "duration": 324,
    "start_time": "2023-04-27T11:42:38.753Z"
   },
   {
    "duration": 20,
    "start_time": "2023-04-27T11:42:43.320Z"
   },
   {
    "duration": 5,
    "start_time": "2023-04-27T11:42:43.760Z"
   },
   {
    "duration": 4,
    "start_time": "2023-04-27T11:42:44.256Z"
   },
   {
    "duration": 261,
    "start_time": "2023-04-27T11:43:04.969Z"
   },
   {
    "duration": 18,
    "start_time": "2023-04-27T11:43:10.354Z"
   },
   {
    "duration": 4,
    "start_time": "2023-04-27T11:43:10.737Z"
   },
   {
    "duration": 4,
    "start_time": "2023-04-27T11:43:11.131Z"
   },
   {
    "duration": 247,
    "start_time": "2023-04-27T11:43:18.302Z"
   },
   {
    "duration": 18,
    "start_time": "2023-04-27T11:43:26.649Z"
   },
   {
    "duration": 4,
    "start_time": "2023-04-27T11:43:26.864Z"
   },
   {
    "duration": 5,
    "start_time": "2023-04-27T11:43:27.299Z"
   },
   {
    "duration": 254,
    "start_time": "2023-04-27T11:43:33.941Z"
   },
   {
    "duration": 17,
    "start_time": "2023-04-27T11:43:36.667Z"
   },
   {
    "duration": 5,
    "start_time": "2023-04-27T11:43:37.198Z"
   },
   {
    "duration": 4,
    "start_time": "2023-04-27T11:43:37.682Z"
   },
   {
    "duration": 343,
    "start_time": "2023-04-27T11:43:50.041Z"
   },
   {
    "duration": 18,
    "start_time": "2023-04-27T11:43:52.898Z"
   },
   {
    "duration": 4,
    "start_time": "2023-04-27T11:43:53.099Z"
   },
   {
    "duration": 5,
    "start_time": "2023-04-27T11:43:53.560Z"
   },
   {
    "duration": 324,
    "start_time": "2023-04-27T11:44:04.579Z"
   },
   {
    "duration": 17,
    "start_time": "2023-04-27T11:44:06.923Z"
   },
   {
    "duration": 4,
    "start_time": "2023-04-27T11:44:07.103Z"
   },
   {
    "duration": 4,
    "start_time": "2023-04-27T11:44:07.532Z"
   },
   {
    "duration": 315,
    "start_time": "2023-04-27T11:44:55.884Z"
   },
   {
    "duration": 21,
    "start_time": "2023-04-27T11:45:03.178Z"
   },
   {
    "duration": 5,
    "start_time": "2023-04-27T11:45:03.378Z"
   },
   {
    "duration": 4,
    "start_time": "2023-04-27T11:45:03.938Z"
   },
   {
    "duration": 43,
    "start_time": "2023-04-27T11:46:33.117Z"
   },
   {
    "duration": 173,
    "start_time": "2023-04-27T11:46:34.074Z"
   },
   {
    "duration": 10,
    "start_time": "2023-04-27T11:46:44.107Z"
   },
   {
    "duration": 4,
    "start_time": "2023-04-27T11:46:45.412Z"
   },
   {
    "duration": 4,
    "start_time": "2023-04-27T11:46:46.244Z"
   },
   {
    "duration": 73,
    "start_time": "2023-04-27T11:47:13.757Z"
   },
   {
    "duration": 157,
    "start_time": "2023-04-27T11:47:15.130Z"
   },
   {
    "duration": 10,
    "start_time": "2023-04-27T11:47:18.033Z"
   },
   {
    "duration": 4,
    "start_time": "2023-04-27T11:47:18.459Z"
   },
   {
    "duration": 3,
    "start_time": "2023-04-27T11:47:18.917Z"
   },
   {
    "duration": 271598,
    "start_time": "2023-04-27T11:48:38.878Z"
   },
   {
    "duration": 5,
    "start_time": "2023-04-27T11:53:27.027Z"
   },
   {
    "duration": 98,
    "start_time": "2023-04-27T11:53:38.528Z"
   },
   {
    "duration": 10,
    "start_time": "2023-04-27T11:53:48.619Z"
   },
   {
    "duration": 4,
    "start_time": "2023-04-27T11:53:48.817Z"
   },
   {
    "duration": 4,
    "start_time": "2023-04-27T11:53:49.318Z"
   },
   {
    "duration": 1401,
    "start_time": "2023-04-27T11:55:40.667Z"
   },
   {
    "duration": 53,
    "start_time": "2023-04-27T11:55:42.070Z"
   },
   {
    "duration": 17,
    "start_time": "2023-04-27T11:55:42.124Z"
   },
   {
    "duration": 6,
    "start_time": "2023-04-27T11:55:42.142Z"
   },
   {
    "duration": 4,
    "start_time": "2023-04-27T11:55:42.151Z"
   },
   {
    "duration": 15,
    "start_time": "2023-04-27T11:55:42.156Z"
   },
   {
    "duration": 1507,
    "start_time": "2023-04-27T11:55:42.172Z"
   },
   {
    "duration": 10,
    "start_time": "2023-04-27T11:55:43.681Z"
   },
   {
    "duration": 6,
    "start_time": "2023-04-27T11:55:43.692Z"
   },
   {
    "duration": 7,
    "start_time": "2023-04-27T11:55:43.700Z"
   },
   {
    "duration": 10,
    "start_time": "2023-04-27T11:55:43.709Z"
   },
   {
    "duration": 18,
    "start_time": "2023-04-27T11:55:43.721Z"
   },
   {
    "duration": 13,
    "start_time": "2023-04-27T11:55:43.762Z"
   },
   {
    "duration": 6,
    "start_time": "2023-04-27T11:55:43.778Z"
   },
   {
    "duration": 16,
    "start_time": "2023-04-27T11:55:43.786Z"
   },
   {
    "duration": 34,
    "start_time": "2023-04-27T11:55:43.804Z"
   },
   {
    "duration": 21,
    "start_time": "2023-04-27T11:55:43.839Z"
   },
   {
    "duration": 35,
    "start_time": "2023-04-27T11:55:43.863Z"
   },
   {
    "duration": 6,
    "start_time": "2023-04-27T11:55:43.899Z"
   },
   {
    "duration": 18,
    "start_time": "2023-04-27T11:55:43.907Z"
   },
   {
    "duration": 6,
    "start_time": "2023-04-27T11:55:43.927Z"
   },
   {
    "duration": 29,
    "start_time": "2023-04-27T11:55:43.935Z"
   },
   {
    "duration": 10,
    "start_time": "2023-04-27T11:55:43.966Z"
   },
   {
    "duration": 927,
    "start_time": "2023-04-27T11:55:43.978Z"
   },
   {
    "duration": 8,
    "start_time": "2023-04-27T11:55:44.907Z"
   },
   {
    "duration": 1044,
    "start_time": "2023-04-27T11:55:44.917Z"
   },
   {
    "duration": 98,
    "start_time": "2023-04-27T11:55:45.964Z"
   },
   {
    "duration": 27,
    "start_time": "2023-04-27T11:55:49.820Z"
   },
   {
    "duration": 6,
    "start_time": "2023-04-27T11:55:55.203Z"
   },
   {
    "duration": 6,
    "start_time": "2023-04-27T11:56:03.503Z"
   },
   {
    "duration": 6,
    "start_time": "2023-04-27T11:56:04.447Z"
   },
   {
    "duration": 8,
    "start_time": "2023-04-27T11:56:17.477Z"
   },
   {
    "duration": 6,
    "start_time": "2023-04-27T11:56:21.368Z"
   },
   {
    "duration": 8,
    "start_time": "2023-04-27T11:56:43.457Z"
   },
   {
    "duration": 8,
    "start_time": "2023-04-27T11:56:46.336Z"
   },
   {
    "duration": 21,
    "start_time": "2023-04-27T11:56:48.614Z"
   },
   {
    "duration": 19,
    "start_time": "2023-04-27T11:57:32.155Z"
   },
   {
    "duration": 20,
    "start_time": "2023-04-27T11:57:50.310Z"
   },
   {
    "duration": 6,
    "start_time": "2023-04-27T11:57:55.127Z"
   },
   {
    "duration": 7,
    "start_time": "2023-04-27T11:57:56.643Z"
   },
   {
    "duration": 6,
    "start_time": "2023-04-27T11:58:04.999Z"
   },
   {
    "duration": 5,
    "start_time": "2023-04-27T11:58:05.543Z"
   },
   {
    "duration": 1423,
    "start_time": "2023-04-27T11:58:40.145Z"
   },
   {
    "duration": 43,
    "start_time": "2023-04-27T11:58:41.570Z"
   },
   {
    "duration": 18,
    "start_time": "2023-04-27T11:58:41.615Z"
   },
   {
    "duration": 7,
    "start_time": "2023-04-27T11:58:41.634Z"
   },
   {
    "duration": 10,
    "start_time": "2023-04-27T11:58:41.643Z"
   },
   {
    "duration": 16,
    "start_time": "2023-04-27T11:58:41.654Z"
   },
   {
    "duration": 1459,
    "start_time": "2023-04-27T11:58:41.672Z"
   },
   {
    "duration": 10,
    "start_time": "2023-04-27T11:58:43.133Z"
   },
   {
    "duration": 16,
    "start_time": "2023-04-27T11:58:43.145Z"
   },
   {
    "duration": 18,
    "start_time": "2023-04-27T11:58:43.163Z"
   },
   {
    "duration": 17,
    "start_time": "2023-04-27T11:58:43.183Z"
   },
   {
    "duration": 26,
    "start_time": "2023-04-27T11:58:43.202Z"
   },
   {
    "duration": 9,
    "start_time": "2023-04-27T11:58:43.229Z"
   },
   {
    "duration": 4,
    "start_time": "2023-04-27T11:58:43.242Z"
   },
   {
    "duration": 6,
    "start_time": "2023-04-27T11:58:43.248Z"
   },
   {
    "duration": 20,
    "start_time": "2023-04-27T11:58:43.256Z"
   },
   {
    "duration": 4,
    "start_time": "2023-04-27T11:58:43.277Z"
   },
   {
    "duration": 21,
    "start_time": "2023-04-27T11:58:43.283Z"
   },
   {
    "duration": 14,
    "start_time": "2023-04-27T11:58:43.306Z"
   },
   {
    "duration": 10,
    "start_time": "2023-04-27T11:58:43.321Z"
   },
   {
    "duration": 7,
    "start_time": "2023-04-27T11:58:43.333Z"
   },
   {
    "duration": 25,
    "start_time": "2023-04-27T11:58:43.341Z"
   },
   {
    "duration": 11,
    "start_time": "2023-04-27T11:58:43.368Z"
   },
   {
    "duration": 900,
    "start_time": "2023-04-27T11:58:43.381Z"
   },
   {
    "duration": 9,
    "start_time": "2023-04-27T11:58:44.284Z"
   },
   {
    "duration": 865,
    "start_time": "2023-04-27T11:58:44.294Z"
   },
   {
    "duration": 7,
    "start_time": "2023-04-27T11:58:45.161Z"
   },
   {
    "duration": 6,
    "start_time": "2023-04-27T11:58:45.170Z"
   },
   {
    "duration": 36,
    "start_time": "2023-04-27T11:58:45.178Z"
   },
   {
    "duration": 11,
    "start_time": "2023-04-27T11:58:45.216Z"
   },
   {
    "duration": 118,
    "start_time": "2023-04-27T11:58:45.229Z"
   },
   {
    "duration": 67957,
    "start_time": "2023-04-27T11:58:45.349Z"
   },
   {
    "duration": 0,
    "start_time": "2023-04-27T11:59:53.308Z"
   },
   {
    "duration": 0,
    "start_time": "2023-04-27T11:59:53.310Z"
   },
   {
    "duration": 0,
    "start_time": "2023-04-27T11:59:53.311Z"
   },
   {
    "duration": 0,
    "start_time": "2023-04-27T11:59:53.312Z"
   },
   {
    "duration": 0,
    "start_time": "2023-04-27T11:59:53.313Z"
   },
   {
    "duration": 0,
    "start_time": "2023-04-27T11:59:53.314Z"
   },
   {
    "duration": 0,
    "start_time": "2023-04-27T11:59:53.315Z"
   },
   {
    "duration": 0,
    "start_time": "2023-04-27T11:59:53.316Z"
   },
   {
    "duration": 0,
    "start_time": "2023-04-27T11:59:53.317Z"
   },
   {
    "duration": 0,
    "start_time": "2023-04-27T11:59:53.318Z"
   },
   {
    "duration": 0,
    "start_time": "2023-04-27T11:59:53.319Z"
   },
   {
    "duration": 0,
    "start_time": "2023-04-27T11:59:53.320Z"
   },
   {
    "duration": 0,
    "start_time": "2023-04-27T11:59:53.321Z"
   },
   {
    "duration": 0,
    "start_time": "2023-04-27T11:59:53.323Z"
   },
   {
    "duration": 0,
    "start_time": "2023-04-27T11:59:53.324Z"
   },
   {
    "duration": 0,
    "start_time": "2023-04-27T11:59:53.325Z"
   },
   {
    "duration": 0,
    "start_time": "2023-04-27T11:59:53.326Z"
   },
   {
    "duration": 0,
    "start_time": "2023-04-27T11:59:53.360Z"
   },
   {
    "duration": 0,
    "start_time": "2023-04-27T11:59:53.361Z"
   },
   {
    "duration": 0,
    "start_time": "2023-04-27T11:59:53.362Z"
   },
   {
    "duration": 0,
    "start_time": "2023-04-27T11:59:53.364Z"
   },
   {
    "duration": 0,
    "start_time": "2023-04-27T11:59:53.365Z"
   },
   {
    "duration": 0,
    "start_time": "2023-04-27T11:59:53.366Z"
   },
   {
    "duration": 0,
    "start_time": "2023-04-27T11:59:53.367Z"
   },
   {
    "duration": 0,
    "start_time": "2023-04-27T11:59:53.368Z"
   },
   {
    "duration": 0,
    "start_time": "2023-04-27T11:59:53.369Z"
   },
   {
    "duration": 0,
    "start_time": "2023-04-27T11:59:53.370Z"
   },
   {
    "duration": 0,
    "start_time": "2023-04-27T11:59:53.372Z"
   },
   {
    "duration": 0,
    "start_time": "2023-04-27T11:59:53.373Z"
   },
   {
    "duration": 0,
    "start_time": "2023-04-27T11:59:53.374Z"
   },
   {
    "duration": 0,
    "start_time": "2023-04-27T11:59:53.375Z"
   },
   {
    "duration": 0,
    "start_time": "2023-04-27T11:59:53.376Z"
   },
   {
    "duration": 0,
    "start_time": "2023-04-27T11:59:53.377Z"
   },
   {
    "duration": 0,
    "start_time": "2023-04-27T11:59:53.378Z"
   },
   {
    "duration": 0,
    "start_time": "2023-04-27T11:59:53.379Z"
   },
   {
    "duration": 1500,
    "start_time": "2023-04-27T16:48:50.307Z"
   },
   {
    "duration": 365,
    "start_time": "2023-04-27T16:48:51.809Z"
   },
   {
    "duration": 19,
    "start_time": "2023-04-27T16:48:52.176Z"
   },
   {
    "duration": 4,
    "start_time": "2023-04-27T16:48:52.197Z"
   },
   {
    "duration": 22,
    "start_time": "2023-04-27T16:48:52.203Z"
   },
   {
    "duration": 25,
    "start_time": "2023-04-27T16:48:52.227Z"
   },
   {
    "duration": 1515,
    "start_time": "2023-04-27T16:48:52.253Z"
   },
   {
    "duration": 23,
    "start_time": "2023-04-27T16:48:53.770Z"
   },
   {
    "duration": 5,
    "start_time": "2023-04-27T16:48:53.795Z"
   },
   {
    "duration": 5,
    "start_time": "2023-04-27T16:48:53.802Z"
   },
   {
    "duration": 9,
    "start_time": "2023-04-27T16:48:53.809Z"
   },
   {
    "duration": 10,
    "start_time": "2023-04-27T16:48:53.820Z"
   },
   {
    "duration": 11,
    "start_time": "2023-04-27T16:48:53.831Z"
   },
   {
    "duration": 5,
    "start_time": "2023-04-27T16:48:53.845Z"
   },
   {
    "duration": 40,
    "start_time": "2023-04-27T16:48:53.852Z"
   },
   {
    "duration": 20,
    "start_time": "2023-04-27T16:48:53.894Z"
   },
   {
    "duration": 2,
    "start_time": "2023-04-27T16:48:53.916Z"
   },
   {
    "duration": 16,
    "start_time": "2023-04-27T16:48:53.920Z"
   },
   {
    "duration": 6,
    "start_time": "2023-04-27T16:48:53.938Z"
   },
   {
    "duration": 11,
    "start_time": "2023-04-27T16:48:53.945Z"
   },
   {
    "duration": 35,
    "start_time": "2023-04-27T16:48:53.958Z"
   },
   {
    "duration": 9,
    "start_time": "2023-04-27T16:48:53.994Z"
   },
   {
    "duration": 11,
    "start_time": "2023-04-27T16:48:54.005Z"
   },
   {
    "duration": 980,
    "start_time": "2023-04-27T16:48:54.017Z"
   },
   {
    "duration": 8,
    "start_time": "2023-04-27T16:48:54.998Z"
   },
   {
    "duration": 692,
    "start_time": "2023-04-27T16:48:55.008Z"
   },
   {
    "duration": 92,
    "start_time": "2023-04-27T16:48:55.701Z"
   },
   {
    "duration": 117,
    "start_time": "2023-04-27T16:49:18.705Z"
   },
   {
    "duration": 9,
    "start_time": "2023-04-27T16:49:32.531Z"
   },
   {
    "duration": 1360,
    "start_time": "2023-04-27T16:50:01.445Z"
   },
   {
    "duration": 41,
    "start_time": "2023-04-27T16:50:02.807Z"
   },
   {
    "duration": 18,
    "start_time": "2023-04-27T16:50:02.850Z"
   },
   {
    "duration": 4,
    "start_time": "2023-04-27T16:50:02.870Z"
   },
   {
    "duration": 6,
    "start_time": "2023-04-27T16:50:02.876Z"
   },
   {
    "duration": 33,
    "start_time": "2023-04-27T16:50:02.883Z"
   },
   {
    "duration": 1454,
    "start_time": "2023-04-27T16:50:02.918Z"
   },
   {
    "duration": 20,
    "start_time": "2023-04-27T16:50:04.374Z"
   },
   {
    "duration": 6,
    "start_time": "2023-04-27T16:50:04.396Z"
   },
   {
    "duration": 25,
    "start_time": "2023-04-27T16:50:04.403Z"
   },
   {
    "duration": 20,
    "start_time": "2023-04-27T16:50:04.429Z"
   },
   {
    "duration": 10,
    "start_time": "2023-04-27T16:50:04.451Z"
   },
   {
    "duration": 35,
    "start_time": "2023-04-27T16:50:04.463Z"
   },
   {
    "duration": 11,
    "start_time": "2023-04-27T16:50:04.501Z"
   },
   {
    "duration": 35,
    "start_time": "2023-04-27T16:50:04.513Z"
   },
   {
    "duration": 31,
    "start_time": "2023-04-27T16:50:04.550Z"
   },
   {
    "duration": 5,
    "start_time": "2023-04-27T16:50:04.583Z"
   },
   {
    "duration": 21,
    "start_time": "2023-04-27T16:50:04.589Z"
   },
   {
    "duration": 20,
    "start_time": "2023-04-27T16:50:04.611Z"
   },
   {
    "duration": 20,
    "start_time": "2023-04-27T16:50:04.633Z"
   },
   {
    "duration": 15,
    "start_time": "2023-04-27T16:50:04.655Z"
   },
   {
    "duration": 17,
    "start_time": "2023-04-27T16:50:04.672Z"
   },
   {
    "duration": 23,
    "start_time": "2023-04-27T16:50:04.690Z"
   },
   {
    "duration": 862,
    "start_time": "2023-04-27T16:50:04.714Z"
   },
   {
    "duration": 9,
    "start_time": "2023-04-27T16:50:05.578Z"
   },
   {
    "duration": 8,
    "start_time": "2023-04-27T16:50:19.492Z"
   },
   {
    "duration": 113,
    "start_time": "2023-04-27T16:50:44.925Z"
   },
   {
    "duration": 8,
    "start_time": "2023-04-27T16:53:13.116Z"
   },
   {
    "duration": 7,
    "start_time": "2023-04-27T16:53:20.215Z"
   },
   {
    "duration": 8,
    "start_time": "2023-04-27T16:53:24.445Z"
   },
   {
    "duration": 18,
    "start_time": "2023-04-27T16:53:57.764Z"
   },
   {
    "duration": 5,
    "start_time": "2023-04-27T16:54:01.836Z"
   },
   {
    "duration": 6,
    "start_time": "2023-04-27T16:54:03.716Z"
   },
   {
    "duration": 11,
    "start_time": "2023-04-27T16:54:08.854Z"
   },
   {
    "duration": 13,
    "start_time": "2023-04-27T16:57:03.007Z"
   },
   {
    "duration": 622,
    "start_time": "2023-04-27T16:57:09.088Z"
   },
   {
    "duration": 6,
    "start_time": "2023-04-27T17:00:48.525Z"
   },
   {
    "duration": 8,
    "start_time": "2023-04-27T17:00:55.876Z"
   },
   {
    "duration": 1477,
    "start_time": "2023-04-27T17:01:24.312Z"
   },
   {
    "duration": 41,
    "start_time": "2023-04-27T17:01:25.797Z"
   },
   {
    "duration": 18,
    "start_time": "2023-04-27T17:01:25.840Z"
   },
   {
    "duration": 4,
    "start_time": "2023-04-27T17:01:25.860Z"
   },
   {
    "duration": 4,
    "start_time": "2023-04-27T17:01:25.866Z"
   },
   {
    "duration": 15,
    "start_time": "2023-04-27T17:01:25.871Z"
   },
   {
    "duration": 1510,
    "start_time": "2023-04-27T17:01:25.888Z"
   },
   {
    "duration": 9,
    "start_time": "2023-04-27T17:01:27.404Z"
   },
   {
    "duration": 5,
    "start_time": "2023-04-27T17:01:27.415Z"
   },
   {
    "duration": 9,
    "start_time": "2023-04-27T17:01:27.422Z"
   },
   {
    "duration": 7,
    "start_time": "2023-04-27T17:01:27.432Z"
   },
   {
    "duration": 11,
    "start_time": "2023-04-27T17:01:27.441Z"
   },
   {
    "duration": 9,
    "start_time": "2023-04-27T17:01:27.453Z"
   },
   {
    "duration": 4,
    "start_time": "2023-04-27T17:01:27.464Z"
   },
   {
    "duration": 24,
    "start_time": "2023-04-27T17:01:27.469Z"
   },
   {
    "duration": 24,
    "start_time": "2023-04-27T17:01:27.495Z"
   },
   {
    "duration": 4,
    "start_time": "2023-04-27T17:01:27.521Z"
   },
   {
    "duration": 18,
    "start_time": "2023-04-27T17:01:27.526Z"
   },
   {
    "duration": 11,
    "start_time": "2023-04-27T17:01:27.546Z"
   },
   {
    "duration": 36,
    "start_time": "2023-04-27T17:01:27.559Z"
   },
   {
    "duration": 10,
    "start_time": "2023-04-27T17:01:27.598Z"
   },
   {
    "duration": 14,
    "start_time": "2023-04-27T17:01:27.610Z"
   },
   {
    "duration": 13,
    "start_time": "2023-04-27T17:01:27.626Z"
   },
   {
    "duration": 960,
    "start_time": "2023-04-27T17:01:27.641Z"
   },
   {
    "duration": 9,
    "start_time": "2023-04-27T17:01:28.603Z"
   },
   {
    "duration": 9,
    "start_time": "2023-04-27T17:01:30.862Z"
   },
   {
    "duration": 6,
    "start_time": "2023-04-27T17:01:46.704Z"
   },
   {
    "duration": 6,
    "start_time": "2023-04-27T17:01:51.175Z"
   },
   {
    "duration": 137,
    "start_time": "2023-04-27T17:02:02.705Z"
   },
   {
    "duration": 1362,
    "start_time": "2023-04-27T17:02:19.238Z"
   },
   {
    "duration": 41,
    "start_time": "2023-04-27T17:02:20.602Z"
   },
   {
    "duration": 15,
    "start_time": "2023-04-27T17:02:20.645Z"
   },
   {
    "duration": 6,
    "start_time": "2023-04-27T17:02:20.662Z"
   },
   {
    "duration": 9,
    "start_time": "2023-04-27T17:02:20.670Z"
   },
   {
    "duration": 18,
    "start_time": "2023-04-27T17:02:20.681Z"
   },
   {
    "duration": 1470,
    "start_time": "2023-04-27T17:02:20.701Z"
   },
   {
    "duration": 21,
    "start_time": "2023-04-27T17:02:22.173Z"
   },
   {
    "duration": 6,
    "start_time": "2023-04-27T17:02:22.196Z"
   },
   {
    "duration": 22,
    "start_time": "2023-04-27T17:02:22.204Z"
   },
   {
    "duration": 11,
    "start_time": "2023-04-27T17:02:22.228Z"
   },
   {
    "duration": 8,
    "start_time": "2023-04-27T17:02:22.241Z"
   },
   {
    "duration": 9,
    "start_time": "2023-04-27T17:02:22.251Z"
   },
   {
    "duration": 4,
    "start_time": "2023-04-27T17:02:22.263Z"
   },
   {
    "duration": 27,
    "start_time": "2023-04-27T17:02:22.268Z"
   },
   {
    "duration": 24,
    "start_time": "2023-04-27T17:02:22.297Z"
   },
   {
    "duration": 3,
    "start_time": "2023-04-27T17:02:22.323Z"
   },
   {
    "duration": 17,
    "start_time": "2023-04-27T17:02:22.328Z"
   },
   {
    "duration": 6,
    "start_time": "2023-04-27T17:02:22.347Z"
   },
   {
    "duration": 19,
    "start_time": "2023-04-27T17:02:22.354Z"
   },
   {
    "duration": 28,
    "start_time": "2023-04-27T17:02:22.375Z"
   },
   {
    "duration": 9,
    "start_time": "2023-04-27T17:02:22.405Z"
   },
   {
    "duration": 13,
    "start_time": "2023-04-27T17:02:22.416Z"
   },
   {
    "duration": 885,
    "start_time": "2023-04-27T17:02:22.431Z"
   },
   {
    "duration": 9,
    "start_time": "2023-04-27T17:02:23.319Z"
   },
   {
    "duration": 11,
    "start_time": "2023-04-27T17:02:23.330Z"
   },
   {
    "duration": 117,
    "start_time": "2023-04-27T17:12:41.736Z"
   },
   {
    "duration": 11,
    "start_time": "2023-04-27T17:13:34.647Z"
   },
   {
    "duration": 1156,
    "start_time": "2023-04-27T17:13:50.377Z"
   },
   {
    "duration": 1120,
    "start_time": "2023-04-27T17:14:00.817Z"
   },
   {
    "duration": 6,
    "start_time": "2023-04-27T17:14:06.327Z"
   },
   {
    "duration": 9,
    "start_time": "2023-04-27T17:14:13.477Z"
   },
   {
    "duration": 1473,
    "start_time": "2023-04-27T17:14:29.256Z"
   },
   {
    "duration": 42,
    "start_time": "2023-04-27T17:14:30.731Z"
   },
   {
    "duration": 19,
    "start_time": "2023-04-27T17:14:30.774Z"
   },
   {
    "duration": 20,
    "start_time": "2023-04-27T17:14:30.795Z"
   },
   {
    "duration": 30,
    "start_time": "2023-04-27T17:14:30.818Z"
   },
   {
    "duration": 53,
    "start_time": "2023-04-27T17:14:30.850Z"
   },
   {
    "duration": 1596,
    "start_time": "2023-04-27T17:14:30.905Z"
   },
   {
    "duration": 10,
    "start_time": "2023-04-27T17:14:32.503Z"
   },
   {
    "duration": 7,
    "start_time": "2023-04-27T17:14:32.515Z"
   },
   {
    "duration": 5,
    "start_time": "2023-04-27T17:14:32.524Z"
   },
   {
    "duration": 10,
    "start_time": "2023-04-27T17:14:32.531Z"
   },
   {
    "duration": 16,
    "start_time": "2023-04-27T17:14:32.543Z"
   },
   {
    "duration": 32,
    "start_time": "2023-04-27T17:14:32.561Z"
   },
   {
    "duration": 8,
    "start_time": "2023-04-27T17:14:32.596Z"
   },
   {
    "duration": 16,
    "start_time": "2023-04-27T17:14:32.607Z"
   },
   {
    "duration": 28,
    "start_time": "2023-04-27T17:14:32.624Z"
   },
   {
    "duration": 3,
    "start_time": "2023-04-27T17:14:32.654Z"
   },
   {
    "duration": 36,
    "start_time": "2023-04-27T17:14:32.659Z"
   },
   {
    "duration": 9,
    "start_time": "2023-04-27T17:14:32.702Z"
   },
   {
    "duration": 10,
    "start_time": "2023-04-27T17:14:32.712Z"
   },
   {
    "duration": 7,
    "start_time": "2023-04-27T17:14:32.724Z"
   },
   {
    "duration": 54,
    "start_time": "2023-04-27T17:14:32.733Z"
   },
   {
    "duration": 14,
    "start_time": "2023-04-27T17:14:32.789Z"
   },
   {
    "duration": 876,
    "start_time": "2023-04-27T17:14:32.805Z"
   },
   {
    "duration": 10,
    "start_time": "2023-04-27T17:14:33.682Z"
   },
   {
    "duration": 14,
    "start_time": "2023-04-27T17:14:33.694Z"
   },
   {
    "duration": 846,
    "start_time": "2023-04-27T17:19:17.887Z"
   },
   {
    "duration": 9,
    "start_time": "2023-04-27T17:19:18.735Z"
   },
   {
    "duration": 1429,
    "start_time": "2023-04-27T17:19:31.845Z"
   },
   {
    "duration": 42,
    "start_time": "2023-04-27T17:19:33.276Z"
   },
   {
    "duration": 17,
    "start_time": "2023-04-27T17:19:33.319Z"
   },
   {
    "duration": 5,
    "start_time": "2023-04-27T17:19:33.337Z"
   },
   {
    "duration": 19,
    "start_time": "2023-04-27T17:19:33.345Z"
   },
   {
    "duration": 45,
    "start_time": "2023-04-27T17:19:33.365Z"
   },
   {
    "duration": 1535,
    "start_time": "2023-04-27T17:19:33.412Z"
   },
   {
    "duration": 9,
    "start_time": "2023-04-27T17:19:34.948Z"
   },
   {
    "duration": 5,
    "start_time": "2023-04-27T17:19:34.959Z"
   },
   {
    "duration": 5,
    "start_time": "2023-04-27T17:19:34.966Z"
   },
   {
    "duration": 8,
    "start_time": "2023-04-27T17:19:34.992Z"
   },
   {
    "duration": 12,
    "start_time": "2023-04-27T17:19:35.001Z"
   },
   {
    "duration": 16,
    "start_time": "2023-04-27T17:19:35.015Z"
   },
   {
    "duration": 6,
    "start_time": "2023-04-27T17:19:35.033Z"
   },
   {
    "duration": 13,
    "start_time": "2023-04-27T17:19:35.040Z"
   },
   {
    "duration": 25,
    "start_time": "2023-04-27T17:19:35.055Z"
   },
   {
    "duration": 10,
    "start_time": "2023-04-27T17:19:35.082Z"
   },
   {
    "duration": 19,
    "start_time": "2023-04-27T17:19:35.094Z"
   },
   {
    "duration": 5,
    "start_time": "2023-04-27T17:19:35.115Z"
   },
   {
    "duration": 829,
    "start_time": "2023-04-27T17:19:35.122Z"
   },
   {
    "duration": 9,
    "start_time": "2023-04-27T17:19:35.952Z"
   },
   {
    "duration": 1220,
    "start_time": "2023-04-27T17:20:08.116Z"
   },
   {
    "duration": 8,
    "start_time": "2023-04-27T17:20:10.756Z"
   },
   {
    "duration": 145,
    "start_time": "2023-04-27T17:21:07.718Z"
   },
   {
    "duration": 11,
    "start_time": "2023-04-27T17:21:25.926Z"
   },
   {
    "duration": 9,
    "start_time": "2023-04-27T17:21:44.517Z"
   },
   {
    "duration": 9,
    "start_time": "2023-04-27T17:21:45.976Z"
   },
   {
    "duration": 9,
    "start_time": "2023-04-27T17:21:49.535Z"
   },
   {
    "duration": 9,
    "start_time": "2023-04-27T17:21:50.663Z"
   },
   {
    "duration": 9,
    "start_time": "2023-04-27T17:21:55.045Z"
   },
   {
    "duration": 9,
    "start_time": "2023-04-27T17:21:55.747Z"
   },
   {
    "duration": 11,
    "start_time": "2023-04-27T17:22:31.847Z"
   },
   {
    "duration": 5,
    "start_time": "2023-04-27T17:22:33.665Z"
   },
   {
    "duration": 9,
    "start_time": "2023-04-27T17:22:38.064Z"
   },
   {
    "duration": 11,
    "start_time": "2023-04-27T17:22:38.339Z"
   },
   {
    "duration": 4,
    "start_time": "2023-04-27T17:23:47.136Z"
   },
   {
    "duration": 41,
    "start_time": "2023-04-27T17:23:47.142Z"
   },
   {
    "duration": 14,
    "start_time": "2023-04-27T17:23:47.185Z"
   },
   {
    "duration": 7,
    "start_time": "2023-04-27T17:23:47.200Z"
   },
   {
    "duration": 3,
    "start_time": "2023-04-27T17:23:47.209Z"
   },
   {
    "duration": 13,
    "start_time": "2023-04-27T17:23:47.214Z"
   },
   {
    "duration": 1516,
    "start_time": "2023-04-27T17:23:47.229Z"
   },
   {
    "duration": 10,
    "start_time": "2023-04-27T17:23:48.747Z"
   },
   {
    "duration": 19,
    "start_time": "2023-04-27T17:23:48.758Z"
   },
   {
    "duration": 29,
    "start_time": "2023-04-27T17:23:48.779Z"
   },
   {
    "duration": 9,
    "start_time": "2023-04-27T17:23:48.810Z"
   },
   {
    "duration": 12,
    "start_time": "2023-04-27T17:23:48.820Z"
   },
   {
    "duration": 13,
    "start_time": "2023-04-27T17:23:48.833Z"
   },
   {
    "duration": 4,
    "start_time": "2023-04-27T17:23:48.850Z"
   },
   {
    "duration": 5,
    "start_time": "2023-04-27T17:23:48.856Z"
   },
   {
    "duration": 21,
    "start_time": "2023-04-27T17:23:48.863Z"
   },
   {
    "duration": 9,
    "start_time": "2023-04-27T17:23:48.893Z"
   },
   {
    "duration": 14,
    "start_time": "2023-04-27T17:23:48.906Z"
   },
   {
    "duration": 6,
    "start_time": "2023-04-27T17:23:48.921Z"
   },
   {
    "duration": 941,
    "start_time": "2023-04-27T17:23:48.928Z"
   },
   {
    "duration": 9,
    "start_time": "2023-04-27T17:23:49.870Z"
   },
   {
    "duration": 1127,
    "start_time": "2023-04-27T17:23:49.891Z"
   },
   {
    "duration": 9,
    "start_time": "2023-04-27T17:23:51.020Z"
   },
   {
    "duration": 35,
    "start_time": "2023-04-27T17:23:51.031Z"
   },
   {
    "duration": 20,
    "start_time": "2023-04-27T17:23:51.068Z"
   },
   {
    "duration": 58,
    "start_time": "2023-04-27T17:23:51.090Z"
   },
   {
    "duration": 16,
    "start_time": "2023-04-27T17:23:51.150Z"
   },
   {
    "duration": 106,
    "start_time": "2023-04-27T17:23:51.168Z"
   },
   {
    "duration": 209538,
    "start_time": "2023-04-27T17:23:51.276Z"
   },
   {
    "duration": 4,
    "start_time": "2023-04-27T17:27:20.816Z"
   },
   {
    "duration": 75,
    "start_time": "2023-04-27T17:27:20.821Z"
   },
   {
    "duration": 35,
    "start_time": "2023-04-27T17:27:20.898Z"
   },
   {
    "duration": 33781,
    "start_time": "2023-04-27T17:27:20.935Z"
   },
   {
    "duration": 4,
    "start_time": "2023-04-27T17:27:54.717Z"
   },
   {
    "duration": 20,
    "start_time": "2023-04-27T17:27:54.723Z"
   },
   {
    "duration": 56,
    "start_time": "2023-04-27T17:27:54.744Z"
   },
   {
    "duration": 100794,
    "start_time": "2023-04-27T17:27:54.801Z"
   },
   {
    "duration": 95,
    "start_time": "2023-04-27T17:29:35.609Z"
   },
   {
    "duration": 27,
    "start_time": "2023-04-27T17:29:35.707Z"
   },
   {
    "duration": 102,
    "start_time": "2023-04-27T17:29:35.795Z"
   },
   {
    "duration": 4,
    "start_time": "2023-04-27T17:29:35.906Z"
   },
   {
    "duration": 18,
    "start_time": "2023-04-27T17:29:35.911Z"
   },
   {
    "duration": 222,
    "start_time": "2023-04-27T17:29:35.930Z"
   },
   {
    "duration": 49,
    "start_time": "2023-04-27T17:29:36.155Z"
   },
   {
    "duration": 106,
    "start_time": "2023-04-27T17:29:36.206Z"
   },
   {
    "duration": 90,
    "start_time": "2023-04-27T17:29:36.314Z"
   },
   {
    "duration": 4,
    "start_time": "2023-04-27T17:29:36.406Z"
   },
   {
    "duration": 10,
    "start_time": "2023-04-27T17:29:36.411Z"
   },
   {
    "duration": 119,
    "start_time": "2023-04-27T17:29:36.423Z"
   },
   {
    "duration": 31,
    "start_time": "2023-04-27T17:29:36.544Z"
   },
   {
    "duration": 34,
    "start_time": "2023-04-27T17:29:36.577Z"
   },
   {
    "duration": 188,
    "start_time": "2023-04-27T17:29:36.613Z"
   },
   {
    "duration": 299,
    "start_time": "2023-04-27T17:29:36.805Z"
   },
   {
    "duration": 259711,
    "start_time": "2023-04-27T17:32:45.572Z"
   },
   {
    "duration": 4,
    "start_time": "2023-04-27T17:48:34.224Z"
   },
   {
    "duration": 87,
    "start_time": "2023-04-27T17:48:49.924Z"
   },
   {
    "duration": 332,
    "start_time": "2023-04-27T17:49:10.183Z"
   },
   {
    "duration": 16,
    "start_time": "2023-04-27T17:49:32.431Z"
   },
   {
    "duration": 10,
    "start_time": "2023-04-27T17:49:36.382Z"
   },
   {
    "duration": 9,
    "start_time": "2023-04-27T17:49:46.561Z"
   },
   {
    "duration": 11,
    "start_time": "2023-04-27T17:49:59.413Z"
   },
   {
    "duration": 24,
    "start_time": "2023-04-27T17:58:09.706Z"
   },
   {
    "duration": 1502,
    "start_time": "2023-04-27T17:58:19.394Z"
   },
   {
    "duration": 41,
    "start_time": "2023-04-27T17:58:20.898Z"
   },
   {
    "duration": 18,
    "start_time": "2023-04-27T17:58:20.941Z"
   },
   {
    "duration": 13,
    "start_time": "2023-04-27T17:58:20.961Z"
   },
   {
    "duration": 26,
    "start_time": "2023-04-27T17:58:20.975Z"
   },
   {
    "duration": 17,
    "start_time": "2023-04-27T17:58:21.003Z"
   },
   {
    "duration": 1505,
    "start_time": "2023-04-27T17:58:21.022Z"
   },
   {
    "duration": 10,
    "start_time": "2023-04-27T17:58:22.529Z"
   },
   {
    "duration": 26,
    "start_time": "2023-04-27T17:58:22.540Z"
   },
   {
    "duration": 13,
    "start_time": "2023-04-27T17:58:22.569Z"
   },
   {
    "duration": 46,
    "start_time": "2023-04-27T17:58:22.584Z"
   },
   {
    "duration": 36,
    "start_time": "2023-04-27T17:58:22.631Z"
   },
   {
    "duration": 26,
    "start_time": "2023-04-27T17:58:22.669Z"
   },
   {
    "duration": 28,
    "start_time": "2023-04-27T17:58:22.697Z"
   },
   {
    "duration": 19,
    "start_time": "2023-04-27T17:58:22.727Z"
   },
   {
    "duration": 43,
    "start_time": "2023-04-27T17:58:22.748Z"
   },
   {
    "duration": 17,
    "start_time": "2023-04-27T17:58:22.793Z"
   },
   {
    "duration": 38,
    "start_time": "2023-04-27T17:58:22.812Z"
   },
   {
    "duration": 11,
    "start_time": "2023-04-27T17:58:22.852Z"
   },
   {
    "duration": 896,
    "start_time": "2023-04-27T17:58:22.865Z"
   },
   {
    "duration": 9,
    "start_time": "2023-04-27T17:58:23.763Z"
   },
   {
    "duration": 1238,
    "start_time": "2023-04-27T17:58:23.774Z"
   },
   {
    "duration": 9,
    "start_time": "2023-04-27T17:58:25.013Z"
   },
   {
    "duration": 48,
    "start_time": "2023-04-27T17:58:25.023Z"
   },
   {
    "duration": 18,
    "start_time": "2023-04-27T17:58:25.073Z"
   },
   {
    "duration": 43,
    "start_time": "2023-04-27T17:58:25.093Z"
   },
   {
    "duration": 38,
    "start_time": "2023-04-27T17:58:25.137Z"
   },
   {
    "duration": 90,
    "start_time": "2023-04-27T17:58:25.178Z"
   },
   {
    "duration": 9073,
    "start_time": "2023-04-27T17:58:25.270Z"
   },
   {
    "duration": 0,
    "start_time": "2023-04-27T17:58:34.345Z"
   },
   {
    "duration": 0,
    "start_time": "2023-04-27T17:58:34.346Z"
   },
   {
    "duration": 0,
    "start_time": "2023-04-27T17:58:34.347Z"
   },
   {
    "duration": 0,
    "start_time": "2023-04-27T17:58:34.348Z"
   },
   {
    "duration": 0,
    "start_time": "2023-04-27T17:58:34.349Z"
   },
   {
    "duration": 0,
    "start_time": "2023-04-27T17:58:34.350Z"
   },
   {
    "duration": 0,
    "start_time": "2023-04-27T17:58:34.350Z"
   },
   {
    "duration": 0,
    "start_time": "2023-04-27T17:58:34.351Z"
   },
   {
    "duration": 0,
    "start_time": "2023-04-27T17:58:34.352Z"
   },
   {
    "duration": 0,
    "start_time": "2023-04-27T17:58:34.353Z"
   },
   {
    "duration": 0,
    "start_time": "2023-04-27T17:58:34.354Z"
   },
   {
    "duration": 0,
    "start_time": "2023-04-27T17:58:34.355Z"
   },
   {
    "duration": 0,
    "start_time": "2023-04-27T17:58:34.356Z"
   },
   {
    "duration": 0,
    "start_time": "2023-04-27T17:58:34.357Z"
   },
   {
    "duration": 0,
    "start_time": "2023-04-27T17:58:34.358Z"
   },
   {
    "duration": 0,
    "start_time": "2023-04-27T17:58:34.359Z"
   },
   {
    "duration": 0,
    "start_time": "2023-04-27T17:58:34.360Z"
   },
   {
    "duration": 0,
    "start_time": "2023-04-27T17:58:34.361Z"
   },
   {
    "duration": 0,
    "start_time": "2023-04-27T17:58:34.362Z"
   },
   {
    "duration": 0,
    "start_time": "2023-04-27T17:58:34.363Z"
   },
   {
    "duration": 0,
    "start_time": "2023-04-27T17:58:34.364Z"
   },
   {
    "duration": 0,
    "start_time": "2023-04-27T17:58:34.392Z"
   },
   {
    "duration": 0,
    "start_time": "2023-04-27T17:58:34.393Z"
   },
   {
    "duration": 0,
    "start_time": "2023-04-27T17:58:34.394Z"
   },
   {
    "duration": 0,
    "start_time": "2023-04-27T17:58:34.395Z"
   },
   {
    "duration": 0,
    "start_time": "2023-04-27T17:58:34.396Z"
   },
   {
    "duration": 0,
    "start_time": "2023-04-27T17:58:34.397Z"
   },
   {
    "duration": 0,
    "start_time": "2023-04-27T17:58:34.398Z"
   },
   {
    "duration": 0,
    "start_time": "2023-04-27T17:58:34.399Z"
   },
   {
    "duration": 0,
    "start_time": "2023-04-27T17:58:34.400Z"
   },
   {
    "duration": 0,
    "start_time": "2023-04-27T17:58:34.401Z"
   },
   {
    "duration": 0,
    "start_time": "2023-04-27T17:58:34.402Z"
   },
   {
    "duration": 0,
    "start_time": "2023-04-27T17:58:34.403Z"
   },
   {
    "duration": 0,
    "start_time": "2023-04-27T17:58:34.404Z"
   },
   {
    "duration": 0,
    "start_time": "2023-04-27T17:58:34.405Z"
   },
   {
    "duration": 0,
    "start_time": "2023-04-27T17:58:34.406Z"
   },
   {
    "duration": 0,
    "start_time": "2023-04-27T17:58:34.406Z"
   },
   {
    "duration": 1476,
    "start_time": "2023-04-27T17:58:47.422Z"
   },
   {
    "duration": 40,
    "start_time": "2023-04-27T17:58:48.900Z"
   },
   {
    "duration": 18,
    "start_time": "2023-04-27T17:58:48.941Z"
   },
   {
    "duration": 11,
    "start_time": "2023-04-27T17:58:48.961Z"
   },
   {
    "duration": 6,
    "start_time": "2023-04-27T17:58:48.975Z"
   },
   {
    "duration": 21,
    "start_time": "2023-04-27T17:58:48.982Z"
   },
   {
    "duration": 1504,
    "start_time": "2023-04-27T17:58:49.004Z"
   },
   {
    "duration": 11,
    "start_time": "2023-04-27T17:58:50.510Z"
   },
   {
    "duration": 40,
    "start_time": "2023-04-27T17:58:50.523Z"
   },
   {
    "duration": 35,
    "start_time": "2023-04-27T17:58:50.565Z"
   },
   {
    "duration": 20,
    "start_time": "2023-04-27T17:58:50.601Z"
   },
   {
    "duration": 24,
    "start_time": "2023-04-27T17:58:50.623Z"
   },
   {
    "duration": 10,
    "start_time": "2023-04-27T17:58:50.649Z"
   },
   {
    "duration": 13,
    "start_time": "2023-04-27T17:58:50.662Z"
   },
   {
    "duration": 22,
    "start_time": "2023-04-27T17:58:50.676Z"
   },
   {
    "duration": 33,
    "start_time": "2023-04-27T17:58:50.700Z"
   },
   {
    "duration": 3,
    "start_time": "2023-04-27T17:58:50.734Z"
   },
   {
    "duration": 20,
    "start_time": "2023-04-27T17:58:50.739Z"
   },
   {
    "duration": 6,
    "start_time": "2023-04-27T17:58:50.761Z"
   },
   {
    "duration": 841,
    "start_time": "2023-04-27T17:58:50.768Z"
   },
   {
    "duration": 9,
    "start_time": "2023-04-27T17:58:51.610Z"
   },
   {
    "duration": 1209,
    "start_time": "2023-04-27T17:58:51.620Z"
   },
   {
    "duration": 7,
    "start_time": "2023-04-27T17:58:52.831Z"
   },
   {
    "duration": 11,
    "start_time": "2023-04-27T17:58:52.840Z"
   },
   {
    "duration": 3,
    "start_time": "2023-04-27T17:58:52.853Z"
   },
   {
    "duration": 44,
    "start_time": "2023-04-27T17:58:52.858Z"
   },
   {
    "duration": 10,
    "start_time": "2023-04-27T17:58:52.904Z"
   },
   {
    "duration": 85,
    "start_time": "2023-04-27T17:58:52.916Z"
   },
   {
    "duration": 198291,
    "start_time": "2023-04-27T17:58:53.003Z"
   },
   {
    "duration": 3,
    "start_time": "2023-04-27T18:02:11.296Z"
   },
   {
    "duration": 56,
    "start_time": "2023-04-27T18:02:11.301Z"
   },
   {
    "duration": 51,
    "start_time": "2023-04-27T18:02:11.359Z"
   },
   {
    "duration": 31861,
    "start_time": "2023-04-27T18:02:11.412Z"
   },
   {
    "duration": 4,
    "start_time": "2023-04-27T18:02:43.276Z"
   },
   {
    "duration": 25,
    "start_time": "2023-04-27T18:02:43.283Z"
   },
   {
    "duration": 23,
    "start_time": "2023-04-27T18:02:43.310Z"
   },
   {
    "duration": 73404,
    "start_time": "2023-04-27T18:02:43.392Z"
   },
   {
    "duration": 94,
    "start_time": "2023-04-27T18:03:56.798Z"
   },
   {
    "duration": 21,
    "start_time": "2023-04-27T18:03:56.894Z"
   },
   {
    "duration": 178,
    "start_time": "2023-04-27T18:03:56.917Z"
   },
   {
    "duration": 7,
    "start_time": "2023-04-27T18:03:57.099Z"
   },
   {
    "duration": 30,
    "start_time": "2023-04-27T18:03:57.108Z"
   },
   {
    "duration": 234,
    "start_time": "2023-04-27T18:03:57.139Z"
   },
   {
    "duration": 43,
    "start_time": "2023-04-27T18:03:57.375Z"
   },
   {
    "duration": 33,
    "start_time": "2023-04-27T18:03:57.420Z"
   },
   {
    "duration": 100,
    "start_time": "2023-04-27T18:03:57.492Z"
   },
   {
    "duration": 14,
    "start_time": "2023-04-27T18:03:57.594Z"
   },
   {
    "duration": 16,
    "start_time": "2023-04-27T18:03:57.609Z"
   },
   {
    "duration": 101,
    "start_time": "2023-04-27T18:03:57.627Z"
   },
   {
    "duration": 29,
    "start_time": "2023-04-27T18:03:57.729Z"
   },
   {
    "duration": 33,
    "start_time": "2023-04-27T18:03:57.760Z"
   },
   {
    "duration": 197,
    "start_time": "2023-04-27T18:03:57.796Z"
   },
   {
    "duration": 215,
    "start_time": "2023-04-27T18:03:57.996Z"
   },
   {
    "duration": 254586,
    "start_time": "2023-04-27T18:03:58.213Z"
   },
   {
    "duration": 4,
    "start_time": "2023-04-27T18:09:51.603Z"
   },
   {
    "duration": 289,
    "start_time": "2023-04-27T18:10:02.904Z"
   },
   {
    "duration": 199,
    "start_time": "2023-04-27T18:12:10.542Z"
   },
   {
    "duration": 8,
    "start_time": "2023-04-27T18:12:50.952Z"
   },
   {
    "duration": 225,
    "start_time": "2023-04-27T18:13:36.872Z"
   },
   {
    "duration": 13967,
    "start_time": "2023-04-27T18:14:17.311Z"
   },
   {
    "duration": 2176,
    "start_time": "2023-04-27T18:15:07.338Z"
   },
   {
    "duration": 886824,
    "start_time": "2023-04-27T18:15:17.335Z"
   },
   {
    "duration": 9409,
    "start_time": "2023-04-27T18:30:24.648Z"
   },
   {
    "duration": 449024,
    "start_time": "2023-04-27T18:30:36.757Z"
   },
   {
    "duration": 16711,
    "start_time": "2023-04-27T18:38:11.457Z"
   },
   {
    "duration": 224059,
    "start_time": "2023-04-27T18:38:31.965Z"
   },
   {
    "duration": 4,
    "start_time": "2023-04-27T18:56:33.728Z"
   },
   {
    "duration": 18,
    "start_time": "2023-04-27T18:57:03.787Z"
   },
   {
    "duration": 220,
    "start_time": "2023-04-27T18:57:09.209Z"
   },
   {
    "duration": 221,
    "start_time": "2023-04-27T18:57:17.376Z"
   },
   {
    "duration": 218,
    "start_time": "2023-04-27T18:57:20.877Z"
   },
   {
    "duration": 229,
    "start_time": "2023-04-27T18:57:24.984Z"
   },
   {
    "duration": 251,
    "start_time": "2023-04-27T18:57:37.147Z"
   },
   {
    "duration": 193,
    "start_time": "2023-04-27T18:57:41.349Z"
   },
   {
    "duration": 17,
    "start_time": "2023-04-27T18:58:01.249Z"
   },
   {
    "duration": 4,
    "start_time": "2023-04-27T18:58:06.855Z"
   },
   {
    "duration": 4,
    "start_time": "2023-04-27T18:58:07.690Z"
   },
   {
    "duration": 234,
    "start_time": "2023-04-27T18:58:21.788Z"
   },
   {
    "duration": 268,
    "start_time": "2023-04-27T18:58:24.903Z"
   },
   {
    "duration": 342,
    "start_time": "2023-04-27T18:58:28.808Z"
   },
   {
    "duration": 342,
    "start_time": "2023-04-27T18:58:32.504Z"
   },
   {
    "duration": 388,
    "start_time": "2023-04-27T18:58:36.387Z"
   },
   {
    "duration": 314,
    "start_time": "2023-04-27T18:58:39.985Z"
   },
   {
    "duration": 23,
    "start_time": "2023-04-27T18:58:46.117Z"
   },
   {
    "duration": 4,
    "start_time": "2023-04-27T18:58:46.604Z"
   },
   {
    "duration": 4,
    "start_time": "2023-04-27T18:58:47.036Z"
   },
   {
    "duration": 177,
    "start_time": "2023-04-27T18:59:18.573Z"
   },
   {
    "duration": 356,
    "start_time": "2023-04-27T18:59:26.587Z"
   },
   {
    "duration": 357,
    "start_time": "2023-04-27T18:59:29.676Z"
   },
   {
    "duration": 307,
    "start_time": "2023-04-27T18:59:34.585Z"
   },
   {
    "duration": 379,
    "start_time": "2023-04-27T18:59:37.676Z"
   },
   {
    "duration": 275,
    "start_time": "2023-04-27T19:01:22.628Z"
   },
   {
    "duration": 22,
    "start_time": "2023-04-27T19:01:26.777Z"
   },
   {
    "duration": 4,
    "start_time": "2023-04-27T19:01:26.976Z"
   },
   {
    "duration": 5,
    "start_time": "2023-04-27T19:01:27.146Z"
   },
   {
    "duration": 344,
    "start_time": "2023-04-27T19:01:31.967Z"
   },
   {
    "duration": 28,
    "start_time": "2023-04-27T19:01:36.515Z"
   },
   {
    "duration": 5,
    "start_time": "2023-04-27T19:01:36.666Z"
   },
   {
    "duration": 4,
    "start_time": "2023-04-27T19:01:36.828Z"
   },
   {
    "duration": 349,
    "start_time": "2023-04-27T19:01:41.637Z"
   },
   {
    "duration": 24,
    "start_time": "2023-04-27T19:01:44.032Z"
   },
   {
    "duration": 5,
    "start_time": "2023-04-27T19:01:44.155Z"
   },
   {
    "duration": 5,
    "start_time": "2023-04-27T19:01:44.316Z"
   },
   {
    "duration": 370,
    "start_time": "2023-04-27T19:01:48.867Z"
   },
   {
    "duration": 29,
    "start_time": "2023-04-27T19:01:51.673Z"
   },
   {
    "duration": 5,
    "start_time": "2023-04-27T19:01:51.904Z"
   },
   {
    "duration": 4,
    "start_time": "2023-04-27T19:01:52.016Z"
   },
   {
    "duration": 341,
    "start_time": "2023-04-27T19:01:56.710Z"
   },
   {
    "duration": 219,
    "start_time": "2023-04-27T19:01:57.505Z"
   },
   {
    "duration": 24,
    "start_time": "2023-04-27T19:01:58.309Z"
   },
   {
    "duration": 4,
    "start_time": "2023-04-27T19:01:59.044Z"
   },
   {
    "duration": 4,
    "start_time": "2023-04-27T19:02:00.137Z"
   },
   {
    "duration": 351,
    "start_time": "2023-04-27T19:02:06.606Z"
   },
   {
    "duration": 24,
    "start_time": "2023-04-27T19:02:11.528Z"
   },
   {
    "duration": 5,
    "start_time": "2023-04-27T19:02:11.727Z"
   },
   {
    "duration": 4,
    "start_time": "2023-04-27T19:02:11.876Z"
   },
   {
    "duration": 343,
    "start_time": "2023-04-27T19:02:17.309Z"
   },
   {
    "duration": 22,
    "start_time": "2023-04-27T19:02:21.606Z"
   },
   {
    "duration": 4,
    "start_time": "2023-04-27T19:02:21.756Z"
   },
   {
    "duration": 6,
    "start_time": "2023-04-27T19:02:21.947Z"
   },
   {
    "duration": 373,
    "start_time": "2023-04-27T19:02:27.234Z"
   },
   {
    "duration": 26,
    "start_time": "2023-04-27T19:02:29.162Z"
   },
   {
    "duration": 5,
    "start_time": "2023-04-27T19:02:29.336Z"
   },
   {
    "duration": 4,
    "start_time": "2023-04-27T19:02:29.469Z"
   },
   {
    "duration": 306,
    "start_time": "2023-04-27T19:02:33.029Z"
   },
   {
    "duration": 23,
    "start_time": "2023-04-27T19:02:34.733Z"
   },
   {
    "duration": 4,
    "start_time": "2023-04-27T19:02:34.876Z"
   },
   {
    "duration": 4,
    "start_time": "2023-04-27T19:02:35.016Z"
   },
   {
    "duration": 266,
    "start_time": "2023-04-27T19:02:39.946Z"
   },
   {
    "duration": 25,
    "start_time": "2023-04-27T19:03:07.246Z"
   },
   {
    "duration": 5,
    "start_time": "2023-04-27T19:03:07.408Z"
   },
   {
    "duration": 181,
    "start_time": "2023-04-27T19:03:11.232Z"
   },
   {
    "duration": 17,
    "start_time": "2023-04-27T19:03:11.415Z"
   },
   {
    "duration": 4,
    "start_time": "2023-04-27T19:03:11.576Z"
   },
   {
    "duration": 112,
    "start_time": "2023-04-27T19:03:15.708Z"
   },
   {
    "duration": 18,
    "start_time": "2023-04-27T19:03:15.867Z"
   },
   {
    "duration": 5,
    "start_time": "2023-04-27T19:03:16.028Z"
   },
   {
    "duration": 640,
    "start_time": "2023-04-27T19:03:20.308Z"
   },
   {
    "duration": 45,
    "start_time": "2023-04-27T19:03:20.951Z"
   },
   {
    "duration": 5,
    "start_time": "2023-04-27T19:03:20.998Z"
   },
   {
    "duration": 317,
    "start_time": "2023-04-27T19:03:23.717Z"
   },
   {
    "duration": 25,
    "start_time": "2023-04-27T19:03:24.037Z"
   },
   {
    "duration": 5,
    "start_time": "2023-04-27T19:03:24.064Z"
   },
   {
    "duration": 312,
    "start_time": "2023-04-27T19:03:26.629Z"
   },
   {
    "duration": 24,
    "start_time": "2023-04-27T19:03:26.943Z"
   },
   {
    "duration": 4,
    "start_time": "2023-04-27T19:03:26.969Z"
   },
   {
    "duration": 314,
    "start_time": "2023-04-27T19:03:29.537Z"
   },
   {
    "duration": 22,
    "start_time": "2023-04-27T19:03:29.854Z"
   },
   {
    "duration": 3,
    "start_time": "2023-04-27T19:03:29.878Z"
   },
   {
    "duration": 354,
    "start_time": "2023-04-27T19:03:32.656Z"
   },
   {
    "duration": 25,
    "start_time": "2023-04-27T19:03:33.013Z"
   },
   {
    "duration": 9,
    "start_time": "2023-04-27T19:03:33.040Z"
   },
   {
    "duration": 352,
    "start_time": "2023-04-27T19:03:36.917Z"
   },
   {
    "duration": 39,
    "start_time": "2023-04-27T19:03:37.272Z"
   },
   {
    "duration": 5,
    "start_time": "2023-04-27T19:03:37.313Z"
   },
   {
    "duration": 321,
    "start_time": "2023-04-27T19:03:42.017Z"
   },
   {
    "duration": 25,
    "start_time": "2023-04-27T19:03:42.340Z"
   },
   {
    "duration": 4,
    "start_time": "2023-04-27T19:03:42.366Z"
   },
   {
    "duration": 338,
    "start_time": "2023-04-27T19:03:46.604Z"
   },
   {
    "duration": 24,
    "start_time": "2023-04-27T19:03:46.944Z"
   },
   {
    "duration": 4,
    "start_time": "2023-04-27T19:03:46.970Z"
   },
   {
    "duration": 363,
    "start_time": "2023-04-27T19:03:50.036Z"
   },
   {
    "duration": 27,
    "start_time": "2023-04-27T19:03:50.401Z"
   },
   {
    "duration": 3,
    "start_time": "2023-04-27T19:03:50.430Z"
   },
   {
    "duration": 372,
    "start_time": "2023-04-27T19:03:53.867Z"
   },
   {
    "duration": 27,
    "start_time": "2023-04-27T19:03:54.241Z"
   },
   {
    "duration": 4,
    "start_time": "2023-04-27T19:03:54.270Z"
   },
   {
    "duration": 344,
    "start_time": "2023-04-27T19:03:57.816Z"
   },
   {
    "duration": 30,
    "start_time": "2023-04-27T19:03:58.163Z"
   },
   {
    "duration": 4,
    "start_time": "2023-04-27T19:03:58.194Z"
   },
   {
    "duration": 348,
    "start_time": "2023-04-27T19:04:01.909Z"
   },
   {
    "duration": 37,
    "start_time": "2023-04-27T19:04:02.259Z"
   },
   {
    "duration": 13,
    "start_time": "2023-04-27T19:04:02.298Z"
   },
   {
    "duration": 324,
    "start_time": "2023-04-27T19:04:04.916Z"
   },
   {
    "duration": 23,
    "start_time": "2023-04-27T19:04:05.242Z"
   },
   {
    "duration": 4,
    "start_time": "2023-04-27T19:04:05.267Z"
   },
   {
    "duration": 357,
    "start_time": "2023-04-27T19:04:07.904Z"
   },
   {
    "duration": 37,
    "start_time": "2023-04-27T19:04:08.264Z"
   },
   {
    "duration": 4,
    "start_time": "2023-04-27T19:04:08.303Z"
   },
   {
    "duration": 356,
    "start_time": "2023-04-27T19:04:42.928Z"
   },
   {
    "duration": 25,
    "start_time": "2023-04-27T19:04:44.635Z"
   },
   {
    "duration": 5,
    "start_time": "2023-04-27T19:04:44.997Z"
   },
   {
    "duration": 322,
    "start_time": "2023-04-27T19:04:55.276Z"
   },
   {
    "duration": 24,
    "start_time": "2023-04-27T19:04:55.835Z"
   },
   {
    "duration": 3,
    "start_time": "2023-04-27T19:04:56.038Z"
   },
   {
    "duration": 19,
    "start_time": "2023-04-27T19:05:48.033Z"
   },
   {
    "duration": 41,
    "start_time": "2023-04-27T19:06:10.276Z"
   },
   {
    "duration": 39,
    "start_time": "2023-04-27T19:06:13.895Z"
   },
   {
    "duration": 34,
    "start_time": "2023-04-27T19:06:17.096Z"
   },
   {
    "duration": 31,
    "start_time": "2023-04-27T19:06:20.866Z"
   },
   {
    "duration": 28,
    "start_time": "2023-04-27T19:06:23.569Z"
   },
   {
    "duration": 27,
    "start_time": "2023-04-27T19:06:25.877Z"
   },
   {
    "duration": 32,
    "start_time": "2023-04-27T19:06:28.465Z"
   },
   {
    "duration": 32,
    "start_time": "2023-04-27T19:06:30.865Z"
   },
   {
    "duration": 8,
    "start_time": "2023-04-27T19:06:54.053Z"
   },
   {
    "duration": 4,
    "start_time": "2023-04-27T19:06:54.670Z"
   },
   {
    "duration": 31636,
    "start_time": "2023-04-27T19:07:20.927Z"
   },
   {
    "duration": 4,
    "start_time": "2023-04-27T19:08:51.206Z"
   },
   {
    "duration": 40,
    "start_time": "2023-04-27T19:08:56.834Z"
   },
   {
    "duration": 22,
    "start_time": "2023-04-27T19:09:23.644Z"
   },
   {
    "duration": 20,
    "start_time": "2023-04-27T19:09:28.665Z"
   },
   {
    "duration": 18,
    "start_time": "2023-04-27T19:09:33.308Z"
   },
   {
    "duration": 16,
    "start_time": "2023-04-27T19:09:36.269Z"
   },
   {
    "duration": 18,
    "start_time": "2023-04-27T19:09:46.136Z"
   },
   {
    "duration": 7,
    "start_time": "2023-04-27T19:09:46.667Z"
   },
   {
    "duration": 3,
    "start_time": "2023-04-27T19:09:46.912Z"
   },
   {
    "duration": 36,
    "start_time": "2023-04-27T19:09:54.675Z"
   },
   {
    "duration": 7,
    "start_time": "2023-04-27T19:09:55.312Z"
   },
   {
    "duration": 4,
    "start_time": "2023-04-27T19:09:55.510Z"
   },
   {
    "duration": 29515,
    "start_time": "2023-04-27T19:10:11.708Z"
   },
   {
    "duration": 4,
    "start_time": "2023-04-27T19:10:46.803Z"
   },
   {
    "duration": 30,
    "start_time": "2023-04-27T19:11:00.631Z"
   },
   {
    "duration": 8,
    "start_time": "2023-04-27T19:11:02.095Z"
   },
   {
    "duration": 4,
    "start_time": "2023-04-27T19:11:02.265Z"
   },
   {
    "duration": 32,
    "start_time": "2023-04-27T19:11:15.416Z"
   },
   {
    "duration": 36,
    "start_time": "2023-04-27T19:11:24.756Z"
   },
   {
    "duration": 30,
    "start_time": "2023-04-27T19:11:27.194Z"
   },
   {
    "duration": 32,
    "start_time": "2023-04-27T19:11:30.295Z"
   },
   {
    "duration": 29,
    "start_time": "2023-04-27T19:11:33.575Z"
   },
   {
    "duration": 31,
    "start_time": "2023-04-27T19:11:36.456Z"
   },
   {
    "duration": 29,
    "start_time": "2023-04-27T19:11:39.907Z"
   },
   {
    "duration": 31,
    "start_time": "2023-04-27T19:11:42.937Z"
   },
   {
    "duration": 29,
    "start_time": "2023-04-27T19:11:45.027Z"
   },
   {
    "duration": 29,
    "start_time": "2023-04-27T19:11:48.593Z"
   },
   {
    "duration": 17,
    "start_time": "2023-04-27T19:11:51.575Z"
   },
   {
    "duration": 31,
    "start_time": "2023-04-27T19:11:53.870Z"
   },
   {
    "duration": 33,
    "start_time": "2023-04-27T19:11:59.055Z"
   },
   {
    "duration": 7,
    "start_time": "2023-04-27T19:12:07.242Z"
   },
   {
    "duration": 4,
    "start_time": "2023-04-27T19:12:07.466Z"
   },
   {
    "duration": 10484,
    "start_time": "2023-04-27T19:14:44.578Z"
   },
   {
    "duration": 11,
    "start_time": "2023-04-27T19:14:58.975Z"
   },
   {
    "duration": 9674,
    "start_time": "2023-04-27T19:15:02.796Z"
   },
   {
    "duration": 3,
    "start_time": "2023-04-27T19:15:21.276Z"
   },
   {
    "duration": 31924,
    "start_time": "2023-04-27T19:15:25.868Z"
   },
   {
    "duration": 4,
    "start_time": "2023-04-27T19:16:27.995Z"
   },
   {
    "duration": 31,
    "start_time": "2023-04-27T19:16:32.206Z"
   },
   {
    "duration": 31,
    "start_time": "2023-04-27T19:16:35.996Z"
   },
   {
    "duration": 30,
    "start_time": "2023-04-27T19:16:52.246Z"
   },
   {
    "duration": 6,
    "start_time": "2023-04-27T19:16:56.015Z"
   },
   {
    "duration": 3,
    "start_time": "2023-04-27T19:16:56.214Z"
   },
   {
    "duration": 31,
    "start_time": "2023-04-27T19:17:02.880Z"
   },
   {
    "duration": 6,
    "start_time": "2023-04-27T19:17:04.294Z"
   },
   {
    "duration": 4,
    "start_time": "2023-04-27T19:17:04.496Z"
   },
   {
    "duration": 35,
    "start_time": "2023-04-27T19:17:08.657Z"
   },
   {
    "duration": 7,
    "start_time": "2023-04-27T19:17:08.897Z"
   },
   {
    "duration": 3,
    "start_time": "2023-04-27T19:17:09.107Z"
   },
   {
    "duration": 31,
    "start_time": "2023-04-27T19:17:14.820Z"
   },
   {
    "duration": 31,
    "start_time": "2023-04-27T19:17:19.017Z"
   },
   {
    "duration": 25,
    "start_time": "2023-04-27T19:17:22.999Z"
   },
   {
    "duration": 29,
    "start_time": "2023-04-27T19:17:25.829Z"
   },
   {
    "duration": 7,
    "start_time": "2023-04-27T19:17:25.998Z"
   },
   {
    "duration": 4,
    "start_time": "2023-04-27T19:17:26.146Z"
   },
   {
    "duration": 5,
    "start_time": "2023-04-27T19:17:43.097Z"
   },
   {
    "duration": 1421,
    "start_time": "2023-04-27T19:23:14.599Z"
   },
   {
    "duration": 42,
    "start_time": "2023-04-27T19:23:16.022Z"
   },
   {
    "duration": 19,
    "start_time": "2023-04-27T19:23:16.065Z"
   },
   {
    "duration": 23,
    "start_time": "2023-04-27T19:23:16.085Z"
   },
   {
    "duration": 15,
    "start_time": "2023-04-27T19:23:16.111Z"
   },
   {
    "duration": 19,
    "start_time": "2023-04-27T19:23:16.127Z"
   },
   {
    "duration": 1501,
    "start_time": "2023-04-27T19:23:16.148Z"
   },
   {
    "duration": 10,
    "start_time": "2023-04-27T19:23:17.650Z"
   },
   {
    "duration": 6,
    "start_time": "2023-04-27T19:23:17.661Z"
   },
   {
    "duration": 25,
    "start_time": "2023-04-27T19:23:17.668Z"
   },
   {
    "duration": 8,
    "start_time": "2023-04-27T19:23:17.694Z"
   },
   {
    "duration": 7,
    "start_time": "2023-04-27T19:23:17.704Z"
   },
   {
    "duration": 9,
    "start_time": "2023-04-27T19:23:17.713Z"
   },
   {
    "duration": 8,
    "start_time": "2023-04-27T19:23:17.725Z"
   },
   {
    "duration": 7,
    "start_time": "2023-04-27T19:23:17.735Z"
   },
   {
    "duration": 21,
    "start_time": "2023-04-27T19:23:17.743Z"
   },
   {
    "duration": 29,
    "start_time": "2023-04-27T19:23:17.766Z"
   },
   {
    "duration": 20,
    "start_time": "2023-04-27T19:23:17.797Z"
   },
   {
    "duration": 16,
    "start_time": "2023-04-27T19:23:17.819Z"
   },
   {
    "duration": 892,
    "start_time": "2023-04-27T19:23:17.837Z"
   },
   {
    "duration": 9,
    "start_time": "2023-04-27T19:23:18.730Z"
   },
   {
    "duration": 1185,
    "start_time": "2023-04-27T19:23:18.741Z"
   },
   {
    "duration": 9,
    "start_time": "2023-04-27T19:23:19.928Z"
   },
   {
    "duration": 12,
    "start_time": "2023-04-27T19:23:19.938Z"
   },
   {
    "duration": 10,
    "start_time": "2023-04-27T19:23:19.952Z"
   },
   {
    "duration": 51,
    "start_time": "2023-04-27T19:23:19.963Z"
   },
   {
    "duration": 16,
    "start_time": "2023-04-27T19:23:20.017Z"
   },
   {
    "duration": 13,
    "start_time": "2023-04-27T19:23:24.904Z"
   },
   {
    "duration": 4,
    "start_time": "2023-04-27T19:23:25.114Z"
   },
   {
    "duration": 6,
    "start_time": "2023-04-27T19:23:25.262Z"
   },
   {
    "duration": 217,
    "start_time": "2023-04-27T19:23:25.993Z"
   },
   {
    "duration": 30,
    "start_time": "2023-04-27T19:23:26.691Z"
   },
   {
    "duration": 30,
    "start_time": "2023-04-27T19:23:27.222Z"
   },
   {
    "duration": 13,
    "start_time": "2023-04-27T19:23:27.990Z"
   },
   {
    "duration": 3,
    "start_time": "2023-04-27T19:23:28.021Z"
   },
   {
    "duration": 5,
    "start_time": "2023-04-27T19:23:28.046Z"
   },
   {
    "duration": 96,
    "start_time": "2023-04-27T19:23:28.148Z"
   },
   {
    "duration": 31,
    "start_time": "2023-04-27T19:23:28.260Z"
   },
   {
    "duration": 18,
    "start_time": "2023-04-27T19:23:28.347Z"
   },
   {
    "duration": 21,
    "start_time": "2023-04-27T19:23:28.660Z"
   },
   {
    "duration": 131,
    "start_time": "2023-04-27T19:23:28.962Z"
   },
   {
    "duration": 330,
    "start_time": "2023-04-27T19:23:35.024Z"
   },
   {
    "duration": 27,
    "start_time": "2023-04-27T19:23:36.540Z"
   },
   {
    "duration": 4,
    "start_time": "2023-04-27T19:23:36.723Z"
   },
   {
    "duration": 1323,
    "start_time": "2023-04-27T19:23:54.143Z"
   },
   {
    "duration": 40,
    "start_time": "2023-04-27T19:23:55.468Z"
   },
   {
    "duration": 16,
    "start_time": "2023-04-27T19:23:55.509Z"
   },
   {
    "duration": 3,
    "start_time": "2023-04-27T19:23:55.527Z"
   },
   {
    "duration": 9,
    "start_time": "2023-04-27T19:23:55.532Z"
   },
   {
    "duration": 17,
    "start_time": "2023-04-27T19:23:55.542Z"
   },
   {
    "duration": 1456,
    "start_time": "2023-04-27T19:23:55.561Z"
   },
   {
    "duration": 9,
    "start_time": "2023-04-27T19:23:57.019Z"
   },
   {
    "duration": 5,
    "start_time": "2023-04-27T19:23:57.030Z"
   },
   {
    "duration": 4,
    "start_time": "2023-04-27T19:23:57.038Z"
   },
   {
    "duration": 6,
    "start_time": "2023-04-27T19:23:57.044Z"
   },
   {
    "duration": 42,
    "start_time": "2023-04-27T19:23:57.051Z"
   },
   {
    "duration": 9,
    "start_time": "2023-04-27T19:23:57.095Z"
   },
   {
    "duration": 5,
    "start_time": "2023-04-27T19:23:57.105Z"
   },
   {
    "duration": 5,
    "start_time": "2023-04-27T19:23:57.112Z"
   },
   {
    "duration": 19,
    "start_time": "2023-04-27T19:23:57.119Z"
   },
   {
    "duration": 3,
    "start_time": "2023-04-27T19:23:57.140Z"
   },
   {
    "duration": 14,
    "start_time": "2023-04-27T19:23:57.144Z"
   },
   {
    "duration": 6,
    "start_time": "2023-04-27T19:23:57.193Z"
   },
   {
    "duration": 891,
    "start_time": "2023-04-27T19:23:57.201Z"
   },
   {
    "duration": 10,
    "start_time": "2023-04-27T19:23:58.094Z"
   },
   {
    "duration": 1220,
    "start_time": "2023-04-27T19:23:58.106Z"
   },
   {
    "duration": 9,
    "start_time": "2023-04-27T19:23:59.328Z"
   },
   {
    "duration": 10,
    "start_time": "2023-04-27T19:23:59.338Z"
   },
   {
    "duration": 4,
    "start_time": "2023-04-27T19:23:59.350Z"
   },
   {
    "duration": 44,
    "start_time": "2023-04-27T19:23:59.355Z"
   },
   {
    "duration": 10,
    "start_time": "2023-04-27T19:23:59.401Z"
   },
   {
    "duration": 13,
    "start_time": "2023-04-27T19:24:03.683Z"
   },
   {
    "duration": 3,
    "start_time": "2023-04-27T19:24:04.633Z"
   },
   {
    "duration": 5,
    "start_time": "2023-04-27T19:24:05.143Z"
   },
   {
    "duration": 204,
    "start_time": "2023-04-27T19:24:05.272Z"
   },
   {
    "duration": 39,
    "start_time": "2023-04-27T19:24:05.478Z"
   },
   {
    "duration": 75,
    "start_time": "2023-04-27T19:24:05.519Z"
   },
   {
    "duration": 104,
    "start_time": "2023-04-27T19:24:05.596Z"
   },
   {
    "duration": 12,
    "start_time": "2023-04-27T19:24:05.702Z"
   },
   {
    "duration": 20,
    "start_time": "2023-04-27T19:24:05.716Z"
   },
   {
    "duration": 93,
    "start_time": "2023-04-27T19:24:05.786Z"
   },
   {
    "duration": 39,
    "start_time": "2023-04-27T19:24:05.881Z"
   },
   {
    "duration": 39,
    "start_time": "2023-04-27T19:24:05.952Z"
   },
   {
    "duration": 21,
    "start_time": "2023-04-27T19:24:06.092Z"
   },
   {
    "duration": 216,
    "start_time": "2023-04-27T19:24:06.194Z"
   },
   {
    "duration": 319,
    "start_time": "2023-04-27T19:24:10.751Z"
   },
   {
    "duration": 32,
    "start_time": "2023-04-27T19:24:11.073Z"
   },
   {
    "duration": 3,
    "start_time": "2023-04-27T19:24:11.107Z"
   },
   {
    "duration": 349,
    "start_time": "2023-04-27T19:24:22.558Z"
   },
   {
    "duration": 27,
    "start_time": "2023-04-27T19:24:23.475Z"
   },
   {
    "duration": 5,
    "start_time": "2023-04-27T19:24:23.703Z"
   },
   {
    "duration": 369,
    "start_time": "2023-04-27T19:24:26.607Z"
   },
   {
    "duration": 35,
    "start_time": "2023-04-27T19:24:26.978Z"
   },
   {
    "duration": 5,
    "start_time": "2023-04-27T19:24:27.015Z"
   },
   {
    "duration": 465,
    "start_time": "2023-04-27T19:24:31.685Z"
   },
   {
    "duration": 30,
    "start_time": "2023-04-27T19:24:32.152Z"
   },
   {
    "duration": 4,
    "start_time": "2023-04-27T19:24:32.191Z"
   },
   {
    "duration": 105,
    "start_time": "2023-04-27T19:24:35.005Z"
   },
   {
    "duration": 13,
    "start_time": "2023-04-27T19:24:35.189Z"
   },
   {
    "duration": 4,
    "start_time": "2023-04-27T19:24:35.323Z"
   },
   {
    "duration": 27,
    "start_time": "2023-04-27T19:24:39.923Z"
   },
   {
    "duration": 9,
    "start_time": "2023-04-27T19:24:40.085Z"
   },
   {
    "duration": 3,
    "start_time": "2023-04-27T19:24:40.203Z"
   },
   {
    "duration": 153,
    "start_time": "2023-04-27T19:24:43.201Z"
   },
   {
    "duration": 16,
    "start_time": "2023-04-27T19:24:43.357Z"
   },
   {
    "duration": 5,
    "start_time": "2023-04-27T19:24:43.501Z"
   },
   {
    "duration": 164,
    "start_time": "2023-04-27T19:24:47.087Z"
   },
   {
    "duration": 15,
    "start_time": "2023-04-27T19:24:47.253Z"
   },
   {
    "duration": 4,
    "start_time": "2023-04-27T19:24:47.433Z"
   },
   {
    "duration": 174,
    "start_time": "2023-04-27T19:24:54.593Z"
   },
   {
    "duration": 15,
    "start_time": "2023-04-27T19:24:54.805Z"
   },
   {
    "duration": 4,
    "start_time": "2023-04-27T19:24:54.989Z"
   },
   {
    "duration": 168,
    "start_time": "2023-04-27T19:24:57.912Z"
   },
   {
    "duration": 16,
    "start_time": "2023-04-27T19:24:58.115Z"
   },
   {
    "duration": 3,
    "start_time": "2023-04-27T19:24:58.284Z"
   },
   {
    "duration": 204,
    "start_time": "2023-04-27T19:25:02.704Z"
   },
   {
    "duration": 20,
    "start_time": "2023-04-27T19:25:02.910Z"
   },
   {
    "duration": 4,
    "start_time": "2023-04-27T19:25:03.043Z"
   },
   {
    "duration": 184,
    "start_time": "2023-04-27T19:25:05.643Z"
   },
   {
    "duration": 16,
    "start_time": "2023-04-27T19:25:05.832Z"
   },
   {
    "duration": 4,
    "start_time": "2023-04-27T19:25:05.992Z"
   },
   {
    "duration": 192,
    "start_time": "2023-04-27T19:25:08.784Z"
   },
   {
    "duration": 28,
    "start_time": "2023-04-27T19:25:08.977Z"
   },
   {
    "duration": 4,
    "start_time": "2023-04-27T19:25:09.108Z"
   },
   {
    "duration": 205,
    "start_time": "2023-04-27T19:25:11.453Z"
   },
   {
    "duration": 18,
    "start_time": "2023-04-27T19:25:11.660Z"
   },
   {
    "duration": 4,
    "start_time": "2023-04-27T19:25:11.840Z"
   },
   {
    "duration": 223,
    "start_time": "2023-04-27T19:25:14.603Z"
   },
   {
    "duration": 18,
    "start_time": "2023-04-27T19:25:14.828Z"
   },
   {
    "duration": 4,
    "start_time": "2023-04-27T19:25:14.942Z"
   },
   {
    "duration": 225,
    "start_time": "2023-04-27T19:25:18.109Z"
   },
   {
    "duration": 18,
    "start_time": "2023-04-27T19:25:18.336Z"
   },
   {
    "duration": 4,
    "start_time": "2023-04-27T19:25:18.486Z"
   },
   {
    "duration": 243,
    "start_time": "2023-04-27T19:25:20.824Z"
   },
   {
    "duration": 29,
    "start_time": "2023-04-27T19:25:21.069Z"
   },
   {
    "duration": 5,
    "start_time": "2023-04-27T19:25:21.153Z"
   },
   {
    "duration": 290,
    "start_time": "2023-04-27T19:25:23.489Z"
   },
   {
    "duration": 30,
    "start_time": "2023-04-27T19:25:23.782Z"
   },
   {
    "duration": 4,
    "start_time": "2023-04-27T19:25:23.815Z"
   },
   {
    "duration": 263,
    "start_time": "2023-04-27T19:25:26.486Z"
   },
   {
    "duration": 19,
    "start_time": "2023-04-27T19:25:26.751Z"
   },
   {
    "duration": 3,
    "start_time": "2023-04-27T19:25:26.817Z"
   },
   {
    "duration": 253,
    "start_time": "2023-04-27T19:25:29.486Z"
   },
   {
    "duration": 21,
    "start_time": "2023-04-27T19:25:29.741Z"
   },
   {
    "duration": 3,
    "start_time": "2023-04-27T19:25:29.835Z"
   },
   {
    "duration": 280,
    "start_time": "2023-04-27T19:25:33.922Z"
   },
   {
    "duration": 22,
    "start_time": "2023-04-27T19:25:34.204Z"
   },
   {
    "duration": 3,
    "start_time": "2023-04-27T19:25:34.228Z"
   },
   {
    "duration": 339,
    "start_time": "2023-04-27T19:25:36.934Z"
   },
   {
    "duration": 35,
    "start_time": "2023-04-27T19:25:37.275Z"
   },
   {
    "duration": 4,
    "start_time": "2023-04-27T19:25:37.312Z"
   },
   {
    "duration": 242,
    "start_time": "2023-04-27T19:25:41.084Z"
   },
   {
    "duration": 19,
    "start_time": "2023-04-27T19:25:41.328Z"
   },
   {
    "duration": 4,
    "start_time": "2023-04-27T19:25:41.389Z"
   },
   {
    "duration": 242,
    "start_time": "2023-04-27T19:25:44.443Z"
   },
   {
    "duration": 22,
    "start_time": "2023-04-27T19:25:44.691Z"
   },
   {
    "duration": 5,
    "start_time": "2023-04-27T19:25:44.786Z"
   },
   {
    "duration": 371,
    "start_time": "2023-04-27T19:25:51.490Z"
   },
   {
    "duration": 38,
    "start_time": "2023-04-27T19:25:51.863Z"
   },
   {
    "duration": 4,
    "start_time": "2023-04-27T19:25:51.903Z"
   },
   {
    "duration": 471,
    "start_time": "2023-04-27T19:25:54.415Z"
   },
   {
    "duration": 28,
    "start_time": "2023-04-27T19:25:54.892Z"
   },
   {
    "duration": 5,
    "start_time": "2023-04-27T19:25:54.922Z"
   },
   {
    "duration": 233,
    "start_time": "2023-04-27T19:25:57.985Z"
   },
   {
    "duration": 22,
    "start_time": "2023-04-27T19:25:58.220Z"
   },
   {
    "duration": 4,
    "start_time": "2023-04-27T19:25:58.285Z"
   },
   {
    "duration": 242,
    "start_time": "2023-04-27T19:26:02.175Z"
   },
   {
    "duration": 21,
    "start_time": "2023-04-27T19:26:02.420Z"
   },
   {
    "duration": 3,
    "start_time": "2023-04-27T19:26:02.644Z"
   },
   {
    "duration": 31,
    "start_time": "2023-04-27T19:26:15.604Z"
   },
   {
    "duration": 7,
    "start_time": "2023-04-27T19:26:15.783Z"
   },
   {
    "duration": 4,
    "start_time": "2023-04-27T19:26:15.924Z"
   },
   {
    "duration": 4,
    "start_time": "2023-04-27T19:26:16.603Z"
   },
   {
    "duration": 32,
    "start_time": "2023-04-27T19:26:22.725Z"
   },
   {
    "duration": 7,
    "start_time": "2023-04-27T19:26:22.952Z"
   },
   {
    "duration": 4,
    "start_time": "2023-04-27T19:26:23.714Z"
   },
   {
    "duration": 20,
    "start_time": "2023-04-27T19:26:26.372Z"
   },
   {
    "duration": 27,
    "start_time": "2023-04-27T19:26:29.402Z"
   },
   {
    "duration": 28,
    "start_time": "2023-04-27T19:26:31.554Z"
   },
   {
    "duration": 32,
    "start_time": "2023-04-27T19:26:34.183Z"
   },
   {
    "duration": 34,
    "start_time": "2023-04-27T19:26:36.304Z"
   },
   {
    "duration": 35,
    "start_time": "2023-04-27T19:26:39.284Z"
   },
   {
    "duration": 30,
    "start_time": "2023-04-27T19:26:41.681Z"
   },
   {
    "duration": 1413,
    "start_time": "2023-04-27T19:31:03.904Z"
   },
   {
    "duration": 41,
    "start_time": "2023-04-27T19:31:05.319Z"
   },
   {
    "duration": 17,
    "start_time": "2023-04-27T19:31:05.362Z"
   },
   {
    "duration": 17,
    "start_time": "2023-04-27T19:31:05.380Z"
   },
   {
    "duration": 14,
    "start_time": "2023-04-27T19:31:05.399Z"
   },
   {
    "duration": 30,
    "start_time": "2023-04-27T19:31:05.415Z"
   },
   {
    "duration": 1536,
    "start_time": "2023-04-27T19:31:05.447Z"
   },
   {
    "duration": 12,
    "start_time": "2023-04-27T19:31:06.985Z"
   },
   {
    "duration": 24,
    "start_time": "2023-04-27T19:31:06.999Z"
   },
   {
    "duration": 20,
    "start_time": "2023-04-27T19:31:07.025Z"
   },
   {
    "duration": 32,
    "start_time": "2023-04-27T19:31:07.048Z"
   },
   {
    "duration": 32,
    "start_time": "2023-04-27T19:31:07.082Z"
   },
   {
    "duration": 28,
    "start_time": "2023-04-27T19:31:07.116Z"
   },
   {
    "duration": 14,
    "start_time": "2023-04-27T19:31:07.147Z"
   },
   {
    "duration": 26,
    "start_time": "2023-04-27T19:31:07.163Z"
   },
   {
    "duration": 25,
    "start_time": "2023-04-27T19:31:07.191Z"
   },
   {
    "duration": 23,
    "start_time": "2023-04-27T19:31:07.218Z"
   },
   {
    "duration": 27,
    "start_time": "2023-04-27T19:31:07.243Z"
   },
   {
    "duration": 8,
    "start_time": "2023-04-27T19:31:07.272Z"
   },
   {
    "duration": 11,
    "start_time": "2023-04-27T19:31:24.641Z"
   },
   {
    "duration": 4,
    "start_time": "2023-04-27T19:31:24.825Z"
   },
   {
    "duration": 11,
    "start_time": "2023-04-27T19:31:38.063Z"
   },
   {
    "duration": 892,
    "start_time": "2023-04-27T19:31:45.905Z"
   },
   {
    "duration": 10,
    "start_time": "2023-04-27T19:31:47.355Z"
   },
   {
    "duration": 9,
    "start_time": "2023-04-27T19:32:05.650Z"
   },
   {
    "duration": 884,
    "start_time": "2023-04-27T19:33:36.326Z"
   },
   {
    "duration": 599,
    "start_time": "2023-04-27T19:34:01.425Z"
   },
   {
    "duration": 8,
    "start_time": "2023-04-27T19:34:08.852Z"
   },
   {
    "duration": 1572,
    "start_time": "2023-04-27T19:34:20.041Z"
   },
   {
    "duration": 9,
    "start_time": "2023-04-27T19:34:23.107Z"
   },
   {
    "duration": 1655,
    "start_time": "2023-04-27T19:34:30.990Z"
   },
   {
    "duration": 9,
    "start_time": "2023-04-27T19:34:32.647Z"
   },
   {
    "duration": 1369,
    "start_time": "2023-04-27T19:34:49.815Z"
   },
   {
    "duration": 42,
    "start_time": "2023-04-27T19:34:51.186Z"
   },
   {
    "duration": 18,
    "start_time": "2023-04-27T19:34:51.229Z"
   },
   {
    "duration": 19,
    "start_time": "2023-04-27T19:34:51.248Z"
   },
   {
    "duration": 12,
    "start_time": "2023-04-27T19:34:51.270Z"
   },
   {
    "duration": 20,
    "start_time": "2023-04-27T19:34:51.283Z"
   },
   {
    "duration": 1487,
    "start_time": "2023-04-27T19:34:51.304Z"
   },
   {
    "duration": 10,
    "start_time": "2023-04-27T19:34:52.793Z"
   },
   {
    "duration": 8,
    "start_time": "2023-04-27T19:34:52.804Z"
   },
   {
    "duration": 13,
    "start_time": "2023-04-27T19:34:52.814Z"
   },
   {
    "duration": 21,
    "start_time": "2023-04-27T19:34:52.828Z"
   },
   {
    "duration": 18,
    "start_time": "2023-04-27T19:34:52.851Z"
   },
   {
    "duration": 24,
    "start_time": "2023-04-27T19:34:52.871Z"
   },
   {
    "duration": 8,
    "start_time": "2023-04-27T19:34:52.897Z"
   },
   {
    "duration": 20,
    "start_time": "2023-04-27T19:34:52.907Z"
   },
   {
    "duration": 59,
    "start_time": "2023-04-27T19:34:52.929Z"
   },
   {
    "duration": 12,
    "start_time": "2023-04-27T19:34:52.990Z"
   },
   {
    "duration": 23,
    "start_time": "2023-04-27T19:34:53.004Z"
   },
   {
    "duration": 6,
    "start_time": "2023-04-27T19:34:53.029Z"
   },
   {
    "duration": 37,
    "start_time": "2023-04-27T19:34:53.037Z"
   },
   {
    "duration": 6,
    "start_time": "2023-04-27T19:34:53.076Z"
   },
   {
    "duration": 926,
    "start_time": "2023-04-27T19:34:53.083Z"
   },
   {
    "duration": 10,
    "start_time": "2023-04-27T19:34:54.010Z"
   },
   {
    "duration": 786,
    "start_time": "2023-04-27T19:34:54.022Z"
   },
   {
    "duration": 10,
    "start_time": "2023-04-27T19:34:54.810Z"
   },
   {
    "duration": 25,
    "start_time": "2023-04-27T19:35:49.205Z"
   },
   {
    "duration": 13,
    "start_time": "2023-04-27T19:35:50.455Z"
   },
   {
    "duration": 21,
    "start_time": "2023-04-27T19:38:16.136Z"
   },
   {
    "duration": 6,
    "start_time": "2023-04-27T19:38:28.305Z"
   },
   {
    "duration": 12,
    "start_time": "2023-04-27T19:38:34.453Z"
   },
   {
    "duration": 8,
    "start_time": "2023-04-27T19:38:59.840Z"
   },
   {
    "duration": 59,
    "start_time": "2023-04-27T19:39:13.408Z"
   },
   {
    "duration": 7,
    "start_time": "2023-04-27T19:39:19.427Z"
   },
   {
    "duration": 122,
    "start_time": "2023-04-27T19:39:36.385Z"
   },
   {
    "duration": 9,
    "start_time": "2023-04-27T19:39:43.526Z"
   },
   {
    "duration": 5,
    "start_time": "2023-04-27T19:40:07.833Z"
   },
   {
    "duration": 38,
    "start_time": "2023-04-27T19:40:07.842Z"
   },
   {
    "duration": 14,
    "start_time": "2023-04-27T19:40:07.882Z"
   },
   {
    "duration": 5,
    "start_time": "2023-04-27T19:40:07.898Z"
   },
   {
    "duration": 7,
    "start_time": "2023-04-27T19:40:07.905Z"
   },
   {
    "duration": 25,
    "start_time": "2023-04-27T19:40:07.913Z"
   },
   {
    "duration": 1451,
    "start_time": "2023-04-27T19:40:07.940Z"
   },
   {
    "duration": 8,
    "start_time": "2023-04-27T19:40:09.393Z"
   },
   {
    "duration": 14,
    "start_time": "2023-04-27T19:40:09.403Z"
   },
   {
    "duration": 7,
    "start_time": "2023-04-27T19:40:09.419Z"
   },
   {
    "duration": 6,
    "start_time": "2023-04-27T19:40:09.428Z"
   },
   {
    "duration": 16,
    "start_time": "2023-04-27T19:40:09.435Z"
   },
   {
    "duration": 15,
    "start_time": "2023-04-27T19:40:09.452Z"
   },
   {
    "duration": 22,
    "start_time": "2023-04-27T19:40:09.470Z"
   },
   {
    "duration": 19,
    "start_time": "2023-04-27T19:40:09.494Z"
   },
   {
    "duration": 36,
    "start_time": "2023-04-27T19:40:09.515Z"
   },
   {
    "duration": 7,
    "start_time": "2023-04-27T19:40:09.552Z"
   },
   {
    "duration": 18,
    "start_time": "2023-04-27T19:40:09.561Z"
   },
   {
    "duration": 9,
    "start_time": "2023-04-27T19:40:09.581Z"
   },
   {
    "duration": 11,
    "start_time": "2023-04-27T19:40:09.592Z"
   },
   {
    "duration": 5,
    "start_time": "2023-04-27T19:40:09.604Z"
   },
   {
    "duration": 964,
    "start_time": "2023-04-27T19:40:09.611Z"
   },
   {
    "duration": 17,
    "start_time": "2023-04-27T19:40:10.577Z"
   },
   {
    "duration": 522,
    "start_time": "2023-04-27T19:40:10.596Z"
   },
   {
    "duration": 9,
    "start_time": "2023-04-27T19:40:11.120Z"
   },
   {
    "duration": 8,
    "start_time": "2023-04-27T19:40:11.131Z"
   },
   {
    "duration": 9,
    "start_time": "2023-04-27T19:40:11.141Z"
   },
   {
    "duration": 50,
    "start_time": "2023-04-27T19:40:11.151Z"
   },
   {
    "duration": 10,
    "start_time": "2023-04-27T19:40:11.203Z"
   },
   {
    "duration": 1386,
    "start_time": "2023-04-27T19:40:33.185Z"
   },
   {
    "duration": 41,
    "start_time": "2023-04-27T19:40:34.573Z"
   },
   {
    "duration": 16,
    "start_time": "2023-04-27T19:40:34.616Z"
   },
   {
    "duration": 4,
    "start_time": "2023-04-27T19:40:34.634Z"
   },
   {
    "duration": 4,
    "start_time": "2023-04-27T19:40:34.640Z"
   },
   {
    "duration": 15,
    "start_time": "2023-04-27T19:40:34.645Z"
   },
   {
    "duration": 1499,
    "start_time": "2023-04-27T19:40:34.662Z"
   },
   {
    "duration": 10,
    "start_time": "2023-04-27T19:40:36.163Z"
   },
   {
    "duration": 20,
    "start_time": "2023-04-27T19:40:36.175Z"
   },
   {
    "duration": 23,
    "start_time": "2023-04-27T19:40:36.196Z"
   },
   {
    "duration": 22,
    "start_time": "2023-04-27T19:40:36.221Z"
   },
   {
    "duration": 20,
    "start_time": "2023-04-27T19:40:36.245Z"
   },
   {
    "duration": 34,
    "start_time": "2023-04-27T19:40:36.267Z"
   },
   {
    "duration": 17,
    "start_time": "2023-04-27T19:40:36.304Z"
   },
   {
    "duration": 22,
    "start_time": "2023-04-27T19:40:36.324Z"
   },
   {
    "duration": 19,
    "start_time": "2023-04-27T19:40:36.348Z"
   },
   {
    "duration": 17,
    "start_time": "2023-04-27T19:40:36.369Z"
   },
   {
    "duration": 24,
    "start_time": "2023-04-27T19:40:36.387Z"
   },
   {
    "duration": 6,
    "start_time": "2023-04-27T19:40:36.413Z"
   },
   {
    "duration": 23,
    "start_time": "2023-04-27T19:40:36.420Z"
   },
   {
    "duration": 5,
    "start_time": "2023-04-27T19:40:36.445Z"
   },
   {
    "duration": 913,
    "start_time": "2023-04-27T19:40:36.452Z"
   },
   {
    "duration": 13,
    "start_time": "2023-04-27T19:40:37.367Z"
   },
   {
    "duration": 750,
    "start_time": "2023-04-27T19:40:37.382Z"
   },
   {
    "duration": 9,
    "start_time": "2023-04-27T19:40:38.134Z"
   },
   {
    "duration": 10,
    "start_time": "2023-04-27T19:40:38.144Z"
   },
   {
    "duration": 8,
    "start_time": "2023-04-27T19:40:38.156Z"
   },
   {
    "duration": 26,
    "start_time": "2023-04-27T19:40:38.192Z"
   },
   {
    "duration": 14,
    "start_time": "2023-04-27T19:40:41.469Z"
   },
   {
    "duration": 13,
    "start_time": "2023-04-27T19:40:53.327Z"
   },
   {
    "duration": 3,
    "start_time": "2023-04-27T19:40:53.827Z"
   },
   {
    "duration": 7,
    "start_time": "2023-04-27T19:40:53.877Z"
   },
   {
    "duration": 124,
    "start_time": "2023-04-27T19:40:53.957Z"
   },
   {
    "duration": 0,
    "start_time": "2023-04-27T19:40:54.083Z"
   },
   {
    "duration": 19,
    "start_time": "2023-04-27T19:40:54.176Z"
   },
   {
    "duration": 16,
    "start_time": "2023-04-27T19:40:55.978Z"
   },
   {
    "duration": 16,
    "start_time": "2023-04-27T19:40:56.005Z"
   },
   {
    "duration": 9,
    "start_time": "2023-04-27T19:40:56.034Z"
   },
   {
    "duration": 25,
    "start_time": "2023-04-27T19:40:56.126Z"
   },
   {
    "duration": 17,
    "start_time": "2023-04-27T19:40:56.237Z"
   },
   {
    "duration": 17,
    "start_time": "2023-04-27T19:40:57.310Z"
   },
   {
    "duration": 27,
    "start_time": "2023-04-27T19:40:58.440Z"
   },
   {
    "duration": 14,
    "start_time": "2023-04-27T19:40:58.659Z"
   },
   {
    "duration": 1426,
    "start_time": "2023-04-27T19:42:16.327Z"
   },
   {
    "duration": 40,
    "start_time": "2023-04-27T19:42:17.756Z"
   },
   {
    "duration": 17,
    "start_time": "2023-04-27T19:42:17.798Z"
   },
   {
    "duration": 5,
    "start_time": "2023-04-27T19:42:17.817Z"
   },
   {
    "duration": 10,
    "start_time": "2023-04-27T19:42:17.825Z"
   },
   {
    "duration": 15,
    "start_time": "2023-04-27T19:42:17.837Z"
   },
   {
    "duration": 1533,
    "start_time": "2023-04-27T19:42:17.854Z"
   },
   {
    "duration": 10,
    "start_time": "2023-04-27T19:42:19.389Z"
   },
   {
    "duration": 6,
    "start_time": "2023-04-27T19:42:19.401Z"
   },
   {
    "duration": 5,
    "start_time": "2023-04-27T19:42:19.409Z"
   },
   {
    "duration": 8,
    "start_time": "2023-04-27T19:42:19.415Z"
   },
   {
    "duration": 9,
    "start_time": "2023-04-27T19:42:19.425Z"
   },
   {
    "duration": 32,
    "start_time": "2023-04-27T19:42:19.436Z"
   },
   {
    "duration": 24,
    "start_time": "2023-04-27T19:42:19.471Z"
   },
   {
    "duration": 20,
    "start_time": "2023-04-27T19:42:19.497Z"
   },
   {
    "duration": 23,
    "start_time": "2023-04-27T19:42:19.519Z"
   },
   {
    "duration": 5,
    "start_time": "2023-04-27T19:42:19.543Z"
   },
   {
    "duration": 22,
    "start_time": "2023-04-27T19:42:19.549Z"
   },
   {
    "duration": 20,
    "start_time": "2023-04-27T19:42:19.573Z"
   },
   {
    "duration": 16,
    "start_time": "2023-04-27T19:42:19.594Z"
   },
   {
    "duration": 5,
    "start_time": "2023-04-27T19:42:19.612Z"
   },
   {
    "duration": 866,
    "start_time": "2023-04-27T19:42:19.619Z"
   },
   {
    "duration": 12,
    "start_time": "2023-04-27T19:42:20.487Z"
   },
   {
    "duration": 9,
    "start_time": "2023-04-27T19:42:51.747Z"
   },
   {
    "duration": 704,
    "start_time": "2023-04-27T19:45:04.912Z"
   },
   {
    "duration": 9,
    "start_time": "2023-04-27T19:45:06.920Z"
   },
   {
    "duration": 1359,
    "start_time": "2023-04-27T19:46:57.409Z"
   },
   {
    "duration": 40,
    "start_time": "2023-04-27T19:46:58.770Z"
   },
   {
    "duration": 16,
    "start_time": "2023-04-27T19:46:58.812Z"
   },
   {
    "duration": 10,
    "start_time": "2023-04-27T19:46:58.829Z"
   },
   {
    "duration": 21,
    "start_time": "2023-04-27T19:46:58.841Z"
   },
   {
    "duration": 15,
    "start_time": "2023-04-27T19:46:58.864Z"
   },
   {
    "duration": 1474,
    "start_time": "2023-04-27T19:46:58.880Z"
   },
   {
    "duration": 9,
    "start_time": "2023-04-27T19:47:00.357Z"
   },
   {
    "duration": 27,
    "start_time": "2023-04-27T19:47:00.368Z"
   },
   {
    "duration": 13,
    "start_time": "2023-04-27T19:47:00.396Z"
   },
   {
    "duration": 44,
    "start_time": "2023-04-27T19:47:00.410Z"
   },
   {
    "duration": 59,
    "start_time": "2023-04-27T19:47:00.456Z"
   },
   {
    "duration": 50,
    "start_time": "2023-04-27T19:47:00.517Z"
   },
   {
    "duration": 33,
    "start_time": "2023-04-27T19:47:00.569Z"
   },
   {
    "duration": 47,
    "start_time": "2023-04-27T19:47:00.604Z"
   },
   {
    "duration": 48,
    "start_time": "2023-04-27T19:47:00.653Z"
   },
   {
    "duration": 32,
    "start_time": "2023-04-27T19:47:00.702Z"
   },
   {
    "duration": 41,
    "start_time": "2023-04-27T19:47:00.736Z"
   },
   {
    "duration": 29,
    "start_time": "2023-04-27T19:47:00.779Z"
   },
   {
    "duration": 47,
    "start_time": "2023-04-27T19:47:00.809Z"
   },
   {
    "duration": 36,
    "start_time": "2023-04-27T19:47:00.857Z"
   },
   {
    "duration": 846,
    "start_time": "2023-04-27T19:47:00.895Z"
   },
   {
    "duration": 9,
    "start_time": "2023-04-27T19:47:01.743Z"
   },
   {
    "duration": 107,
    "start_time": "2023-04-27T19:47:05.131Z"
   },
   {
    "duration": 535,
    "start_time": "2023-04-27T19:54:41.374Z"
   },
   {
    "duration": 11,
    "start_time": "2023-04-27T19:54:47.567Z"
   },
   {
    "duration": 10,
    "start_time": "2023-04-27T19:55:02.804Z"
   },
   {
    "duration": 11,
    "start_time": "2023-04-27T19:55:14.721Z"
   },
   {
    "duration": 1762,
    "start_time": "2023-04-27T19:55:30.826Z"
   },
   {
    "duration": 42,
    "start_time": "2023-04-27T19:55:32.591Z"
   },
   {
    "duration": 25,
    "start_time": "2023-04-27T19:55:32.635Z"
   },
   {
    "duration": 5,
    "start_time": "2023-04-27T19:55:32.663Z"
   },
   {
    "duration": 27,
    "start_time": "2023-04-27T19:55:32.670Z"
   },
   {
    "duration": 21,
    "start_time": "2023-04-27T19:55:32.699Z"
   },
   {
    "duration": 1466,
    "start_time": "2023-04-27T19:55:32.721Z"
   },
   {
    "duration": 9,
    "start_time": "2023-04-27T19:55:34.192Z"
   },
   {
    "duration": 5,
    "start_time": "2023-04-27T19:55:34.202Z"
   },
   {
    "duration": 7,
    "start_time": "2023-04-27T19:55:34.208Z"
   },
   {
    "duration": 6,
    "start_time": "2023-04-27T19:55:34.217Z"
   },
   {
    "duration": 11,
    "start_time": "2023-04-27T19:55:34.224Z"
   },
   {
    "duration": 10,
    "start_time": "2023-04-27T19:55:34.237Z"
   },
   {
    "duration": 43,
    "start_time": "2023-04-27T19:55:34.249Z"
   },
   {
    "duration": 5,
    "start_time": "2023-04-27T19:55:34.293Z"
   },
   {
    "duration": 21,
    "start_time": "2023-04-27T19:55:34.300Z"
   },
   {
    "duration": 3,
    "start_time": "2023-04-27T19:55:34.323Z"
   },
   {
    "duration": 16,
    "start_time": "2023-04-27T19:55:34.327Z"
   },
   {
    "duration": 5,
    "start_time": "2023-04-27T19:55:34.344Z"
   },
   {
    "duration": 45,
    "start_time": "2023-04-27T19:55:34.350Z"
   },
   {
    "duration": 4,
    "start_time": "2023-04-27T19:55:34.397Z"
   },
   {
    "duration": 882,
    "start_time": "2023-04-27T19:55:34.402Z"
   },
   {
    "duration": 9,
    "start_time": "2023-04-27T19:55:35.287Z"
   },
   {
    "duration": 573,
    "start_time": "2023-04-27T19:55:42.247Z"
   },
   {
    "duration": 114,
    "start_time": "2023-04-27T19:55:43.921Z"
   },
   {
    "duration": 19,
    "start_time": "2023-04-27T19:56:40.917Z"
   },
   {
    "duration": 4,
    "start_time": "2023-04-27T19:57:54.587Z"
   },
   {
    "duration": 11,
    "start_time": "2023-04-27T19:58:02.978Z"
   },
   {
    "duration": 14,
    "start_time": "2023-04-27T19:58:12.482Z"
   },
   {
    "duration": 9,
    "start_time": "2023-04-27T19:58:18.824Z"
   },
   {
    "duration": 3,
    "start_time": "2023-04-27T19:59:11.396Z"
   },
   {
    "duration": 10,
    "start_time": "2023-04-27T19:59:13.710Z"
   },
   {
    "duration": 716,
    "start_time": "2023-04-27T19:59:26.786Z"
   },
   {
    "duration": 10,
    "start_time": "2023-04-27T19:59:28.556Z"
   },
   {
    "duration": 4,
    "start_time": "2023-04-27T19:59:35.826Z"
   },
   {
    "duration": 9,
    "start_time": "2023-04-27T19:59:36.672Z"
   },
   {
    "duration": 1347,
    "start_time": "2023-04-27T20:00:25.154Z"
   },
   {
    "duration": 41,
    "start_time": "2023-04-27T20:00:26.503Z"
   },
   {
    "duration": 17,
    "start_time": "2023-04-27T20:00:26.546Z"
   },
   {
    "duration": 4,
    "start_time": "2023-04-27T20:00:26.565Z"
   },
   {
    "duration": 10,
    "start_time": "2023-04-27T20:00:26.571Z"
   },
   {
    "duration": 20,
    "start_time": "2023-04-27T20:00:26.583Z"
   },
   {
    "duration": 1547,
    "start_time": "2023-04-27T20:00:26.604Z"
   },
   {
    "duration": 10,
    "start_time": "2023-04-27T20:00:28.153Z"
   },
   {
    "duration": 5,
    "start_time": "2023-04-27T20:00:28.165Z"
   },
   {
    "duration": 5,
    "start_time": "2023-04-27T20:00:28.193Z"
   },
   {
    "duration": 13,
    "start_time": "2023-04-27T20:00:28.199Z"
   },
   {
    "duration": 16,
    "start_time": "2023-04-27T20:00:28.214Z"
   },
   {
    "duration": 13,
    "start_time": "2023-04-27T20:00:28.232Z"
   },
   {
    "duration": 4,
    "start_time": "2023-04-27T20:00:28.248Z"
   },
   {
    "duration": 8,
    "start_time": "2023-04-27T20:00:28.253Z"
   },
   {
    "duration": 34,
    "start_time": "2023-04-27T20:00:28.263Z"
   },
   {
    "duration": 5,
    "start_time": "2023-04-27T20:00:28.299Z"
   },
   {
    "duration": 21,
    "start_time": "2023-04-27T20:00:28.306Z"
   },
   {
    "duration": 7,
    "start_time": "2023-04-27T20:00:28.329Z"
   },
   {
    "duration": 14,
    "start_time": "2023-04-27T20:00:28.337Z"
   },
   {
    "duration": 5,
    "start_time": "2023-04-27T20:00:28.353Z"
   },
   {
    "duration": 933,
    "start_time": "2023-04-27T20:00:28.360Z"
   },
   {
    "duration": 10,
    "start_time": "2023-04-27T20:00:29.295Z"
   },
   {
    "duration": 616,
    "start_time": "2023-04-27T20:00:29.307Z"
   },
   {
    "duration": 8,
    "start_time": "2023-04-27T20:00:29.925Z"
   },
   {
    "duration": 2,
    "start_time": "2023-04-27T20:00:29.935Z"
   },
   {
    "duration": 9,
    "start_time": "2023-04-27T20:00:29.939Z"
   },
   {
    "duration": 9,
    "start_time": "2023-04-27T20:00:29.949Z"
   },
   {
    "duration": 10,
    "start_time": "2023-04-27T20:00:32.685Z"
   },
   {
    "duration": 10,
    "start_time": "2023-04-27T20:00:32.983Z"
   },
   {
    "duration": 28,
    "start_time": "2023-04-27T20:00:38.315Z"
   },
   {
    "duration": 13,
    "start_time": "2023-04-27T20:00:38.525Z"
   },
   {
    "duration": 11,
    "start_time": "2023-04-27T20:00:44.636Z"
   },
   {
    "duration": 3,
    "start_time": "2023-04-27T20:00:47.085Z"
   },
   {
    "duration": 6,
    "start_time": "2023-04-27T20:00:47.584Z"
   },
   {
    "duration": 372,
    "start_time": "2023-04-27T20:00:47.685Z"
   },
   {
    "duration": 0,
    "start_time": "2023-04-27T20:00:48.059Z"
   },
   {
    "duration": 0,
    "start_time": "2023-04-27T20:00:48.061Z"
   },
   {
    "duration": 1,
    "start_time": "2023-04-27T20:00:48.062Z"
   },
   {
    "duration": 0,
    "start_time": "2023-04-27T20:00:48.064Z"
   },
   {
    "duration": 9,
    "start_time": "2023-04-27T20:00:48.581Z"
   },
   {
    "duration": 12,
    "start_time": "2023-04-27T20:00:49.064Z"
   },
   {
    "duration": 41,
    "start_time": "2023-04-27T20:00:49.580Z"
   },
   {
    "duration": 11,
    "start_time": "2023-04-27T20:00:50.355Z"
   },
   {
    "duration": 28,
    "start_time": "2023-04-27T20:00:51.055Z"
   },
   {
    "duration": 24,
    "start_time": "2023-04-27T20:00:51.356Z"
   },
   {
    "duration": 278,
    "start_time": "2023-04-27T20:00:56.479Z"
   },
   {
    "duration": 5,
    "start_time": "2023-04-27T20:01:57.876Z"
   },
   {
    "duration": 1403,
    "start_time": "2023-04-27T20:04:56.433Z"
   },
   {
    "duration": 43,
    "start_time": "2023-04-27T20:04:57.838Z"
   },
   {
    "duration": 18,
    "start_time": "2023-04-27T20:04:57.882Z"
   },
   {
    "duration": 8,
    "start_time": "2023-04-27T20:04:57.901Z"
   },
   {
    "duration": 5,
    "start_time": "2023-04-27T20:04:57.910Z"
   },
   {
    "duration": 23,
    "start_time": "2023-04-27T20:04:57.916Z"
   },
   {
    "duration": 1475,
    "start_time": "2023-04-27T20:04:57.941Z"
   },
   {
    "duration": 11,
    "start_time": "2023-04-27T20:04:59.418Z"
   },
   {
    "duration": 6,
    "start_time": "2023-04-27T20:04:59.430Z"
   },
   {
    "duration": 18,
    "start_time": "2023-04-27T20:04:59.437Z"
   },
   {
    "duration": 17,
    "start_time": "2023-04-27T20:04:59.456Z"
   },
   {
    "duration": 18,
    "start_time": "2023-04-27T20:04:59.475Z"
   },
   {
    "duration": 27,
    "start_time": "2023-04-27T20:04:59.495Z"
   },
   {
    "duration": 6,
    "start_time": "2023-04-27T20:04:59.525Z"
   },
   {
    "duration": 13,
    "start_time": "2023-04-27T20:04:59.533Z"
   },
   {
    "duration": 31,
    "start_time": "2023-04-27T20:04:59.548Z"
   },
   {
    "duration": 4,
    "start_time": "2023-04-27T20:04:59.581Z"
   },
   {
    "duration": 17,
    "start_time": "2023-04-27T20:04:59.586Z"
   },
   {
    "duration": 6,
    "start_time": "2023-04-27T20:04:59.605Z"
   },
   {
    "duration": 17,
    "start_time": "2023-04-27T20:04:59.613Z"
   },
   {
    "duration": 10,
    "start_time": "2023-04-27T20:04:59.632Z"
   },
   {
    "duration": 926,
    "start_time": "2023-04-27T20:04:59.643Z"
   },
   {
    "duration": 10,
    "start_time": "2023-04-27T20:05:00.572Z"
   },
   {
    "duration": 690,
    "start_time": "2023-04-27T20:05:57.434Z"
   },
   {
    "duration": 719,
    "start_time": "2023-04-27T20:06:11.878Z"
   },
   {
    "duration": 117,
    "start_time": "2023-04-27T20:06:37.682Z"
   },
   {
    "duration": 9,
    "start_time": "2023-04-27T20:06:39.117Z"
   },
   {
    "duration": 9,
    "start_time": "2023-04-27T20:06:39.985Z"
   },
   {
    "duration": 6,
    "start_time": "2023-04-27T20:07:04.785Z"
   },
   {
    "duration": 6,
    "start_time": "2023-04-27T20:07:08.407Z"
   },
   {
    "duration": 13,
    "start_time": "2023-04-27T20:07:16.035Z"
   },
   {
    "duration": 3,
    "start_time": "2023-04-27T20:09:15.736Z"
   },
   {
    "duration": 5,
    "start_time": "2023-04-27T20:09:21.965Z"
   },
   {
    "duration": 220,
    "start_time": "2023-04-27T20:09:22.536Z"
   },
   {
    "duration": 40,
    "start_time": "2023-04-27T20:09:22.759Z"
   },
   {
    "duration": 42,
    "start_time": "2023-04-27T20:09:22.802Z"
   },
   {
    "duration": 96,
    "start_time": "2023-04-27T20:09:22.906Z"
   },
   {
    "duration": 7,
    "start_time": "2023-04-27T20:09:23.004Z"
   },
   {
    "duration": 13,
    "start_time": "2023-04-27T20:09:23.012Z"
   },
   {
    "duration": 87,
    "start_time": "2023-04-27T20:09:23.055Z"
   },
   {
    "duration": 30,
    "start_time": "2023-04-27T20:09:23.144Z"
   },
   {
    "duration": 21,
    "start_time": "2023-04-27T20:09:23.245Z"
   },
   {
    "duration": 33,
    "start_time": "2023-04-27T20:09:23.393Z"
   },
   {
    "duration": 223,
    "start_time": "2023-04-27T20:09:23.492Z"
   },
   {
    "duration": 245,
    "start_time": "2023-04-27T20:09:34.625Z"
   },
   {
    "duration": 30,
    "start_time": "2023-04-27T20:09:36.348Z"
   },
   {
    "duration": 1436,
    "start_time": "2023-04-27T20:10:45.216Z"
   },
   {
    "duration": 50,
    "start_time": "2023-04-27T20:10:46.654Z"
   },
   {
    "duration": 19,
    "start_time": "2023-04-27T20:10:46.706Z"
   },
   {
    "duration": 5,
    "start_time": "2023-04-27T20:10:46.727Z"
   },
   {
    "duration": 3,
    "start_time": "2023-04-27T20:10:46.734Z"
   },
   {
    "duration": 15,
    "start_time": "2023-04-27T20:10:46.739Z"
   },
   {
    "duration": 1553,
    "start_time": "2023-04-27T20:10:46.755Z"
   },
   {
    "duration": 9,
    "start_time": "2023-04-27T20:10:48.310Z"
   },
   {
    "duration": 5,
    "start_time": "2023-04-27T20:10:48.320Z"
   },
   {
    "duration": 5,
    "start_time": "2023-04-27T20:10:48.326Z"
   },
   {
    "duration": 6,
    "start_time": "2023-04-27T20:10:48.332Z"
   },
   {
    "duration": 8,
    "start_time": "2023-04-27T20:10:48.339Z"
   },
   {
    "duration": 7,
    "start_time": "2023-04-27T20:10:48.348Z"
   },
   {
    "duration": 11,
    "start_time": "2023-04-27T20:10:48.358Z"
   },
   {
    "duration": 18,
    "start_time": "2023-04-27T20:10:48.391Z"
   },
   {
    "duration": 21,
    "start_time": "2023-04-27T20:10:48.410Z"
   },
   {
    "duration": 3,
    "start_time": "2023-04-27T20:10:48.433Z"
   },
   {
    "duration": 19,
    "start_time": "2023-04-27T20:10:48.438Z"
   },
   {
    "duration": 5,
    "start_time": "2023-04-27T20:10:48.459Z"
   },
   {
    "duration": 38,
    "start_time": "2023-04-27T20:10:48.466Z"
   },
   {
    "duration": 3,
    "start_time": "2023-04-27T20:10:48.506Z"
   },
   {
    "duration": 854,
    "start_time": "2023-04-27T20:10:48.511Z"
   },
   {
    "duration": 9,
    "start_time": "2023-04-27T20:10:49.366Z"
   },
   {
    "duration": 828,
    "start_time": "2023-04-27T20:10:49.377Z"
   },
   {
    "duration": 96,
    "start_time": "2023-04-27T20:10:50.207Z"
   },
   {
    "duration": 11,
    "start_time": "2023-04-27T20:10:50.306Z"
   },
   {
    "duration": 9,
    "start_time": "2023-04-27T20:12:08.462Z"
   },
   {
    "duration": 29,
    "start_time": "2023-04-27T20:12:13.389Z"
   },
   {
    "duration": 7,
    "start_time": "2023-04-27T20:12:31.103Z"
   },
   {
    "duration": 23,
    "start_time": "2023-04-27T20:12:32.206Z"
   },
   {
    "duration": 17,
    "start_time": "2023-04-27T20:12:38.689Z"
   },
   {
    "duration": 5,
    "start_time": "2023-04-27T20:13:39.738Z"
   },
   {
    "duration": 17,
    "start_time": "2023-04-27T20:13:41.180Z"
   },
   {
    "duration": 7,
    "start_time": "2023-04-27T20:19:56.224Z"
   },
   {
    "duration": 9,
    "start_time": "2023-04-27T20:20:07.382Z"
   },
   {
    "duration": 19,
    "start_time": "2023-04-27T20:20:12.055Z"
   },
   {
    "duration": 9,
    "start_time": "2023-04-27T20:21:18.521Z"
   },
   {
    "duration": 7,
    "start_time": "2023-04-27T20:21:19.051Z"
   },
   {
    "duration": 24,
    "start_time": "2023-04-27T20:21:25.155Z"
   },
   {
    "duration": 11,
    "start_time": "2023-04-27T20:21:25.754Z"
   },
   {
    "duration": 11,
    "start_time": "2023-04-27T20:21:31.525Z"
   },
   {
    "duration": 4,
    "start_time": "2023-04-27T20:21:32.144Z"
   },
   {
    "duration": 5,
    "start_time": "2023-04-27T20:21:32.684Z"
   },
   {
    "duration": 203,
    "start_time": "2023-04-27T20:21:33.378Z"
   },
   {
    "duration": 31,
    "start_time": "2023-04-27T20:21:34.132Z"
   },
   {
    "duration": 34,
    "start_time": "2023-04-27T20:21:34.876Z"
   },
   {
    "duration": 11,
    "start_time": "2023-04-27T20:21:44.585Z"
   },
   {
    "duration": 4,
    "start_time": "2023-04-27T20:21:44.764Z"
   },
   {
    "duration": 7,
    "start_time": "2023-04-27T20:21:44.974Z"
   },
   {
    "duration": 96,
    "start_time": "2023-04-27T20:21:45.540Z"
   },
   {
    "duration": 32,
    "start_time": "2023-04-27T20:21:46.114Z"
   },
   {
    "duration": 20,
    "start_time": "2023-04-27T20:21:46.203Z"
   },
   {
    "duration": 24,
    "start_time": "2023-04-27T20:21:46.514Z"
   },
   {
    "duration": 118,
    "start_time": "2023-04-27T20:21:46.714Z"
   },
   {
    "duration": 221,
    "start_time": "2023-04-27T20:21:49.914Z"
   },
   {
    "duration": 18,
    "start_time": "2023-04-27T20:21:51.254Z"
   },
   {
    "duration": 3,
    "start_time": "2023-04-27T20:21:51.989Z"
   },
   {
    "duration": 20,
    "start_time": "2023-04-27T20:22:00.595Z"
   },
   {
    "duration": 6,
    "start_time": "2023-04-27T20:22:00.814Z"
   },
   {
    "duration": 4,
    "start_time": "2023-04-27T20:22:01.002Z"
   },
   {
    "duration": 31,
    "start_time": "2023-04-27T20:22:08.184Z"
   },
   {
    "duration": 6,
    "start_time": "2023-04-27T20:22:09.364Z"
   },
   {
    "duration": 4,
    "start_time": "2023-04-27T20:22:09.602Z"
   },
   {
    "duration": 3,
    "start_time": "2023-04-27T20:22:09.847Z"
   },
   {
    "duration": 284,
    "start_time": "2023-04-27T20:29:35.894Z"
   },
   {
    "duration": 22,
    "start_time": "2023-04-27T20:29:37.853Z"
   },
   {
    "duration": 4,
    "start_time": "2023-04-27T20:29:38.077Z"
   },
   {
    "duration": 274,
    "start_time": "2023-04-27T20:29:56.835Z"
   },
   {
    "duration": 20,
    "start_time": "2023-04-27T20:29:58.064Z"
   },
   {
    "duration": 3,
    "start_time": "2023-04-27T20:29:58.264Z"
   },
   {
    "duration": 306,
    "start_time": "2023-04-27T20:30:07.364Z"
   },
   {
    "duration": 25,
    "start_time": "2023-04-27T20:30:07.673Z"
   },
   {
    "duration": 5,
    "start_time": "2023-04-27T20:30:07.759Z"
   },
   {
    "duration": 199,
    "start_time": "2023-04-27T20:30:10.884Z"
   },
   {
    "duration": 18,
    "start_time": "2023-04-27T20:30:11.091Z"
   },
   {
    "duration": 4,
    "start_time": "2023-04-27T20:30:12.137Z"
   },
   {
    "duration": 202,
    "start_time": "2023-04-27T20:30:15.034Z"
   },
   {
    "duration": 18,
    "start_time": "2023-04-27T20:30:15.721Z"
   },
   {
    "duration": 4,
    "start_time": "2023-04-27T20:30:15.914Z"
   },
   {
    "duration": 244,
    "start_time": "2023-04-27T20:30:19.580Z"
   },
   {
    "duration": 18,
    "start_time": "2023-04-27T20:30:19.827Z"
   },
   {
    "duration": 4,
    "start_time": "2023-04-27T20:30:21.533Z"
   },
   {
    "duration": 306,
    "start_time": "2023-04-27T20:30:26.413Z"
   },
   {
    "duration": 21,
    "start_time": "2023-04-27T20:30:26.721Z"
   },
   {
    "duration": 5,
    "start_time": "2023-04-27T20:30:26.773Z"
   },
   {
    "duration": 137,
    "start_time": "2023-04-27T20:30:31.385Z"
   },
   {
    "duration": 13,
    "start_time": "2023-04-27T20:30:31.545Z"
   },
   {
    "duration": 4,
    "start_time": "2023-04-27T20:30:31.695Z"
   },
   {
    "duration": 127,
    "start_time": "2023-04-27T20:30:34.812Z"
   },
   {
    "duration": 18,
    "start_time": "2023-04-27T20:30:34.964Z"
   },
   {
    "duration": 4,
    "start_time": "2023-04-27T20:30:35.344Z"
   },
   {
    "duration": 157,
    "start_time": "2023-04-27T20:30:37.924Z"
   },
   {
    "duration": 18,
    "start_time": "2023-04-27T20:30:38.111Z"
   },
   {
    "duration": 6,
    "start_time": "2023-04-27T20:30:38.281Z"
   },
   {
    "duration": 177,
    "start_time": "2023-04-27T20:30:40.805Z"
   },
   {
    "duration": 19,
    "start_time": "2023-04-27T20:30:40.984Z"
   },
   {
    "duration": 4,
    "start_time": "2023-04-27T20:30:41.144Z"
   },
   {
    "duration": 194,
    "start_time": "2023-04-27T20:30:43.445Z"
   },
   {
    "duration": 23,
    "start_time": "2023-04-27T20:30:43.642Z"
   },
   {
    "duration": 4,
    "start_time": "2023-04-27T20:30:43.773Z"
   },
   {
    "duration": 218,
    "start_time": "2023-04-27T20:30:45.848Z"
   },
   {
    "duration": 17,
    "start_time": "2023-04-27T20:30:46.067Z"
   },
   {
    "duration": 4,
    "start_time": "2023-04-27T20:30:46.124Z"
   },
   {
    "duration": 211,
    "start_time": "2023-04-27T20:30:48.193Z"
   },
   {
    "duration": 19,
    "start_time": "2023-04-27T20:30:48.407Z"
   },
   {
    "duration": 5,
    "start_time": "2023-04-27T20:30:48.547Z"
   },
   {
    "duration": 237,
    "start_time": "2023-04-27T20:30:52.284Z"
   },
   {
    "duration": 18,
    "start_time": "2023-04-27T20:30:52.523Z"
   },
   {
    "duration": 5,
    "start_time": "2023-04-27T20:30:52.621Z"
   },
   {
    "duration": 275,
    "start_time": "2023-04-27T20:30:55.925Z"
   },
   {
    "duration": 20,
    "start_time": "2023-04-27T20:30:56.202Z"
   },
   {
    "duration": 3,
    "start_time": "2023-04-27T20:30:56.247Z"
   },
   {
    "duration": 279,
    "start_time": "2023-04-27T20:30:59.194Z"
   },
   {
    "duration": 29,
    "start_time": "2023-04-27T20:30:59.475Z"
   },
   {
    "duration": 3,
    "start_time": "2023-04-27T20:30:59.534Z"
   },
   {
    "duration": 296,
    "start_time": "2023-04-27T20:31:06.379Z"
   },
   {
    "duration": 30,
    "start_time": "2023-04-27T20:31:06.677Z"
   },
   {
    "duration": 3,
    "start_time": "2023-04-27T20:31:06.709Z"
   },
   {
    "duration": 277,
    "start_time": "2023-04-27T20:31:09.319Z"
   },
   {
    "duration": 20,
    "start_time": "2023-04-27T20:31:09.597Z"
   },
   {
    "duration": 4,
    "start_time": "2023-04-27T20:31:09.684Z"
   },
   {
    "duration": 305,
    "start_time": "2023-04-27T20:31:12.496Z"
   },
   {
    "duration": 21,
    "start_time": "2023-04-27T20:31:12.804Z"
   },
   {
    "duration": 3,
    "start_time": "2023-04-27T20:31:12.827Z"
   },
   {
    "duration": 266,
    "start_time": "2023-04-27T20:31:15.282Z"
   },
   {
    "duration": 23,
    "start_time": "2023-04-27T20:31:15.549Z"
   },
   {
    "duration": 4,
    "start_time": "2023-04-27T20:31:15.574Z"
   },
   {
    "duration": 279,
    "start_time": "2023-04-27T20:31:17.692Z"
   },
   {
    "duration": 29,
    "start_time": "2023-04-27T20:31:17.972Z"
   },
   {
    "duration": 4,
    "start_time": "2023-04-27T20:31:18.013Z"
   },
   {
    "duration": 264,
    "start_time": "2023-04-27T20:31:20.464Z"
   },
   {
    "duration": 20,
    "start_time": "2023-04-27T20:31:20.729Z"
   },
   {
    "duration": 3,
    "start_time": "2023-04-27T20:31:20.805Z"
   },
   {
    "duration": 277,
    "start_time": "2023-04-27T20:31:23.616Z"
   },
   {
    "duration": 20,
    "start_time": "2023-04-27T20:31:23.895Z"
   },
   {
    "duration": 5,
    "start_time": "2023-04-27T20:31:23.979Z"
   },
   {
    "duration": 289,
    "start_time": "2023-04-27T20:31:26.268Z"
   },
   {
    "duration": 34,
    "start_time": "2023-04-27T20:31:26.559Z"
   },
   {
    "duration": 4,
    "start_time": "2023-04-27T20:31:26.595Z"
   },
   {
    "duration": 300,
    "start_time": "2023-04-27T20:31:30.044Z"
   },
   {
    "duration": 22,
    "start_time": "2023-04-27T20:31:30.346Z"
   },
   {
    "duration": 4,
    "start_time": "2023-04-27T20:31:30.484Z"
   },
   {
    "duration": 300,
    "start_time": "2023-04-27T20:31:33.614Z"
   },
   {
    "duration": 20,
    "start_time": "2023-04-27T20:31:33.917Z"
   },
   {
    "duration": 4,
    "start_time": "2023-04-27T20:31:33.979Z"
   },
   {
    "duration": 297,
    "start_time": "2023-04-27T20:31:36.155Z"
   },
   {
    "duration": 23,
    "start_time": "2023-04-27T20:31:36.454Z"
   },
   {
    "duration": 13,
    "start_time": "2023-04-27T20:31:36.491Z"
   },
   {
    "duration": 295,
    "start_time": "2023-04-27T20:31:38.824Z"
   },
   {
    "duration": 23,
    "start_time": "2023-04-27T20:31:39.121Z"
   },
   {
    "duration": 3,
    "start_time": "2023-04-27T20:31:39.156Z"
   },
   {
    "duration": 312,
    "start_time": "2023-04-27T20:31:42.881Z"
   },
   {
    "duration": 23,
    "start_time": "2023-04-27T20:31:43.195Z"
   },
   {
    "duration": 4,
    "start_time": "2023-04-27T20:31:43.220Z"
   },
   {
    "duration": 306,
    "start_time": "2023-04-27T20:31:47.604Z"
   },
   {
    "duration": 20,
    "start_time": "2023-04-27T20:31:47.912Z"
   },
   {
    "duration": 4,
    "start_time": "2023-04-27T20:31:47.985Z"
   },
   {
    "duration": 298,
    "start_time": "2023-04-27T20:31:52.835Z"
   },
   {
    "duration": 20,
    "start_time": "2023-04-27T20:31:53.135Z"
   },
   {
    "duration": 4,
    "start_time": "2023-04-27T20:31:53.157Z"
   },
   {
    "duration": 383,
    "start_time": "2023-04-27T20:31:57.776Z"
   },
   {
    "duration": 35,
    "start_time": "2023-04-27T20:31:58.160Z"
   },
   {
    "duration": 3,
    "start_time": "2023-04-27T20:31:58.197Z"
   },
   {
    "duration": 511,
    "start_time": "2023-04-27T20:32:01.393Z"
   },
   {
    "duration": 32,
    "start_time": "2023-04-27T20:32:01.906Z"
   },
   {
    "duration": 17,
    "start_time": "2023-04-27T20:32:01.940Z"
   },
   {
    "duration": 948,
    "start_time": "2023-04-27T20:32:05.142Z"
   },
   {
    "duration": 55,
    "start_time": "2023-04-27T20:32:06.092Z"
   },
   {
    "duration": 3,
    "start_time": "2023-04-27T20:32:06.149Z"
   },
   {
    "duration": 996,
    "start_time": "2023-04-27T20:32:10.012Z"
   },
   {
    "duration": 52,
    "start_time": "2023-04-27T20:32:11.010Z"
   },
   {
    "duration": 4,
    "start_time": "2023-04-27T20:32:11.064Z"
   },
   {
    "duration": 986,
    "start_time": "2023-04-27T20:32:13.734Z"
   },
   {
    "duration": 54,
    "start_time": "2023-04-27T20:32:14.722Z"
   },
   {
    "duration": 32,
    "start_time": "2023-04-27T20:32:14.778Z"
   },
   {
    "duration": 1012,
    "start_time": "2023-04-27T20:32:17.505Z"
   },
   {
    "duration": 52,
    "start_time": "2023-04-27T20:32:18.519Z"
   },
   {
    "duration": 20,
    "start_time": "2023-04-27T20:32:18.573Z"
   },
   {
    "duration": 976,
    "start_time": "2023-04-27T20:32:21.341Z"
   },
   {
    "duration": 53,
    "start_time": "2023-04-27T20:32:22.325Z"
   },
   {
    "duration": 3,
    "start_time": "2023-04-27T20:32:22.380Z"
   },
   {
    "duration": 979,
    "start_time": "2023-04-27T20:32:24.806Z"
   },
   {
    "duration": 58,
    "start_time": "2023-04-27T20:32:25.791Z"
   },
   {
    "duration": 5,
    "start_time": "2023-04-27T20:32:25.850Z"
   },
   {
    "duration": 208,
    "start_time": "2023-04-27T20:33:00.301Z"
   },
   {
    "duration": 50,
    "start_time": "2023-04-27T20:33:05.825Z"
   },
   {
    "duration": 3,
    "start_time": "2023-04-27T20:33:06.382Z"
   },
   {
    "duration": 4,
    "start_time": "2023-04-27T20:33:06.549Z"
   },
   {
    "duration": 38,
    "start_time": "2023-04-27T20:34:24.673Z"
   },
   {
    "duration": 7,
    "start_time": "2023-04-27T20:34:31.434Z"
   },
   {
    "duration": 4,
    "start_time": "2023-04-27T20:34:31.842Z"
   },
   {
    "duration": 4,
    "start_time": "2023-04-27T20:34:33.244Z"
   },
   {
    "duration": 42,
    "start_time": "2023-04-27T20:34:38.864Z"
   },
   {
    "duration": 7,
    "start_time": "2023-04-27T20:34:39.105Z"
   },
   {
    "duration": 4,
    "start_time": "2023-04-27T20:34:39.354Z"
   },
   {
    "duration": 6,
    "start_time": "2023-04-27T20:34:40.205Z"
   },
   {
    "duration": 36,
    "start_time": "2023-04-27T20:34:44.264Z"
   },
   {
    "duration": 8,
    "start_time": "2023-04-27T20:34:44.723Z"
   },
   {
    "duration": 4,
    "start_time": "2023-04-27T20:34:44.945Z"
   },
   {
    "duration": 3,
    "start_time": "2023-04-27T20:34:45.134Z"
   },
   {
    "duration": 28,
    "start_time": "2023-04-27T20:34:47.614Z"
   },
   {
    "duration": 9,
    "start_time": "2023-04-27T20:34:47.834Z"
   },
   {
    "duration": 4,
    "start_time": "2023-04-27T20:34:48.004Z"
   },
   {
    "duration": 10,
    "start_time": "2023-04-27T20:34:48.408Z"
   },
   {
    "duration": 35,
    "start_time": "2023-04-27T20:35:21.264Z"
   },
   {
    "duration": 6,
    "start_time": "2023-04-27T20:35:21.964Z"
   },
   {
    "duration": 4,
    "start_time": "2023-04-27T20:35:22.184Z"
   },
   {
    "duration": 4,
    "start_time": "2023-04-27T20:35:22.584Z"
   },
   {
    "duration": 31,
    "start_time": "2023-04-27T20:35:25.524Z"
   },
   {
    "duration": 8,
    "start_time": "2023-04-27T20:35:25.761Z"
   },
   {
    "duration": 5,
    "start_time": "2023-04-27T20:35:25.921Z"
   },
   {
    "duration": 4,
    "start_time": "2023-04-27T20:35:27.155Z"
   },
   {
    "duration": 30,
    "start_time": "2023-04-27T20:35:30.136Z"
   },
   {
    "duration": 8,
    "start_time": "2023-04-27T20:35:30.304Z"
   },
   {
    "duration": 3,
    "start_time": "2023-04-27T20:35:30.462Z"
   },
   {
    "duration": 30,
    "start_time": "2023-04-27T20:35:33.284Z"
   },
   {
    "duration": 7,
    "start_time": "2023-04-27T20:35:33.433Z"
   },
   {
    "duration": 5,
    "start_time": "2023-04-27T20:35:33.593Z"
   },
   {
    "duration": 28,
    "start_time": "2023-04-27T20:35:36.184Z"
   },
   {
    "duration": 7,
    "start_time": "2023-04-27T20:35:36.383Z"
   },
   {
    "duration": 4,
    "start_time": "2023-04-27T20:35:36.536Z"
   },
   {
    "duration": 4,
    "start_time": "2023-04-27T20:35:36.952Z"
   },
   {
    "duration": 31,
    "start_time": "2023-04-27T20:35:39.462Z"
   },
   {
    "duration": 8,
    "start_time": "2023-04-27T20:35:39.694Z"
   },
   {
    "duration": 4,
    "start_time": "2023-04-27T20:35:39.885Z"
   },
   {
    "duration": 32,
    "start_time": "2023-04-27T20:35:42.914Z"
   },
   {
    "duration": 8,
    "start_time": "2023-04-27T20:35:43.034Z"
   },
   {
    "duration": 4,
    "start_time": "2023-04-27T20:35:43.205Z"
   },
   {
    "duration": 4,
    "start_time": "2023-04-27T20:35:43.333Z"
   },
   {
    "duration": 31,
    "start_time": "2023-04-27T20:35:45.562Z"
   },
   {
    "duration": 8,
    "start_time": "2023-04-27T20:35:45.747Z"
   },
   {
    "duration": 4,
    "start_time": "2023-04-27T20:35:45.893Z"
   },
   {
    "duration": 30,
    "start_time": "2023-04-27T20:35:48.586Z"
   },
   {
    "duration": 8,
    "start_time": "2023-04-27T20:35:48.774Z"
   },
   {
    "duration": 4,
    "start_time": "2023-04-27T20:35:48.904Z"
   },
   {
    "duration": 4,
    "start_time": "2023-04-27T20:35:49.085Z"
   },
   {
    "duration": 17,
    "start_time": "2023-04-27T20:36:02.291Z"
   },
   {
    "duration": 7,
    "start_time": "2023-04-27T20:36:02.814Z"
   },
   {
    "duration": 4,
    "start_time": "2023-04-27T20:36:03.689Z"
   },
   {
    "duration": 30,
    "start_time": "2023-04-27T20:36:08.544Z"
   },
   {
    "duration": 8,
    "start_time": "2023-04-27T20:36:08.714Z"
   },
   {
    "duration": 4,
    "start_time": "2023-04-27T20:36:08.893Z"
   },
   {
    "duration": 15,
    "start_time": "2023-04-27T20:36:20.134Z"
   },
   {
    "duration": 7,
    "start_time": "2023-04-27T20:36:20.995Z"
   },
   {
    "duration": 4,
    "start_time": "2023-04-27T20:36:21.154Z"
   },
   {
    "duration": 15,
    "start_time": "2023-04-27T20:36:25.569Z"
   },
   {
    "duration": 6,
    "start_time": "2023-04-27T20:36:25.765Z"
   },
   {
    "duration": 4,
    "start_time": "2023-04-27T20:36:25.922Z"
   },
   {
    "duration": 24,
    "start_time": "2023-04-27T20:36:31.834Z"
   },
   {
    "duration": 7,
    "start_time": "2023-04-27T20:36:32.019Z"
   },
   {
    "duration": 5,
    "start_time": "2023-04-27T20:36:32.198Z"
   },
   {
    "duration": 41,
    "start_time": "2023-04-27T20:36:37.565Z"
   },
   {
    "duration": 7,
    "start_time": "2023-04-27T20:36:37.725Z"
   },
   {
    "duration": 4,
    "start_time": "2023-04-27T20:36:37.906Z"
   },
   {
    "duration": 2627,
    "start_time": "2023-04-27T20:38:49.774Z"
   },
   {
    "duration": 29,
    "start_time": "2023-04-27T20:39:42.125Z"
   },
   {
    "duration": 8,
    "start_time": "2023-04-27T20:39:43.553Z"
   },
   {
    "duration": 4,
    "start_time": "2023-04-27T20:39:43.884Z"
   },
   {
    "duration": 4,
    "start_time": "2023-04-27T20:39:44.833Z"
   },
   {
    "duration": 942,
    "start_time": "2023-04-27T20:43:08.315Z"
   },
   {
    "duration": 196,
    "start_time": "2023-04-27T20:43:09.259Z"
   },
   {
    "duration": 60,
    "start_time": "2023-04-27T20:43:12.685Z"
   },
   {
    "duration": 4,
    "start_time": "2023-04-27T20:43:12.874Z"
   },
   {
    "duration": 4,
    "start_time": "2023-04-27T20:43:13.075Z"
   },
   {
    "duration": 31,
    "start_time": "2023-04-27T20:43:21.684Z"
   },
   {
    "duration": 8,
    "start_time": "2023-04-27T20:43:21.953Z"
   },
   {
    "duration": 5,
    "start_time": "2023-04-27T20:43:22.163Z"
   },
   {
    "duration": 4,
    "start_time": "2023-04-27T20:43:22.384Z"
   },
   {
    "duration": 36012,
    "start_time": "2023-04-27T20:44:28.284Z"
   },
   {
    "duration": 11,
    "start_time": "2023-04-27T20:47:14.953Z"
   },
   {
    "duration": 23,
    "start_time": "2023-04-27T20:47:44.013Z"
   },
   {
    "duration": 11,
    "start_time": "2023-04-27T20:48:08.584Z"
   },
   {
    "duration": 4081,
    "start_time": "2023-04-27T20:48:13.504Z"
   },
   {
    "duration": 3428,
    "start_time": "2023-04-27T20:49:04.443Z"
   },
   {
    "duration": 5,
    "start_time": "2023-04-27T20:50:24.125Z"
   },
   {
    "duration": 10912,
    "start_time": "2023-04-27T20:50:29.184Z"
   },
   {
    "duration": 12688,
    "start_time": "2023-04-27T20:51:24.010Z"
   },
   {
    "duration": 4,
    "start_time": "2023-04-27T20:53:56.348Z"
   },
   {
    "duration": 9,
    "start_time": "2023-04-27T20:54:23.324Z"
   },
   {
    "duration": 12,
    "start_time": "2023-04-27T20:54:27.214Z"
   },
   {
    "duration": 5,
    "start_time": "2023-04-27T20:54:27.764Z"
   },
   {
    "duration": 4,
    "start_time": "2023-04-27T20:54:59.409Z"
   },
   {
    "duration": 175,
    "start_time": "2023-04-27T20:56:02.174Z"
   },
   {
    "duration": 62,
    "start_time": "2023-04-27T20:56:50.934Z"
   },
   {
    "duration": 25,
    "start_time": "2023-04-27T20:57:31.075Z"
   },
   {
    "duration": 8,
    "start_time": "2023-04-27T20:57:32.135Z"
   },
   {
    "duration": 4,
    "start_time": "2023-04-27T20:57:37.399Z"
   },
   {
    "duration": 977,
    "start_time": "2023-04-27T20:58:31.164Z"
   },
   {
    "duration": 54,
    "start_time": "2023-04-27T20:58:38.983Z"
   },
   {
    "duration": 4,
    "start_time": "2023-04-27T20:58:39.173Z"
   },
   {
    "duration": 4,
    "start_time": "2023-04-27T20:58:39.664Z"
   },
   {
    "duration": 29,
    "start_time": "2023-04-27T20:58:45.044Z"
   },
   {
    "duration": 29,
    "start_time": "2023-04-27T20:59:06.724Z"
   },
   {
    "duration": 6,
    "start_time": "2023-04-27T20:59:14.904Z"
   },
   {
    "duration": 5,
    "start_time": "2023-04-27T20:59:15.732Z"
   },
   {
    "duration": 4,
    "start_time": "2023-04-27T20:59:16.554Z"
   },
   {
    "duration": 24,
    "start_time": "2023-04-27T21:00:03.285Z"
   },
   {
    "duration": 7,
    "start_time": "2023-04-27T21:00:04.254Z"
   },
   {
    "duration": 4,
    "start_time": "2023-04-27T21:00:04.552Z"
   },
   {
    "duration": 8,
    "start_time": "2023-04-27T21:00:14.715Z"
   },
   {
    "duration": 4,
    "start_time": "2023-04-27T21:00:15.293Z"
   },
   {
    "duration": 5,
    "start_time": "2023-04-27T21:00:16.654Z"
   },
   {
    "duration": 1491,
    "start_time": "2023-04-27T21:04:55.393Z"
   },
   {
    "duration": 41,
    "start_time": "2023-04-27T21:04:56.886Z"
   },
   {
    "duration": 17,
    "start_time": "2023-04-27T21:04:56.928Z"
   },
   {
    "duration": 6,
    "start_time": "2023-04-27T21:04:56.947Z"
   },
   {
    "duration": 4,
    "start_time": "2023-04-27T21:04:56.955Z"
   },
   {
    "duration": 20,
    "start_time": "2023-04-27T21:04:56.961Z"
   },
   {
    "duration": 1561,
    "start_time": "2023-04-27T21:04:56.983Z"
   },
   {
    "duration": 10,
    "start_time": "2023-04-27T21:04:58.545Z"
   },
   {
    "duration": 5,
    "start_time": "2023-04-27T21:04:58.557Z"
   },
   {
    "duration": 28,
    "start_time": "2023-04-27T21:04:58.564Z"
   },
   {
    "duration": 6,
    "start_time": "2023-04-27T21:04:58.594Z"
   },
   {
    "duration": 8,
    "start_time": "2023-04-27T21:04:58.602Z"
   },
   {
    "duration": 21,
    "start_time": "2023-04-27T21:04:58.612Z"
   },
   {
    "duration": 15,
    "start_time": "2023-04-27T21:04:58.636Z"
   },
   {
    "duration": 13,
    "start_time": "2023-04-27T21:04:58.653Z"
   },
   {
    "duration": 25,
    "start_time": "2023-04-27T21:04:58.668Z"
   },
   {
    "duration": 4,
    "start_time": "2023-04-27T21:04:58.695Z"
   },
   {
    "duration": 19,
    "start_time": "2023-04-27T21:04:58.701Z"
   },
   {
    "duration": 6,
    "start_time": "2023-04-27T21:04:58.721Z"
   },
   {
    "duration": 10,
    "start_time": "2023-04-27T21:04:58.729Z"
   },
   {
    "duration": 5,
    "start_time": "2023-04-27T21:04:58.741Z"
   },
   {
    "duration": 909,
    "start_time": "2023-04-27T21:04:58.748Z"
   },
   {
    "duration": 9,
    "start_time": "2023-04-27T21:04:59.659Z"
   },
   {
    "duration": 734,
    "start_time": "2023-04-27T21:04:59.670Z"
   },
   {
    "duration": 94,
    "start_time": "2023-04-27T21:05:00.406Z"
   },
   {
    "duration": 17,
    "start_time": "2023-04-27T21:05:00.501Z"
   },
   {
    "duration": 30,
    "start_time": "2023-04-27T21:05:00.519Z"
   },
   {
    "duration": 38,
    "start_time": "2023-04-27T21:05:00.552Z"
   },
   {
    "duration": 9,
    "start_time": "2023-04-27T21:05:00.593Z"
   },
   {
    "duration": 51,
    "start_time": "2023-04-27T21:05:00.604Z"
   },
   {
    "duration": 21,
    "start_time": "2023-04-27T21:05:00.657Z"
   },
   {
    "duration": 102,
    "start_time": "2023-04-27T21:05:00.680Z"
   },
   {
    "duration": 202872,
    "start_time": "2023-04-27T21:05:00.784Z"
   },
   {
    "duration": 4,
    "start_time": "2023-04-27T21:08:23.658Z"
   },
   {
    "duration": 81,
    "start_time": "2023-04-27T21:08:23.664Z"
   },
   {
    "duration": 46,
    "start_time": "2023-04-27T21:08:23.747Z"
   },
   {
    "duration": 32751,
    "start_time": "2023-04-27T21:08:23.795Z"
   },
   {
    "duration": 4,
    "start_time": "2023-04-27T21:08:56.548Z"
   },
   {
    "duration": 37,
    "start_time": "2023-04-27T21:08:56.555Z"
   },
   {
    "duration": 26,
    "start_time": "2023-04-27T21:08:56.595Z"
   },
   {
    "duration": 42250,
    "start_time": "2023-04-27T21:08:56.625Z"
   },
   {
    "duration": 0,
    "start_time": "2023-04-27T21:09:38.877Z"
   },
   {
    "duration": 0,
    "start_time": "2023-04-27T21:09:38.878Z"
   },
   {
    "duration": 0,
    "start_time": "2023-04-27T21:09:38.879Z"
   },
   {
    "duration": 0,
    "start_time": "2023-04-27T21:09:38.881Z"
   },
   {
    "duration": 0,
    "start_time": "2023-04-27T21:09:38.882Z"
   },
   {
    "duration": 0,
    "start_time": "2023-04-27T21:09:38.883Z"
   },
   {
    "duration": 0,
    "start_time": "2023-04-27T21:09:38.884Z"
   },
   {
    "duration": 0,
    "start_time": "2023-04-27T21:09:38.885Z"
   },
   {
    "duration": 0,
    "start_time": "2023-04-27T21:09:38.887Z"
   },
   {
    "duration": 0,
    "start_time": "2023-04-27T21:09:38.888Z"
   },
   {
    "duration": 0,
    "start_time": "2023-04-27T21:09:38.888Z"
   },
   {
    "duration": 0,
    "start_time": "2023-04-27T21:09:38.889Z"
   },
   {
    "duration": 0,
    "start_time": "2023-04-27T21:09:38.890Z"
   },
   {
    "duration": 0,
    "start_time": "2023-04-27T21:09:38.892Z"
   },
   {
    "duration": 0,
    "start_time": "2023-04-27T21:09:38.893Z"
   },
   {
    "duration": 0,
    "start_time": "2023-04-27T21:09:38.895Z"
   },
   {
    "duration": 0,
    "start_time": "2023-04-27T21:09:38.896Z"
   },
   {
    "duration": 0,
    "start_time": "2023-04-27T21:09:38.897Z"
   },
   {
    "duration": 0,
    "start_time": "2023-04-27T21:09:38.898Z"
   },
   {
    "duration": 0,
    "start_time": "2023-04-27T21:09:38.900Z"
   },
   {
    "duration": 0,
    "start_time": "2023-04-27T21:09:38.901Z"
   },
   {
    "duration": 0,
    "start_time": "2023-04-27T21:09:38.903Z"
   },
   {
    "duration": 0,
    "start_time": "2023-04-27T21:09:38.905Z"
   },
   {
    "duration": 0,
    "start_time": "2023-04-27T21:09:38.906Z"
   },
   {
    "duration": 0,
    "start_time": "2023-04-27T21:09:38.908Z"
   },
   {
    "duration": 0,
    "start_time": "2023-04-27T21:09:38.909Z"
   },
   {
    "duration": 1,
    "start_time": "2023-04-27T21:09:38.910Z"
   },
   {
    "duration": 0,
    "start_time": "2023-04-27T21:09:38.912Z"
   },
   {
    "duration": 1,
    "start_time": "2023-04-27T21:09:38.915Z"
   },
   {
    "duration": 0,
    "start_time": "2023-04-27T21:09:38.917Z"
   },
   {
    "duration": 0,
    "start_time": "2023-04-27T21:09:38.918Z"
   },
   {
    "duration": 0,
    "start_time": "2023-04-27T21:09:38.919Z"
   },
   {
    "duration": 0,
    "start_time": "2023-04-27T21:09:38.920Z"
   },
   {
    "duration": 0,
    "start_time": "2023-04-27T21:09:38.921Z"
   },
   {
    "duration": 0,
    "start_time": "2023-04-27T21:09:38.922Z"
   },
   {
    "duration": 0,
    "start_time": "2023-04-27T21:09:38.923Z"
   },
   {
    "duration": 0,
    "start_time": "2023-04-27T21:09:38.924Z"
   },
   {
    "duration": 1359,
    "start_time": "2023-04-27T21:09:55.326Z"
   },
   {
    "duration": 41,
    "start_time": "2023-04-27T21:09:56.687Z"
   },
   {
    "duration": 16,
    "start_time": "2023-04-27T21:09:56.730Z"
   },
   {
    "duration": 4,
    "start_time": "2023-04-27T21:09:56.748Z"
   },
   {
    "duration": 11,
    "start_time": "2023-04-27T21:09:56.753Z"
   },
   {
    "duration": 13,
    "start_time": "2023-04-27T21:09:56.766Z"
   },
   {
    "duration": 1503,
    "start_time": "2023-04-27T21:09:56.781Z"
   },
   {
    "duration": 14,
    "start_time": "2023-04-27T21:09:58.286Z"
   },
   {
    "duration": 6,
    "start_time": "2023-04-27T21:09:58.302Z"
   },
   {
    "duration": 5,
    "start_time": "2023-04-27T21:09:58.312Z"
   },
   {
    "duration": 10,
    "start_time": "2023-04-27T21:09:58.319Z"
   },
   {
    "duration": 8,
    "start_time": "2023-04-27T21:09:58.331Z"
   },
   {
    "duration": 15,
    "start_time": "2023-04-27T21:09:58.340Z"
   },
   {
    "duration": 5,
    "start_time": "2023-04-27T21:09:58.391Z"
   },
   {
    "duration": 6,
    "start_time": "2023-04-27T21:09:58.398Z"
   },
   {
    "duration": 22,
    "start_time": "2023-04-27T21:09:58.405Z"
   },
   {
    "duration": 3,
    "start_time": "2023-04-27T21:09:58.429Z"
   },
   {
    "duration": 16,
    "start_time": "2023-04-27T21:09:58.434Z"
   },
   {
    "duration": 6,
    "start_time": "2023-04-27T21:09:58.452Z"
   },
   {
    "duration": 11,
    "start_time": "2023-04-27T21:09:58.492Z"
   },
   {
    "duration": 4,
    "start_time": "2023-04-27T21:09:58.505Z"
   },
   {
    "duration": 862,
    "start_time": "2023-04-27T21:09:58.511Z"
   },
   {
    "duration": 10,
    "start_time": "2023-04-27T21:09:59.375Z"
   },
   {
    "duration": 716,
    "start_time": "2023-04-27T21:09:59.387Z"
   },
   {
    "duration": 94,
    "start_time": "2023-04-27T21:10:00.105Z"
   },
   {
    "duration": 30,
    "start_time": "2023-04-27T21:10:00.201Z"
   },
   {
    "duration": 24,
    "start_time": "2023-04-27T21:10:00.232Z"
   },
   {
    "duration": 24,
    "start_time": "2023-04-27T21:10:00.261Z"
   },
   {
    "duration": 16,
    "start_time": "2023-04-27T21:10:00.287Z"
   },
   {
    "duration": 39,
    "start_time": "2023-04-27T21:10:00.305Z"
   },
   {
    "duration": 12,
    "start_time": "2023-04-27T21:10:00.346Z"
   },
   {
    "duration": 106,
    "start_time": "2023-04-27T21:10:00.361Z"
   },
   {
    "duration": 202550,
    "start_time": "2023-04-27T21:10:00.469Z"
   },
   {
    "duration": 4,
    "start_time": "2023-04-27T21:13:23.020Z"
   },
   {
    "duration": 67,
    "start_time": "2023-04-27T21:13:23.026Z"
   },
   {
    "duration": 36,
    "start_time": "2023-04-27T21:13:23.095Z"
   },
   {
    "duration": 33374,
    "start_time": "2023-04-27T21:13:23.133Z"
   },
   {
    "duration": 3,
    "start_time": "2023-04-27T21:13:56.509Z"
   },
   {
    "duration": 18,
    "start_time": "2023-04-27T21:13:56.514Z"
   },
   {
    "duration": 61,
    "start_time": "2023-04-27T21:13:56.533Z"
   },
   {
    "duration": 45297,
    "start_time": "2023-04-27T21:13:56.595Z"
   },
   {
    "duration": 5,
    "start_time": "2023-04-27T21:14:41.894Z"
   },
   {
    "duration": 107,
    "start_time": "2023-04-27T21:14:41.901Z"
   },
   {
    "duration": 181,
    "start_time": "2023-04-27T21:14:42.014Z"
   },
   {
    "duration": 3,
    "start_time": "2023-04-27T21:14:42.197Z"
   },
   {
    "duration": 15,
    "start_time": "2023-04-27T21:14:42.202Z"
   },
   {
    "duration": 235,
    "start_time": "2023-04-27T21:14:42.219Z"
   },
   {
    "duration": 42,
    "start_time": "2023-04-27T21:14:42.456Z"
   },
   {
    "duration": 96,
    "start_time": "2023-04-27T21:14:42.500Z"
   },
   {
    "duration": 190,
    "start_time": "2023-04-27T21:14:42.602Z"
   },
   {
    "duration": 4,
    "start_time": "2023-04-27T21:14:42.794Z"
   },
   {
    "duration": 7,
    "start_time": "2023-04-27T21:14:42.799Z"
   },
   {
    "duration": 120,
    "start_time": "2023-04-27T21:14:42.808Z"
   },
   {
    "duration": 32,
    "start_time": "2023-04-27T21:14:42.930Z"
   },
   {
    "duration": 38,
    "start_time": "2023-04-27T21:14:42.964Z"
   },
   {
    "duration": 194,
    "start_time": "2023-04-27T21:14:43.004Z"
   },
   {
    "duration": 319,
    "start_time": "2023-04-27T21:14:43.200Z"
   },
   {
    "duration": 217354,
    "start_time": "2023-04-27T21:14:43.521Z"
   },
   {
    "duration": 4,
    "start_time": "2023-04-27T21:18:20.876Z"
   },
   {
    "duration": 910,
    "start_time": "2023-04-27T21:18:20.892Z"
   },
   {
    "duration": 196,
    "start_time": "2023-04-27T21:18:21.804Z"
   },
   {
    "duration": 53,
    "start_time": "2023-04-27T21:18:22.001Z"
   },
   {
    "duration": 4,
    "start_time": "2023-04-27T21:18:22.055Z"
   },
   {
    "duration": 7,
    "start_time": "2023-04-27T21:18:22.061Z"
   },
   {
    "duration": 40220,
    "start_time": "2023-04-27T21:18:22.091Z"
   },
   {
    "duration": 4,
    "start_time": "2023-04-27T21:19:02.312Z"
   },
   {
    "duration": 45,
    "start_time": "2023-04-27T21:19:02.318Z"
   },
   {
    "duration": 175,
    "start_time": "2023-04-27T21:19:02.364Z"
   },
   {
    "duration": 7,
    "start_time": "2023-04-27T21:19:02.540Z"
   },
   {
    "duration": 4,
    "start_time": "2023-04-27T21:19:02.549Z"
   },
   {
    "duration": 19,
    "start_time": "2023-04-27T21:19:02.554Z"
   },
   {
    "duration": 36809,
    "start_time": "2023-04-27T21:19:02.591Z"
   },
   {
    "duration": 4,
    "start_time": "2023-04-27T21:19:39.401Z"
   },
   {
    "duration": 88,
    "start_time": "2023-04-27T21:19:39.406Z"
   },
   {
    "duration": 340,
    "start_time": "2023-04-27T21:19:39.496Z"
   },
   {
    "duration": 9,
    "start_time": "2023-04-27T21:19:39.837Z"
   },
   {
    "duration": 5,
    "start_time": "2023-04-27T21:19:39.893Z"
   },
   {
    "duration": 90,
    "start_time": "2023-04-27T21:19:39.902Z"
   },
   {
    "duration": 73959,
    "start_time": "2023-04-27T21:25:56.604Z"
   },
   {
    "duration": 53,
    "start_time": "2023-04-27T21:28:17.366Z"
   },
   {
    "duration": 603,
    "start_time": "2023-04-27T21:28:21.616Z"
   },
   {
    "duration": 37,
    "start_time": "2023-04-27T21:28:30.245Z"
   },
   {
    "duration": 3,
    "start_time": "2023-04-27T21:28:34.546Z"
   },
   {
    "duration": 621,
    "start_time": "2023-04-27T21:28:45.323Z"
   },
   {
    "duration": 39,
    "start_time": "2023-04-27T21:28:46.677Z"
   },
   {
    "duration": 5,
    "start_time": "2023-04-27T21:28:47.081Z"
   },
   {
    "duration": 1400,
    "start_time": "2023-04-27T21:38:15.824Z"
   },
   {
    "duration": 42,
    "start_time": "2023-04-27T21:38:17.226Z"
   },
   {
    "duration": 18,
    "start_time": "2023-04-27T21:38:17.270Z"
   },
   {
    "duration": 4,
    "start_time": "2023-04-27T21:38:17.290Z"
   },
   {
    "duration": 5,
    "start_time": "2023-04-27T21:38:17.297Z"
   },
   {
    "duration": 14,
    "start_time": "2023-04-27T21:38:17.304Z"
   },
   {
    "duration": 1501,
    "start_time": "2023-04-27T21:38:17.320Z"
   },
   {
    "duration": 10,
    "start_time": "2023-04-27T21:38:18.824Z"
   },
   {
    "duration": 6,
    "start_time": "2023-04-27T21:38:18.836Z"
   },
   {
    "duration": 8,
    "start_time": "2023-04-27T21:38:18.845Z"
   },
   {
    "duration": 37,
    "start_time": "2023-04-27T21:38:18.855Z"
   },
   {
    "duration": 9,
    "start_time": "2023-04-27T21:38:18.894Z"
   },
   {
    "duration": 9,
    "start_time": "2023-04-27T21:38:18.905Z"
   },
   {
    "duration": 5,
    "start_time": "2023-04-27T21:38:18.918Z"
   },
   {
    "duration": 7,
    "start_time": "2023-04-27T21:38:18.925Z"
   },
   {
    "duration": 19,
    "start_time": "2023-04-27T21:38:18.934Z"
   },
   {
    "duration": 37,
    "start_time": "2023-04-27T21:38:18.955Z"
   },
   {
    "duration": 33,
    "start_time": "2023-04-27T21:38:18.995Z"
   },
   {
    "duration": 28,
    "start_time": "2023-04-27T21:38:19.030Z"
   },
   {
    "duration": 16,
    "start_time": "2023-04-27T21:38:19.060Z"
   },
   {
    "duration": 7,
    "start_time": "2023-04-27T21:38:19.078Z"
   },
   {
    "duration": 842,
    "start_time": "2023-04-27T21:38:19.086Z"
   },
   {
    "duration": 10,
    "start_time": "2023-04-27T21:38:19.930Z"
   },
   {
    "duration": 1161,
    "start_time": "2023-04-27T21:38:19.941Z"
   },
   {
    "duration": 0,
    "start_time": "2023-04-27T21:38:21.104Z"
   },
   {
    "duration": 0,
    "start_time": "2023-04-27T21:38:21.105Z"
   },
   {
    "duration": 0,
    "start_time": "2023-04-27T21:38:21.106Z"
   },
   {
    "duration": 0,
    "start_time": "2023-04-27T21:38:21.107Z"
   },
   {
    "duration": 0,
    "start_time": "2023-04-27T21:38:21.108Z"
   },
   {
    "duration": 1358,
    "start_time": "2023-04-27T21:39:15.255Z"
   },
   {
    "duration": 43,
    "start_time": "2023-04-27T21:39:16.615Z"
   },
   {
    "duration": 17,
    "start_time": "2023-04-27T21:39:16.660Z"
   },
   {
    "duration": 5,
    "start_time": "2023-04-27T21:39:16.679Z"
   },
   {
    "duration": 3,
    "start_time": "2023-04-27T21:39:16.686Z"
   },
   {
    "duration": 14,
    "start_time": "2023-04-27T21:39:16.691Z"
   },
   {
    "duration": 1492,
    "start_time": "2023-04-27T21:39:16.707Z"
   },
   {
    "duration": 11,
    "start_time": "2023-04-27T21:39:18.201Z"
   },
   {
    "duration": 9,
    "start_time": "2023-04-27T21:39:18.214Z"
   },
   {
    "duration": 5,
    "start_time": "2023-04-27T21:39:18.225Z"
   },
   {
    "duration": 9,
    "start_time": "2023-04-27T21:39:18.232Z"
   },
   {
    "duration": 19,
    "start_time": "2023-04-27T21:39:18.243Z"
   },
   {
    "duration": 31,
    "start_time": "2023-04-27T21:39:18.264Z"
   },
   {
    "duration": 5,
    "start_time": "2023-04-27T21:39:18.298Z"
   },
   {
    "duration": 7,
    "start_time": "2023-04-27T21:39:18.305Z"
   },
   {
    "duration": 41,
    "start_time": "2023-04-27T21:39:18.314Z"
   },
   {
    "duration": 2,
    "start_time": "2023-04-27T21:39:18.357Z"
   },
   {
    "duration": 20,
    "start_time": "2023-04-27T21:39:18.361Z"
   },
   {
    "duration": 5,
    "start_time": "2023-04-27T21:39:18.383Z"
   },
   {
    "duration": 12,
    "start_time": "2023-04-27T21:39:18.392Z"
   },
   {
    "duration": 4,
    "start_time": "2023-04-27T21:39:18.405Z"
   },
   {
    "duration": 835,
    "start_time": "2023-04-27T21:39:18.410Z"
   },
   {
    "duration": 9,
    "start_time": "2023-04-27T21:39:19.247Z"
   },
   {
    "duration": 1397,
    "start_time": "2023-04-27T21:39:31.715Z"
   },
   {
    "duration": 40,
    "start_time": "2023-04-27T21:39:33.114Z"
   },
   {
    "duration": 15,
    "start_time": "2023-04-27T21:39:33.155Z"
   },
   {
    "duration": 3,
    "start_time": "2023-04-27T21:39:33.172Z"
   },
   {
    "duration": 4,
    "start_time": "2023-04-27T21:39:33.177Z"
   },
   {
    "duration": 12,
    "start_time": "2023-04-27T21:39:33.183Z"
   },
   {
    "duration": 1410,
    "start_time": "2023-04-27T21:39:33.197Z"
   },
   {
    "duration": 10,
    "start_time": "2023-04-27T21:39:34.609Z"
   },
   {
    "duration": 5,
    "start_time": "2023-04-27T21:39:34.620Z"
   },
   {
    "duration": 5,
    "start_time": "2023-04-27T21:39:34.626Z"
   },
   {
    "duration": 5,
    "start_time": "2023-04-27T21:39:34.632Z"
   },
   {
    "duration": 11,
    "start_time": "2023-04-27T21:39:34.639Z"
   },
   {
    "duration": 8,
    "start_time": "2023-04-27T21:39:34.652Z"
   },
   {
    "duration": 5,
    "start_time": "2023-04-27T21:39:34.693Z"
   },
   {
    "duration": 5,
    "start_time": "2023-04-27T21:39:34.700Z"
   },
   {
    "duration": 22,
    "start_time": "2023-04-27T21:39:34.707Z"
   },
   {
    "duration": 3,
    "start_time": "2023-04-27T21:39:34.731Z"
   },
   {
    "duration": 18,
    "start_time": "2023-04-27T21:39:34.736Z"
   },
   {
    "duration": 37,
    "start_time": "2023-04-27T21:39:34.755Z"
   },
   {
    "duration": 10,
    "start_time": "2023-04-27T21:39:34.794Z"
   },
   {
    "duration": 4,
    "start_time": "2023-04-27T21:39:34.806Z"
   },
   {
    "duration": 796,
    "start_time": "2023-04-27T21:39:34.812Z"
   },
   {
    "duration": 8,
    "start_time": "2023-04-27T21:39:35.610Z"
   },
   {
    "duration": 874,
    "start_time": "2023-04-27T21:39:35.620Z"
   },
   {
    "duration": 100,
    "start_time": "2023-04-27T21:39:36.496Z"
   },
   {
    "duration": 10,
    "start_time": "2023-04-27T21:39:36.597Z"
   },
   {
    "duration": 4,
    "start_time": "2023-04-27T21:39:36.608Z"
   },
   {
    "duration": 6,
    "start_time": "2023-04-27T21:39:36.613Z"
   },
   {
    "duration": 5,
    "start_time": "2023-04-27T21:39:36.620Z"
   },
   {
    "duration": 25,
    "start_time": "2023-04-27T21:39:36.626Z"
   },
   {
    "duration": 45,
    "start_time": "2023-04-27T21:39:36.653Z"
   },
   {
    "duration": 13,
    "start_time": "2023-04-27T21:39:44.185Z"
   },
   {
    "duration": 3,
    "start_time": "2023-04-27T21:39:44.225Z"
   },
   {
    "duration": 6,
    "start_time": "2023-04-27T21:39:44.264Z"
   },
   {
    "duration": 233,
    "start_time": "2023-04-27T21:39:44.382Z"
   },
   {
    "duration": 28,
    "start_time": "2023-04-27T21:39:44.617Z"
   },
   {
    "duration": 47,
    "start_time": "2023-04-27T21:39:44.646Z"
   },
   {
    "duration": 13,
    "start_time": "2023-04-27T21:39:44.793Z"
   },
   {
    "duration": 3,
    "start_time": "2023-04-27T21:39:44.809Z"
   },
   {
    "duration": 5,
    "start_time": "2023-04-27T21:39:44.817Z"
   },
   {
    "duration": 91,
    "start_time": "2023-04-27T21:39:44.923Z"
   },
   {
    "duration": 29,
    "start_time": "2023-04-27T21:39:45.015Z"
   },
   {
    "duration": 21,
    "start_time": "2023-04-27T21:39:45.612Z"
   },
   {
    "duration": 24,
    "start_time": "2023-04-27T21:39:47.015Z"
   },
   {
    "duration": 117,
    "start_time": "2023-04-27T21:39:47.635Z"
   },
   {
    "duration": 901,
    "start_time": "2023-04-27T21:39:58.185Z"
   },
   {
    "duration": 205,
    "start_time": "2023-04-27T21:40:00.255Z"
   },
   {
    "duration": 53,
    "start_time": "2023-04-27T21:40:03.307Z"
   },
   {
    "duration": 3,
    "start_time": "2023-04-27T21:40:03.685Z"
   },
   {
    "duration": 4,
    "start_time": "2023-04-27T21:40:04.203Z"
   },
   {
    "duration": 73870,
    "start_time": "2023-04-27T21:40:23.015Z"
   },
   {
    "duration": 642,
    "start_time": "2023-04-27T21:41:36.887Z"
   },
   {
    "duration": 38,
    "start_time": "2023-04-27T21:41:37.531Z"
   },
   {
    "duration": 4,
    "start_time": "2023-04-27T21:41:37.572Z"
   },
   {
    "duration": 891,
    "start_time": "2023-04-27T21:43:41.276Z"
   },
   {
    "duration": 57,
    "start_time": "2023-04-27T21:43:52.504Z"
   },
   {
    "duration": 4,
    "start_time": "2023-04-27T21:43:53.074Z"
   },
   {
    "duration": 4,
    "start_time": "2023-04-27T21:43:54.024Z"
   },
   {
    "duration": 943,
    "start_time": "2023-04-27T21:44:02.234Z"
   },
   {
    "duration": 56,
    "start_time": "2023-04-27T21:44:06.063Z"
   },
   {
    "duration": 4,
    "start_time": "2023-04-27T21:44:06.344Z"
   },
   {
    "duration": 4,
    "start_time": "2023-04-27T21:44:06.903Z"
   },
   {
    "duration": 55,
    "start_time": "2023-04-27T21:44:26.175Z"
   },
   {
    "duration": 926,
    "start_time": "2023-04-27T21:44:43.896Z"
   },
   {
    "duration": 57,
    "start_time": "2023-04-27T21:44:46.225Z"
   },
   {
    "duration": 893,
    "start_time": "2023-04-27T21:44:48.865Z"
   },
   {
    "duration": 66,
    "start_time": "2023-04-27T21:44:49.759Z"
   },
   {
    "duration": 943,
    "start_time": "2023-04-27T21:44:53.544Z"
   },
   {
    "duration": 59,
    "start_time": "2023-04-27T21:44:54.491Z"
   },
   {
    "duration": 868,
    "start_time": "2023-04-27T21:44:57.624Z"
   },
   {
    "duration": 52,
    "start_time": "2023-04-27T21:44:58.494Z"
   },
   {
    "duration": 914,
    "start_time": "2023-04-27T21:45:01.033Z"
   },
   {
    "duration": 61,
    "start_time": "2023-04-27T21:45:01.949Z"
   },
   {
    "duration": 833,
    "start_time": "2023-04-27T21:45:05.180Z"
   },
   {
    "duration": 50,
    "start_time": "2023-04-27T21:45:06.015Z"
   },
   {
    "duration": 895,
    "start_time": "2023-04-27T21:45:08.373Z"
   },
   {
    "duration": 59,
    "start_time": "2023-04-27T21:45:09.270Z"
   },
   {
    "duration": 841,
    "start_time": "2023-04-27T21:45:11.573Z"
   },
   {
    "duration": 54,
    "start_time": "2023-04-27T21:45:12.416Z"
   },
   {
    "duration": 861,
    "start_time": "2023-04-27T21:45:14.594Z"
   },
   {
    "duration": 61,
    "start_time": "2023-04-27T21:45:15.457Z"
   },
   {
    "duration": 846,
    "start_time": "2023-04-27T21:45:17.875Z"
   },
   {
    "duration": 55,
    "start_time": "2023-04-27T21:45:18.722Z"
   },
   {
    "duration": 854,
    "start_time": "2023-04-27T21:45:22.204Z"
   },
   {
    "duration": 58,
    "start_time": "2023-04-27T21:45:23.060Z"
   },
   {
    "duration": 683,
    "start_time": "2023-04-27T21:45:26.184Z"
   },
   {
    "duration": 44,
    "start_time": "2023-04-27T21:45:27.004Z"
   },
   {
    "duration": 959,
    "start_time": "2023-04-27T21:45:31.255Z"
   },
   {
    "duration": 58,
    "start_time": "2023-04-27T21:45:32.216Z"
   },
   {
    "duration": 464,
    "start_time": "2023-04-27T21:45:38.504Z"
   },
   {
    "duration": 42,
    "start_time": "2023-04-27T21:45:38.970Z"
   },
   {
    "duration": 297,
    "start_time": "2023-04-27T21:45:44.354Z"
   },
   {
    "duration": 23,
    "start_time": "2023-04-27T21:45:44.653Z"
   },
   {
    "duration": 102,
    "start_time": "2023-04-27T21:45:47.955Z"
   },
   {
    "duration": 14,
    "start_time": "2023-04-27T21:45:48.109Z"
   },
   {
    "duration": 145,
    "start_time": "2023-04-27T21:45:50.974Z"
   },
   {
    "duration": 16,
    "start_time": "2023-04-27T21:45:51.145Z"
   },
   {
    "duration": 182,
    "start_time": "2023-04-27T21:45:54.324Z"
   },
   {
    "duration": 16,
    "start_time": "2023-04-27T21:45:54.508Z"
   },
   {
    "duration": 235,
    "start_time": "2023-04-27T21:45:57.514Z"
   },
   {
    "duration": 20,
    "start_time": "2023-04-27T21:45:57.751Z"
   },
   {
    "duration": 253,
    "start_time": "2023-04-27T21:46:00.702Z"
   },
   {
    "duration": 36,
    "start_time": "2023-04-27T21:46:00.958Z"
   },
   {
    "duration": 252,
    "start_time": "2023-04-27T21:46:04.670Z"
   },
   {
    "duration": 20,
    "start_time": "2023-04-27T21:46:04.925Z"
   },
   {
    "duration": 62,
    "start_time": "2023-04-27T21:47:56.764Z"
   },
   {
    "duration": 809070,
    "start_time": "2023-04-27T21:48:08.431Z"
   },
   {
    "duration": 92180,
    "start_time": "2023-04-27T22:01:54.214Z"
   },
   {
    "duration": 1410,
    "start_time": "2023-04-27T22:03:49.385Z"
   },
   {
    "duration": 41,
    "start_time": "2023-04-27T22:03:50.797Z"
   },
   {
    "duration": 17,
    "start_time": "2023-04-27T22:03:50.840Z"
   },
   {
    "duration": 5,
    "start_time": "2023-04-27T22:03:50.858Z"
   },
   {
    "duration": 11,
    "start_time": "2023-04-27T22:03:50.864Z"
   },
   {
    "duration": 18,
    "start_time": "2023-04-27T22:03:50.876Z"
   },
   {
    "duration": 1464,
    "start_time": "2023-04-27T22:03:50.896Z"
   },
   {
    "duration": 11,
    "start_time": "2023-04-27T22:03:52.362Z"
   },
   {
    "duration": 18,
    "start_time": "2023-04-27T22:03:52.375Z"
   },
   {
    "duration": 7,
    "start_time": "2023-04-27T22:03:52.395Z"
   },
   {
    "duration": 8,
    "start_time": "2023-04-27T22:03:52.403Z"
   },
   {
    "duration": 8,
    "start_time": "2023-04-27T22:03:52.412Z"
   },
   {
    "duration": 10,
    "start_time": "2023-04-27T22:03:52.422Z"
   },
   {
    "duration": 4,
    "start_time": "2023-04-27T22:03:52.435Z"
   },
   {
    "duration": 5,
    "start_time": "2023-04-27T22:03:52.441Z"
   },
   {
    "duration": 56,
    "start_time": "2023-04-27T22:03:52.447Z"
   },
   {
    "duration": 3,
    "start_time": "2023-04-27T22:03:52.505Z"
   },
   {
    "duration": 15,
    "start_time": "2023-04-27T22:03:52.510Z"
   },
   {
    "duration": 6,
    "start_time": "2023-04-27T22:03:52.526Z"
   },
   {
    "duration": 15,
    "start_time": "2023-04-27T22:03:52.533Z"
   },
   {
    "duration": 25,
    "start_time": "2023-04-27T22:03:52.550Z"
   },
   {
    "duration": 877,
    "start_time": "2023-04-27T22:03:52.576Z"
   },
   {
    "duration": 10,
    "start_time": "2023-04-27T22:03:53.455Z"
   },
   {
    "duration": 1231,
    "start_time": "2023-04-27T22:03:53.467Z"
   },
   {
    "duration": 11,
    "start_time": "2023-04-27T22:03:54.701Z"
   },
   {
    "duration": 10,
    "start_time": "2023-04-27T22:03:54.715Z"
   },
   {
    "duration": 10,
    "start_time": "2023-04-27T22:03:54.727Z"
   },
   {
    "duration": 5,
    "start_time": "2023-04-27T22:03:54.739Z"
   },
   {
    "duration": 6,
    "start_time": "2023-04-27T22:03:54.746Z"
   },
   {
    "duration": 54,
    "start_time": "2023-04-27T22:03:54.753Z"
   },
   {
    "duration": 11,
    "start_time": "2023-04-27T22:03:54.809Z"
   },
   {
    "duration": 93,
    "start_time": "2023-04-27T22:03:54.822Z"
   },
   {
    "duration": 1472,
    "start_time": "2023-04-27T22:04:35.766Z"
   },
   {
    "duration": 47,
    "start_time": "2023-04-27T22:04:37.241Z"
   },
   {
    "duration": 25,
    "start_time": "2023-04-27T22:04:37.290Z"
   },
   {
    "duration": 52,
    "start_time": "2023-04-27T22:04:37.317Z"
   },
   {
    "duration": 28,
    "start_time": "2023-04-27T22:04:37.373Z"
   },
   {
    "duration": 44,
    "start_time": "2023-04-27T22:04:37.402Z"
   },
   {
    "duration": 1548,
    "start_time": "2023-04-27T22:04:37.448Z"
   },
   {
    "duration": 10,
    "start_time": "2023-04-27T22:04:38.998Z"
   },
   {
    "duration": 5,
    "start_time": "2023-04-27T22:04:39.010Z"
   },
   {
    "duration": 6,
    "start_time": "2023-04-27T22:04:39.017Z"
   },
   {
    "duration": 7,
    "start_time": "2023-04-27T22:04:39.025Z"
   },
   {
    "duration": 9,
    "start_time": "2023-04-27T22:04:39.033Z"
   },
   {
    "duration": 49,
    "start_time": "2023-04-27T22:04:39.044Z"
   },
   {
    "duration": 6,
    "start_time": "2023-04-27T22:04:39.097Z"
   },
   {
    "duration": 7,
    "start_time": "2023-04-27T22:04:39.105Z"
   },
   {
    "duration": 20,
    "start_time": "2023-04-27T22:04:39.114Z"
   },
   {
    "duration": 5,
    "start_time": "2023-04-27T22:04:39.136Z"
   },
   {
    "duration": 17,
    "start_time": "2023-04-27T22:04:39.143Z"
   },
   {
    "duration": 32,
    "start_time": "2023-04-27T22:04:39.162Z"
   },
   {
    "duration": 13,
    "start_time": "2023-04-27T22:04:39.195Z"
   },
   {
    "duration": 5,
    "start_time": "2023-04-27T22:04:39.209Z"
   },
   {
    "duration": 882,
    "start_time": "2023-04-27T22:04:39.215Z"
   },
   {
    "duration": 10,
    "start_time": "2023-04-27T22:04:40.098Z"
   },
   {
    "duration": 1091,
    "start_time": "2023-04-27T22:04:40.109Z"
   },
   {
    "duration": 94,
    "start_time": "2023-04-27T22:04:41.201Z"
   },
   {
    "duration": 10,
    "start_time": "2023-04-27T22:04:41.296Z"
   },
   {
    "duration": 5,
    "start_time": "2023-04-27T22:04:41.307Z"
   },
   {
    "duration": 4,
    "start_time": "2023-04-27T22:04:41.313Z"
   },
   {
    "duration": 6,
    "start_time": "2023-04-27T22:04:41.319Z"
   },
   {
    "duration": 26,
    "start_time": "2023-04-27T22:04:41.327Z"
   },
   {
    "duration": 10,
    "start_time": "2023-04-27T22:04:41.355Z"
   },
   {
    "duration": 13,
    "start_time": "2023-04-27T22:04:55.384Z"
   },
   {
    "duration": 4,
    "start_time": "2023-04-27T22:04:56.463Z"
   },
   {
    "duration": 5,
    "start_time": "2023-04-27T22:04:56.774Z"
   },
   {
    "duration": 203,
    "start_time": "2023-04-27T22:04:57.682Z"
   },
   {
    "duration": 28,
    "start_time": "2023-04-27T22:04:58.899Z"
   },
   {
    "duration": 68,
    "start_time": "2023-04-27T22:04:59.026Z"
   },
   {
    "duration": 12,
    "start_time": "2023-04-27T22:04:59.964Z"
   },
   {
    "duration": 3,
    "start_time": "2023-04-27T22:05:00.005Z"
   },
   {
    "duration": 5,
    "start_time": "2023-04-27T22:05:00.040Z"
   },
   {
    "duration": 91,
    "start_time": "2023-04-27T22:05:00.163Z"
   },
   {
    "duration": 31,
    "start_time": "2023-04-27T22:05:00.260Z"
   },
   {
    "duration": 91,
    "start_time": "2023-04-27T22:05:01.004Z"
   },
   {
    "duration": 21,
    "start_time": "2023-04-27T22:05:01.193Z"
   },
   {
    "duration": 312,
    "start_time": "2023-04-27T22:05:01.216Z"
   },
   {
    "duration": 262,
    "start_time": "2023-04-27T22:05:08.798Z"
   },
   {
    "duration": 30,
    "start_time": "2023-04-27T22:05:09.063Z"
   },
   {
    "duration": 207,
    "start_time": "2023-04-27T22:05:19.750Z"
   },
   {
    "duration": 33,
    "start_time": "2023-04-27T22:05:19.959Z"
   },
   {
    "duration": 225,
    "start_time": "2023-04-27T22:05:24.306Z"
   },
   {
    "duration": 19,
    "start_time": "2023-04-27T22:05:24.567Z"
   },
   {
    "duration": 195,
    "start_time": "2023-04-27T22:05:28.502Z"
   },
   {
    "duration": 19,
    "start_time": "2023-04-27T22:05:28.703Z"
   },
   {
    "duration": 192,
    "start_time": "2023-04-27T22:05:31.360Z"
   },
   {
    "duration": 18,
    "start_time": "2023-04-27T22:05:31.584Z"
   },
   {
    "duration": 183,
    "start_time": "2023-04-27T22:05:33.952Z"
   },
   {
    "duration": 17,
    "start_time": "2023-04-27T22:05:34.136Z"
   },
   {
    "duration": 173,
    "start_time": "2023-04-27T22:05:36.205Z"
   },
   {
    "duration": 20,
    "start_time": "2023-04-27T22:05:36.414Z"
   },
   {
    "duration": 185,
    "start_time": "2023-04-27T22:05:38.232Z"
   },
   {
    "duration": 18,
    "start_time": "2023-04-27T22:05:38.419Z"
   },
   {
    "duration": 161,
    "start_time": "2023-04-27T22:05:40.644Z"
   },
   {
    "duration": 16,
    "start_time": "2023-04-27T22:05:40.881Z"
   },
   {
    "duration": 161,
    "start_time": "2023-04-27T22:05:43.407Z"
   },
   {
    "duration": 16,
    "start_time": "2023-04-27T22:05:43.601Z"
   },
   {
    "duration": 153,
    "start_time": "2023-04-27T22:05:46.461Z"
   },
   {
    "duration": 16,
    "start_time": "2023-04-27T22:05:46.715Z"
   },
   {
    "duration": 124,
    "start_time": "2023-04-27T22:05:49.763Z"
   },
   {
    "duration": 15,
    "start_time": "2023-04-27T22:05:50.005Z"
   },
   {
    "duration": 111,
    "start_time": "2023-04-27T22:05:52.623Z"
   },
   {
    "duration": 14,
    "start_time": "2023-04-27T22:05:52.864Z"
   },
   {
    "duration": 171,
    "start_time": "2023-04-27T22:05:56.984Z"
   },
   {
    "duration": 17,
    "start_time": "2023-04-27T22:05:57.213Z"
   },
   {
    "duration": 170,
    "start_time": "2023-04-27T22:05:59.945Z"
   },
   {
    "duration": 17,
    "start_time": "2023-04-27T22:06:00.221Z"
   },
   {
    "duration": 190,
    "start_time": "2023-04-27T22:06:02.802Z"
   },
   {
    "duration": 18,
    "start_time": "2023-04-27T22:06:03.002Z"
   },
   {
    "duration": 152,
    "start_time": "2023-04-27T22:06:06.263Z"
   },
   {
    "duration": 16,
    "start_time": "2023-04-27T22:06:06.511Z"
   },
   {
    "duration": 146,
    "start_time": "2023-04-27T22:06:09.131Z"
   },
   {
    "duration": 16,
    "start_time": "2023-04-27T22:06:09.328Z"
   },
   {
    "duration": 187,
    "start_time": "2023-04-27T22:06:12.973Z"
   },
   {
    "duration": 17,
    "start_time": "2023-04-27T22:06:13.173Z"
   },
   {
    "duration": 194,
    "start_time": "2023-04-27T22:06:15.733Z"
   },
   {
    "duration": 18,
    "start_time": "2023-04-27T22:06:15.933Z"
   },
   {
    "duration": 204,
    "start_time": "2023-04-27T22:06:18.235Z"
   },
   {
    "duration": 19,
    "start_time": "2023-04-27T22:06:18.500Z"
   },
   {
    "duration": 186,
    "start_time": "2023-04-27T22:06:21.065Z"
   },
   {
    "duration": 18,
    "start_time": "2023-04-27T22:06:21.263Z"
   },
   {
    "duration": 216,
    "start_time": "2023-04-27T22:06:24.384Z"
   },
   {
    "duration": 18,
    "start_time": "2023-04-27T22:06:24.602Z"
   },
   {
    "duration": 201,
    "start_time": "2023-04-27T22:06:27.007Z"
   },
   {
    "duration": 17,
    "start_time": "2023-04-27T22:06:27.251Z"
   },
   {
    "duration": 187,
    "start_time": "2023-04-27T22:06:29.696Z"
   },
   {
    "duration": 17,
    "start_time": "2023-04-27T22:06:29.903Z"
   },
   {
    "duration": 172,
    "start_time": "2023-04-27T22:06:33.002Z"
   },
   {
    "duration": 24,
    "start_time": "2023-04-27T22:06:33.206Z"
   },
   {
    "duration": 186,
    "start_time": "2023-04-27T22:06:35.187Z"
   },
   {
    "duration": 22,
    "start_time": "2023-04-27T22:06:35.374Z"
   },
   {
    "duration": 192,
    "start_time": "2023-04-27T22:06:38.224Z"
   },
   {
    "duration": 18,
    "start_time": "2023-04-27T22:06:38.444Z"
   },
   {
    "duration": 118,
    "start_time": "2023-04-27T22:06:43.288Z"
   },
   {
    "duration": 14,
    "start_time": "2023-04-27T22:06:43.465Z"
   },
   {
    "duration": 117,
    "start_time": "2023-04-27T22:06:45.837Z"
   },
   {
    "duration": 14,
    "start_time": "2023-04-27T22:06:46.038Z"
   },
   {
    "duration": 118,
    "start_time": "2023-04-27T22:06:48.196Z"
   },
   {
    "duration": 14,
    "start_time": "2023-04-27T22:06:48.363Z"
   },
   {
    "duration": 127,
    "start_time": "2023-04-27T22:06:50.197Z"
   },
   {
    "duration": 15,
    "start_time": "2023-04-27T22:06:50.344Z"
   },
   {
    "duration": 138,
    "start_time": "2023-04-27T22:06:52.243Z"
   },
   {
    "duration": 16,
    "start_time": "2023-04-27T22:06:52.437Z"
   },
   {
    "duration": 150,
    "start_time": "2023-04-27T22:06:54.534Z"
   },
   {
    "duration": 17,
    "start_time": "2023-04-27T22:06:54.741Z"
   },
   {
    "duration": 148,
    "start_time": "2023-04-27T22:06:56.824Z"
   },
   {
    "duration": 18,
    "start_time": "2023-04-27T22:06:57.043Z"
   },
   {
    "duration": 181,
    "start_time": "2023-04-27T22:06:59.396Z"
   },
   {
    "duration": 17,
    "start_time": "2023-04-27T22:06:59.600Z"
   },
   {
    "duration": 191,
    "start_time": "2023-04-27T22:07:01.861Z"
   },
   {
    "duration": 18,
    "start_time": "2023-04-27T22:07:02.054Z"
   },
   {
    "duration": 181,
    "start_time": "2023-04-27T22:07:04.754Z"
   },
   {
    "duration": 17,
    "start_time": "2023-04-27T22:07:04.936Z"
   },
   {
    "duration": 209,
    "start_time": "2023-04-27T22:07:08.101Z"
   },
   {
    "duration": 21,
    "start_time": "2023-04-27T22:07:08.324Z"
   },
   {
    "duration": 210,
    "start_time": "2023-04-27T22:07:23.269Z"
   },
   {
    "duration": 19,
    "start_time": "2023-04-27T22:07:23.511Z"
   },
   {
    "duration": 201,
    "start_time": "2023-04-27T22:07:26.784Z"
   },
   {
    "duration": 20,
    "start_time": "2023-04-27T22:07:27.075Z"
   },
   {
    "duration": 211,
    "start_time": "2023-04-27T22:07:29.413Z"
   },
   {
    "duration": 20,
    "start_time": "2023-04-27T22:07:29.626Z"
   },
   {
    "duration": 242,
    "start_time": "2023-04-27T22:07:32.045Z"
   },
   {
    "duration": 21,
    "start_time": "2023-04-27T22:07:32.293Z"
   },
   {
    "duration": 225,
    "start_time": "2023-04-27T22:07:34.833Z"
   },
   {
    "duration": 20,
    "start_time": "2023-04-27T22:07:35.060Z"
   },
   {
    "duration": 273,
    "start_time": "2023-04-27T22:07:37.584Z"
   },
   {
    "duration": 22,
    "start_time": "2023-04-27T22:07:37.860Z"
   },
   {
    "duration": 251,
    "start_time": "2023-04-27T22:07:41.113Z"
   },
   {
    "duration": 29,
    "start_time": "2023-04-27T22:07:41.365Z"
   },
   {
    "duration": 285,
    "start_time": "2023-04-27T22:07:43.700Z"
   },
   {
    "duration": 22,
    "start_time": "2023-04-27T22:07:43.991Z"
   },
   {
    "duration": 285,
    "start_time": "2023-04-27T22:07:46.683Z"
   },
   {
    "duration": 25,
    "start_time": "2023-04-27T22:07:46.970Z"
   },
   {
    "duration": 303,
    "start_time": "2023-04-27T22:07:58.730Z"
   },
   {
    "duration": 26,
    "start_time": "2023-04-27T22:07:59.035Z"
   },
   {
    "duration": 299,
    "start_time": "2023-04-27T22:08:02.012Z"
   },
   {
    "duration": 23,
    "start_time": "2023-04-27T22:08:02.474Z"
   },
   {
    "duration": 264,
    "start_time": "2023-04-27T22:08:05.200Z"
   },
   {
    "duration": 29,
    "start_time": "2023-04-27T22:08:05.466Z"
   },
   {
    "duration": 254,
    "start_time": "2023-04-27T22:08:09.600Z"
   },
   {
    "duration": 20,
    "start_time": "2023-04-27T22:08:09.857Z"
   },
   {
    "duration": 217,
    "start_time": "2023-04-27T22:08:12.432Z"
   },
   {
    "duration": 19,
    "start_time": "2023-04-27T22:08:12.651Z"
   },
   {
    "duration": 218,
    "start_time": "2023-04-27T22:08:14.812Z"
   },
   {
    "duration": 20,
    "start_time": "2023-04-27T22:08:15.033Z"
   },
   {
    "duration": 245,
    "start_time": "2023-04-27T22:08:17.124Z"
   },
   {
    "duration": 29,
    "start_time": "2023-04-27T22:08:17.372Z"
   },
   {
    "duration": 237,
    "start_time": "2023-04-27T22:08:21.934Z"
   },
   {
    "duration": 29,
    "start_time": "2023-04-27T22:08:22.173Z"
   },
   {
    "duration": 261,
    "start_time": "2023-04-27T22:08:24.756Z"
   },
   {
    "duration": 20,
    "start_time": "2023-04-27T22:08:25.019Z"
   },
   {
    "duration": 1373,
    "start_time": "2023-04-27T22:08:53.722Z"
   },
   {
    "duration": 39,
    "start_time": "2023-04-27T22:08:55.097Z"
   },
   {
    "duration": 17,
    "start_time": "2023-04-27T22:08:55.138Z"
   },
   {
    "duration": 4,
    "start_time": "2023-04-27T22:08:55.157Z"
   },
   {
    "duration": 7,
    "start_time": "2023-04-27T22:08:55.164Z"
   },
   {
    "duration": 15,
    "start_time": "2023-04-27T22:08:55.173Z"
   },
   {
    "duration": 1416,
    "start_time": "2023-04-27T22:08:55.191Z"
   },
   {
    "duration": 10,
    "start_time": "2023-04-27T22:08:56.608Z"
   },
   {
    "duration": 50,
    "start_time": "2023-04-27T22:08:56.620Z"
   },
   {
    "duration": 18,
    "start_time": "2023-04-27T22:08:56.671Z"
   },
   {
    "duration": 12,
    "start_time": "2023-04-27T22:08:56.691Z"
   },
   {
    "duration": 19,
    "start_time": "2023-04-27T22:08:56.704Z"
   },
   {
    "duration": 12,
    "start_time": "2023-04-27T22:08:56.724Z"
   },
   {
    "duration": 7,
    "start_time": "2023-04-27T22:08:56.739Z"
   },
   {
    "duration": 12,
    "start_time": "2023-04-27T22:08:56.747Z"
   },
   {
    "duration": 29,
    "start_time": "2023-04-27T22:08:56.760Z"
   },
   {
    "duration": 4,
    "start_time": "2023-04-27T22:08:56.790Z"
   },
   {
    "duration": 24,
    "start_time": "2023-04-27T22:08:56.797Z"
   },
   {
    "duration": 7,
    "start_time": "2023-04-27T22:08:56.824Z"
   },
   {
    "duration": 15,
    "start_time": "2023-04-27T22:08:56.833Z"
   },
   {
    "duration": 7,
    "start_time": "2023-04-27T22:08:56.850Z"
   },
   {
    "duration": 885,
    "start_time": "2023-04-27T22:08:56.859Z"
   },
   {
    "duration": 8,
    "start_time": "2023-04-27T22:08:57.746Z"
   },
   {
    "duration": 1045,
    "start_time": "2023-04-27T22:08:57.756Z"
   },
   {
    "duration": 95,
    "start_time": "2023-04-27T22:08:58.803Z"
   },
   {
    "duration": 8,
    "start_time": "2023-04-27T22:08:58.899Z"
   },
   {
    "duration": 3,
    "start_time": "2023-04-27T22:08:58.908Z"
   },
   {
    "duration": 3,
    "start_time": "2023-04-27T22:08:58.913Z"
   },
   {
    "duration": 3,
    "start_time": "2023-04-27T22:08:58.918Z"
   },
   {
    "duration": 32,
    "start_time": "2023-04-27T22:08:58.923Z"
   },
   {
    "duration": 43,
    "start_time": "2023-04-27T22:08:58.956Z"
   },
   {
    "duration": 12,
    "start_time": "2023-04-27T22:09:15.445Z"
   },
   {
    "duration": 4,
    "start_time": "2023-04-27T22:09:15.485Z"
   },
   {
    "duration": 6,
    "start_time": "2023-04-27T22:09:15.523Z"
   },
   {
    "duration": 231,
    "start_time": "2023-04-27T22:09:15.630Z"
   },
   {
    "duration": 39,
    "start_time": "2023-04-27T22:09:15.863Z"
   },
   {
    "duration": 91,
    "start_time": "2023-04-27T22:09:15.904Z"
   },
   {
    "duration": 14,
    "start_time": "2023-04-27T22:09:16.501Z"
   },
   {
    "duration": 3,
    "start_time": "2023-04-27T22:09:16.724Z"
   },
   {
    "duration": 7,
    "start_time": "2023-04-27T22:09:16.899Z"
   },
   {
    "duration": 251,
    "start_time": "2023-04-27T22:09:21.773Z"
   },
   {
    "duration": 27,
    "start_time": "2023-04-27T22:09:22.736Z"
   },
   {
    "duration": 1606,
    "start_time": "2023-04-28T05:53:08.519Z"
   },
   {
    "duration": 155,
    "start_time": "2023-04-28T05:53:10.127Z"
   },
   {
    "duration": 16,
    "start_time": "2023-04-28T05:53:10.284Z"
   },
   {
    "duration": 4,
    "start_time": "2023-04-28T05:53:10.302Z"
   },
   {
    "duration": 10,
    "start_time": "2023-04-28T05:53:10.308Z"
   },
   {
    "duration": 15,
    "start_time": "2023-04-28T05:53:10.320Z"
   },
   {
    "duration": 1558,
    "start_time": "2023-04-28T05:53:10.338Z"
   },
   {
    "duration": 9,
    "start_time": "2023-04-28T05:53:11.897Z"
   },
   {
    "duration": 6,
    "start_time": "2023-04-28T05:53:11.908Z"
   },
   {
    "duration": 6,
    "start_time": "2023-04-28T05:53:11.916Z"
   },
   {
    "duration": 11,
    "start_time": "2023-04-28T05:53:11.924Z"
   },
   {
    "duration": 10,
    "start_time": "2023-04-28T05:53:11.937Z"
   },
   {
    "duration": 44,
    "start_time": "2023-04-28T05:53:11.949Z"
   },
   {
    "duration": 5,
    "start_time": "2023-04-28T05:53:11.997Z"
   },
   {
    "duration": 8,
    "start_time": "2023-04-28T05:53:12.004Z"
   },
   {
    "duration": 20,
    "start_time": "2023-04-28T05:53:12.013Z"
   },
   {
    "duration": 5,
    "start_time": "2023-04-28T05:53:12.035Z"
   },
   {
    "duration": 45,
    "start_time": "2023-04-28T05:53:12.041Z"
   },
   {
    "duration": 7,
    "start_time": "2023-04-28T05:53:12.092Z"
   },
   {
    "duration": 12,
    "start_time": "2023-04-28T05:53:12.101Z"
   },
   {
    "duration": 5,
    "start_time": "2023-04-28T05:53:12.115Z"
   },
   {
    "duration": 1020,
    "start_time": "2023-04-28T05:53:12.121Z"
   },
   {
    "duration": 11,
    "start_time": "2023-04-28T05:53:13.144Z"
   },
   {
    "duration": 1129,
    "start_time": "2023-04-28T05:53:13.157Z"
   },
   {
    "duration": 9,
    "start_time": "2023-04-28T05:53:14.288Z"
   },
   {
    "duration": 9,
    "start_time": "2023-04-28T05:53:14.299Z"
   },
   {
    "duration": 2,
    "start_time": "2023-04-28T05:53:14.309Z"
   },
   {
    "duration": 5,
    "start_time": "2023-04-28T05:53:14.313Z"
   },
   {
    "duration": 8,
    "start_time": "2023-04-28T05:53:14.319Z"
   },
   {
    "duration": 57,
    "start_time": "2023-04-28T05:53:14.328Z"
   },
   {
    "duration": 13,
    "start_time": "2023-04-28T05:53:14.387Z"
   },
   {
    "duration": 105,
    "start_time": "2023-04-28T05:53:14.402Z"
   },
   {
    "duration": 208360,
    "start_time": "2023-04-28T05:53:14.508Z"
   },
   {
    "duration": 3,
    "start_time": "2023-04-28T05:56:42.870Z"
   },
   {
    "duration": 65,
    "start_time": "2023-04-28T05:56:42.875Z"
   },
   {
    "duration": 47,
    "start_time": "2023-04-28T05:56:42.941Z"
   },
   {
    "duration": 33614,
    "start_time": "2023-04-28T05:56:42.991Z"
   },
   {
    "duration": 5,
    "start_time": "2023-04-28T05:57:16.606Z"
   },
   {
    "duration": 31,
    "start_time": "2023-04-28T05:57:16.613Z"
   },
   {
    "duration": 150,
    "start_time": "2023-04-28T05:57:16.646Z"
   },
   {
    "duration": 111887,
    "start_time": "2023-04-28T05:57:16.804Z"
   },
   {
    "duration": 95,
    "start_time": "2023-04-28T05:59:08.693Z"
   },
   {
    "duration": 24,
    "start_time": "2023-04-28T05:59:08.790Z"
   },
   {
    "duration": 103,
    "start_time": "2023-04-28T05:59:08.887Z"
   },
   {
    "duration": 4,
    "start_time": "2023-04-28T05:59:08.992Z"
   },
   {
    "duration": 23,
    "start_time": "2023-04-28T05:59:08.997Z"
   },
   {
    "duration": 228,
    "start_time": "2023-04-28T05:59:09.022Z"
   },
   {
    "duration": 35,
    "start_time": "2023-04-28T05:59:09.252Z"
   },
   {
    "duration": 31,
    "start_time": "2023-04-28T05:59:09.289Z"
   },
   {
    "duration": 104,
    "start_time": "2023-04-28T05:59:09.387Z"
   },
   {
    "duration": 3,
    "start_time": "2023-04-28T05:59:09.492Z"
   },
   {
    "duration": 6,
    "start_time": "2023-04-28T05:59:09.497Z"
   },
   {
    "duration": 120,
    "start_time": "2023-04-28T05:59:09.504Z"
   },
   {
    "duration": 31,
    "start_time": "2023-04-28T05:59:09.626Z"
   },
   {
    "duration": 127,
    "start_time": "2023-04-28T05:59:09.659Z"
   },
   {
    "duration": 114,
    "start_time": "2023-04-28T05:59:09.788Z"
   },
   {
    "duration": 303,
    "start_time": "2023-04-28T05:59:09.904Z"
   },
   {
    "duration": 224726,
    "start_time": "2023-04-28T05:59:10.209Z"
   },
   {
    "duration": 4,
    "start_time": "2023-04-28T06:02:54.937Z"
   },
   {
    "duration": 272,
    "start_time": "2023-04-28T06:02:54.942Z"
   },
   {
    "duration": 21,
    "start_time": "2023-04-28T06:02:55.215Z"
   },
   {
    "duration": 179,
    "start_time": "2023-04-28T06:02:55.237Z"
   },
   {
    "duration": 20,
    "start_time": "2023-04-28T06:02:55.418Z"
   },
   {
    "duration": 4,
    "start_time": "2023-04-28T06:02:55.439Z"
   },
   {
    "duration": 5,
    "start_time": "2023-04-28T06:02:55.444Z"
   },
   {
    "duration": 39731,
    "start_time": "2023-04-28T06:02:55.450Z"
   },
   {
    "duration": 4,
    "start_time": "2023-04-28T06:03:35.183Z"
   },
   {
    "duration": 53,
    "start_time": "2023-04-28T06:03:35.189Z"
   },
   {
    "duration": 124,
    "start_time": "2023-04-28T06:03:35.244Z"
   },
   {
    "duration": 0,
    "start_time": "2023-04-28T06:03:35.370Z"
   },
   {
    "duration": 0,
    "start_time": "2023-04-28T06:03:35.372Z"
   },
   {
    "duration": 0,
    "start_time": "2023-04-28T06:03:35.373Z"
   },
   {
    "duration": 0,
    "start_time": "2023-04-28T06:03:35.375Z"
   },
   {
    "duration": 0,
    "start_time": "2023-04-28T06:03:35.386Z"
   },
   {
    "duration": 0,
    "start_time": "2023-04-28T06:03:35.387Z"
   },
   {
    "duration": 0,
    "start_time": "2023-04-28T06:03:35.389Z"
   },
   {
    "duration": 0,
    "start_time": "2023-04-28T06:03:35.390Z"
   },
   {
    "duration": 0,
    "start_time": "2023-04-28T06:03:35.392Z"
   },
   {
    "duration": 0,
    "start_time": "2023-04-28T06:03:35.394Z"
   },
   {
    "duration": 32,
    "start_time": "2023-04-28T06:04:00.977Z"
   },
   {
    "duration": 155,
    "start_time": "2023-04-28T06:04:01.184Z"
   },
   {
    "duration": 10,
    "start_time": "2023-04-28T06:04:04.009Z"
   },
   {
    "duration": 4,
    "start_time": "2023-04-28T06:04:04.249Z"
   },
   {
    "duration": 4,
    "start_time": "2023-04-28T06:04:04.519Z"
   },
   {
    "duration": 43234,
    "start_time": "2023-04-28T06:04:05.359Z"
   },
   {
    "duration": 190,
    "start_time": "2023-04-28T06:05:21.947Z"
   },
   {
    "duration": 18,
    "start_time": "2023-04-28T06:05:22.259Z"
   },
   {
    "duration": 4,
    "start_time": "2023-04-28T06:06:37.699Z"
   },
   {
    "duration": 4,
    "start_time": "2023-04-28T06:07:05.809Z"
   },
   {
    "duration": 286,
    "start_time": "2023-04-28T06:07:56.379Z"
   },
   {
    "duration": 276,
    "start_time": "2023-04-28T06:08:02.179Z"
   },
   {
    "duration": 172,
    "start_time": "2023-04-28T06:08:02.654Z"
   },
   {
    "duration": 21,
    "start_time": "2023-04-28T06:08:03.909Z"
   },
   {
    "duration": 3,
    "start_time": "2023-04-28T06:08:04.329Z"
   },
   {
    "duration": 4,
    "start_time": "2023-04-28T06:08:04.949Z"
   },
   {
    "duration": 32,
    "start_time": "2023-04-28T06:09:43.308Z"
   },
   {
    "duration": 4,
    "start_time": "2023-04-28T06:10:38.619Z"
   },
   {
    "duration": 3,
    "start_time": "2023-04-28T06:10:41.015Z"
   },
   {
    "duration": 31,
    "start_time": "2023-04-28T06:10:54.305Z"
   },
   {
    "duration": 8,
    "start_time": "2023-04-28T06:10:57.239Z"
   },
   {
    "duration": 4,
    "start_time": "2023-04-28T06:10:57.558Z"
   },
   {
    "duration": 4,
    "start_time": "2023-04-28T06:10:58.458Z"
   },
   {
    "duration": 3,
    "start_time": "2023-04-28T06:11:28.818Z"
   },
   {
    "duration": 26,
    "start_time": "2023-04-28T06:11:32.259Z"
   },
   {
    "duration": 339,
    "start_time": "2023-04-28T06:11:33.068Z"
   },
   {
    "duration": 9,
    "start_time": "2023-04-28T06:11:36.679Z"
   },
   {
    "duration": 4,
    "start_time": "2023-04-28T06:11:37.129Z"
   },
   {
    "duration": 4,
    "start_time": "2023-04-28T06:11:37.339Z"
   },
   {
    "duration": 25,
    "start_time": "2023-04-28T06:12:31.068Z"
   },
   {
    "duration": 4,
    "start_time": "2023-04-28T06:13:21.023Z"
   },
   {
    "duration": 8,
    "start_time": "2023-04-28T06:14:32.838Z"
   },
   {
    "duration": 14,
    "start_time": "2023-04-28T06:15:41.397Z"
   },
   {
    "duration": 5,
    "start_time": "2023-04-28T06:15:47.720Z"
   },
   {
    "duration": 11,
    "start_time": "2023-04-28T06:16:39.499Z"
   },
   {
    "duration": 11,
    "start_time": "2023-04-28T06:16:44.268Z"
   },
   {
    "duration": 176,
    "start_time": "2023-04-28T06:18:27.050Z"
   },
   {
    "duration": 156,
    "start_time": "2023-04-28T06:18:37.577Z"
   },
   {
    "duration": 332,
    "start_time": "2023-04-28T06:18:44.997Z"
   },
   {
    "duration": 10,
    "start_time": "2023-04-28T06:19:39.772Z"
   },
   {
    "duration": 10,
    "start_time": "2023-04-28T06:20:25.460Z"
   },
   {
    "duration": 9,
    "start_time": "2023-04-28T06:20:36.349Z"
   },
   {
    "duration": 10,
    "start_time": "2023-04-28T06:20:48.000Z"
   },
   {
    "duration": 14,
    "start_time": "2023-04-28T06:20:51.549Z"
   },
   {
    "duration": 12,
    "start_time": "2023-04-28T06:21:06.227Z"
   },
   {
    "duration": 15,
    "start_time": "2023-04-28T06:21:15.274Z"
   },
   {
    "duration": 10,
    "start_time": "2023-04-28T06:21:24.969Z"
   },
   {
    "duration": 9,
    "start_time": "2023-04-28T06:32:22.540Z"
   },
   {
    "duration": 40,
    "start_time": "2023-04-28T06:32:31.821Z"
   },
   {
    "duration": 7,
    "start_time": "2023-04-28T06:32:40.681Z"
   },
   {
    "duration": 3,
    "start_time": "2023-04-28T06:32:40.909Z"
   },
   {
    "duration": 4,
    "start_time": "2023-04-28T06:32:41.112Z"
   },
   {
    "duration": 9,
    "start_time": "2023-04-28T06:32:52.489Z"
   },
   {
    "duration": 6,
    "start_time": "2023-04-28T06:33:03.289Z"
   },
   {
    "duration": 3,
    "start_time": "2023-04-28T06:33:04.881Z"
   },
   {
    "duration": 3,
    "start_time": "2023-04-28T06:33:05.129Z"
   },
   {
    "duration": 10,
    "start_time": "2023-04-28T06:33:11.168Z"
   },
   {
    "duration": 8,
    "start_time": "2023-04-28T06:33:19.569Z"
   },
   {
    "duration": 5,
    "start_time": "2023-04-28T06:33:44.002Z"
   },
   {
    "duration": 11,
    "start_time": "2023-04-28T06:33:48.392Z"
   },
   {
    "duration": 12,
    "start_time": "2023-04-28T06:34:20.408Z"
   },
   {
    "duration": 13,
    "start_time": "2023-04-28T06:34:35.841Z"
   },
   {
    "duration": 13,
    "start_time": "2023-04-28T06:35:01.851Z"
   },
   {
    "duration": 3459,
    "start_time": "2023-04-28T06:58:50.175Z"
   },
   {
    "duration": 159,
    "start_time": "2023-04-28T06:58:53.636Z"
   },
   {
    "duration": 25,
    "start_time": "2023-04-28T06:58:53.797Z"
   },
   {
    "duration": 8,
    "start_time": "2023-04-28T06:58:53.824Z"
   },
   {
    "duration": 11,
    "start_time": "2023-04-28T06:58:53.834Z"
   },
   {
    "duration": 29,
    "start_time": "2023-04-28T06:58:53.848Z"
   },
   {
    "duration": 1621,
    "start_time": "2023-04-28T06:58:53.879Z"
   },
   {
    "duration": 8,
    "start_time": "2023-04-28T06:58:55.502Z"
   },
   {
    "duration": 5,
    "start_time": "2023-04-28T06:58:55.512Z"
   },
   {
    "duration": 5,
    "start_time": "2023-04-28T06:58:55.520Z"
   },
   {
    "duration": 6,
    "start_time": "2023-04-28T06:58:55.527Z"
   },
   {
    "duration": 8,
    "start_time": "2023-04-28T06:58:55.534Z"
   },
   {
    "duration": 47,
    "start_time": "2023-04-28T06:58:55.543Z"
   },
   {
    "duration": 12,
    "start_time": "2023-04-28T06:59:00.441Z"
   },
   {
    "duration": 19,
    "start_time": "2023-04-28T06:59:02.851Z"
   },
   {
    "duration": 56,
    "start_time": "2023-04-28T06:59:16.451Z"
   },
   {
    "duration": 109,
    "start_time": "2023-04-28T06:59:20.170Z"
   },
   {
    "duration": 9,
    "start_time": "2023-04-28T06:59:23.116Z"
   },
   {
    "duration": 8,
    "start_time": "2023-04-28T06:59:25.011Z"
   },
   {
    "duration": 22,
    "start_time": "2023-04-28T06:59:26.565Z"
   },
   {
    "duration": 5,
    "start_time": "2023-04-28T07:00:05.575Z"
   },
   {
    "duration": 58,
    "start_time": "2023-04-28T07:00:05.582Z"
   },
   {
    "duration": 12,
    "start_time": "2023-04-28T07:00:05.642Z"
   },
   {
    "duration": 14,
    "start_time": "2023-04-28T07:00:05.656Z"
   },
   {
    "duration": 18,
    "start_time": "2023-04-28T07:00:05.672Z"
   },
   {
    "duration": 51,
    "start_time": "2023-04-28T07:00:05.691Z"
   },
   {
    "duration": 1410,
    "start_time": "2023-04-28T07:00:05.744Z"
   },
   {
    "duration": 10,
    "start_time": "2023-04-28T07:00:07.155Z"
   },
   {
    "duration": 23,
    "start_time": "2023-04-28T07:00:07.167Z"
   },
   {
    "duration": 16,
    "start_time": "2023-04-28T07:00:07.192Z"
   },
   {
    "duration": 14,
    "start_time": "2023-04-28T07:00:07.209Z"
   },
   {
    "duration": 9,
    "start_time": "2023-04-28T07:00:07.225Z"
   },
   {
    "duration": 9,
    "start_time": "2023-04-28T07:00:07.236Z"
   },
   {
    "duration": 4,
    "start_time": "2023-04-28T07:00:07.248Z"
   },
   {
    "duration": 6,
    "start_time": "2023-04-28T07:00:07.254Z"
   },
   {
    "duration": 39,
    "start_time": "2023-04-28T07:00:07.262Z"
   },
   {
    "duration": 9,
    "start_time": "2023-04-28T07:00:07.303Z"
   },
   {
    "duration": 35,
    "start_time": "2023-04-28T07:00:07.313Z"
   },
   {
    "duration": 8,
    "start_time": "2023-04-28T07:00:07.350Z"
   },
   {
    "duration": 25,
    "start_time": "2023-04-28T07:00:07.360Z"
   },
   {
    "duration": 6,
    "start_time": "2023-04-28T07:00:07.388Z"
   },
   {
    "duration": 904,
    "start_time": "2023-04-28T07:00:07.396Z"
   },
   {
    "duration": 9,
    "start_time": "2023-04-28T07:00:08.302Z"
   },
   {
    "duration": 1313,
    "start_time": "2023-04-28T07:00:14.406Z"
   },
   {
    "duration": 18,
    "start_time": "2023-04-28T07:00:18.509Z"
   },
   {
    "duration": 5999,
    "start_time": "2023-04-29T06:32:26.448Z"
   },
   {
    "duration": 2163,
    "start_time": "2023-04-29T06:32:32.449Z"
   },
   {
    "duration": 150,
    "start_time": "2023-04-29T06:32:34.614Z"
   },
   {
    "duration": 15,
    "start_time": "2023-04-29T06:32:34.766Z"
   },
   {
    "duration": 5,
    "start_time": "2023-04-29T06:32:34.782Z"
   },
   {
    "duration": 10,
    "start_time": "2023-04-29T06:32:34.789Z"
   },
   {
    "duration": 25,
    "start_time": "2023-04-29T06:32:34.800Z"
   },
   {
    "duration": 1391,
    "start_time": "2023-04-29T06:32:34.827Z"
   },
   {
    "duration": 9,
    "start_time": "2023-04-29T06:32:36.220Z"
   },
   {
    "duration": 13,
    "start_time": "2023-04-29T06:32:36.232Z"
   },
   {
    "duration": 7,
    "start_time": "2023-04-29T06:32:36.247Z"
   },
   {
    "duration": 33,
    "start_time": "2023-04-29T06:32:36.256Z"
   },
   {
    "duration": 30,
    "start_time": "2023-04-29T06:32:36.292Z"
   },
   {
    "duration": 13,
    "start_time": "2023-04-29T06:32:36.324Z"
   },
   {
    "duration": 16,
    "start_time": "2023-04-29T06:32:36.339Z"
   },
   {
    "duration": 22,
    "start_time": "2023-04-29T06:32:36.357Z"
   },
   {
    "duration": 9,
    "start_time": "2023-04-29T06:32:36.380Z"
   },
   {
    "duration": 22,
    "start_time": "2023-04-29T06:32:36.391Z"
   },
   {
    "duration": 20,
    "start_time": "2023-04-29T06:32:36.414Z"
   },
   {
    "duration": 853,
    "start_time": "2023-04-29T06:32:36.436Z"
   },
   {
    "duration": 7,
    "start_time": "2023-04-29T06:32:37.294Z"
   },
   {
    "duration": 18,
    "start_time": "2023-04-29T06:32:37.303Z"
   },
   {
    "duration": 21626,
    "start_time": "2023-04-29T06:32:37.323Z"
   },
   {
    "duration": 4,
    "start_time": "2023-04-29T06:32:58.950Z"
   },
   {
    "duration": 1072,
    "start_time": "2023-04-29T06:32:58.956Z"
   },
   {
    "duration": 70,
    "start_time": "2023-04-29T06:33:00.030Z"
   },
   {
    "duration": 36,
    "start_time": "2023-04-29T06:33:00.102Z"
   },
   {
    "duration": 62,
    "start_time": "2023-04-29T06:33:00.141Z"
   },
   {
    "duration": 49,
    "start_time": "2023-04-29T06:33:00.205Z"
   },
   {
    "duration": 25,
    "start_time": "2023-04-29T06:33:00.256Z"
   },
   {
    "duration": 146,
    "start_time": "2023-04-29T06:33:00.283Z"
   },
   {
    "duration": 111561,
    "start_time": "2023-04-29T06:33:00.430Z"
   },
   {
    "duration": 4,
    "start_time": "2023-04-29T06:34:51.994Z"
   },
   {
    "duration": 118,
    "start_time": "2023-04-29T06:34:52.000Z"
   },
   {
    "duration": 166,
    "start_time": "2023-04-29T06:34:52.120Z"
   },
   {
    "duration": 37,
    "start_time": "2023-04-29T06:34:52.287Z"
   },
   {
    "duration": 3190,
    "start_time": "2023-04-29T06:34:52.326Z"
   },
   {
    "duration": 4,
    "start_time": "2023-04-29T06:34:55.517Z"
   },
   {
    "duration": 28,
    "start_time": "2023-04-29T06:34:55.522Z"
   },
   {
    "duration": 161,
    "start_time": "2023-04-29T06:34:55.551Z"
   },
   {
    "duration": 83,
    "start_time": "2023-04-29T06:34:55.713Z"
   },
   {
    "duration": 26104,
    "start_time": "2023-04-29T06:34:55.797Z"
   },
   {
    "duration": 91,
    "start_time": "2023-04-29T06:35:21.903Z"
   },
   {
    "duration": 23,
    "start_time": "2023-04-29T06:35:21.995Z"
   },
   {
    "duration": 402,
    "start_time": "2023-04-29T06:35:22.021Z"
   },
   {
    "duration": 11,
    "start_time": "2023-04-29T06:35:22.425Z"
   },
   {
    "duration": 14,
    "start_time": "2023-04-29T06:35:22.437Z"
   },
   {
    "duration": 4,
    "start_time": "2023-04-29T06:35:22.452Z"
   },
   {
    "duration": 8,
    "start_time": "2023-04-29T06:35:22.457Z"
   },
   {
    "duration": 236,
    "start_time": "2023-04-29T06:35:22.466Z"
   },
   {
    "duration": 28,
    "start_time": "2023-04-29T06:35:22.703Z"
   },
   {
    "duration": 65,
    "start_time": "2023-04-29T06:35:22.732Z"
   },
   {
    "duration": 98,
    "start_time": "2023-04-29T06:35:22.799Z"
   },
   {
    "duration": 3,
    "start_time": "2023-04-29T06:35:22.899Z"
   },
   {
    "duration": 7,
    "start_time": "2023-04-29T06:35:22.903Z"
   },
   {
    "duration": 110,
    "start_time": "2023-04-29T06:35:22.911Z"
   },
   {
    "duration": 27,
    "start_time": "2023-04-29T06:35:23.023Z"
   },
   {
    "duration": 56,
    "start_time": "2023-04-29T06:35:23.052Z"
   },
   {
    "duration": 21,
    "start_time": "2023-04-29T06:35:23.194Z"
   },
   {
    "duration": 335,
    "start_time": "2023-04-29T06:35:23.217Z"
   },
   {
    "duration": 29,
    "start_time": "2023-04-29T06:42:06.559Z"
   },
   {
    "duration": 30,
    "start_time": "2023-04-29T06:42:31.576Z"
   },
   {
    "duration": 242,
    "start_time": "2023-04-29T06:43:23.056Z"
   },
   {
    "duration": 281,
    "start_time": "2023-04-29T06:43:32.049Z"
   },
   {
    "duration": 311,
    "start_time": "2023-04-29T06:43:34.499Z"
   },
   {
    "duration": 317,
    "start_time": "2023-04-29T06:43:37.678Z"
   },
   {
    "duration": 333,
    "start_time": "2023-04-29T06:43:40.675Z"
   },
   {
    "duration": 369,
    "start_time": "2023-04-29T06:43:46.980Z"
   },
   {
    "duration": 335,
    "start_time": "2023-04-29T06:43:50.300Z"
   },
   {
    "duration": 36,
    "start_time": "2023-04-29T06:46:05.949Z"
   },
   {
    "duration": 54,
    "start_time": "2023-04-29T06:46:11.880Z"
   },
   {
    "duration": 45,
    "start_time": "2023-04-29T06:46:14.901Z"
   },
   {
    "duration": 36,
    "start_time": "2023-04-29T06:46:18.019Z"
   },
   {
    "duration": 29,
    "start_time": "2023-04-29T06:46:19.959Z"
   },
   {
    "duration": 35,
    "start_time": "2023-04-29T06:46:22.349Z"
   },
   {
    "duration": 39,
    "start_time": "2023-04-29T06:47:38.655Z"
   },
   {
    "duration": 119,
    "start_time": "2023-04-29T07:02:29.737Z"
   },
   {
    "duration": 23,
    "start_time": "2023-04-29T07:02:53.910Z"
   },
   {
    "duration": 25,
    "start_time": "2023-04-29T07:03:46.519Z"
   },
   {
    "duration": 51,
    "start_time": "2023-04-29T07:04:22.720Z"
   },
   {
    "duration": 35,
    "start_time": "2023-04-29T07:04:26.500Z"
   },
   {
    "duration": 36,
    "start_time": "2023-04-29T07:08:37.475Z"
   },
   {
    "duration": 25,
    "start_time": "2023-04-29T07:09:33.738Z"
   },
   {
    "duration": 4191,
    "start_time": "2023-04-29T07:09:38.168Z"
   },
   {
    "duration": 260,
    "start_time": "2023-04-29T07:12:04.720Z"
   },
   {
    "duration": 263,
    "start_time": "2023-04-29T07:12:51.339Z"
   },
   {
    "duration": 239,
    "start_time": "2023-04-29T07:13:08.959Z"
   },
   {
    "duration": 261,
    "start_time": "2023-04-29T07:13:35.299Z"
   },
   {
    "duration": 234,
    "start_time": "2023-04-29T07:13:52.161Z"
   },
   {
    "duration": 239,
    "start_time": "2023-04-29T07:13:55.968Z"
   },
   {
    "duration": 256,
    "start_time": "2023-04-29T07:13:59.357Z"
   },
   {
    "duration": 235,
    "start_time": "2023-04-29T07:14:02.229Z"
   },
   {
    "duration": 240,
    "start_time": "2023-04-29T07:14:08.326Z"
   },
   {
    "duration": 240,
    "start_time": "2023-04-29T07:14:11.579Z"
   },
   {
    "duration": 250,
    "start_time": "2023-04-29T07:14:15.875Z"
   },
   {
    "duration": 235,
    "start_time": "2023-04-29T07:14:20.867Z"
   },
   {
    "duration": 25,
    "start_time": "2023-04-29T07:14:43.360Z"
   },
   {
    "duration": 269,
    "start_time": "2023-04-29T07:14:49.759Z"
   },
   {
    "duration": 285,
    "start_time": "2023-04-29T07:14:51.987Z"
   },
   {
    "duration": 304,
    "start_time": "2023-04-29T07:14:54.660Z"
   },
   {
    "duration": 329,
    "start_time": "2023-04-29T07:14:57.596Z"
   },
   {
    "duration": 21,
    "start_time": "2023-04-29T07:14:59.879Z"
   },
   {
    "duration": 354,
    "start_time": "2023-04-29T07:15:04.359Z"
   },
   {
    "duration": 417,
    "start_time": "2023-04-29T07:15:07.629Z"
   },
   {
    "duration": 28,
    "start_time": "2023-04-29T07:15:09.267Z"
   },
   {
    "duration": 65,
    "start_time": "2023-04-29T07:15:13.487Z"
   },
   {
    "duration": 11,
    "start_time": "2023-04-29T07:15:14.309Z"
   },
   {
    "duration": 314,
    "start_time": "2023-04-29T07:15:17.023Z"
   },
   {
    "duration": 18,
    "start_time": "2023-04-29T07:15:17.929Z"
   },
   {
    "duration": 291,
    "start_time": "2023-04-29T07:15:21.109Z"
   },
   {
    "duration": 19,
    "start_time": "2023-04-29T07:15:21.815Z"
   },
   {
    "duration": 311,
    "start_time": "2023-04-29T07:15:23.719Z"
   },
   {
    "duration": 22,
    "start_time": "2023-04-29T07:15:24.669Z"
   },
   {
    "duration": 322,
    "start_time": "2023-04-29T07:15:33.477Z"
   },
   {
    "duration": 26,
    "start_time": "2023-04-29T07:15:34.268Z"
   },
   {
    "duration": 383,
    "start_time": "2023-04-29T07:15:36.858Z"
   },
   {
    "duration": 29,
    "start_time": "2023-04-29T07:15:37.367Z"
   },
   {
    "duration": 376,
    "start_time": "2023-04-29T07:15:40.978Z"
   },
   {
    "duration": 37,
    "start_time": "2023-04-29T07:15:41.357Z"
   },
   {
    "duration": 359,
    "start_time": "2023-04-29T07:15:43.685Z"
   },
   {
    "duration": 27,
    "start_time": "2023-04-29T07:15:44.047Z"
   },
   {
    "duration": 372,
    "start_time": "2023-04-29T07:15:46.439Z"
   },
   {
    "duration": 26,
    "start_time": "2023-04-29T07:15:46.814Z"
   },
   {
    "duration": 431,
    "start_time": "2023-04-29T07:15:49.357Z"
   },
   {
    "duration": 26,
    "start_time": "2023-04-29T07:15:49.793Z"
   },
   {
    "duration": 386,
    "start_time": "2023-04-29T07:15:52.156Z"
   },
   {
    "duration": 26,
    "start_time": "2023-04-29T07:15:52.544Z"
   },
   {
    "duration": 405,
    "start_time": "2023-04-29T07:15:54.690Z"
   },
   {
    "duration": 23,
    "start_time": "2023-04-29T07:15:55.097Z"
   },
   {
    "duration": 426,
    "start_time": "2023-04-29T07:15:57.229Z"
   },
   {
    "duration": 44,
    "start_time": "2023-04-29T07:15:57.657Z"
   },
   {
    "duration": 476,
    "start_time": "2023-04-29T07:15:59.940Z"
   },
   {
    "duration": 37,
    "start_time": "2023-04-29T07:16:00.418Z"
   },
   {
    "duration": 434,
    "start_time": "2023-04-29T07:16:02.960Z"
   },
   {
    "duration": 35,
    "start_time": "2023-04-29T07:16:03.396Z"
   },
   {
    "duration": 460,
    "start_time": "2023-04-29T07:16:05.999Z"
   },
   {
    "duration": 33,
    "start_time": "2023-04-29T07:16:06.462Z"
   },
   {
    "duration": 497,
    "start_time": "2023-04-29T07:16:08.838Z"
   },
   {
    "duration": 29,
    "start_time": "2023-04-29T07:16:09.337Z"
   },
   {
    "duration": 416,
    "start_time": "2023-04-29T07:16:12.579Z"
   },
   {
    "duration": 26,
    "start_time": "2023-04-29T07:16:12.997Z"
   },
   {
    "duration": 416,
    "start_time": "2023-04-29T07:16:33.019Z"
   },
   {
    "duration": 24,
    "start_time": "2023-04-29T07:16:34.919Z"
   },
   {
    "duration": 411,
    "start_time": "2023-04-29T07:16:38.759Z"
   },
   {
    "duration": 32,
    "start_time": "2023-04-29T07:16:39.172Z"
   },
   {
    "duration": 427,
    "start_time": "2023-04-29T07:16:43.029Z"
   },
   {
    "duration": 24,
    "start_time": "2023-04-29T07:16:43.458Z"
   },
   {
    "duration": 430,
    "start_time": "2023-04-29T07:16:47.167Z"
   },
   {
    "duration": 26,
    "start_time": "2023-04-29T07:16:47.599Z"
   },
   {
    "duration": 402,
    "start_time": "2023-04-29T07:16:50.748Z"
   },
   {
    "duration": 23,
    "start_time": "2023-04-29T07:16:51.152Z"
   },
   {
    "duration": 428,
    "start_time": "2023-04-29T07:16:54.120Z"
   },
   {
    "duration": 23,
    "start_time": "2023-04-29T07:16:54.550Z"
   },
   {
    "duration": 52,
    "start_time": "2023-04-29T07:19:22.577Z"
   },
   {
    "duration": 46,
    "start_time": "2023-04-29T07:19:47.717Z"
   },
   {
    "duration": 6239,
    "start_time": "2023-04-29T07:20:03.847Z"
   },
   {
    "duration": 4,
    "start_time": "2023-04-29T07:20:15.229Z"
   },
   {
    "duration": 2308320,
    "start_time": "2023-04-29T07:20:54.269Z"
   },
   {
    "duration": 1170275,
    "start_time": "2023-04-29T07:59:33.709Z"
   },
   {
    "duration": 437,
    "start_time": "2023-04-29T08:22:06.854Z"
   },
   {
    "duration": 26,
    "start_time": "2023-04-29T08:22:10.552Z"
   },
   {
    "duration": 434,
    "start_time": "2023-04-29T08:22:59.341Z"
   },
   {
    "duration": 438,
    "start_time": "2023-04-29T08:23:03.270Z"
   },
   {
    "duration": 416,
    "start_time": "2023-04-29T08:23:06.118Z"
   },
   {
    "duration": 411,
    "start_time": "2023-04-29T08:23:08.893Z"
   },
   {
    "duration": 26,
    "start_time": "2023-04-29T08:23:13.913Z"
   },
   {
    "duration": 400,
    "start_time": "2023-04-29T08:23:18.214Z"
   },
   {
    "duration": 402,
    "start_time": "2023-04-29T08:23:21.464Z"
   },
   {
    "duration": 423,
    "start_time": "2023-04-29T08:23:24.534Z"
   },
   {
    "duration": 432,
    "start_time": "2023-04-29T08:23:27.304Z"
   },
   {
    "duration": 26,
    "start_time": "2023-04-29T08:23:29.763Z"
   },
   {
    "duration": 402,
    "start_time": "2023-04-29T08:23:32.823Z"
   },
   {
    "duration": 25,
    "start_time": "2023-04-29T08:23:33.813Z"
   },
   {
    "duration": 432,
    "start_time": "2023-04-29T08:23:36.926Z"
   },
   {
    "duration": 24,
    "start_time": "2023-04-29T08:23:37.893Z"
   },
   {
    "duration": 434,
    "start_time": "2023-04-29T08:24:07.013Z"
   },
   {
    "duration": 28,
    "start_time": "2023-04-29T08:24:09.933Z"
   },
   {
    "duration": 513,
    "start_time": "2023-04-29T08:24:21.823Z"
   },
   {
    "duration": 26,
    "start_time": "2023-04-29T08:24:23.243Z"
   },
   {
    "duration": 543,
    "start_time": "2023-04-29T08:24:30.073Z"
   },
   {
    "duration": 27,
    "start_time": "2023-04-29T08:24:31.203Z"
   },
   {
    "duration": 1088,
    "start_time": "2023-04-29T08:24:46.223Z"
   },
   {
    "duration": 54,
    "start_time": "2023-04-29T08:24:48.413Z"
   },
   {
    "duration": 1614,
    "start_time": "2023-04-29T08:24:57.968Z"
   },
   {
    "duration": 80,
    "start_time": "2023-04-29T08:24:59.584Z"
   },
   {
    "duration": 2220,
    "start_time": "2023-04-29T08:25:03.932Z"
   },
   {
    "duration": 102,
    "start_time": "2023-04-29T08:25:07.412Z"
   },
   {
    "duration": 2461,
    "start_time": "2023-04-29T08:26:31.503Z"
   },
   {
    "duration": 100,
    "start_time": "2023-04-29T08:26:35.445Z"
   },
   {
    "duration": 2353,
    "start_time": "2023-04-29T08:26:38.792Z"
   },
   {
    "duration": 2142,
    "start_time": "2023-04-29T08:26:46.392Z"
   },
   {
    "duration": 102,
    "start_time": "2023-04-29T08:26:50.393Z"
   },
   {
    "duration": 2175,
    "start_time": "2023-04-29T08:26:54.492Z"
   },
   {
    "duration": 2304,
    "start_time": "2023-04-29T08:26:59.092Z"
   },
   {
    "duration": 2219,
    "start_time": "2023-04-29T08:27:04.332Z"
   },
   {
    "duration": 2280,
    "start_time": "2023-04-29T08:27:08.002Z"
   },
   {
    "duration": 2487,
    "start_time": "2023-04-29T08:27:13.891Z"
   },
   {
    "duration": 2285,
    "start_time": "2023-04-29T08:27:20.564Z"
   },
   {
    "duration": 2285,
    "start_time": "2023-04-29T08:27:26.282Z"
   },
   {
    "duration": 2392,
    "start_time": "2023-04-29T08:27:59.732Z"
   },
   {
    "duration": 99,
    "start_time": "2023-04-29T08:28:08.202Z"
   },
   {
    "duration": 2434,
    "start_time": "2023-04-29T08:28:15.181Z"
   },
   {
    "duration": 100,
    "start_time": "2023-04-29T08:28:21.622Z"
   },
   {
    "duration": 2450,
    "start_time": "2023-04-29T08:28:35.245Z"
   },
   {
    "duration": 108,
    "start_time": "2023-04-29T08:28:41.401Z"
   },
   {
    "duration": 2121,
    "start_time": "2023-04-29T08:28:45.252Z"
   },
   {
    "duration": 102,
    "start_time": "2023-04-29T08:28:48.551Z"
   },
   {
    "duration": 2143,
    "start_time": "2023-04-29T08:29:07.182Z"
   },
   {
    "duration": 100,
    "start_time": "2023-04-29T08:29:10.111Z"
   },
   {
    "duration": 2182,
    "start_time": "2023-04-29T08:29:16.619Z"
   },
   {
    "duration": 107,
    "start_time": "2023-04-29T08:29:24.892Z"
   },
   {
    "duration": 2161,
    "start_time": "2023-04-29T08:29:53.470Z"
   },
   {
    "duration": 1161,
    "start_time": "2023-04-29T08:29:55.633Z"
   },
   {
    "duration": 39,
    "start_time": "2023-04-29T08:29:56.796Z"
   },
   {
    "duration": 17,
    "start_time": "2023-04-29T08:29:56.836Z"
   },
   {
    "duration": 4,
    "start_time": "2023-04-29T08:29:56.855Z"
   },
   {
    "duration": 7,
    "start_time": "2023-04-29T08:29:56.860Z"
   },
   {
    "duration": 16,
    "start_time": "2023-04-29T08:29:56.868Z"
   },
   {
    "duration": 1329,
    "start_time": "2023-04-29T08:29:56.886Z"
   },
   {
    "duration": 9,
    "start_time": "2023-04-29T08:29:58.217Z"
   },
   {
    "duration": 5,
    "start_time": "2023-04-29T08:29:58.227Z"
   },
   {
    "duration": 6,
    "start_time": "2023-04-29T08:29:58.234Z"
   },
   {
    "duration": 9,
    "start_time": "2023-04-29T08:29:58.242Z"
   },
   {
    "duration": 11,
    "start_time": "2023-04-29T08:29:58.253Z"
   },
   {
    "duration": 4,
    "start_time": "2023-04-29T08:29:58.295Z"
   },
   {
    "duration": 17,
    "start_time": "2023-04-29T08:29:58.300Z"
   },
   {
    "duration": 17,
    "start_time": "2023-04-29T08:29:58.319Z"
   },
   {
    "duration": 5,
    "start_time": "2023-04-29T08:29:58.338Z"
   },
   {
    "duration": 10,
    "start_time": "2023-04-29T08:29:58.344Z"
   },
   {
    "duration": 4,
    "start_time": "2023-04-29T08:29:58.356Z"
   },
   {
    "duration": 1246,
    "start_time": "2023-04-29T08:29:58.362Z"
   },
   {
    "duration": 9,
    "start_time": "2023-04-29T08:29:59.609Z"
   },
   {
    "duration": 5,
    "start_time": "2023-04-29T08:29:59.619Z"
   },
   {
    "duration": 24430,
    "start_time": "2023-04-29T08:29:59.625Z"
   },
   {
    "duration": 5,
    "start_time": "2023-04-29T08:30:24.057Z"
   },
   {
    "duration": 1148,
    "start_time": "2023-04-29T08:30:24.064Z"
   },
   {
    "duration": 7,
    "start_time": "2023-04-29T08:30:25.214Z"
   },
   {
    "duration": 8,
    "start_time": "2023-04-29T08:30:25.223Z"
   },
   {
    "duration": 7,
    "start_time": "2023-04-29T08:30:25.233Z"
   },
   {
    "duration": 26,
    "start_time": "2023-04-29T08:30:25.241Z"
   },
   {
    "duration": 11,
    "start_time": "2023-04-29T08:30:25.295Z"
   },
   {
    "duration": 11,
    "start_time": "2023-04-29T08:31:05.200Z"
   },
   {
    "duration": 4,
    "start_time": "2023-04-29T08:31:05.423Z"
   },
   {
    "duration": 5,
    "start_time": "2023-04-29T08:31:05.530Z"
   },
   {
    "duration": 214,
    "start_time": "2023-04-29T08:31:05.822Z"
   },
   {
    "duration": 30,
    "start_time": "2023-04-29T08:31:06.057Z"
   },
   {
    "duration": 33,
    "start_time": "2023-04-29T08:31:06.301Z"
   },
   {
    "duration": 11,
    "start_time": "2023-04-29T08:31:06.613Z"
   },
   {
    "duration": 4,
    "start_time": "2023-04-29T08:31:06.841Z"
   },
   {
    "duration": 5,
    "start_time": "2023-04-29T08:31:06.957Z"
   },
   {
    "duration": 95,
    "start_time": "2023-04-29T08:31:07.228Z"
   },
   {
    "duration": 29,
    "start_time": "2023-04-29T08:31:07.500Z"
   },
   {
    "duration": 22,
    "start_time": "2023-04-29T08:31:07.820Z"
   },
   {
    "duration": 27,
    "start_time": "2023-04-29T08:31:08.142Z"
   },
   {
    "duration": 153,
    "start_time": "2023-04-29T08:31:08.295Z"
   },
   {
    "duration": 44,
    "start_time": "2023-04-29T08:31:08.543Z"
   },
   {
    "duration": 352,
    "start_time": "2023-04-29T08:31:08.891Z"
   },
   {
    "duration": 38,
    "start_time": "2023-04-29T08:31:09.244Z"
   },
   {
    "duration": 50,
    "start_time": "2023-04-29T08:31:09.443Z"
   },
   {
    "duration": 2211,
    "start_time": "2023-04-29T08:31:17.771Z"
   },
   {
    "duration": 97,
    "start_time": "2023-04-29T08:31:21.151Z"
   },
   {
    "duration": 35,
    "start_time": "2023-04-29T08:34:56.735Z"
   },
   {
    "duration": 41,
    "start_time": "2023-04-29T08:35:46.377Z"
   },
   {
    "duration": 46,
    "start_time": "2023-04-29T08:35:50.682Z"
   },
   {
    "duration": 36,
    "start_time": "2023-04-29T08:35:54.093Z"
   },
   {
    "duration": 62,
    "start_time": "2023-04-29T08:35:58.373Z"
   },
   {
    "duration": 44,
    "start_time": "2023-04-29T08:36:02.507Z"
   },
   {
    "duration": 101,
    "start_time": "2023-04-29T08:36:41.502Z"
   },
   {
    "duration": 38,
    "start_time": "2023-04-29T08:36:45.302Z"
   },
   {
    "duration": 40,
    "start_time": "2023-04-29T08:36:48.572Z"
   },
   {
    "duration": 39,
    "start_time": "2023-04-29T08:36:51.552Z"
   },
   {
    "duration": 40,
    "start_time": "2023-04-29T08:36:54.492Z"
   },
   {
    "duration": 40,
    "start_time": "2023-04-29T08:36:57.771Z"
   },
   {
    "duration": 46,
    "start_time": "2023-04-29T08:37:00.762Z"
   },
   {
    "duration": 40,
    "start_time": "2023-04-29T08:37:03.132Z"
   },
   {
    "duration": 45,
    "start_time": "2023-04-29T08:37:05.418Z"
   },
   {
    "duration": 39,
    "start_time": "2023-04-29T08:37:07.882Z"
   },
   {
    "duration": 39,
    "start_time": "2023-04-29T08:37:10.752Z"
   },
   {
    "duration": 41,
    "start_time": "2023-04-29T08:37:13.982Z"
   },
   {
    "duration": 40,
    "start_time": "2023-04-29T08:37:16.852Z"
   },
   {
    "duration": 39,
    "start_time": "2023-04-29T08:37:19.612Z"
   },
   {
    "duration": 42,
    "start_time": "2023-04-29T08:37:22.662Z"
   },
   {
    "duration": 42,
    "start_time": "2023-04-29T08:37:25.143Z"
   },
   {
    "duration": 46,
    "start_time": "2023-04-29T08:37:28.220Z"
   },
   {
    "duration": 41,
    "start_time": "2023-04-29T08:37:33.944Z"
   },
   {
    "duration": 45,
    "start_time": "2023-04-29T08:37:36.682Z"
   },
   {
    "duration": 13,
    "start_time": "2023-04-29T08:43:22.900Z"
   },
   {
    "duration": 40,
    "start_time": "2023-04-29T08:43:30.392Z"
   },
   {
    "duration": 336,
    "start_time": "2023-04-29T08:43:35.463Z"
   },
   {
    "duration": 32,
    "start_time": "2023-04-29T08:45:17.102Z"
   },
   {
    "duration": 329,
    "start_time": "2023-04-29T08:45:19.025Z"
   },
   {
    "duration": 31,
    "start_time": "2023-04-29T08:45:22.951Z"
   },
   {
    "duration": 341,
    "start_time": "2023-04-29T08:45:24.330Z"
   },
   {
    "duration": 39,
    "start_time": "2023-04-29T08:45:27.271Z"
   },
   {
    "duration": 367,
    "start_time": "2023-04-29T08:45:28.103Z"
   },
   {
    "duration": 33,
    "start_time": "2023-04-29T08:45:30.762Z"
   },
   {
    "duration": 328,
    "start_time": "2023-04-29T08:45:31.523Z"
   },
   {
    "duration": 33,
    "start_time": "2023-04-29T08:45:34.462Z"
   },
   {
    "duration": 359,
    "start_time": "2023-04-29T08:45:35.124Z"
   },
   {
    "duration": 33,
    "start_time": "2023-04-29T08:45:39.431Z"
   },
   {
    "duration": 341,
    "start_time": "2023-04-29T08:45:40.162Z"
   },
   {
    "duration": 34,
    "start_time": "2023-04-29T08:45:43.783Z"
   },
   {
    "duration": 337,
    "start_time": "2023-04-29T08:45:44.482Z"
   },
   {
    "duration": 2184,
    "start_time": "2023-04-29T08:45:50.403Z"
   },
   {
    "duration": 99,
    "start_time": "2023-04-29T08:45:53.823Z"
   },
   {
    "duration": 39,
    "start_time": "2023-04-29T08:46:09.860Z"
   },
   {
    "duration": 328,
    "start_time": "2023-04-29T08:46:11.513Z"
   },
   {
    "duration": 31,
    "start_time": "2023-04-29T08:46:15.023Z"
   },
   {
    "duration": 363,
    "start_time": "2023-04-29T08:46:16.023Z"
   },
   {
    "duration": 27,
    "start_time": "2023-04-29T08:46:19.280Z"
   },
   {
    "duration": 342,
    "start_time": "2023-04-29T08:46:20.303Z"
   },
   {
    "duration": 30,
    "start_time": "2023-04-29T08:46:25.333Z"
   },
   {
    "duration": 348,
    "start_time": "2023-04-29T08:46:26.181Z"
   },
   {
    "duration": 2247,
    "start_time": "2023-04-29T08:46:32.093Z"
   },
   {
    "duration": 105,
    "start_time": "2023-04-29T08:46:35.269Z"
   },
   {
    "duration": 36,
    "start_time": "2023-04-29T08:46:55.185Z"
   },
   {
    "duration": 326,
    "start_time": "2023-04-29T08:46:59.858Z"
   },
   {
    "duration": 34,
    "start_time": "2023-04-29T08:47:03.113Z"
   },
   {
    "duration": 31,
    "start_time": "2023-04-29T08:47:10.982Z"
   },
   {
    "duration": 321,
    "start_time": "2023-04-29T08:47:12.073Z"
   },
   {
    "duration": 2168,
    "start_time": "2023-04-29T08:47:17.784Z"
   },
   {
    "duration": 102,
    "start_time": "2023-04-29T08:47:20.993Z"
   },
   {
    "duration": 31,
    "start_time": "2023-04-29T08:47:27.120Z"
   },
   {
    "duration": 339,
    "start_time": "2023-04-29T08:47:28.673Z"
   },
   {
    "duration": 28,
    "start_time": "2023-04-29T08:47:32.283Z"
   },
   {
    "duration": 338,
    "start_time": "2023-04-29T08:47:33.343Z"
   },
   {
    "duration": 2182,
    "start_time": "2023-04-29T08:59:20.257Z"
   },
   {
    "duration": 1160,
    "start_time": "2023-04-29T08:59:22.441Z"
   },
   {
    "duration": 36,
    "start_time": "2023-04-29T08:59:23.603Z"
   },
   {
    "duration": 15,
    "start_time": "2023-04-29T08:59:23.641Z"
   },
   {
    "duration": 4,
    "start_time": "2023-04-29T08:59:23.658Z"
   },
   {
    "duration": 5,
    "start_time": "2023-04-29T08:59:23.663Z"
   },
   {
    "duration": 15,
    "start_time": "2023-04-29T08:59:23.669Z"
   },
   {
    "duration": 1384,
    "start_time": "2023-04-29T08:59:23.685Z"
   },
   {
    "duration": 9,
    "start_time": "2023-04-29T08:59:25.070Z"
   },
   {
    "duration": 15,
    "start_time": "2023-04-29T08:59:25.080Z"
   },
   {
    "duration": 16,
    "start_time": "2023-04-29T08:59:25.096Z"
   },
   {
    "duration": 16,
    "start_time": "2023-04-29T08:59:25.114Z"
   },
   {
    "duration": 10,
    "start_time": "2023-04-29T08:59:25.132Z"
   },
   {
    "duration": 13,
    "start_time": "2023-04-29T08:59:25.144Z"
   },
   {
    "duration": 14,
    "start_time": "2023-04-29T08:59:25.158Z"
   },
   {
    "duration": 20,
    "start_time": "2023-04-29T08:59:52.816Z"
   },
   {
    "duration": 6,
    "start_time": "2023-04-29T08:59:59.076Z"
   },
   {
    "duration": 2044,
    "start_time": "2023-04-29T09:00:17.088Z"
   },
   {
    "duration": 5,
    "start_time": "2023-04-29T09:00:19.134Z"
   },
   {
    "duration": 44,
    "start_time": "2023-04-29T09:00:19.141Z"
   },
   {
    "duration": 14,
    "start_time": "2023-04-29T09:00:19.188Z"
   },
   {
    "duration": 10,
    "start_time": "2023-04-29T09:00:19.204Z"
   },
   {
    "duration": 21,
    "start_time": "2023-04-29T09:00:19.216Z"
   },
   {
    "duration": 13,
    "start_time": "2023-04-29T09:00:19.238Z"
   },
   {
    "duration": 1296,
    "start_time": "2023-04-29T09:00:19.252Z"
   },
   {
    "duration": 11,
    "start_time": "2023-04-29T09:00:20.549Z"
   },
   {
    "duration": 5,
    "start_time": "2023-04-29T09:00:20.561Z"
   },
   {
    "duration": 6,
    "start_time": "2023-04-29T09:00:20.567Z"
   },
   {
    "duration": 22,
    "start_time": "2023-04-29T09:00:20.574Z"
   },
   {
    "duration": 26,
    "start_time": "2023-04-29T09:00:20.598Z"
   },
   {
    "duration": 7,
    "start_time": "2023-04-29T09:00:20.626Z"
   },
   {
    "duration": 11,
    "start_time": "2023-04-29T09:00:20.635Z"
   },
   {
    "duration": 9,
    "start_time": "2023-04-29T09:00:20.648Z"
   },
   {
    "duration": 13,
    "start_time": "2023-04-29T09:00:20.660Z"
   },
   {
    "duration": 5,
    "start_time": "2023-04-29T09:00:20.674Z"
   },
   {
    "duration": 37,
    "start_time": "2023-04-29T09:00:20.680Z"
   },
   {
    "duration": 4,
    "start_time": "2023-04-29T09:00:20.719Z"
   },
   {
    "duration": 28,
    "start_time": "2023-04-29T09:00:31.453Z"
   },
   {
    "duration": 12,
    "start_time": "2023-04-29T09:00:32.514Z"
   },
   {
    "duration": 115,
    "start_time": "2023-04-29T09:00:38.046Z"
   },
   {
    "duration": 2144,
    "start_time": "2023-04-29T09:04:12.441Z"
   },
   {
    "duration": 1226,
    "start_time": "2023-04-29T09:04:14.588Z"
   },
   {
    "duration": 38,
    "start_time": "2023-04-29T09:04:15.816Z"
   },
   {
    "duration": 16,
    "start_time": "2023-04-29T09:04:15.856Z"
   },
   {
    "duration": 4,
    "start_time": "2023-04-29T09:04:15.873Z"
   },
   {
    "duration": 6,
    "start_time": "2023-04-29T09:04:15.878Z"
   },
   {
    "duration": 13,
    "start_time": "2023-04-29T09:04:15.885Z"
   },
   {
    "duration": 1397,
    "start_time": "2023-04-29T09:04:15.899Z"
   },
   {
    "duration": 9,
    "start_time": "2023-04-29T09:04:17.298Z"
   },
   {
    "duration": 5,
    "start_time": "2023-04-29T09:04:17.309Z"
   },
   {
    "duration": 18,
    "start_time": "2023-04-29T09:04:17.315Z"
   },
   {
    "duration": 11,
    "start_time": "2023-04-29T09:04:17.334Z"
   },
   {
    "duration": 8,
    "start_time": "2023-04-29T09:04:17.346Z"
   },
   {
    "duration": 10,
    "start_time": "2023-04-29T09:04:17.356Z"
   },
   {
    "duration": 10,
    "start_time": "2023-04-29T09:04:17.368Z"
   },
   {
    "duration": 24,
    "start_time": "2023-04-29T09:04:17.379Z"
   },
   {
    "duration": 15,
    "start_time": "2023-04-29T09:04:17.404Z"
   },
   {
    "duration": 6,
    "start_time": "2023-04-29T09:04:17.421Z"
   },
   {
    "duration": 14,
    "start_time": "2023-04-29T09:04:17.429Z"
   },
   {
    "duration": 16,
    "start_time": "2023-04-29T09:04:17.445Z"
   },
   {
    "duration": 792,
    "start_time": "2023-04-29T09:04:17.463Z"
   },
   {
    "duration": 9,
    "start_time": "2023-04-29T09:04:18.257Z"
   },
   {
    "duration": 7,
    "start_time": "2023-04-29T09:04:18.268Z"
   },
   {
    "duration": 12,
    "start_time": "2023-04-29T09:04:18.277Z"
   },
   {
    "duration": 10,
    "start_time": "2023-04-29T09:04:18.291Z"
   },
   {
    "duration": 11,
    "start_time": "2023-04-29T09:04:18.302Z"
   },
   {
    "duration": 23,
    "start_time": "2023-04-29T09:04:35.963Z"
   },
   {
    "duration": 78,
    "start_time": "2023-04-29T09:04:40.029Z"
   },
   {
    "duration": 28,
    "start_time": "2023-04-29T09:04:45.974Z"
   },
   {
    "duration": 288,
    "start_time": "2023-04-29T09:04:46.600Z"
   },
   {
    "duration": 33,
    "start_time": "2023-04-29T09:04:47.551Z"
   },
   {
    "duration": 26,
    "start_time": "2023-04-29T09:04:48.730Z"
   },
   {
    "duration": 2062,
    "start_time": "2023-04-29T09:04:59.220Z"
   },
   {
    "duration": 101,
    "start_time": "2023-04-29T09:05:03.820Z"
   },
   {
    "duration": 161416,
    "start_time": "2023-04-29T09:05:11.750Z"
   },
   {
    "duration": 621976,
    "start_time": "2023-04-29T09:08:01.160Z"
   },
   {
    "duration": 1228,
    "start_time": "2023-04-29T09:21:25.661Z"
   },
   {
    "duration": 63,
    "start_time": "2023-04-29T09:21:28.888Z"
   },
   {
    "duration": 260184,
    "start_time": "2023-04-29T09:22:24.092Z"
   },
   {
    "duration": 1853,
    "start_time": "2023-04-29T09:28:36.107Z"
   },
   {
    "duration": 88,
    "start_time": "2023-04-29T09:28:39.275Z"
   },
   {
    "duration": 263,
    "start_time": "2023-04-29T09:29:24.583Z"
   },
   {
    "duration": 21,
    "start_time": "2023-04-29T09:29:27.553Z"
   },
   {
    "duration": 1835,
    "start_time": "2023-04-29T09:29:40.504Z"
   },
   {
    "duration": 92,
    "start_time": "2023-04-29T09:29:44.604Z"
   },
   {
    "duration": 1909,
    "start_time": "2023-04-29T09:29:53.039Z"
   },
   {
    "duration": 1939,
    "start_time": "2023-04-29T09:29:57.979Z"
   },
   {
    "duration": 98,
    "start_time": "2023-04-29T09:30:14.504Z"
   },
   {
    "duration": 1891,
    "start_time": "2023-04-29T09:30:32.665Z"
   },
   {
    "duration": 2031,
    "start_time": "2023-04-29T09:30:39.279Z"
   },
   {
    "duration": 94,
    "start_time": "2023-04-29T09:30:45.244Z"
   },
   {
    "duration": 568634,
    "start_time": "2023-04-29T09:33:19.788Z"
   },
   {
    "duration": 1911,
    "start_time": "2023-04-29T09:42:51.752Z"
   },
   {
    "duration": 94,
    "start_time": "2023-04-29T09:42:54.631Z"
   },
   {
    "duration": 2036,
    "start_time": "2023-04-29T09:43:00.159Z"
   },
   {
    "duration": 101,
    "start_time": "2023-04-29T09:43:03.630Z"
   },
   {
    "duration": 1898,
    "start_time": "2023-04-29T09:43:07.236Z"
   },
   {
    "duration": 1564,
    "start_time": "2023-04-29T09:43:13.344Z"
   },
   {
    "duration": 1140,
    "start_time": "2023-04-29T09:43:18.584Z"
   },
   {
    "duration": 1239,
    "start_time": "2023-04-29T09:43:22.816Z"
   },
   {
    "duration": 1311,
    "start_time": "2023-04-29T09:43:26.027Z"
   },
   {
    "duration": 1329,
    "start_time": "2023-04-29T09:43:29.166Z"
   },
   {
    "duration": 1422,
    "start_time": "2023-04-29T09:43:32.426Z"
   },
   {
    "duration": 1522,
    "start_time": "2023-04-29T09:43:35.781Z"
   },
   {
    "duration": 1565,
    "start_time": "2023-04-29T09:43:40.608Z"
   },
   {
    "duration": 1632,
    "start_time": "2023-04-29T09:43:45.326Z"
   },
   {
    "duration": 1838,
    "start_time": "2023-04-29T09:43:48.216Z"
   },
   {
    "duration": 1813,
    "start_time": "2023-04-29T09:43:52.047Z"
   },
   {
    "duration": 1619,
    "start_time": "2023-04-29T09:43:56.226Z"
   },
   {
    "duration": 1404,
    "start_time": "2023-04-29T09:44:00.566Z"
   },
   {
    "duration": 1042,
    "start_time": "2023-04-29T09:44:04.857Z"
   },
   {
    "duration": 1254,
    "start_time": "2023-04-29T09:44:08.316Z"
   },
   {
    "duration": 1365,
    "start_time": "2023-04-29T09:44:13.166Z"
   },
   {
    "duration": 1172,
    "start_time": "2023-04-29T09:44:18.352Z"
   },
   {
    "duration": 1354,
    "start_time": "2023-04-29T09:44:24.989Z"
   },
   {
    "duration": 1211,
    "start_time": "2023-04-29T09:44:29.526Z"
   },
   {
    "duration": 68,
    "start_time": "2023-04-29T09:44:34.016Z"
   },
   {
    "duration": 2255,
    "start_time": "2023-04-29T09:55:14.902Z"
   },
   {
    "duration": 1186,
    "start_time": "2023-04-29T09:55:17.160Z"
   },
   {
    "duration": 37,
    "start_time": "2023-04-29T09:55:18.348Z"
   },
   {
    "duration": 19,
    "start_time": "2023-04-29T09:55:18.387Z"
   },
   {
    "duration": 5,
    "start_time": "2023-04-29T09:55:18.408Z"
   },
   {
    "duration": 9,
    "start_time": "2023-04-29T09:55:18.414Z"
   },
   {
    "duration": 14,
    "start_time": "2023-04-29T09:55:18.424Z"
   },
   {
    "duration": 1503,
    "start_time": "2023-04-29T09:55:18.439Z"
   },
   {
    "duration": 8,
    "start_time": "2023-04-29T09:55:19.943Z"
   },
   {
    "duration": 5,
    "start_time": "2023-04-29T09:55:19.953Z"
   },
   {
    "duration": 4,
    "start_time": "2023-04-29T09:55:19.959Z"
   },
   {
    "duration": 29,
    "start_time": "2023-04-29T09:55:19.965Z"
   },
   {
    "duration": 23,
    "start_time": "2023-04-29T09:55:19.997Z"
   },
   {
    "duration": 4,
    "start_time": "2023-04-29T09:55:20.023Z"
   },
   {
    "duration": 13,
    "start_time": "2023-04-29T09:55:20.028Z"
   },
   {
    "duration": 15,
    "start_time": "2023-04-29T09:55:20.042Z"
   },
   {
    "duration": 6,
    "start_time": "2023-04-29T09:55:20.058Z"
   },
   {
    "duration": 863,
    "start_time": "2023-04-29T09:55:20.065Z"
   },
   {
    "duration": 108,
    "start_time": "2023-04-29T09:55:20.930Z"
   },
   {
    "duration": 0,
    "start_time": "2023-04-29T09:55:21.040Z"
   },
   {
    "duration": 0,
    "start_time": "2023-04-29T09:55:21.041Z"
   },
   {
    "duration": 0,
    "start_time": "2023-04-29T09:55:21.042Z"
   },
   {
    "duration": 0,
    "start_time": "2023-04-29T09:55:21.043Z"
   },
   {
    "duration": 0,
    "start_time": "2023-04-29T09:55:21.044Z"
   },
   {
    "duration": 0,
    "start_time": "2023-04-29T09:55:21.045Z"
   },
   {
    "duration": 0,
    "start_time": "2023-04-29T09:55:21.047Z"
   },
   {
    "duration": 0,
    "start_time": "2023-04-29T09:55:21.048Z"
   },
   {
    "duration": 0,
    "start_time": "2023-04-29T09:55:21.049Z"
   },
   {
    "duration": 0,
    "start_time": "2023-04-29T09:55:21.050Z"
   },
   {
    "duration": 0,
    "start_time": "2023-04-29T09:55:21.051Z"
   },
   {
    "duration": 0,
    "start_time": "2023-04-29T09:55:21.052Z"
   },
   {
    "duration": 0,
    "start_time": "2023-04-29T09:55:21.054Z"
   },
   {
    "duration": 0,
    "start_time": "2023-04-29T09:55:21.055Z"
   },
   {
    "duration": 0,
    "start_time": "2023-04-29T09:55:21.056Z"
   },
   {
    "duration": 0,
    "start_time": "2023-04-29T09:55:21.057Z"
   },
   {
    "duration": 0,
    "start_time": "2023-04-29T09:55:21.058Z"
   },
   {
    "duration": 0,
    "start_time": "2023-04-29T09:55:21.059Z"
   },
   {
    "duration": 0,
    "start_time": "2023-04-29T09:55:21.060Z"
   },
   {
    "duration": 0,
    "start_time": "2023-04-29T09:55:21.061Z"
   },
   {
    "duration": 0,
    "start_time": "2023-04-29T09:55:21.062Z"
   },
   {
    "duration": 0,
    "start_time": "2023-04-29T09:55:21.095Z"
   },
   {
    "duration": 0,
    "start_time": "2023-04-29T09:55:21.096Z"
   },
   {
    "duration": 0,
    "start_time": "2023-04-29T09:55:21.098Z"
   },
   {
    "duration": 0,
    "start_time": "2023-04-29T09:55:21.099Z"
   },
   {
    "duration": 0,
    "start_time": "2023-04-29T09:55:21.101Z"
   },
   {
    "duration": 0,
    "start_time": "2023-04-29T09:55:21.103Z"
   },
   {
    "duration": 0,
    "start_time": "2023-04-29T09:55:21.105Z"
   },
   {
    "duration": 0,
    "start_time": "2023-04-29T09:55:21.106Z"
   },
   {
    "duration": 0,
    "start_time": "2023-04-29T09:55:21.108Z"
   },
   {
    "duration": 0,
    "start_time": "2023-04-29T09:55:21.110Z"
   },
   {
    "duration": 0,
    "start_time": "2023-04-29T09:55:21.112Z"
   },
   {
    "duration": 0,
    "start_time": "2023-04-29T09:55:21.113Z"
   },
   {
    "duration": 0,
    "start_time": "2023-04-29T09:55:21.115Z"
   },
   {
    "duration": 0,
    "start_time": "2023-04-29T09:55:21.117Z"
   },
   {
    "duration": 0,
    "start_time": "2023-04-29T09:55:21.118Z"
   },
   {
    "duration": 0,
    "start_time": "2023-04-29T09:55:21.119Z"
   },
   {
    "duration": 0,
    "start_time": "2023-04-29T09:55:21.120Z"
   },
   {
    "duration": 0,
    "start_time": "2023-04-29T09:55:21.121Z"
   },
   {
    "duration": 0,
    "start_time": "2023-04-29T09:55:21.122Z"
   },
   {
    "duration": 0,
    "start_time": "2023-04-29T09:55:21.123Z"
   },
   {
    "duration": 0,
    "start_time": "2023-04-29T09:55:21.124Z"
   },
   {
    "duration": 9,
    "start_time": "2023-04-29T09:55:50.757Z"
   },
   {
    "duration": 10,
    "start_time": "2023-04-29T09:55:56.107Z"
   },
   {
    "duration": 2375,
    "start_time": "2023-04-29T09:56:02.732Z"
   },
   {
    "duration": 6,
    "start_time": "2023-04-29T09:56:05.109Z"
   },
   {
    "duration": 37,
    "start_time": "2023-04-29T09:56:05.118Z"
   },
   {
    "duration": 13,
    "start_time": "2023-04-29T09:56:05.157Z"
   },
   {
    "duration": 4,
    "start_time": "2023-04-29T09:56:05.172Z"
   },
   {
    "duration": 5,
    "start_time": "2023-04-29T09:56:05.177Z"
   },
   {
    "duration": 16,
    "start_time": "2023-04-29T09:56:05.183Z"
   },
   {
    "duration": 1368,
    "start_time": "2023-04-29T09:56:05.201Z"
   },
   {
    "duration": 9,
    "start_time": "2023-04-29T09:56:06.570Z"
   },
   {
    "duration": 7,
    "start_time": "2023-04-29T09:56:06.594Z"
   },
   {
    "duration": 5,
    "start_time": "2023-04-29T09:56:06.604Z"
   },
   {
    "duration": 10,
    "start_time": "2023-04-29T09:56:06.610Z"
   },
   {
    "duration": 11,
    "start_time": "2023-04-29T09:56:06.621Z"
   },
   {
    "duration": 4,
    "start_time": "2023-04-29T09:56:06.633Z"
   },
   {
    "duration": 10,
    "start_time": "2023-04-29T09:56:06.638Z"
   },
   {
    "duration": 50,
    "start_time": "2023-04-29T09:56:06.649Z"
   },
   {
    "duration": 6,
    "start_time": "2023-04-29T09:56:06.701Z"
   },
   {
    "duration": 992,
    "start_time": "2023-04-29T09:56:06.709Z"
   },
   {
    "duration": 9,
    "start_time": "2023-04-29T09:56:07.702Z"
   },
   {
    "duration": 7,
    "start_time": "2023-04-29T09:56:07.714Z"
   },
   {
    "duration": 14,
    "start_time": "2023-04-29T09:56:07.723Z"
   },
   {
    "duration": 0,
    "start_time": "2023-04-29T09:56:07.739Z"
   },
   {
    "duration": 0,
    "start_time": "2023-04-29T09:56:07.741Z"
   },
   {
    "duration": 0,
    "start_time": "2023-04-29T09:56:07.742Z"
   },
   {
    "duration": 0,
    "start_time": "2023-04-29T09:56:07.743Z"
   },
   {
    "duration": 0,
    "start_time": "2023-04-29T09:56:07.744Z"
   },
   {
    "duration": 0,
    "start_time": "2023-04-29T09:56:07.745Z"
   },
   {
    "duration": 0,
    "start_time": "2023-04-29T09:56:07.746Z"
   },
   {
    "duration": 0,
    "start_time": "2023-04-29T09:56:07.747Z"
   },
   {
    "duration": 0,
    "start_time": "2023-04-29T09:56:07.748Z"
   },
   {
    "duration": 0,
    "start_time": "2023-04-29T09:56:07.749Z"
   },
   {
    "duration": 0,
    "start_time": "2023-04-29T09:56:07.750Z"
   },
   {
    "duration": 0,
    "start_time": "2023-04-29T09:56:07.751Z"
   },
   {
    "duration": 0,
    "start_time": "2023-04-29T09:56:07.796Z"
   },
   {
    "duration": 0,
    "start_time": "2023-04-29T09:56:07.797Z"
   },
   {
    "duration": 0,
    "start_time": "2023-04-29T09:56:07.798Z"
   },
   {
    "duration": 0,
    "start_time": "2023-04-29T09:56:07.799Z"
   },
   {
    "duration": 0,
    "start_time": "2023-04-29T09:56:07.800Z"
   },
   {
    "duration": 0,
    "start_time": "2023-04-29T09:56:07.801Z"
   },
   {
    "duration": 0,
    "start_time": "2023-04-29T09:56:07.803Z"
   },
   {
    "duration": 0,
    "start_time": "2023-04-29T09:56:07.805Z"
   },
   {
    "duration": 0,
    "start_time": "2023-04-29T09:56:07.806Z"
   },
   {
    "duration": 0,
    "start_time": "2023-04-29T09:56:07.809Z"
   },
   {
    "duration": 0,
    "start_time": "2023-04-29T09:56:07.810Z"
   },
   {
    "duration": 0,
    "start_time": "2023-04-29T09:56:07.811Z"
   },
   {
    "duration": 0,
    "start_time": "2023-04-29T09:56:07.812Z"
   },
   {
    "duration": 0,
    "start_time": "2023-04-29T09:56:07.812Z"
   },
   {
    "duration": 0,
    "start_time": "2023-04-29T09:56:07.814Z"
   },
   {
    "duration": 0,
    "start_time": "2023-04-29T09:56:07.815Z"
   },
   {
    "duration": 0,
    "start_time": "2023-04-29T09:56:07.816Z"
   },
   {
    "duration": 0,
    "start_time": "2023-04-29T09:56:07.818Z"
   },
   {
    "duration": 0,
    "start_time": "2023-04-29T09:56:07.819Z"
   },
   {
    "duration": 0,
    "start_time": "2023-04-29T09:56:07.820Z"
   },
   {
    "duration": 0,
    "start_time": "2023-04-29T09:56:07.821Z"
   },
   {
    "duration": 0,
    "start_time": "2023-04-29T09:56:07.822Z"
   },
   {
    "duration": 0,
    "start_time": "2023-04-29T09:56:07.823Z"
   },
   {
    "duration": 0,
    "start_time": "2023-04-29T09:56:07.824Z"
   },
   {
    "duration": 0,
    "start_time": "2023-04-29T09:56:07.825Z"
   },
   {
    "duration": 0,
    "start_time": "2023-04-29T09:56:07.826Z"
   },
   {
    "duration": 0,
    "start_time": "2023-04-29T09:56:07.827Z"
   },
   {
    "duration": 0,
    "start_time": "2023-04-29T09:56:07.828Z"
   },
   {
    "duration": 2317,
    "start_time": "2023-04-29T09:56:32.645Z"
   },
   {
    "duration": 1300,
    "start_time": "2023-04-29T09:56:34.965Z"
   },
   {
    "duration": 42,
    "start_time": "2023-04-29T09:56:36.266Z"
   },
   {
    "duration": 20,
    "start_time": "2023-04-29T09:56:36.311Z"
   },
   {
    "duration": 4,
    "start_time": "2023-04-29T09:56:36.333Z"
   },
   {
    "duration": 4,
    "start_time": "2023-04-29T09:56:36.338Z"
   },
   {
    "duration": 13,
    "start_time": "2023-04-29T09:56:36.344Z"
   },
   {
    "duration": 1492,
    "start_time": "2023-04-29T09:56:36.358Z"
   },
   {
    "duration": 8,
    "start_time": "2023-04-29T09:56:37.852Z"
   },
   {
    "duration": 7,
    "start_time": "2023-04-29T09:56:37.862Z"
   },
   {
    "duration": 4,
    "start_time": "2023-04-29T09:56:37.871Z"
   },
   {
    "duration": 15,
    "start_time": "2023-04-29T09:56:37.894Z"
   },
   {
    "duration": 15,
    "start_time": "2023-04-29T09:56:37.912Z"
   },
   {
    "duration": 3,
    "start_time": "2023-04-29T09:56:37.930Z"
   },
   {
    "duration": 10,
    "start_time": "2023-04-29T09:56:37.935Z"
   },
   {
    "duration": 37,
    "start_time": "2023-04-29T09:56:37.946Z"
   },
   {
    "duration": 17,
    "start_time": "2023-04-29T09:56:37.985Z"
   },
   {
    "duration": 900,
    "start_time": "2023-04-29T09:56:38.004Z"
   },
   {
    "duration": 11,
    "start_time": "2023-04-29T09:56:38.907Z"
   },
   {
    "duration": 53,
    "start_time": "2023-04-29T09:56:38.920Z"
   },
   {
    "duration": 11,
    "start_time": "2023-04-29T09:56:38.975Z"
   },
   {
    "duration": 14,
    "start_time": "2023-04-29T09:56:38.987Z"
   },
   {
    "duration": 32,
    "start_time": "2023-04-29T09:56:39.003Z"
   },
   {
    "duration": 12,
    "start_time": "2023-04-29T09:56:39.037Z"
   },
   {
    "duration": 88,
    "start_time": "2023-04-29T09:56:39.051Z"
   },
   {
    "duration": 114418,
    "start_time": "2023-04-29T09:56:39.140Z"
   },
   {
    "duration": 3,
    "start_time": "2023-04-29T09:58:33.560Z"
   },
   {
    "duration": 101,
    "start_time": "2023-04-29T09:58:33.565Z"
   },
   {
    "duration": 160,
    "start_time": "2023-04-29T09:58:33.668Z"
   },
   {
    "duration": 30,
    "start_time": "2023-04-29T09:58:33.830Z"
   },
   {
    "duration": 3130,
    "start_time": "2023-04-29T09:58:33.861Z"
   },
   {
    "duration": 6,
    "start_time": "2023-04-29T09:58:36.994Z"
   },
   {
    "duration": 33,
    "start_time": "2023-04-29T09:58:37.002Z"
   },
   {
    "duration": 204,
    "start_time": "2023-04-29T09:58:37.036Z"
   },
   {
    "duration": 66,
    "start_time": "2023-04-29T09:58:37.243Z"
   },
   {
    "duration": 111895,
    "start_time": "2023-04-29T09:58:37.311Z"
   },
   {
    "duration": 82,
    "start_time": "2023-04-29T10:00:29.214Z"
   },
   {
    "duration": 31,
    "start_time": "2023-04-29T10:00:29.298Z"
   },
   {
    "duration": 479,
    "start_time": "2023-04-29T10:00:29.332Z"
   },
   {
    "duration": 11,
    "start_time": "2023-04-29T10:00:29.812Z"
   },
   {
    "duration": 12,
    "start_time": "2023-04-29T10:00:29.826Z"
   },
   {
    "duration": 3,
    "start_time": "2023-04-29T10:00:29.839Z"
   },
   {
    "duration": 7,
    "start_time": "2023-04-29T10:00:29.843Z"
   },
   {
    "duration": 218,
    "start_time": "2023-04-29T10:00:29.852Z"
   },
   {
    "duration": 34,
    "start_time": "2023-04-29T10:00:30.072Z"
   },
   {
    "duration": 28,
    "start_time": "2023-04-29T10:00:30.108Z"
   },
   {
    "duration": 74,
    "start_time": "2023-04-29T10:00:30.138Z"
   },
   {
    "duration": 82,
    "start_time": "2023-04-29T10:00:30.215Z"
   },
   {
    "duration": 39,
    "start_time": "2023-04-29T10:00:30.299Z"
   },
   {
    "duration": 132,
    "start_time": "2023-04-29T10:00:30.339Z"
   },
   {
    "duration": 32,
    "start_time": "2023-04-29T10:00:30.473Z"
   },
   {
    "duration": 37,
    "start_time": "2023-04-29T10:00:30.507Z"
   },
   {
    "duration": 118,
    "start_time": "2023-04-29T10:00:30.605Z"
   },
   {
    "duration": 316,
    "start_time": "2023-04-29T10:00:30.729Z"
   },
   {
    "duration": 27,
    "start_time": "2023-04-29T10:00:31.047Z"
   },
   {
    "duration": 326,
    "start_time": "2023-04-29T10:00:31.075Z"
   },
   {
    "duration": 41,
    "start_time": "2023-04-29T10:00:31.404Z"
   },
   {
    "duration": 52,
    "start_time": "2023-04-29T10:00:31.447Z"
   },
   {
    "duration": 1114,
    "start_time": "2023-04-29T10:00:45.215Z"
   },
   {
    "duration": 60,
    "start_time": "2023-04-29T10:00:47.586Z"
   },
   {
    "duration": 1128,
    "start_time": "2023-04-29T10:01:02.286Z"
   },
   {
    "duration": 1022,
    "start_time": "2023-04-29T10:01:08.395Z"
   },
   {
    "duration": 1007,
    "start_time": "2023-04-29T10:01:12.334Z"
   },
   {
    "duration": 1092,
    "start_time": "2023-04-29T10:01:23.555Z"
   },
   {
    "duration": 1069,
    "start_time": "2023-04-29T10:01:27.190Z"
   },
   {
    "duration": 1110,
    "start_time": "2023-04-29T10:01:33.954Z"
   },
   {
    "duration": 1190,
    "start_time": "2023-04-29T10:03:30.736Z"
   },
   {
    "duration": 1127,
    "start_time": "2023-04-29T10:03:40.746Z"
   },
   {
    "duration": 217,
    "start_time": "2023-04-29T10:04:40.301Z"
   },
   {
    "duration": 4,
    "start_time": "2023-04-29T10:05:29.282Z"
   },
   {
    "duration": 202,
    "start_time": "2023-04-29T10:05:45.256Z"
   },
   {
    "duration": 326,
    "start_time": "2023-04-29T10:06:28.227Z"
   },
   {
    "duration": 5,
    "start_time": "2023-04-29T10:06:33.947Z"
   },
   {
    "duration": 5,
    "start_time": "2023-04-29T10:06:43.908Z"
   },
   {
    "duration": 67033,
    "start_time": "2023-04-29T10:09:38.520Z"
   },
   {
    "duration": 45,
    "start_time": "2023-04-29T10:11:29.329Z"
   },
   {
    "duration": 51,
    "start_time": "2023-04-29T10:11:42.424Z"
   },
   {
    "duration": 44,
    "start_time": "2023-04-29T10:11:48.219Z"
   },
   {
    "duration": 56,
    "start_time": "2023-04-29T10:12:27.518Z"
   },
   {
    "duration": 24,
    "start_time": "2023-04-29T10:12:30.099Z"
   },
   {
    "duration": 53,
    "start_time": "2023-04-29T10:12:42.709Z"
   },
   {
    "duration": 44,
    "start_time": "2023-04-29T10:13:07.446Z"
   },
   {
    "duration": 42,
    "start_time": "2023-04-29T10:13:13.708Z"
   },
   {
    "duration": 53,
    "start_time": "2023-04-29T10:13:16.567Z"
   },
   {
    "duration": 58,
    "start_time": "2023-04-29T10:13:19.099Z"
   },
   {
    "duration": 54,
    "start_time": "2023-04-29T10:13:23.264Z"
   },
   {
    "duration": 62,
    "start_time": "2023-04-29T10:13:28.458Z"
   },
   {
    "duration": 45,
    "start_time": "2023-04-29T10:13:31.588Z"
   },
   {
    "duration": 55,
    "start_time": "2023-04-29T10:13:34.667Z"
   },
   {
    "duration": 46,
    "start_time": "2023-04-29T10:13:37.928Z"
   },
   {
    "duration": 43,
    "start_time": "2023-04-29T10:14:56.748Z"
   },
   {
    "duration": 45,
    "start_time": "2023-04-29T10:15:02.360Z"
   },
   {
    "duration": 33,
    "start_time": "2023-04-29T10:15:05.376Z"
   },
   {
    "duration": 30,
    "start_time": "2023-04-29T10:15:08.338Z"
   },
   {
    "duration": 27,
    "start_time": "2023-04-29T10:15:12.758Z"
   },
   {
    "duration": 25,
    "start_time": "2023-04-29T10:15:17.119Z"
   },
   {
    "duration": 28,
    "start_time": "2023-04-29T10:15:19.888Z"
   },
   {
    "duration": 26,
    "start_time": "2023-04-29T10:15:22.519Z"
   },
   {
    "duration": 27,
    "start_time": "2023-04-29T10:15:24.748Z"
   },
   {
    "duration": 28,
    "start_time": "2023-04-29T10:15:27.066Z"
   },
   {
    "duration": 28,
    "start_time": "2023-04-29T10:15:30.083Z"
   },
   {
    "duration": 29,
    "start_time": "2023-04-29T10:15:32.188Z"
   },
   {
    "duration": 28,
    "start_time": "2023-04-29T10:15:34.399Z"
   },
   {
    "duration": 146,
    "start_time": "2023-04-29T10:16:41.131Z"
   },
   {
    "duration": 174,
    "start_time": "2023-04-29T10:17:36.067Z"
   },
   {
    "duration": 175,
    "start_time": "2023-04-29T10:17:43.281Z"
   },
   {
    "duration": 22,
    "start_time": "2023-04-29T10:17:47.708Z"
   },
   {
    "duration": 167,
    "start_time": "2023-04-29T10:17:49.209Z"
   },
   {
    "duration": 27,
    "start_time": "2023-04-29T10:17:52.831Z"
   },
   {
    "duration": 185,
    "start_time": "2023-04-29T10:18:38.100Z"
   },
   {
    "duration": 30,
    "start_time": "2023-04-29T10:20:32.661Z"
   },
   {
    "duration": 56,
    "start_time": "2023-04-29T10:20:42.560Z"
   },
   {
    "duration": 77,
    "start_time": "2023-04-29T10:20:49.874Z"
   },
   {
    "duration": 320599,
    "start_time": "2023-04-29T10:21:02.616Z"
   },
   {
    "duration": 22,
    "start_time": "2023-04-29T10:30:55.559Z"
   },
   {
    "duration": 296,
    "start_time": "2023-04-29T10:31:16.747Z"
   },
   {
    "duration": 169,
    "start_time": "2023-04-29T10:31:21.230Z"
   },
   {
    "duration": 15,
    "start_time": "2023-04-29T10:31:46.269Z"
   },
   {
    "duration": 49,
    "start_time": "2023-04-29T10:35:41.511Z"
   },
   {
    "duration": 49,
    "start_time": "2023-04-29T10:35:49.747Z"
   },
   {
    "duration": 1055,
    "start_time": "2023-04-29T10:35:59.721Z"
   },
   {
    "duration": 49,
    "start_time": "2023-04-29T10:36:44.937Z"
   },
   {
    "duration": 1023,
    "start_time": "2023-04-29T10:37:04.107Z"
   },
   {
    "duration": 1028,
    "start_time": "2023-04-29T10:37:10.639Z"
   },
   {
    "duration": 58,
    "start_time": "2023-04-29T10:37:28.599Z"
   },
   {
    "duration": 51,
    "start_time": "2023-04-29T10:38:05.172Z"
   },
   {
    "duration": 10,
    "start_time": "2023-04-29T10:39:23.137Z"
   },
   {
    "duration": 54,
    "start_time": "2023-04-29T10:39:30.138Z"
   },
   {
    "duration": 174,
    "start_time": "2023-04-29T10:39:40.208Z"
   },
   {
    "duration": 52,
    "start_time": "2023-04-29T10:40:25.235Z"
   },
   {
    "duration": 9,
    "start_time": "2023-04-29T10:40:25.808Z"
   },
   {
    "duration": 3,
    "start_time": "2023-04-29T10:40:31.218Z"
   },
   {
    "duration": 3,
    "start_time": "2023-04-29T10:40:32.258Z"
   },
   {
    "duration": 53,
    "start_time": "2023-04-29T10:40:50.528Z"
   },
   {
    "duration": 53,
    "start_time": "2023-04-29T10:41:32.008Z"
   },
   {
    "duration": 59,
    "start_time": "2023-04-29T10:41:40.038Z"
   },
   {
    "duration": 54,
    "start_time": "2023-04-29T10:41:44.727Z"
   },
   {
    "duration": 54,
    "start_time": "2023-04-29T10:41:52.008Z"
   },
   {
    "duration": 6728,
    "start_time": "2023-04-29T15:56:12.193Z"
   },
   {
    "duration": 1426,
    "start_time": "2023-04-29T15:56:18.923Z"
   },
   {
    "duration": 151,
    "start_time": "2023-04-29T15:56:20.351Z"
   },
   {
    "duration": 19,
    "start_time": "2023-04-29T15:56:20.504Z"
   },
   {
    "duration": 4,
    "start_time": "2023-04-29T15:56:20.526Z"
   },
   {
    "duration": 26,
    "start_time": "2023-04-29T15:56:20.532Z"
   },
   {
    "duration": 16,
    "start_time": "2023-04-29T15:56:20.559Z"
   },
   {
    "duration": 1668,
    "start_time": "2023-04-29T15:56:20.577Z"
   },
   {
    "duration": 9,
    "start_time": "2023-04-29T15:56:22.247Z"
   },
   {
    "duration": 6,
    "start_time": "2023-04-29T15:56:22.258Z"
   },
   {
    "duration": 28,
    "start_time": "2023-04-29T15:56:22.265Z"
   },
   {
    "duration": 9,
    "start_time": "2023-04-29T15:56:22.294Z"
   },
   {
    "duration": 15,
    "start_time": "2023-04-29T15:56:22.305Z"
   },
   {
    "duration": 4,
    "start_time": "2023-04-29T15:56:22.323Z"
   },
   {
    "duration": 14,
    "start_time": "2023-04-29T15:56:22.328Z"
   },
   {
    "duration": 19,
    "start_time": "2023-04-29T15:56:22.344Z"
   },
   {
    "duration": 29,
    "start_time": "2023-04-29T15:56:22.365Z"
   },
   {
    "duration": 893,
    "start_time": "2023-04-29T15:56:22.396Z"
   },
   {
    "duration": 8,
    "start_time": "2023-04-29T15:56:23.291Z"
   },
   {
    "duration": 7,
    "start_time": "2023-04-29T15:56:23.301Z"
   },
   {
    "duration": 9,
    "start_time": "2023-04-29T15:56:23.310Z"
   },
   {
    "duration": 8,
    "start_time": "2023-04-29T15:56:23.320Z"
   },
   {
    "duration": 23,
    "start_time": "2023-04-29T15:56:23.330Z"
   },
   {
    "duration": 11,
    "start_time": "2023-04-29T15:56:23.355Z"
   },
   {
    "duration": 106,
    "start_time": "2023-04-29T15:56:23.368Z"
   },
   {
    "duration": 115075,
    "start_time": "2023-04-29T15:56:23.475Z"
   },
   {
    "duration": 4,
    "start_time": "2023-04-29T15:58:18.551Z"
   },
   {
    "duration": 119,
    "start_time": "2023-04-29T15:58:18.556Z"
   },
   {
    "duration": 179,
    "start_time": "2023-04-29T15:58:18.677Z"
   },
   {
    "duration": 42,
    "start_time": "2023-04-29T15:58:18.858Z"
   },
   {
    "duration": 3423,
    "start_time": "2023-04-29T15:58:18.901Z"
   },
   {
    "duration": 5,
    "start_time": "2023-04-29T15:58:22.326Z"
   },
   {
    "duration": 30,
    "start_time": "2023-04-29T15:58:22.333Z"
   },
   {
    "duration": 183,
    "start_time": "2023-04-29T15:58:22.364Z"
   },
   {
    "duration": 48,
    "start_time": "2023-04-29T15:58:22.550Z"
   },
   {
    "duration": 33403,
    "start_time": "2023-04-29T15:58:22.600Z"
   },
   {
    "duration": 4,
    "start_time": "2023-04-29T15:58:56.094Z"
   },
   {
    "duration": 23,
    "start_time": "2023-04-29T15:58:56.100Z"
   },
   {
    "duration": 434,
    "start_time": "2023-04-29T15:58:56.125Z"
   },
   {
    "duration": 11,
    "start_time": "2023-04-29T15:58:56.561Z"
   },
   {
    "duration": 20,
    "start_time": "2023-04-29T15:58:56.576Z"
   },
   {
    "duration": 6,
    "start_time": "2023-04-29T15:58:56.598Z"
   },
   {
    "duration": 11,
    "start_time": "2023-04-29T15:58:56.605Z"
   },
   {
    "duration": 214,
    "start_time": "2023-04-29T15:58:56.618Z"
   },
   {
    "duration": 29,
    "start_time": "2023-04-29T15:58:56.834Z"
   },
   {
    "duration": 40,
    "start_time": "2023-04-29T15:58:56.865Z"
   },
   {
    "duration": 90,
    "start_time": "2023-04-29T15:58:56.907Z"
   },
   {
    "duration": 99,
    "start_time": "2023-04-29T15:58:56.999Z"
   },
   {
    "duration": 6,
    "start_time": "2023-04-29T15:58:57.100Z"
   },
   {
    "duration": 105,
    "start_time": "2023-04-29T15:58:57.108Z"
   },
   {
    "duration": 33,
    "start_time": "2023-04-29T15:58:57.215Z"
   },
   {
    "duration": 47,
    "start_time": "2023-04-29T15:58:57.250Z"
   },
   {
    "duration": 113,
    "start_time": "2023-04-29T15:58:57.299Z"
   },
   {
    "duration": 341,
    "start_time": "2023-04-29T15:58:57.414Z"
   },
   {
    "duration": 40,
    "start_time": "2023-04-29T15:58:57.757Z"
   },
   {
    "duration": 354,
    "start_time": "2023-04-29T15:58:57.799Z"
   },
   {
    "duration": 48,
    "start_time": "2023-04-29T15:58:58.154Z"
   },
   {
    "duration": 89,
    "start_time": "2023-04-29T15:58:58.204Z"
   },
   {
    "duration": 714961,
    "start_time": "2023-04-29T15:58:58.295Z"
   },
   {
    "duration": 1179,
    "start_time": "2023-04-29T16:10:53.258Z"
   },
   {
    "duration": 221,
    "start_time": "2023-04-29T16:10:54.439Z"
   },
   {
    "duration": 60080,
    "start_time": "2023-04-29T16:10:54.662Z"
   },
   {
    "duration": 30,
    "start_time": "2023-04-29T16:11:54.743Z"
   },
   {
    "duration": 174,
    "start_time": "2023-04-29T16:11:54.775Z"
   },
   {
    "duration": 164253,
    "start_time": "2023-04-29T16:11:54.951Z"
   },
   {
    "duration": 115,
    "start_time": "2023-04-29T16:14:39.294Z"
   },
   {
    "duration": 432,
    "start_time": "2023-04-29T16:14:39.410Z"
   },
   {
    "duration": 11,
    "start_time": "2023-04-29T16:14:39.844Z"
   },
   {
    "duration": 68,
    "start_time": "2023-04-29T16:14:39.856Z"
   },
   {
    "duration": 218,
    "start_time": "2023-04-29T16:14:39.925Z"
   },
   {
    "duration": 68,
    "start_time": "2023-04-29T16:14:40.145Z"
   },
   {
    "duration": 43,
    "start_time": "2024-02-11T15:10:20.436Z"
   },
   {
    "duration": 6558,
    "start_time": "2024-02-11T15:10:29.178Z"
   },
   {
    "duration": 1485,
    "start_time": "2024-02-11T15:10:35.738Z"
   },
   {
    "duration": 81,
    "start_time": "2024-02-11T15:10:37.225Z"
   },
   {
    "duration": 15,
    "start_time": "2024-02-11T15:10:37.308Z"
   },
   {
    "duration": 4,
    "start_time": "2024-02-11T15:10:37.325Z"
   },
   {
    "duration": 19,
    "start_time": "2024-02-11T15:10:37.330Z"
   },
   {
    "duration": 25,
    "start_time": "2024-02-11T15:10:37.350Z"
   },
   {
    "duration": 1379,
    "start_time": "2024-02-11T15:10:37.376Z"
   },
   {
    "duration": 13,
    "start_time": "2024-02-11T15:10:38.756Z"
   },
   {
    "duration": 4,
    "start_time": "2024-02-11T15:10:38.771Z"
   },
   {
    "duration": 5,
    "start_time": "2024-02-11T15:10:38.776Z"
   },
   {
    "duration": 10,
    "start_time": "2024-02-11T15:10:38.782Z"
   },
   {
    "duration": 13,
    "start_time": "2024-02-11T15:10:38.793Z"
   },
   {
    "duration": 15,
    "start_time": "2024-02-11T15:10:38.809Z"
   },
   {
    "duration": 11,
    "start_time": "2024-02-11T15:10:38.826Z"
   },
   {
    "duration": 34,
    "start_time": "2024-02-11T15:10:38.838Z"
   },
   {
    "duration": 6,
    "start_time": "2024-02-11T15:10:38.873Z"
   },
   {
    "duration": 882,
    "start_time": "2024-02-11T15:10:38.880Z"
   },
   {
    "duration": 9,
    "start_time": "2024-02-11T15:10:39.764Z"
   },
   {
    "duration": 6,
    "start_time": "2024-02-11T15:10:39.775Z"
   },
   {
    "duration": 14,
    "start_time": "2024-02-11T15:10:39.783Z"
   },
   {
    "duration": 8,
    "start_time": "2024-02-11T15:10:39.799Z"
   },
   {
    "duration": 24,
    "start_time": "2024-02-11T15:10:39.809Z"
   },
   {
    "duration": 38,
    "start_time": "2024-02-11T15:10:39.835Z"
   },
   {
    "duration": 105,
    "start_time": "2024-02-11T15:10:39.875Z"
   },
   {
    "duration": 113046,
    "start_time": "2024-02-11T15:10:39.981Z"
   },
   {
    "duration": 4,
    "start_time": "2024-02-11T15:12:33.029Z"
   },
   {
    "duration": 108,
    "start_time": "2024-02-11T15:12:33.034Z"
   },
   {
    "duration": 160,
    "start_time": "2024-02-11T15:12:33.144Z"
   },
   {
    "duration": 37,
    "start_time": "2024-02-11T15:12:33.305Z"
   },
   {
    "duration": 3448,
    "start_time": "2024-02-11T15:12:33.343Z"
   },
   {
    "duration": 4,
    "start_time": "2024-02-11T15:12:36.792Z"
   },
   {
    "duration": 28,
    "start_time": "2024-02-11T15:12:36.798Z"
   },
   {
    "duration": 163,
    "start_time": "2024-02-11T15:12:36.827Z"
   },
   {
    "duration": 77,
    "start_time": "2024-02-11T15:12:36.991Z"
   },
   {
    "duration": 35400,
    "start_time": "2024-02-11T15:12:37.069Z"
   },
   {
    "duration": 95,
    "start_time": "2024-02-11T15:13:12.470Z"
   },
   {
    "duration": 23,
    "start_time": "2024-02-11T15:13:12.567Z"
   },
   {
    "duration": 413,
    "start_time": "2024-02-11T15:13:12.592Z"
   },
   {
    "duration": 11,
    "start_time": "2024-02-11T15:13:13.006Z"
   },
   {
    "duration": 12,
    "start_time": "2024-02-11T15:13:13.020Z"
   },
   {
    "duration": 3,
    "start_time": "2024-02-11T15:13:13.033Z"
   },
   {
    "duration": 10,
    "start_time": "2024-02-11T15:13:13.037Z"
   },
   {
    "duration": 220,
    "start_time": "2024-02-11T15:13:13.048Z"
   },
   {
    "duration": 30,
    "start_time": "2024-02-11T15:13:13.269Z"
   },
   {
    "duration": 65,
    "start_time": "2024-02-11T15:13:13.301Z"
   },
   {
    "duration": 106,
    "start_time": "2024-02-11T15:13:13.368Z"
   },
   {
    "duration": 7,
    "start_time": "2024-02-11T15:13:13.475Z"
   },
   {
    "duration": 9,
    "start_time": "2024-02-11T15:13:13.483Z"
   },
   {
    "duration": 104,
    "start_time": "2024-02-11T15:13:13.493Z"
   },
   {
    "duration": 30,
    "start_time": "2024-02-11T15:13:13.599Z"
   },
   {
    "duration": 35,
    "start_time": "2024-02-11T15:13:13.631Z"
   },
   {
    "duration": 118,
    "start_time": "2024-02-11T15:13:13.668Z"
   },
   {
    "duration": 279,
    "start_time": "2024-02-11T15:13:13.867Z"
   },
   {
    "duration": 32,
    "start_time": "2024-02-11T15:13:14.148Z"
   },
   {
    "duration": 344,
    "start_time": "2024-02-11T15:13:14.181Z"
   },
   {
    "duration": 48,
    "start_time": "2024-02-11T15:13:14.527Z"
   },
   {
    "duration": 28,
    "start_time": "2024-02-11T15:13:14.576Z"
   },
   {
    "duration": 714389,
    "start_time": "2024-02-11T15:13:14.668Z"
   },
   {
    "duration": 1171,
    "start_time": "2024-02-11T15:25:09.059Z"
   },
   {
    "duration": 189,
    "start_time": "2024-02-11T15:25:10.232Z"
   },
   {
    "duration": 58972,
    "start_time": "2024-02-11T15:25:10.423Z"
   },
   {
    "duration": 30,
    "start_time": "2024-02-11T15:26:09.397Z"
   },
   {
    "duration": 157,
    "start_time": "2024-02-11T15:26:09.428Z"
   },
   {
    "duration": 168386,
    "start_time": "2024-02-11T15:26:09.587Z"
   },
   {
    "duration": 119,
    "start_time": "2024-02-11T15:28:58.066Z"
   },
   {
    "duration": 441,
    "start_time": "2024-02-11T15:28:58.266Z"
   },
   {
    "duration": 10,
    "start_time": "2024-02-11T15:28:58.709Z"
   },
   {
    "duration": 52,
    "start_time": "2024-02-11T15:28:58.720Z"
   },
   {
    "duration": 194,
    "start_time": "2024-02-11T15:28:58.773Z"
   },
   {
    "duration": 164,
    "start_time": "2024-02-11T15:28:58.969Z"
   },
   {
    "duration": 4,
    "start_time": "2024-02-11T17:54:14.802Z"
   },
   {
    "duration": 15,
    "start_time": "2024-02-11T17:54:21.050Z"
   },
   {
    "duration": 4,
    "start_time": "2024-02-11T17:54:35.151Z"
   },
   {
    "duration": 74,
    "start_time": "2024-02-11T17:55:32.610Z"
   },
   {
    "duration": 43,
    "start_time": "2024-02-11T17:55:35.472Z"
   },
   {
    "duration": 2552,
    "start_time": "2024-02-11T17:55:44.242Z"
   },
   {
    "duration": 1297,
    "start_time": "2024-02-11T17:55:46.796Z"
   },
   {
    "duration": 43,
    "start_time": "2024-02-11T17:55:48.095Z"
   },
   {
    "duration": 16,
    "start_time": "2024-02-11T17:55:48.139Z"
   },
   {
    "duration": 4,
    "start_time": "2024-02-11T17:55:48.157Z"
   },
   {
    "duration": 6,
    "start_time": "2024-02-11T17:55:48.162Z"
   },
   {
    "duration": 13,
    "start_time": "2024-02-11T17:55:48.169Z"
   },
   {
    "duration": 1400,
    "start_time": "2024-02-11T17:55:48.183Z"
   },
   {
    "duration": 9,
    "start_time": "2024-02-11T17:55:49.584Z"
   },
   {
    "duration": 5,
    "start_time": "2024-02-11T17:55:49.594Z"
   },
   {
    "duration": 7,
    "start_time": "2024-02-11T17:55:49.600Z"
   },
   {
    "duration": 10,
    "start_time": "2024-02-11T17:55:49.609Z"
   },
   {
    "duration": 11,
    "start_time": "2024-02-11T17:55:49.620Z"
   },
   {
    "duration": 32,
    "start_time": "2024-02-11T17:55:49.633Z"
   },
   {
    "duration": 12,
    "start_time": "2024-02-11T17:55:49.667Z"
   },
   {
    "duration": 13,
    "start_time": "2024-02-11T17:55:49.681Z"
   },
   {
    "duration": 5,
    "start_time": "2024-02-11T17:55:49.696Z"
   },
   {
    "duration": 805,
    "start_time": "2024-02-11T17:55:49.703Z"
   },
   {
    "duration": 9,
    "start_time": "2024-02-11T17:55:50.509Z"
   },
   {
    "duration": 8,
    "start_time": "2024-02-11T17:55:50.520Z"
   },
   {
    "duration": 11,
    "start_time": "2024-02-11T17:55:50.529Z"
   },
   {
    "duration": 4,
    "start_time": "2024-02-11T17:55:50.541Z"
   },
   {
    "duration": 32,
    "start_time": "2024-02-11T17:55:50.547Z"
   },
   {
    "duration": 10,
    "start_time": "2024-02-11T17:55:50.581Z"
   },
   {
    "duration": 94,
    "start_time": "2024-02-11T17:55:50.592Z"
   },
   {
    "duration": 113450,
    "start_time": "2024-02-11T17:55:50.688Z"
   },
   {
    "duration": 4,
    "start_time": "2024-02-11T17:57:44.140Z"
   },
   {
    "duration": 120,
    "start_time": "2024-02-11T17:57:44.146Z"
   },
   {
    "duration": 181,
    "start_time": "2024-02-11T17:57:44.268Z"
   },
   {
    "duration": 41,
    "start_time": "2024-02-11T17:57:44.451Z"
   },
   {
    "duration": 3608,
    "start_time": "2024-02-11T17:57:44.494Z"
   },
   {
    "duration": 4,
    "start_time": "2024-02-11T17:57:48.103Z"
   },
   {
    "duration": 29,
    "start_time": "2024-02-11T17:57:48.108Z"
   },
   {
    "duration": 192,
    "start_time": "2024-02-11T17:57:48.139Z"
   },
   {
    "duration": 43,
    "start_time": "2024-02-11T17:57:48.333Z"
   },
   {
    "duration": 35101,
    "start_time": "2024-02-11T17:57:48.466Z"
   },
   {
    "duration": 95,
    "start_time": "2024-02-11T17:58:23.569Z"
   },
   {
    "duration": 28,
    "start_time": "2024-02-11T17:58:23.666Z"
   },
   {
    "duration": 401,
    "start_time": "2024-02-11T17:58:23.766Z"
   },
   {
    "duration": 10,
    "start_time": "2024-02-11T17:58:24.169Z"
   },
   {
    "duration": 10,
    "start_time": "2024-02-11T17:58:24.183Z"
   },
   {
    "duration": 3,
    "start_time": "2024-02-11T17:58:24.194Z"
   },
   {
    "duration": 4,
    "start_time": "2024-02-11T17:58:24.199Z"
   },
   {
    "duration": 238,
    "start_time": "2024-02-11T17:58:24.205Z"
   },
   {
    "duration": 36,
    "start_time": "2024-02-11T17:58:24.444Z"
   },
   {
    "duration": 83,
    "start_time": "2024-02-11T17:58:24.482Z"
   },
   {
    "duration": 105,
    "start_time": "2024-02-11T17:58:24.568Z"
   },
   {
    "duration": 3,
    "start_time": "2024-02-11T17:58:24.674Z"
   },
   {
    "duration": 10,
    "start_time": "2024-02-11T17:58:24.679Z"
   },
   {
    "duration": 108,
    "start_time": "2024-02-11T17:58:24.691Z"
   },
   {
    "duration": 31,
    "start_time": "2024-02-11T17:58:24.800Z"
   },
   {
    "duration": 134,
    "start_time": "2024-02-11T17:58:24.832Z"
   },
   {
    "duration": 99,
    "start_time": "2024-02-11T17:58:24.968Z"
   },
   {
    "duration": 279,
    "start_time": "2024-02-11T17:58:25.069Z"
   },
   {
    "duration": 34,
    "start_time": "2024-02-11T17:58:25.350Z"
   },
   {
    "duration": 385,
    "start_time": "2024-02-11T17:58:25.385Z"
   },
   {
    "duration": 47,
    "start_time": "2024-02-11T17:58:25.772Z"
   },
   {
    "duration": 147,
    "start_time": "2024-02-11T17:58:25.820Z"
   },
   {
    "duration": 715530,
    "start_time": "2024-02-11T17:58:25.970Z"
   },
   {
    "duration": 1226,
    "start_time": "2024-02-11T18:10:21.502Z"
   },
   {
    "duration": 195,
    "start_time": "2024-02-11T18:10:22.730Z"
   },
   {
    "duration": 60126,
    "start_time": "2024-02-11T18:10:22.927Z"
   },
   {
    "duration": 34,
    "start_time": "2024-02-11T18:11:23.055Z"
   },
   {
    "duration": 165,
    "start_time": "2024-02-11T18:11:23.091Z"
   },
   {
    "duration": 169401,
    "start_time": "2024-02-11T18:11:23.265Z"
   },
   {
    "duration": 199,
    "start_time": "2024-02-11T18:14:12.670Z"
   },
   {
    "duration": 426,
    "start_time": "2024-02-11T18:14:12.871Z"
   },
   {
    "duration": 10,
    "start_time": "2024-02-11T18:14:13.298Z"
   },
   {
    "duration": 39,
    "start_time": "2024-02-11T18:14:13.309Z"
   },
   {
    "duration": 187,
    "start_time": "2024-02-11T18:14:13.349Z"
   },
   {
    "duration": 47,
    "start_time": "2024-02-11T18:14:13.537Z"
   }
  ],
  "kernelspec": {
   "display_name": "Python 3 (ipykernel)",
   "language": "python",
   "name": "python3"
  },
  "language_info": {
   "codemirror_mode": {
    "name": "ipython",
    "version": 3
   },
   "file_extension": ".py",
   "mimetype": "text/x-python",
   "name": "python",
   "nbconvert_exporter": "python",
   "pygments_lexer": "ipython3",
   "version": "3.9.5"
  },
  "toc": {
   "base_numbering": 1,
   "nav_menu": {},
   "number_sections": true,
   "sideBar": true,
   "skip_h1_title": true,
   "title_cell": "Содержание",
   "title_sidebar": "Contents",
   "toc_cell": true,
   "toc_position": {
    "height": "calc(100% - 180px)",
    "left": "10px",
    "top": "150px",
    "width": "371px"
   },
   "toc_section_display": true,
   "toc_window_display": true
  }
 },
 "nbformat": 4,
 "nbformat_minor": 2
}
