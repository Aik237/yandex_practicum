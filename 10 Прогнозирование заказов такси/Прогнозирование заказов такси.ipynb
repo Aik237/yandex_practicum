{
 "cells": [
  {
   "cell_type": "markdown",
   "metadata": {
    "toc": true
   },
   "source": [
    "<h1>Содержание<span class=\"tocSkip\"></span></h1>\n",
    "<div class=\"toc\"><ul class=\"toc-item\"><li><span><a href=\"#Подготовка\" data-toc-modified-id=\"Подготовка-1\"><span class=\"toc-item-num\">1&nbsp;&nbsp;</span>Подготовка</a></span></li><li><span><a href=\"#Анализ\" data-toc-modified-id=\"Анализ-2\"><span class=\"toc-item-num\">2&nbsp;&nbsp;</span>Анализ</a></span><ul class=\"toc-item\"><li><span><a href=\"#Вывод\" data-toc-modified-id=\"Вывод-2.1\"><span class=\"toc-item-num\">2.1&nbsp;&nbsp;</span>Вывод</a></span></li></ul></li><li><span><a href=\"#Выборки\" data-toc-modified-id=\"Выборки-3\"><span class=\"toc-item-num\">3&nbsp;&nbsp;</span>Выборки</a></span><ul class=\"toc-item\"><li><span><a href=\"#Подготовка-признаков\" data-toc-modified-id=\"Подготовка-признаков-3.1\"><span class=\"toc-item-num\">3.1&nbsp;&nbsp;</span>Подготовка признаков</a></span></li><li><span><a href=\"#Подготовка-выборки\" data-toc-modified-id=\"Подготовка-выборки-3.2\"><span class=\"toc-item-num\">3.2&nbsp;&nbsp;</span>Подготовка выборки</a></span></li></ul></li><li><span><a href=\"#Обучение\" data-toc-modified-id=\"Обучение-4\"><span class=\"toc-item-num\">4&nbsp;&nbsp;</span>Обучение</a></span><ul class=\"toc-item\"><li><span><a href=\"#Линейный-модели\" data-toc-modified-id=\"Линейный-модели-4.1\"><span class=\"toc-item-num\">4.1&nbsp;&nbsp;</span>Линейный модели</a></span><ul class=\"toc-item\"><li><span><a href=\"#День-недели---категориальный-признак\" data-toc-modified-id=\"День-недели---категориальный-признак-4.1.1\"><span class=\"toc-item-num\">4.1.1&nbsp;&nbsp;</span>День недели - категориальный признак</a></span></li><li><span><a href=\"#Часы,-дни-недели-и-месяцы---категориальные-признаки\" data-toc-modified-id=\"Часы,-дни-недели-и-месяцы---категориальные-признаки-4.1.2\"><span class=\"toc-item-num\">4.1.2&nbsp;&nbsp;</span>Часы, дни недели и месяцы - категориальные признаки</a></span></li></ul></li><li><span><a href=\"#Decision-tree\" data-toc-modified-id=\"Decision-tree-4.2\"><span class=\"toc-item-num\">4.2&nbsp;&nbsp;</span>Decision tree</a></span></li><li><span><a href=\"#Gradient-Boosting\" data-toc-modified-id=\"Gradient-Boosting-4.3\"><span class=\"toc-item-num\">4.3&nbsp;&nbsp;</span>Gradient Boosting</a></span></li><li><span><a href=\"#Вывод\" data-toc-modified-id=\"Вывод-4.4\"><span class=\"toc-item-num\">4.4&nbsp;&nbsp;</span>Вывод</a></span></li></ul></li><li><span><a href=\"#Тестирование\" data-toc-modified-id=\"Тестирование-5\"><span class=\"toc-item-num\">5&nbsp;&nbsp;</span>Тестирование</a></span></li><li><span><a href=\"#Итог\" data-toc-modified-id=\"Итог-6\"><span class=\"toc-item-num\">6&nbsp;&nbsp;</span>Итог</a></span></li><li><span><a href=\"#Чек-лист-проверки\" data-toc-modified-id=\"Чек-лист-проверки-7\"><span class=\"toc-item-num\">7&nbsp;&nbsp;</span>Чек-лист проверки</a></span></li></ul></div>"
   ]
  },
  {
   "cell_type": "markdown",
   "metadata": {},
   "source": [
    "#  Прогнозирование заказов такси"
   ]
  },
  {
   "cell_type": "markdown",
   "metadata": {},
   "source": [
    "Компания «Чётенькое такси» собрала исторические данные о заказах такси в аэропортах. Чтобы привлекать больше водителей в период пиковой нагрузки, нужно спрогнозировать количество заказов такси на следующий час. Постройте модель для такого предсказания.\n",
    "\n",
    "Значение метрики *RMSE* на тестовой выборке должно быть не больше 48.\n",
    "\n",
    "Вам нужно:\n",
    "\n",
    "1. Загрузить данные и выполнить их ресемплирование по одному часу.\n",
    "2. Проанализировать данные.\n",
    "3. Обучить разные модели с различными гиперпараметрами. Сделать тестовую выборку размером 10% от исходных данных.\n",
    "4. Проверить данные на тестовой выборке и сделать выводы.\n",
    "\n",
    "\n",
    "Данные лежат в файле `taxi.csv`. Количество заказов находится в столбце `num_orders` (от англ. *number of orders*, «число заказов»)."
   ]
  },
  {
   "cell_type": "markdown",
   "metadata": {},
   "source": [
    "## Подготовка"
   ]
  },
  {
   "cell_type": "code",
   "execution_count": 1,
   "metadata": {
    "scrolled": true
   },
   "outputs": [],
   "source": [
    "import pandas as pd\n",
    "import numpy as np\n",
    "\n",
    "from matplotlib import pyplot as plt\n",
    "import seaborn as sns\n",
    "\n",
    "from statsmodels.tsa.seasonal import seasonal_decompose\n",
    "from statsmodels.tsa.stattools import adfuller\n",
    "\n",
    "from sklearn.model_selection import TimeSeriesSplit, train_test_split\n",
    "from sklearn.linear_model import LinearRegression, RidgeCV\n",
    "from sklearn.metrics import mean_squared_error\n",
    "from sklearn.preprocessing import MinMaxScaler, OneHotEncoder\n",
    "\n",
    "from sklearn.compose import ColumnTransformer\n",
    "from sklearn.model_selection import cross_validate, RandomizedSearchCV\n",
    "from sklearn.pipeline import make_pipeline\n",
    "from sklearn.preprocessing import OrdinalEncoder\n",
    "from sklearn.experimental import enable_hist_gradient_boosting\n",
    "from sklearn.ensemble import HistGradientBoostingRegressor, GradientBoostingRegressor\n",
    "from sklearn.preprocessing import FunctionTransformer\n",
    "from sklearn.tree import DecisionTreeRegressor"
   ]
  },
  {
   "cell_type": "code",
   "execution_count": 2,
   "metadata": {},
   "outputs": [],
   "source": [
    "data = pd.read_csv('/datasets/taxi.csv')"
   ]
  },
  {
   "cell_type": "code",
   "execution_count": 3,
   "metadata": {
    "scrolled": true
   },
   "outputs": [
    {
     "data": {
      "text/html": [
       "<div>\n",
       "<style scoped>\n",
       "    .dataframe tbody tr th:only-of-type {\n",
       "        vertical-align: middle;\n",
       "    }\n",
       "\n",
       "    .dataframe tbody tr th {\n",
       "        vertical-align: top;\n",
       "    }\n",
       "\n",
       "    .dataframe thead th {\n",
       "        text-align: right;\n",
       "    }\n",
       "</style>\n",
       "<table border=\"1\" class=\"dataframe\">\n",
       "  <thead>\n",
       "    <tr style=\"text-align: right;\">\n",
       "      <th></th>\n",
       "      <th>datetime</th>\n",
       "      <th>num_orders</th>\n",
       "    </tr>\n",
       "  </thead>\n",
       "  <tbody>\n",
       "    <tr>\n",
       "      <th>0</th>\n",
       "      <td>2018-03-01 00:00:00</td>\n",
       "      <td>9</td>\n",
       "    </tr>\n",
       "    <tr>\n",
       "      <th>1</th>\n",
       "      <td>2018-03-01 00:10:00</td>\n",
       "      <td>14</td>\n",
       "    </tr>\n",
       "    <tr>\n",
       "      <th>2</th>\n",
       "      <td>2018-03-01 00:20:00</td>\n",
       "      <td>28</td>\n",
       "    </tr>\n",
       "    <tr>\n",
       "      <th>3</th>\n",
       "      <td>2018-03-01 00:30:00</td>\n",
       "      <td>20</td>\n",
       "    </tr>\n",
       "    <tr>\n",
       "      <th>4</th>\n",
       "      <td>2018-03-01 00:40:00</td>\n",
       "      <td>32</td>\n",
       "    </tr>\n",
       "  </tbody>\n",
       "</table>\n",
       "</div>"
      ],
      "text/plain": [
       "              datetime  num_orders\n",
       "0  2018-03-01 00:00:00           9\n",
       "1  2018-03-01 00:10:00          14\n",
       "2  2018-03-01 00:20:00          28\n",
       "3  2018-03-01 00:30:00          20\n",
       "4  2018-03-01 00:40:00          32"
      ]
     },
     "execution_count": 3,
     "metadata": {},
     "output_type": "execute_result"
    }
   ],
   "source": [
    "data.head()"
   ]
  },
  {
   "cell_type": "markdown",
   "metadata": {},
   "source": [
    "Данные состоят из двух столбцов. В первом столбце время сбора данных каждые 10 минут. Во второй количество заказов за эти 10 минут.\n",
    "\n",
    "Загрузим данные снова, но заменим индексы на столбец с временем и передискретизируем данные по средним значениям каждого часа."
   ]
  },
  {
   "cell_type": "code",
   "execution_count": 4,
   "metadata": {},
   "outputs": [],
   "source": [
    "data = pd.read_csv('/datasets/taxi.csv', index_col=[0], parse_dates=[0])"
   ]
  },
  {
   "cell_type": "code",
   "execution_count": 5,
   "metadata": {},
   "outputs": [
    {
     "data": {
      "text/html": [
       "<div>\n",
       "<style scoped>\n",
       "    .dataframe tbody tr th:only-of-type {\n",
       "        vertical-align: middle;\n",
       "    }\n",
       "\n",
       "    .dataframe tbody tr th {\n",
       "        vertical-align: top;\n",
       "    }\n",
       "\n",
       "    .dataframe thead th {\n",
       "        text-align: right;\n",
       "    }\n",
       "</style>\n",
       "<table border=\"1\" class=\"dataframe\">\n",
       "  <thead>\n",
       "    <tr style=\"text-align: right;\">\n",
       "      <th></th>\n",
       "      <th>num_orders</th>\n",
       "    </tr>\n",
       "    <tr>\n",
       "      <th>datetime</th>\n",
       "      <th></th>\n",
       "    </tr>\n",
       "  </thead>\n",
       "  <tbody>\n",
       "    <tr>\n",
       "      <th>2018-03-01 00:00:00</th>\n",
       "      <td>124</td>\n",
       "    </tr>\n",
       "    <tr>\n",
       "      <th>2018-03-01 01:00:00</th>\n",
       "      <td>85</td>\n",
       "    </tr>\n",
       "    <tr>\n",
       "      <th>2018-03-01 02:00:00</th>\n",
       "      <td>71</td>\n",
       "    </tr>\n",
       "    <tr>\n",
       "      <th>2018-03-01 03:00:00</th>\n",
       "      <td>66</td>\n",
       "    </tr>\n",
       "    <tr>\n",
       "      <th>2018-03-01 04:00:00</th>\n",
       "      <td>43</td>\n",
       "    </tr>\n",
       "  </tbody>\n",
       "</table>\n",
       "</div>"
      ],
      "text/plain": [
       "                     num_orders\n",
       "datetime                       \n",
       "2018-03-01 00:00:00         124\n",
       "2018-03-01 01:00:00          85\n",
       "2018-03-01 02:00:00          71\n",
       "2018-03-01 03:00:00          66\n",
       "2018-03-01 04:00:00          43"
      ]
     },
     "execution_count": 5,
     "metadata": {},
     "output_type": "execute_result"
    }
   ],
   "source": [
    "data = data.resample('1H').sum()\n",
    "data.head()"
   ]
  },
  {
   "cell_type": "markdown",
   "metadata": {},
   "source": [
    "## Анализ"
   ]
  },
  {
   "cell_type": "markdown",
   "metadata": {},
   "source": [
    "Для анализа построим график временных рядом."
   ]
  },
  {
   "cell_type": "code",
   "execution_count": 6,
   "metadata": {},
   "outputs": [
    {
     "data": {
      "text/plain": [
       "True"
      ]
     },
     "execution_count": 6,
     "metadata": {},
     "output_type": "execute_result"
    }
   ],
   "source": [
    "# проверим данные на монотонность \n",
    "# если время и дата расположены в хронологическом порядке, атрибут вернет значение TRUE\n",
    "data.index.is_monotonic"
   ]
  },
  {
   "cell_type": "code",
   "execution_count": 7,
   "metadata": {},
   "outputs": [
    {
     "name": "stdout",
     "output_type": "stream",
     "text": [
      "<class 'pandas.core.frame.DataFrame'>\n",
      "DatetimeIndex: 4416 entries, 2018-03-01 00:00:00 to 2018-08-31 23:00:00\n",
      "Freq: H\n",
      "Data columns (total 1 columns):\n",
      " #   Column      Non-Null Count  Dtype\n",
      "---  ------      --------------  -----\n",
      " 0   num_orders  4416 non-null   int64\n",
      "dtypes: int64(1)\n",
      "memory usage: 69.0 KB\n"
     ]
    }
   ],
   "source": [
    "# посмотрим на отрезок времени данных\n",
    "data.info()"
   ]
  },
  {
   "cell_type": "markdown",
   "metadata": {},
   "source": [
    "Данные собирались с 1 марта по 31 августа."
   ]
  },
  {
   "cell_type": "code",
   "execution_count": 8,
   "metadata": {},
   "outputs": [],
   "source": [
    "# построим график\n",
    "def line_plot(data, width, height, title, xlabel, ylabel):\n",
    "    fig, ax = plt.subplots(figsize=(16.5, 11.7))\n",
    "    sns.lineplot(x = data.index, y=data['num_orders']);\n",
    "    plt.ylabel(ylabel, fontsize=12);\n",
    "    plt.xlabel(xlabel, fontsize=12);\n",
    "    plt.title(title, fontsize=15);"
   ]
  },
  {
   "cell_type": "code",
   "execution_count": 9,
   "metadata": {},
   "outputs": [
    {
     "data": {
      "image/png": "[encoded data removed]",
      "text/plain": [
       "<Figure size 1188x842.4 with 1 Axes>"
      ]
     },
     "metadata": {
      "needs_background": "light"
     },
     "output_type": "display_data"
    }
   ],
   "source": [
    "line_plot(data, 16.5, 11.7, 'Количество заказов по времени', 'Дата', 'Количество заказов')"
   ]
  },
  {
   "cell_type": "markdown",
   "metadata": {},
   "source": [
    "Данных много из-за этого проанализировать график не получится. Для ясности разложим временной ряд на тренд и сезонную компоненту."
   ]
  },
  {
   "cell_type": "code",
   "execution_count": 10,
   "metadata": {},
   "outputs": [],
   "source": [
    "data_resampled = data.resample('1H').mean()\n",
    "decomposed = seasonal_decompose(data_resampled)"
   ]
  },
  {
   "cell_type": "code",
   "execution_count": 11,
   "metadata": {
    "scrolled": false
   },
   "outputs": [
    {
     "data": {
      "image/png": "[encoded data removed]",
      "text/plain": [
       "<Figure size 1188x842.4 with 3 Axes>"
      ]
     },
     "metadata": {
      "needs_background": "light"
     },
     "output_type": "display_data"
    }
   ],
   "source": [
    "plt.figure(figsize=(16.5, 11.7))\n",
    "plt.subplot(311)\n",
    "decomposed.trend.plot(ax=plt.gca())\n",
    "plt.title('Trend')\n",
    "plt.subplot(312)\n",
    "decomposed.seasonal.plot(ax=plt.gca())\n",
    "plt.title('Seasonality')\n",
    "plt.subplot(313)\n",
    "decomposed.resid.plot(ax=plt.gca())\n",
    "plt.title('Residuals')\n",
    "plt.tight_layout()"
   ]
  },
  {
   "cell_type": "markdown",
   "metadata": {},
   "source": [
    "Тренд связан с временем года. Весной намного меньше заказов чем летом, а в конце августа наступает пик заказов. Такой тренд, скорее всего, связан с тем, что летом у многих людей отпуск или каникулы и большинство из них предпочитает отдыхать в других городах и странах. Большая часть из них видимо возвращается в конце лета перед началом учебного года.\n",
    "\n",
    "Временной ряд нестационарный, есть явный тренд.\n",
    "\n",
    "Поподробнее рассмотрим сезонность по часам."
   ]
  },
  {
   "cell_type": "code",
   "execution_count": 12,
   "metadata": {
    "scrolled": false
   },
   "outputs": [
    {
     "data": {
      "image/png": "[encoded data removed]",
      "text/plain": [
       "<Figure size 842.4x626.4 with 1 Axes>"
      ]
     },
     "metadata": {
      "needs_background": "light"
     },
     "output_type": "display_data"
    }
   ],
   "source": [
    "# начертим график заказов за два дня\n",
    "# первая дата (1 марта 2018 года) это четверг, за начало графика примем дату понедельника\n",
    "plt.figure(figsize=(11.7, 8.7))\n",
    "decomposed.seasonal['2018-03-05':'2018-03-06'].plot(ax=plt.gca());\n",
    "plt.ylabel('Колебания заказов', fontsize=12);\n",
    "plt.xlabel('Время', fontsize=12);\n",
    "plt.title('Сезонные колебания по времени', fontsize=15);"
   ]
  },
  {
   "cell_type": "markdown",
   "metadata": {},
   "source": [
    "* меньше всего заказов такси в 6 утра;\n",
    "* пиковое количество заказов - ночь."
   ]
  },
  {
   "cell_type": "code",
   "execution_count": 13,
   "metadata": {},
   "outputs": [
    {
     "data": {
      "image/png": "[encoded data removed]",
      "text/plain": [
       "<Figure size 842.4x626.4 with 1 Axes>"
      ]
     },
     "metadata": {
      "needs_background": "light"
     },
     "output_type": "display_data"
    }
   ],
   "source": [
    "plt.figure(figsize=(11.7, 8.7))\n",
    "decomposed.seasonal['2018-03-05':'2018-03-16'].plot(ax=plt.gca());\n",
    "plt.ylabel('Колебания заказов', fontsize=12);\n",
    "plt.xlabel('Время', fontsize=12);\n",
    "plt.title('Сезонные колебания по дням недели', fontsize=15);"
   ]
  },
  {
   "cell_type": "markdown",
   "metadata": {},
   "source": [
    "* День недели не влияет на количество заказов."
   ]
  },
  {
   "cell_type": "markdown",
   "metadata": {},
   "source": [
    "### Вывод"
   ]
  },
  {
   "cell_type": "markdown",
   "metadata": {},
   "source": [
    "В ходе анализа выяснили, что временной ряд:\n",
    "1. Монотонный, то есть сохранен хронологический порядок данных.\n",
    "2. Нестационарный, так как имеется явный тренд по увеличению количества заказов летом.\n",
    "3. Количество заказов зависит от времени дня (ночью пик заказов) и не зависит от дня недели.\n",
    "\n",
    "Далее подготовим признаки."
   ]
  },
  {
   "cell_type": "markdown",
   "metadata": {},
   "source": [
    "## Выборки"
   ]
  },
  {
   "cell_type": "markdown",
   "metadata": {},
   "source": [
    "### Подготовка признаков"
   ]
  },
  {
   "cell_type": "markdown",
   "metadata": {},
   "source": [
    "Создадим признаки для горизонта прогнозирования в 1 час."
   ]
  },
  {
   "cell_type": "code",
   "execution_count": 14,
   "metadata": {},
   "outputs": [],
   "source": [
    "def make_features(data):\n",
    "    df = data.copy()\n",
    "    df['month'] = df.index.month\n",
    "    df['day'] = df.index.day\n",
    "    df['hour'] = df.index.hour\n",
    "    df['dayofweek'] = df.index.dayofweek\n",
    "    # вычислим отстающие значения\n",
    "    for lag in range(1, 25):\n",
    "        df['lag_{}'.format(lag)] = df['num_orders'].shift(lag)\n",
    "    \n",
    "    df['rolling_mean'] = df['num_orders'].shift().rolling(1).mean()\n",
    "    df.dropna(inplace=True)\n",
    "    \n",
    "    return df"
   ]
  },
  {
   "cell_type": "code",
   "execution_count": 15,
   "metadata": {},
   "outputs": [],
   "source": [
    "df = make_features(data)"
   ]
  },
  {
   "cell_type": "code",
   "execution_count": 16,
   "metadata": {
    "scrolled": false
   },
   "outputs": [
    {
     "data": {
      "text/html": [
       "<div>\n",
       "<style scoped>\n",
       "    .dataframe tbody tr th:only-of-type {\n",
       "        vertical-align: middle;\n",
       "    }\n",
       "\n",
       "    .dataframe tbody tr th {\n",
       "        vertical-align: top;\n",
       "    }\n",
       "\n",
       "    .dataframe thead th {\n",
       "        text-align: right;\n",
       "    }\n",
       "</style>\n",
       "<table border=\"1\" class=\"dataframe\">\n",
       "  <thead>\n",
       "    <tr style=\"text-align: right;\">\n",
       "      <th></th>\n",
       "      <th>num_orders</th>\n",
       "      <th>month</th>\n",
       "      <th>day</th>\n",
       "      <th>hour</th>\n",
       "      <th>dayofweek</th>\n",
       "      <th>lag_1</th>\n",
       "      <th>lag_2</th>\n",
       "      <th>lag_3</th>\n",
       "      <th>lag_4</th>\n",
       "      <th>lag_5</th>\n",
       "      <th>...</th>\n",
       "      <th>lag_16</th>\n",
       "      <th>lag_17</th>\n",
       "      <th>lag_18</th>\n",
       "      <th>lag_19</th>\n",
       "      <th>lag_20</th>\n",
       "      <th>lag_21</th>\n",
       "      <th>lag_22</th>\n",
       "      <th>lag_23</th>\n",
       "      <th>lag_24</th>\n",
       "      <th>rolling_mean</th>\n",
       "    </tr>\n",
       "    <tr>\n",
       "      <th>datetime</th>\n",
       "      <th></th>\n",
       "      <th></th>\n",
       "      <th></th>\n",
       "      <th></th>\n",
       "      <th></th>\n",
       "      <th></th>\n",
       "      <th></th>\n",
       "      <th></th>\n",
       "      <th></th>\n",
       "      <th></th>\n",
       "      <th></th>\n",
       "      <th></th>\n",
       "      <th></th>\n",
       "      <th></th>\n",
       "      <th></th>\n",
       "      <th></th>\n",
       "      <th></th>\n",
       "      <th></th>\n",
       "      <th></th>\n",
       "      <th></th>\n",
       "      <th></th>\n",
       "    </tr>\n",
       "  </thead>\n",
       "  <tbody>\n",
       "    <tr>\n",
       "      <th>2018-03-02 00:00:00</th>\n",
       "      <td>90</td>\n",
       "      <td>3</td>\n",
       "      <td>2</td>\n",
       "      <td>0</td>\n",
       "      <td>4</td>\n",
       "      <td>58.0</td>\n",
       "      <td>113.0</td>\n",
       "      <td>66.0</td>\n",
       "      <td>61.0</td>\n",
       "      <td>45.0</td>\n",
       "      <td>...</td>\n",
       "      <td>34.0</td>\n",
       "      <td>15.0</td>\n",
       "      <td>12.0</td>\n",
       "      <td>6.0</td>\n",
       "      <td>43.0</td>\n",
       "      <td>66.0</td>\n",
       "      <td>71.0</td>\n",
       "      <td>85.0</td>\n",
       "      <td>124.0</td>\n",
       "      <td>58.0</td>\n",
       "    </tr>\n",
       "    <tr>\n",
       "      <th>2018-03-02 01:00:00</th>\n",
       "      <td>120</td>\n",
       "      <td>3</td>\n",
       "      <td>2</td>\n",
       "      <td>1</td>\n",
       "      <td>4</td>\n",
       "      <td>90.0</td>\n",
       "      <td>58.0</td>\n",
       "      <td>113.0</td>\n",
       "      <td>66.0</td>\n",
       "      <td>61.0</td>\n",
       "      <td>...</td>\n",
       "      <td>69.0</td>\n",
       "      <td>34.0</td>\n",
       "      <td>15.0</td>\n",
       "      <td>12.0</td>\n",
       "      <td>6.0</td>\n",
       "      <td>43.0</td>\n",
       "      <td>66.0</td>\n",
       "      <td>71.0</td>\n",
       "      <td>85.0</td>\n",
       "      <td>90.0</td>\n",
       "    </tr>\n",
       "    <tr>\n",
       "      <th>2018-03-02 02:00:00</th>\n",
       "      <td>75</td>\n",
       "      <td>3</td>\n",
       "      <td>2</td>\n",
       "      <td>2</td>\n",
       "      <td>4</td>\n",
       "      <td>120.0</td>\n",
       "      <td>90.0</td>\n",
       "      <td>58.0</td>\n",
       "      <td>113.0</td>\n",
       "      <td>66.0</td>\n",
       "      <td>...</td>\n",
       "      <td>64.0</td>\n",
       "      <td>69.0</td>\n",
       "      <td>34.0</td>\n",
       "      <td>15.0</td>\n",
       "      <td>12.0</td>\n",
       "      <td>6.0</td>\n",
       "      <td>43.0</td>\n",
       "      <td>66.0</td>\n",
       "      <td>71.0</td>\n",
       "      <td>120.0</td>\n",
       "    </tr>\n",
       "    <tr>\n",
       "      <th>2018-03-02 03:00:00</th>\n",
       "      <td>64</td>\n",
       "      <td>3</td>\n",
       "      <td>2</td>\n",
       "      <td>3</td>\n",
       "      <td>4</td>\n",
       "      <td>75.0</td>\n",
       "      <td>120.0</td>\n",
       "      <td>90.0</td>\n",
       "      <td>58.0</td>\n",
       "      <td>113.0</td>\n",
       "      <td>...</td>\n",
       "      <td>96.0</td>\n",
       "      <td>64.0</td>\n",
       "      <td>69.0</td>\n",
       "      <td>34.0</td>\n",
       "      <td>15.0</td>\n",
       "      <td>12.0</td>\n",
       "      <td>6.0</td>\n",
       "      <td>43.0</td>\n",
       "      <td>66.0</td>\n",
       "      <td>75.0</td>\n",
       "    </tr>\n",
       "    <tr>\n",
       "      <th>2018-03-02 04:00:00</th>\n",
       "      <td>20</td>\n",
       "      <td>3</td>\n",
       "      <td>2</td>\n",
       "      <td>4</td>\n",
       "      <td>4</td>\n",
       "      <td>64.0</td>\n",
       "      <td>75.0</td>\n",
       "      <td>120.0</td>\n",
       "      <td>90.0</td>\n",
       "      <td>58.0</td>\n",
       "      <td>...</td>\n",
       "      <td>30.0</td>\n",
       "      <td>96.0</td>\n",
       "      <td>64.0</td>\n",
       "      <td>69.0</td>\n",
       "      <td>34.0</td>\n",
       "      <td>15.0</td>\n",
       "      <td>12.0</td>\n",
       "      <td>6.0</td>\n",
       "      <td>43.0</td>\n",
       "      <td>64.0</td>\n",
       "    </tr>\n",
       "  </tbody>\n",
       "</table>\n",
       "<p>5 rows × 30 columns</p>\n",
       "</div>"
      ],
      "text/plain": [
       "                     num_orders  month  day  hour  dayofweek  lag_1  lag_2  \\\n",
       "datetime                                                                     \n",
       "2018-03-02 00:00:00          90      3    2     0          4   58.0  113.0   \n",
       "2018-03-02 01:00:00         120      3    2     1          4   90.0   58.0   \n",
       "2018-03-02 02:00:00          75      3    2     2          4  120.0   90.0   \n",
       "2018-03-02 03:00:00          64      3    2     3          4   75.0  120.0   \n",
       "2018-03-02 04:00:00          20      3    2     4          4   64.0   75.0   \n",
       "\n",
       "                     lag_3  lag_4  lag_5  ...  lag_16  lag_17  lag_18  lag_19  \\\n",
       "datetime                                  ...                                   \n",
       "2018-03-02 00:00:00   66.0   61.0   45.0  ...    34.0    15.0    12.0     6.0   \n",
       "2018-03-02 01:00:00  113.0   66.0   61.0  ...    69.0    34.0    15.0    12.0   \n",
       "2018-03-02 02:00:00   58.0  113.0   66.0  ...    64.0    69.0    34.0    15.0   \n",
       "2018-03-02 03:00:00   90.0   58.0  113.0  ...    96.0    64.0    69.0    34.0   \n",
       "2018-03-02 04:00:00  120.0   90.0   58.0  ...    30.0    96.0    64.0    69.0   \n",
       "\n",
       "                     lag_20  lag_21  lag_22  lag_23  lag_24  rolling_mean  \n",
       "datetime                                                                   \n",
       "2018-03-02 00:00:00    43.0    66.0    71.0    85.0   124.0          58.0  \n",
       "2018-03-02 01:00:00     6.0    43.0    66.0    71.0    85.0          90.0  \n",
       "2018-03-02 02:00:00    12.0     6.0    43.0    66.0    71.0         120.0  \n",
       "2018-03-02 03:00:00    15.0    12.0     6.0    43.0    66.0          75.0  \n",
       "2018-03-02 04:00:00    34.0    15.0    12.0     6.0    43.0          64.0  \n",
       "\n",
       "[5 rows x 30 columns]"
      ]
     },
     "execution_count": 16,
     "metadata": {},
     "output_type": "execute_result"
    }
   ],
   "source": [
    "#check\n",
    "df.head()"
   ]
  },
  {
   "cell_type": "markdown",
   "metadata": {},
   "source": [
    "### Подготовка выборки"
   ]
  },
  {
   "cell_type": "markdown",
   "metadata": {},
   "source": [
    "Разделим выборки на тренировочную и тестовую."
   ]
  },
  {
   "cell_type": "code",
   "execution_count": 17,
   "metadata": {},
   "outputs": [],
   "source": [
    "train, test = train_test_split(df, shuffle=False, test_size=0.1)\n",
    "\n",
    "X_train = train.drop('num_orders', axis=1)\n",
    "y_train = train['num_orders']\n",
    "X_test = test.drop('num_orders', axis=1)\n",
    "y_test = test['num_orders']"
   ]
  },
  {
   "cell_type": "markdown",
   "metadata": {},
   "source": [
    "Так как мы работаем с веременным рядом с количеством заказов по каждому часу, воспользуемся сплиттером для временных рядов."
   ]
  },
  {
   "cell_type": "code",
   "execution_count": 18,
   "metadata": {},
   "outputs": [],
   "source": [
    "ts_cv = TimeSeriesSplit(\n",
    "    n_splits=3,\n",
    "    gap=48,\n",
    "    max_train_size=(df.shape[0]*4)//5,\n",
    "    test_size=400,\n",
    ")"
   ]
  },
  {
   "cell_type": "markdown",
   "metadata": {},
   "source": [
    "Проверим есть ли ошибки после деления выборки."
   ]
  },
  {
   "cell_type": "code",
   "execution_count": 19,
   "metadata": {},
   "outputs": [],
   "source": [
    "all_splits = list(ts_cv.split(X_train, y_train))\n",
    "train_0, test_0 = all_splits[0]\n",
    "train_1, test_1 = all_splits[1]"
   ]
  },
  {
   "cell_type": "code",
   "execution_count": 20,
   "metadata": {},
   "outputs": [
    {
     "data": {
      "text/html": [
       "<div>\n",
       "<style scoped>\n",
       "    .dataframe tbody tr th:only-of-type {\n",
       "        vertical-align: middle;\n",
       "    }\n",
       "\n",
       "    .dataframe tbody tr th {\n",
       "        vertical-align: top;\n",
       "    }\n",
       "\n",
       "    .dataframe thead th {\n",
       "        text-align: right;\n",
       "    }\n",
       "</style>\n",
       "<table border=\"1\" class=\"dataframe\">\n",
       "  <thead>\n",
       "    <tr style=\"text-align: right;\">\n",
       "      <th></th>\n",
       "      <th>month</th>\n",
       "      <th>day</th>\n",
       "      <th>hour</th>\n",
       "      <th>dayofweek</th>\n",
       "      <th>lag_1</th>\n",
       "      <th>lag_2</th>\n",
       "      <th>lag_3</th>\n",
       "      <th>lag_4</th>\n",
       "      <th>lag_5</th>\n",
       "      <th>lag_6</th>\n",
       "      <th>...</th>\n",
       "      <th>lag_16</th>\n",
       "      <th>lag_17</th>\n",
       "      <th>lag_18</th>\n",
       "      <th>lag_19</th>\n",
       "      <th>lag_20</th>\n",
       "      <th>lag_21</th>\n",
       "      <th>lag_22</th>\n",
       "      <th>lag_23</th>\n",
       "      <th>lag_24</th>\n",
       "      <th>rolling_mean</th>\n",
       "    </tr>\n",
       "    <tr>\n",
       "      <th>datetime</th>\n",
       "      <th></th>\n",
       "      <th></th>\n",
       "      <th></th>\n",
       "      <th></th>\n",
       "      <th></th>\n",
       "      <th></th>\n",
       "      <th></th>\n",
       "      <th></th>\n",
       "      <th></th>\n",
       "      <th></th>\n",
       "      <th></th>\n",
       "      <th></th>\n",
       "      <th></th>\n",
       "      <th></th>\n",
       "      <th></th>\n",
       "      <th></th>\n",
       "      <th></th>\n",
       "      <th></th>\n",
       "      <th></th>\n",
       "      <th></th>\n",
       "      <th></th>\n",
       "    </tr>\n",
       "  </thead>\n",
       "  <tbody>\n",
       "    <tr>\n",
       "      <th>2018-06-24 16:00:00</th>\n",
       "      <td>6</td>\n",
       "      <td>24</td>\n",
       "      <td>16</td>\n",
       "      <td>6</td>\n",
       "      <td>122.0</td>\n",
       "      <td>107.0</td>\n",
       "      <td>42.0</td>\n",
       "      <td>74.0</td>\n",
       "      <td>51.0</td>\n",
       "      <td>60.0</td>\n",
       "      <td>...</td>\n",
       "      <td>127.0</td>\n",
       "      <td>111.0</td>\n",
       "      <td>90.0</td>\n",
       "      <td>59.0</td>\n",
       "      <td>66.0</td>\n",
       "      <td>81.0</td>\n",
       "      <td>44.0</td>\n",
       "      <td>88.0</td>\n",
       "      <td>140.0</td>\n",
       "      <td>122.0</td>\n",
       "    </tr>\n",
       "    <tr>\n",
       "      <th>2018-06-24 17:00:00</th>\n",
       "      <td>6</td>\n",
       "      <td>24</td>\n",
       "      <td>17</td>\n",
       "      <td>6</td>\n",
       "      <td>154.0</td>\n",
       "      <td>122.0</td>\n",
       "      <td>107.0</td>\n",
       "      <td>42.0</td>\n",
       "      <td>74.0</td>\n",
       "      <td>51.0</td>\n",
       "      <td>...</td>\n",
       "      <td>64.0</td>\n",
       "      <td>127.0</td>\n",
       "      <td>111.0</td>\n",
       "      <td>90.0</td>\n",
       "      <td>59.0</td>\n",
       "      <td>66.0</td>\n",
       "      <td>81.0</td>\n",
       "      <td>44.0</td>\n",
       "      <td>88.0</td>\n",
       "      <td>154.0</td>\n",
       "    </tr>\n",
       "    <tr>\n",
       "      <th>2018-06-24 18:00:00</th>\n",
       "      <td>6</td>\n",
       "      <td>24</td>\n",
       "      <td>18</td>\n",
       "      <td>6</td>\n",
       "      <td>103.0</td>\n",
       "      <td>154.0</td>\n",
       "      <td>122.0</td>\n",
       "      <td>107.0</td>\n",
       "      <td>42.0</td>\n",
       "      <td>74.0</td>\n",
       "      <td>...</td>\n",
       "      <td>59.0</td>\n",
       "      <td>64.0</td>\n",
       "      <td>127.0</td>\n",
       "      <td>111.0</td>\n",
       "      <td>90.0</td>\n",
       "      <td>59.0</td>\n",
       "      <td>66.0</td>\n",
       "      <td>81.0</td>\n",
       "      <td>44.0</td>\n",
       "      <td>103.0</td>\n",
       "    </tr>\n",
       "    <tr>\n",
       "      <th>2018-06-24 19:00:00</th>\n",
       "      <td>6</td>\n",
       "      <td>24</td>\n",
       "      <td>19</td>\n",
       "      <td>6</td>\n",
       "      <td>51.0</td>\n",
       "      <td>103.0</td>\n",
       "      <td>154.0</td>\n",
       "      <td>122.0</td>\n",
       "      <td>107.0</td>\n",
       "      <td>42.0</td>\n",
       "      <td>...</td>\n",
       "      <td>86.0</td>\n",
       "      <td>59.0</td>\n",
       "      <td>64.0</td>\n",
       "      <td>127.0</td>\n",
       "      <td>111.0</td>\n",
       "      <td>90.0</td>\n",
       "      <td>59.0</td>\n",
       "      <td>66.0</td>\n",
       "      <td>81.0</td>\n",
       "      <td>51.0</td>\n",
       "    </tr>\n",
       "    <tr>\n",
       "      <th>2018-06-24 20:00:00</th>\n",
       "      <td>6</td>\n",
       "      <td>24</td>\n",
       "      <td>20</td>\n",
       "      <td>6</td>\n",
       "      <td>96.0</td>\n",
       "      <td>51.0</td>\n",
       "      <td>103.0</td>\n",
       "      <td>154.0</td>\n",
       "      <td>122.0</td>\n",
       "      <td>107.0</td>\n",
       "      <td>...</td>\n",
       "      <td>164.0</td>\n",
       "      <td>86.0</td>\n",
       "      <td>59.0</td>\n",
       "      <td>64.0</td>\n",
       "      <td>127.0</td>\n",
       "      <td>111.0</td>\n",
       "      <td>90.0</td>\n",
       "      <td>59.0</td>\n",
       "      <td>66.0</td>\n",
       "      <td>96.0</td>\n",
       "    </tr>\n",
       "    <tr>\n",
       "      <th>...</th>\n",
       "      <td>...</td>\n",
       "      <td>...</td>\n",
       "      <td>...</td>\n",
       "      <td>...</td>\n",
       "      <td>...</td>\n",
       "      <td>...</td>\n",
       "      <td>...</td>\n",
       "      <td>...</td>\n",
       "      <td>...</td>\n",
       "      <td>...</td>\n",
       "      <td>...</td>\n",
       "      <td>...</td>\n",
       "      <td>...</td>\n",
       "      <td>...</td>\n",
       "      <td>...</td>\n",
       "      <td>...</td>\n",
       "      <td>...</td>\n",
       "      <td>...</td>\n",
       "      <td>...</td>\n",
       "      <td>...</td>\n",
       "      <td>...</td>\n",
       "    </tr>\n",
       "    <tr>\n",
       "      <th>2018-07-11 03:00:00</th>\n",
       "      <td>7</td>\n",
       "      <td>11</td>\n",
       "      <td>3</td>\n",
       "      <td>2</td>\n",
       "      <td>152.0</td>\n",
       "      <td>84.0</td>\n",
       "      <td>172.0</td>\n",
       "      <td>94.0</td>\n",
       "      <td>137.0</td>\n",
       "      <td>115.0</td>\n",
       "      <td>...</td>\n",
       "      <td>98.0</td>\n",
       "      <td>103.0</td>\n",
       "      <td>132.0</td>\n",
       "      <td>68.0</td>\n",
       "      <td>53.0</td>\n",
       "      <td>37.0</td>\n",
       "      <td>56.0</td>\n",
       "      <td>113.0</td>\n",
       "      <td>104.0</td>\n",
       "      <td>152.0</td>\n",
       "    </tr>\n",
       "    <tr>\n",
       "      <th>2018-07-11 04:00:00</th>\n",
       "      <td>7</td>\n",
       "      <td>11</td>\n",
       "      <td>4</td>\n",
       "      <td>2</td>\n",
       "      <td>117.0</td>\n",
       "      <td>152.0</td>\n",
       "      <td>84.0</td>\n",
       "      <td>172.0</td>\n",
       "      <td>94.0</td>\n",
       "      <td>137.0</td>\n",
       "      <td>...</td>\n",
       "      <td>72.0</td>\n",
       "      <td>98.0</td>\n",
       "      <td>103.0</td>\n",
       "      <td>132.0</td>\n",
       "      <td>68.0</td>\n",
       "      <td>53.0</td>\n",
       "      <td>37.0</td>\n",
       "      <td>56.0</td>\n",
       "      <td>113.0</td>\n",
       "      <td>117.0</td>\n",
       "    </tr>\n",
       "    <tr>\n",
       "      <th>2018-07-11 05:00:00</th>\n",
       "      <td>7</td>\n",
       "      <td>11</td>\n",
       "      <td>5</td>\n",
       "      <td>2</td>\n",
       "      <td>153.0</td>\n",
       "      <td>117.0</td>\n",
       "      <td>152.0</td>\n",
       "      <td>84.0</td>\n",
       "      <td>172.0</td>\n",
       "      <td>94.0</td>\n",
       "      <td>...</td>\n",
       "      <td>77.0</td>\n",
       "      <td>72.0</td>\n",
       "      <td>98.0</td>\n",
       "      <td>103.0</td>\n",
       "      <td>132.0</td>\n",
       "      <td>68.0</td>\n",
       "      <td>53.0</td>\n",
       "      <td>37.0</td>\n",
       "      <td>56.0</td>\n",
       "      <td>153.0</td>\n",
       "    </tr>\n",
       "    <tr>\n",
       "      <th>2018-07-11 06:00:00</th>\n",
       "      <td>7</td>\n",
       "      <td>11</td>\n",
       "      <td>6</td>\n",
       "      <td>2</td>\n",
       "      <td>77.0</td>\n",
       "      <td>153.0</td>\n",
       "      <td>117.0</td>\n",
       "      <td>152.0</td>\n",
       "      <td>84.0</td>\n",
       "      <td>172.0</td>\n",
       "      <td>...</td>\n",
       "      <td>97.0</td>\n",
       "      <td>77.0</td>\n",
       "      <td>72.0</td>\n",
       "      <td>98.0</td>\n",
       "      <td>103.0</td>\n",
       "      <td>132.0</td>\n",
       "      <td>68.0</td>\n",
       "      <td>53.0</td>\n",
       "      <td>37.0</td>\n",
       "      <td>77.0</td>\n",
       "    </tr>\n",
       "    <tr>\n",
       "      <th>2018-07-11 07:00:00</th>\n",
       "      <td>7</td>\n",
       "      <td>11</td>\n",
       "      <td>7</td>\n",
       "      <td>2</td>\n",
       "      <td>81.0</td>\n",
       "      <td>77.0</td>\n",
       "      <td>153.0</td>\n",
       "      <td>117.0</td>\n",
       "      <td>152.0</td>\n",
       "      <td>84.0</td>\n",
       "      <td>...</td>\n",
       "      <td>80.0</td>\n",
       "      <td>97.0</td>\n",
       "      <td>77.0</td>\n",
       "      <td>72.0</td>\n",
       "      <td>98.0</td>\n",
       "      <td>103.0</td>\n",
       "      <td>132.0</td>\n",
       "      <td>68.0</td>\n",
       "      <td>53.0</td>\n",
       "      <td>81.0</td>\n",
       "    </tr>\n",
       "  </tbody>\n",
       "</table>\n",
       "<p>400 rows × 29 columns</p>\n",
       "</div>"
      ],
      "text/plain": [
       "                     month  day  hour  dayofweek  lag_1  lag_2  lag_3  lag_4  \\\n",
       "datetime                                                                       \n",
       "2018-06-24 16:00:00      6   24    16          6  122.0  107.0   42.0   74.0   \n",
       "2018-06-24 17:00:00      6   24    17          6  154.0  122.0  107.0   42.0   \n",
       "2018-06-24 18:00:00      6   24    18          6  103.0  154.0  122.0  107.0   \n",
       "2018-06-24 19:00:00      6   24    19          6   51.0  103.0  154.0  122.0   \n",
       "2018-06-24 20:00:00      6   24    20          6   96.0   51.0  103.0  154.0   \n",
       "...                    ...  ...   ...        ...    ...    ...    ...    ...   \n",
       "2018-07-11 03:00:00      7   11     3          2  152.0   84.0  172.0   94.0   \n",
       "2018-07-11 04:00:00      7   11     4          2  117.0  152.0   84.0  172.0   \n",
       "2018-07-11 05:00:00      7   11     5          2  153.0  117.0  152.0   84.0   \n",
       "2018-07-11 06:00:00      7   11     6          2   77.0  153.0  117.0  152.0   \n",
       "2018-07-11 07:00:00      7   11     7          2   81.0   77.0  153.0  117.0   \n",
       "\n",
       "                     lag_5  lag_6  ...  lag_16  lag_17  lag_18  lag_19  \\\n",
       "datetime                           ...                                   \n",
       "2018-06-24 16:00:00   51.0   60.0  ...   127.0   111.0    90.0    59.0   \n",
       "2018-06-24 17:00:00   74.0   51.0  ...    64.0   127.0   111.0    90.0   \n",
       "2018-06-24 18:00:00   42.0   74.0  ...    59.0    64.0   127.0   111.0   \n",
       "2018-06-24 19:00:00  107.0   42.0  ...    86.0    59.0    64.0   127.0   \n",
       "2018-06-24 20:00:00  122.0  107.0  ...   164.0    86.0    59.0    64.0   \n",
       "...                    ...    ...  ...     ...     ...     ...     ...   \n",
       "2018-07-11 03:00:00  137.0  115.0  ...    98.0   103.0   132.0    68.0   \n",
       "2018-07-11 04:00:00   94.0  137.0  ...    72.0    98.0   103.0   132.0   \n",
       "2018-07-11 05:00:00  172.0   94.0  ...    77.0    72.0    98.0   103.0   \n",
       "2018-07-11 06:00:00   84.0  172.0  ...    97.0    77.0    72.0    98.0   \n",
       "2018-07-11 07:00:00  152.0   84.0  ...    80.0    97.0    77.0    72.0   \n",
       "\n",
       "                     lag_20  lag_21  lag_22  lag_23  lag_24  rolling_mean  \n",
       "datetime                                                                   \n",
       "2018-06-24 16:00:00    66.0    81.0    44.0    88.0   140.0         122.0  \n",
       "2018-06-24 17:00:00    59.0    66.0    81.0    44.0    88.0         154.0  \n",
       "2018-06-24 18:00:00    90.0    59.0    66.0    81.0    44.0         103.0  \n",
       "2018-06-24 19:00:00   111.0    90.0    59.0    66.0    81.0          51.0  \n",
       "2018-06-24 20:00:00   127.0   111.0    90.0    59.0    66.0          96.0  \n",
       "...                     ...     ...     ...     ...     ...           ...  \n",
       "2018-07-11 03:00:00    53.0    37.0    56.0   113.0   104.0         152.0  \n",
       "2018-07-11 04:00:00    68.0    53.0    37.0    56.0   113.0         117.0  \n",
       "2018-07-11 05:00:00   132.0    68.0    53.0    37.0    56.0         153.0  \n",
       "2018-07-11 06:00:00   103.0   132.0    68.0    53.0    37.0          77.0  \n",
       "2018-07-11 07:00:00    98.0   103.0   132.0    68.0    53.0          81.0  \n",
       "\n",
       "[400 rows x 29 columns]"
      ]
     },
     "execution_count": 20,
     "metadata": {},
     "output_type": "execute_result"
    }
   ],
   "source": [
    "# первый сплит\n",
    "X_train.iloc[test_0]"
   ]
  },
  {
   "cell_type": "code",
   "execution_count": 21,
   "metadata": {},
   "outputs": [
    {
     "data": {
      "text/html": [
       "<div>\n",
       "<style scoped>\n",
       "    .dataframe tbody tr th:only-of-type {\n",
       "        vertical-align: middle;\n",
       "    }\n",
       "\n",
       "    .dataframe tbody tr th {\n",
       "        vertical-align: top;\n",
       "    }\n",
       "\n",
       "    .dataframe thead th {\n",
       "        text-align: right;\n",
       "    }\n",
       "</style>\n",
       "<table border=\"1\" class=\"dataframe\">\n",
       "  <thead>\n",
       "    <tr style=\"text-align: right;\">\n",
       "      <th></th>\n",
       "      <th>month</th>\n",
       "      <th>day</th>\n",
       "      <th>hour</th>\n",
       "      <th>dayofweek</th>\n",
       "      <th>lag_1</th>\n",
       "      <th>lag_2</th>\n",
       "      <th>lag_3</th>\n",
       "      <th>lag_4</th>\n",
       "      <th>lag_5</th>\n",
       "      <th>lag_6</th>\n",
       "      <th>...</th>\n",
       "      <th>lag_16</th>\n",
       "      <th>lag_17</th>\n",
       "      <th>lag_18</th>\n",
       "      <th>lag_19</th>\n",
       "      <th>lag_20</th>\n",
       "      <th>lag_21</th>\n",
       "      <th>lag_22</th>\n",
       "      <th>lag_23</th>\n",
       "      <th>lag_24</th>\n",
       "      <th>rolling_mean</th>\n",
       "    </tr>\n",
       "    <tr>\n",
       "      <th>datetime</th>\n",
       "      <th></th>\n",
       "      <th></th>\n",
       "      <th></th>\n",
       "      <th></th>\n",
       "      <th></th>\n",
       "      <th></th>\n",
       "      <th></th>\n",
       "      <th></th>\n",
       "      <th></th>\n",
       "      <th></th>\n",
       "      <th></th>\n",
       "      <th></th>\n",
       "      <th></th>\n",
       "      <th></th>\n",
       "      <th></th>\n",
       "      <th></th>\n",
       "      <th></th>\n",
       "      <th></th>\n",
       "      <th></th>\n",
       "      <th></th>\n",
       "      <th></th>\n",
       "    </tr>\n",
       "  </thead>\n",
       "  <tbody>\n",
       "    <tr>\n",
       "      <th>2018-03-02 00:00:00</th>\n",
       "      <td>3</td>\n",
       "      <td>2</td>\n",
       "      <td>0</td>\n",
       "      <td>4</td>\n",
       "      <td>58.0</td>\n",
       "      <td>113.0</td>\n",
       "      <td>66.0</td>\n",
       "      <td>61.0</td>\n",
       "      <td>45.0</td>\n",
       "      <td>73.0</td>\n",
       "      <td>...</td>\n",
       "      <td>34.0</td>\n",
       "      <td>15.0</td>\n",
       "      <td>12.0</td>\n",
       "      <td>6.0</td>\n",
       "      <td>43.0</td>\n",
       "      <td>66.0</td>\n",
       "      <td>71.0</td>\n",
       "      <td>85.0</td>\n",
       "      <td>124.0</td>\n",
       "      <td>58.0</td>\n",
       "    </tr>\n",
       "    <tr>\n",
       "      <th>2018-03-02 01:00:00</th>\n",
       "      <td>3</td>\n",
       "      <td>2</td>\n",
       "      <td>1</td>\n",
       "      <td>4</td>\n",
       "      <td>90.0</td>\n",
       "      <td>58.0</td>\n",
       "      <td>113.0</td>\n",
       "      <td>66.0</td>\n",
       "      <td>61.0</td>\n",
       "      <td>45.0</td>\n",
       "      <td>...</td>\n",
       "      <td>69.0</td>\n",
       "      <td>34.0</td>\n",
       "      <td>15.0</td>\n",
       "      <td>12.0</td>\n",
       "      <td>6.0</td>\n",
       "      <td>43.0</td>\n",
       "      <td>66.0</td>\n",
       "      <td>71.0</td>\n",
       "      <td>85.0</td>\n",
       "      <td>90.0</td>\n",
       "    </tr>\n",
       "    <tr>\n",
       "      <th>2018-03-02 02:00:00</th>\n",
       "      <td>3</td>\n",
       "      <td>2</td>\n",
       "      <td>2</td>\n",
       "      <td>4</td>\n",
       "      <td>120.0</td>\n",
       "      <td>90.0</td>\n",
       "      <td>58.0</td>\n",
       "      <td>113.0</td>\n",
       "      <td>66.0</td>\n",
       "      <td>61.0</td>\n",
       "      <td>...</td>\n",
       "      <td>64.0</td>\n",
       "      <td>69.0</td>\n",
       "      <td>34.0</td>\n",
       "      <td>15.0</td>\n",
       "      <td>12.0</td>\n",
       "      <td>6.0</td>\n",
       "      <td>43.0</td>\n",
       "      <td>66.0</td>\n",
       "      <td>71.0</td>\n",
       "      <td>120.0</td>\n",
       "    </tr>\n",
       "    <tr>\n",
       "      <th>2018-03-02 03:00:00</th>\n",
       "      <td>3</td>\n",
       "      <td>2</td>\n",
       "      <td>3</td>\n",
       "      <td>4</td>\n",
       "      <td>75.0</td>\n",
       "      <td>120.0</td>\n",
       "      <td>90.0</td>\n",
       "      <td>58.0</td>\n",
       "      <td>113.0</td>\n",
       "      <td>66.0</td>\n",
       "      <td>...</td>\n",
       "      <td>96.0</td>\n",
       "      <td>64.0</td>\n",
       "      <td>69.0</td>\n",
       "      <td>34.0</td>\n",
       "      <td>15.0</td>\n",
       "      <td>12.0</td>\n",
       "      <td>6.0</td>\n",
       "      <td>43.0</td>\n",
       "      <td>66.0</td>\n",
       "      <td>75.0</td>\n",
       "    </tr>\n",
       "    <tr>\n",
       "      <th>2018-03-02 04:00:00</th>\n",
       "      <td>3</td>\n",
       "      <td>2</td>\n",
       "      <td>4</td>\n",
       "      <td>4</td>\n",
       "      <td>64.0</td>\n",
       "      <td>75.0</td>\n",
       "      <td>120.0</td>\n",
       "      <td>90.0</td>\n",
       "      <td>58.0</td>\n",
       "      <td>113.0</td>\n",
       "      <td>...</td>\n",
       "      <td>30.0</td>\n",
       "      <td>96.0</td>\n",
       "      <td>64.0</td>\n",
       "      <td>69.0</td>\n",
       "      <td>34.0</td>\n",
       "      <td>15.0</td>\n",
       "      <td>12.0</td>\n",
       "      <td>6.0</td>\n",
       "      <td>43.0</td>\n",
       "      <td>64.0</td>\n",
       "    </tr>\n",
       "    <tr>\n",
       "      <th>...</th>\n",
       "      <td>...</td>\n",
       "      <td>...</td>\n",
       "      <td>...</td>\n",
       "      <td>...</td>\n",
       "      <td>...</td>\n",
       "      <td>...</td>\n",
       "      <td>...</td>\n",
       "      <td>...</td>\n",
       "      <td>...</td>\n",
       "      <td>...</td>\n",
       "      <td>...</td>\n",
       "      <td>...</td>\n",
       "      <td>...</td>\n",
       "      <td>...</td>\n",
       "      <td>...</td>\n",
       "      <td>...</td>\n",
       "      <td>...</td>\n",
       "      <td>...</td>\n",
       "      <td>...</td>\n",
       "      <td>...</td>\n",
       "      <td>...</td>\n",
       "    </tr>\n",
       "    <tr>\n",
       "      <th>2018-06-22 11:00:00</th>\n",
       "      <td>6</td>\n",
       "      <td>22</td>\n",
       "      <td>11</td>\n",
       "      <td>4</td>\n",
       "      <td>127.0</td>\n",
       "      <td>114.0</td>\n",
       "      <td>73.0</td>\n",
       "      <td>34.0</td>\n",
       "      <td>24.0</td>\n",
       "      <td>38.0</td>\n",
       "      <td>...</td>\n",
       "      <td>40.0</td>\n",
       "      <td>81.0</td>\n",
       "      <td>100.0</td>\n",
       "      <td>92.0</td>\n",
       "      <td>55.0</td>\n",
       "      <td>32.0</td>\n",
       "      <td>50.0</td>\n",
       "      <td>82.0</td>\n",
       "      <td>78.0</td>\n",
       "      <td>127.0</td>\n",
       "    </tr>\n",
       "    <tr>\n",
       "      <th>2018-06-22 12:00:00</th>\n",
       "      <td>6</td>\n",
       "      <td>22</td>\n",
       "      <td>12</td>\n",
       "      <td>4</td>\n",
       "      <td>69.0</td>\n",
       "      <td>127.0</td>\n",
       "      <td>114.0</td>\n",
       "      <td>73.0</td>\n",
       "      <td>34.0</td>\n",
       "      <td>24.0</td>\n",
       "      <td>...</td>\n",
       "      <td>66.0</td>\n",
       "      <td>40.0</td>\n",
       "      <td>81.0</td>\n",
       "      <td>100.0</td>\n",
       "      <td>92.0</td>\n",
       "      <td>55.0</td>\n",
       "      <td>32.0</td>\n",
       "      <td>50.0</td>\n",
       "      <td>82.0</td>\n",
       "      <td>69.0</td>\n",
       "    </tr>\n",
       "    <tr>\n",
       "      <th>2018-06-22 13:00:00</th>\n",
       "      <td>6</td>\n",
       "      <td>22</td>\n",
       "      <td>13</td>\n",
       "      <td>4</td>\n",
       "      <td>57.0</td>\n",
       "      <td>69.0</td>\n",
       "      <td>127.0</td>\n",
       "      <td>114.0</td>\n",
       "      <td>73.0</td>\n",
       "      <td>34.0</td>\n",
       "      <td>...</td>\n",
       "      <td>92.0</td>\n",
       "      <td>66.0</td>\n",
       "      <td>40.0</td>\n",
       "      <td>81.0</td>\n",
       "      <td>100.0</td>\n",
       "      <td>92.0</td>\n",
       "      <td>55.0</td>\n",
       "      <td>32.0</td>\n",
       "      <td>50.0</td>\n",
       "      <td>57.0</td>\n",
       "    </tr>\n",
       "    <tr>\n",
       "      <th>2018-06-22 14:00:00</th>\n",
       "      <td>6</td>\n",
       "      <td>22</td>\n",
       "      <td>14</td>\n",
       "      <td>4</td>\n",
       "      <td>96.0</td>\n",
       "      <td>57.0</td>\n",
       "      <td>69.0</td>\n",
       "      <td>127.0</td>\n",
       "      <td>114.0</td>\n",
       "      <td>73.0</td>\n",
       "      <td>...</td>\n",
       "      <td>78.0</td>\n",
       "      <td>92.0</td>\n",
       "      <td>66.0</td>\n",
       "      <td>40.0</td>\n",
       "      <td>81.0</td>\n",
       "      <td>100.0</td>\n",
       "      <td>92.0</td>\n",
       "      <td>55.0</td>\n",
       "      <td>32.0</td>\n",
       "      <td>96.0</td>\n",
       "    </tr>\n",
       "    <tr>\n",
       "      <th>2018-06-22 15:00:00</th>\n",
       "      <td>6</td>\n",
       "      <td>22</td>\n",
       "      <td>15</td>\n",
       "      <td>4</td>\n",
       "      <td>89.0</td>\n",
       "      <td>96.0</td>\n",
       "      <td>57.0</td>\n",
       "      <td>69.0</td>\n",
       "      <td>127.0</td>\n",
       "      <td>114.0</td>\n",
       "      <td>...</td>\n",
       "      <td>73.0</td>\n",
       "      <td>78.0</td>\n",
       "      <td>92.0</td>\n",
       "      <td>66.0</td>\n",
       "      <td>40.0</td>\n",
       "      <td>81.0</td>\n",
       "      <td>100.0</td>\n",
       "      <td>92.0</td>\n",
       "      <td>55.0</td>\n",
       "      <td>89.0</td>\n",
       "    </tr>\n",
       "  </tbody>\n",
       "</table>\n",
       "<p>2704 rows × 29 columns</p>\n",
       "</div>"
      ],
      "text/plain": [
       "                     month  day  hour  dayofweek  lag_1  lag_2  lag_3  lag_4  \\\n",
       "datetime                                                                       \n",
       "2018-03-02 00:00:00      3    2     0          4   58.0  113.0   66.0   61.0   \n",
       "2018-03-02 01:00:00      3    2     1          4   90.0   58.0  113.0   66.0   \n",
       "2018-03-02 02:00:00      3    2     2          4  120.0   90.0   58.0  113.0   \n",
       "2018-03-02 03:00:00      3    2     3          4   75.0  120.0   90.0   58.0   \n",
       "2018-03-02 04:00:00      3    2     4          4   64.0   75.0  120.0   90.0   \n",
       "...                    ...  ...   ...        ...    ...    ...    ...    ...   \n",
       "2018-06-22 11:00:00      6   22    11          4  127.0  114.0   73.0   34.0   \n",
       "2018-06-22 12:00:00      6   22    12          4   69.0  127.0  114.0   73.0   \n",
       "2018-06-22 13:00:00      6   22    13          4   57.0   69.0  127.0  114.0   \n",
       "2018-06-22 14:00:00      6   22    14          4   96.0   57.0   69.0  127.0   \n",
       "2018-06-22 15:00:00      6   22    15          4   89.0   96.0   57.0   69.0   \n",
       "\n",
       "                     lag_5  lag_6  ...  lag_16  lag_17  lag_18  lag_19  \\\n",
       "datetime                           ...                                   \n",
       "2018-03-02 00:00:00   45.0   73.0  ...    34.0    15.0    12.0     6.0   \n",
       "2018-03-02 01:00:00   61.0   45.0  ...    69.0    34.0    15.0    12.0   \n",
       "2018-03-02 02:00:00   66.0   61.0  ...    64.0    69.0    34.0    15.0   \n",
       "2018-03-02 03:00:00  113.0   66.0  ...    96.0    64.0    69.0    34.0   \n",
       "2018-03-02 04:00:00   58.0  113.0  ...    30.0    96.0    64.0    69.0   \n",
       "...                    ...    ...  ...     ...     ...     ...     ...   \n",
       "2018-06-22 11:00:00   24.0   38.0  ...    40.0    81.0   100.0    92.0   \n",
       "2018-06-22 12:00:00   34.0   24.0  ...    66.0    40.0    81.0   100.0   \n",
       "2018-06-22 13:00:00   73.0   34.0  ...    92.0    66.0    40.0    81.0   \n",
       "2018-06-22 14:00:00  114.0   73.0  ...    78.0    92.0    66.0    40.0   \n",
       "2018-06-22 15:00:00  127.0  114.0  ...    73.0    78.0    92.0    66.0   \n",
       "\n",
       "                     lag_20  lag_21  lag_22  lag_23  lag_24  rolling_mean  \n",
       "datetime                                                                   \n",
       "2018-03-02 00:00:00    43.0    66.0    71.0    85.0   124.0          58.0  \n",
       "2018-03-02 01:00:00     6.0    43.0    66.0    71.0    85.0          90.0  \n",
       "2018-03-02 02:00:00    12.0     6.0    43.0    66.0    71.0         120.0  \n",
       "2018-03-02 03:00:00    15.0    12.0     6.0    43.0    66.0          75.0  \n",
       "2018-03-02 04:00:00    34.0    15.0    12.0     6.0    43.0          64.0  \n",
       "...                     ...     ...     ...     ...     ...           ...  \n",
       "2018-06-22 11:00:00    55.0    32.0    50.0    82.0    78.0         127.0  \n",
       "2018-06-22 12:00:00    92.0    55.0    32.0    50.0    82.0          69.0  \n",
       "2018-06-22 13:00:00   100.0    92.0    55.0    32.0    50.0          57.0  \n",
       "2018-06-22 14:00:00    81.0   100.0    92.0    55.0    32.0          96.0  \n",
       "2018-06-22 15:00:00    40.0    81.0   100.0    92.0    55.0          89.0  \n",
       "\n",
       "[2704 rows x 29 columns]"
      ]
     },
     "execution_count": 21,
     "metadata": {},
     "output_type": "execute_result"
    }
   ],
   "source": [
    "# первый сплит\n",
    "X_train.iloc[train_0]"
   ]
  },
  {
   "cell_type": "code",
   "execution_count": 22,
   "metadata": {},
   "outputs": [
    {
     "data": {
      "text/html": [
       "<div>\n",
       "<style scoped>\n",
       "    .dataframe tbody tr th:only-of-type {\n",
       "        vertical-align: middle;\n",
       "    }\n",
       "\n",
       "    .dataframe tbody tr th {\n",
       "        vertical-align: top;\n",
       "    }\n",
       "\n",
       "    .dataframe thead th {\n",
       "        text-align: right;\n",
       "    }\n",
       "</style>\n",
       "<table border=\"1\" class=\"dataframe\">\n",
       "  <thead>\n",
       "    <tr style=\"text-align: right;\">\n",
       "      <th></th>\n",
       "      <th>month</th>\n",
       "      <th>day</th>\n",
       "      <th>hour</th>\n",
       "      <th>dayofweek</th>\n",
       "      <th>lag_1</th>\n",
       "      <th>lag_2</th>\n",
       "      <th>lag_3</th>\n",
       "      <th>lag_4</th>\n",
       "      <th>lag_5</th>\n",
       "      <th>lag_6</th>\n",
       "      <th>...</th>\n",
       "      <th>lag_16</th>\n",
       "      <th>lag_17</th>\n",
       "      <th>lag_18</th>\n",
       "      <th>lag_19</th>\n",
       "      <th>lag_20</th>\n",
       "      <th>lag_21</th>\n",
       "      <th>lag_22</th>\n",
       "      <th>lag_23</th>\n",
       "      <th>lag_24</th>\n",
       "      <th>rolling_mean</th>\n",
       "    </tr>\n",
       "    <tr>\n",
       "      <th>datetime</th>\n",
       "      <th></th>\n",
       "      <th></th>\n",
       "      <th></th>\n",
       "      <th></th>\n",
       "      <th></th>\n",
       "      <th></th>\n",
       "      <th></th>\n",
       "      <th></th>\n",
       "      <th></th>\n",
       "      <th></th>\n",
       "      <th></th>\n",
       "      <th></th>\n",
       "      <th></th>\n",
       "      <th></th>\n",
       "      <th></th>\n",
       "      <th></th>\n",
       "      <th></th>\n",
       "      <th></th>\n",
       "      <th></th>\n",
       "      <th></th>\n",
       "      <th></th>\n",
       "    </tr>\n",
       "  </thead>\n",
       "  <tbody>\n",
       "    <tr>\n",
       "      <th>2018-07-28 00:00:00</th>\n",
       "      <td>7</td>\n",
       "      <td>28</td>\n",
       "      <td>0</td>\n",
       "      <td>5</td>\n",
       "      <td>122.0</td>\n",
       "      <td>213.0</td>\n",
       "      <td>133.0</td>\n",
       "      <td>131.0</td>\n",
       "      <td>86.0</td>\n",
       "      <td>76.0</td>\n",
       "      <td>...</td>\n",
       "      <td>89.0</td>\n",
       "      <td>44.0</td>\n",
       "      <td>78.0</td>\n",
       "      <td>64.0</td>\n",
       "      <td>109.0</td>\n",
       "      <td>131.0</td>\n",
       "      <td>161.0</td>\n",
       "      <td>108.0</td>\n",
       "      <td>222.0</td>\n",
       "      <td>122.0</td>\n",
       "    </tr>\n",
       "    <tr>\n",
       "      <th>2018-07-28 01:00:00</th>\n",
       "      <td>7</td>\n",
       "      <td>28</td>\n",
       "      <td>1</td>\n",
       "      <td>5</td>\n",
       "      <td>192.0</td>\n",
       "      <td>122.0</td>\n",
       "      <td>213.0</td>\n",
       "      <td>133.0</td>\n",
       "      <td>131.0</td>\n",
       "      <td>86.0</td>\n",
       "      <td>...</td>\n",
       "      <td>139.0</td>\n",
       "      <td>89.0</td>\n",
       "      <td>44.0</td>\n",
       "      <td>78.0</td>\n",
       "      <td>64.0</td>\n",
       "      <td>109.0</td>\n",
       "      <td>131.0</td>\n",
       "      <td>161.0</td>\n",
       "      <td>108.0</td>\n",
       "      <td>192.0</td>\n",
       "    </tr>\n",
       "    <tr>\n",
       "      <th>2018-07-28 02:00:00</th>\n",
       "      <td>7</td>\n",
       "      <td>28</td>\n",
       "      <td>2</td>\n",
       "      <td>5</td>\n",
       "      <td>195.0</td>\n",
       "      <td>192.0</td>\n",
       "      <td>122.0</td>\n",
       "      <td>213.0</td>\n",
       "      <td>133.0</td>\n",
       "      <td>131.0</td>\n",
       "      <td>...</td>\n",
       "      <td>149.0</td>\n",
       "      <td>139.0</td>\n",
       "      <td>89.0</td>\n",
       "      <td>44.0</td>\n",
       "      <td>78.0</td>\n",
       "      <td>64.0</td>\n",
       "      <td>109.0</td>\n",
       "      <td>131.0</td>\n",
       "      <td>161.0</td>\n",
       "      <td>195.0</td>\n",
       "    </tr>\n",
       "    <tr>\n",
       "      <th>2018-07-28 03:00:00</th>\n",
       "      <td>7</td>\n",
       "      <td>28</td>\n",
       "      <td>3</td>\n",
       "      <td>5</td>\n",
       "      <td>145.0</td>\n",
       "      <td>195.0</td>\n",
       "      <td>192.0</td>\n",
       "      <td>122.0</td>\n",
       "      <td>213.0</td>\n",
       "      <td>133.0</td>\n",
       "      <td>...</td>\n",
       "      <td>110.0</td>\n",
       "      <td>149.0</td>\n",
       "      <td>139.0</td>\n",
       "      <td>89.0</td>\n",
       "      <td>44.0</td>\n",
       "      <td>78.0</td>\n",
       "      <td>64.0</td>\n",
       "      <td>109.0</td>\n",
       "      <td>131.0</td>\n",
       "      <td>145.0</td>\n",
       "    </tr>\n",
       "    <tr>\n",
       "      <th>2018-07-28 04:00:00</th>\n",
       "      <td>7</td>\n",
       "      <td>28</td>\n",
       "      <td>4</td>\n",
       "      <td>5</td>\n",
       "      <td>132.0</td>\n",
       "      <td>145.0</td>\n",
       "      <td>195.0</td>\n",
       "      <td>192.0</td>\n",
       "      <td>122.0</td>\n",
       "      <td>213.0</td>\n",
       "      <td>...</td>\n",
       "      <td>118.0</td>\n",
       "      <td>110.0</td>\n",
       "      <td>149.0</td>\n",
       "      <td>139.0</td>\n",
       "      <td>89.0</td>\n",
       "      <td>44.0</td>\n",
       "      <td>78.0</td>\n",
       "      <td>64.0</td>\n",
       "      <td>109.0</td>\n",
       "      <td>132.0</td>\n",
       "    </tr>\n",
       "    <tr>\n",
       "      <th>...</th>\n",
       "      <td>...</td>\n",
       "      <td>...</td>\n",
       "      <td>...</td>\n",
       "      <td>...</td>\n",
       "      <td>...</td>\n",
       "      <td>...</td>\n",
       "      <td>...</td>\n",
       "      <td>...</td>\n",
       "      <td>...</td>\n",
       "      <td>...</td>\n",
       "      <td>...</td>\n",
       "      <td>...</td>\n",
       "      <td>...</td>\n",
       "      <td>...</td>\n",
       "      <td>...</td>\n",
       "      <td>...</td>\n",
       "      <td>...</td>\n",
       "      <td>...</td>\n",
       "      <td>...</td>\n",
       "      <td>...</td>\n",
       "      <td>...</td>\n",
       "    </tr>\n",
       "    <tr>\n",
       "      <th>2018-08-13 11:00:00</th>\n",
       "      <td>8</td>\n",
       "      <td>13</td>\n",
       "      <td>11</td>\n",
       "      <td>0</td>\n",
       "      <td>156.0</td>\n",
       "      <td>137.0</td>\n",
       "      <td>91.0</td>\n",
       "      <td>39.0</td>\n",
       "      <td>66.0</td>\n",
       "      <td>83.0</td>\n",
       "      <td>...</td>\n",
       "      <td>82.0</td>\n",
       "      <td>78.0</td>\n",
       "      <td>115.0</td>\n",
       "      <td>153.0</td>\n",
       "      <td>149.0</td>\n",
       "      <td>104.0</td>\n",
       "      <td>120.0</td>\n",
       "      <td>123.0</td>\n",
       "      <td>81.0</td>\n",
       "      <td>156.0</td>\n",
       "    </tr>\n",
       "    <tr>\n",
       "      <th>2018-08-13 12:00:00</th>\n",
       "      <td>8</td>\n",
       "      <td>13</td>\n",
       "      <td>12</td>\n",
       "      <td>0</td>\n",
       "      <td>144.0</td>\n",
       "      <td>156.0</td>\n",
       "      <td>137.0</td>\n",
       "      <td>91.0</td>\n",
       "      <td>39.0</td>\n",
       "      <td>66.0</td>\n",
       "      <td>...</td>\n",
       "      <td>98.0</td>\n",
       "      <td>82.0</td>\n",
       "      <td>78.0</td>\n",
       "      <td>115.0</td>\n",
       "      <td>153.0</td>\n",
       "      <td>149.0</td>\n",
       "      <td>104.0</td>\n",
       "      <td>120.0</td>\n",
       "      <td>123.0</td>\n",
       "      <td>144.0</td>\n",
       "    </tr>\n",
       "    <tr>\n",
       "      <th>2018-08-13 13:00:00</th>\n",
       "      <td>8</td>\n",
       "      <td>13</td>\n",
       "      <td>13</td>\n",
       "      <td>0</td>\n",
       "      <td>92.0</td>\n",
       "      <td>144.0</td>\n",
       "      <td>156.0</td>\n",
       "      <td>137.0</td>\n",
       "      <td>91.0</td>\n",
       "      <td>39.0</td>\n",
       "      <td>...</td>\n",
       "      <td>135.0</td>\n",
       "      <td>98.0</td>\n",
       "      <td>82.0</td>\n",
       "      <td>78.0</td>\n",
       "      <td>115.0</td>\n",
       "      <td>153.0</td>\n",
       "      <td>149.0</td>\n",
       "      <td>104.0</td>\n",
       "      <td>120.0</td>\n",
       "      <td>92.0</td>\n",
       "    </tr>\n",
       "    <tr>\n",
       "      <th>2018-08-13 14:00:00</th>\n",
       "      <td>8</td>\n",
       "      <td>13</td>\n",
       "      <td>14</td>\n",
       "      <td>0</td>\n",
       "      <td>119.0</td>\n",
       "      <td>92.0</td>\n",
       "      <td>144.0</td>\n",
       "      <td>156.0</td>\n",
       "      <td>137.0</td>\n",
       "      <td>91.0</td>\n",
       "      <td>...</td>\n",
       "      <td>118.0</td>\n",
       "      <td>135.0</td>\n",
       "      <td>98.0</td>\n",
       "      <td>82.0</td>\n",
       "      <td>78.0</td>\n",
       "      <td>115.0</td>\n",
       "      <td>153.0</td>\n",
       "      <td>149.0</td>\n",
       "      <td>104.0</td>\n",
       "      <td>119.0</td>\n",
       "    </tr>\n",
       "    <tr>\n",
       "      <th>2018-08-13 15:00:00</th>\n",
       "      <td>8</td>\n",
       "      <td>13</td>\n",
       "      <td>15</td>\n",
       "      <td>0</td>\n",
       "      <td>102.0</td>\n",
       "      <td>119.0</td>\n",
       "      <td>92.0</td>\n",
       "      <td>144.0</td>\n",
       "      <td>156.0</td>\n",
       "      <td>137.0</td>\n",
       "      <td>...</td>\n",
       "      <td>185.0</td>\n",
       "      <td>118.0</td>\n",
       "      <td>135.0</td>\n",
       "      <td>98.0</td>\n",
       "      <td>82.0</td>\n",
       "      <td>78.0</td>\n",
       "      <td>115.0</td>\n",
       "      <td>153.0</td>\n",
       "      <td>149.0</td>\n",
       "      <td>102.0</td>\n",
       "    </tr>\n",
       "  </tbody>\n",
       "</table>\n",
       "<p>400 rows × 29 columns</p>\n",
       "</div>"
      ],
      "text/plain": [
       "                     month  day  hour  dayofweek  lag_1  lag_2  lag_3  lag_4  \\\n",
       "datetime                                                                       \n",
       "2018-07-28 00:00:00      7   28     0          5  122.0  213.0  133.0  131.0   \n",
       "2018-07-28 01:00:00      7   28     1          5  192.0  122.0  213.0  133.0   \n",
       "2018-07-28 02:00:00      7   28     2          5  195.0  192.0  122.0  213.0   \n",
       "2018-07-28 03:00:00      7   28     3          5  145.0  195.0  192.0  122.0   \n",
       "2018-07-28 04:00:00      7   28     4          5  132.0  145.0  195.0  192.0   \n",
       "...                    ...  ...   ...        ...    ...    ...    ...    ...   \n",
       "2018-08-13 11:00:00      8   13    11          0  156.0  137.0   91.0   39.0   \n",
       "2018-08-13 12:00:00      8   13    12          0  144.0  156.0  137.0   91.0   \n",
       "2018-08-13 13:00:00      8   13    13          0   92.0  144.0  156.0  137.0   \n",
       "2018-08-13 14:00:00      8   13    14          0  119.0   92.0  144.0  156.0   \n",
       "2018-08-13 15:00:00      8   13    15          0  102.0  119.0   92.0  144.0   \n",
       "\n",
       "                     lag_5  lag_6  ...  lag_16  lag_17  lag_18  lag_19  \\\n",
       "datetime                           ...                                   \n",
       "2018-07-28 00:00:00   86.0   76.0  ...    89.0    44.0    78.0    64.0   \n",
       "2018-07-28 01:00:00  131.0   86.0  ...   139.0    89.0    44.0    78.0   \n",
       "2018-07-28 02:00:00  133.0  131.0  ...   149.0   139.0    89.0    44.0   \n",
       "2018-07-28 03:00:00  213.0  133.0  ...   110.0   149.0   139.0    89.0   \n",
       "2018-07-28 04:00:00  122.0  213.0  ...   118.0   110.0   149.0   139.0   \n",
       "...                    ...    ...  ...     ...     ...     ...     ...   \n",
       "2018-08-13 11:00:00   66.0   83.0  ...    82.0    78.0   115.0   153.0   \n",
       "2018-08-13 12:00:00   39.0   66.0  ...    98.0    82.0    78.0   115.0   \n",
       "2018-08-13 13:00:00   91.0   39.0  ...   135.0    98.0    82.0    78.0   \n",
       "2018-08-13 14:00:00  137.0   91.0  ...   118.0   135.0    98.0    82.0   \n",
       "2018-08-13 15:00:00  156.0  137.0  ...   185.0   118.0   135.0    98.0   \n",
       "\n",
       "                     lag_20  lag_21  lag_22  lag_23  lag_24  rolling_mean  \n",
       "datetime                                                                   \n",
       "2018-07-28 00:00:00   109.0   131.0   161.0   108.0   222.0         122.0  \n",
       "2018-07-28 01:00:00    64.0   109.0   131.0   161.0   108.0         192.0  \n",
       "2018-07-28 02:00:00    78.0    64.0   109.0   131.0   161.0         195.0  \n",
       "2018-07-28 03:00:00    44.0    78.0    64.0   109.0   131.0         145.0  \n",
       "2018-07-28 04:00:00    89.0    44.0    78.0    64.0   109.0         132.0  \n",
       "...                     ...     ...     ...     ...     ...           ...  \n",
       "2018-08-13 11:00:00   149.0   104.0   120.0   123.0    81.0         156.0  \n",
       "2018-08-13 12:00:00   153.0   149.0   104.0   120.0   123.0         144.0  \n",
       "2018-08-13 13:00:00   115.0   153.0   149.0   104.0   120.0          92.0  \n",
       "2018-08-13 14:00:00    78.0   115.0   153.0   149.0   104.0         119.0  \n",
       "2018-08-13 15:00:00    82.0    78.0   115.0   153.0   149.0         102.0  \n",
       "\n",
       "[400 rows x 29 columns]"
      ]
     },
     "execution_count": 22,
     "metadata": {},
     "output_type": "execute_result"
    }
   ],
   "source": [
    "# последний сплит\n",
    "train_2, test_2 = all_splits[2]\n",
    "X_train.iloc[test_2]"
   ]
  },
  {
   "cell_type": "code",
   "execution_count": 23,
   "metadata": {
    "scrolled": false
   },
   "outputs": [
    {
     "data": {
      "text/html": [
       "<div>\n",
       "<style scoped>\n",
       "    .dataframe tbody tr th:only-of-type {\n",
       "        vertical-align: middle;\n",
       "    }\n",
       "\n",
       "    .dataframe tbody tr th {\n",
       "        vertical-align: top;\n",
       "    }\n",
       "\n",
       "    .dataframe thead th {\n",
       "        text-align: right;\n",
       "    }\n",
       "</style>\n",
       "<table border=\"1\" class=\"dataframe\">\n",
       "  <thead>\n",
       "    <tr style=\"text-align: right;\">\n",
       "      <th></th>\n",
       "      <th>month</th>\n",
       "      <th>day</th>\n",
       "      <th>hour</th>\n",
       "      <th>dayofweek</th>\n",
       "      <th>lag_1</th>\n",
       "      <th>lag_2</th>\n",
       "      <th>lag_3</th>\n",
       "      <th>lag_4</th>\n",
       "      <th>lag_5</th>\n",
       "      <th>lag_6</th>\n",
       "      <th>...</th>\n",
       "      <th>lag_16</th>\n",
       "      <th>lag_17</th>\n",
       "      <th>lag_18</th>\n",
       "      <th>lag_19</th>\n",
       "      <th>lag_20</th>\n",
       "      <th>lag_21</th>\n",
       "      <th>lag_22</th>\n",
       "      <th>lag_23</th>\n",
       "      <th>lag_24</th>\n",
       "      <th>rolling_mean</th>\n",
       "    </tr>\n",
       "    <tr>\n",
       "      <th>datetime</th>\n",
       "      <th></th>\n",
       "      <th></th>\n",
       "      <th></th>\n",
       "      <th></th>\n",
       "      <th></th>\n",
       "      <th></th>\n",
       "      <th></th>\n",
       "      <th></th>\n",
       "      <th></th>\n",
       "      <th></th>\n",
       "      <th></th>\n",
       "      <th></th>\n",
       "      <th></th>\n",
       "      <th></th>\n",
       "      <th></th>\n",
       "      <th></th>\n",
       "      <th></th>\n",
       "      <th></th>\n",
       "      <th></th>\n",
       "      <th></th>\n",
       "      <th></th>\n",
       "    </tr>\n",
       "  </thead>\n",
       "  <tbody>\n",
       "    <tr>\n",
       "      <th>2018-03-02 00:00:00</th>\n",
       "      <td>3</td>\n",
       "      <td>2</td>\n",
       "      <td>0</td>\n",
       "      <td>4</td>\n",
       "      <td>58.0</td>\n",
       "      <td>113.0</td>\n",
       "      <td>66.0</td>\n",
       "      <td>61.0</td>\n",
       "      <td>45.0</td>\n",
       "      <td>73.0</td>\n",
       "      <td>...</td>\n",
       "      <td>34.0</td>\n",
       "      <td>15.0</td>\n",
       "      <td>12.0</td>\n",
       "      <td>6.0</td>\n",
       "      <td>43.0</td>\n",
       "      <td>66.0</td>\n",
       "      <td>71.0</td>\n",
       "      <td>85.0</td>\n",
       "      <td>124.0</td>\n",
       "      <td>58.0</td>\n",
       "    </tr>\n",
       "    <tr>\n",
       "      <th>2018-03-02 01:00:00</th>\n",
       "      <td>3</td>\n",
       "      <td>2</td>\n",
       "      <td>1</td>\n",
       "      <td>4</td>\n",
       "      <td>90.0</td>\n",
       "      <td>58.0</td>\n",
       "      <td>113.0</td>\n",
       "      <td>66.0</td>\n",
       "      <td>61.0</td>\n",
       "      <td>45.0</td>\n",
       "      <td>...</td>\n",
       "      <td>69.0</td>\n",
       "      <td>34.0</td>\n",
       "      <td>15.0</td>\n",
       "      <td>12.0</td>\n",
       "      <td>6.0</td>\n",
       "      <td>43.0</td>\n",
       "      <td>66.0</td>\n",
       "      <td>71.0</td>\n",
       "      <td>85.0</td>\n",
       "      <td>90.0</td>\n",
       "    </tr>\n",
       "    <tr>\n",
       "      <th>2018-03-02 02:00:00</th>\n",
       "      <td>3</td>\n",
       "      <td>2</td>\n",
       "      <td>2</td>\n",
       "      <td>4</td>\n",
       "      <td>120.0</td>\n",
       "      <td>90.0</td>\n",
       "      <td>58.0</td>\n",
       "      <td>113.0</td>\n",
       "      <td>66.0</td>\n",
       "      <td>61.0</td>\n",
       "      <td>...</td>\n",
       "      <td>64.0</td>\n",
       "      <td>69.0</td>\n",
       "      <td>34.0</td>\n",
       "      <td>15.0</td>\n",
       "      <td>12.0</td>\n",
       "      <td>6.0</td>\n",
       "      <td>43.0</td>\n",
       "      <td>66.0</td>\n",
       "      <td>71.0</td>\n",
       "      <td>120.0</td>\n",
       "    </tr>\n",
       "    <tr>\n",
       "      <th>2018-03-02 03:00:00</th>\n",
       "      <td>3</td>\n",
       "      <td>2</td>\n",
       "      <td>3</td>\n",
       "      <td>4</td>\n",
       "      <td>75.0</td>\n",
       "      <td>120.0</td>\n",
       "      <td>90.0</td>\n",
       "      <td>58.0</td>\n",
       "      <td>113.0</td>\n",
       "      <td>66.0</td>\n",
       "      <td>...</td>\n",
       "      <td>96.0</td>\n",
       "      <td>64.0</td>\n",
       "      <td>69.0</td>\n",
       "      <td>34.0</td>\n",
       "      <td>15.0</td>\n",
       "      <td>12.0</td>\n",
       "      <td>6.0</td>\n",
       "      <td>43.0</td>\n",
       "      <td>66.0</td>\n",
       "      <td>75.0</td>\n",
       "    </tr>\n",
       "    <tr>\n",
       "      <th>2018-03-02 04:00:00</th>\n",
       "      <td>3</td>\n",
       "      <td>2</td>\n",
       "      <td>4</td>\n",
       "      <td>4</td>\n",
       "      <td>64.0</td>\n",
       "      <td>75.0</td>\n",
       "      <td>120.0</td>\n",
       "      <td>90.0</td>\n",
       "      <td>58.0</td>\n",
       "      <td>113.0</td>\n",
       "      <td>...</td>\n",
       "      <td>30.0</td>\n",
       "      <td>96.0</td>\n",
       "      <td>64.0</td>\n",
       "      <td>69.0</td>\n",
       "      <td>34.0</td>\n",
       "      <td>15.0</td>\n",
       "      <td>12.0</td>\n",
       "      <td>6.0</td>\n",
       "      <td>43.0</td>\n",
       "      <td>64.0</td>\n",
       "    </tr>\n",
       "    <tr>\n",
       "      <th>...</th>\n",
       "      <td>...</td>\n",
       "      <td>...</td>\n",
       "      <td>...</td>\n",
       "      <td>...</td>\n",
       "      <td>...</td>\n",
       "      <td>...</td>\n",
       "      <td>...</td>\n",
       "      <td>...</td>\n",
       "      <td>...</td>\n",
       "      <td>...</td>\n",
       "      <td>...</td>\n",
       "      <td>...</td>\n",
       "      <td>...</td>\n",
       "      <td>...</td>\n",
       "      <td>...</td>\n",
       "      <td>...</td>\n",
       "      <td>...</td>\n",
       "      <td>...</td>\n",
       "      <td>...</td>\n",
       "      <td>...</td>\n",
       "      <td>...</td>\n",
       "    </tr>\n",
       "    <tr>\n",
       "      <th>2018-07-25 19:00:00</th>\n",
       "      <td>7</td>\n",
       "      <td>25</td>\n",
       "      <td>19</td>\n",
       "      <td>2</td>\n",
       "      <td>68.0</td>\n",
       "      <td>121.0</td>\n",
       "      <td>134.0</td>\n",
       "      <td>119.0</td>\n",
       "      <td>95.0</td>\n",
       "      <td>99.0</td>\n",
       "      <td>...</td>\n",
       "      <td>142.0</td>\n",
       "      <td>145.0</td>\n",
       "      <td>74.0</td>\n",
       "      <td>161.0</td>\n",
       "      <td>110.0</td>\n",
       "      <td>73.0</td>\n",
       "      <td>113.0</td>\n",
       "      <td>82.0</td>\n",
       "      <td>81.0</td>\n",
       "      <td>68.0</td>\n",
       "    </tr>\n",
       "    <tr>\n",
       "      <th>2018-07-25 20:00:00</th>\n",
       "      <td>7</td>\n",
       "      <td>25</td>\n",
       "      <td>20</td>\n",
       "      <td>2</td>\n",
       "      <td>137.0</td>\n",
       "      <td>68.0</td>\n",
       "      <td>121.0</td>\n",
       "      <td>134.0</td>\n",
       "      <td>119.0</td>\n",
       "      <td>95.0</td>\n",
       "      <td>...</td>\n",
       "      <td>124.0</td>\n",
       "      <td>142.0</td>\n",
       "      <td>145.0</td>\n",
       "      <td>74.0</td>\n",
       "      <td>161.0</td>\n",
       "      <td>110.0</td>\n",
       "      <td>73.0</td>\n",
       "      <td>113.0</td>\n",
       "      <td>82.0</td>\n",
       "      <td>137.0</td>\n",
       "    </tr>\n",
       "    <tr>\n",
       "      <th>2018-07-25 21:00:00</th>\n",
       "      <td>7</td>\n",
       "      <td>25</td>\n",
       "      <td>21</td>\n",
       "      <td>2</td>\n",
       "      <td>111.0</td>\n",
       "      <td>137.0</td>\n",
       "      <td>68.0</td>\n",
       "      <td>121.0</td>\n",
       "      <td>134.0</td>\n",
       "      <td>119.0</td>\n",
       "      <td>...</td>\n",
       "      <td>69.0</td>\n",
       "      <td>124.0</td>\n",
       "      <td>142.0</td>\n",
       "      <td>145.0</td>\n",
       "      <td>74.0</td>\n",
       "      <td>161.0</td>\n",
       "      <td>110.0</td>\n",
       "      <td>73.0</td>\n",
       "      <td>113.0</td>\n",
       "      <td>111.0</td>\n",
       "    </tr>\n",
       "    <tr>\n",
       "      <th>2018-07-25 22:00:00</th>\n",
       "      <td>7</td>\n",
       "      <td>25</td>\n",
       "      <td>22</td>\n",
       "      <td>2</td>\n",
       "      <td>110.0</td>\n",
       "      <td>111.0</td>\n",
       "      <td>137.0</td>\n",
       "      <td>68.0</td>\n",
       "      <td>121.0</td>\n",
       "      <td>134.0</td>\n",
       "      <td>...</td>\n",
       "      <td>65.0</td>\n",
       "      <td>69.0</td>\n",
       "      <td>124.0</td>\n",
       "      <td>142.0</td>\n",
       "      <td>145.0</td>\n",
       "      <td>74.0</td>\n",
       "      <td>161.0</td>\n",
       "      <td>110.0</td>\n",
       "      <td>73.0</td>\n",
       "      <td>110.0</td>\n",
       "    </tr>\n",
       "    <tr>\n",
       "      <th>2018-07-25 23:00:00</th>\n",
       "      <td>7</td>\n",
       "      <td>25</td>\n",
       "      <td>23</td>\n",
       "      <td>2</td>\n",
       "      <td>84.0</td>\n",
       "      <td>110.0</td>\n",
       "      <td>111.0</td>\n",
       "      <td>137.0</td>\n",
       "      <td>68.0</td>\n",
       "      <td>121.0</td>\n",
       "      <td>...</td>\n",
       "      <td>60.0</td>\n",
       "      <td>65.0</td>\n",
       "      <td>69.0</td>\n",
       "      <td>124.0</td>\n",
       "      <td>142.0</td>\n",
       "      <td>145.0</td>\n",
       "      <td>74.0</td>\n",
       "      <td>161.0</td>\n",
       "      <td>110.0</td>\n",
       "      <td>84.0</td>\n",
       "    </tr>\n",
       "  </tbody>\n",
       "</table>\n",
       "<p>3504 rows × 29 columns</p>\n",
       "</div>"
      ],
      "text/plain": [
       "                     month  day  hour  dayofweek  lag_1  lag_2  lag_3  lag_4  \\\n",
       "datetime                                                                       \n",
       "2018-03-02 00:00:00      3    2     0          4   58.0  113.0   66.0   61.0   \n",
       "2018-03-02 01:00:00      3    2     1          4   90.0   58.0  113.0   66.0   \n",
       "2018-03-02 02:00:00      3    2     2          4  120.0   90.0   58.0  113.0   \n",
       "2018-03-02 03:00:00      3    2     3          4   75.0  120.0   90.0   58.0   \n",
       "2018-03-02 04:00:00      3    2     4          4   64.0   75.0  120.0   90.0   \n",
       "...                    ...  ...   ...        ...    ...    ...    ...    ...   \n",
       "2018-07-25 19:00:00      7   25    19          2   68.0  121.0  134.0  119.0   \n",
       "2018-07-25 20:00:00      7   25    20          2  137.0   68.0  121.0  134.0   \n",
       "2018-07-25 21:00:00      7   25    21          2  111.0  137.0   68.0  121.0   \n",
       "2018-07-25 22:00:00      7   25    22          2  110.0  111.0  137.0   68.0   \n",
       "2018-07-25 23:00:00      7   25    23          2   84.0  110.0  111.0  137.0   \n",
       "\n",
       "                     lag_5  lag_6  ...  lag_16  lag_17  lag_18  lag_19  \\\n",
       "datetime                           ...                                   \n",
       "2018-03-02 00:00:00   45.0   73.0  ...    34.0    15.0    12.0     6.0   \n",
       "2018-03-02 01:00:00   61.0   45.0  ...    69.0    34.0    15.0    12.0   \n",
       "2018-03-02 02:00:00   66.0   61.0  ...    64.0    69.0    34.0    15.0   \n",
       "2018-03-02 03:00:00  113.0   66.0  ...    96.0    64.0    69.0    34.0   \n",
       "2018-03-02 04:00:00   58.0  113.0  ...    30.0    96.0    64.0    69.0   \n",
       "...                    ...    ...  ...     ...     ...     ...     ...   \n",
       "2018-07-25 19:00:00   95.0   99.0  ...   142.0   145.0    74.0   161.0   \n",
       "2018-07-25 20:00:00  119.0   95.0  ...   124.0   142.0   145.0    74.0   \n",
       "2018-07-25 21:00:00  134.0  119.0  ...    69.0   124.0   142.0   145.0   \n",
       "2018-07-25 22:00:00  121.0  134.0  ...    65.0    69.0   124.0   142.0   \n",
       "2018-07-25 23:00:00   68.0  121.0  ...    60.0    65.0    69.0   124.0   \n",
       "\n",
       "                     lag_20  lag_21  lag_22  lag_23  lag_24  rolling_mean  \n",
       "datetime                                                                   \n",
       "2018-03-02 00:00:00    43.0    66.0    71.0    85.0   124.0          58.0  \n",
       "2018-03-02 01:00:00     6.0    43.0    66.0    71.0    85.0          90.0  \n",
       "2018-03-02 02:00:00    12.0     6.0    43.0    66.0    71.0         120.0  \n",
       "2018-03-02 03:00:00    15.0    12.0     6.0    43.0    66.0          75.0  \n",
       "2018-03-02 04:00:00    34.0    15.0    12.0     6.0    43.0          64.0  \n",
       "...                     ...     ...     ...     ...     ...           ...  \n",
       "2018-07-25 19:00:00   110.0    73.0   113.0    82.0    81.0          68.0  \n",
       "2018-07-25 20:00:00   161.0   110.0    73.0   113.0    82.0         137.0  \n",
       "2018-07-25 21:00:00    74.0   161.0   110.0    73.0   113.0         111.0  \n",
       "2018-07-25 22:00:00   145.0    74.0   161.0   110.0    73.0         110.0  \n",
       "2018-07-25 23:00:00   142.0   145.0    74.0   161.0   110.0          84.0  \n",
       "\n",
       "[3504 rows x 29 columns]"
      ]
     },
     "execution_count": 23,
     "metadata": {},
     "output_type": "execute_result"
    }
   ],
   "source": [
    "X_train.iloc[train_2]"
   ]
  },
  {
   "cell_type": "markdown",
   "metadata": {},
   "source": [
    "Выборки готовы для обучения."
   ]
  },
  {
   "cell_type": "markdown",
   "metadata": {},
   "source": [
    "## Обучение"
   ]
  },
  {
   "cell_type": "code",
   "execution_count": 24,
   "metadata": {},
   "outputs": [],
   "source": [
    "def evaluate(model, X, y, cv):\n",
    "    cv_results = cross_validate(\n",
    "        model,\n",
    "        X,\n",
    "        y,\n",
    "        cv=cv,\n",
    "        scoring=[\"neg_root_mean_squared_error\"],\n",
    "        n_jobs=-1\n",
    "    )\n",
    "    rmse = -cv_results[\"test_neg_root_mean_squared_error\"]\n",
    "    return rmse.mean()"
   ]
  },
  {
   "cell_type": "markdown",
   "metadata": {},
   "source": [
    "### Линейный модели"
   ]
  },
  {
   "cell_type": "markdown",
   "metadata": {},
   "source": [
    "Качество линейных моделей будет зависит от кодировки данных. Возьмем одну линейную модель RidgeCV с встроенной кросс-валидацией. Закодируем признаки различными способами и сверим метрику RMSE."
   ]
  },
  {
   "cell_type": "markdown",
   "metadata": {},
   "source": [
    "#### День недели - категориальный признак"
   ]
  },
  {
   "cell_type": "code",
   "execution_count": 25,
   "metadata": {},
   "outputs": [],
   "source": [
    "# закодируем категориальный признак день недели\n",
    "ohe = OneHotEncoder(handle_unknown=\"ignore\", sparse=False)\n",
    "alphas = np.logspace(-6, 6, 25)\n",
    "categorical_columns = ['dayofweek']"
   ]
  },
  {
   "cell_type": "code",
   "execution_count": 26,
   "metadata": {},
   "outputs": [],
   "source": [
    "linear_pipeline = make_pipeline(\n",
    "    ColumnTransformer(\n",
    "        transformers=[\n",
    "            (\"categorical\", ohe, categorical_columns),\n",
    "        ],\n",
    "        remainder=MinMaxScaler(),\n",
    "    ),\n",
    "    RidgeCV(alphas=alphas),\n",
    ")"
   ]
  },
  {
   "cell_type": "code",
   "execution_count": 27,
   "metadata": {},
   "outputs": [
    {
     "name": "stdout",
     "output_type": "stream",
     "text": [
      "RMSE линейной модели с закодированными днями недели: 30.271\n"
     ]
    }
   ],
   "source": [
    "rmse_lin_week = evaluate(linear_pipeline, X_train, y_train, cv=ts_cv)\n",
    "print(f\"RMSE линейной модели с закодированными днями недели: {rmse_lin_week:.3f}\")"
   ]
  },
  {
   "cell_type": "markdown",
   "metadata": {},
   "source": [
    "####  Часы, дни недели и месяцы - категориальные признаки"
   ]
  },
  {
   "cell_type": "code",
   "execution_count": 28,
   "metadata": {},
   "outputs": [],
   "source": [
    "ohe_linear_pipeline = make_pipeline(\n",
    "    ColumnTransformer(\n",
    "        transformers=[\n",
    "            (\"categorical\", ohe, categorical_columns),\n",
    "            (\"one_hot_time\", ohe, [\"hour\", \"month\", \"day\"]),\n",
    "        ],\n",
    "        remainder=MinMaxScaler(),\n",
    "    ),\n",
    "    RidgeCV(alphas=alphas),\n",
    ")\n",
    "\n"
   ]
  },
  {
   "cell_type": "code",
   "execution_count": 29,
   "metadata": {},
   "outputs": [
    {
     "name": "stdout",
     "output_type": "stream",
     "text": [
      "RMSE линейной модели с закодированным временем: 31.637\n"
     ]
    }
   ],
   "source": [
    "rmse_lin_time = evaluate(ohe_linear_pipeline, X_train, y_train, cv=ts_cv)\n",
    "print(f\"RMSE линейной модели с закодированным временем: {rmse_lin_time:.3f}\")"
   ]
  },
  {
   "cell_type": "markdown",
   "metadata": {},
   "source": [
    "### Decision tree"
   ]
  },
  {
   "cell_type": "code",
   "execution_count": 30,
   "metadata": {},
   "outputs": [],
   "source": [
    "# оптимизируем гиперпараметры\n",
    "FIT_PARAMS = {\n",
    "    'max_depth': range(2, 21),\n",
    "    'min_samples_leaf': range(1, 6),\n",
    "    'min_samples_split': range(2, 6)   \n",
    "}\n",
    "\n",
    "dtr = DecisionTreeRegressor(random_state=42)"
   ]
  },
  {
   "cell_type": "code",
   "execution_count": 31,
   "metadata": {},
   "outputs": [
    {
     "name": "stdout",
     "output_type": "stream",
     "text": [
      "Значение RMSE решающего дерева: 24.668\n"
     ]
    }
   ],
   "source": [
    "search = RandomizedSearchCV(dtr, FIT_PARAMS, scoring='neg_mean_absolute_error', n_jobs=-1, cv=ts_cv)\n",
    "dtr_result = search.fit(X_train, y_train)\n",
    "best_params = dtr_result.best_params_\n",
    "dtr_rmse = -dtr_result.best_score_\n",
    "print(f'Значение RMSE решающего дерева: {dtr_rmse:.3f}')"
   ]
  },
  {
   "cell_type": "markdown",
   "metadata": {},
   "source": [
    "### Gradient Boosting "
   ]
  },
  {
   "cell_type": "code",
   "execution_count": 32,
   "metadata": {},
   "outputs": [],
   "source": [
    "# выберем гиперпараметры для оптимизации\n",
    "FIT_PARAMS = {\n",
    "    \"n_estimators\": range(100, 501, 25),\n",
    "    \"max_depth\": range(2, 21),\n",
    "    \"min_samples_split\": range(2, 6),\n",
    "    \"learning_rate\": [0.1, 0.2, 0.3] \n",
    "}"
   ]
  },
  {
   "cell_type": "code",
   "execution_count": 33,
   "metadata": {},
   "outputs": [
    {
     "name": "stdout",
     "output_type": "stream",
     "text": [
      "Значение RMSE решающего дерева: 21.454\n",
      "CPU times: user 4min 7s, sys: 327 ms, total: 4min 8s\n",
      "Wall time: 4min 8s\n"
     ]
    }
   ],
   "source": [
    "%%time\n",
    "gbr = GradientBoostingRegressor(random_state=42)\n",
    "search = RandomizedSearchCV(gbr, FIT_PARAMS, scoring='neg_mean_absolute_error', n_jobs=-1, cv=ts_cv)\n",
    "gbr_result = search.fit(X_train, y_train)\n",
    "best_params_gbr = gbr_result.best_params_\n",
    "gbr_rmse = -gbr_result.best_score_\n",
    "print(f'Значение RMSE решающего дерева: {gbr_rmse:.3f}')"
   ]
  },
  {
   "cell_type": "markdown",
   "metadata": {},
   "source": [
    "### Вывод "
   ]
  },
  {
   "cell_type": "code",
   "execution_count": 34,
   "metadata": {},
   "outputs": [],
   "source": [
    "data_metrics = {'Classifier': ['RidgeCV OHE weekday', 'RidgeCV OHE time', 'Decision Tree', 'Gradient Boostring'],\n",
    "                 'RMSE': [rmse_lin_week, rmse_lin_time, dtr_rmse, gbr_rmse]\n",
    "    }\n",
    "df = pd.DataFrame(data=data_metrics)"
   ]
  },
  {
   "cell_type": "code",
   "execution_count": 35,
   "metadata": {
    "scrolled": true
   },
   "outputs": [
    {
     "data": {
      "text/html": [
       "<div>\n",
       "<style scoped>\n",
       "    .dataframe tbody tr th:only-of-type {\n",
       "        vertical-align: middle;\n",
       "    }\n",
       "\n",
       "    .dataframe tbody tr th {\n",
       "        vertical-align: top;\n",
       "    }\n",
       "\n",
       "    .dataframe thead th {\n",
       "        text-align: right;\n",
       "    }\n",
       "</style>\n",
       "<table border=\"1\" class=\"dataframe\">\n",
       "  <thead>\n",
       "    <tr style=\"text-align: right;\">\n",
       "      <th></th>\n",
       "      <th>Classifier</th>\n",
       "      <th>RMSE</th>\n",
       "    </tr>\n",
       "  </thead>\n",
       "  <tbody>\n",
       "    <tr>\n",
       "      <th>0</th>\n",
       "      <td>RidgeCV OHE weekday</td>\n",
       "      <td>30.270534</td>\n",
       "    </tr>\n",
       "    <tr>\n",
       "      <th>1</th>\n",
       "      <td>RidgeCV OHE time</td>\n",
       "      <td>31.637121</td>\n",
       "    </tr>\n",
       "    <tr>\n",
       "      <th>2</th>\n",
       "      <td>Decision Tree</td>\n",
       "      <td>24.667609</td>\n",
       "    </tr>\n",
       "    <tr>\n",
       "      <th>3</th>\n",
       "      <td>Gradient Boostring</td>\n",
       "      <td>21.453797</td>\n",
       "    </tr>\n",
       "  </tbody>\n",
       "</table>\n",
       "</div>"
      ],
      "text/plain": [
       "            Classifier       RMSE\n",
       "0  RidgeCV OHE weekday  30.270534\n",
       "1     RidgeCV OHE time  31.637121\n",
       "2        Decision Tree  24.667609\n",
       "3   Gradient Boostring  21.453797"
      ]
     },
     "execution_count": 35,
     "metadata": {},
     "output_type": "execute_result"
    }
   ],
   "source": [
    "df"
   ]
  },
  {
   "cell_type": "markdown",
   "metadata": {},
   "source": [
    "Лучшее значение метрики показала модель Gradient Boosting"
   ]
  },
  {
   "cell_type": "markdown",
   "metadata": {},
   "source": [
    "## Тестирование"
   ]
  },
  {
   "cell_type": "code",
   "execution_count": 36,
   "metadata": {},
   "outputs": [
    {
     "name": "stdout",
     "output_type": "stream",
     "text": [
      "Значение метрики на тестовой выборке: 42.912\n"
     ]
    }
   ],
   "source": [
    "gbr_test = GradientBoostingRegressor(**gbr_result.best_params_, random_state=42)\n",
    "gbr_test.fit(X_train, y_train)\n",
    "y_pred  = gbr_test.predict(X_test)\n",
    "print('Значение метрики на тестовой выборке:', mean_squared_error(y_test, y_pred, squared=False).round(3))"
   ]
  },
  {
   "cell_type": "markdown",
   "metadata": {},
   "source": [
    "На тесте получили требуемое значение метрики. Сравним предсказанные значения модели и реальные на графике.\n",
    "\n",
    "Сравним выборки TimeSeriesSplit, а потом тестовую выборку. Для этого напишем функцию с обучением модели и предсказанием. Так как колебания в заказах происходят в течение суток рассмотрим промежуток в 24 часа."
   ]
  },
  {
   "cell_type": "code",
   "execution_count": 37,
   "metadata": {},
   "outputs": [],
   "source": [
    "def gbr(X_train, y_train, X_test, y_test):\n",
    "    gbr_test.fit(X_train, y_train)\n",
    "    gbr_test_pred = gbr_test.predict(X_test)\n",
    "    \n",
    "    last_hours = slice(-24, None) # сезонность в сутках\n",
    "    fig, ax = plt.subplots(figsize=(12, 4))\n",
    "    fig.suptitle(\"Предсказания Gradient Boosting\")\n",
    "    ax.plot(y_test.values[last_hours],\n",
    "    \"x-\",\n",
    "    alpha=0.2,\n",
    "    label=\"Реальные значения\",\n",
    "    color=\"black\",)\n",
    "    ax.plot(gbr_test_pred[last_hours], \"x-\", label=\"предсказания Gradient Boosting\")\n",
    "    _ = ax.legend()"
   ]
  },
  {
   "cell_type": "code",
   "execution_count": 38,
   "metadata": {
    "scrolled": true
   },
   "outputs": [
    {
     "data": {
      "image/png": "[encoded data removed]",
      "text/plain": [
       "<Figure size 864x288 with 1 Axes>"
      ]
     },
     "metadata": {
      "needs_background": "light"
     },
     "output_type": "display_data"
    }
   ],
   "source": [
    "gbr(X_train.iloc[train_0], y_train.iloc[train_0], X_train.iloc[test_0], y_train.iloc[test_0])"
   ]
  },
  {
   "cell_type": "code",
   "execution_count": 39,
   "metadata": {},
   "outputs": [
    {
     "data": {
      "image/png": "[encoded data removed]",
      "text/plain": [
       "<Figure size 864x288 with 1 Axes>"
      ]
     },
     "metadata": {
      "needs_background": "light"
     },
     "output_type": "display_data"
    }
   ],
   "source": [
    "gbr(X_train.iloc[train_1], y_train.iloc[train_1], X_train.iloc[test_1], y_train.iloc[test_1])"
   ]
  },
  {
   "cell_type": "code",
   "execution_count": 40,
   "metadata": {},
   "outputs": [
    {
     "data": {
      "image/png": "[encoded data removed]",
      "text/plain": [
       "<Figure size 864x288 with 1 Axes>"
      ]
     },
     "metadata": {
      "needs_background": "light"
     },
     "output_type": "display_data"
    }
   ],
   "source": [
    "gbr(X_train.iloc[train_2], y_train.iloc[train_2], X_train.iloc[test_2], y_train.iloc[test_2])"
   ]
  },
  {
   "cell_type": "code",
   "execution_count": 41,
   "metadata": {
    "scrolled": false
   },
   "outputs": [
    {
     "data": {
      "image/png": "[encoded data removed]",
      "text/plain": [
       "<Figure size 864x288 with 1 Axes>"
      ]
     },
     "metadata": {
      "needs_background": "light"
     },
     "output_type": "display_data"
    }
   ],
   "source": [
    "gbr(X_train, y_train, X_test, y_test)"
   ]
  },
  {
   "cell_type": "markdown",
   "metadata": {},
   "source": [
    "Метрика удовлетворяет требованиям, хотя и заметны ошибочные предсказания. Чтобы улучшить метрику можно проделать следующие шаги:\n",
    "1. Улучшить подбор гиперпараметров для модели.\n",
    "2. Ввести новую категориальную переменную, которая обозначает выходной ли день или рабочий.\n",
    "3. Ввести новую категориальную переменную, которая обозначает праздничный ли день или нет.\n",
    "4. Если были рекламные кампании, то необходимо учесть и их влияние.\n",
    "5. Промокоды, скидки в определенное время и т.д."
   ]
  },
  {
   "cell_type": "markdown",
   "metadata": {},
   "source": [
    "## Итог"
   ]
  },
  {
   "cell_type": "markdown",
   "metadata": {},
   "source": [
    "В ходе исследования проанализировали предоставленные данные количества заказаов такси в аэропортах с 1 марта по 31 августа 2018 года. Временной ряд нестационарный, что усложняет задачу предсказывания. Проанализировали тренд и сезонность. Количество заказов каждый месяц возрастало и в агусте достигло пика. Количество заказов так же зависило от времени суток (ночью пик заказов). Разделили выборки с помощью `TimeSeriesSplit` и три модели:\n",
    "\n",
    "1. RidgeCV.\n",
    "2. Decision Tree.\n",
    "3. Gradient Boosting.\n",
    "\n",
    "Для модели `RidgeCV` приготовили две выборки с разным кодированием \"категориальных переменных\". Для первого случая учитывали, что только день недели является категориальным, для второго, что месяц, день недели, день и время являются категориальными. Во втором случае RMSE результат лучше, чем в первом.\n",
    "\n",
    "Для моделей `Decision tree` и `Gradient Boosting` воспользовались инструментом RandomizedSearchCV и подобрали оптимальные гиперпараметры. \n",
    "\n",
    "Лучший результат на тренировочной выборке у `Gradient Boosting`. На тестовой значение метрики RMSE = 41.89."
   ]
  }
 ],
 "metadata": {
  "ExecuteTimeLog": [
   {
    "duration": 379,
    "start_time": "2023-07-10T19:33:04.594Z"
   },
   {
    "duration": 120,
    "start_time": "2023-07-10T19:33:19.991Z"
   },
   {
    "duration": 107,
    "start_time": "2023-07-10T19:33:26.200Z"
   },
   {
    "duration": 110,
    "start_time": "2023-07-10T19:33:41.540Z"
   },
   {
    "duration": 109,
    "start_time": "2023-07-10T19:33:46.754Z"
   },
   {
    "duration": 66,
    "start_time": "2023-07-10T19:41:37.969Z"
   },
   {
    "duration": 137,
    "start_time": "2023-07-10T19:41:55.559Z"
   },
   {
    "duration": 13,
    "start_time": "2023-07-10T19:41:58.147Z"
   },
   {
    "duration": 46,
    "start_time": "2023-07-10T19:42:43.603Z"
   },
   {
    "duration": 9,
    "start_time": "2023-07-10T19:42:44.695Z"
   },
   {
    "duration": 7,
    "start_time": "2023-07-10T19:42:59.172Z"
   },
   {
    "duration": 10,
    "start_time": "2023-07-10T19:43:18.162Z"
   },
   {
    "duration": 44,
    "start_time": "2023-07-10T19:44:01.942Z"
   },
   {
    "duration": 10,
    "start_time": "2023-07-10T19:44:04.443Z"
   },
   {
    "duration": 41,
    "start_time": "2023-07-10T19:44:15.650Z"
   },
   {
    "duration": 7,
    "start_time": "2023-07-10T19:44:15.891Z"
   },
   {
    "duration": 22,
    "start_time": "2023-07-10T19:44:16.272Z"
   },
   {
    "duration": 7,
    "start_time": "2023-07-10T19:44:24.338Z"
   },
   {
    "duration": 10,
    "start_time": "2023-07-10T19:44:45.817Z"
   },
   {
    "duration": 10,
    "start_time": "2023-07-10T19:44:54.892Z"
   },
   {
    "duration": 3,
    "start_time": "2023-07-10T19:49:41.192Z"
   },
   {
    "duration": 908,
    "start_time": "2023-07-10T19:50:42.370Z"
   },
   {
    "duration": 4,
    "start_time": "2023-07-10T19:52:36.141Z"
   },
   {
    "duration": 4,
    "start_time": "2023-07-10T19:52:46.546Z"
   },
   {
    "duration": 4,
    "start_time": "2023-07-10T19:53:27.913Z"
   },
   {
    "duration": 5,
    "start_time": "2023-07-10T19:53:35.439Z"
   },
   {
    "duration": 12,
    "start_time": "2023-07-10T19:54:02.402Z"
   },
   {
    "duration": 234,
    "start_time": "2023-07-10T19:56:27.797Z"
   },
   {
    "duration": 199,
    "start_time": "2023-07-10T19:56:34.069Z"
   },
   {
    "duration": 166,
    "start_time": "2023-07-10T20:00:24.838Z"
   },
   {
    "duration": 121,
    "start_time": "2023-07-10T20:00:38.110Z"
   },
   {
    "duration": 137,
    "start_time": "2023-07-10T20:00:52.911Z"
   },
   {
    "duration": 3394,
    "start_time": "2023-07-10T20:01:01.304Z"
   },
   {
    "duration": 547,
    "start_time": "2023-07-10T20:02:14.041Z"
   },
   {
    "duration": 506,
    "start_time": "2023-07-10T20:02:18.833Z"
   },
   {
    "duration": 463,
    "start_time": "2023-07-10T20:03:01.299Z"
   },
   {
    "duration": 566,
    "start_time": "2023-07-10T20:03:33.711Z"
   },
   {
    "duration": 524,
    "start_time": "2023-07-10T20:03:45.012Z"
   },
   {
    "duration": 10,
    "start_time": "2023-07-10T20:13:14.070Z"
   },
   {
    "duration": 5,
    "start_time": "2023-07-10T20:13:17.106Z"
   },
   {
    "duration": 507,
    "start_time": "2023-07-10T20:13:17.826Z"
   },
   {
    "duration": 3,
    "start_time": "2023-07-10T20:14:20.905Z"
   },
   {
    "duration": 161,
    "start_time": "2023-07-10T20:14:32.631Z"
   },
   {
    "duration": 4,
    "start_time": "2023-07-10T20:14:45.570Z"
   },
   {
    "duration": 7,
    "start_time": "2023-07-10T20:15:07.001Z"
   },
   {
    "duration": 15,
    "start_time": "2023-07-10T20:15:07.372Z"
   },
   {
    "duration": 294,
    "start_time": "2023-07-10T20:15:10.472Z"
   },
   {
    "duration": 8,
    "start_time": "2023-07-10T20:15:37.349Z"
   },
   {
    "duration": 8,
    "start_time": "2023-07-10T20:15:37.599Z"
   },
   {
    "duration": 196,
    "start_time": "2023-07-10T20:15:42.530Z"
   },
   {
    "duration": 6,
    "start_time": "2023-07-10T20:15:46.569Z"
   },
   {
    "duration": 209,
    "start_time": "2023-07-10T20:15:46.769Z"
   },
   {
    "duration": 6,
    "start_time": "2023-07-10T20:15:55.699Z"
   },
   {
    "duration": 226,
    "start_time": "2023-07-10T20:15:56.000Z"
   },
   {
    "duration": 26,
    "start_time": "2023-07-10T20:36:27.441Z"
   },
   {
    "duration": 9,
    "start_time": "2023-07-10T20:38:21.520Z"
   },
   {
    "duration": 691,
    "start_time": "2023-07-10T20:38:46.462Z"
   },
   {
    "duration": 837,
    "start_time": "2023-07-10T20:40:39.032Z"
   },
   {
    "duration": 25,
    "start_time": "2023-07-10T20:40:49.078Z"
   },
   {
    "duration": 16,
    "start_time": "2023-07-10T20:41:00.430Z"
   },
   {
    "duration": 881,
    "start_time": "2023-07-10T20:41:07.210Z"
   },
   {
    "duration": 178,
    "start_time": "2023-07-10T20:52:40.205Z"
   },
   {
    "duration": 177,
    "start_time": "2023-07-10T20:52:57.013Z"
   },
   {
    "duration": 298,
    "start_time": "2023-07-10T20:54:38.934Z"
   },
   {
    "duration": 256,
    "start_time": "2023-07-10T20:54:41.931Z"
   },
   {
    "duration": 277,
    "start_time": "2023-07-10T20:55:04.349Z"
   },
   {
    "duration": 267,
    "start_time": "2023-07-10T20:56:30.629Z"
   },
   {
    "duration": 26,
    "start_time": "2023-07-10T21:07:47.205Z"
   },
   {
    "duration": 3232,
    "start_time": "2023-07-10T21:08:23.329Z"
   },
   {
    "duration": 13,
    "start_time": "2023-07-10T21:09:02.670Z"
   },
   {
    "duration": 1375,
    "start_time": "2023-07-10T21:09:08.793Z"
   },
   {
    "duration": 10,
    "start_time": "2023-07-10T21:11:33.788Z"
   },
   {
    "duration": 254,
    "start_time": "2023-07-10T21:12:39.226Z"
   },
   {
    "duration": 347,
    "start_time": "2023-07-10T21:12:49.830Z"
   },
   {
    "duration": 238,
    "start_time": "2023-07-10T21:13:31.151Z"
   },
   {
    "duration": 317,
    "start_time": "2023-07-10T21:15:39.282Z"
   },
   {
    "duration": 1350,
    "start_time": "2023-07-10T21:18:43.721Z"
   },
   {
    "duration": 52,
    "start_time": "2023-07-10T21:18:45.074Z"
   },
   {
    "duration": 16,
    "start_time": "2023-07-10T21:18:45.128Z"
   },
   {
    "duration": 58,
    "start_time": "2023-07-10T21:18:45.147Z"
   },
   {
    "duration": 22,
    "start_time": "2023-07-10T21:18:45.208Z"
   },
   {
    "duration": 17,
    "start_time": "2023-07-10T21:18:45.232Z"
   },
   {
    "duration": 43,
    "start_time": "2023-07-10T21:18:45.251Z"
   },
   {
    "duration": 40,
    "start_time": "2023-07-10T21:18:45.296Z"
   },
   {
    "duration": 833,
    "start_time": "2023-07-10T21:18:45.338Z"
   },
   {
    "duration": 13,
    "start_time": "2023-07-10T21:18:46.173Z"
   },
   {
    "duration": 833,
    "start_time": "2023-07-10T21:18:46.188Z"
   },
   {
    "duration": 312,
    "start_time": "2023-07-10T21:18:47.023Z"
   },
   {
    "duration": 1551,
    "start_time": "2023-07-10T21:18:47.337Z"
   },
   {
    "duration": 253,
    "start_time": "2023-07-10T21:19:15.294Z"
   },
   {
    "duration": 2110,
    "start_time": "2023-07-10T21:19:22.402Z"
   },
   {
    "duration": 196,
    "start_time": "2023-07-10T21:19:28.190Z"
   },
   {
    "duration": 16,
    "start_time": "2023-07-10T21:19:52.387Z"
   },
   {
    "duration": 917,
    "start_time": "2023-07-10T21:19:52.841Z"
   },
   {
    "duration": 193,
    "start_time": "2023-07-10T21:20:05.820Z"
   },
   {
    "duration": 218,
    "start_time": "2023-07-10T21:21:57.388Z"
   },
   {
    "duration": 219,
    "start_time": "2023-07-10T21:22:04.290Z"
   },
   {
    "duration": 201,
    "start_time": "2023-07-10T21:22:10.020Z"
   },
   {
    "duration": 360,
    "start_time": "2023-07-10T21:22:27.077Z"
   },
   {
    "duration": 1671,
    "start_time": "2023-07-10T21:23:19.691Z"
   },
   {
    "duration": 42,
    "start_time": "2023-07-10T21:31:17.228Z"
   },
   {
    "duration": 14,
    "start_time": "2023-07-10T21:31:17.691Z"
   },
   {
    "duration": 44,
    "start_time": "2023-07-10T21:31:30.263Z"
   },
   {
    "duration": 12,
    "start_time": "2023-07-10T21:31:31.321Z"
   },
   {
    "duration": 1268,
    "start_time": "2023-07-10T21:32:25.494Z"
   },
   {
    "duration": 1748,
    "start_time": "2023-07-11T08:51:25.538Z"
   },
   {
    "duration": 163,
    "start_time": "2023-07-11T08:51:27.299Z"
   },
   {
    "duration": 34,
    "start_time": "2023-07-11T08:51:27.465Z"
   },
   {
    "duration": 43,
    "start_time": "2023-07-11T08:51:27.501Z"
   },
   {
    "duration": 18,
    "start_time": "2023-07-11T08:51:27.547Z"
   },
   {
    "duration": 40,
    "start_time": "2023-07-11T08:51:27.566Z"
   },
   {
    "duration": 14,
    "start_time": "2023-07-11T08:51:27.611Z"
   },
   {
    "duration": 9,
    "start_time": "2023-07-11T08:51:27.627Z"
   },
   {
    "duration": 799,
    "start_time": "2023-07-11T08:51:27.639Z"
   },
   {
    "duration": 28,
    "start_time": "2023-07-11T08:51:28.441Z"
   },
   {
    "duration": 1191,
    "start_time": "2023-07-11T08:51:28.472Z"
   },
   {
    "duration": 252,
    "start_time": "2023-07-11T08:51:29.676Z"
   },
   {
    "duration": 223,
    "start_time": "2023-07-11T09:07:07.807Z"
   },
   {
    "duration": 280,
    "start_time": "2023-07-11T09:07:17.206Z"
   },
   {
    "duration": 244,
    "start_time": "2023-07-11T09:07:28.244Z"
   },
   {
    "duration": 241,
    "start_time": "2023-07-11T09:07:34.296Z"
   },
   {
    "duration": 271,
    "start_time": "2023-07-11T09:07:42.308Z"
   },
   {
    "duration": 246,
    "start_time": "2023-07-11T09:07:50.136Z"
   },
   {
    "duration": 450,
    "start_time": "2023-07-11T09:12:50.397Z"
   },
   {
    "duration": 446,
    "start_time": "2023-07-11T09:13:03.992Z"
   },
   {
    "duration": 17,
    "start_time": "2023-07-11T09:28:02.664Z"
   },
   {
    "duration": 20,
    "start_time": "2023-07-11T09:28:10.007Z"
   },
   {
    "duration": 3,
    "start_time": "2023-07-11T09:28:14.916Z"
   },
   {
    "duration": 18,
    "start_time": "2023-07-11T09:28:29.421Z"
   },
   {
    "duration": 34,
    "start_time": "2023-07-11T09:28:30.901Z"
   },
   {
    "duration": 6,
    "start_time": "2023-07-11T09:29:07.745Z"
   },
   {
    "duration": 4,
    "start_time": "2023-07-11T09:29:07.997Z"
   },
   {
    "duration": 15,
    "start_time": "2023-07-11T09:29:09.006Z"
   },
   {
    "duration": 30,
    "start_time": "2023-07-11T09:29:10.000Z"
   },
   {
    "duration": 5,
    "start_time": "2023-07-11T09:29:18.658Z"
   },
   {
    "duration": 3,
    "start_time": "2023-07-11T09:29:19.046Z"
   },
   {
    "duration": 19,
    "start_time": "2023-07-11T09:29:19.410Z"
   },
   {
    "duration": 31,
    "start_time": "2023-07-11T09:29:19.754Z"
   },
   {
    "duration": 10,
    "start_time": "2023-07-11T09:31:09.964Z"
   },
   {
    "duration": 4,
    "start_time": "2023-07-11T09:31:10.211Z"
   },
   {
    "duration": 20,
    "start_time": "2023-07-11T09:31:10.410Z"
   },
   {
    "duration": 32,
    "start_time": "2023-07-11T09:31:10.600Z"
   },
   {
    "duration": 8,
    "start_time": "2023-07-11T09:31:19.008Z"
   },
   {
    "duration": 4,
    "start_time": "2023-07-11T09:31:19.227Z"
   },
   {
    "duration": 24,
    "start_time": "2023-07-11T09:31:19.405Z"
   },
   {
    "duration": 25,
    "start_time": "2023-07-11T09:31:19.626Z"
   },
   {
    "duration": 22,
    "start_time": "2023-07-11T09:33:04.749Z"
   },
   {
    "duration": 42,
    "start_time": "2023-07-11T09:33:05.013Z"
   },
   {
    "duration": 569,
    "start_time": "2023-07-11T09:33:31.810Z"
   },
   {
    "duration": 6,
    "start_time": "2023-07-11T09:37:30.208Z"
   },
   {
    "duration": 6,
    "start_time": "2023-07-11T09:45:21.638Z"
   },
   {
    "duration": 5,
    "start_time": "2023-07-11T09:53:12.848Z"
   },
   {
    "duration": 5,
    "start_time": "2023-07-11T09:53:27.993Z"
   },
   {
    "duration": 6,
    "start_time": "2023-07-11T09:54:13.259Z"
   },
   {
    "duration": 4,
    "start_time": "2023-07-11T09:54:56.996Z"
   },
   {
    "duration": 5,
    "start_time": "2023-07-11T09:55:13.235Z"
   },
   {
    "duration": 203,
    "start_time": "2023-07-11T09:55:37.738Z"
   },
   {
    "duration": 25,
    "start_time": "2023-07-11T09:57:01.728Z"
   },
   {
    "duration": 11,
    "start_time": "2023-07-11T09:58:08.917Z"
   },
   {
    "duration": 5,
    "start_time": "2023-07-11T09:58:17.000Z"
   },
   {
    "duration": 7,
    "start_time": "2023-07-11T09:58:17.204Z"
   },
   {
    "duration": 27,
    "start_time": "2023-07-11T09:58:18.904Z"
   },
   {
    "duration": 6,
    "start_time": "2023-07-11T09:58:30.429Z"
   },
   {
    "duration": 7,
    "start_time": "2023-07-11T09:58:31.234Z"
   },
   {
    "duration": 20,
    "start_time": "2023-07-11T09:58:31.424Z"
   },
   {
    "duration": 4,
    "start_time": "2023-07-11T09:58:34.135Z"
   },
   {
    "duration": 6,
    "start_time": "2023-07-11T09:58:34.336Z"
   },
   {
    "duration": 15,
    "start_time": "2023-07-11T09:58:34.504Z"
   },
   {
    "duration": 4,
    "start_time": "2023-07-11T09:59:13.347Z"
   },
   {
    "duration": 5,
    "start_time": "2023-07-11T09:59:13.809Z"
   },
   {
    "duration": 6,
    "start_time": "2023-07-11T09:59:14.109Z"
   },
   {
    "duration": 6,
    "start_time": "2023-07-11T09:59:19.155Z"
   },
   {
    "duration": 13,
    "start_time": "2023-07-11T09:59:23.794Z"
   },
   {
    "duration": 30,
    "start_time": "2023-07-11T09:59:41.217Z"
   },
   {
    "duration": 24,
    "start_time": "2023-07-11T10:00:46.526Z"
   },
   {
    "duration": 17,
    "start_time": "2023-07-11T10:01:48.808Z"
   },
   {
    "duration": 16,
    "start_time": "2023-07-11T10:01:59.910Z"
   },
   {
    "duration": 25,
    "start_time": "2023-07-11T10:02:05.541Z"
   },
   {
    "duration": 58,
    "start_time": "2023-07-11T10:02:14.668Z"
   },
   {
    "duration": 5,
    "start_time": "2023-07-11T10:04:14.749Z"
   },
   {
    "duration": 7,
    "start_time": "2023-07-11T10:04:32.334Z"
   },
   {
    "duration": 6,
    "start_time": "2023-07-11T10:04:32.890Z"
   },
   {
    "duration": 40,
    "start_time": "2023-07-11T10:04:33.123Z"
   },
   {
    "duration": 50,
    "start_time": "2023-07-11T10:04:33.604Z"
   },
   {
    "duration": 39,
    "start_time": "2023-07-11T10:05:48.116Z"
   },
   {
    "duration": 52,
    "start_time": "2023-07-11T10:05:48.357Z"
   },
   {
    "duration": 25,
    "start_time": "2023-07-11T10:05:49.034Z"
   },
   {
    "duration": 16,
    "start_time": "2023-07-11T10:06:39.913Z"
   },
   {
    "duration": 47,
    "start_time": "2023-07-11T10:06:41.896Z"
   },
   {
    "duration": 4,
    "start_time": "2023-07-11T10:07:43.856Z"
   },
   {
    "duration": 6,
    "start_time": "2023-07-11T10:07:44.722Z"
   },
   {
    "duration": 45,
    "start_time": "2023-07-11T10:07:45.149Z"
   },
   {
    "duration": 37,
    "start_time": "2023-07-11T10:07:45.712Z"
   },
   {
    "duration": 36,
    "start_time": "2023-07-11T10:07:48.100Z"
   },
   {
    "duration": 41,
    "start_time": "2023-07-11T10:07:49.933Z"
   },
   {
    "duration": 5,
    "start_time": "2023-07-11T10:08:02.530Z"
   },
   {
    "duration": 5,
    "start_time": "2023-07-11T10:08:03.321Z"
   },
   {
    "duration": 30,
    "start_time": "2023-07-11T10:08:03.710Z"
   },
   {
    "duration": 37,
    "start_time": "2023-07-11T10:08:06.792Z"
   },
   {
    "duration": 32,
    "start_time": "2023-07-11T10:08:12.514Z"
   },
   {
    "duration": 37,
    "start_time": "2023-07-11T10:08:15.505Z"
   },
   {
    "duration": 77,
    "start_time": "2023-07-11T10:11:36.204Z"
   },
   {
    "duration": 5564,
    "start_time": "2023-07-11T10:12:08.751Z"
   },
   {
    "duration": 25,
    "start_time": "2023-07-11T10:12:21.036Z"
   },
   {
    "duration": 2938,
    "start_time": "2023-07-11T10:13:37.757Z"
   },
   {
    "duration": 21,
    "start_time": "2023-07-11T10:13:48.609Z"
   },
   {
    "duration": 2153,
    "start_time": "2023-07-11T10:13:58.541Z"
   },
   {
    "duration": 2909,
    "start_time": "2023-07-11T10:14:02.508Z"
   },
   {
    "duration": 20,
    "start_time": "2023-07-11T10:14:05.419Z"
   },
   {
    "duration": 2675,
    "start_time": "2023-07-11T10:14:08.431Z"
   },
   {
    "duration": 22,
    "start_time": "2023-07-11T10:14:11.850Z"
   },
   {
    "duration": 20,
    "start_time": "2023-07-11T10:17:35.315Z"
   },
   {
    "duration": 7,
    "start_time": "2023-07-11T10:20:44.334Z"
   },
   {
    "duration": 22,
    "start_time": "2023-07-11T10:21:56.809Z"
   },
   {
    "duration": 2305,
    "start_time": "2023-07-11T10:22:13.742Z"
   },
   {
    "duration": 77,
    "start_time": "2023-07-11T10:22:16.051Z"
   },
   {
    "duration": 16,
    "start_time": "2023-07-11T10:22:16.131Z"
   },
   {
    "duration": 45,
    "start_time": "2023-07-11T10:22:16.150Z"
   },
   {
    "duration": 18,
    "start_time": "2023-07-11T10:22:16.200Z"
   },
   {
    "duration": 19,
    "start_time": "2023-07-11T10:22:16.220Z"
   },
   {
    "duration": 13,
    "start_time": "2023-07-11T10:22:16.241Z"
   },
   {
    "duration": 19,
    "start_time": "2023-07-11T10:22:16.256Z"
   },
   {
    "duration": 1111,
    "start_time": "2023-07-11T10:22:16.278Z"
   },
   {
    "duration": 24,
    "start_time": "2023-07-11T10:22:17.391Z"
   },
   {
    "duration": 1257,
    "start_time": "2023-07-11T10:22:17.418Z"
   },
   {
    "duration": 311,
    "start_time": "2023-07-11T10:22:18.684Z"
   },
   {
    "duration": 327,
    "start_time": "2023-07-11T10:22:19.002Z"
   },
   {
    "duration": 14,
    "start_time": "2023-07-11T10:22:19.338Z"
   },
   {
    "duration": 27,
    "start_time": "2023-07-11T10:22:19.354Z"
   },
   {
    "duration": 45,
    "start_time": "2023-07-11T10:22:19.396Z"
   },
   {
    "duration": 6,
    "start_time": "2023-07-11T10:22:19.442Z"
   },
   {
    "duration": 9,
    "start_time": "2023-07-11T10:22:19.449Z"
   },
   {
    "duration": 5,
    "start_time": "2023-07-11T10:22:19.463Z"
   },
   {
    "duration": 72,
    "start_time": "2023-07-11T10:22:19.470Z"
   },
   {
    "duration": 30,
    "start_time": "2023-07-11T10:22:19.546Z"
   },
   {
    "duration": 31,
    "start_time": "2023-07-11T10:22:19.578Z"
   },
   {
    "duration": 28,
    "start_time": "2023-07-11T10:22:19.612Z"
   },
   {
    "duration": 7,
    "start_time": "2023-07-11T10:22:19.642Z"
   },
   {
    "duration": 86226,
    "start_time": "2023-07-11T10:22:19.651Z"
   },
   {
    "duration": 597618,
    "start_time": "2023-07-11T10:24:00.117Z"
   },
   {
    "duration": 1076713,
    "start_time": "2023-07-11T10:34:19.517Z"
   },
   {
    "duration": 30,
    "start_time": "2023-07-11T10:52:16.233Z"
   },
   {
    "duration": 4,
    "start_time": "2023-07-11T10:52:28.314Z"
   },
   {
    "duration": 31,
    "start_time": "2023-07-11T10:52:38.400Z"
   },
   {
    "duration": 30,
    "start_time": "2023-07-11T10:53:02.232Z"
   },
   {
    "duration": 6,
    "start_time": "2023-07-11T11:07:40.301Z"
   },
   {
    "duration": 4,
    "start_time": "2023-07-11T11:07:49.629Z"
   },
   {
    "duration": 5,
    "start_time": "2023-07-11T11:07:50.208Z"
   },
   {
    "duration": 36,
    "start_time": "2023-07-11T11:07:50.239Z"
   },
   {
    "duration": 38,
    "start_time": "2023-07-11T11:07:50.282Z"
   },
   {
    "duration": 23,
    "start_time": "2023-07-11T11:07:50.323Z"
   },
   {
    "duration": 115,
    "start_time": "2023-07-11T11:07:50.348Z"
   },
   {
    "duration": 84,
    "start_time": "2023-07-11T11:07:50.466Z"
   },
   {
    "duration": 64,
    "start_time": "2023-07-11T11:07:50.552Z"
   },
   {
    "duration": 52,
    "start_time": "2023-07-11T11:07:50.618Z"
   },
   {
    "duration": 30,
    "start_time": "2023-07-11T11:07:56.510Z"
   },
   {
    "duration": 10,
    "start_time": "2023-07-11T11:08:53.014Z"
   },
   {
    "duration": 37,
    "start_time": "2023-07-11T11:08:54.162Z"
   },
   {
    "duration": 10,
    "start_time": "2023-07-11T11:09:24.512Z"
   },
   {
    "duration": 17,
    "start_time": "2023-07-11T11:09:24.641Z"
   },
   {
    "duration": 31,
    "start_time": "2023-07-11T11:09:25.319Z"
   },
   {
    "duration": 6,
    "start_time": "2023-07-11T11:09:25.861Z"
   },
   {
    "duration": 5,
    "start_time": "2023-07-11T11:09:25.923Z"
   },
   {
    "duration": 6,
    "start_time": "2023-07-11T11:09:26.022Z"
   },
   {
    "duration": 49,
    "start_time": "2023-07-11T11:09:26.051Z"
   },
   {
    "duration": 35,
    "start_time": "2023-07-11T11:09:26.112Z"
   },
   {
    "duration": 29,
    "start_time": "2023-07-11T11:09:26.150Z"
   },
   {
    "duration": 31,
    "start_time": "2023-07-11T11:09:26.182Z"
   },
   {
    "duration": 10,
    "start_time": "2023-07-11T11:09:26.231Z"
   },
   {
    "duration": 4,
    "start_time": "2023-07-11T11:09:26.302Z"
   },
   {
    "duration": 78,
    "start_time": "2023-07-11T11:09:26.309Z"
   },
   {
    "duration": 22,
    "start_time": "2023-07-11T11:17:02.461Z"
   },
   {
    "duration": 40,
    "start_time": "2023-07-11T11:17:04.653Z"
   },
   {
    "duration": 5,
    "start_time": "2023-07-11T11:18:56.114Z"
   },
   {
    "duration": 28,
    "start_time": "2023-07-11T11:23:06.718Z"
   },
   {
    "duration": 9,
    "start_time": "2023-07-11T11:23:18.619Z"
   },
   {
    "duration": 13,
    "start_time": "2023-07-11T11:23:27.110Z"
   },
   {
    "duration": 61,
    "start_time": "2023-07-11T11:23:36.101Z"
   },
   {
    "duration": 42,
    "start_time": "2023-07-11T11:23:42.315Z"
   },
   {
    "duration": 6,
    "start_time": "2023-07-11T11:24:19.415Z"
   },
   {
    "duration": 16,
    "start_time": "2023-07-11T11:24:32.933Z"
   },
   {
    "duration": 6,
    "start_time": "2023-07-11T11:24:33.942Z"
   },
   {
    "duration": 27,
    "start_time": "2023-07-11T11:24:45.029Z"
   },
   {
    "duration": 46,
    "start_time": "2023-07-11T11:24:54.645Z"
   },
   {
    "duration": 23,
    "start_time": "2023-07-11T11:25:07.809Z"
   },
   {
    "duration": 37,
    "start_time": "2023-07-11T11:25:14.223Z"
   },
   {
    "duration": 35,
    "start_time": "2023-07-11T11:25:17.609Z"
   },
   {
    "duration": 361,
    "start_time": "2023-07-11T11:25:51.198Z"
   },
   {
    "duration": 41,
    "start_time": "2023-07-11T11:26:02.109Z"
   },
   {
    "duration": 42,
    "start_time": "2023-07-11T11:26:16.242Z"
   },
   {
    "duration": 34,
    "start_time": "2023-07-11T11:26:21.808Z"
   },
   {
    "duration": 47,
    "start_time": "2023-07-11T11:26:27.792Z"
   },
   {
    "duration": 66,
    "start_time": "2023-07-11T11:26:49.580Z"
   },
   {
    "duration": 35,
    "start_time": "2023-07-11T11:27:36.814Z"
   },
   {
    "duration": 25,
    "start_time": "2023-07-11T11:27:59.609Z"
   },
   {
    "duration": 38,
    "start_time": "2023-07-11T11:28:31.814Z"
   },
   {
    "duration": 11,
    "start_time": "2023-07-11T11:28:59.994Z"
   },
   {
    "duration": 13,
    "start_time": "2023-07-11T11:29:07.495Z"
   },
   {
    "duration": 7,
    "start_time": "2023-07-11T11:29:16.594Z"
   },
   {
    "duration": 9,
    "start_time": "2023-07-11T11:29:27.404Z"
   },
   {
    "duration": 4,
    "start_time": "2023-07-11T11:35:43.317Z"
   },
   {
    "duration": 35,
    "start_time": "2023-07-11T11:35:43.518Z"
   },
   {
    "duration": 51,
    "start_time": "2023-07-11T11:50:46.963Z"
   },
   {
    "duration": 25,
    "start_time": "2023-07-11T11:50:53.915Z"
   },
   {
    "duration": 10,
    "start_time": "2023-07-11T11:51:51.098Z"
   },
   {
    "duration": 208,
    "start_time": "2023-07-11T11:52:50.353Z"
   },
   {
    "duration": 159,
    "start_time": "2023-07-11T11:52:59.794Z"
   },
   {
    "duration": 306,
    "start_time": "2023-07-11T11:53:05.162Z"
   },
   {
    "duration": 177,
    "start_time": "2023-07-11T11:53:09.002Z"
   },
   {
    "duration": 146,
    "start_time": "2023-07-11T11:53:28.203Z"
   },
   {
    "duration": 229,
    "start_time": "2023-07-11T11:53:31.990Z"
   },
   {
    "duration": 49,
    "start_time": "2023-07-11T11:53:53.144Z"
   },
   {
    "duration": 30,
    "start_time": "2023-07-11T11:54:05.521Z"
   },
   {
    "duration": 28,
    "start_time": "2023-07-11T11:58:31.161Z"
   },
   {
    "duration": 4,
    "start_time": "2023-07-11T11:59:09.705Z"
   },
   {
    "duration": 19,
    "start_time": "2023-07-11T12:03:41.036Z"
   },
   {
    "duration": 4,
    "start_time": "2023-07-11T12:03:53.801Z"
   },
   {
    "duration": 5,
    "start_time": "2023-07-11T12:04:06.297Z"
   },
   {
    "duration": 12,
    "start_time": "2023-07-11T12:04:10.799Z"
   },
   {
    "duration": 4,
    "start_time": "2023-07-11T12:04:17.392Z"
   },
   {
    "duration": 3,
    "start_time": "2023-07-11T12:05:16.017Z"
   },
   {
    "duration": 15,
    "start_time": "2023-07-11T12:05:36.036Z"
   },
   {
    "duration": 6,
    "start_time": "2023-07-11T12:06:09.308Z"
   },
   {
    "duration": 13,
    "start_time": "2023-07-11T12:06:52.336Z"
   },
   {
    "duration": 5,
    "start_time": "2023-07-11T12:07:01.228Z"
   },
   {
    "duration": 4,
    "start_time": "2023-07-11T12:07:08.106Z"
   },
   {
    "duration": 23,
    "start_time": "2023-07-11T12:08:59.455Z"
   },
   {
    "duration": 4,
    "start_time": "2023-07-11T12:09:06.817Z"
   },
   {
    "duration": 135,
    "start_time": "2023-07-11T12:09:07.403Z"
   },
   {
    "duration": 1492,
    "start_time": "2023-07-11T12:09:16.307Z"
   },
   {
    "duration": 5,
    "start_time": "2023-07-11T12:15:21.036Z"
   },
   {
    "duration": 7,
    "start_time": "2023-07-11T12:15:21.305Z"
   },
   {
    "duration": 2036,
    "start_time": "2023-07-11T12:15:21.466Z"
   },
   {
    "duration": 19,
    "start_time": "2023-07-11T12:29:13.568Z"
   },
   {
    "duration": 5,
    "start_time": "2023-07-11T12:29:35.819Z"
   },
   {
    "duration": 5330,
    "start_time": "2023-07-11T12:29:37.258Z"
   },
   {
    "duration": 5,
    "start_time": "2023-07-11T12:30:09.416Z"
   },
   {
    "duration": 5354,
    "start_time": "2023-07-11T12:30:09.637Z"
   },
   {
    "duration": 1841,
    "start_time": "2023-07-11T12:30:59.264Z"
   },
   {
    "duration": 1589,
    "start_time": "2023-07-11T12:31:05.610Z"
   },
   {
    "duration": 3,
    "start_time": "2023-07-11T12:31:12.736Z"
   },
   {
    "duration": 1152,
    "start_time": "2023-07-11T12:31:22.246Z"
   },
   {
    "duration": 10,
    "start_time": "2023-07-11T12:33:25.665Z"
   },
   {
    "duration": 7,
    "start_time": "2023-07-11T12:33:55.108Z"
   },
   {
    "duration": 4,
    "start_time": "2023-07-11T12:33:56.655Z"
   },
   {
    "duration": 5,
    "start_time": "2023-07-11T12:33:57.120Z"
   },
   {
    "duration": 1704,
    "start_time": "2023-07-11T12:33:57.900Z"
   },
   {
    "duration": 5,
    "start_time": "2023-07-11T12:34:10.033Z"
   },
   {
    "duration": 5,
    "start_time": "2023-07-11T12:34:10.905Z"
   },
   {
    "duration": 4,
    "start_time": "2023-07-11T12:34:11.054Z"
   },
   {
    "duration": 1392,
    "start_time": "2023-07-11T12:34:11.214Z"
   },
   {
    "duration": 10,
    "start_time": "2023-07-11T12:34:33.466Z"
   },
   {
    "duration": 5,
    "start_time": "2023-07-11T12:34:34.130Z"
   },
   {
    "duration": 5,
    "start_time": "2023-07-11T12:34:34.295Z"
   },
   {
    "duration": 1631,
    "start_time": "2023-07-11T12:34:34.437Z"
   },
   {
    "duration": 4,
    "start_time": "2023-07-11T12:34:39.722Z"
   },
   {
    "duration": 4,
    "start_time": "2023-07-11T12:34:39.906Z"
   },
   {
    "duration": 1434,
    "start_time": "2023-07-11T12:34:40.064Z"
   },
   {
    "duration": 1825,
    "start_time": "2023-07-11T12:35:42.608Z"
   },
   {
    "duration": 119,
    "start_time": "2023-07-11T12:35:57.025Z"
   },
   {
    "duration": 6,
    "start_time": "2023-07-11T12:36:26.854Z"
   },
   {
    "duration": 4,
    "start_time": "2023-07-11T12:36:47.815Z"
   },
   {
    "duration": 5,
    "start_time": "2023-07-11T12:37:10.936Z"
   },
   {
    "duration": 13,
    "start_time": "2023-07-11T12:37:17.315Z"
   },
   {
    "duration": 2476,
    "start_time": "2023-07-11T12:37:32.111Z"
   },
   {
    "duration": 1252,
    "start_time": "2023-07-11T12:37:44.323Z"
   },
   {
    "duration": 5,
    "start_time": "2023-07-11T12:37:56.725Z"
   },
   {
    "duration": 7601,
    "start_time": "2023-07-11T12:37:56.926Z"
   },
   {
    "duration": 5668,
    "start_time": "2023-07-11T12:38:25.505Z"
   },
   {
    "duration": 5,
    "start_time": "2023-07-11T12:43:14.612Z"
   },
   {
    "duration": 4,
    "start_time": "2023-07-11T12:46:18.940Z"
   },
   {
    "duration": 1475,
    "start_time": "2023-07-11T12:47:34.895Z"
   },
   {
    "duration": 4,
    "start_time": "2023-07-11T12:47:52.901Z"
   },
   {
    "duration": 4,
    "start_time": "2023-07-11T12:47:53.350Z"
   },
   {
    "duration": 1464,
    "start_time": "2023-07-11T12:47:54.010Z"
   },
   {
    "duration": 4,
    "start_time": "2023-07-11T12:47:56.688Z"
   },
   {
    "duration": 2425,
    "start_time": "2023-07-11T12:47:56.962Z"
   },
   {
    "duration": 2273,
    "start_time": "2023-07-11T12:48:08.102Z"
   },
   {
    "duration": 113,
    "start_time": "2023-07-11T12:51:29.010Z"
   },
   {
    "duration": 5,
    "start_time": "2023-07-11T12:51:41.138Z"
   },
   {
    "duration": 29,
    "start_time": "2023-07-11T12:57:45.149Z"
   },
   {
    "duration": 2364,
    "start_time": "2023-07-11T12:57:57.510Z"
   },
   {
    "duration": 1882,
    "start_time": "2023-07-11T13:06:14.542Z"
   },
   {
    "duration": 9,
    "start_time": "2023-07-11T13:13:02.691Z"
   },
   {
    "duration": 139,
    "start_time": "2023-07-11T13:13:23.903Z"
   },
   {
    "duration": 2088,
    "start_time": "2023-07-11T13:13:26.398Z"
   },
   {
    "duration": 159,
    "start_time": "2023-07-11T13:13:29.418Z"
   },
   {
    "duration": 126,
    "start_time": "2023-07-11T13:13:31.450Z"
   },
   {
    "duration": 135,
    "start_time": "2023-07-11T13:13:32.299Z"
   },
   {
    "duration": 141,
    "start_time": "2023-07-11T13:13:35.735Z"
   },
   {
    "duration": 126,
    "start_time": "2023-07-11T13:13:36.748Z"
   },
   {
    "duration": 147,
    "start_time": "2023-07-11T13:13:37.645Z"
   },
   {
    "duration": 136,
    "start_time": "2023-07-11T13:13:38.548Z"
   },
   {
    "duration": 157,
    "start_time": "2023-07-11T13:13:39.279Z"
   },
   {
    "duration": 136,
    "start_time": "2023-07-11T13:13:39.985Z"
   },
   {
    "duration": 136,
    "start_time": "2023-07-11T13:13:40.656Z"
   },
   {
    "duration": 129,
    "start_time": "2023-07-11T13:13:41.755Z"
   },
   {
    "duration": 125,
    "start_time": "2023-07-11T13:13:42.445Z"
   },
   {
    "duration": 132,
    "start_time": "2023-07-11T13:13:43.290Z"
   },
   {
    "duration": 147,
    "start_time": "2023-07-11T13:13:43.886Z"
   },
   {
    "duration": 135,
    "start_time": "2023-07-11T13:13:44.700Z"
   },
   {
    "duration": 127,
    "start_time": "2023-07-11T13:13:45.365Z"
   },
   {
    "duration": 129,
    "start_time": "2023-07-11T13:13:45.962Z"
   },
   {
    "duration": 131,
    "start_time": "2023-07-11T13:13:46.617Z"
   },
   {
    "duration": 128,
    "start_time": "2023-07-11T13:13:47.218Z"
   },
   {
    "duration": 145,
    "start_time": "2023-07-11T13:13:47.827Z"
   },
   {
    "duration": 94,
    "start_time": "2023-07-11T13:14:19.813Z"
   },
   {
    "duration": 95,
    "start_time": "2023-07-11T13:14:46.416Z"
   },
   {
    "duration": 88,
    "start_time": "2023-07-11T13:14:49.257Z"
   },
   {
    "duration": 16,
    "start_time": "2023-07-11T13:17:50.143Z"
   },
   {
    "duration": 125,
    "start_time": "2023-07-11T13:27:44.088Z"
   },
   {
    "duration": 9,
    "start_time": "2023-07-11T13:27:51.550Z"
   },
   {
    "duration": 3,
    "start_time": "2023-07-11T13:29:28.856Z"
   },
   {
    "duration": 673,
    "start_time": "2023-07-11T13:29:57.494Z"
   },
   {
    "duration": 8,
    "start_time": "2023-07-11T13:30:04.013Z"
   },
   {
    "duration": 6,
    "start_time": "2023-07-11T13:30:18.055Z"
   },
   {
    "duration": 4,
    "start_time": "2023-07-11T13:30:29.793Z"
   },
   {
    "duration": 863,
    "start_time": "2023-07-11T13:32:16.365Z"
   },
   {
    "duration": 725,
    "start_time": "2023-07-11T13:32:24.555Z"
   },
   {
    "duration": 12,
    "start_time": "2023-07-11T13:32:49.429Z"
   },
   {
    "duration": 680,
    "start_time": "2023-07-11T13:32:55.036Z"
   },
   {
    "duration": 601,
    "start_time": "2023-07-11T13:33:16.794Z"
   },
   {
    "duration": 688,
    "start_time": "2023-07-11T13:33:22.195Z"
   },
   {
    "duration": 1554,
    "start_time": "2023-07-11T13:33:59.989Z"
   },
   {
    "duration": 18,
    "start_time": "2023-07-11T13:38:36.987Z"
   },
   {
    "duration": 5,
    "start_time": "2023-07-11T13:39:36.966Z"
   },
   {
    "duration": 23079,
    "start_time": "2023-07-11T13:40:59.455Z"
   },
   {
    "duration": 202059,
    "start_time": "2023-07-11T13:41:26.641Z"
   },
   {
    "duration": 180472,
    "start_time": "2023-07-11T13:48:18.607Z"
   },
   {
    "duration": 14,
    "start_time": "2023-07-11T13:55:38.506Z"
   },
   {
    "duration": 14,
    "start_time": "2023-07-11T13:55:41.805Z"
   },
   {
    "duration": 13,
    "start_time": "2023-07-11T13:55:43.794Z"
   },
   {
    "duration": 16,
    "start_time": "2023-07-11T13:55:45.746Z"
   },
   {
    "duration": 4,
    "start_time": "2023-07-11T13:56:25.135Z"
   },
   {
    "duration": 13,
    "start_time": "2023-07-11T13:58:19.225Z"
   },
   {
    "duration": 12,
    "start_time": "2023-07-11T13:58:42.166Z"
   },
   {
    "duration": 5,
    "start_time": "2023-07-11T14:02:15.128Z"
   },
   {
    "duration": 9,
    "start_time": "2023-07-11T14:02:18.476Z"
   },
   {
    "duration": 6,
    "start_time": "2023-07-11T14:02:23.875Z"
   },
   {
    "duration": 10,
    "start_time": "2023-07-11T14:02:24.058Z"
   },
   {
    "duration": 16,
    "start_time": "2023-07-11T14:05:48.427Z"
   },
   {
    "duration": 8,
    "start_time": "2023-07-11T14:06:02.259Z"
   },
   {
    "duration": 10,
    "start_time": "2023-07-11T14:06:06.643Z"
   },
   {
    "duration": 5580,
    "start_time": "2023-07-11T14:06:30.525Z"
   },
   {
    "duration": 4,
    "start_time": "2023-07-11T14:06:42.425Z"
   },
   {
    "duration": 5484,
    "start_time": "2023-07-11T14:06:43.335Z"
   },
   {
    "duration": 11,
    "start_time": "2023-07-11T14:06:50.939Z"
   },
   {
    "duration": 15,
    "start_time": "2023-07-11T14:07:03.206Z"
   },
   {
    "duration": 6,
    "start_time": "2023-07-11T14:07:37.795Z"
   },
   {
    "duration": 13,
    "start_time": "2023-07-11T14:08:07.765Z"
   },
   {
    "duration": 8,
    "start_time": "2023-07-11T14:09:14.228Z"
   },
   {
    "duration": 7,
    "start_time": "2023-07-11T14:09:17.064Z"
   },
   {
    "duration": 6,
    "start_time": "2023-07-11T14:09:33.796Z"
   },
   {
    "duration": 5426,
    "start_time": "2023-07-11T14:09:55.994Z"
   },
   {
    "duration": 10,
    "start_time": "2023-07-11T15:24:55.285Z"
   },
   {
    "duration": 0,
    "start_time": "2023-07-11T15:24:55.296Z"
   },
   {
    "duration": 0,
    "start_time": "2023-07-11T15:24:55.298Z"
   },
   {
    "duration": 0,
    "start_time": "2023-07-11T15:24:55.299Z"
   },
   {
    "duration": 0,
    "start_time": "2023-07-11T15:24:55.301Z"
   },
   {
    "duration": 0,
    "start_time": "2023-07-11T15:24:55.303Z"
   },
   {
    "duration": 11,
    "start_time": "2023-07-11T15:24:55.315Z"
   },
   {
    "duration": 0,
    "start_time": "2023-07-11T15:24:55.328Z"
   },
   {
    "duration": 0,
    "start_time": "2023-07-11T15:24:55.330Z"
   },
   {
    "duration": 0,
    "start_time": "2023-07-11T15:24:55.331Z"
   },
   {
    "duration": 0,
    "start_time": "2023-07-11T15:24:55.333Z"
   },
   {
    "duration": 12,
    "start_time": "2023-07-11T15:24:55.359Z"
   },
   {
    "duration": 0,
    "start_time": "2023-07-11T15:24:55.373Z"
   },
   {
    "duration": 0,
    "start_time": "2023-07-11T15:24:55.375Z"
   },
   {
    "duration": 10,
    "start_time": "2023-07-12T11:05:05.019Z"
   },
   {
    "duration": 2409,
    "start_time": "2023-07-12T11:05:09.483Z"
   },
   {
    "duration": 252,
    "start_time": "2023-07-12T11:05:11.894Z"
   },
   {
    "duration": 12,
    "start_time": "2023-07-12T11:05:12.150Z"
   },
   {
    "duration": 32,
    "start_time": "2023-07-12T11:05:12.163Z"
   },
   {
    "duration": 26,
    "start_time": "2023-07-12T11:05:12.198Z"
   },
   {
    "duration": 58,
    "start_time": "2023-07-12T11:05:12.230Z"
   },
   {
    "duration": 64,
    "start_time": "2023-07-12T11:05:12.290Z"
   },
   {
    "duration": 7,
    "start_time": "2023-07-12T11:05:12.356Z"
   },
   {
    "duration": 1065,
    "start_time": "2023-07-12T11:05:12.366Z"
   },
   {
    "duration": 13,
    "start_time": "2023-07-12T11:05:13.435Z"
   },
   {
    "duration": 1191,
    "start_time": "2023-07-12T11:05:13.450Z"
   },
   {
    "duration": 313,
    "start_time": "2023-07-12T11:05:14.644Z"
   },
   {
    "duration": 364,
    "start_time": "2023-07-12T11:05:14.961Z"
   },
   {
    "duration": 5,
    "start_time": "2023-07-12T11:05:20.152Z"
   },
   {
    "duration": 147,
    "start_time": "2023-07-12T11:05:31.586Z"
   },
   {
    "duration": 14,
    "start_time": "2023-07-12T11:05:49.267Z"
   },
   {
    "duration": 10,
    "start_time": "2023-07-12T11:05:55.639Z"
   },
   {
    "duration": 5,
    "start_time": "2023-07-12T11:06:45.353Z"
   },
   {
    "duration": 93,
    "start_time": "2023-07-12T11:06:55.393Z"
   },
   {
    "duration": 38,
    "start_time": "2023-07-12T11:07:08.703Z"
   },
   {
    "duration": 33,
    "start_time": "2023-07-12T11:07:11.647Z"
   },
   {
    "duration": 47,
    "start_time": "2023-07-12T11:09:26.492Z"
   },
   {
    "duration": 9,
    "start_time": "2023-07-12T11:09:36.182Z"
   },
   {
    "duration": 4,
    "start_time": "2023-07-12T11:09:39.650Z"
   },
   {
    "duration": 14,
    "start_time": "2023-07-12T11:09:40.355Z"
   },
   {
    "duration": 48,
    "start_time": "2023-07-12T11:09:40.861Z"
   },
   {
    "duration": 53,
    "start_time": "2023-07-12T11:10:12.762Z"
   },
   {
    "duration": 50,
    "start_time": "2023-07-12T11:10:17.347Z"
   },
   {
    "duration": 36,
    "start_time": "2023-07-12T11:10:44.051Z"
   },
   {
    "duration": 3,
    "start_time": "2023-07-12T11:11:08.312Z"
   },
   {
    "duration": 4,
    "start_time": "2023-07-12T11:11:12.573Z"
   },
   {
    "duration": 4,
    "start_time": "2023-07-12T11:11:13.146Z"
   },
   {
    "duration": 1546,
    "start_time": "2023-07-12T11:11:15.762Z"
   },
   {
    "duration": 4,
    "start_time": "2023-07-12T11:11:25.802Z"
   },
   {
    "duration": 3499,
    "start_time": "2023-07-12T11:11:27.112Z"
   },
   {
    "duration": 4,
    "start_time": "2023-07-12T11:12:10.360Z"
   },
   {
    "duration": 1412,
    "start_time": "2023-07-12T11:12:12.184Z"
   },
   {
    "duration": 3,
    "start_time": "2023-07-12T11:12:17.143Z"
   },
   {
    "duration": 389493,
    "start_time": "2023-07-12T11:12:17.647Z"
   },
   {
    "duration": 5,
    "start_time": "2023-07-12T11:19:48.650Z"
   },
   {
    "duration": 8,
    "start_time": "2023-07-12T11:19:51.050Z"
   },
   {
    "duration": 12400,
    "start_time": "2023-07-12T11:19:58.104Z"
   },
   {
    "duration": 8831,
    "start_time": "2023-07-12T11:21:57.871Z"
   },
   {
    "duration": 10,
    "start_time": "2023-07-12T11:22:46.854Z"
   },
   {
    "duration": 226,
    "start_time": "2023-07-12T11:24:12.160Z"
   },
   {
    "duration": 4,
    "start_time": "2023-07-12T11:25:05.982Z"
   },
   {
    "duration": 159,
    "start_time": "2023-07-12T11:25:20.058Z"
   },
   {
    "duration": 14,
    "start_time": "2023-07-12T11:33:00.535Z"
   },
   {
    "duration": 11,
    "start_time": "2023-07-12T11:33:00.881Z"
   },
   {
    "duration": 52,
    "start_time": "2023-07-12T11:39:50.839Z"
   },
   {
    "duration": 11,
    "start_time": "2023-07-12T11:39:53.264Z"
   },
   {
    "duration": 11818,
    "start_time": "2023-07-12T11:40:36.452Z"
   },
   {
    "duration": 13,
    "start_time": "2023-07-12T11:40:50.748Z"
   },
   {
    "duration": 190,
    "start_time": "2023-07-12T11:40:52.262Z"
   },
   {
    "duration": 6,
    "start_time": "2023-07-12T11:47:18.436Z"
   },
   {
    "duration": 15,
    "start_time": "2023-07-12T11:47:19.435Z"
   },
   {
    "duration": 10124,
    "start_time": "2023-07-12T11:47:26.073Z"
   },
   {
    "duration": 4,
    "start_time": "2023-07-12T11:48:26.682Z"
   },
   {
    "duration": 10467,
    "start_time": "2023-07-12T11:48:42.935Z"
   },
   {
    "duration": 6,
    "start_time": "2023-07-12T11:49:52.270Z"
   },
   {
    "duration": 8948,
    "start_time": "2023-07-12T11:49:53.164Z"
   },
   {
    "duration": 10229,
    "start_time": "2023-07-12T11:50:02.114Z"
   },
   {
    "duration": 11942,
    "start_time": "2023-07-12T11:50:23.636Z"
   },
   {
    "duration": 14859,
    "start_time": "2023-07-12T11:51:01.456Z"
   },
   {
    "duration": 55,
    "start_time": "2023-07-12T11:51:33.893Z"
   },
   {
    "duration": 7,
    "start_time": "2023-07-12T11:51:46.440Z"
   },
   {
    "duration": 1533,
    "start_time": "2023-07-12T12:01:40.724Z"
   },
   {
    "duration": 45,
    "start_time": "2023-07-12T12:01:42.259Z"
   },
   {
    "duration": 12,
    "start_time": "2023-07-12T12:01:42.306Z"
   },
   {
    "duration": 26,
    "start_time": "2023-07-12T12:01:42.319Z"
   },
   {
    "duration": 13,
    "start_time": "2023-07-12T12:01:42.347Z"
   },
   {
    "duration": 6,
    "start_time": "2023-07-12T12:01:42.362Z"
   },
   {
    "duration": 39,
    "start_time": "2023-07-12T12:01:42.369Z"
   },
   {
    "duration": 7,
    "start_time": "2023-07-12T12:01:42.410Z"
   },
   {
    "duration": 805,
    "start_time": "2023-07-12T12:01:42.418Z"
   },
   {
    "duration": 14,
    "start_time": "2023-07-12T12:01:43.225Z"
   },
   {
    "duration": 937,
    "start_time": "2023-07-12T12:01:43.241Z"
   },
   {
    "duration": 202,
    "start_time": "2023-07-12T12:01:44.180Z"
   },
   {
    "duration": 232,
    "start_time": "2023-07-12T12:01:44.384Z"
   },
   {
    "duration": 5,
    "start_time": "2023-07-12T12:01:44.620Z"
   },
   {
    "duration": 36,
    "start_time": "2023-07-12T12:01:44.626Z"
   },
   {
    "duration": 38,
    "start_time": "2023-07-12T12:01:44.665Z"
   },
   {
    "duration": 8,
    "start_time": "2023-07-12T12:01:44.704Z"
   },
   {
    "duration": 9,
    "start_time": "2023-07-12T12:01:44.713Z"
   },
   {
    "duration": 7,
    "start_time": "2023-07-12T12:01:44.724Z"
   },
   {
    "duration": 49,
    "start_time": "2023-07-12T12:01:44.733Z"
   },
   {
    "duration": 50,
    "start_time": "2023-07-12T12:01:44.784Z"
   },
   {
    "duration": 33,
    "start_time": "2023-07-12T12:01:44.836Z"
   },
   {
    "duration": 56,
    "start_time": "2023-07-12T12:01:44.870Z"
   },
   {
    "duration": 4,
    "start_time": "2023-07-12T12:01:44.928Z"
   },
   {
    "duration": 23,
    "start_time": "2023-07-12T12:01:44.933Z"
   },
   {
    "duration": 13,
    "start_time": "2023-07-12T12:01:44.958Z"
   },
   {
    "duration": 1438,
    "start_time": "2023-07-12T12:01:44.973Z"
   },
   {
    "duration": 4,
    "start_time": "2023-07-12T12:01:46.503Z"
   },
   {
    "duration": 1796,
    "start_time": "2023-07-12T12:01:46.509Z"
   },
   {
    "duration": 3,
    "start_time": "2023-07-12T12:01:48.307Z"
   },
   {
    "duration": 1451,
    "start_time": "2023-07-12T12:01:48.312Z"
   },
   {
    "duration": 4,
    "start_time": "2023-07-12T12:01:49.765Z"
   },
   {
    "duration": 248540,
    "start_time": "2023-07-12T12:01:49.771Z"
   },
   {
    "duration": 4,
    "start_time": "2023-07-12T12:05:58.313Z"
   },
   {
    "duration": 17,
    "start_time": "2023-07-12T12:05:58.320Z"
   },
   {
    "duration": 4694,
    "start_time": "2023-07-12T12:05:58.340Z"
   },
   {
    "duration": 5,
    "start_time": "2023-07-12T12:06:03.036Z"
   },
   {
    "duration": 3383,
    "start_time": "2023-07-12T12:06:03.043Z"
   },
   {
    "duration": 3821,
    "start_time": "2023-07-12T12:06:06.428Z"
   },
   {
    "duration": 4601,
    "start_time": "2023-07-12T12:06:10.251Z"
   },
   {
    "duration": 5035,
    "start_time": "2023-07-12T12:06:14.856Z"
   }
  ],
  "kernelspec": {
   "display_name": "Python 3 (ipykernel)",
   "language": "python",
   "name": "python3"
  },
  "language_info": {
   "codemirror_mode": {
    "name": "ipython",
    "version": 3
   },
   "file_extension": ".py",
   "mimetype": "text/x-python",
   "name": "python",
   "nbconvert_exporter": "python",
   "pygments_lexer": "ipython3",
   "version": "3.9.16"
  },
  "toc": {
   "base_numbering": 1,
   "nav_menu": {},
   "number_sections": true,
   "sideBar": true,
   "skip_h1_title": true,
   "title_cell": "Содержание",
   "title_sidebar": "Contents",
   "toc_cell": true,
   "toc_position": {
    "height": "calc(100% - 180px)",
    "left": "10px",
    "top": "150px",
    "width": "165px"
   },
   "toc_section_display": true,
   "toc_window_display": true
  },
  "varInspector": {
   "cols": {
    "lenName": 16,
    "lenType": 16,
    "lenVar": 40
   },
   "kernels_config": {
    "python": {
     "delete_cmd_postfix": "",
     "delete_cmd_prefix": "del ",
     "library": "var_list.py",
     "varRefreshCmd": "print(var_dic_list())"
    },
    "r": {
     "delete_cmd_postfix": ") ",
     "delete_cmd_prefix": "rm(",
     "library": "var_list.r",
     "varRefreshCmd": "cat(var_dic_list()) "
    }
   },
   "types_to_exclude": [
    "module",
    "function",
    "builtin_function_or_method",
    "instance",
    "_Feature"
   ],
   "window_display": false
  }
 },
 "nbformat": 4,
 "nbformat_minor": 2
}
