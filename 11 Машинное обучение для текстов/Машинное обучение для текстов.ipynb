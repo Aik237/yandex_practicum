{
 "cells": [
  {
   "cell_type": "markdown",
   "metadata": {
    "toc": true
   },
   "source": [
    "<h1>Содержание<span class=\"tocSkip\"></span></h1>\n",
    "<div class=\"toc\"><ul class=\"toc-item\"><li><span><a href=\"#Подготовка\" data-toc-modified-id=\"Подготовка-1\"><span class=\"toc-item-num\">1&nbsp;&nbsp;</span>Подготовка</a></span><ul class=\"toc-item\"><li><span><a href=\"#Загрузка-данных\" data-toc-modified-id=\"Загрузка-данных-1.1\"><span class=\"toc-item-num\">1.1&nbsp;&nbsp;</span>Загрузка данных</a></span></li><li><span><a href=\"#Токенизация-и-лемматизация\" data-toc-modified-id=\"Токенизация-и-лемматизация-1.2\"><span class=\"toc-item-num\">1.2&nbsp;&nbsp;</span>Токенизация и лемматизация</a></span></li><li><span><a href=\"#Стоп---слова\" data-toc-modified-id=\"Стоп---слова-1.3\"><span class=\"toc-item-num\">1.3&nbsp;&nbsp;</span>Стоп - слова</a></span></li><li><span><a href=\"#Несбалансированная-классификация\" data-toc-modified-id=\"Несбалансированная-классификация-1.4\"><span class=\"toc-item-num\">1.4&nbsp;&nbsp;</span>Несбалансированная классификация</a></span></li><li><span><a href=\"#Разбивка-выборок\" data-toc-modified-id=\"Разбивка-выборок-1.5\"><span class=\"toc-item-num\">1.5&nbsp;&nbsp;</span>Разбивка выборок</a></span></li><li><span><a href=\"#Вывод\" data-toc-modified-id=\"Вывод-1.6\"><span class=\"toc-item-num\">1.6&nbsp;&nbsp;</span>Вывод</a></span></li></ul></li><li><span><a href=\"#Обучение\" data-toc-modified-id=\"Обучение-2\"><span class=\"toc-item-num\">2&nbsp;&nbsp;</span>Обучение</a></span><ul class=\"toc-item\"><li><span><a href=\"#Logistic-Regression\" data-toc-modified-id=\"Logistic-Regression-2.1\"><span class=\"toc-item-num\">2.1&nbsp;&nbsp;</span>Logistic Regression</a></span></li><li><span><a href=\"#MultinomialNB\" data-toc-modified-id=\"MultinomialNB-2.2\"><span class=\"toc-item-num\">2.2&nbsp;&nbsp;</span>MultinomialNB</a></span></li><li><span><a href=\"#SGDClassifier\" data-toc-modified-id=\"SGDClassifier-2.3\"><span class=\"toc-item-num\">2.3&nbsp;&nbsp;</span>SGDClassifier</a></span></li><li><span><a href=\"#Результаты\" data-toc-modified-id=\"Результаты-2.4\"><span class=\"toc-item-num\">2.4&nbsp;&nbsp;</span>Результаты</a></span></li></ul></li><li><span><a href=\"#Тестирование\" data-toc-modified-id=\"Тестирование-3\"><span class=\"toc-item-num\">3&nbsp;&nbsp;</span>Тестирование</a></span></li><li><span><a href=\"#Выводы\" data-toc-modified-id=\"Выводы-4\"><span class=\"toc-item-num\">4&nbsp;&nbsp;</span>Выводы</a></span></li><li><span><a href=\"#Чек-лист-проверки\" data-toc-modified-id=\"Чек-лист-проверки-5\"><span class=\"toc-item-num\">5&nbsp;&nbsp;</span>Чек-лист проверки</a></span></li></ul></div>"
   ]
  },
  {
   "cell_type": "markdown",
   "metadata": {},
   "source": [
    "# Проект для «Викишоп»"
   ]
  },
  {
   "cell_type": "markdown",
   "metadata": {},
   "source": [
    "Интернет-магазин «Викишоп» запускает новый сервис. Теперь пользователи могут редактировать и дополнять описания товаров, как в вики-сообществах. То есть клиенты предлагают свои правки и комментируют изменения других. Магазину нужен инструмент, который будет искать токсичные комментарии и отправлять их на модерацию. \n",
    "\n",
    "Обучите модель классифицировать комментарии на позитивные и негативные. В вашем распоряжении набор данных с разметкой о токсичности правок.\n",
    "\n",
    "Постройте модель со значением метрики качества *F1* не меньше 0.75. \n",
    "\n",
    "**Инструкция по выполнению проекта**\n",
    "\n",
    "1. Загрузите и подготовьте данные.\n",
    "2. Обучите разные модели. \n",
    "3. Сделайте выводы.\n",
    "\n",
    "\n",
    "**Описание данных**\n",
    "\n",
    "Данные находятся в файле `toxic_comments.csv`. Столбец *text* в нём содержит текст комментария, а *toxic* — целевой признак."
   ]
  },
  {
   "cell_type": "markdown",
   "metadata": {},
   "source": [
    "## Подготовка"
   ]
  },
  {
   "cell_type": "code",
   "execution_count": 1,
   "metadata": {},
   "outputs": [],
   "source": [
    "import pandas as pd\n",
    "import numpy as np\n",
    "\n",
    "from matplotlib import pyplot as plt\n",
    "import seaborn as sns\n",
    "\n",
    "import spacy\n",
    "import re\n",
    "\n",
    "from sklearn.feature_extraction.text import TfidfVectorizer\n",
    "import nltk\n",
    "from nltk.corpus import stopwords as nltk_stopwords\n",
    "\n",
    "from sklearn.model_selection import train_test_split, RandomizedSearchCV, StratifiedKFold\n",
    "from sklearn.pipeline import Pipeline\n",
    "\n",
    "from sklearn.naive_bayes import MultinomialNB, MultinomialNB\n",
    "from sklearn.linear_model import LogisticRegression, SGDClassifier\n",
    "from sklearn.ensemble import GradientBoostingClassifier\n",
    "from sklearn.metrics import f1_score, roc_auc_score,  roc_curve\n",
    "\n",
    "\n",
    "from tqdm import tqdm\n",
    "tqdm.pandas()"
   ]
  },
  {
   "cell_type": "code",
   "execution_count": 2,
   "metadata": {},
   "outputs": [
    {
     "name": "stderr",
     "output_type": "stream",
     "text": [
      "[nltk_data] Downloading package stopwords to /home/jovyan/nltk_data...\n",
      "[nltk_data]   Package stopwords is already up-to-date!\n"
     ]
    },
    {
     "data": {
      "text/plain": [
       "True"
      ]
     },
     "execution_count": 2,
     "metadata": {},
     "output_type": "execute_result"
    }
   ],
   "source": [
    "nltk.download('stopwords')"
   ]
  },
  {
   "cell_type": "markdown",
   "metadata": {},
   "source": [
    "### Загрузка данных"
   ]
  },
  {
   "cell_type": "code",
   "execution_count": 3,
   "metadata": {},
   "outputs": [],
   "source": [
    "data = pd.read_csv('/datasets/toxic_comments.csv')"
   ]
  },
  {
   "cell_type": "code",
   "execution_count": 4,
   "metadata": {
    "scrolled": true
   },
   "outputs": [
    {
     "data": {
      "text/html": [
       "<div>\n",
       "<style scoped>\n",
       "    .dataframe tbody tr th:only-of-type {\n",
       "        vertical-align: middle;\n",
       "    }\n",
       "\n",
       "    .dataframe tbody tr th {\n",
       "        vertical-align: top;\n",
       "    }\n",
       "\n",
       "    .dataframe thead th {\n",
       "        text-align: right;\n",
       "    }\n",
       "</style>\n",
       "<table border=\"1\" class=\"dataframe\">\n",
       "  <thead>\n",
       "    <tr style=\"text-align: right;\">\n",
       "      <th></th>\n",
       "      <th>Unnamed: 0</th>\n",
       "      <th>text</th>\n",
       "      <th>toxic</th>\n",
       "    </tr>\n",
       "  </thead>\n",
       "  <tbody>\n",
       "    <tr>\n",
       "      <th>0</th>\n",
       "      <td>0</td>\n",
       "      <td>Explanation\\nWhy the edits made under my usern...</td>\n",
       "      <td>0</td>\n",
       "    </tr>\n",
       "    <tr>\n",
       "      <th>1</th>\n",
       "      <td>1</td>\n",
       "      <td>D'aww! He matches this background colour I'm s...</td>\n",
       "      <td>0</td>\n",
       "    </tr>\n",
       "    <tr>\n",
       "      <th>2</th>\n",
       "      <td>2</td>\n",
       "      <td>Hey man, I'm really not trying to edit war. It...</td>\n",
       "      <td>0</td>\n",
       "    </tr>\n",
       "    <tr>\n",
       "      <th>3</th>\n",
       "      <td>3</td>\n",
       "      <td>\"\\nMore\\nI can't make any real suggestions on ...</td>\n",
       "      <td>0</td>\n",
       "    </tr>\n",
       "    <tr>\n",
       "      <th>4</th>\n",
       "      <td>4</td>\n",
       "      <td>You, sir, are my hero. Any chance you remember...</td>\n",
       "      <td>0</td>\n",
       "    </tr>\n",
       "  </tbody>\n",
       "</table>\n",
       "</div>"
      ],
      "text/plain": [
       "   Unnamed: 0                                               text  toxic\n",
       "0           0  Explanation\\nWhy the edits made under my usern...      0\n",
       "1           1  D'aww! He matches this background colour I'm s...      0\n",
       "2           2  Hey man, I'm really not trying to edit war. It...      0\n",
       "3           3  \"\\nMore\\nI can't make any real suggestions on ...      0\n",
       "4           4  You, sir, are my hero. Any chance you remember...      0"
      ]
     },
     "execution_count": 4,
     "metadata": {},
     "output_type": "execute_result"
    }
   ],
   "source": [
    "data.head()"
   ]
  },
  {
   "cell_type": "markdown",
   "metadata": {},
   "source": [
    "В распоряжении данные с комментариями и разметкой токсичности. Токсичные комментарии размеченны \"1\". \n",
    "\n",
    "Посмотрим на базовую информацию."
   ]
  },
  {
   "cell_type": "markdown",
   "metadata": {},
   "source": []
  },
  {
   "cell_type": "code",
   "execution_count": 5,
   "metadata": {
    "scrolled": true
   },
   "outputs": [
    {
     "name": "stdout",
     "output_type": "stream",
     "text": [
      "<class 'pandas.core.frame.DataFrame'>\n",
      "RangeIndex: 159292 entries, 0 to 159291\n",
      "Data columns (total 3 columns):\n",
      " #   Column      Non-Null Count   Dtype \n",
      "---  ------      --------------   ----- \n",
      " 0   Unnamed: 0  159292 non-null  int64 \n",
      " 1   text        159292 non-null  object\n",
      " 2   toxic       159292 non-null  int64 \n",
      "dtypes: int64(2), object(1)\n",
      "memory usage: 3.6+ MB\n"
     ]
    }
   ],
   "source": [
    "data.info()"
   ]
  },
  {
   "cell_type": "markdown",
   "metadata": {},
   "source": [
    "Пропусков нет. В данных почти 160 тыс. постов."
   ]
  },
  {
   "cell_type": "markdown",
   "metadata": {},
   "source": [
    "Разобьем твиты на отдельные слова и символы (токенизация) и приведем к начальной форме слова (лемматизация)."
   ]
  },
  {
   "cell_type": "markdown",
   "metadata": {},
   "source": [
    "### Токенизация и лемматизация"
   ]
  },
  {
   "cell_type": "markdown",
   "metadata": {},
   "source": [
    "Сначала очистим текст от знаков пунктуации и других лишних символом."
   ]
  },
  {
   "cell_type": "code",
   "execution_count": 6,
   "metadata": {},
   "outputs": [],
   "source": [
    "def tokenization(text):\n",
    "    text = re.sub(r'[^a-zA-Z]', ' ', text)\n",
    "    return \" \".join(text.split())"
   ]
  },
  {
   "cell_type": "code",
   "execution_count": 7,
   "metadata": {},
   "outputs": [],
   "source": [
    "data['text'] = data['text'].apply(tokenization)"
   ]
  },
  {
   "cell_type": "markdown",
   "metadata": {},
   "source": [
    "Для дальнейшем обработки текста воспользуемся пайплайном из библиотеки spaCy."
   ]
  },
  {
   "cell_type": "code",
   "execution_count": 8,
   "metadata": {},
   "outputs": [],
   "source": [
    "nlp = spacy.load(\"en_core_web_sm\")"
   ]
  },
  {
   "cell_type": "code",
   "execution_count": 9,
   "metadata": {
    "scrolled": true
   },
   "outputs": [
    {
     "name": "stderr",
     "output_type": "stream",
     "text": [
      "100%|██████████| 159292/159292 [08:06<00:00, 327.30it/s]\n"
     ]
    }
   ],
   "source": [
    "lemm_texts = []\n",
    "\n",
    "for doc in tqdm(nlp.pipe(data['text'].values, disable = ['ner', 'parser']), total=data.shape[0]):\n",
    "    lemm_text = \" \".join([i.lemma_ for i in doc])    \n",
    "    lemm_texts.append(lemm_text)"
   ]
  },
  {
   "cell_type": "code",
   "execution_count": 10,
   "metadata": {},
   "outputs": [],
   "source": [
    "data['text'] = lemm_texts"
   ]
  },
  {
   "cell_type": "code",
   "execution_count": 11,
   "metadata": {},
   "outputs": [
    {
     "data": {
      "text/html": [
       "<div>\n",
       "<style scoped>\n",
       "    .dataframe tbody tr th:only-of-type {\n",
       "        vertical-align: middle;\n",
       "    }\n",
       "\n",
       "    .dataframe tbody tr th {\n",
       "        vertical-align: top;\n",
       "    }\n",
       "\n",
       "    .dataframe thead th {\n",
       "        text-align: right;\n",
       "    }\n",
       "</style>\n",
       "<table border=\"1\" class=\"dataframe\">\n",
       "  <thead>\n",
       "    <tr style=\"text-align: right;\">\n",
       "      <th></th>\n",
       "      <th>Unnamed: 0</th>\n",
       "      <th>text</th>\n",
       "      <th>toxic</th>\n",
       "    </tr>\n",
       "  </thead>\n",
       "  <tbody>\n",
       "    <tr>\n",
       "      <th>0</th>\n",
       "      <td>0</td>\n",
       "      <td>explanation why the edit make under my usernam...</td>\n",
       "      <td>0</td>\n",
       "    </tr>\n",
       "    <tr>\n",
       "      <th>1</th>\n",
       "      <td>1</td>\n",
       "      <td>d aww he match this background colour I m seem...</td>\n",
       "      <td>0</td>\n",
       "    </tr>\n",
       "    <tr>\n",
       "      <th>2</th>\n",
       "      <td>2</td>\n",
       "      <td>hey man I m really not try to edit war it s ju...</td>\n",
       "      <td>0</td>\n",
       "    </tr>\n",
       "    <tr>\n",
       "      <th>3</th>\n",
       "      <td>3</td>\n",
       "      <td>More I can t make any real suggestion on impro...</td>\n",
       "      <td>0</td>\n",
       "    </tr>\n",
       "    <tr>\n",
       "      <th>4</th>\n",
       "      <td>4</td>\n",
       "      <td>you sir be my hero any chance you remember wha...</td>\n",
       "      <td>0</td>\n",
       "    </tr>\n",
       "  </tbody>\n",
       "</table>\n",
       "</div>"
      ],
      "text/plain": [
       "   Unnamed: 0                                               text  toxic\n",
       "0           0  explanation why the edit make under my usernam...      0\n",
       "1           1  d aww he match this background colour I m seem...      0\n",
       "2           2  hey man I m really not try to edit war it s ju...      0\n",
       "3           3  More I can t make any real suggestion on impro...      0\n",
       "4           4  you sir be my hero any chance you remember wha...      0"
      ]
     },
     "execution_count": 11,
     "metadata": {},
     "output_type": "execute_result"
    }
   ],
   "source": [
    "#check\n",
    "data.head()"
   ]
  },
  {
   "cell_type": "markdown",
   "metadata": {},
   "source": [
    "Удалены знаки пунктуации, буквы приведены к нижнему регистру и слова в начальную форму."
   ]
  },
  {
   "cell_type": "code",
   "execution_count": 12,
   "metadata": {},
   "outputs": [],
   "source": [
    "# удалим ненужный столбец Unnamed:0\n",
    "data = data.drop(['Unnamed: 0'], axis=1)"
   ]
  },
  {
   "cell_type": "code",
   "execution_count": 13,
   "metadata": {
    "scrolled": true
   },
   "outputs": [
    {
     "data": {
      "text/html": [
       "<div>\n",
       "<style scoped>\n",
       "    .dataframe tbody tr th:only-of-type {\n",
       "        vertical-align: middle;\n",
       "    }\n",
       "\n",
       "    .dataframe tbody tr th {\n",
       "        vertical-align: top;\n",
       "    }\n",
       "\n",
       "    .dataframe thead th {\n",
       "        text-align: right;\n",
       "    }\n",
       "</style>\n",
       "<table border=\"1\" class=\"dataframe\">\n",
       "  <thead>\n",
       "    <tr style=\"text-align: right;\">\n",
       "      <th></th>\n",
       "      <th>text</th>\n",
       "      <th>toxic</th>\n",
       "    </tr>\n",
       "  </thead>\n",
       "  <tbody>\n",
       "    <tr>\n",
       "      <th>0</th>\n",
       "      <td>explanation why the edit make under my usernam...</td>\n",
       "      <td>0</td>\n",
       "    </tr>\n",
       "    <tr>\n",
       "      <th>1</th>\n",
       "      <td>d aww he match this background colour I m seem...</td>\n",
       "      <td>0</td>\n",
       "    </tr>\n",
       "    <tr>\n",
       "      <th>2</th>\n",
       "      <td>hey man I m really not try to edit war it s ju...</td>\n",
       "      <td>0</td>\n",
       "    </tr>\n",
       "    <tr>\n",
       "      <th>3</th>\n",
       "      <td>More I can t make any real suggestion on impro...</td>\n",
       "      <td>0</td>\n",
       "    </tr>\n",
       "    <tr>\n",
       "      <th>4</th>\n",
       "      <td>you sir be my hero any chance you remember wha...</td>\n",
       "      <td>0</td>\n",
       "    </tr>\n",
       "  </tbody>\n",
       "</table>\n",
       "</div>"
      ],
      "text/plain": [
       "                                                text  toxic\n",
       "0  explanation why the edit make under my usernam...      0\n",
       "1  d aww he match this background colour I m seem...      0\n",
       "2  hey man I m really not try to edit war it s ju...      0\n",
       "3  More I can t make any real suggestion on impro...      0\n",
       "4  you sir be my hero any chance you remember wha...      0"
      ]
     },
     "execution_count": 13,
     "metadata": {},
     "output_type": "execute_result"
    }
   ],
   "source": [
    "#check\n",
    "data.head()"
   ]
  },
  {
   "cell_type": "markdown",
   "metadata": {},
   "source": [
    "### Стоп - слова"
   ]
  },
  {
   "cell_type": "markdown",
   "metadata": {},
   "source": [
    "Избавимся от стоп - слов с помощью библиотеки sklearn. В английском языке к ним относятся артикли “a” “the” “is” “are” и др., которые очень часто используются."
   ]
  },
  {
   "cell_type": "code",
   "execution_count": 14,
   "metadata": {},
   "outputs": [],
   "source": [
    "stopwords = list(set(nltk_stopwords.words('english')))\n",
    "count_tf_idf = TfidfVectorizer(stop_words=stopwords)"
   ]
  },
  {
   "cell_type": "code",
   "execution_count": 15,
   "metadata": {},
   "outputs": [
    {
     "data": {
      "text/plain": [
       "TfidfVectorizer(stop_words=['any', 'into', \"won't\", 'hasn', 'what', 'wouldn',\n",
       "                            'over', \"wouldn't\", 'more', 'here', \"she's\", 'she',\n",
       "                            'after', 's', 'just', 'down', 't', 'between',\n",
       "                            'being', 'other', 'of', 'very', 'ain', 'who', 'on',\n",
       "                            'our', 'ma', 'were', 'me', 'had', ...])"
      ]
     },
     "execution_count": 15,
     "metadata": {},
     "output_type": "execute_result"
    }
   ],
   "source": [
    "count_tf_idf"
   ]
  },
  {
   "cell_type": "markdown",
   "metadata": {},
   "source": [
    "### Несбалансированная классификация"
   ]
  },
  {
   "cell_type": "markdown",
   "metadata": {},
   "source": [
    "Перед нами стоит задача бинарной классификации. Посмотрим как распределны метки."
   ]
  },
  {
   "cell_type": "code",
   "execution_count": 16,
   "metadata": {
    "scrolled": false
   },
   "outputs": [
    {
     "data": {
      "image/png": "[encoded data removed]",
      "text/plain": [
       "<Figure size 842.4x597.6 with 1 Axes>"
      ]
     },
     "metadata": {
      "needs_background": "light"
     },
     "output_type": "display_data"
    }
   ],
   "source": [
    "fig, axs = plt.subplots(figsize=(11.7, 8.3))\n",
    "sns.countplot(x=data.toxic);\n",
    "\n",
    "plt.ylabel('Количество постов', fontsize=12);\n",
    "plt.xlabel('Класс поста', fontsize=12);\n",
    "plt.title('Распределение постов по классам', fontsize=15);"
   ]
  },
  {
   "cell_type": "markdown",
   "metadata": {},
   "source": [
    "Как видно из графика, количество постов с разметкой `1` примерно в 7 раз меньше, чем количество постов с разметкой `0`. Для решения этой проблемы есть несколько вариантов действий:\n",
    "\n",
    "1. Взвешивание классов - то есть, придание объектам класса `1` больший вес (обычно через аргумент `class_weight` у моделей из библиотеки sklearn)\n",
    "\n",
    "2. Увеличение выборки (upsampling) - то есть, скопировать несколько раз объекты редкого класса, чтобы уравновесить выборку и перемещать.\n",
    "\n",
    "3. Уменьшение выборки (downsampling) - то есть, удалить случайным образом объекты большего класса и перемещать.\n",
    "\n",
    "4. Изменить порог классификации - для модели логистической регрессии можно изменять \"точку отсечения\" класса."
   ]
  },
  {
   "cell_type": "markdown",
   "metadata": {},
   "source": [
    "В дальнейшем будет применяться первый метод, если результаты будут неудовлетворительными, то проверим другие."
   ]
  },
  {
   "cell_type": "markdown",
   "metadata": {},
   "source": [
    "### Разбивка выборок"
   ]
  },
  {
   "cell_type": "code",
   "execution_count": 17,
   "metadata": {},
   "outputs": [],
   "source": [
    "X_train, X_test, y_train, y_test = train_test_split(data['text'], data['toxic'], test_size=0.1, random_state=42)"
   ]
  },
  {
   "cell_type": "code",
   "execution_count": 18,
   "metadata": {
    "scrolled": false
   },
   "outputs": [
    {
     "name": "stdout",
     "output_type": "stream",
     "text": [
      "(143362,)\n",
      "(15930,)\n",
      "(143362,)\n",
      "(15930,)\n"
     ]
    }
   ],
   "source": [
    "#check\n",
    "dfs = [X_train, X_test, y_train, y_test]\n",
    "for df in dfs:\n",
    "    print(df.shape)"
   ]
  },
  {
   "cell_type": "markdown",
   "metadata": {},
   "source": [
    "Выборки разделены."
   ]
  },
  {
   "cell_type": "markdown",
   "metadata": {},
   "source": [
    "### Вывод"
   ]
  },
  {
   "cell_type": "markdown",
   "metadata": {},
   "source": [
    "В ходе предобработки данных были выполнены следующие шаги:\n",
    "\n",
    "1. Токенизация.\n",
    "2. Лемматизация.\n",
    "3. Выявлена проблема дисбаланса класса.\n",
    "4. Выборка разделена на обучающую и тестовую в соотношении 70:30."
   ]
  },
  {
   "cell_type": "markdown",
   "metadata": {},
   "source": [
    "Далее проверим метрики моделей на обучающей выборке."
   ]
  },
  {
   "cell_type": "markdown",
   "metadata": {},
   "source": [
    "## Обучение"
   ]
  },
  {
   "cell_type": "markdown",
   "metadata": {},
   "source": [
    "В рамках исследования будут применяться три модели машинного обучения из библиотеки sklearn:\n",
    "\n",
    "1. Логистическая регрессия (`LogisticRegression`).\n",
    "2. Наивный байесовский классификатор (`MultinomialNB`).\n",
    "3. Стохастический градиентный спуск (`SGDClassifier`).\n",
    "\n",
    "Обучение будет состоять из следующих шагов:\n",
    "\n",
    "1. Векторизация текста с удалением стоп-слов (`TfidfVectorizer`).\n",
    "2. Задание классификатора и начальных параметров.\n",
    "3. Подбор гиперпараметров для векторизации и классификатора с кросс-валидацией по F1 метрике."
   ]
  },
  {
   "cell_type": "markdown",
   "metadata": {},
   "source": [
    "Так как данные достаточно сильно несбалансированны воспользуемся `StratifiedKFold`. Выборки будут разбиты на фолды с примерно таким же распределением классов, как и для всего множества."
   ]
  },
  {
   "cell_type": "code",
   "execution_count": 19,
   "metadata": {},
   "outputs": [],
   "source": [
    "cross_val = StratifiedKFold(n_splits=5)"
   ]
  },
  {
   "cell_type": "markdown",
   "metadata": {},
   "source": [
    "### Logistic Regression"
   ]
  },
  {
   "cell_type": "code",
   "execution_count": 20,
   "metadata": {},
   "outputs": [],
   "source": [
    "pipeline_lr = Pipeline(\n",
    "    [\n",
    "        (\"vect\", TfidfVectorizer(stop_words=stopwords)),\n",
    "        (\"clf\", LogisticRegression(class_weight='balanced', solver='liblinear')),\n",
    "    ]\n",
    ")"
   ]
  },
  {
   "cell_type": "code",
   "execution_count": 21,
   "metadata": {
    "scrolled": false
   },
   "outputs": [
    {
     "data": {
      "text/plain": [
       "Pipeline(steps=[('vect',\n",
       "                 TfidfVectorizer(stop_words=['any', 'into', \"won't\", 'hasn',\n",
       "                                             'what', 'wouldn', 'over',\n",
       "                                             \"wouldn't\", 'more', 'here',\n",
       "                                             \"she's\", 'she', 'after', 's',\n",
       "                                             'just', 'down', 't', 'between',\n",
       "                                             'being', 'other', 'of', 'very',\n",
       "                                             'ain', 'who', 'on', 'our', 'ma',\n",
       "                                             'were', 'me', 'had', ...])),\n",
       "                ('clf',\n",
       "                 LogisticRegression(class_weight='balanced',\n",
       "                                    solver='liblinear'))])"
      ]
     },
     "execution_count": 21,
     "metadata": {},
     "output_type": "execute_result"
    }
   ],
   "source": [
    "#check\n",
    "pipeline_lr"
   ]
  },
  {
   "cell_type": "code",
   "execution_count": 22,
   "metadata": {},
   "outputs": [],
   "source": [
    "parameter_grid_lr = {\n",
    "    \"vect__max_df\": (0.2, 0.4, 0.6, 0.8, 1.0),\n",
    "    \"vect__min_df\": (1, 3, 5, 10),\n",
    "    \"vect__ngram_range\": ((1, 1), (1, 2)),\n",
    "    \"clf__penalty\":('l1', 'l2'),\n",
    "    \"clf__C\":[0.001, 0.01, 0.1, 1, 10],\n",
    "    \"clf__max_iter\":range(100, 500, 25),\n",
    "    \"clf__tol\": [1e-5, 1e-6, 1e-4]\n",
    "}"
   ]
  },
  {
   "cell_type": "code",
   "execution_count": 23,
   "metadata": {},
   "outputs": [],
   "source": [
    "random_search_lr = RandomizedSearchCV(\n",
    "    estimator=pipeline_lr,\n",
    "    param_distributions=parameter_grid_lr,\n",
    "    n_iter=5,\n",
    "    random_state=42,\n",
    "    n_jobs=-1,\n",
    "    verbose=1,\n",
    "    scoring='f1',\n",
    "    cv=cross_val\n",
    ")"
   ]
  },
  {
   "cell_type": "code",
   "execution_count": 24,
   "metadata": {},
   "outputs": [
    {
     "name": "stdout",
     "output_type": "stream",
     "text": [
      "Fitting 5 folds for each of 5 candidates, totalling 25 fits\n"
     ]
    },
    {
     "data": {
      "text/plain": [
       "RandomizedSearchCV(cv=StratifiedKFold(n_splits=5, random_state=None, shuffle=False),\n",
       "                   estimator=Pipeline(steps=[('vect',\n",
       "                                              TfidfVectorizer(stop_words=['any',\n",
       "                                                                          'into',\n",
       "                                                                          \"won't\",\n",
       "                                                                          'hasn',\n",
       "                                                                          'what',\n",
       "                                                                          'wouldn',\n",
       "                                                                          'over',\n",
       "                                                                          \"wouldn't\",\n",
       "                                                                          'more',\n",
       "                                                                          'here',\n",
       "                                                                          \"she's\",\n",
       "                                                                          'she',\n",
       "                                                                          'after',\n",
       "                                                                          's',\n",
       "                                                                          'just',\n",
       "                                                                          'down',\n",
       "                                                                          't',\n",
       "                                                                          'between',\n",
       "                                                                          'being',\n",
       "                                                                          'other',\n",
       "                                                                          'of',\n",
       "                                                                          'very',\n",
       "                                                                          'ain',\n",
       "                                                                          'who',\n",
       "                                                                          'on',\n",
       "                                                                          'our',\n",
       "                                                                          'ma',\n",
       "                                                                          'were',\n",
       "                                                                          'me',\n",
       "                                                                          'had', .....\n",
       "                                              LogisticRegression(class_weight='balanced',\n",
       "                                                                 solver='liblinear'))]),\n",
       "                   n_iter=5, n_jobs=-1,\n",
       "                   param_distributions={'clf__C': [0.001, 0.01, 0.1, 1, 10],\n",
       "                                        'clf__max_iter': range(100, 500, 25),\n",
       "                                        'clf__penalty': ('l1', 'l2'),\n",
       "                                        'clf__tol': [1e-05, 1e-06, 0.0001],\n",
       "                                        'vect__max_df': (0.2, 0.4, 0.6, 0.8,\n",
       "                                                         1.0),\n",
       "                                        'vect__min_df': (1, 3, 5, 10),\n",
       "                                        'vect__ngram_range': ((1, 1), (1, 2))},\n",
       "                   random_state=42, scoring='f1', verbose=1)"
      ]
     },
     "execution_count": 24,
     "metadata": {},
     "output_type": "execute_result"
    }
   ],
   "source": [
    "random_search_lr.fit(X_train, y_train)"
   ]
  },
  {
   "cell_type": "code",
   "execution_count": 25,
   "metadata": {},
   "outputs": [
    {
     "name": "stdout",
     "output_type": "stream",
     "text": [
      "Лучшее значение метрики: 0.78\n"
     ]
    }
   ],
   "source": [
    "best_parameters_lr = random_search_lr.best_estimator_.get_params()\n",
    "print('Лучшее значение метрики:', random_search_lr.best_score_.round(3))"
   ]
  },
  {
   "cell_type": "markdown",
   "metadata": {},
   "source": [
    "### MultinomialNB"
   ]
  },
  {
   "cell_type": "code",
   "execution_count": 26,
   "metadata": {},
   "outputs": [],
   "source": [
    "pipeline_nb = Pipeline(\n",
    "    [\n",
    "        (\"vect\", TfidfVectorizer(stop_words=stopwords)),\n",
    "        (\"clf\", MultinomialNB()),\n",
    "    ]\n",
    ")"
   ]
  },
  {
   "cell_type": "code",
   "execution_count": 27,
   "metadata": {},
   "outputs": [
    {
     "data": {
      "text/plain": [
       "Pipeline(steps=[('vect',\n",
       "                 TfidfVectorizer(stop_words=['any', 'into', \"won't\", 'hasn',\n",
       "                                             'what', 'wouldn', 'over',\n",
       "                                             \"wouldn't\", 'more', 'here',\n",
       "                                             \"she's\", 'she', 'after', 's',\n",
       "                                             'just', 'down', 't', 'between',\n",
       "                                             'being', 'other', 'of', 'very',\n",
       "                                             'ain', 'who', 'on', 'our', 'ma',\n",
       "                                             'were', 'me', 'had', ...])),\n",
       "                ('clf', MultinomialNB())])"
      ]
     },
     "execution_count": 27,
     "metadata": {},
     "output_type": "execute_result"
    }
   ],
   "source": [
    "#check\n",
    "pipeline_nb"
   ]
  },
  {
   "cell_type": "code",
   "execution_count": 28,
   "metadata": {},
   "outputs": [],
   "source": [
    "parameter_grid_nb = {\n",
    "    \"vect__max_df\": (0.2, 0.4, 0.6, 0.8, 1.0),\n",
    "    \"vect__min_df\": (1, 3, 5, 10),\n",
    "    \"vect__ngram_range\": ((1, 1), (1, 2)),\n",
    "    \"vect__norm\": (\"l1\", \"l2\"),\n",
    "    \"clf__alpha\": np.logspace(-6, 6, 13)\n",
    "}"
   ]
  },
  {
   "cell_type": "code",
   "execution_count": 29,
   "metadata": {},
   "outputs": [],
   "source": [
    "random_search_nb = RandomizedSearchCV(\n",
    "    estimator=pipeline_nb,\n",
    "    param_distributions=parameter_grid_nb,\n",
    "    n_iter=5,\n",
    "    random_state=42,\n",
    "    n_jobs=-1,\n",
    "    verbose=1,\n",
    "    scoring='f1',\n",
    "    cv=cross_val\n",
    ")"
   ]
  },
  {
   "cell_type": "code",
   "execution_count": 30,
   "metadata": {
    "scrolled": false
   },
   "outputs": [
    {
     "name": "stdout",
     "output_type": "stream",
     "text": [
      "Fitting 5 folds for each of 5 candidates, totalling 25 fits\n",
      "CPU times: user 3min 51s, sys: 5.95 s, total: 3min 57s\n",
      "Wall time: 3min 57s\n"
     ]
    },
    {
     "data": {
      "text/plain": [
       "RandomizedSearchCV(cv=StratifiedKFold(n_splits=5, random_state=None, shuffle=False),\n",
       "                   estimator=Pipeline(steps=[('vect',\n",
       "                                              TfidfVectorizer(stop_words=['any',\n",
       "                                                                          'into',\n",
       "                                                                          \"won't\",\n",
       "                                                                          'hasn',\n",
       "                                                                          'what',\n",
       "                                                                          'wouldn',\n",
       "                                                                          'over',\n",
       "                                                                          \"wouldn't\",\n",
       "                                                                          'more',\n",
       "                                                                          'here',\n",
       "                                                                          \"she's\",\n",
       "                                                                          'she',\n",
       "                                                                          'after',\n",
       "                                                                          's',\n",
       "                                                                          'just',\n",
       "                                                                          'down',\n",
       "                                                                          't',\n",
       "                                                                          'between',\n",
       "                                                                          'being',\n",
       "                                                                          'other',\n",
       "                                                                          'of',\n",
       "                                                                          'very',\n",
       "                                                                          'ain',\n",
       "                                                                          'who',\n",
       "                                                                          'on',\n",
       "                                                                          'our',\n",
       "                                                                          'ma',\n",
       "                                                                          'were',\n",
       "                                                                          'me',\n",
       "                                                                          'had', ...])),\n",
       "                                             ('clf', MultinomialNB())]),\n",
       "                   n_iter=5, n_jobs=-1,\n",
       "                   param_distributions={'clf__alpha': array([1.e-06, 1.e-05, 1.e-04, 1.e-03, 1.e-02, 1.e-01, 1.e+00, 1.e+01,\n",
       "       1.e+02, 1.e+03, 1.e+04, 1.e+05, 1.e+06]),\n",
       "                                        'vect__max_df': (0.2, 0.4, 0.6, 0.8,\n",
       "                                                         1.0),\n",
       "                                        'vect__min_df': (1, 3, 5, 10),\n",
       "                                        'vect__ngram_range': ((1, 1), (1, 2)),\n",
       "                                        'vect__norm': ('l1', 'l2')},\n",
       "                   random_state=42, scoring='f1', verbose=1)"
      ]
     },
     "execution_count": 30,
     "metadata": {},
     "output_type": "execute_result"
    }
   ],
   "source": [
    "%%time\n",
    "random_search_nb.fit(X_train, y_train)"
   ]
  },
  {
   "cell_type": "code",
   "execution_count": 31,
   "metadata": {},
   "outputs": [
    {
     "name": "stdout",
     "output_type": "stream",
     "text": [
      "Лучшее значение метрики: 0.666\n"
     ]
    }
   ],
   "source": [
    "best_parameters_nb = random_search_nb.best_estimator_.get_params()\n",
    "print('Лучшее значение метрики:', random_search_nb.best_score_.round(3))"
   ]
  },
  {
   "cell_type": "markdown",
   "metadata": {},
   "source": [
    "### SGDClassifier"
   ]
  },
  {
   "cell_type": "code",
   "execution_count": 32,
   "metadata": {},
   "outputs": [],
   "source": [
    "pipeline_sgdc = Pipeline(\n",
    "    [\n",
    "        (\"vect\", TfidfVectorizer(stop_words=stopwords)),\n",
    "        (\"clf\", SGDClassifier(loss='hinge', penalty='l2',   random_state=42, learning_rate='optimal')),\n",
    "    ]\n",
    ")"
   ]
  },
  {
   "cell_type": "code",
   "execution_count": 33,
   "metadata": {},
   "outputs": [],
   "source": [
    "parameter_grid_sgdc = {\n",
    "    \"vect__max_df\": (0.2, 0.4, 0.6, 0.8, 1.0),\n",
    "    \"vect__min_df\": (1, 3, 5, 10),\n",
    "    \"vect__ngram_range\": ((1, 1), (1, 2)),\n",
    "    'clf__max_iter':range(1000, 2000, 100),\n",
    "    'clf__alpha': np.logspace(-6, 6, 13) \n",
    "}"
   ]
  },
  {
   "cell_type": "code",
   "execution_count": 34,
   "metadata": {},
   "outputs": [],
   "source": [
    "random_search_sgdc = RandomizedSearchCV(\n",
    "    estimator=pipeline_sgdc,\n",
    "    param_distributions=parameter_grid_sgdc,\n",
    "    n_iter=5,\n",
    "    random_state=42,\n",
    "    n_jobs=-1,\n",
    "    verbose=1,\n",
    "    scoring='f1',\n",
    "    cv=cross_val\n",
    ")"
   ]
  },
  {
   "cell_type": "code",
   "execution_count": 35,
   "metadata": {
    "scrolled": true
   },
   "outputs": [
    {
     "name": "stdout",
     "output_type": "stream",
     "text": [
      "Fitting 5 folds for each of 5 candidates, totalling 25 fits\n",
      "CPU times: user 2min 38s, sys: 4.41 s, total: 2min 43s\n",
      "Wall time: 2min 44s\n"
     ]
    },
    {
     "data": {
      "text/plain": [
       "RandomizedSearchCV(cv=StratifiedKFold(n_splits=5, random_state=None, shuffle=False),\n",
       "                   estimator=Pipeline(steps=[('vect',\n",
       "                                              TfidfVectorizer(stop_words=['any',\n",
       "                                                                          'into',\n",
       "                                                                          \"won't\",\n",
       "                                                                          'hasn',\n",
       "                                                                          'what',\n",
       "                                                                          'wouldn',\n",
       "                                                                          'over',\n",
       "                                                                          \"wouldn't\",\n",
       "                                                                          'more',\n",
       "                                                                          'here',\n",
       "                                                                          \"she's\",\n",
       "                                                                          'she',\n",
       "                                                                          'after',\n",
       "                                                                          's',\n",
       "                                                                          'just',\n",
       "                                                                          'down',\n",
       "                                                                          't',\n",
       "                                                                          'between',\n",
       "                                                                          'being',\n",
       "                                                                          'other',\n",
       "                                                                          'of',\n",
       "                                                                          'very',\n",
       "                                                                          'ain',\n",
       "                                                                          'who',\n",
       "                                                                          'on',\n",
       "                                                                          'our',\n",
       "                                                                          'ma',\n",
       "                                                                          'were',\n",
       "                                                                          'me',\n",
       "                                                                          'had', .....\n",
       "                                              SGDClassifier(random_state=42))]),\n",
       "                   n_iter=5, n_jobs=-1,\n",
       "                   param_distributions={'clf__alpha': array([1.e-06, 1.e-05, 1.e-04, 1.e-03, 1.e-02, 1.e-01, 1.e+00, 1.e+01,\n",
       "       1.e+02, 1.e+03, 1.e+04, 1.e+05, 1.e+06]),\n",
       "                                        'clf__max_iter': range(1000, 2000, 100),\n",
       "                                        'vect__max_df': (0.2, 0.4, 0.6, 0.8,\n",
       "                                                         1.0),\n",
       "                                        'vect__min_df': (1, 3, 5, 10),\n",
       "                                        'vect__ngram_range': ((1, 1), (1, 2))},\n",
       "                   random_state=42, scoring='f1', verbose=1)"
      ]
     },
     "execution_count": 35,
     "metadata": {},
     "output_type": "execute_result"
    }
   ],
   "source": [
    "%%time\n",
    "random_search_sgdc.fit(X_train, y_train)"
   ]
  },
  {
   "cell_type": "code",
   "execution_count": 36,
   "metadata": {},
   "outputs": [
    {
     "name": "stdout",
     "output_type": "stream",
     "text": [
      "Лучшее значение метрики: 0.772\n"
     ]
    }
   ],
   "source": [
    "best_parameters_sgdc = random_search_sgdc.best_estimator_.get_params()\n",
    "print('Лучшее значение метрики:', random_search_sgdc.best_score_.round(3))"
   ]
  },
  {
   "cell_type": "markdown",
   "metadata": {},
   "source": [
    "### Результаты"
   ]
  },
  {
   "cell_type": "code",
   "execution_count": 37,
   "metadata": {},
   "outputs": [
    {
     "data": {
      "text/html": [
       "<div>\n",
       "<style scoped>\n",
       "    .dataframe tbody tr th:only-of-type {\n",
       "        vertical-align: middle;\n",
       "    }\n",
       "\n",
       "    .dataframe tbody tr th {\n",
       "        vertical-align: top;\n",
       "    }\n",
       "\n",
       "    .dataframe thead th {\n",
       "        text-align: right;\n",
       "    }\n",
       "</style>\n",
       "<table border=\"1\" class=\"dataframe\">\n",
       "  <thead>\n",
       "    <tr style=\"text-align: right;\">\n",
       "      <th></th>\n",
       "      <th>Модель</th>\n",
       "      <th>F1 метрика</th>\n",
       "    </tr>\n",
       "  </thead>\n",
       "  <tbody>\n",
       "    <tr>\n",
       "      <th>0</th>\n",
       "      <td>LogisticRegression</td>\n",
       "      <td>0.780</td>\n",
       "    </tr>\n",
       "    <tr>\n",
       "      <th>1</th>\n",
       "      <td>MultinomialNB</td>\n",
       "      <td>0.666</td>\n",
       "    </tr>\n",
       "    <tr>\n",
       "      <th>2</th>\n",
       "      <td>SGDClassifier</td>\n",
       "      <td>0.772</td>\n",
       "    </tr>\n",
       "  </tbody>\n",
       "</table>\n",
       "</div>"
      ],
      "text/plain": [
       "               Модель  F1 метрика\n",
       "0  LogisticRegression       0.780\n",
       "1       MultinomialNB       0.666\n",
       "2       SGDClassifier       0.772"
      ]
     },
     "execution_count": 37,
     "metadata": {},
     "output_type": "execute_result"
    }
   ],
   "source": [
    "result = pd.DataFrame(\n",
    "    {\n",
    "        'Модель': ['LogisticRegression', 'MultinomialNB', 'SGDClassifier'],\n",
    "        'F1 метрика':[random_search_lr.best_score_.round(3), \n",
    "                      random_search_nb.best_score_.round(3), \n",
    "                      random_search_sgdc.best_score_.round(3)]\n",
    "    }\n",
    ")\n",
    "result"
   ]
  },
  {
   "cell_type": "markdown",
   "metadata": {},
   "source": [
    "Лучший результат у модели `LogisticRegression`. Используем ее для тестовой выборки с уже подобранными гиперпараметрами."
   ]
  },
  {
   "cell_type": "markdown",
   "metadata": {},
   "source": [
    "## Тестирование"
   ]
  },
  {
   "cell_type": "code",
   "execution_count": 38,
   "metadata": {
    "scrolled": true
   },
   "outputs": [
    {
     "name": "stdout",
     "output_type": "stream",
     "text": [
      "Значение метрики на тестовой выборке: 0.797\n"
     ]
    }
   ],
   "source": [
    "predictions = random_search_lr.predict(X_test)\n",
    "f1score = f1_score(y_test, predictions)\n",
    "print('Значение метрики на тестовой выборке:', f1score.round(3))"
   ]
  },
  {
   "cell_type": "markdown",
   "metadata": {},
   "source": [
    "Так же проверим насколько сильно отличается эта модель от случайной с помощью кривой ошибок."
   ]
  },
  {
   "cell_type": "code",
   "execution_count": 39,
   "metadata": {},
   "outputs": [
    {
     "data": {
      "image/png": "[encoded data removed]",
      "text/plain": [
       "<Figure size 842.4x597.6 with 1 Axes>"
      ]
     },
     "metadata": {
      "needs_background": "light"
     },
     "output_type": "display_data"
    },
    {
     "data": {
      "text/plain": [
       "0.972477137594296"
      ]
     },
     "execution_count": 39,
     "metadata": {},
     "output_type": "execute_result"
    }
   ],
   "source": [
    "probabilities_test = random_search_lr.predict_proba(X_test)\n",
    "probabilities_one_test = probabilities_test[:, 1]\n",
    "\n",
    "fpr, tpr, thresholds = roc_curve(y_test, probabilities_one_test) \n",
    "\n",
    "plt.figure(figsize=(11.7, 8.3))\n",
    "plt.plot(fpr, tpr, linestyle='-')\n",
    "plt.plot([0, 1], [0, 1], linestyle='--')\n",
    "plt.xlim([0.0, 1.0])\n",
    "plt.ylim([0.0, 1.0])\n",
    "plt.xlabel('False Positive Rate')\n",
    "plt.ylabel('True Positive Rate')\n",
    "plt.title('ROC-curve')\n",
    "plt.show()\n",
    "\n",
    "roc_auc = roc_auc_score(y_test, probabilities_one_test)\n",
    "\n",
    "roc_auc"
   ]
  },
  {
   "cell_type": "markdown",
   "metadata": {},
   "source": [
    "Модель намного лучше чем случайная модель."
   ]
  },
  {
   "cell_type": "markdown",
   "metadata": {},
   "source": [
    "## Выводы"
   ]
  },
  {
   "cell_type": "markdown",
   "metadata": {},
   "source": [
    "В ходе подготовки данных проделали следующие шаги:\n",
    "\n",
    "\n",
    "1. Подготовили данные, проведя токенизацию и лемматизацию постов. Так же удалили ненужный столбец из данных.\n",
    "2. Выявили проблему несбалансированной классификации.\n",
    "3. Загрузили список стоп-слов.\n",
    "4. Разбили выборки на обучающую и тестовую.\n",
    "\n",
    "Было решено первоначально воспользоваться встроенными параметрами моделей машинного обучения для несбалансированных данных. Этого оказалось достаточно и модели справились с проблемой дисбаланса.\n",
    "\n",
    "Перед обучением выборку разбили на фолды с примерно таким же распределением классов, что и у всего множества.\n",
    "\n",
    "Обучение проводили в несколько шагов:\n",
    "\n",
    "1. Подбор гиперпараметров для векторизатора текста.\n",
    "2. Подбор гиперпараметров для классификатора.\n",
    "3. Обучение и определение значения метрики на кросс-валидации.\n",
    "\n",
    "По итогам лучший результат показала модель логистической регрессии. Ее и использовали для тестовой выборки. На тестовой выборке получили требуемое значение метрики."
   ]
  }
 ],
 "metadata": {
  "ExecuteTimeLog": [
   {
    "duration": 424,
    "start_time": "2023-08-03T15:33:16.118Z"
   },
   {
    "duration": 2489,
    "start_time": "2023-08-07T11:57:23.165Z"
   },
   {
    "duration": 81,
    "start_time": "2023-08-07T11:57:45.961Z"
   },
   {
    "duration": 138,
    "start_time": "2023-08-07T11:57:51.437Z"
   },
   {
    "duration": 2618,
    "start_time": "2023-08-07T11:58:05.976Z"
   },
   {
    "duration": 16,
    "start_time": "2023-08-07T11:58:14.661Z"
   },
   {
    "duration": 8,
    "start_time": "2023-08-07T12:02:09.385Z"
   },
   {
    "duration": 790,
    "start_time": "2023-08-07T12:02:57.168Z"
   },
   {
    "duration": 8,
    "start_time": "2023-08-07T12:02:57.960Z"
   },
   {
    "duration": 6,
    "start_time": "2023-08-07T12:10:06.812Z"
   },
   {
    "duration": 3,
    "start_time": "2023-08-07T12:13:49.757Z"
   },
   {
    "duration": 17,
    "start_time": "2023-08-07T12:14:04.672Z"
   },
   {
    "duration": 685,
    "start_time": "2023-08-07T12:14:50.299Z"
   },
   {
    "duration": 18,
    "start_time": "2023-08-07T12:15:04.262Z"
   },
   {
    "duration": 1311,
    "start_time": "2023-08-07T15:26:53.667Z"
   },
   {
    "duration": 2586,
    "start_time": "2023-08-07T15:26:54.980Z"
   },
   {
    "duration": 12,
    "start_time": "2023-08-07T15:26:57.567Z"
   },
   {
    "duration": 3,
    "start_time": "2023-08-07T15:31:06.065Z"
   },
   {
    "duration": 1362,
    "start_time": "2023-08-09T18:47:02.121Z"
   },
   {
    "duration": 3659,
    "start_time": "2023-08-09T18:47:03.485Z"
   },
   {
    "duration": 10,
    "start_time": "2023-08-09T18:47:07.146Z"
   },
   {
    "duration": 3,
    "start_time": "2023-08-09T18:50:12.390Z"
   },
   {
    "duration": 3065,
    "start_time": "2023-08-09T18:50:29.611Z"
   },
   {
    "duration": 3,
    "start_time": "2023-08-09T18:51:02.571Z"
   },
   {
    "duration": 3974,
    "start_time": "2023-08-09T18:51:03.250Z"
   },
   {
    "duration": 3,
    "start_time": "2023-08-09T18:52:17.998Z"
   },
   {
    "duration": 130658,
    "start_time": "2023-08-09T18:52:32.122Z"
   },
   {
    "duration": 4,
    "start_time": "2023-08-09T18:54:47.911Z"
   },
   {
    "duration": 4,
    "start_time": "2023-08-09T18:54:48.094Z"
   },
   {
    "duration": 54,
    "start_time": "2023-08-09T18:55:32.291Z"
   },
   {
    "duration": 754,
    "start_time": "2023-08-09T18:55:35.092Z"
   },
   {
    "duration": 20,
    "start_time": "2023-08-09T18:56:02.701Z"
   },
   {
    "duration": 1876,
    "start_time": "2023-08-09T18:57:13.170Z"
   },
   {
    "duration": 12,
    "start_time": "2023-08-09T18:57:17.731Z"
   },
   {
    "duration": 764,
    "start_time": "2023-08-09T18:57:22.031Z"
   },
   {
    "duration": 4,
    "start_time": "2023-08-09T18:59:05.940Z"
   },
   {
    "duration": 3,
    "start_time": "2023-08-09T19:04:26.321Z"
   },
   {
    "duration": 805,
    "start_time": "2023-08-09T19:04:26.809Z"
   },
   {
    "duration": 3,
    "start_time": "2023-08-09T19:05:19.232Z"
   },
   {
    "duration": 3,
    "start_time": "2023-08-09T19:05:19.441Z"
   },
   {
    "duration": 3924,
    "start_time": "2023-08-09T19:05:19.757Z"
   },
   {
    "duration": 1127,
    "start_time": "2023-08-09T19:05:45.840Z"
   },
   {
    "duration": 835,
    "start_time": "2023-08-09T19:05:46.968Z"
   },
   {
    "duration": 10,
    "start_time": "2023-08-09T19:05:47.804Z"
   },
   {
    "duration": 8,
    "start_time": "2023-08-09T19:05:47.816Z"
   },
   {
    "duration": 6,
    "start_time": "2023-08-09T19:05:47.825Z"
   },
   {
    "duration": 11,
    "start_time": "2023-08-09T19:05:47.832Z"
   },
   {
    "duration": 3892,
    "start_time": "2023-08-09T19:05:47.844Z"
   },
   {
    "duration": 695,
    "start_time": "2023-08-09T19:05:51.738Z"
   },
   {
    "duration": 666,
    "start_time": "2023-08-09T19:06:11.142Z"
   },
   {
    "duration": 5,
    "start_time": "2023-08-09T19:06:36.112Z"
   },
   {
    "duration": 3,
    "start_time": "2023-08-09T19:07:05.832Z"
   },
   {
    "duration": 3,
    "start_time": "2023-08-09T19:07:06.737Z"
   },
   {
    "duration": 3,
    "start_time": "2023-08-09T19:07:07.226Z"
   },
   {
    "duration": 3822,
    "start_time": "2023-08-09T19:07:07.842Z"
   },
   {
    "duration": 104,
    "start_time": "2023-08-09T19:07:16.022Z"
   },
   {
    "duration": 3,
    "start_time": "2023-08-09T19:07:38.552Z"
   },
   {
    "duration": 4,
    "start_time": "2023-08-09T19:07:38.752Z"
   },
   {
    "duration": 3,
    "start_time": "2023-08-09T19:07:38.941Z"
   },
   {
    "duration": 3940,
    "start_time": "2023-08-09T19:07:39.700Z"
   },
   {
    "duration": 738,
    "start_time": "2023-08-09T19:07:43.642Z"
   },
   {
    "duration": 52,
    "start_time": "2023-08-09T19:08:24.305Z"
   },
   {
    "duration": 3860,
    "start_time": "2023-08-09T19:08:24.611Z"
   },
   {
    "duration": 706,
    "start_time": "2023-08-09T19:08:28.474Z"
   },
   {
    "duration": 4,
    "start_time": "2023-08-09T19:08:29.181Z"
   },
   {
    "duration": 3047,
    "start_time": "2023-08-09T19:11:01.733Z"
   },
   {
    "duration": 277,
    "start_time": "2023-08-09T19:11:55.302Z"
   },
   {
    "duration": 111,
    "start_time": "2023-08-09T19:12:08.286Z"
   },
   {
    "duration": 2570,
    "start_time": "2023-08-09T19:12:46.009Z"
   },
   {
    "duration": 112,
    "start_time": "2023-08-09T19:14:10.597Z"
   },
   {
    "duration": 561,
    "start_time": "2023-08-09T19:15:34.903Z"
   },
   {
    "duration": 4,
    "start_time": "2023-08-09T19:16:50.492Z"
   },
   {
    "duration": 428,
    "start_time": "2023-08-09T19:16:57.464Z"
   },
   {
    "duration": 4,
    "start_time": "2023-08-09T19:18:51.431Z"
   },
   {
    "duration": 3,
    "start_time": "2023-08-09T19:18:51.652Z"
   },
   {
    "duration": 5,
    "start_time": "2023-08-09T19:20:43.096Z"
   },
   {
    "duration": 18,
    "start_time": "2023-08-09T19:21:04.237Z"
   },
   {
    "duration": 515,
    "start_time": "2023-08-09T19:21:11.455Z"
   },
   {
    "duration": 469,
    "start_time": "2023-08-09T19:21:51.636Z"
   },
   {
    "duration": 510,
    "start_time": "2023-08-09T19:22:01.233Z"
   },
   {
    "duration": 734,
    "start_time": "2023-08-09T19:25:30.450Z"
   },
   {
    "duration": 484,
    "start_time": "2023-08-09T19:25:42.132Z"
   },
   {
    "duration": 20,
    "start_time": "2023-08-09T19:27:44.929Z"
   },
   {
    "duration": 5117,
    "start_time": "2023-08-09T19:30:01.946Z"
   },
   {
    "duration": 17,
    "start_time": "2023-08-09T19:30:24.396Z"
   },
   {
    "duration": 348948,
    "start_time": "2023-08-09T19:30:39.995Z"
   },
   {
    "duration": 438,
    "start_time": "2023-08-09T19:36:36.147Z"
   },
   {
    "duration": 3,
    "start_time": "2023-08-09T19:36:43.643Z"
   },
   {
    "duration": 50,
    "start_time": "2023-08-09T19:36:43.916Z"
   },
   {
    "duration": 26,
    "start_time": "2023-08-09T19:36:44.108Z"
   },
   {
    "duration": 3743,
    "start_time": "2023-08-09T19:36:45.599Z"
   },
   {
    "duration": 40259,
    "start_time": "2023-08-09T19:36:49.344Z"
   },
   {
    "duration": 21649,
    "start_time": "2023-08-09T19:38:57.963Z"
   },
   {
    "duration": 28058,
    "start_time": "2023-08-09T19:39:30.505Z"
   },
   {
    "duration": 198857,
    "start_time": "2023-08-09T19:40:00.015Z"
   },
   {
    "duration": 6,
    "start_time": "2023-08-09T19:43:27.133Z"
   },
   {
    "duration": 19,
    "start_time": "2023-08-09T19:43:34.207Z"
   },
   {
    "duration": 16,
    "start_time": "2023-08-09T19:43:53.796Z"
   },
   {
    "duration": 3,
    "start_time": "2023-08-09T19:43:59.662Z"
   },
   {
    "duration": 20,
    "start_time": "2023-08-09T19:44:04.092Z"
   },
   {
    "duration": 10,
    "start_time": "2023-08-09T19:44:10.534Z"
   },
   {
    "duration": 2211077,
    "start_time": "2023-08-09T19:45:48.208Z"
   },
   {
    "duration": 11,
    "start_time": "2023-08-09T22:21:16.967Z"
   },
   {
    "duration": 8,
    "start_time": "2023-08-09T22:21:30.087Z"
   },
   {
    "duration": 26,
    "start_time": "2023-08-09T22:25:46.866Z"
   },
   {
    "duration": 21,
    "start_time": "2023-08-09T22:25:55.414Z"
   },
   {
    "duration": 11,
    "start_time": "2023-08-09T22:26:06.668Z"
   },
   {
    "duration": 6,
    "start_time": "2023-08-09T22:26:13.224Z"
   },
   {
    "duration": 49,
    "start_time": "2023-08-09T22:35:18.628Z"
   },
   {
    "duration": 4,
    "start_time": "2023-08-09T22:39:28.714Z"
   },
   {
    "duration": 189,
    "start_time": "2023-08-09T22:39:48.983Z"
   },
   {
    "duration": 251,
    "start_time": "2023-08-09T22:40:19.164Z"
   },
   {
    "duration": 6416,
    "start_time": "2023-08-09T22:41:40.891Z"
   },
   {
    "duration": 4,
    "start_time": "2023-08-09T22:42:07.878Z"
   },
   {
    "duration": 4,
    "start_time": "2023-08-09T22:42:19.395Z"
   },
   {
    "duration": 63,
    "start_time": "2023-08-09T22:53:40.317Z"
   },
   {
    "duration": 111,
    "start_time": "2023-08-09T22:53:46.111Z"
   },
   {
    "duration": 105,
    "start_time": "2023-08-09T22:53:56.290Z"
   },
   {
    "duration": 98,
    "start_time": "2023-08-09T22:54:00.929Z"
   },
   {
    "duration": 144,
    "start_time": "2023-08-09T23:05:46.773Z"
   },
   {
    "duration": 143,
    "start_time": "2023-08-09T23:06:18.801Z"
   },
   {
    "duration": 5,
    "start_time": "2023-08-09T23:19:22.002Z"
   },
   {
    "duration": 27,
    "start_time": "2023-08-09T23:19:33.842Z"
   },
   {
    "duration": 22,
    "start_time": "2023-08-09T23:19:39.323Z"
   },
   {
    "duration": 3,
    "start_time": "2023-08-09T23:20:18.662Z"
   },
   {
    "duration": 3,
    "start_time": "2023-08-09T23:28:43.516Z"
   },
   {
    "duration": 17,
    "start_time": "2023-08-09T23:43:46.505Z"
   },
   {
    "duration": 3,
    "start_time": "2023-08-09T23:44:15.072Z"
   },
   {
    "duration": 36,
    "start_time": "2023-08-09T23:44:25.469Z"
   },
   {
    "duration": 4,
    "start_time": "2023-08-09T23:44:31.835Z"
   },
   {
    "duration": 4,
    "start_time": "2023-08-09T23:44:41.453Z"
   },
   {
    "duration": 36,
    "start_time": "2023-08-09T23:45:11.422Z"
   },
   {
    "duration": 41,
    "start_time": "2023-08-09T23:45:14.141Z"
   },
   {
    "duration": 5,
    "start_time": "2023-08-09T23:45:17.402Z"
   },
   {
    "duration": 4,
    "start_time": "2023-08-09T23:45:22.442Z"
   },
   {
    "duration": 32,
    "start_time": "2023-08-09T23:45:26.232Z"
   },
   {
    "duration": 4,
    "start_time": "2023-08-09T23:45:26.521Z"
   },
   {
    "duration": 46,
    "start_time": "2023-08-09T23:47:34.721Z"
   },
   {
    "duration": 4,
    "start_time": "2023-08-09T23:48:23.771Z"
   },
   {
    "duration": 5,
    "start_time": "2023-08-09T23:48:33.760Z"
   },
   {
    "duration": 6,
    "start_time": "2023-08-09T23:50:18.297Z"
   },
   {
    "duration": 30,
    "start_time": "2023-08-09T23:52:42.559Z"
   },
   {
    "duration": 16,
    "start_time": "2023-08-09T23:53:09.895Z"
   },
   {
    "duration": 17,
    "start_time": "2023-08-09T23:53:18.338Z"
   },
   {
    "duration": 22,
    "start_time": "2023-08-09T23:53:23.842Z"
   },
   {
    "duration": 3,
    "start_time": "2023-08-09T23:53:48.210Z"
   },
   {
    "duration": 5,
    "start_time": "2023-08-09T23:53:54.394Z"
   },
   {
    "duration": 4,
    "start_time": "2023-08-09T23:56:56.787Z"
   },
   {
    "duration": 7,
    "start_time": "2023-08-09T23:57:02.598Z"
   },
   {
    "duration": 9,
    "start_time": "2023-08-09T23:57:12.069Z"
   },
   {
    "duration": 3,
    "start_time": "2023-08-09T23:57:31.566Z"
   },
   {
    "duration": 5,
    "start_time": "2023-08-09T23:57:52.338Z"
   },
   {
    "duration": 5,
    "start_time": "2023-08-10T00:04:52.569Z"
   },
   {
    "duration": 3,
    "start_time": "2023-08-10T00:05:20.898Z"
   },
   {
    "duration": 19,
    "start_time": "2023-08-10T00:05:49.776Z"
   },
   {
    "duration": 27,
    "start_time": "2023-08-10T00:06:35.552Z"
   },
   {
    "duration": 125569,
    "start_time": "2023-08-10T00:06:46.956Z"
   },
   {
    "duration": 6,
    "start_time": "2023-08-10T00:08:57.179Z"
   },
   {
    "duration": 31588,
    "start_time": "2023-08-10T00:08:57.435Z"
   },
   {
    "duration": 3,
    "start_time": "2023-08-10T00:09:43.517Z"
   },
   {
    "duration": 3,
    "start_time": "2023-08-10T00:09:44.028Z"
   },
   {
    "duration": 24473,
    "start_time": "2023-08-10T00:09:44.695Z"
   },
   {
    "duration": 118,
    "start_time": "2023-08-10T00:10:47.423Z"
   },
   {
    "duration": 3,
    "start_time": "2023-08-10T00:10:47.703Z"
   },
   {
    "duration": 3,
    "start_time": "2023-08-10T00:11:24.368Z"
   },
   {
    "duration": 16,
    "start_time": "2023-08-10T00:11:24.372Z"
   },
   {
    "duration": 4483,
    "start_time": "2023-08-10T00:11:24.389Z"
   },
   {
    "duration": 3,
    "start_time": "2023-08-10T00:11:44.167Z"
   },
   {
    "duration": 3,
    "start_time": "2023-08-10T00:11:44.855Z"
   },
   {
    "duration": 32401,
    "start_time": "2023-08-10T00:11:45.736Z"
   },
   {
    "duration": 3,
    "start_time": "2023-08-10T00:12:18.140Z"
   },
   {
    "duration": 13,
    "start_time": "2023-08-10T00:12:18.144Z"
   },
   {
    "duration": 3,
    "start_time": "2023-08-10T00:12:19.996Z"
   },
   {
    "duration": 3,
    "start_time": "2023-08-10T00:12:20.666Z"
   },
   {
    "duration": 12546,
    "start_time": "2023-08-10T00:12:21.546Z"
   },
   {
    "duration": 7,
    "start_time": "2023-08-10T00:13:08.576Z"
   },
   {
    "duration": 3,
    "start_time": "2023-08-10T00:13:09.044Z"
   },
   {
    "duration": 739682,
    "start_time": "2023-08-10T00:13:09.561Z"
   },
   {
    "duration": 3,
    "start_time": "2023-08-10T00:26:20.844Z"
   },
   {
    "duration": 10,
    "start_time": "2023-08-10T00:26:21.273Z"
   },
   {
    "duration": 4,
    "start_time": "2023-08-10T00:27:41.284Z"
   },
   {
    "duration": 3,
    "start_time": "2023-08-10T00:27:43.983Z"
   },
   {
    "duration": 589769,
    "start_time": "2023-08-10T00:27:47.784Z"
   },
   {
    "duration": 4,
    "start_time": "2023-08-10T00:40:12.348Z"
   },
   {
    "duration": 33,
    "start_time": "2023-08-10T00:40:23.043Z"
   },
   {
    "duration": 4,
    "start_time": "2023-08-10T00:41:04.935Z"
   },
   {
    "duration": 3,
    "start_time": "2023-08-10T00:41:51.527Z"
   },
   {
    "duration": 3,
    "start_time": "2023-08-10T00:41:53.037Z"
   },
   {
    "duration": 63488,
    "start_time": "2023-08-10T00:41:58.378Z"
   },
   {
    "duration": 3,
    "start_time": "2023-08-10T00:43:26.620Z"
   },
   {
    "duration": 8,
    "start_time": "2023-08-10T00:43:31.149Z"
   },
   {
    "duration": 3,
    "start_time": "2023-08-10T00:44:25.609Z"
   },
   {
    "duration": 4,
    "start_time": "2023-08-10T00:45:21.048Z"
   },
   {
    "duration": 3,
    "start_time": "2023-08-10T00:45:24.849Z"
   },
   {
    "duration": 3,
    "start_time": "2023-08-10T00:45:25.357Z"
   },
   {
    "duration": 35977,
    "start_time": "2023-08-10T00:45:26.598Z"
   },
   {
    "duration": 3,
    "start_time": "2023-08-10T00:46:35.754Z"
   },
   {
    "duration": 4,
    "start_time": "2023-08-10T00:46:38.157Z"
   },
   {
    "duration": 4,
    "start_time": "2023-08-10T00:49:15.108Z"
   },
   {
    "duration": 3,
    "start_time": "2023-08-10T00:49:15.896Z"
   },
   {
    "duration": 3,
    "start_time": "2023-08-10T00:49:16.408Z"
   },
   {
    "duration": 66609,
    "start_time": "2023-08-10T00:49:17.058Z"
   },
   {
    "duration": 3,
    "start_time": "2023-08-10T00:50:57.657Z"
   },
   {
    "duration": 4,
    "start_time": "2023-08-10T00:50:58.593Z"
   },
   {
    "duration": 9,
    "start_time": "2023-08-10T00:51:35.968Z"
   },
   {
    "duration": 3,
    "start_time": "2023-08-10T00:52:52.666Z"
   },
   {
    "duration": 3,
    "start_time": "2023-08-10T00:52:53.285Z"
   },
   {
    "duration": 3,
    "start_time": "2023-08-10T00:52:53.650Z"
   },
   {
    "duration": 182,
    "start_time": "2023-08-10T00:52:54.267Z"
   },
   {
    "duration": 3,
    "start_time": "2023-08-10T00:53:13.974Z"
   },
   {
    "duration": 3,
    "start_time": "2023-08-10T00:53:14.615Z"
   },
   {
    "duration": 4,
    "start_time": "2023-08-10T00:53:15.191Z"
   },
   {
    "duration": 62355,
    "start_time": "2023-08-10T00:53:15.496Z"
   },
   {
    "duration": 3,
    "start_time": "2023-08-10T00:54:29.005Z"
   },
   {
    "duration": 2,
    "start_time": "2023-08-10T00:54:41.042Z"
   },
   {
    "duration": 9,
    "start_time": "2023-08-10T00:54:41.235Z"
   },
   {
    "duration": 3,
    "start_time": "2023-08-10T00:55:07.721Z"
   },
   {
    "duration": 3,
    "start_time": "2023-08-10T00:55:08.169Z"
   },
   {
    "duration": 3,
    "start_time": "2023-08-10T00:55:08.514Z"
   },
   {
    "duration": 172413,
    "start_time": "2023-08-10T00:55:08.984Z"
   },
   {
    "duration": 4,
    "start_time": "2023-08-10T00:58:19.003Z"
   },
   {
    "duration": 3,
    "start_time": "2023-08-10T00:58:23.875Z"
   },
   {
    "duration": 9,
    "start_time": "2023-08-10T00:58:24.063Z"
   },
   {
    "duration": 4,
    "start_time": "2023-08-10T00:59:16.023Z"
   },
   {
    "duration": 3,
    "start_time": "2023-08-10T00:59:16.301Z"
   },
   {
    "duration": 3,
    "start_time": "2023-08-10T00:59:16.497Z"
   },
   {
    "duration": 40886,
    "start_time": "2023-08-10T00:59:16.760Z"
   },
   {
    "duration": 3,
    "start_time": "2023-08-10T01:00:50.314Z"
   },
   {
    "duration": 3,
    "start_time": "2023-08-10T01:01:02.803Z"
   },
   {
    "duration": 184649,
    "start_time": "2023-08-10T01:01:03.061Z"
   },
   {
    "duration": 4,
    "start_time": "2023-08-10T01:04:15.316Z"
   },
   {
    "duration": 4,
    "start_time": "2023-08-10T01:04:51.257Z"
   },
   {
    "duration": 3,
    "start_time": "2023-08-10T01:05:09.616Z"
   },
   {
    "duration": 3,
    "start_time": "2023-08-10T01:05:16.751Z"
   },
   {
    "duration": 7,
    "start_time": "2023-08-10T01:05:17.181Z"
   },
   {
    "duration": 3,
    "start_time": "2023-08-10T01:05:17.723Z"
   },
   {
    "duration": 2,
    "start_time": "2023-08-10T01:05:20.402Z"
   },
   {
    "duration": 345247,
    "start_time": "2023-08-10T01:05:21.549Z"
   },
   {
    "duration": 4,
    "start_time": "2023-08-10T01:11:12.400Z"
   },
   {
    "duration": 3,
    "start_time": "2023-08-10T01:11:54.780Z"
   },
   {
    "duration": 8542,
    "start_time": "2023-08-10T01:11:55.393Z"
   },
   {
    "duration": 3,
    "start_time": "2023-08-10T01:12:05.675Z"
   },
   {
    "duration": 2,
    "start_time": "2023-08-10T01:12:06.115Z"
   },
   {
    "duration": 138,
    "start_time": "2023-08-10T01:12:10.667Z"
   },
   {
    "duration": 3,
    "start_time": "2023-08-10T01:12:16.698Z"
   },
   {
    "duration": 3,
    "start_time": "2023-08-10T01:12:17.160Z"
   },
   {
    "duration": 130,
    "start_time": "2023-08-10T01:12:18.401Z"
   },
   {
    "duration": 4,
    "start_time": "2023-08-10T01:13:02.355Z"
   },
   {
    "duration": 3,
    "start_time": "2023-08-10T01:13:02.719Z"
   },
   {
    "duration": 370594,
    "start_time": "2023-08-10T01:13:03.540Z"
   },
   {
    "duration": 3,
    "start_time": "2023-08-10T01:19:19.370Z"
   },
   {
    "duration": 4950,
    "start_time": "2023-08-10T07:13:51.139Z"
   },
   {
    "duration": 198,
    "start_time": "2023-08-10T07:13:56.095Z"
   },
   {
    "duration": 3827,
    "start_time": "2023-08-10T07:13:56.295Z"
   },
   {
    "duration": 11,
    "start_time": "2023-08-10T07:14:00.124Z"
   },
   {
    "duration": 597,
    "start_time": "2023-08-10T07:14:00.137Z"
   },
   {
    "duration": 3,
    "start_time": "2023-08-10T07:14:00.736Z"
   },
   {
    "duration": 71,
    "start_time": "2023-08-10T07:14:00.741Z"
   },
   {
    "duration": 41,
    "start_time": "2023-08-10T07:14:00.814Z"
   },
   {
    "duration": 4451,
    "start_time": "2023-08-10T07:14:00.857Z"
   },
   {
    "duration": 2415275,
    "start_time": "2023-08-10T07:14:05.311Z"
   },
   {
    "duration": 7,
    "start_time": "2023-08-10T07:54:20.588Z"
   },
   {
    "duration": 45,
    "start_time": "2023-08-10T07:54:20.597Z"
   },
   {
    "duration": 35,
    "start_time": "2023-08-10T07:54:20.644Z"
   },
   {
    "duration": 12,
    "start_time": "2023-08-10T07:54:20.682Z"
   },
   {
    "duration": 9,
    "start_time": "2023-08-10T07:54:20.696Z"
   },
   {
    "duration": 176,
    "start_time": "2023-08-10T07:54:20.707Z"
   },
   {
    "duration": 35,
    "start_time": "2023-08-10T07:54:20.885Z"
   },
   {
    "duration": 29,
    "start_time": "2023-08-10T07:54:20.922Z"
   },
   {
    "duration": 16,
    "start_time": "2023-08-10T07:54:20.953Z"
   },
   {
    "duration": 19,
    "start_time": "2023-08-10T07:54:20.970Z"
   },
   {
    "duration": 22,
    "start_time": "2023-08-10T07:54:20.991Z"
   },
   {
    "duration": 10,
    "start_time": "2023-08-10T07:54:21.015Z"
   },
   {
    "duration": 13,
    "start_time": "2023-08-10T07:54:21.026Z"
   },
   {
    "duration": 379967,
    "start_time": "2023-08-10T07:54:21.041Z"
   },
   {
    "duration": 8,
    "start_time": "2023-08-10T08:00:41.011Z"
   },
   {
    "duration": 11,
    "start_time": "2023-08-10T08:00:41.021Z"
   },
   {
    "duration": 32,
    "start_time": "2023-08-10T08:00:41.033Z"
   },
   {
    "duration": 6,
    "start_time": "2023-08-10T08:00:41.068Z"
   },
   {
    "duration": 4,
    "start_time": "2023-08-10T08:32:16.671Z"
   },
   {
    "duration": 4,
    "start_time": "2023-08-10T08:32:22.091Z"
   },
   {
    "duration": 4,
    "start_time": "2023-08-10T08:32:38.791Z"
   },
   {
    "duration": 5,
    "start_time": "2023-08-10T08:32:49.106Z"
   },
   {
    "duration": 5,
    "start_time": "2023-08-10T08:32:52.471Z"
   },
   {
    "duration": 4,
    "start_time": "2023-08-10T08:33:13.481Z"
   },
   {
    "duration": 5,
    "start_time": "2023-08-10T08:33:16.518Z"
   },
   {
    "duration": 4,
    "start_time": "2023-08-10T08:33:24.971Z"
   },
   {
    "duration": 3,
    "start_time": "2023-08-10T08:45:11.821Z"
   },
   {
    "duration": 3,
    "start_time": "2023-08-10T08:45:12.323Z"
   },
   {
    "duration": 9,
    "start_time": "2023-08-10T08:45:12.691Z"
   },
   {
    "duration": 4,
    "start_time": "2023-08-10T08:45:13.297Z"
   },
   {
    "duration": 4,
    "start_time": "2023-08-10T08:45:13.728Z"
   },
   {
    "duration": 382203,
    "start_time": "2023-08-10T08:45:14.002Z"
   },
   {
    "duration": 4,
    "start_time": "2023-08-10T08:51:36.206Z"
   },
   {
    "duration": 12,
    "start_time": "2023-08-10T08:51:36.276Z"
   },
   {
    "duration": 14,
    "start_time": "2023-08-10T08:51:36.290Z"
   },
   {
    "duration": 8,
    "start_time": "2023-08-10T08:51:36.306Z"
   },
   {
    "duration": 10,
    "start_time": "2023-08-10T08:51:36.315Z"
   },
   {
    "duration": 472,
    "start_time": "2023-08-10T08:51:36.327Z"
   },
   {
    "duration": 23,
    "start_time": "2023-08-10T08:51:36.801Z"
   },
   {
    "duration": 3,
    "start_time": "2023-08-10T09:10:05.079Z"
   },
   {
    "duration": 206612,
    "start_time": "2023-08-10T09:10:06.131Z"
   },
   {
    "duration": 14,
    "start_time": "2023-08-10T09:13:32.746Z"
   },
   {
    "duration": 5,
    "start_time": "2023-08-10T09:16:15.797Z"
   },
   {
    "duration": 3,
    "start_time": "2023-08-10T09:16:27.290Z"
   },
   {
    "duration": 4,
    "start_time": "2023-08-10T09:16:27.874Z"
   },
   {
    "duration": 139962,
    "start_time": "2023-08-10T09:16:28.886Z"
   },
   {
    "duration": 4,
    "start_time": "2023-08-10T09:19:18.786Z"
   },
   {
    "duration": 4,
    "start_time": "2023-08-10T09:19:44.794Z"
   },
   {
    "duration": 3,
    "start_time": "2023-08-10T09:19:46.078Z"
   },
   {
    "duration": 275218,
    "start_time": "2023-08-10T09:19:46.634Z"
   },
   {
    "duration": 5,
    "start_time": "2023-08-10T09:24:29.537Z"
   },
   {
    "duration": 10,
    "start_time": "2023-08-10T09:24:58.081Z"
   },
   {
    "duration": 8,
    "start_time": "2023-08-10T09:25:00.205Z"
   },
   {
    "duration": 4,
    "start_time": "2023-08-10T09:25:00.524Z"
   },
   {
    "duration": 4,
    "start_time": "2023-08-10T09:25:02.715Z"
   },
   {
    "duration": 289284,
    "start_time": "2023-08-10T09:25:03.490Z"
   },
   {
    "duration": 5,
    "start_time": "2023-08-10T09:37:01.585Z"
   },
   {
    "duration": 10,
    "start_time": "2023-08-10T09:37:24.073Z"
   },
   {
    "duration": 4,
    "start_time": "2023-08-10T09:39:00.678Z"
   },
   {
    "duration": 9,
    "start_time": "2023-08-10T09:39:01.013Z"
   },
   {
    "duration": 3,
    "start_time": "2023-08-10T09:41:59.903Z"
   },
   {
    "duration": 4,
    "start_time": "2023-08-10T09:42:01.133Z"
   },
   {
    "duration": 22058,
    "start_time": "2023-08-10T09:42:02.506Z"
   },
   {
    "duration": 34,
    "start_time": "2023-08-10T09:42:24.567Z"
   },
   {
    "duration": 4,
    "start_time": "2023-08-10T09:42:42.733Z"
   },
   {
    "duration": 179,
    "start_time": "2023-08-10T09:42:43.715Z"
   },
   {
    "duration": 24,
    "start_time": "2023-08-10T09:43:02.683Z"
   },
   {
    "duration": 21,
    "start_time": "2023-08-10T09:43:07.683Z"
   },
   {
    "duration": 21,
    "start_time": "2023-08-10T09:43:16.978Z"
   },
   {
    "duration": 20,
    "start_time": "2023-08-10T09:43:19.642Z"
   },
   {
    "duration": 5,
    "start_time": "2023-08-10T09:43:31.393Z"
   },
   {
    "duration": 3,
    "start_time": "2023-08-10T09:44:41.593Z"
   },
   {
    "duration": 5,
    "start_time": "2023-08-10T09:44:42.482Z"
   },
   {
    "duration": 4894,
    "start_time": "2023-08-10T10:03:30.509Z"
   },
   {
    "duration": 247,
    "start_time": "2023-08-10T10:03:35.405Z"
   },
   {
    "duration": 789,
    "start_time": "2023-08-10T10:03:35.653Z"
   },
   {
    "duration": 23,
    "start_time": "2023-08-10T10:03:36.444Z"
   },
   {
    "duration": 509,
    "start_time": "2023-08-10T10:03:36.470Z"
   },
   {
    "duration": 3,
    "start_time": "2023-08-10T10:03:36.982Z"
   },
   {
    "duration": 34,
    "start_time": "2023-08-10T10:03:36.988Z"
   },
   {
    "duration": 36,
    "start_time": "2023-08-10T10:03:37.024Z"
   },
   {
    "duration": 3938,
    "start_time": "2023-08-10T10:03:37.062Z"
   },
   {
    "duration": 2357812,
    "start_time": "2023-08-10T10:03:41.002Z"
   },
   {
    "duration": 10,
    "start_time": "2023-08-10T10:42:58.816Z"
   },
   {
    "duration": 18,
    "start_time": "2023-08-10T10:42:58.828Z"
   },
   {
    "duration": 16,
    "start_time": "2023-08-10T10:42:58.860Z"
   },
   {
    "duration": 8,
    "start_time": "2023-08-10T10:42:58.880Z"
   },
   {
    "duration": 48,
    "start_time": "2023-08-10T10:42:58.890Z"
   },
   {
    "duration": 167,
    "start_time": "2023-08-10T10:42:58.941Z"
   },
   {
    "duration": 38,
    "start_time": "2023-08-10T10:42:59.110Z"
   },
   {
    "duration": 13,
    "start_time": "2023-08-10T10:42:59.150Z"
   },
   {
    "duration": 12,
    "start_time": "2023-08-10T10:42:59.164Z"
   },
   {
    "duration": 10,
    "start_time": "2023-08-10T10:42:59.177Z"
   },
   {
    "duration": 21,
    "start_time": "2023-08-10T10:42:59.189Z"
   },
   {
    "duration": 15,
    "start_time": "2023-08-10T10:42:59.212Z"
   },
   {
    "duration": 8,
    "start_time": "2023-08-10T10:42:59.229Z"
   },
   {
    "duration": 385372,
    "start_time": "2023-08-10T10:42:59.239Z"
   },
   {
    "duration": 363,
    "start_time": "2023-08-10T10:49:24.613Z"
   },
   {
    "duration": 0,
    "start_time": "2023-08-10T10:49:24.979Z"
   },
   {
    "duration": 0,
    "start_time": "2023-08-10T10:49:24.980Z"
   },
   {
    "duration": 0,
    "start_time": "2023-08-10T10:49:24.982Z"
   },
   {
    "duration": 0,
    "start_time": "2023-08-10T10:49:24.983Z"
   },
   {
    "duration": 0,
    "start_time": "2023-08-10T10:49:24.985Z"
   },
   {
    "duration": 0,
    "start_time": "2023-08-10T10:49:24.986Z"
   },
   {
    "duration": 0,
    "start_time": "2023-08-10T10:49:24.988Z"
   },
   {
    "duration": 0,
    "start_time": "2023-08-10T10:49:24.989Z"
   },
   {
    "duration": 0,
    "start_time": "2023-08-10T10:49:24.990Z"
   },
   {
    "duration": 0,
    "start_time": "2023-08-10T10:49:24.992Z"
   },
   {
    "duration": 0,
    "start_time": "2023-08-10T10:49:24.993Z"
   },
   {
    "duration": 0,
    "start_time": "2023-08-10T10:49:24.995Z"
   },
   {
    "duration": 4,
    "start_time": "2023-08-10T10:52:29.477Z"
   },
   {
    "duration": 21,
    "start_time": "2023-08-10T10:52:33.313Z"
   },
   {
    "duration": 18,
    "start_time": "2023-08-10T10:52:33.638Z"
   },
   {
    "duration": 3,
    "start_time": "2023-08-10T10:52:44.750Z"
   },
   {
    "duration": 7,
    "start_time": "2023-08-10T10:52:46.741Z"
   },
   {
    "duration": 4,
    "start_time": "2023-08-10T10:52:50.238Z"
   },
   {
    "duration": 3,
    "start_time": "2023-08-10T10:52:54.071Z"
   },
   {
    "duration": 246022,
    "start_time": "2023-08-10T10:52:55.138Z"
   },
   {
    "duration": 4,
    "start_time": "2023-08-10T10:57:01.162Z"
   },
   {
    "duration": 4,
    "start_time": "2023-08-10T10:58:50.697Z"
   },
   {
    "duration": 9,
    "start_time": "2023-08-10T10:58:51.281Z"
   },
   {
    "duration": 4,
    "start_time": "2023-08-10T10:58:52.017Z"
   },
   {
    "duration": 3,
    "start_time": "2023-08-10T10:58:52.607Z"
   },
   {
    "duration": 4463,
    "start_time": "2023-08-10T11:28:47.672Z"
   },
   {
    "duration": 7,
    "start_time": "2023-08-10T11:29:47.483Z"
   },
   {
    "duration": 248,
    "start_time": "2023-08-10T11:29:47.492Z"
   },
   {
    "duration": 883,
    "start_time": "2023-08-10T11:29:47.742Z"
   },
   {
    "duration": 22,
    "start_time": "2023-08-10T11:29:48.627Z"
   },
   {
    "duration": 559,
    "start_time": "2023-08-10T11:29:48.653Z"
   },
   {
    "duration": 3,
    "start_time": "2023-08-10T11:29:49.214Z"
   },
   {
    "duration": 47,
    "start_time": "2023-08-10T11:29:49.219Z"
   },
   {
    "duration": 35,
    "start_time": "2023-08-10T11:29:49.269Z"
   },
   {
    "duration": 4334,
    "start_time": "2023-08-10T11:29:49.306Z"
   },
   {
    "duration": 2460243,
    "start_time": "2023-08-10T11:29:53.642Z"
   },
   {
    "duration": 8,
    "start_time": "2023-08-10T12:10:53.887Z"
   },
   {
    "duration": 26,
    "start_time": "2023-08-10T12:10:53.897Z"
   },
   {
    "duration": 11,
    "start_time": "2023-08-10T12:10:53.924Z"
   },
   {
    "duration": 8,
    "start_time": "2023-08-10T12:10:53.938Z"
   },
   {
    "duration": 30,
    "start_time": "2023-08-10T12:10:53.947Z"
   },
   {
    "duration": 169,
    "start_time": "2023-08-10T12:10:53.979Z"
   },
   {
    "duration": 40,
    "start_time": "2023-08-10T12:10:54.150Z"
   },
   {
    "duration": 15,
    "start_time": "2023-08-10T12:10:54.192Z"
   },
   {
    "duration": 20,
    "start_time": "2023-08-10T12:10:54.209Z"
   },
   {
    "duration": 3,
    "start_time": "2023-08-10T12:15:28.864Z"
   },
   {
    "duration": 8,
    "start_time": "2023-08-10T12:15:29.425Z"
   },
   {
    "duration": 3,
    "start_time": "2023-08-10T12:15:29.723Z"
   },
   {
    "duration": 3,
    "start_time": "2023-08-10T12:15:30.659Z"
   },
   {
    "duration": 102786,
    "start_time": "2023-08-10T12:15:31.474Z"
   },
   {
    "duration": 4,
    "start_time": "2023-08-10T12:18:08.597Z"
   },
   {
    "duration": 8,
    "start_time": "2023-08-10T12:18:09.098Z"
   },
   {
    "duration": 3,
    "start_time": "2023-08-10T12:18:09.408Z"
   },
   {
    "duration": 4,
    "start_time": "2023-08-10T12:18:09.907Z"
   },
   {
    "duration": 153850,
    "start_time": "2023-08-10T12:18:10.566Z"
   },
   {
    "duration": 31,
    "start_time": "2023-08-10T12:27:43.278Z"
   },
   {
    "duration": 4,
    "start_time": "2023-08-10T12:31:32.477Z"
   },
   {
    "duration": 8,
    "start_time": "2023-08-10T12:31:33.860Z"
   },
   {
    "duration": 3,
    "start_time": "2023-08-10T12:31:41.099Z"
   },
   {
    "duration": 4,
    "start_time": "2023-08-10T12:31:43.385Z"
   },
   {
    "duration": 68194,
    "start_time": "2023-08-10T12:31:44.236Z"
   },
   {
    "duration": 4,
    "start_time": "2023-08-10T12:33:24.189Z"
   },
   {
    "duration": 11,
    "start_time": "2023-08-10T12:33:24.357Z"
   },
   {
    "duration": 3,
    "start_time": "2023-08-10T12:33:24.533Z"
   },
   {
    "duration": 4,
    "start_time": "2023-08-10T12:33:27.026Z"
   },
   {
    "duration": 664161,
    "start_time": "2023-08-10T12:33:28.964Z"
   },
   {
    "duration": 4,
    "start_time": "2023-08-10T12:45:10.652Z"
   },
   {
    "duration": 47,
    "start_time": "2023-08-10T12:48:25.413Z"
   },
   {
    "duration": 30,
    "start_time": "2023-08-10T12:48:43.443Z"
   },
   {
    "duration": 35,
    "start_time": "2023-08-10T12:48:45.741Z"
   },
   {
    "duration": 6,
    "start_time": "2023-08-10T12:49:13.115Z"
   },
   {
    "duration": 3,
    "start_time": "2023-08-10T12:50:05.449Z"
   },
   {
    "duration": 4,
    "start_time": "2023-08-10T12:50:29.246Z"
   },
   {
    "duration": 180818,
    "start_time": "2023-08-10T12:50:37.907Z"
   },
   {
    "duration": 8,
    "start_time": "2023-08-10T12:53:58.684Z"
   },
   {
    "duration": 6,
    "start_time": "2023-08-10T12:55:34.520Z"
   },
   {
    "duration": 5,
    "start_time": "2023-08-10T12:56:24.604Z"
   },
   {
    "duration": 8,
    "start_time": "2023-08-10T12:56:27.181Z"
   },
   {
    "duration": 184085,
    "start_time": "2023-08-10T12:56:28.188Z"
   },
   {
    "duration": 4,
    "start_time": "2023-08-10T12:59:42.336Z"
   },
   {
    "duration": 4,
    "start_time": "2023-08-10T13:00:02.233Z"
   },
   {
    "duration": 11,
    "start_time": "2023-08-10T13:00:02.677Z"
   },
   {
    "duration": 323340,
    "start_time": "2023-08-10T13:00:03.512Z"
   },
   {
    "duration": 15,
    "start_time": "2023-08-10T13:05:26.854Z"
   },
   {
    "duration": 8,
    "start_time": "2023-08-10T13:10:34.081Z"
   },
   {
    "duration": 129,
    "start_time": "2023-08-10T13:10:40.184Z"
   },
   {
    "duration": 6,
    "start_time": "2023-08-10T13:10:40.480Z"
   },
   {
    "duration": 5047,
    "start_time": "2023-08-10T13:10:40.884Z"
   },
   {
    "duration": 4,
    "start_time": "2023-08-10T13:10:48.586Z"
   },
   {
    "duration": 3,
    "start_time": "2023-08-10T13:10:48.806Z"
   },
   {
    "duration": 176118,
    "start_time": "2023-08-10T13:10:49.210Z"
   },
   {
    "duration": 6,
    "start_time": "2023-08-10T13:13:45.330Z"
   },
   {
    "duration": 4,
    "start_time": "2023-08-10T13:15:45.340Z"
   },
   {
    "duration": 15,
    "start_time": "2023-08-10T13:15:45.560Z"
   },
   {
    "duration": 4,
    "start_time": "2023-08-10T13:15:45.710Z"
   },
   {
    "duration": 3,
    "start_time": "2023-08-10T13:15:45.900Z"
   },
   {
    "duration": 270986,
    "start_time": "2023-08-10T13:15:46.770Z"
   },
   {
    "duration": 10,
    "start_time": "2023-08-10T13:20:17.773Z"
   },
   {
    "duration": 9,
    "start_time": "2023-08-10T13:20:17.785Z"
   },
   {
    "duration": 22,
    "start_time": "2023-08-10T13:20:17.797Z"
   },
   {
    "duration": 25,
    "start_time": "2023-08-10T13:20:17.821Z"
   },
   {
    "duration": 50,
    "start_time": "2023-08-10T13:20:17.847Z"
   },
   {
    "duration": 397909,
    "start_time": "2023-08-10T13:20:17.899Z"
   },
   {
    "duration": 5,
    "start_time": "2023-08-10T13:26:55.810Z"
   },
   {
    "duration": 19,
    "start_time": "2023-08-10T13:26:55.817Z"
   },
   {
    "duration": 64,
    "start_time": "2023-08-10T13:35:27.280Z"
   },
   {
    "duration": 4,
    "start_time": "2023-08-10T13:35:32.988Z"
   },
   {
    "duration": 8,
    "start_time": "2023-08-10T13:35:36.485Z"
   },
   {
    "duration": 11,
    "start_time": "2023-08-10T13:35:43.130Z"
   },
   {
    "duration": 11,
    "start_time": "2023-08-10T13:41:18.474Z"
   },
   {
    "duration": 21,
    "start_time": "2023-08-10T13:42:46.229Z"
   },
   {
    "duration": 15,
    "start_time": "2023-08-10T13:42:52.277Z"
   },
   {
    "duration": 28,
    "start_time": "2023-08-10T13:46:02.034Z"
   },
   {
    "duration": 5,
    "start_time": "2023-08-10T13:46:07.972Z"
   },
   {
    "duration": 3865,
    "start_time": "2023-08-10T13:46:54.090Z"
   },
   {
    "duration": 8,
    "start_time": "2023-08-10T13:47:01.771Z"
   },
   {
    "duration": 115,
    "start_time": "2023-08-10T13:47:29.858Z"
   },
   {
    "duration": 4107,
    "start_time": "2023-08-10T13:47:33.326Z"
   },
   {
    "duration": 10,
    "start_time": "2023-08-10T13:55:54.978Z"
   },
   {
    "duration": 6052,
    "start_time": "2023-08-10T13:56:24.077Z"
   },
   {
    "duration": 5428,
    "start_time": "2023-08-10T14:13:46.899Z"
   },
   {
    "duration": 274,
    "start_time": "2023-08-10T14:13:52.329Z"
   },
   {
    "duration": 1023,
    "start_time": "2023-08-10T14:13:52.606Z"
   },
   {
    "duration": 15,
    "start_time": "2023-08-10T14:13:53.631Z"
   },
   {
    "duration": 950,
    "start_time": "2023-08-10T14:13:53.658Z"
   },
   {
    "duration": 4,
    "start_time": "2023-08-10T14:13:54.619Z"
   },
   {
    "duration": 64,
    "start_time": "2023-08-10T14:13:54.629Z"
   },
   {
    "duration": 60,
    "start_time": "2023-08-10T14:13:54.696Z"
   },
   {
    "duration": 5097,
    "start_time": "2023-08-10T14:13:54.759Z"
   },
   {
    "duration": 2693766,
    "start_time": "2023-08-10T14:13:59.861Z"
   },
   {
    "duration": 9,
    "start_time": "2023-08-10T14:58:53.629Z"
   },
   {
    "duration": 33,
    "start_time": "2023-08-10T14:58:53.640Z"
   },
   {
    "duration": 19,
    "start_time": "2023-08-10T14:58:53.675Z"
   },
   {
    "duration": 16,
    "start_time": "2023-08-10T14:58:53.698Z"
   },
   {
    "duration": 17,
    "start_time": "2023-08-10T14:58:53.716Z"
   },
   {
    "duration": 186,
    "start_time": "2023-08-10T14:58:53.735Z"
   },
   {
    "duration": 45,
    "start_time": "2023-08-10T14:58:53.923Z"
   },
   {
    "duration": 8,
    "start_time": "2023-08-10T14:58:53.970Z"
   },
   {
    "duration": 6,
    "start_time": "2023-08-10T14:58:53.979Z"
   },
   {
    "duration": 11,
    "start_time": "2023-08-10T14:58:53.986Z"
   },
   {
    "duration": 13,
    "start_time": "2023-08-10T14:58:53.999Z"
   },
   {
    "duration": 5,
    "start_time": "2023-08-10T14:58:54.014Z"
   },
   {
    "duration": 19,
    "start_time": "2023-08-10T14:58:54.021Z"
   },
   {
    "duration": 399975,
    "start_time": "2023-08-10T14:58:54.042Z"
   },
   {
    "duration": 4,
    "start_time": "2023-08-10T15:05:34.019Z"
   },
   {
    "duration": 7,
    "start_time": "2023-08-10T15:05:34.025Z"
   },
   {
    "duration": 36,
    "start_time": "2023-08-10T15:05:34.033Z"
   },
   {
    "duration": 7,
    "start_time": "2023-08-10T15:05:34.071Z"
   },
   {
    "duration": 12,
    "start_time": "2023-08-10T15:05:34.081Z"
   },
   {
    "duration": 269246,
    "start_time": "2023-08-10T15:05:34.095Z"
   },
   {
    "duration": 4,
    "start_time": "2023-08-10T15:10:03.343Z"
   },
   {
    "duration": 13,
    "start_time": "2023-08-10T15:10:03.359Z"
   },
   {
    "duration": 6,
    "start_time": "2023-08-10T15:10:03.374Z"
   },
   {
    "duration": 14,
    "start_time": "2023-08-10T15:10:03.382Z"
   },
   {
    "duration": 183490,
    "start_time": "2023-08-10T15:10:03.398Z"
   },
   {
    "duration": 4,
    "start_time": "2023-08-10T15:13:06.890Z"
   },
   {
    "duration": 19,
    "start_time": "2023-08-10T15:13:06.895Z"
   },
   {
    "duration": 4143,
    "start_time": "2023-08-10T15:13:06.916Z"
   },
   {
    "duration": 4483,
    "start_time": "2023-08-10T15:13:11.065Z"
   },
   {
    "duration": 45,
    "start_time": "2023-08-10T20:01:11.929Z"
   },
   {
    "duration": 4321,
    "start_time": "2023-08-10T20:01:24.662Z"
   },
   {
    "duration": 161,
    "start_time": "2023-08-10T20:01:28.985Z"
   },
   {
    "duration": 2338,
    "start_time": "2023-08-10T20:01:29.147Z"
   },
   {
    "duration": 10,
    "start_time": "2023-08-10T20:01:31.487Z"
   },
   {
    "duration": 66,
    "start_time": "2023-08-10T20:01:31.499Z"
   },
   {
    "duration": 25,
    "start_time": "2023-08-10T20:14:42.031Z"
   },
   {
    "duration": 320,
    "start_time": "2023-08-10T20:24:48.019Z"
   },
   {
    "duration": 657,
    "start_time": "2023-08-10T20:25:03.717Z"
   },
   {
    "duration": 435,
    "start_time": "2023-08-10T20:27:12.421Z"
   },
   {
    "duration": 25,
    "start_time": "2023-08-10T20:27:55.842Z"
   },
   {
    "duration": 4,
    "start_time": "2023-08-10T20:29:00.556Z"
   },
   {
    "duration": 674103,
    "start_time": "2023-08-10T20:29:03.920Z"
   },
   {
    "duration": 36,
    "start_time": "2023-08-10T20:40:59.886Z"
   },
   {
    "duration": 6,
    "start_time": "2023-08-10T20:41:10.677Z"
   },
   {
    "duration": 39,
    "start_time": "2023-08-10T20:41:32.878Z"
   },
   {
    "duration": 67,
    "start_time": "2023-08-10T20:42:30.927Z"
   },
   {
    "duration": 5,
    "start_time": "2023-08-10T20:43:04.873Z"
   },
   {
    "duration": 24,
    "start_time": "2023-08-10T20:43:12.949Z"
   },
   {
    "duration": 11,
    "start_time": "2023-08-10T20:43:15.414Z"
   },
   {
    "duration": 25,
    "start_time": "2023-08-10T20:58:17.752Z"
   },
   {
    "duration": 7,
    "start_time": "2023-08-10T20:58:22.331Z"
   },
   {
    "duration": 4030,
    "start_time": "2023-08-10T21:03:09.235Z"
   },
   {
    "duration": 216,
    "start_time": "2023-08-10T21:03:13.267Z"
   },
   {
    "duration": 804,
    "start_time": "2023-08-10T21:03:13.715Z"
   },
   {
    "duration": 11,
    "start_time": "2023-08-10T21:03:14.521Z"
   },
   {
    "duration": 39,
    "start_time": "2023-08-10T21:03:17.547Z"
   },
   {
    "duration": 503,
    "start_time": "2023-08-10T21:03:33.811Z"
   },
   {
    "duration": 3,
    "start_time": "2023-08-10T21:05:22.085Z"
   },
   {
    "duration": 14,
    "start_time": "2023-08-10T21:05:40.295Z"
   },
   {
    "duration": 3984,
    "start_time": "2023-08-10T21:27:30.987Z"
   },
   {
    "duration": 236,
    "start_time": "2023-08-10T21:27:34.973Z"
   },
   {
    "duration": 815,
    "start_time": "2023-08-10T21:27:35.210Z"
   },
   {
    "duration": 13,
    "start_time": "2023-08-10T21:27:36.027Z"
   },
   {
    "duration": 31,
    "start_time": "2023-08-10T21:27:36.041Z"
   },
   {
    "duration": 352,
    "start_time": "2023-08-10T21:27:47.500Z"
   },
   {
    "duration": 526,
    "start_time": "2023-08-10T21:28:03.559Z"
   },
   {
    "duration": 703243,
    "start_time": "2023-08-10T21:28:04.925Z"
   },
   {
    "duration": 3,
    "start_time": "2023-08-10T21:42:31.344Z"
   },
   {
    "duration": 9,
    "start_time": "2023-08-10T21:43:02.435Z"
   },
   {
    "duration": 6,
    "start_time": "2023-08-10T21:43:09.055Z"
   },
   {
    "duration": 4,
    "start_time": "2023-08-10T21:43:29.145Z"
   },
   {
    "duration": 73,
    "start_time": "2023-08-10T21:44:35.536Z"
   },
   {
    "duration": 18,
    "start_time": "2023-08-10T21:45:17.571Z"
   },
   {
    "duration": 113,
    "start_time": "2023-08-10T21:46:37.831Z"
   },
   {
    "duration": 3,
    "start_time": "2023-08-10T21:46:45.325Z"
   },
   {
    "duration": 4133,
    "start_time": "2023-08-10T21:46:59.505Z"
   },
   {
    "duration": 189,
    "start_time": "2023-08-10T21:47:03.640Z"
   },
   {
    "duration": 912,
    "start_time": "2023-08-10T21:47:03.830Z"
   },
   {
    "duration": 12,
    "start_time": "2023-08-10T21:47:04.743Z"
   },
   {
    "duration": 68,
    "start_time": "2023-08-10T21:47:04.757Z"
   },
   {
    "duration": 4,
    "start_time": "2023-08-10T21:47:04.834Z"
   },
   {
    "duration": 4019,
    "start_time": "2023-08-10T21:47:50.927Z"
   },
   {
    "duration": 6,
    "start_time": "2023-08-10T21:48:01.434Z"
   },
   {
    "duration": 14,
    "start_time": "2023-08-10T21:48:08.721Z"
   },
   {
    "duration": 488,
    "start_time": "2023-08-10T21:48:45.497Z"
   },
   {
    "duration": 575979,
    "start_time": "2023-08-10T21:48:45.987Z"
   },
   {
    "duration": 63,
    "start_time": "2023-08-10T21:59:01.370Z"
   },
   {
    "duration": 36,
    "start_time": "2023-08-10T21:59:13.552Z"
   },
   {
    "duration": 6,
    "start_time": "2023-08-10T21:59:21.342Z"
   },
   {
    "duration": 21,
    "start_time": "2023-08-10T22:00:06.999Z"
   },
   {
    "duration": 14,
    "start_time": "2023-08-10T22:00:07.731Z"
   },
   {
    "duration": 5,
    "start_time": "2023-08-10T22:00:11.723Z"
   },
   {
    "duration": 5,
    "start_time": "2023-08-10T22:00:12.472Z"
   },
   {
    "duration": 183,
    "start_time": "2023-08-10T22:00:14.279Z"
   },
   {
    "duration": 31,
    "start_time": "2023-08-10T22:00:58.825Z"
   },
   {
    "duration": 4,
    "start_time": "2023-08-10T22:01:00.218Z"
   },
   {
    "duration": 6,
    "start_time": "2023-08-10T22:02:28.640Z"
   },
   {
    "duration": 21,
    "start_time": "2023-08-10T22:02:29.224Z"
   },
   {
    "duration": 24,
    "start_time": "2023-08-10T22:02:29.897Z"
   },
   {
    "duration": 4,
    "start_time": "2023-08-10T22:02:30.691Z"
   },
   {
    "duration": 3,
    "start_time": "2023-08-10T22:02:34.139Z"
   },
   {
    "duration": 11619,
    "start_time": "2023-08-10T22:03:06.468Z"
   },
   {
    "duration": 3,
    "start_time": "2023-08-10T22:04:14.449Z"
   },
   {
    "duration": 8,
    "start_time": "2023-08-10T22:04:16.961Z"
   },
   {
    "duration": 8,
    "start_time": "2023-08-10T22:04:17.546Z"
   },
   {
    "duration": 3,
    "start_time": "2023-08-10T22:04:18.041Z"
   },
   {
    "duration": 3981,
    "start_time": "2023-08-10T22:04:18.676Z"
   },
   {
    "duration": 4,
    "start_time": "2023-08-10T22:04:26.190Z"
   },
   {
    "duration": 21,
    "start_time": "2023-08-10T22:04:26.724Z"
   },
   {
    "duration": 3,
    "start_time": "2023-08-10T22:04:26.939Z"
   },
   {
    "duration": 3,
    "start_time": "2023-08-10T22:04:27.159Z"
   },
   {
    "duration": 486124,
    "start_time": "2023-08-10T22:04:27.479Z"
   },
   {
    "duration": 28,
    "start_time": "2023-08-10T22:12:33.620Z"
   },
   {
    "duration": 95,
    "start_time": "2023-08-10T22:12:33.654Z"
   },
   {
    "duration": 37,
    "start_time": "2023-08-10T22:12:33.751Z"
   },
   {
    "duration": 11,
    "start_time": "2023-08-10T22:12:33.790Z"
   },
   {
    "duration": 62,
    "start_time": "2023-08-10T22:12:33.815Z"
   },
   {
    "duration": 481135,
    "start_time": "2023-08-10T22:12:33.879Z"
   },
   {
    "duration": 5,
    "start_time": "2023-08-10T22:20:35.016Z"
   },
   {
    "duration": 110,
    "start_time": "2023-08-10T22:20:35.023Z"
   },
   {
    "duration": 62,
    "start_time": "2023-08-10T22:20:35.136Z"
   },
   {
    "duration": 85,
    "start_time": "2023-08-10T22:20:35.210Z"
   },
   {
    "duration": 303154,
    "start_time": "2023-08-10T22:20:35.296Z"
   },
   {
    "duration": 4,
    "start_time": "2023-08-10T22:25:38.452Z"
   },
   {
    "duration": 27,
    "start_time": "2023-08-10T22:25:38.458Z"
   },
   {
    "duration": 1530,
    "start_time": "2023-08-10T22:25:38.486Z"
   },
   {
    "duration": 1845,
    "start_time": "2023-08-10T22:25:40.020Z"
   },
   {
    "duration": 3401,
    "start_time": "2024-02-12T17:21:13.935Z"
   },
   {
    "duration": 131,
    "start_time": "2024-02-12T17:21:17.338Z"
   },
   {
    "duration": 2087,
    "start_time": "2024-02-12T17:21:17.470Z"
   },
   {
    "duration": 8,
    "start_time": "2024-02-12T17:21:19.558Z"
   },
   {
    "duration": 23,
    "start_time": "2024-02-12T17:21:19.568Z"
   },
   {
    "duration": 6,
    "start_time": "2024-02-12T17:21:19.592Z"
   },
   {
    "duration": 4016,
    "start_time": "2024-02-12T17:21:19.599Z"
   },
   {
    "duration": 394,
    "start_time": "2024-02-12T17:21:23.616Z"
   },
   {
    "duration": 486692,
    "start_time": "2024-02-12T17:21:24.012Z"
   },
   {
    "duration": 29,
    "start_time": "2024-02-12T17:29:30.705Z"
   },
   {
    "duration": 23,
    "start_time": "2024-02-12T17:29:30.735Z"
   },
   {
    "duration": 30,
    "start_time": "2024-02-12T17:29:30.759Z"
   },
   {
    "duration": 60,
    "start_time": "2024-02-12T17:29:30.790Z"
   },
   {
    "duration": 26,
    "start_time": "2024-02-12T17:29:30.853Z"
   },
   {
    "duration": 22,
    "start_time": "2024-02-12T17:29:30.880Z"
   },
   {
    "duration": 143,
    "start_time": "2024-02-12T17:29:30.903Z"
   },
   {
    "duration": 17,
    "start_time": "2024-02-12T17:29:31.047Z"
   },
   {
    "duration": 9,
    "start_time": "2024-02-12T17:29:31.066Z"
   },
   {
    "duration": 32,
    "start_time": "2024-02-12T17:29:31.076Z"
   },
   {
    "duration": 29,
    "start_time": "2024-02-12T17:29:31.109Z"
   },
   {
    "duration": 40,
    "start_time": "2024-02-12T17:29:31.139Z"
   },
   {
    "duration": 27,
    "start_time": "2024-02-12T17:29:31.180Z"
   },
   {
    "duration": 22,
    "start_time": "2024-02-12T17:29:31.208Z"
   },
   {
    "duration": 376704,
    "start_time": "2024-02-12T17:29:31.231Z"
   },
   {
    "duration": 4,
    "start_time": "2024-02-12T17:35:47.936Z"
   },
   {
    "duration": 4,
    "start_time": "2024-02-12T17:35:47.941Z"
   },
   {
    "duration": 7,
    "start_time": "2024-02-12T17:35:47.946Z"
   },
   {
    "duration": 3,
    "start_time": "2024-02-12T17:35:47.954Z"
   },
   {
    "duration": 9,
    "start_time": "2024-02-12T17:35:47.958Z"
   },
   {
    "duration": 237766,
    "start_time": "2024-02-12T17:35:47.968Z"
   },
   {
    "duration": 3,
    "start_time": "2024-02-12T17:39:45.735Z"
   },
   {
    "duration": 3,
    "start_time": "2024-02-12T17:39:45.739Z"
   },
   {
    "duration": 59,
    "start_time": "2024-02-12T17:39:45.743Z"
   },
   {
    "duration": 11,
    "start_time": "2024-02-12T17:39:45.803Z"
   },
   {
    "duration": 164868,
    "start_time": "2024-02-12T17:39:45.815Z"
   },
   {
    "duration": 3,
    "start_time": "2024-02-12T17:42:30.685Z"
   },
   {
    "duration": 28,
    "start_time": "2024-02-12T17:42:30.690Z"
   },
   {
    "duration": 1038,
    "start_time": "2024-02-12T17:42:30.719Z"
   },
   {
    "duration": 1116,
    "start_time": "2024-02-12T17:42:31.759Z"
   }
  ],
  "kernelspec": {
   "display_name": "Python 3 (ipykernel)",
   "language": "python",
   "name": "python3"
  },
  "language_info": {
   "codemirror_mode": {
    "name": "ipython",
    "version": 3
   },
   "file_extension": ".py",
   "mimetype": "text/x-python",
   "name": "python",
   "nbconvert_exporter": "python",
   "pygments_lexer": "ipython3",
   "version": "3.9.16"
  },
  "toc": {
   "base_numbering": 1,
   "nav_menu": {},
   "number_sections": true,
   "sideBar": true,
   "skip_h1_title": true,
   "title_cell": "Содержание",
   "title_sidebar": "Contents",
   "toc_cell": true,
   "toc_position": {
    "height": "calc(100% - 180px)",
    "left": "10px",
    "top": "150px",
    "width": "302.391px"
   },
   "toc_section_display": true,
   "toc_window_display": true
  },
  "varInspector": {
   "cols": {
    "lenName": 16,
    "lenType": 16,
    "lenVar": 40
   },
   "kernels_config": {
    "python": {
     "delete_cmd_postfix": "",
     "delete_cmd_prefix": "del ",
     "library": "var_list.py",
     "varRefreshCmd": "print(var_dic_list())"
    },
    "r": {
     "delete_cmd_postfix": ") ",
     "delete_cmd_prefix": "rm(",
     "library": "var_list.r",
     "varRefreshCmd": "cat(var_dic_list()) "
    }
   },
   "types_to_exclude": [
    "module",
    "function",
    "builtin_function_or_method",
    "instance",
    "_Feature"
   ],
   "window_display": false
  }
 },
 "nbformat": 4,
 "nbformat_minor": 2
}
