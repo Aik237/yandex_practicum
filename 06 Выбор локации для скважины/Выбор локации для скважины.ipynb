{
 "cells": [
  {
   "cell_type": "markdown",
   "metadata": {},
   "source": [
    "# Выбор локации для скважины"
   ]
  },
  {
   "cell_type": "markdown",
   "metadata": {},
   "source": [
    "Допустим, вы работаете в добывающей компании «ГлавРосГосНефть». Нужно решить, где бурить новую скважину.\n",
    "\n",
    "Вам предоставлены пробы нефти в трёх регионах: в каждом 10 000 месторождений, где измерили качество нефти и объём её запасов. Постройте модель машинного обучения, которая поможет определить регион, где добыча принесёт наибольшую прибыль. Проанализируйте возможную прибыль и риски техникой *Bootstrap.*\n",
    "\n",
    "Шаги для выбора локации:\n",
    "\n",
    "- В избранном регионе ищут месторождения, для каждого определяют значения признаков;\n",
    "- Строят модель и оценивают объём запасов;\n",
    "- Выбирают месторождения с самым высокими оценками значений. Количество месторождений зависит от бюджета компании и стоимости разработки одной скважины;\n",
    "- Прибыль равна суммарной прибыли отобранных месторождений."
   ]
  },
  {
   "cell_type": "code",
   "execution_count": 1,
   "metadata": {},
   "outputs": [],
   "source": [
    "import pandas as pd\n",
    "import numpy as np\n",
    "import matplotlib.pyplot as plt\n",
    "import seaborn as sns\n",
    "from sklearn.model_selection import train_test_split, GridSearchCV\n",
    "from sklearn.linear_model import LinearRegression, RANSACRegressor, TheilSenRegressor, HuberRegressor\n",
    "from sklearn.preprocessing import StandardScaler, RobustScaler\n",
    "from sklearn.metrics import mean_squared_error, r2_score, make_scorer\n",
    "from numpy.random import RandomState\n",
    "from IPython import display as ICD"
   ]
  },
  {
   "cell_type": "code",
   "execution_count": 2,
   "metadata": {},
   "outputs": [],
   "source": [
    "xn = 42\n",
    "random_state = 42"
   ]
  },
  {
   "cell_type": "markdown",
   "metadata": {},
   "source": [
    "## Загрузка и подготовка данных"
   ]
  },
  {
   "cell_type": "markdown",
   "metadata": {},
   "source": [
    "### Загрузка и ознакомление с данными"
   ]
  },
  {
   "cell_type": "code",
   "execution_count": 3,
   "metadata": {},
   "outputs": [],
   "source": [
    "data_list = []\n",
    "for i in range(3):\n",
    "    try:\n",
    "        df = pd.read_csv(f'geo_data_{i}.csv')\n",
    "    except:\n",
    "        df = pd.read_csv(f'/yandex/practicum/datas/geo_data_{i}.csv')\n",
    "    data_list.append(df)\n",
    "    \n",
    "geo_data_0, geo_data_1, geo_data_2 = data_list"
   ]
  },
  {
   "cell_type": "code",
   "execution_count": 4,
   "metadata": {},
   "outputs": [
    {
     "name": "stdout",
     "output_type": "stream",
     "text": [
      "<class 'pandas.core.frame.DataFrame'>\n",
      "RangeIndex: 100000 entries, 0 to 99999\n",
      "Data columns (total 5 columns):\n",
      " #   Column   Non-Null Count   Dtype  \n",
      "---  ------   --------------   -----  \n",
      " 0   id       100000 non-null  object \n",
      " 1   f0       100000 non-null  float64\n",
      " 2   f1       100000 non-null  float64\n",
      " 3   f2       100000 non-null  float64\n",
      " 4   product  100000 non-null  float64\n",
      "dtypes: float64(4), object(1)\n",
      "memory usage: 3.8+ MB\n"
     ]
    },
    {
     "data": {
      "text/plain": [
       "None"
      ]
     },
     "metadata": {},
     "output_type": "display_data"
    },
    {
     "name": "stdout",
     "output_type": "stream",
     "text": [
      "<class 'pandas.core.frame.DataFrame'>\n",
      "RangeIndex: 100000 entries, 0 to 99999\n",
      "Data columns (total 5 columns):\n",
      " #   Column   Non-Null Count   Dtype  \n",
      "---  ------   --------------   -----  \n",
      " 0   id       100000 non-null  object \n",
      " 1   f0       100000 non-null  float64\n",
      " 2   f1       100000 non-null  float64\n",
      " 3   f2       100000 non-null  float64\n",
      " 4   product  100000 non-null  float64\n",
      "dtypes: float64(4), object(1)\n",
      "memory usage: 3.8+ MB\n"
     ]
    },
    {
     "data": {
      "text/plain": [
       "None"
      ]
     },
     "metadata": {},
     "output_type": "display_data"
    },
    {
     "name": "stdout",
     "output_type": "stream",
     "text": [
      "<class 'pandas.core.frame.DataFrame'>\n",
      "RangeIndex: 100000 entries, 0 to 99999\n",
      "Data columns (total 5 columns):\n",
      " #   Column   Non-Null Count   Dtype  \n",
      "---  ------   --------------   -----  \n",
      " 0   id       100000 non-null  object \n",
      " 1   f0       100000 non-null  float64\n",
      " 2   f1       100000 non-null  float64\n",
      " 3   f2       100000 non-null  float64\n",
      " 4   product  100000 non-null  float64\n",
      "dtypes: float64(4), object(1)\n",
      "memory usage: 3.8+ MB\n"
     ]
    },
    {
     "data": {
      "text/plain": [
       "None"
      ]
     },
     "metadata": {},
     "output_type": "display_data"
    }
   ],
   "source": [
    "for df in (geo_data_0,  geo_data_1, geo_data_2):\n",
    "    ICD.display(df.info())"
   ]
  },
  {
   "cell_type": "markdown",
   "metadata": {},
   "source": [
    "Типы данных совпадают, пропущенных значений нет.\n",
    "\n",
    "Посмотрим как выглядят данные."
   ]
  },
  {
   "cell_type": "code",
   "execution_count": 5,
   "metadata": {},
   "outputs": [
    {
     "data": {
      "text/html": [
       "<div>\n",
       "<style scoped>\n",
       "    .dataframe tbody tr th:only-of-type {\n",
       "        vertical-align: middle;\n",
       "    }\n",
       "\n",
       "    .dataframe tbody tr th {\n",
       "        vertical-align: top;\n",
       "    }\n",
       "\n",
       "    .dataframe thead th {\n",
       "        text-align: right;\n",
       "    }\n",
       "</style>\n",
       "<table border=\"1\" class=\"dataframe\">\n",
       "  <thead>\n",
       "    <tr style=\"text-align: right;\">\n",
       "      <th></th>\n",
       "      <th>id</th>\n",
       "      <th>f0</th>\n",
       "      <th>f1</th>\n",
       "      <th>f2</th>\n",
       "      <th>product</th>\n",
       "    </tr>\n",
       "  </thead>\n",
       "  <tbody>\n",
       "    <tr>\n",
       "      <th>0</th>\n",
       "      <td>txEyH</td>\n",
       "      <td>0.705745</td>\n",
       "      <td>-0.497823</td>\n",
       "      <td>1.221170</td>\n",
       "      <td>105.280062</td>\n",
       "    </tr>\n",
       "    <tr>\n",
       "      <th>1</th>\n",
       "      <td>2acmU</td>\n",
       "      <td>1.334711</td>\n",
       "      <td>-0.340164</td>\n",
       "      <td>4.365080</td>\n",
       "      <td>73.037750</td>\n",
       "    </tr>\n",
       "    <tr>\n",
       "      <th>2</th>\n",
       "      <td>409Wp</td>\n",
       "      <td>1.022732</td>\n",
       "      <td>0.151990</td>\n",
       "      <td>1.419926</td>\n",
       "      <td>85.265647</td>\n",
       "    </tr>\n",
       "    <tr>\n",
       "      <th>3</th>\n",
       "      <td>iJLyR</td>\n",
       "      <td>-0.032172</td>\n",
       "      <td>0.139033</td>\n",
       "      <td>2.978566</td>\n",
       "      <td>168.620776</td>\n",
       "    </tr>\n",
       "    <tr>\n",
       "      <th>4</th>\n",
       "      <td>Xdl7t</td>\n",
       "      <td>1.988431</td>\n",
       "      <td>0.155413</td>\n",
       "      <td>4.751769</td>\n",
       "      <td>154.036647</td>\n",
       "    </tr>\n",
       "  </tbody>\n",
       "</table>\n",
       "</div>"
      ],
      "text/plain": [
       "      id        f0        f1        f2     product\n",
       "0  txEyH  0.705745 -0.497823  1.221170  105.280062\n",
       "1  2acmU  1.334711 -0.340164  4.365080   73.037750\n",
       "2  409Wp  1.022732  0.151990  1.419926   85.265647\n",
       "3  iJLyR -0.032172  0.139033  2.978566  168.620776\n",
       "4  Xdl7t  1.988431  0.155413  4.751769  154.036647"
      ]
     },
     "metadata": {},
     "output_type": "display_data"
    },
    {
     "data": {
      "text/html": [
       "<div>\n",
       "<style scoped>\n",
       "    .dataframe tbody tr th:only-of-type {\n",
       "        vertical-align: middle;\n",
       "    }\n",
       "\n",
       "    .dataframe tbody tr th {\n",
       "        vertical-align: top;\n",
       "    }\n",
       "\n",
       "    .dataframe thead th {\n",
       "        text-align: right;\n",
       "    }\n",
       "</style>\n",
       "<table border=\"1\" class=\"dataframe\">\n",
       "  <thead>\n",
       "    <tr style=\"text-align: right;\">\n",
       "      <th></th>\n",
       "      <th>id</th>\n",
       "      <th>f0</th>\n",
       "      <th>f1</th>\n",
       "      <th>f2</th>\n",
       "      <th>product</th>\n",
       "    </tr>\n",
       "  </thead>\n",
       "  <tbody>\n",
       "    <tr>\n",
       "      <th>0</th>\n",
       "      <td>kBEdx</td>\n",
       "      <td>-15.001348</td>\n",
       "      <td>-8.276000</td>\n",
       "      <td>-0.005876</td>\n",
       "      <td>3.179103</td>\n",
       "    </tr>\n",
       "    <tr>\n",
       "      <th>1</th>\n",
       "      <td>62mP7</td>\n",
       "      <td>14.272088</td>\n",
       "      <td>-3.475083</td>\n",
       "      <td>0.999183</td>\n",
       "      <td>26.953261</td>\n",
       "    </tr>\n",
       "    <tr>\n",
       "      <th>2</th>\n",
       "      <td>vyE1P</td>\n",
       "      <td>6.263187</td>\n",
       "      <td>-5.948386</td>\n",
       "      <td>5.001160</td>\n",
       "      <td>134.766305</td>\n",
       "    </tr>\n",
       "    <tr>\n",
       "      <th>3</th>\n",
       "      <td>KcrkZ</td>\n",
       "      <td>-13.081196</td>\n",
       "      <td>-11.506057</td>\n",
       "      <td>4.999415</td>\n",
       "      <td>137.945408</td>\n",
       "    </tr>\n",
       "    <tr>\n",
       "      <th>4</th>\n",
       "      <td>AHL4O</td>\n",
       "      <td>12.702195</td>\n",
       "      <td>-8.147433</td>\n",
       "      <td>5.004363</td>\n",
       "      <td>134.766305</td>\n",
       "    </tr>\n",
       "  </tbody>\n",
       "</table>\n",
       "</div>"
      ],
      "text/plain": [
       "      id         f0         f1        f2     product\n",
       "0  kBEdx -15.001348  -8.276000 -0.005876    3.179103\n",
       "1  62mP7  14.272088  -3.475083  0.999183   26.953261\n",
       "2  vyE1P   6.263187  -5.948386  5.001160  134.766305\n",
       "3  KcrkZ -13.081196 -11.506057  4.999415  137.945408\n",
       "4  AHL4O  12.702195  -8.147433  5.004363  134.766305"
      ]
     },
     "metadata": {},
     "output_type": "display_data"
    },
    {
     "data": {
      "text/html": [
       "<div>\n",
       "<style scoped>\n",
       "    .dataframe tbody tr th:only-of-type {\n",
       "        vertical-align: middle;\n",
       "    }\n",
       "\n",
       "    .dataframe tbody tr th {\n",
       "        vertical-align: top;\n",
       "    }\n",
       "\n",
       "    .dataframe thead th {\n",
       "        text-align: right;\n",
       "    }\n",
       "</style>\n",
       "<table border=\"1\" class=\"dataframe\">\n",
       "  <thead>\n",
       "    <tr style=\"text-align: right;\">\n",
       "      <th></th>\n",
       "      <th>id</th>\n",
       "      <th>f0</th>\n",
       "      <th>f1</th>\n",
       "      <th>f2</th>\n",
       "      <th>product</th>\n",
       "    </tr>\n",
       "  </thead>\n",
       "  <tbody>\n",
       "    <tr>\n",
       "      <th>0</th>\n",
       "      <td>fwXo0</td>\n",
       "      <td>-1.146987</td>\n",
       "      <td>0.963328</td>\n",
       "      <td>-0.828965</td>\n",
       "      <td>27.758673</td>\n",
       "    </tr>\n",
       "    <tr>\n",
       "      <th>1</th>\n",
       "      <td>WJtFt</td>\n",
       "      <td>0.262778</td>\n",
       "      <td>0.269839</td>\n",
       "      <td>-2.530187</td>\n",
       "      <td>56.069697</td>\n",
       "    </tr>\n",
       "    <tr>\n",
       "      <th>2</th>\n",
       "      <td>ovLUW</td>\n",
       "      <td>0.194587</td>\n",
       "      <td>0.289035</td>\n",
       "      <td>-5.586433</td>\n",
       "      <td>62.871910</td>\n",
       "    </tr>\n",
       "    <tr>\n",
       "      <th>3</th>\n",
       "      <td>q6cA6</td>\n",
       "      <td>2.236060</td>\n",
       "      <td>-0.553760</td>\n",
       "      <td>0.930038</td>\n",
       "      <td>114.572842</td>\n",
       "    </tr>\n",
       "    <tr>\n",
       "      <th>4</th>\n",
       "      <td>WPMUX</td>\n",
       "      <td>-0.515993</td>\n",
       "      <td>1.716266</td>\n",
       "      <td>5.899011</td>\n",
       "      <td>149.600746</td>\n",
       "    </tr>\n",
       "  </tbody>\n",
       "</table>\n",
       "</div>"
      ],
      "text/plain": [
       "      id        f0        f1        f2     product\n",
       "0  fwXo0 -1.146987  0.963328 -0.828965   27.758673\n",
       "1  WJtFt  0.262778  0.269839 -2.530187   56.069697\n",
       "2  ovLUW  0.194587  0.289035 -5.586433   62.871910\n",
       "3  q6cA6  2.236060 -0.553760  0.930038  114.572842\n",
       "4  WPMUX -0.515993  1.716266  5.899011  149.600746"
      ]
     },
     "metadata": {},
     "output_type": "display_data"
    }
   ],
   "source": [
    "for df in (geo_data_0,  geo_data_1, geo_data_2):\n",
    "    ICD.display(df.head())"
   ]
  },
  {
   "cell_type": "markdown",
   "metadata": {},
   "source": [
    "* `id` - признак, который нам не понадобится;\n",
    "* можно заметить, что есть заметный разброс значений в признаке `product`;\n",
    "* признаки необходимо отмасштабировать."
   ]
  },
  {
   "cell_type": "markdown",
   "metadata": {},
   "source": [
    "Посмотрим на распределение"
   ]
  },
  {
   "cell_type": "code",
   "execution_count": 6,
   "metadata": {},
   "outputs": [
    {
     "data": {
      "text/html": [
       "<div>\n",
       "<style scoped>\n",
       "    .dataframe tbody tr th:only-of-type {\n",
       "        vertical-align: middle;\n",
       "    }\n",
       "\n",
       "    .dataframe tbody tr th {\n",
       "        vertical-align: top;\n",
       "    }\n",
       "\n",
       "    .dataframe thead th {\n",
       "        text-align: right;\n",
       "    }\n",
       "</style>\n",
       "<table border=\"1\" class=\"dataframe\">\n",
       "  <thead>\n",
       "    <tr style=\"text-align: right;\">\n",
       "      <th></th>\n",
       "      <th>f0</th>\n",
       "      <th>f1</th>\n",
       "      <th>f2</th>\n",
       "      <th>product</th>\n",
       "    </tr>\n",
       "  </thead>\n",
       "  <tbody>\n",
       "    <tr>\n",
       "      <th>count</th>\n",
       "      <td>100000.000000</td>\n",
       "      <td>100000.000000</td>\n",
       "      <td>100000.000000</td>\n",
       "      <td>100000.000000</td>\n",
       "    </tr>\n",
       "    <tr>\n",
       "      <th>mean</th>\n",
       "      <td>0.500419</td>\n",
       "      <td>0.250143</td>\n",
       "      <td>2.502647</td>\n",
       "      <td>92.500000</td>\n",
       "    </tr>\n",
       "    <tr>\n",
       "      <th>std</th>\n",
       "      <td>0.871832</td>\n",
       "      <td>0.504433</td>\n",
       "      <td>3.248248</td>\n",
       "      <td>44.288691</td>\n",
       "    </tr>\n",
       "    <tr>\n",
       "      <th>min</th>\n",
       "      <td>-1.408605</td>\n",
       "      <td>-0.848218</td>\n",
       "      <td>-12.088328</td>\n",
       "      <td>0.000000</td>\n",
       "    </tr>\n",
       "    <tr>\n",
       "      <th>25%</th>\n",
       "      <td>-0.072580</td>\n",
       "      <td>-0.200881</td>\n",
       "      <td>0.287748</td>\n",
       "      <td>56.497507</td>\n",
       "    </tr>\n",
       "    <tr>\n",
       "      <th>50%</th>\n",
       "      <td>0.502360</td>\n",
       "      <td>0.250252</td>\n",
       "      <td>2.515969</td>\n",
       "      <td>91.849972</td>\n",
       "    </tr>\n",
       "    <tr>\n",
       "      <th>75%</th>\n",
       "      <td>1.073581</td>\n",
       "      <td>0.700646</td>\n",
       "      <td>4.715088</td>\n",
       "      <td>128.564089</td>\n",
       "    </tr>\n",
       "    <tr>\n",
       "      <th>max</th>\n",
       "      <td>2.362331</td>\n",
       "      <td>1.343769</td>\n",
       "      <td>16.003790</td>\n",
       "      <td>185.364347</td>\n",
       "    </tr>\n",
       "  </tbody>\n",
       "</table>\n",
       "</div>"
      ],
      "text/plain": [
       "                  f0             f1             f2        product\n",
       "count  100000.000000  100000.000000  100000.000000  100000.000000\n",
       "mean        0.500419       0.250143       2.502647      92.500000\n",
       "std         0.871832       0.504433       3.248248      44.288691\n",
       "min        -1.408605      -0.848218     -12.088328       0.000000\n",
       "25%        -0.072580      -0.200881       0.287748      56.497507\n",
       "50%         0.502360       0.250252       2.515969      91.849972\n",
       "75%         1.073581       0.700646       4.715088     128.564089\n",
       "max         2.362331       1.343769      16.003790     185.364347"
      ]
     },
     "metadata": {},
     "output_type": "display_data"
    },
    {
     "data": {
      "text/html": [
       "<div>\n",
       "<style scoped>\n",
       "    .dataframe tbody tr th:only-of-type {\n",
       "        vertical-align: middle;\n",
       "    }\n",
       "\n",
       "    .dataframe tbody tr th {\n",
       "        vertical-align: top;\n",
       "    }\n",
       "\n",
       "    .dataframe thead th {\n",
       "        text-align: right;\n",
       "    }\n",
       "</style>\n",
       "<table border=\"1\" class=\"dataframe\">\n",
       "  <thead>\n",
       "    <tr style=\"text-align: right;\">\n",
       "      <th></th>\n",
       "      <th>f0</th>\n",
       "      <th>f1</th>\n",
       "      <th>f2</th>\n",
       "      <th>product</th>\n",
       "    </tr>\n",
       "  </thead>\n",
       "  <tbody>\n",
       "    <tr>\n",
       "      <th>count</th>\n",
       "      <td>100000.000000</td>\n",
       "      <td>100000.000000</td>\n",
       "      <td>100000.000000</td>\n",
       "      <td>100000.000000</td>\n",
       "    </tr>\n",
       "    <tr>\n",
       "      <th>mean</th>\n",
       "      <td>1.141296</td>\n",
       "      <td>-4.796579</td>\n",
       "      <td>2.494541</td>\n",
       "      <td>68.825000</td>\n",
       "    </tr>\n",
       "    <tr>\n",
       "      <th>std</th>\n",
       "      <td>8.965932</td>\n",
       "      <td>5.119872</td>\n",
       "      <td>1.703572</td>\n",
       "      <td>45.944423</td>\n",
       "    </tr>\n",
       "    <tr>\n",
       "      <th>min</th>\n",
       "      <td>-31.609576</td>\n",
       "      <td>-26.358598</td>\n",
       "      <td>-0.018144</td>\n",
       "      <td>0.000000</td>\n",
       "    </tr>\n",
       "    <tr>\n",
       "      <th>25%</th>\n",
       "      <td>-6.298551</td>\n",
       "      <td>-8.267985</td>\n",
       "      <td>1.000021</td>\n",
       "      <td>26.953261</td>\n",
       "    </tr>\n",
       "    <tr>\n",
       "      <th>50%</th>\n",
       "      <td>1.153055</td>\n",
       "      <td>-4.813172</td>\n",
       "      <td>2.011479</td>\n",
       "      <td>57.085625</td>\n",
       "    </tr>\n",
       "    <tr>\n",
       "      <th>75%</th>\n",
       "      <td>8.621015</td>\n",
       "      <td>-1.332816</td>\n",
       "      <td>3.999904</td>\n",
       "      <td>107.813044</td>\n",
       "    </tr>\n",
       "    <tr>\n",
       "      <th>max</th>\n",
       "      <td>29.421755</td>\n",
       "      <td>18.734063</td>\n",
       "      <td>5.019721</td>\n",
       "      <td>137.945408</td>\n",
       "    </tr>\n",
       "  </tbody>\n",
       "</table>\n",
       "</div>"
      ],
      "text/plain": [
       "                  f0             f1             f2        product\n",
       "count  100000.000000  100000.000000  100000.000000  100000.000000\n",
       "mean        1.141296      -4.796579       2.494541      68.825000\n",
       "std         8.965932       5.119872       1.703572      45.944423\n",
       "min       -31.609576     -26.358598      -0.018144       0.000000\n",
       "25%        -6.298551      -8.267985       1.000021      26.953261\n",
       "50%         1.153055      -4.813172       2.011479      57.085625\n",
       "75%         8.621015      -1.332816       3.999904     107.813044\n",
       "max        29.421755      18.734063       5.019721     137.945408"
      ]
     },
     "metadata": {},
     "output_type": "display_data"
    },
    {
     "data": {
      "text/html": [
       "<div>\n",
       "<style scoped>\n",
       "    .dataframe tbody tr th:only-of-type {\n",
       "        vertical-align: middle;\n",
       "    }\n",
       "\n",
       "    .dataframe tbody tr th {\n",
       "        vertical-align: top;\n",
       "    }\n",
       "\n",
       "    .dataframe thead th {\n",
       "        text-align: right;\n",
       "    }\n",
       "</style>\n",
       "<table border=\"1\" class=\"dataframe\">\n",
       "  <thead>\n",
       "    <tr style=\"text-align: right;\">\n",
       "      <th></th>\n",
       "      <th>f0</th>\n",
       "      <th>f1</th>\n",
       "      <th>f2</th>\n",
       "      <th>product</th>\n",
       "    </tr>\n",
       "  </thead>\n",
       "  <tbody>\n",
       "    <tr>\n",
       "      <th>count</th>\n",
       "      <td>100000.000000</td>\n",
       "      <td>100000.000000</td>\n",
       "      <td>100000.000000</td>\n",
       "      <td>100000.000000</td>\n",
       "    </tr>\n",
       "    <tr>\n",
       "      <th>mean</th>\n",
       "      <td>0.002023</td>\n",
       "      <td>-0.002081</td>\n",
       "      <td>2.495128</td>\n",
       "      <td>95.000000</td>\n",
       "    </tr>\n",
       "    <tr>\n",
       "      <th>std</th>\n",
       "      <td>1.732045</td>\n",
       "      <td>1.730417</td>\n",
       "      <td>3.473445</td>\n",
       "      <td>44.749921</td>\n",
       "    </tr>\n",
       "    <tr>\n",
       "      <th>min</th>\n",
       "      <td>-8.760004</td>\n",
       "      <td>-7.084020</td>\n",
       "      <td>-11.970335</td>\n",
       "      <td>0.000000</td>\n",
       "    </tr>\n",
       "    <tr>\n",
       "      <th>25%</th>\n",
       "      <td>-1.162288</td>\n",
       "      <td>-1.174820</td>\n",
       "      <td>0.130359</td>\n",
       "      <td>59.450441</td>\n",
       "    </tr>\n",
       "    <tr>\n",
       "      <th>50%</th>\n",
       "      <td>0.009424</td>\n",
       "      <td>-0.009482</td>\n",
       "      <td>2.484236</td>\n",
       "      <td>94.925613</td>\n",
       "    </tr>\n",
       "    <tr>\n",
       "      <th>75%</th>\n",
       "      <td>1.158535</td>\n",
       "      <td>1.163678</td>\n",
       "      <td>4.858794</td>\n",
       "      <td>130.595027</td>\n",
       "    </tr>\n",
       "    <tr>\n",
       "      <th>max</th>\n",
       "      <td>7.238262</td>\n",
       "      <td>7.844801</td>\n",
       "      <td>16.739402</td>\n",
       "      <td>190.029838</td>\n",
       "    </tr>\n",
       "  </tbody>\n",
       "</table>\n",
       "</div>"
      ],
      "text/plain": [
       "                  f0             f1             f2        product\n",
       "count  100000.000000  100000.000000  100000.000000  100000.000000\n",
       "mean        0.002023      -0.002081       2.495128      95.000000\n",
       "std         1.732045       1.730417       3.473445      44.749921\n",
       "min        -8.760004      -7.084020     -11.970335       0.000000\n",
       "25%        -1.162288      -1.174820       0.130359      59.450441\n",
       "50%         0.009424      -0.009482       2.484236      94.925613\n",
       "75%         1.158535       1.163678       4.858794     130.595027\n",
       "max         7.238262       7.844801      16.739402     190.029838"
      ]
     },
     "metadata": {},
     "output_type": "display_data"
    }
   ],
   "source": [
    "for df in (geo_data_0,  geo_data_1, geo_data_2):\n",
    "    ICD.display(df.describe())"
   ]
  },
  {
   "cell_type": "markdown",
   "metadata": {},
   "source": [
    "* `f2` первых данных имеет выбросы;\n",
    "* `f1` вторых данных имеет выбросы;\n",
    "* все признаки имеют выбросы, кроме целевого;"
   ]
  },
  {
   "cell_type": "markdown",
   "metadata": {},
   "source": [
    "Построим боксплоты для каждого признака и посмотрим на количество выбросов."
   ]
  },
  {
   "cell_type": "code",
   "execution_count": 7,
   "metadata": {
    "scrolled": false
   },
   "outputs": [
    {
     "data": {
      "image/png": "[encoded data removed]",
      "text/plain": [
       "<Figure size 1170x830 with 1 Axes>"
      ]
     },
     "metadata": {},
     "output_type": "display_data"
    }
   ],
   "source": [
    "fig = plt.subplots(figsize=(11.7, 8.3))\n",
    "ax = sns.boxplot(data=geo_data_0.drop('product', axis=1))\\\n",
    ".set(ylabel='Значения', xlabel='Признаки', title='Диаграмма размаха признаков первого датасета')\n",
    "\n",
    "plt.show()"
   ]
  },
  {
   "cell_type": "code",
   "execution_count": 8,
   "metadata": {},
   "outputs": [
    {
     "data": {
      "image/png": "[encoded data removed]",
      "text/plain": [
       "<Figure size 1170x830 with 1 Axes>"
      ]
     },
     "metadata": {},
     "output_type": "display_data"
    }
   ],
   "source": [
    "fig = plt.subplots(figsize=(11.7, 8.3))\n",
    "ax = sns.boxplot(data=geo_data_1.drop('product', axis=1))\\\n",
    ".set(ylabel='Значения', xlabel='Признаки', title='Диаграмма размаха признаков второго датасета')\n",
    "plt.show()"
   ]
  },
  {
   "cell_type": "code",
   "execution_count": 9,
   "metadata": {},
   "outputs": [
    {
     "data": {
      "image/png": "[encoded data removed]",
      "text/plain": [
       "<Figure size 1170x830 with 1 Axes>"
      ]
     },
     "metadata": {},
     "output_type": "display_data"
    }
   ],
   "source": [
    "fig = plt.subplots(figsize=(11.7, 8.3))\n",
    "ax = sns.boxplot(data=geo_data_2.drop('product', axis=1))\\\n",
    ".set(ylabel='Значения', xlabel='Признаки', title='Диаграмма размаха признаков третьего датасета')\n",
    "plt.show()"
   ]
  },
  {
   "cell_type": "markdown",
   "metadata": {},
   "source": [
    "* `f0` во втором датафрейме имеет мало выбросов;\n",
    "* оставшиеся выбросы многочисленны.\n",
    "\n",
    "Алгоритм линейной регрессии плохо работает при наличии выбросов. Для модели `Linear Regression` в тестовой выборке избавимся от выбросов, а на валидационной проверим метрику RMSE и R2. "
   ]
  },
  {
   "cell_type": "markdown",
   "metadata": {},
   "source": [
    "### Удаление ненужных признаков"
   ]
  },
  {
   "cell_type": "code",
   "execution_count": 10,
   "metadata": {},
   "outputs": [],
   "source": [
    "for df in (geo_data_0,  geo_data_1, geo_data_2):\n",
    "    df.drop('id', inplace=True, axis=1)"
   ]
  },
  {
   "cell_type": "code",
   "execution_count": 11,
   "metadata": {},
   "outputs": [
    {
     "data": {
      "text/html": [
       "<div>\n",
       "<style scoped>\n",
       "    .dataframe tbody tr th:only-of-type {\n",
       "        vertical-align: middle;\n",
       "    }\n",
       "\n",
       "    .dataframe tbody tr th {\n",
       "        vertical-align: top;\n",
       "    }\n",
       "\n",
       "    .dataframe thead th {\n",
       "        text-align: right;\n",
       "    }\n",
       "</style>\n",
       "<table border=\"1\" class=\"dataframe\">\n",
       "  <thead>\n",
       "    <tr style=\"text-align: right;\">\n",
       "      <th></th>\n",
       "      <th>f0</th>\n",
       "      <th>f1</th>\n",
       "      <th>f2</th>\n",
       "      <th>product</th>\n",
       "    </tr>\n",
       "  </thead>\n",
       "  <tbody>\n",
       "    <tr>\n",
       "      <th>0</th>\n",
       "      <td>0.705745</td>\n",
       "      <td>-0.497823</td>\n",
       "      <td>1.221170</td>\n",
       "      <td>105.280062</td>\n",
       "    </tr>\n",
       "    <tr>\n",
       "      <th>1</th>\n",
       "      <td>1.334711</td>\n",
       "      <td>-0.340164</td>\n",
       "      <td>4.365080</td>\n",
       "      <td>73.037750</td>\n",
       "    </tr>\n",
       "    <tr>\n",
       "      <th>2</th>\n",
       "      <td>1.022732</td>\n",
       "      <td>0.151990</td>\n",
       "      <td>1.419926</td>\n",
       "      <td>85.265647</td>\n",
       "    </tr>\n",
       "    <tr>\n",
       "      <th>3</th>\n",
       "      <td>-0.032172</td>\n",
       "      <td>0.139033</td>\n",
       "      <td>2.978566</td>\n",
       "      <td>168.620776</td>\n",
       "    </tr>\n",
       "    <tr>\n",
       "      <th>4</th>\n",
       "      <td>1.988431</td>\n",
       "      <td>0.155413</td>\n",
       "      <td>4.751769</td>\n",
       "      <td>154.036647</td>\n",
       "    </tr>\n",
       "  </tbody>\n",
       "</table>\n",
       "</div>"
      ],
      "text/plain": [
       "         f0        f1        f2     product\n",
       "0  0.705745 -0.497823  1.221170  105.280062\n",
       "1  1.334711 -0.340164  4.365080   73.037750\n",
       "2  1.022732  0.151990  1.419926   85.265647\n",
       "3 -0.032172  0.139033  2.978566  168.620776\n",
       "4  1.988431  0.155413  4.751769  154.036647"
      ]
     },
     "metadata": {},
     "output_type": "display_data"
    },
    {
     "data": {
      "text/html": [
       "<div>\n",
       "<style scoped>\n",
       "    .dataframe tbody tr th:only-of-type {\n",
       "        vertical-align: middle;\n",
       "    }\n",
       "\n",
       "    .dataframe tbody tr th {\n",
       "        vertical-align: top;\n",
       "    }\n",
       "\n",
       "    .dataframe thead th {\n",
       "        text-align: right;\n",
       "    }\n",
       "</style>\n",
       "<table border=\"1\" class=\"dataframe\">\n",
       "  <thead>\n",
       "    <tr style=\"text-align: right;\">\n",
       "      <th></th>\n",
       "      <th>f0</th>\n",
       "      <th>f1</th>\n",
       "      <th>f2</th>\n",
       "      <th>product</th>\n",
       "    </tr>\n",
       "  </thead>\n",
       "  <tbody>\n",
       "    <tr>\n",
       "      <th>0</th>\n",
       "      <td>-15.001348</td>\n",
       "      <td>-8.276000</td>\n",
       "      <td>-0.005876</td>\n",
       "      <td>3.179103</td>\n",
       "    </tr>\n",
       "    <tr>\n",
       "      <th>1</th>\n",
       "      <td>14.272088</td>\n",
       "      <td>-3.475083</td>\n",
       "      <td>0.999183</td>\n",
       "      <td>26.953261</td>\n",
       "    </tr>\n",
       "    <tr>\n",
       "      <th>2</th>\n",
       "      <td>6.263187</td>\n",
       "      <td>-5.948386</td>\n",
       "      <td>5.001160</td>\n",
       "      <td>134.766305</td>\n",
       "    </tr>\n",
       "    <tr>\n",
       "      <th>3</th>\n",
       "      <td>-13.081196</td>\n",
       "      <td>-11.506057</td>\n",
       "      <td>4.999415</td>\n",
       "      <td>137.945408</td>\n",
       "    </tr>\n",
       "    <tr>\n",
       "      <th>4</th>\n",
       "      <td>12.702195</td>\n",
       "      <td>-8.147433</td>\n",
       "      <td>5.004363</td>\n",
       "      <td>134.766305</td>\n",
       "    </tr>\n",
       "  </tbody>\n",
       "</table>\n",
       "</div>"
      ],
      "text/plain": [
       "          f0         f1        f2     product\n",
       "0 -15.001348  -8.276000 -0.005876    3.179103\n",
       "1  14.272088  -3.475083  0.999183   26.953261\n",
       "2   6.263187  -5.948386  5.001160  134.766305\n",
       "3 -13.081196 -11.506057  4.999415  137.945408\n",
       "4  12.702195  -8.147433  5.004363  134.766305"
      ]
     },
     "metadata": {},
     "output_type": "display_data"
    },
    {
     "data": {
      "text/html": [
       "<div>\n",
       "<style scoped>\n",
       "    .dataframe tbody tr th:only-of-type {\n",
       "        vertical-align: middle;\n",
       "    }\n",
       "\n",
       "    .dataframe tbody tr th {\n",
       "        vertical-align: top;\n",
       "    }\n",
       "\n",
       "    .dataframe thead th {\n",
       "        text-align: right;\n",
       "    }\n",
       "</style>\n",
       "<table border=\"1\" class=\"dataframe\">\n",
       "  <thead>\n",
       "    <tr style=\"text-align: right;\">\n",
       "      <th></th>\n",
       "      <th>f0</th>\n",
       "      <th>f1</th>\n",
       "      <th>f2</th>\n",
       "      <th>product</th>\n",
       "    </tr>\n",
       "  </thead>\n",
       "  <tbody>\n",
       "    <tr>\n",
       "      <th>0</th>\n",
       "      <td>-1.146987</td>\n",
       "      <td>0.963328</td>\n",
       "      <td>-0.828965</td>\n",
       "      <td>27.758673</td>\n",
       "    </tr>\n",
       "    <tr>\n",
       "      <th>1</th>\n",
       "      <td>0.262778</td>\n",
       "      <td>0.269839</td>\n",
       "      <td>-2.530187</td>\n",
       "      <td>56.069697</td>\n",
       "    </tr>\n",
       "    <tr>\n",
       "      <th>2</th>\n",
       "      <td>0.194587</td>\n",
       "      <td>0.289035</td>\n",
       "      <td>-5.586433</td>\n",
       "      <td>62.871910</td>\n",
       "    </tr>\n",
       "    <tr>\n",
       "      <th>3</th>\n",
       "      <td>2.236060</td>\n",
       "      <td>-0.553760</td>\n",
       "      <td>0.930038</td>\n",
       "      <td>114.572842</td>\n",
       "    </tr>\n",
       "    <tr>\n",
       "      <th>4</th>\n",
       "      <td>-0.515993</td>\n",
       "      <td>1.716266</td>\n",
       "      <td>5.899011</td>\n",
       "      <td>149.600746</td>\n",
       "    </tr>\n",
       "  </tbody>\n",
       "</table>\n",
       "</div>"
      ],
      "text/plain": [
       "         f0        f1        f2     product\n",
       "0 -1.146987  0.963328 -0.828965   27.758673\n",
       "1  0.262778  0.269839 -2.530187   56.069697\n",
       "2  0.194587  0.289035 -5.586433   62.871910\n",
       "3  2.236060 -0.553760  0.930038  114.572842\n",
       "4 -0.515993  1.716266  5.899011  149.600746"
      ]
     },
     "metadata": {},
     "output_type": "display_data"
    }
   ],
   "source": [
    "# check\n",
    "for df in (geo_data_0,  geo_data_1, geo_data_2):\n",
    "    ICD.display(df.head())"
   ]
  },
  {
   "cell_type": "markdown",
   "metadata": {},
   "source": [
    "### Разбивка на выборки"
   ]
  },
  {
   "cell_type": "markdown",
   "metadata": {},
   "source": [
    "Каждый датасет разделим на тренировочную и валидационную выборку в соотношении 75:25."
   ]
  },
  {
   "cell_type": "code",
   "execution_count": 12,
   "metadata": {},
   "outputs": [],
   "source": [
    "# напишем функцию для разбивки\n",
    "def tts(data):\n",
    "    X = data.drop('product', axis=1) # признаки\n",
    "    y = data['product'] # целевая переменная\n",
    "    \n",
    "    X_train, X_test, y_train, y_test = train_test_split(X, y, test_size=0.25, random_state=random_state)\n",
    "    return X_train, X_test, y_train, y_test\n",
    "    \n",
    "    "
   ]
  },
  {
   "cell_type": "code",
   "execution_count": 13,
   "metadata": {},
   "outputs": [],
   "source": [
    "X_train_0, X_test_0, y_train_0, y_test_0 = tts(geo_data_0)\n",
    "X_train_1, X_test_1, y_train_1, y_test_1 = tts(geo_data_1)\n",
    "X_train_2, X_test_2, y_train_2, y_test_2 = tts(geo_data_2)"
   ]
  },
  {
   "cell_type": "code",
   "execution_count": 14,
   "metadata": {},
   "outputs": [
    {
     "name": "stdout",
     "output_type": "stream",
     "text": [
      "(75000, 3)\n",
      "(25000, 3)\n",
      "(75000,)\n",
      "(25000,)\n",
      "(75000, 3)\n",
      "(25000, 3)\n",
      "(75000,)\n",
      "(25000,)\n",
      "(75000, 3)\n",
      "(25000, 3)\n",
      "(75000,)\n",
      "(25000,)\n"
     ]
    }
   ],
   "source": [
    "#check\n",
    "datalist = [X_train_0, X_test_0, y_train_0, y_test_0, \n",
    "            X_train_1, X_test_1, y_train_1, y_test_1, \n",
    "            X_train_2, X_test_2, y_train_2, y_test_2]\n",
    "for df in datalist:\n",
    "    print(df.shape)"
   ]
  },
  {
   "cell_type": "markdown",
   "metadata": {},
   "source": [
    "### Сглаживание"
   ]
  },
  {
   "cell_type": "markdown",
   "metadata": {},
   "source": [
    "Воспользуемся Robust Scaler для сглаживания признаков."
   ]
  },
  {
   "cell_type": "code",
   "execution_count": 15,
   "metadata": {},
   "outputs": [],
   "source": [
    "# напишем функцию для сглаживания\n",
    "# обучим на тренировочной\n",
    "def smoothing(X_train, X_test):\n",
    "    scl = RobustScaler().fit(X_train)\n",
    "    X_train = scl.transform(X_train)\n",
    "    X_test = scl.transform(X_test)\n",
    "    return X_train, X_test"
   ]
  },
  {
   "cell_type": "code",
   "execution_count": 16,
   "metadata": {},
   "outputs": [],
   "source": [
    "X_train_0_scl, X_test_0_scl = smoothing(X_train_0, X_test_0)\n",
    "X_train_1_scl, X_test_1_scl = smoothing(X_train_1, X_test_1)\n",
    "X_train_2_scl, X_test_2_scl = smoothing(X_train_2, X_test_2)"
   ]
  },
  {
   "cell_type": "code",
   "execution_count": 17,
   "metadata": {},
   "outputs": [
    {
     "data": {
      "text/html": [
       "<div>\n",
       "<style scoped>\n",
       "    .dataframe tbody tr th:only-of-type {\n",
       "        vertical-align: middle;\n",
       "    }\n",
       "\n",
       "    .dataframe tbody tr th {\n",
       "        vertical-align: top;\n",
       "    }\n",
       "\n",
       "    .dataframe thead th {\n",
       "        text-align: right;\n",
       "    }\n",
       "</style>\n",
       "<table border=\"1\" class=\"dataframe\">\n",
       "  <thead>\n",
       "    <tr style=\"text-align: right;\">\n",
       "      <th></th>\n",
       "      <th>0</th>\n",
       "      <th>1</th>\n",
       "      <th>2</th>\n",
       "    </tr>\n",
       "  </thead>\n",
       "  <tbody>\n",
       "    <tr>\n",
       "      <th>count</th>\n",
       "      <td>7.500000e+04</td>\n",
       "      <td>75000.000000</td>\n",
       "      <td>7.500000e+04</td>\n",
       "    </tr>\n",
       "    <tr>\n",
       "      <th>mean</th>\n",
       "      <td>-2.440020e-03</td>\n",
       "      <td>-0.001466</td>\n",
       "      <td>-3.583371e-03</td>\n",
       "    </tr>\n",
       "    <tr>\n",
       "      <th>std</th>\n",
       "      <td>7.611886e-01</td>\n",
       "      <td>0.561208</td>\n",
       "      <td>7.328557e-01</td>\n",
       "    </tr>\n",
       "    <tr>\n",
       "      <th>min</th>\n",
       "      <td>-1.668015e+00</td>\n",
       "      <td>-1.226237</td>\n",
       "      <td>-2.856503e+00</td>\n",
       "    </tr>\n",
       "    <tr>\n",
       "      <th>25%</th>\n",
       "      <td>-5.040593e-01</td>\n",
       "      <td>-0.501916</td>\n",
       "      <td>-5.045821e-01</td>\n",
       "    </tr>\n",
       "    <tr>\n",
       "      <th>50%</th>\n",
       "      <td>-4.844351e-17</td>\n",
       "      <td>0.000000</td>\n",
       "      <td>5.008146e-17</td>\n",
       "    </tr>\n",
       "    <tr>\n",
       "      <th>75%</th>\n",
       "      <td>4.959407e-01</td>\n",
       "      <td>0.498084</td>\n",
       "      <td>4.954179e-01</td>\n",
       "    </tr>\n",
       "    <tr>\n",
       "      <th>max</th>\n",
       "      <td>1.622762e+00</td>\n",
       "      <td>1.202404</td>\n",
       "      <td>3.039773e+00</td>\n",
       "    </tr>\n",
       "  </tbody>\n",
       "</table>\n",
       "</div>"
      ],
      "text/plain": [
       "                  0             1             2\n",
       "count  7.500000e+04  75000.000000  7.500000e+04\n",
       "mean  -2.440020e-03     -0.001466 -3.583371e-03\n",
       "std    7.611886e-01      0.561208  7.328557e-01\n",
       "min   -1.668015e+00     -1.226237 -2.856503e+00\n",
       "25%   -5.040593e-01     -0.501916 -5.045821e-01\n",
       "50%   -4.844351e-17      0.000000  5.008146e-17\n",
       "75%    4.959407e-01      0.498084  4.954179e-01\n",
       "max    1.622762e+00      1.202404  3.039773e+00"
      ]
     },
     "execution_count": 17,
     "metadata": {},
     "output_type": "execute_result"
    }
   ],
   "source": [
    "#check\n",
    "pd.DataFrame(X_train_0_scl).describe()"
   ]
  },
  {
   "cell_type": "markdown",
   "metadata": {},
   "source": [
    "### Масштабирование"
   ]
  },
  {
   "cell_type": "markdown",
   "metadata": {},
   "source": [
    "Перед обучением линейной модели проведем стандартизацию признаков."
   ]
  },
  {
   "cell_type": "code",
   "execution_count": 18,
   "metadata": {},
   "outputs": [],
   "source": [
    "def scale(X_train, X_test):\n",
    "    scaler = StandardScaler().fit(X_train)\n",
    "    X_train = scaler.transform(X_train)\n",
    "    X_test = scaler.transform(X_test)\n",
    "    return X_train, X_test"
   ]
  },
  {
   "cell_type": "code",
   "execution_count": 19,
   "metadata": {},
   "outputs": [],
   "source": [
    "X_train_0_scl, X_test_0_scl = scale(X_train_0_scl, X_test_0_scl)\n",
    "X_train_1_scl, X_test_1_scl = scale(X_train_1_scl, X_test_1_scl)\n",
    "X_train_2_scl, X_test_2_scl = scale(X_train_2_scl, X_test_2_scl)"
   ]
  },
  {
   "cell_type": "code",
   "execution_count": 20,
   "metadata": {},
   "outputs": [
    {
     "data": {
      "text/html": [
       "<div>\n",
       "<style scoped>\n",
       "    .dataframe tbody tr th:only-of-type {\n",
       "        vertical-align: middle;\n",
       "    }\n",
       "\n",
       "    .dataframe tbody tr th {\n",
       "        vertical-align: top;\n",
       "    }\n",
       "\n",
       "    .dataframe thead th {\n",
       "        text-align: right;\n",
       "    }\n",
       "</style>\n",
       "<table border=\"1\" class=\"dataframe\">\n",
       "  <thead>\n",
       "    <tr style=\"text-align: right;\">\n",
       "      <th></th>\n",
       "      <th>0</th>\n",
       "      <th>1</th>\n",
       "      <th>2</th>\n",
       "    </tr>\n",
       "  </thead>\n",
       "  <tbody>\n",
       "    <tr>\n",
       "      <th>count</th>\n",
       "      <td>7.500000e+04</td>\n",
       "      <td>7.500000e+04</td>\n",
       "      <td>7.500000e+04</td>\n",
       "    </tr>\n",
       "    <tr>\n",
       "      <th>mean</th>\n",
       "      <td>3.102703e-17</td>\n",
       "      <td>-7.200166e-18</td>\n",
       "      <td>-2.046363e-17</td>\n",
       "    </tr>\n",
       "    <tr>\n",
       "      <th>std</th>\n",
       "      <td>1.000007e+00</td>\n",
       "      <td>1.000007e+00</td>\n",
       "      <td>1.000007e+00</td>\n",
       "    </tr>\n",
       "    <tr>\n",
       "      <th>min</th>\n",
       "      <td>-2.188139e+00</td>\n",
       "      <td>-2.182397e+00</td>\n",
       "      <td>-3.892907e+00</td>\n",
       "    </tr>\n",
       "    <tr>\n",
       "      <th>25%</th>\n",
       "      <td>-6.589992e-01</td>\n",
       "      <td>-8.917428e-01</td>\n",
       "      <td>-6.836300e-01</td>\n",
       "    </tr>\n",
       "    <tr>\n",
       "      <th>50%</th>\n",
       "      <td>3.205561e-03</td>\n",
       "      <td>2.611348e-03</td>\n",
       "      <td>4.889632e-03</td>\n",
       "    </tr>\n",
       "    <tr>\n",
       "      <th>75%</th>\n",
       "      <td>6.547445e-01</td>\n",
       "      <td>8.901383e-01</td>\n",
       "      <td>6.809043e-01</td>\n",
       "    </tr>\n",
       "    <tr>\n",
       "      <th>max</th>\n",
       "      <td>2.135099e+00</td>\n",
       "      <td>2.145152e+00</td>\n",
       "      <td>4.152764e+00</td>\n",
       "    </tr>\n",
       "  </tbody>\n",
       "</table>\n",
       "</div>"
      ],
      "text/plain": [
       "                  0             1             2\n",
       "count  7.500000e+04  7.500000e+04  7.500000e+04\n",
       "mean   3.102703e-17 -7.200166e-18 -2.046363e-17\n",
       "std    1.000007e+00  1.000007e+00  1.000007e+00\n",
       "min   -2.188139e+00 -2.182397e+00 -3.892907e+00\n",
       "25%   -6.589992e-01 -8.917428e-01 -6.836300e-01\n",
       "50%    3.205561e-03  2.611348e-03  4.889632e-03\n",
       "75%    6.547445e-01  8.901383e-01  6.809043e-01\n",
       "max    2.135099e+00  2.145152e+00  4.152764e+00"
      ]
     },
     "execution_count": 20,
     "metadata": {},
     "output_type": "execute_result"
    }
   ],
   "source": [
    "#check\n",
    "pd.DataFrame(X_train_0_scl).describe()"
   ]
  },
  {
   "cell_type": "markdown",
   "metadata": {},
   "source": [
    "Теперь обучим модель."
   ]
  },
  {
   "cell_type": "markdown",
   "metadata": {},
   "source": [
    "## Обучение и проверка модели"
   ]
  },
  {
   "cell_type": "markdown",
   "metadata": {},
   "source": [
    "Обучим модель и проанализируем ответы."
   ]
  },
  {
   "cell_type": "markdown",
   "metadata": {},
   "source": [
    "### Linear Regressor"
   ]
  },
  {
   "cell_type": "code",
   "execution_count": 21,
   "metadata": {},
   "outputs": [],
   "source": [
    "# для первого датасета\n",
    "lr_0 = LinearRegression()\n",
    "lr_0.fit(X_train_0_scl, y_train_0) # обучение на тренировочной сглаженной выборке\n",
    "prd_valid_lr_0 = lr_0.predict(X_test_0_scl) # предсказания на тестовой выборке\n",
    "# расчет метрик\n",
    "lr_0_rmse = mean_squared_error(y_test_0, prd_valid_lr_0, squared=False)\n",
    "lr_0_r2 = r2_score(y_test_0, prd_valid_lr_0)\n",
    "mat_stock_mean_0 = prd_valid_lr_0.mean()\n",
    "\n",
    "# для второго\n",
    "lr_1 = LinearRegression()\n",
    "lr_1.fit(X_train_1_scl, y_train_1)\n",
    "prd_valid_lr_1 = lr_1.predict(X_test_1_scl)\n",
    "\n",
    "lr_1_rmse = mean_squared_error(y_test_1, prd_valid_lr_1, squared=False)\n",
    "lr_1_r2 = r2_score(y_test_1, prd_valid_lr_1)\n",
    "mat_stock_mean_1 = prd_valid_lr_1.mean()\n",
    "\n",
    "# для третьего\n",
    "lr_2 = LinearRegression()\n",
    "lr_2.fit(X_train_2_scl, y_train_2)\n",
    "prd_valid_lr_2 = lr_2.predict(X_test_2_scl)\n",
    "\n",
    "lr_2_rmse = mean_squared_error(y_test_2, prd_valid_lr_2, squared=False)\n",
    "lr_2_r2 = r2_score(y_test_2, prd_valid_lr_2)\n",
    "mat_stock_mean_2 = prd_valid_lr_2.mean()"
   ]
  },
  {
   "cell_type": "markdown",
   "metadata": {},
   "source": [
    "Сравним результаты метрик"
   ]
  },
  {
   "cell_type": "code",
   "execution_count": 22,
   "metadata": {},
   "outputs": [
    {
     "data": {
      "text/html": [
       "<div>\n",
       "<style scoped>\n",
       "    .dataframe tbody tr th:only-of-type {\n",
       "        vertical-align: middle;\n",
       "    }\n",
       "\n",
       "    .dataframe tbody tr th {\n",
       "        vertical-align: top;\n",
       "    }\n",
       "\n",
       "    .dataframe thead th {\n",
       "        text-align: right;\n",
       "    }\n",
       "</style>\n",
       "<table border=\"1\" class=\"dataframe\">\n",
       "  <thead>\n",
       "    <tr style=\"text-align: right;\">\n",
       "      <th></th>\n",
       "      <th>Data</th>\n",
       "      <th>RMSE</th>\n",
       "      <th>R2</th>\n",
       "      <th>Средний предсказанный запас сырья</th>\n",
       "    </tr>\n",
       "  </thead>\n",
       "  <tbody>\n",
       "    <tr>\n",
       "      <th>0</th>\n",
       "      <td>GeoData_0</td>\n",
       "      <td>37.757</td>\n",
       "      <td>0.273</td>\n",
       "      <td>92.399</td>\n",
       "    </tr>\n",
       "    <tr>\n",
       "      <th>1</th>\n",
       "      <td>GeoData_1</td>\n",
       "      <td>0.890</td>\n",
       "      <td>1.000</td>\n",
       "      <td>68.713</td>\n",
       "    </tr>\n",
       "    <tr>\n",
       "      <th>2</th>\n",
       "      <td>GeoData_2</td>\n",
       "      <td>40.146</td>\n",
       "      <td>0.196</td>\n",
       "      <td>94.771</td>\n",
       "    </tr>\n",
       "  </tbody>\n",
       "</table>\n",
       "</div>"
      ],
      "text/plain": [
       "        Data    RMSE     R2  Средний предсказанный запас сырья\n",
       "0  GeoData_0  37.757  0.273                             92.399\n",
       "1  GeoData_1   0.890  1.000                             68.713\n",
       "2  GeoData_2  40.146  0.196                             94.771"
      ]
     },
     "execution_count": 22,
     "metadata": {},
     "output_type": "execute_result"
    }
   ],
   "source": [
    "data_metrics = {'Data': ['GeoData_0', 'GeoData_1', 'GeoData_2'], \n",
    "     'RMSE': [lr_0_rmse, lr_1_rmse, lr_2_rmse],\n",
    "     'R2': [lr_0_r2, lr_1_r2, lr_2_r2],\n",
    "     'Средний предсказанный запас сырья': [mat_stock_mean_0, mat_stock_mean_1, mat_stock_mean_2]\n",
    "    }\n",
    "data_metrics_trans = pd.DataFrame(data=data_metrics).round(3)\n",
    "data_metrics_trans"
   ]
  },
  {
   "cell_type": "markdown",
   "metadata": {},
   "source": [
    "* лучшие значения метрик были получены на втором датасете;\n",
    "* первый и третий датасеты имеют примерно одинаковое количество сырья;\n",
    "* второй датасет имеет в 1.5 раза меньше среднего запаса сырья."
   ]
  },
  {
   "cell_type": "markdown",
   "metadata": {},
   "source": [
    "## Подготовка к расчёту прибыли"
   ]
  },
  {
   "cell_type": "markdown",
   "metadata": {},
   "source": [
    "На основе данных из тех.задания, расчитаем прибыль и среднее минимальное количество сырья для каждого региона."
   ]
  },
  {
   "cell_type": "markdown",
   "metadata": {},
   "source": [
    "### Постоянные переменные"
   ]
  },
  {
   "cell_type": "code",
   "execution_count": 23,
   "metadata": {},
   "outputs": [],
   "source": [
    "# ислледуется 500 точек при разведке региона\n",
    "EXPO_NODES = 500\n",
    "\n",
    "# из них отбираются 200 лучших по результат предсказаний модели машинного обучения\n",
    "BEST_NODES = 200\n",
    "\n",
    "# бюджет на разработку скважин в одном региона = 10 млрд. рублей\n",
    "FUNDING = 10 * 1e9\n",
    "\n",
    "# цена за один баррель = 450 рублей, доход с единицы продукта = 450т. рублей\n",
    "PRICE = 450000\n",
    "\n",
    "# максимальная вероятноть убыточности региона = 2.5%\n",
    "LOSS_RATE = 0.025"
   ]
  },
  {
   "cell_type": "markdown",
   "metadata": {},
   "source": [
    "### Расчет минимального значения прибыльности продукта"
   ]
  },
  {
   "cell_type": "markdown",
   "metadata": {},
   "source": [
    "Далее посчитаем минимальное среднее количество продукта в месторождениях региона для безубыточной разработки скважины."
   ]
  },
  {
   "cell_type": "markdown",
   "metadata": {},
   "source": [
    "Для этого необходимо сначало посчитать цену на разработку одной скважины."
   ]
  },
  {
   "cell_type": "code",
   "execution_count": 24,
   "metadata": {},
   "outputs": [
    {
     "data": {
      "text/plain": [
       "111.11"
      ]
     },
     "execution_count": 24,
     "metadata": {},
     "output_type": "execute_result"
    }
   ],
   "source": [
    "# выделено 10 млдр. рублей для 200 точек\n",
    "well_price = FUNDING/BEST_NODES\n",
    "\n",
    "# для добычи без убытков\n",
    "product_min = well_price/PRICE\n",
    "round(product_min, 2)"
   ]
  },
  {
   "cell_type": "markdown",
   "metadata": {},
   "source": [
    "То есть, для безубыточного бурения новой скважины необходимо, чтобы она приносила 111.11 тыс. баррелей продукта."
   ]
  },
  {
   "cell_type": "markdown",
   "metadata": {},
   "source": [
    "Из данных расчетов предсказанных объемов материала видно, что средние значения во всех трех регионах меньше, чем точка безубыточности. Следовательно, не всех скважины будут выгодны."
   ]
  },
  {
   "cell_type": "markdown",
   "metadata": {},
   "source": [
    "## Расчет прибыли и рисков"
   ]
  },
  {
   "cell_type": "markdown",
   "metadata": {},
   "source": [
    "Для этого расчета необходимо из произведения цены за продукт и количества сырья в 200 предсказанных самых прибыльных точек вычесть выделенный бюджет."
   ]
  },
  {
   "cell_type": "markdown",
   "metadata": {},
   "source": [
    "Регионы будем называть по порядковму номеру. То есть, первый регион - `geo_data_0`, второй регион - `geo_data_1`, третий регион `geo_data_2`."
   ]
  },
  {
   "cell_type": "code",
   "execution_count": 25,
   "metadata": {},
   "outputs": [],
   "source": [
    "def rev(y_pred, y_test):\n",
    "    # приводим данные к одному индексу\n",
    "    pred_sorted = y_pred.sort_values(ascending=False) #отсортируем предсказания\n",
    "    selected = y_test[pred_sorted.index][:BEST_NODES] #возьмем их индексы, чтобы выбрать ответы\n",
    "    return selected.sum() * PRICE - FUNDING"
   ]
  },
  {
   "cell_type": "markdown",
   "metadata": {},
   "source": [
    "С помощью техники Bootstrap рассчитаем возможные риски и прибыль."
   ]
  },
  {
   "cell_type": "code",
   "execution_count": 26,
   "metadata": {},
   "outputs": [],
   "source": [
    "# зададим random state из библиотеки numpy, чтобы при каждом вызове подвыборка менялась на случайную\n",
    "state = RandomState(42)\n",
    "# целевая метрика: 0.95 квантиль распределения\n",
    "def bootstrap_profit(y_pred, y_test, region: str):\n",
    "    values = [] # сохраним значения прибыли, чтобы в дальнейшем посчитать доверительный интервал\n",
    "    y_test = pd.Series(y_test).reset_index(drop=True)\n",
    "    y_pred = pd.Series(y_pred).reset_index(drop=True)\n",
    "    for i in range(1000):\n",
    "        subsample_y_test = y_test.sample(n=500, replace=True, random_state=state)\n",
    "        subsample_y_pred = y_pred[subsample_y_test.index]\n",
    "        values.append(rev(subsample_y_pred, subsample_y_test))\n",
    "    \n",
    "    values = pd.Series(values)/1e6\n",
    "    prof_mean = values.mean()\n",
    "    lower = values.quantile(0.025).round()\n",
    "    upper = values.quantile(0.975).round()\n",
    "    loss_rate = values.loc[values < 0].count()/values.count()\n",
    "    print('Средняя прибыль в', region, 'регионе:', round(prof_mean), 'млн. рублей')\n",
    "    print('Границы 95% доверительного интервала от', lower, 'до', upper, 'млн. рублей')\n",
    "    print('Вероятность потерь', \"{:.1%}\".format(loss_rate))\n",
    "    print()\n",
    "    return prof_mean.round(), lower, upper, loss_rate*100"
   ]
  },
  {
   "cell_type": "code",
   "execution_count": 27,
   "metadata": {
    "scrolled": true
   },
   "outputs": [
    {
     "name": "stdout",
     "output_type": "stream",
     "text": [
      "Средняя прибыль в первом регионе: 428 млн. рублей\n",
      "Границы 95% доверительного интервала от -97.0 до 954.0 млн. рублей\n",
      "Вероятность потерь 5.5%\n",
      "\n",
      "Средняя прибыль в втором регионе: 512 млн. рублей\n",
      "Границы 95% доверительного интервала от 92.0 до 921.0 млн. рублей\n",
      "Вероятность потерь 0.6%\n",
      "\n",
      "Средняя прибыль в третьем регионе: 409 млн. рублей\n",
      "Границы 95% доверительного интервала от -121.0 до 961.0 млн. рублей\n",
      "Вероятность потерь 7.5%\n",
      "\n"
     ]
    }
   ],
   "source": [
    "prof_data = []\n",
    "samples = {'a':[prd_valid_lr_0, y_test_0, 'первом'],\n",
    "'b':[prd_valid_lr_1, y_test_1, 'втором'],\n",
    "'c':[prd_valid_lr_2, y_test_2, 'третьем']\n",
    "}\n",
    "\n",
    "for x, y in samples.items():\n",
    "    prof_data.append(bootstrap_profit(y[0], y[1], y[2]))\n",
    "    "
   ]
  },
  {
   "cell_type": "code",
   "execution_count": 28,
   "metadata": {},
   "outputs": [
    {
     "data": {
      "text/html": [
       "<div>\n",
       "<style scoped>\n",
       "    .dataframe tbody tr th:only-of-type {\n",
       "        vertical-align: middle;\n",
       "    }\n",
       "\n",
       "    .dataframe tbody tr th {\n",
       "        vertical-align: top;\n",
       "    }\n",
       "\n",
       "    .dataframe thead th {\n",
       "        text-align: right;\n",
       "    }\n",
       "</style>\n",
       "<table border=\"1\" class=\"dataframe\">\n",
       "  <thead>\n",
       "    <tr style=\"text-align: right;\">\n",
       "      <th></th>\n",
       "      <th>Средняя прибыль (млн.рублей)</th>\n",
       "      <th>Нижняя граница квантиля (млн.рублей)</th>\n",
       "      <th>Верхняя граница квантиля (млн.рублей)</th>\n",
       "      <th>Вероятность потерь (5%)</th>\n",
       "    </tr>\n",
       "  </thead>\n",
       "  <tbody>\n",
       "    <tr>\n",
       "      <th>0</th>\n",
       "      <td>428.0</td>\n",
       "      <td>-97.0</td>\n",
       "      <td>954.0</td>\n",
       "      <td>5.5</td>\n",
       "    </tr>\n",
       "    <tr>\n",
       "      <th>1</th>\n",
       "      <td>512.0</td>\n",
       "      <td>92.0</td>\n",
       "      <td>921.0</td>\n",
       "      <td>0.6</td>\n",
       "    </tr>\n",
       "    <tr>\n",
       "      <th>2</th>\n",
       "      <td>409.0</td>\n",
       "      <td>-121.0</td>\n",
       "      <td>961.0</td>\n",
       "      <td>7.5</td>\n",
       "    </tr>\n",
       "  </tbody>\n",
       "</table>\n",
       "</div>"
      ],
      "text/plain": [
       "   Средняя прибыль (млн.рублей)  Нижняя граница квантиля (млн.рублей)  \\\n",
       "0                         428.0                                 -97.0   \n",
       "1                         512.0                                  92.0   \n",
       "2                         409.0                                -121.0   \n",
       "\n",
       "   Верхняя граница квантиля (млн.рублей)  Вероятность потерь (5%)  \n",
       "0                                  954.0                      5.5  \n",
       "1                                  921.0                      0.6  \n",
       "2                                  961.0                      7.5  "
      ]
     },
     "execution_count": 28,
     "metadata": {},
     "output_type": "execute_result"
    }
   ],
   "source": [
    "pd.DataFrame(prof_data).rename(columns={0:'Средняя прибыль (млн.рублей)', \n",
    "                                        1:'Нижняя граница квантиля (млн.рублей)', \n",
    "                                        2:'Верхняя граница квантиля (млн.рублей)',\n",
    "                                       3:'Вероятность потерь (5%)'})"
   ]
  },
  {
   "cell_type": "markdown",
   "metadata": {},
   "source": [
    "Параметрам тех.задания соотвествует второй регион с наибольшой средней прибылью и с наименьшей вероятностью потерь."
   ]
  },
  {
   "cell_type": "markdown",
   "metadata": {},
   "source": [
    "## Общий вывод"
   ]
  },
  {
   "cell_type": "markdown",
   "metadata": {},
   "source": [
    "В ходе исследования были проделаны следующие шаги:\n",
    "\n",
    "1. Предобработка данных:\n",
    "* разбивка на выборки (train_test_split);\n",
    "* сглаживание признаков (RobustScaler);\n",
    "* масштабирование (StandardScaler).\n",
    "\n",
    "Все три подпункта выполнялись с помощью библиотеки scikit.learn. В начале сгладили данные, чтобы уменьшить влияние выбросов, а далее отмасштабировали признаки.\n",
    "\n",
    "2. Обучение модели на тренировочной и проверка на тестовой.\n",
    "3. Определили точку безубыточности\n",
    "4. Для расчета прибыли использовалась техника Bootstrap.\n",
    "\n",
    "После выполнения вышеперечисленных этапов сверили три данные для каждого региона: среднюю прибыль, 95-% доверительный интервал и вероятность потерь. Требованиям тех.задания соотвествует `второй регион` с наибольшой средней прибылью и с наименьшими возможными потерями.\n",
    "\n"
   ]
  }
 ],
 "metadata": {
  "ExecuteTimeLog": [
   {
    "duration": 1811,
    "start_time": "2023-05-05T19:28:50.550Z"
   },
   {
    "duration": 1383,
    "start_time": "2023-05-05T19:29:59.815Z"
   },
   {
    "duration": 25,
    "start_time": "2023-05-05T19:30:35.858Z"
   },
   {
    "duration": 12,
    "start_time": "2023-05-05T19:30:41.259Z"
   },
   {
    "duration": 5,
    "start_time": "2023-05-05T19:33:12.840Z"
   },
   {
    "duration": 127,
    "start_time": "2023-05-05T19:34:28.053Z"
   },
   {
    "duration": 5,
    "start_time": "2023-05-05T19:34:41.322Z"
   },
   {
    "duration": 32003,
    "start_time": "2023-05-05T19:34:42.109Z"
   },
   {
    "duration": 70,
    "start_time": "2023-05-05T19:38:35.554Z"
   },
   {
    "duration": 1516,
    "start_time": "2023-05-05T19:38:38.627Z"
   },
   {
    "duration": 436,
    "start_time": "2023-05-05T19:38:40.821Z"
   },
   {
    "duration": 19,
    "start_time": "2023-05-05T19:38:41.961Z"
   },
   {
    "duration": 18,
    "start_time": "2023-05-05T19:38:43.605Z"
   },
   {
    "duration": 4,
    "start_time": "2023-05-05T19:39:41.658Z"
   },
   {
    "duration": 48,
    "start_time": "2023-05-05T19:40:02.718Z"
   },
   {
    "duration": 26,
    "start_time": "2023-05-05T19:40:08.152Z"
   },
   {
    "duration": 66,
    "start_time": "2023-05-05T19:42:44.849Z"
   },
   {
    "duration": 59,
    "start_time": "2023-05-05T19:42:53.566Z"
   },
   {
    "duration": 42,
    "start_time": "2023-05-05T19:42:57.521Z"
   },
   {
    "duration": 3,
    "start_time": "2023-05-05T21:17:08.657Z"
   },
   {
    "duration": 1619,
    "start_time": "2023-05-06T10:40:18.210Z"
   },
   {
    "duration": 2518,
    "start_time": "2023-05-06T10:40:24.534Z"
   },
   {
    "duration": 51,
    "start_time": "2023-05-06T10:40:27.054Z"
   },
   {
    "duration": 117,
    "start_time": "2023-05-06T12:01:15.032Z"
   },
   {
    "duration": 49,
    "start_time": "2023-05-06T12:06:37.802Z"
   },
   {
    "duration": 123,
    "start_time": "2023-05-06T12:17:14.644Z"
   },
   {
    "duration": 426,
    "start_time": "2023-05-06T12:17:32.503Z"
   },
   {
    "duration": 34,
    "start_time": "2023-05-06T12:24:06.986Z"
   },
   {
    "duration": 20,
    "start_time": "2023-05-06T12:24:23.041Z"
   },
   {
    "duration": 165,
    "start_time": "2023-05-06T12:26:07.067Z"
   },
   {
    "duration": 23,
    "start_time": "2023-05-06T12:27:06.710Z"
   },
   {
    "duration": 9,
    "start_time": "2023-05-06T12:28:14.247Z"
   },
   {
    "duration": 8,
    "start_time": "2023-05-06T12:29:35.346Z"
   },
   {
    "duration": 12,
    "start_time": "2023-05-06T12:29:45.657Z"
   },
   {
    "duration": 7,
    "start_time": "2023-05-06T12:30:28.495Z"
   },
   {
    "duration": 32,
    "start_time": "2023-05-06T12:30:30.591Z"
   },
   {
    "duration": 10,
    "start_time": "2023-05-06T12:31:35.227Z"
   },
   {
    "duration": 130,
    "start_time": "2023-05-06T12:36:12.697Z"
   },
   {
    "duration": 891,
    "start_time": "2023-05-06T12:36:51.898Z"
   },
   {
    "duration": 149,
    "start_time": "2023-05-06T12:37:09.070Z"
   },
   {
    "duration": 246,
    "start_time": "2023-05-06T12:37:26.205Z"
   },
   {
    "duration": 175,
    "start_time": "2023-05-06T12:37:53.767Z"
   },
   {
    "duration": 208,
    "start_time": "2023-05-06T12:38:03.124Z"
   },
   {
    "duration": 192,
    "start_time": "2023-05-06T12:38:46.612Z"
   },
   {
    "duration": 143,
    "start_time": "2023-05-06T12:40:02.192Z"
   },
   {
    "duration": 196,
    "start_time": "2023-05-06T12:40:23.726Z"
   },
   {
    "duration": 371,
    "start_time": "2023-05-06T12:40:41.039Z"
   },
   {
    "duration": 223,
    "start_time": "2023-05-06T12:40:46.338Z"
   },
   {
    "duration": 164,
    "start_time": "2023-05-06T12:49:25.288Z"
   },
   {
    "duration": 103,
    "start_time": "2023-05-06T12:50:46.413Z"
   },
   {
    "duration": 182,
    "start_time": "2023-05-06T12:50:56.813Z"
   },
   {
    "duration": 202,
    "start_time": "2023-05-06T12:51:40.307Z"
   },
   {
    "duration": 187,
    "start_time": "2023-05-06T12:52:46.472Z"
   },
   {
    "duration": 204,
    "start_time": "2023-05-06T12:52:47.962Z"
   },
   {
    "duration": 22,
    "start_time": "2023-05-06T13:15:08.613Z"
   },
   {
    "duration": 18,
    "start_time": "2023-05-06T13:15:16.103Z"
   },
   {
    "duration": 2,
    "start_time": "2023-05-06T13:15:23.996Z"
   },
   {
    "duration": 21,
    "start_time": "2023-05-06T13:15:34.194Z"
   },
   {
    "duration": 14,
    "start_time": "2023-05-06T13:19:41.391Z"
   },
   {
    "duration": 3,
    "start_time": "2023-05-06T13:20:28.560Z"
   },
   {
    "duration": 25,
    "start_time": "2023-05-06T13:21:56.468Z"
   },
   {
    "duration": 9,
    "start_time": "2023-05-06T13:23:08.406Z"
   },
   {
    "duration": 12,
    "start_time": "2023-05-06T13:23:23.612Z"
   },
   {
    "duration": 15,
    "start_time": "2023-05-06T13:23:24.198Z"
   },
   {
    "duration": 10,
    "start_time": "2023-05-06T13:24:38.398Z"
   },
   {
    "duration": 4,
    "start_time": "2023-05-06T13:25:01.015Z"
   },
   {
    "duration": 31,
    "start_time": "2023-05-06T13:25:12.902Z"
   },
   {
    "duration": 105,
    "start_time": "2023-05-06T13:25:53.055Z"
   },
   {
    "duration": 16,
    "start_time": "2023-05-06T13:25:56.592Z"
   },
   {
    "duration": 137,
    "start_time": "2023-05-06T13:26:05.918Z"
   },
   {
    "duration": 126,
    "start_time": "2023-05-06T13:26:07.695Z"
   },
   {
    "duration": 9,
    "start_time": "2023-05-06T13:26:24.445Z"
   },
   {
    "duration": 5,
    "start_time": "2023-05-06T13:26:48.562Z"
   },
   {
    "duration": 4,
    "start_time": "2023-05-06T13:26:59.221Z"
   },
   {
    "duration": 4,
    "start_time": "2023-05-06T13:27:18.552Z"
   },
   {
    "duration": 5,
    "start_time": "2023-05-06T13:27:25.510Z"
   },
   {
    "duration": 4,
    "start_time": "2023-05-06T13:27:37.935Z"
   },
   {
    "duration": 12,
    "start_time": "2023-05-06T14:08:40.230Z"
   },
   {
    "duration": 23,
    "start_time": "2023-05-06T14:08:44.562Z"
   },
   {
    "duration": 1397,
    "start_time": "2023-05-06T14:09:12.501Z"
   },
   {
    "duration": 3,
    "start_time": "2023-05-06T14:09:13.903Z"
   },
   {
    "duration": 356,
    "start_time": "2023-05-06T14:09:13.907Z"
   },
   {
    "duration": 54,
    "start_time": "2023-05-06T14:09:14.265Z"
   },
   {
    "duration": 24,
    "start_time": "2023-05-06T14:09:14.321Z"
   },
   {
    "duration": 97,
    "start_time": "2023-05-06T14:09:14.346Z"
   },
   {
    "duration": 181,
    "start_time": "2023-05-06T14:09:14.444Z"
   },
   {
    "duration": 177,
    "start_time": "2023-05-06T14:09:14.627Z"
   },
   {
    "duration": 193,
    "start_time": "2023-05-06T14:09:14.805Z"
   },
   {
    "duration": 16,
    "start_time": "2023-05-06T14:09:14.999Z"
   },
   {
    "duration": 38,
    "start_time": "2023-05-06T14:09:15.017Z"
   },
   {
    "duration": 13,
    "start_time": "2023-05-06T14:09:15.057Z"
   },
   {
    "duration": 39,
    "start_time": "2023-05-06T14:09:15.082Z"
   },
   {
    "duration": 14,
    "start_time": "2023-05-06T14:09:15.124Z"
   },
   {
    "duration": 5,
    "start_time": "2023-05-06T14:09:15.139Z"
   },
   {
    "duration": 9,
    "start_time": "2023-05-06T14:09:20.343Z"
   },
   {
    "duration": 17,
    "start_time": "2023-05-06T14:09:24.500Z"
   },
   {
    "duration": 20,
    "start_time": "2023-05-06T14:09:48.198Z"
   },
   {
    "duration": 42,
    "start_time": "2023-05-06T14:16:59.907Z"
   },
   {
    "duration": 4,
    "start_time": "2023-05-06T14:17:05.140Z"
   },
   {
    "duration": 15,
    "start_time": "2023-05-06T14:17:15.570Z"
   },
   {
    "duration": 146,
    "start_time": "2023-05-06T14:17:30.342Z"
   },
   {
    "duration": 13,
    "start_time": "2023-05-06T14:17:37.899Z"
   },
   {
    "duration": 10,
    "start_time": "2023-05-06T14:18:12.694Z"
   },
   {
    "duration": 24,
    "start_time": "2023-05-06T14:18:24.604Z"
   },
   {
    "duration": 23,
    "start_time": "2023-05-06T14:18:32.845Z"
   },
   {
    "duration": 7,
    "start_time": "2023-05-06T14:27:52.506Z"
   },
   {
    "duration": 10,
    "start_time": "2023-05-06T14:28:01.703Z"
   },
   {
    "duration": 8,
    "start_time": "2023-05-06T14:28:33.733Z"
   },
   {
    "duration": 2,
    "start_time": "2023-05-06T14:28:44.418Z"
   },
   {
    "duration": 9,
    "start_time": "2023-05-06T14:35:12.048Z"
   },
   {
    "duration": 9,
    "start_time": "2023-05-06T14:36:38.134Z"
   },
   {
    "duration": 3,
    "start_time": "2023-05-06T14:36:49.994Z"
   },
   {
    "duration": 57,
    "start_time": "2023-05-06T14:40:12.248Z"
   },
   {
    "duration": 10,
    "start_time": "2023-05-06T14:40:17.899Z"
   },
   {
    "duration": 77,
    "start_time": "2023-05-06T14:43:19.706Z"
   },
   {
    "duration": 9,
    "start_time": "2023-05-06T14:43:23.815Z"
   },
   {
    "duration": 4,
    "start_time": "2023-05-06T14:43:31.498Z"
   },
   {
    "duration": 15,
    "start_time": "2023-05-06T14:45:56.430Z"
   },
   {
    "duration": 106,
    "start_time": "2023-05-06T14:46:24.284Z"
   },
   {
    "duration": 55,
    "start_time": "2023-05-06T14:46:37.230Z"
   },
   {
    "duration": 3,
    "start_time": "2023-05-06T14:51:54.928Z"
   },
   {
    "duration": 2,
    "start_time": "2023-05-06T14:52:10.006Z"
   },
   {
    "duration": 4,
    "start_time": "2023-05-06T14:52:15.597Z"
   },
   {
    "duration": 9,
    "start_time": "2023-05-06T14:52:39.396Z"
   },
   {
    "duration": 8,
    "start_time": "2023-05-06T14:53:02.319Z"
   },
   {
    "duration": 1309,
    "start_time": "2023-05-06T14:54:34.627Z"
   },
   {
    "duration": 2,
    "start_time": "2023-05-06T14:54:35.939Z"
   },
   {
    "duration": 453,
    "start_time": "2023-05-06T14:54:35.942Z"
   },
   {
    "duration": 52,
    "start_time": "2023-05-06T14:54:36.396Z"
   },
   {
    "duration": 37,
    "start_time": "2023-05-06T14:54:36.450Z"
   },
   {
    "duration": 110,
    "start_time": "2023-05-06T14:54:36.489Z"
   },
   {
    "duration": 249,
    "start_time": "2023-05-06T14:54:36.601Z"
   },
   {
    "duration": 243,
    "start_time": "2023-05-06T14:54:36.852Z"
   },
   {
    "duration": 166,
    "start_time": "2023-05-06T14:54:37.102Z"
   },
   {
    "duration": 33,
    "start_time": "2023-05-06T14:54:37.270Z"
   },
   {
    "duration": 19,
    "start_time": "2023-05-06T14:54:37.304Z"
   },
   {
    "duration": 10,
    "start_time": "2023-05-06T14:54:37.324Z"
   },
   {
    "duration": 13,
    "start_time": "2023-05-06T14:54:37.335Z"
   },
   {
    "duration": 15,
    "start_time": "2023-05-06T14:54:37.351Z"
   },
   {
    "duration": 4,
    "start_time": "2023-05-06T14:54:37.372Z"
   },
   {
    "duration": 60,
    "start_time": "2023-05-06T14:54:37.387Z"
   },
   {
    "duration": 115,
    "start_time": "2023-05-06T14:54:37.448Z"
   },
   {
    "duration": 0,
    "start_time": "2023-05-06T14:54:37.565Z"
   },
   {
    "duration": 41,
    "start_time": "2023-05-06T14:54:56.655Z"
   },
   {
    "duration": 132,
    "start_time": "2023-05-06T14:55:13.573Z"
   },
   {
    "duration": 9,
    "start_time": "2023-05-06T14:55:15.656Z"
   },
   {
    "duration": 103,
    "start_time": "2023-05-06T15:11:44.783Z"
   },
   {
    "duration": 9,
    "start_time": "2023-05-06T15:11:46.029Z"
   },
   {
    "duration": 4,
    "start_time": "2023-05-06T15:32:50.046Z"
   },
   {
    "duration": 2,
    "start_time": "2023-05-06T15:36:54.267Z"
   },
   {
    "duration": 1215,
    "start_time": "2023-05-06T15:38:53.971Z"
   },
   {
    "duration": 1700,
    "start_time": "2023-05-06T20:46:00.001Z"
   },
   {
    "duration": 3,
    "start_time": "2023-05-06T20:46:01.703Z"
   },
   {
    "duration": 1768,
    "start_time": "2023-05-06T20:46:01.708Z"
   },
   {
    "duration": 39,
    "start_time": "2023-05-06T20:46:03.478Z"
   },
   {
    "duration": 36,
    "start_time": "2023-05-06T20:46:03.519Z"
   },
   {
    "duration": 104,
    "start_time": "2023-05-06T20:46:03.557Z"
   },
   {
    "duration": 199,
    "start_time": "2023-05-06T20:46:03.665Z"
   },
   {
    "duration": 198,
    "start_time": "2023-05-06T20:46:03.866Z"
   },
   {
    "duration": 183,
    "start_time": "2023-05-06T20:46:04.066Z"
   },
   {
    "duration": 19,
    "start_time": "2023-05-06T20:46:04.253Z"
   },
   {
    "duration": 19,
    "start_time": "2023-05-06T20:46:04.274Z"
   },
   {
    "duration": 12,
    "start_time": "2023-05-06T20:46:04.294Z"
   },
   {
    "duration": 41,
    "start_time": "2023-05-06T20:46:04.307Z"
   },
   {
    "duration": 28,
    "start_time": "2023-05-06T20:46:04.357Z"
   },
   {
    "duration": 15,
    "start_time": "2023-05-06T20:46:04.386Z"
   },
   {
    "duration": 60,
    "start_time": "2023-05-06T20:46:04.402Z"
   },
   {
    "duration": 196,
    "start_time": "2023-05-06T20:46:04.464Z"
   },
   {
    "duration": 176,
    "start_time": "2023-05-06T20:46:04.661Z"
   },
   {
    "duration": 1355,
    "start_time": "2023-05-06T20:46:14.003Z"
   },
   {
    "duration": 1068,
    "start_time": "2023-05-06T20:46:19.198Z"
   },
   {
    "duration": 1359,
    "start_time": "2023-05-06T20:46:25.001Z"
   },
   {
    "duration": 1174,
    "start_time": "2023-05-06T20:46:29.967Z"
   },
   {
    "duration": 111,
    "start_time": "2023-05-06T20:47:43.959Z"
   },
   {
    "duration": 13,
    "start_time": "2023-05-06T20:47:51.707Z"
   },
   {
    "duration": 2491,
    "start_time": "2023-05-06T20:48:00.158Z"
   },
   {
    "duration": 917,
    "start_time": "2023-05-06T20:48:08.135Z"
   },
   {
    "duration": 3,
    "start_time": "2023-05-06T20:54:46.464Z"
   },
   {
    "duration": 3,
    "start_time": "2023-05-06T20:56:00.194Z"
   },
   {
    "duration": 8,
    "start_time": "2023-05-06T20:59:44.263Z"
   },
   {
    "duration": 9,
    "start_time": "2023-05-06T21:01:54.204Z"
   },
   {
    "duration": 9,
    "start_time": "2023-05-06T21:03:50.176Z"
   },
   {
    "duration": 10,
    "start_time": "2023-05-06T21:04:42.589Z"
   },
   {
    "duration": 4,
    "start_time": "2023-05-06T21:04:47.348Z"
   },
   {
    "duration": 10,
    "start_time": "2023-05-06T21:05:42.257Z"
   },
   {
    "duration": 9,
    "start_time": "2023-05-06T21:05:48.687Z"
   },
   {
    "duration": 3,
    "start_time": "2023-05-06T21:05:54.421Z"
   },
   {
    "duration": 30,
    "start_time": "2023-05-06T21:05:56.696Z"
   },
   {
    "duration": 9,
    "start_time": "2023-05-06T21:06:26.784Z"
   },
   {
    "duration": 101904,
    "start_time": "2023-05-06T21:07:00.932Z"
   },
   {
    "duration": 102189,
    "start_time": "2023-05-06T21:10:58.555Z"
   },
   {
    "duration": 102902,
    "start_time": "2023-05-06T21:14:34.343Z"
   },
   {
    "duration": 20,
    "start_time": "2023-05-06T21:24:47.450Z"
   },
   {
    "duration": 1059,
    "start_time": "2023-05-06T21:25:34.393Z"
   },
   {
    "duration": 724,
    "start_time": "2023-05-06T21:25:39.231Z"
   },
   {
    "duration": 1045,
    "start_time": "2023-05-06T21:25:41.508Z"
   },
   {
    "duration": 933,
    "start_time": "2023-05-06T21:25:45.417Z"
   },
   {
    "duration": 1138,
    "start_time": "2023-05-06T21:25:49.911Z"
   },
   {
    "duration": 1028,
    "start_time": "2023-05-06T21:25:59.420Z"
   },
   {
    "duration": 1477,
    "start_time": "2023-05-06T21:26:02.558Z"
   },
   {
    "duration": 1186,
    "start_time": "2023-05-06T21:26:07.964Z"
   },
   {
    "duration": 1696,
    "start_time": "2023-05-06T21:26:11.345Z"
   },
   {
    "duration": 790,
    "start_time": "2023-05-06T21:26:14.865Z"
   },
   {
    "duration": 835,
    "start_time": "2023-05-06T21:26:17.811Z"
   },
   {
    "duration": 829,
    "start_time": "2023-05-06T21:26:20.230Z"
   },
   {
    "duration": 963,
    "start_time": "2023-05-06T21:26:22.874Z"
   },
   {
    "duration": 1130,
    "start_time": "2023-05-06T21:26:25.320Z"
   },
   {
    "duration": 1491,
    "start_time": "2023-05-06T21:26:29.149Z"
   },
   {
    "duration": 614,
    "start_time": "2023-05-06T21:26:32.334Z"
   },
   {
    "duration": 1017,
    "start_time": "2023-05-06T21:26:41.428Z"
   },
   {
    "duration": 1154,
    "start_time": "2023-05-06T21:29:32.592Z"
   },
   {
    "duration": 534,
    "start_time": "2023-05-06T21:32:35.619Z"
   },
   {
    "duration": 3339,
    "start_time": "2023-05-06T21:33:53.221Z"
   },
   {
    "duration": 4435,
    "start_time": "2023-05-06T21:34:00.007Z"
   },
   {
    "duration": 4333,
    "start_time": "2023-05-06T21:34:07.722Z"
   },
   {
    "duration": 2051,
    "start_time": "2023-05-06T21:34:15.698Z"
   },
   {
    "duration": 1082,
    "start_time": "2023-05-06T21:34:21.176Z"
   },
   {
    "duration": 946,
    "start_time": "2023-05-06T21:34:24.300Z"
   },
   {
    "duration": 2985,
    "start_time": "2023-05-06T21:34:43.157Z"
   },
   {
    "duration": 3441,
    "start_time": "2023-05-06T21:35:13.325Z"
   },
   {
    "duration": 3132,
    "start_time": "2023-05-06T21:35:18.434Z"
   },
   {
    "duration": 2358,
    "start_time": "2023-05-06T21:35:23.405Z"
   },
   {
    "duration": 3029,
    "start_time": "2023-05-06T21:35:29.517Z"
   },
   {
    "duration": 2941,
    "start_time": "2023-05-06T21:35:33.616Z"
   },
   {
    "duration": 3323,
    "start_time": "2023-05-06T21:35:37.715Z"
   },
   {
    "duration": 2297,
    "start_time": "2023-05-06T21:35:45.545Z"
   },
   {
    "duration": 2664,
    "start_time": "2023-05-06T21:35:49.575Z"
   },
   {
    "duration": 5282,
    "start_time": "2023-05-06T21:35:56.480Z"
   },
   {
    "duration": 1930,
    "start_time": "2023-05-06T21:36:04.933Z"
   },
   {
    "duration": 410701,
    "start_time": "2023-05-06T21:36:43.348Z"
   },
   {
    "duration": 97,
    "start_time": "2023-05-06T21:50:38.648Z"
   },
   {
    "duration": 10850,
    "start_time": "2023-05-06T21:50:53.187Z"
   },
   {
    "duration": 544197,
    "start_time": "2023-05-06T21:51:07.444Z"
   },
   {
    "duration": 5,
    "start_time": "2023-05-06T22:06:56.087Z"
   },
   {
    "duration": 13,
    "start_time": "2023-05-06T22:07:10.590Z"
   },
   {
    "duration": 5,
    "start_time": "2023-05-06T22:07:16.355Z"
   },
   {
    "duration": 11,
    "start_time": "2023-05-06T22:07:30.075Z"
   },
   {
    "duration": 19,
    "start_time": "2023-05-06T22:07:33.626Z"
   },
   {
    "duration": 11,
    "start_time": "2023-05-06T22:08:00.551Z"
   },
   {
    "duration": 10,
    "start_time": "2023-05-06T22:08:08.678Z"
   },
   {
    "duration": 17,
    "start_time": "2023-05-06T22:08:39.645Z"
   },
   {
    "duration": 108,
    "start_time": "2023-05-06T22:08:43.843Z"
   },
   {
    "duration": 17,
    "start_time": "2023-05-06T22:08:45.425Z"
   },
   {
    "duration": 3033,
    "start_time": "2023-05-06T22:10:24.908Z"
   },
   {
    "duration": 4,
    "start_time": "2023-05-06T22:10:47.944Z"
   },
   {
    "duration": 4,
    "start_time": "2023-05-06T22:10:52.117Z"
   },
   {
    "duration": 10,
    "start_time": "2023-05-06T22:17:50.287Z"
   },
   {
    "duration": 5169,
    "start_time": "2023-05-06T22:18:02.671Z"
   },
   {
    "duration": 10,
    "start_time": "2023-05-06T22:18:10.844Z"
   },
   {
    "duration": 117,
    "start_time": "2023-05-06T22:43:32.826Z"
   },
   {
    "duration": 4,
    "start_time": "2023-05-06T22:43:37.801Z"
   },
   {
    "duration": 4,
    "start_time": "2023-05-06T22:43:45.956Z"
   },
   {
    "duration": 13,
    "start_time": "2023-05-06T22:46:27.093Z"
   },
   {
    "duration": 7,
    "start_time": "2023-05-06T22:46:32.641Z"
   },
   {
    "duration": 13,
    "start_time": "2023-05-06T22:47:49.371Z"
   },
   {
    "duration": 3,
    "start_time": "2023-05-06T22:47:49.898Z"
   },
   {
    "duration": 20,
    "start_time": "2023-05-06T22:48:01.950Z"
   },
   {
    "duration": 4,
    "start_time": "2023-05-06T22:48:02.509Z"
   },
   {
    "duration": 17,
    "start_time": "2023-05-06T22:48:42.340Z"
   },
   {
    "duration": 3,
    "start_time": "2023-05-06T22:48:42.798Z"
   },
   {
    "duration": 15,
    "start_time": "2023-05-06T22:48:48.548Z"
   },
   {
    "duration": 4,
    "start_time": "2023-05-06T22:48:48.929Z"
   },
   {
    "duration": 4,
    "start_time": "2023-05-06T22:49:01.805Z"
   },
   {
    "duration": 17,
    "start_time": "2023-05-06T22:49:04.894Z"
   },
   {
    "duration": 4,
    "start_time": "2023-05-06T22:49:05.302Z"
   },
   {
    "duration": 3,
    "start_time": "2023-05-06T22:50:33.685Z"
   },
   {
    "duration": 1342,
    "start_time": "2023-05-06T22:51:08.546Z"
   },
   {
    "duration": 3,
    "start_time": "2023-05-06T22:51:09.890Z"
   },
   {
    "duration": 373,
    "start_time": "2023-05-06T22:51:09.894Z"
   },
   {
    "duration": 38,
    "start_time": "2023-05-06T22:51:10.268Z"
   },
   {
    "duration": 40,
    "start_time": "2023-05-06T22:51:10.308Z"
   },
   {
    "duration": 115,
    "start_time": "2023-05-06T22:51:10.349Z"
   },
   {
    "duration": 189,
    "start_time": "2023-05-06T22:51:10.466Z"
   },
   {
    "duration": 193,
    "start_time": "2023-05-06T22:51:10.656Z"
   },
   {
    "duration": 205,
    "start_time": "2023-05-06T22:51:10.850Z"
   },
   {
    "duration": 18,
    "start_time": "2023-05-06T22:51:11.056Z"
   },
   {
    "duration": 31,
    "start_time": "2023-05-06T22:51:11.075Z"
   },
   {
    "duration": 17,
    "start_time": "2023-05-06T22:51:11.107Z"
   },
   {
    "duration": 26,
    "start_time": "2023-05-06T22:51:11.125Z"
   },
   {
    "duration": 16,
    "start_time": "2023-05-06T22:51:11.153Z"
   },
   {
    "duration": 16,
    "start_time": "2023-05-06T22:51:11.170Z"
   },
   {
    "duration": 59,
    "start_time": "2023-05-06T22:51:11.188Z"
   },
   {
    "duration": 10,
    "start_time": "2023-05-06T22:51:11.249Z"
   },
   {
    "duration": 21,
    "start_time": "2023-05-06T22:51:11.260Z"
   },
   {
    "duration": 61,
    "start_time": "2023-05-06T22:51:11.283Z"
   },
   {
    "duration": 109,
    "start_time": "2023-05-06T22:51:11.346Z"
   },
   {
    "duration": 13,
    "start_time": "2023-05-06T22:52:10.699Z"
   },
   {
    "duration": 3,
    "start_time": "2023-05-06T22:52:11.061Z"
   },
   {
    "duration": 210,
    "start_time": "2023-05-06T22:52:20.927Z"
   },
   {
    "duration": 11,
    "start_time": "2023-05-06T22:52:23.667Z"
   },
   {
    "duration": 5680,
    "start_time": "2023-05-06T22:52:33.064Z"
   },
   {
    "duration": 13,
    "start_time": "2023-05-06T22:52:40.800Z"
   },
   {
    "duration": 2168,
    "start_time": "2023-05-06T22:55:45.872Z"
   },
   {
    "duration": 3,
    "start_time": "2023-05-06T22:55:52.522Z"
   },
   {
    "duration": 11,
    "start_time": "2023-05-06T22:56:01.533Z"
   },
   {
    "duration": 9,
    "start_time": "2023-05-06T22:56:38.304Z"
   },
   {
    "duration": 8,
    "start_time": "2023-05-06T22:56:52.033Z"
   },
   {
    "duration": 10,
    "start_time": "2023-05-06T22:57:03.082Z"
   },
   {
    "duration": 14,
    "start_time": "2023-05-06T22:57:07.539Z"
   },
   {
    "duration": 24,
    "start_time": "2023-05-06T22:57:18.196Z"
   },
   {
    "duration": 45,
    "start_time": "2023-05-06T22:57:26.557Z"
   },
   {
    "duration": 8054,
    "start_time": "2023-05-06T23:01:29.288Z"
   },
   {
    "duration": 10,
    "start_time": "2023-05-06T23:02:13.085Z"
   },
   {
    "duration": 7243,
    "start_time": "2023-05-06T23:02:33.116Z"
   },
   {
    "duration": 10,
    "start_time": "2023-05-06T23:02:42.092Z"
   },
   {
    "duration": 4,
    "start_time": "2023-05-06T23:12:44.434Z"
   },
   {
    "duration": 3,
    "start_time": "2023-05-06T23:12:44.672Z"
   },
   {
    "duration": 3,
    "start_time": "2023-05-06T23:28:19.928Z"
   },
   {
    "duration": 10,
    "start_time": "2023-05-06T23:28:35.194Z"
   },
   {
    "duration": 119,
    "start_time": "2023-05-06T23:29:15.529Z"
   },
   {
    "duration": 3,
    "start_time": "2023-05-06T23:29:41.708Z"
   },
   {
    "duration": 15,
    "start_time": "2023-05-06T23:29:44.248Z"
   },
   {
    "duration": 10,
    "start_time": "2023-05-06T23:29:48.848Z"
   },
   {
    "duration": 24,
    "start_time": "2023-05-06T23:30:11.451Z"
   },
   {
    "duration": 23,
    "start_time": "2023-05-06T23:30:16.657Z"
   },
   {
    "duration": 14,
    "start_time": "2023-05-06T23:30:33.403Z"
   },
   {
    "duration": 29,
    "start_time": "2023-05-06T23:30:34.567Z"
   },
   {
    "duration": 11,
    "start_time": "2023-05-06T23:30:38.957Z"
   },
   {
    "duration": 24,
    "start_time": "2023-05-06T23:30:39.759Z"
   },
   {
    "duration": 13,
    "start_time": "2023-05-06T23:30:44.695Z"
   },
   {
    "duration": 24,
    "start_time": "2023-05-06T23:30:45.048Z"
   },
   {
    "duration": 10,
    "start_time": "2023-05-06T23:30:55.560Z"
   },
   {
    "duration": 27,
    "start_time": "2023-05-06T23:30:56.466Z"
   },
   {
    "duration": 26,
    "start_time": "2023-05-06T23:30:59.963Z"
   },
   {
    "duration": 13,
    "start_time": "2023-05-06T23:31:02.367Z"
   },
   {
    "duration": 24,
    "start_time": "2023-05-06T23:31:04.548Z"
   },
   {
    "duration": 3,
    "start_time": "2023-05-06T23:34:12.168Z"
   },
   {
    "duration": 3,
    "start_time": "2023-05-06T23:34:41.707Z"
   },
   {
    "duration": 27,
    "start_time": "2023-05-06T23:34:41.906Z"
   },
   {
    "duration": 4,
    "start_time": "2023-05-06T23:34:43.448Z"
   },
   {
    "duration": 9,
    "start_time": "2023-05-06T23:38:59.034Z"
   },
   {
    "duration": 4,
    "start_time": "2023-05-06T23:39:10.104Z"
   },
   {
    "duration": 8,
    "start_time": "2023-05-06T23:39:16.872Z"
   },
   {
    "duration": 24,
    "start_time": "2023-05-06T23:39:31.064Z"
   },
   {
    "duration": 3,
    "start_time": "2023-05-06T23:40:31.677Z"
   },
   {
    "duration": 9,
    "start_time": "2023-05-06T23:40:50.987Z"
   },
   {
    "duration": 3,
    "start_time": "2023-05-06T23:41:02.850Z"
   },
   {
    "duration": 15,
    "start_time": "2023-05-06T23:41:04.094Z"
   },
   {
    "duration": 4,
    "start_time": "2023-05-06T23:41:11.905Z"
   },
   {
    "duration": 24,
    "start_time": "2023-05-06T23:41:22.957Z"
   },
   {
    "duration": 49,
    "start_time": "2023-05-06T23:41:44.829Z"
   },
   {
    "duration": 24,
    "start_time": "2023-05-06T23:41:51.676Z"
   },
   {
    "duration": 26,
    "start_time": "2023-05-06T23:41:53.295Z"
   },
   {
    "duration": 3,
    "start_time": "2023-05-06T23:42:42.477Z"
   },
   {
    "duration": 41,
    "start_time": "2023-05-06T23:43:07.186Z"
   },
   {
    "duration": 29,
    "start_time": "2023-05-06T23:43:28.676Z"
   },
   {
    "duration": 3,
    "start_time": "2023-05-06T23:45:11.046Z"
   },
   {
    "duration": 5,
    "start_time": "2023-05-06T23:45:53.895Z"
   },
   {
    "duration": 13,
    "start_time": "2023-05-06T23:46:48.599Z"
   },
   {
    "duration": 31,
    "start_time": "2023-05-06T23:47:09.911Z"
   },
   {
    "duration": 224,
    "start_time": "2023-05-06T23:47:29.727Z"
   },
   {
    "duration": 21,
    "start_time": "2023-05-06T23:47:30.527Z"
   },
   {
    "duration": 103,
    "start_time": "2023-05-06T23:51:11.744Z"
   },
   {
    "duration": 124,
    "start_time": "2023-05-06T23:51:58.114Z"
   },
   {
    "duration": 82,
    "start_time": "2023-05-06T23:51:59.025Z"
   },
   {
    "duration": 14,
    "start_time": "2023-05-06T23:52:03.696Z"
   },
   {
    "duration": 2,
    "start_time": "2023-05-07T00:28:13.950Z"
   },
   {
    "duration": 3,
    "start_time": "2023-05-07T00:37:35.366Z"
   },
   {
    "duration": 3,
    "start_time": "2023-05-07T00:37:48.689Z"
   },
   {
    "duration": 9,
    "start_time": "2023-05-07T00:38:07.293Z"
   },
   {
    "duration": 4,
    "start_time": "2023-05-07T00:38:51.769Z"
   },
   {
    "duration": 4,
    "start_time": "2023-05-07T00:39:00.576Z"
   },
   {
    "duration": 5,
    "start_time": "2023-05-07T00:57:08.456Z"
   },
   {
    "duration": 8,
    "start_time": "2023-05-07T00:57:18.152Z"
   },
   {
    "duration": 5,
    "start_time": "2023-05-07T00:57:21.498Z"
   },
   {
    "duration": 8,
    "start_time": "2023-05-07T01:03:34.747Z"
   },
   {
    "duration": 8,
    "start_time": "2023-05-07T01:03:41.271Z"
   },
   {
    "duration": 11,
    "start_time": "2023-05-07T01:04:00.229Z"
   },
   {
    "duration": 4,
    "start_time": "2023-05-07T01:17:47.107Z"
   },
   {
    "duration": 20,
    "start_time": "2023-05-07T01:18:35.289Z"
   },
   {
    "duration": 3,
    "start_time": "2023-05-07T01:20:44.818Z"
   },
   {
    "duration": 11,
    "start_time": "2023-05-07T01:20:46.058Z"
   },
   {
    "duration": 3,
    "start_time": "2023-05-07T01:21:10.187Z"
   },
   {
    "duration": 12,
    "start_time": "2023-05-07T01:21:10.731Z"
   },
   {
    "duration": 8,
    "start_time": "2023-05-07T01:21:51.417Z"
   },
   {
    "duration": 14,
    "start_time": "2023-05-07T01:28:00.728Z"
   },
   {
    "duration": 4,
    "start_time": "2023-05-07T01:28:08.709Z"
   },
   {
    "duration": 6,
    "start_time": "2023-05-07T01:28:16.108Z"
   },
   {
    "duration": 4,
    "start_time": "2023-05-07T01:32:28.849Z"
   },
   {
    "duration": 15,
    "start_time": "2023-05-07T01:32:31.468Z"
   },
   {
    "duration": 3,
    "start_time": "2023-05-07T01:32:39.626Z"
   },
   {
    "duration": 11,
    "start_time": "2023-05-07T01:32:40.030Z"
   },
   {
    "duration": 7,
    "start_time": "2023-05-07T01:32:47.019Z"
   },
   {
    "duration": 7,
    "start_time": "2023-05-07T01:33:03.408Z"
   },
   {
    "duration": 6,
    "start_time": "2023-05-07T01:33:13.774Z"
   },
   {
    "duration": 4,
    "start_time": "2023-05-07T01:36:44.596Z"
   },
   {
    "duration": 17,
    "start_time": "2023-05-07T01:36:45.569Z"
   },
   {
    "duration": 15,
    "start_time": "2023-05-07T01:36:52.848Z"
   },
   {
    "duration": 4,
    "start_time": "2023-05-07T01:38:05.663Z"
   },
   {
    "duration": 19,
    "start_time": "2023-05-07T01:38:06.328Z"
   },
   {
    "duration": 4,
    "start_time": "2023-05-07T01:38:24.001Z"
   },
   {
    "duration": 16,
    "start_time": "2023-05-07T01:38:24.448Z"
   },
   {
    "duration": 3,
    "start_time": "2023-05-07T01:38:37.748Z"
   },
   {
    "duration": 16,
    "start_time": "2023-05-07T01:38:38.461Z"
   },
   {
    "duration": 4,
    "start_time": "2023-05-07T01:39:39.260Z"
   },
   {
    "duration": 6,
    "start_time": "2023-05-07T01:39:39.408Z"
   },
   {
    "duration": 3,
    "start_time": "2023-05-07T01:44:04.120Z"
   },
   {
    "duration": 11,
    "start_time": "2023-05-07T01:44:04.344Z"
   },
   {
    "duration": 6,
    "start_time": "2023-05-07T01:44:10.728Z"
   },
   {
    "duration": 3,
    "start_time": "2023-05-07T01:44:12.857Z"
   },
   {
    "duration": 6,
    "start_time": "2023-05-07T01:44:13.098Z"
   },
   {
    "duration": 6,
    "start_time": "2023-05-07T01:48:04.828Z"
   },
   {
    "duration": 11,
    "start_time": "2023-05-07T01:48:14.864Z"
   },
   {
    "duration": 9,
    "start_time": "2023-05-07T01:50:58.469Z"
   },
   {
    "duration": 5,
    "start_time": "2023-05-07T01:51:14.611Z"
   },
   {
    "duration": 8,
    "start_time": "2023-05-07T01:51:15.419Z"
   },
   {
    "duration": 7,
    "start_time": "2023-05-07T01:51:21.788Z"
   },
   {
    "duration": 4,
    "start_time": "2023-05-07T01:55:20.719Z"
   },
   {
    "duration": 11,
    "start_time": "2023-05-07T01:55:27.908Z"
   },
   {
    "duration": 7,
    "start_time": "2023-05-07T01:57:19.918Z"
   },
   {
    "duration": 22,
    "start_time": "2023-05-07T01:59:01.428Z"
   },
   {
    "duration": 4,
    "start_time": "2023-05-07T01:59:26.308Z"
   },
   {
    "duration": 8,
    "start_time": "2023-05-07T01:59:26.648Z"
   },
   {
    "duration": 12,
    "start_time": "2023-05-07T01:59:47.848Z"
   },
   {
    "duration": 9,
    "start_time": "2023-05-07T01:59:52.162Z"
   },
   {
    "duration": 12,
    "start_time": "2023-05-07T01:59:58.695Z"
   },
   {
    "duration": 9,
    "start_time": "2023-05-07T02:00:28.730Z"
   },
   {
    "duration": 11,
    "start_time": "2023-05-07T02:00:40.168Z"
   },
   {
    "duration": 11,
    "start_time": "2023-05-07T02:00:43.214Z"
   },
   {
    "duration": 11,
    "start_time": "2023-05-07T02:00:48.996Z"
   },
   {
    "duration": 18,
    "start_time": "2023-05-07T02:00:57.620Z"
   },
   {
    "duration": 16,
    "start_time": "2023-05-07T02:01:02.149Z"
   },
   {
    "duration": 4,
    "start_time": "2023-05-07T02:23:54.256Z"
   },
   {
    "duration": 2,
    "start_time": "2023-05-07T02:30:12.974Z"
   },
   {
    "duration": 4,
    "start_time": "2023-05-07T02:39:54.569Z"
   },
   {
    "duration": 5,
    "start_time": "2023-05-07T02:48:55.846Z"
   },
   {
    "duration": 5,
    "start_time": "2023-05-07T02:49:09.522Z"
   },
   {
    "duration": 21,
    "start_time": "2023-05-07T02:49:55.131Z"
   },
   {
    "duration": 19,
    "start_time": "2023-05-07T02:50:00.729Z"
   },
   {
    "duration": 5,
    "start_time": "2023-05-07T02:50:35.745Z"
   },
   {
    "duration": 2769,
    "start_time": "2023-05-07T02:50:36.409Z"
   },
   {
    "duration": 4,
    "start_time": "2023-05-07T02:51:01.519Z"
   },
   {
    "duration": 2987,
    "start_time": "2023-05-07T02:51:01.989Z"
   },
   {
    "duration": 5,
    "start_time": "2023-05-07T02:51:13.867Z"
   },
   {
    "duration": 10,
    "start_time": "2023-05-07T02:51:30.019Z"
   },
   {
    "duration": 6,
    "start_time": "2023-05-07T02:51:37.060Z"
   },
   {
    "duration": 3,
    "start_time": "2023-05-07T02:51:45.220Z"
   },
   {
    "duration": 7,
    "start_time": "2023-05-07T02:51:50.622Z"
   },
   {
    "duration": 4,
    "start_time": "2023-05-07T02:52:18.676Z"
   },
   {
    "duration": 3239,
    "start_time": "2023-05-07T02:52:19.119Z"
   },
   {
    "duration": 3191,
    "start_time": "2023-05-07T02:53:01.811Z"
   },
   {
    "duration": 4,
    "start_time": "2023-05-07T02:53:45.070Z"
   },
   {
    "duration": 14,
    "start_time": "2023-05-07T02:53:45.510Z"
   },
   {
    "duration": 6,
    "start_time": "2023-05-07T02:54:00.544Z"
   },
   {
    "duration": 3193,
    "start_time": "2023-05-07T02:54:00.889Z"
   },
   {
    "duration": 10,
    "start_time": "2023-05-07T02:54:14.448Z"
   },
   {
    "duration": 3168,
    "start_time": "2023-05-07T02:54:15.248Z"
   },
   {
    "duration": 5,
    "start_time": "2023-05-07T02:54:26.655Z"
   },
   {
    "duration": 3,
    "start_time": "2023-05-07T02:56:28.051Z"
   },
   {
    "duration": 3,
    "start_time": "2023-05-07T02:57:00.376Z"
   },
   {
    "duration": 5,
    "start_time": "2023-05-07T02:57:01.924Z"
   },
   {
    "duration": 2799,
    "start_time": "2023-05-07T02:57:02.448Z"
   },
   {
    "duration": 68,
    "start_time": "2023-05-07T02:57:51.674Z"
   },
   {
    "duration": 74,
    "start_time": "2023-05-07T02:57:55.982Z"
   },
   {
    "duration": 9,
    "start_time": "2023-05-07T02:57:56.207Z"
   },
   {
    "duration": 6,
    "start_time": "2023-05-07T02:58:00.643Z"
   },
   {
    "duration": 2722,
    "start_time": "2023-05-07T02:58:01.669Z"
   },
   {
    "duration": 5,
    "start_time": "2023-05-07T02:59:46.821Z"
   },
   {
    "duration": 2726,
    "start_time": "2023-05-07T02:59:47.139Z"
   },
   {
    "duration": 1361,
    "start_time": "2023-05-07T03:00:14.495Z"
   },
   {
    "duration": 3,
    "start_time": "2023-05-07T03:00:15.858Z"
   },
   {
    "duration": 356,
    "start_time": "2023-05-07T03:00:15.862Z"
   },
   {
    "duration": 42,
    "start_time": "2023-05-07T03:00:16.220Z"
   },
   {
    "duration": 20,
    "start_time": "2023-05-07T03:00:16.263Z"
   },
   {
    "duration": 115,
    "start_time": "2023-05-07T03:00:16.284Z"
   },
   {
    "duration": 180,
    "start_time": "2023-05-07T03:00:16.400Z"
   },
   {
    "duration": 176,
    "start_time": "2023-05-07T03:00:16.581Z"
   },
   {
    "duration": 178,
    "start_time": "2023-05-07T03:00:16.759Z"
   },
   {
    "duration": 17,
    "start_time": "2023-05-07T03:00:16.940Z"
   },
   {
    "duration": 35,
    "start_time": "2023-05-07T03:00:16.959Z"
   },
   {
    "duration": 3,
    "start_time": "2023-05-07T03:00:16.995Z"
   },
   {
    "duration": 41,
    "start_time": "2023-05-07T03:00:16.999Z"
   },
   {
    "duration": 4,
    "start_time": "2023-05-07T03:00:17.042Z"
   },
   {
    "duration": 21,
    "start_time": "2023-05-07T03:00:17.047Z"
   },
   {
    "duration": 54,
    "start_time": "2023-05-07T03:00:17.070Z"
   },
   {
    "duration": 26,
    "start_time": "2023-05-07T03:00:17.126Z"
   },
   {
    "duration": 3,
    "start_time": "2023-05-07T03:00:17.153Z"
   },
   {
    "duration": 27,
    "start_time": "2023-05-07T03:00:17.158Z"
   },
   {
    "duration": 25,
    "start_time": "2023-05-07T03:00:17.186Z"
   },
   {
    "duration": 128,
    "start_time": "2023-05-07T03:00:17.212Z"
   },
   {
    "duration": 193,
    "start_time": "2023-05-07T03:00:17.342Z"
   },
   {
    "duration": 10,
    "start_time": "2023-05-07T03:00:17.537Z"
   },
   {
    "duration": 24,
    "start_time": "2023-05-07T03:00:17.548Z"
   },
   {
    "duration": 17,
    "start_time": "2023-05-07T03:00:17.574Z"
   },
   {
    "duration": 19,
    "start_time": "2023-05-07T03:00:17.592Z"
   },
   {
    "duration": 2654,
    "start_time": "2023-05-07T03:00:17.612Z"
   },
   {
    "duration": 4,
    "start_time": "2023-05-07T03:00:49.796Z"
   },
   {
    "duration": 2785,
    "start_time": "2023-05-07T03:00:51.556Z"
   },
   {
    "duration": 5,
    "start_time": "2023-05-07T03:01:34.811Z"
   },
   {
    "duration": 3,
    "start_time": "2023-05-07T03:06:15.140Z"
   },
   {
    "duration": 3,
    "start_time": "2023-05-07T03:22:23.906Z"
   },
   {
    "duration": 9,
    "start_time": "2023-05-07T03:22:35.385Z"
   },
   {
    "duration": 5,
    "start_time": "2023-05-07T03:25:42.283Z"
   },
   {
    "duration": 1016,
    "start_time": "2023-05-07T03:25:46.755Z"
   },
   {
    "duration": 9,
    "start_time": "2023-05-07T03:26:09.887Z"
   },
   {
    "duration": 5,
    "start_time": "2023-05-07T03:26:24.903Z"
   },
   {
    "duration": 972,
    "start_time": "2023-05-07T03:26:25.997Z"
   },
   {
    "duration": 5,
    "start_time": "2023-05-07T03:26:40.991Z"
   },
   {
    "duration": 982,
    "start_time": "2023-05-07T03:26:41.394Z"
   },
   {
    "duration": 5,
    "start_time": "2023-05-07T03:27:08.873Z"
   },
   {
    "duration": 1034,
    "start_time": "2023-05-07T03:27:09.865Z"
   },
   {
    "duration": 5,
    "start_time": "2023-05-07T03:28:15.447Z"
   },
   {
    "duration": 1083,
    "start_time": "2023-05-07T03:28:16.627Z"
   },
   {
    "duration": 5,
    "start_time": "2023-05-07T03:28:21.852Z"
   },
   {
    "duration": 1025,
    "start_time": "2023-05-07T03:28:22.067Z"
   },
   {
    "duration": 7,
    "start_time": "2023-05-07T03:28:57.280Z"
   },
   {
    "duration": 1132,
    "start_time": "2023-05-07T03:28:57.681Z"
   },
   {
    "duration": 5,
    "start_time": "2023-05-07T03:29:11.426Z"
   },
   {
    "duration": 1013,
    "start_time": "2023-05-07T03:29:11.795Z"
   },
   {
    "duration": 6,
    "start_time": "2023-05-07T03:31:31.034Z"
   },
   {
    "duration": 1073,
    "start_time": "2023-05-07T03:31:32.263Z"
   },
   {
    "duration": 1019,
    "start_time": "2023-05-07T03:32:11.093Z"
   },
   {
    "duration": 1036,
    "start_time": "2023-05-07T03:32:58.724Z"
   },
   {
    "duration": 1021,
    "start_time": "2023-05-07T03:33:02.737Z"
   },
   {
    "duration": 1018,
    "start_time": "2023-05-07T03:33:08.547Z"
   },
   {
    "duration": 1025,
    "start_time": "2023-05-07T03:33:11.681Z"
   },
   {
    "duration": 1128,
    "start_time": "2023-05-07T03:33:14.394Z"
   },
   {
    "duration": 1025,
    "start_time": "2023-05-07T03:33:16.823Z"
   },
   {
    "duration": 1077,
    "start_time": "2023-05-07T03:33:20.484Z"
   },
   {
    "duration": 1177,
    "start_time": "2023-05-07T03:33:22.232Z"
   },
   {
    "duration": 11,
    "start_time": "2023-05-07T03:34:05.760Z"
   },
   {
    "duration": 5,
    "start_time": "2023-05-07T03:35:34.164Z"
   },
   {
    "duration": 1033,
    "start_time": "2023-05-07T03:35:35.266Z"
   },
   {
    "duration": 1033,
    "start_time": "2023-05-07T03:35:38.411Z"
   },
   {
    "duration": 6,
    "start_time": "2023-05-07T03:38:39.792Z"
   },
   {
    "duration": 1072,
    "start_time": "2023-05-07T03:38:40.013Z"
   },
   {
    "duration": 5,
    "start_time": "2023-05-07T03:38:48.679Z"
   },
   {
    "duration": 1234,
    "start_time": "2023-05-07T03:38:49.305Z"
   },
   {
    "duration": 1256,
    "start_time": "2023-05-07T03:39:03.392Z"
   },
   {
    "duration": 3,
    "start_time": "2023-05-07T03:39:04.650Z"
   },
   {
    "duration": 360,
    "start_time": "2023-05-07T03:39:04.655Z"
   },
   {
    "duration": 45,
    "start_time": "2023-05-07T03:39:05.017Z"
   },
   {
    "duration": 19,
    "start_time": "2023-05-07T03:39:05.063Z"
   },
   {
    "duration": 114,
    "start_time": "2023-05-07T03:39:05.083Z"
   },
   {
    "duration": 192,
    "start_time": "2023-05-07T03:39:05.199Z"
   },
   {
    "duration": 173,
    "start_time": "2023-05-07T03:39:05.392Z"
   },
   {
    "duration": 173,
    "start_time": "2023-05-07T03:39:05.567Z"
   },
   {
    "duration": 18,
    "start_time": "2023-05-07T03:39:05.743Z"
   },
   {
    "duration": 46,
    "start_time": "2023-05-07T03:39:05.762Z"
   },
   {
    "duration": 20,
    "start_time": "2023-05-07T03:39:05.810Z"
   },
   {
    "duration": 66,
    "start_time": "2023-05-07T03:39:05.831Z"
   },
   {
    "duration": 4,
    "start_time": "2023-05-07T03:39:05.898Z"
   },
   {
    "duration": 17,
    "start_time": "2023-05-07T03:39:05.904Z"
   },
   {
    "duration": 74,
    "start_time": "2023-05-07T03:39:05.922Z"
   },
   {
    "duration": 27,
    "start_time": "2023-05-07T03:39:05.997Z"
   },
   {
    "duration": 3,
    "start_time": "2023-05-07T03:39:06.026Z"
   },
   {
    "duration": 35,
    "start_time": "2023-05-07T03:39:06.031Z"
   },
   {
    "duration": 36,
    "start_time": "2023-05-07T03:39:06.067Z"
   },
   {
    "duration": 42,
    "start_time": "2023-05-07T03:39:06.104Z"
   },
   {
    "duration": 104,
    "start_time": "2023-05-07T03:39:06.236Z"
   },
   {
    "duration": 7,
    "start_time": "2023-05-07T03:39:06.342Z"
   },
   {
    "duration": 7,
    "start_time": "2023-05-07T03:39:06.350Z"
   },
   {
    "duration": 14,
    "start_time": "2023-05-07T03:39:06.358Z"
   },
   {
    "duration": 6,
    "start_time": "2023-05-07T03:39:06.373Z"
   },
   {
    "duration": 1073,
    "start_time": "2023-05-07T03:39:06.381Z"
   },
   {
    "duration": 1061,
    "start_time": "2023-05-07T03:39:07.456Z"
   },
   {
    "duration": 9,
    "start_time": "2023-05-07T03:40:08.365Z"
   },
   {
    "duration": 6,
    "start_time": "2023-05-07T03:41:39.444Z"
   },
   {
    "duration": 1132,
    "start_time": "2023-05-07T03:41:40.779Z"
   },
   {
    "duration": 5,
    "start_time": "2023-05-07T03:41:56.260Z"
   },
   {
    "duration": 1280,
    "start_time": "2023-05-07T03:41:56.531Z"
   },
   {
    "duration": 7,
    "start_time": "2023-05-07T03:42:24.522Z"
   },
   {
    "duration": 114,
    "start_time": "2023-05-07T03:42:25.770Z"
   },
   {
    "duration": 7,
    "start_time": "2023-05-07T03:42:31.036Z"
   },
   {
    "duration": 26,
    "start_time": "2023-05-07T03:42:31.661Z"
   },
   {
    "duration": 7,
    "start_time": "2023-05-07T03:42:49.374Z"
   },
   {
    "duration": 1065,
    "start_time": "2023-05-07T03:42:49.904Z"
   },
   {
    "duration": 5,
    "start_time": "2023-05-07T03:43:10.558Z"
   },
   {
    "duration": 4140,
    "start_time": "2023-05-07T03:43:10.860Z"
   },
   {
    "duration": 5,
    "start_time": "2023-05-07T03:43:26.015Z"
   },
   {
    "duration": 1211,
    "start_time": "2023-05-07T03:43:26.306Z"
   },
   {
    "duration": 5,
    "start_time": "2023-05-07T03:43:31.780Z"
   },
   {
    "duration": 1056,
    "start_time": "2023-05-07T03:43:32.342Z"
   },
   {
    "duration": 1065,
    "start_time": "2023-05-07T03:43:40.098Z"
   },
   {
    "duration": 5,
    "start_time": "2023-05-07T03:49:13.057Z"
   },
   {
    "duration": 12,
    "start_time": "2023-05-07T03:49:13.847Z"
   },
   {
    "duration": 5,
    "start_time": "2023-05-07T03:50:12.726Z"
   },
   {
    "duration": 12,
    "start_time": "2023-05-07T03:50:13.345Z"
   },
   {
    "duration": 7,
    "start_time": "2023-05-07T03:50:39.106Z"
   },
   {
    "duration": 16,
    "start_time": "2023-05-07T03:50:39.409Z"
   },
   {
    "duration": 5,
    "start_time": "2023-05-07T03:51:59.720Z"
   },
   {
    "duration": 14,
    "start_time": "2023-05-07T03:52:00.254Z"
   },
   {
    "duration": 6,
    "start_time": "2023-05-07T03:52:09.027Z"
   },
   {
    "duration": 18,
    "start_time": "2023-05-07T03:52:09.228Z"
   },
   {
    "duration": 8,
    "start_time": "2023-05-07T03:52:12.939Z"
   },
   {
    "duration": 13,
    "start_time": "2023-05-07T03:52:13.345Z"
   },
   {
    "duration": 1371,
    "start_time": "2023-05-07T03:52:33.995Z"
   },
   {
    "duration": 3,
    "start_time": "2023-05-07T03:52:35.368Z"
   },
   {
    "duration": 392,
    "start_time": "2023-05-07T03:52:35.372Z"
   },
   {
    "duration": 48,
    "start_time": "2023-05-07T03:52:35.765Z"
   },
   {
    "duration": 43,
    "start_time": "2023-05-07T03:52:35.816Z"
   },
   {
    "duration": 106,
    "start_time": "2023-05-07T03:52:35.860Z"
   },
   {
    "duration": 186,
    "start_time": "2023-05-07T03:52:35.968Z"
   },
   {
    "duration": 178,
    "start_time": "2023-05-07T03:52:36.156Z"
   },
   {
    "duration": 211,
    "start_time": "2023-05-07T03:52:36.337Z"
   },
   {
    "duration": 18,
    "start_time": "2023-05-07T03:52:36.550Z"
   },
   {
    "duration": 22,
    "start_time": "2023-05-07T03:52:36.570Z"
   },
   {
    "duration": 4,
    "start_time": "2023-05-07T03:52:36.594Z"
   },
   {
    "duration": 66,
    "start_time": "2023-05-07T03:52:36.600Z"
   },
   {
    "duration": 5,
    "start_time": "2023-05-07T03:52:36.669Z"
   },
   {
    "duration": 6,
    "start_time": "2023-05-07T03:52:36.676Z"
   },
   {
    "duration": 63,
    "start_time": "2023-05-07T03:52:36.683Z"
   },
   {
    "duration": 25,
    "start_time": "2023-05-07T03:52:36.748Z"
   },
   {
    "duration": 3,
    "start_time": "2023-05-07T03:52:36.775Z"
   },
   {
    "duration": 45,
    "start_time": "2023-05-07T03:52:36.779Z"
   },
   {
    "duration": 27,
    "start_time": "2023-05-07T03:52:36.826Z"
   },
   {
    "duration": 87,
    "start_time": "2023-05-07T03:52:36.854Z"
   },
   {
    "duration": 103,
    "start_time": "2023-05-07T03:52:36.943Z"
   },
   {
    "duration": 87,
    "start_time": "2023-05-07T03:52:37.049Z"
   },
   {
    "duration": 8,
    "start_time": "2023-05-07T03:52:37.137Z"
   },
   {
    "duration": 5,
    "start_time": "2023-05-07T03:52:37.147Z"
   },
   {
    "duration": 10,
    "start_time": "2023-05-07T03:52:37.154Z"
   },
   {
    "duration": 6,
    "start_time": "2023-05-07T03:52:37.165Z"
   },
   {
    "duration": 124,
    "start_time": "2023-05-07T03:52:37.172Z"
   },
   {
    "duration": 0,
    "start_time": "2023-05-07T03:52:37.297Z"
   },
   {
    "duration": 5,
    "start_time": "2023-05-07T03:54:01.925Z"
   },
   {
    "duration": 990,
    "start_time": "2023-05-07T03:54:02.539Z"
   },
   {
    "duration": 5,
    "start_time": "2023-05-07T03:54:08.324Z"
   },
   {
    "duration": 976,
    "start_time": "2023-05-07T03:54:08.520Z"
   },
   {
    "duration": 6,
    "start_time": "2023-05-07T03:54:39.853Z"
   },
   {
    "duration": 978,
    "start_time": "2023-05-07T03:54:40.091Z"
   },
   {
    "duration": 5,
    "start_time": "2023-05-07T03:54:48.737Z"
   },
   {
    "duration": 13,
    "start_time": "2023-05-07T03:54:49.029Z"
   },
   {
    "duration": 4,
    "start_time": "2023-05-07T03:55:20.424Z"
   },
   {
    "duration": 6,
    "start_time": "2023-05-07T03:55:21.187Z"
   },
   {
    "duration": 16,
    "start_time": "2023-05-07T03:55:22.101Z"
   },
   {
    "duration": 5,
    "start_time": "2023-05-07T03:55:51.387Z"
   },
   {
    "duration": 13,
    "start_time": "2023-05-07T03:56:04.528Z"
   },
   {
    "duration": 8,
    "start_time": "2023-05-07T03:56:12.828Z"
   },
   {
    "duration": 6,
    "start_time": "2023-05-07T03:56:29.729Z"
   },
   {
    "duration": 6,
    "start_time": "2023-05-07T03:56:33.373Z"
   },
   {
    "duration": 11,
    "start_time": "2023-05-07T03:56:44.218Z"
   },
   {
    "duration": 6,
    "start_time": "2023-05-07T03:56:49.009Z"
   },
   {
    "duration": 10,
    "start_time": "2023-05-07T03:57:15.329Z"
   },
   {
    "duration": 3,
    "start_time": "2023-05-07T03:57:18.929Z"
   },
   {
    "duration": 3,
    "start_time": "2023-05-07T03:57:19.237Z"
   },
   {
    "duration": 1438,
    "start_time": "2023-05-07T03:57:22.062Z"
   },
   {
    "duration": 6,
    "start_time": "2023-05-07T03:58:02.482Z"
   },
   {
    "duration": 3,
    "start_time": "2023-05-07T03:58:22.281Z"
   },
   {
    "duration": 4,
    "start_time": "2023-05-07T03:58:25.880Z"
   },
   {
    "duration": 18,
    "start_time": "2023-05-07T03:58:35.197Z"
   },
   {
    "duration": 5,
    "start_time": "2023-05-07T03:59:01.276Z"
   },
   {
    "duration": 3,
    "start_time": "2023-05-07T03:59:24.467Z"
   },
   {
    "duration": 1495,
    "start_time": "2023-05-07T03:59:26.951Z"
   },
   {
    "duration": 6,
    "start_time": "2023-05-07T04:00:07.607Z"
   },
   {
    "duration": 4,
    "start_time": "2023-05-07T04:01:39.730Z"
   },
   {
    "duration": 6,
    "start_time": "2023-05-07T04:01:43.054Z"
   },
   {
    "duration": 1272,
    "start_time": "2023-05-07T04:01:46.892Z"
   },
   {
    "duration": 1286,
    "start_time": "2023-05-07T04:02:08.098Z"
   },
   {
    "duration": 1296,
    "start_time": "2023-05-07T04:02:12.866Z"
   },
   {
    "duration": 8,
    "start_time": "2023-05-07T04:03:38.774Z"
   },
   {
    "duration": 1389,
    "start_time": "2023-05-07T04:03:39.564Z"
   },
   {
    "duration": 1335,
    "start_time": "2023-05-07T04:03:41.856Z"
   },
   {
    "duration": 1495,
    "start_time": "2023-05-07T04:03:44.011Z"
   },
   {
    "duration": 5,
    "start_time": "2023-05-07T04:06:32.689Z"
   },
   {
    "duration": 1332,
    "start_time": "2023-05-07T04:06:34.907Z"
   },
   {
    "duration": 6,
    "start_time": "2023-05-07T04:06:55.959Z"
   },
   {
    "duration": 1502,
    "start_time": "2023-05-07T04:06:56.554Z"
   },
   {
    "duration": 6,
    "start_time": "2023-05-07T04:07:05.559Z"
   },
   {
    "duration": 6,
    "start_time": "2023-05-07T04:07:31.992Z"
   },
   {
    "duration": 1394,
    "start_time": "2023-05-07T04:07:32.596Z"
   },
   {
    "duration": 6,
    "start_time": "2023-05-07T04:07:39.358Z"
   },
   {
    "duration": 1294,
    "start_time": "2023-05-07T04:07:39.820Z"
   },
   {
    "duration": 7,
    "start_time": "2023-05-07T04:07:55.819Z"
   },
   {
    "duration": 1411,
    "start_time": "2023-05-07T04:07:56.059Z"
   },
   {
    "duration": 5,
    "start_time": "2023-05-07T04:08:11.574Z"
   },
   {
    "duration": 1276,
    "start_time": "2023-05-07T04:08:11.922Z"
   },
   {
    "duration": 6,
    "start_time": "2023-05-07T04:08:31.177Z"
   },
   {
    "duration": 1296,
    "start_time": "2023-05-07T04:08:31.459Z"
   },
   {
    "duration": 3,
    "start_time": "2023-05-07T04:08:46.459Z"
   },
   {
    "duration": 5,
    "start_time": "2023-05-07T04:08:47.314Z"
   },
   {
    "duration": 1293,
    "start_time": "2023-05-07T04:08:47.666Z"
   },
   {
    "duration": 10,
    "start_time": "2023-05-07T04:09:24.833Z"
   },
   {
    "duration": 1517,
    "start_time": "2023-05-07T04:09:25.209Z"
   },
   {
    "duration": 5,
    "start_time": "2023-05-07T04:09:59.119Z"
   },
   {
    "duration": 1357,
    "start_time": "2023-05-07T04:09:59.330Z"
   },
   {
    "duration": 5,
    "start_time": "2023-05-07T04:10:16.211Z"
   },
   {
    "duration": 1323,
    "start_time": "2023-05-07T04:10:16.688Z"
   },
   {
    "duration": 6,
    "start_time": "2023-05-07T04:10:25.260Z"
   },
   {
    "duration": 1287,
    "start_time": "2023-05-07T04:10:25.654Z"
   },
   {
    "duration": 5,
    "start_time": "2023-05-07T04:10:55.186Z"
   },
   {
    "duration": 1311,
    "start_time": "2023-05-07T04:10:55.430Z"
   },
   {
    "duration": 6,
    "start_time": "2023-05-07T04:11:07.022Z"
   },
   {
    "duration": 1286,
    "start_time": "2023-05-07T04:11:07.461Z"
   },
   {
    "duration": 6,
    "start_time": "2023-05-07T04:12:07.891Z"
   },
   {
    "duration": 1324,
    "start_time": "2023-05-07T04:12:08.168Z"
   },
   {
    "duration": 7,
    "start_time": "2023-05-07T04:12:30.545Z"
   },
   {
    "duration": 1334,
    "start_time": "2023-05-07T04:12:31.823Z"
   },
   {
    "duration": 6,
    "start_time": "2023-05-07T04:13:49.865Z"
   },
   {
    "duration": 1429,
    "start_time": "2023-05-07T04:13:51.524Z"
   },
   {
    "duration": 6,
    "start_time": "2023-05-07T04:13:59.275Z"
   },
   {
    "duration": 1447,
    "start_time": "2023-05-07T04:13:59.649Z"
   },
   {
    "duration": 6,
    "start_time": "2023-05-07T04:14:05.816Z"
   },
   {
    "duration": 1342,
    "start_time": "2023-05-07T04:14:06.069Z"
   },
   {
    "duration": 6,
    "start_time": "2023-05-07T04:14:48.489Z"
   },
   {
    "duration": 1270,
    "start_time": "2023-05-07T04:14:48.952Z"
   },
   {
    "duration": 1359,
    "start_time": "2023-05-07T04:16:14.908Z"
   },
   {
    "duration": 1273,
    "start_time": "2023-05-07T04:16:19.823Z"
   },
   {
    "duration": 2,
    "start_time": "2023-05-07T04:17:31.217Z"
   },
   {
    "duration": 15,
    "start_time": "2023-05-07T04:21:37.255Z"
   },
   {
    "duration": 1328,
    "start_time": "2023-05-07T04:21:38.353Z"
   },
   {
    "duration": 7,
    "start_time": "2023-05-07T04:22:38.411Z"
   },
   {
    "duration": 1392,
    "start_time": "2023-05-07T04:22:38.968Z"
   },
   {
    "duration": 12,
    "start_time": "2023-05-07T04:23:52.163Z"
   },
   {
    "duration": 1554,
    "start_time": "2023-05-07T04:23:52.650Z"
   },
   {
    "duration": 5,
    "start_time": "2023-05-07T04:24:35.664Z"
   },
   {
    "duration": 1854,
    "start_time": "2023-05-07T04:24:45.129Z"
   },
   {
    "duration": 3,
    "start_time": "2023-05-07T04:24:46.987Z"
   },
   {
    "duration": 527,
    "start_time": "2023-05-07T04:24:46.992Z"
   },
   {
    "duration": 84,
    "start_time": "2023-05-07T04:24:47.522Z"
   },
   {
    "duration": 40,
    "start_time": "2023-05-07T04:24:47.607Z"
   },
   {
    "duration": 134,
    "start_time": "2023-05-07T04:24:47.649Z"
   },
   {
    "duration": 273,
    "start_time": "2023-05-07T04:24:47.785Z"
   },
   {
    "duration": 209,
    "start_time": "2023-05-07T04:24:48.059Z"
   },
   {
    "duration": 244,
    "start_time": "2023-05-07T04:24:48.270Z"
   },
   {
    "duration": 44,
    "start_time": "2023-05-07T04:24:48.517Z"
   },
   {
    "duration": 60,
    "start_time": "2023-05-07T04:24:48.565Z"
   },
   {
    "duration": 10,
    "start_time": "2023-05-07T04:24:48.627Z"
   },
   {
    "duration": 107,
    "start_time": "2023-05-07T04:24:48.639Z"
   },
   {
    "duration": 12,
    "start_time": "2023-05-07T04:24:48.756Z"
   },
   {
    "duration": 27,
    "start_time": "2023-05-07T04:24:48.770Z"
   },
   {
    "duration": 66,
    "start_time": "2023-05-07T04:24:48.799Z"
   },
   {
    "duration": 44,
    "start_time": "2023-05-07T04:24:48.868Z"
   },
   {
    "duration": 3,
    "start_time": "2023-05-07T04:24:48.917Z"
   },
   {
    "duration": 43,
    "start_time": "2023-05-07T04:24:48.923Z"
   },
   {
    "duration": 44,
    "start_time": "2023-05-07T04:24:48.970Z"
   },
   {
    "duration": 258,
    "start_time": "2023-05-07T04:24:49.018Z"
   },
   {
    "duration": 96,
    "start_time": "2023-05-07T04:24:49.341Z"
   },
   {
    "duration": 24,
    "start_time": "2023-05-07T04:24:49.445Z"
   },
   {
    "duration": 14,
    "start_time": "2023-05-07T04:24:49.472Z"
   },
   {
    "duration": 6,
    "start_time": "2023-05-07T04:24:49.488Z"
   },
   {
    "duration": 9,
    "start_time": "2023-05-07T04:24:49.496Z"
   },
   {
    "duration": 1553,
    "start_time": "2023-05-07T04:24:49.507Z"
   },
   {
    "duration": 3191,
    "start_time": "2023-05-07T04:24:51.065Z"
   },
   {
    "duration": 3707,
    "start_time": "2023-05-07T04:24:54.258Z"
   },
   {
    "duration": 13,
    "start_time": "2023-05-07T04:25:12.033Z"
   },
   {
    "duration": 1623,
    "start_time": "2023-05-07T04:25:12.274Z"
   },
   {
    "duration": 9,
    "start_time": "2023-05-07T04:26:07.400Z"
   },
   {
    "duration": 1404,
    "start_time": "2023-05-07T04:26:08.000Z"
   },
   {
    "duration": 7,
    "start_time": "2023-05-07T04:27:29.855Z"
   },
   {
    "duration": 10,
    "start_time": "2023-05-07T04:27:37.650Z"
   },
   {
    "duration": 12,
    "start_time": "2023-05-07T04:27:48.052Z"
   },
   {
    "duration": 1371,
    "start_time": "2023-05-07T04:28:07.555Z"
   },
   {
    "duration": 12,
    "start_time": "2023-05-07T04:28:15.620Z"
   },
   {
    "duration": 5,
    "start_time": "2023-05-07T04:32:51.978Z"
   },
   {
    "duration": 12,
    "start_time": "2023-05-07T04:33:04.245Z"
   },
   {
    "duration": 12,
    "start_time": "2023-05-07T04:33:16.934Z"
   },
   {
    "duration": 13,
    "start_time": "2023-05-07T04:33:37.965Z"
   },
   {
    "duration": 14,
    "start_time": "2023-05-07T04:33:57.564Z"
   },
   {
    "duration": 13,
    "start_time": "2023-05-07T04:34:23.667Z"
   },
   {
    "duration": 13,
    "start_time": "2023-05-07T04:34:47.872Z"
   },
   {
    "duration": 9,
    "start_time": "2023-05-07T04:34:53.621Z"
   },
   {
    "duration": 9,
    "start_time": "2023-05-07T04:35:38.715Z"
   },
   {
    "duration": 18,
    "start_time": "2023-05-07T04:35:52.324Z"
   },
   {
    "duration": 13,
    "start_time": "2023-05-07T04:35:56.314Z"
   },
   {
    "duration": 12,
    "start_time": "2023-05-07T04:36:01.162Z"
   },
   {
    "duration": 12,
    "start_time": "2023-05-07T04:36:27.585Z"
   },
   {
    "duration": 10,
    "start_time": "2023-05-07T04:36:36.122Z"
   },
   {
    "duration": 9,
    "start_time": "2023-05-07T04:36:39.092Z"
   },
   {
    "duration": 4641,
    "start_time": "2023-05-07T04:36:40.178Z"
   },
   {
    "duration": 7,
    "start_time": "2023-05-07T04:36:55.472Z"
   },
   {
    "duration": 4800,
    "start_time": "2023-05-07T04:36:55.740Z"
   },
   {
    "duration": 9,
    "start_time": "2023-05-07T04:39:02.202Z"
   },
   {
    "duration": 4652,
    "start_time": "2023-05-07T04:39:02.876Z"
   },
   {
    "duration": 4573,
    "start_time": "2023-05-07T04:39:49.387Z"
   },
   {
    "duration": 5,
    "start_time": "2023-05-07T04:40:00.105Z"
   },
   {
    "duration": 12,
    "start_time": "2023-05-07T04:40:14.508Z"
   },
   {
    "duration": 5,
    "start_time": "2023-05-07T04:41:35.507Z"
   },
   {
    "duration": 4027,
    "start_time": "2023-05-07T04:41:36.305Z"
   },
   {
    "duration": 9,
    "start_time": "2023-05-07T04:41:43.369Z"
   },
   {
    "duration": 13,
    "start_time": "2023-05-07T04:42:42.552Z"
   },
   {
    "duration": 12,
    "start_time": "2023-05-07T04:42:48.349Z"
   },
   {
    "duration": 11,
    "start_time": "2023-05-07T04:43:10.202Z"
   },
   {
    "duration": 16,
    "start_time": "2023-05-07T04:44:37.999Z"
   },
   {
    "duration": 13,
    "start_time": "2023-05-07T04:44:56.698Z"
   },
   {
    "duration": 29,
    "start_time": "2023-05-07T04:46:54.197Z"
   },
   {
    "duration": 119,
    "start_time": "2023-05-07T04:47:12.957Z"
   },
   {
    "duration": 104,
    "start_time": "2023-05-07T04:47:17.201Z"
   },
   {
    "duration": 6,
    "start_time": "2023-05-07T04:47:35.803Z"
   },
   {
    "duration": 4568,
    "start_time": "2023-05-07T04:47:36.193Z"
   },
   {
    "duration": 15,
    "start_time": "2023-05-07T04:47:42.475Z"
   },
   {
    "duration": 11,
    "start_time": "2023-05-07T04:47:51.428Z"
   }
  ],
  "kernelspec": {
   "display_name": "Python 3 (ipykernel)",
   "language": "python",
   "name": "python3"
  },
  "language_info": {
   "codemirror_mode": {
    "name": "ipython",
    "version": 3
   },
   "file_extension": ".py",
   "mimetype": "text/x-python",
   "name": "python",
   "nbconvert_exporter": "python",
   "pygments_lexer": "ipython3",
   "version": "3.9.16"
  },
  "toc": {
   "base_numbering": 1,
   "nav_menu": {},
   "number_sections": true,
   "sideBar": true,
   "skip_h1_title": true,
   "title_cell": "Table of Contents",
   "title_sidebar": "Contents",
   "toc_cell": false,
   "toc_position": {
    "height": "calc(100% - 180px)",
    "left": "10px",
    "top": "150px",
    "width": "371px"
   },
   "toc_section_display": true,
   "toc_window_display": true
  },
  "varInspector": {
   "cols": {
    "lenName": 16,
    "lenType": 16,
    "lenVar": 40
   },
   "kernels_config": {
    "python": {
     "delete_cmd_postfix": "",
     "delete_cmd_prefix": "del ",
     "library": "var_list.py",
     "varRefreshCmd": "print(var_dic_list())"
    },
    "r": {
     "delete_cmd_postfix": ") ",
     "delete_cmd_prefix": "rm(",
     "library": "var_list.r",
     "varRefreshCmd": "cat(var_dic_list()) "
    }
   },
   "types_to_exclude": [
    "module",
    "function",
    "builtin_function_or_method",
    "instance",
    "_Feature"
   ],
   "window_display": false
  }
 },
 "nbformat": 4,
 "nbformat_minor": 2
}
